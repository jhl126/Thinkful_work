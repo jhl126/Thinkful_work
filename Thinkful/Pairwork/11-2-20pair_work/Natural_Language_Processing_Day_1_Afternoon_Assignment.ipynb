{
 "cells": [
  {
   "cell_type": "markdown",
   "metadata": {
    "id": "89h156rgnKef"
   },
   "source": [
    "# Text Acquisition & Ingestion Assignment"
   ]
  },
  {
   "cell_type": "code",
   "execution_count": null,
   "metadata": {
    "colab": {
     "base_uri": "https://localhost:8080/",
     "height": 51
    },
    "id": "RQ72H1gvnKeh",
    "outputId": "8f74f4ee-8b6e-4ea0-ca84-29630d65d178"
   },
   "outputs": [
    {
     "name": "stdout",
     "output_type": "stream",
     "text": [
      "\u001b[?25l\r",
      "\u001b[K     |█▊                              | 10kB 18.0MB/s eta 0:00:01\r",
      "\u001b[K     |███▍                            | 20kB 2.2MB/s eta 0:00:01\r",
      "\u001b[K     |█████▏                          | 30kB 3.2MB/s eta 0:00:01\r",
      "\u001b[K     |██████▉                         | 40kB 2.1MB/s eta 0:00:01\r",
      "\u001b[K     |████████▌                       | 51kB 2.6MB/s eta 0:00:01\r",
      "\u001b[K     |██████████▎                     | 61kB 3.1MB/s eta 0:00:01\r",
      "\u001b[K     |████████████                    | 71kB 3.5MB/s eta 0:00:01\r",
      "\u001b[K     |█████████████▋                  | 81kB 4.0MB/s eta 0:00:01\r",
      "\u001b[K     |███████████████▍                | 92kB 4.5MB/s eta 0:00:01\r",
      "\u001b[K     |█████████████████               | 102kB 3.4MB/s eta 0:00:01\r",
      "\u001b[K     |██████████████████▊             | 112kB 3.4MB/s eta 0:00:01\r",
      "\u001b[K     |████████████████████▌           | 122kB 3.4MB/s eta 0:00:01\r",
      "\u001b[K     |██████████████████████▏         | 133kB 3.4MB/s eta 0:00:01\r",
      "\u001b[K     |███████████████████████▉        | 143kB 3.4MB/s eta 0:00:01\r",
      "\u001b[K     |█████████████████████████▋      | 153kB 3.4MB/s eta 0:00:01\r",
      "\u001b[K     |███████████████████████████▎    | 163kB 3.4MB/s eta 0:00:01\r",
      "\u001b[K     |█████████████████████████████   | 174kB 3.4MB/s eta 0:00:01\r",
      "\u001b[K     |██████████████████████████████▊ | 184kB 3.4MB/s eta 0:00:01\r",
      "\u001b[K     |████████████████████████████████| 194kB 3.4MB/s \n",
      "\u001b[?25h  Building wheel for feedparser (setup.py) ... \u001b[?25l\u001b[?25hdone\n"
     ]
    }
   ],
   "source": [
    "!pip install beautifulsoup4 --quiet\n",
    "!pip install feedparser --quiet\n",
    "import json\n",
    "import requests\n",
    "import feedparser\n",
    "from bs4 import BeautifulSoup"
   ]
  },
  {
   "cell_type": "markdown",
   "metadata": {
    "id": "pQBEdm9RnKek"
   },
   "source": [
    "### Iterate through the list of article URLs below, scraping the text from each one and saving it to a text file. "
   ]
  },
  {
   "cell_type": "code",
   "execution_count": null,
   "metadata": {
    "id": "4j7ucNxInKek"
   },
   "outputs": [],
   "source": [
    "articles = ['http://lite.cnn.io/en/article/h_eac18760a7a7f9a1bf33616f1c4a336d',\n",
    "            'http://lite.cnn.io/en/article/h_de3f82f17d289680dd2b47c6413ebe7c',\n",
    "            'http://lite.cnn.io/en/article/h_72f4dc9d6f35458a89af014b62e625ad',\n",
    "            'http://lite.cnn.io/en/article/h_aa21fe6bf176071cb49e09d422c3adf0',\n",
    "            'http://lite.cnn.io/en/article/h_8ad34a532921c9076cdc9d7390d2f1bc',\n",
    "            'http://lite.cnn.io/en/article/h_84422c79110d9989177cfaf1c5f45fe7',\n",
    "            'http://lite.cnn.io/en/article/h_d010d9580abac3a44c6181ec6fb63d58',\n",
    "            'http://lite.cnn.io/en/article/h_fb11f4e9d7c5323e75b337d9e9e5e368',\n",
    "            'http://lite.cnn.io/en/article/h_7b27f0b131067f8ece6238ac559670ab',\n",
    "            'http://lite.cnn.io/en/article/h_8cae7f735fa9573d470f802063ceffe2',\n",
    "            'http://lite.cnn.io/en/article/h_72c3668280e82576fcc2602b0fa70c14',\n",
    "            'http://lite.cnn.io/en/article/h_d20658fb0e20212051cda0e0a7248c8a',\n",
    "            'http://lite.cnn.io/en/article/h_56611c43d7928120d2ae21666ccc7417',\n",
    "            'http://lite.cnn.io/en/article/h_bda0394e3c5ee7054ee65c022bca7695']"
   ]
  },
  {
   "cell_type": "code",
   "execution_count": null,
   "metadata": {
    "id": "Dm6n2RTGnKem"
   },
   "outputs": [],
   "source": [
    "def html_to_text(html):\n",
    "    TAGS = ['h1', 'h2', 'h3', 'h4', 'h5', 'h6', 'h7', 'p', 'li']\n",
    "\n",
    "    soup = BeautifulSoup(html, \"lxml\")\n",
    "    text_list = [tag.get_text() for tag in soup.find_all(TAGS)]\n",
    "    text = ' '.join(text_list)\n",
    "    return text"
   ]
  },
  {
   "cell_type": "code",
   "execution_count": null,
   "metadata": {
    "id": "53xwXx0UnKeo"
   },
   "outputs": [],
   "source": [
    "path = './news_articles/'\n",
    "\n",
    "for index, url in enumerate(articles):\n",
    "    response = requests.get(url)\n",
    "    html = response.text\n",
    "    text = html_to_text(html)\n",
    "    \n",
    "    with open(path + 'article_' + str(index) + '.txt', 'wb') as f:\n",
    "        f.write(text.encode())"
   ]
  },
  {
   "cell_type": "markdown",
   "metadata": {
    "id": "w_EMJWjGnKep"
   },
   "source": [
    "### Ingest the text files generated via web scraping into a corpus and print the corpus statistics."
   ]
  },
  {
   "cell_type": "code",
   "execution_count": null,
   "metadata": {
    "id": "sgAZUsM-nKeq"
   },
   "outputs": [],
   "source": [
    "from nltk.corpus.reader.plaintext import PlaintextCorpusReader\n",
    "\n",
    "DOC_PATTERN = r'.*\\.txt'\n",
    "news_corpus = PlaintextCorpusReader('news_articles', DOC_PATTERN)"
   ]
  },
  {
   "cell_type": "code",
   "execution_count": null,
   "metadata": {
    "id": "WqnaHR7znKer"
   },
   "outputs": [],
   "source": [
    "def corpus_stats(corpus):\n",
    "    print(\"Corpus Statistics\")\n",
    "    print(\"Number of documents: \" + str(len(corpus.fileids())))\n",
    "    print(\"Number of paragraphs: \" + str(len(corpus.paras())))\n",
    "    print(\"Number of sentences: \" + str(len(corpus.sents())))\n",
    "    print(\"Number of words: \" + str(len(corpus.words())))\n",
    "    print(\"Vocabulary: \" + str(len(set(w.lower() for w in corpus.words()))))\n",
    "    print(\"Avg chars per word: \" + str(round(len(corpus.raw())/len(corpus.words()),1)))\n",
    "    print(\"Avg words per sentence: \" + str(round(len(corpus.words())/len(corpus.sents()),1)))"
   ]
  },
  {
   "cell_type": "code",
   "execution_count": null,
   "metadata": {
    "id": "n9e7IY_ynKet"
   },
   "outputs": [],
   "source": [
    "corpus_stats(news_corpus)"
   ]
  },
  {
   "cell_type": "markdown",
   "metadata": {
    "id": "F0krBY33nKev"
   },
   "source": [
    "### Parse the O'Reilly Radar RSS feed below, extract the text from each post, and save it to a text file.\n",
    "\n",
    "The content of each post contains HTML tags. Strip those out using the same approach you used for web scraping so that only text is saved to the files."
   ]
  },
  {
   "cell_type": "code",
   "execution_count": null,
   "metadata": {
    "id": "G-t6R2FInKew"
   },
   "outputs": [],
   "source": [
    "feed = 'http://feeds.feedburner.com/oreilly/radar/atom'"
   ]
  },
  {
   "cell_type": "code",
   "execution_count": null,
   "metadata": {
    "id": "8R3ODXw6nKex"
   },
   "outputs": [],
   "source": [
    "parsed = feedparser.parse(feed)\n",
    "posts = parsed.entries\n",
    "\n",
    "path = './oreilly_rss/'\n",
    "\n",
    "for index, post in enumerate(posts):\n",
    "    content = posts[index]['content'][0]['value']\n",
    "    text = html_to_text(content)\n",
    "    with open(path + 'article_' + str(index) + '.txt', 'wb') as f:\n",
    "        f.write(text.encode())"
   ]
  },
  {
   "cell_type": "markdown",
   "metadata": {
    "id": "hxpgslfwnKez"
   },
   "source": [
    "### Ingest the text files generated via RSS parsing into a corpus and print the corpus statistics."
   ]
  },
  {
   "cell_type": "code",
   "execution_count": null,
   "metadata": {
    "id": "CpSk1mTanKez"
   },
   "outputs": [],
   "source": [
    "DOC_PATTERN = r'.*\\.txt'\n",
    "oreilly_corpus = PlaintextCorpusReader('oreilly_rss', DOC_PATTERN)\n",
    "corpus_stats(oreilly_corpus)"
   ]
  },
  {
   "cell_type": "markdown",
   "metadata": {
    "id": "iWFNp_57nKe1"
   },
   "source": [
    "### Make an API call to the Hacker News API to retrieve their Ask, Show, and Job category items. \n",
    "\n",
    "- URL: https://hacker-news.firebaseio.com/v0/askstories.json"
   ]
  },
  {
   "cell_type": "code",
   "execution_count": null,
   "metadata": {
    "id": "MKB6hq5ZnKe2"
   },
   "outputs": [],
   "source": [
    "api = 'https://hacker-news.firebaseio.com/v0/askstories.json'\n",
    "response = requests.get(api)\n",
    "results = json.loads(response.content)"
   ]
  },
  {
   "cell_type": "markdown",
   "metadata": {
    "id": "IEOOAum8nKe3"
   },
   "source": [
    "### Once you have retrieved the item IDs from the URL above, retrieve each item by adding the item ID to the URL below, extract the item's text property, and save the text from each item to disk as its own document.\n",
    "\n",
    "- URL: https://hacker-news.firebaseio.com/v0/item/ITEM_ID_HERE.json\n",
    "\n",
    "The content of some items may contain HTML tags. Strip those out using the same approach you used for web scraping so that only text is saved to the files."
   ]
  },
  {
   "cell_type": "code",
   "execution_count": null,
   "metadata": {
    "id": "Peqe91PrnKe4"
   },
   "outputs": [],
   "source": [
    "posts = []\n",
    "\n",
    "for item in results:\n",
    "    response = requests.get('https://hacker-news.firebaseio.com/v0/item/' + str(item) + '.json')\n",
    "    try:\n",
    "        post = json.loads(response.content)['text']\n",
    "        posts.append(post)\n",
    "    except:\n",
    "        pass"
   ]
  },
  {
   "cell_type": "code",
   "execution_count": null,
   "metadata": {
    "id": "G4DV350SnKe5"
   },
   "outputs": [],
   "source": [
    "path = './hacker_news/'\n",
    "\n",
    "for index, post in enumerate(posts):\n",
    "    text = html_to_text(post)\n",
    "    with open(path + 'article_' + str(index) + '.txt', 'wb') as f:\n",
    "        f.write(text.encode())"
   ]
  },
  {
   "cell_type": "markdown",
   "metadata": {
    "id": "FUN6X162nKe7"
   },
   "source": [
    "### Ingest the text files generated via API into a corpus and print the corpus statistics."
   ]
  },
  {
   "cell_type": "code",
   "execution_count": null,
   "metadata": {
    "id": "8hvn5JYMnKe7"
   },
   "outputs": [],
   "source": [
    "DOC_PATTERN = r'.*\\.txt'\n",
    "hn_corpus = PlaintextCorpusReader('hacker_news', DOC_PATTERN)\n",
    "corpus_stats(hn_corpus)"
   ]
  }
 ],
 "metadata": {
  "colab": {
   "name": "Natural Language Processing Day 1 Afternoon Assignment.ipynb",
   "provenance": []
  },
  "kernelspec": {
   "display_name": "Python 3",
   "language": "python",
   "name": "python3"
  },
  "language_info": {
   "codemirror_mode": {
    "name": "ipython",
    "version": 3
   },
   "file_extension": ".py",
   "mimetype": "text/x-python",
   "name": "python",
   "nbconvert_exporter": "python",
   "pygments_lexer": "ipython3",
   "version": "3.7.6"
  }
 },
 "nbformat": 4,
 "nbformat_minor": 1
}
