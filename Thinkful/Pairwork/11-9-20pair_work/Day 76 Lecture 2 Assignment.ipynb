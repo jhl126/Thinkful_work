{
 "cells": [
  {
   "cell_type": "code",
   "execution_count": 1,
   "metadata": {},
   "outputs": [
    {
     "data": {
      "application/javascript": [
       "\n",
       "            setTimeout(function() {\n",
       "                var nbb_cell_id = 1;\n",
       "                var nbb_unformatted_code = \"%reload_ext nb_black\";\n",
       "                var nbb_formatted_code = \"%reload_ext nb_black\";\n",
       "                var nbb_cells = Jupyter.notebook.get_cells();\n",
       "                for (var i = 0; i < nbb_cells.length; ++i) {\n",
       "                    if (nbb_cells[i].input_prompt_number == nbb_cell_id) {\n",
       "                        if (nbb_cells[i].get_text() == nbb_unformatted_code) {\n",
       "                             nbb_cells[i].set_text(nbb_formatted_code);\n",
       "                        }\n",
       "                        break;\n",
       "                    }\n",
       "                }\n",
       "            }, 500);\n",
       "            "
      ],
      "text/plain": [
       "<IPython.core.display.Javascript object>"
      ]
     },
     "metadata": {},
     "output_type": "display_data"
    }
   ],
   "source": [
    "%reload_ext nb_black"
   ]
  },
  {
   "cell_type": "markdown",
   "metadata": {
    "colab_type": "text",
    "id": "z95-VM4TlJ5g"
   },
   "source": [
    "## Keras and TensorFlow\n",
    "\n",
    "In this assignment, we will learn about Keras and TensorFlow. We will create a neural network and measure the model's performance."
   ]
  },
  {
   "cell_type": "code",
   "execution_count": 2,
   "metadata": {},
   "outputs": [
    {
     "name": "stdout",
     "output_type": "stream",
     "text": [
      "Requirement already satisfied: tensorflow==2.0.0-rc1 in c:\\users\\jlim7\\anaconda3\\lib\\site-packages (2.0.0rc1)\n",
      "Requirement already satisfied: keras-preprocessing>=1.0.5 in c:\\users\\jlim7\\anaconda3\\lib\\site-packages (from tensorflow==2.0.0-rc1) (1.1.2)\n",
      "Requirement already satisfied: tf-estimator-nightly<1.14.0.dev2019080602,>=1.14.0.dev2019080601 in c:\\users\\jlim7\\anaconda3\\lib\\site-packages (from tensorflow==2.0.0-rc1) (1.14.0.dev2019080601)\n",
      "Requirement already satisfied: protobuf>=3.6.1 in c:\\users\\jlim7\\anaconda3\\lib\\site-packages (from tensorflow==2.0.0-rc1) (3.13.0)\n",
      "Requirement already satisfied: tb-nightly<1.15.0a20190807,>=1.15.0a20190806 in c:\\users\\jlim7\\anaconda3\\lib\\site-packages (from tensorflow==2.0.0-rc1) (1.15.0a20190806)\n",
      "Requirement already satisfied: wrapt>=1.11.1 in c:\\users\\jlim7\\anaconda3\\lib\\site-packages (from tensorflow==2.0.0-rc1) (1.11.2)\n",
      "Requirement already satisfied: grpcio>=1.8.6 in c:\\users\\jlim7\\anaconda3\\lib\\site-packages (from tensorflow==2.0.0-rc1) (1.33.2)\n",
      "Requirement already satisfied: absl-py>=0.7.0 in c:\\users\\jlim7\\anaconda3\\lib\\site-packages (from tensorflow==2.0.0-rc1) (0.11.0)\n",
      "Requirement already satisfied: astor>=0.6.0 in c:\\users\\jlim7\\anaconda3\\lib\\site-packages (from tensorflow==2.0.0-rc1) (0.8.1)\n",
      "Requirement already satisfied: keras-applications>=1.0.8 in c:\\users\\jlim7\\anaconda3\\lib\\site-packages (from tensorflow==2.0.0-rc1) (1.0.8)\n",
      "Requirement already satisfied: numpy<2.0,>=1.16.0 in c:\\users\\jlim7\\anaconda3\\lib\\site-packages (from tensorflow==2.0.0-rc1) (1.18.1)\n",
      "Requirement already satisfied: opt-einsum>=2.3.2 in c:\\users\\jlim7\\anaconda3\\lib\\site-packages (from tensorflow==2.0.0-rc1) (3.3.0)\n",
      "Requirement already satisfied: gast>=0.2.0 in c:\\users\\jlim7\\anaconda3\\lib\\site-packages (from tensorflow==2.0.0-rc1) (0.3.3)\n",
      "Requirement already satisfied: wheel>=0.26 in c:\\users\\jlim7\\anaconda3\\lib\\site-packages (from tensorflow==2.0.0-rc1) (0.34.2)\n",
      "Requirement already satisfied: six>=1.10.0 in c:\\users\\jlim7\\anaconda3\\lib\\site-packages (from tensorflow==2.0.0-rc1) (1.14.0)\n",
      "Requirement already satisfied: termcolor>=1.1.0 in c:\\users\\jlim7\\anaconda3\\lib\\site-packages (from tensorflow==2.0.0-rc1) (1.1.0)\n",
      "Requirement already satisfied: google-pasta>=0.1.6 in c:\\users\\jlim7\\anaconda3\\lib\\site-packages (from tensorflow==2.0.0-rc1) (0.2.0)\n",
      "Requirement already satisfied: setuptools in c:\\users\\jlim7\\anaconda3\\lib\\site-packages (from protobuf>=3.6.1->tensorflow==2.0.0-rc1) (45.2.0.post20200210)\n",
      "Requirement already satisfied: markdown>=2.6.8 in c:\\users\\jlim7\\anaconda3\\lib\\site-packages (from tb-nightly<1.15.0a20190807,>=1.15.0a20190806->tensorflow==2.0.0-rc1) (3.3.3)\n",
      "Requirement already satisfied: werkzeug>=0.11.15 in c:\\users\\jlim7\\anaconda3\\lib\\site-packages (from tb-nightly<1.15.0a20190807,>=1.15.0a20190806->tensorflow==2.0.0-rc1) (1.0.0)\n",
      "Requirement already satisfied: h5py in c:\\users\\jlim7\\anaconda3\\lib\\site-packages (from keras-applications>=1.0.8->tensorflow==2.0.0-rc1) (2.10.0)\n",
      "Requirement already satisfied: importlib-metadata; python_version < \"3.8\" in c:\\users\\jlim7\\anaconda3\\lib\\site-packages (from markdown>=2.6.8->tb-nightly<1.15.0a20190807,>=1.15.0a20190806->tensorflow==2.0.0-rc1) (2.0.0)\n",
      "Requirement already satisfied: zipp>=0.5 in c:\\users\\jlim7\\anaconda3\\lib\\site-packages (from importlib-metadata; python_version < \"3.8\"->markdown>=2.6.8->tb-nightly<1.15.0a20190807,>=1.15.0a20190806->tensorflow==2.0.0-rc1) (2.2.0)\n",
      "Requirement already satisfied: keras in c:\\users\\jlim7\\anaconda3\\lib\\site-packages (2.4.3)\n",
      "Requirement already satisfied: h5py in c:\\users\\jlim7\\anaconda3\\lib\\site-packages (from keras) (2.10.0)\n",
      "Requirement already satisfied: pyyaml in c:\\users\\jlim7\\anaconda3\\lib\\site-packages (from keras) (5.3)\n",
      "Requirement already satisfied: numpy>=1.9.1 in c:\\users\\jlim7\\anaconda3\\lib\\site-packages (from keras) (1.18.1)\n",
      "Requirement already satisfied: scipy>=0.14 in c:\\users\\jlim7\\anaconda3\\lib\\site-packages (from keras) (1.4.1)\n",
      "Requirement already satisfied: six in c:\\users\\jlim7\\anaconda3\\lib\\site-packages (from h5py->keras) (1.14.0)\n"
     ]
    },
    {
     "data": {
      "application/javascript": [
       "\n",
       "            setTimeout(function() {\n",
       "                var nbb_cell_id = 2;\n",
       "                var nbb_unformatted_code = \"!pip install tensorflow==2.0.0-rc1\\n!pip install keras\";\n",
       "                var nbb_formatted_code = \"!pip install tensorflow==2.0.0-rc1\\n!pip install keras\";\n",
       "                var nbb_cells = Jupyter.notebook.get_cells();\n",
       "                for (var i = 0; i < nbb_cells.length; ++i) {\n",
       "                    if (nbb_cells[i].input_prompt_number == nbb_cell_id) {\n",
       "                        if (nbb_cells[i].get_text() == nbb_unformatted_code) {\n",
       "                             nbb_cells[i].set_text(nbb_formatted_code);\n",
       "                        }\n",
       "                        break;\n",
       "                    }\n",
       "                }\n",
       "            }, 500);\n",
       "            "
      ],
      "text/plain": [
       "<IPython.core.display.Javascript object>"
      ]
     },
     "metadata": {},
     "output_type": "display_data"
    }
   ],
   "source": [
    "!pip install tensorflow==2.0.0-rc1\n",
    "!pip install keras"
   ]
  },
  {
   "cell_type": "code",
   "execution_count": 3,
   "metadata": {
    "colab": {},
    "colab_type": "code",
    "id": "3B-HR0FKlJ5i"
   },
   "outputs": [
    {
     "data": {
      "application/javascript": [
       "\n",
       "            setTimeout(function() {\n",
       "                var nbb_cell_id = 3;\n",
       "                var nbb_unformatted_code = \"import numpy as np\\nimport pandas as pd\\nfrom sklearn.model_selection import train_test_split as tts\\nfrom sklearn.preprocessing import MinMaxScaler\";\n",
       "                var nbb_formatted_code = \"import numpy as np\\nimport pandas as pd\\nfrom sklearn.model_selection import train_test_split as tts\\nfrom sklearn.preprocessing import MinMaxScaler\";\n",
       "                var nbb_cells = Jupyter.notebook.get_cells();\n",
       "                for (var i = 0; i < nbb_cells.length; ++i) {\n",
       "                    if (nbb_cells[i].input_prompt_number == nbb_cell_id) {\n",
       "                        if (nbb_cells[i].get_text() == nbb_unformatted_code) {\n",
       "                             nbb_cells[i].set_text(nbb_formatted_code);\n",
       "                        }\n",
       "                        break;\n",
       "                    }\n",
       "                }\n",
       "            }, 500);\n",
       "            "
      ],
      "text/plain": [
       "<IPython.core.display.Javascript object>"
      ]
     },
     "metadata": {},
     "output_type": "display_data"
    }
   ],
   "source": [
    "import numpy as np\n",
    "import pandas as pd\n",
    "from sklearn.model_selection import train_test_split as tts\n",
    "from sklearn.preprocessing import MinMaxScaler"
   ]
  },
  {
   "cell_type": "code",
   "execution_count": 4,
   "metadata": {
    "colab": {},
    "colab_type": "code",
    "id": "s3XUEm8JlJ5l"
   },
   "outputs": [
    {
     "data": {
      "application/javascript": [
       "\n",
       "            setTimeout(function() {\n",
       "                var nbb_cell_id = 4;\n",
       "                var nbb_unformatted_code = \"cancer = pd.read_csv(\\\"./breast_cancer.csv\\\")\";\n",
       "                var nbb_formatted_code = \"cancer = pd.read_csv(\\\"./breast_cancer.csv\\\")\";\n",
       "                var nbb_cells = Jupyter.notebook.get_cells();\n",
       "                for (var i = 0; i < nbb_cells.length; ++i) {\n",
       "                    if (nbb_cells[i].input_prompt_number == nbb_cell_id) {\n",
       "                        if (nbb_cells[i].get_text() == nbb_unformatted_code) {\n",
       "                             nbb_cells[i].set_text(nbb_formatted_code);\n",
       "                        }\n",
       "                        break;\n",
       "                    }\n",
       "                }\n",
       "            }, 500);\n",
       "            "
      ],
      "text/plain": [
       "<IPython.core.display.Javascript object>"
      ]
     },
     "metadata": {},
     "output_type": "display_data"
    }
   ],
   "source": [
    "cancer = pd.read_csv(\"./breast_cancer.csv\")"
   ]
  },
  {
   "cell_type": "code",
   "execution_count": 5,
   "metadata": {
    "colab": {},
    "colab_type": "code",
    "id": "UlUp5jhulJ5n",
    "outputId": "1451780f-a569-465b-8a8e-aef55230a209"
   },
   "outputs": [
    {
     "data": {
      "text/html": [
       "<div>\n",
       "<style scoped>\n",
       "    .dataframe tbody tr th:only-of-type {\n",
       "        vertical-align: middle;\n",
       "    }\n",
       "\n",
       "    .dataframe tbody tr th {\n",
       "        vertical-align: top;\n",
       "    }\n",
       "\n",
       "    .dataframe thead th {\n",
       "        text-align: right;\n",
       "    }\n",
       "</style>\n",
       "<table border=\"1\" class=\"dataframe\">\n",
       "  <thead>\n",
       "    <tr style=\"text-align: right;\">\n",
       "      <th></th>\n",
       "      <th>id</th>\n",
       "      <th>diagnosis</th>\n",
       "      <th>radius_mean</th>\n",
       "      <th>texture_mean</th>\n",
       "      <th>perimeter_mean</th>\n",
       "      <th>area_mean</th>\n",
       "      <th>smoothness_mean</th>\n",
       "      <th>compactness_mean</th>\n",
       "      <th>concavity_mean</th>\n",
       "      <th>concave points_mean</th>\n",
       "      <th>...</th>\n",
       "      <th>radius_worst</th>\n",
       "      <th>texture_worst</th>\n",
       "      <th>perimeter_worst</th>\n",
       "      <th>area_worst</th>\n",
       "      <th>smoothness_worst</th>\n",
       "      <th>compactness_worst</th>\n",
       "      <th>concavity_worst</th>\n",
       "      <th>concave points_worst</th>\n",
       "      <th>symmetry_worst</th>\n",
       "      <th>fractal_dimension_worst</th>\n",
       "    </tr>\n",
       "  </thead>\n",
       "  <tbody>\n",
       "    <tr>\n",
       "      <th>0</th>\n",
       "      <td>842302</td>\n",
       "      <td>M</td>\n",
       "      <td>17.99</td>\n",
       "      <td>10.38</td>\n",
       "      <td>122.80</td>\n",
       "      <td>1001.0</td>\n",
       "      <td>0.11840</td>\n",
       "      <td>0.27760</td>\n",
       "      <td>0.3001</td>\n",
       "      <td>0.14710</td>\n",
       "      <td>...</td>\n",
       "      <td>25.38</td>\n",
       "      <td>17.33</td>\n",
       "      <td>184.60</td>\n",
       "      <td>2019.0</td>\n",
       "      <td>0.1622</td>\n",
       "      <td>0.6656</td>\n",
       "      <td>0.7119</td>\n",
       "      <td>0.2654</td>\n",
       "      <td>0.4601</td>\n",
       "      <td>0.11890</td>\n",
       "    </tr>\n",
       "    <tr>\n",
       "      <th>1</th>\n",
       "      <td>842517</td>\n",
       "      <td>M</td>\n",
       "      <td>20.57</td>\n",
       "      <td>17.77</td>\n",
       "      <td>132.90</td>\n",
       "      <td>1326.0</td>\n",
       "      <td>0.08474</td>\n",
       "      <td>0.07864</td>\n",
       "      <td>0.0869</td>\n",
       "      <td>0.07017</td>\n",
       "      <td>...</td>\n",
       "      <td>24.99</td>\n",
       "      <td>23.41</td>\n",
       "      <td>158.80</td>\n",
       "      <td>1956.0</td>\n",
       "      <td>0.1238</td>\n",
       "      <td>0.1866</td>\n",
       "      <td>0.2416</td>\n",
       "      <td>0.1860</td>\n",
       "      <td>0.2750</td>\n",
       "      <td>0.08902</td>\n",
       "    </tr>\n",
       "    <tr>\n",
       "      <th>2</th>\n",
       "      <td>84300903</td>\n",
       "      <td>M</td>\n",
       "      <td>19.69</td>\n",
       "      <td>21.25</td>\n",
       "      <td>130.00</td>\n",
       "      <td>1203.0</td>\n",
       "      <td>0.10960</td>\n",
       "      <td>0.15990</td>\n",
       "      <td>0.1974</td>\n",
       "      <td>0.12790</td>\n",
       "      <td>...</td>\n",
       "      <td>23.57</td>\n",
       "      <td>25.53</td>\n",
       "      <td>152.50</td>\n",
       "      <td>1709.0</td>\n",
       "      <td>0.1444</td>\n",
       "      <td>0.4245</td>\n",
       "      <td>0.4504</td>\n",
       "      <td>0.2430</td>\n",
       "      <td>0.3613</td>\n",
       "      <td>0.08758</td>\n",
       "    </tr>\n",
       "    <tr>\n",
       "      <th>3</th>\n",
       "      <td>84348301</td>\n",
       "      <td>M</td>\n",
       "      <td>11.42</td>\n",
       "      <td>20.38</td>\n",
       "      <td>77.58</td>\n",
       "      <td>386.1</td>\n",
       "      <td>0.14250</td>\n",
       "      <td>0.28390</td>\n",
       "      <td>0.2414</td>\n",
       "      <td>0.10520</td>\n",
       "      <td>...</td>\n",
       "      <td>14.91</td>\n",
       "      <td>26.50</td>\n",
       "      <td>98.87</td>\n",
       "      <td>567.7</td>\n",
       "      <td>0.2098</td>\n",
       "      <td>0.8663</td>\n",
       "      <td>0.6869</td>\n",
       "      <td>0.2575</td>\n",
       "      <td>0.6638</td>\n",
       "      <td>0.17300</td>\n",
       "    </tr>\n",
       "    <tr>\n",
       "      <th>4</th>\n",
       "      <td>84358402</td>\n",
       "      <td>M</td>\n",
       "      <td>20.29</td>\n",
       "      <td>14.34</td>\n",
       "      <td>135.10</td>\n",
       "      <td>1297.0</td>\n",
       "      <td>0.10030</td>\n",
       "      <td>0.13280</td>\n",
       "      <td>0.1980</td>\n",
       "      <td>0.10430</td>\n",
       "      <td>...</td>\n",
       "      <td>22.54</td>\n",
       "      <td>16.67</td>\n",
       "      <td>152.20</td>\n",
       "      <td>1575.0</td>\n",
       "      <td>0.1374</td>\n",
       "      <td>0.2050</td>\n",
       "      <td>0.4000</td>\n",
       "      <td>0.1625</td>\n",
       "      <td>0.2364</td>\n",
       "      <td>0.07678</td>\n",
       "    </tr>\n",
       "  </tbody>\n",
       "</table>\n",
       "<p>5 rows × 32 columns</p>\n",
       "</div>"
      ],
      "text/plain": [
       "         id diagnosis  radius_mean  texture_mean  perimeter_mean  area_mean  \\\n",
       "0    842302         M        17.99         10.38          122.80     1001.0   \n",
       "1    842517         M        20.57         17.77          132.90     1326.0   \n",
       "2  84300903         M        19.69         21.25          130.00     1203.0   \n",
       "3  84348301         M        11.42         20.38           77.58      386.1   \n",
       "4  84358402         M        20.29         14.34          135.10     1297.0   \n",
       "\n",
       "   smoothness_mean  compactness_mean  concavity_mean  concave points_mean  \\\n",
       "0          0.11840           0.27760          0.3001              0.14710   \n",
       "1          0.08474           0.07864          0.0869              0.07017   \n",
       "2          0.10960           0.15990          0.1974              0.12790   \n",
       "3          0.14250           0.28390          0.2414              0.10520   \n",
       "4          0.10030           0.13280          0.1980              0.10430   \n",
       "\n",
       "   ...  radius_worst  texture_worst  perimeter_worst  area_worst  \\\n",
       "0  ...         25.38          17.33           184.60      2019.0   \n",
       "1  ...         24.99          23.41           158.80      1956.0   \n",
       "2  ...         23.57          25.53           152.50      1709.0   \n",
       "3  ...         14.91          26.50            98.87       567.7   \n",
       "4  ...         22.54          16.67           152.20      1575.0   \n",
       "\n",
       "   smoothness_worst  compactness_worst  concavity_worst  concave points_worst  \\\n",
       "0            0.1622             0.6656           0.7119                0.2654   \n",
       "1            0.1238             0.1866           0.2416                0.1860   \n",
       "2            0.1444             0.4245           0.4504                0.2430   \n",
       "3            0.2098             0.8663           0.6869                0.2575   \n",
       "4            0.1374             0.2050           0.4000                0.1625   \n",
       "\n",
       "   symmetry_worst  fractal_dimension_worst  \n",
       "0          0.4601                  0.11890  \n",
       "1          0.2750                  0.08902  \n",
       "2          0.3613                  0.08758  \n",
       "3          0.6638                  0.17300  \n",
       "4          0.2364                  0.07678  \n",
       "\n",
       "[5 rows x 32 columns]"
      ]
     },
     "execution_count": 5,
     "metadata": {},
     "output_type": "execute_result"
    },
    {
     "data": {
      "application/javascript": [
       "\n",
       "            setTimeout(function() {\n",
       "                var nbb_cell_id = 5;\n",
       "                var nbb_unformatted_code = \"cancer.head()\";\n",
       "                var nbb_formatted_code = \"cancer.head()\";\n",
       "                var nbb_cells = Jupyter.notebook.get_cells();\n",
       "                for (var i = 0; i < nbb_cells.length; ++i) {\n",
       "                    if (nbb_cells[i].input_prompt_number == nbb_cell_id) {\n",
       "                        if (nbb_cells[i].get_text() == nbb_unformatted_code) {\n",
       "                             nbb_cells[i].set_text(nbb_formatted_code);\n",
       "                        }\n",
       "                        break;\n",
       "                    }\n",
       "                }\n",
       "            }, 500);\n",
       "            "
      ],
      "text/plain": [
       "<IPython.core.display.Javascript object>"
      ]
     },
     "metadata": {},
     "output_type": "display_data"
    }
   ],
   "source": [
    "cancer.head()"
   ]
  },
  {
   "cell_type": "markdown",
   "metadata": {
    "colab_type": "text",
    "id": "wYZLhYV8lJ5q"
   },
   "source": [
    "We'll start with some data cleaning. First remove the id column since we have no use for it. Then check for missing data and remove all rows containing missing data."
   ]
  },
  {
   "cell_type": "code",
   "execution_count": 6,
   "metadata": {
    "colab": {},
    "colab_type": "code",
    "id": "Dc4wwsNOlJ5q"
   },
   "outputs": [
    {
     "data": {
      "text/html": [
       "<div>\n",
       "<style scoped>\n",
       "    .dataframe tbody tr th:only-of-type {\n",
       "        vertical-align: middle;\n",
       "    }\n",
       "\n",
       "    .dataframe tbody tr th {\n",
       "        vertical-align: top;\n",
       "    }\n",
       "\n",
       "    .dataframe thead th {\n",
       "        text-align: right;\n",
       "    }\n",
       "</style>\n",
       "<table border=\"1\" class=\"dataframe\">\n",
       "  <thead>\n",
       "    <tr style=\"text-align: right;\">\n",
       "      <th></th>\n",
       "      <th>diagnosis</th>\n",
       "      <th>radius_mean</th>\n",
       "      <th>texture_mean</th>\n",
       "      <th>perimeter_mean</th>\n",
       "      <th>area_mean</th>\n",
       "      <th>smoothness_mean</th>\n",
       "      <th>compactness_mean</th>\n",
       "      <th>concavity_mean</th>\n",
       "      <th>concave points_mean</th>\n",
       "      <th>symmetry_mean</th>\n",
       "      <th>...</th>\n",
       "      <th>radius_worst</th>\n",
       "      <th>texture_worst</th>\n",
       "      <th>perimeter_worst</th>\n",
       "      <th>area_worst</th>\n",
       "      <th>smoothness_worst</th>\n",
       "      <th>compactness_worst</th>\n",
       "      <th>concavity_worst</th>\n",
       "      <th>concave points_worst</th>\n",
       "      <th>symmetry_worst</th>\n",
       "      <th>fractal_dimension_worst</th>\n",
       "    </tr>\n",
       "  </thead>\n",
       "  <tbody>\n",
       "    <tr>\n",
       "      <th>0</th>\n",
       "      <td>M</td>\n",
       "      <td>17.99</td>\n",
       "      <td>10.38</td>\n",
       "      <td>122.80</td>\n",
       "      <td>1001.0</td>\n",
       "      <td>0.11840</td>\n",
       "      <td>0.27760</td>\n",
       "      <td>0.3001</td>\n",
       "      <td>0.14710</td>\n",
       "      <td>0.2419</td>\n",
       "      <td>...</td>\n",
       "      <td>25.38</td>\n",
       "      <td>17.33</td>\n",
       "      <td>184.60</td>\n",
       "      <td>2019.0</td>\n",
       "      <td>0.1622</td>\n",
       "      <td>0.6656</td>\n",
       "      <td>0.7119</td>\n",
       "      <td>0.2654</td>\n",
       "      <td>0.4601</td>\n",
       "      <td>0.11890</td>\n",
       "    </tr>\n",
       "    <tr>\n",
       "      <th>1</th>\n",
       "      <td>M</td>\n",
       "      <td>20.57</td>\n",
       "      <td>17.77</td>\n",
       "      <td>132.90</td>\n",
       "      <td>1326.0</td>\n",
       "      <td>0.08474</td>\n",
       "      <td>0.07864</td>\n",
       "      <td>0.0869</td>\n",
       "      <td>0.07017</td>\n",
       "      <td>0.1812</td>\n",
       "      <td>...</td>\n",
       "      <td>24.99</td>\n",
       "      <td>23.41</td>\n",
       "      <td>158.80</td>\n",
       "      <td>1956.0</td>\n",
       "      <td>0.1238</td>\n",
       "      <td>0.1866</td>\n",
       "      <td>0.2416</td>\n",
       "      <td>0.1860</td>\n",
       "      <td>0.2750</td>\n",
       "      <td>0.08902</td>\n",
       "    </tr>\n",
       "    <tr>\n",
       "      <th>2</th>\n",
       "      <td>M</td>\n",
       "      <td>19.69</td>\n",
       "      <td>21.25</td>\n",
       "      <td>130.00</td>\n",
       "      <td>1203.0</td>\n",
       "      <td>0.10960</td>\n",
       "      <td>0.15990</td>\n",
       "      <td>0.1974</td>\n",
       "      <td>0.12790</td>\n",
       "      <td>0.2069</td>\n",
       "      <td>...</td>\n",
       "      <td>23.57</td>\n",
       "      <td>25.53</td>\n",
       "      <td>152.50</td>\n",
       "      <td>1709.0</td>\n",
       "      <td>0.1444</td>\n",
       "      <td>0.4245</td>\n",
       "      <td>0.4504</td>\n",
       "      <td>0.2430</td>\n",
       "      <td>0.3613</td>\n",
       "      <td>0.08758</td>\n",
       "    </tr>\n",
       "    <tr>\n",
       "      <th>3</th>\n",
       "      <td>M</td>\n",
       "      <td>11.42</td>\n",
       "      <td>20.38</td>\n",
       "      <td>77.58</td>\n",
       "      <td>386.1</td>\n",
       "      <td>0.14250</td>\n",
       "      <td>0.28390</td>\n",
       "      <td>0.2414</td>\n",
       "      <td>0.10520</td>\n",
       "      <td>0.2597</td>\n",
       "      <td>...</td>\n",
       "      <td>14.91</td>\n",
       "      <td>26.50</td>\n",
       "      <td>98.87</td>\n",
       "      <td>567.7</td>\n",
       "      <td>0.2098</td>\n",
       "      <td>0.8663</td>\n",
       "      <td>0.6869</td>\n",
       "      <td>0.2575</td>\n",
       "      <td>0.6638</td>\n",
       "      <td>0.17300</td>\n",
       "    </tr>\n",
       "    <tr>\n",
       "      <th>4</th>\n",
       "      <td>M</td>\n",
       "      <td>20.29</td>\n",
       "      <td>14.34</td>\n",
       "      <td>135.10</td>\n",
       "      <td>1297.0</td>\n",
       "      <td>0.10030</td>\n",
       "      <td>0.13280</td>\n",
       "      <td>0.1980</td>\n",
       "      <td>0.10430</td>\n",
       "      <td>0.1809</td>\n",
       "      <td>...</td>\n",
       "      <td>22.54</td>\n",
       "      <td>16.67</td>\n",
       "      <td>152.20</td>\n",
       "      <td>1575.0</td>\n",
       "      <td>0.1374</td>\n",
       "      <td>0.2050</td>\n",
       "      <td>0.4000</td>\n",
       "      <td>0.1625</td>\n",
       "      <td>0.2364</td>\n",
       "      <td>0.07678</td>\n",
       "    </tr>\n",
       "  </tbody>\n",
       "</table>\n",
       "<p>5 rows × 31 columns</p>\n",
       "</div>"
      ],
      "text/plain": [
       "  diagnosis  radius_mean  texture_mean  perimeter_mean  area_mean  \\\n",
       "0         M        17.99         10.38          122.80     1001.0   \n",
       "1         M        20.57         17.77          132.90     1326.0   \n",
       "2         M        19.69         21.25          130.00     1203.0   \n",
       "3         M        11.42         20.38           77.58      386.1   \n",
       "4         M        20.29         14.34          135.10     1297.0   \n",
       "\n",
       "   smoothness_mean  compactness_mean  concavity_mean  concave points_mean  \\\n",
       "0          0.11840           0.27760          0.3001              0.14710   \n",
       "1          0.08474           0.07864          0.0869              0.07017   \n",
       "2          0.10960           0.15990          0.1974              0.12790   \n",
       "3          0.14250           0.28390          0.2414              0.10520   \n",
       "4          0.10030           0.13280          0.1980              0.10430   \n",
       "\n",
       "   symmetry_mean  ...  radius_worst  texture_worst  perimeter_worst  \\\n",
       "0         0.2419  ...         25.38          17.33           184.60   \n",
       "1         0.1812  ...         24.99          23.41           158.80   \n",
       "2         0.2069  ...         23.57          25.53           152.50   \n",
       "3         0.2597  ...         14.91          26.50            98.87   \n",
       "4         0.1809  ...         22.54          16.67           152.20   \n",
       "\n",
       "   area_worst  smoothness_worst  compactness_worst  concavity_worst  \\\n",
       "0      2019.0            0.1622             0.6656           0.7119   \n",
       "1      1956.0            0.1238             0.1866           0.2416   \n",
       "2      1709.0            0.1444             0.4245           0.4504   \n",
       "3       567.7            0.2098             0.8663           0.6869   \n",
       "4      1575.0            0.1374             0.2050           0.4000   \n",
       "\n",
       "   concave points_worst  symmetry_worst  fractal_dimension_worst  \n",
       "0                0.2654          0.4601                  0.11890  \n",
       "1                0.1860          0.2750                  0.08902  \n",
       "2                0.2430          0.3613                  0.08758  \n",
       "3                0.2575          0.6638                  0.17300  \n",
       "4                0.1625          0.2364                  0.07678  \n",
       "\n",
       "[5 rows x 31 columns]"
      ]
     },
     "execution_count": 6,
     "metadata": {},
     "output_type": "execute_result"
    },
    {
     "data": {
      "application/javascript": [
       "\n",
       "            setTimeout(function() {\n",
       "                var nbb_cell_id = 6;\n",
       "                var nbb_unformatted_code = \"# Answer below:\\ncancer = cancer.drop(columns=[\\\"id\\\"])\\ncancer.head()\";\n",
       "                var nbb_formatted_code = \"# Answer below:\\ncancer = cancer.drop(columns=[\\\"id\\\"])\\ncancer.head()\";\n",
       "                var nbb_cells = Jupyter.notebook.get_cells();\n",
       "                for (var i = 0; i < nbb_cells.length; ++i) {\n",
       "                    if (nbb_cells[i].input_prompt_number == nbb_cell_id) {\n",
       "                        if (nbb_cells[i].get_text() == nbb_unformatted_code) {\n",
       "                             nbb_cells[i].set_text(nbb_formatted_code);\n",
       "                        }\n",
       "                        break;\n",
       "                    }\n",
       "                }\n",
       "            }, 500);\n",
       "            "
      ],
      "text/plain": [
       "<IPython.core.display.Javascript object>"
      ]
     },
     "metadata": {},
     "output_type": "display_data"
    }
   ],
   "source": [
    "# Answer below:\n",
    "cancer = cancer.drop(columns=[\"id\"])\n",
    "cancer.head()"
   ]
  },
  {
   "cell_type": "code",
   "execution_count": 7,
   "metadata": {},
   "outputs": [
    {
     "data": {
      "text/plain": [
       "diagnosis                  0.0\n",
       "radius_mean                0.0\n",
       "texture_mean               0.0\n",
       "perimeter_mean             0.0\n",
       "area_mean                  0.0\n",
       "smoothness_mean            0.0\n",
       "compactness_mean           0.0\n",
       "concavity_mean             0.0\n",
       "concave points_mean        0.0\n",
       "symmetry_mean              0.0\n",
       "fractal_dimension_mean     0.0\n",
       "radius_se                  0.0\n",
       "texture_se                 0.0\n",
       "perimeter_se               0.0\n",
       "area_se                    0.0\n",
       "smoothness_se              0.0\n",
       "compactness_se             0.0\n",
       "concavity_se               0.0\n",
       "concave points_se          0.0\n",
       "symmetry_se                0.0\n",
       "fractal_dimension_se       0.0\n",
       "radius_worst               0.0\n",
       "texture_worst              0.0\n",
       "perimeter_worst            0.0\n",
       "area_worst                 0.0\n",
       "smoothness_worst           0.0\n",
       "compactness_worst          0.0\n",
       "concavity_worst            0.0\n",
       "concave points_worst       0.0\n",
       "symmetry_worst             0.0\n",
       "fractal_dimension_worst    0.0\n",
       "dtype: float64"
      ]
     },
     "execution_count": 7,
     "metadata": {},
     "output_type": "execute_result"
    },
    {
     "data": {
      "application/javascript": [
       "\n",
       "            setTimeout(function() {\n",
       "                var nbb_cell_id = 7;\n",
       "                var nbb_unformatted_code = \"cancer.isna().mean()\";\n",
       "                var nbb_formatted_code = \"cancer.isna().mean()\";\n",
       "                var nbb_cells = Jupyter.notebook.get_cells();\n",
       "                for (var i = 0; i < nbb_cells.length; ++i) {\n",
       "                    if (nbb_cells[i].input_prompt_number == nbb_cell_id) {\n",
       "                        if (nbb_cells[i].get_text() == nbb_unformatted_code) {\n",
       "                             nbb_cells[i].set_text(nbb_formatted_code);\n",
       "                        }\n",
       "                        break;\n",
       "                    }\n",
       "                }\n",
       "            }, 500);\n",
       "            "
      ],
      "text/plain": [
       "<IPython.core.display.Javascript object>"
      ]
     },
     "metadata": {},
     "output_type": "display_data"
    }
   ],
   "source": [
    "cancer.isna().mean()"
   ]
  },
  {
   "cell_type": "markdown",
   "metadata": {
    "colab_type": "text",
    "id": "vS4Ez5PblJ5s"
   },
   "source": [
    "The diagnosis columnn is our target variable. How many possible values are in this variable?"
   ]
  },
  {
   "cell_type": "code",
   "execution_count": 8,
   "metadata": {
    "colab": {},
    "colab_type": "code",
    "id": "z9Y8CrdblJ5t"
   },
   "outputs": [
    {
     "data": {
      "text/plain": [
       "B    357\n",
       "M    212\n",
       "Name: diagnosis, dtype: int64"
      ]
     },
     "execution_count": 8,
     "metadata": {},
     "output_type": "execute_result"
    },
    {
     "data": {
      "application/javascript": [
       "\n",
       "            setTimeout(function() {\n",
       "                var nbb_cell_id = 8;\n",
       "                var nbb_unformatted_code = \"# Answer below:\\ncancer['diagnosis'].value_counts()\";\n",
       "                var nbb_formatted_code = \"# Answer below:\\ncancer[\\\"diagnosis\\\"].value_counts()\";\n",
       "                var nbb_cells = Jupyter.notebook.get_cells();\n",
       "                for (var i = 0; i < nbb_cells.length; ++i) {\n",
       "                    if (nbb_cells[i].input_prompt_number == nbb_cell_id) {\n",
       "                        if (nbb_cells[i].get_text() == nbb_unformatted_code) {\n",
       "                             nbb_cells[i].set_text(nbb_formatted_code);\n",
       "                        }\n",
       "                        break;\n",
       "                    }\n",
       "                }\n",
       "            }, 500);\n",
       "            "
      ],
      "text/plain": [
       "<IPython.core.display.Javascript object>"
      ]
     },
     "metadata": {},
     "output_type": "display_data"
    }
   ],
   "source": [
    "# Answer below:\n",
    "cancer['diagnosis'].value_counts()\n"
   ]
  },
  {
   "cell_type": "markdown",
   "metadata": {
    "colab_type": "text",
    "id": "4HIxH-KzlJ5u"
   },
   "source": [
    "Create one or multiple dummy variables for this column and store this encoded data in a numpy array called `target`"
   ]
  },
  {
   "cell_type": "code",
   "execution_count": 9,
   "metadata": {
    "colab": {},
    "colab_type": "code",
    "id": "jcPTpi5glJ5v"
   },
   "outputs": [
    {
     "data": {
      "application/javascript": [
       "\n",
       "            setTimeout(function() {\n",
       "                var nbb_cell_id = 9;\n",
       "                var nbb_unformatted_code = \"# Answer below:\\ncancer = pd.get_dummies(cancer, columns=[\\\"diagnosis\\\"], drop_first=True)\";\n",
       "                var nbb_formatted_code = \"# Answer below:\\ncancer = pd.get_dummies(cancer, columns=[\\\"diagnosis\\\"], drop_first=True)\";\n",
       "                var nbb_cells = Jupyter.notebook.get_cells();\n",
       "                for (var i = 0; i < nbb_cells.length; ++i) {\n",
       "                    if (nbb_cells[i].input_prompt_number == nbb_cell_id) {\n",
       "                        if (nbb_cells[i].get_text() == nbb_unformatted_code) {\n",
       "                             nbb_cells[i].set_text(nbb_formatted_code);\n",
       "                        }\n",
       "                        break;\n",
       "                    }\n",
       "                }\n",
       "            }, 500);\n",
       "            "
      ],
      "text/plain": [
       "<IPython.core.display.Javascript object>"
      ]
     },
     "metadata": {},
     "output_type": "display_data"
    }
   ],
   "source": [
    "# Answer below:\n",
    "cancer = pd.get_dummies(cancer, columns=[\"diagnosis\"], drop_first=True)"
   ]
  },
  {
   "cell_type": "code",
   "execution_count": 10,
   "metadata": {},
   "outputs": [
    {
     "data": {
      "text/html": [
       "<div>\n",
       "<style scoped>\n",
       "    .dataframe tbody tr th:only-of-type {\n",
       "        vertical-align: middle;\n",
       "    }\n",
       "\n",
       "    .dataframe tbody tr th {\n",
       "        vertical-align: top;\n",
       "    }\n",
       "\n",
       "    .dataframe thead th {\n",
       "        text-align: right;\n",
       "    }\n",
       "</style>\n",
       "<table border=\"1\" class=\"dataframe\">\n",
       "  <thead>\n",
       "    <tr style=\"text-align: right;\">\n",
       "      <th></th>\n",
       "      <th>radius_mean</th>\n",
       "      <th>texture_mean</th>\n",
       "      <th>perimeter_mean</th>\n",
       "      <th>area_mean</th>\n",
       "      <th>smoothness_mean</th>\n",
       "      <th>compactness_mean</th>\n",
       "      <th>concavity_mean</th>\n",
       "      <th>concave points_mean</th>\n",
       "      <th>symmetry_mean</th>\n",
       "      <th>fractal_dimension_mean</th>\n",
       "      <th>...</th>\n",
       "      <th>texture_worst</th>\n",
       "      <th>perimeter_worst</th>\n",
       "      <th>area_worst</th>\n",
       "      <th>smoothness_worst</th>\n",
       "      <th>compactness_worst</th>\n",
       "      <th>concavity_worst</th>\n",
       "      <th>concave points_worst</th>\n",
       "      <th>symmetry_worst</th>\n",
       "      <th>fractal_dimension_worst</th>\n",
       "      <th>diagnosis_M</th>\n",
       "    </tr>\n",
       "  </thead>\n",
       "  <tbody>\n",
       "    <tr>\n",
       "      <th>0</th>\n",
       "      <td>17.99</td>\n",
       "      <td>10.38</td>\n",
       "      <td>122.80</td>\n",
       "      <td>1001.0</td>\n",
       "      <td>0.11840</td>\n",
       "      <td>0.27760</td>\n",
       "      <td>0.3001</td>\n",
       "      <td>0.14710</td>\n",
       "      <td>0.2419</td>\n",
       "      <td>0.07871</td>\n",
       "      <td>...</td>\n",
       "      <td>17.33</td>\n",
       "      <td>184.60</td>\n",
       "      <td>2019.0</td>\n",
       "      <td>0.1622</td>\n",
       "      <td>0.6656</td>\n",
       "      <td>0.7119</td>\n",
       "      <td>0.2654</td>\n",
       "      <td>0.4601</td>\n",
       "      <td>0.11890</td>\n",
       "      <td>1</td>\n",
       "    </tr>\n",
       "    <tr>\n",
       "      <th>1</th>\n",
       "      <td>20.57</td>\n",
       "      <td>17.77</td>\n",
       "      <td>132.90</td>\n",
       "      <td>1326.0</td>\n",
       "      <td>0.08474</td>\n",
       "      <td>0.07864</td>\n",
       "      <td>0.0869</td>\n",
       "      <td>0.07017</td>\n",
       "      <td>0.1812</td>\n",
       "      <td>0.05667</td>\n",
       "      <td>...</td>\n",
       "      <td>23.41</td>\n",
       "      <td>158.80</td>\n",
       "      <td>1956.0</td>\n",
       "      <td>0.1238</td>\n",
       "      <td>0.1866</td>\n",
       "      <td>0.2416</td>\n",
       "      <td>0.1860</td>\n",
       "      <td>0.2750</td>\n",
       "      <td>0.08902</td>\n",
       "      <td>1</td>\n",
       "    </tr>\n",
       "    <tr>\n",
       "      <th>2</th>\n",
       "      <td>19.69</td>\n",
       "      <td>21.25</td>\n",
       "      <td>130.00</td>\n",
       "      <td>1203.0</td>\n",
       "      <td>0.10960</td>\n",
       "      <td>0.15990</td>\n",
       "      <td>0.1974</td>\n",
       "      <td>0.12790</td>\n",
       "      <td>0.2069</td>\n",
       "      <td>0.05999</td>\n",
       "      <td>...</td>\n",
       "      <td>25.53</td>\n",
       "      <td>152.50</td>\n",
       "      <td>1709.0</td>\n",
       "      <td>0.1444</td>\n",
       "      <td>0.4245</td>\n",
       "      <td>0.4504</td>\n",
       "      <td>0.2430</td>\n",
       "      <td>0.3613</td>\n",
       "      <td>0.08758</td>\n",
       "      <td>1</td>\n",
       "    </tr>\n",
       "    <tr>\n",
       "      <th>3</th>\n",
       "      <td>11.42</td>\n",
       "      <td>20.38</td>\n",
       "      <td>77.58</td>\n",
       "      <td>386.1</td>\n",
       "      <td>0.14250</td>\n",
       "      <td>0.28390</td>\n",
       "      <td>0.2414</td>\n",
       "      <td>0.10520</td>\n",
       "      <td>0.2597</td>\n",
       "      <td>0.09744</td>\n",
       "      <td>...</td>\n",
       "      <td>26.50</td>\n",
       "      <td>98.87</td>\n",
       "      <td>567.7</td>\n",
       "      <td>0.2098</td>\n",
       "      <td>0.8663</td>\n",
       "      <td>0.6869</td>\n",
       "      <td>0.2575</td>\n",
       "      <td>0.6638</td>\n",
       "      <td>0.17300</td>\n",
       "      <td>1</td>\n",
       "    </tr>\n",
       "    <tr>\n",
       "      <th>4</th>\n",
       "      <td>20.29</td>\n",
       "      <td>14.34</td>\n",
       "      <td>135.10</td>\n",
       "      <td>1297.0</td>\n",
       "      <td>0.10030</td>\n",
       "      <td>0.13280</td>\n",
       "      <td>0.1980</td>\n",
       "      <td>0.10430</td>\n",
       "      <td>0.1809</td>\n",
       "      <td>0.05883</td>\n",
       "      <td>...</td>\n",
       "      <td>16.67</td>\n",
       "      <td>152.20</td>\n",
       "      <td>1575.0</td>\n",
       "      <td>0.1374</td>\n",
       "      <td>0.2050</td>\n",
       "      <td>0.4000</td>\n",
       "      <td>0.1625</td>\n",
       "      <td>0.2364</td>\n",
       "      <td>0.07678</td>\n",
       "      <td>1</td>\n",
       "    </tr>\n",
       "  </tbody>\n",
       "</table>\n",
       "<p>5 rows × 31 columns</p>\n",
       "</div>"
      ],
      "text/plain": [
       "   radius_mean  texture_mean  perimeter_mean  area_mean  smoothness_mean  \\\n",
       "0        17.99         10.38          122.80     1001.0          0.11840   \n",
       "1        20.57         17.77          132.90     1326.0          0.08474   \n",
       "2        19.69         21.25          130.00     1203.0          0.10960   \n",
       "3        11.42         20.38           77.58      386.1          0.14250   \n",
       "4        20.29         14.34          135.10     1297.0          0.10030   \n",
       "\n",
       "   compactness_mean  concavity_mean  concave points_mean  symmetry_mean  \\\n",
       "0           0.27760          0.3001              0.14710         0.2419   \n",
       "1           0.07864          0.0869              0.07017         0.1812   \n",
       "2           0.15990          0.1974              0.12790         0.2069   \n",
       "3           0.28390          0.2414              0.10520         0.2597   \n",
       "4           0.13280          0.1980              0.10430         0.1809   \n",
       "\n",
       "   fractal_dimension_mean  ...  texture_worst  perimeter_worst  area_worst  \\\n",
       "0                 0.07871  ...          17.33           184.60      2019.0   \n",
       "1                 0.05667  ...          23.41           158.80      1956.0   \n",
       "2                 0.05999  ...          25.53           152.50      1709.0   \n",
       "3                 0.09744  ...          26.50            98.87       567.7   \n",
       "4                 0.05883  ...          16.67           152.20      1575.0   \n",
       "\n",
       "   smoothness_worst  compactness_worst  concavity_worst  concave points_worst  \\\n",
       "0            0.1622             0.6656           0.7119                0.2654   \n",
       "1            0.1238             0.1866           0.2416                0.1860   \n",
       "2            0.1444             0.4245           0.4504                0.2430   \n",
       "3            0.2098             0.8663           0.6869                0.2575   \n",
       "4            0.1374             0.2050           0.4000                0.1625   \n",
       "\n",
       "   symmetry_worst  fractal_dimension_worst  diagnosis_M  \n",
       "0          0.4601                  0.11890            1  \n",
       "1          0.2750                  0.08902            1  \n",
       "2          0.3613                  0.08758            1  \n",
       "3          0.6638                  0.17300            1  \n",
       "4          0.2364                  0.07678            1  \n",
       "\n",
       "[5 rows x 31 columns]"
      ]
     },
     "execution_count": 10,
     "metadata": {},
     "output_type": "execute_result"
    },
    {
     "data": {
      "application/javascript": [
       "\n",
       "            setTimeout(function() {\n",
       "                var nbb_cell_id = 10;\n",
       "                var nbb_unformatted_code = \"cancer.head()\";\n",
       "                var nbb_formatted_code = \"cancer.head()\";\n",
       "                var nbb_cells = Jupyter.notebook.get_cells();\n",
       "                for (var i = 0; i < nbb_cells.length; ++i) {\n",
       "                    if (nbb_cells[i].input_prompt_number == nbb_cell_id) {\n",
       "                        if (nbb_cells[i].get_text() == nbb_unformatted_code) {\n",
       "                             nbb_cells[i].set_text(nbb_formatted_code);\n",
       "                        }\n",
       "                        break;\n",
       "                    }\n",
       "                }\n",
       "            }, 500);\n",
       "            "
      ],
      "text/plain": [
       "<IPython.core.display.Javascript object>"
      ]
     },
     "metadata": {},
     "output_type": "display_data"
    }
   ],
   "source": [
    "cancer.head()"
   ]
  },
  {
   "cell_type": "code",
   "execution_count": 11,
   "metadata": {},
   "outputs": [
    {
     "data": {
      "application/javascript": [
       "\n",
       "            setTimeout(function() {\n",
       "                var nbb_cell_id = 11;\n",
       "                var nbb_unformatted_code = \"target = np.array(cancer[\\\"diagnosis_M\\\"])\";\n",
       "                var nbb_formatted_code = \"target = np.array(cancer[\\\"diagnosis_M\\\"])\";\n",
       "                var nbb_cells = Jupyter.notebook.get_cells();\n",
       "                for (var i = 0; i < nbb_cells.length; ++i) {\n",
       "                    if (nbb_cells[i].input_prompt_number == nbb_cell_id) {\n",
       "                        if (nbb_cells[i].get_text() == nbb_unformatted_code) {\n",
       "                             nbb_cells[i].set_text(nbb_formatted_code);\n",
       "                        }\n",
       "                        break;\n",
       "                    }\n",
       "                }\n",
       "            }, 500);\n",
       "            "
      ],
      "text/plain": [
       "<IPython.core.display.Javascript object>"
      ]
     },
     "metadata": {},
     "output_type": "display_data"
    }
   ],
   "source": [
    "target = np.array(cancer[\"diagnosis_M\"])"
   ]
  },
  {
   "cell_type": "markdown",
   "metadata": {
    "colab_type": "text",
    "id": "nTeGX95alJ5x"
   },
   "source": [
    "When looking at the columm names, you may have noticed that for each attribute we have a mean of the attribute, a standard error, and a worst value. Let's create a list of column names for only the means columns. Use this list to create a new dataframe containing only the means columns."
   ]
  },
  {
   "cell_type": "code",
   "execution_count": 12,
   "metadata": {
    "colab": {},
    "colab_type": "code",
    "id": "bPO8gG35lJ5x"
   },
   "outputs": [
    {
     "data": {
      "application/javascript": [
       "\n",
       "            setTimeout(function() {\n",
       "                var nbb_cell_id = 12;\n",
       "                var nbb_unformatted_code = \"# Answer below:\\ncancer.columns\\nmean_cols = [\\n    \\\"radius_mean\\\",\\n    \\\"texture_mean\\\",\\n    \\\"perimeter_mean\\\",\\n    \\\"area_mean\\\",\\n    \\\"smoothness_mean\\\",\\n    \\\"compactness_mean\\\",\\n    \\\"concavity_mean\\\",\\n    \\\"concave points_mean\\\",\\n    \\\"symmetry_mean\\\",\\n    \\\"fractal_dimension_mean\\\",\\n]\";\n",
       "                var nbb_formatted_code = \"# Answer below:\\ncancer.columns\\nmean_cols = [\\n    \\\"radius_mean\\\",\\n    \\\"texture_mean\\\",\\n    \\\"perimeter_mean\\\",\\n    \\\"area_mean\\\",\\n    \\\"smoothness_mean\\\",\\n    \\\"compactness_mean\\\",\\n    \\\"concavity_mean\\\",\\n    \\\"concave points_mean\\\",\\n    \\\"symmetry_mean\\\",\\n    \\\"fractal_dimension_mean\\\",\\n]\";\n",
       "                var nbb_cells = Jupyter.notebook.get_cells();\n",
       "                for (var i = 0; i < nbb_cells.length; ++i) {\n",
       "                    if (nbb_cells[i].input_prompt_number == nbb_cell_id) {\n",
       "                        if (nbb_cells[i].get_text() == nbb_unformatted_code) {\n",
       "                             nbb_cells[i].set_text(nbb_formatted_code);\n",
       "                        }\n",
       "                        break;\n",
       "                    }\n",
       "                }\n",
       "            }, 500);\n",
       "            "
      ],
      "text/plain": [
       "<IPython.core.display.Javascript object>"
      ]
     },
     "metadata": {},
     "output_type": "display_data"
    }
   ],
   "source": [
    "# Answer below:\n",
    "cancer.columns\n",
    "mean_cols = [\n",
    "    \"radius_mean\",\n",
    "    \"texture_mean\",\n",
    "    \"perimeter_mean\",\n",
    "    \"area_mean\",\n",
    "    \"smoothness_mean\",\n",
    "    \"compactness_mean\",\n",
    "    \"concavity_mean\",\n",
    "    \"concave points_mean\",\n",
    "    \"symmetry_mean\",\n",
    "    \"fractal_dimension_mean\",\n",
    "]"
   ]
  },
  {
   "cell_type": "code",
   "execution_count": 13,
   "metadata": {},
   "outputs": [
    {
     "data": {
      "application/javascript": [
       "\n",
       "            setTimeout(function() {\n",
       "                var nbb_cell_id = 13;\n",
       "                var nbb_unformatted_code = \"mean_df = pd.DataFrame(data=cancer, columns=mean_cols + [\\\"diagnosis_M\\\"])\";\n",
       "                var nbb_formatted_code = \"mean_df = pd.DataFrame(data=cancer, columns=mean_cols + [\\\"diagnosis_M\\\"])\";\n",
       "                var nbb_cells = Jupyter.notebook.get_cells();\n",
       "                for (var i = 0; i < nbb_cells.length; ++i) {\n",
       "                    if (nbb_cells[i].input_prompt_number == nbb_cell_id) {\n",
       "                        if (nbb_cells[i].get_text() == nbb_unformatted_code) {\n",
       "                             nbb_cells[i].set_text(nbb_formatted_code);\n",
       "                        }\n",
       "                        break;\n",
       "                    }\n",
       "                }\n",
       "            }, 500);\n",
       "            "
      ],
      "text/plain": [
       "<IPython.core.display.Javascript object>"
      ]
     },
     "metadata": {},
     "output_type": "display_data"
    }
   ],
   "source": [
    "mean_df = pd.DataFrame(data=cancer, columns=mean_cols + [\"diagnosis_M\"])"
   ]
  },
  {
   "cell_type": "code",
   "execution_count": 14,
   "metadata": {},
   "outputs": [
    {
     "data": {
      "text/html": [
       "<div>\n",
       "<style scoped>\n",
       "    .dataframe tbody tr th:only-of-type {\n",
       "        vertical-align: middle;\n",
       "    }\n",
       "\n",
       "    .dataframe tbody tr th {\n",
       "        vertical-align: top;\n",
       "    }\n",
       "\n",
       "    .dataframe thead th {\n",
       "        text-align: right;\n",
       "    }\n",
       "</style>\n",
       "<table border=\"1\" class=\"dataframe\">\n",
       "  <thead>\n",
       "    <tr style=\"text-align: right;\">\n",
       "      <th></th>\n",
       "      <th>radius_mean</th>\n",
       "      <th>texture_mean</th>\n",
       "      <th>perimeter_mean</th>\n",
       "      <th>area_mean</th>\n",
       "      <th>smoothness_mean</th>\n",
       "      <th>compactness_mean</th>\n",
       "      <th>concavity_mean</th>\n",
       "      <th>concave points_mean</th>\n",
       "      <th>symmetry_mean</th>\n",
       "      <th>fractal_dimension_mean</th>\n",
       "      <th>diagnosis_M</th>\n",
       "    </tr>\n",
       "  </thead>\n",
       "  <tbody>\n",
       "    <tr>\n",
       "      <th>0</th>\n",
       "      <td>17.99</td>\n",
       "      <td>10.38</td>\n",
       "      <td>122.80</td>\n",
       "      <td>1001.0</td>\n",
       "      <td>0.11840</td>\n",
       "      <td>0.27760</td>\n",
       "      <td>0.3001</td>\n",
       "      <td>0.14710</td>\n",
       "      <td>0.2419</td>\n",
       "      <td>0.07871</td>\n",
       "      <td>1</td>\n",
       "    </tr>\n",
       "    <tr>\n",
       "      <th>1</th>\n",
       "      <td>20.57</td>\n",
       "      <td>17.77</td>\n",
       "      <td>132.90</td>\n",
       "      <td>1326.0</td>\n",
       "      <td>0.08474</td>\n",
       "      <td>0.07864</td>\n",
       "      <td>0.0869</td>\n",
       "      <td>0.07017</td>\n",
       "      <td>0.1812</td>\n",
       "      <td>0.05667</td>\n",
       "      <td>1</td>\n",
       "    </tr>\n",
       "    <tr>\n",
       "      <th>2</th>\n",
       "      <td>19.69</td>\n",
       "      <td>21.25</td>\n",
       "      <td>130.00</td>\n",
       "      <td>1203.0</td>\n",
       "      <td>0.10960</td>\n",
       "      <td>0.15990</td>\n",
       "      <td>0.1974</td>\n",
       "      <td>0.12790</td>\n",
       "      <td>0.2069</td>\n",
       "      <td>0.05999</td>\n",
       "      <td>1</td>\n",
       "    </tr>\n",
       "    <tr>\n",
       "      <th>3</th>\n",
       "      <td>11.42</td>\n",
       "      <td>20.38</td>\n",
       "      <td>77.58</td>\n",
       "      <td>386.1</td>\n",
       "      <td>0.14250</td>\n",
       "      <td>0.28390</td>\n",
       "      <td>0.2414</td>\n",
       "      <td>0.10520</td>\n",
       "      <td>0.2597</td>\n",
       "      <td>0.09744</td>\n",
       "      <td>1</td>\n",
       "    </tr>\n",
       "    <tr>\n",
       "      <th>4</th>\n",
       "      <td>20.29</td>\n",
       "      <td>14.34</td>\n",
       "      <td>135.10</td>\n",
       "      <td>1297.0</td>\n",
       "      <td>0.10030</td>\n",
       "      <td>0.13280</td>\n",
       "      <td>0.1980</td>\n",
       "      <td>0.10430</td>\n",
       "      <td>0.1809</td>\n",
       "      <td>0.05883</td>\n",
       "      <td>1</td>\n",
       "    </tr>\n",
       "  </tbody>\n",
       "</table>\n",
       "</div>"
      ],
      "text/plain": [
       "   radius_mean  texture_mean  perimeter_mean  area_mean  smoothness_mean  \\\n",
       "0        17.99         10.38          122.80     1001.0          0.11840   \n",
       "1        20.57         17.77          132.90     1326.0          0.08474   \n",
       "2        19.69         21.25          130.00     1203.0          0.10960   \n",
       "3        11.42         20.38           77.58      386.1          0.14250   \n",
       "4        20.29         14.34          135.10     1297.0          0.10030   \n",
       "\n",
       "   compactness_mean  concavity_mean  concave points_mean  symmetry_mean  \\\n",
       "0           0.27760          0.3001              0.14710         0.2419   \n",
       "1           0.07864          0.0869              0.07017         0.1812   \n",
       "2           0.15990          0.1974              0.12790         0.2069   \n",
       "3           0.28390          0.2414              0.10520         0.2597   \n",
       "4           0.13280          0.1980              0.10430         0.1809   \n",
       "\n",
       "   fractal_dimension_mean  diagnosis_M  \n",
       "0                 0.07871            1  \n",
       "1                 0.05667            1  \n",
       "2                 0.05999            1  \n",
       "3                 0.09744            1  \n",
       "4                 0.05883            1  "
      ]
     },
     "execution_count": 14,
     "metadata": {},
     "output_type": "execute_result"
    },
    {
     "data": {
      "application/javascript": [
       "\n",
       "            setTimeout(function() {\n",
       "                var nbb_cell_id = 14;\n",
       "                var nbb_unformatted_code = \"mean_df.head()\";\n",
       "                var nbb_formatted_code = \"mean_df.head()\";\n",
       "                var nbb_cells = Jupyter.notebook.get_cells();\n",
       "                for (var i = 0; i < nbb_cells.length; ++i) {\n",
       "                    if (nbb_cells[i].input_prompt_number == nbb_cell_id) {\n",
       "                        if (nbb_cells[i].get_text() == nbb_unformatted_code) {\n",
       "                             nbb_cells[i].set_text(nbb_formatted_code);\n",
       "                        }\n",
       "                        break;\n",
       "                    }\n",
       "                }\n",
       "            }, 500);\n",
       "            "
      ],
      "text/plain": [
       "<IPython.core.display.Javascript object>"
      ]
     },
     "metadata": {},
     "output_type": "display_data"
    }
   ],
   "source": [
    "mean_df.head()"
   ]
  },
  {
   "cell_type": "markdown",
   "metadata": {
    "colab_type": "text",
    "id": "oBuO5BOIlJ51"
   },
   "source": [
    "Split the data into train and test samples. The test sample should contain 20% of the data."
   ]
  },
  {
   "cell_type": "code",
   "execution_count": 15,
   "metadata": {
    "colab": {},
    "colab_type": "code",
    "id": "mv0hKnzklJ51"
   },
   "outputs": [
    {
     "data": {
      "application/javascript": [
       "\n",
       "            setTimeout(function() {\n",
       "                var nbb_cell_id = 15;\n",
       "                var nbb_unformatted_code = \"# Answer below\\nX_train, X_test, y_train, y_test = tts(mean_df.drop(columns=['diagnosis_M']),mean_df['diagnosis_M'],test_size = 0.20)\";\n",
       "                var nbb_formatted_code = \"# Answer below\\nX_train, X_test, y_train, y_test = tts(\\n    mean_df.drop(columns=[\\\"diagnosis_M\\\"]), mean_df[\\\"diagnosis_M\\\"], test_size=0.20\\n)\";\n",
       "                var nbb_cells = Jupyter.notebook.get_cells();\n",
       "                for (var i = 0; i < nbb_cells.length; ++i) {\n",
       "                    if (nbb_cells[i].input_prompt_number == nbb_cell_id) {\n",
       "                        if (nbb_cells[i].get_text() == nbb_unformatted_code) {\n",
       "                             nbb_cells[i].set_text(nbb_formatted_code);\n",
       "                        }\n",
       "                        break;\n",
       "                    }\n",
       "                }\n",
       "            }, 500);\n",
       "            "
      ],
      "text/plain": [
       "<IPython.core.display.Javascript object>"
      ]
     },
     "metadata": {},
     "output_type": "display_data"
    }
   ],
   "source": [
    "# Answer below\n",
    "X_train, X_test, y_train, y_test = tts(mean_df.drop(columns=['diagnosis_M']),mean_df['diagnosis_M'],test_size = 0.20)\n"
   ]
  },
  {
   "cell_type": "markdown",
   "metadata": {
    "colab_type": "text",
    "id": "h0X26vkklJ5z"
   },
   "source": [
    "Now we'll use the minmax scaler to ensure that all columns have values between zero and 1. Apply this transformations for all columns to be used in the prediction."
   ]
  },
  {
   "cell_type": "code",
   "execution_count": 16,
   "metadata": {
    "colab": {},
    "colab_type": "code",
    "id": "febZFy_tlJ5z"
   },
   "outputs": [
    {
     "data": {
      "application/javascript": [
       "\n",
       "            setTimeout(function() {\n",
       "                var nbb_cell_id = 16;\n",
       "                var nbb_unformatted_code = \"# Answer below:\\nscaler = MinMaxScaler()\\nscaled = scaler.fit_transform(X_train)\";\n",
       "                var nbb_formatted_code = \"# Answer below:\\nscaler = MinMaxScaler()\\nscaled = scaler.fit_transform(X_train)\";\n",
       "                var nbb_cells = Jupyter.notebook.get_cells();\n",
       "                for (var i = 0; i < nbb_cells.length; ++i) {\n",
       "                    if (nbb_cells[i].input_prompt_number == nbb_cell_id) {\n",
       "                        if (nbb_cells[i].get_text() == nbb_unformatted_code) {\n",
       "                             nbb_cells[i].set_text(nbb_formatted_code);\n",
       "                        }\n",
       "                        break;\n",
       "                    }\n",
       "                }\n",
       "            }, 500);\n",
       "            "
      ],
      "text/plain": [
       "<IPython.core.display.Javascript object>"
      ]
     },
     "metadata": {},
     "output_type": "display_data"
    }
   ],
   "source": [
    "# Answer below:\n",
    "scaler = MinMaxScaler()\n",
    "scaled = scaler.fit_transform(X_train)"
   ]
  },
  {
   "cell_type": "markdown",
   "metadata": {
    "colab_type": "text",
    "id": "Z4gNH9_slJ53"
   },
   "source": [
    "Now we can proceed with our model. In the cell below, import the `Sequential`, and `Dense` functions."
   ]
  },
  {
   "cell_type": "code",
   "execution_count": 17,
   "metadata": {
    "colab": {},
    "colab_type": "code",
    "id": "0EFVNpW3lJ53"
   },
   "outputs": [
    {
     "data": {
      "application/javascript": [
       "\n",
       "            setTimeout(function() {\n",
       "                var nbb_cell_id = 17;\n",
       "                var nbb_unformatted_code = \"# Answer below:\\n\\nfrom tensorflow.keras.models import Sequential\\nfrom tensorflow.keras.layers import Dense\";\n",
       "                var nbb_formatted_code = \"# Answer below:\\n\\nfrom tensorflow.keras.models import Sequential\\nfrom tensorflow.keras.layers import Dense\";\n",
       "                var nbb_cells = Jupyter.notebook.get_cells();\n",
       "                for (var i = 0; i < nbb_cells.length; ++i) {\n",
       "                    if (nbb_cells[i].input_prompt_number == nbb_cell_id) {\n",
       "                        if (nbb_cells[i].get_text() == nbb_unformatted_code) {\n",
       "                             nbb_cells[i].set_text(nbb_formatted_code);\n",
       "                        }\n",
       "                        break;\n",
       "                    }\n",
       "                }\n",
       "            }, 500);\n",
       "            "
      ],
      "text/plain": [
       "<IPython.core.display.Javascript object>"
      ]
     },
     "metadata": {},
     "output_type": "display_data"
    }
   ],
   "source": [
    "# Answer below:\n",
    "\n",
    "from tensorflow.keras.models import Sequential\n",
    "from tensorflow.keras.layers import Dense"
   ]
  },
  {
   "cell_type": "markdown",
   "metadata": {
    "colab_type": "text",
    "id": "AhrP-ICtlJ55"
   },
   "source": [
    "create a model that takes the training data and predicts the target variable. The model will have 3 layers. The input layer should be of unit size 12 and the hidden layer will be of size 10. The output layer size will be determined by the size of the target variable. Use the sigmoid activation function for the last layer"
   ]
  },
  {
   "cell_type": "code",
   "execution_count": 18,
   "metadata": {},
   "outputs": [
    {
     "data": {
      "text/plain": [
       "(455, 10)"
      ]
     },
     "execution_count": 18,
     "metadata": {},
     "output_type": "execute_result"
    },
    {
     "data": {
      "application/javascript": [
       "\n",
       "            setTimeout(function() {\n",
       "                var nbb_cell_id = 18;\n",
       "                var nbb_unformatted_code = \"X_train.shape\";\n",
       "                var nbb_formatted_code = \"X_train.shape\";\n",
       "                var nbb_cells = Jupyter.notebook.get_cells();\n",
       "                for (var i = 0; i < nbb_cells.length; ++i) {\n",
       "                    if (nbb_cells[i].input_prompt_number == nbb_cell_id) {\n",
       "                        if (nbb_cells[i].get_text() == nbb_unformatted_code) {\n",
       "                             nbb_cells[i].set_text(nbb_formatted_code);\n",
       "                        }\n",
       "                        break;\n",
       "                    }\n",
       "                }\n",
       "            }, 500);\n",
       "            "
      ],
      "text/plain": [
       "<IPython.core.display.Javascript object>"
      ]
     },
     "metadata": {},
     "output_type": "display_data"
    }
   ],
   "source": [
    "X_train.shape"
   ]
  },
  {
   "cell_type": "code",
   "execution_count": 19,
   "metadata": {
    "colab": {},
    "colab_type": "code",
    "id": "ni5BKZqYlJ55"
   },
   "outputs": [
    {
     "data": {
      "application/javascript": [
       "\n",
       "            setTimeout(function() {\n",
       "                var nbb_cell_id = 19;\n",
       "                var nbb_unformatted_code = \"# Answer below\\nmodel = Sequential()\\nmodel.add(Dense(12, input_dim=X_train.shape[1], activation=\\\"relu\\\"))\\nmodel.add(Dense(10, activation=\\\"relu\\\"))\\nmodel.add(Dense(1, activation=\\\"sigmoid\\\"))\";\n",
       "                var nbb_formatted_code = \"# Answer below\\nmodel = Sequential()\\nmodel.add(Dense(12, input_dim=X_train.shape[1], activation=\\\"relu\\\"))\\nmodel.add(Dense(10, activation=\\\"relu\\\"))\\nmodel.add(Dense(1, activation=\\\"sigmoid\\\"))\";\n",
       "                var nbb_cells = Jupyter.notebook.get_cells();\n",
       "                for (var i = 0; i < nbb_cells.length; ++i) {\n",
       "                    if (nbb_cells[i].input_prompt_number == nbb_cell_id) {\n",
       "                        if (nbb_cells[i].get_text() == nbb_unformatted_code) {\n",
       "                             nbb_cells[i].set_text(nbb_formatted_code);\n",
       "                        }\n",
       "                        break;\n",
       "                    }\n",
       "                }\n",
       "            }, 500);\n",
       "            "
      ],
      "text/plain": [
       "<IPython.core.display.Javascript object>"
      ]
     },
     "metadata": {},
     "output_type": "display_data"
    }
   ],
   "source": [
    "# Answer below\n",
    "model = Sequential()\n",
    "model.add(Dense(12, input_dim=X_train.shape[1], activation=\"relu\"))\n",
    "model.add(Dense(10, activation=\"relu\"))\n",
    "model.add(Dense(1, activation=\"sigmoid\"))"
   ]
  },
  {
   "cell_type": "markdown",
   "metadata": {
    "colab_type": "text",
    "id": "VH4UZYIqlJ57"
   },
   "source": [
    "Compile and fit the model. Use the adam optimizer and the binary crossentropy loss function. Train the model for 200 epochs with a batch size of 80. Make sure touse the test data into the model as well."
   ]
  },
  {
   "cell_type": "code",
   "execution_count": 20,
   "metadata": {
    "colab": {},
    "colab_type": "code",
    "id": "Qy3HSNm6lJ58"
   },
   "outputs": [
    {
     "data": {
      "application/javascript": [
       "\n",
       "            setTimeout(function() {\n",
       "                var nbb_cell_id = 20;\n",
       "                var nbb_unformatted_code = \"# Answer below:\\nmodel.compile(optimizer=\\\"adam\\\", loss=\\\"binary_crossentropy\\\", metrics=[\\\"accuracy\\\"])\";\n",
       "                var nbb_formatted_code = \"# Answer below:\\nmodel.compile(optimizer=\\\"adam\\\", loss=\\\"binary_crossentropy\\\", metrics=[\\\"accuracy\\\"])\";\n",
       "                var nbb_cells = Jupyter.notebook.get_cells();\n",
       "                for (var i = 0; i < nbb_cells.length; ++i) {\n",
       "                    if (nbb_cells[i].input_prompt_number == nbb_cell_id) {\n",
       "                        if (nbb_cells[i].get_text() == nbb_unformatted_code) {\n",
       "                             nbb_cells[i].set_text(nbb_formatted_code);\n",
       "                        }\n",
       "                        break;\n",
       "                    }\n",
       "                }\n",
       "            }, 500);\n",
       "            "
      ],
      "text/plain": [
       "<IPython.core.display.Javascript object>"
      ]
     },
     "metadata": {},
     "output_type": "display_data"
    }
   ],
   "source": [
    "# Answer below:\n",
    "model.compile(optimizer=\"adam\", loss=\"binary_crossentropy\", metrics=[\"accuracy\"])"
   ]
  },
  {
   "cell_type": "code",
   "execution_count": 21,
   "metadata": {},
   "outputs": [
    {
     "name": "stdout",
     "output_type": "stream",
     "text": [
      "WARNING:tensorflow:Falling back from v2 loop because of error: Failed to find data adapter that can handle input: <class 'pandas.core.frame.DataFrame'>, <class 'NoneType'>\n",
      "WARNING:tensorflow:From C:\\Users\\jlim7\\anaconda3\\lib\\site-packages\\tensorflow_core\\python\\ops\\math_grad.py:1424: where (from tensorflow.python.ops.array_ops) is deprecated and will be removed in a future version.\n",
      "Instructions for updating:\n",
      "Use tf.where in 2.0, which has the same broadcast rule as np.where\n",
      "Train on 455 samples, validate on 114 samples\n",
      "Epoch 1/200\n",
      "455/455 [==============================] - 0s 448us/sample - loss: 6.7707 - accuracy: 0.3824 - val_loss: 4.4620 - val_accuracy: 0.3333\n",
      "Epoch 2/200\n",
      "455/455 [==============================] - 0s 24us/sample - loss: 2.2598 - accuracy: 0.3824 - val_loss: 1.5930 - val_accuracy: 0.6667\n",
      "Epoch 3/200\n",
      "455/455 [==============================] - 0s 28us/sample - loss: 1.9409 - accuracy: 0.6176 - val_loss: 0.9547 - val_accuracy: 0.6140\n",
      "Epoch 4/200\n",
      "455/455 [==============================] - 0s 20us/sample - loss: 1.0400 - accuracy: 0.3978 - val_loss: 1.5136 - val_accuracy: 0.3421\n",
      "Epoch 5/200\n",
      "455/455 [==============================] - 0s 26us/sample - loss: 1.0359 - accuracy: 0.4110 - val_loss: 0.7873 - val_accuracy: 0.4386\n",
      "Epoch 6/200\n",
      "455/455 [==============================] - 0s 24us/sample - loss: 0.8767 - accuracy: 0.5648 - val_loss: 0.7489 - val_accuracy: 0.4035\n",
      "Epoch 7/200\n",
      "455/455 [==============================] - 0s 24us/sample - loss: 0.7388 - accuracy: 0.4549 - val_loss: 0.8595 - val_accuracy: 0.4211\n",
      "Epoch 8/200\n",
      "455/455 [==============================] - 0s 20us/sample - loss: 0.6939 - accuracy: 0.5275 - val_loss: 0.7110 - val_accuracy: 0.5702\n",
      "Epoch 9/200\n",
      "455/455 [==============================] - 0s 24us/sample - loss: 0.6576 - accuracy: 0.6022 - val_loss: 0.7274 - val_accuracy: 0.4561\n",
      "Epoch 10/200\n",
      "455/455 [==============================] - 0s 20us/sample - loss: 0.6356 - accuracy: 0.5890 - val_loss: 0.6592 - val_accuracy: 0.5877\n",
      "Epoch 11/200\n",
      "455/455 [==============================] - 0s 27us/sample - loss: 0.6033 - accuracy: 0.6769 - val_loss: 0.6549 - val_accuracy: 0.5439\n",
      "Epoch 12/200\n",
      "455/455 [==============================] - 0s 18us/sample - loss: 0.5837 - accuracy: 0.6923 - val_loss: 0.6318 - val_accuracy: 0.6053\n",
      "Epoch 13/200\n",
      "455/455 [==============================] - 0s 22us/sample - loss: 0.5665 - accuracy: 0.7121 - val_loss: 0.6216 - val_accuracy: 0.6140\n",
      "Epoch 14/200\n",
      "455/455 [==============================] - 0s 18us/sample - loss: 0.5524 - accuracy: 0.7538 - val_loss: 0.6034 - val_accuracy: 0.6491\n",
      "Epoch 15/200\n",
      "455/455 [==============================] - 0s 20us/sample - loss: 0.5396 - accuracy: 0.7670 - val_loss: 0.6089 - val_accuracy: 0.6404\n",
      "Epoch 16/200\n",
      "455/455 [==============================] - 0s 24us/sample - loss: 0.5313 - accuracy: 0.7407 - val_loss: 0.5777 - val_accuracy: 0.6754\n",
      "Epoch 17/200\n",
      "455/455 [==============================] - 0s 18us/sample - loss: 0.5145 - accuracy: 0.7604 - val_loss: 0.5758 - val_accuracy: 0.6930\n",
      "Epoch 18/200\n",
      "455/455 [==============================] - 0s 26us/sample - loss: 0.5019 - accuracy: 0.7956 - val_loss: 0.5580 - val_accuracy: 0.6930\n",
      "Epoch 19/200\n",
      "455/455 [==============================] - 0s 26us/sample - loss: 0.4914 - accuracy: 0.7978 - val_loss: 0.5625 - val_accuracy: 0.7018\n",
      "Epoch 20/200\n",
      "455/455 [==============================] - 0s 26us/sample - loss: 0.4867 - accuracy: 0.7736 - val_loss: 0.5424 - val_accuracy: 0.7105\n",
      "Epoch 21/200\n",
      "455/455 [==============================] - 0s 35us/sample - loss: 0.4767 - accuracy: 0.8242 - val_loss: 0.5348 - val_accuracy: 0.7281\n",
      "Epoch 22/200\n",
      "455/455 [==============================] - 0s 33us/sample - loss: 0.4676 - accuracy: 0.8352 - val_loss: 0.5363 - val_accuracy: 0.7018\n",
      "Epoch 23/200\n",
      "455/455 [==============================] - 0s 24us/sample - loss: 0.4602 - accuracy: 0.8264 - val_loss: 0.5267 - val_accuracy: 0.7018\n",
      "Epoch 24/200\n",
      "455/455 [==============================] - 0s 29us/sample - loss: 0.4543 - accuracy: 0.8330 - val_loss: 0.5168 - val_accuracy: 0.7544\n",
      "Epoch 25/200\n",
      "455/455 [==============================] - 0s 24us/sample - loss: 0.4541 - accuracy: 0.8110 - val_loss: 0.5192 - val_accuracy: 0.7193\n",
      "Epoch 26/200\n",
      "455/455 [==============================] - 0s 26us/sample - loss: 0.4487 - accuracy: 0.8198 - val_loss: 0.5084 - val_accuracy: 0.7544\n",
      "Epoch 27/200\n",
      "455/455 [==============================] - 0s 31us/sample - loss: 0.4421 - accuracy: 0.7978 - val_loss: 0.5166 - val_accuracy: 0.7018\n",
      "Epoch 28/200\n",
      "455/455 [==============================] - 0s 32us/sample - loss: 0.4363 - accuracy: 0.8286 - val_loss: 0.4955 - val_accuracy: 0.7807\n",
      "Epoch 29/200\n",
      "455/455 [==============================] - 0s 32us/sample - loss: 0.4289 - accuracy: 0.8242 - val_loss: 0.5154 - val_accuracy: 0.7018\n",
      "Epoch 30/200\n",
      "455/455 [==============================] - 0s 27us/sample - loss: 0.4214 - accuracy: 0.8352 - val_loss: 0.4874 - val_accuracy: 0.7719\n",
      "Epoch 31/200\n",
      "455/455 [==============================] - 0s 28us/sample - loss: 0.4178 - accuracy: 0.8440 - val_loss: 0.4992 - val_accuracy: 0.7368\n",
      "Epoch 32/200\n",
      "455/455 [==============================] - 0s 46us/sample - loss: 0.4141 - accuracy: 0.8396 - val_loss: 0.4834 - val_accuracy: 0.7632\n",
      "Epoch 33/200\n",
      "455/455 [==============================] - 0s 46us/sample - loss: 0.4076 - accuracy: 0.8396 - val_loss: 0.4897 - val_accuracy: 0.7544\n",
      "Epoch 34/200\n",
      "455/455 [==============================] - 0s 38us/sample - loss: 0.4064 - accuracy: 0.8352 - val_loss: 0.4760 - val_accuracy: 0.7632\n",
      "Epoch 35/200\n",
      "455/455 [==============================] - 0s 46us/sample - loss: 0.4033 - accuracy: 0.8484 - val_loss: 0.4732 - val_accuracy: 0.7719\n",
      "Epoch 36/200\n",
      "455/455 [==============================] - 0s 41us/sample - loss: 0.3986 - accuracy: 0.8505 - val_loss: 0.4761 - val_accuracy: 0.7719\n",
      "Epoch 37/200\n",
      "455/455 [==============================] - 0s 37us/sample - loss: 0.3976 - accuracy: 0.8440 - val_loss: 0.4735 - val_accuracy: 0.7719\n",
      "Epoch 38/200\n",
      "455/455 [==============================] - 0s 52us/sample - loss: 0.3939 - accuracy: 0.8462 - val_loss: 0.4724 - val_accuracy: 0.7807\n",
      "Epoch 39/200\n",
      "455/455 [==============================] - 0s 35us/sample - loss: 0.3980 - accuracy: 0.8264 - val_loss: 0.4668 - val_accuracy: 0.7807\n",
      "Epoch 40/200\n",
      "455/455 [==============================] - 0s 42us/sample - loss: 0.3932 - accuracy: 0.8440 - val_loss: 0.4614 - val_accuracy: 0.7895\n",
      "Epoch 41/200\n",
      "455/455 [==============================] - 0s 54us/sample - loss: 0.3857 - accuracy: 0.8505 - val_loss: 0.4729 - val_accuracy: 0.7544\n",
      "Epoch 42/200\n",
      "455/455 [==============================] - 0s 41us/sample - loss: 0.3805 - accuracy: 0.8462 - val_loss: 0.4560 - val_accuracy: 0.7807\n",
      "Epoch 43/200\n",
      "455/455 [==============================] - 0s 44us/sample - loss: 0.3805 - accuracy: 0.8549 - val_loss: 0.4610 - val_accuracy: 0.7807\n",
      "Epoch 44/200\n",
      "455/455 [==============================] - 0s 36us/sample - loss: 0.3842 - accuracy: 0.8308 - val_loss: 0.4554 - val_accuracy: 0.7895\n",
      "Epoch 45/200\n",
      "455/455 [==============================] - 0s 39us/sample - loss: 0.3763 - accuracy: 0.8615 - val_loss: 0.4517 - val_accuracy: 0.7895\n",
      "Epoch 46/200\n",
      "455/455 [==============================] - 0s 64us/sample - loss: 0.3766 - accuracy: 0.8505 - val_loss: 0.4526 - val_accuracy: 0.7982\n",
      "Epoch 47/200\n",
      "455/455 [==============================] - 0s 66us/sample - loss: 0.3759 - accuracy: 0.8593 - val_loss: 0.4542 - val_accuracy: 0.7807\n",
      "Epoch 48/200\n",
      "455/455 [==============================] - 0s 47us/sample - loss: 0.3789 - accuracy: 0.8264 - val_loss: 0.4483 - val_accuracy: 0.8070\n",
      "Epoch 49/200\n",
      "455/455 [==============================] - 0s 41us/sample - loss: 0.3726 - accuracy: 0.8527 - val_loss: 0.4447 - val_accuracy: 0.7807\n",
      "Epoch 50/200\n",
      "455/455 [==============================] - 0s 48us/sample - loss: 0.3707 - accuracy: 0.8396 - val_loss: 0.4521 - val_accuracy: 0.7807\n",
      "Epoch 51/200\n",
      "455/455 [==============================] - 0s 36us/sample - loss: 0.3649 - accuracy: 0.8571 - val_loss: 0.4437 - val_accuracy: 0.8070\n",
      "Epoch 52/200\n",
      "455/455 [==============================] - 0s 44us/sample - loss: 0.3644 - accuracy: 0.8484 - val_loss: 0.4437 - val_accuracy: 0.7982\n",
      "Epoch 53/200\n"
     ]
    },
    {
     "name": "stdout",
     "output_type": "stream",
     "text": [
      "455/455 [==============================] - 0s 44us/sample - loss: 0.3608 - accuracy: 0.8527 - val_loss: 0.4445 - val_accuracy: 0.7895\n",
      "Epoch 54/200\n",
      "455/455 [==============================] - 0s 54us/sample - loss: 0.3627 - accuracy: 0.8527 - val_loss: 0.4395 - val_accuracy: 0.8070\n",
      "Epoch 55/200\n",
      "455/455 [==============================] - 0s 48us/sample - loss: 0.3616 - accuracy: 0.8615 - val_loss: 0.4384 - val_accuracy: 0.8070\n",
      "Epoch 56/200\n",
      "455/455 [==============================] - 0s 44us/sample - loss: 0.3572 - accuracy: 0.8549 - val_loss: 0.4405 - val_accuracy: 0.7895\n",
      "Epoch 57/200\n",
      "455/455 [==============================] - 0s 37us/sample - loss: 0.3564 - accuracy: 0.8549 - val_loss: 0.4371 - val_accuracy: 0.8070\n",
      "Epoch 58/200\n",
      "455/455 [==============================] - 0s 40us/sample - loss: 0.3566 - accuracy: 0.8484 - val_loss: 0.4360 - val_accuracy: 0.8070\n",
      "Epoch 59/200\n",
      "455/455 [==============================] - 0s 32us/sample - loss: 0.3527 - accuracy: 0.8571 - val_loss: 0.4363 - val_accuracy: 0.7895\n",
      "Epoch 60/200\n",
      "455/455 [==============================] - 0s 45us/sample - loss: 0.3540 - accuracy: 0.8549 - val_loss: 0.4334 - val_accuracy: 0.8070\n",
      "Epoch 61/200\n",
      "455/455 [==============================] - 0s 49us/sample - loss: 0.3524 - accuracy: 0.8593 - val_loss: 0.4353 - val_accuracy: 0.7895\n",
      "Epoch 62/200\n",
      "455/455 [==============================] - 0s 39us/sample - loss: 0.3488 - accuracy: 0.8593 - val_loss: 0.4290 - val_accuracy: 0.7982\n",
      "Epoch 63/200\n",
      "455/455 [==============================] - 0s 50us/sample - loss: 0.3498 - accuracy: 0.8615 - val_loss: 0.4352 - val_accuracy: 0.7895\n",
      "Epoch 64/200\n",
      "455/455 [==============================] - 0s 55us/sample - loss: 0.3523 - accuracy: 0.8549 - val_loss: 0.4302 - val_accuracy: 0.8070\n",
      "Epoch 65/200\n",
      "455/455 [==============================] - 0s 50us/sample - loss: 0.3502 - accuracy: 0.8571 - val_loss: 0.4284 - val_accuracy: 0.8070\n",
      "Epoch 66/200\n",
      "455/455 [==============================] - 0s 55us/sample - loss: 0.3457 - accuracy: 0.8571 - val_loss: 0.4325 - val_accuracy: 0.7895\n",
      "Epoch 67/200\n",
      "455/455 [==============================] - 0s 66us/sample - loss: 0.3467 - accuracy: 0.8615 - val_loss: 0.4262 - val_accuracy: 0.8070\n",
      "Epoch 68/200\n",
      "455/455 [==============================] - 0s 58us/sample - loss: 0.3429 - accuracy: 0.8527 - val_loss: 0.4316 - val_accuracy: 0.7895\n",
      "Epoch 69/200\n",
      "455/455 [==============================] - 0s 39us/sample - loss: 0.3426 - accuracy: 0.8571 - val_loss: 0.4216 - val_accuracy: 0.8158\n",
      "Epoch 70/200\n",
      "455/455 [==============================] - 0s 46us/sample - loss: 0.3468 - accuracy: 0.8593 - val_loss: 0.4272 - val_accuracy: 0.7895\n",
      "Epoch 71/200\n",
      "455/455 [==============================] - 0s 54us/sample - loss: 0.3395 - accuracy: 0.8681 - val_loss: 0.4199 - val_accuracy: 0.8333\n",
      "Epoch 72/200\n",
      "455/455 [==============================] - 0s 49us/sample - loss: 0.3429 - accuracy: 0.8593 - val_loss: 0.4270 - val_accuracy: 0.7895\n",
      "Epoch 73/200\n",
      "455/455 [==============================] - 0s 41us/sample - loss: 0.3406 - accuracy: 0.8593 - val_loss: 0.4200 - val_accuracy: 0.8070\n",
      "Epoch 74/200\n",
      "455/455 [==============================] - 0s 35us/sample - loss: 0.3388 - accuracy: 0.8637 - val_loss: 0.4213 - val_accuracy: 0.7982\n",
      "Epoch 75/200\n",
      "455/455 [==============================] - 0s 24us/sample - loss: 0.3372 - accuracy: 0.8593 - val_loss: 0.4180 - val_accuracy: 0.7982\n",
      "Epoch 76/200\n",
      "455/455 [==============================] - 0s 26us/sample - loss: 0.3378 - accuracy: 0.8659 - val_loss: 0.4224 - val_accuracy: 0.7895\n",
      "Epoch 77/200\n",
      "455/455 [==============================] - ETA: 0s - loss: 0.3608 - accuracy: 0.82 - 0s 31us/sample - loss: 0.3404 - accuracy: 0.8527 - val_loss: 0.4183 - val_accuracy: 0.8070\n",
      "Epoch 78/200\n",
      "455/455 [==============================] - 0s 26us/sample - loss: 0.3430 - accuracy: 0.8593 - val_loss: 0.4159 - val_accuracy: 0.7982\n",
      "Epoch 79/200\n",
      "455/455 [==============================] - 0s 24us/sample - loss: 0.3463 - accuracy: 0.8484 - val_loss: 0.4260 - val_accuracy: 0.7895\n",
      "Epoch 80/200\n",
      "455/455 [==============================] - 0s 20us/sample - loss: 0.3464 - accuracy: 0.8484 - val_loss: 0.4127 - val_accuracy: 0.8158\n",
      "Epoch 81/200\n",
      "455/455 [==============================] - 0s 31us/sample - loss: 0.3348 - accuracy: 0.8505 - val_loss: 0.4308 - val_accuracy: 0.8070\n",
      "Epoch 82/200\n",
      "455/455 [==============================] - 0s 22us/sample - loss: 0.3410 - accuracy: 0.8725 - val_loss: 0.4114 - val_accuracy: 0.8509\n",
      "Epoch 83/200\n",
      "455/455 [==============================] - 0s 26us/sample - loss: 0.3331 - accuracy: 0.8571 - val_loss: 0.4245 - val_accuracy: 0.8070\n",
      "Epoch 84/200\n",
      "455/455 [==============================] - 0s 28us/sample - loss: 0.3296 - accuracy: 0.8571 - val_loss: 0.4112 - val_accuracy: 0.8333\n",
      "Epoch 85/200\n",
      "455/455 [==============================] - 0s 24us/sample - loss: 0.3377 - accuracy: 0.8615 - val_loss: 0.4197 - val_accuracy: 0.7982\n",
      "Epoch 86/200\n",
      "455/455 [==============================] - 0s 39us/sample - loss: 0.3412 - accuracy: 0.8527 - val_loss: 0.4087 - val_accuracy: 0.7982\n",
      "Epoch 87/200\n",
      "455/455 [==============================] - 0s 26us/sample - loss: 0.3434 - accuracy: 0.8571 - val_loss: 0.4133 - val_accuracy: 0.7982\n",
      "Epoch 88/200\n",
      "455/455 [==============================] - 0s 20us/sample - loss: 0.3337 - accuracy: 0.8527 - val_loss: 0.4148 - val_accuracy: 0.7895\n",
      "Epoch 89/200\n",
      "455/455 [==============================] - 0s 44us/sample - loss: 0.3307 - accuracy: 0.8615 - val_loss: 0.4063 - val_accuracy: 0.8509\n",
      "Epoch 90/200\n",
      "455/455 [==============================] - 0s 37us/sample - loss: 0.3394 - accuracy: 0.8571 - val_loss: 0.4124 - val_accuracy: 0.7982\n",
      "Epoch 91/200\n",
      "455/455 [==============================] - 0s 29us/sample - loss: 0.3346 - accuracy: 0.8615 - val_loss: 0.4047 - val_accuracy: 0.8509\n",
      "Epoch 92/200\n",
      "455/455 [==============================] - 0s 33us/sample - loss: 0.3294 - accuracy: 0.8549 - val_loss: 0.4203 - val_accuracy: 0.8158\n",
      "Epoch 93/200\n",
      "455/455 [==============================] - 0s 28us/sample - loss: 0.3467 - accuracy: 0.8549 - val_loss: 0.4059 - val_accuracy: 0.8070\n",
      "Epoch 94/200\n",
      "455/455 [==============================] - 0s 28us/sample - loss: 0.3252 - accuracy: 0.8593 - val_loss: 0.4163 - val_accuracy: 0.8158\n",
      "Epoch 95/200\n",
      "455/455 [==============================] - 0s 31us/sample - loss: 0.3251 - accuracy: 0.8659 - val_loss: 0.4025 - val_accuracy: 0.8070\n",
      "Epoch 96/200\n",
      "455/455 [==============================] - 0s 26us/sample - loss: 0.3221 - accuracy: 0.8659 - val_loss: 0.4096 - val_accuracy: 0.8158\n",
      "Epoch 97/200\n",
      "455/455 [==============================] - 0s 42us/sample - loss: 0.3221 - accuracy: 0.8703 - val_loss: 0.4011 - val_accuracy: 0.8158\n",
      "Epoch 98/200\n",
      "455/455 [==============================] - 0s 26us/sample - loss: 0.3260 - accuracy: 0.8659 - val_loss: 0.4177 - val_accuracy: 0.8158\n",
      "Epoch 99/200\n",
      "455/455 [==============================] - 0s 31us/sample - loss: 0.3337 - accuracy: 0.8440 - val_loss: 0.4002 - val_accuracy: 0.8158\n",
      "Epoch 100/200\n",
      "455/455 [==============================] - 0s 41us/sample - loss: 0.3376 - accuracy: 0.8637 - val_loss: 0.4042 - val_accuracy: 0.8070\n",
      "Epoch 101/200\n",
      "455/455 [==============================] - 0s 33us/sample - loss: 0.3351 - accuracy: 0.8593 - val_loss: 0.4016 - val_accuracy: 0.7982\n",
      "Epoch 102/200\n",
      "455/455 [==============================] - 0s 33us/sample - loss: 0.3292 - accuracy: 0.8615 - val_loss: 0.3983 - val_accuracy: 0.8158\n",
      "Epoch 103/200\n",
      "455/455 [==============================] - 0s 28us/sample - loss: 0.3163 - accuracy: 0.8769 - val_loss: 0.4123 - val_accuracy: 0.8158\n",
      "Epoch 104/200\n",
      "455/455 [==============================] - 0s 20us/sample - loss: 0.3197 - accuracy: 0.8593 - val_loss: 0.3968 - val_accuracy: 0.8509\n",
      "Epoch 105/200\n",
      "455/455 [==============================] - 0s 26us/sample - loss: 0.3199 - accuracy: 0.8747 - val_loss: 0.4000 - val_accuracy: 0.8070\n",
      "Epoch 106/200\n",
      "455/455 [==============================] - 0s 31us/sample - loss: 0.3183 - accuracy: 0.8659 - val_loss: 0.3986 - val_accuracy: 0.8070\n",
      "Epoch 107/200\n",
      "455/455 [==============================] - 0s 28us/sample - loss: 0.3164 - accuracy: 0.8725 - val_loss: 0.3976 - val_accuracy: 0.7982\n",
      "Epoch 108/200\n"
     ]
    },
    {
     "name": "stdout",
     "output_type": "stream",
     "text": [
      "455/455 [==============================] - 0s 31us/sample - loss: 0.3174 - accuracy: 0.8747 - val_loss: 0.3968 - val_accuracy: 0.7895\n",
      "Epoch 109/200\n",
      "455/455 [==============================] - 0s 22us/sample - loss: 0.3154 - accuracy: 0.8681 - val_loss: 0.3962 - val_accuracy: 0.7982\n",
      "Epoch 110/200\n",
      "455/455 [==============================] - 0s 33us/sample - loss: 0.3145 - accuracy: 0.8747 - val_loss: 0.3937 - val_accuracy: 0.8158\n",
      "Epoch 111/200\n",
      "455/455 [==============================] - 0s 35us/sample - loss: 0.3154 - accuracy: 0.8681 - val_loss: 0.3943 - val_accuracy: 0.8158\n",
      "Epoch 112/200\n",
      "455/455 [==============================] - 0s 24us/sample - loss: 0.3163 - accuracy: 0.8637 - val_loss: 0.3996 - val_accuracy: 0.8246\n",
      "Epoch 113/200\n",
      "455/455 [==============================] - 0s 22us/sample - loss: 0.3285 - accuracy: 0.8571 - val_loss: 0.3917 - val_accuracy: 0.8158\n",
      "Epoch 114/200\n",
      "455/455 [==============================] - 0s 39us/sample - loss: 0.3269 - accuracy: 0.8637 - val_loss: 0.3932 - val_accuracy: 0.8070\n",
      "Epoch 115/200\n",
      "455/455 [==============================] - 0s 33us/sample - loss: 0.3156 - accuracy: 0.8725 - val_loss: 0.4002 - val_accuracy: 0.8246\n",
      "Epoch 116/200\n",
      "455/455 [==============================] - 0s 28us/sample - loss: 0.3192 - accuracy: 0.8637 - val_loss: 0.3894 - val_accuracy: 0.8509\n",
      "Epoch 117/200\n",
      "455/455 [==============================] - 0s 28us/sample - loss: 0.3129 - accuracy: 0.8659 - val_loss: 0.4029 - val_accuracy: 0.8158\n",
      "Epoch 118/200\n",
      "455/455 [==============================] - 0s 35us/sample - loss: 0.3104 - accuracy: 0.8637 - val_loss: 0.3899 - val_accuracy: 0.8509\n",
      "Epoch 119/200\n",
      "455/455 [==============================] - 0s 24us/sample - loss: 0.3173 - accuracy: 0.8681 - val_loss: 0.4019 - val_accuracy: 0.8158\n",
      "Epoch 120/200\n",
      "455/455 [==============================] - 0s 18us/sample - loss: 0.3116 - accuracy: 0.8659 - val_loss: 0.3870 - val_accuracy: 0.8421\n",
      "Epoch 121/200\n",
      "455/455 [==============================] - 0s 24us/sample - loss: 0.3189 - accuracy: 0.8725 - val_loss: 0.4023 - val_accuracy: 0.8158\n",
      "Epoch 122/200\n",
      "455/455 [==============================] - 0s 22us/sample - loss: 0.3248 - accuracy: 0.8571 - val_loss: 0.3863 - val_accuracy: 0.8333\n",
      "Epoch 123/200\n",
      "455/455 [==============================] - 0s 22us/sample - loss: 0.3349 - accuracy: 0.8593 - val_loss: 0.3897 - val_accuracy: 0.8333\n",
      "Epoch 124/200\n",
      "455/455 [==============================] - 0s 24us/sample - loss: 0.3087 - accuracy: 0.8703 - val_loss: 0.3899 - val_accuracy: 0.8333\n",
      "Epoch 125/200\n",
      "455/455 [==============================] - 0s 33us/sample - loss: 0.3113 - accuracy: 0.8747 - val_loss: 0.3883 - val_accuracy: 0.8333\n",
      "Epoch 126/200\n",
      "455/455 [==============================] - 0s 42us/sample - loss: 0.3192 - accuracy: 0.8637 - val_loss: 0.3844 - val_accuracy: 0.8509\n",
      "Epoch 127/200\n",
      "455/455 [==============================] - 0s 31us/sample - loss: 0.3159 - accuracy: 0.8703 - val_loss: 0.3841 - val_accuracy: 0.8333\n",
      "Epoch 128/200\n",
      "455/455 [==============================] - 0s 28us/sample - loss: 0.3057 - accuracy: 0.8791 - val_loss: 0.3830 - val_accuracy: 0.8421\n",
      "Epoch 129/200\n",
      "455/455 [==============================] - 0s 28us/sample - loss: 0.3049 - accuracy: 0.8769 - val_loss: 0.3854 - val_accuracy: 0.8333\n",
      "Epoch 130/200\n",
      "455/455 [==============================] - 0s 33us/sample - loss: 0.3074 - accuracy: 0.8725 - val_loss: 0.3821 - val_accuracy: 0.8421\n",
      "Epoch 131/200\n",
      "455/455 [==============================] - 0s 26us/sample - loss: 0.3047 - accuracy: 0.8791 - val_loss: 0.3811 - val_accuracy: 0.8509\n",
      "Epoch 132/200\n",
      "455/455 [==============================] - 0s 26us/sample - loss: 0.3083 - accuracy: 0.8813 - val_loss: 0.3967 - val_accuracy: 0.8158\n",
      "Epoch 133/200\n",
      "455/455 [==============================] - 0s 26us/sample - loss: 0.3057 - accuracy: 0.8681 - val_loss: 0.3801 - val_accuracy: 0.8509\n",
      "Epoch 134/200\n",
      "455/455 [==============================] - 0s 24us/sample - loss: 0.3157 - accuracy: 0.8659 - val_loss: 0.3812 - val_accuracy: 0.8421\n",
      "Epoch 135/200\n",
      "455/455 [==============================] - 0s 26us/sample - loss: 0.3032 - accuracy: 0.8813 - val_loss: 0.3788 - val_accuracy: 0.8509\n",
      "Epoch 136/200\n",
      "455/455 [==============================] - 0s 33us/sample - loss: 0.3044 - accuracy: 0.8835 - val_loss: 0.3818 - val_accuracy: 0.8333\n",
      "Epoch 137/200\n",
      "455/455 [==============================] - 0s 35us/sample - loss: 0.3021 - accuracy: 0.8725 - val_loss: 0.3828 - val_accuracy: 0.8421\n",
      "Epoch 138/200\n",
      "455/455 [==============================] - 0s 37us/sample - loss: 0.3076 - accuracy: 0.8637 - val_loss: 0.3772 - val_accuracy: 0.8509\n",
      "Epoch 139/200\n",
      "455/455 [==============================] - 0s 37us/sample - loss: 0.3125 - accuracy: 0.8703 - val_loss: 0.3796 - val_accuracy: 0.8333\n",
      "Epoch 140/200\n",
      "455/455 [==============================] - 0s 39us/sample - loss: 0.3020 - accuracy: 0.8747 - val_loss: 0.3760 - val_accuracy: 0.8596\n",
      "Epoch 141/200\n",
      "455/455 [==============================] - 0s 26us/sample - loss: 0.3019 - accuracy: 0.8747 - val_loss: 0.3765 - val_accuracy: 0.8596\n",
      "Epoch 142/200\n",
      "455/455 [==============================] - 0s 20us/sample - loss: 0.3019 - accuracy: 0.8725 - val_loss: 0.3782 - val_accuracy: 0.8333\n",
      "Epoch 143/200\n",
      "455/455 [==============================] - 0s 31us/sample - loss: 0.3007 - accuracy: 0.8835 - val_loss: 0.3745 - val_accuracy: 0.8596\n",
      "Epoch 144/200\n",
      "455/455 [==============================] - 0s 26us/sample - loss: 0.3011 - accuracy: 0.8747 - val_loss: 0.3781 - val_accuracy: 0.8333\n",
      "Epoch 145/200\n",
      "455/455 [==============================] - 0s 34us/sample - loss: 0.2995 - accuracy: 0.8791 - val_loss: 0.3747 - val_accuracy: 0.8596\n",
      "Epoch 146/200\n",
      "455/455 [==============================] - 0s 28us/sample - loss: 0.3007 - accuracy: 0.8725 - val_loss: 0.3771 - val_accuracy: 0.8333\n",
      "Epoch 147/200\n",
      "455/455 [==============================] - 0s 24us/sample - loss: 0.3013 - accuracy: 0.8769 - val_loss: 0.3742 - val_accuracy: 0.8596\n",
      "Epoch 148/200\n",
      "455/455 [==============================] - 0s 35us/sample - loss: 0.2989 - accuracy: 0.8769 - val_loss: 0.3731 - val_accuracy: 0.8596\n",
      "Epoch 149/200\n",
      "455/455 [==============================] - 0s 31us/sample - loss: 0.3047 - accuracy: 0.8703 - val_loss: 0.3773 - val_accuracy: 0.8421\n",
      "Epoch 150/200\n",
      "455/455 [==============================] - 0s 33us/sample - loss: 0.3092 - accuracy: 0.8615 - val_loss: 0.3723 - val_accuracy: 0.8596\n",
      "Epoch 151/200\n",
      "455/455 [==============================] - 0s 24us/sample - loss: 0.2980 - accuracy: 0.8791 - val_loss: 0.3712 - val_accuracy: 0.8596\n",
      "Epoch 152/200\n",
      "455/455 [==============================] - 0s 26us/sample - loss: 0.2969 - accuracy: 0.8835 - val_loss: 0.3727 - val_accuracy: 0.8421\n",
      "Epoch 153/200\n",
      "455/455 [==============================] - 0s 22us/sample - loss: 0.2968 - accuracy: 0.8769 - val_loss: 0.3745 - val_accuracy: 0.8333\n",
      "Epoch 154/200\n",
      "455/455 [==============================] - 0s 24us/sample - loss: 0.2976 - accuracy: 0.8747 - val_loss: 0.3695 - val_accuracy: 0.8596\n",
      "Epoch 155/200\n",
      "455/455 [==============================] - ETA: 0s - loss: 0.3795 - accuracy: 0.86 - 0s 33us/sample - loss: 0.2973 - accuracy: 0.8791 - val_loss: 0.3736 - val_accuracy: 0.8333\n",
      "Epoch 156/200\n",
      "455/455 [==============================] - 0s 31us/sample - loss: 0.3025 - accuracy: 0.8747 - val_loss: 0.3680 - val_accuracy: 0.8772\n",
      "Epoch 157/200\n",
      "455/455 [==============================] - 0s 20us/sample - loss: 0.3018 - accuracy: 0.8659 - val_loss: 0.3688 - val_accuracy: 0.8596\n",
      "Epoch 158/200\n",
      "455/455 [==============================] - 0s 22us/sample - loss: 0.2983 - accuracy: 0.8725 - val_loss: 0.3680 - val_accuracy: 0.8596\n",
      "Epoch 159/200\n",
      "455/455 [==============================] - 0s 26us/sample - loss: 0.3070 - accuracy: 0.8747 - val_loss: 0.3670 - val_accuracy: 0.8684\n",
      "Epoch 160/200\n",
      "455/455 [==============================] - 0s 37us/sample - loss: 0.3069 - accuracy: 0.8681 - val_loss: 0.3697 - val_accuracy: 0.8421\n",
      "Epoch 161/200\n",
      "455/455 [==============================] - 0s 28us/sample - loss: 0.3019 - accuracy: 0.8637 - val_loss: 0.3661 - val_accuracy: 0.8772\n",
      "Epoch 162/200\n",
      "455/455 [==============================] - 0s 31us/sample - loss: 0.2936 - accuracy: 0.8835 - val_loss: 0.3652 - val_accuracy: 0.8772\n",
      "Epoch 163/200\n"
     ]
    },
    {
     "name": "stdout",
     "output_type": "stream",
     "text": [
      "455/455 [==============================] - 0s 28us/sample - loss: 0.2970 - accuracy: 0.8857 - val_loss: 0.3683 - val_accuracy: 0.8421\n",
      "Epoch 164/200\n",
      "455/455 [==============================] - 0s 26us/sample - loss: 0.2973 - accuracy: 0.8791 - val_loss: 0.3661 - val_accuracy: 0.8596\n",
      "Epoch 165/200\n",
      "455/455 [==============================] - 0s 34us/sample - loss: 0.2935 - accuracy: 0.8769 - val_loss: 0.3642 - val_accuracy: 0.8772\n",
      "Epoch 166/200\n",
      "455/455 [==============================] - 0s 30us/sample - loss: 0.2920 - accuracy: 0.8901 - val_loss: 0.3694 - val_accuracy: 0.8421\n",
      "Epoch 167/200\n",
      "455/455 [==============================] - 0s 24us/sample - loss: 0.3002 - accuracy: 0.8703 - val_loss: 0.3667 - val_accuracy: 0.8509\n",
      "Epoch 168/200\n",
      "455/455 [==============================] - 0s 33us/sample - loss: 0.2948 - accuracy: 0.8747 - val_loss: 0.3778 - val_accuracy: 0.8246\n",
      "Epoch 169/200\n",
      "455/455 [==============================] - 0s 20us/sample - loss: 0.2936 - accuracy: 0.8747 - val_loss: 0.3625 - val_accuracy: 0.8772\n",
      "Epoch 170/200\n",
      "455/455 [==============================] - 0s 20us/sample - loss: 0.2941 - accuracy: 0.8835 - val_loss: 0.3758 - val_accuracy: 0.8246\n",
      "Epoch 171/200\n",
      "455/455 [==============================] - 0s 35us/sample - loss: 0.2918 - accuracy: 0.8725 - val_loss: 0.3612 - val_accuracy: 0.8772\n",
      "Epoch 172/200\n",
      "455/455 [==============================] - 0s 26us/sample - loss: 0.2945 - accuracy: 0.8857 - val_loss: 0.3773 - val_accuracy: 0.8246\n",
      "Epoch 173/200\n",
      "455/455 [==============================] - 0s 24us/sample - loss: 0.2969 - accuracy: 0.8725 - val_loss: 0.3609 - val_accuracy: 0.8772\n",
      "Epoch 174/200\n",
      "455/455 [==============================] - 0s 26us/sample - loss: 0.2935 - accuracy: 0.8725 - val_loss: 0.3716 - val_accuracy: 0.8333\n",
      "Epoch 175/200\n",
      "455/455 [==============================] - 0s 26us/sample - loss: 0.2964 - accuracy: 0.8703 - val_loss: 0.3602 - val_accuracy: 0.8772\n",
      "Epoch 176/200\n",
      "455/455 [==============================] - 0s 24us/sample - loss: 0.2907 - accuracy: 0.8791 - val_loss: 0.3648 - val_accuracy: 0.8333\n",
      "Epoch 177/200\n",
      "455/455 [==============================] - 0s 31us/sample - loss: 0.2897 - accuracy: 0.8813 - val_loss: 0.3589 - val_accuracy: 0.8772\n",
      "Epoch 178/200\n",
      "455/455 [==============================] - 0s 24us/sample - loss: 0.2934 - accuracy: 0.8769 - val_loss: 0.3583 - val_accuracy: 0.8772\n",
      "Epoch 179/200\n",
      "455/455 [==============================] - 0s 26us/sample - loss: 0.2886 - accuracy: 0.8879 - val_loss: 0.3615 - val_accuracy: 0.8509\n",
      "Epoch 180/200\n",
      "455/455 [==============================] - 0s 31us/sample - loss: 0.2881 - accuracy: 0.8813 - val_loss: 0.3597 - val_accuracy: 0.8509\n",
      "Epoch 181/200\n",
      "455/455 [==============================] - 0s 20us/sample - loss: 0.2867 - accuracy: 0.8879 - val_loss: 0.3580 - val_accuracy: 0.8596\n",
      "Epoch 182/200\n",
      "455/455 [==============================] - 0s 22us/sample - loss: 0.2885 - accuracy: 0.8857 - val_loss: 0.3571 - val_accuracy: 0.8772\n",
      "Epoch 183/200\n",
      "455/455 [==============================] - 0s 26us/sample - loss: 0.2863 - accuracy: 0.8835 - val_loss: 0.3577 - val_accuracy: 0.8596\n",
      "Epoch 184/200\n",
      "455/455 [==============================] - 0s 18us/sample - loss: 0.2867 - accuracy: 0.8879 - val_loss: 0.3569 - val_accuracy: 0.8596\n",
      "Epoch 185/200\n",
      "455/455 [==============================] - 0s 20us/sample - loss: 0.2862 - accuracy: 0.8923 - val_loss: 0.3573 - val_accuracy: 0.8509\n",
      "Epoch 186/200\n",
      "455/455 [==============================] - 0s 33us/sample - loss: 0.2897 - accuracy: 0.8769 - val_loss: 0.3585 - val_accuracy: 0.8509\n",
      "Epoch 187/200\n",
      "455/455 [==============================] - 0s 22us/sample - loss: 0.3043 - accuracy: 0.8659 - val_loss: 0.3569 - val_accuracy: 0.8684\n",
      "Epoch 188/200\n",
      "455/455 [==============================] - 0s 22us/sample - loss: 0.2959 - accuracy: 0.8703 - val_loss: 0.3644 - val_accuracy: 0.8333\n",
      "Epoch 189/200\n",
      "455/455 [==============================] - 0s 24us/sample - loss: 0.2919 - accuracy: 0.8725 - val_loss: 0.3534 - val_accuracy: 0.8772\n",
      "Epoch 190/200\n",
      "455/455 [==============================] - 0s 28us/sample - loss: 0.2943 - accuracy: 0.8747 - val_loss: 0.3539 - val_accuracy: 0.8772\n",
      "Epoch 191/200\n",
      "455/455 [==============================] - 0s 29us/sample - loss: 0.2992 - accuracy: 0.8703 - val_loss: 0.3590 - val_accuracy: 0.8333\n",
      "Epoch 192/200\n",
      "455/455 [==============================] - 0s 31us/sample - loss: 0.2916 - accuracy: 0.8747 - val_loss: 0.3523 - val_accuracy: 0.8772\n",
      "Epoch 193/200\n",
      "455/455 [==============================] - 0s 24us/sample - loss: 0.3237 - accuracy: 0.8659 - val_loss: 0.3967 - val_accuracy: 0.8070\n",
      "Epoch 194/200\n",
      "455/455 [==============================] - 0s 28us/sample - loss: 0.3160 - accuracy: 0.8637 - val_loss: 0.3739 - val_accuracy: 0.8509\n",
      "Epoch 195/200\n",
      "455/455 [==============================] - 0s 19us/sample - loss: 0.3075 - accuracy: 0.8637 - val_loss: 0.3731 - val_accuracy: 0.8246\n",
      "Epoch 196/200\n",
      "455/455 [==============================] - 0s 26us/sample - loss: 0.2920 - accuracy: 0.8791 - val_loss: 0.3574 - val_accuracy: 0.8684\n",
      "Epoch 197/200\n",
      "455/455 [==============================] - 0s 22us/sample - loss: 0.2893 - accuracy: 0.8835 - val_loss: 0.3563 - val_accuracy: 0.8421\n",
      "Epoch 198/200\n",
      "455/455 [==============================] - 0s 18us/sample - loss: 0.2823 - accuracy: 0.8879 - val_loss: 0.3513 - val_accuracy: 0.8772\n",
      "Epoch 199/200\n",
      "455/455 [==============================] - 0s 20us/sample - loss: 0.2807 - accuracy: 0.8813 - val_loss: 0.3730 - val_accuracy: 0.8246\n",
      "Epoch 200/200\n",
      "455/455 [==============================] - 0s 24us/sample - loss: 0.2901 - accuracy: 0.8835 - val_loss: 0.3616 - val_accuracy: 0.8596\n"
     ]
    },
    {
     "data": {
      "text/plain": [
       "<tensorflow.python.keras.callbacks.History at 0x172ce6bf5c8>"
      ]
     },
     "execution_count": 21,
     "metadata": {},
     "output_type": "execute_result"
    },
    {
     "data": {
      "application/javascript": [
       "\n",
       "            setTimeout(function() {\n",
       "                var nbb_cell_id = 21;\n",
       "                var nbb_unformatted_code = \"model.fit(\\n    X_train,\\n    y_train,\\n    validation_data=(X_test, y_test),\\n    batch_size=80,\\n    epochs=200,\\n    verbose=1,\\n)\";\n",
       "                var nbb_formatted_code = \"model.fit(\\n    X_train,\\n    y_train,\\n    validation_data=(X_test, y_test),\\n    batch_size=80,\\n    epochs=200,\\n    verbose=1,\\n)\";\n",
       "                var nbb_cells = Jupyter.notebook.get_cells();\n",
       "                for (var i = 0; i < nbb_cells.length; ++i) {\n",
       "                    if (nbb_cells[i].input_prompt_number == nbb_cell_id) {\n",
       "                        if (nbb_cells[i].get_text() == nbb_unformatted_code) {\n",
       "                             nbb_cells[i].set_text(nbb_formatted_code);\n",
       "                        }\n",
       "                        break;\n",
       "                    }\n",
       "                }\n",
       "            }, 500);\n",
       "            "
      ],
      "text/plain": [
       "<IPython.core.display.Javascript object>"
      ]
     },
     "metadata": {},
     "output_type": "display_data"
    }
   ],
   "source": [
    "model.fit(\n",
    "    X_train,\n",
    "    y_train,\n",
    "    validation_data=(X_test, y_test),\n",
    "    batch_size=80,\n",
    "    epochs=200,\n",
    "    verbose=1,\n",
    ")"
   ]
  },
  {
   "cell_type": "markdown",
   "metadata": {
    "colab_type": "text",
    "id": "ccJ-FDiAlJ5-"
   },
   "source": [
    "Report the accuracy of the test sample."
   ]
  },
  {
   "cell_type": "code",
   "execution_count": 23,
   "metadata": {
    "colab": {},
    "colab_type": "code",
    "id": "lS9eVCRAlJ5-"
   },
   "outputs": [
    {
     "name": "stdout",
     "output_type": "stream",
     "text": [
      "Model: \"sequential\"\n",
      "_________________________________________________________________\n",
      "Layer (type)                 Output Shape              Param #   \n",
      "=================================================================\n",
      "dense (Dense)                (None, 12)                132       \n",
      "_________________________________________________________________\n",
      "dense_1 (Dense)              (None, 10)                130       \n",
      "_________________________________________________________________\n",
      "dense_2 (Dense)              (None, 1)                 11        \n",
      "=================================================================\n",
      "Total params: 273\n",
      "Trainable params: 273\n",
      "Non-trainable params: 0\n",
      "_________________________________________________________________\n"
     ]
    },
    {
     "data": {
      "application/javascript": [
       "\n",
       "            setTimeout(function() {\n",
       "                var nbb_cell_id = 23;\n",
       "                var nbb_unformatted_code = \"# Answer below:\\nmodel.summary()\";\n",
       "                var nbb_formatted_code = \"# Answer below:\\nmodel.summary()\";\n",
       "                var nbb_cells = Jupyter.notebook.get_cells();\n",
       "                for (var i = 0; i < nbb_cells.length; ++i) {\n",
       "                    if (nbb_cells[i].input_prompt_number == nbb_cell_id) {\n",
       "                        if (nbb_cells[i].get_text() == nbb_unformatted_code) {\n",
       "                             nbb_cells[i].set_text(nbb_formatted_code);\n",
       "                        }\n",
       "                        break;\n",
       "                    }\n",
       "                }\n",
       "            }, 500);\n",
       "            "
      ],
      "text/plain": [
       "<IPython.core.display.Javascript object>"
      ]
     },
     "metadata": {},
     "output_type": "display_data"
    }
   ],
   "source": [
    "# Answer below:\n",
    "model.summary()\n"
   ]
  },
  {
   "cell_type": "code",
   "execution_count": 26,
   "metadata": {
    "colab": {},
    "colab_type": "code",
    "id": "b-LeTBenlJ6A"
   },
   "outputs": [
    {
     "name": "stdout",
     "output_type": "stream",
     "text": [
      "WARNING:tensorflow:Falling back from v2 loop because of error: Failed to find data adapter that can handle input: <class 'pandas.core.frame.DataFrame'>, <class 'NoneType'>\n",
      "114/114 [==============================] - 0s 31us/sample - loss: 0.3616 - accuracy: 0.8596\n",
      "Test Loss: 0.36156353302169264\n",
      "Test Acc: 0.8596491\n"
     ]
    },
    {
     "data": {
      "application/javascript": [
       "\n",
       "            setTimeout(function() {\n",
       "                var nbb_cell_id = 26;\n",
       "                var nbb_unformatted_code = \"score = model.evaluate(X_test, y_test, verbose=1)\\nprint(\\\"Test Loss:\\\", score[0])\\nprint(\\\"Test Acc:\\\", score[1])\";\n",
       "                var nbb_formatted_code = \"score = model.evaluate(X_test, y_test, verbose=1)\\nprint(\\\"Test Loss:\\\", score[0])\\nprint(\\\"Test Acc:\\\", score[1])\";\n",
       "                var nbb_cells = Jupyter.notebook.get_cells();\n",
       "                for (var i = 0; i < nbb_cells.length; ++i) {\n",
       "                    if (nbb_cells[i].input_prompt_number == nbb_cell_id) {\n",
       "                        if (nbb_cells[i].get_text() == nbb_unformatted_code) {\n",
       "                             nbb_cells[i].set_text(nbb_formatted_code);\n",
       "                        }\n",
       "                        break;\n",
       "                    }\n",
       "                }\n",
       "            }, 500);\n",
       "            "
      ],
      "text/plain": [
       "<IPython.core.display.Javascript object>"
      ]
     },
     "metadata": {},
     "output_type": "display_data"
    }
   ],
   "source": [
    "score = model.evaluate(X_test, y_test, verbose=1)\n",
    "print(\"Test Loss:\", score[0])\n",
    "print(\"Test Acc:\", score[1])"
   ]
  }
 ],
 "metadata": {
  "colab": {
   "collapsed_sections": [],
   "name": "Day 81 Lecture 2 Assignment.ipynb",
   "provenance": []
  },
  "kernelspec": {
   "display_name": "Python 3",
   "language": "python",
   "name": "python3"
  },
  "language_info": {
   "codemirror_mode": {
    "name": "ipython",
    "version": 3
   },
   "file_extension": ".py",
   "mimetype": "text/x-python",
   "name": "python",
   "nbconvert_exporter": "python",
   "pygments_lexer": "ipython3",
   "version": "3.7.6"
  }
 },
 "nbformat": 4,
 "nbformat_minor": 1
}
