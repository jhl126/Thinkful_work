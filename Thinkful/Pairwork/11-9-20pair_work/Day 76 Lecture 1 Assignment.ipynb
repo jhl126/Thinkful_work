{
 "cells": [
  {
   "cell_type": "markdown",
   "metadata": {
    "colab_type": "text",
    "id": "T-xOZ1mZ51O8"
   },
   "source": [
    "## Introduction to Deep Learning\n",
    "\n",
    "In this assignment, we will learn about deep learning and neural networks. Answer the questions below:"
   ]
  },
  {
   "cell_type": "markdown",
   "metadata": {
    "colab_type": "text",
    "id": "TUBtirr_51O-"
   },
   "source": [
    "#### 1. How do neural networks differ from linear models?"
   ]
  },
  {
   "cell_type": "markdown",
   "metadata": {},
   "source": [
    "Neural networks differ from linear models because there are many layers that go into the model where as linear models only consist of one layer"
   ]
  },
  {
   "cell_type": "markdown",
   "metadata": {
    "colab_type": "text",
    "id": "fGwHenMJ51O-"
   },
   "source": [
    "\n",
    "\n"
   ]
  },
  {
   "cell_type": "markdown",
   "metadata": {
    "colab_type": "text",
    "id": "tJF-uwtC51O_"
   },
   "source": [
    "#### 2. Why do deep networks outperform shallow networks?"
   ]
  },
  {
   "cell_type": "markdown",
   "metadata": {},
   "source": [
    "Deep networds are able to outperform shallow networks because there are many more layers for the model to learn from. They are able to discover complex patterns layer by layer"
   ]
  },
  {
   "cell_type": "markdown",
   "metadata": {
    "colab_type": "text",
    "id": "8asF2DFW51PA"
   },
   "source": [
    "#### 3. Why are dense layers called this way? What is a different name for them? Could we have a layer that is not dense?"
   ]
  },
  {
   "cell_type": "markdown",
   "metadata": {
    "colab_type": "text",
    "id": "05hZS0ea51PB"
   },
   "source": [
    "A dense layer is a fully connected layer where the nodes from the previous layer are connected to all the nodes in the current layer.\n",
    "\n",
    "There are other layers like Convolutional layers and Recurrent layers. Dense layers are used for Artificial Neural Networks (ANN), Convolutional layers are used for Convolutional Neural Networks (CNN), and Recurrent layers are used for Recurrent Neural Networks (RNN)."
   ]
  },
  {
   "cell_type": "markdown",
   "metadata": {
    "colab_type": "text",
    "id": "FAPTWoY251PB"
   },
   "source": [
    "#### 4. Do neural networks tend to overfit less than other models? If so, how?"
   ]
  },
  {
   "cell_type": "code",
   "execution_count": 0,
   "metadata": {
    "colab": {},
    "colab_type": "code",
    "id": "-qxTVXyc51PC"
   },
   "outputs": [],
   "source": [
    "\n",
    "\n"
   ]
  },
  {
   "cell_type": "markdown",
   "metadata": {
    "colab_type": "text",
    "id": "S0CALsKQ51PE"
   },
   "source": [
    "#### 5. Will a model with more hidden layers always have a more accurate prediction? Why or why not?"
   ]
  },
  {
   "cell_type": "code",
   "execution_count": 0,
   "metadata": {
    "colab": {},
    "colab_type": "code",
    "id": "DzhstMjg51PF"
   },
   "outputs": [],
   "source": [
    "\n",
    "\n"
   ]
  },
  {
   "cell_type": "markdown",
   "metadata": {
    "colab_type": "text",
    "id": "2qxJk3Km51PG"
   },
   "source": [
    "#### 6. We generate a neural network for a dataset 10 features. If we have three layers, the first with 64 nodes and the second and third with 32 nodes, how many parameters do we need to estimate?"
   ]
  },
  {
   "cell_type": "code",
   "execution_count": 4,
   "metadata": {
    "colab": {},
    "colab_type": "code",
    "id": "kKbl9Xq251PH"
   },
   "outputs": [
    {
     "data": {
      "text/plain": [
       "3840"
      ]
     },
     "execution_count": 4,
     "metadata": {},
     "output_type": "execute_result"
    }
   ],
   "source": [
    "l1 = (10 + 1) * 64\n",
    "l2 = (64 + 1) * 32\n",
    "l3 = (32 + 1) * 32\n",
    "l1 + l2 + l3"
   ]
  }
 ],
 "metadata": {
  "colab": {
   "collapsed_sections": [],
   "name": "Day 81 Lecture 1 Assignment.ipynb",
   "provenance": []
  },
  "kernelspec": {
   "display_name": "Python 3",
   "language": "python",
   "name": "python3"
  },
  "language_info": {
   "codemirror_mode": {
    "name": "ipython",
    "version": 3
   },
   "file_extension": ".py",
   "mimetype": "text/x-python",
   "name": "python",
   "nbconvert_exporter": "python",
   "pygments_lexer": "ipython3",
   "version": "3.7.6"
  }
 },
 "nbformat": 4,
 "nbformat_minor": 1
}
