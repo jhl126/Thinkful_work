{
 "cells": [
  {
   "cell_type": "code",
   "execution_count": 1,
   "metadata": {},
   "outputs": [
    {
     "data": {
      "application/javascript": [
       "\n",
       "            setTimeout(function() {\n",
       "                var nbb_cell_id = 1;\n",
       "                var nbb_unformatted_code = \"%reload_ext nb_black\";\n",
       "                var nbb_formatted_code = \"%reload_ext nb_black\";\n",
       "                var nbb_cells = Jupyter.notebook.get_cells();\n",
       "                for (var i = 0; i < nbb_cells.length; ++i) {\n",
       "                    if (nbb_cells[i].input_prompt_number == nbb_cell_id) {\n",
       "                        if (nbb_cells[i].get_text() == nbb_unformatted_code) {\n",
       "                             nbb_cells[i].set_text(nbb_formatted_code);\n",
       "                        }\n",
       "                        break;\n",
       "                    }\n",
       "                }\n",
       "            }, 500);\n",
       "            "
      ],
      "text/plain": [
       "<IPython.core.display.Javascript object>"
      ]
     },
     "metadata": {},
     "output_type": "display_data"
    }
   ],
   "source": [
    "%reload_ext nb_black"
   ]
  },
  {
   "cell_type": "markdown",
   "metadata": {
    "colab_type": "text",
    "id": "9gSTzCDSCgeC"
   },
   "source": [
    "# Text Vectorization and Feature Engineering Assignment"
   ]
  },
  {
   "cell_type": "code",
   "execution_count": 34,
   "metadata": {},
   "outputs": [
    {
     "name": "stdout",
     "output_type": "stream",
     "text": [
      "Collecting gensim\n",
      "  Downloading gensim-3.8.3-cp37-cp37m-win_amd64.whl (24.2 MB)\n",
      "Collecting Cython==0.29.14\n",
      "  Downloading Cython-0.29.14-cp37-cp37m-win_amd64.whl (1.7 MB)\n",
      "Collecting smart-open>=1.8.1\n",
      "  Downloading smart_open-3.0.0.tar.gz (113 kB)\n",
      "Requirement already satisfied: scipy>=0.18.1 in c:\\users\\jlim7\\anaconda3\\lib\\site-packages (from gensim) (1.4.1)\n",
      "Requirement already satisfied: numpy>=1.11.3 in c:\\users\\jlim7\\anaconda3\\lib\\site-packages (from gensim) (1.18.1)\n",
      "Requirement already satisfied: six>=1.5.0 in c:\\users\\jlim7\\anaconda3\\lib\\site-packages (from gensim) (1.14.0)\n",
      "Requirement already satisfied: requests in c:\\users\\jlim7\\anaconda3\\lib\\site-packages (from smart-open>=1.8.1->gensim) (2.22.0)\n",
      "Requirement already satisfied: chardet<3.1.0,>=3.0.2 in c:\\users\\jlim7\\anaconda3\\lib\\site-packages (from requests->smart-open>=1.8.1->gensim) (3.0.4)\n",
      "Requirement already satisfied: certifi>=2017.4.17 in c:\\users\\jlim7\\anaconda3\\lib\\site-packages (from requests->smart-open>=1.8.1->gensim) (2019.11.28)\n",
      "Requirement already satisfied: urllib3!=1.25.0,!=1.25.1,<1.26,>=1.21.1 in c:\\users\\jlim7\\anaconda3\\lib\\site-packages (from requests->smart-open>=1.8.1->gensim) (1.25.8)\n",
      "Requirement already satisfied: idna<2.9,>=2.5 in c:\\users\\jlim7\\anaconda3\\lib\\site-packages (from requests->smart-open>=1.8.1->gensim) (2.8)\n",
      "Building wheels for collected packages: smart-open\n",
      "  Building wheel for smart-open (setup.py): started\n",
      "  Building wheel for smart-open (setup.py): finished with status 'done'\n",
      "  Created wheel for smart-open: filename=smart_open-3.0.0-py3-none-any.whl size=107102 sha256=6bafcc5f9486e3e103b52a2fffb810b0c202691131a0f4caab73ae7a15459106\n",
      "  Stored in directory: c:\\users\\jlim7\\appdata\\local\\pip\\cache\\wheels\\83\\a6\\12\\bf3c1a667bde4251be5b7a3368b2d604c9af2105b5c1cb1870\n",
      "Successfully built smart-open\n",
      "Installing collected packages: Cython, smart-open, gensim\n",
      "  Attempting uninstall: Cython\n",
      "    Found existing installation: Cython 0.29.15\n",
      "    Uninstalling Cython-0.29.15:\n",
      "      Successfully uninstalled Cython-0.29.15\n",
      "Successfully installed Cython-0.29.14 gensim-3.8.3 smart-open-3.0.0\n"
     ]
    },
    {
     "data": {
      "application/javascript": [
       "\n",
       "            setTimeout(function() {\n",
       "                var nbb_cell_id = 34;\n",
       "                var nbb_unformatted_code = \"!pip install gensim\";\n",
       "                var nbb_formatted_code = \"!pip install gensim\";\n",
       "                var nbb_cells = Jupyter.notebook.get_cells();\n",
       "                for (var i = 0; i < nbb_cells.length; ++i) {\n",
       "                    if (nbb_cells[i].input_prompt_number == nbb_cell_id) {\n",
       "                        if (nbb_cells[i].get_text() == nbb_unformatted_code) {\n",
       "                             nbb_cells[i].set_text(nbb_formatted_code);\n",
       "                        }\n",
       "                        break;\n",
       "                    }\n",
       "                }\n",
       "            }, 500);\n",
       "            "
      ],
      "text/plain": [
       "<IPython.core.display.Javascript object>"
      ]
     },
     "metadata": {},
     "output_type": "display_data"
    }
   ],
   "source": [
    "!pip install gensim"
   ]
  },
  {
   "cell_type": "code",
   "execution_count": 35,
   "metadata": {
    "colab": {},
    "colab_type": "code",
    "id": "gunVMV4FCgeF"
   },
   "outputs": [
    {
     "data": {
      "application/javascript": [
       "\n",
       "            setTimeout(function() {\n",
       "                var nbb_cell_id = 35;\n",
       "                var nbb_unformatted_code = \"import pandas as pd\\nimport requests\\nfrom bs4 import BeautifulSoup\\nfrom nltk import sent_tokenize\\nfrom nltk import word_tokenize\\nfrom nltk.corpus import stopwords\\nfrom nltk.stem.snowball import SnowballStemmer\\nfrom nltk.stem.wordnet import WordNetLemmatizer\\nfrom nltk.corpus.reader.plaintext import PlaintextCorpusReader\\nfrom sklearn.feature_extraction.text import CountVectorizer, TfidfVectorizer\\nfrom gensim.models.doc2vec import Doc2Vec, TaggedDocument\";\n",
       "                var nbb_formatted_code = \"import pandas as pd\\nimport requests\\nfrom bs4 import BeautifulSoup\\nfrom nltk import sent_tokenize\\nfrom nltk import word_tokenize\\nfrom nltk.corpus import stopwords\\nfrom nltk.stem.snowball import SnowballStemmer\\nfrom nltk.stem.wordnet import WordNetLemmatizer\\nfrom nltk.corpus.reader.plaintext import PlaintextCorpusReader\\nfrom sklearn.feature_extraction.text import CountVectorizer, TfidfVectorizer\\nfrom gensim.models.doc2vec import Doc2Vec, TaggedDocument\";\n",
       "                var nbb_cells = Jupyter.notebook.get_cells();\n",
       "                for (var i = 0; i < nbb_cells.length; ++i) {\n",
       "                    if (nbb_cells[i].input_prompt_number == nbb_cell_id) {\n",
       "                        if (nbb_cells[i].get_text() == nbb_unformatted_code) {\n",
       "                             nbb_cells[i].set_text(nbb_formatted_code);\n",
       "                        }\n",
       "                        break;\n",
       "                    }\n",
       "                }\n",
       "            }, 500);\n",
       "            "
      ],
      "text/plain": [
       "<IPython.core.display.Javascript object>"
      ]
     },
     "metadata": {},
     "output_type": "display_data"
    }
   ],
   "source": [
    "import pandas as pd\n",
    "import requests\n",
    "from bs4 import BeautifulSoup\n",
    "from nltk import sent_tokenize\n",
    "from nltk import word_tokenize\n",
    "from nltk.corpus import stopwords\n",
    "from nltk.stem.snowball import SnowballStemmer\n",
    "from nltk.stem.wordnet import WordNetLemmatizer\n",
    "from nltk.corpus.reader.plaintext import PlaintextCorpusReader\n",
    "from sklearn.feature_extraction.text import CountVectorizer, TfidfVectorizer\n",
    "from gensim.models.doc2vec import Doc2Vec, TaggedDocument"
   ]
  },
  {
   "cell_type": "markdown",
   "metadata": {
    "colab_type": "text",
    "id": "Tra0ZNCICgeI"
   },
   "source": [
    "### Read the CNN Lite plain text file articles into a corpus using the NLTK's PlaintextCorpusReader."
   ]
  },
  {
   "cell_type": "code",
   "execution_count": 3,
   "metadata": {
    "colab": {},
    "colab_type": "code",
    "id": "iVzAYR4CCgeJ"
   },
   "outputs": [
    {
     "data": {
      "application/javascript": [
       "\n",
       "            setTimeout(function() {\n",
       "                var nbb_cell_id = 3;\n",
       "                var nbb_unformatted_code = \"articles = ['http://lite.cnn.io/en/article/h_eac18760a7a7f9a1bf33616f1c4a336d',\\n            'http://lite.cnn.io/en/article/h_de3f82f17d289680dd2b47c6413ebe7c',\\n            'http://lite.cnn.io/en/article/h_72f4dc9d6f35458a89af014b62e625ad',\\n            'http://lite.cnn.io/en/article/h_aa21fe6bf176071cb49e09d422c3adf0',\\n            'http://lite.cnn.io/en/article/h_8ad34a532921c9076cdc9d7390d2f1bc',\\n            'http://lite.cnn.io/en/article/h_84422c79110d9989177cfaf1c5f45fe7',\\n            'http://lite.cnn.io/en/article/h_d010d9580abac3a44c6181ec6fb63d58',\\n            'http://lite.cnn.io/en/article/h_fb11f4e9d7c5323e75b337d9e9e5e368',\\n            'http://lite.cnn.io/en/article/h_7b27f0b131067f8ece6238ac559670ab',\\n            'http://lite.cnn.io/en/article/h_8cae7f735fa9573d470f802063ceffe2',\\n            'http://lite.cnn.io/en/article/h_72c3668280e82576fcc2602b0fa70c14',\\n            'http://lite.cnn.io/en/article/h_d20658fb0e20212051cda0e0a7248c8a',\\n            'http://lite.cnn.io/en/article/h_56611c43d7928120d2ae21666ccc7417',\\n            'http://lite.cnn.io/en/article/h_bda0394e3c5ee7054ee65c022bca7695']\";\n",
       "                var nbb_formatted_code = \"articles = [\\n    \\\"http://lite.cnn.io/en/article/h_eac18760a7a7f9a1bf33616f1c4a336d\\\",\\n    \\\"http://lite.cnn.io/en/article/h_de3f82f17d289680dd2b47c6413ebe7c\\\",\\n    \\\"http://lite.cnn.io/en/article/h_72f4dc9d6f35458a89af014b62e625ad\\\",\\n    \\\"http://lite.cnn.io/en/article/h_aa21fe6bf176071cb49e09d422c3adf0\\\",\\n    \\\"http://lite.cnn.io/en/article/h_8ad34a532921c9076cdc9d7390d2f1bc\\\",\\n    \\\"http://lite.cnn.io/en/article/h_84422c79110d9989177cfaf1c5f45fe7\\\",\\n    \\\"http://lite.cnn.io/en/article/h_d010d9580abac3a44c6181ec6fb63d58\\\",\\n    \\\"http://lite.cnn.io/en/article/h_fb11f4e9d7c5323e75b337d9e9e5e368\\\",\\n    \\\"http://lite.cnn.io/en/article/h_7b27f0b131067f8ece6238ac559670ab\\\",\\n    \\\"http://lite.cnn.io/en/article/h_8cae7f735fa9573d470f802063ceffe2\\\",\\n    \\\"http://lite.cnn.io/en/article/h_72c3668280e82576fcc2602b0fa70c14\\\",\\n    \\\"http://lite.cnn.io/en/article/h_d20658fb0e20212051cda0e0a7248c8a\\\",\\n    \\\"http://lite.cnn.io/en/article/h_56611c43d7928120d2ae21666ccc7417\\\",\\n    \\\"http://lite.cnn.io/en/article/h_bda0394e3c5ee7054ee65c022bca7695\\\",\\n]\";\n",
       "                var nbb_cells = Jupyter.notebook.get_cells();\n",
       "                for (var i = 0; i < nbb_cells.length; ++i) {\n",
       "                    if (nbb_cells[i].input_prompt_number == nbb_cell_id) {\n",
       "                        if (nbb_cells[i].get_text() == nbb_unformatted_code) {\n",
       "                             nbb_cells[i].set_text(nbb_formatted_code);\n",
       "                        }\n",
       "                        break;\n",
       "                    }\n",
       "                }\n",
       "            }, 500);\n",
       "            "
      ],
      "text/plain": [
       "<IPython.core.display.Javascript object>"
      ]
     },
     "metadata": {},
     "output_type": "display_data"
    }
   ],
   "source": [
    "articles = [\n",
    "    \"http://lite.cnn.io/en/article/h_eac18760a7a7f9a1bf33616f1c4a336d\",\n",
    "    \"http://lite.cnn.io/en/article/h_de3f82f17d289680dd2b47c6413ebe7c\",\n",
    "    \"http://lite.cnn.io/en/article/h_72f4dc9d6f35458a89af014b62e625ad\",\n",
    "    \"http://lite.cnn.io/en/article/h_aa21fe6bf176071cb49e09d422c3adf0\",\n",
    "    \"http://lite.cnn.io/en/article/h_8ad34a532921c9076cdc9d7390d2f1bc\",\n",
    "    \"http://lite.cnn.io/en/article/h_84422c79110d9989177cfaf1c5f45fe7\",\n",
    "    \"http://lite.cnn.io/en/article/h_d010d9580abac3a44c6181ec6fb63d58\",\n",
    "    \"http://lite.cnn.io/en/article/h_fb11f4e9d7c5323e75b337d9e9e5e368\",\n",
    "    \"http://lite.cnn.io/en/article/h_7b27f0b131067f8ece6238ac559670ab\",\n",
    "    \"http://lite.cnn.io/en/article/h_8cae7f735fa9573d470f802063ceffe2\",\n",
    "    \"http://lite.cnn.io/en/article/h_72c3668280e82576fcc2602b0fa70c14\",\n",
    "    \"http://lite.cnn.io/en/article/h_d20658fb0e20212051cda0e0a7248c8a\",\n",
    "    \"http://lite.cnn.io/en/article/h_56611c43d7928120d2ae21666ccc7417\",\n",
    "    \"http://lite.cnn.io/en/article/h_bda0394e3c5ee7054ee65c022bca7695\",\n",
    "]"
   ]
  },
  {
   "cell_type": "code",
   "execution_count": 4,
   "metadata": {},
   "outputs": [
    {
     "data": {
      "application/javascript": [
       "\n",
       "            setTimeout(function() {\n",
       "                var nbb_cell_id = 4;\n",
       "                var nbb_unformatted_code = \"def html_to_text(html):\\n    TAGS = ['h1', 'h2', 'h3', 'h4', 'h5', 'h6', 'h7', 'p', 'li']\\n\\n    soup = BeautifulSoup(html, \\\"lxml\\\")\\n    text_list = [tag.get_text() for tag in soup.find_all(TAGS)]\\n    text = ' '.join(text_list)\\n    return text\";\n",
       "                var nbb_formatted_code = \"def html_to_text(html):\\n    TAGS = [\\\"h1\\\", \\\"h2\\\", \\\"h3\\\", \\\"h4\\\", \\\"h5\\\", \\\"h6\\\", \\\"h7\\\", \\\"p\\\", \\\"li\\\"]\\n\\n    soup = BeautifulSoup(html, \\\"lxml\\\")\\n    text_list = [tag.get_text() for tag in soup.find_all(TAGS)]\\n    text = \\\" \\\".join(text_list)\\n    return text\";\n",
       "                var nbb_cells = Jupyter.notebook.get_cells();\n",
       "                for (var i = 0; i < nbb_cells.length; ++i) {\n",
       "                    if (nbb_cells[i].input_prompt_number == nbb_cell_id) {\n",
       "                        if (nbb_cells[i].get_text() == nbb_unformatted_code) {\n",
       "                             nbb_cells[i].set_text(nbb_formatted_code);\n",
       "                        }\n",
       "                        break;\n",
       "                    }\n",
       "                }\n",
       "            }, 500);\n",
       "            "
      ],
      "text/plain": [
       "<IPython.core.display.Javascript object>"
      ]
     },
     "metadata": {},
     "output_type": "display_data"
    }
   ],
   "source": [
    "def html_to_text(html):\n",
    "    TAGS = [\"h1\", \"h2\", \"h3\", \"h4\", \"h5\", \"h6\", \"h7\", \"p\", \"li\"]\n",
    "\n",
    "    soup = BeautifulSoup(html, \"lxml\")\n",
    "    text_list = [tag.get_text() for tag in soup.find_all(TAGS)]\n",
    "    text = \" \".join(text_list)\n",
    "    return text"
   ]
  },
  {
   "cell_type": "code",
   "execution_count": 5,
   "metadata": {},
   "outputs": [
    {
     "data": {
      "application/javascript": [
       "\n",
       "            setTimeout(function() {\n",
       "                var nbb_cell_id = 5;\n",
       "                var nbb_unformatted_code = \"!mkdir news_articles\";\n",
       "                var nbb_formatted_code = \"!mkdir news_articles\";\n",
       "                var nbb_cells = Jupyter.notebook.get_cells();\n",
       "                for (var i = 0; i < nbb_cells.length; ++i) {\n",
       "                    if (nbb_cells[i].input_prompt_number == nbb_cell_id) {\n",
       "                        if (nbb_cells[i].get_text() == nbb_unformatted_code) {\n",
       "                             nbb_cells[i].set_text(nbb_formatted_code);\n",
       "                        }\n",
       "                        break;\n",
       "                    }\n",
       "                }\n",
       "            }, 500);\n",
       "            "
      ],
      "text/plain": [
       "<IPython.core.display.Javascript object>"
      ]
     },
     "metadata": {},
     "output_type": "display_data"
    }
   ],
   "source": [
    "!mkdir news_articles"
   ]
  },
  {
   "cell_type": "code",
   "execution_count": 10,
   "metadata": {},
   "outputs": [
    {
     "data": {
      "application/javascript": [
       "\n",
       "            setTimeout(function() {\n",
       "                var nbb_cell_id = 10;\n",
       "                var nbb_unformatted_code = \"path = \\\"./news_articles/\\\"\\n\\nfor index, url in enumerate(articles):\\n    response = requests.get(url)\\n    html = response.text\\n    text = html_to_text(html)\\n\\n    with open(path + \\\"article_\\\" + str(index) + \\\".txt\\\", \\\"wb\\\") as f:\\n        f.write(text.encode())\";\n",
       "                var nbb_formatted_code = \"path = \\\"./news_articles/\\\"\\n\\nfor index, url in enumerate(articles):\\n    response = requests.get(url)\\n    html = response.text\\n    text = html_to_text(html)\\n\\n    with open(path + \\\"article_\\\" + str(index) + \\\".txt\\\", \\\"wb\\\") as f:\\n        f.write(text.encode())\";\n",
       "                var nbb_cells = Jupyter.notebook.get_cells();\n",
       "                for (var i = 0; i < nbb_cells.length; ++i) {\n",
       "                    if (nbb_cells[i].input_prompt_number == nbb_cell_id) {\n",
       "                        if (nbb_cells[i].get_text() == nbb_unformatted_code) {\n",
       "                             nbb_cells[i].set_text(nbb_formatted_code);\n",
       "                        }\n",
       "                        break;\n",
       "                    }\n",
       "                }\n",
       "            }, 500);\n",
       "            "
      ],
      "text/plain": [
       "<IPython.core.display.Javascript object>"
      ]
     },
     "metadata": {},
     "output_type": "display_data"
    }
   ],
   "source": [
    "path = \"./news_articles/\"\n",
    "\n",
    "for index, url in enumerate(articles):\n",
    "    response = requests.get(url)\n",
    "    html = response.text\n",
    "    text = html_to_text(html)\n",
    "\n",
    "    with open(path + \"article_\" + str(index) + \".txt\", \"wb\") as f:\n",
    "        f.write(text.encode())"
   ]
  },
  {
   "cell_type": "code",
   "execution_count": 11,
   "metadata": {},
   "outputs": [
    {
     "data": {
      "application/javascript": [
       "\n",
       "            setTimeout(function() {\n",
       "                var nbb_cell_id = 11;\n",
       "                var nbb_unformatted_code = \"from nltk.corpus.reader.plaintext import PlaintextCorpusReader\\n\\nDOC_PATTERN = r'.*\\\\.txt'\\nnews_corpus = PlaintextCorpusReader('news_articles', DOC_PATTERN)\";\n",
       "                var nbb_formatted_code = \"from nltk.corpus.reader.plaintext import PlaintextCorpusReader\\n\\nDOC_PATTERN = r\\\".*\\\\.txt\\\"\\nnews_corpus = PlaintextCorpusReader(\\\"news_articles\\\", DOC_PATTERN)\";\n",
       "                var nbb_cells = Jupyter.notebook.get_cells();\n",
       "                for (var i = 0; i < nbb_cells.length; ++i) {\n",
       "                    if (nbb_cells[i].input_prompt_number == nbb_cell_id) {\n",
       "                        if (nbb_cells[i].get_text() == nbb_unformatted_code) {\n",
       "                             nbb_cells[i].set_text(nbb_formatted_code);\n",
       "                        }\n",
       "                        break;\n",
       "                    }\n",
       "                }\n",
       "            }, 500);\n",
       "            "
      ],
      "text/plain": [
       "<IPython.core.display.Javascript object>"
      ]
     },
     "metadata": {},
     "output_type": "display_data"
    }
   ],
   "source": [
    "from nltk.corpus.reader.plaintext import PlaintextCorpusReader\n",
    "\n",
    "DOC_PATTERN = r\".*\\.txt\"\n",
    "news_corpus = PlaintextCorpusReader(\"news_articles\", DOC_PATTERN)"
   ]
  },
  {
   "cell_type": "code",
   "execution_count": 12,
   "metadata": {},
   "outputs": [
    {
     "name": "stdout",
     "output_type": "stream",
     "text": [
      "Corpus Statistics\n",
      "Number of documents: 14\n",
      "Number of paragraphs: 14\n",
      "Number of sentences: 590\n",
      "Number of words: 14159\n",
      "Vocabulary: 2914\n",
      "Avg chars per word: 5.0\n",
      "Avg words per sentence: 24.0\n"
     ]
    },
    {
     "data": {
      "application/javascript": [
       "\n",
       "            setTimeout(function() {\n",
       "                var nbb_cell_id = 12;\n",
       "                var nbb_unformatted_code = \"def corpus_stats(corpus):\\n    print(\\\"Corpus Statistics\\\")\\n    print(\\\"Number of documents: \\\" + str(len(corpus.fileids())))\\n    print(\\\"Number of paragraphs: \\\" + str(len(corpus.paras())))\\n    print(\\\"Number of sentences: \\\" + str(len(corpus.sents())))\\n    print(\\\"Number of words: \\\" + str(len(corpus.words())))\\n    print(\\\"Vocabulary: \\\" + str(len(set(w.lower() for w in corpus.words()))))\\n    print(\\\"Avg chars per word: \\\" + str(round(len(corpus.raw())/len(corpus.words()),1)))\\n    print(\\\"Avg words per sentence: \\\" + str(round(len(corpus.words())/len(corpus.sents()),1)))\\ncorpus_stats(news_corpus)\";\n",
       "                var nbb_formatted_code = \"def corpus_stats(corpus):\\n    print(\\\"Corpus Statistics\\\")\\n    print(\\\"Number of documents: \\\" + str(len(corpus.fileids())))\\n    print(\\\"Number of paragraphs: \\\" + str(len(corpus.paras())))\\n    print(\\\"Number of sentences: \\\" + str(len(corpus.sents())))\\n    print(\\\"Number of words: \\\" + str(len(corpus.words())))\\n    print(\\\"Vocabulary: \\\" + str(len(set(w.lower() for w in corpus.words()))))\\n    print(\\n        \\\"Avg chars per word: \\\" + str(round(len(corpus.raw()) / len(corpus.words()), 1))\\n    )\\n    print(\\n        \\\"Avg words per sentence: \\\"\\n        + str(round(len(corpus.words()) / len(corpus.sents()), 1))\\n    )\\n\\n\\ncorpus_stats(news_corpus)\";\n",
       "                var nbb_cells = Jupyter.notebook.get_cells();\n",
       "                for (var i = 0; i < nbb_cells.length; ++i) {\n",
       "                    if (nbb_cells[i].input_prompt_number == nbb_cell_id) {\n",
       "                        if (nbb_cells[i].get_text() == nbb_unformatted_code) {\n",
       "                             nbb_cells[i].set_text(nbb_formatted_code);\n",
       "                        }\n",
       "                        break;\n",
       "                    }\n",
       "                }\n",
       "            }, 500);\n",
       "            "
      ],
      "text/plain": [
       "<IPython.core.display.Javascript object>"
      ]
     },
     "metadata": {},
     "output_type": "display_data"
    }
   ],
   "source": [
    "def corpus_stats(corpus):\n",
    "    print(\"Corpus Statistics\")\n",
    "    print(\"Number of documents: \" + str(len(corpus.fileids())))\n",
    "    print(\"Number of paragraphs: \" + str(len(corpus.paras())))\n",
    "    print(\"Number of sentences: \" + str(len(corpus.sents())))\n",
    "    print(\"Number of words: \" + str(len(corpus.words())))\n",
    "    print(\"Vocabulary: \" + str(len(set(w.lower() for w in corpus.words()))))\n",
    "    print(\n",
    "        \"Avg chars per word: \" + str(round(len(corpus.raw()) / len(corpus.words()), 1))\n",
    "    )\n",
    "    print(\n",
    "        \"Avg words per sentence: \"\n",
    "        + str(round(len(corpus.words()) / len(corpus.sents()), 1))\n",
    "    )\n",
    "\n",
    "\n",
    "corpus_stats(news_corpus)"
   ]
  },
  {
   "cell_type": "markdown",
   "metadata": {
    "colab_type": "text",
    "id": "BmAR8xjPCgeM"
   },
   "source": [
    "### Iterate through the fileids in the corpus, extract the raw text of each document, and store them in a list."
   ]
  },
  {
   "cell_type": "code",
   "execution_count": 13,
   "metadata": {
    "colab": {},
    "colab_type": "code",
    "id": "e9k2CshRCgeM"
   },
   "outputs": [
    {
     "data": {
      "application/javascript": [
       "\n",
       "            setTimeout(function() {\n",
       "                var nbb_cell_id = 13;\n",
       "                var nbb_unformatted_code = \"docs = [news_corpus.raw(file_id) for file_id in news_corpus.fileids()]\";\n",
       "                var nbb_formatted_code = \"docs = [news_corpus.raw(file_id) for file_id in news_corpus.fileids()]\";\n",
       "                var nbb_cells = Jupyter.notebook.get_cells();\n",
       "                for (var i = 0; i < nbb_cells.length; ++i) {\n",
       "                    if (nbb_cells[i].input_prompt_number == nbb_cell_id) {\n",
       "                        if (nbb_cells[i].get_text() == nbb_unformatted_code) {\n",
       "                             nbb_cells[i].set_text(nbb_formatted_code);\n",
       "                        }\n",
       "                        break;\n",
       "                    }\n",
       "                }\n",
       "            }, 500);\n",
       "            "
      ],
      "text/plain": [
       "<IPython.core.display.Javascript object>"
      ]
     },
     "metadata": {},
     "output_type": "display_data"
    }
   ],
   "source": [
    "docs = [news_corpus.raw(file_id) for file_id in news_corpus.fileids()]"
   ]
  },
  {
   "cell_type": "markdown",
   "metadata": {
    "colab_type": "text",
    "id": "rhj0bcsqCgeO"
   },
   "source": [
    "### Preprocess and clean the documents according to the steps below.\n",
    "\n",
    "- Word Tokenize\n",
    "- Lowercase\n",
    "- Remove Stopwords\n",
    "- Remove Punctuation\n",
    "- Lemmatize\n",
    "- Stem"
   ]
  },
  {
   "cell_type": "code",
   "execution_count": 14,
   "metadata": {
    "colab": {},
    "colab_type": "code",
    "collapsed": true,
    "id": "-_-hyZd6CgeP"
   },
   "outputs": [
    {
     "name": "stdout",
     "output_type": "stream",
     "text": [
      "['Pink', 'taking', 'a', 'break', 'to', 'focus', 'on', 'family', '(', 'CNN', ')', '-', 'Pink', 'has', 'been', 'working', 'pretty', 'hard', 'and', 'it', 'sounds', 'like', 'she', 'will', 'be', 'taking', 'a', 'step', 'back', 'in', '2020', '.', 'Speaking', 'with', '``', 'Entertainment', 'Tonight', \"''\", 'on', 'the', 'Country', 'Music', 'Association', 'Awards', 'red', 'carpet', ',', 'the', 'singer', 'was', 'joined', 'by', 'her', 'husband', ',', 'Carey', 'Hart', ',', 'and', 'their', 'kids', 'Willow', ',', '8', ',', 'and', 'Jameson', ',', '2', '.', 'Pink', 'was', 'there', 'to', 'perform', 'her', 'song', '``', 'Love', 'Me', 'Anyway', \"''\", 'with', 'country', 'star', 'Chris', 'Stapleton', ',', 'and', 'she', 'talked', 'about', 'how', 'hectic', 'things', 'have', 'been', '.', '``', 'We', 'did', 'two', 'and', 'a', 'half', 'years', 'of', '[', 'music', ']', 'and', 'Willow', \"'s\", 'back', 'in', 'school', 'now', ',', 'Jameson', \"'s\", 'going', 'to', 'start', 'pre-school', 'soon', ',', \"''\", 'Pink', 'said', '.', '``', 'It', \"'s\", 'kind', 'of', 'the', 'year', 'of', 'the', 'family', '.', \"''\", 'The', 'star', 'also', 'praised', 'her', 'husband', ',', 'with', 'whom', 'she', 'will', 'celebrate', '14', 'years', 'of', 'marriage', 'in', 'January', '.', '``', 'Carey', 'has', 'a', 'lot', 'going', 'on', 'as', 'well', ',', \"''\", 'she', 'said', 'of', 'Hart', ',', 'who', 'went', 'from', 'being', 'a', 'professional', 'motocross', 'competitor', 'to', 'racing', 'off-road', 'trucks', '.', '``', 'He', \"'s\", 'super', 'supportive', ',', 'he', 'follows', 'me', 'around', 'the', 'world', 'and', 'now', 'it', \"'s\", 'his', 'turn', '.', \"''\", 'According', 'to', 'Billboard', ',', 'Pink', \"'s\", 'Beautiful', 'Trauma', 'Tour', 'ranks', 'as', 'the', '10th', 'highest-grossing', 'tour', 'of', 'all', 'time', ',', 'earning', 'more', 'than', '$', '397', 'million', '.', '©', '2019', 'Cable', 'News', 'Network', '.', 'Turner', 'Broadcasting', 'System', ',', 'Inc.', 'All', 'Rights', 'Reserved', '.', 'Listen', 'to', 'CNN', '(', 'low-bandwidth', 'usage', ')', 'Go', 'to', 'the', 'full', 'CNN', 'experience']\n",
      "['Deval', 'Patrick', 'tells', 'allies', 'he', \"'s\", 'running', 'for', 'president', '(', 'CNN', ')', '-', 'Former', 'Massachusetts', 'Gov', '.', 'Deval', 'Patrick', 'told', 'friends', 'and', 'allies', 'in', 'phone', 'calls', 'on', 'Wednesday', 'that', 'he', 'has', 'made', 'a', 'decision', 'to', 'run', 'for', 'president', ',', 'two', 'people', 'familiar', 'with', 'the', 'matter', 'say', '.', 'Plans', 'for', 'the', 'timing', 'of', 'his', 'formal', 'announcement', 'were', 'still', 'in', 'flux', 'Wednesday', ',', 'with', 'attention', 'on', 'impeachment', ',', 'but', 'a', 'source', 'familiar', 'with', 'the', 'plans', 'tells', 'CNN', 'that', 'Patrick', 'will', 'officially', 'file', 'for', 'the', 'New', 'Hampshire', 'primary', 'on', 'Thursday', 'in', 'Concord', 'after', 'he', 'appears', 'on', '``', 'CBS', 'This', 'Morning', '.', \"''\", 'The', 'odds', 'could', 'be', 'incredibly', 'steep', 'for', 'a', 'late', 'entrant', 'like', 'Patrick', ',', 'who', 'is', 'not', 'well', 'known', 'nationally', 'and', 'does', 'not', 'have', 'personal', 'wealth', 'to', 'finance', 'a', 'campaign', '.', 'Patrick', 'has', 'missed', 'the', 'deadline', 'to', 'appear', 'on', 'the', 'primary', 'ballot', 'in', 'Alabama', 'and', 'Arkansas', '.', 'The', 'deadline', 'to', 'file', 'in', 'New', 'Hampshire', 'is', 'Friday', '.', 'Patrick', 'could', 'seize', 'upon', 'potential', 'advantages', 'in', 'early-voting', 'states', ':', 'He', 'is', 'from', 'Massachusetts', ',', 'which', 'is', 'next', 'door', 'to', 'New', 'Hampshire', ',', 'home', 'of', 'the', 'first-in-the-nation', 'primary', '.', 'And', 'being', 'one', 'of', 'the', 'country', \"'s\", 'first', 'African', 'American', 'governors', 'could', 'be', 'politically', 'beneficial', 'in', 'South', 'Carolina', ',', 'where', 'a', 'majority', 'of', 'Democratic', 'primary', 'voters', 'are', 'black', '.', 'CNN', 'reported', 'on', 'Monday', 'that', 'Patrick', 'was', 'seriously', 'weighing', 'whether', 'he', 'could', 'make', 'a', 'credible', 'last-minute', 'entry', 'into', 'the', 'Democratic', 'Party', \"'s\", 'crowded', 'primary', 'contest', 'after', 'previously', 'ruling', 'out', 'a', 'bid', 'late', 'last', 'year', '.', 'The', 'conversations', 'began', 'before', 'former', 'New', 'York', 'City', 'Mayor', 'Michael', 'Bloomberg', 'stepped', 'forward', 'last', 'week', 'to', 'tease', 'a', 'possible', 'run', '.', 'Patrick', 'told', 'friends', 'he', 'regrets', 'not', 'moving', 'forward', 'with', 'a', '2020', 'campaign', 'earlier', 'this', 'year', 'and', 'was', 'trying', 'to', 'determine', 'if', 'it', 'would', 'still', 'be', 'possible', '.', 'His', 'considerations', 'were', 'first', 'reported', 'Monday', 'by', 'The', 'New', 'York', 'Times', '.', 'Last', 'year', ',', 'Patrick', 'had', 'built', 'a', 'small', 'but', 'formidable', 'team', 'of', 'advisers', 'in', 'Boston', 'as', 'he', 'planned', 'a', '2020', 'bid', 'and', 'had', 'the', 'backing', 'of', 'some', 'top', 'aides', 'from', 'President', 'Barack', 'Obama', \"'s\", '2008', 'and', '2012', 'campaigns', '.', 'But', 'he', 'publicly', 'ruled', 'out', 'a', 'presidential', 'bid', 'nearly', 'a', 'year', 'ago', ',', 'citing', 'the', '``', 'cruelty', 'of', 'our', 'elections', 'process', '.', \"''\", 'He', 'wrote', 'in', 'a', 'December', 'Facebook', 'post', ':', '``', 'After', 'a', 'lot', 'of', 'conversation', ',', 'reflection', 'and', 'prayer', ',', 'I', \"'ve\", 'decided', 'that', 'a', '2020', 'campaign', 'for', 'president', 'is', 'not', 'for', 'me', '.', 'I', \"'ve\", 'been', 'overwhelmed', 'by', 'advice', 'and', 'encouragement', 'from', 'people', 'from', 'all', 'over', 'the', 'country', ',', 'known', 'and', 'unknown', '.', \"''\", '``', 'But', 'knowing', 'that', 'the', 'cruelty', 'of', 'our', 'elections', 'process', 'would', 'ultimately', 'splash', 'back', 'on', 'people', 'whom', 'Diane', 'and', 'I', 'love', ',', 'but', 'who', 'had', \"n't\", 'signed', 'up', 'for', 'the', 'journey', ',', 'was', 'more', 'than', 'I', 'could', 'ask', ',', \"''\", 'he', 'wrote', '.', 'Patrick', 'told', 'WBUR', 'at', 'the', 'time', 'that', 'his', 'wife', ',', 'Diane', ',', 'had', 'recently', 'been', 'diagnosed', 'with', 'uterine', 'cancer', 'and', 'had', 'surgery', 'right', 'before', 'Thanksgiving', 'last', 'year', '.', 'He', 'cited', 'it', 'as', 'something', 'that', 'caused', 'him', 'to', 'carefully', 'consider', 'whether', 'he', 'wanted', 'to', 'put', 'his', 'family', 'though', 'months', 'of', 'grueling', 'campaigning', '.', 'Patrick', 'entered', 'the', 'private', 'sector', 'in', '2015', 'and', 'took', 'a', 'job', 'at', 'Bain', 'Capital', ',', 'the', 'Boston-based', 'private', 'investment', 'firm', 'that', 'became', 'a', 'liability', 'to', 'the', '2012', 'presidential', 'run', 'of', 'Republican', 'Mitt', 'Romney', ',', 'another', 'former', 'Massachusetts', 'governor', 'and', 'now', 'a', 'US', 'senator', 'from', 'Utah', '.', 'Patrick', \"'s\", 'work', 'at', 'the', 'firm', ',', 'which', 'was', 'co-founded', 'by', 'Romney', ',', 'could', 'be', 'a', 'liability', 'if', 'he', 'seeks', 'the', 'Democratic', 'nomination', ',', 'as', 'he', 'would', 'be', 'entering', 'a', 'race', 'where', 'frontrunner', 'Democrats', 'have', 'cast', 'wealthy', 'and', 'powerful', 'interests', 'as', 'the', 'enemy', 'of', 'progressive', 'policies', '.', 'Patrick', 'last', 'year', 'defended', 'his', 'work', 'at', 'Bain', 'Capital', ',', 'telling', 'CNN', ':', '``', 'I', \"'ve\", 'never', 'taken', 'a', 'job', 'where', 'I', \"'ve\", 'left', 'my', 'conscience', 'at', 'the', 'door', ',', 'and', 'I', 'have', \"n't\", 'started', 'now', '.', \"''\", 'Patrick', 'had', 'upped', 'his', 'political', 'involvement', 'ahead', 'of', 'the', '2018', 'midterms', '--', 'endorsing', 'candidates', 'in', 'South', 'Carolina', ',', 'Texas', ',', 'New', 'Jersey', 'and', 'a', 'handful', 'of', 'other', 'states', '--', 'leading', 'many', 'to', 'believe', 'he', 'was', 'going', 'to', 'jump', 'into', 'the', 'race', '.', '©', '2019', 'Cable', 'News', 'Network', '.', 'Turner', 'Broadcasting', 'System', ',', 'Inc.', 'All', 'Rights', 'Reserved', '.', 'Listen', 'to', 'CNN', '(', 'low-bandwidth', 'usage', ')', 'Go', 'to', 'the', 'full', 'CNN', 'experience']\n",
      "['Meet', 'Narwhal', ',', 'the', 'rescue', 'puppy', 'with', 'a', 'tail', 'growing', 'out', 'of', 'his', 'forehead', '(', 'CNN', ')', '-', 'There', \"'s\", 'a', '10-week-old', 'puppy', 'in', 'Missouri', 'with', 'a', 'tail', 'growing', 'out', 'of', 'his', 'forehead', '.', 'Yes', ',', 'his', 'forehead', '.', 'No', ',', 'it', 'does', \"n't\", 'wag', '.', 'And', ',', 'appropriately', ',', 'his', 'name', 'is', 'Narwhal', '.', 'Well', ',', 'his', 'full', 'name', 'is', '``', 'Narwhal', 'the', 'Little', 'Magical', 'Furry', 'Unicorn', ',', \"''\", 'according', 'to', 'dog', 'rescue', 'nonprofit', 'organization', 'Mac', \"'s\", 'Mission', ',', 'which', 'took', 'him', 'in', 'after', 'he', 'was', 'discovered', 'last', 'Saturday', '.', 'He', 'was', 'found', 'in', 'the', 'freezing', 'cold', ',', 'with', 'what', 'appears', 'to', 'be', 'the', 'beginnings', 'of', 'frostbite', 'on', 'one', 'paw', '.', 'Unlike', 'an', 'actual', 'narwhal', 'whale', ',', 'which', 'has', 'a', 'protruding', 'canine', 'tooth', 'that', 'resembles', 'a', 'tusk', ',', 'the', 'tail', 'on', 'Narwhal', \"'s\", 'forehead', 'is', 'short', 'and', 'stubby', ',', 'sprouting', 'right', 'between', 'his', 'eyes', '--', 'and', 'flops', 'from', 'side', 'to', 'side', 'when', 'he', 'plays', '.', 'He', 'has', 'a', 'normal', 'tail', ',', 'too', ',', 'this', 'one', 'is', 'just', 'extra', '.', 'Workers', 'at', 'Mac', \"'s\", 'Mission', ',', 'which', 'specializes', 'in', 'special', 'needs', 'dogs', 'who', 'had', 'been', 'abused', 'or', 'born', 'with', 'defects', ',', 'say', 'he', \"'s\", 'recovering', 'quickly', ',', 'with', 'the', 'frostbite', 'healing', '.', '``', 'He', 'seems', 'completely', 'healthy', 'other', 'than', 'some', 'usual', 'puppy', 'worms', 'he', 'got', 'meds', 'for', ',', \"''\", 'said', 'the', 'organization', 'in', 'a', 'Facebook', 'post', '.', 'Vets', 'took', 'X-ray', 'scans', 'which', 'showed', 'the', 'tail', 'is', \"n't\", 'connected', 'to', 'anything', '.', 'It', 'has', 'no', 'real', 'use', ',', 'as', 'far', 'as', 'they', 'can', 'tell', ',', 'but', 'it', 'also', 'does', \"n't\", 'cause', 'him', 'any', 'pain', 'and', 'there', \"'s\", 'no', 'medical', 'reason', 'to', 'remove', 'it', '--', 'so', 'the', 'forehead', 'tail', 'is', 'here', 'to', 'stay', '.', '``', 'The', 'unicorn', 'face', 'tail', 'does', 'not', 'bother', 'Narwhal', 'and', 'he', 'never', 'slows', 'down', 'just', 'like', 'any', 'normal', 'puppy', ',', \"''\", 'said', 'the', 'Facebook', 'post', '.', 'He', 'was', 'found', 'with', 'another', 'dog', ',', 'which', 'rescue', 'workers', 'speculate', 'may', 'be', 'his', 'father', '.', 'This', 'older', 'dog', ',', 'who', 'has', 'been', 'named', 'Poppa', 'Smurf', ',', 'is', 'a', 'Daschund', 'Terrier', 'mix', '--', 'so', 'they', 'assume', 'Narwhal', 'may', 'have', 'some', 'Daschund', 'in', 'him', 'as', 'well', '.', 'It', \"'s\", 'not', 'clear', 'what', 'happened', 'to', 'the', 'two', 'of', 'them', 'before', 'they', 'were', 'discovered', ',', 'but', 'a', 'spokesperson', 'from', 'Mac', \"'s\", 'Mission', 'told', 'CNN', 'Narwhal', 'is', 'from', 'rural', 'Missouri', 'in', 'the', 'Midwest', ',', 'and', 'loves', 'to', 'play', '--', 'and', 'now', ',', 'he', 'has', 'thousands', 'of', 'fans', 'online', ',', 'after', 'his', 'special', 'tail', 'catapulted', 'him', 'to', 'internet', 'fame', '.', 'The', 'rush', 'of', 'online', 'attention', 'has', 'been', '``', 'crazy', ',', \"''\", 'the', 'spokesperson', ',', 'adding', 'that', 'the', 'staff', '``', 'feel', 'like', 'we', \"'re\", 'in', 'a', 'dream', '.', \"''\", 'He', \"'s\", 'not', 'yet', 'ready', 'for', 'adoption', ',', 'Mac', \"'s\", 'Mission', 'said', 'online', '--', 'but', 'that', 'has', \"n't\", 'stopped', 'Narwhal', \"'s\", 'fans', 'from', 'wanting', 'to', 'take', 'him', 'home', '.', 'The', 'organization', 'has', 'already', 'received', 'over', '50', 'adoption', 'applications', 'for', 'him', ',', 'a', 'spokesperson', 'told', 'CNN', '.', 'Narwhal', 'will', 'likely', 'be', 'listed', 'for', 'adoption', 'once', 'he', \"'s\", 'older', 'and', 'has', 'gone', 'through', 'more', 'medical', 'procedures', 'like', 'vaccinations', '.', 'The', 'staff', 'say', 'they', 'also', 'want', 'to', 'monitor', 'his', 'unicorn', 'horn', 'a', 'little', 'while', 'longer', 'to', 'make', 'sure', 'it', 'does', \"n't\", 'grow', 'or', 'become', 'a', 'problem', '.', '``', 'Everyone', 'is', 'super', 'interested', 'in', 'him', ',', \"''\", 'the', 'spokesperson', 'said', '—', 'but', '``', 'we', 'are', 'hopeful', 'they', 'are', 'seeing', 'the', 'other', 'available', 'dogs', 'as', 'well', '!', \"''\", '©', '2019', 'Cable', 'News', 'Network', '.', 'Turner', 'Broadcasting', 'System', ',', 'Inc.', 'All', 'Rights', 'Reserved', '.', 'Listen', 'to', 'CNN', '(', 'low-bandwidth', 'usage', ')', 'Go', 'to', 'the', 'full', 'CNN', 'experience']\n",
      "['Democrats', \"'\", '2020', 'uncertainty', 'has', 'heavyweights', 'thinking', 'about', 'a', 'run', '(', 'CNN', ')', '-', 'Three', 'Democratic', 'heavyweights', 'this', 'week', 'have', 'dangled', 'the', 'possibility', 'of', 'a', '2020', 'White', 'House', 'run', ',', 'a', 'reflection', 'of', 'the', 'extraordinarily', 'unsettled', 'nature', 'of', 'the', 'Democratic', 'field', 'only', 'a', 'few', 'months', 'before', 'voting', 'begins', '.', 'On', 'the', 'eve', 'of', 'the', 'first', 'public', 'impeachment', 'hearings', ',', 'former', 'New', 'York', 'Mayor', 'Michael', 'Bloomberg', 'made', 'a', 'run', 'to', 'Arkansas', 'on', 'Tuesday', 'to', 'secure', 'his', 'spot', 'on', 'that', 'state', \"'s\", 'Democratic', 'primary', 'ballot', ',', 'should', 'he', 'decide', 'to', 'run', '.', 'Former', 'Massachusetts', 'Gov', '.', 'Deval', 'Patrick', 'weighed', 'a', 'late', 'entry', 'to', 'the', 'race', 'while', 'facing', 'down', 'Friday', \"'s\", 'filing', 'deadline', 'in', 'the', 'key', 'state', 'of', 'New', 'Hampshire', '.', 'And', 'Hillary', 'Clinton', 'coyly', 'suggested', ',', 'once', 'again', ',', 'that', 'she', 'could', 'leap', 'from', 'the', 'sidelines', '.', 'Clearly', 'enjoying', 'the', 'opportunity', 'to', 'taunt', 'Trump', 'at', 'this', 'vulnerable', 'moment', 'in', 'his', 'presidency', '--', 'and', 'undoubtedly', 'unnerving', 'some', 'current', '2020', 'Democrats', '--', 'Clinton', 'told', 'BBC', 'Radio', 'that', 'she', 'was', 'not', 'running', 'for', 'president', 'in', '2020', ',', 'but', 'she', 'left', 'the', 'door', 'ajar', '.', '``', 'Never', 'say', 'never', ',', 'and', 'I', 'will', 'certainly', 'tell', 'you', 'I', \"'m\", 'under', 'enormous', 'pressure', 'from', 'many', ',', 'many', ',', 'many', 'people', 'to', 'think', 'about', 'it', ',', \"''\", 'Clinton', 'told', 'BBC', 'radio', 'in', 'the', 'midst', 'of', 'a', 'publicity', 'tour', 'for', 'her', 'new', 'book', 'with', 'her', 'daughter', ',', 'Chelsea', '.', '``', 'But', 'as', 'of', 'this', 'moment', ',', 'sitting', 'here', 'in', 'this', 'studio', 'talking', 'to', 'you', ',', 'that', 'is', 'absolutely', 'not', 'in', 'my', 'plans', '.', \"''\", 'In', 'Clinton', \"'s\", 'case', ',', 'teasing', 'another', 'White', 'House', 'bid', 'was', 'most', 'likely', 'a', 'lighthearted', 'way', 'of', 'drawing', 'publicity', 'for', 'her', 'new', 'book', '.', 'Last', 'month', ',', 'when', 'Trump', 'tweeted', 'that', '``', 'Crooked', 'Hillary', 'Clinton', \"''\", 'should', 'run', 'again', 'to', '``', 'steal', 'it', 'away', 'from', 'Uber', 'Left', 'Elizabeth', 'Warren', ',', \"''\", 'the', '2016', 'Democratic', 'nominee', 'playfully', 'tweeted', 'back', ':', '``', 'Do', \"n't\", 'tempt', 'me', '.', 'Do', 'your', 'job', '.', \"''\", '(', 'CNN', 'reported', 'in', 'October', 'that', 'Clinton', \"'s\", 'admirers', 'have', 'tried', 'to', 'coax', 'her', 'off', 'the', 'sidelines', ',', 'but', 'she', 'has', 'repeatedly', 'ruled', 'out', 'a', 'run', ')', '.', 'Still', ',', 'the', 'fact', 'that', 'Patrick', 'and', 'Bloomberg', 'could', 'soon', 'join', 'the', 'field', 'underscores', 'how', 'fractured', 'Democrats', 'are', 'three', 'months', 'before', 'the', 'opening', 'contest', 'in', 'Iowa', '.', 'The', 'party', 'still', 'has', 'not', 'settled', 'its', 'long-running', 'debate', 'about', 'whether', 'to', 'swing', 'hard', 'to', 'the', 'left', 'by', 'nominating', 'a', 'candidate', 'like', 'Warren', ',', 'a', 'senator', 'from', 'Massachusetts', ',', 'or', 'Sen.', 'Bernie', 'Sanders', 'of', 'Vermont', '--', 'both', 'of', 'whom', 'have', 'excited', 'a', 'younger', 'generation', 'of', 'activists', '--', 'or', 'embrace', 'a', 'more', 'moderate', 'candidate', 'who', 'could', 'theoretically', 'appeal', 'to', 'Republicans', 'and', 'independents', 'disenchanted', 'by', 'Trump', ',', 'as', 'well', 'as', 'blue-collar', 'voters', 'who', 'the', 'party', 'lost', 'to', 'Trump', 'in', '2016', '.', 'The', 'latest', 'polls', 'in', 'early-primary', 'states', 'demonstrate', 'that', 'lack', 'of', 'consensus', 'among', 'Democrats', 'about', 'who', 'would', 'be', 'strongest', 'against', 'Trump', ',', 'which', 'has', 'prompted', 'much', 'of', 'the', 'hand-wringing', 'in', 'recent', 'months', '.', 'A', 'new', 'Monmouth', 'University', 'poll', 'of', 'likely', 'caucusgoers', 'out', 'Tuesday', 'showed', 'South', 'Bend', ',', 'Indiana', ',', 'Mayor', 'Pete', 'Buttigieg', 'surging', 'to', 'the', 'top', 'of', 'the', 'field', 'with', '22', '%', ',', 'followed', 'by', 'Biden', 'with', '19', '%', ',', 'Warren', 'with', '18', '%', 'and', 'Sanders', 'at', '13', '%', '.', 'All', 'four', 'were', 'within', 'the', 'margin', 'of', 'error', '--', 'meaning', 'that', 'none', 'of', 'them', 'could', 'claim', 'front-runner', 'status', 'in', 'the', 'Hawkeye', 'State', '.', '(', 'Bloomberg', 'registered', 'at', '1', '%', ')', '.', 'Biden', 'held', 'a', 'slender', 'lead', 'in', 'New', 'Hampshire', 'in', 'a', 'new', 'Quinnipiac', 'University', 'poll', 'this', 'week', 'with', 'the', 'support', 'of', '20', '%', 'of', 'likely', 'voters', 'in', 'the', 'state', '.', 'Warren', 'followed', 'at', '16', '%', ',', 'Buttigieg', 'at', '15', '%', 'and', 'Sanders', 'at', '14', '%', '.', 'The', 'glimmer', 'of', 'hope', 'for', 'Patrick', 'and', 'Bloomberg', 'at', 'this', 'late', 'stage', 'is', 'rooted', 'in', 'Democrats', \"'\", 'uncertainty', 'about', 'Biden', ',', 'who', 'was', 'perceived', 'as', 'a', 'far', 'stronger', 'front-runner', 'before', 'he', 'entered', 'the', 'race', 'earlier', 'this', 'year', '.', 'But', 'both', 'men', 'are', 'untested', 'among', 'the', 'broader', 'electorate', '.', 'The', 'filing', 'deadlines', 'to', 'get', 'on', 'key', 'state', 'ballots', 'this', 'week', 'appear', 'to', 'have', 'forced', 'the', 'hand', 'of', 'Bloomberg', 'and', 'Patrick', ',', 'who', 'could', 'face', 'a', 'major', 'disadvantage', 'if', 'they', 'miss', 'the', 'chance', 'to', 'compete', 'in', 'all', '50', 'states', ',', 'particularly', 'if', 'the', 'race', 'devolves', 'into', 'a', 'prolonged', 'delegate', 'fight', '.', 'Last', 'week', 'Bloomberg', \"'s\", 'team', 'filed', 'the', 'paperwork', 'needed', 'to', 'get', 'on', 'the', 'primary', 'ballot', 'in', 'Alabama', '.', '(', 'Patrick', 'missed', 'the', 'deadlines', 'in', 'Alabama', 'and', 'appears', 'to', 'have', 'missed', 'Arkansas', \"'\", ')', '.', 'Bloomberg', \"'s\", 'adviser', 'Howard', 'Wolfson', 'told', 'CNN', 'in', 'a', 'statement', 'last', 'week', 'that', 'Bloomberg', 'plans', 'to', 'skip', 'the', 'first', 'four', 'primary', 'contests', '.', '``', 'If', 'we', 'run', ',', 'we', 'are', 'confident', 'we', 'can', 'win', 'in', 'states', 'voting', 'on', 'Super', 'Tuesday', 'and', 'beyond', ',', 'where', 'we', 'will', 'start', 'on', 'an', 'even', 'footing', ',', \"''\", 'Wolfson', 'said', '.', 'On', 'Tuesday', 'in', 'Arkansas', ',', 'Bloomberg', 'told', 'a', 'gaggle', 'of', 'reporters', 'he', 'was', '``', 'still', 'exploring', 'what', 'we', \"'re\", 'going', 'to', 'do', \"''\", 'and', 'deflected', 'questions', 'about', 'Biden', \"'s\", 'strength', 'as', 'a', 'candidate', ',', 'calling', 'him', '``', 'a', 'very', 'nice', 'guy', '.', \"''\", '``', 'I', \"'ve\", 'known', 'him', 'for', 'a', 'long', 'time', ',', 'and', 'if', 'you', 'want', 'to', 'know', 'about', 'Joe', 'Biden', ',', 'you', \"'ve\", 'got', 'to', 'talk', 'to', 'Joe', 'Biden', '.', 'He', \"'s\", 'running', 'his', 'campaign', ',', 'I', \"'m\", 'running', 'mine', 'and', 'one', 'thing', 'does', \"n't\", 'necessarily', 'have', 'anything', 'to', 'do', 'with', 'another', ',', \"''\", 'Bloomberg', 'told', 'reporters', '.', '``', 'All', 'I', \"'ve\", 'got', 'to', 'do', 'is', '--', 'if', 'I', 'run', '--', 'explain', 'to', 'people', 'what', 'I', 'think', 'is', 'wrong', 'with', 'this', 'country', ',', 'and', 'how', 'I', 'would', 'fix', 'it', '.', 'And', 'then', 'the', 'public', 'can', 'make', 'a', 'decision', ',', \"''\", 'the', 'former', 'New', 'York', 'mayor', 'said', '.', '``', 'I', \"'ve\", 'been', 'more', 'and', 'more', 'upset', 'with', 'what', \"'s\", 'going', 'on', 'here', ',', \"''\", 'he', 'said', '.', '``', 'We', 'do', \"n't\", 'talk', 'to', 'each', 'other', '.', 'We', 'do', \"n't\", 'work', 'together', '.', 'There', \"'s\", 'a', 'lack', 'of', 'honesty', 'and', 'civility', '.', 'That', 'is', 'not', 'good', 'for', 'our', 'country', ',', 'and', 'I', \"'ve\", 'got', 'two', 'daughters', 'and', 'two', 'grandkids', 'that', 'I', 'care', 'about', '.', 'And', 'I', \"'d\", 'like', 'to', 'do', 'something', 'about', 'it', ',', 'whether', 'it', \"'s\", 'running', 'for', 'president', 'or', 'something', 'else', '.', \"''\", '©', '2019', 'Cable', 'News', 'Network', '.', 'Turner', 'Broadcasting', 'System', ',', 'Inc.', 'All', 'Rights', 'Reserved', '.', 'Listen', 'to', 'CNN', '(', 'low-bandwidth', 'usage', ')', 'Go', 'to', 'the', 'full', 'CNN', 'experience']\n",
      "['Most', 'important', 'takeaways', 'from', 'the', 'first', 'day', 'of', 'public', 'impeachment', 'hearings', '(', 'CNN', ')', '-', 'The', 'House', 'Intelligence', 'Committee', 'opened', 'historic', 'impeachment', 'hearings', 'Wednesday', 'to', 'investigate', 'whether', 'President', 'Donald', 'Trump', '(', 'and', 'his', 'allies', ')', 'abused', 'his', 'office', 'in', 'an', 'attempt', 'to', 'strong-arm', 'Ukraine', 'into', 'opening', 'an', 'inquiry', 'into', 'his', 'political', 'rival', ',', 'former', 'Vice', 'President', 'Joe', 'Biden', '.', 'I', 'monitored', 'the', 'highly', 'anticipated', '--', 'and', 'hugely', 'high-stakes', '--', 'hearing', 'as', 'it', 'happened', '.', 'Below', ',', 'my', 'thoughts', 'on', 'the', 'biggest', 'moments', 'of', 'the', 'day', '.', 'Adam', 'Schiff', 'appeals', 'to', 'history', '--', 'and', 'the', 'future', 'Intelligence', 'Committee', 'Chairman', 'Adam', 'Schiff', \"'s\", 'opening', 'statement', 'had', 'a', 'very', 'clear', 'message', ':', 'These', 'hearings', 'are', \"n't\", 'about', 'just', 'Trump', '.', 'They', \"'re\", 'about', 'how', 'the', 'presidency', 'functions', '(', 'and', 'should', 'function', ')', 'within', 'our', 'democracy', '--', 'and', 'about', 'the', 'checks', 'and', 'balances', 'between', 'the', 'legislative', 'and', 'executive', 'branches', 'built', 'into', 'the', 'Constitution', '.', '``', 'Our', 'answer', 'to', 'these', 'questions', 'will', 'affect', 'not', 'only', 'the', 'future', 'of', 'this', 'presidency', ',', 'but', 'the', 'future', 'of', 'the', 'presidency', 'itself', ',', 'and', 'what', 'kind', 'of', 'conduct', 'or', 'misconduct', 'the', 'American', 'people', 'may', 'come', 'to', 'expect', 'from', 'their', 'commander-in-chief', ',', \"''\", 'said', 'Schiff', 'at', 'one', 'point', '.', 'At', 'another', ',', 'citing', 'the', 'Trump', \"'s\", 'administration', \"'s\", 'refusal', 'to', 'allow', 'its', 'senior', 'officials', 'to', 'testify', 'before', 'Congress', ',', 'Schiff', 'said', 'such', 'a', 'move', '``', 'is', 'not', 'what', 'the', 'Founders', 'intended', ',', \"''\", 'adding', ':', '``', 'The', 'prospects', 'for', 'further', 'corruption', 'and', 'abuse', 'of', 'power', ',', 'in', 'this', 'administration', 'or', 'another', ',', 'will', 'be', 'exponentially', 'increased', '.', \"''\", 'In', 'closing', ',', 'Schiff', 'asked', ',', '``', 'Is', 'that', 'what', 'Americans', 'should', 'now', 'expect', 'from', 'their', 'President', '?', 'If', 'this', 'is', 'not', 'impeachable', 'conduct', ',', 'what', 'is', '?', 'Does', 'the', 'oath', 'of', 'office', 'itself', '--', 'requiring', 'that', 'our', 'laws', 'be', 'faithfully', 'executed', ',', 'that', 'our', 'President', 'defend', 'a', 'Constitution', 'that', 'balances', 'the', 'powers', 'of', 'its', 'branches', ',', 'setting', 'ambition', 'against', 'ambition', 'so', 'that', 'we', 'become', 'no', 'monarchy', '--', 'still', 'have', 'meaning', '?', \"''\", 'The', 'goal', 'of', 'Schiff', \"'s\", 'repeated', 'invocations', 'of', 'history', '--', 'he', 'mentioned', 'the', 'Founders', 'twice', 'and', 'the', 'Constitution', 'three', 'times', '--', 'was', 'to', 'cast', 'these', 'hearings', 'less', 'as', 'a', 'partisan', 'effort', 'directed', 'at', 'Trump', 'and', 'more', 'as', 'a', 'necessary', 'defense', 'of', 'the', 'democratic', 'principles', 'on', 'which', 'the', 'country', 'was', 'founded', '.', 'This', 'is', \"n't\", 'about', 'Trump', 'or', 'even', 'a', 'particular', 'political', 'party', ',', 'Schiff', 'was', 'saying', '.', 'This', 'is', 'about', 'how', 'we', 'want', 'our', 'government', 'to', 'work', '--', 'and', 'not', 'work', '.', 'It', 'seems', 'unlikely', 'that', 'Schiff', \"'s\", 'appeal', 'to', 'history', 'will', 'sway', 'many', 'people', 'on', 'the', 'committee', '.', 'Even', 'before', 'he', 'began', 'speaking', ',', 'Republicans', 'had', 'put', 'signs', 'behind', 'the', 'dais', 'criticizing', 'the', 'proceedings', '.', 'Devin', 'Nunes', 'turns', 'it', 'up', 'to', '11', 'If', 'Schiff', 'tried', 'to', 'ground', 'the', 'hearings', 'in', 'history', ',', 'California', 'Rep.', 'Devin', 'Nunes', ',', 'the', 'highest-ranking', 'Republican', 'on', 'the', 'Intelligence', 'Committee', ',', 'sought', 'to', 'go', 'the', 'gonzo', 'route', '.', 'He', 'called', 'the', 'hearings', 'a', '``', 'pitiful', 'finale', \"''\", 'to', 'Democratic', 'attempts', 'to', 'overturn', 'the', 'results', 'of', 'the', '2016', 'election', '.', 'He', 'described', 'the', 'closed-door', 'testimony', 'offered', 'by', 'Ukraine', 'witnesses', 'a', '``', 'cult-like', 'atmosphere', '.', \"''\", 'He', 'suggested', 'that', 'the', 'whistleblower', '``', 'was', 'known', 'to', 'have', 'a', 'bias', 'against', 'President', 'Trump', '.', \"''\", 'He', 'derided', 'the', '``', 'impeachment', 'sham', '.', \"''\", 'He', 'called', 'the', 'proceedings', 'a', '``', 'Star', 'Chamber', '.', \"''\", 'He', 'dismissed', 'the', 'investigation', 'as', 'a', '``', 'low-rent', 'Ukrainian', 'sequel', \"''\", 'to', 'the', 'Mueller', 'investigation', '.', 'Nowhere', 'that', 'I', 'could', 'tell', 'did', 'Nunes', 'actually', ',', 'you', 'know', ',', 'address', 'the', 'July', '25', 'transcript', 'between', 'Trump', 'and', 'Ukrainian', 'President', 'Volodymyr', 'Zelensky', '.', 'Or', 'the', 'facts', 'presented', 'by', 'the', 'witnesses', 'called', 'by', 'House', 'investigators', '.', 'Bill', 'Taylor', \"'s\", 'opening', 'statement', 'is', 'a', 'wow', 'Taylor', ',', 'the', 'top', 'US', 'official', 'in', 'Ukraine', ',', 'delivered', 'a', 'tour-de-force', 'opening', 'statement', '--', 'packed', 'with', 'details', 'about', 'the', 'formation', 'of', 'an', '``', 'irregular', \"''\", 'channel', '(', 'led', 'by', 'personal', 'lawyer', 'Rudy', 'Giuliani', ')', 'with', 'Ukraine', 'that', 'often', 'ran', 'directly', 'counter', 'to', 'his', 'own', 'regular', 'channel', 'and', 'longstanding', 'US', 'policy', 'in', 'the', 'region', '.', 'Taylor', 'also', 'laid', 'out', 'an', 'excruciatingly', 'specific', 'timeline', 'of', 'his', 'interactions', 'with', ',', 'among', 'others', ',', 'National', 'Security', 'Adviser', 'John', 'Bolton', ',', 'US', 'Ambassador', 'to', 'the', 'European', 'Union', 'Gordon', 'Sondland', 'and', 'top', 'Ukrainian', 'officials', '.', 'In', 'that', 'timeline', ',', 'he', 'repeatedly', 'made', 'clear', 'that', 'there', 'was', 'a', 'not-very-quiet', 'understanding', 'that', 'military', 'aid', 'from', 'the', 'US', 'to', 'Ukraine', 'was', 'being', 'withheld', 'unless', 'and', 'until', 'the', 'country', 'announced', 'an', 'investigation', 'into', 'Burisma', 'Holdings', ',', 'a', 'Ukrainian', 'natural', 'gas', 'company', 'where', 'Hunter', 'Biden', ',', 'the', 'former', 'vice', 'president', \"'s\", 'son', ',', 'sat', 'on', 'the', 'board', '.', 'Most', 'stunningly', ',', 'Taylor', 'recounted', 'an', 'episode', 'that', 'he', 'was', 'told', 'about', 'only', 'after', 'his', 'September', '22', 'closed-door', 'testimony', 'involving', 'Sondland', '.', 'According', 'to', 'Taylor', ',', 'Sondland', 'met', 'with', 'a', 'top', 'aide', 'to', 'Zelensky', 'on', 'July', '26', '--', 'one', 'day', 'after', 'the', 'fateful', 'call', 'between', 'Trump', 'and', 'Zelensky', '.', 'Sondland', 'then', 'called', 'Trump', 'and', 'informed', 'him', 'of', 'the', 'nature', 'of', 'the', 'meeting', 'and', 'an', 'aide', 'to', 'Taylor', 'heard', 'Trump', 'ask', 'of', '``', 'the', 'investigations', '.', \"''\", 'Following', 'that', 'call', ',', 'the', 'Taylor', 'aide', 'asked', 'Sondland', 'what', 'Trump', \"'s\", 'thoughts', 'were', 'on', 'Ukraine', '.', 'Sondland', 'replied', 'that', 'Trump', 'cares', 'more', 'about', 'the', 'Biden', 'investigation', 'than', 'anything', 'else', '.', 'Which', ',', 'wow', '.', 'The', 'geopolitical', 'impact', 'of', 'Trump', \"'s\", 'approach', 'to', 'Ukraine', 'While', 'the', 'focus', 'of', 'Wednesday', \"'s\", 'hearing', '--', 'from', 'members', 'of', 'Congress', 'at', 'least', '--', 'is', 'what', 'Trump', '(', 'and', 'his', 'allies', ')', 'did', 'in', 'regard', 'to', 'Ukraine', 'and', 'the', 'Bidens', ',', 'both', 'Taylor', 'and', 'George', 'Kent', ',', 'a', 'State', 'Department', 'official', ',', 'repeatedly', 'expressed', 'their', 'concerns', 'about', 'the', 'impact', 'of', 'withholding', 'military', 'aid', 'to', 'the', 'country', '.', 'Taylor', 'noted', 'that', 'he', 'had', 'traveled', 'to', 'the', 'Donbass', 'region', 'in', 'eastern', 'Ukraine', 'and', 'had', 'seen', ',', 'directly', ',', 'the', 'impact', 'of', 'the', 'nearly', '$', '400', 'million', 'in', 'withheld', 'American', 'military', 'aid', 'for', 'the', 'country', 'in', 'its', 'ongoing', 'fight', 'against', 'Russian', 'incursions', '.', 'Kent', ',', 'similarly', ',', 'sought', 'to', 'emphasize', 'how', 'critical', 'Ukraine', '--', 'and', 'America', \"'s\", 'support', 'for', 'Ukraine', '--', 'was', 'in', 'the', 'ongoing', 'efforts', 'to', 'limit', 'Russia', \"'s\", 'advancement', 'in', 'the', 'region', '.', '(', 'Russia', 'annexed', 'Crimea', ',', 'a', 'Ukrainian', 'territory', ',', 'in', '2014', '.', ')', 'The', 'genuine', 'concern', 'expressed', 'by', 'Taylor', 'and', 'Kent', 'is', 'a', 'startling', 'reminder', 'that', 'the', 'pressure', 'campaign', 'organized', 'by', 'the', 'White', 'House', 'had', ',', 'to', 'these', 'longtime', 'diplomats', \"'\", 'minds', ',', 'real-world', 'implications', 'not', 'just', 'for', 'Ukraine', 'but', 'for', 'the', 'United', 'States', \"'\", 'interests', 'in', 'the', 'region', '--', 'and', 'specifically', 'in', 'its', 'dealings', 'with', 'Russia', '.', 'In', 'short', ':', 'This', 'was', \"n't\", 'just', 'about', 'Trump', 'getting', 'what', 'he', 'wanted', 'on', 'the', 'Bidens', 'from', 'Ukraine', '.', 'This', 'had', 'real', 'reverberations', 'in', 'American', 'geopolitics', '.', 'Taylor', 'says', 'none', 'of', 'this', 'was', 'normal', 'One', 'of', 'Republicans', \"'\", 'biggest', 'talking', 'points', 'going', 'into', 'these', 'impeachment', 'hearings', 'was', 'that', 'nothing', 'Trump', 'did', 'in', 'his', 'call', 'with', 'Zelensky', 'was', 'outside', 'the', 'normal', 'operating', 'procedures', 'of', 'a', 'President', 'negotiating', 'with', 'a', 'foreign', 'leader', '.', '``', 'We', 'do', 'that', 'all', 'that', 'time', 'with', 'foreign', 'policy', ',', \"''\", 'acting', 'White', 'House', 'chief', 'of', 'staff', 'Mick', 'Mulvaney', 'said', 'last', 'month', ',', 'adding', ',', '``', 'Get', 'over', 'it', '.', \"''\", 'Taylor', 'was', 'clear', 'on', 'Wednesday', 'that', 'he', 'did', 'not', 'agree', 'with', 'the', 'Republican', 'view', 'on', 'this', '.', '``', 'It', \"'s\", 'one', 'thing', 'to', 'try', 'to', 'leverage', 'a', 'meeting', 'in', 'the', 'White', 'House', ',', \"''\", 'said', 'Taylor', '.', '``', 'It', \"'s\", 'another', 'thing', '--', 'I', 'thought', '--', 'to', 'try', 'to', 'leverage', 'security', 'assistance', '.', '...', 'It', \"'s\", 'much', 'more', 'alarming', '.', \"''\", 'Partisans', 'will', 'take', 'the', 'side', 'that', 'affirms', 'their', 'view', '.', 'But', 'remember', 'that', 'Taylor', 'is', 'a', 'longtime', 'diplomat', 'serving', 'under', 'both', 'Democratic', 'and', 'Republican', 'presidents', '.', 'And', 'that', 'Mulvaney', 'is', ',', 'well', ',', 'not', '.', 'Nunes', 'pushed', 'a', 'debunked', 'Ukraine', 'conspiracy', 'theory', 'Opening', 'his', 'questions', 'to', 'Kent', 'and', 'Taylor', 'in', 'the', 'early', 'afternoon', ',', 'Nunes', 'detailed', 'a', 'widely', 'debunked', 'conspiracy', 'theory', 'that', ',', 'somehow', ',', 'the', 'Ukrainians', 'were', 'involved', 'in', 'working', 'to', 'aid', 'Democratic', 'nominee', 'Hillary', 'Clinton', \"'s\", '2016', 'campaign', 'and', 'that', 'the', 'country', 'might', 'have', 'possession', 'of', 'the', 'hacked', 'Democratic', 'National', 'Committee', \"'s\", 'server', '.', '(', 'The', 'President', 'brought', 'up', 'this', 'same', 'conspiracy', 'theory', 'during', 'his', 'July', '25', 'call', 'with', 'Zelensky', '.', ')', 'To', 'be', 'clear', ':', 'There', 'is', 'no', 'evidence', 'that', 'Ukraine', 'played', 'any', 'role', 'in', 'the', '2016', 'US', 'presidential', 'election', '.', 'Kent', 'said', 'as', 'much', 'during', 'his', 'testimony', '--', 'under', 'oath', '--', 'earlier', 'on', 'Wednesday', '.', 'Former', 'National', 'Security', 'Council', 'Russia', 'expert', 'Fiona', 'Hill', 'said', 'the', 'same', 'during', 'her', 'closed-door', 'testimony', 'to', 'House', 'investigators', '.', 'And', 'former', 'White', 'House', 'homeland', 'security', 'adviser', 'Tom', 'Bossert', 'summed', 'it', 'up', 'to', 'ABC', \"'s\", 'George', 'Stephanopoulos', 'this', 'way', 'in', 'late', 'September', ':', '``', 'It', 'is', 'completely', 'debunked', '...', 'I', 'am', 'deeply', 'frustrated', 'with', 'what', '[', 'Giuliani', ']', 'and', 'the', 'legal', 'team', 'is', 'doing', 'and', 'repeating', 'that', 'debunked', 'theory', 'to', 'the', 'president', '.', 'It', 'sticks', 'in', 'his', 'mind', 'when', 'he', 'hears', 'it', 'over', 'and', 'over', 'again', ',', 'and', 'for', 'clarity', 'here', ',', 'George', ',', 'let', 'me', 'just', 'again', 'repeat', 'that', 'it', 'has', 'no', 'validity', '.', \"''\", 'So', ',', 'no', ',', 'Devin', 'Nunes', '.', 'Republicans', \"'\", 'main', 'talking', 'point', ':', 'Yawn', 'There', \"'s\", 'a', 'very', 'clear', 'effort', 'by', 'prominent', 'Republicans', 'to', 'paint', 'this', 'impeachment', 'hearing', 'as', 'a', 'big', 'nothingburger', '.', '``', 'This', 'sham', 'hearing', 'is', 'not', 'only', 'boring', ',', 'it', 'is', 'a', 'colossal', 'waste', 'of', 'taxpayer', 'time', '&', 'money', ',', \"''\", 'tweeted', 'White', 'House', 'press', 'secretary', 'Stephanie', 'Grisham', '.', '``', 'This', 'is', 'horribly', 'boring', '...', '#', 'Snoozefest', ',', \"''\", 'tweeted', 'Eric', 'Trump', '.', 'And', 'North', 'Carolina', 'Rep.', 'Mark', 'Meadows', ',', 'a', 'close', 'White', 'House', 'ally', ',', 'told', 'CNN', \"'s\", 'Lauren', 'Fox', ':', '``', 'I', 'do', \"n't\", 'know', 'about', 'you', 'but', 'it', \"'s\", 'hard', 'for', 'me', 'to', 'stay', 'awake', 'and', 'listen', 'to', 'all', 'of', 'this', '.', \"''\", 'The', 'similarity', 'in', 'language', 'is', ',', 'well', ',', 'not', 'an', 'accident', '.', 'It', \"'s\", 'obvious', 'that', 'Republicans', 'believe', 'their', 'best', 'way', 'to', 'get', 'through', 'all', 'of', 'this', 'is', 'to', 'say', 'that', 'it', \"'s\", 'all', 'boring', 'and', 'a', 'bunch', 'of', 'details', 'that', 'only', 'nerds', 'care', 'about', '.', 'Will', 'it', 'work', '?', 'For', 'the', 'base', ',', 'yes', '.', 'For', 'the', 'rest', 'of', 'the', 'country', '?', 'I', 'doubt', 'it', '.', 'Jim', 'Jordan', 'showcases', 'his', 'patented', 'interviewing', 'style', 'House', 'Republicans', 'so', 'value', 'Ohio', 'Rep.', 'Jim', 'Jordan', '--', 'and', 'his', 'ability', 'to', 'score', 'points', 'in', 'congressional', 'hearings', '--', 'that', 'they', 'added', 'him', 'to', 'the', 'Intelligence', 'Committee', 'just', 'days', 'before', 'Wednesday', \"'s\", 'hearing', '.', 'And', 'Jordan', 'did', 'his', 'thing', '.', 'He', 'spoke', 'fast', '.', 'He', 'interrupted', '.', 'He', 'snarked', '.', '(', '``', 'You', \"'re\", 'their', 'star', 'witness', '?', \"''\", 'Jordan', 'sarcastically', 'asked', 'Taylor', '.', '``', 'I', \"'ve\", 'seen', 'church', 'prayer', 'chains', 'that', 'are', 'easier', 'to', 'understand', 'than', 'this', '.', \"''\", ')', 'The', 'goal', 'of', 'all', 'of', 'this', '--', 'as', 'it', 'always', 'is', 'with', 'Jordan', '--', 'is', 'to', 'make', 'witnesses', 'look', 'unsure', 'and', 'unsteady', '.', '(', 'When', 'you', 'talk', 'really', 'fast', 'and', 'then', 'push', 'the', 'witness', 'to', 'immediately', 'respond', 'in', 'a', 'single-word', 'answer', ',', 'it', 'tends', 'to', 'have', 'that', 'effect', '.', ')', 'Did', 'it', 'work', 'with', 'Taylor', '?', 'There', 'were', 'a', 'few', '``', 'ums', 'and', '``', 'ahs', \"''\", 'from', 'the', 'ambassador', ',', 'but', 'he', 'stuck', 'to', 'his', 'story', '.', 'Republicans', 'say', 'Ukraine', 'never', 'did', 'what', 'Trump', 'asked', ',', 'so', '...', 'One', 'of', 'the', 'main', 'thrusts', 'of', 'the', 'GOP', 'argument', 'against', 'the', 'testimony', 'of', 'Taylor', 'and', 'Kent', 'is', 'that', ',', 'for', 'all', 'of', 'their', 'concerns', 'about', 'what', 'Trump', 'asked', 'of', 'Zelensky', ',', 'the', 'nearly', '$', '400', 'million', 'in', 'military', 'aid', 'was', 'released', 'in', 'September', '--', 'even', 'without', 'Ukraine', 'making', 'any', 'public', 'statement', 'about', 'its', 'plans', 'to', 'investigate', 'the', 'Bidens', '.', 'Jordan', 'hit', 'on', 'the', 'nothing-actually-happened', 'line', '.', 'As', 'did', 'Texas', 'Rep.', 'John', 'Ratcliffe', '.', 'As', 'did', 'New', 'York', 'Rep.', 'Elise', 'Stefanik', '.', 'But', 'context', 'matters', '.', 'Right', 'around', 'the', 'time', 'that', 'the', 'aid', 'was', 'released', 'fully', '--', 'September', '11', '--', 'Congress', 'had', 'begun', 'to', 'ask', 'questions', '(', 'on', 'a', 'bipartisan', 'basis', ')', 'about', 'why', 'the', 'aid', 'was', 'being', 'withheld', '.', 'And', 'there', 'was', 'already', 'talk', 'about', 'a', 'whistleblower', 'complaint', ',', 'which', 'had', 'been', 'formally', 'filed', 'on', 'August', '11', ',', 'alleging', 'wrongdoing', 'by', 'Trump', 'on', 'that', 'call', 'with', 'Zelensky', 'among', 'other', 'things', '.', 'That', 'timing', 'suggests', 'that', 'the', 'argument', 'being', 'made', 'by', 'Jordan', 'and', 'other', 'Republicans', 'is', \"n't\", 'as', 'conclusive', 'as', 'they', 'want', 'it', 'to', 'seem', '.', '©', '2019', 'Cable', 'News', 'Network', '.', 'Turner', 'Broadcasting', 'System', ',', 'Inc.', 'All', 'Rights', 'Reserved', '.', 'Listen', 'to', 'CNN', '(', 'low-bandwidth', 'usage', ')', 'Go', 'to', 'the', 'full', 'CNN', 'experience']\n",
      "['How', 'I', 'became', 'an', 'all-American', 'Muslim', 'girl', 'Editor', \"'s\", 'Note', ':', 'Nadine', 'Jolie', 'Courtney', 'is', 'the', 'author', 'of', 'the', 'novel', '``', 'All-American', 'Muslim', 'Girl', '.', \"''\", 'Her', 'writing', 'has', 'appeared', 'in', 'Angeleno', ',', 'O', ':', 'The', 'Oprah', 'Magazine', ',', 'Architectural', 'Digest', ',', 'Town', '&', 'Country', 'and', 'elsewhere', '.', 'The', 'views', 'expressed', 'here', 'are', 'hers', '.', 'Read', 'more', 'opinion', 'on', 'CNN', '.', '(', 'CNN', ')', '-', 'On', 'January', '27th', ',', '2017', ',', 'after', 'President', 'Donald', 'Trump', 'issued', 'an', 'executive', 'order', 'banning', 'entry', 'to', 'the', 'US', 'by', 'citizens', 'of', 'seven', 'Muslim-majority', 'countries', '(', 'and', 'indefinitely', 'halting', 'refugees', 'from', 'Syria', ')', ',', 'thousands', 'of', 'protesters', 'stormed', 'John', 'F.', 'Kennedy', 'airport', 'in', 'New', 'York', 'City', ',', 'and', 'other', 'airports', 'around', 'the', 'country', ',', 'proclaiming', 'their', 'solidarity', 'with', 'Muslims', '.', 'Countless', 'more', ',', 'I', 'among', 'them', ',', 'watched', 'on', 'television', 'as', 'the', 'events', 'unfolded', '.', 'It', 'was', 'a', 'watershed', 'moment', 'for', 'American', 'Muslims', 'like', 'me', ',', 'who', 'had', 'grown', 'up', 'believing', 'that', 'people', 'would', 'judge', 'us', 'for', 'our', 'religion', '.', 'The', 'sky', 'was', 'blue', ',', 'water', 'was', 'wet', ',', 'and', 'other', 'Americans', 'looked', 'down', 'on', 'Islam', '.', 'These', 'were', 'facts', 'we', 'internalized', '.', 'It', \"'s\", 'why', 'for', 'most', 'of', 'my', 'life', ',', 'I', \"'ve\", 'lived', 'as', 'a', 'white-passing', ',', 'mixed-raced', 'Muslim', ':', 'green', 'eyes', ',', 'blonde', 'hair', ',', 'fair', 'skin', '.', 'Despite', 'my', 'father', \"'s\", 'Middle', 'Eastern', 'and', 'Asian', 'ancestry', ',', 'I', 'look', 'a', 'lot', 'like', 'my', 'white', ',', 'Catholic-born', 'mother', ':', 'the', 'basic', 'girl-next-door', '.', 'But', 'for', 'me', ',', 'the', 'day', 'Trump', 'instituted', 'the', 'travel', 'ban', 'and', 'Americans', 'from', 'all', 'walks', 'of', 'life', 'fought', 'back', 'against', 'it', 'was', 'doubly', 'profound', ':', 'it', \"'s\", 'the', 'day', 'I', 'stopped', 'hiding', '.', 'It', \"'s\", 'the', 'day', 'I', 're-opened', 'the', 'word', 'document', 'on', 'my', 'computer', 'and', 'started', 'writing', 'the', 'personal', 'story', 'I', \"'d\", 'been', 'too', 'afraid', 'to', 'explore', 'for', '10', 'years', '.', 'It', \"'s\", 'the', 'day', 'I', 'officially', 'began', 'writing', 'my', 'novel', '``', 'All-American', 'Muslim', 'Girl', \"''\", '--', 'about', 'Islamophobia', ',', 'white', 'privilege', ',', 'identity', 'and', 'erasure', '.', 'Because', 'of', 'my', 'appearance', ',', 'the', 'Islamophobia', 'I', \"'ve\", 'experienced', 'over', 'the', 'years', 'is', 'very', 'different', 'from', 'that', 'of', 'my', 'Muslim', 'cousins', ',', 'aunts', 'and', 'friends', '.', 'People', 'do', \"n't\", 'stare', 'at', 'me', 'at', 'the', 'grocery', 'store', 'or', 'make', 'comments', 'about', 'my', 'appearance', 'or', 'lack', 'of', 'hijab', 'while', 'I', \"'m\", 'working', 'out', '.', 'I', 'do', \"n't\", 'get', 'told', 'in', 'parking', 'lots', 'to', '``', 'go', 'back', 'where', 'I', 'came', 'from', '.', \"''\", 'I', \"'ve\", 'never', 'had', 'somebody', 'yell', '``', 'Allahu', 'akbar', '!', \"''\", 'at', 'me', 'in', 'the', 'hallway', 'at', 'school', '.', 'All', 'of', 'these', 'things', 'have', 'happened', 'to', 'people', 'I', 'love', '.', 'Unlike', 'them', ',', 'I', 'almost', 'never', 'feel', 'in', 'danger', 'because', 'of', 'my', 'religion', '.', 'Instead', ',', 'I', \"'m\", 'subject', 'to', 'microaggressions', ':', 'people', \"'s\", 'jaws', 'dropping', 'when', 'they', 'find', 'out', 'I', \"'m\", 'Muslim', '.', 'Incredulous', 'comments', 'like', ',', '``', 'You', '?', 'But', 'you', 'look', 'so', 'American', '!', \"''\", '--', 'as', 'if', 'Muslims', 'ca', \"n't\", 'be', 'Americans', ',', 'too', '.', 'People', 'staring', 'at', 'me', 'quizzically', ',', 'asking', 'of', 'my', 'heritage', ',', '``', 'So', ',', 'like', '...', 'what', 'are', 'you', '?', \"''\", 'And', ',', 'of', 'course', ',', 'the', 'endless', 'questions', 'about', 'whether', 'I', 'pray', ',', 'whether', 'I', 'drink', ',', 'whether', 'I', 'eat', 'bacon', ',', 'whether', 'I', 'support', 'various', 'international', 'policies', '--', 'as', 'if', 'they', \"'re\", 'trying', 'to', 'figure', 'out', 'whether', 'they', 'can', 'trust', 'me', '.', 'It', \"'s\", 'not', 'just', 'the', 'comments', '.', 'When', 'I', 'was', 'in', 'elementary', 'school', ',', 'in', 'the', 'thick', 'of', 'years', 'spent', 'keeping', 'my', 'family', \"'s\", 'religion', 'silent', '—', 'a', 'privilege', 'obviously', 'afforded', 'to', 'us', 'by', 'virtue', 'of', 'pale', 'skin', ',', 'stemming', 'from', 'my', 'father', \"'s\", 'Circassian', 'heritage', '--', 'my', 'best', 'friend', \"'s\", 'family', 'did', \"n't\", 'know', 'we', 'were', 'Muslims', '.', 'Soon', 'after', 'my', 'friend', \"'s\", 'mother', 'found', 'out', ',', 'my', 'friend', 'sheepishly', 'told', 'me', 'I', 'was', 'no', 'longer', 'able', 'to', 'come', 'over', 'to', 'her', 'house', '.', 'But', 'why', '?', 'I', 'had', \"n't\", 'done', 'anything', 'wrong', ':', 'had', 'never', 'been', 'impolite', ',', 'had', 'never', 'broken', 'anything', 'or', 'raised', 'my', 'voice', '.', 'My', 'friend', 'shrugged', ',', 'unable', 'to', 'provide', 'an', 'answer', '.', 'Her', 'mom', 'just', 'did', \"n't\", 'feel', 'comfortable', 'having', 'me', 'over', 'any', 'longer', '.', 'Years', 'of', 'hiding', 'has', 'produced', 'a', 'tension', 'between', 'the', 'two', 'sides', 'of', 'myself', ':', 'the', 'side', 'who', '``', 'came', 'out', \"''\", 'after', 'the', 'Muslim', 'ban', 'and', 'started', 'enthusiastically', ',', 'publicly', 'claiming', 'my', '``', 'Muslimness', \"''\", '...', 'and', 'the', 'side', 'that', 'had', 'built', 'a', 'life', 'where', 'people', 'were', 'completely', 'unaware', 'of', 'my', 'religion', ',', 'my', 'heritage', ',', 'and', 'family', ',', 'and', 'the', 'fact', 'that', ',', 'yes', ',', 'I', 'do', 'actually', 'pray', 'every', 'day', '.', 'Yes', ',', 'in', 'Arabic', '.', 'When', 'those', 'people', '--', 'the', 'ones', 'who', 'I', 'work', 'with', ',', 'who', 'I', 'regularly', 'but', 'casually', 'chat', 'with', 'in', 'the', 'world', '—', 'find', 'out', 'about', 'the', 'title', 'of', 'my', 'book', ',', 'I', 'typically', 'dread', 'the', 'reaction', '.', 'It', \"'s\", 'always', 'the', 'same', ':', '``', 'But', '...', 'you', \"'re\", 'not', 'Muslim', ',', 'right', '?', \"''\", 'Before', 'writing', 'the', 'book', ',', 'my', 'father', \"'s\", 'words', 'would', 'always', 'ring', 'in', 'my', 'ears', ':', '``', 'People', 'will', 'treat', 'you', 'differently', 'if', 'they', 'know', 'you', \"'re\", 'Muslim', '...', \"''\", 'But', 'I', 'wanted', 'people', 'to', 'know', 'I', 'was', 'a', 'Muslim', '.', 'I', \"'m\", 'proud', 'of', 'my', 'heritage', ',', 'and', 'I', 'feel', 'honored', 'to', 'practice', 'such', 'a', 'beautiful', '--', 'if', 'wildly', 'misunderstood', '--', 'religion', '.', 'My', 'novel', 'debunks', 'myths', 'about', 'Islam', 'by', 'gently', 'educating', 'people', '—', 'through', 'the', 'eyes', 'of', 'a', 'young', 'white-passing', '16-year-old', 'who', 'is', 'exploring', 'her', 'family', \"'s\", 'religion', 'herself', 'for', 'the', 'first', 'time', '--', 'but', 'it', 'was', 'important', 'to', 'me', 'not', 'to', '``', 'justify', \"''\", 'the', 'religion', 'for', 'Western', 'eyes', '.', 'Ironically', ',', 'after', 'I', 'started', 'publicly', 'identifying', 'as', 'Muslim', ',', 'I', 'was', 'especially', 'nervous', 'about', 'the', 'reaction', 'of', 'the', 'Muslim', 'community', '.', 'After', 'all', ',', 'I', 'do', \"n't\", 'wear', 'a', 'hijab', ',', 'I', \"'ve\", 'enjoyed', 'many', 'a', 'bottle', 'of', 'Cabernet', 'in', 'my', 'time', ',', 'I', 'rarely', 'attend', 'mosque', 'and', 'my', 'mother-in-law', 'is', 'even', 'an', 'Episcopalian', 'nun', '.', '(', 'That', \"'s\", 'a', 'different', 'story', 'for', 'another', 'time', '.', ')', 'Forget', 'my', 'appearance', ':', 'my', 'lifestyle', 'disqualified', 'me', 'from', 'being', 'seen', 'as', 'a', 'good', 'Muslim', '.', 'But', 'then', 'I', 'realized', 'I', 'was', 'falling', 'into', 'my', 'own', 'trap', ':', 'the', 'idea', 'that', 'Muslims', 'are', 'a', 'monolith', ',', 'and', 'the', 'idea', 'that', 'it', \"'s\", 'okay', 'for', 'anybody', 'to', 'believe', 'that', 'because', 'you', \"'re\", 'a', 'Muslim', ',', 'you', 'can', 'only', 'be', 'one', 'way', '.', 'There', 'is', 'no', 'such', 'thing', 'as', 'One', 'Muslim', '.', 'We', 'are', 'the', 'world', \"'s\", 'second-largest', 'religion', ',', 'and', 'that', 'includes', 'Muslims', 'of', 'every', 'nationality', ',', 'skin', 'color', ',', 'ethnicity', ',', 'lifestyle', 'and', 'background', '--', 'yes', ',', 'even', 'basic', 'American', 'girls', '.', 'The', 'worry', 'that', 'you', \"'re\", 'not', '``', 'good', 'enough', \"''\", 'is', 'a', 'pervasive', 'one', ',', 'and', 'as', 'I', \"'ve\", 'formed', 'bonds', 'with', 'Muslim', 'sisters', 'outside', 'of', 'my', 'family', ',', 'I', \"'ve\", 'realized', 'I', \"'m\", 'not', 'the', 'only', 'one', 'who', 'struggles', 'with', 'feeling', 'caught', 'between', 'two', 'worlds', 'or', 'who', 'desperately', 'wants', 'to', 'be', 'accepted', 'for', 'who', 'she', 'is', '.', 'Luckily', ',', 'the', 'support', 'from', 'the', 'Muslim', 'community', 'for', 'my', 'book', '--', 'and', 'for', 'me', '--', 'has', 'been', 'heartening', 'and', 'wonderfully', 'overwhelming', '.', 'So', ',', 'yes', ',', 'I', \"'m\", 'an', 'all-American', 'Muslim', 'Girl', '.', 'I', 'know', 'the', 'lyrics', 'to', 'every', 'Pearl', 'Jam', 'song', ',', 'and', 'I', 'pray', 'multiple', 'times', 'a', 'day', '.', 'I', 'choose', 'not', 'to', 'wear', 'hijab', ',', 'and', 'I', 'choose', 'to', 'eat', 'as', 'much', 'of', 'my', 'Amto', \"'s\", 'koosa', 'as', 'I', 'can', 'fit', 'into', 'my', 'stomach', 'when', 'I', \"'m\", 'home', 'visiting', 'family', '.', 'Like', 'my', 'Muslim', 'sisters', ',', 'I', 'am', 'complex', ',', 'and', 'I', 'am', 'empowered', 'and', 'I', 'adore', 'my', 'religion', '.', 'I', 'am', 'enough', ',', 'exactly', 'as', 'I', 'am', '.', '©', '2019', 'Cable', 'News', 'Network', '.', 'Turner', 'Broadcasting', 'System', ',', 'Inc.', 'All', 'Rights', 'Reserved', '.', 'Listen', 'to', 'CNN', '(', 'low-bandwidth', 'usage', ')', 'Go', 'to', 'the', 'full', 'CNN', 'experience']\n",
      "['Fox', \"'s\", 'prime', 'time', 'stars', 'are', 'telling', 'Trump', 'that', 'the', 'impeachment', 'hearings', 'are', 'a', \"'disaster\", \"'\", 'for', 'Democrats', 'New', 'York', '(', 'CNN', 'Business', ')', '-', 'A', 'version', 'of', 'this', 'article', 'first', 'appeared', 'in', 'the', '``', 'Reliable', 'Sources', \"''\", 'newsletter', '.', 'You', 'can', 'sign', 'up', 'for', 'free', 'right', 'here', '.', 'I', 'wanted', 'to', 'know', 'what', 'President', 'Trump', 'was', 'hearing', 'about', 'day', 'one', 'of', 'the', 'televised', 'impeachment', 'hearings', '.', 'So', 'I', 'decided', 'to', 'mute', 'all', 'my', 'other', 'TVs', 'and', 'just', 'watch', 'Fox', 'News', 'on', 'Wednesday', 'night', '.', 'I', 'heard', 'White', 'House', 'press', 'secretary', 'Stephanie', 'Grisham', 'say', 'that', '``', 'today', 'was', 'a', 'joke', '.', \"''\", 'I', 'heard', 'Donald', 'Trump', 'Jr.', 'say', '``', 'it', \"'s\", 'insanity', '.', \"''\", 'I', 'heard', 'Jeff', 'Sessions', 'ask', ',', '``', 'Where', \"'s\", 'the', 'beef', '?', \"''\", 'Here', \"'s\", 'how', 'I', 'would', 'sum', 'up', 'everything', 'I', 'heard', 'from', 'Fox', \"'s\", 'prime', 'time', 'hosts', ':', 'Wednesday', \"'s\", 'hearing', 'was', 'a', 'bust', '.', 'It', 'was', 'all', 'just', 'hearsay', '.', 'It', 'was', 'a', '``', 'disaster', \"''\", 'for', 'the', 'Democrats', 'and', 'a', '``', 'great', 'day', \"''\", 'for', 'the', 'Republicans', '.', 'Impeachment', 'is', '``', 'stupid', '.', \"''\", 'Impeachment', 'is', '``', 'fake', '.', \"''\", 'There', \"'s\", 'nothing', 'impeachable', 'here', '.', 'There', \"'s\", 'no', 'reason', 'to', 'hold', 'hearings', '.', 'This', 'inquiry', 'needs', 'to', 'stop', 'right', 'now', '.', 'The', 'message', 'was', 'one-sided', 'and', 'overwhelming', '.', 'Every', 'host', 'and', 'practically', 'every', 'guest', 'said', 'the', 'Republican', 'tribe', 'is', 'winning', 'and', 'the', 'Democrat', 'tribe', 'is', 'losing', '.', 'I', \"'m\", 'sure', 'the', 'president', 'loved', 'watching', 'every', 'minute', 'of', 'it', '.', 'That', \"'s\", 'one', 'of', 'the', 'reasons', 'why', 'this', 'right-wing', 'rhetoric', 'matters', 'so', 'much', '--', 'because', 'it', 'is', 'reassuring', 'and', 'emboldening', 'Trump', '.', 'I', 'decided', 'to', 'write', 'it', 'all', 'down', 'because', 'of', 'something', 'that', 'CNN', \"'s\", 'Oliver', 'Darcy', 'wrote', 'earlier', 'in', 'the', 'day', '.', '``', 'Do', \"n't\", 'expect', 'viewers', ',', 'listeners', ',', 'and', 'readers', 'of', 'right-wing', 'media', 'to', 'walk', 'away', 'from', 'Wednesday', \"'s\", 'impeachment', 'hearings', 'with', 'a', 'different', 'opinion', 'of', 'President', 'Trump', \"'s\", 'behavior', ',', \"''\", 'Darcy', 'said', '.', '``', 'In', 'fact', ',', 'it', \"'s\", 'possible', 'they', 'might', 'be', 'more', 'convinced', 'than', 'ever', 'that', 'Trump', 'did', 'nothing', 'wrong', '.', 'Why', '?', 'Because', 'right-wing', 'media', 'has', 'largely', '--', 'and', 'unsurprisingly', '--', 'focused', 'on', 'the', 'moments', 'in', 'the', 'hearing', 'favorable', 'to', 'its', 'preferred', 'narrative', '.', \"''\", 'He', 'was', 'right', '.', 'Here', \"'s\", 'what', 'Fox', 'News', 'viewers', 'heard', 'on', 'Wednesday', 'night', '...', 'Tucker', ':', '``', 'MEDIA', 'MELTDOWN', \"''\", 'On', 'the', 'OTHER', 'cable', 'news', 'channels', ',', '8', 'p.m.', 'host', 'Tucker', 'Carlson', 'said', ',', '``', 'it', 'was', 'like', 'Christmas', 'and', 'New', 'Year', \"'s\", 'and', 'the', 'Super', 'Bowl', 'all', 'put', 'together', '.', \"''\", 'Carlson', 'seemed', 'reluctant', 'to', 'cover', 'Wednesday', \"'s\", 'news', ',', 'calling', 'the', 'hearings', '``', 'stupid', \"''\", 'and', 'the', 'importance', 'of', 'the', 'impeachment', 'inquiry', '``', 'questionable', '.', \"''\", 'Grisham', 'called', 'it', 'a', '``', 'joke', \"''\", 'while', 'others', 'made', 'jokes', '—', 'Christian', 'Whiton', 'said', 'witnesses', 'Bill', 'Taylor', 'and', 'George', 'Kent', ',', 'both', 'veteran', 'public', 'servants', 'with', 'impressive', 'resumes', ',', '``', 'looked', 'like', 'people', 'who', 'sat', 'by', 'themselves', 'at', 'recess', '.', \"''\", 'It', 'did', \"n't\", 'end', 'there', '.', 'The', 'witnesses', 'were', 'insulted', 'all', 'evening', 'long', '.', 'And', 'Grisham', 'said', 'foreign', 'service', 'officials', 'who', 'are', 'resisting', 'Trump', \"'s\", 'policies', 'should', 'resign', '.', 'Later', 'in', 'the', 'hour', ',', 'Carlson', 'mocked', 'news', 'outlets', 'for', 'taking', 'this', 'once-in-a-generation', 'impeachment', 'inquiry', 'seriously', '.', '``', 'The', 'media', 'went', 'completely', 'bonkers', 'today', ',', \"''\", 'he', 'said', ',', 'while', 'the', 'on-screen', 'graphic', 'alleged', 'a', '``', 'MEDIA', 'MELTDOWN', '.', \"''\", 'He', 'agreed', 'with', 'his', 'guest', 'Larry', \"O'Connor\", ',', 'who', 'said', 'America', 'does', \"n't\", 'have', 'a', 'free', 'press', 'because', 'the', 'press', 'is', 'made', 'up', 'of', '``', 'political', 'activists', '.', \"''\", 'Both', 'speakers', ',', 'by', 'the', 'way', ',', 'are', 'political', 'activists', ',', 'and', 'the', 'press', 'IS', 'free', '.', 'A', 'few', 'minutes', 'later', ',', 'Trish', 'Regan', 'on', 'the', 'Fox', 'Business', 'Network', 'ran', 'a', 'similar', 'media-bashing', 'segment', '.', 'At', 'one', 'point', 'her', 'banner', 'just', 'said', '``', 'RPT', ':', 'LIBERAL', 'MEDIA', 'ANTI-TRUMP', 'BIAS', ',', \"''\", 'which', 'is', 'just', 'a', 'string', 'of', 'triggering', 'words', 'selected', 'to', 'keep', 'Regan', \"'s\", 'viewers', 'angry', 'and', 'attentive', '.', 'But', 'I', 'digress', '.', 'Back', 'to', 'Fox', 'News', '.', 'Carlson', 'wrapped', 'his', 'hour', 'by', 'calling', 'the', 'city', 'where', 'he', 'lives', ',', 'Washington', ',', 'D.C.', ',', '``', 'a', 'city', 'in', 'the', 'grip', 'of', 'insanity', '.', \"''\", 'Then', 'he', 'handed', 'off', 'to', 'Sean', 'Hannity', '...', 'Hannity', ':', 'Shut', 'this', 'down', '!', 'Hannity', 'dubbed', 'day', 'one', '``', 'THE', 'WORST', 'SHOW', 'ON', 'EARTH', '.', \"''\", 'He', 'said', 'the', 'Democrats', 'are', '``', 'a', 'national', 'disgrace', '.', \"''\", 'He', 'said', 'they', 'are', 'guilty', 'of', '``', 'an', 'abuse', 'of', 'their', 'power', '.', \"''\", '(', 'This', 'is', 'a', 'classic', 'case', 'of', '``', 'I', 'know', 'you', 'are', 'but', 'what', 'am', 'I', ',', \"''\", 'flipping', 'the', 'charge', 'against', 'Trump', 'back', 'on', 'his', 'accusers', '.', ')', 'The', 'Democrats', 'are', '``', 'corrupt', 'idiots', \"''\", 'who', 'look', '``', 'dumb', ',', 'bad', ',', 'stupid', ',', 'and', 'shallow', \"''\", 'after', 'Wednesday', \"'s\", '``', 'sham', 'hearing', ',', \"''\", 'he', 'said', '.', 'House', 'Intelligence', 'Committee', 'chair', 'Adam', 'Schiff', '?', 'A', '``', 'congenital', 'liar', '.', \"''\", 'Wednesday', \"'s\", 'witnesses', '?', 'Just', '``', 'self-important', ',', 'uncompelling', \"''\", 'bureaucrats', '.', 'The', 'hearing', 'was', 'so', 'bad', ',', 'Hannity', 'said', ',', 'that', '``', 'I', \"'m\", 'not', 'so', 'sure', \"''\", 'that', 'all', 'the', 'House', 'Democrats', 'will', 'vote', 'for', 'impeachment', '.', '``', 'It', 'was', 'that', 'bad', 'a', 'day', 'for', 'them', '.', \"''\", 'But', 'even', 'though', 'the', 'day', 'was', '``', 'a', 'disaster', 'for', 'Democrats', ',', \"''\", 'and', '``', 'the', 'Republicans', 'had', 'a', 'great', 'day', 'all', 'the', 'way', 'around', ',', \"''\", 'Hannity', 'said', '``', 'this', 'circus', ',', 'this', 'sham', ',', 'this', 'charade', \"''\", 'should', 'be', '``', 'shut', 'down', 'immediately', \"''\", 'for', '``', 'the', 'sake', 'of', 'the', 'country', '.', \"''\", 'As', 'for', 'Hannity', \"'s\", 'guests', ',', 'well', ',', 'Mark', 'Levin', 'called', 'Schiff', '``', 'an', 'incompetent', 'left-wing', 'boob', \"''\", 'and', 'likened', 'the', 'witnesses', 'to', '``', 'two', 'homeless', 'guys', '.', \"''\", 'Donald', 'Trump', 'Jr.', 'said', '``', 'everything', 'was', 'hearsay', \"''\", 'from', '``', 'career', 'government', 'bureaucrats', '.', \"''\", 'Steve', 'Scalise', 'said', '``', 'a', 'lot', \"''\", 'of', 'Democrats', 'are', 'worried', 'about', 'impeachment', 'backfiring', '.', 'Which', 'brings', 'me', 'to', 'the', '10', 'p.m.', 'hour', '...', 'Ed', 'Henry', 'shares', 'hearsay', 'Laura', 'Ingraham', ',', 'like', 'her', 'prime', 'time', 'colleagues', ',', 'criticized', 'Democrats', 'for', 'promoting', '``', 'hearsay', \"''\", 'from', 'witnesses', 'who', 'have', 'never', 'spoken', 'directly', 'with', 'the', 'president', '.', 'Ingraham', 'also', 'welcomed', 'Fox', \"'s\", 'chief', 'national', 'correspondent', 'Ed', 'Henry', ',', 'who', 'said', 'he', 'had', 'been', 'working', 'the', 'phones', 'on', 'Capitol', 'Hill', '.', 'Henry', 'said', 'he', 'spoke', 'to', '``', 'three', 'senior', 'Republicans', \"''\", 'who', 'told', 'him', 'that', 'THEY', 'were', 'talking', 'to', 'Democrats', 'who', 'were', '``', 'absolutely', 'deflated', \"''\", 'by', 'Wednesday', \"'s\", 'hearing', '.', 'So', '...', 'in', 'other', 'words', '...', 'hearsay', '.', 'Second-hand', 'information', '.', 'Then', ',', 'as', 'if', 'to', 'back', 'up', 'the', '``', 'deflated', \"''\", 'claim', ',', 'Henry', 'quoted', 'what', 'a', 'Dem', 'aide', 'told', 'the', 'Washington', 'Post', ':', '``', 'The', 'onus', 'is', 'on', 'us', 'to', 'wow', 'some', 'people', 'this', 'week', '.', \"''\", 'But', 'that', 'quote', 'came', 'out', 'before', 'Wednesday', \"'s\", 'hearing', ',', 'so', 'it', 'did', 'not', 'prove', 'his', 'point', '.', 'Ingraham', \"'s\", 'angle', 'These', 'banners', 'summed', 'up', 'Fox', \"'s\", '10', 'p.m.', 'hour', ':', '``', 'DEMOCRATS', \"'\", 'STAR', 'WITNESSES', 'BURN', 'OUT', \"''\", 'and', '``', 'DEMS', \"'\", 'IMPEACHMENT', 'COLLAPSE', '.', \"''\", 'Ingraham', 'asserted', 'that', 'impeachment', 'is', 'a', '``', 'cataclysmic', 'mistake', \"''\", 'for', 'the', 'other', 'party', '--', 'after', 'just', 'one', 'day', 'of', 'televised', 'testimony', '.', 'One', 'of', 'her', 'guests', ',', 'Republican', 'congressman', 'Chris', 'Stewart', ',', 'said', '``', 'it', 'was', 'really', 'just', 'a', 'huge', 'dud', \"''\", 'and', '``', 'there', 'just', 'was', \"n't\", 'any', 'surprises', 'or', 'any', 'bombshells', ',', \"''\", 'even', 'though', 'there', 'was', ',', 'in', 'fact', ',', 'a', 'big', 'surprise', ':', 'Taylor', \"'s\", 'disclosure', 'about', 'a', 'July', '26', 'phone', 'call', 'with', 'Gordon', 'Sondland', '.', 'Later', 'in', 'the', 'day', ',', 'Trump', 'claimed', '``', 'I', \"'ve\", 'never', 'heard', \"''\", 'of', 'that', 'call', '.', 'Pretty', 'soon', 'we', \"'ll\", 'know', 'whether', 'or', 'not', 'that', 'was', 'a', 'lie', '.', 'But', 'that', 'new', 'disclosure', 'barely', 'came', 'up', 'during', 'Fox', \"'s\", 'prime', 'time', 'shows', '.', 'Another', 'GOP', 'lawmaker', ',', 'Mark', 'Meadows', ',', 'told', 'Ingraham', 'that', 'Wednesday', 'was', '``', 'a', 'swing', 'and', 'a', 'miss', 'for', 'the', 'Democrats', '.', \"''\", 'And', 'he', 'accused', 'the', 'witnesses', 'of', 'having', 'a', '``', 'Ukraine', 'first', ',', \"''\", 'not', '``', 'America', 'first', ',', \"''\", 'sentiment', '.', 'At', 'one', 'point', 'in', 'the', 'hour', ',', 'when', 'Fox', \"'s\", 'banner', 'said', 'the', '``', 'IMPEACHMENT', 'STUNT', 'WILL', 'HAUNT', '2020', 'DEMS', ',', \"''\", 'I', 'looked', 'up', 'at', 'MSNBC', 'and', 'saw', 'a', 'banner', 'that', 'said', '``', 'REPUBLICANS', 'SCRAMBLE', 'TO', 'DEFEND', 'TRUMP', 'AS', 'NEW', 'EVIDENCE', 'TIES', 'TRUMP', 'MORE', 'DIRECTLY', 'TO', 'UKRAINE', 'PUSH', '.', \"''\", 'Maybe', 'Republican', 'lawmakers', 'are', '``', 'scrambling', \"''\", 'to', 'defend', 'Trump', ',', 'but', 'right-wing', 'TV', 'and', 'radio', 'hosts', 'are', \"n't\", 'scrambling', 'at', 'all', '.', 'They', \"'re\", 'sounding', 'very', 'confident', '.', 'Now', ',', 'maybe', 'that', \"'s\", 'just', 'part', 'of', 'the', 'performance', ',', 'part', 'of', 'the', 'act', '--', 'But', 'Fox', \"'s\", 'stars', 'on', 'Wednesday', 'night', 'were', 'much', 'more', 'effective', 'than', 'some', 'of', 'the', 'GOP', 'questioners', 'at', 'the', 'hearing', '.', 'They', \"'re\", 'not', 'talking', 'about', 'the', 'evidence', 'of', 'extortion', '--', 'they', \"'re\", 'talking', 'about', 'bitter', 'Dems', 'and', 'brave', 'Republicans', 'and', 'ensuring', 'the', 'audience', 'that', 'the', 'process', 'will', 'hurt', 'the', 'Dems', 'in', '2020', '...', 'Notes', 'and', 'quotes', '--', 'Try', 'to', 'square', 'Fox', \"'s\", 'prime', 'time', 'talking', 'points', 'with', '``', 'Fox', 'News', 'Sunday', \"''\", 'moderator', 'Chris', 'Wallace', \"'s\", 'midday', 'assessment', ':', '``', 'I', 'think', 'that', 'William', 'Taylor', 'was', 'a', 'very', 'impressive', 'witness', 'and', 'was', 'very', 'damaging', 'to', 'the', 'president', '...', \"''\", '(', 'The', 'Hill', ')', '--', 'This', 'Lou', 'Dobbs', 'segment', 'is', 'sparking', 'outrage', 'on', 'social', 'media', ':', '``', 'The', 'husband-and-wife', 'Trump', 'defense', 'team', 'of', 'Joe', 'diGenova', 'and', 'Victoria', 'Toensing', \"''\", 'pushed', '``', 'an', 'outlandish', 'conspiracy', 'theory', 'about', 'Ukraine', ',', 'baselessly', 'alleging', 'that', 'left-wing', 'billionaire', 'George', 'Soros', \"'controls\", 'a', 'large', 'part', 'of', 'the', 'foreign', 'service', 'part', 'of', 'the', 'State', 'Department', 'and', 'the', 'activities', 'of', 'FBI', 'agents', 'overseas', '...', \"'\", \"''\", '(', 'Mediaite', ')', '--', '``', 'The', 'Republican', 'playbook', 'here', 'is', 'a', 'time-honored', 'one', ':', 'delay', ',', 'deny', ',', 'obfuscate', ',', 'and', ',', 'if', 'that', 'fails', ',', 'beg', 'Americans', 'to', 'turn', 'off', 'the', 'TV', ',', \"''\", 'Susan', 'Glasser', 'writes', '...', '(', 'New', 'Yorker', ')', '--', 'Via', 'Frank', 'Pallotta', ',', 'here', \"'s\", 'how', 'the', 'late-night', 'shows', 'covered', 'day', 'one', '.', 'Birthday', 'boy', 'Jimmy', 'Kimmel', 'said', 'he', '``', 'got', 'exactly', 'what', 'I', 'wanted', 'this', 'year', \"''\", 'thanks', 'to', 'the', 'hearings', '...', '(', 'CNN', ')', 'Darcy', \"'s\", 'bottom', 'line', '...', 'Oliver', 'Darcy', 'writes', ':', 'All', 'day', 'long', ',', 'pro-Trump', 'websites', 'hyped', 'clips', 'of', 'GOP', 'stars', 'like', 'Jim', 'Jordan', 'and', 'Devin', 'Nunes', '``', 'eviscerating', \"''\", 'or', '``', 'destroying', \"''\", 'their', 'opponents', '.', 'THOSE', 'were', 'the', 'moments', 'that', 'generated', 'focus', '--', 'not', 'the', 'instances', 'when', 'Taylor', 'or', 'Kent', 'shed', 'new', 'light', 'on', 'the', 'Ukraine', 'scandal', '.', 'And', 'after', 'the', 'hearings', 'wrapped', ',', 'Trump', \"'s\", 'defenders', 'in', 'media', 'dismissed', 'the', 'hearings', 'as', '``', 'boring', \"''\", 'and', 'a', 'bust', 'for', 'the', 'Democrats', '.', 'If', 'you', 'were', 'watching', 'the', 'hearing', 'through', 'the', 'lens', 'of', 'the', 'right-wing', 'media', ',', 'you', 'probably', 'did', \"n't\", 'see', 'a', 'case', 'against', 'the', 'president', 'being', 'built', '.', 'You', 'probably', 'walked', 'away', 'thinking', 'the', 'Democrats', \"'\", 'case', 'collapsed', '...', '©', '2019', 'Cable', 'News', 'Network', '.', 'Turner', 'Broadcasting', 'System', ',', 'Inc.', 'All', 'Rights', 'Reserved', '.', 'Listen', 'to', 'CNN', '(', 'low-bandwidth', 'usage', ')', 'Go', 'to', 'the', 'full', 'CNN', 'experience']\n",
      "['Marine', 'deserter', 'wanted', 'for', 'murder', 'spotted', 'in', 'Roanoke', ',', 'Virginia', ',', 'prompting', 'a', 'school', 'shutdown', '(', 'CNN', ')', '-', 'The', 'manhunt', 'for', 'a', 'Marine', 'deserter', 'wanted', 'for', 'murder', 'led', 'Roanoke', ',', 'Virginia', ',', 'police', 'to', 'shut', 'down', 'all', 'schools', 'in', 'the', 'city', 'on', 'Thursday', '.', 'Authorities', 'received', 'a', 'call', 'about', '4', 'a.m.', 'regarding', 'a', 'sighting', 'of', 'Michael', 'Alexander', 'Brown', ',', '22', ',', 'who', 'is', 'suspected', 'of', 'killing', 'his', 'mother', \"'s\", 'boyfriend', 'last', 'week', 'in', 'the', 'town', 'of', 'Hardy', ',', 'about', '9', 'miles', 'east', 'of', 'Roanoke', '.', 'The', 'caller', 'told', 'investigators', 'that', 'a', 'man', 'in', 'a', 'black', 'jacket', 'was', 'tapping', 'on', 'a', 'window', 'at', 'Brown', \"'s\", 'grandmother', \"'s\", 'house', ',', 'Roanoke', 'police', 'Chief', 'Tim', 'Jones', 'said', '.', 'Officers', 'responded', 'and', 'were', '``', 'able', 'to', 'confirm', 'to', 'the', 'best', 'of', 'our', 'ability', 'that', 'it', 'was', 'Mr.', 'Brown', ',', \"''\", 'he', 'said', '.', 'While', 'the', 'search', 'continued', 'into', 'the', 'evening', ',', 'officials', 'said', 'classes', 'will', 'resume', 'Friday', '.', 'He', 'switched', 'vehicles', ',', 'police', 'say', 'Though', 'Franklin', 'County', 'authorities', 'said', 'earlier', 'this', 'week', 'that', 'Brown', 'was', 'driving', 'a', '2008', 'Lincoln', 'Town', 'Car', ',', 'Jones', 'said', 'Brown', 'was', 'believed', 'to', 'be', 'driving', 'an', 'RV', 'in', 'Roanoke', '.', 'The', 'RV', ',', 'located', 'nearby', ',', 'was', 'secured', 'by', 'a', 'tactical', 'team', ',', 'he', 'said', '.', 'Brown', 'was', 'believed', 'to', 'be', 'on', 'foot', ',', 'perhaps', 'looking', 'for', 'another', 'vehicle', ',', 'Jones', 'said', '.', 'In', 'addition', 'to', 'asking', 'Roanoke', 'students', ',', 'faculty', 'and', 'staff', 'not', 'to', 'report', 'to', 'school', 'Thursday', ',', 'police', 'also', 'wanted', 'anyone', 'who', 'lives', 'within', 'a', 'half', 'mile', 'of', 'Patrick', 'Henry', 'High', 'School', 'on', 'Grandin', 'Road', 'to', 'shelter', 'in', 'place', 'and', 'keep', 'their', 'doors', 'locked', '.', 'That', 'shelter', 'request', 'was', 'later', 'lifted', '.', '``', 'We', 'continue', 'to', 'urge', 'residents', 'to', 'remain', 'vigilant', 'and', 'report', 'any', 'suspicious', 'activity', '.', 'Remember', 'to', 'lock', 'your', 'vehicles', 'and', 'your', 'homes', ',', \"''\", 'police', 'said', 'in', 'a', 'Thursday', 'evening', 'statement', '.', '``', 'The', 'search', 'for', 'Brown', 'continues', 'tonight', '.', \"''\", 'For', 'residents', 'who', 'must', 'travel', ',', 'Jones', 'asked', 'that', 'they', 'be', 'vigilant', ',', 'travel', 'in', 'pairs', 'and', 'avoid', 'the', 'area', 'around', 'the', 'high', 'school', 'as', 'Brown', 'may', 'be', 'looking', 'for', '``', 'other', 'opportunities', 'to', 'go', 'mobile', 'again', ',', \"''\", 'Jones', 'said', '.', 'Did', 'family', 'bring', 'him', 'to', 'Roanoke', '?', 'Brown', 'deserted', 'his', 'post', 'at', 'Camp', 'Lejeune', 'in', 'North', 'Carolina', 'last', 'month', ',', 'police', 'said', '.', 'Around', 'noon', 'Saturday', ',', 'the', 'Franklin', 'County', 'Sheriff', \"'s\", 'Office', 'responded', 'to', 'a', 'shooting', 'call', 'in', 'Hardy', ',', 'where', 'they', 'found', 'Rodney', 'Brown', ',', '54', ',', 'dead', 'in', 'his', 'home', ',', 'authorities', 'said', '.', 'Rodney', 'Brown', \"'s\", 'girlfriend', '--', 'who', 'is', 'Michael', 'Brown', \"'s\", 'mother', '--', 'called', 'police', 'after', 'finding', 'Rodney', \"'s\", 'body', 'in', 'the', 'house', ',', 'said', 'Capt', '.', 'Phillip', 'Young', 'with', 'the', 'sheriff', \"'s\", 'office', '.', 'Michael', 'Brown', 'is', 'charged', 'with', 'second-degree', 'murder', 'and', 'using', 'a', 'firearm', 'in', 'the', 'commission', 'of', 'a', 'felony', '.', 'The', 'motive', 'in', 'the', 'killing', 'is', 'unclear', '.', 'He', 'is', 'considered', 'dangerous', 'and', 'may', 'be', 'armed', 'with', 'a', '``', 'shoulder-held', ',', 'high-capacity', 'weapon', ',', \"''\", 'Jones', 'said', '.', 'He', 'has', 'family', 'ties', 'in', 'the', 'Roanoke', 'area', ',', 'the', 'chief', 'said', ',', 'but', 'Brown', 'is', 'believed', 'to', 'be', 'operating', 'on', 'his', 'own', ',', 'with', 'no', 'accomplices', '.', 'The', 'Franklin', 'County', 'Sheriff', \"'s\", 'Office', 'warned', 'the', 'public', 'Monday', 'that', 'Brown', 'was', 'armed', 'with', 'a', 'high-powered', 'firearm', 'and', 'possibly', 'other', 'weapons', '.', 'He', 'is', 'known', 'to', 'frequent', 'national', 'parks', 'and', 'forests', ',', 'and', 'he', 'may', 'be', 'living', 'in', 'the', 'woods', ',', 'the', 'sheriff', \"'s\", 'office', 'said', 'this', 'week', '.', '``', 'We', 'are', 'receiving', 'intelligence', 'that', 'he', 'was', 'in', 'transit', 'yesterday', 'and', 'was', 'seen', 'in', 'several', 'areas', 'outside', 'the', 'Roanoke', 'Valley', ',', \"''\", 'Jones', 'said', '.', '``', 'I', 'think', 'family', 'is', 'what', 'brought', 'him', 'here', '.', 'We', 'hope', 'family', 'can', 'appeal', 'to', 'him', '.', \"''\", 'Police', ':', 'Be', 'on', 'the', 'lookout', ',', 'but', 'be', 'careful', 'Anyone', 'who', 'sees', 'him', 'should', 'use', 'caution', 'and', 'call', 'police', '.', 'Brown', 'is', 'about', '6', 'feet', 'tall', 'and', '154', 'pounds', 'and', 'has', 'brown', 'hair', 'and', 'blue', 'eyes', ',', 'police', 'said', '.', 'Jones', 'described', 'Brown', 'as', 'a', '``', 'military-trained', 'veteran', '(', 'who', ')', 'knows', 'how', 'to', 'navigate', 'avenues', 'of', 'approach', 'and', 'escape', ',', 'and', 'to', 'maneuver', 'his', 'way', 'around', 'various', 'types', 'of', 'terrain', '.', \"''\", '``', 'He', 'is', 'navigationally', 'savvy', ',', \"''\", 'the', 'chief', 'said', '.', '``', 'He', \"'s\", 'not', 'afraid', 'to', 'change', 'his', 'location', '.', 'He', \"'s\", 'not', 'afraid', 'to', 'change', 'his', 'look', '.', \"''\", 'The', 'US', 'Marshals', 'Service', 'is', 'offering', 'a', '$', '10,000', 'reward', 'for', 'information', 'leading', 'to', 'Brown', \"'s\", 'apprehension', ',', 'Jones', 'said', '.', 'State', 'authorities', ',', 'the', 'FBI', 'and', 'the', 'Bureau', 'of', 'Alcohol', ',', 'Tobacco', 'Firearms', 'and', 'Explosives', 'are', 'also', 'assisting', 'in', 'the', 'search', '.', 'Asked', 'whether', 'he', 'had', 'a', 'message', 'for', 'Brown', ',', 'Jones', 'said', ',', '``', 'I', \"'d\", 'like', 'him', 'to', 'know', 'that', 'he', 'needs', 'to', 'contact', 'us', 'so', 'that', 'we', 'can', 'make', 'arrangements', 'and', 'he', 'can', 'turn', 'himself', 'in', '.', '``', 'We', 'can', 'do', 'this', 'the', 'easy', 'way', '.', '...', 'He', 'may', 'at', 'this', 'point', 'and', 'time', 'feel', 'like', 'he', 'has', 'run', 'out', 'of', 'alternatives', ',', 'but', 'he', 'does', 'have', 'alternatives', '.', \"''\", '©', '2019', 'Cable', 'News', 'Network', '.', 'Turner', 'Broadcasting', 'System', ',', 'Inc.', 'All', 'Rights', 'Reserved', '.', 'Listen', 'to', 'CNN', '(', 'low-bandwidth', 'usage', ')', 'Go', 'to', 'the', 'full', 'CNN', 'experience']\n",
      "['Trump', 'Organization', 'explores', 'selling', 'DC', 'hotel', '(', 'CNN', ')', '-', 'The', 'Trump', 'Organization', 'is', 'considering', 'selling', 'its', 'three-year-old', 'hotel', 'in', 'downtown', 'Washington', ',', 'DC', ',', 'that', \"'s\", 'been', 'a', 'focus', 'of', 'ongoing', 'complaints', 'that', 'Donald', 'Trump', 'is', 'profiting', 'off', 'his', 'role', 'as', 'President', '.', 'Eric', 'Trump', ',', 'the', 'President', \"'s\", 'son', 'and', 'executive', 'vice', 'president', 'of', 'The', 'Trump', 'Organization', ',', 'said', 'the', 'company', 'has', 'hired', 'real', 'estate', 'firm', 'JLL', 'to', 'assist', 'the', 'possible', 'sale', 'of', 'the', 'Trump', 'International', 'Hotel', '.', '``', 'Since', 'we', 'opened', 'our', 'doors', ',', 'we', 'have', 'received', 'tremendous', 'interest', 'in', 'this', 'hotel', 'and', 'as', 'real', 'estate', 'developers', ',', 'we', 'are', 'always', 'willing', 'to', 'explore', 'our', 'options', ',', \"''\", 'Eric', 'Trump', 'said', 'in', 'a', 'statement', '.', 'No', 'asking', 'price', 'was', 'floated', ',', 'but', 'it', 'is', 'likely', 'to', 'be', 'expensive', '.', 'The', 'hotel', 'is', 'in', 'the', 'Old', 'Post', 'Office', 'building', ',', 'a', 'federally', 'owned', 'property', 'on', 'Pennsylvania', 'Avenue', 'between', 'the', 'White', 'House', 'and', 'Capitol', 'building', ',', 'and', 'has', 'been', 'a', 'source', 'of', 'controversy', 'since', 'Trump', 'took', 'office', 'in', '2017', '.', 'The', 'President', 'has', 'reported', 'earning', '$', '80', 'million', 'in', 'revenue', 'from', 'the', 'hotel', 'while', 'in', 'office', ',', 'according', 'to', 'his', 'personal', 'financial', 'reports', '.', 'Several', 'lawsuits', 'have', 'been', 'filed', 'accusing', 'Trump', 'of', 'violating', 'the', 'Constitution', \"'s\", 'emolument', 'clause', '.', 'Although', 'Trump', 'resigned', 'from', 'his', 'companies', 'before', 'taking', 'office', ',', 'he', 'transferred', 'his', 'assets', 'into', 'a', 'trust', '.', 'This', 'arrangement', 'allows', 'him', 'to', 'benefit', 'financially', 'from', 'those', 'businesses', ',', 'including', 'the', 'DC', 'hotel', '.', '``', 'People', 'are', 'objecting', 'to', 'us', 'making', 'so', 'much', 'money', 'on', 'the', 'hotel', 'and', 'therefore', 'we', 'may', 'be', 'willing', 'to', 'sell', ',', \"''\", 'Eric', 'Trump', 'said', '.', 'His', 'statement', 'did', 'not', 'list', 'profit', 'figures', '.', 'A', 'federal', 'court', 'recently', 'revived', 'a', 'lawsuit', 'from', 'the', 'District', 'of', 'Columbia', 'and', 'Maryland', ',', 'who', 'say', 'the', 'Trump', 'property', 'has', 'harmed', 'Washington', 'hotels', 'and', 'other', 'businesses', 'the', 'states', 'partially', 'own', '.', 'The', 'House', 'Transportation', 'Committee', 'this', 'week', 'issued', 'a', 'subpoena', 'for', 'documents', 'on', 'the', 'lease', 'from', 'General', 'Services', 'Administration', '.', '``', 'The', 'American', 'people', 'have', 'a', 'right', 'to', 'know', 'whether', 'the', 'President', 'of', 'the', 'United', 'States', ',', 'who', 'is', 'serving', 'as', 'both', 'the', 'landlord', 'and', 'tenant', 'of', 'the', 'Old', 'Post', 'Office', 'Building', ',', 'is', 'violating', 'the', 'Emoluments', 'Clauses', 'of', 'the', 'US', 'Constitution', 'to', 'enrich', 'himself', ',', \"''\", 'said', 'Committee', 'Chairman', 'Peter', 'DeFazio', ',', 'D-Oregon', '.', 'After', 'news', 'broke', 'that', 'the', 'hotel', 'might', 'be', 'for', 'sale', 'soon', ',', 'DeFazio', 'responded', 'in', 'a', 'statement', ':', '``', 'Removing', 'the', 'Trump', 'Organization', 'from', 'the', 'lease', 'of', 'a', 'taxpayer-owned', 'building', 'is', 'a', 'good', 'place', 'to', 'start', 'to', 'ensure', 'President', 'Trump', 'is', \"n't\", 'making', 'a', 'profit', 'as', 'both', 'landlord', 'and', 'tenant', 'of', 'the', 'Old', 'Post', 'Office', 'Building', ',', 'but', '...', 'I', \"'m\", 'skeptical', 'that', 'this', 'latest', 'development', 'is', \"n't\", 'an', 'attempt', 'to', 'make', 'a', 'massive', 'profit', 'that', 'directly', 'benefits', 'the', 'Trump', 'family', 'so', 'I', 'will', 'be', 'following', 'this', 'marketing', 'attempt', 'closely', '.', \"''\", 'The', 'GSA', 'did', 'not', 'immediately', 'respond', 'to', 'a', 'request', 'for', 'comment', '.', 'The', 'Wall', 'Street', 'Journal', 'first', 'reported', 'the', 'possible', 'sale', '.', 'Earlier', 'this', 'year', ',', 'the', 'inspector', 'general', 'of', 'the', 'General', 'Services', 'Administration', 'said', 'the', 'agency', '``', 'ignored', 'the', 'Constitution', \"''\", 'when', 'deciding', 'to', 'maintain', 'the', 'lease', 'of', 'the', 'building', 'to', 'the', 'hotel', 'after', 'he', 'was', 'elected', 'to', 'the', 'White', 'House', '.', 'The', 'Trump', 'Organization', 'won', 'the', 'contract', 'in', '2012', 'and', 'the', 'hotel', 'opened', 'in', '2016', '.', '©', '2019', 'Cable', 'News', 'Network', '.', 'Turner', 'Broadcasting', 'System', ',', 'Inc.', 'All', 'Rights', 'Reserved', '.', 'Listen', 'to', 'CNN', '(', 'low-bandwidth', 'usage', ')', 'Go', 'to', 'the', 'full', 'CNN', 'experience']\n",
      "['Alicia', 'Keys', 'will', 'return', 'as', 'host', 'of', 'the', 'Grammy', 'Awards', 'in', '2020', '(', 'CNN', ')', '-', 'Alicia', 'Keys', 'is', 'hosting', 'the', 'Grammy', 'Awards', 'again', 'next', 'year', '.', 'Her', '2020', 'return', 'for', 'the', '62nd', 'Annual', 'Grammys', 'puts', 'her', 'in', 'rare', 'company', 'after', 'she', 'became', 'the', 'first', 'female', 'to', 'host', 'the', 'awards', 'in', '14', 'years', '.', 'Before', 'that', ',', 'the', 'last', 'woman', 'was', 'Queen', 'Latifah', 'in', '2005', '.', '``', 'At', 'first', ',', 'I', 'did', 'think', 'last', 'year', 'was', 'a', 'one-time', 'thing', ',', 'but', 'when', 'the', 'opportunity', 'came', 'back', 'around', ',', 'there', 'was', 'no', 'question', 'about', 'returning', 'as', 'host', ',', \"''\", 'Keys', 'told', 'Billboard', 'in', 'a', 'statement', '.', '``', 'Last', 'year', 'was', 'such', 'a', 'powerful', 'experience', 'for', 'me', '.', 'Not', 'only', 'did', 'I', 'feel', 'the', 'love', 'in', 'the', 'room', ',', 'but', 'I', 'felt', 'it', 'from', 'around', 'the', 'world', 'and', 'it', 'confirmed', 'the', 'healing', 'and', 'unifying', 'power', 'of', 'music', '.', \"''\", 'The', 'show', 'will', 'take', 'take', 'place', 'on', 'January', '26', 'at', 'the', 'Staples', 'Center', 'in', 'Los', 'Angeles', '.', 'This', 'year', ',', 'Keys', 'said', 'her', 'status', 'as', 'a', 'regular', 'award', 'receiver', 'helped', 'with', 'her', 'hosting', 'duties', '.', '``', 'I', 'know', 'what', 'it', 'feels', 'like', 'to', 'be', 'on', 'that', 'stage', ',', 'and', 'I', \"'m\", 'going', 'to', 'bring', 'that', 'vibe', 'and', 'energy', ',', \"''\", 'the', 'entertainer', 'said', '.', 'On', 'Wednesday', ',', 'Keys', 'had', 'some', 'fun', 'with', 'the', 'announcement', ',', 'posting', 'a', 'video', 'of', 'herself', 'as', 'the', 'current', 'Alicia', 'Keys', 'discussing', 'hosting', 'with', 'Alicia', 'Keys', 'from', 'February', '2019', '.', '``', 'The', 'people', 'wan', 'na', 'know', ':', 'How', 'ya', 'gon', 'na', 'top', 'this', 'Alicia', ',', \"c'mon\", '!', ',', \"''\", 'last', 'year', \"'s\", 'version', 'of', 'Keys', 'says', 'in', 'the', 'video', '.', '©', '2019', 'Cable', 'News', 'Network', '.', 'Turner', 'Broadcasting', 'System', ',', 'Inc.', 'All', 'Rights', 'Reserved', '.', 'Listen', 'to', 'CNN', '(', 'low-bandwidth', 'usage', ')', 'Go', 'to', 'the', 'full', 'CNN', 'experience']\n",
      "['Unlike', 'Trump', 'Ukraine', 'scandal', ',', 'no', 'one', 'died', 'at', 'Watergate', 'Editor', \"'s\", 'Note', ':', 'Paul', 'Callan', 'is', 'a', 'CNN', 'legal', 'analyst', ',', 'a', 'former', 'New', 'York', 'homicide', 'prosecutor', 'and', 'of', 'counsel', 'to', 'the', 'New', 'York', 'law', 'firm', 'of', 'Edelman', '&', 'Edelman', 'PC', ',', 'focusing', 'on', 'wrongful', 'conviction', 'and', 'civil', 'rights', 'cases', '.', 'Follow', 'him', 'on', 'Twitter', '@', 'paulcallan', '.', 'The', 'opinions', 'expressed', 'in', 'this', 'commentary', 'are', 'his', 'own', '.', 'View', 'more', 'opinion', 'on', 'CNN', '.', '(', 'CNN', ')', '-', 'Prosecutors', 'in', 'serious', 'criminal', 'cases', 'like', 'to', 'start', 'strong', 'and', 'finish', 'strong', 'to', 'bring', 'home', 'a', 'guilty', 'verdict', '.', 'They', 'have', 'to', 'grab', 'the', 'attention', 'of', 'the', 'jury', 'before', 'defense', 'attorneys', 'sully', 'the', 'water', '.', 'Former', 'federal', 'prosecutor', 'and', 'Harvard', 'Law', 'grad', ',', 'House', 'Intelligence', 'Committee', 'Chair', 'Adam', 'Schiff', ',', 'successfully', 'executed', 'the', 'first', 'part', 'of', 'this', 'strategy', ',', 'making', 'a', 'compelling', 'case', 'against', 'President', 'Donald', 'Trump', 'in', 'a', 'carefully', 'crafted', 'and', 'smoothly', 'delivered', 'opening', 'statement', '.', 'He', 'successfully', 'brushed', 'aside', 'an', 'assortment', 'of', '``', 'points', 'of', 'order', \"''\", 'and', 'other', 'parliamentary', 'procedure', 'stalling', 'tactics', 'which', 'were', 'employed', 'by', 'the', 'minority', 'Republicans', 'to', 'disrupt', 'the', 'flow', 'of', 'the', 'proceedings', '.', 'He', 'also', 'hinted', 'at', 'a', 'surprise', '.', 'The', 'real', 'case', 'against', 'President', 'Trump', 'may', 'rest', 'on', '``', 'abuse', 'of', 'power', \"''\", 'as', 'charged', 'in', 'prior', 'impeachment', 'cases', '.', 'This', 'relates', 'to', 'the', 'President', \"'s\", 'defiance', 'of', 'congressional', 'subpoenas', 'and', 'his', 'willful', 'refusal', 'to', 'cooperate', 'with', 'lawful', 'congressional', 'investigations', '.', 'Such', 'actions', 'may', 'violate', 'the', 'Constitution', \"'s\", 'requirement', 'of', 'checks', 'and', 'balances', 'between', 'the', 'three', 'branches', 'of', 'government', '.', 'After', 'all', ',', 'the', 'founding', 'fathers', 'had', 'just', 'fought', 'the', 'Revolutionary', 'War', 'to', 'curb', 'tyranny', 'and', 'none', 'of', 'them', 'wanted', 'a', 'tyrannical', 'president', '.', 'The', 'abuse', 'charge', 'provides', 'a', 'good', 'backup', 'impeachment', 'theory', 'if', 'the', 'Ukraine', 'allegations', 'fail', 'to', 'resonate', 'in', 'the', 'Republican-majority', 'Senate', '.', 'Republicans', 'should', 'fear', 'that', 'a', 'tyrannical', 'Trump', 'may', 'someday', 'be', 'followed', 'by', 'an', 'equally', 'tyrannical', 'Democrat', '.', 'Or', 'maybe', 'they', 'enjoy', 'being', 'slapped', 'around', 'by', 'the', 'executive', 'branch', 'of', 'government', '.', 'Mr.', 'Schiff', 'also', 'followed', 'another', 'rule', 'employed', 'by', 'respected', 'trial', 'attorneys', '.', 'They', 'never', '``', 'overpromise', '.', \"''\", 'Schiff', 'accomplished', 'this', 'task', ',', 'delivering', 'a', 'non-inflammatory', 'but', 'carefully', 'constructed', 'explanation', 'of', 'how', 'the', 'President', 'allegedly', 'abused', 'his', 'power', 'by', 'using', '$', '400', 'million', 'of', 'American', 'military', 'aid', 'to', 'Ukraine', 'as', 'his', 'own', 'personal', 'weapon', 'in', 'an', 'attempt', 'to', 'destroy', 'his', 'political', 'opponent', ',', 'Joe', 'Biden', '.', 'Schiff', 'then', 'proceeded', 'to', 'swear', 'in', 'two', 'witnesses', 'who', 'would', 'testify', 'together', '.', 'They', 'were', 'US', 'chargé', \"d'affaires\", 'in', 'Ukraine', ',', 'Ambassador', 'Bill', 'Taylor', ',', 'and', 'Deputy', 'Assistant', 'Secretary', 'of', 'State', 'for', 'European', 'and', 'Eurasian', 'Affairs', 'George', 'Kent', '.', 'Throughout', 'the', 'hearing', ',', 'Kent', 'remained', 'relatively', 'silent', 'while', 'Taylor', ',', 'a', 'gray-haired', ',', 'distinguished', 'diplomat', 'right', 'out', 'of', 'central', 'casting', 'did', 'the', 'heavy', 'lifting', '.', 'Taylor', 'explained', 'in', 'somber', 'but', 'sometimes', 'colorful', 'detail', 'the', 'bizarre', 'backdoor', 'channel', 'to', 'Ukraine', 'designed', 'by', 'Trump', 'and', 'his', 'minister', '--', 'without', 'any', 'portfolio', 'whatsoever', '--', 'Rudy', 'Giuliani', '.', 'The', 'purpose', 'of', 'this', 'back', 'channel', 'was', 'to', 'use', 'Giuliani', 'and', 'a', 'pair', 'of', 'Trump', 'appointees', 'rather', 'than', 'the', 'so-called', '``', 'Deep', 'State', \"''\", 'professional', 'diplomats', 'who', 'Mr.', 'Trump', 'distrusts', ',', 'to', 'convey', 'an', 'ominous', 'warning', 'to', 'Ukrainian', 'President', 'Volodymyr', 'Zelensky', '.', 'The', 'message', 'in', 'substance', ':', '``', 'No', 'Biden', 'investigation', ',', 'no', '$', '400', 'million', 'in', 'military', 'aid', '.', \"''\", 'The', 'announcement', 'would', 'be', 'made', 'in', 'an', 'interview', 'on', 'Trump', \"'s\", 'most', 'vilified', 'network', ',', 'CNN', '.', 'Taylor', \"'s\", 'testimony', 'revealed', 'that', 'in', 'visits', 'to', 'Ukraine', \"'s\", 'Donbass', 'front', 'he', 'was', 'told', 'that', 'at', 'least', 'one', 'or', 'two', 'Ukrainians', 'were', 'dying', 'every', 'day', 'in', 'a', 'hot', 'war', 'with', 'Russia', 'for', 'control', 'of', 'the', 'Ukrainian', 'coal', 'production', 'region', '.', 'American', 'aid', 'was', 'desperately', 'needed', ',', 'and', 'delay', 'meant', 'death', 'to', 'Ukraine', \"'s\", 'soldiers', '.', 'The', 'conclusion', 'any', 'reasonable', 'person', 'would', 'draw', 'from', 'such', 'testimony', 'is', 'that', 'the', 'President', \"'s\", 'threats', 'and', 'the', 'actual', 'withholding', 'of', 'aid', 'was', 'aiding', 'and', 'abetting', 'Russia', '.', 'It', 'was', 'also', 'causing', 'the', 'death', 'of', 'brave', 'Ukrainians', ',', 'American', 'allies', 'defending', 'their', 'homeland', '.', 'All', 'of', 'this', 'so', 'Trump', 'can', 'beat', 'Biden', 'in', 'the', 'next', 'presidential', 'election', '.', 'In', 'some', 'respects', ',', 'it', 'actually', 'sounds', 'far', 'worse', 'than', 'Richard', 'Nixon', 'throwing', 'a', 'few', 'dollars', 'to', 'the', 'Watergate', 'burglars', 'and', 'then', 'elaborately', 'covering', 'it', 'up', '.', 'No', 'one', 'died', 'as', 'a', 'result', 'of', 'Nixon', \"'s\", 'theoretically', 'impeachable', 'offenses', '.', 'In', 'contrast', ',', 'testimony', 'on', 'Day', '1', 'of', 'the', 'House', 'impeachment', 'hearing', 'suggested', 'that', 'American', 'professional', 'diplomats', 'feared', 'that', 'Trump', \"'s\", 'delay', 'in', 'the', 'disbursement', 'of', 'Ukraine', \"'s\", '$', '400', 'million', 'in', 'military', 'aid', 'could', 'telegraph', 'a', 'lack', 'of', 'American', 'commitment', ',', 'creating', 'the', 'real', 'potential', 'to', 'cost', 'the', 'lives', 'of', 'Ukrainian', 'soldiers', 'by', 'encouraging', 'Russian', 'aggression', '.', 'Unfortunately', 'for', 'the', 'Democrats', ',', 'their', 'case', 'against', 'the', 'President', 'began', 'to', 'fade', 'as', 'Republicans', 'successfully', 'muddied', 'the', 'water', 'throughout', 'the', 'afternoon', '.', 'They', 'posed', 'questions', 'suggesting', 'that', 'any', 'presidential', 'effort', 'to', 'steer', 'the', 'Ukrainian', 'criminal', 'investigations', 'were', 'legitimate', 'efforts', 'to', 'expose', 'what', 'they', 'claimed', 'was', 'Ukrainian', 'sabotage', 'of', 'the', '2016', 'American', 'presidential', 'election', ',', 'citing', 'a', 'theory', 'that', 'has', 'been', 'debunked', '.', '(', 'Even', 'a', 'former', 'Trump', 'official', 'has', 'acknowledged', 'it', 'had', 'no', 'merit', '.', ')', 'The', 'Steele', 'Dossier', 'raised', 'its', 'ugly', 'head', ',', 'as', 'did', 'the', 'prosecution', 'of', 'Paul', 'Manafort', '.', 'The', 'Republican', 'questions', 'were', 'designed', 'to', 'remind', 'Americans', 'of', 'the', 'perfectly', 'legal', 'and', 'abundantly', 'funded', 'Mueller/Russia', 'investigation', 'which', 'haunted', 'the', 'first', 'half', 'of', 'the', 'Trump', 'presidency', '.', 'And', 'why', 'was', 'Hunter', 'Biden', 'reportedly', 'being', 'paid', '$', '50,000', 'a', 'month', 'by', 'Ukraine', \"'s\", 'largest', 'energy', 'company', ',', 'Burisma', ',', 'when', 'he', 'did', \"n't\", 'even', 'reside', 'in', 'Ukraine', 'or', 'have', 'an', 'extensive', 'background', 'in', 'the', 'energy', 'business', '?', 'And', 'why', 'was', 'his', 'father', 'constantly', 'traveling', 'to', 'Ukraine', 'and', 'demanding', 'the', 'firing', 'of', 'a', 'prosecutor', 'investigating', 'Burisma', 'and', 'maybe', 'Hunter', '?', 'Congressional', 'questions', 'require', 'no', 'supporting', 'evidence', ',', 'and', 'none', 'was', 'provided', '.', 'In', 'fact', ',', 'no', 'evidence', 'has', 'surfaced', 'of', 'wrongdoing', 'by', 'Joe', 'or', 'Hunter', 'Biden', 'in', 'this', 'matter', '.', 'The', 'Republican', 'point', ':', 'If', 'it', 'was', 'proper', 'to', 'spend', 'millions', 'of', 'dollars', 'to', 'investigate', 'Russian', 'efforts', 'to', 'influence', 'the', 'American', 'election', ',', 'how', 'can', 'it', 'be', 'an', 'impeachable', 'offense', 'to', 'compel', 'Ukrainian', 'cooperation', 'in', 'an', 'investigation', 'of', 'the', 'very', 'same', 'subject', '.', 'And', 'if', 'the', 'investigations', 'link', 'to', 'Biden', 'corruption', ',', 'all', 'the', 'better', '.', 'Those', 'carefully', 'prepared', 'and', 'distinguished', '``', 'central', 'casting', \"''\", 'diplomats', 'Taylor', 'and', 'Kent', 'started', 'to', 'look', 'flustered', 'and', 'confused', 'since', 'they', 'knew', 'nothing', 'about', 'the', 'unrelated', 'topics', 'that', 'Republicans', 'like', 'Jim', 'Jordan', 'threw', 'angrily', 'into', 'the', 'conspiracy', 'questions', 'pot', '.', 'Any', 'real', 'American', 'courtroom', 'would', 'overrule', 'his', 'wandering', 'conspiracy-themed', 'questions', 'as', 'not', 'relevant', 'to', 'the', 'direct', 'testimony', 'of', 'the', 'witnesses', 'or', 'even', 'within', 'their', 'knowledge', '.', 'Courts', 'also', 'prohibit', 'witness', 'speculation', '.', 'But', 'this', 'is', 'Congress', 'on', 'television', 'and', 'not', 'a', 'court', 'of', 'law', ',', 'and', 'as', 'congressional', 'cross', 'examination', 'goes', ',', 'Jordan', 'did', 'a', 'great', 'job', 'in', 'establishing', 'that', 'virtually', 'all', 'the', 'evidence', 'produced', 'by', 'Taylor', 'and', 'Kent', 'was', 'classic', 'hearsay', '.', 'Like', 'Trump', ',', 'he', 'would', 'be', 'entertaining', 'on', \"''\", 'The', 'Apprentice', ',', \"''\", 'though', 'as', 'potential', 'competition', 'to', 'Trump', ',', 'he', 'would', 'soon', 'be', 'fired', '.', 'There', 'was', 'one', 'new', 'testimonial', 'nugget', 'revealed', 'at', 'the', 'first', 'hearing', '.', 'Taylor', 'revealed', 'that', 'Tim', 'Morrison', ',', 'then', 'a', 'National', 'Security', 'Council', 'official', ',', 'allegedly', 'learned', 'of', 'a', 'conversation', 'between', 'the', 'US', 'Ambassador', 'to', 'the', 'European', 'Union', 'Gordon', 'Sondland', 'and', 'the', 'President', ',', 'in', 'which', 'Trump', 'insisted', 'that', 'Zelensky', 'publicly', 'announce', 'that', 'he', 'was', 'beginning', 'investigations', 'of', '``', 'Biden', 'and', '2016', 'election', 'interference', '.', \"''\", 'This', 'snippet', 'is', 'hearsay', ',', 'and', 'though', 'Jordan', 'and', 'his', 'Republican', 'colleagues', 'were', 'happy', 'to', 'remind', 'Schiff', 'earlier', 'in', 'the', 'day', 'that', 'the', '``', 'Federal', 'Rules', 'of', 'Evidence', \"''\", 'do', 'not', 'apply', 'to', 'congressional', 'hearings', ',', 'this', 'time', 'they', 'wanted', 'the', 'hearsay', 'thrown', 'out', '.', 'Having', 'no', 'rules', 'of', 'evidence', 'in', 'place', 'permitted', 'Republicans', 'to', 'pontificate', 'conspiracy', 'theories', 'in', 'confusing', 'speeches', 'posing', 'as', 'questions', '.', 'Such', 'repeated', 'conduct', 'would', 'lead', 'to', 'a', 'contempt', 'citation', 'in', 'any', 'American', 'courtroom', '.', 'But', 'the', 'Republicans', 'favor', 'strict', 'enforcement', 'of', 'the', 'hearsay', 'rule', 'only', 'when', 'it', 'helps', 'their', 'case', '.', 'This', 'enables', 'them', 'to', 'say', 'the', 'information', 'about', 'a', 'direct', 'connection', 'to', 'Trump', 'is', '``', 'inadmissible', \"''\", 'hearsay', '.', 'Congressman', 'Jordan', 'should', 'have', 'a', 'look', 'at', 'Federal', 'Rule', 'of', 'Evidence', '802', '.', 'He', 'will', 'discover', 'that', 'the', 'actual', 'hearsay', 'rule', 'does', \"n't\", 'apply', 'to', 'congressional', 'hearings', '.', 'The', 'Sondland', 'snippet', 'is', 'admissible', 'as', 'is', 'most', 'of', 'the', 'other', 'testimony', 'linking', 'the', 'President', 'to', 'the', '``', 'quid', 'pro', 'quo', ',', \"''\", 'which', 'we', 'will', 'be', 'hearing', 'a', 'lot', 'more', 'about', 'as', 'the', 'hearings', 'proceed', '.', 'Or', 'maybe', 'it', 'will', 'all', 'come', 'down', 'to', 'multiple', 'counts', 'of', 'abuse', 'of', 'power', ',', 'but', 'there', 'is', 'still', 'a', 'long', 'and', 'winding', 'road', 'to', 'travel', 'as', 'the', 'hearings', 'continue', '.', '©', '2019', 'Cable', 'News', 'Network', '.', 'Turner', 'Broadcasting', 'System', ',', 'Inc.', 'All', 'Rights', 'Reserved', '.', 'Listen', 'to', 'CNN', '(', 'low-bandwidth', 'usage', ')', 'Go', 'to', 'the', 'full', 'CNN', 'experience']\n",
      "['Two', 'teens', 'are', 'dead', 'after', 'a', '16-year-old', 'gunman', 'shot', '5', 'classmates', 'and', 'himself', 'in', '16', 'seconds', ',', 'cops', 'say', 'Los', 'Angeles', '(', 'CNN', ')', '-', 'A', 'teen', 'whose', 'birthday', 'was', 'Thursday', 'went', 'to', 'his', 'Southern', 'California', 'high', 'school', ',', 'pulled', 'a', 'pistol', 'from', 'his', 'backpack', 'and', 'shot', 'five', 'classmates', 'and', 'himself', 'in', '16', 'seconds', ',', 'authorities', 'said', '.', 'Two', 'victims', '--', 'a', '16-year-old', 'girl', 'and', 'a', '14-year-old', 'boy', '--', 'died', 'at', 'a', 'hospital', '.', 'Three', 'students', 'were', 'wounded', 'and', 'taken', 'by', 'ambulance', 'from', 'Saugus', 'High', 'School', 'in', 'Santa', 'Clarita', ',', 'officials', 'said', '.', 'Los', 'Angeles', 'County', 'Sheriff', 'Alex', 'Villanueva', 'said', 'the', '16-year-old', 'suspected', 'gunman', 'is', 'in', 'critical', 'condition', '.', 'He', 'used', 'the', 'last', 'bullet', 'from', 'a', '.45-caliber', 'pistol', 'on', 'himself', ',', 'authorities', 'said', '.', 'The', 'sheriff', 'told', '``', 'Anderson', 'Cooper', '360˚', \"''\", 'the', 'student', 'fired', 'one', 'time', ',', 'then', 'apparently', 'had', 'a', 'problem', 'with', 'the', 'gun', 'before', 'firing', 'again', '.', 'The', 'suspect', \"'s\", 'name', 'is', 'Nathaniel', 'Berhow', ',', 'two', 'law', 'enforcement', 'sources', 'told', 'CNN', '.', 'Authorities', 'said', 'they', 'are', 'looking', 'into', 'biographical', 'information', 'on', 'the', 'suspected', 'shooter', \"'s\", 'social', 'media', 'account', 'that', 'was', 'taken', 'down', 'after', 'the', 'mass', 'shooting', '.', '``', 'With', 'a', 'heavy', 'heart', ',', 'we', \"'re\", 'going', 'to', 'move', 'on', 'with', 'the', 'investigation', 'and', 'figure', 'out', 'what', 'went', 'wrong', ',', \"''\", 'the', 'sheriff', 'said', '.', '``', 'I', 'hate', 'to', 'have', 'Saugus', 'be', 'added', 'to', 'the', 'names', 'of', 'Columbine', ',', 'Parkland', ',', 'Sandy', 'Hook', ',', 'but', 'it', \"'s\", 'a', 'reality', 'that', 'affects', 'us', 'all', 'throughout', 'the', 'nation', '--', 'something', 'that', 'we', \"'re\", 'going', 'to', 'have', 'to', 'figure', 'out', '.', \"''\", 'The', 'shooting', 'began', 'before', 'classes', 'started', ',', 'officials', 'said', ',', 'sending', 'some', 'students', 'streaming', 'out', 'of', 'the', 'building', 'as', 'others', 'hid', '.', 'One', 'student', 'was', 'hurt', 'in', 'the', 'chaos', 'and', 'needed', 'medical', 'attention', '.', 'Video', 'obtained', 'at', 'the', 'scene', 'clearly', 'shows', 'the', 'suspect', 'shooting', 'his', 'classmates', 'and', 'then', 'himself', ',', 'Capt', '.', 'Kent', 'Wegener', 'of', 'the', 'Los', 'Angeles', 'County', 'Sheriff', \"'s\", 'Department', 'told', 'reporters', '.', 'Authorities', 'are', 'working', 'to', 'obtain', 'any', 'other', 'video', 'from', 'campus', 'and', 'cell', 'phone', 'video', 'from', 'students', '.', 'Emergency', 'workers', 'took', 'several', 'people', 'out', 'of', 'the', 'school', 'on', 'gurneys', ',', 'and', 'large', 'groups', 'of', 'people', 'walked', 'out', 'single-file', 'with', 'armed', 'escorts', ',', 'aerial', 'footage', 'from', 'CNN', 'affiliates', 'shows', '.', 'The', 'two', 'students', 'who', 'were', 'killed', 'died', 'at', 'the', 'hospital', '.', 'Officials', 'shepherded', 'students', 'to', 'nearby', 'Central', 'Park', ',', 'where', 'parents', 'were', 'told', 'to', 'meet', 'them', '.', 'The', 'shooting', 'happened', 'about', '20', 'minutes', 'before', 'the', 'start', 'of', 'school', ',', 'according', 'to', 'Hannah', 'de', 'Caussin', ',', 'whose', 'daughter', 'attends', 'Saugus', '.', 'Some', 'students', 'fled', ',', 'and', 'others', 'hid', 'Some', 'students', 'fled', 'the', 'building', 'immediately', ',', 'and', 'others', 'took', 'cover', 'inside', 'rooms', ',', 'another', 'student', 'told', 'CNN', 'affiliate', 'KTLA', '.', '``', 'It', 'was', 'one', 'and', 'then', 'four', 'quick', 'ones', ',', 'so', 'bang', ',', 'and', 'then', 'bang', ',', 'bang', ',', 'bang', ',', 'bang', ',', \"''\", 'the', 'girl', 'said', 'after', 'leaving', 'the', 'building', '.', 'Students', 'are', 'trained', 'to', 'take', 'cover', 'in', 'classrooms', ',', 'but', 'she', 'and', 'some', 'others', 'ran', 'out', 'because', 'they', 'thought', 'the', 'shooter', 'was', 'near', 'where', 'they', 'would', 'have', 'hidden', ',', 'she', 'said', '.', '``', 'We', 'ran', 'through', 'the', 'fence', ',', 'luckily', 'it', 'was', 'open', ',', 'and', 'we', 'got', 'as', 'far', 'away', 'from', 'campus', 'as', 'we', 'could', ',', \"''\", 'she', 'said', '.', '``', 'We', 'were', 'texting', 'all', 'our', 'friends', 'and', 'making', 'sure', 'they', 'were', 'safe', '.', 'They', 'said', 'they', 'were', 'hiding', 'and', 'they', 'were', 'scared', '.', 'It', 'scared', 'us', 'because', 'they', \"'re\", 'our', 'friends', 'and', 'we', 'did', \"n't\", 'want', 'anything', 'bad', 'to', 'happen', 'to', 'them', '.', \"''\", 'Another', 'student', ',', 'Brooklyn', 'Moreno', ',', 'told', 'CNN', 'affiliate', 'KCBS', 'that', 'she', 'was', 'waiting', 'for', 'a', 'bell', 'to', 'ring', 'to', 'signal', 'her', 'first', 'class', 'when', 'she', 'heard', 'the', 'first', 'shot', '.', '``', 'Everyone', 'thought', 'it', 'was', 'a', 'balloon', ',', 'and', 'it', 'got', 'really', 'quiet', '.', 'And', 'then', 'two', 'more', 'shots', ',', 'and', 'then', 'everyone', 'just', 'ran', 'out', 'of', 'the', 'school', ',', \"''\", 'said', 'Brooklyn', ',', 'who', 'added', 'that', 'she', 'ran', 'across', 'a', 'street', 'to', 'someone', \"'s\", 'house', 'until', 'someone', 'came', 'to', 'pick', 'her', 'up', '.', 'Grandfather', ':', 'Students', 'ran', 'down', 'my', 'street', 'screaming', 'Larry', 'Everhart', ',', 'a', 'grandfather', 'of', 'a', 'Saugus', 'High', 'student', ',', 'told', 'KCBS', 'that', 'he', 'was', 'leaving', 'his', 'house', 'to', 'get', 'coffee', 'when', 'he', 'saw', 'students', 'running', 'down', 'his', 'street', 'screaming', '.', '``', 'They', 'were', 'saying', ',', \"'Can\", 'I', 'come', 'in', 'your', 'house', '?', \"'\", 'It', 'was', 'about', '20', 'of', 'them', '.', 'I', 'wanted', 'to', 'make', 'sure', 'they', 'were', 'safe', ',', 'so', 'I', 'got', 'them', 'in', 'there', ',', \"''\", 'he', 'said', '.', 'School', 'officials', 'are', 'sending', 'students', 'to', 'Central', 'Park', ',', 'where', 'parents', 'should', 'meet', 'them', ',', 'the', 'district', 'said', '.', 'Everhart', \"'s\", 'neighbor', ',', 'a', 'police', 'officer', ',', 'eventually', 'told', 'him', 'he', 'could', 'go', 'to', 'the', 'park', ',', 'where', 'he', 'found', 'his', 'granddaughter', 'safe', '.', '``', 'My', 'granddaughter', 'threw', 'her', 'arms', 'around', 'me', 'and', 'was', 'hugging', 'me', ',', 'and', 'I', 'was', 'just', 'so', 'happy', 'she', 'was', 'still', 'alive', ',', \"''\", 'he', 'said', '.', 'White', 'House', 'sends', 'condolences', 'Vice', 'President', 'Mike', 'Pence', 'gave', 'his', 'condolences', 'to', 'families', 'of', 'the', 'victims', '.', 'Speaking', 'to', 'a', 'group', 'at', 'NASA', 'in', 'Northern', 'California', ',', 'Pence', 'called', 'it', '``', 'another', 'heartbreaking', 'day', 'for', 'students', 'and', 'parents', '.', \"''\", 'Pence', 'pledged', 'that', 'the', 'President', 'Donald', 'Trump', 'will', 'work', 'to', 'end', 'gun', 'violence', '.', '``', 'This', 'administration', 'will', 'remain', 'resolved', 'to', 'bring', 'the', 'scourge', 'of', 'mass', 'shootings', 'to', 'an', 'end', ',', 'and', 'we', 'will', 'not', 'rest', 'until', 'we', 'end', 'this', 'evil', 'in', 'our', 'time', 'and', 'make', 'our', 'schools', 'and', 'our', 'communities', 'safe', 'again', ',', \"''\", 'he', 'added', '.', 'Pence', 'said', 'the', 'President', 'has', 'directed', 'federal', 'law', 'enforcement', 'agencies', 'to', 'support', 'local', 'investigators', '.', 'Rumors', 'of', 'online', 'threats', 'are', 'being', 'investigated', 'Investigators', 'will', 'check', 'rumors', 'that', 'the', 'suspect', 'may', 'have', 'posted', 'threats', 'on', 'social', 'media', ',', 'county', 'Undersheriff', 'Tim', 'Murakami', 'said', 'on', 'Twitter', '.', '``', 'If', 'you', 'ever', 'learn', 'of', 'posted', 'threats', 'please', 'notify', 'us', 'ASAP', ',', \"''\", 'Murakami', 'wrote', '.', 'All', 'schools', 'in', 'Santa', 'Clarita', \"'s\", 'William', 'S.', 'Hart', 'school', 'district', 'were', 'temporarily', 'locked', 'down', 'as', 'a', 'precaution', ',', 'but', 'the', 'restrictions', 'were', 'later', 'lifted', ',', 'the', 'district', 'said', '.', 'Saugus', 'High', 'School', ',', 'about', '30', 'miles', 'northwest', 'of', 'Los', 'Angeles', ',', 'has', 'about', '2,400', 'students', ',', 'according', 'to', 'the', 'district', '.', 'CORRECTION', ':', 'A', 'reference', 'to', 'an', 'Instagram', 'account', 'that', 'police', 'tied', 'to', 'the', 'alleged', 'gunman', 'has', 'been', 'removed', 'from', 'this', 'article', 'after', 'Facebook', 'and', 'Instagram', 'reported', 'the', 'account', 'did', 'not', 'belong', 'to', 'the', 'suspect', '.', '©', '2019', 'Cable', 'News', 'Network', '.', 'Turner', 'Broadcasting', 'System', ',', 'Inc.', 'All', 'Rights', 'Reserved', '.', 'Listen', 'to', 'CNN', '(', 'low-bandwidth', 'usage', ')', 'Go', 'to', 'the', 'full', 'CNN', 'experience']\n",
      "['Disney+', 'warns', 'viewers', 'that', 'old', 'movies', 'may', 'have', \"'outdated\", 'cultural', 'depictions', \"'\", '(', 'CNN', ')', '-', 'Viewers', 'who', 'signed', 'up', 'to', 'stream', 'Disney+', 'were', 'greeted', 'with', 'disclaimers', 'about', 'racist', 'and', 'offensive', 'content', 'in', 'some', 'older', 'movies', '.', '``', 'Dumbo', ',', \"''\", 'for', 'example', ',', 'had', 'this', 'statement', 'at', 'the', 'bottom', 'of', 'the', 'movie', \"'s\", 'description', ':', '``', 'This', 'program', 'is', 'presented', 'as', 'originally', 'created', '.', 'It', 'may', 'contain', 'outdated', 'cultural', 'depictions', '.', \"''\", 'The', 'original', '``', 'Dumbo', \"''\", 'notoriously', 'featured', 'a', 'character', 'named', 'Jim', 'Crow', ',', 'leader', 'of', 'a', 'group', 'of', 'black', 'crows', ',', 'that', 'was', 'voiced', 'by', 'a', 'Caucasian', 'actor', 'using', 'a', 'stereotypical', 'African-American', 'accent', '.', 'Director', 'Tim', 'Burton', 'chose', 'to', 'not', 'include', 'the', 'original', 'crow', 'scene', 'in', 'his', 'live-action', 'remake', 'of', '``', 'Dumbo', '.', \"''\", 'He', 'also', 'omitted', 'the', 'scene', 'in', 'which', 'black', 'characters', 'put', 'up', 'circus', 'tents', 'while', 'singing', '``', 'Song', 'of', 'the', 'Roustabouts', '.', \"''\", 'Disney', 'is', 'not', 'the', 'first', 'studio', 'to', 'add', 'a', 'disclaimer', 'on', 'old', 'titles', 'that', 'feature', 'racial', 'prejudices', 'or', 'other', 'troubling', 'content', '.', 'For', 'example', ',', 'Warner', 'Bros.', 'used', 'this', 'on', 'an', 'old', '``', 'Tom', 'and', 'Jerry', \"''\", 'release', ':', '``', 'The', 'cartoons', 'you', 'are', 'about', 'to', 'see', 'are', 'products', 'of', 'their', 'time', '.', 'They', 'may', 'depict', 'some', 'of', 'the', 'ethnic', 'and', 'racial', 'prejudices', 'that', 'were', 'commonplace', 'in', 'American', 'society', '.', 'These', 'depictions', 'were', 'wrong', 'then', 'and', 'are', 'wrong', 'today', '.', 'While', 'these', 'cartoons', 'do', 'not', 'represent', 'today', \"'s\", 'society', ',', 'they', 'are', 'being', 'presented', 'as', 'they', 'were', 'originally', 'created', ',', 'because', 'to', 'do', 'otherwise', 'would', 'be', 'that', 'same', 'as', 'claiming', 'these', 'prejudices', 'never', 'existed', '.', \"''\", 'WarnerMedia', 'is', 'the', 'parent', 'company', 'of', 'Warner', 'Bros.', 'and', 'CNN', '.', '©', '2019', 'Cable', 'News', 'Network', '.', 'Turner', 'Broadcasting', 'System', ',', 'Inc.', 'All', 'Rights', 'Reserved', '.', 'Listen', 'to', 'CNN', '(', 'low-bandwidth', 'usage', ')', 'Go', 'to', 'the', 'full', 'CNN', 'experience']\n",
      "['Student', 'protesters', 'fortify', 'campus', 'occupations', 'as', 'Hong', 'Kong', 'braces', 'for', 'more', 'violence', 'Hong', 'Kong', '(', 'CNN', ')', '-', 'The', 'threat', 'of', 'violence', 'hung', 'over', 'Hong', 'Kong', 'Thursday', 'evening', 'as', 'thousands', 'of', 'student', 'protesters', 'prepared', 'to', 'face', 'off', 'with', 'riot', 'police', ',', 'amid', 'a', 'continued', 'occupation', 'of', 'several', 'of', 'the', 'city', \"'s\", 'most', 'prestigious', 'universities', '.', 'The', 'level', 'of', 'unrest', 'and', 'destruction', 'in', 'the', 'almost', 'six-month-long', 'protest', 'movement', 'has', 'reached', 'new', 'and', 'unnerving', 'heights', 'in', 'recent', 'days', ',', 'with', 'several', 'people', 'critically', 'injured', 'and', 'Chinese', 'state', 'media', 'warning', 'radical', 'protesters', ',', '``', 'You', 'are', 'on', 'the', 'edge', 'of', 'doom', '.', \"''\", 'Sporadic', 'clashes', 'broke', 'out', 'Thursday', 'morning', ',', 'as', 'police', 'fired', 'tear', 'gas', 'at', 'protesters', 'near', 'the', 'Hong', 'Kong', 'Polytechnic', 'University', 'in', 'Kowloon', '.', 'While', 'on', 'Hong', 'Kong', 'Island', ',', 'roads', 'surrounding', 'the', 'University', 'of', 'Hong', 'Kong', 'were', 'blocked', 'by', 'protesters', ',', 'resulting', 'in', 'traffic', 'delays', '.', 'Universities', 'have', 'emerged', 'as', 'a', 'new', 'focal', 'point', 'of', 'the', 'protest', 'movement', ',', 'with', 'numerous', 'campuses', 'across', 'the', 'city', 'becoming', 'home', 'to', 'heavily', 'fortified', 'temporary', 'protest', 'camps', '.', 'At', 'the', 'Chinese', 'University', 'of', 'Hong', 'Kong', '(', 'CUHK', ')', 'in', 'the', 'New', 'Territories', ',', 'several', 'thousand', 'protesters', 'have', 'effectively', 'barricaded', 'themselves', 'inside', 'the', 'grounds', ',', 'blocking', 'all', 'entrances', 'for', 'the', 'third', 'straight', 'day', '.', 'The', 'CUHK', 'campus', 'was', 'on', 'Tuesday', 'the', 'scene', 'of', 'some', 'of', 'the', 'most', 'intense', 'fighting', 'in', 'the', 'city', 'since', 'demonstrations', 'began', 'in', 'June', ',', 'with', 'hundreds', 'of', 'riot', 'police', 'firing', 'more', 'than', '1,567', 'canisters', 'of', 'tear', 'gas', 'during', 'a', 'chaotic', 'and', 'ultimately', 'aborted', 'clearance', 'operation', '.', 'Throughout', 'Wednesday', 'and', 'Thursday', ',', 'protesters', 'and', 'those', 'helping', 'them', 'continued', 'to', 'pour', 'into', 'the', 'sprawling', 'grounds', 'by', 'road', 'and', 'by', 'foot', ',', 'bringing', 'supplies', ',', 'including', 'protective', 'gear', ',', 'food', 'and', 'water', '.', 'A', 'highly', 'organized', 'operation', 'was', 'launched', 'inside', 'the', 'campus', ',', 'sorting', 'and', 'distributing', 'the', 'supplies', ',', 'building', 'and', 'reinforcing', 'barricades', ',', 'and', 'stockpiling', 'weapons', ',', 'including', 'petrol', 'bombs', ',', 'bows', 'and', 'arrows', ',', 'javelins', ',', 'and', 'pieces', 'of', 'wood', 'hammered', 'with', 'nails', '.', 'So', 'far', 'police', 'have', 'appeared', 'reticent', 'to', 'return', 'to', 'the', 'university', 'despite', 'a', 'Hong', 'Kong', 'court', 'rejecting', 'an', 'application', 'by', 'students', 'to', 'block', 'police', 'from', 'entering', 'the', 'campus', 'without', 'a', 'warrant', '.', 'Many', 'overseas', 'students', 'studying', 'at', 'the', 'university', 'have', 'been', 'asked', 'to', 'leave', 'by', 'their', 'home', 'colleges', 'and', 'CUHK', 'administrators', 'announced', 'the', 'early', 'cancellation', 'of', 'classes', ',', 'stopping', 'the', 'fall', 'semester', 'around', 'two', 'weeks', 'early', '.', 'On', 'Wednesday', ',', 'police', 'said', 'they', 'had', 'evacuated', 'several', 'students', 'from', 'mainland', 'China', 'via', 'police', 'boat', ',', 'because', 'the', 'roads', 'were', 'blocked', 'by', 'protesters', '.', 'The', 'effects', 'of', 'the', 'campus', 'unrest', 'could', 'be', 'felt', 'across', 'the', 'city', 'Thursday', ',', 'with', 'continued', 'travel', 'disruptions', 'and', 'protesters', ',', 'including', 'large', 'numbers', 'of', 'office', 'workers', 'on', 'their', 'lunch', 'break', ',', 'taking', 'over', 'the', 'busy', 'streets', 'in', 'Central', 'district', 'for', 'a', 'fourth', 'straight', 'day', '.', 'Office', 'workers', 'also', 'came', 'out', 'in', 'support', 'of', 'the', 'student', 'protesters', 'in', 'Tai', 'Koo', ',', 'in', 'the', 'east', 'of', 'the', 'city', '.', 'Two', 'of', 'the', 'three', 'tunnels', 'connecting', 'Hong', 'Kong', 'Island', 'with', 'the', 'Kowloon', 'peninsula', ',', 'including', 'the', 'busiest', 'Cross-Harbour', 'Tunnel', ',', 'were', 'closed', 'to', 'traffic', 'Thursday', 'morning', 'and', 'the', 'MTR', 'continued', 'to', 'suspend', 'service', 'at', 'several', 'stations', '.', 'All', 'schools', 'have', 'suspended', 'classes', 'for', 'the', 'rest', 'of', 'the', 'week', '--', 'the', 'first', 'such', 'instance', 'since', 'protests', 'began', '.', 'Critical', 'injuries', 'The', 'protests', 'this', 'week', 'have', 'taken', 'a', 'dark', 'turn', ',', 'with', 'more', 'people', 'critically', 'injured', 'than', 'at', 'any', 'point', 'in', 'the', 'long-running', 'movement', '.', 'Hong', 'Kong', \"'s\", 'Hospital', 'Authority', 'said', '67', 'people', 'were', 'treated', 'in', 'hospitals', 'in', 'total', 'on', 'Wednesday', 'with', 'injuries', 'related', 'to', 'the', 'protests', '.', 'On', 'Wednesday', ',', 'a', '70-year-old', 'man', 'was', 'hospitalized', 'and', 'remains', 'in', 'critical', 'condition', 'after', 'being', 'hit', 'on', 'the', 'head', 'by', 'a', 'brick', 'thrown', 'by', 'a', 'protester', ',', 'police', 'said', '.', 'The', 'injured', 'man', 'was', 'on', 'a', 'lunch', 'break', 'from', 'his', 'job', 'as', 'a', 'cleaner', 'when', 'he', 'voluntarily', 'began', 'clearing', 'bricks', 'from', 'the', 'road', 'with', 'other', 'members', 'of', 'the', 'public', ',', 'according', 'to', 'police', '.', 'Video', 'of', 'the', 'alleged', 'incident', 'shows', 'protesters', 'and', 'government', 'supporters', 'hurling', 'bricks', 'at', 'one', 'another', 'before', 'a', 'man', 'falls', 'to', 'the', 'ground', '.', 'A', '15-year-old', 'boy', 'was', 'struck', 'in', 'the', 'head', 'by', 'what', 'is', 'believed', 'to', 'be', 'a', 'tear', 'gas', 'canister', 'and', 'is', 'also', 'in', 'critical', 'condition', ',', 'according', 'to', 'Hong', 'Kong', \"'s\", 'Hospital', 'Authority', '.', 'Earlier', 'in', 'the', 'week', ',', 'a', 'protester', 'was', 'shot', 'by', 'police', 'and', 'a', 'man', 'was', 'set', 'on', 'fire', 'following', 'a', 'dispute', 'with', 'protesters', 'Monday', '.', \"'You\", 'are', 'on', 'the', 'edge', 'of', 'doom', \"'\", 'The', 'major', 'escalation', 'in', 'political', 'unrest', 'this', 'week', 'has', 'once', 'again', 'raised', 'questions', 'over', 'what', 'will', 'happen', 'next', '.', 'Looming', 'over', 'those', 'conversations', 'is', 'the', 'specter', 'of', 'a', 'possible', 'Chinese', 'intervention', '.', 'On', 'Thursday', ',', 'China', \"'s\", 'top', 'state-run', 'television', 'channel', 'issued', 'an', 'online', 'editorial', 'telling', 'protesters', 'their', 'actions', 'are', '``', 'undisguised', 'terrorism', '.', \"''\", '``', 'We', 'have', 'had', 'enough', 'talking', ',', 'persuasion', 'and', 'warnings', '.', 'To', 'stop', 'the', 'unrest', 'has', 'to', 'be', 'implemented', 'and', 'advanced', 'more', 'resolutely', 'now', '.', 'The', 'country', 'will', 'never', 'accept', 'the', 'situation', 'to', 'be', 'out', 'of', 'control', ',', 'justice', 'to', 'be', 'covered', 'or', 'Hong', 'Kong', 'to', 'be', 'sunk', ',', \"''\", 'the', 'editorial', 'from', 'CCTV', 'read', '.', 'It', 'echoed', 'an', 'editorial', 'in', 'the', 'state-run', 'tabloid', 'Global', 'Times', 'suggesting', 'the', 'People', \"'s\", 'Armed', 'Police', 'and', 'the', 'People', \"'s\", 'Liberation', 'Army', 'were', 'ready', 'to', 'back', 'up', 'Hong', 'Kong', \"'s\", 'government', '``', 'when', 'necessary', '.', \"''\", '``', 'We', 'also', 'warn', 'the', 'radical', 'protesters', ':', 'You', 'are', 'on', 'the', 'edge', 'of', 'doom', '.', 'Those', 'who', 'are', 'coerced', 'to', 'be', \"'valiant\", \"'\", 'should', 'walk', 'away', 'as', 'soon', 'as', 'possible', 'when', 'you', 'still', 'can', 'make', 'the', 'call', ',', \"''\", 'the', 'editorial', 'said', '.', 'However', ',', 'it', 'is', 'not', 'clear', 'if', 'Beijing', 'has', 'a', 'red', 'line', ',', 'and', 'what', 'it', 'would', 'take', 'for', 'protesters', 'to', 'cross', 'it', 'before', 'provoking', 'a', 'Chinese', 'military', 'response', '.', 'Analysts', 'say', 'it', 'is', 'still', 'a', 'question', 'that', 'Beijing', 'is', 'actively', 'considering', '.', '``', 'It', \"'s\", 'smart', 'not', 'to', 'state', 'a', 'clear', 'red', 'line', 'because', 'you', 'are', 'going', 'to', 'have', 'to', 'act', 'on', 'it', 'to', 'keep', 'your', 'credibility', 'once', 'that', 'line', 'has', 'been', 'breached', '.', 'And', 'there', 'is', 'every', 'likelihood', 'that', 'protesters', 'would', 'actively', 'seek', 'to', 'breach', 'that', 'line', ',', \"''\", 'Adam', 'Ni', ',', 'a', 'China', 'researcher', 'at', 'Macquarie', 'University', 'in', 'Sydney', 'told', 'CNN', 'last', 'month', '.', 'The', 'Chinese', 'government', 'has', 'hinted', 'that', 'it', 'might', 'be', 'looking', 'at', 'new', 'ways', 'of', 'resolving', 'the', 'crisis', 'in', 'Hong', 'Kong', ',', 'both', 'short-term', 'and', 'long-term', '.', 'After', 'a', 'meeting', 'of', 'a', 'top', 'Chinese', 'Communist', 'Party', 'body', 'in', 'October', ',', 'senior', 'Chinese', 'official', 'Shen', 'Chunyao', 'said', 'that', 'Beijing', 'would', 'work', 'to', 'improve', 'the', 'legal', 'system', 'and', 'strengthen', '``', 'law', 'enforcement', \"''\", 'in', 'Hong', 'Kong', ',', 'and', 'neighboring', 'Macao', '.', 'He', 'added', 'it', 'was', 'time', 'to', 'introduce', 'new', 'lessons', 'in', '``', 'patriotism', \"''\", 'across', 'Hong', 'Kong', ',', 'a', 'move', 'which', 'has', 'been', 'discussed', 'by', 'the', 'Chinese', 'government', 'for', 'a', 'long', 'time', '.', 'On', 'Tuesday', ',', 'the', 'Chinese', 'government', 'unveiled', 'a', 'new', 'range', 'of', 'patriotic', 'education', 'measures', 'for', 'the', 'country', ',', 'which', 'according', 'to', 'state-run', 'Xinhua', 'would', '``', 'focus', 'on', 'young', 'Chinese', '.', \"''\", '``', 'Patriotism', 'should', 'be', 'embedded', 'in', 'the', 'whole', 'process', 'of', 'school', 'education', ',', \"''\", 'the', 'article', 'said', '.', 'Buried', 'in', 'point', '20', 'of', 'the', 'new', 'patriotic', 'education', 'outline', 'is', 'a', 'call', 'to', '``', 'guide', \"''\", 'the', 'citizens', 'of', 'Hong', 'Kong', 'and', 'Macao', 'to', '``', 'enhance', 'their', 'national', 'identity', 'and', 'consciously', 'safeguard', 'national', 'unity', '.', \"''\", '©', '2019', 'Cable', 'News', 'Network', '.', 'Turner', 'Broadcasting', 'System', ',', 'Inc.', 'All', 'Rights', 'Reserved', '.', 'Listen', 'to', 'CNN', '(', 'low-bandwidth', 'usage', ')', 'Go', 'to', 'the', 'full', 'CNN', 'experience']\n"
     ]
    },
    {
     "data": {
      "application/javascript": [
       "\n",
       "            setTimeout(function() {\n",
       "                var nbb_cell_id = 14;\n",
       "                var nbb_unformatted_code = \"#Word Tokenization\\nfor doc in docs:\\n    word_token = word_tokenize(doc)\\n    print(word_token)\";\n",
       "                var nbb_formatted_code = \"# Word Tokenization\\nfor doc in docs:\\n    word_token = word_tokenize(doc)\\n    print(word_token)\";\n",
       "                var nbb_cells = Jupyter.notebook.get_cells();\n",
       "                for (var i = 0; i < nbb_cells.length; ++i) {\n",
       "                    if (nbb_cells[i].input_prompt_number == nbb_cell_id) {\n",
       "                        if (nbb_cells[i].get_text() == nbb_unformatted_code) {\n",
       "                             nbb_cells[i].set_text(nbb_formatted_code);\n",
       "                        }\n",
       "                        break;\n",
       "                    }\n",
       "                }\n",
       "            }, 500);\n",
       "            "
      ],
      "text/plain": [
       "<IPython.core.display.Javascript object>"
      ]
     },
     "metadata": {},
     "output_type": "display_data"
    }
   ],
   "source": [
    "# Word Tokenization\n",
    "for doc in docs:\n",
    "    word_token = word_tokenize(doc)\n",
    "    print(word_token)"
   ]
  },
  {
   "cell_type": "code",
   "execution_count": 15,
   "metadata": {
    "collapsed": true
   },
   "outputs": [
    {
     "name": "stdout",
     "output_type": "stream",
     "text": [
      "['student', 'protesters', 'fortify', 'campus', 'occupations', 'as', 'hong', 'kong', 'braces', 'for', 'more', 'violence', 'hong', 'kong', '(', 'cnn', ')', '-', 'the', 'threat', 'of', 'violence', 'hung', 'over', 'hong', 'kong', 'thursday', 'evening', 'as', 'thousands', 'of', 'student', 'protesters', 'prepared', 'to', 'face', 'off', 'with', 'riot', 'police', ',', 'amid', 'a', 'continued', 'occupation', 'of', 'several', 'of', 'the', 'city', \"'s\", 'most', 'prestigious', 'universities', '.', 'the', 'level', 'of', 'unrest', 'and', 'destruction', 'in', 'the', 'almost', 'six-month-long', 'protest', 'movement', 'has', 'reached', 'new', 'and', 'unnerving', 'heights', 'in', 'recent', 'days', ',', 'with', 'several', 'people', 'critically', 'injured', 'and', 'chinese', 'state', 'media', 'warning', 'radical', 'protesters', ',', '``', 'you', 'are', 'on', 'the', 'edge', 'of', 'doom', '.', \"''\", 'sporadic', 'clashes', 'broke', 'out', 'thursday', 'morning', ',', 'as', 'police', 'fired', 'tear', 'gas', 'at', 'protesters', 'near', 'the', 'hong', 'kong', 'polytechnic', 'university', 'in', 'kowloon', '.', 'while', 'on', 'hong', 'kong', 'island', ',', 'roads', 'surrounding', 'the', 'university', 'of', 'hong', 'kong', 'were', 'blocked', 'by', 'protesters', ',', 'resulting', 'in', 'traffic', 'delays', '.', 'universities', 'have', 'emerged', 'as', 'a', 'new', 'focal', 'point', 'of', 'the', 'protest', 'movement', ',', 'with', 'numerous', 'campuses', 'across', 'the', 'city', 'becoming', 'home', 'to', 'heavily', 'fortified', 'temporary', 'protest', 'camps', '.', 'at', 'the', 'chinese', 'university', 'of', 'hong', 'kong', '(', 'cuhk', ')', 'in', 'the', 'new', 'territories', ',', 'several', 'thousand', 'protesters', 'have', 'effectively', 'barricaded', 'themselves', 'inside', 'the', 'grounds', ',', 'blocking', 'all', 'entrances', 'for', 'the', 'third', 'straight', 'day', '.', 'the', 'cuhk', 'campus', 'was', 'on', 'tuesday', 'the', 'scene', 'of', 'some', 'of', 'the', 'most', 'intense', 'fighting', 'in', 'the', 'city', 'since', 'demonstrations', 'began', 'in', 'june', ',', 'with', 'hundreds', 'of', 'riot', 'police', 'firing', 'more', 'than', '1,567', 'canisters', 'of', 'tear', 'gas', 'during', 'a', 'chaotic', 'and', 'ultimately', 'aborted', 'clearance', 'operation', '.', 'throughout', 'wednesday', 'and', 'thursday', ',', 'protesters', 'and', 'those', 'helping', 'them', 'continued', 'to', 'pour', 'into', 'the', 'sprawling', 'grounds', 'by', 'road', 'and', 'by', 'foot', ',', 'bringing', 'supplies', ',', 'including', 'protective', 'gear', ',', 'food', 'and', 'water', '.', 'a', 'highly', 'organized', 'operation', 'was', 'launched', 'inside', 'the', 'campus', ',', 'sorting', 'and', 'distributing', 'the', 'supplies', ',', 'building', 'and', 'reinforcing', 'barricades', ',', 'and', 'stockpiling', 'weapons', ',', 'including', 'petrol', 'bombs', ',', 'bows', 'and', 'arrows', ',', 'javelins', ',', 'and', 'pieces', 'of', 'wood', 'hammered', 'with', 'nails', '.', 'so', 'far', 'police', 'have', 'appeared', 'reticent', 'to', 'return', 'to', 'the', 'university', 'despite', 'a', 'hong', 'kong', 'court', 'rejecting', 'an', 'application', 'by', 'students', 'to', 'block', 'police', 'from', 'entering', 'the', 'campus', 'without', 'a', 'warrant', '.', 'many', 'overseas', 'students', 'studying', 'at', 'the', 'university', 'have', 'been', 'asked', 'to', 'leave', 'by', 'their', 'home', 'colleges', 'and', 'cuhk', 'administrators', 'announced', 'the', 'early', 'cancellation', 'of', 'classes', ',', 'stopping', 'the', 'fall', 'semester', 'around', 'two', 'weeks', 'early', '.', 'on', 'wednesday', ',', 'police', 'said', 'they', 'had', 'evacuated', 'several', 'students', 'from', 'mainland', 'china', 'via', 'police', 'boat', ',', 'because', 'the', 'roads', 'were', 'blocked', 'by', 'protesters', '.', 'the', 'effects', 'of', 'the', 'campus', 'unrest', 'could', 'be', 'felt', 'across', 'the', 'city', 'thursday', ',', 'with', 'continued', 'travel', 'disruptions', 'and', 'protesters', ',', 'including', 'large', 'numbers', 'of', 'office', 'workers', 'on', 'their', 'lunch', 'break', ',', 'taking', 'over', 'the', 'busy', 'streets', 'in', 'central', 'district', 'for', 'a', 'fourth', 'straight', 'day', '.', 'office', 'workers', 'also', 'came', 'out', 'in', 'support', 'of', 'the', 'student', 'protesters', 'in', 'tai', 'koo', ',', 'in', 'the', 'east', 'of', 'the', 'city', '.', 'two', 'of', 'the', 'three', 'tunnels', 'connecting', 'hong', 'kong', 'island', 'with', 'the', 'kowloon', 'peninsula', ',', 'including', 'the', 'busiest', 'cross-harbour', 'tunnel', ',', 'were', 'closed', 'to', 'traffic', 'thursday', 'morning', 'and', 'the', 'mtr', 'continued', 'to', 'suspend', 'service', 'at', 'several', 'stations', '.', 'all', 'schools', 'have', 'suspended', 'classes', 'for', 'the', 'rest', 'of', 'the', 'week', '--', 'the', 'first', 'such', 'instance', 'since', 'protests', 'began', '.', 'critical', 'injuries', 'the', 'protests', 'this', 'week', 'have', 'taken', 'a', 'dark', 'turn', ',', 'with', 'more', 'people', 'critically', 'injured', 'than', 'at', 'any', 'point', 'in', 'the', 'long-running', 'movement', '.', 'hong', 'kong', \"'s\", 'hospital', 'authority', 'said', '67', 'people', 'were', 'treated', 'in', 'hospitals', 'in', 'total', 'on', 'wednesday', 'with', 'injuries', 'related', 'to', 'the', 'protests', '.', 'on', 'wednesday', ',', 'a', '70-year-old', 'man', 'was', 'hospitalized', 'and', 'remains', 'in', 'critical', 'condition', 'after', 'being', 'hit', 'on', 'the', 'head', 'by', 'a', 'brick', 'thrown', 'by', 'a', 'protester', ',', 'police', 'said', '.', 'the', 'injured', 'man', 'was', 'on', 'a', 'lunch', 'break', 'from', 'his', 'job', 'as', 'a', 'cleaner', 'when', 'he', 'voluntarily', 'began', 'clearing', 'bricks', 'from', 'the', 'road', 'with', 'other', 'members', 'of', 'the', 'public', ',', 'according', 'to', 'police', '.', 'video', 'of', 'the', 'alleged', 'incident', 'shows', 'protesters', 'and', 'government', 'supporters', 'hurling', 'bricks', 'at', 'one', 'another', 'before', 'a', 'man', 'falls', 'to', 'the', 'ground', '.', 'a', '15-year-old', 'boy', 'was', 'struck', 'in', 'the', 'head', 'by', 'what', 'is', 'believed', 'to', 'be', 'a', 'tear', 'gas', 'canister', 'and', 'is', 'also', 'in', 'critical', 'condition', ',', 'according', 'to', 'hong', 'kong', \"'s\", 'hospital', 'authority', '.', 'earlier', 'in', 'the', 'week', ',', 'a', 'protester', 'was', 'shot', 'by', 'police', 'and', 'a', 'man', 'was', 'set', 'on', 'fire', 'following', 'a', 'dispute', 'with', 'protesters', 'monday', '.', \"'you\", 'are', 'on', 'the', 'edge', 'of', 'doom', \"'\", 'the', 'major', 'escalation', 'in', 'political', 'unrest', 'this', 'week', 'has', 'once', 'again', 'raised', 'questions', 'over', 'what', 'will', 'happen', 'next', '.', 'looming', 'over', 'those', 'conversations', 'is', 'the', 'specter', 'of', 'a', 'possible', 'chinese', 'intervention', '.', 'on', 'thursday', ',', 'china', \"'s\", 'top', 'state-run', 'television', 'channel', 'issued', 'an', 'online', 'editorial', 'telling', 'protesters', 'their', 'actions', 'are', '``', 'undisguised', 'terrorism', '.', \"''\", '``', 'we', 'have', 'had', 'enough', 'talking', ',', 'persuasion', 'and', 'warnings', '.', 'to', 'stop', 'the', 'unrest', 'has', 'to', 'be', 'implemented', 'and', 'advanced', 'more', 'resolutely', 'now', '.', 'the', 'country', 'will', 'never', 'accept', 'the', 'situation', 'to', 'be', 'out', 'of', 'control', ',', 'justice', 'to', 'be', 'covered', 'or', 'hong', 'kong', 'to', 'be', 'sunk', ',', \"''\", 'the', 'editorial', 'from', 'cctv', 'read', '.', 'it', 'echoed', 'an', 'editorial', 'in', 'the', 'state-run', 'tabloid', 'global', 'times', 'suggesting', 'the', 'people', \"'s\", 'armed', 'police', 'and', 'the', 'people', \"'s\", 'liberation', 'army', 'were', 'ready', 'to', 'back', 'up', 'hong', 'kong', \"'s\", 'government', '``', 'when', 'necessary', '.', \"''\", '``', 'we', 'also', 'warn', 'the', 'radical', 'protesters', ':', 'you', 'are', 'on', 'the', 'edge', 'of', 'doom', '.', 'those', 'who', 'are', 'coerced', 'to', 'be', \"'valiant\", \"'\", 'should', 'walk', 'away', 'as', 'soon', 'as', 'possible', 'when', 'you', 'still', 'can', 'make', 'the', 'call', ',', \"''\", 'the', 'editorial', 'said', '.', 'however', ',', 'it', 'is', 'not', 'clear', 'if', 'beijing', 'has', 'a', 'red', 'line', ',', 'and', 'what', 'it', 'would', 'take', 'for', 'protesters', 'to', 'cross', 'it', 'before', 'provoking', 'a', 'chinese', 'military', 'response', '.', 'analysts', 'say', 'it', 'is', 'still', 'a', 'question', 'that', 'beijing', 'is', 'actively', 'considering', '.', '``', 'it', \"'s\", 'smart', 'not', 'to', 'state', 'a', 'clear', 'red', 'line', 'because', 'you', 'are', 'going', 'to', 'have', 'to', 'act', 'on', 'it', 'to', 'keep', 'your', 'credibility', 'once', 'that', 'line', 'has', 'been', 'breached', '.', 'and', 'there', 'is', 'every', 'likelihood', 'that', 'protesters', 'would', 'actively', 'seek', 'to', 'breach', 'that', 'line', ',', \"''\", 'adam', 'ni', ',', 'a', 'china', 'researcher', 'at', 'macquarie', 'university', 'in', 'sydney', 'told', 'cnn', 'last', 'month', '.', 'the', 'chinese', 'government', 'has', 'hinted', 'that', 'it', 'might', 'be', 'looking', 'at', 'new', 'ways', 'of', 'resolving', 'the', 'crisis', 'in', 'hong', 'kong', ',', 'both', 'short-term', 'and', 'long-term', '.', 'after', 'a', 'meeting', 'of', 'a', 'top', 'chinese', 'communist', 'party', 'body', 'in', 'october', ',', 'senior', 'chinese', 'official', 'shen', 'chunyao', 'said', 'that', 'beijing', 'would', 'work', 'to', 'improve', 'the', 'legal', 'system', 'and', 'strengthen', '``', 'law', 'enforcement', \"''\", 'in', 'hong', 'kong', ',', 'and', 'neighboring', 'macao', '.', 'he', 'added', 'it', 'was', 'time', 'to', 'introduce', 'new', 'lessons', 'in', '``', 'patriotism', \"''\", 'across', 'hong', 'kong', ',', 'a', 'move', 'which', 'has', 'been', 'discussed', 'by', 'the', 'chinese', 'government', 'for', 'a', 'long', 'time', '.', 'on', 'tuesday', ',', 'the', 'chinese', 'government', 'unveiled', 'a', 'new', 'range', 'of', 'patriotic', 'education', 'measures', 'for', 'the', 'country', ',', 'which', 'according', 'to', 'state-run', 'xinhua', 'would', '``', 'focus', 'on', 'young', 'chinese', '.', \"''\", '``', 'patriotism', 'should', 'be', 'embedded', 'in', 'the', 'whole', 'process', 'of', 'school', 'education', ',', \"''\", 'the', 'article', 'said', '.', 'buried', 'in', 'point', '20', 'of', 'the', 'new', 'patriotic', 'education', 'outline', 'is', 'a', 'call', 'to', '``', 'guide', \"''\", 'the', 'citizens', 'of', 'hong', 'kong', 'and', 'macao', 'to', '``', 'enhance', 'their', 'national', 'identity', 'and', 'consciously', 'safeguard', 'national', 'unity', '.', \"''\", '©', '2019', 'cable', 'news', 'network', '.', 'turner', 'broadcasting', 'system', ',', 'inc.', 'all', 'rights', 'reserved', '.', 'listen', 'to', 'cnn', '(', 'low-bandwidth', 'usage', ')', 'go', 'to', 'the', 'full', 'cnn', 'experience']\n"
     ]
    },
    {
     "data": {
      "application/javascript": [
       "\n",
       "            setTimeout(function() {\n",
       "                var nbb_cell_id = 15;\n",
       "                var nbb_unformatted_code = \"# Lowercase\\nlowercase = [token.lower() for token in word_token]\\nprint(lowercase)\";\n",
       "                var nbb_formatted_code = \"# Lowercase\\nlowercase = [token.lower() for token in word_token]\\nprint(lowercase)\";\n",
       "                var nbb_cells = Jupyter.notebook.get_cells();\n",
       "                for (var i = 0; i < nbb_cells.length; ++i) {\n",
       "                    if (nbb_cells[i].input_prompt_number == nbb_cell_id) {\n",
       "                        if (nbb_cells[i].get_text() == nbb_unformatted_code) {\n",
       "                             nbb_cells[i].set_text(nbb_formatted_code);\n",
       "                        }\n",
       "                        break;\n",
       "                    }\n",
       "                }\n",
       "            }, 500);\n",
       "            "
      ],
      "text/plain": [
       "<IPython.core.display.Javascript object>"
      ]
     },
     "metadata": {},
     "output_type": "display_data"
    }
   ],
   "source": [
    "# Lowercase\n",
    "lowercase = [token.lower() for token in word_token]\n",
    "print(lowercase)"
   ]
  },
  {
   "cell_type": "code",
   "execution_count": 19,
   "metadata": {
    "collapsed": true
   },
   "outputs": [
    {
     "name": "stdout",
     "output_type": "stream",
     "text": [
      "['student', 'protesters', 'fortify', 'campus', 'occupations', 'hong', 'kong', 'braces', 'violence', 'hong', 'kong', '(', 'cnn', ')', '-', 'threat', 'violence', 'hung', 'hong', 'kong', 'thursday', 'evening', 'thousands', 'student', 'protesters', 'prepared', 'face', 'riot', 'police', ',', 'amid', 'continued', 'occupation', 'several', 'city', \"'s\", 'prestigious', 'universities', '.', 'level', 'unrest', 'destruction', 'almost', 'six-month-long', 'protest', 'movement', 'reached', 'new', 'unnerving', 'heights', 'recent', 'days', ',', 'several', 'people', 'critically', 'injured', 'chinese', 'state', 'media', 'warning', 'radical', 'protesters', ',', '``', 'edge', 'doom', '.', \"''\", 'sporadic', 'clashes', 'broke', 'thursday', 'morning', ',', 'police', 'fired', 'tear', 'gas', 'protesters', 'near', 'hong', 'kong', 'polytechnic', 'university', 'kowloon', '.', 'hong', 'kong', 'island', ',', 'roads', 'surrounding', 'university', 'hong', 'kong', 'blocked', 'protesters', ',', 'resulting', 'traffic', 'delays', '.', 'universities', 'emerged', 'new', 'focal', 'point', 'protest', 'movement', ',', 'numerous', 'campuses', 'across', 'city', 'becoming', 'home', 'heavily', 'fortified', 'temporary', 'protest', 'camps', '.', 'chinese', 'university', 'hong', 'kong', '(', 'cuhk', ')', 'new', 'territories', ',', 'several', 'thousand', 'protesters', 'effectively', 'barricaded', 'inside', 'grounds', ',', 'blocking', 'entrances', 'third', 'straight', 'day', '.', 'cuhk', 'campus', 'tuesday', 'scene', 'intense', 'fighting', 'city', 'since', 'demonstrations', 'began', 'june', ',', 'hundreds', 'riot', 'police', 'firing', '1,567', 'canisters', 'tear', 'gas', 'chaotic', 'ultimately', 'aborted', 'clearance', 'operation', '.', 'throughout', 'wednesday', 'thursday', ',', 'protesters', 'helping', 'continued', 'pour', 'sprawling', 'grounds', 'road', 'foot', ',', 'bringing', 'supplies', ',', 'including', 'protective', 'gear', ',', 'food', 'water', '.', 'highly', 'organized', 'operation', 'launched', 'inside', 'campus', ',', 'sorting', 'distributing', 'supplies', ',', 'building', 'reinforcing', 'barricades', ',', 'stockpiling', 'weapons', ',', 'including', 'petrol', 'bombs', ',', 'bows', 'arrows', ',', 'javelins', ',', 'pieces', 'wood', 'hammered', 'nails', '.', 'far', 'police', 'appeared', 'reticent', 'return', 'university', 'despite', 'hong', 'kong', 'court', 'rejecting', 'application', 'students', 'block', 'police', 'entering', 'campus', 'without', 'warrant', '.', 'many', 'overseas', 'students', 'studying', 'university', 'asked', 'leave', 'home', 'colleges', 'cuhk', 'administrators', 'announced', 'early', 'cancellation', 'classes', ',', 'stopping', 'fall', 'semester', 'around', 'two', 'weeks', 'early', '.', 'wednesday', ',', 'police', 'said', 'evacuated', 'several', 'students', 'mainland', 'china', 'via', 'police', 'boat', ',', 'roads', 'blocked', 'protesters', '.', 'effects', 'campus', 'unrest', 'could', 'felt', 'across', 'city', 'thursday', ',', 'continued', 'travel', 'disruptions', 'protesters', ',', 'including', 'large', 'numbers', 'office', 'workers', 'lunch', 'break', ',', 'taking', 'busy', 'streets', 'central', 'district', 'fourth', 'straight', 'day', '.', 'office', 'workers', 'also', 'came', 'support', 'student', 'protesters', 'tai', 'koo', ',', 'east', 'city', '.', 'two', 'three', 'tunnels', 'connecting', 'hong', 'kong', 'island', 'kowloon', 'peninsula', ',', 'including', 'busiest', 'cross-harbour', 'tunnel', ',', 'closed', 'traffic', 'thursday', 'morning', 'mtr', 'continued', 'suspend', 'service', 'several', 'stations', '.', 'schools', 'suspended', 'classes', 'rest', 'week', '--', 'first', 'instance', 'since', 'protests', 'began', '.', 'critical', 'injuries', 'protests', 'week', 'taken', 'dark', 'turn', ',', 'people', 'critically', 'injured', 'point', 'long-running', 'movement', '.', 'hong', 'kong', \"'s\", 'hospital', 'authority', 'said', '67', 'people', 'treated', 'hospitals', 'total', 'wednesday', 'injuries', 'related', 'protests', '.', 'wednesday', ',', '70-year-old', 'man', 'hospitalized', 'remains', 'critical', 'condition', 'hit', 'head', 'brick', 'thrown', 'protester', ',', 'police', 'said', '.', 'injured', 'man', 'lunch', 'break', 'job', 'cleaner', 'voluntarily', 'began', 'clearing', 'bricks', 'road', 'members', 'public', ',', 'according', 'police', '.', 'video', 'alleged', 'incident', 'shows', 'protesters', 'government', 'supporters', 'hurling', 'bricks', 'one', 'another', 'man', 'falls', 'ground', '.', '15-year-old', 'boy', 'struck', 'head', 'believed', 'tear', 'gas', 'canister', 'also', 'critical', 'condition', ',', 'according', 'hong', 'kong', \"'s\", 'hospital', 'authority', '.', 'earlier', 'week', ',', 'protester', 'shot', 'police', 'man', 'set', 'fire', 'following', 'dispute', 'protesters', 'monday', '.', \"'you\", 'edge', 'doom', \"'\", 'major', 'escalation', 'political', 'unrest', 'week', 'raised', 'questions', 'happen', 'next', '.', 'looming', 'conversations', 'specter', 'possible', 'chinese', 'intervention', '.', 'thursday', ',', 'china', \"'s\", 'top', 'state-run', 'television', 'channel', 'issued', 'online', 'editorial', 'telling', 'protesters', 'actions', '``', 'undisguised', 'terrorism', '.', \"''\", '``', 'enough', 'talking', ',', 'persuasion', 'warnings', '.', 'stop', 'unrest', 'implemented', 'advanced', 'resolutely', '.', 'country', 'never', 'accept', 'situation', 'control', ',', 'justice', 'covered', 'hong', 'kong', 'sunk', ',', \"''\", 'editorial', 'cctv', 'read', '.', 'echoed', 'editorial', 'state-run', 'tabloid', 'global', 'times', 'suggesting', 'people', \"'s\", 'armed', 'police', 'people', \"'s\", 'liberation', 'army', 'ready', 'back', 'hong', 'kong', \"'s\", 'government', '``', 'necessary', '.', \"''\", '``', 'also', 'warn', 'radical', 'protesters', ':', 'edge', 'doom', '.', 'coerced', \"'valiant\", \"'\", 'walk', 'away', 'soon', 'possible', 'still', 'make', 'call', ',', \"''\", 'editorial', 'said', '.', 'however', ',', 'clear', 'beijing', 'red', 'line', ',', 'would', 'take', 'protesters', 'cross', 'provoking', 'chinese', 'military', 'response', '.', 'analysts', 'say', 'still', 'question', 'beijing', 'actively', 'considering', '.', '``', \"'s\", 'smart', 'state', 'clear', 'red', 'line', 'going', 'act', 'keep', 'credibility', 'line', 'breached', '.', 'every', 'likelihood', 'protesters', 'would', 'actively', 'seek', 'breach', 'line', ',', \"''\", 'adam', 'ni', ',', 'china', 'researcher', 'macquarie', 'university', 'sydney', 'told', 'cnn', 'last', 'month', '.', 'chinese', 'government', 'hinted', 'might', 'looking', 'new', 'ways', 'resolving', 'crisis', 'hong', 'kong', ',', 'short-term', 'long-term', '.', 'meeting', 'top', 'chinese', 'communist', 'party', 'body', 'october', ',', 'senior', 'chinese', 'official', 'shen', 'chunyao', 'said', 'beijing', 'would', 'work', 'improve', 'legal', 'system', 'strengthen', '``', 'law', 'enforcement', \"''\", 'hong', 'kong', ',', 'neighboring', 'macao', '.', 'added', 'time', 'introduce', 'new', 'lessons', '``', 'patriotism', \"''\", 'across', 'hong', 'kong', ',', 'move', 'discussed', 'chinese', 'government', 'long', 'time', '.', 'tuesday', ',', 'chinese', 'government', 'unveiled', 'new', 'range', 'patriotic', 'education', 'measures', 'country', ',', 'according', 'state-run', 'xinhua', 'would', '``', 'focus', 'young', 'chinese', '.', \"''\", '``', 'patriotism', 'embedded', 'whole', 'process', 'school', 'education', ',', \"''\", 'article', 'said', '.', 'buried', 'point', '20', 'new', 'patriotic', 'education', 'outline', 'call', '``', 'guide', \"''\", 'citizens', 'hong', 'kong', 'macao', '``', 'enhance', 'national', 'identity', 'consciously', 'safeguard', 'national', 'unity', '.', \"''\", '©', '2019', 'cable', 'news', 'network', '.', 'turner', 'broadcasting', 'system', ',', 'inc.', 'rights', 'reserved', '.', 'listen', 'cnn', '(', 'low-bandwidth', 'usage', ')', 'go', 'full', 'cnn', 'experience']\n"
     ]
    },
    {
     "data": {
      "application/javascript": [
       "\n",
       "            setTimeout(function() {\n",
       "                var nbb_cell_id = 19;\n",
       "                var nbb_unformatted_code = \"# Removing Stopwords\\nno_stopwords = [token for token in lowercase if not token in stopwords.words(\\\"english\\\")]\\nprint(no_stopwords)\";\n",
       "                var nbb_formatted_code = \"# Removing Stopwords\\nno_stopwords = [token for token in lowercase if not token in stopwords.words(\\\"english\\\")]\\nprint(no_stopwords)\";\n",
       "                var nbb_cells = Jupyter.notebook.get_cells();\n",
       "                for (var i = 0; i < nbb_cells.length; ++i) {\n",
       "                    if (nbb_cells[i].input_prompt_number == nbb_cell_id) {\n",
       "                        if (nbb_cells[i].get_text() == nbb_unformatted_code) {\n",
       "                             nbb_cells[i].set_text(nbb_formatted_code);\n",
       "                        }\n",
       "                        break;\n",
       "                    }\n",
       "                }\n",
       "            }, 500);\n",
       "            "
      ],
      "text/plain": [
       "<IPython.core.display.Javascript object>"
      ]
     },
     "metadata": {},
     "output_type": "display_data"
    }
   ],
   "source": [
    "# Removing Stopwords\n",
    "no_stopwords = [token for token in lowercase if not token in stopwords.words(\"english\")]\n",
    "print(no_stopwords)"
   ]
  },
  {
   "cell_type": "code",
   "execution_count": 20,
   "metadata": {
    "collapsed": true
   },
   "outputs": [
    {
     "name": "stdout",
     "output_type": "stream",
     "text": [
      "['student', 'protesters', 'fortify', 'campus', 'occupations', 'hong', 'kong', 'braces', 'violence', 'hong', 'kong', 'cnn', 'threat', 'violence', 'hung', 'hong', 'kong', 'thursday', 'evening', 'thousands', 'student', 'protesters', 'prepared', 'face', 'riot', 'police', 'amid', 'continued', 'occupation', 'several', 'city', 'prestigious', 'universities', 'level', 'unrest', 'destruction', 'almost', 'protest', 'movement', 'reached', 'new', 'unnerving', 'heights', 'recent', 'days', 'several', 'people', 'critically', 'injured', 'chinese', 'state', 'media', 'warning', 'radical', 'protesters', 'edge', 'doom', 'sporadic', 'clashes', 'broke', 'thursday', 'morning', 'police', 'fired', 'tear', 'gas', 'protesters', 'near', 'hong', 'kong', 'polytechnic', 'university', 'kowloon', 'hong', 'kong', 'island', 'roads', 'surrounding', 'university', 'hong', 'kong', 'blocked', 'protesters', 'resulting', 'traffic', 'delays', 'universities', 'emerged', 'new', 'focal', 'point', 'protest', 'movement', 'numerous', 'campuses', 'across', 'city', 'becoming', 'home', 'heavily', 'fortified', 'temporary', 'protest', 'camps', 'chinese', 'university', 'hong', 'kong', 'cuhk', 'new', 'territories', 'several', 'thousand', 'protesters', 'effectively', 'barricaded', 'inside', 'grounds', 'blocking', 'entrances', 'third', 'straight', 'day', 'cuhk', 'campus', 'tuesday', 'scene', 'intense', 'fighting', 'city', 'since', 'demonstrations', 'began', 'june', 'hundreds', 'riot', 'police', 'firing', 'canisters', 'tear', 'gas', 'chaotic', 'ultimately', 'aborted', 'clearance', 'operation', 'throughout', 'wednesday', 'thursday', 'protesters', 'helping', 'continued', 'pour', 'sprawling', 'grounds', 'road', 'foot', 'bringing', 'supplies', 'including', 'protective', 'gear', 'food', 'water', 'highly', 'organized', 'operation', 'launched', 'inside', 'campus', 'sorting', 'distributing', 'supplies', 'building', 'reinforcing', 'barricades', 'stockpiling', 'weapons', 'including', 'petrol', 'bombs', 'bows', 'arrows', 'javelins', 'pieces', 'wood', 'hammered', 'nails', 'far', 'police', 'appeared', 'reticent', 'return', 'university', 'despite', 'hong', 'kong', 'court', 'rejecting', 'application', 'students', 'block', 'police', 'entering', 'campus', 'without', 'warrant', 'many', 'overseas', 'students', 'studying', 'university', 'asked', 'leave', 'home', 'colleges', 'cuhk', 'administrators', 'announced', 'early', 'cancellation', 'classes', 'stopping', 'fall', 'semester', 'around', 'two', 'weeks', 'early', 'wednesday', 'police', 'said', 'evacuated', 'several', 'students', 'mainland', 'china', 'via', 'police', 'boat', 'roads', 'blocked', 'protesters', 'effects', 'campus', 'unrest', 'could', 'felt', 'across', 'city', 'thursday', 'continued', 'travel', 'disruptions', 'protesters', 'including', 'large', 'numbers', 'office', 'workers', 'lunch', 'break', 'taking', 'busy', 'streets', 'central', 'district', 'fourth', 'straight', 'day', 'office', 'workers', 'also', 'came', 'support', 'student', 'protesters', 'tai', 'koo', 'east', 'city', 'two', 'three', 'tunnels', 'connecting', 'hong', 'kong', 'island', 'kowloon', 'peninsula', 'including', 'busiest', 'tunnel', 'closed', 'traffic', 'thursday', 'morning', 'mtr', 'continued', 'suspend', 'service', 'several', 'stations', 'schools', 'suspended', 'classes', 'rest', 'week', 'first', 'instance', 'since', 'protests', 'began', 'critical', 'injuries', 'protests', 'week', 'taken', 'dark', 'turn', 'people', 'critically', 'injured', 'point', 'movement', 'hong', 'kong', 'hospital', 'authority', 'said', 'people', 'treated', 'hospitals', 'total', 'wednesday', 'injuries', 'related', 'protests', 'wednesday', 'man', 'hospitalized', 'remains', 'critical', 'condition', 'hit', 'head', 'brick', 'thrown', 'protester', 'police', 'said', 'injured', 'man', 'lunch', 'break', 'job', 'cleaner', 'voluntarily', 'began', 'clearing', 'bricks', 'road', 'members', 'public', 'according', 'police', 'video', 'alleged', 'incident', 'shows', 'protesters', 'government', 'supporters', 'hurling', 'bricks', 'one', 'another', 'man', 'falls', 'ground', 'boy', 'struck', 'head', 'believed', 'tear', 'gas', 'canister', 'also', 'critical', 'condition', 'according', 'hong', 'kong', 'hospital', 'authority', 'earlier', 'week', 'protester', 'shot', 'police', 'man', 'set', 'fire', 'following', 'dispute', 'protesters', 'monday', 'edge', 'doom', 'major', 'escalation', 'political', 'unrest', 'week', 'raised', 'questions', 'happen', 'next', 'looming', 'conversations', 'specter', 'possible', 'chinese', 'intervention', 'thursday', 'china', 'top', 'television', 'channel', 'issued', 'online', 'editorial', 'telling', 'protesters', 'actions', 'undisguised', 'terrorism', 'enough', 'talking', 'persuasion', 'warnings', 'stop', 'unrest', 'implemented', 'advanced', 'resolutely', 'country', 'never', 'accept', 'situation', 'control', 'justice', 'covered', 'hong', 'kong', 'sunk', 'editorial', 'cctv', 'read', 'echoed', 'editorial', 'tabloid', 'global', 'times', 'suggesting', 'people', 'armed', 'police', 'people', 'liberation', 'army', 'ready', 'back', 'hong', 'kong', 'government', 'necessary', 'also', 'warn', 'radical', 'protesters', 'edge', 'doom', 'coerced', 'walk', 'away', 'soon', 'possible', 'still', 'make', 'call', 'editorial', 'said', 'however', 'clear', 'beijing', 'red', 'line', 'would', 'take', 'protesters', 'cross', 'provoking', 'chinese', 'military', 'response', 'analysts', 'say', 'still', 'question', 'beijing', 'actively', 'considering', 'smart', 'state', 'clear', 'red', 'line', 'going', 'act', 'keep', 'credibility', 'line', 'breached', 'every', 'likelihood', 'protesters', 'would', 'actively', 'seek', 'breach', 'line', 'adam', 'ni', 'china', 'researcher', 'macquarie', 'university', 'sydney', 'told', 'cnn', 'last', 'month', 'chinese', 'government', 'hinted', 'might', 'looking', 'new', 'ways', 'resolving', 'crisis', 'hong', 'kong', 'meeting', 'top', 'chinese', 'communist', 'party', 'body', 'october', 'senior', 'chinese', 'official', 'shen', 'chunyao', 'said', 'beijing', 'would', 'work', 'improve', 'legal', 'system', 'strengthen', 'law', 'enforcement', 'hong', 'kong', 'neighboring', 'macao', 'added', 'time', 'introduce', 'new', 'lessons', 'patriotism', 'across', 'hong', 'kong', 'move', 'discussed', 'chinese', 'government', 'long', 'time', 'tuesday', 'chinese', 'government', 'unveiled', 'new', 'range', 'patriotic', 'education', 'measures', 'country', 'according', 'xinhua', 'would', 'focus', 'young', 'chinese', 'patriotism', 'embedded', 'whole', 'process', 'school', 'education', 'article', 'said', 'buried', 'point', 'new', 'patriotic', 'education', 'outline', 'call', 'guide', 'citizens', 'hong', 'kong', 'macao', 'enhance', 'national', 'identity', 'consciously', 'safeguard', 'national', 'unity', 'cable', 'news', 'network', 'turner', 'broadcasting', 'system', 'rights', 'reserved', 'listen', 'cnn', 'usage', 'go', 'full', 'cnn', 'experience']\n"
     ]
    },
    {
     "data": {
      "application/javascript": [
       "\n",
       "            setTimeout(function() {\n",
       "                var nbb_cell_id = 20;\n",
       "                var nbb_unformatted_code = \"# Remove Punctuation\\nno_punct = [token for token in no_stopwords if token.isalpha() == True]\\nprint(no_punct)\";\n",
       "                var nbb_formatted_code = \"# Remove Punctuation\\nno_punct = [token for token in no_stopwords if token.isalpha() == True]\\nprint(no_punct)\";\n",
       "                var nbb_cells = Jupyter.notebook.get_cells();\n",
       "                for (var i = 0; i < nbb_cells.length; ++i) {\n",
       "                    if (nbb_cells[i].input_prompt_number == nbb_cell_id) {\n",
       "                        if (nbb_cells[i].get_text() == nbb_unformatted_code) {\n",
       "                             nbb_cells[i].set_text(nbb_formatted_code);\n",
       "                        }\n",
       "                        break;\n",
       "                    }\n",
       "                }\n",
       "            }, 500);\n",
       "            "
      ],
      "text/plain": [
       "<IPython.core.display.Javascript object>"
      ]
     },
     "metadata": {},
     "output_type": "display_data"
    }
   ],
   "source": [
    "# Remove Punctuation\n",
    "no_punct = [token for token in no_stopwords if token.isalpha() == True]\n",
    "print(no_punct)"
   ]
  },
  {
   "cell_type": "code",
   "execution_count": 22,
   "metadata": {},
   "outputs": [
    {
     "name": "stderr",
     "output_type": "stream",
     "text": [
      "[nltk_data] Downloading package wordnet to\n",
      "[nltk_data]     C:\\Users\\jlim7\\AppData\\Roaming\\nltk_data...\n",
      "[nltk_data]   Unzipping corpora\\wordnet.zip.\n"
     ]
    },
    {
     "data": {
      "text/plain": [
       "True"
      ]
     },
     "execution_count": 22,
     "metadata": {},
     "output_type": "execute_result"
    },
    {
     "data": {
      "application/javascript": [
       "\n",
       "            setTimeout(function() {\n",
       "                var nbb_cell_id = 22;\n",
       "                var nbb_unformatted_code = \"import nltk\\nnltk.download('wordnet')\";\n",
       "                var nbb_formatted_code = \"import nltk\\n\\nnltk.download(\\\"wordnet\\\")\";\n",
       "                var nbb_cells = Jupyter.notebook.get_cells();\n",
       "                for (var i = 0; i < nbb_cells.length; ++i) {\n",
       "                    if (nbb_cells[i].input_prompt_number == nbb_cell_id) {\n",
       "                        if (nbb_cells[i].get_text() == nbb_unformatted_code) {\n",
       "                             nbb_cells[i].set_text(nbb_formatted_code);\n",
       "                        }\n",
       "                        break;\n",
       "                    }\n",
       "                }\n",
       "            }, 500);\n",
       "            "
      ],
      "text/plain": [
       "<IPython.core.display.Javascript object>"
      ]
     },
     "metadata": {},
     "output_type": "display_data"
    }
   ],
   "source": [
    "import nltk\n",
    "\n",
    "nltk.download(\"wordnet\")"
   ]
  },
  {
   "cell_type": "code",
   "execution_count": 23,
   "metadata": {
    "collapsed": true
   },
   "outputs": [
    {
     "name": "stdout",
     "output_type": "stream",
     "text": [
      "['student', 'protester', 'fortify', 'campus', 'occupation', 'hong', 'kong', 'brace', 'violence', 'hong', 'kong', 'cnn', 'threat', 'violence', 'hung', 'hong', 'kong', 'thursday', 'evening', 'thousand', 'student', 'protester', 'prepared', 'face', 'riot', 'police', 'amid', 'continued', 'occupation', 'several', 'city', 'prestigious', 'university', 'level', 'unrest', 'destruction', 'almost', 'protest', 'movement', 'reached', 'new', 'unnerving', 'height', 'recent', 'day', 'several', 'people', 'critically', 'injured', 'chinese', 'state', 'medium', 'warning', 'radical', 'protester', 'edge', 'doom', 'sporadic', 'clash', 'broke', 'thursday', 'morning', 'police', 'fired', 'tear', 'gas', 'protester', 'near', 'hong', 'kong', 'polytechnic', 'university', 'kowloon', 'hong', 'kong', 'island', 'road', 'surrounding', 'university', 'hong', 'kong', 'blocked', 'protester', 'resulting', 'traffic', 'delay', 'university', 'emerged', 'new', 'focal', 'point', 'protest', 'movement', 'numerous', 'campus', 'across', 'city', 'becoming', 'home', 'heavily', 'fortified', 'temporary', 'protest', 'camp', 'chinese', 'university', 'hong', 'kong', 'cuhk', 'new', 'territory', 'several', 'thousand', 'protester', 'effectively', 'barricaded', 'inside', 'ground', 'blocking', 'entrance', 'third', 'straight', 'day', 'cuhk', 'campus', 'tuesday', 'scene', 'intense', 'fighting', 'city', 'since', 'demonstration', 'began', 'june', 'hundred', 'riot', 'police', 'firing', 'canister', 'tear', 'gas', 'chaotic', 'ultimately', 'aborted', 'clearance', 'operation', 'throughout', 'wednesday', 'thursday', 'protester', 'helping', 'continued', 'pour', 'sprawling', 'ground', 'road', 'foot', 'bringing', 'supply', 'including', 'protective', 'gear', 'food', 'water', 'highly', 'organized', 'operation', 'launched', 'inside', 'campus', 'sorting', 'distributing', 'supply', 'building', 'reinforcing', 'barricade', 'stockpiling', 'weapon', 'including', 'petrol', 'bomb', 'bow', 'arrow', 'javelin', 'piece', 'wood', 'hammered', 'nail', 'far', 'police', 'appeared', 'reticent', 'return', 'university', 'despite', 'hong', 'kong', 'court', 'rejecting', 'application', 'student', 'block', 'police', 'entering', 'campus', 'without', 'warrant', 'many', 'overseas', 'student', 'studying', 'university', 'asked', 'leave', 'home', 'college', 'cuhk', 'administrator', 'announced', 'early', 'cancellation', 'class', 'stopping', 'fall', 'semester', 'around', 'two', 'week', 'early', 'wednesday', 'police', 'said', 'evacuated', 'several', 'student', 'mainland', 'china', 'via', 'police', 'boat', 'road', 'blocked', 'protester', 'effect', 'campus', 'unrest', 'could', 'felt', 'across', 'city', 'thursday', 'continued', 'travel', 'disruption', 'protester', 'including', 'large', 'number', 'office', 'worker', 'lunch', 'break', 'taking', 'busy', 'street', 'central', 'district', 'fourth', 'straight', 'day', 'office', 'worker', 'also', 'came', 'support', 'student', 'protester', 'tai', 'koo', 'east', 'city', 'two', 'three', 'tunnel', 'connecting', 'hong', 'kong', 'island', 'kowloon', 'peninsula', 'including', 'busiest', 'tunnel', 'closed', 'traffic', 'thursday', 'morning', 'mtr', 'continued', 'suspend', 'service', 'several', 'station', 'school', 'suspended', 'class', 'rest', 'week', 'first', 'instance', 'since', 'protest', 'began', 'critical', 'injury', 'protest', 'week', 'taken', 'dark', 'turn', 'people', 'critically', 'injured', 'point', 'movement', 'hong', 'kong', 'hospital', 'authority', 'said', 'people', 'treated', 'hospital', 'total', 'wednesday', 'injury', 'related', 'protest', 'wednesday', 'man', 'hospitalized', 'remains', 'critical', 'condition', 'hit', 'head', 'brick', 'thrown', 'protester', 'police', 'said', 'injured', 'man', 'lunch', 'break', 'job', 'cleaner', 'voluntarily', 'began', 'clearing', 'brick', 'road', 'member', 'public', 'according', 'police', 'video', 'alleged', 'incident', 'show', 'protester', 'government', 'supporter', 'hurling', 'brick', 'one', 'another', 'man', 'fall', 'ground', 'boy', 'struck', 'head', 'believed', 'tear', 'gas', 'canister', 'also', 'critical', 'condition', 'according', 'hong', 'kong', 'hospital', 'authority', 'earlier', 'week', 'protester', 'shot', 'police', 'man', 'set', 'fire', 'following', 'dispute', 'protester', 'monday', 'edge', 'doom', 'major', 'escalation', 'political', 'unrest', 'week', 'raised', 'question', 'happen', 'next', 'looming', 'conversation', 'specter', 'possible', 'chinese', 'intervention', 'thursday', 'china', 'top', 'television', 'channel', 'issued', 'online', 'editorial', 'telling', 'protester', 'action', 'undisguised', 'terrorism', 'enough', 'talking', 'persuasion', 'warning', 'stop', 'unrest', 'implemented', 'advanced', 'resolutely', 'country', 'never', 'accept', 'situation', 'control', 'justice', 'covered', 'hong', 'kong', 'sunk', 'editorial', 'cctv', 'read', 'echoed', 'editorial', 'tabloid', 'global', 'time', 'suggesting', 'people', 'armed', 'police', 'people', 'liberation', 'army', 'ready', 'back', 'hong', 'kong', 'government', 'necessary', 'also', 'warn', 'radical', 'protester', 'edge', 'doom', 'coerced', 'walk', 'away', 'soon', 'possible', 'still', 'make', 'call', 'editorial', 'said', 'however', 'clear', 'beijing', 'red', 'line', 'would', 'take', 'protester', 'cross', 'provoking', 'chinese', 'military', 'response', 'analyst', 'say', 'still', 'question', 'beijing', 'actively', 'considering', 'smart', 'state', 'clear', 'red', 'line', 'going', 'act', 'keep', 'credibility', 'line', 'breached', 'every', 'likelihood', 'protester', 'would', 'actively', 'seek', 'breach', 'line', 'adam', 'ni', 'china', 'researcher', 'macquarie', 'university', 'sydney', 'told', 'cnn', 'last', 'month', 'chinese', 'government', 'hinted', 'might', 'looking', 'new', 'way', 'resolving', 'crisis', 'hong', 'kong', 'meeting', 'top', 'chinese', 'communist', 'party', 'body', 'october', 'senior', 'chinese', 'official', 'shen', 'chunyao', 'said', 'beijing', 'would', 'work', 'improve', 'legal', 'system', 'strengthen', 'law', 'enforcement', 'hong', 'kong', 'neighboring', 'macao', 'added', 'time', 'introduce', 'new', 'lesson', 'patriotism', 'across', 'hong', 'kong', 'move', 'discussed', 'chinese', 'government', 'long', 'time', 'tuesday', 'chinese', 'government', 'unveiled', 'new', 'range', 'patriotic', 'education', 'measure', 'country', 'according', 'xinhua', 'would', 'focus', 'young', 'chinese', 'patriotism', 'embedded', 'whole', 'process', 'school', 'education', 'article', 'said', 'buried', 'point', 'new', 'patriotic', 'education', 'outline', 'call', 'guide', 'citizen', 'hong', 'kong', 'macao', 'enhance', 'national', 'identity', 'consciously', 'safeguard', 'national', 'unity', 'cable', 'news', 'network', 'turner', 'broadcasting', 'system', 'right', 'reserved', 'listen', 'cnn', 'usage', 'go', 'full', 'cnn', 'experience']\n"
     ]
    },
    {
     "data": {
      "application/javascript": [
       "\n",
       "            setTimeout(function() {\n",
       "                var nbb_cell_id = 23;\n",
       "                var nbb_unformatted_code = \"# Lemmatize\\nlemmatizer = WordNetLemmatizer()\\nlemmatized = [lemmatizer.lemmatize(token) for token in no_punct]\\nprint(lemmatized)\";\n",
       "                var nbb_formatted_code = \"# Lemmatize\\nlemmatizer = WordNetLemmatizer()\\nlemmatized = [lemmatizer.lemmatize(token) for token in no_punct]\\nprint(lemmatized)\";\n",
       "                var nbb_cells = Jupyter.notebook.get_cells();\n",
       "                for (var i = 0; i < nbb_cells.length; ++i) {\n",
       "                    if (nbb_cells[i].input_prompt_number == nbb_cell_id) {\n",
       "                        if (nbb_cells[i].get_text() == nbb_unformatted_code) {\n",
       "                             nbb_cells[i].set_text(nbb_formatted_code);\n",
       "                        }\n",
       "                        break;\n",
       "                    }\n",
       "                }\n",
       "            }, 500);\n",
       "            "
      ],
      "text/plain": [
       "<IPython.core.display.Javascript object>"
      ]
     },
     "metadata": {},
     "output_type": "display_data"
    }
   ],
   "source": [
    "# Lemmatize\n",
    "lemmatizer = WordNetLemmatizer()\n",
    "lemmatized = [lemmatizer.lemmatize(token) for token in no_punct]\n",
    "print(lemmatized)"
   ]
  },
  {
   "cell_type": "code",
   "execution_count": 24,
   "metadata": {
    "collapsed": true
   },
   "outputs": [
    {
     "name": "stdout",
     "output_type": "stream",
     "text": [
      "['student', 'protest', 'fortifi', 'campus', 'occup', 'hong', 'kong', 'brace', 'violenc', 'hong', 'kong', 'cnn', 'threat', 'violenc', 'hung', 'hong', 'kong', 'thursday', 'even', 'thousand', 'student', 'protest', 'prepar', 'face', 'riot', 'polic', 'amid', 'continu', 'occup', 'sever', 'citi', 'prestigi', 'univers', 'level', 'unrest', 'destruct', 'almost', 'protest', 'movement', 'reach', 'new', 'unnerv', 'height', 'recent', 'day', 'sever', 'peopl', 'critic', 'injur', 'chines', 'state', 'media', 'warn', 'radic', 'protest', 'edg', 'doom', 'sporad', 'clash', 'broke', 'thursday', 'morn', 'polic', 'fire', 'tear', 'gas', 'protest', 'near', 'hong', 'kong', 'polytechn', 'univers', 'kowloon', 'hong', 'kong', 'island', 'road', 'surround', 'univers', 'hong', 'kong', 'block', 'protest', 'result', 'traffic', 'delay', 'univers', 'emerg', 'new', 'focal', 'point', 'protest', 'movement', 'numer', 'campus', 'across', 'citi', 'becom', 'home', 'heavili', 'fortifi', 'temporari', 'protest', 'camp', 'chines', 'univers', 'hong', 'kong', 'cuhk', 'new', 'territori', 'sever', 'thousand', 'protest', 'effect', 'barricad', 'insid', 'ground', 'block', 'entranc', 'third', 'straight', 'day', 'cuhk', 'campus', 'tuesday', 'scene', 'intens', 'fight', 'citi', 'sinc', 'demonstr', 'began', 'june', 'hundr', 'riot', 'polic', 'fire', 'canist', 'tear', 'gas', 'chaotic', 'ultim', 'abort', 'clearanc', 'oper', 'throughout', 'wednesday', 'thursday', 'protest', 'help', 'continu', 'pour', 'sprawl', 'ground', 'road', 'foot', 'bring', 'suppli', 'includ', 'protect', 'gear', 'food', 'water', 'high', 'organ', 'oper', 'launch', 'insid', 'campus', 'sort', 'distribut', 'suppli', 'build', 'reinforc', 'barricad', 'stockpil', 'weapon', 'includ', 'petrol', 'bomb', 'bow', 'arrow', 'javelin', 'piec', 'wood', 'hammer', 'nail', 'far', 'polic', 'appear', 'retic', 'return', 'univers', 'despit', 'hong', 'kong', 'court', 'reject', 'applic', 'student', 'block', 'polic', 'enter', 'campus', 'without', 'warrant', 'mani', 'oversea', 'student', 'studi', 'univers', 'ask', 'leav', 'home', 'colleg', 'cuhk', 'administr', 'announc', 'earli', 'cancel', 'class', 'stop', 'fall', 'semest', 'around', 'two', 'week', 'earli', 'wednesday', 'polic', 'said', 'evacu', 'sever', 'student', 'mainland', 'china', 'via', 'polic', 'boat', 'road', 'block', 'protest', 'effect', 'campus', 'unrest', 'could', 'felt', 'across', 'citi', 'thursday', 'continu', 'travel', 'disrupt', 'protest', 'includ', 'larg', 'number', 'offic', 'worker', 'lunch', 'break', 'take', 'busi', 'street', 'central', 'district', 'fourth', 'straight', 'day', 'offic', 'worker', 'also', 'came', 'support', 'student', 'protest', 'tai', 'koo', 'east', 'citi', 'two', 'three', 'tunnel', 'connect', 'hong', 'kong', 'island', 'kowloon', 'peninsula', 'includ', 'busiest', 'tunnel', 'close', 'traffic', 'thursday', 'morn', 'mtr', 'continu', 'suspend', 'servic', 'sever', 'station', 'school', 'suspend', 'class', 'rest', 'week', 'first', 'instanc', 'sinc', 'protest', 'began', 'critic', 'injuri', 'protest', 'week', 'taken', 'dark', 'turn', 'peopl', 'critic', 'injur', 'point', 'movement', 'hong', 'kong', 'hospit', 'author', 'said', 'peopl', 'treat', 'hospit', 'total', 'wednesday', 'injuri', 'relat', 'protest', 'wednesday', 'man', 'hospit', 'remain', 'critic', 'condit', 'hit', 'head', 'brick', 'thrown', 'protest', 'polic', 'said', 'injur', 'man', 'lunch', 'break', 'job', 'cleaner', 'voluntarili', 'began', 'clear', 'brick', 'road', 'member', 'public', 'accord', 'polic', 'video', 'alleg', 'incid', 'show', 'protest', 'govern', 'support', 'hurl', 'brick', 'one', 'anoth', 'man', 'fall', 'ground', 'boy', 'struck', 'head', 'believ', 'tear', 'gas', 'canist', 'also', 'critic', 'condit', 'accord', 'hong', 'kong', 'hospit', 'author', 'earlier', 'week', 'protest', 'shot', 'polic', 'man', 'set', 'fire', 'follow', 'disput', 'protest', 'monday', 'edg', 'doom', 'major', 'escal', 'polit', 'unrest', 'week', 'rais', 'question', 'happen', 'next', 'loom', 'convers', 'specter', 'possibl', 'chines', 'intervent', 'thursday', 'china', 'top', 'televis', 'channel', 'issu', 'onlin', 'editori', 'tell', 'protest', 'action', 'undisguis', 'terror', 'enough', 'talk', 'persuas', 'warn', 'stop', 'unrest', 'implement', 'advanc', 'resolut', 'countri', 'never', 'accept', 'situat', 'control', 'justic', 'cover', 'hong', 'kong', 'sunk', 'editori', 'cctv', 'read', 'echo', 'editori', 'tabloid', 'global', 'time', 'suggest', 'peopl', 'arm', 'polic', 'peopl', 'liber', 'armi', 'readi', 'back', 'hong', 'kong', 'govern', 'necessari', 'also', 'warn', 'radic', 'protest', 'edg', 'doom', 'coerc', 'walk', 'away', 'soon', 'possibl', 'still', 'make', 'call', 'editori', 'said', 'howev', 'clear', 'beij', 'red', 'line', 'would', 'take', 'protest', 'cross', 'provok', 'chines', 'militari', 'respons', 'analyst', 'say', 'still', 'question', 'beij', 'activ', 'consid', 'smart', 'state', 'clear', 'red', 'line', 'go', 'act', 'keep', 'credibl', 'line', 'breach', 'everi', 'likelihood', 'protest', 'would', 'activ', 'seek', 'breach', 'line', 'adam', 'ni', 'china', 'research', 'macquari', 'univers', 'sydney', 'told', 'cnn', 'last', 'month', 'chines', 'govern', 'hint', 'might', 'look', 'new', 'way', 'resolv', 'crisi', 'hong', 'kong', 'meet', 'top', 'chines', 'communist', 'parti', 'bodi', 'octob', 'senior', 'chines', 'offici', 'shen', 'chunyao', 'said', 'beij', 'would', 'work', 'improv', 'legal', 'system', 'strengthen', 'law', 'enforc', 'hong', 'kong', 'neighbor', 'macao', 'ad', 'time', 'introduc', 'new', 'lesson', 'patriot', 'across', 'hong', 'kong', 'move', 'discuss', 'chines', 'govern', 'long', 'time', 'tuesday', 'chines', 'govern', 'unveil', 'new', 'rang', 'patriot', 'educ', 'measur', 'countri', 'accord', 'xinhua', 'would', 'focus', 'young', 'chines', 'patriot', 'embed', 'whole', 'process', 'school', 'educ', 'articl', 'said', 'buri', 'point', 'new', 'patriot', 'educ', 'outlin', 'call', 'guid', 'citizen', 'hong', 'kong', 'macao', 'enhanc', 'nation', 'ident', 'conscious', 'safeguard', 'nation', 'uniti', 'cabl', 'news', 'network', 'turner', 'broadcast', 'system', 'right', 'reserv', 'listen', 'cnn', 'usag', 'go', 'full', 'cnn', 'experi']\n"
     ]
    },
    {
     "data": {
      "application/javascript": [
       "\n",
       "            setTimeout(function() {\n",
       "                var nbb_cell_id = 24;\n",
       "                var nbb_unformatted_code = \"# Stemming \\nstemmer = SnowballStemmer('english')\\nstemmed = [stemmer.stem(token) for token in no_punct]\\nprint(stemmed)\";\n",
       "                var nbb_formatted_code = \"# Stemming\\nstemmer = SnowballStemmer(\\\"english\\\")\\nstemmed = [stemmer.stem(token) for token in no_punct]\\nprint(stemmed)\";\n",
       "                var nbb_cells = Jupyter.notebook.get_cells();\n",
       "                for (var i = 0; i < nbb_cells.length; ++i) {\n",
       "                    if (nbb_cells[i].input_prompt_number == nbb_cell_id) {\n",
       "                        if (nbb_cells[i].get_text() == nbb_unformatted_code) {\n",
       "                             nbb_cells[i].set_text(nbb_formatted_code);\n",
       "                        }\n",
       "                        break;\n",
       "                    }\n",
       "                }\n",
       "            }, 500);\n",
       "            "
      ],
      "text/plain": [
       "<IPython.core.display.Javascript object>"
      ]
     },
     "metadata": {},
     "output_type": "display_data"
    }
   ],
   "source": [
    "# Stemming\n",
    "stemmer = SnowballStemmer(\"english\")\n",
    "stemmed = [stemmer.stem(token) for token in no_punct]\n",
    "print(stemmed)"
   ]
  },
  {
   "cell_type": "markdown",
   "metadata": {
    "colab_type": "text",
    "id": "ws4b33ZUCgeR"
   },
   "source": [
    "### Count vectorize the preprocessed documents."
   ]
  },
  {
   "cell_type": "code",
   "execution_count": 29,
   "metadata": {
    "colab": {},
    "colab_type": "code",
    "id": "7LUrhKyACgeS"
   },
   "outputs": [
    {
     "data": {
      "application/javascript": [
       "\n",
       "            setTimeout(function() {\n",
       "                var nbb_cell_id = 29;\n",
       "                var nbb_unformatted_code = \"vectorizer = CountVectorizer()\\nvectors = vectorizer.fit_transform(docs)\\n\\ncount = pd.DataFrame(vectors.toarray(), columns=vectorizer.get_feature_names())\";\n",
       "                var nbb_formatted_code = \"vectorizer = CountVectorizer()\\nvectors = vectorizer.fit_transform(docs)\\n\\ncount = pd.DataFrame(vectors.toarray(), columns=vectorizer.get_feature_names())\";\n",
       "                var nbb_cells = Jupyter.notebook.get_cells();\n",
       "                for (var i = 0; i < nbb_cells.length; ++i) {\n",
       "                    if (nbb_cells[i].input_prompt_number == nbb_cell_id) {\n",
       "                        if (nbb_cells[i].get_text() == nbb_unformatted_code) {\n",
       "                             nbb_cells[i].set_text(nbb_formatted_code);\n",
       "                        }\n",
       "                        break;\n",
       "                    }\n",
       "                }\n",
       "            }, 500);\n",
       "            "
      ],
      "text/plain": [
       "<IPython.core.display.Javascript object>"
      ]
     },
     "metadata": {},
     "output_type": "display_data"
    }
   ],
   "source": [
    "vectorizer = CountVectorizer()\n",
    "vectors = vectorizer.fit_transform(docs)\n",
    "\n",
    "count = pd.DataFrame(vectors.toarray(), columns=vectorizer.get_feature_names())"
   ]
  },
  {
   "cell_type": "markdown",
   "metadata": {
    "colab_type": "text",
    "id": "zs5UbfvBCgeU"
   },
   "source": [
    "### One hot vectorize the preprocessed documents."
   ]
  },
  {
   "cell_type": "code",
   "execution_count": 30,
   "metadata": {
    "colab": {},
    "colab_type": "code",
    "id": "TTwAIFI5CgeU"
   },
   "outputs": [
    {
     "data": {
      "application/javascript": [
       "\n",
       "            setTimeout(function() {\n",
       "                var nbb_cell_id = 30;\n",
       "                var nbb_unformatted_code = \"vectorizer = CountVectorizer(binary = True)\\nvectors = vectorizer.fit_transform(docs)\\n\\none_hot = pd.DataFrame(vectors.toarray(), columns = vectorizer.get_feature_names())\";\n",
       "                var nbb_formatted_code = \"vectorizer = CountVectorizer(binary=True)\\nvectors = vectorizer.fit_transform(docs)\\n\\none_hot = pd.DataFrame(vectors.toarray(), columns=vectorizer.get_feature_names())\";\n",
       "                var nbb_cells = Jupyter.notebook.get_cells();\n",
       "                for (var i = 0; i < nbb_cells.length; ++i) {\n",
       "                    if (nbb_cells[i].input_prompt_number == nbb_cell_id) {\n",
       "                        if (nbb_cells[i].get_text() == nbb_unformatted_code) {\n",
       "                             nbb_cells[i].set_text(nbb_formatted_code);\n",
       "                        }\n",
       "                        break;\n",
       "                    }\n",
       "                }\n",
       "            }, 500);\n",
       "            "
      ],
      "text/plain": [
       "<IPython.core.display.Javascript object>"
      ]
     },
     "metadata": {},
     "output_type": "display_data"
    }
   ],
   "source": [
    "vectorizer = CountVectorizer(binary=True)\n",
    "vectors = vectorizer.fit_transform(docs)\n",
    "\n",
    "one_hot = pd.DataFrame(vectors.toarray(), columns=vectorizer.get_feature_names())"
   ]
  },
  {
   "cell_type": "markdown",
   "metadata": {
    "colab_type": "text",
    "id": "HsUHIRZnCgeW"
   },
   "source": [
    "### TF-IDF vectorize the preprocessed documents."
   ]
  },
  {
   "cell_type": "code",
   "execution_count": 32,
   "metadata": {
    "colab": {},
    "colab_type": "code",
    "id": "mN10u75HCgeX"
   },
   "outputs": [
    {
     "data": {
      "application/javascript": [
       "\n",
       "            setTimeout(function() {\n",
       "                var nbb_cell_id = 32;\n",
       "                var nbb_unformatted_code = \"vectorizer = TfidfVectorizer()\\nvectors = vectorizer.fit_transform(docs)\\n\\ntfidf = pd.DataFrame(vectors.toarray(), columns = vectorizer.get_feature_names())\";\n",
       "                var nbb_formatted_code = \"vectorizer = TfidfVectorizer()\\nvectors = vectorizer.fit_transform(docs)\\n\\ntfidf = pd.DataFrame(vectors.toarray(), columns=vectorizer.get_feature_names())\";\n",
       "                var nbb_cells = Jupyter.notebook.get_cells();\n",
       "                for (var i = 0; i < nbb_cells.length; ++i) {\n",
       "                    if (nbb_cells[i].input_prompt_number == nbb_cell_id) {\n",
       "                        if (nbb_cells[i].get_text() == nbb_unformatted_code) {\n",
       "                             nbb_cells[i].set_text(nbb_formatted_code);\n",
       "                        }\n",
       "                        break;\n",
       "                    }\n",
       "                }\n",
       "            }, 500);\n",
       "            "
      ],
      "text/plain": [
       "<IPython.core.display.Javascript object>"
      ]
     },
     "metadata": {},
     "output_type": "display_data"
    }
   ],
   "source": [
    "vectorizer = TfidfVectorizer()\n",
    "vectors = vectorizer.fit_transform(docs)\n",
    "\n",
    "tfidf = pd.DataFrame(vectors.toarray(), columns=vectorizer.get_feature_names())"
   ]
  },
  {
   "cell_type": "markdown",
   "metadata": {
    "colab_type": "text",
    "id": "1tyf1oG4CgeZ"
   },
   "source": [
    "### Use Doc2Vec to vectorize the preprocessed documents.\n",
    "\n",
    "Set the size of the vectors to be the same size as those of the other methods using the `vector_size` argument."
   ]
  },
  {
   "cell_type": "code",
   "execution_count": 39,
   "metadata": {
    "colab": {},
    "colab_type": "code",
    "id": "Q4HgOxv6CgeZ"
   },
   "outputs": [
    {
     "data": {
      "application/javascript": [
       "\n",
       "            setTimeout(function() {\n",
       "                var nbb_cell_id = 39;\n",
       "                var nbb_unformatted_code = \"tagged_documents = [TaggedDocument(doc, [i]) for i, doc in enumerate(docs)]\\n\\nmodel = Doc2Vec(tagged_documents)\\n\\ndoc2vec = pd.DataFrame([[document] + list(model[document]) for document in range(len(tagged_documents))]).drop(0,axis=1)\";\n",
       "                var nbb_formatted_code = \"tagged_documents = [TaggedDocument(doc, [i]) for i, doc in enumerate(docs)]\\n\\nmodel = Doc2Vec(tagged_documents)\\n\\ndoc2vec = pd.DataFrame(\\n    [[document] + list(model[document]) for document in range(len(tagged_documents))]\\n).drop(0, axis=1)\";\n",
       "                var nbb_cells = Jupyter.notebook.get_cells();\n",
       "                for (var i = 0; i < nbb_cells.length; ++i) {\n",
       "                    if (nbb_cells[i].input_prompt_number == nbb_cell_id) {\n",
       "                        if (nbb_cells[i].get_text() == nbb_unformatted_code) {\n",
       "                             nbb_cells[i].set_text(nbb_formatted_code);\n",
       "                        }\n",
       "                        break;\n",
       "                    }\n",
       "                }\n",
       "            }, 500);\n",
       "            "
      ],
      "text/plain": [
       "<IPython.core.display.Javascript object>"
      ]
     },
     "metadata": {},
     "output_type": "display_data"
    }
   ],
   "source": [
    "tagged_documents = [TaggedDocument(doc, [i]) for i, doc in enumerate(docs)]\n",
    "\n",
    "model = Doc2Vec(tagged_documents)\n",
    "\n",
    "doc2vec = pd.DataFrame(\n",
    "    [[document] + list(model[document]) for document in range(len(tagged_documents))]\n",
    ").drop(0, axis=1)"
   ]
  }
 ],
 "metadata": {
  "colab": {
   "name": "Day 72, Lecture 2: Assignment.ipynb",
   "provenance": []
  },
  "kernelspec": {
   "display_name": "Python 3",
   "language": "python",
   "name": "python3"
  },
  "language_info": {
   "codemirror_mode": {
    "name": "ipython",
    "version": 3
   },
   "file_extension": ".py",
   "mimetype": "text/x-python",
   "name": "python",
   "nbconvert_exporter": "python",
   "pygments_lexer": "ipython3",
   "version": "3.7.6"
  }
 },
 "nbformat": 4,
 "nbformat_minor": 1
}
