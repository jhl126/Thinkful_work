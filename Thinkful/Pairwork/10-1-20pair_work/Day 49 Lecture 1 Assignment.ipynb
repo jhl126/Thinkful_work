{
 "cells": [
  {
   "cell_type": "code",
   "execution_count": 1,
   "metadata": {},
   "outputs": [
    {
     "data": {
      "application/javascript": [
       "\n",
       "            setTimeout(function() {\n",
       "                var nbb_cell_id = 1;\n",
       "                var nbb_unformatted_code = \"%reload_ext nb_black\";\n",
       "                var nbb_formatted_code = \"%reload_ext nb_black\";\n",
       "                var nbb_cells = Jupyter.notebook.get_cells();\n",
       "                for (var i = 0; i < nbb_cells.length; ++i) {\n",
       "                    if (nbb_cells[i].input_prompt_number == nbb_cell_id) {\n",
       "                        if (nbb_cells[i].get_text() == nbb_unformatted_code) {\n",
       "                             nbb_cells[i].set_text(nbb_formatted_code);\n",
       "                        }\n",
       "                        break;\n",
       "                    }\n",
       "                }\n",
       "            }, 500);\n",
       "            "
      ],
      "text/plain": [
       "<IPython.core.display.Javascript object>"
      ]
     },
     "metadata": {},
     "output_type": "display_data"
    }
   ],
   "source": [
    "%reload_ext nb_black"
   ]
  },
  {
   "cell_type": "markdown",
   "metadata": {
    "colab_type": "text",
    "id": "xdL0Yz0D1D_q"
   },
   "source": [
    "## Day 49 Lecture 1 Assignment\n",
    "\n",
    "In this assignment, we will apply GMM (Gaussian Mixture Modeling) clustering to a dataset containing player-season statistics for NBA players from the past four years."
   ]
  },
  {
   "cell_type": "code",
   "execution_count": 2,
   "metadata": {
    "colab": {},
    "colab_type": "code",
    "id": "OulyiH_C1D_r"
   },
   "outputs": [
    {
     "data": {
      "application/javascript": [
       "\n",
       "            setTimeout(function() {\n",
       "                var nbb_cell_id = 2;\n",
       "                var nbb_unformatted_code = \"%matplotlib inline\\n\\nimport matplotlib.pyplot as plt\\nimport numpy as np\\nimport pandas as pd\\nfrom sklearn.mixture import GaussianMixture\\nfrom sklearn.cluster import KMeans\\nfrom sklearn.preprocessing import StandardScaler\\nfrom scipy.special import entr\";\n",
       "                var nbb_formatted_code = \"%matplotlib inline\\n\\nimport matplotlib.pyplot as plt\\nimport numpy as np\\nimport pandas as pd\\nfrom sklearn.mixture import GaussianMixture\\nfrom sklearn.cluster import KMeans\\nfrom sklearn.preprocessing import StandardScaler\\nfrom scipy.special import entr\";\n",
       "                var nbb_cells = Jupyter.notebook.get_cells();\n",
       "                for (var i = 0; i < nbb_cells.length; ++i) {\n",
       "                    if (nbb_cells[i].input_prompt_number == nbb_cell_id) {\n",
       "                        if (nbb_cells[i].get_text() == nbb_unformatted_code) {\n",
       "                             nbb_cells[i].set_text(nbb_formatted_code);\n",
       "                        }\n",
       "                        break;\n",
       "                    }\n",
       "                }\n",
       "            }, 500);\n",
       "            "
      ],
      "text/plain": [
       "<IPython.core.display.Javascript object>"
      ]
     },
     "metadata": {},
     "output_type": "display_data"
    }
   ],
   "source": [
    "%matplotlib inline\n",
    "\n",
    "import matplotlib.pyplot as plt\n",
    "import numpy as np\n",
    "import pandas as pd\n",
    "from sklearn.mixture import GaussianMixture\n",
    "from sklearn.cluster import KMeans\n",
    "from sklearn.preprocessing import StandardScaler\n",
    "from scipy.special import entr"
   ]
  },
  {
   "cell_type": "markdown",
   "metadata": {
    "colab_type": "text",
    "id": "ezMvoRlB1D_t"
   },
   "source": [
    "This dataset contains player-season statistics for NBA players from the past four years. Each row in this dataset represents a player's per-game averages for a single season. \n",
    "\n",
    "This dataset contains the following variables:\n",
    "\n",
    "- Seas: season ('2019' = 2018-2019 season, '2018' = 2017-2018 season, etc.)\n",
    "- Player: player name\n",
    "- Pos: position\n",
    "- Age: age\n",
    "- Tm: team\n",
    "- G: games played\n",
    "- GS: games started\n",
    "- MP: minutes played\n",
    "- FG: field goals\n",
    "- FGA: field goals attempted\n",
    "- FG%: field goal percentage\n",
    "- 3P: 3 pointers\n",
    "- 3PA: 3 pointers attempted\n",
    "- 3P%: 3 point percentage\n",
    "- 2P: 2 pointers\n",
    "- 2PA: 2 pointers attempted\n",
    "- 2P%: 2 point percentage\n",
    "- eFG%: effective field goal percentage\n",
    "- FT: free throws\n",
    "- FTA: free throws attempted\n",
    "- FT%: free throw percentage\n",
    "- ORB: offensive rebound\n",
    "- DRB: defensive rebound\n",
    "- TRB: total rebounds\n",
    "- AST: assists\n",
    "- STL: steals\n",
    "- BLK: blocks\n",
    "- TOV: turnovers\n",
    "- PF: personal fouls\n",
    "- PTS: points\n",
    "\n",
    "Load the dataset."
   ]
  },
  {
   "cell_type": "code",
   "execution_count": 3,
   "metadata": {
    "colab": {},
    "colab_type": "code",
    "id": "wP1U4eQ91D_u"
   },
   "outputs": [
    {
     "data": {
      "text/html": [
       "<div>\n",
       "<style scoped>\n",
       "    .dataframe tbody tr th:only-of-type {\n",
       "        vertical-align: middle;\n",
       "    }\n",
       "\n",
       "    .dataframe tbody tr th {\n",
       "        vertical-align: top;\n",
       "    }\n",
       "\n",
       "    .dataframe thead th {\n",
       "        text-align: right;\n",
       "    }\n",
       "</style>\n",
       "<table border=\"1\" class=\"dataframe\">\n",
       "  <thead>\n",
       "    <tr style=\"text-align: right;\">\n",
       "      <th></th>\n",
       "      <th>Seas</th>\n",
       "      <th>Player</th>\n",
       "      <th>Pos</th>\n",
       "      <th>Age</th>\n",
       "      <th>Tm</th>\n",
       "      <th>G</th>\n",
       "      <th>GS</th>\n",
       "      <th>MP</th>\n",
       "      <th>FG</th>\n",
       "      <th>FGA</th>\n",
       "      <th>...</th>\n",
       "      <th>FT%</th>\n",
       "      <th>ORB</th>\n",
       "      <th>DRB</th>\n",
       "      <th>TRB</th>\n",
       "      <th>AST</th>\n",
       "      <th>STL</th>\n",
       "      <th>BLK</th>\n",
       "      <th>TOV</th>\n",
       "      <th>PF</th>\n",
       "      <th>PTS</th>\n",
       "    </tr>\n",
       "  </thead>\n",
       "  <tbody>\n",
       "    <tr>\n",
       "      <th>0</th>\n",
       "      <td>2019</td>\n",
       "      <td>Álex Abrines</td>\n",
       "      <td>SG</td>\n",
       "      <td>25</td>\n",
       "      <td>OKC</td>\n",
       "      <td>31</td>\n",
       "      <td>2</td>\n",
       "      <td>19.0</td>\n",
       "      <td>1.8</td>\n",
       "      <td>5.1</td>\n",
       "      <td>...</td>\n",
       "      <td>0.923</td>\n",
       "      <td>0.2</td>\n",
       "      <td>1.4</td>\n",
       "      <td>1.5</td>\n",
       "      <td>0.6</td>\n",
       "      <td>0.5</td>\n",
       "      <td>0.2</td>\n",
       "      <td>0.5</td>\n",
       "      <td>1.7</td>\n",
       "      <td>5.3</td>\n",
       "    </tr>\n",
       "    <tr>\n",
       "      <th>1</th>\n",
       "      <td>2019</td>\n",
       "      <td>Quincy Acy</td>\n",
       "      <td>PF</td>\n",
       "      <td>28</td>\n",
       "      <td>PHO</td>\n",
       "      <td>10</td>\n",
       "      <td>0</td>\n",
       "      <td>12.3</td>\n",
       "      <td>0.4</td>\n",
       "      <td>1.8</td>\n",
       "      <td>...</td>\n",
       "      <td>0.700</td>\n",
       "      <td>0.3</td>\n",
       "      <td>2.2</td>\n",
       "      <td>2.5</td>\n",
       "      <td>0.8</td>\n",
       "      <td>0.1</td>\n",
       "      <td>0.4</td>\n",
       "      <td>0.4</td>\n",
       "      <td>2.4</td>\n",
       "      <td>1.7</td>\n",
       "    </tr>\n",
       "    <tr>\n",
       "      <th>2</th>\n",
       "      <td>2019</td>\n",
       "      <td>Jaylen Adams</td>\n",
       "      <td>PG</td>\n",
       "      <td>22</td>\n",
       "      <td>ATL</td>\n",
       "      <td>34</td>\n",
       "      <td>1</td>\n",
       "      <td>12.6</td>\n",
       "      <td>1.1</td>\n",
       "      <td>3.2</td>\n",
       "      <td>...</td>\n",
       "      <td>0.778</td>\n",
       "      <td>0.3</td>\n",
       "      <td>1.4</td>\n",
       "      <td>1.8</td>\n",
       "      <td>1.9</td>\n",
       "      <td>0.4</td>\n",
       "      <td>0.1</td>\n",
       "      <td>0.8</td>\n",
       "      <td>1.3</td>\n",
       "      <td>3.2</td>\n",
       "    </tr>\n",
       "    <tr>\n",
       "      <th>3</th>\n",
       "      <td>2019</td>\n",
       "      <td>Steven Adams</td>\n",
       "      <td>C</td>\n",
       "      <td>25</td>\n",
       "      <td>OKC</td>\n",
       "      <td>80</td>\n",
       "      <td>80</td>\n",
       "      <td>33.4</td>\n",
       "      <td>6.0</td>\n",
       "      <td>10.1</td>\n",
       "      <td>...</td>\n",
       "      <td>0.500</td>\n",
       "      <td>4.9</td>\n",
       "      <td>4.6</td>\n",
       "      <td>9.5</td>\n",
       "      <td>1.6</td>\n",
       "      <td>1.5</td>\n",
       "      <td>1.0</td>\n",
       "      <td>1.7</td>\n",
       "      <td>2.6</td>\n",
       "      <td>13.9</td>\n",
       "    </tr>\n",
       "    <tr>\n",
       "      <th>4</th>\n",
       "      <td>2019</td>\n",
       "      <td>Bam Adebayo</td>\n",
       "      <td>C</td>\n",
       "      <td>21</td>\n",
       "      <td>MIA</td>\n",
       "      <td>82</td>\n",
       "      <td>28</td>\n",
       "      <td>23.3</td>\n",
       "      <td>3.4</td>\n",
       "      <td>5.9</td>\n",
       "      <td>...</td>\n",
       "      <td>0.735</td>\n",
       "      <td>2.0</td>\n",
       "      <td>5.3</td>\n",
       "      <td>7.3</td>\n",
       "      <td>2.2</td>\n",
       "      <td>0.9</td>\n",
       "      <td>0.8</td>\n",
       "      <td>1.5</td>\n",
       "      <td>2.5</td>\n",
       "      <td>8.9</td>\n",
       "    </tr>\n",
       "  </tbody>\n",
       "</table>\n",
       "<p>5 rows × 30 columns</p>\n",
       "</div>"
      ],
      "text/plain": [
       "   Seas        Player Pos  Age   Tm   G  GS    MP   FG   FGA  ...    FT%  ORB  \\\n",
       "0  2019  Álex Abrines  SG   25  OKC  31   2  19.0  1.8   5.1  ...  0.923  0.2   \n",
       "1  2019    Quincy Acy  PF   28  PHO  10   0  12.3  0.4   1.8  ...  0.700  0.3   \n",
       "2  2019  Jaylen Adams  PG   22  ATL  34   1  12.6  1.1   3.2  ...  0.778  0.3   \n",
       "3  2019  Steven Adams   C   25  OKC  80  80  33.4  6.0  10.1  ...  0.500  4.9   \n",
       "4  2019   Bam Adebayo   C   21  MIA  82  28  23.3  3.4   5.9  ...  0.735  2.0   \n",
       "\n",
       "   DRB  TRB  AST  STL  BLK  TOV   PF   PTS  \n",
       "0  1.4  1.5  0.6  0.5  0.2  0.5  1.7   5.3  \n",
       "1  2.2  2.5  0.8  0.1  0.4  0.4  2.4   1.7  \n",
       "2  1.4  1.8  1.9  0.4  0.1  0.8  1.3   3.2  \n",
       "3  4.6  9.5  1.6  1.5  1.0  1.7  2.6  13.9  \n",
       "4  5.3  7.3  2.2  0.9  0.8  1.5  2.5   8.9  \n",
       "\n",
       "[5 rows x 30 columns]"
      ]
     },
     "execution_count": 3,
     "metadata": {},
     "output_type": "execute_result"
    },
    {
     "data": {
      "application/javascript": [
       "\n",
       "            setTimeout(function() {\n",
       "                var nbb_cell_id = 3;\n",
       "                var nbb_unformatted_code = \"# answer goes here\\nnba = pd.read_csv('https://tf-assets-prod.s3.amazonaws.com/tf-curric/data-science/Data%20Sets%20Clustering/nba_player_seasons.csv')\\nnba.head()\";\n",
       "                var nbb_formatted_code = \"# answer goes here\\nnba = pd.read_csv(\\n    \\\"https://tf-assets-prod.s3.amazonaws.com/tf-curric/data-science/Data%20Sets%20Clustering/nba_player_seasons.csv\\\"\\n)\\nnba.head()\";\n",
       "                var nbb_cells = Jupyter.notebook.get_cells();\n",
       "                for (var i = 0; i < nbb_cells.length; ++i) {\n",
       "                    if (nbb_cells[i].input_prompt_number == nbb_cell_id) {\n",
       "                        if (nbb_cells[i].get_text() == nbb_unformatted_code) {\n",
       "                             nbb_cells[i].set_text(nbb_formatted_code);\n",
       "                        }\n",
       "                        break;\n",
       "                    }\n",
       "                }\n",
       "            }, 500);\n",
       "            "
      ],
      "text/plain": [
       "<IPython.core.display.Javascript object>"
      ]
     },
     "metadata": {},
     "output_type": "display_data"
    }
   ],
   "source": [
    "# answer goes here\n",
    "nba = pd.read_csv('https://tf-assets-prod.s3.amazonaws.com/tf-curric/data-science/Data%20Sets%20Clustering/nba_player_seasons.csv')\n",
    "nba.head()\n",
    "\n"
   ]
  },
  {
   "cell_type": "markdown",
   "metadata": {
    "colab_type": "text",
    "id": "o_K1eQ0x1D_y"
   },
   "source": [
    "The goal is to cluster these player-seasons to identify potential player \"archetypes\".  \n",
    "The pre-processing steps will be identical to what we previously did for K-means.\n",
    "\n",
    "Begin by removing players whose season did not meet one of the following criteria:\n",
    "1. Started at least 20 games\n",
    "2. Averaged at least 10 minutes per game"
   ]
  },
  {
   "cell_type": "code",
   "execution_count": 4,
   "metadata": {
    "colab": {},
    "colab_type": "code",
    "id": "xfYVreyw1D_y"
   },
   "outputs": [
    {
     "data": {
      "text/html": [
       "<div>\n",
       "<style scoped>\n",
       "    .dataframe tbody tr th:only-of-type {\n",
       "        vertical-align: middle;\n",
       "    }\n",
       "\n",
       "    .dataframe tbody tr th {\n",
       "        vertical-align: top;\n",
       "    }\n",
       "\n",
       "    .dataframe thead th {\n",
       "        text-align: right;\n",
       "    }\n",
       "</style>\n",
       "<table border=\"1\" class=\"dataframe\">\n",
       "  <thead>\n",
       "    <tr style=\"text-align: right;\">\n",
       "      <th></th>\n",
       "      <th>Seas</th>\n",
       "      <th>Player</th>\n",
       "      <th>Pos</th>\n",
       "      <th>Age</th>\n",
       "      <th>Tm</th>\n",
       "      <th>G</th>\n",
       "      <th>GS</th>\n",
       "      <th>MP</th>\n",
       "      <th>FG</th>\n",
       "      <th>FGA</th>\n",
       "      <th>...</th>\n",
       "      <th>FT%</th>\n",
       "      <th>ORB</th>\n",
       "      <th>DRB</th>\n",
       "      <th>TRB</th>\n",
       "      <th>AST</th>\n",
       "      <th>STL</th>\n",
       "      <th>BLK</th>\n",
       "      <th>TOV</th>\n",
       "      <th>PF</th>\n",
       "      <th>PTS</th>\n",
       "    </tr>\n",
       "  </thead>\n",
       "  <tbody>\n",
       "    <tr>\n",
       "      <th>3</th>\n",
       "      <td>2019</td>\n",
       "      <td>Steven Adams</td>\n",
       "      <td>C</td>\n",
       "      <td>25</td>\n",
       "      <td>OKC</td>\n",
       "      <td>80</td>\n",
       "      <td>80</td>\n",
       "      <td>33.4</td>\n",
       "      <td>6.0</td>\n",
       "      <td>10.1</td>\n",
       "      <td>...</td>\n",
       "      <td>0.500</td>\n",
       "      <td>4.9</td>\n",
       "      <td>4.6</td>\n",
       "      <td>9.5</td>\n",
       "      <td>1.6</td>\n",
       "      <td>1.5</td>\n",
       "      <td>1.0</td>\n",
       "      <td>1.7</td>\n",
       "      <td>2.6</td>\n",
       "      <td>13.9</td>\n",
       "    </tr>\n",
       "    <tr>\n",
       "      <th>4</th>\n",
       "      <td>2019</td>\n",
       "      <td>Bam Adebayo</td>\n",
       "      <td>C</td>\n",
       "      <td>21</td>\n",
       "      <td>MIA</td>\n",
       "      <td>82</td>\n",
       "      <td>28</td>\n",
       "      <td>23.3</td>\n",
       "      <td>3.4</td>\n",
       "      <td>5.9</td>\n",
       "      <td>...</td>\n",
       "      <td>0.735</td>\n",
       "      <td>2.0</td>\n",
       "      <td>5.3</td>\n",
       "      <td>7.3</td>\n",
       "      <td>2.2</td>\n",
       "      <td>0.9</td>\n",
       "      <td>0.8</td>\n",
       "      <td>1.5</td>\n",
       "      <td>2.5</td>\n",
       "      <td>8.9</td>\n",
       "    </tr>\n",
       "    <tr>\n",
       "      <th>7</th>\n",
       "      <td>2019</td>\n",
       "      <td>LaMarcus Aldridge</td>\n",
       "      <td>C</td>\n",
       "      <td>33</td>\n",
       "      <td>SAS</td>\n",
       "      <td>81</td>\n",
       "      <td>81</td>\n",
       "      <td>33.2</td>\n",
       "      <td>8.4</td>\n",
       "      <td>16.3</td>\n",
       "      <td>...</td>\n",
       "      <td>0.847</td>\n",
       "      <td>3.1</td>\n",
       "      <td>6.1</td>\n",
       "      <td>9.2</td>\n",
       "      <td>2.4</td>\n",
       "      <td>0.5</td>\n",
       "      <td>1.3</td>\n",
       "      <td>1.8</td>\n",
       "      <td>2.2</td>\n",
       "      <td>21.3</td>\n",
       "    </tr>\n",
       "    <tr>\n",
       "      <th>10</th>\n",
       "      <td>2019</td>\n",
       "      <td>Jarrett Allen</td>\n",
       "      <td>C</td>\n",
       "      <td>20</td>\n",
       "      <td>BRK</td>\n",
       "      <td>80</td>\n",
       "      <td>80</td>\n",
       "      <td>26.2</td>\n",
       "      <td>4.2</td>\n",
       "      <td>7.1</td>\n",
       "      <td>...</td>\n",
       "      <td>0.709</td>\n",
       "      <td>2.4</td>\n",
       "      <td>6.0</td>\n",
       "      <td>8.4</td>\n",
       "      <td>1.4</td>\n",
       "      <td>0.5</td>\n",
       "      <td>1.5</td>\n",
       "      <td>1.3</td>\n",
       "      <td>2.3</td>\n",
       "      <td>10.9</td>\n",
       "    </tr>\n",
       "    <tr>\n",
       "      <th>12</th>\n",
       "      <td>2019</td>\n",
       "      <td>Al-Farouq Aminu</td>\n",
       "      <td>PF</td>\n",
       "      <td>28</td>\n",
       "      <td>POR</td>\n",
       "      <td>81</td>\n",
       "      <td>81</td>\n",
       "      <td>28.3</td>\n",
       "      <td>3.2</td>\n",
       "      <td>7.3</td>\n",
       "      <td>...</td>\n",
       "      <td>0.867</td>\n",
       "      <td>1.4</td>\n",
       "      <td>6.1</td>\n",
       "      <td>7.5</td>\n",
       "      <td>1.3</td>\n",
       "      <td>0.8</td>\n",
       "      <td>0.4</td>\n",
       "      <td>0.9</td>\n",
       "      <td>1.8</td>\n",
       "      <td>9.4</td>\n",
       "    </tr>\n",
       "  </tbody>\n",
       "</table>\n",
       "<p>5 rows × 30 columns</p>\n",
       "</div>"
      ],
      "text/plain": [
       "    Seas             Player Pos  Age   Tm   G  GS    MP   FG   FGA  ...  \\\n",
       "3   2019       Steven Adams   C   25  OKC  80  80  33.4  6.0  10.1  ...   \n",
       "4   2019        Bam Adebayo   C   21  MIA  82  28  23.3  3.4   5.9  ...   \n",
       "7   2019  LaMarcus Aldridge   C   33  SAS  81  81  33.2  8.4  16.3  ...   \n",
       "10  2019      Jarrett Allen   C   20  BRK  80  80  26.2  4.2   7.1  ...   \n",
       "12  2019    Al-Farouq Aminu  PF   28  POR  81  81  28.3  3.2   7.3  ...   \n",
       "\n",
       "      FT%  ORB  DRB  TRB  AST  STL  BLK  TOV   PF   PTS  \n",
       "3   0.500  4.9  4.6  9.5  1.6  1.5  1.0  1.7  2.6  13.9  \n",
       "4   0.735  2.0  5.3  7.3  2.2  0.9  0.8  1.5  2.5   8.9  \n",
       "7   0.847  3.1  6.1  9.2  2.4  0.5  1.3  1.8  2.2  21.3  \n",
       "10  0.709  2.4  6.0  8.4  1.4  0.5  1.5  1.3  2.3  10.9  \n",
       "12  0.867  1.4  6.1  7.5  1.3  0.8  0.4  0.9  1.8   9.4  \n",
       "\n",
       "[5 rows x 30 columns]"
      ]
     },
     "execution_count": 4,
     "metadata": {},
     "output_type": "execute_result"
    },
    {
     "data": {
      "application/javascript": [
       "\n",
       "            setTimeout(function() {\n",
       "                var nbb_cell_id = 4;\n",
       "                var nbb_unformatted_code = \"# answer goes here\\nnba = nba[nba[\\\"GS\\\"] >= 20]\\nnba = nba[nba[\\\"MP\\\"] >= 10]\\nnba.head()\";\n",
       "                var nbb_formatted_code = \"# answer goes here\\nnba = nba[nba[\\\"GS\\\"] >= 20]\\nnba = nba[nba[\\\"MP\\\"] >= 10]\\nnba.head()\";\n",
       "                var nbb_cells = Jupyter.notebook.get_cells();\n",
       "                for (var i = 0; i < nbb_cells.length; ++i) {\n",
       "                    if (nbb_cells[i].input_prompt_number == nbb_cell_id) {\n",
       "                        if (nbb_cells[i].get_text() == nbb_unformatted_code) {\n",
       "                             nbb_cells[i].set_text(nbb_formatted_code);\n",
       "                        }\n",
       "                        break;\n",
       "                    }\n",
       "                }\n",
       "            }, 500);\n",
       "            "
      ],
      "text/plain": [
       "<IPython.core.display.Javascript object>"
      ]
     },
     "metadata": {},
     "output_type": "display_data"
    }
   ],
   "source": [
    "# answer goes here\n",
    "nba = nba[nba[\"GS\"] >= 20]\n",
    "nba = nba[nba[\"MP\"] >= 10]\n",
    "nba.head()"
   ]
  },
  {
   "cell_type": "markdown",
   "metadata": {
    "colab_type": "text",
    "id": "86lfEP_91D_0"
   },
   "source": [
    "Choose a subset of numeric columns that is interesting to you from an \"archetypal\" standpoint. \n",
    "\n",
    "We will choose the following basic statistics: **points, total rebounds, assists, steals, blocks**, and **turnovers**, but you should feel free to choose other reasonable feature sets if you like. Be careful not to include too many dimensions (curse of dimensionality)."
   ]
  },
  {
   "cell_type": "code",
   "execution_count": 5,
   "metadata": {
    "colab": {},
    "colab_type": "code",
    "id": "o3PUI4l61D_0"
   },
   "outputs": [
    {
     "data": {
      "text/html": [
       "<div>\n",
       "<style scoped>\n",
       "    .dataframe tbody tr th:only-of-type {\n",
       "        vertical-align: middle;\n",
       "    }\n",
       "\n",
       "    .dataframe tbody tr th {\n",
       "        vertical-align: top;\n",
       "    }\n",
       "\n",
       "    .dataframe thead th {\n",
       "        text-align: right;\n",
       "    }\n",
       "</style>\n",
       "<table border=\"1\" class=\"dataframe\">\n",
       "  <thead>\n",
       "    <tr style=\"text-align: right;\">\n",
       "      <th></th>\n",
       "      <th>PTS</th>\n",
       "      <th>TRB</th>\n",
       "      <th>AST</th>\n",
       "      <th>STL</th>\n",
       "      <th>BLK</th>\n",
       "      <th>TOV</th>\n",
       "      <th>Age</th>\n",
       "    </tr>\n",
       "  </thead>\n",
       "  <tbody>\n",
       "    <tr>\n",
       "      <th>3</th>\n",
       "      <td>13.9</td>\n",
       "      <td>9.5</td>\n",
       "      <td>1.6</td>\n",
       "      <td>1.5</td>\n",
       "      <td>1.0</td>\n",
       "      <td>1.7</td>\n",
       "      <td>25</td>\n",
       "    </tr>\n",
       "    <tr>\n",
       "      <th>4</th>\n",
       "      <td>8.9</td>\n",
       "      <td>7.3</td>\n",
       "      <td>2.2</td>\n",
       "      <td>0.9</td>\n",
       "      <td>0.8</td>\n",
       "      <td>1.5</td>\n",
       "      <td>21</td>\n",
       "    </tr>\n",
       "    <tr>\n",
       "      <th>7</th>\n",
       "      <td>21.3</td>\n",
       "      <td>9.2</td>\n",
       "      <td>2.4</td>\n",
       "      <td>0.5</td>\n",
       "      <td>1.3</td>\n",
       "      <td>1.8</td>\n",
       "      <td>33</td>\n",
       "    </tr>\n",
       "    <tr>\n",
       "      <th>10</th>\n",
       "      <td>10.9</td>\n",
       "      <td>8.4</td>\n",
       "      <td>1.4</td>\n",
       "      <td>0.5</td>\n",
       "      <td>1.5</td>\n",
       "      <td>1.3</td>\n",
       "      <td>20</td>\n",
       "    </tr>\n",
       "    <tr>\n",
       "      <th>12</th>\n",
       "      <td>9.4</td>\n",
       "      <td>7.5</td>\n",
       "      <td>1.3</td>\n",
       "      <td>0.8</td>\n",
       "      <td>0.4</td>\n",
       "      <td>0.9</td>\n",
       "      <td>28</td>\n",
       "    </tr>\n",
       "  </tbody>\n",
       "</table>\n",
       "</div>"
      ],
      "text/plain": [
       "     PTS  TRB  AST  STL  BLK  TOV  Age\n",
       "3   13.9  9.5  1.6  1.5  1.0  1.7   25\n",
       "4    8.9  7.3  2.2  0.9  0.8  1.5   21\n",
       "7   21.3  9.2  2.4  0.5  1.3  1.8   33\n",
       "10  10.9  8.4  1.4  0.5  1.5  1.3   20\n",
       "12   9.4  7.5  1.3  0.8  0.4  0.9   28"
      ]
     },
     "execution_count": 5,
     "metadata": {},
     "output_type": "execute_result"
    },
    {
     "data": {
      "application/javascript": [
       "\n",
       "            setTimeout(function() {\n",
       "                var nbb_cell_id = 5;\n",
       "                var nbb_unformatted_code = \"# answer goes here\\ncol = [\\\"PTS\\\", \\\"TRB\\\", \\\"AST\\\", \\\"STL\\\", \\\"BLK\\\", \\\"TOV\\\", \\\"Age\\\"]\\nnba = nba[col]\\nnba.head()\";\n",
       "                var nbb_formatted_code = \"# answer goes here\\ncol = [\\\"PTS\\\", \\\"TRB\\\", \\\"AST\\\", \\\"STL\\\", \\\"BLK\\\", \\\"TOV\\\", \\\"Age\\\"]\\nnba = nba[col]\\nnba.head()\";\n",
       "                var nbb_cells = Jupyter.notebook.get_cells();\n",
       "                for (var i = 0; i < nbb_cells.length; ++i) {\n",
       "                    if (nbb_cells[i].input_prompt_number == nbb_cell_id) {\n",
       "                        if (nbb_cells[i].get_text() == nbb_unformatted_code) {\n",
       "                             nbb_cells[i].set_text(nbb_formatted_code);\n",
       "                        }\n",
       "                        break;\n",
       "                    }\n",
       "                }\n",
       "            }, 500);\n",
       "            "
      ],
      "text/plain": [
       "<IPython.core.display.Javascript object>"
      ]
     },
     "metadata": {},
     "output_type": "display_data"
    }
   ],
   "source": [
    "# answer goes here\n",
    "col = [\"PTS\", \"TRB\", \"AST\", \"STL\", \"BLK\", \"TOV\", \"Age\"]\n",
    "nba = nba[col]\n",
    "nba.head()"
   ]
  },
  {
   "cell_type": "markdown",
   "metadata": {
    "colab_type": "text",
    "id": "MUjcLMMk1D_2"
   },
   "source": [
    "Standardize the features in your dataset using scikit-learn's StandardScaler, which will set the mean of each feature to 0 and the variance to 1."
   ]
  },
  {
   "cell_type": "code",
   "execution_count": 6,
   "metadata": {
    "colab": {},
    "colab_type": "code",
    "id": "6OTdN8oF1D_2"
   },
   "outputs": [
    {
     "data": {
      "application/javascript": [
       "\n",
       "            setTimeout(function() {\n",
       "                var nbb_cell_id = 6;\n",
       "                var nbb_unformatted_code = \"# answer goes here\\nscaler = StandardScaler()\\nscaled = scaler.fit_transform(nba)\";\n",
       "                var nbb_formatted_code = \"# answer goes here\\nscaler = StandardScaler()\\nscaled = scaler.fit_transform(nba)\";\n",
       "                var nbb_cells = Jupyter.notebook.get_cells();\n",
       "                for (var i = 0; i < nbb_cells.length; ++i) {\n",
       "                    if (nbb_cells[i].input_prompt_number == nbb_cell_id) {\n",
       "                        if (nbb_cells[i].get_text() == nbb_unformatted_code) {\n",
       "                             nbb_cells[i].set_text(nbb_formatted_code);\n",
       "                        }\n",
       "                        break;\n",
       "                    }\n",
       "                }\n",
       "            }, 500);\n",
       "            "
      ],
      "text/plain": [
       "<IPython.core.display.Javascript object>"
      ]
     },
     "metadata": {},
     "output_type": "display_data"
    }
   ],
   "source": [
    "# answer goes here\n",
    "scaler = StandardScaler()\n",
    "scaled = scaler.fit_transform(nba)"
   ]
  },
  {
   "cell_type": "markdown",
   "metadata": {
    "colab_type": "text",
    "id": "ao3Y5FVp1D_4"
   },
   "source": [
    "Run both K-Means and Gaussian mixtures modeling twice, once with 3 cluster and once with 7 clusters. Print out the resulting means for all 4 scenarios (KM+3, GMM+3, KM+7, GMM+7). When printing the means, transform the scaled versions back into their corresponding unscaled values. \n",
    "\n",
    "What \"archetypes\" do you see? Are the archetypes identified by GMM similar to those identified by K-Means? How do the means of GMM differ from those of K-Means?"
   ]
  },
  {
   "cell_type": "code",
   "execution_count": 16,
   "metadata": {
    "colab": {},
    "colab_type": "code",
    "id": "sUhMxZdL1D_4"
   },
   "outputs": [
    {
     "name": "stdout",
     "output_type": "stream",
     "text": [
      "         PTS       TRB       AST       STL       BLK      TOV        Age\n",
      "0  10.450455  3.956136  2.063864  0.806591  0.369318  1.22750  26.756818\n",
      "1  13.724044  8.528962  1.912568  0.771038  1.231694  1.67377  25.896175\n",
      "2  19.501657  5.289503  5.895028  1.350276  0.486188  2.78895  26.320442\n",
      "         PTS       TRB       AST       STL       BLK       TOV        Age\n",
      "0  10.198945  4.458926  1.581203  0.780490  0.425599  1.103803  26.742897\n",
      "1  14.384442  8.477493  2.246641  0.773751  1.223151  1.821688  26.137352\n",
      "2  15.991231  4.200315  4.825259  1.178664  0.374159  2.255369  26.350213\n",
      "         PTS        TRB       AST       STL       BLK       TOV        Age\n",
      "0  17.968000  10.674000  2.244000  0.960000  1.850000  2.182000  25.040000\n",
      "1   7.447328   3.695420  1.264122  0.585496  0.405344  0.890076  24.114504\n",
      "2   9.960959   4.074658  2.104110  0.747945  0.378082  1.162329  31.547945\n",
      "3  13.800541   4.190811  2.762703  1.056216  0.370811  1.612432  24.513514\n",
      "4  23.908333   8.019444  7.530556  1.655556  0.808333  3.816667  26.805556\n",
      "5  18.427344   4.599219  5.724219  1.283594  0.389844  2.581250  26.726562\n",
      "6  12.021094   7.761719  1.759375  0.681250  0.996094  1.482031  26.078125\n",
      "         PTS       TRB       AST       STL       BLK       TOV        Age\n",
      "0   7.529552  4.145224  1.243289  0.652213  0.514097  0.886144  26.345862\n",
      "1  13.475588  4.880036  2.159847  0.919948  0.431827  1.495862  25.687857\n",
      "2  15.995442  9.502567  3.017053  0.887404  1.287042  2.091660  27.807188\n",
      "3  16.423205  3.789392  4.912311  1.134188  0.293434  2.227281  25.047575\n",
      "4  10.826321  3.191936  3.033853  0.954351  0.183433  1.392418  29.347112\n",
      "5  12.104880  7.082139  1.332705  0.547475  1.043181  1.368338  26.356847\n",
      "6  20.377980  6.849153  6.559695  1.713244  0.774628  3.228919  26.762021\n"
     ]
    },
    {
     "data": {
      "application/javascript": [
       "\n",
       "            setTimeout(function() {\n",
       "                var nbb_cell_id = 16;\n",
       "                var nbb_unformatted_code = \"# answer goes here\\nk_means3 = KMeans(n_clusters=3)\\nk_means3.fit(scaled)\\nprint(\\n    pd.DataFrame(\\n        scaler.inverse_transform(k_means3.cluster_centers_), columns=nba.columns\\n    )\\n)\\n\\ngmm3 = GaussianMixture(n_components=3)\\ngmm3.fit(scaled)\\nprint(pd.DataFrame(scaler.inverse_transform(gmm3.means_), columns=nba.columns))\\n\\nk_means7 = KMeans(n_clusters=7)\\nk_means7.fit(scaled)\\nprint(\\n    pd.DataFrame(\\n        scaler.inverse_transform(k_means7.cluster_centers_), columns=nba.columns\\n    )\\n)\\n\\ngmm7 = GaussianMixture(n_components=7)\\ngmm7.fit(scaled)\\nprint(pd.DataFrame(scaler.inverse_transform(gmm7.means_), columns=nba.columns))\";\n",
       "                var nbb_formatted_code = \"# answer goes here\\nk_means3 = KMeans(n_clusters=3)\\nk_means3.fit(scaled)\\nprint(\\n    pd.DataFrame(\\n        scaler.inverse_transform(k_means3.cluster_centers_), columns=nba.columns\\n    )\\n)\\n\\ngmm3 = GaussianMixture(n_components=3)\\ngmm3.fit(scaled)\\nprint(pd.DataFrame(scaler.inverse_transform(gmm3.means_), columns=nba.columns))\\n\\nk_means7 = KMeans(n_clusters=7)\\nk_means7.fit(scaled)\\nprint(\\n    pd.DataFrame(\\n        scaler.inverse_transform(k_means7.cluster_centers_), columns=nba.columns\\n    )\\n)\\n\\ngmm7 = GaussianMixture(n_components=7)\\ngmm7.fit(scaled)\\nprint(pd.DataFrame(scaler.inverse_transform(gmm7.means_), columns=nba.columns))\";\n",
       "                var nbb_cells = Jupyter.notebook.get_cells();\n",
       "                for (var i = 0; i < nbb_cells.length; ++i) {\n",
       "                    if (nbb_cells[i].input_prompt_number == nbb_cell_id) {\n",
       "                        if (nbb_cells[i].get_text() == nbb_unformatted_code) {\n",
       "                             nbb_cells[i].set_text(nbb_formatted_code);\n",
       "                        }\n",
       "                        break;\n",
       "                    }\n",
       "                }\n",
       "            }, 500);\n",
       "            "
      ],
      "text/plain": [
       "<IPython.core.display.Javascript object>"
      ]
     },
     "metadata": {},
     "output_type": "display_data"
    }
   ],
   "source": [
    "# answer goes here\n",
    "k_means3 = KMeans(n_clusters=3)\n",
    "k_means3.fit(scaled)\n",
    "print(\n",
    "    pd.DataFrame(\n",
    "        scaler.inverse_transform(k_means3.cluster_centers_), columns=nba.columns\n",
    "    )\n",
    ")\n",
    "\n",
    "gmm3 = GaussianMixture(n_components=3)\n",
    "gmm3.fit(scaled)\n",
    "print(pd.DataFrame(scaler.inverse_transform(gmm3.means_), columns=nba.columns))\n",
    "\n",
    "k_means7 = KMeans(n_clusters=7)\n",
    "k_means7.fit(scaled)\n",
    "print(\n",
    "    pd.DataFrame(\n",
    "        scaler.inverse_transform(k_means7.cluster_centers_), columns=nba.columns\n",
    "    )\n",
    ")\n",
    "\n",
    "gmm7 = GaussianMixture(n_components=7)\n",
    "gmm7.fit(scaled)\n",
    "print(pd.DataFrame(scaler.inverse_transform(gmm7.means_), columns=nba.columns))\n"
   ]
  },
  {
   "cell_type": "markdown",
   "metadata": {
    "colab_type": "text",
    "id": "y0wBOUWJ1D_6"
   },
   "source": [
    "Predict the likelihood of each player belonging to one of the 3 clusters using the GMM model. Then, calculate the entropy for each set of predicted probabilities. \n",
    "\n",
    "We will use entropy as a measure of how confident we are in the predicted class label. If we had no confidence in our prediction, we would assign 33% probability to each class, while if we were totally confident, we would assign 100% to one class. Entropy would be at a maximum in the \"no confidence\" scenario and a minimum in the \"full confidence\" scenario, which makes it a reasonable way to quantify our uncertainty in our prediction. There are certainly other methods as well; feel free to experiment with them if desired.\n",
    "\n",
    "Which five predicted labels are we least confident about? Which five are we most confident about? Print out the associated details (season, player name, stats, etc.) from those players."
   ]
  },
  {
   "cell_type": "code",
   "execution_count": 8,
   "metadata": {
    "colab": {},
    "colab_type": "code",
    "id": "AdKYEBx61D_6"
   },
   "outputs": [
    {
     "data": {
      "application/javascript": [
       "\n",
       "            setTimeout(function() {\n",
       "                var nbb_cell_id = 8;\n",
       "                var nbb_unformatted_code = \"# answer goes here\";\n",
       "                var nbb_formatted_code = \"# answer goes here\";\n",
       "                var nbb_cells = Jupyter.notebook.get_cells();\n",
       "                for (var i = 0; i < nbb_cells.length; ++i) {\n",
       "                    if (nbb_cells[i].input_prompt_number == nbb_cell_id) {\n",
       "                        if (nbb_cells[i].get_text() == nbb_unformatted_code) {\n",
       "                             nbb_cells[i].set_text(nbb_formatted_code);\n",
       "                        }\n",
       "                        break;\n",
       "                    }\n",
       "                }\n",
       "            }, 500);\n",
       "            "
      ],
      "text/plain": [
       "<IPython.core.display.Javascript object>"
      ]
     },
     "metadata": {},
     "output_type": "display_data"
    }
   ],
   "source": [
    "# answer goes here\n",
    "\n",
    "\n",
    "\n"
   ]
  }
 ],
 "metadata": {
  "colab": {
   "collapsed_sections": [],
   "name": "Day 49 Lecture 1 Assignment.ipynb",
   "provenance": []
  },
  "kernelspec": {
   "display_name": "Python 3",
   "language": "python",
   "name": "python3"
  },
  "language_info": {
   "codemirror_mode": {
    "name": "ipython",
    "version": 3
   },
   "file_extension": ".py",
   "mimetype": "text/x-python",
   "name": "python",
   "nbconvert_exporter": "python",
   "pygments_lexer": "ipython3",
   "version": "3.7.6"
  }
 },
 "nbformat": 4,
 "nbformat_minor": 1
}
