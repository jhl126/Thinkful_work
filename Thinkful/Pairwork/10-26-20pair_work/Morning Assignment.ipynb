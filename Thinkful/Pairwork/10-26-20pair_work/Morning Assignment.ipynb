{
 "cells": [
  {
   "cell_type": "markdown",
   "metadata": {},
   "source": [
    "Morning Assignment:\n",
    "\n",
    "Head to your session link in the teams list above.\n",
    "\n",
    "Do the following exercise:\n",
    "\n",
    "* Define a variable and assign it a date string value of ‘10/20/2019’.\n",
    "* Convert the date string to a datetime object.\n",
    "* Extract the month, day, and year from the datetime object.\n",
    "* Reformat the date string to YYYY-MM-DD.\n",
    "* Extract the weekday number for the datetime object.\n",
    "* Get the datetime of the same weekday number 6 weeks into the future.\n",
    "* Retrieve the number of minutes between the original datetime and the datetime for the same weekday 6 weeks in the future. \n",
    "    \n",
    "    Hint: Try subtracting datetimes and then extracting the minutes from the difference.\n",
    "* Use what you have learned to retrieve the number of weeks that are in years 2015 through 2020 respectively. Are they always the same? Why or why not?"
   ]
  },
  {
   "cell_type": "code",
   "execution_count": 1,
   "metadata": {},
   "outputs": [],
   "source": [
    "from datetime import datetime as dt\n",
    "from datetime import timedelta"
   ]
  },
  {
   "cell_type": "code",
   "execution_count": 2,
   "metadata": {},
   "outputs": [],
   "source": [
    "variable = '10/20/2019'"
   ]
  },
  {
   "cell_type": "code",
   "execution_count": 3,
   "metadata": {},
   "outputs": [
    {
     "data": {
      "text/plain": [
       "datetime.datetime"
      ]
     },
     "execution_count": 3,
     "metadata": {},
     "output_type": "execute_result"
    }
   ],
   "source": [
    "converted = dt.strptime(variable, '%m/%d/%Y')\n",
    "type(converted)"
   ]
  },
  {
   "cell_type": "code",
   "execution_count": 4,
   "metadata": {},
   "outputs": [
    {
     "name": "stdout",
     "output_type": "stream",
     "text": [
      "10\n",
      "20\n",
      "2019\n"
     ]
    }
   ],
   "source": [
    "month = converted.month\n",
    "day = converted.day\n",
    "year = converted.year\n",
    "print(month)\n",
    "print(day)\n",
    "print(year)"
   ]
  },
  {
   "cell_type": "code",
   "execution_count": 5,
   "metadata": {},
   "outputs": [
    {
     "data": {
      "text/plain": [
       "'2019-10-20'"
      ]
     },
     "execution_count": 5,
     "metadata": {},
     "output_type": "execute_result"
    }
   ],
   "source": [
    "reformat = dt.strftime(converted, '%Y-%m-%d')\n",
    "reformat"
   ]
  },
  {
   "cell_type": "code",
   "execution_count": 6,
   "metadata": {
    "scrolled": true
   },
   "outputs": [
    {
     "data": {
      "text/plain": [
       "6"
      ]
     },
     "execution_count": 6,
     "metadata": {},
     "output_type": "execute_result"
    }
   ],
   "source": [
    "converted.weekday()"
   ]
  },
  {
   "cell_type": "code",
   "execution_count": 10,
   "metadata": {},
   "outputs": [],
   "source": [
    "future = converted + timedelta(weeks=6)"
   ]
  },
  {
   "cell_type": "code",
   "execution_count": 14,
   "metadata": {},
   "outputs": [],
   "source": [
    "date_diff = (future - converted).total_seconds()/60"
   ]
  },
  {
   "cell_type": "code",
   "execution_count": 15,
   "metadata": {},
   "outputs": [
    {
     "name": "stdout",
     "output_type": "stream",
     "text": [
      "60480.0\n"
     ]
    }
   ],
   "source": [
    "print(date_diff)"
   ]
  },
  {
   "cell_type": "code",
   "execution_count": 39,
   "metadata": {},
   "outputs": [],
   "source": [
    "yr_2015 = dt(2015,1,1)\n",
    "yr_2016 = dt(2016,1,1)\n",
    "yr_2017 = dt(2017,1,1)\n",
    "yr_2018 = dt(2018,1,1)\n",
    "yr_2019 = dt(2019,1,1)\n",
    "yr_2020 = dt(2020,1,1)"
   ]
  },
  {
   "cell_type": "code",
   "execution_count": 43,
   "metadata": {},
   "outputs": [
    {
     "name": "stdout",
     "output_type": "stream",
     "text": [
      "52 days, 3:25:42.857143\n"
     ]
    }
   ],
   "source": [
    "yr_2015_wk = (yr_2016 - yr_2015) / 7\n",
    "print(yr_2015_wk)"
   ]
  },
  {
   "cell_type": "code",
   "execution_count": 44,
   "metadata": {},
   "outputs": [
    {
     "name": "stdout",
     "output_type": "stream",
     "text": [
      "52 days, 6:51:25.714286\n"
     ]
    }
   ],
   "source": [
    "yr_2016_wk = (yr_2017 - yr_2016) / 7\n",
    "print(yr_2016_wk)"
   ]
  },
  {
   "cell_type": "code",
   "execution_count": 45,
   "metadata": {},
   "outputs": [
    {
     "name": "stdout",
     "output_type": "stream",
     "text": [
      "52 days, 3:25:42.857143\n"
     ]
    }
   ],
   "source": [
    "yr_2017_wk = (yr_2018 - yr_2017) / 7\n",
    "print(yr_2017_wk)"
   ]
  },
  {
   "cell_type": "code",
   "execution_count": 46,
   "metadata": {},
   "outputs": [
    {
     "name": "stdout",
     "output_type": "stream",
     "text": [
      "52 days, 3:25:42.857143\n"
     ]
    }
   ],
   "source": [
    "yr_2018_wk = (yr_2019 - yr_2018) / 7\n",
    "print(yr_2018_wk)"
   ]
  },
  {
   "cell_type": "code",
   "execution_count": 47,
   "metadata": {},
   "outputs": [
    {
     "name": "stdout",
     "output_type": "stream",
     "text": [
      "52 days, 3:25:42.857143\n"
     ]
    }
   ],
   "source": [
    "yr_2019_wk = (yr_2020 - yr_2019) / 7\n",
    "print(yr_2019_wk)"
   ]
  }
 ],
 "metadata": {
  "kernelspec": {
   "display_name": "Python 3",
   "language": "python",
   "name": "python3"
  },
  "language_info": {
   "codemirror_mode": {
    "name": "ipython",
    "version": 3
   },
   "file_extension": ".py",
   "mimetype": "text/x-python",
   "name": "python",
   "nbconvert_exporter": "python",
   "pygments_lexer": "ipython3",
   "version": "3.7.6"
  }
 },
 "nbformat": 4,
 "nbformat_minor": 4
}
