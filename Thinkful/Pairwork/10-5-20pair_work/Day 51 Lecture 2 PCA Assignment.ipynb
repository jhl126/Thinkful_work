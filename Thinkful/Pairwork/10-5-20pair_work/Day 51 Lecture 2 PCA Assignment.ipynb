{
 "cells": [
  {
   "cell_type": "code",
   "execution_count": 1,
   "metadata": {},
   "outputs": [
    {
     "data": {
      "application/javascript": [
       "\n",
       "            setTimeout(function() {\n",
       "                var nbb_cell_id = 1;\n",
       "                var nbb_unformatted_code = \"%reload_ext nb_black\";\n",
       "                var nbb_formatted_code = \"%reload_ext nb_black\";\n",
       "                var nbb_cells = Jupyter.notebook.get_cells();\n",
       "                for (var i = 0; i < nbb_cells.length; ++i) {\n",
       "                    if (nbb_cells[i].input_prompt_number == nbb_cell_id) {\n",
       "                        if (nbb_cells[i].get_text() == nbb_unformatted_code) {\n",
       "                             nbb_cells[i].set_text(nbb_formatted_code);\n",
       "                        }\n",
       "                        break;\n",
       "                    }\n",
       "                }\n",
       "            }, 500);\n",
       "            "
      ],
      "text/plain": [
       "<IPython.core.display.Javascript object>"
      ]
     },
     "metadata": {},
     "output_type": "display_data"
    }
   ],
   "source": [
    "%reload_ext nb_black"
   ]
  },
  {
   "cell_type": "markdown",
   "metadata": {
    "id": "Dl7sU6r-kMdW"
   },
   "source": [
    "# Principal Component Analysis Assignment"
   ]
  },
  {
   "cell_type": "code",
   "execution_count": 2,
   "metadata": {
    "id": "o-K7WD2akMdY"
   },
   "outputs": [
    {
     "data": {
      "application/javascript": [
       "\n",
       "            setTimeout(function() {\n",
       "                var nbb_cell_id = 2;\n",
       "                var nbb_unformatted_code = \"import numpy as np\\nimport pandas as pd\\n\\nfrom sklearn.decomposition import PCA\\nfrom sklearn.ensemble import RandomForestClassifier\\nfrom sklearn.model_selection import train_test_split\\nfrom sklearn.preprocessing import StandardScaler\\n\\nimport seaborn as sns\\nimport matplotlib.pyplot as plt\\n\\n%matplotlib inline\";\n",
       "                var nbb_formatted_code = \"import numpy as np\\nimport pandas as pd\\n\\nfrom sklearn.decomposition import PCA\\nfrom sklearn.ensemble import RandomForestClassifier\\nfrom sklearn.model_selection import train_test_split\\nfrom sklearn.preprocessing import StandardScaler\\n\\nimport seaborn as sns\\nimport matplotlib.pyplot as plt\\n\\n%matplotlib inline\";\n",
       "                var nbb_cells = Jupyter.notebook.get_cells();\n",
       "                for (var i = 0; i < nbb_cells.length; ++i) {\n",
       "                    if (nbb_cells[i].input_prompt_number == nbb_cell_id) {\n",
       "                        if (nbb_cells[i].get_text() == nbb_unformatted_code) {\n",
       "                             nbb_cells[i].set_text(nbb_formatted_code);\n",
       "                        }\n",
       "                        break;\n",
       "                    }\n",
       "                }\n",
       "            }, 500);\n",
       "            "
      ],
      "text/plain": [
       "<IPython.core.display.Javascript object>"
      ]
     },
     "metadata": {},
     "output_type": "display_data"
    }
   ],
   "source": [
    "import numpy as np\n",
    "import pandas as pd\n",
    "\n",
    "from sklearn.decomposition import PCA\n",
    "from sklearn.ensemble import RandomForestClassifier\n",
    "from sklearn.model_selection import train_test_split\n",
    "from sklearn.preprocessing import StandardScaler\n",
    "\n",
    "import seaborn as sns\n",
    "import matplotlib.pyplot as plt\n",
    "\n",
    "%matplotlib inline"
   ]
  },
  {
   "cell_type": "markdown",
   "metadata": {
    "id": "iMXplj9FkMdh"
   },
   "source": [
    "### Import the [PitchFX data set](https://docs.google.com/spreadsheets/d/1pmBtSw7v_tU_dIX1-4E8_Q7wC43fDs6LGDQzN49-ffk/export?format=csv)."
   ]
  },
  {
   "cell_type": "code",
   "execution_count": 3,
   "metadata": {
    "id": "XrExc5-BkMdi"
   },
   "outputs": [
    {
     "data": {
      "application/javascript": [
       "\n",
       "            setTimeout(function() {\n",
       "                var nbb_cell_id = 3;\n",
       "                var nbb_unformatted_code = \"data = pd.read_csv(\\n    \\\"https://docs.google.com/spreadsheets/d/1pmBtSw7v_tU_dIX1-4E8_Q7wC43fDs6LGDQzN49-ffk/export?format=csv\\\"\\n)\";\n",
       "                var nbb_formatted_code = \"data = pd.read_csv(\\n    \\\"https://docs.google.com/spreadsheets/d/1pmBtSw7v_tU_dIX1-4E8_Q7wC43fDs6LGDQzN49-ffk/export?format=csv\\\"\\n)\";\n",
       "                var nbb_cells = Jupyter.notebook.get_cells();\n",
       "                for (var i = 0; i < nbb_cells.length; ++i) {\n",
       "                    if (nbb_cells[i].input_prompt_number == nbb_cell_id) {\n",
       "                        if (nbb_cells[i].get_text() == nbb_unformatted_code) {\n",
       "                             nbb_cells[i].set_text(nbb_formatted_code);\n",
       "                        }\n",
       "                        break;\n",
       "                    }\n",
       "                }\n",
       "            }, 500);\n",
       "            "
      ],
      "text/plain": [
       "<IPython.core.display.Javascript object>"
      ]
     },
     "metadata": {},
     "output_type": "display_data"
    }
   ],
   "source": [
    "data = pd.read_csv(\n",
    "    \"https://docs.google.com/spreadsheets/d/1pmBtSw7v_tU_dIX1-4E8_Q7wC43fDs6LGDQzN49-ffk/export?format=csv\"\n",
    ")"
   ]
  },
  {
   "cell_type": "markdown",
   "metadata": {
    "id": "v1Da9H9SkMdm"
   },
   "source": [
    "### Keep only the pitch type and the numeric columns (exluding ID fields).\n",
    "\n",
    "* Drop any remaining records that contain null values.\n",
    "* Consider `pitchType` as `y`/target and the remaining columns to be `X`/features."
   ]
  },
  {
   "cell_type": "code",
   "execution_count": 4,
   "metadata": {},
   "outputs": [
    {
     "name": "stdout",
     "output_type": "stream",
     "text": [
      "<class 'pandas.core.frame.DataFrame'>\n",
      "RangeIndex: 79931 entries, 0 to 79930\n",
      "Data columns (total 35 columns):\n",
      " #   Column              Non-Null Count  Dtype  \n",
      "---  ------              --------------  -----  \n",
      " 0   gameString          79931 non-null  object \n",
      " 1   gameDate            79931 non-null  object \n",
      " 2   visitor             79931 non-null  object \n",
      " 3   home                79931 non-null  object \n",
      " 4   inning              79931 non-null  int64  \n",
      " 5   side                79931 non-null  object \n",
      " 6   balls               79931 non-null  int64  \n",
      " 7   strikes             79931 non-null  int64  \n",
      " 8   outs                79931 non-null  int64  \n",
      " 9   batterId            79931 non-null  int64  \n",
      " 10  batterName          79931 non-null  object \n",
      " 11  batterHand          79931 non-null  object \n",
      " 12  batterPosition      79931 non-null  object \n",
      " 13  pitcherId           79931 non-null  int64  \n",
      " 14  pitcherName         79931 non-null  object \n",
      " 15  pitcherHand         79931 non-null  object \n",
      " 16  timesFaced          79931 non-null  int64  \n",
      " 17  catcherId           79931 non-null  int64  \n",
      " 18  catcher             79931 non-null  object \n",
      " 19  umpireId            79931 non-null  int64  \n",
      " 20  umpire              79931 non-null  object \n",
      " 21  probCalledStrike    79921 non-null  float64\n",
      " 22  pitchResult         79931 non-null  object \n",
      " 23  pitchType           79931 non-null  object \n",
      " 24  releaseVelocity     79931 non-null  float64\n",
      " 25  spinRate            73734 non-null  float64\n",
      " 26  spinDir             79620 non-null  float64\n",
      " 27  locationHoriz       79931 non-null  float64\n",
      " 28  locationVert        79931 non-null  float64\n",
      " 29  movementHoriz       79931 non-null  float64\n",
      " 30  movementVert        79931 non-null  float64\n",
      " 31  battedBallType      14499 non-null  object \n",
      " 32  battedBallAngle     14499 non-null  float64\n",
      " 33  battedBallDistance  14499 non-null  float64\n",
      " 34  paResult            20591 non-null  object \n",
      "dtypes: float64(10), int64(9), object(16)\n",
      "memory usage: 21.3+ MB\n"
     ]
    },
    {
     "data": {
      "application/javascript": [
       "\n",
       "            setTimeout(function() {\n",
       "                var nbb_cell_id = 4;\n",
       "                var nbb_unformatted_code = \"data.info()\";\n",
       "                var nbb_formatted_code = \"data.info()\";\n",
       "                var nbb_cells = Jupyter.notebook.get_cells();\n",
       "                for (var i = 0; i < nbb_cells.length; ++i) {\n",
       "                    if (nbb_cells[i].input_prompt_number == nbb_cell_id) {\n",
       "                        if (nbb_cells[i].get_text() == nbb_unformatted_code) {\n",
       "                             nbb_cells[i].set_text(nbb_formatted_code);\n",
       "                        }\n",
       "                        break;\n",
       "                    }\n",
       "                }\n",
       "            }, 500);\n",
       "            "
      ],
      "text/plain": [
       "<IPython.core.display.Javascript object>"
      ]
     },
     "metadata": {},
     "output_type": "display_data"
    }
   ],
   "source": [
    "data.info()"
   ]
  },
  {
   "cell_type": "code",
   "execution_count": 5,
   "metadata": {
    "id": "yoWXyJLWkMdm"
   },
   "outputs": [
    {
     "data": {
      "application/javascript": [
       "\n",
       "            setTimeout(function() {\n",
       "                var nbb_cell_id = 5;\n",
       "                var nbb_unformatted_code = \"drop_cols = [\\n    \\\"gameString\\\",\\n    \\\"gameDate\\\",\\n    \\\"visitor\\\",\\n    \\\"home\\\",\\n    \\\"side\\\",\\n    \\\"batterId\\\",\\n    \\\"batterName\\\",\\n    \\\"batterPosition\\\",\\n    \\\"pitcherId\\\",\\n    \\\"pitcherName\\\",\\n    \\\"pitcherHand\\\",\\n    \\\"catcherId\\\",\\n    \\\"catcher\\\",\\n    \\\"umpireId\\\",\\n    \\\"umpire\\\",\\n    \\\"pitchResult\\\",\\n    \\\"battedBallType\\\",\\n    \\\"battedBallAngle\\\",\\n    \\\"battedBallDistance\\\",\\n    \\\"paResult\\\",\\n    \\\"side\\\",\\n    \\\"batterHand\\\",\\n]\\ndata = data.drop(drop_cols, 1)\\ndata = data.dropna()\\nX = data.drop(\\\"pitchType\\\", 1)\\ny = data[\\\"pitchType\\\"]\";\n",
       "                var nbb_formatted_code = \"drop_cols = [\\n    \\\"gameString\\\",\\n    \\\"gameDate\\\",\\n    \\\"visitor\\\",\\n    \\\"home\\\",\\n    \\\"side\\\",\\n    \\\"batterId\\\",\\n    \\\"batterName\\\",\\n    \\\"batterPosition\\\",\\n    \\\"pitcherId\\\",\\n    \\\"pitcherName\\\",\\n    \\\"pitcherHand\\\",\\n    \\\"catcherId\\\",\\n    \\\"catcher\\\",\\n    \\\"umpireId\\\",\\n    \\\"umpire\\\",\\n    \\\"pitchResult\\\",\\n    \\\"battedBallType\\\",\\n    \\\"battedBallAngle\\\",\\n    \\\"battedBallDistance\\\",\\n    \\\"paResult\\\",\\n    \\\"side\\\",\\n    \\\"batterHand\\\",\\n]\\ndata = data.drop(drop_cols, 1)\\ndata = data.dropna()\\nX = data.drop(\\\"pitchType\\\", 1)\\ny = data[\\\"pitchType\\\"]\";\n",
       "                var nbb_cells = Jupyter.notebook.get_cells();\n",
       "                for (var i = 0; i < nbb_cells.length; ++i) {\n",
       "                    if (nbb_cells[i].input_prompt_number == nbb_cell_id) {\n",
       "                        if (nbb_cells[i].get_text() == nbb_unformatted_code) {\n",
       "                             nbb_cells[i].set_text(nbb_formatted_code);\n",
       "                        }\n",
       "                        break;\n",
       "                    }\n",
       "                }\n",
       "            }, 500);\n",
       "            "
      ],
      "text/plain": [
       "<IPython.core.display.Javascript object>"
      ]
     },
     "metadata": {},
     "output_type": "display_data"
    }
   ],
   "source": [
    "drop_cols = [\n",
    "    \"gameString\",\n",
    "    \"gameDate\",\n",
    "    \"visitor\",\n",
    "    \"home\",\n",
    "    \"side\",\n",
    "    \"batterId\",\n",
    "    \"batterName\",\n",
    "    \"batterPosition\",\n",
    "    \"pitcherId\",\n",
    "    \"pitcherName\",\n",
    "    \"pitcherHand\",\n",
    "    \"catcherId\",\n",
    "    \"catcher\",\n",
    "    \"umpireId\",\n",
    "    \"umpire\",\n",
    "    \"pitchResult\",\n",
    "    \"battedBallType\",\n",
    "    \"battedBallAngle\",\n",
    "    \"battedBallDistance\",\n",
    "    \"paResult\",\n",
    "    \"side\",\n",
    "    \"batterHand\",\n",
    "]\n",
    "data = data.drop(drop_cols, 1)\n",
    "data = data.dropna()\n"
   ]
  },
  {
   "cell_type": "code",
   "execution_count": 10,
   "metadata": {},
   "outputs": [
    {
     "data": {
      "application/javascript": [
       "\n",
       "            setTimeout(function() {\n",
       "                var nbb_cell_id = 10;\n",
       "                var nbb_unformatted_code = \"counts = data[\\\"pitchType\\\"].value_counts()\\nkeep = counts > 1000\\nkeeps = keep.index[keep.values]\\ndata = data[data[\\\"pitchType\\\"].isin(keeps)]\";\n",
       "                var nbb_formatted_code = \"counts = data[\\\"pitchType\\\"].value_counts()\\nkeep = counts > 1000\\nkeeps = keep.index[keep.values]\\ndata = data[data[\\\"pitchType\\\"].isin(keeps)]\";\n",
       "                var nbb_cells = Jupyter.notebook.get_cells();\n",
       "                for (var i = 0; i < nbb_cells.length; ++i) {\n",
       "                    if (nbb_cells[i].input_prompt_number == nbb_cell_id) {\n",
       "                        if (nbb_cells[i].get_text() == nbb_unformatted_code) {\n",
       "                             nbb_cells[i].set_text(nbb_formatted_code);\n",
       "                        }\n",
       "                        break;\n",
       "                    }\n",
       "                }\n",
       "            }, 500);\n",
       "            "
      ],
      "text/plain": [
       "<IPython.core.display.Javascript object>"
      ]
     },
     "metadata": {},
     "output_type": "display_data"
    }
   ],
   "source": [
    "counts = data[\"pitchType\"].value_counts()\n",
    "keep = counts > 1000\n",
    "keeps = keep.index[keep.values]\n",
    "data = data[data[\"pitchType\"].isin(keeps)]"
   ]
  },
  {
   "cell_type": "code",
   "execution_count": 11,
   "metadata": {},
   "outputs": [
    {
     "data": {
      "application/javascript": [
       "\n",
       "            setTimeout(function() {\n",
       "                var nbb_cell_id = 11;\n",
       "                var nbb_unformatted_code = \"X = data.drop(\\\"pitchType\\\", 1)\\ny = data[\\\"pitchType\\\"]\";\n",
       "                var nbb_formatted_code = \"X = data.drop(\\\"pitchType\\\", 1)\\ny = data[\\\"pitchType\\\"]\";\n",
       "                var nbb_cells = Jupyter.notebook.get_cells();\n",
       "                for (var i = 0; i < nbb_cells.length; ++i) {\n",
       "                    if (nbb_cells[i].input_prompt_number == nbb_cell_id) {\n",
       "                        if (nbb_cells[i].get_text() == nbb_unformatted_code) {\n",
       "                             nbb_cells[i].set_text(nbb_formatted_code);\n",
       "                        }\n",
       "                        break;\n",
       "                    }\n",
       "                }\n",
       "            }, 500);\n",
       "            "
      ],
      "text/plain": [
       "<IPython.core.display.Javascript object>"
      ]
     },
     "metadata": {},
     "output_type": "display_data"
    }
   ],
   "source": [
    "X = data.drop(\"pitchType\", 1)\n",
    "y = data[\"pitchType\"]"
   ]
  },
  {
   "cell_type": "code",
   "execution_count": 13,
   "metadata": {},
   "outputs": [
    {
     "data": {
      "application/javascript": [
       "\n",
       "            setTimeout(function() {\n",
       "                var nbb_cell_id = 13;\n",
       "                var nbb_unformatted_code = \"X_train, X_test, y_train, y_test = train_test_split(X, y, test_size = 0.2, random_state = 13, stratify=y)\";\n",
       "                var nbb_formatted_code = \"X_train, X_test, y_train, y_test = train_test_split(\\n    X, y, test_size=0.2, random_state=13, stratify=y\\n)\";\n",
       "                var nbb_cells = Jupyter.notebook.get_cells();\n",
       "                for (var i = 0; i < nbb_cells.length; ++i) {\n",
       "                    if (nbb_cells[i].input_prompt_number == nbb_cell_id) {\n",
       "                        if (nbb_cells[i].get_text() == nbb_unformatted_code) {\n",
       "                             nbb_cells[i].set_text(nbb_formatted_code);\n",
       "                        }\n",
       "                        break;\n",
       "                    }\n",
       "                }\n",
       "            }, 500);\n",
       "            "
      ],
      "text/plain": [
       "<IPython.core.display.Javascript object>"
      ]
     },
     "metadata": {},
     "output_type": "display_data"
    }
   ],
   "source": [
    "X_train, X_test, y_train, y_test = train_test_split(\n",
    "    X, y, test_size=0.2, random_state=13, stratify=y\n",
    ")"
   ]
  },
  {
   "cell_type": "markdown",
   "metadata": {
    "id": "OG5KI6rokMdq"
   },
   "source": [
    "### Reduce the dimensionality of the data using PCA to two components.\n",
    "\n",
    "Don't forget to scale."
   ]
  },
  {
   "cell_type": "code",
   "execution_count": 14,
   "metadata": {
    "id": "0q4zR46ekMdr"
   },
   "outputs": [
    {
     "data": {
      "application/javascript": [
       "\n",
       "            setTimeout(function() {\n",
       "                var nbb_cell_id = 14;\n",
       "                var nbb_unformatted_code = \"scaler = StandardScaler()\\nscaler.fit(X_train)\\nX_std_train = scaler.transform(X_train)\";\n",
       "                var nbb_formatted_code = \"scaler = StandardScaler()\\nscaler.fit(X_train)\\nX_std_train = scaler.transform(X_train)\";\n",
       "                var nbb_cells = Jupyter.notebook.get_cells();\n",
       "                for (var i = 0; i < nbb_cells.length; ++i) {\n",
       "                    if (nbb_cells[i].input_prompt_number == nbb_cell_id) {\n",
       "                        if (nbb_cells[i].get_text() == nbb_unformatted_code) {\n",
       "                             nbb_cells[i].set_text(nbb_formatted_code);\n",
       "                        }\n",
       "                        break;\n",
       "                    }\n",
       "                }\n",
       "            }, 500);\n",
       "            "
      ],
      "text/plain": [
       "<IPython.core.display.Javascript object>"
      ]
     },
     "metadata": {},
     "output_type": "display_data"
    }
   ],
   "source": [
    "scaler = StandardScaler()\n",
    "scaler.fit(X_train)\n",
    "X_std_train = scaler.transform(X_train)"
   ]
  },
  {
   "cell_type": "code",
   "execution_count": 15,
   "metadata": {},
   "outputs": [
    {
     "data": {
      "application/javascript": [
       "\n",
       "            setTimeout(function() {\n",
       "                var nbb_cell_id = 15;\n",
       "                var nbb_unformatted_code = \"pca = PCA(n_components=2)\\npca = pca.fit_transform(X_std_train)\";\n",
       "                var nbb_formatted_code = \"pca = PCA(n_components=2)\\npca = pca.fit_transform(X_std_train)\";\n",
       "                var nbb_cells = Jupyter.notebook.get_cells();\n",
       "                for (var i = 0; i < nbb_cells.length; ++i) {\n",
       "                    if (nbb_cells[i].input_prompt_number == nbb_cell_id) {\n",
       "                        if (nbb_cells[i].get_text() == nbb_unformatted_code) {\n",
       "                             nbb_cells[i].set_text(nbb_formatted_code);\n",
       "                        }\n",
       "                        break;\n",
       "                    }\n",
       "                }\n",
       "            }, 500);\n",
       "            "
      ],
      "text/plain": [
       "<IPython.core.display.Javascript object>"
      ]
     },
     "metadata": {},
     "output_type": "display_data"
    }
   ],
   "source": [
    "pca = PCA(n_components=2)\n",
    "pca = pca.fit_transform(X_std_train)"
   ]
  },
  {
   "cell_type": "markdown",
   "metadata": {
    "id": "t8robVz0kMdu"
   },
   "source": [
    "### Compute the explained variance for new data set."
   ]
  },
  {
   "cell_type": "code",
   "execution_count": null,
   "metadata": {
    "id": "vXoOSvKbkMdv"
   },
   "outputs": [],
   "source": []
  },
  {
   "cell_type": "markdown",
   "metadata": {
    "id": "qxawC8DrkMd1"
   },
   "source": [
    "### Generate a scatter plot that visualizes how the component values are distributed."
   ]
  },
  {
   "cell_type": "code",
   "execution_count": null,
   "metadata": {
    "id": "kEsUKRK3kMd1"
   },
   "outputs": [],
   "source": []
  },
  {
   "cell_type": "markdown",
   "metadata": {
    "id": "tv6PFBWukMd5"
   },
   "source": [
    "### Create a line plot that shows the explained variance by number of components."
   ]
  },
  {
   "cell_type": "code",
   "execution_count": null,
   "metadata": {
    "id": "mNeShOrJkMd5"
   },
   "outputs": [],
   "source": []
  },
  {
   "cell_type": "markdown",
   "metadata": {
    "id": "jvKzrBEBkMd9"
   },
   "source": [
    "### Iteratively train and score a Random Forest Classifier (to predict `pitchType`).\n",
    "\n",
    "* In each iteration:\n",
    "    * Increase the number of principal components (start with `2`)\n",
    "    * Store the number of components and model score"
   ]
  },
  {
   "cell_type": "code",
   "execution_count": 8,
   "metadata": {
    "id": "gAjfoq-ckMd-"
   },
   "outputs": [
    {
     "data": {
      "application/javascript": [
       "\n",
       "            setTimeout(function() {\n",
       "                var nbb_cell_id = 8;\n",
       "                var nbb_unformatted_code = \"model = RandomForestClassifier(max_depth=4, random_state=1)\";\n",
       "                var nbb_formatted_code = \"model = RandomForestClassifier(max_depth=4, random_state=1)\";\n",
       "                var nbb_cells = Jupyter.notebook.get_cells();\n",
       "                for (var i = 0; i < nbb_cells.length; ++i) {\n",
       "                    if (nbb_cells[i].input_prompt_number == nbb_cell_id) {\n",
       "                        if (nbb_cells[i].get_text() == nbb_unformatted_code) {\n",
       "                             nbb_cells[i].set_text(nbb_formatted_code);\n",
       "                        }\n",
       "                        break;\n",
       "                    }\n",
       "                }\n",
       "            }, 500);\n",
       "            "
      ],
      "text/plain": [
       "<IPython.core.display.Javascript object>"
      ]
     },
     "metadata": {},
     "output_type": "display_data"
    }
   ],
   "source": [
    "model = RandomForestClassifier(max_depth=4, random_state=1)"
   ]
  },
  {
   "cell_type": "code",
   "execution_count": null,
   "metadata": {
    "id": "3gyrJuR-kMeB"
   },
   "outputs": [],
   "source": []
  },
  {
   "cell_type": "markdown",
   "metadata": {
    "id": "n-wxVTKUkMeD"
   },
   "source": [
    "### Create a line plot that shows the training scores across the different numbers of principal components."
   ]
  },
  {
   "cell_type": "code",
   "execution_count": null,
   "metadata": {
    "id": "k8p_nUackMeE"
   },
   "outputs": [],
   "source": []
  },
  {
   "cell_type": "markdown",
   "metadata": {
    "id": "4gMQsKHmkMeG"
   },
   "source": [
    "### Based on the analysis you conducted, what is the optimal number of principal components?"
   ]
  },
  {
   "cell_type": "code",
   "execution_count": null,
   "metadata": {
    "id": "tmGcmaR3kMeH"
   },
   "outputs": [],
   "source": []
  }
 ],
 "metadata": {
  "colab": {
   "name": "Day 51 Lecture 2 PCA Assignment.ipynb",
   "provenance": []
  },
  "kernelspec": {
   "display_name": "Python 3",
   "language": "python",
   "name": "python3"
  },
  "language_info": {
   "codemirror_mode": {
    "name": "ipython",
    "version": 3
   },
   "file_extension": ".py",
   "mimetype": "text/x-python",
   "name": "python",
   "nbconvert_exporter": "python",
   "pygments_lexer": "ipython3",
   "version": "3.7.6"
  }
 },
 "nbformat": 4,
 "nbformat_minor": 1
}
