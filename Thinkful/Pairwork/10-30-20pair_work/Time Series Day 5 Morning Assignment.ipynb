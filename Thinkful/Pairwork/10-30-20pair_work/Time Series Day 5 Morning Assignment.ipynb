{
 "cells": [
  {
   "cell_type": "markdown",
   "metadata": {
    "colab_type": "text",
    "id": "t76lGNLJ3jtR"
   },
   "source": [
    "# Time Series Machine Learning Part 1 Assignment"
   ]
  },
  {
   "cell_type": "code",
   "execution_count": 1,
   "metadata": {
    "colab": {},
    "colab_type": "code",
    "id": "1fWqhPBa3jtT"
   },
   "outputs": [
    {
     "data": {
      "application/javascript": [
       "\n",
       "            setTimeout(function() {\n",
       "                var nbb_cell_id = 1;\n",
       "                var nbb_unformatted_code = \"%reload_ext nb_black\\nimport numpy as np\\nimport pandas as pd\\nimport plotly.express as px\\nfrom sklearn.ensemble import AdaBoostRegressor\\nfrom sklearn.model_selection import train_test_split\\nfrom sklearn.metrics import r2_score\\nfrom sklearn.metrics import mean_absolute_error\\nfrom sklearn.metrics import mean_squared_error\";\n",
       "                var nbb_formatted_code = \"%reload_ext nb_black\\nimport numpy as np\\nimport pandas as pd\\nimport plotly.express as px\\nfrom sklearn.ensemble import AdaBoostRegressor\\nfrom sklearn.model_selection import train_test_split\\nfrom sklearn.metrics import r2_score\\nfrom sklearn.metrics import mean_absolute_error\\nfrom sklearn.metrics import mean_squared_error\";\n",
       "                var nbb_cells = Jupyter.notebook.get_cells();\n",
       "                for (var i = 0; i < nbb_cells.length; ++i) {\n",
       "                    if (nbb_cells[i].input_prompt_number == nbb_cell_id) {\n",
       "                        if (nbb_cells[i].get_text() == nbb_unformatted_code) {\n",
       "                             nbb_cells[i].set_text(nbb_formatted_code);\n",
       "                        }\n",
       "                        break;\n",
       "                    }\n",
       "                }\n",
       "            }, 500);\n",
       "            "
      ],
      "text/plain": [
       "<IPython.core.display.Javascript object>"
      ]
     },
     "metadata": {},
     "output_type": "display_data"
    }
   ],
   "source": [
    "%reload_ext nb_black\n",
    "import numpy as np\n",
    "import pandas as pd\n",
    "import plotly.express as px\n",
    "from sklearn.ensemble import AdaBoostRegressor\n",
    "from sklearn.model_selection import train_test_split\n",
    "from sklearn.metrics import r2_score\n",
    "from sklearn.metrics import mean_absolute_error\n",
    "from sklearn.metrics import mean_squared_error"
   ]
  },
  {
   "cell_type": "code",
   "execution_count": 20,
   "metadata": {},
   "outputs": [
    {
     "data": {
      "application/javascript": [
       "\n",
       "            setTimeout(function() {\n",
       "                var nbb_cell_id = 20;\n",
       "                var nbb_unformatted_code = \"def iscatter(df, x, y, color = None, size = None, title = ''):\\n    fig = px.scatter(df, x=x, y=y, color = color, size = size, title = title, template = 'none')\\n    \\n    fig.update_traces(marker_line_color='black', marker_line_width = 1)\\n    \\n    fig.show()\";\n",
       "                var nbb_formatted_code = \"def iscatter(df, x, y, color=None, size=None, title=\\\"\\\"):\\n    fig = px.scatter(df, x=x, y=y, color=color, size=size, title=title, template=\\\"none\\\")\\n\\n    fig.update_traces(marker_line_color=\\\"black\\\", marker_line_width=1)\\n\\n    fig.show()\";\n",
       "                var nbb_cells = Jupyter.notebook.get_cells();\n",
       "                for (var i = 0; i < nbb_cells.length; ++i) {\n",
       "                    if (nbb_cells[i].input_prompt_number == nbb_cell_id) {\n",
       "                        if (nbb_cells[i].get_text() == nbb_unformatted_code) {\n",
       "                             nbb_cells[i].set_text(nbb_formatted_code);\n",
       "                        }\n",
       "                        break;\n",
       "                    }\n",
       "                }\n",
       "            }, 500);\n",
       "            "
      ],
      "text/plain": [
       "<IPython.core.display.Javascript object>"
      ]
     },
     "metadata": {},
     "output_type": "display_data"
    }
   ],
   "source": [
    "def iscatter(df, x, y, color=None, size=None, title=\"\"):\n",
    "    fig = px.scatter(df, x=x, y=y, color=color, size=size, title=title, template=\"none\")\n",
    "\n",
    "    fig.update_traces(marker_line_color=\"black\", marker_line_width=1)\n",
    "\n",
    "    fig.show()"
   ]
  },
  {
   "cell_type": "markdown",
   "metadata": {
    "colab_type": "text",
    "id": "VhJHCced3jtX"
   },
   "source": [
    "### Import the Netflix stock price data set (NFLX_data.csv)."
   ]
  },
  {
   "cell_type": "code",
   "execution_count": 2,
   "metadata": {
    "colab": {},
    "colab_type": "code",
    "id": "Qo9dfoZ03jtY"
   },
   "outputs": [
    {
     "data": {
      "application/javascript": [
       "\n",
       "            setTimeout(function() {\n",
       "                var nbb_cell_id = 2;\n",
       "                var nbb_unformatted_code = \"netflix = pd.read_csv('https://tf-assets-prod.s3.amazonaws.com/tf-curric/data-science/Data%20Sets%20Time%20Series%20Analysis/Time%20Series%20-%20Day%205/NFLX_data.csv')\";\n",
       "                var nbb_formatted_code = \"netflix = pd.read_csv(\\n    \\\"https://tf-assets-prod.s3.amazonaws.com/tf-curric/data-science/Data%20Sets%20Time%20Series%20Analysis/Time%20Series%20-%20Day%205/NFLX_data.csv\\\"\\n)\";\n",
       "                var nbb_cells = Jupyter.notebook.get_cells();\n",
       "                for (var i = 0; i < nbb_cells.length; ++i) {\n",
       "                    if (nbb_cells[i].input_prompt_number == nbb_cell_id) {\n",
       "                        if (nbb_cells[i].get_text() == nbb_unformatted_code) {\n",
       "                             nbb_cells[i].set_text(nbb_formatted_code);\n",
       "                        }\n",
       "                        break;\n",
       "                    }\n",
       "                }\n",
       "            }, 500);\n",
       "            "
      ],
      "text/plain": [
       "<IPython.core.display.Javascript object>"
      ]
     },
     "metadata": {},
     "output_type": "display_data"
    }
   ],
   "source": [
    "netflix = pd.read_csv(\n",
    "    \"https://tf-assets-prod.s3.amazonaws.com/tf-curric/data-science/Data%20Sets%20Time%20Series%20Analysis/Time%20Series%20-%20Day%205/NFLX_data.csv\"\n",
    ")"
   ]
  },
  {
   "cell_type": "code",
   "execution_count": 3,
   "metadata": {},
   "outputs": [
    {
     "data": {
      "text/html": [
       "<div>\n",
       "<style scoped>\n",
       "    .dataframe tbody tr th:only-of-type {\n",
       "        vertical-align: middle;\n",
       "    }\n",
       "\n",
       "    .dataframe tbody tr th {\n",
       "        vertical-align: top;\n",
       "    }\n",
       "\n",
       "    .dataframe thead th {\n",
       "        text-align: right;\n",
       "    }\n",
       "</style>\n",
       "<table border=\"1\" class=\"dataframe\">\n",
       "  <thead>\n",
       "    <tr style=\"text-align: right;\">\n",
       "      <th></th>\n",
       "      <th>date</th>\n",
       "      <th>open</th>\n",
       "      <th>high</th>\n",
       "      <th>low</th>\n",
       "      <th>close</th>\n",
       "      <th>volume</th>\n",
       "      <th>Name</th>\n",
       "    </tr>\n",
       "  </thead>\n",
       "  <tbody>\n",
       "    <tr>\n",
       "      <th>0</th>\n",
       "      <td>2013-02-08</td>\n",
       "      <td>25.9635</td>\n",
       "      <td>26.2800</td>\n",
       "      <td>25.7157</td>\n",
       "      <td>25.8528</td>\n",
       "      <td>25649820</td>\n",
       "      <td>NFLX</td>\n",
       "    </tr>\n",
       "    <tr>\n",
       "      <th>1</th>\n",
       "      <td>2013-02-11</td>\n",
       "      <td>25.5685</td>\n",
       "      <td>26.0071</td>\n",
       "      <td>24.9714</td>\n",
       "      <td>25.4128</td>\n",
       "      <td>29321782</td>\n",
       "      <td>NFLX</td>\n",
       "    </tr>\n",
       "    <tr>\n",
       "      <th>2</th>\n",
       "      <td>2013-02-12</td>\n",
       "      <td>25.8085</td>\n",
       "      <td>26.2228</td>\n",
       "      <td>25.1014</td>\n",
       "      <td>25.4214</td>\n",
       "      <td>34388802</td>\n",
       "      <td>NFLX</td>\n",
       "    </tr>\n",
       "    <tr>\n",
       "      <th>3</th>\n",
       "      <td>2013-02-13</td>\n",
       "      <td>25.8428</td>\n",
       "      <td>26.6285</td>\n",
       "      <td>25.6657</td>\n",
       "      <td>26.6098</td>\n",
       "      <td>40799094</td>\n",
       "      <td>NFLX</td>\n",
       "    </tr>\n",
       "    <tr>\n",
       "      <th>4</th>\n",
       "      <td>2013-02-14</td>\n",
       "      <td>26.7557</td>\n",
       "      <td>27.1214</td>\n",
       "      <td>26.3844</td>\n",
       "      <td>26.7714</td>\n",
       "      <td>31968685</td>\n",
       "      <td>NFLX</td>\n",
       "    </tr>\n",
       "  </tbody>\n",
       "</table>\n",
       "</div>"
      ],
      "text/plain": [
       "         date     open     high      low    close    volume  Name\n",
       "0  2013-02-08  25.9635  26.2800  25.7157  25.8528  25649820  NFLX\n",
       "1  2013-02-11  25.5685  26.0071  24.9714  25.4128  29321782  NFLX\n",
       "2  2013-02-12  25.8085  26.2228  25.1014  25.4214  34388802  NFLX\n",
       "3  2013-02-13  25.8428  26.6285  25.6657  26.6098  40799094  NFLX\n",
       "4  2013-02-14  26.7557  27.1214  26.3844  26.7714  31968685  NFLX"
      ]
     },
     "execution_count": 3,
     "metadata": {},
     "output_type": "execute_result"
    },
    {
     "data": {
      "application/javascript": [
       "\n",
       "            setTimeout(function() {\n",
       "                var nbb_cell_id = 3;\n",
       "                var nbb_unformatted_code = \"netflix.head()\";\n",
       "                var nbb_formatted_code = \"netflix.head()\";\n",
       "                var nbb_cells = Jupyter.notebook.get_cells();\n",
       "                for (var i = 0; i < nbb_cells.length; ++i) {\n",
       "                    if (nbb_cells[i].input_prompt_number == nbb_cell_id) {\n",
       "                        if (nbb_cells[i].get_text() == nbb_unformatted_code) {\n",
       "                             nbb_cells[i].set_text(nbb_formatted_code);\n",
       "                        }\n",
       "                        break;\n",
       "                    }\n",
       "                }\n",
       "            }, 500);\n",
       "            "
      ],
      "text/plain": [
       "<IPython.core.display.Javascript object>"
      ]
     },
     "metadata": {},
     "output_type": "display_data"
    }
   ],
   "source": [
    "netflix.head()"
   ]
  },
  {
   "cell_type": "markdown",
   "metadata": {
    "colab_type": "text",
    "id": "UrezA8by3jta"
   },
   "source": [
    "### Transform the data by shifting the series and creating features that will allow us to forecast the price 30 days into the future from 90 days of daily history."
   ]
  },
  {
   "cell_type": "code",
   "execution_count": 4,
   "metadata": {
    "colab": {},
    "colab_type": "code",
    "id": "hAOww8qF3jtb"
   },
   "outputs": [
    {
     "data": {
      "application/javascript": [
       "\n",
       "            setTimeout(function() {\n",
       "                var nbb_cell_id = 4;\n",
       "                var nbb_unformatted_code = \"history = 90\\nfuture = 30\\n\\nshifts = [x + future for x in list(range(1, history + 1))]\\n\\nfor shift in shifts:\\n    netflix['t-' + str(shift)] = netflix['close'].shift(shift)\\n    \\nnetflix.dropna(inplace = True)\";\n",
       "                var nbb_formatted_code = \"history = 90\\nfuture = 30\\n\\nshifts = [x + future for x in list(range(1, history + 1))]\\n\\nfor shift in shifts:\\n    netflix[\\\"t-\\\" + str(shift)] = netflix[\\\"close\\\"].shift(shift)\\n\\nnetflix.dropna(inplace=True)\";\n",
       "                var nbb_cells = Jupyter.notebook.get_cells();\n",
       "                for (var i = 0; i < nbb_cells.length; ++i) {\n",
       "                    if (nbb_cells[i].input_prompt_number == nbb_cell_id) {\n",
       "                        if (nbb_cells[i].get_text() == nbb_unformatted_code) {\n",
       "                             nbb_cells[i].set_text(nbb_formatted_code);\n",
       "                        }\n",
       "                        break;\n",
       "                    }\n",
       "                }\n",
       "            }, 500);\n",
       "            "
      ],
      "text/plain": [
       "<IPython.core.display.Javascript object>"
      ]
     },
     "metadata": {},
     "output_type": "display_data"
    }
   ],
   "source": [
    "history = 90\n",
    "future = 30\n",
    "\n",
    "shifts = [x + future for x in list(range(1, history + 1))]\n",
    "\n",
    "for shift in shifts:\n",
    "    netflix[\"t-\" + str(shift)] = netflix[\"close\"].shift(shift)\n",
    "\n",
    "netflix.dropna(inplace=True)"
   ]
  },
  {
   "cell_type": "code",
   "execution_count": 5,
   "metadata": {},
   "outputs": [
    {
     "data": {
      "text/html": [
       "<div>\n",
       "<style scoped>\n",
       "    .dataframe tbody tr th:only-of-type {\n",
       "        vertical-align: middle;\n",
       "    }\n",
       "\n",
       "    .dataframe tbody tr th {\n",
       "        vertical-align: top;\n",
       "    }\n",
       "\n",
       "    .dataframe thead th {\n",
       "        text-align: right;\n",
       "    }\n",
       "</style>\n",
       "<table border=\"1\" class=\"dataframe\">\n",
       "  <thead>\n",
       "    <tr style=\"text-align: right;\">\n",
       "      <th></th>\n",
       "      <th>date</th>\n",
       "      <th>open</th>\n",
       "      <th>high</th>\n",
       "      <th>low</th>\n",
       "      <th>close</th>\n",
       "      <th>volume</th>\n",
       "      <th>Name</th>\n",
       "      <th>t-31</th>\n",
       "      <th>t-32</th>\n",
       "      <th>t-33</th>\n",
       "      <th>...</th>\n",
       "      <th>t-111</th>\n",
       "      <th>t-112</th>\n",
       "      <th>t-113</th>\n",
       "      <th>t-114</th>\n",
       "      <th>t-115</th>\n",
       "      <th>t-116</th>\n",
       "      <th>t-117</th>\n",
       "      <th>t-118</th>\n",
       "      <th>t-119</th>\n",
       "      <th>t-120</th>\n",
       "    </tr>\n",
       "  </thead>\n",
       "  <tbody>\n",
       "    <tr>\n",
       "      <th>120</th>\n",
       "      <td>2013-08-01</td>\n",
       "      <td>35.2200</td>\n",
       "      <td>35.7142</td>\n",
       "      <td>34.9385</td>\n",
       "      <td>35.5885</td>\n",
       "      <td>14205926</td>\n",
       "      <td>NFLX</td>\n",
       "      <td>32.6900</td>\n",
       "      <td>32.7471</td>\n",
       "      <td>30.5700</td>\n",
       "      <td>...</td>\n",
       "      <td>25.6943</td>\n",
       "      <td>26.7357</td>\n",
       "      <td>26.7314</td>\n",
       "      <td>28.0643</td>\n",
       "      <td>27.0731</td>\n",
       "      <td>26.7714</td>\n",
       "      <td>26.6098</td>\n",
       "      <td>25.4214</td>\n",
       "      <td>25.4128</td>\n",
       "      <td>25.8528</td>\n",
       "    </tr>\n",
       "    <tr>\n",
       "      <th>121</th>\n",
       "      <td>2013-08-02</td>\n",
       "      <td>35.6200</td>\n",
       "      <td>35.6200</td>\n",
       "      <td>34.9714</td>\n",
       "      <td>35.1685</td>\n",
       "      <td>13879663</td>\n",
       "      <td>NFLX</td>\n",
       "      <td>33.1871</td>\n",
       "      <td>32.6900</td>\n",
       "      <td>32.7471</td>\n",
       "      <td>...</td>\n",
       "      <td>25.6171</td>\n",
       "      <td>25.6943</td>\n",
       "      <td>26.7357</td>\n",
       "      <td>26.7314</td>\n",
       "      <td>28.0643</td>\n",
       "      <td>27.0731</td>\n",
       "      <td>26.7714</td>\n",
       "      <td>26.6098</td>\n",
       "      <td>25.4214</td>\n",
       "      <td>25.4128</td>\n",
       "    </tr>\n",
       "    <tr>\n",
       "      <th>122</th>\n",
       "      <td>2013-08-05</td>\n",
       "      <td>34.8443</td>\n",
       "      <td>36.2714</td>\n",
       "      <td>34.4828</td>\n",
       "      <td>36.2628</td>\n",
       "      <td>22967000</td>\n",
       "      <td>NFLX</td>\n",
       "      <td>31.9314</td>\n",
       "      <td>33.1871</td>\n",
       "      <td>32.6900</td>\n",
       "      <td>...</td>\n",
       "      <td>26.2985</td>\n",
       "      <td>25.6171</td>\n",
       "      <td>25.6943</td>\n",
       "      <td>26.7357</td>\n",
       "      <td>26.7314</td>\n",
       "      <td>28.0643</td>\n",
       "      <td>27.0731</td>\n",
       "      <td>26.7714</td>\n",
       "      <td>26.6098</td>\n",
       "      <td>25.4214</td>\n",
       "    </tr>\n",
       "    <tr>\n",
       "      <th>123</th>\n",
       "      <td>2013-08-06</td>\n",
       "      <td>36.2785</td>\n",
       "      <td>36.8000</td>\n",
       "      <td>35.7285</td>\n",
       "      <td>36.5571</td>\n",
       "      <td>20415983</td>\n",
       "      <td>NFLX</td>\n",
       "      <td>30.9857</td>\n",
       "      <td>31.9314</td>\n",
       "      <td>33.1871</td>\n",
       "      <td>...</td>\n",
       "      <td>26.3314</td>\n",
       "      <td>26.2985</td>\n",
       "      <td>25.6171</td>\n",
       "      <td>25.6943</td>\n",
       "      <td>26.7357</td>\n",
       "      <td>26.7314</td>\n",
       "      <td>28.0643</td>\n",
       "      <td>27.0731</td>\n",
       "      <td>26.7714</td>\n",
       "      <td>26.6098</td>\n",
       "    </tr>\n",
       "    <tr>\n",
       "      <th>124</th>\n",
       "      <td>2013-08-07</td>\n",
       "      <td>36.3371</td>\n",
       "      <td>36.7814</td>\n",
       "      <td>35.5228</td>\n",
       "      <td>35.6014</td>\n",
       "      <td>16330398</td>\n",
       "      <td>NFLX</td>\n",
       "      <td>30.8000</td>\n",
       "      <td>30.9857</td>\n",
       "      <td>31.9314</td>\n",
       "      <td>...</td>\n",
       "      <td>26.8685</td>\n",
       "      <td>26.3314</td>\n",
       "      <td>26.2985</td>\n",
       "      <td>25.6171</td>\n",
       "      <td>25.6943</td>\n",
       "      <td>26.7357</td>\n",
       "      <td>26.7314</td>\n",
       "      <td>28.0643</td>\n",
       "      <td>27.0731</td>\n",
       "      <td>26.7714</td>\n",
       "    </tr>\n",
       "  </tbody>\n",
       "</table>\n",
       "<p>5 rows × 97 columns</p>\n",
       "</div>"
      ],
      "text/plain": [
       "           date     open     high      low    close    volume  Name     t-31  \\\n",
       "120  2013-08-01  35.2200  35.7142  34.9385  35.5885  14205926  NFLX  32.6900   \n",
       "121  2013-08-02  35.6200  35.6200  34.9714  35.1685  13879663  NFLX  33.1871   \n",
       "122  2013-08-05  34.8443  36.2714  34.4828  36.2628  22967000  NFLX  31.9314   \n",
       "123  2013-08-06  36.2785  36.8000  35.7285  36.5571  20415983  NFLX  30.9857   \n",
       "124  2013-08-07  36.3371  36.7814  35.5228  35.6014  16330398  NFLX  30.8000   \n",
       "\n",
       "        t-32     t-33  ...    t-111    t-112    t-113    t-114    t-115  \\\n",
       "120  32.7471  30.5700  ...  25.6943  26.7357  26.7314  28.0643  27.0731   \n",
       "121  32.6900  32.7471  ...  25.6171  25.6943  26.7357  26.7314  28.0643   \n",
       "122  33.1871  32.6900  ...  26.2985  25.6171  25.6943  26.7357  26.7314   \n",
       "123  31.9314  33.1871  ...  26.3314  26.2985  25.6171  25.6943  26.7357   \n",
       "124  30.9857  31.9314  ...  26.8685  26.3314  26.2985  25.6171  25.6943   \n",
       "\n",
       "       t-116    t-117    t-118    t-119    t-120  \n",
       "120  26.7714  26.6098  25.4214  25.4128  25.8528  \n",
       "121  27.0731  26.7714  26.6098  25.4214  25.4128  \n",
       "122  28.0643  27.0731  26.7714  26.6098  25.4214  \n",
       "123  26.7314  28.0643  27.0731  26.7714  26.6098  \n",
       "124  26.7357  26.7314  28.0643  27.0731  26.7714  \n",
       "\n",
       "[5 rows x 97 columns]"
      ]
     },
     "execution_count": 5,
     "metadata": {},
     "output_type": "execute_result"
    },
    {
     "data": {
      "application/javascript": [
       "\n",
       "            setTimeout(function() {\n",
       "                var nbb_cell_id = 5;\n",
       "                var nbb_unformatted_code = \"netflix.head()\";\n",
       "                var nbb_formatted_code = \"netflix.head()\";\n",
       "                var nbb_cells = Jupyter.notebook.get_cells();\n",
       "                for (var i = 0; i < nbb_cells.length; ++i) {\n",
       "                    if (nbb_cells[i].input_prompt_number == nbb_cell_id) {\n",
       "                        if (nbb_cells[i].get_text() == nbb_unformatted_code) {\n",
       "                             nbb_cells[i].set_text(nbb_formatted_code);\n",
       "                        }\n",
       "                        break;\n",
       "                    }\n",
       "                }\n",
       "            }, 500);\n",
       "            "
      ],
      "text/plain": [
       "<IPython.core.display.Javascript object>"
      ]
     },
     "metadata": {},
     "output_type": "display_data"
    }
   ],
   "source": [
    "netflix.head()"
   ]
  },
  {
   "cell_type": "markdown",
   "metadata": {
    "colab_type": "text",
    "id": "KRhVWTrH3jtd"
   },
   "source": [
    "### Split the data into a training set and a testing set. Make the test set size 20%."
   ]
  },
  {
   "cell_type": "code",
   "execution_count": 13,
   "metadata": {
    "colab": {},
    "colab_type": "code",
    "id": "yMtgRFib3jte"
   },
   "outputs": [
    {
     "data": {
      "application/javascript": [
       "\n",
       "            setTimeout(function() {\n",
       "                var nbb_cell_id = 13;\n",
       "                var nbb_unformatted_code = \"X = netflix.drop(columns=[\\\"date\\\", \\\"open\\\", \\\"high\\\", \\\"low\\\", \\\"close\\\", \\\"volume\\\",'Name'])\\ny = netflix[\\\"close\\\"]\";\n",
       "                var nbb_formatted_code = \"X = netflix.drop(columns=[\\\"date\\\", \\\"open\\\", \\\"high\\\", \\\"low\\\", \\\"close\\\", \\\"volume\\\", \\\"Name\\\"])\\ny = netflix[\\\"close\\\"]\";\n",
       "                var nbb_cells = Jupyter.notebook.get_cells();\n",
       "                for (var i = 0; i < nbb_cells.length; ++i) {\n",
       "                    if (nbb_cells[i].input_prompt_number == nbb_cell_id) {\n",
       "                        if (nbb_cells[i].get_text() == nbb_unformatted_code) {\n",
       "                             nbb_cells[i].set_text(nbb_formatted_code);\n",
       "                        }\n",
       "                        break;\n",
       "                    }\n",
       "                }\n",
       "            }, 500);\n",
       "            "
      ],
      "text/plain": [
       "<IPython.core.display.Javascript object>"
      ]
     },
     "metadata": {},
     "output_type": "display_data"
    }
   ],
   "source": [
    "X = netflix.drop(columns=[\"date\", \"open\", \"high\", \"low\", \"close\", \"volume\", \"Name\"])\n",
    "y = netflix[\"close\"]"
   ]
  },
  {
   "cell_type": "code",
   "execution_count": 14,
   "metadata": {},
   "outputs": [
    {
     "data": {
      "application/javascript": [
       "\n",
       "            setTimeout(function() {\n",
       "                var nbb_cell_id = 14;\n",
       "                var nbb_unformatted_code = \"X_train, X_test, y_train, y_test = train_test_split(\\n    X, y, test_size=0.20, random_state=13\\n)\";\n",
       "                var nbb_formatted_code = \"X_train, X_test, y_train, y_test = train_test_split(\\n    X, y, test_size=0.20, random_state=13\\n)\";\n",
       "                var nbb_cells = Jupyter.notebook.get_cells();\n",
       "                for (var i = 0; i < nbb_cells.length; ++i) {\n",
       "                    if (nbb_cells[i].input_prompt_number == nbb_cell_id) {\n",
       "                        if (nbb_cells[i].get_text() == nbb_unformatted_code) {\n",
       "                             nbb_cells[i].set_text(nbb_formatted_code);\n",
       "                        }\n",
       "                        break;\n",
       "                    }\n",
       "                }\n",
       "            }, 500);\n",
       "            "
      ],
      "text/plain": [
       "<IPython.core.display.Javascript object>"
      ]
     },
     "metadata": {},
     "output_type": "display_data"
    }
   ],
   "source": [
    "X_train, X_test, y_train, y_test = train_test_split(\n",
    "    X, y, test_size=0.20, random_state=13\n",
    ")"
   ]
  },
  {
   "cell_type": "markdown",
   "metadata": {
    "colab_type": "text",
    "id": "1yAR2MWd3jth"
   },
   "source": [
    "### Instantiate an AdaBoost model and fit it to the training set."
   ]
  },
  {
   "cell_type": "code",
   "execution_count": 15,
   "metadata": {
    "colab": {},
    "colab_type": "code",
    "id": "DpAD7exM3jti"
   },
   "outputs": [
    {
     "data": {
      "text/plain": [
       "AdaBoostRegressor(base_estimator=None, learning_rate=1.0, loss='linear',\n",
       "                  n_estimators=50, random_state=None)"
      ]
     },
     "execution_count": 15,
     "metadata": {},
     "output_type": "execute_result"
    },
    {
     "data": {
      "application/javascript": [
       "\n",
       "            setTimeout(function() {\n",
       "                var nbb_cell_id = 15;\n",
       "                var nbb_unformatted_code = \"model = AdaBoostRegressor()\\nmodel.fit(X_train, y_train)\";\n",
       "                var nbb_formatted_code = \"model = AdaBoostRegressor()\\nmodel.fit(X_train, y_train)\";\n",
       "                var nbb_cells = Jupyter.notebook.get_cells();\n",
       "                for (var i = 0; i < nbb_cells.length; ++i) {\n",
       "                    if (nbb_cells[i].input_prompt_number == nbb_cell_id) {\n",
       "                        if (nbb_cells[i].get_text() == nbb_unformatted_code) {\n",
       "                             nbb_cells[i].set_text(nbb_formatted_code);\n",
       "                        }\n",
       "                        break;\n",
       "                    }\n",
       "                }\n",
       "            }, 500);\n",
       "            "
      ],
      "text/plain": [
       "<IPython.core.display.Javascript object>"
      ]
     },
     "metadata": {},
     "output_type": "display_data"
    }
   ],
   "source": [
    "model = AdaBoostRegressor()\n",
    "model.fit(X_train, y_train)"
   ]
  },
  {
   "cell_type": "markdown",
   "metadata": {
    "colab_type": "text",
    "id": "9L9mUdA33jtk"
   },
   "source": [
    "### Generate predictions for the test set."
   ]
  },
  {
   "cell_type": "code",
   "execution_count": 16,
   "metadata": {
    "colab": {},
    "colab_type": "code",
    "id": "uuxC-QY33jtl"
   },
   "outputs": [
    {
     "data": {
      "application/javascript": [
       "\n",
       "            setTimeout(function() {\n",
       "                var nbb_cell_id = 16;\n",
       "                var nbb_unformatted_code = \"predictions = model.predict(X_test)\";\n",
       "                var nbb_formatted_code = \"predictions = model.predict(X_test)\";\n",
       "                var nbb_cells = Jupyter.notebook.get_cells();\n",
       "                for (var i = 0; i < nbb_cells.length; ++i) {\n",
       "                    if (nbb_cells[i].input_prompt_number == nbb_cell_id) {\n",
       "                        if (nbb_cells[i].get_text() == nbb_unformatted_code) {\n",
       "                             nbb_cells[i].set_text(nbb_formatted_code);\n",
       "                        }\n",
       "                        break;\n",
       "                    }\n",
       "                }\n",
       "            }, 500);\n",
       "            "
      ],
      "text/plain": [
       "<IPython.core.display.Javascript object>"
      ]
     },
     "metadata": {},
     "output_type": "display_data"
    }
   ],
   "source": [
    "predictions = model.predict(X_test)"
   ]
  },
  {
   "cell_type": "markdown",
   "metadata": {
    "colab_type": "text",
    "id": "KkWPhLwA3jtn"
   },
   "source": [
    "### Evaluate the results using R-Squared, Mean Absolute Error, and Root Mean Squared Error metrics."
   ]
  },
  {
   "cell_type": "code",
   "execution_count": 19,
   "metadata": {
    "colab": {},
    "colab_type": "code",
    "id": "Nv_wGYXA3jto"
   },
   "outputs": [
    {
     "name": "stdout",
     "output_type": "stream",
     "text": [
      "R-Squared:0.9610021438778232\n",
      "Mean Absolute Error:8.131869280879384\n",
      "Root Mean Squared Error:9.754164405796708\n"
     ]
    },
    {
     "data": {
      "application/javascript": [
       "\n",
       "            setTimeout(function() {\n",
       "                var nbb_cell_id = 19;\n",
       "                var nbb_unformatted_code = \"print(\\\"R-Squared:\\\" + str(r2_score(y_test, predictions)))\\nprint(\\\"Mean Absolute Error:\\\" +str(mean_absolute_error(y_test, predictions)))\\nprint(\\n    \\\"Root Mean Squared Error:\\\" +str(np.sqrt(mean_squared_error(y_test, predictions)))\\n)\";\n",
       "                var nbb_formatted_code = \"print(\\\"R-Squared:\\\" + str(r2_score(y_test, predictions)))\\nprint(\\\"Mean Absolute Error:\\\" + str(mean_absolute_error(y_test, predictions)))\\nprint(\\n    \\\"Root Mean Squared Error:\\\" + str(np.sqrt(mean_squared_error(y_test, predictions)))\\n)\";\n",
       "                var nbb_cells = Jupyter.notebook.get_cells();\n",
       "                for (var i = 0; i < nbb_cells.length; ++i) {\n",
       "                    if (nbb_cells[i].input_prompt_number == nbb_cell_id) {\n",
       "                        if (nbb_cells[i].get_text() == nbb_unformatted_code) {\n",
       "                             nbb_cells[i].set_text(nbb_formatted_code);\n",
       "                        }\n",
       "                        break;\n",
       "                    }\n",
       "                }\n",
       "            }, 500);\n",
       "            "
      ],
      "text/plain": [
       "<IPython.core.display.Javascript object>"
      ]
     },
     "metadata": {},
     "output_type": "display_data"
    }
   ],
   "source": [
    "print(\"R-Squared:\" + str(r2_score(y_test, predictions)))\n",
    "print(\"Mean Absolute Error:\" + str(mean_absolute_error(y_test, predictions)))\n",
    "print(\n",
    "    \"Root Mean Squared Error:\" + str(np.sqrt(mean_squared_error(y_test, predictions)))\n",
    ")"
   ]
  },
  {
   "cell_type": "markdown",
   "metadata": {
    "colab_type": "text",
    "id": "uDzBCT1s3jtq"
   },
   "source": [
    "### Visually examine the results by creating a scatter plot where the x axis represents the observed results and the y axis represents the predictions."
   ]
  },
  {
   "cell_type": "code",
   "execution_count": 25,
   "metadata": {},
   "outputs": [
    {
     "data": {
      "application/javascript": [
       "\n",
       "            setTimeout(function() {\n",
       "                var nbb_cell_id = 25;\n",
       "                var nbb_unformatted_code = \"results = pd.DataFrame([list(y_test), predictions], index=[\\\"Actual\\\", \\\"Predicted\\\"]).T\";\n",
       "                var nbb_formatted_code = \"results = pd.DataFrame([list(y_test), predictions], index=[\\\"Actual\\\", \\\"Predicted\\\"]).T\";\n",
       "                var nbb_cells = Jupyter.notebook.get_cells();\n",
       "                for (var i = 0; i < nbb_cells.length; ++i) {\n",
       "                    if (nbb_cells[i].input_prompt_number == nbb_cell_id) {\n",
       "                        if (nbb_cells[i].get_text() == nbb_unformatted_code) {\n",
       "                             nbb_cells[i].set_text(nbb_formatted_code);\n",
       "                        }\n",
       "                        break;\n",
       "                    }\n",
       "                }\n",
       "            }, 500);\n",
       "            "
      ],
      "text/plain": [
       "<IPython.core.display.Javascript object>"
      ]
     },
     "metadata": {},
     "output_type": "display_data"
    }
   ],
   "source": [
    "results = pd.DataFrame([list(y_test), predictions], index=[\"Actual\", \"Predicted\"]).T"
   ]
  },
  {
   "cell_type": "code",
   "execution_count": 27,
   "metadata": {
    "colab": {},
    "colab_type": "code",
    "id": "3nO-Njm13jtr"
   },
   "outputs": [
    {
     "data": {
      "application/vnd.plotly.v1+json": {
       "config": {
        "plotlyServerURL": "https://plot.ly"
       },
       "data": [
        {
         "hovertemplate": "x=%{x}<br>y=%{y}<extra></extra>",
         "legendgroup": "",
         "marker": {
          "color": "#1F77B4",
          "line": {
           "color": "black",
           "width": 1
          },
          "symbol": "circle"
         },
         "mode": "markers",
         "name": "",
         "orientation": "v",
         "showlegend": false,
         "type": "scatter",
         "x": [
          96.23,
          166.54,
          47.8428,
          194.1,
          194.95,
          64.4542,
          179.23,
          99.5,
          43.6642,
          106.11,
          97.3,
          181.74,
          150.18,
          97.32,
          51.8714,
          51.3671,
          108.92,
          85.89,
          52.0714,
          93.99,
          54.0142,
          82.79,
          65.5728,
          274.6,
          117.63,
          139.53,
          123.24,
          62.0514,
          141.94,
          143.11,
          89.1513,
          43.4277,
          156.38,
          60.4414,
          101.58,
          195.13,
          95.83,
          102.68,
          182.35,
          165.61,
          38.5357,
          183.6,
          157.75,
          196.43,
          52.7099,
          64.1299,
          45.9557,
          52.2571,
          87.91,
          44.8871,
          49.17,
          80.7928,
          152.38,
          47.4485,
          115.19,
          89.0028,
          107.06,
          198,
          120.22,
          106.56,
          154.89,
          64.1014,
          54.1285,
          105.8,
          93.6356,
          101.12,
          59.5271,
          68.4799,
          195.05,
          209.99,
          168.13,
          141.43,
          95.44,
          52.2842,
          183.6,
          35.5885,
          59.1542,
          188.82,
          108.4,
          92.2313,
          121.15,
          89.71,
          131.81,
          61.9985,
          57.4785,
          113.59,
          94.98,
          220.46,
          99.12,
          125.37,
          185.2,
          60.2499,
          122.83,
          47.1485,
          65.8028,
          98.36,
          99.89,
          48.5885,
          45.4485,
          94.89,
          63.4585,
          157.02,
          124.22,
          66.6771,
          96.09,
          146.47,
          35.6014,
          182.68,
          47.3442,
          59.7885,
          116.71,
          131.07,
          111.51,
          90.4599,
          62.6542,
          90.74,
          180.7,
          49.5914,
          48.6642,
          254.26,
          96.59,
          91.61,
          186.82,
          92.04,
          49.1528,
          137.39,
          109.96,
          63.3785,
          48.5028,
          45.7914,
          65.6485,
          98.39,
          145.11,
          125.36,
          53.3328,
          120.51,
          128.35,
          90.02,
          91.93,
          64.7185,
          59.3142,
          93.75,
          60.6657,
          64.2228,
          95.1,
          95.97,
          162.43,
          145.17,
          45.4514,
          101.087,
          163.22,
          98.55,
          152.67,
          157.5,
          145.83,
          123.71,
          142.13,
          152.72,
          125.36,
          99.18,
          107.66,
          187.58,
          36.2014,
          200.13,
          79.4999,
          97.36,
          103.76,
          50.1657,
          68.4756,
          63.4528,
          126.47,
          199.32,
          49.35,
          193.77,
          93.93,
          114.78,
          45.2057,
          48.4971,
          91.49,
          94.2713,
          50.8957,
          144.35,
          57.7742,
          60.3671,
          58.4685,
          79.7706,
          264.56,
          130.5,
          96.4142,
          101.47,
          99.05,
          62.6114,
          107.89,
          95.89,
          123.33,
          188.15,
          68.3142,
          103.65,
          67.9542,
          98.35,
          48.2285,
          66.8071,
          51.8314,
          67.4056,
          69.1985,
          123.8,
          54.6828,
          108.33,
          60.6114,
          67.7999,
          61.4285,
          179.38,
          89.55,
          180.27,
          56.1099,
          125.03,
          67.1371,
          53.8199,
          66.6942,
          151.76,
          183.64,
          195.08,
          48.7128,
          61.4657,
          126.57,
          63.2542,
          95.2728,
          89.5071
         ],
         "xaxis": "x",
         "y": [
          105.25041820652177,
          168.899696969697,
          50.096478481012646,
          188.77733333333333,
          188.77733333333333,
          64.5541140449439,
          179.23818181818177,
          107.78152882205535,
          50.096478481012646,
          117.46083638211412,
          104.54025049751232,
          184.24642857142865,
          159.5716666666667,
          112.75640301724142,
          50.143738461538426,
          50.18976197183095,
          115.87377883211677,
          107.78152882205535,
          60.49836428571424,
          110.09936768149888,
          68.65823862068966,
          103.49942550200792,
          68.65823862068966,
          270.03384615384624,
          110.11086021505378,
          129.70502325581404,
          118.27461927437581,
          62.20334178571433,
          131.11647058823547,
          138.35751515151506,
          69.67166778523494,
          50.096478481012646,
          149.77333333333334,
          53.39814210526316,
          105.82024875621902,
          191.79857142857145,
          100.1108495798317,
          103.28293866995067,
          185.20590909090907,
          151.18833333333336,
          50.096478481012646,
          166.58517857142854,
          149.77333333333334,
          191.79857142857145,
          50.18976197183095,
          53.369120000000024,
          50.096478481012646,
          50.143738461538426,
          104.54025049751232,
          60.49836428571424,
          62.04616230366497,
          70.52477222222227,
          151.01164383561644,
          50.18976197183095,
          103.01139654377877,
          77.72077916666686,
          103.9618912195121,
          191.7304,
          115.00941451990631,
          103.01139654377877,
          159.7353571428571,
          53.369120000000024,
          60.49836428571424,
          114.89746189427309,
          103.01139654377877,
          103.65498670360128,
          64.83878557213926,
          66.32699872611474,
          189.26232142857137,
          201.45764705882354,
          168.76121212121214,
          131.11647058823547,
          103.01139654377877,
          67.89023905325446,
          179.5863157894737,
          50.096478481012646,
          66.50575194805194,
          189.26232142857137,
          96.6346511627907,
          103.01139654377877,
          107.78152882205535,
          103.49942550200792,
          110.09936768149888,
          50.59001223021584,
          64.83878557213926,
          103.39714319999997,
          96.30264957264956,
          220.0725,
          107.78152882205535,
          112.75640301724142,
          188.43769230769232,
          64.5541140449439,
          118.27461927437581,
          50.18976197183095,
          51.892034020618574,
          103.01139654377877,
          102.62228112676073,
          55.07461785714285,
          50.096478481012646,
          102.26078995098052,
          53.369120000000024,
          148.78279569892473,
          117.68354290030206,
          51.7472175824176,
          102.62228112676073,
          138.35751515151506,
          50.096478481012646,
          182.62272727272727,
          58.99231221374053,
          64.83878557213926,
          105.76663211678826,
          112.7197211155379,
          97.4214025210084,
          103.01139654377877,
          67.01122922374434,
          103.49942550200792,
          186.18254901960776,
          54.0582589211618,
          59.02185254237296,
          269.67500000000007,
          109.56805857142871,
          110.09936768149888,
          188.77733333333333,
          107.78152882205535,
          56.476965467625924,
          121.09541450777216,
          103.49942550200792,
          53.369120000000024,
          50.143738461538426,
          52.35425000000001,
          60.49836428571424,
          103.49942550200792,
          132.96600961538456,
          109.56805857142871,
          50.18976197183095,
          110.09936768149888,
          112.24291827160478,
          100.1108495798317,
          105.19848484848482,
          50.91033921568628,
          58.99231221374053,
          102.62228112676073,
          64.83878557213926,
          64.83878557213926,
          98.28959349593492,
          103.39714319999997,
          150.55200000000002,
          137.8648571428572,
          50.096478481012646,
          103.39714319999997,
          150.55200000000002,
          102.62228112676073,
          159.08625,
          159.69666666666666,
          132.30021276595753,
          107.78152882205535,
          131.11647058823547,
          151.18833333333336,
          112.7197211155379,
          112.24291827160478,
          103.49942550200792,
          189.26232142857137,
          50.096478481012646,
          189.96343749999997,
          68.82346390532553,
          113.35204166666678,
          117.68354290030206,
          69.77715615384619,
          68.82346390532553,
          64.83878557213926,
          112.75640301724142,
          189.96343749999997,
          52.50789586776863,
          192.10133333333334,
          109.56805857142871,
          104.54025049751232,
          64.83878557213926,
          64.83878557213926,
          103.01139654377877,
          103.01139654377877,
          50.18976197183095,
          138.35751515151506,
          50.59001223021584,
          62.20334178571433,
          53.369120000000024,
          69.77715615384619,
          267.49399999999997,
          114.23850574712674,
          103.01139654377877,
          111.9760776699032,
          102.26078995098052,
          64.83878557213926,
          107.78152882205535,
          108.85107982062782,
          112.75640301724142,
          189.26232142857137,
          52.72615303030301,
          113.35204166666678,
          68.82346390532553,
          117.46083638211412,
          50.096478481012646,
          52.72615303030301,
          50.143738461538426,
          52.72615303030301,
          68.53570460526326,
          112.7197211155379,
          69.77715615384619,
          112.75640301724142,
          62.20334178571433,
          52.72615303030301,
          52.72615303030301,
          185.58153846153849,
          102.26078995098052,
          179.23818181818177,
          69.67166778523494,
          118.27461927437581,
          52.72615303030301,
          50.18976197183095,
          67.89023905325446,
          151.01164383561644,
          185.20590909090907,
          191.7304,
          50.18976197183095,
          53.369120000000024,
          112.75640301724142,
          70.19284275362318,
          103.01139654377877,
          70.79939022556398
         ],
         "yaxis": "y"
        }
       ],
       "layout": {
        "legend": {
         "tracegroupgap": 0
        },
        "margin": {
         "t": 60
        },
        "template": {
         "data": {
          "scatter": [
           {
            "type": "scatter"
           }
          ]
         }
        },
        "xaxis": {
         "anchor": "y",
         "domain": [
          0,
          1
         ],
         "title": {
          "text": "x"
         }
        },
        "yaxis": {
         "anchor": "x",
         "domain": [
          0,
          1
         ],
         "title": {
          "text": "y"
         }
        }
       }
      },
      "text/html": [
       "<div>\n",
       "        \n",
       "        \n",
       "            <div id=\"0c81d503-9a6b-4499-ad18-fce38aedf68e\" class=\"plotly-graph-div\" style=\"height:525px; width:100%;\"></div>\n",
       "            <script type=\"text/javascript\">\n",
       "                require([\"plotly\"], function(Plotly) {\n",
       "                    window.PLOTLYENV=window.PLOTLYENV || {};\n",
       "                    \n",
       "                if (document.getElementById(\"0c81d503-9a6b-4499-ad18-fce38aedf68e\")) {\n",
       "                    Plotly.newPlot(\n",
       "                        '0c81d503-9a6b-4499-ad18-fce38aedf68e',\n",
       "                        [{\"hovertemplate\": \"x=%{x}<br>y=%{y}<extra></extra>\", \"legendgroup\": \"\", \"marker\": {\"color\": \"#1F77B4\", \"line\": {\"color\": \"black\", \"width\": 1}, \"symbol\": \"circle\"}, \"mode\": \"markers\", \"name\": \"\", \"orientation\": \"v\", \"showlegend\": false, \"type\": \"scatter\", \"x\": [96.23, 166.54, 47.8428, 194.1, 194.95, 64.4542, 179.23, 99.5, 43.6642, 106.11, 97.3, 181.74, 150.18, 97.32, 51.8714, 51.3671, 108.92, 85.89, 52.0714, 93.99, 54.0142, 82.79, 65.5728, 274.6, 117.63, 139.53, 123.24, 62.0514, 141.94, 143.11, 89.1513, 43.4277, 156.38, 60.4414, 101.58, 195.13, 95.83, 102.68, 182.35, 165.61, 38.5357, 183.6, 157.75, 196.43, 52.7099, 64.1299, 45.9557, 52.2571, 87.91, 44.8871, 49.17, 80.7928, 152.38, 47.4485, 115.19, 89.0028, 107.06, 198.0, 120.22, 106.56, 154.89, 64.1014, 54.1285, 105.8, 93.6356, 101.12, 59.5271, 68.4799, 195.05, 209.99, 168.13, 141.43, 95.44, 52.2842, 183.6, 35.5885, 59.1542, 188.82, 108.4, 92.2313, 121.15, 89.71, 131.81, 61.9985, 57.4785, 113.59, 94.98, 220.46, 99.12, 125.37, 185.2, 60.2499, 122.83, 47.1485, 65.8028, 98.36, 99.89, 48.5885, 45.4485, 94.89, 63.4585, 157.02, 124.22, 66.6771, 96.09, 146.47, 35.6014, 182.68, 47.3442, 59.7885, 116.71, 131.07, 111.51, 90.4599, 62.6542, 90.74, 180.7, 49.5914, 48.6642, 254.26, 96.59, 91.61, 186.82, 92.04, 49.1528, 137.39, 109.96, 63.3785, 48.5028, 45.7914, 65.6485, 98.39, 145.11, 125.36, 53.3328, 120.51, 128.35, 90.02, 91.93, 64.7185, 59.3142, 93.75, 60.6657, 64.2228, 95.1, 95.97, 162.43, 145.17, 45.4514, 101.087, 163.22, 98.55, 152.67, 157.5, 145.83, 123.71, 142.13, 152.72, 125.36, 99.18, 107.66, 187.58, 36.2014, 200.13, 79.4999, 97.36, 103.76, 50.1657, 68.4756, 63.4528, 126.47, 199.32, 49.35, 193.77, 93.93, 114.78, 45.2057, 48.4971, 91.49, 94.2713, 50.8957, 144.35, 57.7742, 60.3671, 58.4685, 79.7706, 264.56, 130.5, 96.4142, 101.47, 99.05, 62.6114, 107.89, 95.89, 123.33, 188.15, 68.3142, 103.65, 67.9542, 98.35, 48.2285, 66.8071, 51.8314, 67.4056, 69.1985, 123.8, 54.6828, 108.33, 60.6114, 67.7999, 61.4285, 179.38, 89.55, 180.27, 56.1099, 125.03, 67.1371, 53.8199, 66.6942, 151.76, 183.64, 195.08, 48.7128, 61.4657, 126.57, 63.2542, 95.2728, 89.5071], \"xaxis\": \"x\", \"y\": [105.25041820652177, 168.899696969697, 50.096478481012646, 188.77733333333333, 188.77733333333333, 64.5541140449439, 179.23818181818177, 107.78152882205535, 50.096478481012646, 117.46083638211412, 104.54025049751232, 184.24642857142865, 159.5716666666667, 112.75640301724142, 50.143738461538426, 50.18976197183095, 115.87377883211677, 107.78152882205535, 60.49836428571424, 110.09936768149888, 68.65823862068966, 103.49942550200792, 68.65823862068966, 270.03384615384624, 110.11086021505378, 129.70502325581404, 118.27461927437581, 62.20334178571433, 131.11647058823547, 138.35751515151506, 69.67166778523494, 50.096478481012646, 149.77333333333334, 53.39814210526316, 105.82024875621902, 191.79857142857145, 100.1108495798317, 103.28293866995067, 185.20590909090907, 151.18833333333336, 50.096478481012646, 166.58517857142854, 149.77333333333334, 191.79857142857145, 50.18976197183095, 53.369120000000024, 50.096478481012646, 50.143738461538426, 104.54025049751232, 60.49836428571424, 62.04616230366497, 70.52477222222227, 151.01164383561644, 50.18976197183095, 103.01139654377877, 77.72077916666686, 103.9618912195121, 191.7304, 115.00941451990631, 103.01139654377877, 159.7353571428571, 53.369120000000024, 60.49836428571424, 114.89746189427309, 103.01139654377877, 103.65498670360128, 64.83878557213926, 66.32699872611474, 189.26232142857137, 201.45764705882354, 168.76121212121214, 131.11647058823547, 103.01139654377877, 67.89023905325446, 179.5863157894737, 50.096478481012646, 66.50575194805194, 189.26232142857137, 96.6346511627907, 103.01139654377877, 107.78152882205535, 103.49942550200792, 110.09936768149888, 50.59001223021584, 64.83878557213926, 103.39714319999997, 96.30264957264956, 220.0725, 107.78152882205535, 112.75640301724142, 188.43769230769232, 64.5541140449439, 118.27461927437581, 50.18976197183095, 51.892034020618574, 103.01139654377877, 102.62228112676073, 55.07461785714285, 50.096478481012646, 102.26078995098052, 53.369120000000024, 148.78279569892473, 117.68354290030206, 51.7472175824176, 102.62228112676073, 138.35751515151506, 50.096478481012646, 182.62272727272727, 58.99231221374053, 64.83878557213926, 105.76663211678826, 112.7197211155379, 97.4214025210084, 103.01139654377877, 67.01122922374434, 103.49942550200792, 186.18254901960776, 54.0582589211618, 59.02185254237296, 269.67500000000007, 109.56805857142871, 110.09936768149888, 188.77733333333333, 107.78152882205535, 56.476965467625924, 121.09541450777216, 103.49942550200792, 53.369120000000024, 50.143738461538426, 52.35425000000001, 60.49836428571424, 103.49942550200792, 132.96600961538456, 109.56805857142871, 50.18976197183095, 110.09936768149888, 112.24291827160478, 100.1108495798317, 105.19848484848482, 50.91033921568628, 58.99231221374053, 102.62228112676073, 64.83878557213926, 64.83878557213926, 98.28959349593492, 103.39714319999997, 150.55200000000002, 137.8648571428572, 50.096478481012646, 103.39714319999997, 150.55200000000002, 102.62228112676073, 159.08625, 159.69666666666666, 132.30021276595753, 107.78152882205535, 131.11647058823547, 151.18833333333336, 112.7197211155379, 112.24291827160478, 103.49942550200792, 189.26232142857137, 50.096478481012646, 189.96343749999997, 68.82346390532553, 113.35204166666678, 117.68354290030206, 69.77715615384619, 68.82346390532553, 64.83878557213926, 112.75640301724142, 189.96343749999997, 52.50789586776863, 192.10133333333334, 109.56805857142871, 104.54025049751232, 64.83878557213926, 64.83878557213926, 103.01139654377877, 103.01139654377877, 50.18976197183095, 138.35751515151506, 50.59001223021584, 62.20334178571433, 53.369120000000024, 69.77715615384619, 267.49399999999997, 114.23850574712674, 103.01139654377877, 111.9760776699032, 102.26078995098052, 64.83878557213926, 107.78152882205535, 108.85107982062782, 112.75640301724142, 189.26232142857137, 52.72615303030301, 113.35204166666678, 68.82346390532553, 117.46083638211412, 50.096478481012646, 52.72615303030301, 50.143738461538426, 52.72615303030301, 68.53570460526326, 112.7197211155379, 69.77715615384619, 112.75640301724142, 62.20334178571433, 52.72615303030301, 52.72615303030301, 185.58153846153849, 102.26078995098052, 179.23818181818177, 69.67166778523494, 118.27461927437581, 52.72615303030301, 50.18976197183095, 67.89023905325446, 151.01164383561644, 185.20590909090907, 191.7304, 50.18976197183095, 53.369120000000024, 112.75640301724142, 70.19284275362318, 103.01139654377877, 70.79939022556398], \"yaxis\": \"y\"}],\n",
       "                        {\"legend\": {\"tracegroupgap\": 0}, \"margin\": {\"t\": 60}, \"template\": {\"data\": {\"scatter\": [{\"type\": \"scatter\"}]}}, \"xaxis\": {\"anchor\": \"y\", \"domain\": [0.0, 1.0], \"title\": {\"text\": \"x\"}}, \"yaxis\": {\"anchor\": \"x\", \"domain\": [0.0, 1.0], \"title\": {\"text\": \"y\"}}},\n",
       "                        {\"responsive\": true}\n",
       "                    ).then(function(){\n",
       "                            \n",
       "var gd = document.getElementById('0c81d503-9a6b-4499-ad18-fce38aedf68e');\n",
       "var x = new MutationObserver(function (mutations, observer) {{\n",
       "        var display = window.getComputedStyle(gd).display;\n",
       "        if (!display || display === 'none') {{\n",
       "            console.log([gd, 'removed!']);\n",
       "            Plotly.purge(gd);\n",
       "            observer.disconnect();\n",
       "        }}\n",
       "}});\n",
       "\n",
       "// Listen for the removal of the full notebook cells\n",
       "var notebookContainer = gd.closest('#notebook-container');\n",
       "if (notebookContainer) {{\n",
       "    x.observe(notebookContainer, {childList: true});\n",
       "}}\n",
       "\n",
       "// Listen for the clearing of the current output cell\n",
       "var outputEl = gd.closest('.output');\n",
       "if (outputEl) {{\n",
       "    x.observe(outputEl, {childList: true});\n",
       "}}\n",
       "\n",
       "                        })\n",
       "                };\n",
       "                });\n",
       "            </script>\n",
       "        </div>"
      ]
     },
     "metadata": {},
     "output_type": "display_data"
    },
    {
     "data": {
      "application/javascript": [
       "\n",
       "            setTimeout(function() {\n",
       "                var nbb_cell_id = 27;\n",
       "                var nbb_unformatted_code = \"iscatter(results, y_test, predictions)\";\n",
       "                var nbb_formatted_code = \"iscatter(results, y_test, predictions)\";\n",
       "                var nbb_cells = Jupyter.notebook.get_cells();\n",
       "                for (var i = 0; i < nbb_cells.length; ++i) {\n",
       "                    if (nbb_cells[i].input_prompt_number == nbb_cell_id) {\n",
       "                        if (nbb_cells[i].get_text() == nbb_unformatted_code) {\n",
       "                             nbb_cells[i].set_text(nbb_formatted_code);\n",
       "                        }\n",
       "                        break;\n",
       "                    }\n",
       "                }\n",
       "            }, 500);\n",
       "            "
      ],
      "text/plain": [
       "<IPython.core.display.Javascript object>"
      ]
     },
     "metadata": {},
     "output_type": "display_data"
    }
   ],
   "source": [
    "iscatter(results, y_test, predictions)"
   ]
  }
 ],
 "metadata": {
  "colab": {
   "name": "Time Series Day 5 Morning Assignment.ipynb",
   "provenance": []
  },
  "kernelspec": {
   "display_name": "Python 3",
   "language": "python",
   "name": "python3"
  },
  "language_info": {
   "codemirror_mode": {
    "name": "ipython",
    "version": 3
   },
   "file_extension": ".py",
   "mimetype": "text/x-python",
   "name": "python",
   "nbconvert_exporter": "python",
   "pygments_lexer": "ipython3",
   "version": "3.7.6"
  }
 },
 "nbformat": 4,
 "nbformat_minor": 1
}
