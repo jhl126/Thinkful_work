{
 "cells": [
  {
   "cell_type": "markdown",
   "metadata": {
    "colab_type": "text",
    "id": "11QJImz-qfRa"
   },
   "source": [
    "# Time Series Classification and Clustering Assignment"
   ]
  },
  {
   "cell_type": "code",
   "execution_count": 1,
   "metadata": {
    "colab": {},
    "colab_type": "code",
    "id": "KqJPmihAqfRe"
   },
   "outputs": [
    {
     "data": {
      "application/javascript": [
       "\n",
       "            setTimeout(function() {\n",
       "                var nbb_cell_id = 1;\n",
       "                var nbb_unformatted_code = \"%reload_ext nb_black\\nimport pandas as pd\\nimport seaborn as sns\\nimport matplotlib.pyplot as plt\\nfrom sklearn.model_selection import train_test_split\\nfrom sklearn.linear_model import LogisticRegression\\nfrom sklearn.metrics import classification_report\\nfrom sklearn.cluster import KMeans\";\n",
       "                var nbb_formatted_code = \"%reload_ext nb_black\\nimport pandas as pd\\nimport seaborn as sns\\nimport matplotlib.pyplot as plt\\nfrom sklearn.model_selection import train_test_split\\nfrom sklearn.linear_model import LogisticRegression\\nfrom sklearn.metrics import classification_report\\nfrom sklearn.cluster import KMeans\";\n",
       "                var nbb_cells = Jupyter.notebook.get_cells();\n",
       "                for (var i = 0; i < nbb_cells.length; ++i) {\n",
       "                    if (nbb_cells[i].input_prompt_number == nbb_cell_id) {\n",
       "                        if (nbb_cells[i].get_text() == nbb_unformatted_code) {\n",
       "                             nbb_cells[i].set_text(nbb_formatted_code);\n",
       "                        }\n",
       "                        break;\n",
       "                    }\n",
       "                }\n",
       "            }, 500);\n",
       "            "
      ],
      "text/plain": [
       "<IPython.core.display.Javascript object>"
      ]
     },
     "metadata": {},
     "output_type": "display_data"
    }
   ],
   "source": [
    "%reload_ext nb_black\n",
    "import pandas as pd\n",
    "import seaborn as sns\n",
    "import matplotlib.pyplot as plt\n",
    "from sklearn.model_selection import train_test_split\n",
    "from sklearn.linear_model import LogisticRegression\n",
    "from sklearn.metrics import classification_report\n",
    "from sklearn.cluster import KMeans"
   ]
  },
  {
   "cell_type": "markdown",
   "metadata": {
    "colab_type": "text",
    "id": "3a4A4KfMqfRj"
   },
   "source": [
    "### Import the Walmart stock price data set (WMT_data.csv)."
   ]
  },
  {
   "cell_type": "code",
   "execution_count": 2,
   "metadata": {
    "colab": {},
    "colab_type": "code",
    "id": "hvnc07SXqfRk"
   },
   "outputs": [
    {
     "data": {
      "application/javascript": [
       "\n",
       "            setTimeout(function() {\n",
       "                var nbb_cell_id = 2;\n",
       "                var nbb_unformatted_code = \"data = pd.read_csv('https://tf-assets-prod.s3.amazonaws.com/tf-curric/data-science/Data%20Sets%20Time%20Series%20Analysis/Time%20Series%20-%20Day%205/WMT_data.csv')\";\n",
       "                var nbb_formatted_code = \"data = pd.read_csv(\\n    \\\"https://tf-assets-prod.s3.amazonaws.com/tf-curric/data-science/Data%20Sets%20Time%20Series%20Analysis/Time%20Series%20-%20Day%205/WMT_data.csv\\\"\\n)\";\n",
       "                var nbb_cells = Jupyter.notebook.get_cells();\n",
       "                for (var i = 0; i < nbb_cells.length; ++i) {\n",
       "                    if (nbb_cells[i].input_prompt_number == nbb_cell_id) {\n",
       "                        if (nbb_cells[i].get_text() == nbb_unformatted_code) {\n",
       "                             nbb_cells[i].set_text(nbb_formatted_code);\n",
       "                        }\n",
       "                        break;\n",
       "                    }\n",
       "                }\n",
       "            }, 500);\n",
       "            "
      ],
      "text/plain": [
       "<IPython.core.display.Javascript object>"
      ]
     },
     "metadata": {},
     "output_type": "display_data"
    }
   ],
   "source": [
    "data = pd.read_csv(\n",
    "    \"https://tf-assets-prod.s3.amazonaws.com/tf-curric/data-science/Data%20Sets%20Time%20Series%20Analysis/Time%20Series%20-%20Day%205/WMT_data.csv\"\n",
    ")"
   ]
  },
  {
   "cell_type": "code",
   "execution_count": 3,
   "metadata": {},
   "outputs": [
    {
     "data": {
      "text/html": [
       "<div>\n",
       "<style scoped>\n",
       "    .dataframe tbody tr th:only-of-type {\n",
       "        vertical-align: middle;\n",
       "    }\n",
       "\n",
       "    .dataframe tbody tr th {\n",
       "        vertical-align: top;\n",
       "    }\n",
       "\n",
       "    .dataframe thead th {\n",
       "        text-align: right;\n",
       "    }\n",
       "</style>\n",
       "<table border=\"1\" class=\"dataframe\">\n",
       "  <thead>\n",
       "    <tr style=\"text-align: right;\">\n",
       "      <th></th>\n",
       "      <th>date</th>\n",
       "      <th>open</th>\n",
       "      <th>high</th>\n",
       "      <th>low</th>\n",
       "      <th>close</th>\n",
       "      <th>volume</th>\n",
       "      <th>Name</th>\n",
       "    </tr>\n",
       "  </thead>\n",
       "  <tbody>\n",
       "    <tr>\n",
       "      <th>0</th>\n",
       "      <td>2013-02-08</td>\n",
       "      <td>71.20</td>\n",
       "      <td>71.64</td>\n",
       "      <td>71.070</td>\n",
       "      <td>71.48</td>\n",
       "      <td>5906823</td>\n",
       "      <td>WMT</td>\n",
       "    </tr>\n",
       "    <tr>\n",
       "      <th>1</th>\n",
       "      <td>2013-02-11</td>\n",
       "      <td>71.25</td>\n",
       "      <td>71.51</td>\n",
       "      <td>70.530</td>\n",
       "      <td>71.40</td>\n",
       "      <td>6202534</td>\n",
       "      <td>WMT</td>\n",
       "    </tr>\n",
       "    <tr>\n",
       "      <th>2</th>\n",
       "      <td>2013-02-12</td>\n",
       "      <td>71.49</td>\n",
       "      <td>71.66</td>\n",
       "      <td>71.100</td>\n",
       "      <td>71.40</td>\n",
       "      <td>4761910</td>\n",
       "      <td>WMT</td>\n",
       "    </tr>\n",
       "    <tr>\n",
       "      <th>3</th>\n",
       "      <td>2013-02-13</td>\n",
       "      <td>71.29</td>\n",
       "      <td>71.70</td>\n",
       "      <td>71.210</td>\n",
       "      <td>71.39</td>\n",
       "      <td>3969807</td>\n",
       "      <td>WMT</td>\n",
       "    </tr>\n",
       "    <tr>\n",
       "      <th>4</th>\n",
       "      <td>2013-02-14</td>\n",
       "      <td>71.10</td>\n",
       "      <td>71.23</td>\n",
       "      <td>70.755</td>\n",
       "      <td>70.82</td>\n",
       "      <td>6820952</td>\n",
       "      <td>WMT</td>\n",
       "    </tr>\n",
       "  </tbody>\n",
       "</table>\n",
       "</div>"
      ],
      "text/plain": [
       "         date   open   high     low  close   volume Name\n",
       "0  2013-02-08  71.20  71.64  71.070  71.48  5906823  WMT\n",
       "1  2013-02-11  71.25  71.51  70.530  71.40  6202534  WMT\n",
       "2  2013-02-12  71.49  71.66  71.100  71.40  4761910  WMT\n",
       "3  2013-02-13  71.29  71.70  71.210  71.39  3969807  WMT\n",
       "4  2013-02-14  71.10  71.23  70.755  70.82  6820952  WMT"
      ]
     },
     "execution_count": 3,
     "metadata": {},
     "output_type": "execute_result"
    },
    {
     "data": {
      "application/javascript": [
       "\n",
       "            setTimeout(function() {\n",
       "                var nbb_cell_id = 3;\n",
       "                var nbb_unformatted_code = \"data.head()\";\n",
       "                var nbb_formatted_code = \"data.head()\";\n",
       "                var nbb_cells = Jupyter.notebook.get_cells();\n",
       "                for (var i = 0; i < nbb_cells.length; ++i) {\n",
       "                    if (nbb_cells[i].input_prompt_number == nbb_cell_id) {\n",
       "                        if (nbb_cells[i].get_text() == nbb_unformatted_code) {\n",
       "                             nbb_cells[i].set_text(nbb_formatted_code);\n",
       "                        }\n",
       "                        break;\n",
       "                    }\n",
       "                }\n",
       "            }, 500);\n",
       "            "
      ],
      "text/plain": [
       "<IPython.core.display.Javascript object>"
      ]
     },
     "metadata": {},
     "output_type": "display_data"
    }
   ],
   "source": [
    "data.head()"
   ]
  },
  {
   "cell_type": "markdown",
   "metadata": {
    "colab_type": "text",
    "id": "DHZVCl9QqfRn"
   },
   "source": [
    "### Transform the data to be able to predict minor direction changes in the stock's price, given 180 days of history.\n",
    "\n",
    "- Remember to calculate daily returns from the observed values (closing price).\n",
    "- Make the critera for identifying a direction change when the observed values (closing price) cross the 5 day moving average.\n",
    "- Create a binary column that defaults to 0 unless the criteria is met (then updates to 1).\n",
    "- Shift the data set so that you have 180 days of history for each record."
   ]
  },
  {
   "cell_type": "code",
   "execution_count": 4,
   "metadata": {
    "colab": {},
    "colab_type": "code",
    "id": "FBRXlgH8qfRo"
   },
   "outputs": [
    {
     "data": {
      "text/html": [
       "<div>\n",
       "<style scoped>\n",
       "    .dataframe tbody tr th:only-of-type {\n",
       "        vertical-align: middle;\n",
       "    }\n",
       "\n",
       "    .dataframe tbody tr th {\n",
       "        vertical-align: top;\n",
       "    }\n",
       "\n",
       "    .dataframe thead th {\n",
       "        text-align: right;\n",
       "    }\n",
       "</style>\n",
       "<table border=\"1\" class=\"dataframe\">\n",
       "  <thead>\n",
       "    <tr style=\"text-align: right;\">\n",
       "      <th></th>\n",
       "      <th>Date</th>\n",
       "      <th>Open</th>\n",
       "      <th>High</th>\n",
       "      <th>Low</th>\n",
       "      <th>Observed</th>\n",
       "      <th>Volume</th>\n",
       "      <th>Ticker</th>\n",
       "    </tr>\n",
       "  </thead>\n",
       "  <tbody>\n",
       "    <tr>\n",
       "      <th>0</th>\n",
       "      <td>2013-02-08</td>\n",
       "      <td>71.20</td>\n",
       "      <td>71.64</td>\n",
       "      <td>71.070</td>\n",
       "      <td>71.48</td>\n",
       "      <td>5906823</td>\n",
       "      <td>WMT</td>\n",
       "    </tr>\n",
       "    <tr>\n",
       "      <th>1</th>\n",
       "      <td>2013-02-11</td>\n",
       "      <td>71.25</td>\n",
       "      <td>71.51</td>\n",
       "      <td>70.530</td>\n",
       "      <td>71.40</td>\n",
       "      <td>6202534</td>\n",
       "      <td>WMT</td>\n",
       "    </tr>\n",
       "    <tr>\n",
       "      <th>2</th>\n",
       "      <td>2013-02-12</td>\n",
       "      <td>71.49</td>\n",
       "      <td>71.66</td>\n",
       "      <td>71.100</td>\n",
       "      <td>71.40</td>\n",
       "      <td>4761910</td>\n",
       "      <td>WMT</td>\n",
       "    </tr>\n",
       "    <tr>\n",
       "      <th>3</th>\n",
       "      <td>2013-02-13</td>\n",
       "      <td>71.29</td>\n",
       "      <td>71.70</td>\n",
       "      <td>71.210</td>\n",
       "      <td>71.39</td>\n",
       "      <td>3969807</td>\n",
       "      <td>WMT</td>\n",
       "    </tr>\n",
       "    <tr>\n",
       "      <th>4</th>\n",
       "      <td>2013-02-14</td>\n",
       "      <td>71.10</td>\n",
       "      <td>71.23</td>\n",
       "      <td>70.755</td>\n",
       "      <td>70.82</td>\n",
       "      <td>6820952</td>\n",
       "      <td>WMT</td>\n",
       "    </tr>\n",
       "  </tbody>\n",
       "</table>\n",
       "</div>"
      ],
      "text/plain": [
       "        Date   Open   High     Low  Observed   Volume Ticker\n",
       "0 2013-02-08  71.20  71.64  71.070     71.48  5906823    WMT\n",
       "1 2013-02-11  71.25  71.51  70.530     71.40  6202534    WMT\n",
       "2 2013-02-12  71.49  71.66  71.100     71.40  4761910    WMT\n",
       "3 2013-02-13  71.29  71.70  71.210     71.39  3969807    WMT\n",
       "4 2013-02-14  71.10  71.23  70.755     70.82  6820952    WMT"
      ]
     },
     "execution_count": 4,
     "metadata": {},
     "output_type": "execute_result"
    },
    {
     "data": {
      "application/javascript": [
       "\n",
       "            setTimeout(function() {\n",
       "                var nbb_cell_id = 4;\n",
       "                var nbb_unformatted_code = \"data['date'] = pd.to_datetime(data['date'])\\ndata.columns = ['Date','Open','High','Low','Observed','Volume','Ticker']\\ndata.head()\";\n",
       "                var nbb_formatted_code = \"data[\\\"date\\\"] = pd.to_datetime(data[\\\"date\\\"])\\ndata.columns = [\\\"Date\\\", \\\"Open\\\", \\\"High\\\", \\\"Low\\\", \\\"Observed\\\", \\\"Volume\\\", \\\"Ticker\\\"]\\ndata.head()\";\n",
       "                var nbb_cells = Jupyter.notebook.get_cells();\n",
       "                for (var i = 0; i < nbb_cells.length; ++i) {\n",
       "                    if (nbb_cells[i].input_prompt_number == nbb_cell_id) {\n",
       "                        if (nbb_cells[i].get_text() == nbb_unformatted_code) {\n",
       "                             nbb_cells[i].set_text(nbb_formatted_code);\n",
       "                        }\n",
       "                        break;\n",
       "                    }\n",
       "                }\n",
       "            }, 500);\n",
       "            "
      ],
      "text/plain": [
       "<IPython.core.display.Javascript object>"
      ]
     },
     "metadata": {},
     "output_type": "display_data"
    }
   ],
   "source": [
    "data[\"date\"] = pd.to_datetime(data[\"date\"])\n",
    "data.columns = [\"Date\", \"Open\", \"High\", \"Low\", \"Observed\", \"Volume\", \"Ticker\"]\n",
    "data.head()"
   ]
  },
  {
   "cell_type": "code",
   "execution_count": 5,
   "metadata": {},
   "outputs": [
    {
     "data": {
      "text/plain": [
       "<matplotlib.axes._subplots.AxesSubplot at 0x2c9be341cc8>"
      ]
     },
     "execution_count": 5,
     "metadata": {},
     "output_type": "execute_result"
    },
    {
     "data": {
      "image/png": "[encoded data removed]",
      "text/plain": [
       "<Figure size 1440x720 with 1 Axes>"
      ]
     },
     "metadata": {
      "needs_background": "light"
     },
     "output_type": "display_data"
    },
    {
     "data": {
      "application/javascript": [
       "\n",
       "            setTimeout(function() {\n",
       "                var nbb_cell_id = 5;\n",
       "                var nbb_unformatted_code = \"data.set_index('Date')['Observed'].plot(figsize=(20,10))\";\n",
       "                var nbb_formatted_code = \"data.set_index(\\\"Date\\\")[\\\"Observed\\\"].plot(figsize=(20, 10))\";\n",
       "                var nbb_cells = Jupyter.notebook.get_cells();\n",
       "                for (var i = 0; i < nbb_cells.length; ++i) {\n",
       "                    if (nbb_cells[i].input_prompt_number == nbb_cell_id) {\n",
       "                        if (nbb_cells[i].get_text() == nbb_unformatted_code) {\n",
       "                             nbb_cells[i].set_text(nbb_formatted_code);\n",
       "                        }\n",
       "                        break;\n",
       "                    }\n",
       "                }\n",
       "            }, 500);\n",
       "            "
      ],
      "text/plain": [
       "<IPython.core.display.Javascript object>"
      ]
     },
     "metadata": {},
     "output_type": "display_data"
    }
   ],
   "source": [
    "data.set_index(\"Date\")[\"Observed\"].plot(figsize=(20, 10))"
   ]
  },
  {
   "cell_type": "code",
   "execution_count": 6,
   "metadata": {},
   "outputs": [
    {
     "data": {
      "text/html": [
       "<div>\n",
       "<style scoped>\n",
       "    .dataframe tbody tr th:only-of-type {\n",
       "        vertical-align: middle;\n",
       "    }\n",
       "\n",
       "    .dataframe tbody tr th {\n",
       "        vertical-align: top;\n",
       "    }\n",
       "\n",
       "    .dataframe thead th {\n",
       "        text-align: right;\n",
       "    }\n",
       "</style>\n",
       "<table border=\"1\" class=\"dataframe\">\n",
       "  <thead>\n",
       "    <tr style=\"text-align: right;\">\n",
       "      <th></th>\n",
       "      <th>Date</th>\n",
       "      <th>Open</th>\n",
       "      <th>High</th>\n",
       "      <th>Low</th>\n",
       "      <th>Observed</th>\n",
       "      <th>Volume</th>\n",
       "      <th>Ticker</th>\n",
       "      <th>Returns</th>\n",
       "      <th>MA_5</th>\n",
       "      <th>MA_10</th>\n",
       "      <th>Trend</th>\n",
       "      <th>Change</th>\n",
       "      <th>Binary</th>\n",
       "    </tr>\n",
       "  </thead>\n",
       "  <tbody>\n",
       "    <tr>\n",
       "      <th>1159</th>\n",
       "      <td>2017-09-15</td>\n",
       "      <td>79.81</td>\n",
       "      <td>80.75</td>\n",
       "      <td>79.27</td>\n",
       "      <td>80.38</td>\n",
       "      <td>13317757</td>\n",
       "      <td>WMT</td>\n",
       "      <td>0.008785</td>\n",
       "      <td>79.722</td>\n",
       "      <td>79.586</td>\n",
       "      <td>Positive</td>\n",
       "      <td>True</td>\n",
       "      <td>0</td>\n",
       "    </tr>\n",
       "    <tr>\n",
       "      <th>1160</th>\n",
       "      <td>2017-09-18</td>\n",
       "      <td>80.21</td>\n",
       "      <td>81.12</td>\n",
       "      <td>79.95</td>\n",
       "      <td>80.00</td>\n",
       "      <td>8176067</td>\n",
       "      <td>WMT</td>\n",
       "      <td>-0.004728</td>\n",
       "      <td>79.906</td>\n",
       "      <td>79.749</td>\n",
       "      <td>Positive</td>\n",
       "      <td>True</td>\n",
       "      <td>0</td>\n",
       "    </tr>\n",
       "    <tr>\n",
       "      <th>1161</th>\n",
       "      <td>2017-09-19</td>\n",
       "      <td>80.18</td>\n",
       "      <td>80.46</td>\n",
       "      <td>79.70</td>\n",
       "      <td>80.05</td>\n",
       "      <td>6174358</td>\n",
       "      <td>WMT</td>\n",
       "      <td>0.000625</td>\n",
       "      <td>79.994</td>\n",
       "      <td>79.774</td>\n",
       "      <td>Positive</td>\n",
       "      <td>True</td>\n",
       "      <td>0</td>\n",
       "    </tr>\n",
       "    <tr>\n",
       "      <th>1162</th>\n",
       "      <td>2017-09-20</td>\n",
       "      <td>80.17</td>\n",
       "      <td>80.56</td>\n",
       "      <td>79.87</td>\n",
       "      <td>80.50</td>\n",
       "      <td>5318194</td>\n",
       "      <td>WMT</td>\n",
       "      <td>0.005621</td>\n",
       "      <td>80.122</td>\n",
       "      <td>79.816</td>\n",
       "      <td>Positive</td>\n",
       "      <td>True</td>\n",
       "      <td>0</td>\n",
       "    </tr>\n",
       "    <tr>\n",
       "      <th>1163</th>\n",
       "      <td>2017-09-21</td>\n",
       "      <td>80.57</td>\n",
       "      <td>80.57</td>\n",
       "      <td>79.72</td>\n",
       "      <td>80.01</td>\n",
       "      <td>6430256</td>\n",
       "      <td>WMT</td>\n",
       "      <td>-0.006087</td>\n",
       "      <td>80.188</td>\n",
       "      <td>79.805</td>\n",
       "      <td>Positive</td>\n",
       "      <td>True</td>\n",
       "      <td>0</td>\n",
       "    </tr>\n",
       "    <tr>\n",
       "      <th>...</th>\n",
       "      <td>...</td>\n",
       "      <td>...</td>\n",
       "      <td>...</td>\n",
       "      <td>...</td>\n",
       "      <td>...</td>\n",
       "      <td>...</td>\n",
       "      <td>...</td>\n",
       "      <td>...</td>\n",
       "      <td>...</td>\n",
       "      <td>...</td>\n",
       "      <td>...</td>\n",
       "      <td>...</td>\n",
       "      <td>...</td>\n",
       "    </tr>\n",
       "    <tr>\n",
       "      <th>1254</th>\n",
       "      <td>2018-02-01</td>\n",
       "      <td>105.96</td>\n",
       "      <td>106.56</td>\n",
       "      <td>105.18</td>\n",
       "      <td>105.52</td>\n",
       "      <td>6386836</td>\n",
       "      <td>WMT</td>\n",
       "      <td>-0.010131</td>\n",
       "      <td>107.558</td>\n",
       "      <td>106.612</td>\n",
       "      <td>Positive</td>\n",
       "      <td>True</td>\n",
       "      <td>0</td>\n",
       "    </tr>\n",
       "    <tr>\n",
       "      <th>1255</th>\n",
       "      <td>2018-02-02</td>\n",
       "      <td>105.15</td>\n",
       "      <td>106.47</td>\n",
       "      <td>104.15</td>\n",
       "      <td>104.48</td>\n",
       "      <td>9253068</td>\n",
       "      <td>WMT</td>\n",
       "      <td>-0.009856</td>\n",
       "      <td>106.776</td>\n",
       "      <td>106.601</td>\n",
       "      <td>Positive</td>\n",
       "      <td>True</td>\n",
       "      <td>0</td>\n",
       "    </tr>\n",
       "    <tr>\n",
       "      <th>1256</th>\n",
       "      <td>2018-02-05</td>\n",
       "      <td>103.40</td>\n",
       "      <td>104.61</td>\n",
       "      <td>97.09</td>\n",
       "      <td>100.09</td>\n",
       "      <td>12561594</td>\n",
       "      <td>WMT</td>\n",
       "      <td>-0.042018</td>\n",
       "      <td>104.884</td>\n",
       "      <td>106.065</td>\n",
       "      <td>Negative</td>\n",
       "      <td>False</td>\n",
       "      <td>1</td>\n",
       "    </tr>\n",
       "    <tr>\n",
       "      <th>1257</th>\n",
       "      <td>2018-02-06</td>\n",
       "      <td>97.64</td>\n",
       "      <td>101.08</td>\n",
       "      <td>97.25</td>\n",
       "      <td>100.90</td>\n",
       "      <td>16413797</td>\n",
       "      <td>WMT</td>\n",
       "      <td>0.008093</td>\n",
       "      <td>103.518</td>\n",
       "      <td>105.565</td>\n",
       "      <td>Negative</td>\n",
       "      <td>True</td>\n",
       "      <td>0</td>\n",
       "    </tr>\n",
       "    <tr>\n",
       "      <th>1258</th>\n",
       "      <td>2018-02-07</td>\n",
       "      <td>100.50</td>\n",
       "      <td>104.59</td>\n",
       "      <td>100.01</td>\n",
       "      <td>102.85</td>\n",
       "      <td>11165223</td>\n",
       "      <td>WMT</td>\n",
       "      <td>0.019326</td>\n",
       "      <td>102.768</td>\n",
       "      <td>105.271</td>\n",
       "      <td>Negative</td>\n",
       "      <td>True</td>\n",
       "      <td>0</td>\n",
       "    </tr>\n",
       "  </tbody>\n",
       "</table>\n",
       "<p>100 rows × 13 columns</p>\n",
       "</div>"
      ],
      "text/plain": [
       "           Date    Open    High     Low  Observed    Volume Ticker   Returns  \\\n",
       "1159 2017-09-15   79.81   80.75   79.27     80.38  13317757    WMT  0.008785   \n",
       "1160 2017-09-18   80.21   81.12   79.95     80.00   8176067    WMT -0.004728   \n",
       "1161 2017-09-19   80.18   80.46   79.70     80.05   6174358    WMT  0.000625   \n",
       "1162 2017-09-20   80.17   80.56   79.87     80.50   5318194    WMT  0.005621   \n",
       "1163 2017-09-21   80.57   80.57   79.72     80.01   6430256    WMT -0.006087   \n",
       "...         ...     ...     ...     ...       ...       ...    ...       ...   \n",
       "1254 2018-02-01  105.96  106.56  105.18    105.52   6386836    WMT -0.010131   \n",
       "1255 2018-02-02  105.15  106.47  104.15    104.48   9253068    WMT -0.009856   \n",
       "1256 2018-02-05  103.40  104.61   97.09    100.09  12561594    WMT -0.042018   \n",
       "1257 2018-02-06   97.64  101.08   97.25    100.90  16413797    WMT  0.008093   \n",
       "1258 2018-02-07  100.50  104.59  100.01    102.85  11165223    WMT  0.019326   \n",
       "\n",
       "         MA_5    MA_10     Trend  Change  Binary  \n",
       "1159   79.722   79.586  Positive    True       0  \n",
       "1160   79.906   79.749  Positive    True       0  \n",
       "1161   79.994   79.774  Positive    True       0  \n",
       "1162   80.122   79.816  Positive    True       0  \n",
       "1163   80.188   79.805  Positive    True       0  \n",
       "...       ...      ...       ...     ...     ...  \n",
       "1254  107.558  106.612  Positive    True       0  \n",
       "1255  106.776  106.601  Positive    True       0  \n",
       "1256  104.884  106.065  Negative   False       1  \n",
       "1257  103.518  105.565  Negative    True       0  \n",
       "1258  102.768  105.271  Negative    True       0  \n",
       "\n",
       "[100 rows x 13 columns]"
      ]
     },
     "execution_count": 6,
     "metadata": {},
     "output_type": "execute_result"
    },
    {
     "data": {
      "application/javascript": [
       "\n",
       "            setTimeout(function() {\n",
       "                var nbb_cell_id = 6;\n",
       "                var nbb_unformatted_code = \"data['Returns'] = data['Observed'].pct_change(1)\\ndata['MA_5'] = data['Observed'].rolling(5).mean()\\ndata['MA_10'] = data['Observed'].rolling(10).mean()\\ndata['Trend'] = 'None'\\ndata.loc[(data['MA_5'] < data['MA_10']), 'Trend'] = 'Negative'\\ndata.loc[(data['MA_5'] > data['MA_10']), 'Trend'] = 'Positive'\\ndata['Change'] = data['Trend'].eq(data['Trend'].shift())\\n\\ndata['Binary'] = 0\\ndata.loc[(data['Change']==False) & (data['Trend'] != 'None'), 'Binary'] = 1\\n\\ndata.dropna(inplace=True)\\ndata.tail(100)\";\n",
       "                var nbb_formatted_code = \"data[\\\"Returns\\\"] = data[\\\"Observed\\\"].pct_change(1)\\ndata[\\\"MA_5\\\"] = data[\\\"Observed\\\"].rolling(5).mean()\\ndata[\\\"MA_10\\\"] = data[\\\"Observed\\\"].rolling(10).mean()\\ndata[\\\"Trend\\\"] = \\\"None\\\"\\ndata.loc[(data[\\\"MA_5\\\"] < data[\\\"MA_10\\\"]), \\\"Trend\\\"] = \\\"Negative\\\"\\ndata.loc[(data[\\\"MA_5\\\"] > data[\\\"MA_10\\\"]), \\\"Trend\\\"] = \\\"Positive\\\"\\ndata[\\\"Change\\\"] = data[\\\"Trend\\\"].eq(data[\\\"Trend\\\"].shift())\\n\\ndata[\\\"Binary\\\"] = 0\\ndata.loc[(data[\\\"Change\\\"] == False) & (data[\\\"Trend\\\"] != \\\"None\\\"), \\\"Binary\\\"] = 1\\n\\ndata.dropna(inplace=True)\\ndata.tail(100)\";\n",
       "                var nbb_cells = Jupyter.notebook.get_cells();\n",
       "                for (var i = 0; i < nbb_cells.length; ++i) {\n",
       "                    if (nbb_cells[i].input_prompt_number == nbb_cell_id) {\n",
       "                        if (nbb_cells[i].get_text() == nbb_unformatted_code) {\n",
       "                             nbb_cells[i].set_text(nbb_formatted_code);\n",
       "                        }\n",
       "                        break;\n",
       "                    }\n",
       "                }\n",
       "            }, 500);\n",
       "            "
      ],
      "text/plain": [
       "<IPython.core.display.Javascript object>"
      ]
     },
     "metadata": {},
     "output_type": "display_data"
    }
   ],
   "source": [
    "data[\"Returns\"] = data[\"Observed\"].pct_change(1)\n",
    "data[\"MA_5\"] = data[\"Observed\"].rolling(5).mean()\n",
    "data[\"MA_10\"] = data[\"Observed\"].rolling(10).mean()\n",
    "data[\"Trend\"] = \"None\"\n",
    "data.loc[(data[\"MA_5\"] < data[\"MA_10\"]), \"Trend\"] = \"Negative\"\n",
    "data.loc[(data[\"MA_5\"] > data[\"MA_10\"]), \"Trend\"] = \"Positive\"\n",
    "data[\"Change\"] = data[\"Trend\"].eq(data[\"Trend\"].shift())\n",
    "\n",
    "data[\"Binary\"] = 0\n",
    "data.loc[(data[\"Change\"] == False) & (data[\"Trend\"] != \"None\"), \"Binary\"] = 1\n",
    "\n",
    "data.dropna(inplace=True)\n",
    "data.tail(100)"
   ]
  },
  {
   "cell_type": "code",
   "execution_count": 7,
   "metadata": {},
   "outputs": [
    {
     "data": {
      "text/plain": [
       "<matplotlib.axes._subplots.AxesSubplot at 0x2c9be4466c8>"
      ]
     },
     "execution_count": 7,
     "metadata": {},
     "output_type": "execute_result"
    },
    {
     "data": {
      "image/png": "[encoded data removed]",
      "text/plain": [
       "<Figure size 1440x720 with 1 Axes>"
      ]
     },
     "metadata": {
      "needs_background": "light"
     },
     "output_type": "display_data"
    },
    {
     "data": {
      "application/javascript": [
       "\n",
       "            setTimeout(function() {\n",
       "                var nbb_cell_id = 7;\n",
       "                var nbb_unformatted_code = \"data.set_index('Date').iloc[:90][['Observed', 'MA_5', 'MA_10']].plot(figsize=(20,10))\";\n",
       "                var nbb_formatted_code = \"data.set_index(\\\"Date\\\").iloc[:90][[\\\"Observed\\\", \\\"MA_5\\\", \\\"MA_10\\\"]].plot(figsize=(20, 10))\";\n",
       "                var nbb_cells = Jupyter.notebook.get_cells();\n",
       "                for (var i = 0; i < nbb_cells.length; ++i) {\n",
       "                    if (nbb_cells[i].input_prompt_number == nbb_cell_id) {\n",
       "                        if (nbb_cells[i].get_text() == nbb_unformatted_code) {\n",
       "                             nbb_cells[i].set_text(nbb_formatted_code);\n",
       "                        }\n",
       "                        break;\n",
       "                    }\n",
       "                }\n",
       "            }, 500);\n",
       "            "
      ],
      "text/plain": [
       "<IPython.core.display.Javascript object>"
      ]
     },
     "metadata": {},
     "output_type": "display_data"
    }
   ],
   "source": [
    "data.set_index(\"Date\").iloc[:90][[\"Observed\", \"MA_5\", \"MA_10\"]].plot(figsize=(20, 10))"
   ]
  },
  {
   "cell_type": "code",
   "execution_count": 8,
   "metadata": {},
   "outputs": [
    {
     "data": {
      "text/html": [
       "<div>\n",
       "<style scoped>\n",
       "    .dataframe tbody tr th:only-of-type {\n",
       "        vertical-align: middle;\n",
       "    }\n",
       "\n",
       "    .dataframe tbody tr th {\n",
       "        vertical-align: top;\n",
       "    }\n",
       "\n",
       "    .dataframe thead th {\n",
       "        text-align: right;\n",
       "    }\n",
       "</style>\n",
       "<table border=\"1\" class=\"dataframe\">\n",
       "  <thead>\n",
       "    <tr style=\"text-align: right;\">\n",
       "      <th></th>\n",
       "      <th>Date</th>\n",
       "      <th>Returns</th>\n",
       "      <th>Binary</th>\n",
       "    </tr>\n",
       "  </thead>\n",
       "  <tbody>\n",
       "    <tr>\n",
       "      <th>9</th>\n",
       "      <td>2013-02-22</td>\n",
       "      <td>0.001993</td>\n",
       "      <td>1</td>\n",
       "    </tr>\n",
       "    <tr>\n",
       "      <th>10</th>\n",
       "      <td>2013-02-25</td>\n",
       "      <td>0.000568</td>\n",
       "      <td>0</td>\n",
       "    </tr>\n",
       "    <tr>\n",
       "      <th>11</th>\n",
       "      <td>2013-02-26</td>\n",
       "      <td>0.009512</td>\n",
       "      <td>0</td>\n",
       "    </tr>\n",
       "    <tr>\n",
       "      <th>12</th>\n",
       "      <td>2013-02-27</td>\n",
       "      <td>0.007734</td>\n",
       "      <td>1</td>\n",
       "    </tr>\n",
       "    <tr>\n",
       "      <th>13</th>\n",
       "      <td>2013-02-28</td>\n",
       "      <td>-0.012280</td>\n",
       "      <td>0</td>\n",
       "    </tr>\n",
       "  </tbody>\n",
       "</table>\n",
       "</div>"
      ],
      "text/plain": [
       "         Date   Returns  Binary\n",
       "9  2013-02-22  0.001993       1\n",
       "10 2013-02-25  0.000568       0\n",
       "11 2013-02-26  0.009512       0\n",
       "12 2013-02-27  0.007734       1\n",
       "13 2013-02-28 -0.012280       0"
      ]
     },
     "execution_count": 8,
     "metadata": {},
     "output_type": "execute_result"
    },
    {
     "data": {
      "application/javascript": [
       "\n",
       "            setTimeout(function() {\n",
       "                var nbb_cell_id = 8;\n",
       "                var nbb_unformatted_code = \"transformed = data[['Date', 'Returns', 'Binary']]\\ntransformed.head()\";\n",
       "                var nbb_formatted_code = \"transformed = data[[\\\"Date\\\", \\\"Returns\\\", \\\"Binary\\\"]]\\ntransformed.head()\";\n",
       "                var nbb_cells = Jupyter.notebook.get_cells();\n",
       "                for (var i = 0; i < nbb_cells.length; ++i) {\n",
       "                    if (nbb_cells[i].input_prompt_number == nbb_cell_id) {\n",
       "                        if (nbb_cells[i].get_text() == nbb_unformatted_code) {\n",
       "                             nbb_cells[i].set_text(nbb_formatted_code);\n",
       "                        }\n",
       "                        break;\n",
       "                    }\n",
       "                }\n",
       "            }, 500);\n",
       "            "
      ],
      "text/plain": [
       "<IPython.core.display.Javascript object>"
      ]
     },
     "metadata": {},
     "output_type": "display_data"
    }
   ],
   "source": [
    "transformed = data[[\"Date\", \"Returns\", \"Binary\"]]\n",
    "transformed.head()"
   ]
  },
  {
   "cell_type": "code",
   "execution_count": 9,
   "metadata": {},
   "outputs": [
    {
     "name": "stderr",
     "output_type": "stream",
     "text": [
      "C:\\Users\\jlim7\\anaconda3\\lib\\site-packages\\ipykernel_launcher.py:7: SettingWithCopyWarning: \n",
      "A value is trying to be set on a copy of a slice from a DataFrame.\n",
      "Try using .loc[row_indexer,col_indexer] = value instead\n",
      "\n",
      "See the caveats in the documentation: https://pandas.pydata.org/pandas-docs/stable/user_guide/indexing.html#returning-a-view-versus-a-copy\n",
      "  import sys\n"
     ]
    },
    {
     "data": {
      "application/javascript": [
       "\n",
       "            setTimeout(function() {\n",
       "                var nbb_cell_id = 9;\n",
       "                var nbb_unformatted_code = \"history = 180\\nfuture = 0\\n\\nshifts = [x + future for x in list(range(1, history + 1))]\\n\\nfor shift in shifts:\\n  transformed[f't-{shift}'] = transformed['Returns'].shift(shift)\\n\\ntransformed.dropna(inplace=True)\";\n",
       "                var nbb_formatted_code = \"history = 180\\nfuture = 0\\n\\nshifts = [x + future for x in list(range(1, history + 1))]\\n\\nfor shift in shifts:\\n    transformed[f\\\"t-{shift}\\\"] = transformed[\\\"Returns\\\"].shift(shift)\\n\\ntransformed.dropna(inplace=True)\";\n",
       "                var nbb_cells = Jupyter.notebook.get_cells();\n",
       "                for (var i = 0; i < nbb_cells.length; ++i) {\n",
       "                    if (nbb_cells[i].input_prompt_number == nbb_cell_id) {\n",
       "                        if (nbb_cells[i].get_text() == nbb_unformatted_code) {\n",
       "                             nbb_cells[i].set_text(nbb_formatted_code);\n",
       "                        }\n",
       "                        break;\n",
       "                    }\n",
       "                }\n",
       "            }, 500);\n",
       "            "
      ],
      "text/plain": [
       "<IPython.core.display.Javascript object>"
      ]
     },
     "metadata": {},
     "output_type": "display_data"
    }
   ],
   "source": [
    "history = 180\n",
    "future = 0\n",
    "\n",
    "shifts = [x + future for x in list(range(1, history + 1))]\n",
    "\n",
    "for shift in shifts:\n",
    "    transformed[f\"t-{shift}\"] = transformed[\"Returns\"].shift(shift)\n",
    "\n",
    "transformed.dropna(inplace=True)"
   ]
  },
  {
   "cell_type": "code",
   "execution_count": 10,
   "metadata": {},
   "outputs": [
    {
     "data": {
      "text/html": [
       "<div>\n",
       "<style scoped>\n",
       "    .dataframe tbody tr th:only-of-type {\n",
       "        vertical-align: middle;\n",
       "    }\n",
       "\n",
       "    .dataframe tbody tr th {\n",
       "        vertical-align: top;\n",
       "    }\n",
       "\n",
       "    .dataframe thead th {\n",
       "        text-align: right;\n",
       "    }\n",
       "</style>\n",
       "<table border=\"1\" class=\"dataframe\">\n",
       "  <thead>\n",
       "    <tr style=\"text-align: right;\">\n",
       "      <th></th>\n",
       "      <th>Date</th>\n",
       "      <th>Returns</th>\n",
       "      <th>Binary</th>\n",
       "      <th>t-1</th>\n",
       "      <th>t-2</th>\n",
       "      <th>t-3</th>\n",
       "      <th>t-4</th>\n",
       "      <th>t-5</th>\n",
       "      <th>t-6</th>\n",
       "      <th>t-7</th>\n",
       "      <th>...</th>\n",
       "      <th>t-171</th>\n",
       "      <th>t-172</th>\n",
       "      <th>t-173</th>\n",
       "      <th>t-174</th>\n",
       "      <th>t-175</th>\n",
       "      <th>t-176</th>\n",
       "      <th>t-177</th>\n",
       "      <th>t-178</th>\n",
       "      <th>t-179</th>\n",
       "      <th>t-180</th>\n",
       "    </tr>\n",
       "  </thead>\n",
       "  <tbody>\n",
       "    <tr>\n",
       "      <th>189</th>\n",
       "      <td>2013-11-07</td>\n",
       "      <td>-0.008316</td>\n",
       "      <td>0</td>\n",
       "      <td>0.009558</td>\n",
       "      <td>0.001164</td>\n",
       "      <td>0.003374</td>\n",
       "      <td>0.004169</td>\n",
       "      <td>-0.002080</td>\n",
       "      <td>-0.001947</td>\n",
       "      <td>-0.001037</td>\n",
       "      <td>...</td>\n",
       "      <td>-0.000818</td>\n",
       "      <td>-0.004612</td>\n",
       "      <td>0.006279</td>\n",
       "      <td>0.021188</td>\n",
       "      <td>0.013563</td>\n",
       "      <td>-0.012280</td>\n",
       "      <td>0.007734</td>\n",
       "      <td>0.009512</td>\n",
       "      <td>0.000568</td>\n",
       "      <td>0.001993</td>\n",
       "    </tr>\n",
       "    <tr>\n",
       "      <th>190</th>\n",
       "      <td>2013-11-08</td>\n",
       "      <td>0.005806</td>\n",
       "      <td>0</td>\n",
       "      <td>-0.008316</td>\n",
       "      <td>0.009558</td>\n",
       "      <td>0.001164</td>\n",
       "      <td>0.003374</td>\n",
       "      <td>0.004169</td>\n",
       "      <td>-0.002080</td>\n",
       "      <td>-0.001947</td>\n",
       "      <td>...</td>\n",
       "      <td>-0.003955</td>\n",
       "      <td>-0.000818</td>\n",
       "      <td>-0.004612</td>\n",
       "      <td>0.006279</td>\n",
       "      <td>0.021188</td>\n",
       "      <td>0.013563</td>\n",
       "      <td>-0.012280</td>\n",
       "      <td>0.007734</td>\n",
       "      <td>0.009512</td>\n",
       "      <td>0.000568</td>\n",
       "    </tr>\n",
       "    <tr>\n",
       "      <th>191</th>\n",
       "      <td>2013-11-11</td>\n",
       "      <td>0.013468</td>\n",
       "      <td>0</td>\n",
       "      <td>0.005806</td>\n",
       "      <td>-0.008316</td>\n",
       "      <td>0.009558</td>\n",
       "      <td>0.001164</td>\n",
       "      <td>0.003374</td>\n",
       "      <td>0.004169</td>\n",
       "      <td>-0.002080</td>\n",
       "      <td>...</td>\n",
       "      <td>-0.000685</td>\n",
       "      <td>-0.003955</td>\n",
       "      <td>-0.000818</td>\n",
       "      <td>-0.004612</td>\n",
       "      <td>0.006279</td>\n",
       "      <td>0.021188</td>\n",
       "      <td>0.013563</td>\n",
       "      <td>-0.012280</td>\n",
       "      <td>0.007734</td>\n",
       "      <td>0.009512</td>\n",
       "    </tr>\n",
       "    <tr>\n",
       "      <th>192</th>\n",
       "      <td>2013-11-12</td>\n",
       "      <td>-0.003797</td>\n",
       "      <td>0</td>\n",
       "      <td>0.013468</td>\n",
       "      <td>0.005806</td>\n",
       "      <td>-0.008316</td>\n",
       "      <td>0.009558</td>\n",
       "      <td>0.001164</td>\n",
       "      <td>0.003374</td>\n",
       "      <td>0.004169</td>\n",
       "      <td>...</td>\n",
       "      <td>0.008495</td>\n",
       "      <td>-0.000685</td>\n",
       "      <td>-0.003955</td>\n",
       "      <td>-0.000818</td>\n",
       "      <td>-0.004612</td>\n",
       "      <td>0.006279</td>\n",
       "      <td>0.021188</td>\n",
       "      <td>0.013563</td>\n",
       "      <td>-0.012280</td>\n",
       "      <td>0.007734</td>\n",
       "    </tr>\n",
       "    <tr>\n",
       "      <th>193</th>\n",
       "      <td>2013-11-13</td>\n",
       "      <td>0.002414</td>\n",
       "      <td>0</td>\n",
       "      <td>-0.003797</td>\n",
       "      <td>0.013468</td>\n",
       "      <td>0.005806</td>\n",
       "      <td>-0.008316</td>\n",
       "      <td>0.009558</td>\n",
       "      <td>0.001164</td>\n",
       "      <td>0.003374</td>\n",
       "      <td>...</td>\n",
       "      <td>0.000679</td>\n",
       "      <td>0.008495</td>\n",
       "      <td>-0.000685</td>\n",
       "      <td>-0.003955</td>\n",
       "      <td>-0.000818</td>\n",
       "      <td>-0.004612</td>\n",
       "      <td>0.006279</td>\n",
       "      <td>0.021188</td>\n",
       "      <td>0.013563</td>\n",
       "      <td>-0.012280</td>\n",
       "    </tr>\n",
       "  </tbody>\n",
       "</table>\n",
       "<p>5 rows × 183 columns</p>\n",
       "</div>"
      ],
      "text/plain": [
       "          Date   Returns  Binary       t-1       t-2       t-3       t-4  \\\n",
       "189 2013-11-07 -0.008316       0  0.009558  0.001164  0.003374  0.004169   \n",
       "190 2013-11-08  0.005806       0 -0.008316  0.009558  0.001164  0.003374   \n",
       "191 2013-11-11  0.013468       0  0.005806 -0.008316  0.009558  0.001164   \n",
       "192 2013-11-12 -0.003797       0  0.013468  0.005806 -0.008316  0.009558   \n",
       "193 2013-11-13  0.002414       0 -0.003797  0.013468  0.005806 -0.008316   \n",
       "\n",
       "          t-5       t-6       t-7  ...     t-171     t-172     t-173  \\\n",
       "189 -0.002080 -0.001947 -0.001037  ... -0.000818 -0.004612  0.006279   \n",
       "190  0.004169 -0.002080 -0.001947  ... -0.003955 -0.000818 -0.004612   \n",
       "191  0.003374  0.004169 -0.002080  ... -0.000685 -0.003955 -0.000818   \n",
       "192  0.001164  0.003374  0.004169  ...  0.008495 -0.000685 -0.003955   \n",
       "193  0.009558  0.001164  0.003374  ...  0.000679  0.008495 -0.000685   \n",
       "\n",
       "        t-174     t-175     t-176     t-177     t-178     t-179     t-180  \n",
       "189  0.021188  0.013563 -0.012280  0.007734  0.009512  0.000568  0.001993  \n",
       "190  0.006279  0.021188  0.013563 -0.012280  0.007734  0.009512  0.000568  \n",
       "191 -0.004612  0.006279  0.021188  0.013563 -0.012280  0.007734  0.009512  \n",
       "192 -0.000818 -0.004612  0.006279  0.021188  0.013563 -0.012280  0.007734  \n",
       "193 -0.003955 -0.000818 -0.004612  0.006279  0.021188  0.013563 -0.012280  \n",
       "\n",
       "[5 rows x 183 columns]"
      ]
     },
     "execution_count": 10,
     "metadata": {},
     "output_type": "execute_result"
    },
    {
     "data": {
      "application/javascript": [
       "\n",
       "            setTimeout(function() {\n",
       "                var nbb_cell_id = 10;\n",
       "                var nbb_unformatted_code = \"transformed.head()\";\n",
       "                var nbb_formatted_code = \"transformed.head()\";\n",
       "                var nbb_cells = Jupyter.notebook.get_cells();\n",
       "                for (var i = 0; i < nbb_cells.length; ++i) {\n",
       "                    if (nbb_cells[i].input_prompt_number == nbb_cell_id) {\n",
       "                        if (nbb_cells[i].get_text() == nbb_unformatted_code) {\n",
       "                             nbb_cells[i].set_text(nbb_formatted_code);\n",
       "                        }\n",
       "                        break;\n",
       "                    }\n",
       "                }\n",
       "            }, 500);\n",
       "            "
      ],
      "text/plain": [
       "<IPython.core.display.Javascript object>"
      ]
     },
     "metadata": {},
     "output_type": "display_data"
    }
   ],
   "source": [
    "transformed.head()"
   ]
  },
  {
   "cell_type": "markdown",
   "metadata": {
    "colab_type": "text",
    "id": "bYaCvm-6qfRr"
   },
   "source": [
    "### Train a Logistic Regression classification model on the transformed data."
   ]
  },
  {
   "cell_type": "code",
   "execution_count": 17,
   "metadata": {
    "colab": {},
    "colab_type": "code",
    "id": "5GLX-8b4qfRs"
   },
   "outputs": [
    {
     "data": {
      "application/javascript": [
       "\n",
       "            setTimeout(function() {\n",
       "                var nbb_cell_id = 17;\n",
       "                var nbb_unformatted_code = \"X = transformed.drop(columns=[\\\"Date\\\", \\\"Returns\\\", \\\"Binary\\\"])\\ny = transformed[\\\"Binary\\\"]\\n\\nX_train, X_test, y_train, y_test = train_test_split(\\n    X, y, test_size=0.2, shuffle=False, random_state=13, \\n)\";\n",
       "                var nbb_formatted_code = \"X = transformed.drop(columns=[\\\"Date\\\", \\\"Returns\\\", \\\"Binary\\\"])\\ny = transformed[\\\"Binary\\\"]\\n\\nX_train, X_test, y_train, y_test = train_test_split(\\n    X, y, test_size=0.2, shuffle=False, random_state=13,\\n)\";\n",
       "                var nbb_cells = Jupyter.notebook.get_cells();\n",
       "                for (var i = 0; i < nbb_cells.length; ++i) {\n",
       "                    if (nbb_cells[i].input_prompt_number == nbb_cell_id) {\n",
       "                        if (nbb_cells[i].get_text() == nbb_unformatted_code) {\n",
       "                             nbb_cells[i].set_text(nbb_formatted_code);\n",
       "                        }\n",
       "                        break;\n",
       "                    }\n",
       "                }\n",
       "            }, 500);\n",
       "            "
      ],
      "text/plain": [
       "<IPython.core.display.Javascript object>"
      ]
     },
     "metadata": {},
     "output_type": "display_data"
    }
   ],
   "source": [
    "X = transformed.drop(columns=[\"Date\", \"Returns\", \"Binary\"])\n",
    "y = transformed[\"Binary\"]\n",
    "\n",
    "X_train, X_test, y_train, y_test = train_test_split(\n",
    "    X, y, test_size=0.2, shuffle=False, random_state=13,\n",
    ")"
   ]
  },
  {
   "cell_type": "code",
   "execution_count": 18,
   "metadata": {},
   "outputs": [
    {
     "data": {
      "application/javascript": [
       "\n",
       "            setTimeout(function() {\n",
       "                var nbb_cell_id = 18;\n",
       "                var nbb_unformatted_code = \"model = LogisticRegression(class_weight=\\\"balanced\\\")\\nmodel.fit(X_train, y_train)\\n\\ny_pred = model.predict(X_test)\";\n",
       "                var nbb_formatted_code = \"model = LogisticRegression(class_weight=\\\"balanced\\\")\\nmodel.fit(X_train, y_train)\\n\\ny_pred = model.predict(X_test)\";\n",
       "                var nbb_cells = Jupyter.notebook.get_cells();\n",
       "                for (var i = 0; i < nbb_cells.length; ++i) {\n",
       "                    if (nbb_cells[i].input_prompt_number == nbb_cell_id) {\n",
       "                        if (nbb_cells[i].get_text() == nbb_unformatted_code) {\n",
       "                             nbb_cells[i].set_text(nbb_formatted_code);\n",
       "                        }\n",
       "                        break;\n",
       "                    }\n",
       "                }\n",
       "            }, 500);\n",
       "            "
      ],
      "text/plain": [
       "<IPython.core.display.Javascript object>"
      ]
     },
     "metadata": {},
     "output_type": "display_data"
    }
   ],
   "source": [
    "model = LogisticRegression(class_weight=\"balanced\")\n",
    "model.fit(X_train, y_train)\n",
    "\n",
    "y_pred = model.predict(X_test)"
   ]
  },
  {
   "cell_type": "markdown",
   "metadata": {
    "colab_type": "text",
    "id": "dRh4cxqeqfRv"
   },
   "source": [
    "### Run a classification report and evaluate the performance of the classifier."
   ]
  },
  {
   "cell_type": "code",
   "execution_count": 19,
   "metadata": {
    "colab": {},
    "colab_type": "code",
    "id": "QSonhG5GqfR2"
   },
   "outputs": [
    {
     "name": "stdout",
     "output_type": "stream",
     "text": [
      "              precision    recall  f1-score   support\n",
      "\n",
      "           0       0.91      0.69      0.78       195\n",
      "           1       0.08      0.26      0.12        19\n",
      "\n",
      "    accuracy                           0.65       214\n",
      "   macro avg       0.49      0.48      0.45       214\n",
      "weighted avg       0.83      0.65      0.72       214\n",
      "\n"
     ]
    },
    {
     "data": {
      "application/javascript": [
       "\n",
       "            setTimeout(function() {\n",
       "                var nbb_cell_id = 19;\n",
       "                var nbb_unformatted_code = \"print(classification_report(y_test, y_pred))\";\n",
       "                var nbb_formatted_code = \"print(classification_report(y_test, y_pred))\";\n",
       "                var nbb_cells = Jupyter.notebook.get_cells();\n",
       "                for (var i = 0; i < nbb_cells.length; ++i) {\n",
       "                    if (nbb_cells[i].input_prompt_number == nbb_cell_id) {\n",
       "                        if (nbb_cells[i].get_text() == nbb_unformatted_code) {\n",
       "                             nbb_cells[i].set_text(nbb_formatted_code);\n",
       "                        }\n",
       "                        break;\n",
       "                    }\n",
       "                }\n",
       "            }, 500);\n",
       "            "
      ],
      "text/plain": [
       "<IPython.core.display.Javascript object>"
      ]
     },
     "metadata": {},
     "output_type": "display_data"
    }
   ],
   "source": [
    "print(classification_report(y_test, y_pred))"
   ]
  },
  {
   "cell_type": "markdown",
   "metadata": {
    "colab_type": "text",
    "id": "awwkh1iIqfR5"
   },
   "source": [
    "### Transform the data again to have 10 days of history for clustering."
   ]
  },
  {
   "cell_type": "code",
   "execution_count": 20,
   "metadata": {
    "colab": {},
    "colab_type": "code",
    "id": "bhKkYaZ5qfR6"
   },
   "outputs": [
    {
     "name": "stderr",
     "output_type": "stream",
     "text": [
      "C:\\Users\\jlim7\\anaconda3\\lib\\site-packages\\ipykernel_launcher.py:9: SettingWithCopyWarning: \n",
      "A value is trying to be set on a copy of a slice from a DataFrame.\n",
      "Try using .loc[row_indexer,col_indexer] = value instead\n",
      "\n",
      "See the caveats in the documentation: https://pandas.pydata.org/pandas-docs/stable/user_guide/indexing.html#returning-a-view-versus-a-copy\n",
      "  if __name__ == '__main__':\n"
     ]
    },
    {
     "data": {
      "application/javascript": [
       "\n",
       "            setTimeout(function() {\n",
       "                var nbb_cell_id = 20;\n",
       "                var nbb_unformatted_code = \"transformed = data[['Date', 'Returns', 'Binary']]\\n\\nhistory = 10\\nfuture = 0\\n\\nshifts = [x + future for x in list(range(1, history + 1))]\\n\\nfor shift in shifts:\\n    transformed['t-' + str(shift)] = transformed['Returns'].shift(shift)\\n\\ntransformed.dropna(inplace=True)\\n\\nx = transformed.set_index('Date').drop(['Returns', 'Binary'], axis=1)\";\n",
       "                var nbb_formatted_code = \"transformed = data[[\\\"Date\\\", \\\"Returns\\\", \\\"Binary\\\"]]\\n\\nhistory = 10\\nfuture = 0\\n\\nshifts = [x + future for x in list(range(1, history + 1))]\\n\\nfor shift in shifts:\\n    transformed[\\\"t-\\\" + str(shift)] = transformed[\\\"Returns\\\"].shift(shift)\\n\\ntransformed.dropna(inplace=True)\\n\\nx = transformed.set_index(\\\"Date\\\").drop([\\\"Returns\\\", \\\"Binary\\\"], axis=1)\";\n",
       "                var nbb_cells = Jupyter.notebook.get_cells();\n",
       "                for (var i = 0; i < nbb_cells.length; ++i) {\n",
       "                    if (nbb_cells[i].input_prompt_number == nbb_cell_id) {\n",
       "                        if (nbb_cells[i].get_text() == nbb_unformatted_code) {\n",
       "                             nbb_cells[i].set_text(nbb_formatted_code);\n",
       "                        }\n",
       "                        break;\n",
       "                    }\n",
       "                }\n",
       "            }, 500);\n",
       "            "
      ],
      "text/plain": [
       "<IPython.core.display.Javascript object>"
      ]
     },
     "metadata": {},
     "output_type": "display_data"
    }
   ],
   "source": [
    "transformed = data[[\"Date\", \"Returns\", \"Binary\"]]\n",
    "\n",
    "history = 10\n",
    "future = 0\n",
    "\n",
    "shifts = [x + future for x in list(range(1, history + 1))]\n",
    "\n",
    "for shift in shifts:\n",
    "    transformed[\"t-\" + str(shift)] = transformed[\"Returns\"].shift(shift)\n",
    "\n",
    "transformed.dropna(inplace=True)\n",
    "\n",
    "x = transformed.set_index(\"Date\").drop([\"Returns\", \"Binary\"], axis=1)"
   ]
  },
  {
   "cell_type": "markdown",
   "metadata": {
    "colab_type": "text",
    "id": "6AFbtpRkqfR9"
   },
   "source": [
    "### Train a K Means clustering model on the data. \n",
    "\n",
    "Try different values for K and see how the summary changes."
   ]
  },
  {
   "cell_type": "code",
   "execution_count": 21,
   "metadata": {
    "colab": {},
    "colab_type": "code",
    "id": "msE__TviqfR-"
   },
   "outputs": [
    {
     "data": {
      "application/javascript": [
       "\n",
       "            setTimeout(function() {\n",
       "                var nbb_cell_id = 21;\n",
       "                var nbb_unformatted_code = \"def kmeans(df, clusters):\\n    model = KMeans(n_clusters=clusters, random_state=42)\\n    clusters = model.fit_predict(df)\\n    results = df.copy()\\n    results['Cluster'] = clusters\\n    \\n    cluster_size = results.groupby(['Cluster']).size().reset_index()\\n    cluster_size.columns = ['Cluster', 'Count']\\n    cluster_means = results.groupby(['Cluster'], as_index=False).mean()\\n    summary = pd.merge(cluster_size, cluster_means, on='Cluster')\\n    \\n    return results, summary\";\n",
       "                var nbb_formatted_code = \"def kmeans(df, clusters):\\n    model = KMeans(n_clusters=clusters, random_state=42)\\n    clusters = model.fit_predict(df)\\n    results = df.copy()\\n    results[\\\"Cluster\\\"] = clusters\\n\\n    cluster_size = results.groupby([\\\"Cluster\\\"]).size().reset_index()\\n    cluster_size.columns = [\\\"Cluster\\\", \\\"Count\\\"]\\n    cluster_means = results.groupby([\\\"Cluster\\\"], as_index=False).mean()\\n    summary = pd.merge(cluster_size, cluster_means, on=\\\"Cluster\\\")\\n\\n    return results, summary\";\n",
       "                var nbb_cells = Jupyter.notebook.get_cells();\n",
       "                for (var i = 0; i < nbb_cells.length; ++i) {\n",
       "                    if (nbb_cells[i].input_prompt_number == nbb_cell_id) {\n",
       "                        if (nbb_cells[i].get_text() == nbb_unformatted_code) {\n",
       "                             nbb_cells[i].set_text(nbb_formatted_code);\n",
       "                        }\n",
       "                        break;\n",
       "                    }\n",
       "                }\n",
       "            }, 500);\n",
       "            "
      ],
      "text/plain": [
       "<IPython.core.display.Javascript object>"
      ]
     },
     "metadata": {},
     "output_type": "display_data"
    }
   ],
   "source": [
    "def kmeans(df, clusters):\n",
    "    model = KMeans(n_clusters=clusters, random_state=42)\n",
    "    clusters = model.fit_predict(df)\n",
    "    results = df.copy()\n",
    "    results[\"Cluster\"] = clusters\n",
    "\n",
    "    cluster_size = results.groupby([\"Cluster\"]).size().reset_index()\n",
    "    cluster_size.columns = [\"Cluster\", \"Count\"]\n",
    "    cluster_means = results.groupby([\"Cluster\"], as_index=False).mean()\n",
    "    summary = pd.merge(cluster_size, cluster_means, on=\"Cluster\")\n",
    "\n",
    "    return results, summary"
   ]
  },
  {
   "cell_type": "code",
   "execution_count": 22,
   "metadata": {},
   "outputs": [
    {
     "data": {
      "text/plain": [
       "(           t-1       t-2       t-3       t-4       t-5       t-6       t-7  \\\n",
       " 189   0.009558  0.001164  0.003374  0.004169 -0.002080 -0.001947 -0.001037   \n",
       " 190  -0.008316  0.009558  0.001164  0.003374  0.004169 -0.002080 -0.001947   \n",
       " 191   0.005806 -0.008316  0.009558  0.001164  0.003374  0.004169 -0.002080   \n",
       " 192   0.013468  0.005806 -0.008316  0.009558  0.001164  0.003374  0.004169   \n",
       " 193  -0.003797  0.013468  0.005806 -0.008316  0.009558  0.001164  0.003374   \n",
       " ...        ...       ...       ...       ...       ...       ...       ...   \n",
       " 1254 -0.010489 -0.016613  0.010702  0.016792  0.007657 -0.001039  0.004267   \n",
       " 1255 -0.010131 -0.010489 -0.016613  0.010702  0.016792  0.007657 -0.001039   \n",
       " 1256 -0.009856 -0.010131 -0.010489 -0.016613  0.010702  0.016792  0.007657   \n",
       " 1257 -0.042018 -0.009856 -0.010131 -0.010489 -0.016613  0.010702  0.016792   \n",
       " 1258  0.008093 -0.042018 -0.009856 -0.010131 -0.010489 -0.016613  0.010702   \n",
       " \n",
       "            t-8       t-9      t-10  ...     t-172     t-173     t-174  \\\n",
       " 189   0.013933 -0.004449  0.006851  ... -0.004612  0.006279  0.021188   \n",
       " 190  -0.001037  0.013933 -0.004449  ... -0.000818 -0.004612  0.006279   \n",
       " 191  -0.001947 -0.001037  0.013933  ... -0.003955 -0.000818 -0.004612   \n",
       " 192  -0.002080 -0.001947 -0.001037  ... -0.000685 -0.003955 -0.000818   \n",
       " 193   0.004169 -0.002080 -0.001947  ...  0.008495 -0.000685 -0.003955   \n",
       " ...        ...       ...       ...  ...       ...       ...       ...   \n",
       " 1254  0.008223  0.002780  0.015579  ... -0.002299  0.002047 -0.004332   \n",
       " 1255  0.004267  0.008223  0.002780  ...  0.000256 -0.002299  0.002047   \n",
       " 1256 -0.001039  0.004267  0.008223  ...  0.005758  0.000256 -0.002299   \n",
       " 1257  0.007657 -0.001039  0.004267  ...  0.015394  0.005758  0.000256   \n",
       " 1258  0.016792  0.007657 -0.001039  ... -0.002381  0.015394  0.005758   \n",
       " \n",
       "          t-175     t-176     t-177     t-178     t-179     t-180  Cluster  \n",
       " 189   0.013563 -0.012280  0.007734  0.009512  0.000568  0.001993        1  \n",
       " 190   0.021188  0.013563 -0.012280  0.007734  0.009512  0.000568        2  \n",
       " 191   0.006279  0.021188  0.013563 -0.012280  0.007734  0.009512        1  \n",
       " 192  -0.004612  0.006279  0.021188  0.013563 -0.012280  0.007734        2  \n",
       " 193  -0.000818 -0.004612  0.006279  0.021188  0.013563 -0.012280        1  \n",
       " ...        ...       ...       ...       ...       ...       ...      ...  \n",
       " 1254 -0.000764 -0.002793  0.015863  0.032215  0.000133 -0.015467        2  \n",
       " 1255 -0.004332 -0.000764 -0.002793  0.015863  0.032215  0.000133        1  \n",
       " 1256  0.002047 -0.004332 -0.000764 -0.002793  0.015863  0.032215        2  \n",
       " 1257 -0.002299  0.002047 -0.004332 -0.000764 -0.002793  0.015863        1  \n",
       " 1258  0.000256 -0.002299  0.002047 -0.004332 -0.000764 -0.002793        2  \n",
       " \n",
       " [1070 rows x 181 columns],\n",
       "    Cluster  Count       t-1       t-2       t-3       t-4       t-5       t-6  \\\n",
       " 0        0      1  0.000703 -0.002666  0.003520 -0.000281  0.002540 -0.001128   \n",
       " 1        1    554 -0.000705  0.001596 -0.000672  0.001491 -0.001038  0.001720   \n",
       " 2        2    515  0.001404 -0.001078  0.001438 -0.000855  0.001876 -0.001068   \n",
       " \n",
       "         t-7       t-8  ...     t-171     t-172     t-173     t-174     t-175  \\\n",
       " 0  0.006383 -0.003956  ...  0.010353 -0.002884  0.013697  0.011047 -0.008791   \n",
       " 1 -0.000595  0.001450  ... -0.000604  0.000722 -0.000581  0.000851 -0.000534   \n",
       " 2  0.001439 -0.000734  ...  0.000919 -0.000507  0.000880 -0.000644  0.000899   \n",
       " \n",
       "       t-176     t-177     t-178     t-179     t-180  \n",
       " 0  0.016620  0.001885 -0.001881 -0.000783  0.001726  \n",
       " 1  0.000652 -0.000537  0.000721 -0.000644  0.000786  \n",
       " 2 -0.000451  0.000876 -0.000455  0.001021 -0.000517  \n",
       " \n",
       " [3 rows x 182 columns])"
      ]
     },
     "execution_count": 22,
     "metadata": {},
     "output_type": "execute_result"
    },
    {
     "data": {
      "application/javascript": [
       "\n",
       "            setTimeout(function() {\n",
       "                var nbb_cell_id = 22;\n",
       "                var nbb_unformatted_code = \"kmeans(X, 3)\";\n",
       "                var nbb_formatted_code = \"kmeans(X, 3)\";\n",
       "                var nbb_cells = Jupyter.notebook.get_cells();\n",
       "                for (var i = 0; i < nbb_cells.length; ++i) {\n",
       "                    if (nbb_cells[i].input_prompt_number == nbb_cell_id) {\n",
       "                        if (nbb_cells[i].get_text() == nbb_unformatted_code) {\n",
       "                             nbb_cells[i].set_text(nbb_formatted_code);\n",
       "                        }\n",
       "                        break;\n",
       "                    }\n",
       "                }\n",
       "            }, 500);\n",
       "            "
      ],
      "text/plain": [
       "<IPython.core.display.Javascript object>"
      ]
     },
     "metadata": {},
     "output_type": "display_data"
    }
   ],
   "source": [
    "kmeans(X, 3)"
   ]
  },
  {
   "cell_type": "markdown",
   "metadata": {
    "colab_type": "text",
    "id": "qSiAPoSTqfSA"
   },
   "source": [
    "### Visualize the summary of the clustering results as a heatmap."
   ]
  },
  {
   "cell_type": "code",
   "execution_count": 0,
   "metadata": {
    "colab": {},
    "colab_type": "code",
    "id": "cyF6X_ftqfSB"
   },
   "outputs": [],
   "source": []
  }
 ],
 "metadata": {
  "colab": {
   "name": "Time Series Day 5 Afternoon Assignment.ipynb",
   "provenance": []
  },
  "kernelspec": {
   "display_name": "Python 3",
   "language": "python",
   "name": "python3"
  },
  "language_info": {
   "codemirror_mode": {
    "name": "ipython",
    "version": 3
   },
   "file_extension": ".py",
   "mimetype": "text/x-python",
   "name": "python",
   "nbconvert_exporter": "python",
   "pygments_lexer": "ipython3",
   "version": "3.7.6"
  }
 },
 "nbformat": 4,
 "nbformat_minor": 1
}
