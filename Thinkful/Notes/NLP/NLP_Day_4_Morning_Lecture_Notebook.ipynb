{
 "cells": [
  {
   "cell_type": "code",
   "execution_count": null,
   "metadata": {
    "id": "Qe8YQri96sGB"
   },
   "outputs": [],
   "source": [
    "from nltk import word_tokenize\n",
    "from nltk.corpus import stopwords\n",
    "from sklearn.pipeline import Pipeline\n",
    "from nltk.stem.snowball import SnowballStemmer\n",
    "from nltk.stem.wordnet import WordNetLemmatizer\n",
    "from sklearn.metrics import classification_report\n",
    "from sklearn.model_selection import cross_val_score\n",
    "from sklearn.linear_model import LogisticRegression\n",
    "from sklearn.feature_extraction.text import CountVectorizer, TfidfVectorizer\n",
    "from sklearn.feature_extraction.text import TfidfTransformer\n",
    "from sklearn.model_selection import train_test_split\n",
    "from nltk.corpus.reader.plaintext import CategorizedPlaintextCorpusReader"
   ]
  },
  {
   "cell_type": "code",
   "execution_count": null,
   "metadata": {
    "colab": {
     "base_uri": "https://localhost:8080/"
    },
    "id": "xhvEZbS5CxXe",
    "outputId": "24af3f43-0615-46d2-8081-80d8f548e96f"
   },
   "outputs": [
    {
     "name": "stdout",
     "output_type": "stream",
     "text": [
      "[nltk_data] Downloading package punkt to /root/nltk_data...\n",
      "[nltk_data]   Unzipping tokenizers/punkt.zip.\n",
      "[nltk_data] Downloading package stopwords to /root/nltk_data...\n",
      "[nltk_data]   Unzipping corpora/stopwords.zip.\n",
      "[nltk_data] Downloading package wordnet to /root/nltk_data...\n",
      "[nltk_data]   Unzipping corpora/wordnet.zip.\n"
     ]
    },
    {
     "data": {
      "text/plain": [
       "True"
      ]
     },
     "execution_count": 28,
     "metadata": {
      "tags": []
     },
     "output_type": "execute_result"
    }
   ],
   "source": [
    "import nltk\n",
    "nltk.download('punkt')\n",
    "nltk.download('stopwords')\n",
    "nltk.download('wordnet')"
   ]
  },
  {
   "cell_type": "code",
   "execution_count": null,
   "metadata": {
    "id": "pPUCT4rh6yb2"
   },
   "outputs": [],
   "source": [
    "PATH='/content/drive/My Drive/DSI Month 4/Week 13/NLP text sets/AP_News'\n",
    "\n",
    "DOC_PATTERN = r'.*\\.txt'\n",
    "CAT_PATTERN = r'([\\w_\\s]+)/.*'\n",
    "\n",
    "corpus = CategorizedPlaintextCorpusReader(PATH, DOC_PATTERN, cat_pattern=CAT_PATTERN)"
   ]
  },
  {
   "cell_type": "code",
   "execution_count": null,
   "metadata": {
    "id": "JjOoyThW68Jd"
   },
   "outputs": [],
   "source": [
    "docs = [corpus.raw(fileid) for fileid in corpus.fileids()]\n",
    "\n",
    "categories = [corpus.categories(fileid)[0] for fileid in corpus.fileids()]"
   ]
  },
  {
   "cell_type": "code",
   "execution_count": null,
   "metadata": {
    "colab": {
     "base_uri": "https://localhost:8080/",
     "height": 103
    },
    "id": "sUnITmct7AEf",
    "outputId": "9ea508a8-f20c-479b-ed56-b838a8961890"
   },
   "outputs": [
    {
     "data": {
      "application/vnd.google.colaboratory.intrinsic+json": {
       "type": "string"
      },
      "text/plain": [
       "'HONOLULU (AP) — The University of Hawaii seeks additional funds for student mental health services, scholarships and other items in a new supplementary budget request, officials said. The Board of Regents approved the fiscal year 2020-2021 supplemental operating budget of about $28 million Thursday, The Honolulu Star-Advertiser reported. The request will be submitted to the state Legislature and Democratic Gov. The university requested $2.6 million to hire 19 psychologists for the 10-campus system. The University of Hawaii Manoa has eight psychologists, the Hilo campus has three, and the West Oahu campus has 1.75 positions, while each community college has one position, said Allyson Tanouye, who coordinates mental health throughout the university system. \"The national standard is one mental health professional per 1,000 to 1,500 students,\" Tanouye said. \"If we add the 19 positions we will be up to one per 1,500. That\\'s how low we are\". The mental health funding would also expand programs to prevent suicide, reduce mental health stigma, provide peer education, and alert new students and parents to college transition challenges, officials said. The largest item in the supplemental budget is $17.7 million to expand the Hawaii Promise Program scholarship to four-year state institutions. The university has proposed a flat amount to cover tuition and fees of Hawaii residents qualifying for need-based federal Pell grants. \"This is looking to focus on the most needy students going to the four-year campuses,\" said Donald Straney, vice president for academic planning and policy. \"It would add Hawaii Promise on top of the Pell grants to cover the total tuition costs of students who are receiving those grants\". The request also covered staffing increases including positions for operations and maintenance, security, educational and cultural programming, and student mentors. Information from: Honolulu Star-Advertiser, http://www.staradvertiser.com.'"
      ]
     },
     "execution_count": 6,
     "metadata": {
      "tags": []
     },
     "output_type": "execute_result"
    }
   ],
   "source": [
    "docs[0]"
   ]
  },
  {
   "cell_type": "code",
   "execution_count": null,
   "metadata": {
    "id": "VwRJ60NiApAs"
   },
   "outputs": [],
   "source": [
    "# categories = [fileid.split('/')[0] for fileid in corpus.fileids()]\n",
    "categories = [corpus.categories(fileid) for fileid in corpus.fileids()]"
   ]
  },
  {
   "cell_type": "code",
   "execution_count": null,
   "metadata": {
    "id": "m8lAxxzBAx9u"
   },
   "outputs": [],
   "source": [
    "categories"
   ]
  },
  {
   "cell_type": "code",
   "execution_count": null,
   "metadata": {
    "id": "CVSgmNdbBf9G"
   },
   "outputs": [],
   "source": [
    "def preprocess(docs):\n",
    "    lemmatizer = WordNetLemmatizer()\n",
    "    stemmer = SnowballStemmer('english')\n",
    "    preprocessed = []\n",
    "    \n",
    "    for doc in docs:\n",
    "        tokenized = word_tokenize(doc)\n",
    "\n",
    "        cleaned = [stemmer.stem(lemmatizer.lemmatize(token.lower())) \n",
    "                   for token in tokenized \n",
    "                   if not token.lower() in stopwords.words('english') \n",
    "                   if token.isalpha()]\n",
    "\n",
    "        untokenized = \" \".join(cleaned)\n",
    "        preprocessed.append(untokenized)\n",
    "        \n",
    "    return preprocessed"
   ]
  },
  {
   "cell_type": "code",
   "execution_count": null,
   "metadata": {
    "id": "LYjWr43wCjL1"
   },
   "outputs": [],
   "source": [
    "preprocessed = preprocess(docs)"
   ]
  },
  {
   "cell_type": "code",
   "execution_count": null,
   "metadata": {
    "colab": {
     "base_uri": "https://localhost:8080/",
     "height": 103
    },
    "id": "RZWfbCHDCvPB",
    "outputId": "a0b914f7-c344-4490-cdf9-a30b9e65e462"
   },
   "outputs": [
    {
     "data": {
      "application/vnd.google.colaboratory.intrinsic+json": {
       "type": "string"
      },
      "text/plain": [
       "'honolulu ap univers hawaii seek addit fund student mental health servic scholarship item new supplementari budget request offici said board regent approv fiscal year supplement oper budget million thursday honolulu report request submit state legislatur democrat gov univers request million hire psychologist system univers hawaii manoa eight psychologist hilo campus three west oahu campus posit communiti colleg one posit said allyson tanouy coordin mental health throughout univers system nation standard one mental health profession per student tanouy said add posit one per low mental health fund would also expand program prevent suicid reduc mental health stigma provid peer educ alert new student parent colleg transit challeng offici said largest item supplement budget million expand hawaii promis program scholarship state institut univers propos flat amount cover tuition fee hawaii resid qualifi feder pell grant look focus needi student go campus said donald straney vice presid academ plan polici would add hawaii promis top pell grant cover total tuition cost student receiv grant request also cover staf increas includ posit oper mainten secur educ cultur program student mentor inform honolulu http'"
      ]
     },
     "execution_count": 32,
     "metadata": {
      "tags": []
     },
     "output_type": "execute_result"
    }
   ],
   "source": [
    "preprocessed[0]"
   ]
  },
  {
   "cell_type": "code",
   "execution_count": null,
   "metadata": {
    "colab": {
     "base_uri": "https://localhost:8080/",
     "height": 103
    },
    "id": "oihB62XIDApr",
    "outputId": "5306fbab-d7e9-43ff-d80c-2181d4c41a91"
   },
   "outputs": [
    {
     "data": {
      "application/vnd.google.colaboratory.intrinsic+json": {
       "type": "string"
      },
      "text/plain": [
       "'HONOLULU (AP) — The University of Hawaii seeks additional funds for student mental health services, scholarships and other items in a new supplementary budget request, officials said. The Board of Regents approved the fiscal year 2020-2021 supplemental operating budget of about $28 million Thursday, The Honolulu Star-Advertiser reported. The request will be submitted to the state Legislature and Democratic Gov. The university requested $2.6 million to hire 19 psychologists for the 10-campus system. The University of Hawaii Manoa has eight psychologists, the Hilo campus has three, and the West Oahu campus has 1.75 positions, while each community college has one position, said Allyson Tanouye, who coordinates mental health throughout the university system. \"The national standard is one mental health professional per 1,000 to 1,500 students,\" Tanouye said. \"If we add the 19 positions we will be up to one per 1,500. That\\'s how low we are\". The mental health funding would also expand programs to prevent suicide, reduce mental health stigma, provide peer education, and alert new students and parents to college transition challenges, officials said. The largest item in the supplemental budget is $17.7 million to expand the Hawaii Promise Program scholarship to four-year state institutions. The university has proposed a flat amount to cover tuition and fees of Hawaii residents qualifying for need-based federal Pell grants. \"This is looking to focus on the most needy students going to the four-year campuses,\" said Donald Straney, vice president for academic planning and policy. \"It would add Hawaii Promise on top of the Pell grants to cover the total tuition costs of students who are receiving those grants\". The request also covered staffing increases including positions for operations and maintenance, security, educational and cultural programming, and student mentors. Information from: Honolulu Star-Advertiser, http://www.staradvertiser.com.'"
      ]
     },
     "execution_count": 33,
     "metadata": {
      "tags": []
     },
     "output_type": "execute_result"
    }
   ],
   "source": [
    "docs[0]"
   ]
  },
  {
   "cell_type": "code",
   "execution_count": null,
   "metadata": {
    "id": "TyBNn0B6DDSF"
   },
   "outputs": [],
   "source": [
    "X_train, X_test, y_train, y_test = train_test_split(preprocessed, categories, test_size=0.2, random_state=42)"
   ]
  },
  {
   "cell_type": "code",
   "execution_count": null,
   "metadata": {
    "colab": {
     "base_uri": "https://localhost:8080/"
    },
    "id": "SBmm4cFEDj9a",
    "outputId": "519727ae-3a1a-4d23-ef16-48c1c10170b3"
   },
   "outputs": [
    {
     "data": {
      "text/plain": [
       "Pipeline(memory=None,\n",
       "         steps=[('vect',\n",
       "                 CountVectorizer(analyzer='word', binary=False,\n",
       "                                 decode_error='strict',\n",
       "                                 dtype=<class 'numpy.int64'>, encoding='utf-8',\n",
       "                                 input='content', lowercase=True, max_df=1.0,\n",
       "                                 max_features=None, min_df=1,\n",
       "                                 ngram_range=(1, 1), preprocessor=None,\n",
       "                                 stop_words=None, strip_accents=None,\n",
       "                                 token_pattern='(?u)\\\\b\\\\w\\\\w+\\\\b',\n",
       "                                 tokenizer=None, vocabulary=None)),\n",
       "                ('tfidf',\n",
       "                 TfidfTransformer(norm='l2', smooth_idf=True,\n",
       "                                  sublinear_tf=False, use_idf=True)),\n",
       "                ('clf',\n",
       "                 LogisticRegression(C=1.0, class_weight=None, dual=False,\n",
       "                                    fit_intercept=True, intercept_scaling=1,\n",
       "                                    l1_ratio=None, max_iter=100,\n",
       "                                    multi_class='auto', n_jobs=None,\n",
       "                                    penalty='l2', random_state=None,\n",
       "                                    solver='lbfgs', tol=0.0001, verbose=0,\n",
       "                                    warm_start=False))],\n",
       "         verbose=False)"
      ]
     },
     "execution_count": 65,
     "metadata": {
      "tags": []
     },
     "output_type": "execute_result"
    }
   ],
   "source": [
    "model = Pipeline([\n",
    "                  ('vect', CountVectorizer()),\n",
    "                  ('tfidf', TfidfTransformer()),\n",
    "                  # ('tfidf', TfidfVectorizer()),\n",
    "                  ('clf', LogisticRegression())\n",
    "                  ])\n",
    "\n",
    "model.fit(X_train, y_train)\n",
    "# model.score(X_test, y_test)"
   ]
  },
  {
   "cell_type": "code",
   "execution_count": null,
   "metadata": {
    "id": "-Yz2MU1uFnFQ"
   },
   "outputs": [],
   "source": [
    "# the long way\n",
    "import pandas as pd\n",
    "\n",
    "# vectorize the text data\n",
    "vectorizer = TfidfVectorizer()\n",
    "\n",
    "# fit transform the train\n",
    "x_train_dtm = vectorizer.fit_transform(X_train)\n",
    "# x_train_df = pd.DataFrame(x_train_dtm.toarray(), columns=vectorizer.get_feature_names())\n",
    "# x_train_df.head()\n",
    "\n",
    "# transform the test\n",
    "x_test_dtm = vectorizer.transform(X_test)\n",
    "# x_test_df = pd.DataFrame(x_test_dtm.toarray(), columns=vectorizer.get_feature_names())\n",
    "# x_test_df.head()\n",
    "\n",
    "# fit to your classifier of choice\n",
    "clf = LogisticRegression()\n",
    "clf.fit(x_train_dtm, y_train)\n",
    "\n",
    "clf.score(x_test_dtm, y_test)"
   ]
  },
  {
   "cell_type": "code",
   "execution_count": null,
   "metadata": {
    "colab": {
     "base_uri": "https://localhost:8080/"
    },
    "id": "fRUcYf2DF5mN",
    "outputId": "aefa4734-b0e8-4d91-8945-c2d0d69fc7c1"
   },
   "outputs": [
    {
     "name": "stdout",
     "output_type": "stream",
     "text": [
      "              precision    recall  f1-score   support\n",
      "\n",
      "      health       0.67      0.86      0.75         7\n",
      "    politics       0.71      0.91      0.80        11\n",
      "      sports       0.92      0.86      0.89        14\n",
      "        tech       0.88      0.58      0.70        12\n",
      "\n",
      "    accuracy                           0.80        44\n",
      "   macro avg       0.79      0.80      0.78        44\n",
      "weighted avg       0.82      0.80      0.79        44\n",
      "\n"
     ]
    }
   ],
   "source": [
    "predictions = model.predict(X_test)\n",
    "print(classification_report(y_test, predictions))"
   ]
  },
  {
   "cell_type": "code",
   "execution_count": null,
   "metadata": {
    "colab": {
     "base_uri": "https://localhost:8080/"
    },
    "id": "AUKvK_56EoPQ",
    "outputId": "a5dbf60d-1ada-4eae-e280-3da57e33a315"
   },
   "outputs": [
    {
     "data": {
      "text/plain": [
       "array([0.91428571, 0.90833333, 0.83791209, 0.86378066, 0.95804196,\n",
       "       0.825     , 0.71932773, 0.71495726, 0.81556638, 0.63053613])"
      ]
     },
     "execution_count": 69,
     "metadata": {
      "tags": []
     },
     "output_type": "execute_result"
    }
   ],
   "source": [
    "scores = cross_val_score(model, preprocessed, categories, cv=10, scoring='f1_macro')\n",
    "\n",
    "scores"
   ]
  },
  {
   "cell_type": "code",
   "execution_count": null,
   "metadata": {
    "colab": {
     "base_uri": "https://localhost:8080/"
    },
    "id": "Z1Cp4-NyFTNt",
    "outputId": "ee43aa49-a5ce-4f3a-db2f-37246ca4cd3f"
   },
   "outputs": [
    {
     "data": {
      "text/plain": [
       "0.8187741262005968"
      ]
     },
     "execution_count": 70,
     "metadata": {
      "tags": []
     },
     "output_type": "execute_result"
    }
   ],
   "source": [
    "scores.mean()"
   ]
  },
  {
   "cell_type": "code",
   "execution_count": null,
   "metadata": {
    "colab": {
     "base_uri": "https://localhost:8080/",
     "height": 103
    },
    "id": "GTYUX9rvJWDV",
    "outputId": "0d41045f-c25c-4cdb-f518-62faef23985b"
   },
   "outputs": [
    {
     "data": {
      "application/vnd.google.colaboratory.intrinsic+json": {
       "type": "string"
      },
      "text/plain": [
       "'      State Results   Alabama     Alaska     Arizona     Arkansas     California     Colorado     Connecticut     Delaware     D.C.     Florida     Georgia     Hawaii     Idaho     Illinois     Indiana     Iowa     Kansas     Kentucky     Louisiana     Maine     Maryland     Massachusetts     Michigan     Minnesota     Mississippi     Missouri     Montana     Nebraska     Nevada     New Hampshire     New Jersey     New Mexico     New York     North Carolina     North Dakota     Ohio     Oklahoma     Oregon     Pennsylvania     Rhode Island     South Carolina     South Dakota     Tennessee     Texas     Utah     Vermont     Virginia     Washington     West Virginia     Wisconsin     Wyoming   Disabling auto-updates may improve reliability when using a screen reader or keyboard to navigate. Advertisement Supported by Uber and Lyft Drivers in California Will Remain Contractors The victory of Proposition 22, the most expensive initiative in the state’s history, could help gig companies remake labor laws throughout the country.       By Kate Conger Nov. 4, 2020        OAKLAND, Calif. — Drivers and other workers for so-called gig economy companies in California will not become their employees. California voters carried Uber and Lyft to victory, overwhelmingly approving Proposition 22, a ballot measure that allows gig economy companies to continue treating drivers as independent contractors. Uber, Lyft and the delivery service DoorDash designed the measure to exempt the companies from a state labor law that would have forced them to employ drivers and pay for health care, unemployment insurance and other benefits. As a concession to labor advocates, the initiative offers a wage floor and limited benefits to drivers. The Associated Press projected early Wednesday that Prop. 22 had carried 58 percent of the vote. Prop. 22 faced the strongest opposition in San Francisco, where Uber and Lyft have their headquarters, with more than a 19-point deficit. The vote resolves the fiercest regulatory battle that Uber and Lyft have faced and opens a path for the companies to remake labor laws throughout the country. The fight pit labor groups and state lawmakers against ride-hailing and delivery start-ups that spent $200 million in support of the measure. In voting to support Uber and Lyft, Californians rejected the principles outlined in a 2018 State Supreme Court ruling and enshrined in a 2019 state law that said workers who performed tasks within a company’s regular business — and were controlled by the company and did not operate their own firms — must be treated as employees. Under Prop. 22, gig workers are exempted from these rules and can continue to work independently. The Yes on Prop. 22 campaign, backed by Uber, Lyft and DoorDash, celebrated the victory. “California has spoken,” Geoff Vetter, a spokesman for the campaign, said in a news release. “Prop. 22 represents the future of work in an increasingly technologically-driven economy.” On Wednesday morning, executives at Lyft and DoorDash praised the outcome. Uber’s stock price climbed more than 14 percent on Wednesday, and Lyft’s was up more than 11 percent at the close of trading. Uber’s chief executive, Dara Khosrowshahi, thanked drivers for the win in a late-night email. “The future of independent work is more secure because so many drivers like you spoke up,” he wrote. He said Uber would make the new benefits promised by Prop. 22 available “as soon as possible.” “The last 14 months in California have been the most critical point on this issue,” said Bradley Tusk, a venture capitalist who advised Uber on political issues during its early years. Emboldened by the election, Uber and other gig economy players are likely to pursue federal legislation to enshrine gig work in the nation’s labor laws. The passage of Prop. 22 is a bitter loss for state and local officials who have long seen the ride-hailing companies as obstinate upstarts that shrugged off any effort to make them follow the rules. Many local officials believed California was too gentle for too long when it came to regulating Uber and Lyft and naïve about how powerful and influential the companies would quickly become. “For all too long, Uber and Lyft banked on the timidity of public officials throughout the country,” said Dennis Herrera, the city attorney of San Francisco. “They said: ‘We’re not going to ask permission. We’ll sort of ask for forgiveness after the fact, once the horse has left the barn.’” Mr. Herrera has sued Uber and Lyft in an attempt to force them to employ their drivers, and the litigation continues. Uber and Lyft started in the early 2010s with just a handful of drivers, resembling car pool services more than professional fleets. While Uber initially tried to mimic black car services, it quickly joined Lyft in promoting the idea that drivers were drawn to the apps by the novelty of gig work rather than the promise of traditional employment. Transit officials and taxi companies warned that the drivers lacked professional certification and were not subjected to background checks. Uber and Lyft argued that they were primarily technology companies, not transportation companies, and should not be forced into the burdensome requirements of licensing, safety checks and employment. The California Public Utilities Commission stepped in, setting baseline safety requirements but allowing Uber and Lyft to avoid hiring drivers. Still, the employment issue persisted. By 2015, the state labor commissioner ruled that drivers were “integral” to Uber’s business model, but the ruling allowed just one driver to be classified as an employee. Latest Updates Analysis: Biden appears to have an edge in the votes that have yet to be counted. In photos: As counting continues, some Americans take to the streets. Nevada, a surprise battleground, plans to release more election results this afternoon. Still, three years later, the California Supreme Court made a sweeping and unanimous ruling in a case known as Dynamex. Under the three-prong employment test proposed by the court, Uber and Lyft drivers appeared to be employees, not contractors. The ruling prompted concern among gig economy companies, but they did not move to reclassify their workers. Lawmakers saw an opportunity to regulate a defiant industry. “The problem is this: Uber and Lyft have neglected not just labor laws but every law in the book,” said Lorena Gonzalez, the California Assembly member who drafted the state’s new labor law. “The only reason we were able to get A.B. 5 is because of Dynamex. The Supreme Court created such a stark, clear rule. It freaked out business as much as it encouraged labor.” In September 2019, the State Legislature approved Ms. Gonzalez’s bill, and the law took effect in January. Under the new law, Uber and Lyft drivers were employees. But nothing changed. The companies continued to treat them as independent contractors and vowed to take their fight to the ballot. In May, Mr. Herrera, joined by the state attorney general and the city attorneys of Los Angeles and San Diego, sued Uber and Lyft in an effort to enforce the law. When the court ordered the companies to immediately hire their drivers, Uber and Lyft threatened to shut down in California rather than comply. They also funneled millions of dollars more into the ballot fight, making Prop. 22 the most expensive initiative in the state’s history. An appeals court granted Uber and Lyft a small reprieve, allowing them several months to comply with the order. Although the lawsuit will continue, Prop. 22 will drastically reduce its scope. The state will continue to seek penalties for the time between January and the certification of the election results, when, it says, Uber and Lyft flouted the law. “You look back and you say, ‘I wish it didn’t need to come to this, that people would have started adhering to the law,’” Mr. Herrera said. “I thought it was important to fight for the rights of workers and the rights of consumers.” With the gig work model cemented in California, Uber and other gig economy companies are expected to pursue federal legislation that would protect them from similar employment laws in other states. “Now, we’re looking ahead and across the country, ready to champion new benefits structures that are portable, proportional and flexible,” said Tony Xu, the chief executive of DoorDash, in a statement. “We look forward to partnering with workers, policymakers, community groups and more to make this a reality.” The passage of Prop. 22 is a setback in the yearslong effort to regulate tech giants like Uber, but federal lawmakers and officials are increasingly eager to take on Big Tech. Members of Congress in both parties support cracking down on social media companies and reining in the likes of Amazon and Google. Uber and its gig economy peers could be caught in that anti-tech sentiment. “We can’t just allow them to control what the future of work looks like,” Ms. Gonzalez said. “Somebody has to stand up for the future of workers.” Advertisement Site Index Site Information Navigation ©\\xa02020\\xa0The New York Times Company NYTCo Contact Us Work with us Advertise T Brand Studio Your Ad Choices Privacy Policy Terms of Service Terms of Sale Site Map Canada International Help Subscriptions'"
      ]
     },
     "execution_count": 71,
     "metadata": {
      "tags": []
     },
     "output_type": "execute_result"
    }
   ],
   "source": [
    "import requests\n",
    "from bs4 import BeautifulSoup\n",
    "\n",
    "url = 'https://www.nytimes.com/2020/11/04/technology/california-uber-lyft-prop-22.html'\n",
    "\n",
    "def get_url_text(url):\n",
    "    response = requests.get(url)\n",
    "    content = response.text\n",
    "    \n",
    "    TAGS = ['h1', 'h2', 'h3', 'h4', 'h5', 'h6', 'h7', 'p', 'li']\n",
    "    soup = BeautifulSoup(content, \"lxml\")\n",
    "    text_list = [tag.get_text() for tag in soup.find_all(TAGS)]\n",
    "    text = ' '.join(text_list)\n",
    "    return text\n",
    "\n",
    "\n",
    "text = get_url_text(url)\n",
    "text"
   ]
  },
  {
   "cell_type": "code",
   "execution_count": null,
   "metadata": {
    "colab": {
     "base_uri": "https://localhost:8080/"
    },
    "id": "T0icQ-aPJ3tI",
    "outputId": "1f718c81-9f66-4e80-f747-94feba990a48"
   },
   "outputs": [
    {
     "data": {
      "text/plain": [
       "['state result alabama alaska arizona arkansa california colorado connecticut delawar florida georgia hawaii idaho illinoi indiana iowa kansa kentucki louisiana main maryland massachusett michigan minnesota mississippi missouri montana nebraska nevada new hampshir new jersey new mexico new york north carolina north dakota ohio oklahoma oregon pennsylvania rhode island south carolina south dakota tennesse texa utah vermont virginia washington west virginia wisconsin wyom disabl may improv reliabl use screen reader keyboard navig advertis support uber lyft driver california remain contractor victori proposit expens initi state histori could help gig compani remak labor law throughout countri kate conger oakland driver worker gig economi compani california becom employe california voter carri uber lyft victori overwhelm approv proposit ballot measur allow gig economi compani continu treat driver independ contractor uber lyft deliveri servic doordash design measur exempt compani state labor law would forc employ driver pay health care unemploy insur benefit concess labor advoc initi offer wage floor limit benefit driver associ press project earli wednesday prop carri percent vote prop face strongest opposit san francisco uber lyft headquart deficit vote resolv fiercest regulatori battl uber lyft face open path compani remak labor law throughout countri fight pit labor group state lawmak deliveri spent million support measur vote support uber lyft californian reject principl outlin state suprem court rule enshrin state law said worker perform task within compani regular busi control compani oper firm must treat employe prop gig worker exempt rule continu work independ yes prop campaign back uber lyft doordash celebr victori california spoken geoff vetter spokesman campaign said news releas prop repres futur work increas wednesday morn execut lyft doordash prais outcom uber stock price climb percent wednesday lyft percent close trade uber chief execut dara khosrowshahi thank driver win email futur independ work secur mani driver like spoke wrote said uber would make new benefit promis prop avail soon last month california critic point issu said bradley tusk ventur capitalist advis uber polit issu earli year embolden elect uber gig economi player like pursu feder legisl enshrin gig work nation labor law passag prop bitter loss state local offici long seen compani obstin upstart shrug effort make follow rule mani local offici believ california gentl long came regul uber lyft naïv power influenti compani would quick becom long uber lyft bank timid public offici throughout countri said denni herrera citi attorney san francisco said go ask permiss sort ask forgiv fact hors left herrera su uber lyft attempt forc employ driver litig continu uber lyft start earli hand driver resembl car pool servic profession fleet uber initi tri mimic black car servic quick join lyft promot idea driver drawn app novelti gig work rather promis tradit employ transit offici taxi compani warn driver lack profession certif subject background check uber lyft argu primarili technolog compani transport compani forc burdensom requir licens safeti check employ california public util commiss step set baselin safeti requir allow uber lyft avoid hire driver still employ issu persist state labor commission rule driver integr uber busi model rule allow one driver classifi employe latest updat analysi biden appear edg vote yet count photo count continu american take street nevada surpris battleground plan releas elect result afternoon still three year later california suprem court made sweep unanim rule case known dynamex employ test propos court uber lyft driver appear employe contractor rule prompt concern among gig economi compani move reclassifi worker lawmak saw opportun regul defiant industri problem uber lyft neglect labor law everi law book said lorena gonzalez california assembl member draft state new labor law reason abl get dynamex suprem court creat stark clear rule freak busi much encourag septemb state legislatur approv gonzalez bill law took effect januari new law uber lyft driver employe noth chang compani continu treat independ contractor vow take fight ballot may herrera join state attorney general citi attorney los angel san diego su uber lyft effort enforc law court order compani immedi hire driver uber lyft threaten shut california rather compli also funnel million dollar ballot fight make prop expens initi state histori appeal court grant uber lyft small repriev allow sever month compli order although lawsuit continu prop drastic reduc scope state continu seek penalti time januari certif elect result say uber lyft flout law look back say wish need come peopl would start adher law herrera said thought import fight right worker right gig work model cement california uber gig economi compani expect pursu feder legisl would protect similar employ law state look ahead across countri readi champion new benefit structur portabl proport flexibl said toni xu chief execut doordash statement look forward partner worker policymak communiti group make passag prop setback yearslong effort regul tech giant like uber feder lawmak offici increas eager take big tech member congress parti support crack social medium compani rein like amazon googl uber gig economi peer could caught sentiment allow control futur work look like gonzalez said somebodi stand futur advertis site index site inform navig new york time compani nytco contact u work u advertis brand studio ad choic privaci polici term servic term sale site map canada intern help subscript']"
      ]
     },
     "execution_count": 73,
     "metadata": {
      "tags": []
     },
     "output_type": "execute_result"
    }
   ],
   "source": [
    "cleaned = preprocess([text])\n",
    "cleaned"
   ]
  },
  {
   "cell_type": "code",
   "execution_count": null,
   "metadata": {
    "colab": {
     "base_uri": "https://localhost:8080/",
     "height": 35
    },
    "id": "0SBT47lAKA_e",
    "outputId": "64a87144-22dc-4ab7-807f-6480ac7f776a"
   },
   "outputs": [
    {
     "data": {
      "application/vnd.google.colaboratory.intrinsic+json": {
       "type": "string"
      },
      "text/plain": [
       "'tech'"
      ]
     },
     "execution_count": 75,
     "metadata": {
      "tags": []
     },
     "output_type": "execute_result"
    }
   ],
   "source": [
    "model.predict(cleaned)[0]"
   ]
  },
  {
   "cell_type": "code",
   "execution_count": null,
   "metadata": {
    "id": "4txK40GIKHto"
   },
   "outputs": [],
   "source": []
  }
 ],
 "metadata": {
  "colab": {
   "name": "NLP Day 4 Morning Lecture Notebook.ipynb",
   "provenance": []
  },
  "kernelspec": {
   "display_name": "Python 3",
   "language": "python",
   "name": "python3"
  },
  "language_info": {
   "codemirror_mode": {
    "name": "ipython",
    "version": 3
   },
   "file_extension": ".py",
   "mimetype": "text/x-python",
   "name": "python",
   "nbconvert_exporter": "python",
   "pygments_lexer": "ipython3",
   "version": "3.7.6"
  }
 },
 "nbformat": 4,
 "nbformat_minor": 1
}
