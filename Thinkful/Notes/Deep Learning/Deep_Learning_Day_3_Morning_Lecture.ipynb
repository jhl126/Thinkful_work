{
  "nbformat": 4,
  "nbformat_minor": 0,
  "metadata": {
    "colab": {
      "name": "Deep Learning Day 3 Morning Lecture.ipynb",
      "provenance": []
    },
    "kernelspec": {
      "name": "python3",
      "display_name": "Python 3"
    },
    "accelerator": "GPU"
  },
  "cells": [
    {
      "cell_type": "code",
      "metadata": {
        "id": "V_-8rWi47L60",
        "outputId": "4c678684-6fd0-4284-f1b6-cb0e2f01c24b",
        "colab": {
          "base_uri": "https://localhost:8080/"
        }
      },
      "source": [
        "from tensorflow.keras.datasets import mnist\n",
        "from tensorflow.keras.utils import to_categorical\n",
        "\n",
        "(X_train, y_train), (X_test, y_test) = mnist.load_data()\n",
        "\n",
        "input_dim = 784  # 28*28\n",
        "output_dim = nb_classes = 10\n",
        "batch_size = 128\n",
        "nb_epoch = 20\n",
        "\n",
        "X_train = X_train.reshape(60000, input_dim)\n",
        "X_test = X_test.reshape(10000, input_dim)\n",
        "X_train = X_train.astype('float32')\n",
        "X_test = X_test.astype('float32')\n",
        "X_train /= 255\n",
        "X_test /= 255\n",
        "\n",
        "\n",
        "Y_train = to_categorical(y_train, nb_classes)\n",
        "Y_test = to_categorical(y_test, nb_classes)"
      ],
      "execution_count": null,
      "outputs": [
        {
          "output_type": "stream",
          "text": [
            "Downloading data from https://storage.googleapis.com/tensorflow/tf-keras-datasets/mnist.npz\n",
            "11493376/11490434 [==============================] - 0s 0us/step\n"
          ],
          "name": "stdout"
        }
      ]
    },
    {
      "cell_type": "code",
      "metadata": {
        "id": "9oW9iVdS7c2v"
      },
      "source": [
        "from tensorflow.keras.models import Sequential\n",
        "from tensorflow.keras.layers import Dense\n",
        "\n",
        "# two hidden layers 1028, 1028\n",
        "model = Sequential()\n",
        "model.add(Dense(1028, input_dim = X_train.shape[1], activation = 'relu'))\n",
        "model.add(Dense(1028, activation = 'relu'))\n",
        "model.add(Dense(10, activation = 'softmax'))\n"
      ],
      "execution_count": null,
      "outputs": []
    },
    {
      "cell_type": "code",
      "metadata": {
        "id": "EdjzJvQg80kP"
      },
      "source": [
        "from tensorflow.keras.optimizers import SGD\n",
        "sgd = SGD(learning_rate=0.01, momentum=0.9)"
      ],
      "execution_count": null,
      "outputs": []
    },
    {
      "cell_type": "code",
      "metadata": {
        "id": "hmxnjQqw8dGF"
      },
      "source": [
        "model.compile(optimizer=sgd, loss='categorical_crossentropy', metrics=['accuracy'])"
      ],
      "execution_count": null,
      "outputs": []
    },
    {
      "cell_type": "code",
      "metadata": {
        "id": "lQ0mGdkY9EE3",
        "outputId": "76b9aaba-4b2b-4623-bb1e-25e29985fa59",
        "colab": {
          "base_uri": "https://localhost:8080/"
        }
      },
      "source": [
        "model.fit(X_train, Y_train, validation_data=(X_test, Y_test), batch_size=128, epochs=20, verbose=2)"
      ],
      "execution_count": null,
      "outputs": [
        {
          "output_type": "stream",
          "text": [
            "Epoch 1/20\n",
            "469/469 - 2s - loss: 2.0977 - accuracy: 0.4178 - val_loss: 1.8909 - val_accuracy: 0.6395\n",
            "Epoch 2/20\n",
            "469/469 - 1s - loss: 1.7117 - accuracy: 0.7029 - val_loss: 1.5050 - val_accuracy: 0.7639\n",
            "Epoch 3/20\n",
            "469/469 - 1s - loss: 1.3592 - accuracy: 0.7741 - val_loss: 1.1814 - val_accuracy: 0.8044\n",
            "Epoch 4/20\n",
            "469/469 - 1s - loss: 1.0864 - accuracy: 0.8073 - val_loss: 0.9524 - val_accuracy: 0.8255\n",
            "Epoch 5/20\n",
            "469/469 - 1s - loss: 0.8991 - accuracy: 0.8243 - val_loss: 0.7995 - val_accuracy: 0.8434\n",
            "Epoch 6/20\n",
            "469/469 - 1s - loss: 0.7729 - accuracy: 0.8384 - val_loss: 0.6964 - val_accuracy: 0.8547\n",
            "Epoch 7/20\n",
            "469/469 - 1s - loss: 0.6855 - accuracy: 0.8479 - val_loss: 0.6237 - val_accuracy: 0.8644\n",
            "Epoch 8/20\n",
            "469/469 - 1s - loss: 0.6222 - accuracy: 0.8560 - val_loss: 0.5700 - val_accuracy: 0.8706\n",
            "Epoch 9/20\n",
            "469/469 - 1s - loss: 0.5745 - accuracy: 0.8632 - val_loss: 0.5292 - val_accuracy: 0.8752\n",
            "Epoch 10/20\n",
            "469/469 - 1s - loss: 0.5372 - accuracy: 0.8695 - val_loss: 0.4969 - val_accuracy: 0.8792\n",
            "Epoch 11/20\n",
            "469/469 - 1s - loss: 0.5073 - accuracy: 0.8738 - val_loss: 0.4708 - val_accuracy: 0.8835\n",
            "Epoch 12/20\n",
            "469/469 - 1s - loss: 0.4829 - accuracy: 0.8782 - val_loss: 0.4490 - val_accuracy: 0.8868\n",
            "Epoch 13/20\n",
            "469/469 - 1s - loss: 0.4624 - accuracy: 0.8819 - val_loss: 0.4310 - val_accuracy: 0.8893\n",
            "Epoch 14/20\n",
            "469/469 - 1s - loss: 0.4451 - accuracy: 0.8845 - val_loss: 0.4154 - val_accuracy: 0.8923\n",
            "Epoch 15/20\n",
            "469/469 - 1s - loss: 0.4302 - accuracy: 0.8872 - val_loss: 0.4023 - val_accuracy: 0.8954\n",
            "Epoch 16/20\n",
            "469/469 - 1s - loss: 0.4171 - accuracy: 0.8899 - val_loss: 0.3906 - val_accuracy: 0.8969\n",
            "Epoch 17/20\n",
            "469/469 - 1s - loss: 0.4057 - accuracy: 0.8921 - val_loss: 0.3804 - val_accuracy: 0.8992\n",
            "Epoch 18/20\n",
            "469/469 - 1s - loss: 0.3955 - accuracy: 0.8939 - val_loss: 0.3714 - val_accuracy: 0.9015\n",
            "Epoch 19/20\n",
            "469/469 - 1s - loss: 0.3864 - accuracy: 0.8956 - val_loss: 0.3631 - val_accuracy: 0.9027\n",
            "Epoch 20/20\n",
            "469/469 - 1s - loss: 0.3783 - accuracy: 0.8976 - val_loss: 0.3560 - val_accuracy: 0.9038\n"
          ],
          "name": "stdout"
        },
        {
          "output_type": "execute_result",
          "data": {
            "text/plain": [
              "<tensorflow.python.keras.callbacks.History at 0x7f72ee4affd0>"
            ]
          },
          "metadata": {
            "tags": []
          },
          "execution_count": 31
        }
      ]
    },
    {
      "cell_type": "code",
      "metadata": {
        "id": "_cLgPVPk9KbJ"
      },
      "source": [
        ""
      ],
      "execution_count": null,
      "outputs": []
    },
    {
      "cell_type": "code",
      "metadata": {
        "id": "TClLnTQX9KdR"
      },
      "source": [
        "!pip install tensorflow -U"
      ],
      "execution_count": null,
      "outputs": []
    },
    {
      "cell_type": "code",
      "metadata": {
        "id": "_V2KAXXz9Khs"
      },
      "source": [
        ""
      ],
      "execution_count": null,
      "outputs": []
    },
    {
      "cell_type": "code",
      "metadata": {
        "id": "89Zbx5CN9KkC"
      },
      "source": [
        ""
      ],
      "execution_count": null,
      "outputs": []
    }
  ]
}