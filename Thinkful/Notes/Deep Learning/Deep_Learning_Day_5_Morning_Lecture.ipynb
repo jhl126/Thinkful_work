{
  "nbformat": 4,
  "nbformat_minor": 0,
  "metadata": {
    "colab": {
      "name": "Deep Learning Day 5 Morning Lecture.ipynb",
      "provenance": []
    },
    "kernelspec": {
      "name": "python3",
      "display_name": "Python 3"
    },
    "accelerator": "GPU"
  },
  "cells": [
    {
      "cell_type": "code",
      "metadata": {
        "id": "xYC5sbJwQaA_",
        "outputId": "7a5af59f-7943-4dc8-aac4-c948c6bca767",
        "colab": {
          "base_uri": "https://localhost:8080/"
        }
      },
      "source": [
        "import numpy as np\n",
        "import pandas as pd\n",
        "from sklearn.model_selection import train_test_split\n",
        "\n",
        "import nltk\n",
        "nltk.download('stopwords')"
      ],
      "execution_count": null,
      "outputs": [
        {
          "output_type": "stream",
          "text": [
            "[nltk_data] Downloading package stopwords to /root/nltk_data...\n",
            "[nltk_data]   Unzipping corpora/stopwords.zip.\n"
          ],
          "name": "stdout"
        },
        {
          "output_type": "execute_result",
          "data": {
            "text/plain": [
              "True"
            ]
          },
          "metadata": {
            "tags": []
          },
          "execution_count": 1
        }
      ]
    },
    {
      "cell_type": "code",
      "metadata": {
        "id": "guMpnz7pQa4L",
        "outputId": "3f9f52a7-985e-45d0-c4bb-4941f5ecce19",
        "colab": {
          "base_uri": "https://localhost:8080/",
          "height": 204
        }
      },
      "source": [
        "tweets = pd.read_csv('https://tf-assets-prod.s3.amazonaws.com/tf-curric/data-science/Tweets.csv')\n",
        "tweets = tweets[['text', 'airline_sentiment']]\n",
        "tweets.head()"
      ],
      "execution_count": null,
      "outputs": [
        {
          "output_type": "execute_result",
          "data": {
            "text/html": [
              "<div>\n",
              "<style scoped>\n",
              "    .dataframe tbody tr th:only-of-type {\n",
              "        vertical-align: middle;\n",
              "    }\n",
              "\n",
              "    .dataframe tbody tr th {\n",
              "        vertical-align: top;\n",
              "    }\n",
              "\n",
              "    .dataframe thead th {\n",
              "        text-align: right;\n",
              "    }\n",
              "</style>\n",
              "<table border=\"1\" class=\"dataframe\">\n",
              "  <thead>\n",
              "    <tr style=\"text-align: right;\">\n",
              "      <th></th>\n",
              "      <th>text</th>\n",
              "      <th>airline_sentiment</th>\n",
              "    </tr>\n",
              "  </thead>\n",
              "  <tbody>\n",
              "    <tr>\n",
              "      <th>0</th>\n",
              "      <td>@VirginAmerica What @dhepburn said.</td>\n",
              "      <td>neutral</td>\n",
              "    </tr>\n",
              "    <tr>\n",
              "      <th>1</th>\n",
              "      <td>@VirginAmerica plus you've added commercials t...</td>\n",
              "      <td>positive</td>\n",
              "    </tr>\n",
              "    <tr>\n",
              "      <th>2</th>\n",
              "      <td>@VirginAmerica I didn't today... Must mean I n...</td>\n",
              "      <td>neutral</td>\n",
              "    </tr>\n",
              "    <tr>\n",
              "      <th>3</th>\n",
              "      <td>@VirginAmerica it's really aggressive to blast...</td>\n",
              "      <td>negative</td>\n",
              "    </tr>\n",
              "    <tr>\n",
              "      <th>4</th>\n",
              "      <td>@VirginAmerica and it's a really big bad thing...</td>\n",
              "      <td>negative</td>\n",
              "    </tr>\n",
              "  </tbody>\n",
              "</table>\n",
              "</div>"
            ],
            "text/plain": [
              "                                                text airline_sentiment\n",
              "0                @VirginAmerica What @dhepburn said.           neutral\n",
              "1  @VirginAmerica plus you've added commercials t...          positive\n",
              "2  @VirginAmerica I didn't today... Must mean I n...           neutral\n",
              "3  @VirginAmerica it's really aggressive to blast...          negative\n",
              "4  @VirginAmerica and it's a really big bad thing...          negative"
            ]
          },
          "metadata": {
            "tags": []
          },
          "execution_count": 2
        }
      ]
    },
    {
      "cell_type": "code",
      "metadata": {
        "id": "WcIKoM9TQd8f"
      },
      "source": [
        "from nltk.corpus import stopwords\n",
        "import re\n",
        "from nltk.stem.porter import PorterStemmer\n",
        "\n",
        "stemmer = PorterStemmer()"
      ],
      "execution_count": null,
      "outputs": []
    },
    {
      "cell_type": "code",
      "metadata": {
        "id": "8A4otCJoQjCO"
      },
      "source": [
        "def remove_stopwords(input_text):\n",
        "        stopwords_list = stopwords.words('english')\n",
        "        # Some words which might indicate a certain sentiment are kept via a whitelist\n",
        "        whitelist = [\"n't\", \"not\", \"no\"]\n",
        "        words = input_text.split() \n",
        "        clean_words = [word for word in words if (word not in stopwords_list or word in whitelist) and len(word) > 1] \n",
        "        return \" \".join(clean_words) \n",
        "    \n",
        "def remove_mentions(input_text):\n",
        "        return re.sub(r'@\\w+', '', input_text)\n",
        "       \n",
        "tweets.text = tweets.text.apply(remove_stopwords).apply(remove_mentions)"
      ],
      "execution_count": null,
      "outputs": []
    },
    {
      "cell_type": "code",
      "metadata": {
        "id": "YFwhJTxqQl7U"
      },
      "source": [
        "def stemList(wordList):\n",
        "    stemmed = []\n",
        "    for word in wordList:\n",
        "        stemmedword = stemmer.stem(word)\n",
        "        stemmed.append(stemmedword)\n",
        "    return stemmed\n",
        "\n",
        "def normalize(pref):\n",
        "    pref = pref.lower()\n",
        "    word_delimiters = u'[\\\\[\\\\]\\n.!?,;:\\t\\\\-\\\\\"\\\\(\\\\)\\\\\\'\\u2019\\u2013 ]'\n",
        "    prefList = re.split(word_delimiters, pref)\n",
        "    trimmed = [x.rstrip() for x in prefList]\n",
        "    stemmed = stemList(trimmed)\n",
        "    space = ' '\n",
        "    normed = space.join(stemmed)\n",
        "    normed = normed.replace('  ', ' ')\n",
        "    return normed"
      ],
      "execution_count": null,
      "outputs": []
    },
    {
      "cell_type": "code",
      "metadata": {
        "id": "-saaRvEMQsRM"
      },
      "source": [
        "tweets['normalized'] = tweets.text.apply(normalize)"
      ],
      "execution_count": null,
      "outputs": []
    },
    {
      "cell_type": "code",
      "metadata": {
        "id": "-W0BhjDaQzzF",
        "outputId": "674f26b0-245e-4b84-fc12-ef9e31ebc928",
        "colab": {
          "base_uri": "https://localhost:8080/",
          "height": 419
        }
      },
      "source": [
        "tweets"
      ],
      "execution_count": null,
      "outputs": [
        {
          "output_type": "execute_result",
          "data": {
            "text/html": [
              "<div>\n",
              "<style scoped>\n",
              "    .dataframe tbody tr th:only-of-type {\n",
              "        vertical-align: middle;\n",
              "    }\n",
              "\n",
              "    .dataframe tbody tr th {\n",
              "        vertical-align: top;\n",
              "    }\n",
              "\n",
              "    .dataframe thead th {\n",
              "        text-align: right;\n",
              "    }\n",
              "</style>\n",
              "<table border=\"1\" class=\"dataframe\">\n",
              "  <thead>\n",
              "    <tr style=\"text-align: right;\">\n",
              "      <th></th>\n",
              "      <th>text</th>\n",
              "      <th>airline_sentiment</th>\n",
              "      <th>normalized</th>\n",
              "    </tr>\n",
              "  </thead>\n",
              "  <tbody>\n",
              "    <tr>\n",
              "      <th>0</th>\n",
              "      <td>What  said.</td>\n",
              "      <td>neutral</td>\n",
              "      <td>what said</td>\n",
              "    </tr>\n",
              "    <tr>\n",
              "      <th>1</th>\n",
              "      <td>plus added commercials experience... tacky.</td>\n",
              "      <td>positive</td>\n",
              "      <td>plu ad commerci experi  tacki</td>\n",
              "    </tr>\n",
              "    <tr>\n",
              "      <th>2</th>\n",
              "      <td>today... Must mean need take another trip!</td>\n",
              "      <td>neutral</td>\n",
              "      <td>today  must mean need take anoth trip</td>\n",
              "    </tr>\n",
              "    <tr>\n",
              "      <th>3</th>\n",
              "      <td>really aggressive blast obnoxious \"entertainm...</td>\n",
              "      <td>negative</td>\n",
              "      <td>realli aggress blast obnoxi entertain guest f...</td>\n",
              "    </tr>\n",
              "    <tr>\n",
              "      <th>4</th>\n",
              "      <td>really big bad thing</td>\n",
              "      <td>negative</td>\n",
              "      <td>realli big bad thing</td>\n",
              "    </tr>\n",
              "    <tr>\n",
              "      <th>...</th>\n",
              "      <td>...</td>\n",
              "      <td>...</td>\n",
              "      <td>...</td>\n",
              "    </tr>\n",
              "    <tr>\n",
              "      <th>14635</th>\n",
              "      <td>thank got different flight Chicago.</td>\n",
              "      <td>positive</td>\n",
              "      <td>thank got differ flight chicago</td>\n",
              "    </tr>\n",
              "    <tr>\n",
              "      <th>14636</th>\n",
              "      <td>leaving 20 minutes Late Flight. No warnings c...</td>\n",
              "      <td>negative</td>\n",
              "      <td>leav 20 minut late flight no warn commun 15 m...</td>\n",
              "    </tr>\n",
              "    <tr>\n",
              "      <th>14637</th>\n",
              "      <td>Please bring American Airlines #BlackBerry10</td>\n",
              "      <td>neutral</td>\n",
              "      <td>pleas bring american airlin #blackberry10</td>\n",
              "    </tr>\n",
              "    <tr>\n",
              "      <th>14638</th>\n",
              "      <td>money, change flight, answer phones! Any sugg...</td>\n",
              "      <td>negative</td>\n",
              "      <td>money chang flight answer phone ani suggest m...</td>\n",
              "    </tr>\n",
              "    <tr>\n",
              "      <th>14639</th>\n",
              "      <td>ppl need know many seats next flight. Plz put...</td>\n",
              "      <td>neutral</td>\n",
              "      <td>ppl need know mani seat next flight plz put u...</td>\n",
              "    </tr>\n",
              "  </tbody>\n",
              "</table>\n",
              "<p>14640 rows × 3 columns</p>\n",
              "</div>"
            ],
            "text/plain": [
              "                                                    text  ...                                         normalized\n",
              "0                                            What  said.  ...                                         what said \n",
              "1            plus added commercials experience... tacky.  ...                     plu ad commerci experi  tacki \n",
              "2             today... Must mean need take another trip!  ...             today  must mean need take anoth trip \n",
              "3       really aggressive blast obnoxious \"entertainm...  ...   realli aggress blast obnoxi entertain guest f...\n",
              "4                                   really big bad thing  ...                               realli big bad thing\n",
              "...                                                  ...  ...                                                ...\n",
              "14635                thank got different flight Chicago.  ...                   thank got differ flight chicago \n",
              "14636   leaving 20 minutes Late Flight. No warnings c...  ...   leav 20 minut late flight no warn commun 15 m...\n",
              "14637       Please bring American Airlines #BlackBerry10  ...          pleas bring american airlin #blackberry10\n",
              "14638   money, change flight, answer phones! Any sugg...  ...   money chang flight answer phone ani suggest m...\n",
              "14639   ppl need know many seats next flight. Plz put...  ...   ppl need know mani seat next flight plz put u...\n",
              "\n",
              "[14640 rows x 3 columns]"
            ]
          },
          "metadata": {
            "tags": []
          },
          "execution_count": 7
        }
      ]
    },
    {
      "cell_type": "code",
      "metadata": {
        "id": "6Lt_R2TyQxij"
      },
      "source": [
        "from tensorflow.keras.preprocessing.text import one_hot\n",
        "\n",
        "vocab_size=len(set(tweets.normalized.str.split().sum()))\n",
        "tweets['encoded'] = tweets.normalized.apply(one_hot, args=[vocab_size])"
      ],
      "execution_count": null,
      "outputs": []
    },
    {
      "cell_type": "code",
      "metadata": {
        "id": "LcWmfU2xQ9lL",
        "outputId": "7937e85f-ed6c-44f7-d454-c3ccc9acdf5c",
        "colab": {
          "base_uri": "https://localhost:8080/"
        }
      },
      "source": [
        "tweets['encoded']"
      ],
      "execution_count": null,
      "outputs": [
        {
          "output_type": "execute_result",
          "data": {
            "text/plain": [
              "0                                              [494, 8899]\n",
              "1                         [1722, 1546, 12518, 2587, 12862]\n",
              "2              [6031, 9861, 2390, 1290, 1594, 8708, 11329]\n",
              "3        [11093, 674, 10503, 2902, 4683, 4654, 3161, 11...\n",
              "4                                [11093, 1310, 6434, 6741]\n",
              "                               ...                        \n",
              "14635                     [10858, 9277, 5447, 11638, 4584]\n",
              "14636    [7409, 7492, 6092, 5155, 11638, 3438, 10084, 6...\n",
              "14637                         [2349, 468, 205, 6509, 1700]\n",
              "14638    [12095, 5182, 11638, 4435, 5913, 2026, 11406, ...\n",
              "14639    [10770, 1290, 9087, 8165, 2090, 11932, 11638, ...\n",
              "Name: encoded, Length: 14640, dtype: object"
            ]
          },
          "metadata": {
            "tags": []
          },
          "execution_count": 9
        }
      ]
    },
    {
      "cell_type": "code",
      "metadata": {
        "id": "5t6et3buRAsg",
        "outputId": "9a7bbfdd-833d-487a-a929-64780f974203",
        "colab": {
          "base_uri": "https://localhost:8080/"
        }
      },
      "source": [
        "from tensorflow.keras.preprocessing.sequence import pad_sequences\n",
        "\n",
        "independent_vars = pad_sequences(tweets.encoded.values)\n",
        "independent_vars"
      ],
      "execution_count": null,
      "outputs": [
        {
          "output_type": "execute_result",
          "data": {
            "text/plain": [
              "array([[    0,     0,     0, ...,     0,   494,  8899],\n",
              "       [    0,     0,     0, ..., 12518,  2587, 12862],\n",
              "       [    0,     0,     0, ...,  1594,  8708, 11329],\n",
              "       ...,\n",
              "       [    0,     0,     0, ...,   205,  6509,  1700],\n",
              "       [    0,     0,     0, ..., 11406, 10089,  7902],\n",
              "       [    0,     0,     0, ...,  3759, 11932, 11638]], dtype=int32)"
            ]
          },
          "metadata": {
            "tags": []
          },
          "execution_count": 10
        }
      ]
    },
    {
      "cell_type": "code",
      "metadata": {
        "id": "NuQ2ZXqiRJOW",
        "outputId": "6d55f0e8-6ebc-4075-d5f8-46e415d09d00",
        "colab": {
          "base_uri": "https://localhost:8080/"
        }
      },
      "source": [
        "independent_vars.shape"
      ],
      "execution_count": null,
      "outputs": [
        {
          "output_type": "execute_result",
          "data": {
            "text/plain": [
              "(14640, 27)"
            ]
          },
          "metadata": {
            "tags": []
          },
          "execution_count": 11
        }
      ]
    },
    {
      "cell_type": "code",
      "metadata": {
        "id": "40pwLotVRNnQ",
        "outputId": "7c77c084-2377-46de-845d-6296f01eb9e6",
        "colab": {
          "base_uri": "https://localhost:8080/",
          "height": 204
        }
      },
      "source": [
        "tweets.head()"
      ],
      "execution_count": null,
      "outputs": [
        {
          "output_type": "execute_result",
          "data": {
            "text/html": [
              "<div>\n",
              "<style scoped>\n",
              "    .dataframe tbody tr th:only-of-type {\n",
              "        vertical-align: middle;\n",
              "    }\n",
              "\n",
              "    .dataframe tbody tr th {\n",
              "        vertical-align: top;\n",
              "    }\n",
              "\n",
              "    .dataframe thead th {\n",
              "        text-align: right;\n",
              "    }\n",
              "</style>\n",
              "<table border=\"1\" class=\"dataframe\">\n",
              "  <thead>\n",
              "    <tr style=\"text-align: right;\">\n",
              "      <th></th>\n",
              "      <th>text</th>\n",
              "      <th>airline_sentiment</th>\n",
              "      <th>normalized</th>\n",
              "      <th>encoded</th>\n",
              "    </tr>\n",
              "  </thead>\n",
              "  <tbody>\n",
              "    <tr>\n",
              "      <th>0</th>\n",
              "      <td>What  said.</td>\n",
              "      <td>neutral</td>\n",
              "      <td>what said</td>\n",
              "      <td>[494, 8899]</td>\n",
              "    </tr>\n",
              "    <tr>\n",
              "      <th>1</th>\n",
              "      <td>plus added commercials experience... tacky.</td>\n",
              "      <td>positive</td>\n",
              "      <td>plu ad commerci experi  tacki</td>\n",
              "      <td>[1722, 1546, 12518, 2587, 12862]</td>\n",
              "    </tr>\n",
              "    <tr>\n",
              "      <th>2</th>\n",
              "      <td>today... Must mean need take another trip!</td>\n",
              "      <td>neutral</td>\n",
              "      <td>today  must mean need take anoth trip</td>\n",
              "      <td>[6031, 9861, 2390, 1290, 1594, 8708, 11329]</td>\n",
              "    </tr>\n",
              "    <tr>\n",
              "      <th>3</th>\n",
              "      <td>really aggressive blast obnoxious \"entertainm...</td>\n",
              "      <td>negative</td>\n",
              "      <td>realli aggress blast obnoxi entertain guest f...</td>\n",
              "      <td>[11093, 674, 10503, 2902, 4683, 4654, 3161, 11...</td>\n",
              "    </tr>\n",
              "    <tr>\n",
              "      <th>4</th>\n",
              "      <td>really big bad thing</td>\n",
              "      <td>negative</td>\n",
              "      <td>realli big bad thing</td>\n",
              "      <td>[11093, 1310, 6434, 6741]</td>\n",
              "    </tr>\n",
              "  </tbody>\n",
              "</table>\n",
              "</div>"
            ],
            "text/plain": [
              "                                                text  ...                                            encoded\n",
              "0                                        What  said.  ...                                        [494, 8899]\n",
              "1        plus added commercials experience... tacky.  ...                   [1722, 1546, 12518, 2587, 12862]\n",
              "2         today... Must mean need take another trip!  ...        [6031, 9861, 2390, 1290, 1594, 8708, 11329]\n",
              "3   really aggressive blast obnoxious \"entertainm...  ...  [11093, 674, 10503, 2902, 4683, 4654, 3161, 11...\n",
              "4                               really big bad thing  ...                          [11093, 1310, 6434, 6741]\n",
              "\n",
              "[5 rows x 4 columns]"
            ]
          },
          "metadata": {
            "tags": []
          },
          "execution_count": 12
        }
      ]
    },
    {
      "cell_type": "code",
      "metadata": {
        "id": "Dfu4quW6RXcu"
      },
      "source": [
        "from tensorflow.keras.utils import to_categorical\n",
        "target = pd.get_dummies(tweets.airline_sentiment)\n",
        "# target = to_categorical(tweets.airline_sentiment)"
      ],
      "execution_count": null,
      "outputs": []
    },
    {
      "cell_type": "code",
      "metadata": {
        "id": "0vbfNRU4Rcin",
        "outputId": "7b10d70f-dde6-4bd8-d279-cd59a1e19ad8",
        "colab": {
          "base_uri": "https://localhost:8080/",
          "height": 419
        }
      },
      "source": [
        "target"
      ],
      "execution_count": null,
      "outputs": [
        {
          "output_type": "execute_result",
          "data": {
            "text/html": [
              "<div>\n",
              "<style scoped>\n",
              "    .dataframe tbody tr th:only-of-type {\n",
              "        vertical-align: middle;\n",
              "    }\n",
              "\n",
              "    .dataframe tbody tr th {\n",
              "        vertical-align: top;\n",
              "    }\n",
              "\n",
              "    .dataframe thead th {\n",
              "        text-align: right;\n",
              "    }\n",
              "</style>\n",
              "<table border=\"1\" class=\"dataframe\">\n",
              "  <thead>\n",
              "    <tr style=\"text-align: right;\">\n",
              "      <th></th>\n",
              "      <th>negative</th>\n",
              "      <th>neutral</th>\n",
              "      <th>positive</th>\n",
              "    </tr>\n",
              "  </thead>\n",
              "  <tbody>\n",
              "    <tr>\n",
              "      <th>0</th>\n",
              "      <td>0</td>\n",
              "      <td>1</td>\n",
              "      <td>0</td>\n",
              "    </tr>\n",
              "    <tr>\n",
              "      <th>1</th>\n",
              "      <td>0</td>\n",
              "      <td>0</td>\n",
              "      <td>1</td>\n",
              "    </tr>\n",
              "    <tr>\n",
              "      <th>2</th>\n",
              "      <td>0</td>\n",
              "      <td>1</td>\n",
              "      <td>0</td>\n",
              "    </tr>\n",
              "    <tr>\n",
              "      <th>3</th>\n",
              "      <td>1</td>\n",
              "      <td>0</td>\n",
              "      <td>0</td>\n",
              "    </tr>\n",
              "    <tr>\n",
              "      <th>4</th>\n",
              "      <td>1</td>\n",
              "      <td>0</td>\n",
              "      <td>0</td>\n",
              "    </tr>\n",
              "    <tr>\n",
              "      <th>...</th>\n",
              "      <td>...</td>\n",
              "      <td>...</td>\n",
              "      <td>...</td>\n",
              "    </tr>\n",
              "    <tr>\n",
              "      <th>14635</th>\n",
              "      <td>0</td>\n",
              "      <td>0</td>\n",
              "      <td>1</td>\n",
              "    </tr>\n",
              "    <tr>\n",
              "      <th>14636</th>\n",
              "      <td>1</td>\n",
              "      <td>0</td>\n",
              "      <td>0</td>\n",
              "    </tr>\n",
              "    <tr>\n",
              "      <th>14637</th>\n",
              "      <td>0</td>\n",
              "      <td>1</td>\n",
              "      <td>0</td>\n",
              "    </tr>\n",
              "    <tr>\n",
              "      <th>14638</th>\n",
              "      <td>1</td>\n",
              "      <td>0</td>\n",
              "      <td>0</td>\n",
              "    </tr>\n",
              "    <tr>\n",
              "      <th>14639</th>\n",
              "      <td>0</td>\n",
              "      <td>1</td>\n",
              "      <td>0</td>\n",
              "    </tr>\n",
              "  </tbody>\n",
              "</table>\n",
              "<p>14640 rows × 3 columns</p>\n",
              "</div>"
            ],
            "text/plain": [
              "       negative  neutral  positive\n",
              "0             0        1         0\n",
              "1             0        0         1\n",
              "2             0        1         0\n",
              "3             1        0         0\n",
              "4             1        0         0\n",
              "...         ...      ...       ...\n",
              "14635         0        0         1\n",
              "14636         1        0         0\n",
              "14637         0        1         0\n",
              "14638         1        0         0\n",
              "14639         0        1         0\n",
              "\n",
              "[14640 rows x 3 columns]"
            ]
          },
          "metadata": {
            "tags": []
          },
          "execution_count": 14
        }
      ]
    },
    {
      "cell_type": "code",
      "metadata": {
        "id": "jZXTfNp1Rqin"
      },
      "source": [
        "X_train, X_test, y_train, y_test = train_test_split(independent_vars, target, test_size=0.2, random_state=21)"
      ],
      "execution_count": null,
      "outputs": []
    },
    {
      "cell_type": "code",
      "metadata": {
        "id": "SQH0dy8bRxMt"
      },
      "source": [
        "from tensorflow.keras import Sequential\n",
        "from tensorflow.keras.layers import Embedding, LSTM, Dense, GRU"
      ],
      "execution_count": null,
      "outputs": []
    },
    {
      "cell_type": "code",
      "metadata": {
        "id": "gTFlhHJcR8ng",
        "outputId": "b94e9452-db72-44bc-ca37-6a6e7f09fe75",
        "colab": {
          "base_uri": "https://localhost:8080/"
        }
      },
      "source": [
        "target.shape"
      ],
      "execution_count": null,
      "outputs": [
        {
          "output_type": "execute_result",
          "data": {
            "text/plain": [
              "(14640, 3)"
            ]
          },
          "metadata": {
            "tags": []
          },
          "execution_count": 17
        }
      ]
    },
    {
      "cell_type": "code",
      "metadata": {
        "id": "YjrmF-JhR1aM"
      },
      "source": [
        "max_words = np.max(X_train)+1\n",
        "num_class = target.shape[1]\n",
        "max_len = X_train.shape[1]"
      ],
      "execution_count": null,
      "outputs": []
    },
    {
      "cell_type": "code",
      "metadata": {
        "id": "6hruQV9LSAl0",
        "outputId": "59089513-1ee9-4981-b26e-438eddefb471",
        "colab": {
          "base_uri": "https://localhost:8080/"
        }
      },
      "source": [
        "model = Sequential()\n",
        "\n",
        "model.add(Embedding(max_words, 100, input_length=max_len))\n",
        "model.add(LSTM(256))\n",
        "model.add(Dense(512, activation='relu'))\n",
        "model.add(Dense(num_class, activation='softmax'))\n",
        "\n",
        "model.summary()"
      ],
      "execution_count": null,
      "outputs": [
        {
          "output_type": "stream",
          "text": [
            "Model: \"sequential\"\n",
            "_________________________________________________________________\n",
            "Layer (type)                 Output Shape              Param #   \n",
            "=================================================================\n",
            "embedding (Embedding)        (None, 27, 100)           1304400   \n",
            "_________________________________________________________________\n",
            "lstm (LSTM)                  (None, 256)               365568    \n",
            "_________________________________________________________________\n",
            "dense (Dense)                (None, 512)               131584    \n",
            "_________________________________________________________________\n",
            "dense_1 (Dense)              (None, 3)                 1539      \n",
            "=================================================================\n",
            "Total params: 1,803,091\n",
            "Trainable params: 1,803,091\n",
            "Non-trainable params: 0\n",
            "_________________________________________________________________\n"
          ],
          "name": "stdout"
        }
      ]
    },
    {
      "cell_type": "code",
      "metadata": {
        "id": "GLUvZhwpSewA",
        "outputId": "8189a7cc-470d-440d-87a4-8d60bc3c5024",
        "colab": {
          "base_uri": "https://localhost:8080/"
        }
      },
      "source": [
        "model.compile(optimizer='adam', loss='categorical_crossentropy', metrics=['accuracy'])\n",
        "\n",
        "epochs = 50\n",
        "batch_size = 128\n",
        "\n",
        "model.fit(X_train, y_train, validation_data=(X_test, y_test),\n",
        "          batch_size=batch_size, epochs=epochs)"
      ],
      "execution_count": null,
      "outputs": [
        {
          "output_type": "stream",
          "text": [
            "Epoch 1/50\n",
            "92/92 [==============================] - 2s 25ms/step - loss: 0.7335 - accuracy: 0.6927 - val_loss: 0.5917 - val_accuracy: 0.7613\n",
            "Epoch 2/50\n",
            "92/92 [==============================] - 2s 21ms/step - loss: 0.4506 - accuracy: 0.8253 - val_loss: 0.5776 - val_accuracy: 0.7620\n",
            "Epoch 3/50\n",
            "92/92 [==============================] - 2s 21ms/step - loss: 0.3368 - accuracy: 0.8763 - val_loss: 0.6399 - val_accuracy: 0.7650\n",
            "Epoch 4/50\n",
            "92/92 [==============================] - 2s 20ms/step - loss: 0.2631 - accuracy: 0.9076 - val_loss: 0.6805 - val_accuracy: 0.7500\n",
            "Epoch 5/50\n",
            "92/92 [==============================] - 2s 20ms/step - loss: 0.2053 - accuracy: 0.9300 - val_loss: 0.8203 - val_accuracy: 0.7527\n",
            "Epoch 6/50\n",
            "92/92 [==============================] - 2s 20ms/step - loss: 0.1566 - accuracy: 0.9449 - val_loss: 0.9068 - val_accuracy: 0.7421\n",
            "Epoch 7/50\n",
            "92/92 [==============================] - 2s 21ms/step - loss: 0.1277 - accuracy: 0.9559 - val_loss: 1.1603 - val_accuracy: 0.7295\n",
            "Epoch 8/50\n",
            "92/92 [==============================] - 2s 21ms/step - loss: 0.1102 - accuracy: 0.9627 - val_loss: 1.2060 - val_accuracy: 0.7258\n",
            "Epoch 9/50\n",
            "92/92 [==============================] - 2s 21ms/step - loss: 0.0891 - accuracy: 0.9702 - val_loss: 1.2660 - val_accuracy: 0.7319\n",
            "Epoch 10/50\n",
            "92/92 [==============================] - 2s 21ms/step - loss: 0.0743 - accuracy: 0.9749 - val_loss: 1.4400 - val_accuracy: 0.7374\n",
            "Epoch 11/50\n",
            "92/92 [==============================] - 2s 21ms/step - loss: 0.0632 - accuracy: 0.9784 - val_loss: 1.5255 - val_accuracy: 0.7346\n",
            "Epoch 12/50\n",
            "92/92 [==============================] - 2s 21ms/step - loss: 0.0624 - accuracy: 0.9787 - val_loss: 1.6278 - val_accuracy: 0.7374\n",
            "Epoch 13/50\n",
            "92/92 [==============================] - 2s 21ms/step - loss: 0.0476 - accuracy: 0.9833 - val_loss: 1.7223 - val_accuracy: 0.7227\n",
            "Epoch 14/50\n",
            "92/92 [==============================] - 2s 21ms/step - loss: 0.0423 - accuracy: 0.9855 - val_loss: 1.8829 - val_accuracy: 0.7316\n",
            "Epoch 15/50\n",
            "92/92 [==============================] - 2s 20ms/step - loss: 0.0404 - accuracy: 0.9863 - val_loss: 1.8301 - val_accuracy: 0.7251\n",
            "Epoch 16/50\n",
            "92/92 [==============================] - 2s 20ms/step - loss: 0.0407 - accuracy: 0.9855 - val_loss: 2.0196 - val_accuracy: 0.7374\n",
            "Epoch 17/50\n",
            "92/92 [==============================] - 2s 21ms/step - loss: 0.0348 - accuracy: 0.9872 - val_loss: 2.2020 - val_accuracy: 0.7339\n",
            "Epoch 18/50\n",
            "92/92 [==============================] - 2s 21ms/step - loss: 0.0293 - accuracy: 0.9902 - val_loss: 2.2410 - val_accuracy: 0.7254\n",
            "Epoch 19/50\n",
            "92/92 [==============================] - 2s 21ms/step - loss: 0.0271 - accuracy: 0.9902 - val_loss: 2.3322 - val_accuracy: 0.7244\n",
            "Epoch 20/50\n",
            "92/92 [==============================] - 2s 21ms/step - loss: 0.0358 - accuracy: 0.9868 - val_loss: 2.1593 - val_accuracy: 0.7247\n",
            "Epoch 21/50\n",
            "92/92 [==============================] - 2s 21ms/step - loss: 0.0358 - accuracy: 0.9863 - val_loss: 2.2914 - val_accuracy: 0.7298\n",
            "Epoch 22/50\n",
            "92/92 [==============================] - 2s 20ms/step - loss: 0.0306 - accuracy: 0.9877 - val_loss: 2.4693 - val_accuracy: 0.7363\n",
            "Epoch 23/50\n",
            "92/92 [==============================] - 2s 20ms/step - loss: 0.0262 - accuracy: 0.9908 - val_loss: 2.5534 - val_accuracy: 0.7360\n",
            "Epoch 24/50\n",
            "92/92 [==============================] - 2s 21ms/step - loss: 0.0247 - accuracy: 0.9900 - val_loss: 2.7126 - val_accuracy: 0.7367\n",
            "Epoch 25/50\n",
            "92/92 [==============================] - 2s 20ms/step - loss: 0.0211 - accuracy: 0.9922 - val_loss: 2.7995 - val_accuracy: 0.7329\n",
            "Epoch 26/50\n",
            "92/92 [==============================] - 2s 20ms/step - loss: 0.0392 - accuracy: 0.9848 - val_loss: 2.3760 - val_accuracy: 0.7292\n",
            "Epoch 27/50\n",
            "92/92 [==============================] - 2s 20ms/step - loss: 0.0276 - accuracy: 0.9900 - val_loss: 2.5608 - val_accuracy: 0.7343\n",
            "Epoch 28/50\n",
            "92/92 [==============================] - 2s 20ms/step - loss: 0.0188 - accuracy: 0.9931 - val_loss: 2.6423 - val_accuracy: 0.7281\n",
            "Epoch 29/50\n",
            "92/92 [==============================] - 2s 21ms/step - loss: 0.0144 - accuracy: 0.9939 - val_loss: 2.8503 - val_accuracy: 0.7244\n",
            "Epoch 30/50\n",
            "92/92 [==============================] - 2s 20ms/step - loss: 0.0160 - accuracy: 0.9938 - val_loss: 2.9885 - val_accuracy: 0.7288\n",
            "Epoch 31/50\n",
            "92/92 [==============================] - 2s 21ms/step - loss: 0.0241 - accuracy: 0.9918 - val_loss: 2.7103 - val_accuracy: 0.7193\n",
            "Epoch 32/50\n",
            "92/92 [==============================] - 2s 20ms/step - loss: 0.0235 - accuracy: 0.9909 - val_loss: 2.8366 - val_accuracy: 0.7302\n",
            "Epoch 33/50\n",
            "92/92 [==============================] - 2s 20ms/step - loss: 0.0175 - accuracy: 0.9930 - val_loss: 3.0606 - val_accuracy: 0.7316\n",
            "Epoch 34/50\n",
            "92/92 [==============================] - 2s 21ms/step - loss: 0.0133 - accuracy: 0.9950 - val_loss: 3.2678 - val_accuracy: 0.7220\n",
            "Epoch 35/50\n",
            "92/92 [==============================] - 2s 20ms/step - loss: 0.0136 - accuracy: 0.9945 - val_loss: 3.1430 - val_accuracy: 0.7298\n",
            "Epoch 36/50\n",
            "92/92 [==============================] - 2s 20ms/step - loss: 0.0105 - accuracy: 0.9953 - val_loss: 3.3158 - val_accuracy: 0.7336\n",
            "Epoch 37/50\n",
            "92/92 [==============================] - 2s 21ms/step - loss: 0.0102 - accuracy: 0.9961 - val_loss: 3.4397 - val_accuracy: 0.7322\n",
            "Epoch 38/50\n",
            "92/92 [==============================] - 2s 21ms/step - loss: 0.0095 - accuracy: 0.9957 - val_loss: 3.5164 - val_accuracy: 0.7319\n",
            "Epoch 39/50\n",
            "92/92 [==============================] - 2s 21ms/step - loss: 0.0092 - accuracy: 0.9958 - val_loss: 3.5953 - val_accuracy: 0.7326\n",
            "Epoch 40/50\n",
            "92/92 [==============================] - 2s 22ms/step - loss: 0.0090 - accuracy: 0.9961 - val_loss: 3.6874 - val_accuracy: 0.7322\n",
            "Epoch 41/50\n",
            "92/92 [==============================] - 2s 22ms/step - loss: 0.0087 - accuracy: 0.9961 - val_loss: 3.7577 - val_accuracy: 0.7322\n",
            "Epoch 42/50\n",
            "92/92 [==============================] - 2s 23ms/step - loss: 0.0091 - accuracy: 0.9960 - val_loss: 3.7407 - val_accuracy: 0.7312\n",
            "Epoch 43/50\n",
            "92/92 [==============================] - 2s 22ms/step - loss: 0.0085 - accuracy: 0.9961 - val_loss: 3.8201 - val_accuracy: 0.7298\n",
            "Epoch 44/50\n",
            "92/92 [==============================] - 2s 20ms/step - loss: 0.0094 - accuracy: 0.9959 - val_loss: 3.9475 - val_accuracy: 0.7336\n",
            "Epoch 45/50\n",
            "92/92 [==============================] - 2s 21ms/step - loss: 0.0081 - accuracy: 0.9964 - val_loss: 3.9951 - val_accuracy: 0.7326\n",
            "Epoch 46/50\n",
            "92/92 [==============================] - 2s 21ms/step - loss: 0.0089 - accuracy: 0.9956 - val_loss: 4.0048 - val_accuracy: 0.7322\n",
            "Epoch 47/50\n",
            "92/92 [==============================] - 2s 22ms/step - loss: 0.0089 - accuracy: 0.9960 - val_loss: 3.9930 - val_accuracy: 0.7309\n",
            "Epoch 48/50\n",
            "92/92 [==============================] - 2s 22ms/step - loss: 0.0507 - accuracy: 0.9835 - val_loss: 2.5888 - val_accuracy: 0.7374\n",
            "Epoch 49/50\n",
            "92/92 [==============================] - 2s 21ms/step - loss: 0.0524 - accuracy: 0.9822 - val_loss: 1.9392 - val_accuracy: 0.7247\n",
            "Epoch 50/50\n",
            "92/92 [==============================] - 2s 21ms/step - loss: 0.0260 - accuracy: 0.9909 - val_loss: 2.4508 - val_accuracy: 0.7346\n"
          ],
          "name": "stdout"
        },
        {
          "output_type": "execute_result",
          "data": {
            "text/plain": [
              "<tensorflow.python.keras.callbacks.History at 0x7efcb8eff748>"
            ]
          },
          "metadata": {
            "tags": []
          },
          "execution_count": 20
        }
      ]
    },
    {
      "cell_type": "code",
      "metadata": {
        "id": "GGwIyd8bSm5O"
      },
      "source": [
        ""
      ],
      "execution_count": null,
      "outputs": []
    }
  ]
}