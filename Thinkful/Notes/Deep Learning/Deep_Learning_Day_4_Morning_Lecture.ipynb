{
 "cells": [
  {
   "cell_type": "code",
   "execution_count": null,
   "metadata": {
    "id": "F0psXbq_-Tlc"
   },
   "outputs": [],
   "source": [
    "import numpy as np\n",
    "import pandas as pd\n",
    "\n",
    "from tensorflow.keras.preprocessing.image import ImageDataGenerator\n",
    "from tensorflow.keras.models import Sequential\n",
    "from tensorflow.keras.layers import Conv2D, MaxPooling2D\n",
    "from tensorflow.keras.layers import Activation, Dropout, Flatten, Dense, BatchNormalization \n",
    "from tensorflow.keras import backend as K"
   ]
  },
  {
   "cell_type": "code",
   "execution_count": null,
   "metadata": {
    "id": "61EUS4C7HNm-"
   },
   "outputs": [],
   "source": [
    "train_data_dir = '/content/drive/My Drive/data/dogs-vs-cats-processed/train'\n",
    "validation_data_dir = '/content/drive/My Drive/data/dogs-vs-cats-processed/test/'\n",
    "\n",
    "img_width, img_height = 150, 150\n",
    "batch_size=80"
   ]
  },
  {
   "cell_type": "code",
   "execution_count": null,
   "metadata": {
    "id": "6CTDatpxHbMm"
   },
   "outputs": [],
   "source": [
    "input_shape = (img_width, img_height, 3)"
   ]
  },
  {
   "cell_type": "code",
   "execution_count": null,
   "metadata": {
    "id": "YMGPy94UHno1"
   },
   "outputs": [],
   "source": [
    "train_datagen = ImageDataGenerator(\n",
    "    rescale=1. / 255,\n",
    "    shear_range=0.2,\n",
    "    zoom_range=0.2,\n",
    "    horizontal_flip=True\n",
    ")\n",
    "\n",
    "# this is the augmentation configuration\n",
    "test_datagen = ImageDataGenerator(\n",
    "    rescale=1. / 255\n",
    ")"
   ]
  },
  {
   "cell_type": "code",
   "execution_count": null,
   "metadata": {
    "colab": {
     "base_uri": "https://localhost:8080/"
    },
    "id": "AVC59h6_Hs9J",
    "outputId": "d970aa8a-5d97-475c-eaa3-2fa2c062aa68"
   },
   "outputs": [
    {
     "name": "stdout",
     "output_type": "stream",
     "text": [
      "Found 2000 images belonging to 2 classes.\n"
     ]
    }
   ],
   "source": [
    "train_generator = train_datagen.flow_from_directory(\n",
    "    train_data_dir,\n",
    "    target_size=(img_width, img_height),\n",
    "    batch_size=batch_size,\n",
    "    class_mode='binary'\n",
    ")"
   ]
  },
  {
   "cell_type": "code",
   "execution_count": null,
   "metadata": {
    "colab": {
     "base_uri": "https://localhost:8080/"
    },
    "id": "PbjrN6-GJZ6j",
    "outputId": "980c018b-8520-4c4a-a7b2-59e3e1bc9d6d"
   },
   "outputs": [
    {
     "name": "stdout",
     "output_type": "stream",
     "text": [
      "Found 802 images belonging to 2 classes.\n"
     ]
    }
   ],
   "source": [
    "validation_generator = test_datagen.flow_from_directory(\n",
    "    validation_data_dir,\n",
    "    target_size=(img_width, img_height),\n",
    "    batch_size=batch_size,\n",
    "    class_mode='binary'\n",
    ")"
   ]
  },
  {
   "cell_type": "code",
   "execution_count": null,
   "metadata": {
    "id": "VHQUi7ZTJgdb"
   },
   "outputs": [],
   "source": [
    "model = Sequential()\n",
    "\n",
    "# first hidden layer\n",
    "model.add(Conv2D(32, (3,3), input_shape=input_shape))\n",
    "model.add(Activation('relu'))\n",
    "model.add(MaxPooling2D(pool_size=(2,2)))\n",
    "\n",
    "# second hidden layer\n",
    "model.add(Conv2D(32, (3,3)))\n",
    "model.add(Activation('relu'))\n",
    "model.add(MaxPooling2D(pool_size=(2,2)))\n",
    "\n",
    "# third hidden layer\n",
    "# model.add(Conv2D(64, (3,3)))\n",
    "# model.add(Activation('relu'))\n",
    "# model.add(MaxPooling2D(pool_size=(2,2)))\n",
    "\n",
    "model.add(Flatten())\n",
    "model.add(Dense(64))\n",
    "model.add(Activation('relu'))\n",
    "model.add(Dropout(0.5))\n",
    "model.add(Dense(1))\n",
    "model.add(Activation('sigmoid'))"
   ]
  },
  {
   "cell_type": "code",
   "execution_count": null,
   "metadata": {
    "id": "kIYyudWDJmso"
   },
   "outputs": [],
   "source": [
    "nb_train_samples = 2000\n",
    "nb_validation_samples = 802\n",
    "epochs = 50\n",
    "batch_size = 16"
   ]
  },
  {
   "cell_type": "code",
   "execution_count": null,
   "metadata": {
    "colab": {
     "base_uri": "https://localhost:8080/"
    },
    "id": "LrFinHYcJmvR",
    "outputId": "ba38b5c6-351b-4491-e9ef-0dc39f32d8f7"
   },
   "outputs": [
    {
     "data": {
      "text/plain": [
       "125"
      ]
     },
     "execution_count": 9,
     "metadata": {
      "tags": []
     },
     "output_type": "execute_result"
    }
   ],
   "source": [
    "# number_of_steps = number of training samples // batch_size\n",
    "2000 // 16"
   ]
  },
  {
   "cell_type": "code",
   "execution_count": null,
   "metadata": {
    "id": "8ISTyVXqJmxX"
   },
   "outputs": [],
   "source": [
    "model.compile(loss='binary_crossentropy',\n",
    "              optimizer='adam',\n",
    "              metrics=['accuracy'])"
   ]
  },
  {
   "cell_type": "code",
   "execution_count": null,
   "metadata": {
    "colab": {
     "base_uri": "https://localhost:8080/"
    },
    "id": "OvtBAEL0Jmzk",
    "outputId": "fff41568-bb77-4198-bfdd-45df5e37b2ee"
   },
   "outputs": [
    {
     "name": "stdout",
     "output_type": "stream",
     "text": [
      "Epoch 1/10\n",
      "15/15 [==============================] - 10s 693ms/step - loss: 0.6538 - accuracy: 0.6042 - val_loss: 0.6402 - val_accuracy: 0.6150\n",
      "Epoch 2/10\n",
      "15/15 [==============================] - 10s 684ms/step - loss: 0.6345 - accuracy: 0.6275 - val_loss: 0.6772 - val_accuracy: 0.5575\n",
      "Epoch 3/10\n",
      "15/15 [==============================] - 10s 675ms/step - loss: 0.6309 - accuracy: 0.6433 - val_loss: 0.6345 - val_accuracy: 0.6325\n",
      "Epoch 4/10\n",
      "15/15 [==============================] - 10s 673ms/step - loss: 0.6153 - accuracy: 0.6717 - val_loss: 0.6118 - val_accuracy: 0.6375\n",
      "Epoch 5/10\n",
      "15/15 [==============================] - 10s 682ms/step - loss: 0.6080 - accuracy: 0.6917 - val_loss: 0.6136 - val_accuracy: 0.6500\n",
      "Epoch 6/10\n",
      " 9/15 [=================>............] - ETA: 3s - loss: 0.5990 - accuracy: 0.6764"
     ]
    }
   ],
   "source": [
    "model.fit(\n",
    "    train_generator,\n",
    "    steps_per_epoch=15,\n",
    "    epochs=10,\n",
    "    validation_data=validation_generator,\n",
    "    validation_steps=5\n",
    ")"
   ]
  },
  {
   "cell_type": "code",
   "execution_count": null,
   "metadata": {
    "id": "Q5PF9YoRMW_Y"
   },
   "outputs": [],
   "source": [
    "!pip install tensorflow -U\n",
    "!nvidia-smi"
   ]
  },
  {
   "cell_type": "code",
   "execution_count": null,
   "metadata": {
    "id": "xmcVKi17Pv6x"
   },
   "outputs": [],
   "source": []
  }
 ],
 "metadata": {
  "accelerator": "GPU",
  "colab": {
   "name": "Deep Learning Day 2 Morning Lecture.ipynb",
   "provenance": []
  },
  "kernelspec": {
   "display_name": "Python 3",
   "language": "python",
   "name": "python3"
  },
  "language_info": {
   "codemirror_mode": {
    "name": "ipython",
    "version": 3
   },
   "file_extension": ".py",
   "mimetype": "text/x-python",
   "name": "python",
   "nbconvert_exporter": "python",
   "pygments_lexer": "ipython3",
   "version": "3.7.6"
  }
 },
 "nbformat": 4,
 "nbformat_minor": 1
}
