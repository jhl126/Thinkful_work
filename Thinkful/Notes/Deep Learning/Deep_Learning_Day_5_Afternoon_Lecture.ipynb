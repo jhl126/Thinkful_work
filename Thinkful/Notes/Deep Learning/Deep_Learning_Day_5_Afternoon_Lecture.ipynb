{
  "nbformat": 4,
  "nbformat_minor": 0,
  "metadata": {
    "colab": {
      "name": "Deep Learning Day 5 Afternoon Lecture.ipynb",
      "provenance": []
    },
    "kernelspec": {
      "name": "python3",
      "display_name": "Python 3"
    }
  },
  "cells": [
    {
      "cell_type": "code",
      "metadata": {
        "id": "_BHolUfE05oh",
        "outputId": "a6c2eb38-8ea4-416b-9cb0-7a7fa7b08350",
        "colab": {
          "base_uri": "https://localhost:8080/"
        }
      },
      "source": [
        "from tensorflow.keras.layers import Input, Dense\n",
        "from tensorflow.keras.models import Model\n",
        "# using the functional API\n",
        "\n",
        "# input layer\n",
        "inputs = Input(shape=(784,))\n",
        "# hidden layer 1\n",
        "hidden_1 = Dense(64, activation='relu')(inputs)\n",
        "# hidden layer 2\n",
        "hidden_2 = Dense(64, activation='relu')(hidden_1)\n",
        "# output layer\n",
        "outputs = Dense(10, activation='softmax')(hidden_2)\n",
        "\n",
        "model = Model(inputs=inputs, outputs=outputs)\n",
        "model.summary()\n",
        "\n",
        "# model.compile(...)\n",
        "# model.fit(...)"
      ],
      "execution_count": null,
      "outputs": [
        {
          "output_type": "stream",
          "text": [
            "Model: \"functional_1\"\n",
            "_________________________________________________________________\n",
            "Layer (type)                 Output Shape              Param #   \n",
            "=================================================================\n",
            "input_2 (InputLayer)         [(None, 784)]             0         \n",
            "_________________________________________________________________\n",
            "dense_1 (Dense)              (None, 64)                50240     \n",
            "_________________________________________________________________\n",
            "dense_2 (Dense)              (None, 64)                4160      \n",
            "_________________________________________________________________\n",
            "dense_3 (Dense)              (None, 10)                650       \n",
            "=================================================================\n",
            "Total params: 55,050\n",
            "Trainable params: 55,050\n",
            "Non-trainable params: 0\n",
            "_________________________________________________________________\n"
          ],
          "name": "stdout"
        }
      ]
    },
    {
      "cell_type": "code",
      "metadata": {
        "id": "eOrUhtkw1o1_",
        "outputId": "224a2b12-ae16-484d-a9df-99c31af0932a",
        "colab": {
          "base_uri": "https://localhost:8080/"
        }
      },
      "source": [
        "from tensorflow.keras.models import Sequential\n",
        "# using Sequential API\n",
        "\n",
        "model = Sequential()\n",
        "model.add(Dense(64, input_shape=(784,), activation='relu'))\n",
        "model.add(Dense(64, activation='relu'))\n",
        "model.add(Dense(10, activation='relu'))\n",
        "\n",
        "model.summary()\n",
        "\n",
        "# model.compile(...)\n",
        "# model.fit(...)"
      ],
      "execution_count": null,
      "outputs": [
        {
          "output_type": "stream",
          "text": [
            "Model: \"sequential\"\n",
            "_________________________________________________________________\n",
            "Layer (type)                 Output Shape              Param #   \n",
            "=================================================================\n",
            "dense_4 (Dense)              (None, 64)                50240     \n",
            "_________________________________________________________________\n",
            "dense_5 (Dense)              (None, 64)                4160      \n",
            "_________________________________________________________________\n",
            "dense_6 (Dense)              (None, 10)                650       \n",
            "=================================================================\n",
            "Total params: 55,050\n",
            "Trainable params: 55,050\n",
            "Non-trainable params: 0\n",
            "_________________________________________________________________\n"
          ],
          "name": "stdout"
        }
      ]
    },
    {
      "cell_type": "code",
      "metadata": {
        "id": "VCVglGCK25ZA",
        "outputId": "75c1ce55-da22-4f5e-e18e-2003633e9a21",
        "colab": {
          "base_uri": "https://localhost:8080/"
        }
      },
      "source": [
        "from tensorflow.keras.layers import LSTM\n",
        "from tensorflow.keras.utils import plot_model\n",
        "\n",
        "# input layer\n",
        "input_layer = Input(shape=(100,1))\n",
        "extract = LSTM(10)(input_layer)\n",
        "\n",
        "# first branch\n",
        "path1 = Dense(10, activation='relu')(extract)\n",
        "path12 = Dense(20, activation='relu')(path1)\n",
        "path13 = Dense(10, activation='relu')(path12)\n",
        "output_layer1 = Dense(1, activation='sigmoid')(path13)\n",
        "\n",
        "# second branch\n",
        "output_layer2 = Dense(10, activation='softmax')(extract)\n",
        "\n",
        "# one input, two outputs\n",
        "model = Model(inputs=input_layer, outputs=[output_layer1, output_layer2])\n",
        "\n",
        "plot_model(model, to_file='one_input_two_outputs.png')\n",
        "model.summary()"
      ],
      "execution_count": null,
      "outputs": [
        {
          "output_type": "stream",
          "text": [
            "Model: \"functional_3\"\n",
            "__________________________________________________________________________________________________\n",
            "Layer (type)                    Output Shape         Param #     Connected to                     \n",
            "==================================================================================================\n",
            "input_4 (InputLayer)            [(None, 100, 1)]     0                                            \n",
            "__________________________________________________________________________________________________\n",
            "lstm (LSTM)                     (None, 10)           480         input_4[0][0]                    \n",
            "__________________________________________________________________________________________________\n",
            "dense_7 (Dense)                 (None, 10)           110         lstm[0][0]                       \n",
            "__________________________________________________________________________________________________\n",
            "dense_8 (Dense)                 (None, 20)           220         dense_7[0][0]                    \n",
            "__________________________________________________________________________________________________\n",
            "dense_9 (Dense)                 (None, 10)           210         dense_8[0][0]                    \n",
            "__________________________________________________________________________________________________\n",
            "dense_10 (Dense)                (None, 1)            11          dense_9[0][0]                    \n",
            "__________________________________________________________________________________________________\n",
            "dense_11 (Dense)                (None, 10)           110         lstm[0][0]                       \n",
            "==================================================================================================\n",
            "Total params: 1,141\n",
            "Trainable params: 1,141\n",
            "Non-trainable params: 0\n",
            "__________________________________________________________________________________________________\n"
          ],
          "name": "stdout"
        }
      ]
    },
    {
      "cell_type": "code",
      "metadata": {
        "id": "YZVIOnqT48YZ"
      },
      "source": [
        "model.compile(optimizer='adam', loss=['binary_crossentropy', 'categorical_crossentropy'], metrics=['accuracy'])\n",
        "model.fit(X_train, [y_train_1, y_train_2])"
      ],
      "execution_count": null,
      "outputs": []
    },
    {
      "cell_type": "code",
      "metadata": {
        "id": "-4x3-6026DgQ"
      },
      "source": [
        ""
      ],
      "execution_count": null,
      "outputs": []
    },
    {
      "cell_type": "code",
      "metadata": {
        "id": "4VO9ycDU6DiV"
      },
      "source": [
        "from tensorflow.keras.layers import Flatten, Conv2D, MaxPooling2D\n",
        "from tensorflow.keras.layers import concatenate"
      ],
      "execution_count": null,
      "outputs": []
    },
    {
      "cell_type": "code",
      "metadata": {
        "id": "4HViGU7K6Dle",
        "outputId": "3a483347-edb7-4962-a03c-a1d83a33b39f",
        "colab": {
          "base_uri": "https://localhost:8080/"
        }
      },
      "source": [
        "# first input model\n",
        "input_layer1 = Input(shape=(64,64,1))\n",
        "conv1 = Conv2D(32, kernel_size=4, activation='relu')(input_layer1)\n",
        "pool1 = MaxPooling2D(pool_size=(2, 2))(conv1)\n",
        "flat1 = Flatten()(pool1)\n",
        "\n",
        "# second input model\n",
        "input_layer2 = Input(shape=(32,32,3))\n",
        "conv2 = Conv2D(32, kernel_size=4, activation='relu')(input_layer2)\n",
        "pool2 = MaxPooling2D(pool_size=(2, 2))(conv2)\n",
        "flat2 = Flatten()(pool2)\n",
        "\n",
        "# merge input models\n",
        "merge = concatenate([flat1, flat2])\n",
        "\n",
        "# interpretation\n",
        "dense1 = Dense(10, activation='relu', name='denseONE')(merge)\n",
        "dense2 = Dense(10, activation='relu', name='denseTWO')(dense1)\n",
        "output = Dense(1, activation='sigmoid')(dense2)\n",
        "\n",
        "model = Model(inputs=[input_layer1, input_layer2], outputs=output)\n",
        "plot_model(model, to_file='two_inputs_one_output.png')\n",
        "model.summary()"
      ],
      "execution_count": null,
      "outputs": [
        {
          "output_type": "stream",
          "text": [
            "Model: \"functional_7\"\n",
            "__________________________________________________________________________________________________\n",
            "Layer (type)                    Output Shape         Param #     Connected to                     \n",
            "==================================================================================================\n",
            "input_7 (InputLayer)            [(None, 64, 64, 1)]  0                                            \n",
            "__________________________________________________________________________________________________\n",
            "input_8 (InputLayer)            [(None, 32, 32, 3)]  0                                            \n",
            "__________________________________________________________________________________________________\n",
            "conv2d_2 (Conv2D)               (None, 61, 61, 32)   544         input_7[0][0]                    \n",
            "__________________________________________________________________________________________________\n",
            "conv2d_3 (Conv2D)               (None, 29, 29, 32)   1568        input_8[0][0]                    \n",
            "__________________________________________________________________________________________________\n",
            "max_pooling2d_2 (MaxPooling2D)  (None, 30, 30, 32)   0           conv2d_2[0][0]                   \n",
            "__________________________________________________________________________________________________\n",
            "max_pooling2d_3 (MaxPooling2D)  (None, 14, 14, 32)   0           conv2d_3[0][0]                   \n",
            "__________________________________________________________________________________________________\n",
            "flatten_2 (Flatten)             (None, 28800)        0           max_pooling2d_2[0][0]            \n",
            "__________________________________________________________________________________________________\n",
            "flatten_3 (Flatten)             (None, 6272)         0           max_pooling2d_3[0][0]            \n",
            "__________________________________________________________________________________________________\n",
            "concatenate_1 (Concatenate)     (None, 35072)        0           flatten_2[0][0]                  \n",
            "                                                                 flatten_3[0][0]                  \n",
            "__________________________________________________________________________________________________\n",
            "denseONE (Dense)                (None, 10)           350730      concatenate_1[0][0]              \n",
            "__________________________________________________________________________________________________\n",
            "denseTWO (Dense)                (None, 10)           110         denseONE[0][0]                   \n",
            "__________________________________________________________________________________________________\n",
            "dense_15 (Dense)                (None, 1)            11          denseTWO[0][0]                   \n",
            "==================================================================================================\n",
            "Total params: 352,963\n",
            "Trainable params: 352,963\n",
            "Non-trainable params: 0\n",
            "__________________________________________________________________________________________________\n"
          ],
          "name": "stdout"
        }
      ]
    },
    {
      "cell_type": "code",
      "metadata": {
        "id": "j8QaBUox69Lo"
      },
      "source": [
        "model.fit([X_train_1, X_train_2], y_train)"
      ],
      "execution_count": null,
      "outputs": []
    }
  ]
}