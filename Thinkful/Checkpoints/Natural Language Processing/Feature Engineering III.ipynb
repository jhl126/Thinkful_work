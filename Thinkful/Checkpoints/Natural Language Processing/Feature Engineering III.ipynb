{
 "cells": [
  {
   "cell_type": "code",
   "execution_count": 15,
   "metadata": {},
   "outputs": [
    {
     "name": "stderr",
     "output_type": "stream",
     "text": [
      "[nltk_data] Downloading package gutenberg to\n",
      "[nltk_data]     C:\\Users\\jlim7\\AppData\\Roaming\\nltk_data...\n",
      "[nltk_data]   Package gutenberg is already up-to-date!\n"
     ]
    },
    {
     "name": "stdout",
     "output_type": "stream",
     "text": [
      "Requirement already satisfied: en_core_web_sm==2.3.1 from https://github.com/explosion/spacy-models/releases/download/en_core_web_sm-2.3.1/en_core_web_sm-2.3.1.tar.gz#egg=en_core_web_sm==2.3.1 in c:\\users\\jlim7\\anaconda3\\lib\\site-packages (2.3.1)\n",
      "Requirement already satisfied: spacy<2.4.0,>=2.3.0 in c:\\users\\jlim7\\anaconda3\\lib\\site-packages (from en_core_web_sm==2.3.1) (2.3.2)\n",
      "Requirement already satisfied: blis<0.5.0,>=0.4.0 in c:\\users\\jlim7\\anaconda3\\lib\\site-packages (from spacy<2.4.0,>=2.3.0->en_core_web_sm==2.3.1) (0.4.1)\n",
      "Requirement already satisfied: preshed<3.1.0,>=3.0.2 in c:\\users\\jlim7\\anaconda3\\lib\\site-packages (from spacy<2.4.0,>=2.3.0->en_core_web_sm==2.3.1) (3.0.2)\n",
      "Requirement already satisfied: catalogue<1.1.0,>=0.0.7 in c:\\users\\jlim7\\anaconda3\\lib\\site-packages (from spacy<2.4.0,>=2.3.0->en_core_web_sm==2.3.1) (1.0.0)\n",
      "Requirement already satisfied: wasabi<1.1.0,>=0.4.0 in c:\\users\\jlim7\\anaconda3\\lib\\site-packages (from spacy<2.4.0,>=2.3.0->en_core_web_sm==2.3.1) (0.8.0)\n",
      "Requirement already satisfied: requests<3.0.0,>=2.13.0 in c:\\users\\jlim7\\anaconda3\\lib\\site-packages (from spacy<2.4.0,>=2.3.0->en_core_web_sm==2.3.1) (2.22.0)\n",
      "Requirement already satisfied: cymem<2.1.0,>=2.0.2 in c:\\users\\jlim7\\anaconda3\\lib\\site-packages (from spacy<2.4.0,>=2.3.0->en_core_web_sm==2.3.1) (2.0.3)\n",
      "Requirement already satisfied: setuptools in c:\\users\\jlim7\\anaconda3\\lib\\site-packages (from spacy<2.4.0,>=2.3.0->en_core_web_sm==2.3.1) (45.2.0.post20200210)\n",
      "Requirement already satisfied: thinc==7.4.1 in c:\\users\\jlim7\\anaconda3\\lib\\site-packages (from spacy<2.4.0,>=2.3.0->en_core_web_sm==2.3.1) (7.4.1)\n",
      "Requirement already satisfied: numpy>=1.15.0 in c:\\users\\jlim7\\anaconda3\\lib\\site-packages (from spacy<2.4.0,>=2.3.0->en_core_web_sm==2.3.1) (1.18.1)\n",
      "Requirement already satisfied: tqdm<5.0.0,>=4.38.0 in c:\\users\\jlim7\\anaconda3\\lib\\site-packages (from spacy<2.4.0,>=2.3.0->en_core_web_sm==2.3.1) (4.42.1)\n",
      "Requirement already satisfied: plac<1.2.0,>=0.9.6 in c:\\users\\jlim7\\anaconda3\\lib\\site-packages (from spacy<2.4.0,>=2.3.0->en_core_web_sm==2.3.1) (1.1.3)\n",
      "Requirement already satisfied: srsly<1.1.0,>=1.0.2 in c:\\users\\jlim7\\anaconda3\\lib\\site-packages (from spacy<2.4.0,>=2.3.0->en_core_web_sm==2.3.1) (1.0.2)\n",
      "Requirement already satisfied: murmurhash<1.1.0,>=0.28.0 in c:\\users\\jlim7\\anaconda3\\lib\\site-packages (from spacy<2.4.0,>=2.3.0->en_core_web_sm==2.3.1) (1.0.2)\n",
      "Requirement already satisfied: importlib-metadata>=0.20; python_version < \"3.8\" in c:\\users\\jlim7\\anaconda3\\lib\\site-packages (from catalogue<1.1.0,>=0.0.7->spacy<2.4.0,>=2.3.0->en_core_web_sm==2.3.1) (1.5.0)\n",
      "Requirement already satisfied: certifi>=2017.4.17 in c:\\users\\jlim7\\anaconda3\\lib\\site-packages (from requests<3.0.0,>=2.13.0->spacy<2.4.0,>=2.3.0->en_core_web_sm==2.3.1) (2019.11.28)\n",
      "Requirement already satisfied: idna<2.9,>=2.5 in c:\\users\\jlim7\\anaconda3\\lib\\site-packages (from requests<3.0.0,>=2.13.0->spacy<2.4.0,>=2.3.0->en_core_web_sm==2.3.1) (2.8)\n",
      "Requirement already satisfied: urllib3!=1.25.0,!=1.25.1,<1.26,>=1.21.1 in c:\\users\\jlim7\\anaconda3\\lib\\site-packages (from requests<3.0.0,>=2.13.0->spacy<2.4.0,>=2.3.0->en_core_web_sm==2.3.1) (1.25.8)\n",
      "Requirement already satisfied: chardet<3.1.0,>=3.0.2 in c:\\users\\jlim7\\anaconda3\\lib\\site-packages (from requests<3.0.0,>=2.13.0->spacy<2.4.0,>=2.3.0->en_core_web_sm==2.3.1) (3.0.4)\n",
      "Requirement already satisfied: zipp>=0.5 in c:\\users\\jlim7\\anaconda3\\lib\\site-packages (from importlib-metadata>=0.20; python_version < \"3.8\"->catalogue<1.1.0,>=0.0.7->spacy<2.4.0,>=2.3.0->en_core_web_sm==2.3.1) (2.2.0)\n",
      "[+] Download and installation successful\n",
      "You can now load the model via spacy.load('en_core_web_sm')\n",
      "[x] Couldn't link model to 'en'\n",
      "Creating a symlink in spacy/data failed. Make sure you have the required\n",
      "permissions and try re-running the command as admin, or use a virtualenv. You\n",
      "can still import the model as a module and call its load() method, or create the\n",
      "symlink manually.\n",
      "C:\\Users\\jlim7\\anaconda3\\lib\\site-packages\\en_core_web_sm -->\n",
      "C:\\Users\\jlim7\\anaconda3\\lib\\site-packages\\spacy\\data\\en\n",
      "[!] Download successful but linking failed\n",
      "Creating a shortcut link for 'en' didn't work (maybe you don't have admin\n",
      "permissions?), but you can still load the model via its full package name: nlp =\n",
      "spacy.load('en_core_web_sm')\n"
     ]
    },
    {
     "name": "stderr",
     "output_type": "stream",
     "text": [
      "You do not have sufficient privilege to perform this operation.\n"
     ]
    },
    {
     "data": {
      "application/javascript": [
       "\n",
       "            setTimeout(function() {\n",
       "                var nbb_cell_id = 15;\n",
       "                var nbb_unformatted_code = \"%reload_ext nb_black\\nimport numpy as np\\nimport pandas as pd\\nimport sklearn\\nimport spacy\\nimport re\\nimport nltk\\nfrom nltk.corpus import gutenberg\\nimport gensim\\nimport warnings\\nwarnings.filterwarnings(\\\"ignore\\\")\\n\\nnltk.download('gutenberg')\\n!python -m spacy download en\";\n",
       "                var nbb_formatted_code = \"%reload_ext nb_black\\nimport numpy as np\\nimport pandas as pd\\nimport sklearn\\nimport spacy\\nimport re\\nimport nltk\\nfrom nltk.corpus import gutenberg\\nimport gensim\\nimport warnings\\n\\nwarnings.filterwarnings(\\\"ignore\\\")\\n\\nnltk.download(\\\"gutenberg\\\")\\n!python -m spacy download en\";\n",
       "                var nbb_cells = Jupyter.notebook.get_cells();\n",
       "                for (var i = 0; i < nbb_cells.length; ++i) {\n",
       "                    if (nbb_cells[i].input_prompt_number == nbb_cell_id) {\n",
       "                        if (nbb_cells[i].get_text() == nbb_unformatted_code) {\n",
       "                             nbb_cells[i].set_text(nbb_formatted_code);\n",
       "                        }\n",
       "                        break;\n",
       "                    }\n",
       "                }\n",
       "            }, 500);\n",
       "            "
      ],
      "text/plain": [
       "<IPython.core.display.Javascript object>"
      ]
     },
     "metadata": {},
     "output_type": "display_data"
    },
    {
     "data": {
      "application/javascript": [
       "\n",
       "            setTimeout(function() {\n",
       "                var nbb_cell_id = 15;\n",
       "                var nbb_unformatted_code = \"%reload_ext nb_black\\nimport numpy as np\\nimport pandas as pd\\nimport sklearn\\nimport spacy\\nimport re\\nimport nltk\\nfrom nltk.corpus import gutenberg\\nimport gensim\\nimport warnings\\nwarnings.filterwarnings(\\\"ignore\\\")\\n\\nnltk.download('gutenberg')\\n!python -m spacy download en\";\n",
       "                var nbb_formatted_code = \"%reload_ext nb_black\\nimport numpy as np\\nimport pandas as pd\\nimport sklearn\\nimport spacy\\nimport re\\nimport nltk\\nfrom nltk.corpus import gutenberg\\nimport gensim\\nimport warnings\\n\\nwarnings.filterwarnings(\\\"ignore\\\")\\n\\nnltk.download(\\\"gutenberg\\\")\\n!python -m spacy download en\";\n",
       "                var nbb_cells = Jupyter.notebook.get_cells();\n",
       "                for (var i = 0; i < nbb_cells.length; ++i) {\n",
       "                    if (nbb_cells[i].input_prompt_number == nbb_cell_id) {\n",
       "                        if (nbb_cells[i].get_text() == nbb_unformatted_code) {\n",
       "                             nbb_cells[i].set_text(nbb_formatted_code);\n",
       "                        }\n",
       "                        break;\n",
       "                    }\n",
       "                }\n",
       "            }, 500);\n",
       "            "
      ],
      "text/plain": [
       "<IPython.core.display.Javascript object>"
      ]
     },
     "metadata": {},
     "output_type": "display_data"
    }
   ],
   "source": [
    "%reload_ext nb_black\n",
    "import numpy as np\n",
    "import pandas as pd\n",
    "import sklearn\n",
    "import spacy\n",
    "import re\n",
    "import nltk\n",
    "from nltk.corpus import gutenberg\n",
    "import gensim\n",
    "import warnings\n",
    "\n",
    "warnings.filterwarnings(\"ignore\")\n",
    "\n",
    "nltk.download(\"gutenberg\")\n",
    "!python -m spacy download en"
   ]
  },
  {
   "cell_type": "code",
   "execution_count": 16,
   "metadata": {},
   "outputs": [
    {
     "data": {
      "application/javascript": [
       "\n",
       "            setTimeout(function() {\n",
       "                var nbb_cell_id = 16;\n",
       "                var nbb_unformatted_code = \"# utility function for standard text cleaning\\ndef text_cleaner(text):\\n    # visual inspection identifies a form of punctuation spaCy does not\\n    # recognize: the double dash '--'.  Better get rid of it now!\\n    text = re.sub(r'--',' ',text)\\n    text = re.sub(\\\"[\\\\[].*?[\\\\]]\\\", \\\"\\\", text)\\n    text = re.sub(r\\\"(\\\\b|\\\\s+\\\\-?|^\\\\-?)(\\\\d+|\\\\d*\\\\.\\\\d+)\\\\b\\\", \\\" \\\", text)\\n    text = ' '.join(text.split())\\n    return text\";\n",
       "                var nbb_formatted_code = \"# utility function for standard text cleaning\\ndef text_cleaner(text):\\n    # visual inspection identifies a form of punctuation spaCy does not\\n    # recognize: the double dash '--'.  Better get rid of it now!\\n    text = re.sub(r\\\"--\\\", \\\" \\\", text)\\n    text = re.sub(\\\"[\\\\[].*?[\\\\]]\\\", \\\"\\\", text)\\n    text = re.sub(r\\\"(\\\\b|\\\\s+\\\\-?|^\\\\-?)(\\\\d+|\\\\d*\\\\.\\\\d+)\\\\b\\\", \\\" \\\", text)\\n    text = \\\" \\\".join(text.split())\\n    return text\";\n",
       "                var nbb_cells = Jupyter.notebook.get_cells();\n",
       "                for (var i = 0; i < nbb_cells.length; ++i) {\n",
       "                    if (nbb_cells[i].input_prompt_number == nbb_cell_id) {\n",
       "                        if (nbb_cells[i].get_text() == nbb_unformatted_code) {\n",
       "                             nbb_cells[i].set_text(nbb_formatted_code);\n",
       "                        }\n",
       "                        break;\n",
       "                    }\n",
       "                }\n",
       "            }, 500);\n",
       "            "
      ],
      "text/plain": [
       "<IPython.core.display.Javascript object>"
      ]
     },
     "metadata": {},
     "output_type": "display_data"
    },
    {
     "data": {
      "application/javascript": [
       "\n",
       "            setTimeout(function() {\n",
       "                var nbb_cell_id = 16;\n",
       "                var nbb_unformatted_code = \"# utility function for standard text cleaning\\ndef text_cleaner(text):\\n    # visual inspection identifies a form of punctuation spaCy does not\\n    # recognize: the double dash '--'.  Better get rid of it now!\\n    text = re.sub(r'--',' ',text)\\n    text = re.sub(\\\"[\\\\[].*?[\\\\]]\\\", \\\"\\\", text)\\n    text = re.sub(r\\\"(\\\\b|\\\\s+\\\\-?|^\\\\-?)(\\\\d+|\\\\d*\\\\.\\\\d+)\\\\b\\\", \\\" \\\", text)\\n    text = ' '.join(text.split())\\n    return text\";\n",
       "                var nbb_formatted_code = \"# utility function for standard text cleaning\\ndef text_cleaner(text):\\n    # visual inspection identifies a form of punctuation spaCy does not\\n    # recognize: the double dash '--'.  Better get rid of it now!\\n    text = re.sub(r\\\"--\\\", \\\" \\\", text)\\n    text = re.sub(\\\"[\\\\[].*?[\\\\]]\\\", \\\"\\\", text)\\n    text = re.sub(r\\\"(\\\\b|\\\\s+\\\\-?|^\\\\-?)(\\\\d+|\\\\d*\\\\.\\\\d+)\\\\b\\\", \\\" \\\", text)\\n    text = \\\" \\\".join(text.split())\\n    return text\";\n",
       "                var nbb_cells = Jupyter.notebook.get_cells();\n",
       "                for (var i = 0; i < nbb_cells.length; ++i) {\n",
       "                    if (nbb_cells[i].input_prompt_number == nbb_cell_id) {\n",
       "                        if (nbb_cells[i].get_text() == nbb_unformatted_code) {\n",
       "                             nbb_cells[i].set_text(nbb_formatted_code);\n",
       "                        }\n",
       "                        break;\n",
       "                    }\n",
       "                }\n",
       "            }, 500);\n",
       "            "
      ],
      "text/plain": [
       "<IPython.core.display.Javascript object>"
      ]
     },
     "metadata": {},
     "output_type": "display_data"
    }
   ],
   "source": [
    "# utility function for standard text cleaning\n",
    "def text_cleaner(text):\n",
    "    # visual inspection identifies a form of punctuation spaCy does not\n",
    "    # recognize: the double dash '--'.  Better get rid of it now!\n",
    "    text = re.sub(r\"--\", \" \", text)\n",
    "    text = re.sub(\"[\\[].*?[\\]]\", \"\", text)\n",
    "    text = re.sub(r\"(\\b|\\s+\\-?|^\\-?)(\\d+|\\d*\\.\\d+)\\b\", \" \", text)\n",
    "    text = \" \".join(text.split())\n",
    "    return text"
   ]
  },
  {
   "cell_type": "code",
   "execution_count": 17,
   "metadata": {},
   "outputs": [
    {
     "data": {
      "application/javascript": [
       "\n",
       "            setTimeout(function() {\n",
       "                var nbb_cell_id = 17;\n",
       "                var nbb_unformatted_code = \"# load and clean the data\\npersuasion = gutenberg.raw('austen-persuasion.txt')\\nalice = gutenberg.raw('carroll-alice.txt')\\n\\n# the chapter indicator is idiosyncratic\\npersuasion = re.sub(r'Chapter \\\\d+', '', persuasion)\\nalice = re.sub(r'CHAPTER .*', '', alice)\\n    \\nalice = text_cleaner(alice)\\npersuasion = text_cleaner(persuasion)\";\n",
       "                var nbb_formatted_code = \"# load and clean the data\\npersuasion = gutenberg.raw(\\\"austen-persuasion.txt\\\")\\nalice = gutenberg.raw(\\\"carroll-alice.txt\\\")\\n\\n# the chapter indicator is idiosyncratic\\npersuasion = re.sub(r\\\"Chapter \\\\d+\\\", \\\"\\\", persuasion)\\nalice = re.sub(r\\\"CHAPTER .*\\\", \\\"\\\", alice)\\n\\nalice = text_cleaner(alice)\\npersuasion = text_cleaner(persuasion)\";\n",
       "                var nbb_cells = Jupyter.notebook.get_cells();\n",
       "                for (var i = 0; i < nbb_cells.length; ++i) {\n",
       "                    if (nbb_cells[i].input_prompt_number == nbb_cell_id) {\n",
       "                        if (nbb_cells[i].get_text() == nbb_unformatted_code) {\n",
       "                             nbb_cells[i].set_text(nbb_formatted_code);\n",
       "                        }\n",
       "                        break;\n",
       "                    }\n",
       "                }\n",
       "            }, 500);\n",
       "            "
      ],
      "text/plain": [
       "<IPython.core.display.Javascript object>"
      ]
     },
     "metadata": {},
     "output_type": "display_data"
    },
    {
     "data": {
      "application/javascript": [
       "\n",
       "            setTimeout(function() {\n",
       "                var nbb_cell_id = 17;\n",
       "                var nbb_unformatted_code = \"# load and clean the data\\npersuasion = gutenberg.raw('austen-persuasion.txt')\\nalice = gutenberg.raw('carroll-alice.txt')\\n\\n# the chapter indicator is idiosyncratic\\npersuasion = re.sub(r'Chapter \\\\d+', '', persuasion)\\nalice = re.sub(r'CHAPTER .*', '', alice)\\n    \\nalice = text_cleaner(alice)\\npersuasion = text_cleaner(persuasion)\";\n",
       "                var nbb_formatted_code = \"# load and clean the data\\npersuasion = gutenberg.raw(\\\"austen-persuasion.txt\\\")\\nalice = gutenberg.raw(\\\"carroll-alice.txt\\\")\\n\\n# the chapter indicator is idiosyncratic\\npersuasion = re.sub(r\\\"Chapter \\\\d+\\\", \\\"\\\", persuasion)\\nalice = re.sub(r\\\"CHAPTER .*\\\", \\\"\\\", alice)\\n\\nalice = text_cleaner(alice)\\npersuasion = text_cleaner(persuasion)\";\n",
       "                var nbb_cells = Jupyter.notebook.get_cells();\n",
       "                for (var i = 0; i < nbb_cells.length; ++i) {\n",
       "                    if (nbb_cells[i].input_prompt_number == nbb_cell_id) {\n",
       "                        if (nbb_cells[i].get_text() == nbb_unformatted_code) {\n",
       "                             nbb_cells[i].set_text(nbb_formatted_code);\n",
       "                        }\n",
       "                        break;\n",
       "                    }\n",
       "                }\n",
       "            }, 500);\n",
       "            "
      ],
      "text/plain": [
       "<IPython.core.display.Javascript object>"
      ]
     },
     "metadata": {},
     "output_type": "display_data"
    }
   ],
   "source": [
    "# load and clean the data\n",
    "persuasion = gutenberg.raw(\"austen-persuasion.txt\")\n",
    "alice = gutenberg.raw(\"carroll-alice.txt\")\n",
    "\n",
    "# the chapter indicator is idiosyncratic\n",
    "persuasion = re.sub(r\"Chapter \\d+\", \"\", persuasion)\n",
    "alice = re.sub(r\"CHAPTER .*\", \"\", alice)\n",
    "\n",
    "alice = text_cleaner(alice)\n",
    "persuasion = text_cleaner(persuasion)"
   ]
  },
  {
   "cell_type": "code",
   "execution_count": 19,
   "metadata": {},
   "outputs": [
    {
     "data": {
      "application/javascript": [
       "\n",
       "            setTimeout(function() {\n",
       "                var nbb_cell_id = 19;\n",
       "                var nbb_unformatted_code = \"# parse the cleaned novels. This can take a bit.\\nnlp = spacy.load(\\\"en_core_web_sm\\\")\\nalice_doc = nlp(alice)\\npersuasion_doc = nlp(persuasion)\";\n",
       "                var nbb_formatted_code = \"# parse the cleaned novels. This can take a bit.\\nnlp = spacy.load(\\\"en_core_web_sm\\\")\\nalice_doc = nlp(alice)\\npersuasion_doc = nlp(persuasion)\";\n",
       "                var nbb_cells = Jupyter.notebook.get_cells();\n",
       "                for (var i = 0; i < nbb_cells.length; ++i) {\n",
       "                    if (nbb_cells[i].input_prompt_number == nbb_cell_id) {\n",
       "                        if (nbb_cells[i].get_text() == nbb_unformatted_code) {\n",
       "                             nbb_cells[i].set_text(nbb_formatted_code);\n",
       "                        }\n",
       "                        break;\n",
       "                    }\n",
       "                }\n",
       "            }, 500);\n",
       "            "
      ],
      "text/plain": [
       "<IPython.core.display.Javascript object>"
      ]
     },
     "metadata": {},
     "output_type": "display_data"
    },
    {
     "data": {
      "application/javascript": [
       "\n",
       "            setTimeout(function() {\n",
       "                var nbb_cell_id = 19;\n",
       "                var nbb_unformatted_code = \"# parse the cleaned novels. This can take a bit.\\nnlp = spacy.load(\\\"en_core_web_sm\\\")\\nalice_doc = nlp(alice)\\npersuasion_doc = nlp(persuasion)\";\n",
       "                var nbb_formatted_code = \"# parse the cleaned novels. This can take a bit.\\nnlp = spacy.load(\\\"en_core_web_sm\\\")\\nalice_doc = nlp(alice)\\npersuasion_doc = nlp(persuasion)\";\n",
       "                var nbb_cells = Jupyter.notebook.get_cells();\n",
       "                for (var i = 0; i < nbb_cells.length; ++i) {\n",
       "                    if (nbb_cells[i].input_prompt_number == nbb_cell_id) {\n",
       "                        if (nbb_cells[i].get_text() == nbb_unformatted_code) {\n",
       "                             nbb_cells[i].set_text(nbb_formatted_code);\n",
       "                        }\n",
       "                        break;\n",
       "                    }\n",
       "                }\n",
       "            }, 500);\n",
       "            "
      ],
      "text/plain": [
       "<IPython.core.display.Javascript object>"
      ]
     },
     "metadata": {},
     "output_type": "display_data"
    }
   ],
   "source": [
    "# parse the cleaned novels. This can take a bit.\n",
    "nlp = spacy.load(\"en_core_web_sm\")\n",
    "alice_doc = nlp(alice)\n",
    "persuasion_doc = nlp(persuasion)"
   ]
  },
  {
   "cell_type": "code",
   "execution_count": 20,
   "metadata": {},
   "outputs": [
    {
     "data": {
      "text/html": [
       "<div>\n",
       "<style scoped>\n",
       "    .dataframe tbody tr th:only-of-type {\n",
       "        vertical-align: middle;\n",
       "    }\n",
       "\n",
       "    .dataframe tbody tr th {\n",
       "        vertical-align: top;\n",
       "    }\n",
       "\n",
       "    .dataframe thead th {\n",
       "        text-align: right;\n",
       "    }\n",
       "</style>\n",
       "<table border=\"1\" class=\"dataframe\">\n",
       "  <thead>\n",
       "    <tr style=\"text-align: right;\">\n",
       "      <th></th>\n",
       "      <th>text</th>\n",
       "      <th>author</th>\n",
       "    </tr>\n",
       "  </thead>\n",
       "  <tbody>\n",
       "    <tr>\n",
       "      <th>0</th>\n",
       "      <td>(Alice, was, beginning, to, get, very, tired, ...</td>\n",
       "      <td>Carroll</td>\n",
       "    </tr>\n",
       "    <tr>\n",
       "      <th>1</th>\n",
       "      <td>(So, she, was, considering, in, her, own, mind...</td>\n",
       "      <td>Carroll</td>\n",
       "    </tr>\n",
       "    <tr>\n",
       "      <th>2</th>\n",
       "      <td>(There, was, nothing, so, VERY, remarkable, in...</td>\n",
       "      <td>Carroll</td>\n",
       "    </tr>\n",
       "    <tr>\n",
       "      <th>3</th>\n",
       "      <td>(Oh, dear, !)</td>\n",
       "      <td>Carroll</td>\n",
       "    </tr>\n",
       "    <tr>\n",
       "      <th>4</th>\n",
       "      <td>(Oh, dear, !)</td>\n",
       "      <td>Carroll</td>\n",
       "    </tr>\n",
       "  </tbody>\n",
       "</table>\n",
       "</div>"
      ],
      "text/plain": [
       "                                                text   author\n",
       "0  (Alice, was, beginning, to, get, very, tired, ...  Carroll\n",
       "1  (So, she, was, considering, in, her, own, mind...  Carroll\n",
       "2  (There, was, nothing, so, VERY, remarkable, in...  Carroll\n",
       "3                                      (Oh, dear, !)  Carroll\n",
       "4                                      (Oh, dear, !)  Carroll"
      ]
     },
     "execution_count": 20,
     "metadata": {},
     "output_type": "execute_result"
    },
    {
     "data": {
      "application/javascript": [
       "\n",
       "            setTimeout(function() {\n",
       "                var nbb_cell_id = 20;\n",
       "                var nbb_unformatted_code = \"# group into sentences\\nalice_sents = [[sent, \\\"Carroll\\\"] for sent in alice_doc.sents]\\npersuasion_sents = [[sent, \\\"Austen\\\"] for sent in persuasion_doc.sents]\\n\\n# combine the sentences from the two novels into one data frame\\nsentences = pd.DataFrame(alice_sents + persuasion_sents, columns = [\\\"text\\\", \\\"author\\\"])\\nsentences.head()\";\n",
       "                var nbb_formatted_code = \"# group into sentences\\nalice_sents = [[sent, \\\"Carroll\\\"] for sent in alice_doc.sents]\\npersuasion_sents = [[sent, \\\"Austen\\\"] for sent in persuasion_doc.sents]\\n\\n# combine the sentences from the two novels into one data frame\\nsentences = pd.DataFrame(alice_sents + persuasion_sents, columns=[\\\"text\\\", \\\"author\\\"])\\nsentences.head()\";\n",
       "                var nbb_cells = Jupyter.notebook.get_cells();\n",
       "                for (var i = 0; i < nbb_cells.length; ++i) {\n",
       "                    if (nbb_cells[i].input_prompt_number == nbb_cell_id) {\n",
       "                        if (nbb_cells[i].get_text() == nbb_unformatted_code) {\n",
       "                             nbb_cells[i].set_text(nbb_formatted_code);\n",
       "                        }\n",
       "                        break;\n",
       "                    }\n",
       "                }\n",
       "            }, 500);\n",
       "            "
      ],
      "text/plain": [
       "<IPython.core.display.Javascript object>"
      ]
     },
     "metadata": {},
     "output_type": "display_data"
    },
    {
     "data": {
      "application/javascript": [
       "\n",
       "            setTimeout(function() {\n",
       "                var nbb_cell_id = 20;\n",
       "                var nbb_unformatted_code = \"# group into sentences\\nalice_sents = [[sent, \\\"Carroll\\\"] for sent in alice_doc.sents]\\npersuasion_sents = [[sent, \\\"Austen\\\"] for sent in persuasion_doc.sents]\\n\\n# combine the sentences from the two novels into one data frame\\nsentences = pd.DataFrame(alice_sents + persuasion_sents, columns = [\\\"text\\\", \\\"author\\\"])\\nsentences.head()\";\n",
       "                var nbb_formatted_code = \"# group into sentences\\nalice_sents = [[sent, \\\"Carroll\\\"] for sent in alice_doc.sents]\\npersuasion_sents = [[sent, \\\"Austen\\\"] for sent in persuasion_doc.sents]\\n\\n# combine the sentences from the two novels into one data frame\\nsentences = pd.DataFrame(alice_sents + persuasion_sents, columns=[\\\"text\\\", \\\"author\\\"])\\nsentences.head()\";\n",
       "                var nbb_cells = Jupyter.notebook.get_cells();\n",
       "                for (var i = 0; i < nbb_cells.length; ++i) {\n",
       "                    if (nbb_cells[i].input_prompt_number == nbb_cell_id) {\n",
       "                        if (nbb_cells[i].get_text() == nbb_unformatted_code) {\n",
       "                             nbb_cells[i].set_text(nbb_formatted_code);\n",
       "                        }\n",
       "                        break;\n",
       "                    }\n",
       "                }\n",
       "            }, 500);\n",
       "            "
      ],
      "text/plain": [
       "<IPython.core.display.Javascript object>"
      ]
     },
     "metadata": {},
     "output_type": "display_data"
    }
   ],
   "source": [
    "# group into sentences\n",
    "alice_sents = [[sent, \"Carroll\"] for sent in alice_doc.sents]\n",
    "persuasion_sents = [[sent, \"Austen\"] for sent in persuasion_doc.sents]\n",
    "\n",
    "# combine the sentences from the two novels into one data frame\n",
    "sentences = pd.DataFrame(alice_sents + persuasion_sents, columns=[\"text\", \"author\"])\n",
    "sentences.head()"
   ]
  },
  {
   "cell_type": "code",
   "execution_count": 21,
   "metadata": {},
   "outputs": [
    {
     "data": {
      "application/javascript": [
       "\n",
       "            setTimeout(function() {\n",
       "                var nbb_cell_id = 21;\n",
       "                var nbb_unformatted_code = \"# get rid off stop words and punctuation\\n# and lemmatize the tokens\\nfor i, sentence in enumerate(sentences[\\\"text\\\"]):\\n    sentences.loc[i, \\\"text\\\"] = [token.lemma_ for token in sentence if not token.is_punct and not token.is_stop]\";\n",
       "                var nbb_formatted_code = \"# get rid off stop words and punctuation\\n# and lemmatize the tokens\\nfor i, sentence in enumerate(sentences[\\\"text\\\"]):\\n    sentences.loc[i, \\\"text\\\"] = [\\n        token.lemma_ for token in sentence if not token.is_punct and not token.is_stop\\n    ]\";\n",
       "                var nbb_cells = Jupyter.notebook.get_cells();\n",
       "                for (var i = 0; i < nbb_cells.length; ++i) {\n",
       "                    if (nbb_cells[i].input_prompt_number == nbb_cell_id) {\n",
       "                        if (nbb_cells[i].get_text() == nbb_unformatted_code) {\n",
       "                             nbb_cells[i].set_text(nbb_formatted_code);\n",
       "                        }\n",
       "                        break;\n",
       "                    }\n",
       "                }\n",
       "            }, 500);\n",
       "            "
      ],
      "text/plain": [
       "<IPython.core.display.Javascript object>"
      ]
     },
     "metadata": {},
     "output_type": "display_data"
    },
    {
     "data": {
      "application/javascript": [
       "\n",
       "            setTimeout(function() {\n",
       "                var nbb_cell_id = 21;\n",
       "                var nbb_unformatted_code = \"# get rid off stop words and punctuation\\n# and lemmatize the tokens\\nfor i, sentence in enumerate(sentences[\\\"text\\\"]):\\n    sentences.loc[i, \\\"text\\\"] = [token.lemma_ for token in sentence if not token.is_punct and not token.is_stop]\";\n",
       "                var nbb_formatted_code = \"# get rid off stop words and punctuation\\n# and lemmatize the tokens\\nfor i, sentence in enumerate(sentences[\\\"text\\\"]):\\n    sentences.loc[i, \\\"text\\\"] = [\\n        token.lemma_ for token in sentence if not token.is_punct and not token.is_stop\\n    ]\";\n",
       "                var nbb_cells = Jupyter.notebook.get_cells();\n",
       "                for (var i = 0; i < nbb_cells.length; ++i) {\n",
       "                    if (nbb_cells[i].input_prompt_number == nbb_cell_id) {\n",
       "                        if (nbb_cells[i].get_text() == nbb_unformatted_code) {\n",
       "                             nbb_cells[i].set_text(nbb_formatted_code);\n",
       "                        }\n",
       "                        break;\n",
       "                    }\n",
       "                }\n",
       "            }, 500);\n",
       "            "
      ],
      "text/plain": [
       "<IPython.core.display.Javascript object>"
      ]
     },
     "metadata": {},
     "output_type": "display_data"
    }
   ],
   "source": [
    "# get rid off stop words and punctuation\n",
    "# and lemmatize the tokens\n",
    "for i, sentence in enumerate(sentences[\"text\"]):\n",
    "    sentences.loc[i, \"text\"] = [\n",
    "        token.lemma_ for token in sentence if not token.is_punct and not token.is_stop\n",
    "    ]"
   ]
  },
  {
   "cell_type": "code",
   "execution_count": 29,
   "metadata": {},
   "outputs": [
    {
     "data": {
      "application/javascript": [
       "\n",
       "            setTimeout(function() {\n",
       "                var nbb_cell_id = 29;\n",
       "                var nbb_unformatted_code = \"# train word2vec on the the sentences\\nmodel1 = gensim.models.Word2Vec(\\n    sentences[\\\"text\\\"],\\n    workers=4,\\n    min_count=1,\\n    window=4,\\n    sg=0,\\n    sample=1e-3,\\n    size=100,\\n    hs=1,\\n)\\n\\nmodel2 = gensim.models.Word2Vec(\\n    sentences[\\\"text\\\"],\\n    workers=4,\\n    min_count=1,\\n    window=6,\\n    sg=0,\\n    sample=1e-3,\\n    size=100,\\n    hs=1,\\n)\\n\\nmodel3 = gensim.models.Word2Vec(\\n    sentences[\\\"text\\\"],\\n    workers=4,\\n    min_count=1,\\n    window=8,\\n    sg=0,\\n    sample=1e-3,\\n    size=100,\\n    hs=1,\\n)\\n\\nmodel4 = gensim.models.Word2Vec(\\n    sentences[\\\"text\\\"],\\n    workers=4,\\n    min_count=1,\\n    window=4,\\n    sg=0,\\n    sample=1e-3,\\n    size=300,\\n    hs=1,\\n)\\n\\nmodel5 = gensim.models.Word2Vec(\\n    sentences[\\\"text\\\"],\\n    workers=4,\\n    min_count=1,\\n    window=6,\\n    sg=0,\\n    sample=1e-3,\\n    size=300,\\n    hs=1,\\n)\\n\\nmodel6 = gensim.models.Word2Vec(\\n    sentences[\\\"text\\\"],\\n    workers=4,\\n    min_count=1,\\n    window=8,\\n    sg=0,\\n    sample=1e-3,\\n    size=300,\\n    hs=1,\\n)\";\n",
       "                var nbb_formatted_code = \"# train word2vec on the the sentences\\nmodel1 = gensim.models.Word2Vec(\\n    sentences[\\\"text\\\"],\\n    workers=4,\\n    min_count=1,\\n    window=4,\\n    sg=0,\\n    sample=1e-3,\\n    size=100,\\n    hs=1,\\n)\\n\\nmodel2 = gensim.models.Word2Vec(\\n    sentences[\\\"text\\\"],\\n    workers=4,\\n    min_count=1,\\n    window=6,\\n    sg=0,\\n    sample=1e-3,\\n    size=100,\\n    hs=1,\\n)\\n\\nmodel3 = gensim.models.Word2Vec(\\n    sentences[\\\"text\\\"],\\n    workers=4,\\n    min_count=1,\\n    window=8,\\n    sg=0,\\n    sample=1e-3,\\n    size=100,\\n    hs=1,\\n)\\n\\nmodel4 = gensim.models.Word2Vec(\\n    sentences[\\\"text\\\"],\\n    workers=4,\\n    min_count=1,\\n    window=4,\\n    sg=0,\\n    sample=1e-3,\\n    size=300,\\n    hs=1,\\n)\\n\\nmodel5 = gensim.models.Word2Vec(\\n    sentences[\\\"text\\\"],\\n    workers=4,\\n    min_count=1,\\n    window=6,\\n    sg=0,\\n    sample=1e-3,\\n    size=300,\\n    hs=1,\\n)\\n\\nmodel6 = gensim.models.Word2Vec(\\n    sentences[\\\"text\\\"],\\n    workers=4,\\n    min_count=1,\\n    window=8,\\n    sg=0,\\n    sample=1e-3,\\n    size=300,\\n    hs=1,\\n)\";\n",
       "                var nbb_cells = Jupyter.notebook.get_cells();\n",
       "                for (var i = 0; i < nbb_cells.length; ++i) {\n",
       "                    if (nbb_cells[i].input_prompt_number == nbb_cell_id) {\n",
       "                        if (nbb_cells[i].get_text() == nbb_unformatted_code) {\n",
       "                             nbb_cells[i].set_text(nbb_formatted_code);\n",
       "                        }\n",
       "                        break;\n",
       "                    }\n",
       "                }\n",
       "            }, 500);\n",
       "            "
      ],
      "text/plain": [
       "<IPython.core.display.Javascript object>"
      ]
     },
     "metadata": {},
     "output_type": "display_data"
    },
    {
     "data": {
      "application/javascript": [
       "\n",
       "            setTimeout(function() {\n",
       "                var nbb_cell_id = 29;\n",
       "                var nbb_unformatted_code = \"# train word2vec on the the sentences\\nmodel1 = gensim.models.Word2Vec(\\n    sentences[\\\"text\\\"],\\n    workers=4,\\n    min_count=1,\\n    window=4,\\n    sg=0,\\n    sample=1e-3,\\n    size=100,\\n    hs=1,\\n)\\n\\nmodel2 = gensim.models.Word2Vec(\\n    sentences[\\\"text\\\"],\\n    workers=4,\\n    min_count=1,\\n    window=6,\\n    sg=0,\\n    sample=1e-3,\\n    size=100,\\n    hs=1,\\n)\\n\\nmodel3 = gensim.models.Word2Vec(\\n    sentences[\\\"text\\\"],\\n    workers=4,\\n    min_count=1,\\n    window=8,\\n    sg=0,\\n    sample=1e-3,\\n    size=100,\\n    hs=1,\\n)\\n\\nmodel4 = gensim.models.Word2Vec(\\n    sentences[\\\"text\\\"],\\n    workers=4,\\n    min_count=1,\\n    window=4,\\n    sg=0,\\n    sample=1e-3,\\n    size=300,\\n    hs=1,\\n)\\n\\nmodel5 = gensim.models.Word2Vec(\\n    sentences[\\\"text\\\"],\\n    workers=4,\\n    min_count=1,\\n    window=6,\\n    sg=0,\\n    sample=1e-3,\\n    size=300,\\n    hs=1,\\n)\\n\\nmodel6 = gensim.models.Word2Vec(\\n    sentences[\\\"text\\\"],\\n    workers=4,\\n    min_count=1,\\n    window=8,\\n    sg=0,\\n    sample=1e-3,\\n    size=300,\\n    hs=1,\\n)\";\n",
       "                var nbb_formatted_code = \"# train word2vec on the the sentences\\nmodel1 = gensim.models.Word2Vec(\\n    sentences[\\\"text\\\"],\\n    workers=4,\\n    min_count=1,\\n    window=4,\\n    sg=0,\\n    sample=1e-3,\\n    size=100,\\n    hs=1,\\n)\\n\\nmodel2 = gensim.models.Word2Vec(\\n    sentences[\\\"text\\\"],\\n    workers=4,\\n    min_count=1,\\n    window=6,\\n    sg=0,\\n    sample=1e-3,\\n    size=100,\\n    hs=1,\\n)\\n\\nmodel3 = gensim.models.Word2Vec(\\n    sentences[\\\"text\\\"],\\n    workers=4,\\n    min_count=1,\\n    window=8,\\n    sg=0,\\n    sample=1e-3,\\n    size=100,\\n    hs=1,\\n)\\n\\nmodel4 = gensim.models.Word2Vec(\\n    sentences[\\\"text\\\"],\\n    workers=4,\\n    min_count=1,\\n    window=4,\\n    sg=0,\\n    sample=1e-3,\\n    size=300,\\n    hs=1,\\n)\\n\\nmodel5 = gensim.models.Word2Vec(\\n    sentences[\\\"text\\\"],\\n    workers=4,\\n    min_count=1,\\n    window=6,\\n    sg=0,\\n    sample=1e-3,\\n    size=300,\\n    hs=1,\\n)\\n\\nmodel6 = gensim.models.Word2Vec(\\n    sentences[\\\"text\\\"],\\n    workers=4,\\n    min_count=1,\\n    window=8,\\n    sg=0,\\n    sample=1e-3,\\n    size=300,\\n    hs=1,\\n)\";\n",
       "                var nbb_cells = Jupyter.notebook.get_cells();\n",
       "                for (var i = 0; i < nbb_cells.length; ++i) {\n",
       "                    if (nbb_cells[i].input_prompt_number == nbb_cell_id) {\n",
       "                        if (nbb_cells[i].get_text() == nbb_unformatted_code) {\n",
       "                             nbb_cells[i].set_text(nbb_formatted_code);\n",
       "                        }\n",
       "                        break;\n",
       "                    }\n",
       "                }\n",
       "            }, 500);\n",
       "            "
      ],
      "text/plain": [
       "<IPython.core.display.Javascript object>"
      ]
     },
     "metadata": {},
     "output_type": "display_data"
    }
   ],
   "source": [
    "# train word2vec on the the sentences\n",
    "model1 = gensim.models.Word2Vec(\n",
    "    sentences[\"text\"],\n",
    "    workers=4,\n",
    "    min_count=1,\n",
    "    window=4,\n",
    "    sg=0,\n",
    "    sample=1e-3,\n",
    "    size=100,\n",
    "    hs=1,\n",
    ")\n",
    "\n",
    "model2 = gensim.models.Word2Vec(\n",
    "    sentences[\"text\"],\n",
    "    workers=4,\n",
    "    min_count=1,\n",
    "    window=6,\n",
    "    sg=0,\n",
    "    sample=1e-3,\n",
    "    size=100,\n",
    "    hs=1,\n",
    ")\n",
    "\n",
    "model3 = gensim.models.Word2Vec(\n",
    "    sentences[\"text\"],\n",
    "    workers=4,\n",
    "    min_count=1,\n",
    "    window=8,\n",
    "    sg=0,\n",
    "    sample=1e-3,\n",
    "    size=100,\n",
    "    hs=1,\n",
    ")\n",
    "\n",
    "model4 = gensim.models.Word2Vec(\n",
    "    sentences[\"text\"],\n",
    "    workers=4,\n",
    "    min_count=1,\n",
    "    window=4,\n",
    "    sg=0,\n",
    "    sample=1e-3,\n",
    "    size=300,\n",
    "    hs=1,\n",
    ")\n",
    "\n",
    "model5 = gensim.models.Word2Vec(\n",
    "    sentences[\"text\"],\n",
    "    workers=4,\n",
    "    min_count=1,\n",
    "    window=6,\n",
    "    sg=0,\n",
    "    sample=1e-3,\n",
    "    size=300,\n",
    "    hs=1,\n",
    ")\n",
    "\n",
    "model6 = gensim.models.Word2Vec(\n",
    "    sentences[\"text\"],\n",
    "    workers=4,\n",
    "    min_count=1,\n",
    "    window=8,\n",
    "    sg=0,\n",
    "    sample=1e-3,\n",
    "    size=300,\n",
    "    hs=1,\n",
    ")"
   ]
  },
  {
   "cell_type": "code",
   "execution_count": 30,
   "metadata": {},
   "outputs": [
    {
     "data": {
      "application/javascript": [
       "\n",
       "            setTimeout(function() {\n",
       "                var nbb_cell_id = 30;\n",
       "                var nbb_unformatted_code = \"word2vec_arr1 = np.zeros((sentences.shape[0], 100))\\nword2vec_arr2 = np.zeros((sentences.shape[0], 100))\\nword2vec_arr3 = np.zeros((sentences.shape[0], 100))\\nword2vec_arr4 = np.zeros((sentences.shape[0], 300))\\nword2vec_arr5 = np.zeros((sentences.shape[0], 300))\\nword2vec_arr6 = np.zeros((sentences.shape[0], 300))\\n\\nfor i, sentence in enumerate(sentences[\\\"text\\\"]):\\n    word2vec_arr1[i, :] = np.mean([model1[lemma] for lemma in sentence], axis=0)\\n    word2vec_arr2[i, :] = np.mean([model2[lemma] for lemma in sentence], axis=0)\\n    word2vec_arr3[i, :] = np.mean([model3[lemma] for lemma in sentence], axis=0)\\n    word2vec_arr4[i, :] = np.mean([model4[lemma] for lemma in sentence], axis=0)\\n    word2vec_arr5[i, :] = np.mean([model5[lemma] for lemma in sentence], axis=0)\\n    word2vec_arr6[i, :] = np.mean([model6[lemma] for lemma in sentence], axis=0)\\n\\nword2vec_arr1 = pd.DataFrame(word2vec_arr1)\\nword2vec_arr2 = pd.DataFrame(word2vec_arr2)\\nword2vec_arr3 = pd.DataFrame(word2vec_arr3)\\nword2vec_arr4 = pd.DataFrame(word2vec_arr4)\\nword2vec_arr5 = pd.DataFrame(word2vec_arr5)\\nword2vec_arr6 = pd.DataFrame(word2vec_arr6)\\n\\nsentences1 = pd.concat([sentences[[\\\"author\\\", \\\"text\\\"]], word2vec_arr1], axis=1)\\nsentences1.dropna(inplace=True)\\n\\nsentences2 = pd.concat([sentences[[\\\"author\\\", \\\"text\\\"]], word2vec_arr2], axis=1)\\nsentences2.dropna(inplace=True)\\n\\nsentences3 = pd.concat([sentences[[\\\"author\\\", \\\"text\\\"]], word2vec_arr3], axis=1)\\nsentences3.dropna(inplace=True)\\n\\nsentences4 = pd.concat([sentences[[\\\"author\\\", \\\"text\\\"]], word2vec_arr4], axis=1)\\nsentences4.dropna(inplace=True)\\n\\nsentences5 = pd.concat([sentences[[\\\"author\\\", \\\"text\\\"]], word2vec_arr5], axis=1)\\nsentences5.dropna(inplace=True)\\n\\nsentences6 = pd.concat([sentences[[\\\"author\\\", \\\"text\\\"]], word2vec_arr6], axis=1)\\nsentences6.dropna(inplace=True)\";\n",
       "                var nbb_formatted_code = \"word2vec_arr1 = np.zeros((sentences.shape[0], 100))\\nword2vec_arr2 = np.zeros((sentences.shape[0], 100))\\nword2vec_arr3 = np.zeros((sentences.shape[0], 100))\\nword2vec_arr4 = np.zeros((sentences.shape[0], 300))\\nword2vec_arr5 = np.zeros((sentences.shape[0], 300))\\nword2vec_arr6 = np.zeros((sentences.shape[0], 300))\\n\\nfor i, sentence in enumerate(sentences[\\\"text\\\"]):\\n    word2vec_arr1[i, :] = np.mean([model1[lemma] for lemma in sentence], axis=0)\\n    word2vec_arr2[i, :] = np.mean([model2[lemma] for lemma in sentence], axis=0)\\n    word2vec_arr3[i, :] = np.mean([model3[lemma] for lemma in sentence], axis=0)\\n    word2vec_arr4[i, :] = np.mean([model4[lemma] for lemma in sentence], axis=0)\\n    word2vec_arr5[i, :] = np.mean([model5[lemma] for lemma in sentence], axis=0)\\n    word2vec_arr6[i, :] = np.mean([model6[lemma] for lemma in sentence], axis=0)\\n\\nword2vec_arr1 = pd.DataFrame(word2vec_arr1)\\nword2vec_arr2 = pd.DataFrame(word2vec_arr2)\\nword2vec_arr3 = pd.DataFrame(word2vec_arr3)\\nword2vec_arr4 = pd.DataFrame(word2vec_arr4)\\nword2vec_arr5 = pd.DataFrame(word2vec_arr5)\\nword2vec_arr6 = pd.DataFrame(word2vec_arr6)\\n\\nsentences1 = pd.concat([sentences[[\\\"author\\\", \\\"text\\\"]], word2vec_arr1], axis=1)\\nsentences1.dropna(inplace=True)\\n\\nsentences2 = pd.concat([sentences[[\\\"author\\\", \\\"text\\\"]], word2vec_arr2], axis=1)\\nsentences2.dropna(inplace=True)\\n\\nsentences3 = pd.concat([sentences[[\\\"author\\\", \\\"text\\\"]], word2vec_arr3], axis=1)\\nsentences3.dropna(inplace=True)\\n\\nsentences4 = pd.concat([sentences[[\\\"author\\\", \\\"text\\\"]], word2vec_arr4], axis=1)\\nsentences4.dropna(inplace=True)\\n\\nsentences5 = pd.concat([sentences[[\\\"author\\\", \\\"text\\\"]], word2vec_arr5], axis=1)\\nsentences5.dropna(inplace=True)\\n\\nsentences6 = pd.concat([sentences[[\\\"author\\\", \\\"text\\\"]], word2vec_arr6], axis=1)\\nsentences6.dropna(inplace=True)\";\n",
       "                var nbb_cells = Jupyter.notebook.get_cells();\n",
       "                for (var i = 0; i < nbb_cells.length; ++i) {\n",
       "                    if (nbb_cells[i].input_prompt_number == nbb_cell_id) {\n",
       "                        if (nbb_cells[i].get_text() == nbb_unformatted_code) {\n",
       "                             nbb_cells[i].set_text(nbb_formatted_code);\n",
       "                        }\n",
       "                        break;\n",
       "                    }\n",
       "                }\n",
       "            }, 500);\n",
       "            "
      ],
      "text/plain": [
       "<IPython.core.display.Javascript object>"
      ]
     },
     "metadata": {},
     "output_type": "display_data"
    },
    {
     "data": {
      "application/javascript": [
       "\n",
       "            setTimeout(function() {\n",
       "                var nbb_cell_id = 30;\n",
       "                var nbb_unformatted_code = \"word2vec_arr1 = np.zeros((sentences.shape[0], 100))\\nword2vec_arr2 = np.zeros((sentences.shape[0], 100))\\nword2vec_arr3 = np.zeros((sentences.shape[0], 100))\\nword2vec_arr4 = np.zeros((sentences.shape[0], 300))\\nword2vec_arr5 = np.zeros((sentences.shape[0], 300))\\nword2vec_arr6 = np.zeros((sentences.shape[0], 300))\\n\\nfor i, sentence in enumerate(sentences[\\\"text\\\"]):\\n    word2vec_arr1[i, :] = np.mean([model1[lemma] for lemma in sentence], axis=0)\\n    word2vec_arr2[i, :] = np.mean([model2[lemma] for lemma in sentence], axis=0)\\n    word2vec_arr3[i, :] = np.mean([model3[lemma] for lemma in sentence], axis=0)\\n    word2vec_arr4[i, :] = np.mean([model4[lemma] for lemma in sentence], axis=0)\\n    word2vec_arr5[i, :] = np.mean([model5[lemma] for lemma in sentence], axis=0)\\n    word2vec_arr6[i, :] = np.mean([model6[lemma] for lemma in sentence], axis=0)\\n\\nword2vec_arr1 = pd.DataFrame(word2vec_arr1)\\nword2vec_arr2 = pd.DataFrame(word2vec_arr2)\\nword2vec_arr3 = pd.DataFrame(word2vec_arr3)\\nword2vec_arr4 = pd.DataFrame(word2vec_arr4)\\nword2vec_arr5 = pd.DataFrame(word2vec_arr5)\\nword2vec_arr6 = pd.DataFrame(word2vec_arr6)\\n\\nsentences1 = pd.concat([sentences[[\\\"author\\\", \\\"text\\\"]], word2vec_arr1], axis=1)\\nsentences1.dropna(inplace=True)\\n\\nsentences2 = pd.concat([sentences[[\\\"author\\\", \\\"text\\\"]], word2vec_arr2], axis=1)\\nsentences2.dropna(inplace=True)\\n\\nsentences3 = pd.concat([sentences[[\\\"author\\\", \\\"text\\\"]], word2vec_arr3], axis=1)\\nsentences3.dropna(inplace=True)\\n\\nsentences4 = pd.concat([sentences[[\\\"author\\\", \\\"text\\\"]], word2vec_arr4], axis=1)\\nsentences4.dropna(inplace=True)\\n\\nsentences5 = pd.concat([sentences[[\\\"author\\\", \\\"text\\\"]], word2vec_arr5], axis=1)\\nsentences5.dropna(inplace=True)\\n\\nsentences6 = pd.concat([sentences[[\\\"author\\\", \\\"text\\\"]], word2vec_arr6], axis=1)\\nsentences6.dropna(inplace=True)\";\n",
       "                var nbb_formatted_code = \"word2vec_arr1 = np.zeros((sentences.shape[0], 100))\\nword2vec_arr2 = np.zeros((sentences.shape[0], 100))\\nword2vec_arr3 = np.zeros((sentences.shape[0], 100))\\nword2vec_arr4 = np.zeros((sentences.shape[0], 300))\\nword2vec_arr5 = np.zeros((sentences.shape[0], 300))\\nword2vec_arr6 = np.zeros((sentences.shape[0], 300))\\n\\nfor i, sentence in enumerate(sentences[\\\"text\\\"]):\\n    word2vec_arr1[i, :] = np.mean([model1[lemma] for lemma in sentence], axis=0)\\n    word2vec_arr2[i, :] = np.mean([model2[lemma] for lemma in sentence], axis=0)\\n    word2vec_arr3[i, :] = np.mean([model3[lemma] for lemma in sentence], axis=0)\\n    word2vec_arr4[i, :] = np.mean([model4[lemma] for lemma in sentence], axis=0)\\n    word2vec_arr5[i, :] = np.mean([model5[lemma] for lemma in sentence], axis=0)\\n    word2vec_arr6[i, :] = np.mean([model6[lemma] for lemma in sentence], axis=0)\\n\\nword2vec_arr1 = pd.DataFrame(word2vec_arr1)\\nword2vec_arr2 = pd.DataFrame(word2vec_arr2)\\nword2vec_arr3 = pd.DataFrame(word2vec_arr3)\\nword2vec_arr4 = pd.DataFrame(word2vec_arr4)\\nword2vec_arr5 = pd.DataFrame(word2vec_arr5)\\nword2vec_arr6 = pd.DataFrame(word2vec_arr6)\\n\\nsentences1 = pd.concat([sentences[[\\\"author\\\", \\\"text\\\"]], word2vec_arr1], axis=1)\\nsentences1.dropna(inplace=True)\\n\\nsentences2 = pd.concat([sentences[[\\\"author\\\", \\\"text\\\"]], word2vec_arr2], axis=1)\\nsentences2.dropna(inplace=True)\\n\\nsentences3 = pd.concat([sentences[[\\\"author\\\", \\\"text\\\"]], word2vec_arr3], axis=1)\\nsentences3.dropna(inplace=True)\\n\\nsentences4 = pd.concat([sentences[[\\\"author\\\", \\\"text\\\"]], word2vec_arr4], axis=1)\\nsentences4.dropna(inplace=True)\\n\\nsentences5 = pd.concat([sentences[[\\\"author\\\", \\\"text\\\"]], word2vec_arr5], axis=1)\\nsentences5.dropna(inplace=True)\\n\\nsentences6 = pd.concat([sentences[[\\\"author\\\", \\\"text\\\"]], word2vec_arr6], axis=1)\\nsentences6.dropna(inplace=True)\";\n",
       "                var nbb_cells = Jupyter.notebook.get_cells();\n",
       "                for (var i = 0; i < nbb_cells.length; ++i) {\n",
       "                    if (nbb_cells[i].input_prompt_number == nbb_cell_id) {\n",
       "                        if (nbb_cells[i].get_text() == nbb_unformatted_code) {\n",
       "                             nbb_cells[i].set_text(nbb_formatted_code);\n",
       "                        }\n",
       "                        break;\n",
       "                    }\n",
       "                }\n",
       "            }, 500);\n",
       "            "
      ],
      "text/plain": [
       "<IPython.core.display.Javascript object>"
      ]
     },
     "metadata": {},
     "output_type": "display_data"
    }
   ],
   "source": [
    "word2vec_arr1 = np.zeros((sentences.shape[0], 100))\n",
    "word2vec_arr2 = np.zeros((sentences.shape[0], 100))\n",
    "word2vec_arr3 = np.zeros((sentences.shape[0], 100))\n",
    "word2vec_arr4 = np.zeros((sentences.shape[0], 300))\n",
    "word2vec_arr5 = np.zeros((sentences.shape[0], 300))\n",
    "word2vec_arr6 = np.zeros((sentences.shape[0], 300))\n",
    "\n",
    "for i, sentence in enumerate(sentences[\"text\"]):\n",
    "    word2vec_arr1[i, :] = np.mean([model1[lemma] for lemma in sentence], axis=0)\n",
    "    word2vec_arr2[i, :] = np.mean([model2[lemma] for lemma in sentence], axis=0)\n",
    "    word2vec_arr3[i, :] = np.mean([model3[lemma] for lemma in sentence], axis=0)\n",
    "    word2vec_arr4[i, :] = np.mean([model4[lemma] for lemma in sentence], axis=0)\n",
    "    word2vec_arr5[i, :] = np.mean([model5[lemma] for lemma in sentence], axis=0)\n",
    "    word2vec_arr6[i, :] = np.mean([model6[lemma] for lemma in sentence], axis=0)\n",
    "\n",
    "word2vec_arr1 = pd.DataFrame(word2vec_arr1)\n",
    "word2vec_arr2 = pd.DataFrame(word2vec_arr2)\n",
    "word2vec_arr3 = pd.DataFrame(word2vec_arr3)\n",
    "word2vec_arr4 = pd.DataFrame(word2vec_arr4)\n",
    "word2vec_arr5 = pd.DataFrame(word2vec_arr5)\n",
    "word2vec_arr6 = pd.DataFrame(word2vec_arr6)\n",
    "\n",
    "sentences1 = pd.concat([sentences[[\"author\", \"text\"]], word2vec_arr1], axis=1)\n",
    "sentences1.dropna(inplace=True)\n",
    "\n",
    "sentences2 = pd.concat([sentences[[\"author\", \"text\"]], word2vec_arr2], axis=1)\n",
    "sentences2.dropna(inplace=True)\n",
    "\n",
    "sentences3 = pd.concat([sentences[[\"author\", \"text\"]], word2vec_arr3], axis=1)\n",
    "sentences3.dropna(inplace=True)\n",
    "\n",
    "sentences4 = pd.concat([sentences[[\"author\", \"text\"]], word2vec_arr4], axis=1)\n",
    "sentences4.dropna(inplace=True)\n",
    "\n",
    "sentences5 = pd.concat([sentences[[\"author\", \"text\"]], word2vec_arr5], axis=1)\n",
    "sentences5.dropna(inplace=True)\n",
    "\n",
    "sentences6 = pd.concat([sentences[[\"author\", \"text\"]], word2vec_arr6], axis=1)\n",
    "sentences6.dropna(inplace=True)"
   ]
  },
  {
   "cell_type": "code",
   "execution_count": 31,
   "metadata": {},
   "outputs": [
    {
     "name": "stdout",
     "output_type": "stream",
     "text": [
      "-----------------------Word2vec Model 1------------------------------\n",
      "----------------------Logistic Regression Scores----------------------\n",
      "Training set score: 0.8006819590824551\n",
      "\n",
      "Test set score: 0.8089260808926081\n",
      "----------------------Random Forest Scores----------------------\n",
      "Training set score: 0.9950402975821451\n",
      "\n",
      "Test set score: 0.8410041841004184\n",
      "----------------------Gradient Boosting Scores----------------------\n",
      "Training set score: 0.8946063236205828\n",
      "\n",
      "Test set score: 0.8317061831706183\n",
      "-----------------------Word2vec Model 2------------------------------\n",
      "----------------------Logistic Regression Scores----------------------\n",
      "Training set score: 0.7978921264724117\n",
      "\n",
      "Test set score: 0.8047419804741981\n",
      "----------------------Random Forest Scores----------------------\n",
      "Training set score: 0.9950402975821451\n",
      "\n",
      "Test set score: 0.8354253835425384\n",
      "----------------------Gradient Boosting Scores----------------------\n",
      "Training set score: 0.8992560446373218\n",
      "\n",
      "Test set score: 0.8428637842863784\n",
      "-----------------------Word2vec Model 3------------------------------\n",
      "----------------------Logistic Regression Scores----------------------\n",
      "Training set score: 0.8093614383137012\n",
      "\n",
      "Test set score: 0.8242677824267782\n",
      "----------------------Random Forest Scores----------------------\n",
      "Training set score: 0.9950402975821451\n",
      "\n",
      "Test set score: 0.8493723849372385\n",
      "----------------------Gradient Boosting Scores----------------------\n",
      "Training set score: 0.898326100433974\n",
      "\n",
      "Test set score: 0.8526266852626685\n",
      "-----------------------Word2vec Model 4------------------------------\n",
      "----------------------Logistic Regression Scores----------------------\n",
      "Training set score: 0.7864228146311222\n",
      "\n",
      "Test set score: 0.801022780102278\n",
      "----------------------Random Forest Scores----------------------\n",
      "Training set score: 0.9950402975821451\n",
      "\n",
      "Test set score: 0.8475127847512784\n",
      "----------------------Gradient Boosting Scores----------------------\n",
      "Training set score: 0.9101053936763794\n",
      "\n",
      "Test set score: 0.8451882845188284\n",
      "-----------------------Word2vec Model 5------------------------------\n",
      "----------------------Logistic Regression Scores----------------------\n",
      "Training set score: 0.7889026658400496\n",
      "\n",
      "Test set score: 0.803347280334728\n",
      "----------------------Random Forest Scores----------------------\n",
      "Training set score: 0.9950402975821451\n",
      "\n",
      "Test set score: 0.8479776847977685\n",
      "----------------------Gradient Boosting Scores----------------------\n",
      "Training set score: 0.9051456912585245\n",
      "\n",
      "Test set score: 0.8540213854021386\n",
      "-----------------------Word2vec Model 6------------------------------\n",
      "----------------------Logistic Regression Scores----------------------\n",
      "Training set score: 0.8115313081215128\n",
      "\n",
      "Test set score: 0.8242677824267782\n",
      "----------------------Random Forest Scores----------------------\n",
      "Training set score: 0.9950402975821451\n",
      "\n",
      "Test set score: 0.8544862854486286\n",
      "----------------------Gradient Boosting Scores----------------------\n",
      "Training set score: 0.9125852448853069\n",
      "\n",
      "Test set score: 0.8540213854021386\n"
     ]
    },
    {
     "data": {
      "application/javascript": [
       "\n",
       "            setTimeout(function() {\n",
       "                var nbb_cell_id = 31;\n",
       "                var nbb_unformatted_code = \"from sklearn.linear_model import LogisticRegression\\nfrom sklearn.ensemble import RandomForestClassifier, GradientBoostingClassifier\\nfrom sklearn.model_selection import train_test_split\\n\\nY1 = sentences1['author']\\nY2 = sentences2['author']\\nY3 = sentences3['author']\\nY4 = sentences4['author']\\nY5 = sentences5['author']\\nY6 = sentences6['author']\\n\\nX1 = np.array(sentences1.drop(['text','author'], 1))\\nX2 = np.array(sentences2.drop(['text','author'], 1))\\nX3 = np.array(sentences3.drop(['text','author'], 1))\\nX4 = np.array(sentences4.drop(['text','author'], 1))\\nX5 = np.array(sentences5.drop(['text','author'], 1))\\nX6 = np.array(sentences6.drop(['text','author'], 1))\\n\\n# We split the dataset into train and test sets\\nX_train1, X_test1, y_train1, y_test1 = train_test_split(X1, Y1, test_size=0.4, random_state=123)\\nX_train2, X_test2, y_train2, y_test2 = train_test_split(X2, Y2, test_size=0.4, random_state=123)\\nX_train3, X_test3, y_train3, y_test3 = train_test_split(X3, Y3, test_size=0.4, random_state=123)\\nX_train4, X_test4, y_train4, y_test4 = train_test_split(X4, Y4, test_size=0.4, random_state=123)\\nX_train5, X_test5, y_train5, y_test5 = train_test_split(X5, Y5, test_size=0.4, random_state=123)\\nX_train6, X_test6, y_train6, y_test6 = train_test_split(X6, Y6, test_size=0.4, random_state=123)\\n\\n# Models\\nlr = LogisticRegression()\\nrfc = RandomForestClassifier()\\ngbc = GradientBoostingClassifier()\\n\\nprint(\\\"-----------------------Word2vec Model 1------------------------------\\\")\\nlr.fit(X_train1, y_train1)\\nrfc.fit(X_train1, y_train1)\\ngbc.fit(X_train1, y_train1)\\nprint(\\\"----------------------Logistic Regression Scores----------------------\\\")\\nprint('Training set score:', lr.score(X_train1, y_train1))\\nprint('\\\\nTest set score:', lr.score(X_test1, y_test1))\\n\\nprint(\\\"----------------------Random Forest Scores----------------------\\\")\\nprint('Training set score:', rfc.score(X_train1, y_train1))\\nprint('\\\\nTest set score:', rfc.score(X_test1, y_test1))\\n\\nprint(\\\"----------------------Gradient Boosting Scores----------------------\\\")\\nprint('Training set score:', gbc.score(X_train1, y_train1))\\nprint('\\\\nTest set score:', gbc.score(X_test1, y_test1))\\n\\nprint(\\\"-----------------------Word2vec Model 2------------------------------\\\")\\nlr.fit(X_train2, y_train2)\\nrfc.fit(X_train2, y_train2)\\ngbc.fit(X_train2, y_train2)\\nprint(\\\"----------------------Logistic Regression Scores----------------------\\\")\\nprint('Training set score:', lr.score(X_train2, y_train2))\\nprint('\\\\nTest set score:', lr.score(X_test2, y_test2))\\n\\nprint(\\\"----------------------Random Forest Scores----------------------\\\")\\nprint('Training set score:', rfc.score(X_train2, y_train2))\\nprint('\\\\nTest set score:', rfc.score(X_test2, y_test2))\\n\\nprint(\\\"----------------------Gradient Boosting Scores----------------------\\\")\\nprint('Training set score:', gbc.score(X_train2, y_train2))\\nprint('\\\\nTest set score:', gbc.score(X_test2, y_test2))\\n\\nprint(\\\"-----------------------Word2vec Model 3------------------------------\\\")\\nlr.fit(X_train3, y_train3)\\nrfc.fit(X_train3, y_train3)\\ngbc.fit(X_train3, y_train3)\\nprint(\\\"----------------------Logistic Regression Scores----------------------\\\")\\nprint('Training set score:', lr.score(X_train3, y_train3))\\nprint('\\\\nTest set score:', lr.score(X_test3, y_test3))\\n\\nprint(\\\"----------------------Random Forest Scores----------------------\\\")\\nprint('Training set score:', rfc.score(X_train3, y_train3))\\nprint('\\\\nTest set score:', rfc.score(X_test3, y_test3))\\n\\nprint(\\\"----------------------Gradient Boosting Scores----------------------\\\")\\nprint('Training set score:', gbc.score(X_train3, y_train3))\\nprint('\\\\nTest set score:', gbc.score(X_test3, y_test3))\\n\\nprint(\\\"-----------------------Word2vec Model 4------------------------------\\\")\\nlr.fit(X_train4, y_train4)\\nrfc.fit(X_train4, y_train4)\\ngbc.fit(X_train4, y_train4)\\nprint(\\\"----------------------Logistic Regression Scores----------------------\\\")\\nprint('Training set score:', lr.score(X_train4, y_train4))\\nprint('\\\\nTest set score:', lr.score(X_test4, y_test4))\\n\\nprint(\\\"----------------------Random Forest Scores----------------------\\\")\\nprint('Training set score:', rfc.score(X_train4, y_train4))\\nprint('\\\\nTest set score:', rfc.score(X_test4, y_test4))\\n\\nprint(\\\"----------------------Gradient Boosting Scores----------------------\\\")\\nprint('Training set score:', gbc.score(X_train4, y_train4))\\nprint('\\\\nTest set score:', gbc.score(X_test4, y_test4))\\n\\nprint(\\\"-----------------------Word2vec Model 5------------------------------\\\")\\nlr.fit(X_train5, y_train5)\\nrfc.fit(X_train5, y_train5)\\ngbc.fit(X_train5, y_train5)\\nprint(\\\"----------------------Logistic Regression Scores----------------------\\\")\\nprint('Training set score:', lr.score(X_train5, y_train5))\\nprint('\\\\nTest set score:', lr.score(X_test5, y_test5))\\n\\nprint(\\\"----------------------Random Forest Scores----------------------\\\")\\nprint('Training set score:', rfc.score(X_train5, y_train5))\\nprint('\\\\nTest set score:', rfc.score(X_test5, y_test5))\\n\\nprint(\\\"----------------------Gradient Boosting Scores----------------------\\\")\\nprint('Training set score:', gbc.score(X_train5, y_train5))\\nprint('\\\\nTest set score:', gbc.score(X_test5, y_test5))\\n\\nprint(\\\"-----------------------Word2vec Model 6------------------------------\\\")\\nlr.fit(X_train6, y_train6)\\nrfc.fit(X_train6, y_train6)\\ngbc.fit(X_train6, y_train6)\\nprint(\\\"----------------------Logistic Regression Scores----------------------\\\")\\nprint('Training set score:', lr.score(X_train6, y_train6))\\nprint('\\\\nTest set score:', lr.score(X_test6, y_test6))\\n\\nprint(\\\"----------------------Random Forest Scores----------------------\\\")\\nprint('Training set score:', rfc.score(X_train6, y_train6))\\nprint('\\\\nTest set score:', rfc.score(X_test6, y_test6))\\n\\nprint(\\\"----------------------Gradient Boosting Scores----------------------\\\")\\nprint('Training set score:', gbc.score(X_train6, y_train6))\\nprint('\\\\nTest set score:', gbc.score(X_test6, y_test6))\";\n",
       "                var nbb_formatted_code = \"from sklearn.linear_model import LogisticRegression\\nfrom sklearn.ensemble import RandomForestClassifier, GradientBoostingClassifier\\nfrom sklearn.model_selection import train_test_split\\n\\nY1 = sentences1[\\\"author\\\"]\\nY2 = sentences2[\\\"author\\\"]\\nY3 = sentences3[\\\"author\\\"]\\nY4 = sentences4[\\\"author\\\"]\\nY5 = sentences5[\\\"author\\\"]\\nY6 = sentences6[\\\"author\\\"]\\n\\nX1 = np.array(sentences1.drop([\\\"text\\\", \\\"author\\\"], 1))\\nX2 = np.array(sentences2.drop([\\\"text\\\", \\\"author\\\"], 1))\\nX3 = np.array(sentences3.drop([\\\"text\\\", \\\"author\\\"], 1))\\nX4 = np.array(sentences4.drop([\\\"text\\\", \\\"author\\\"], 1))\\nX5 = np.array(sentences5.drop([\\\"text\\\", \\\"author\\\"], 1))\\nX6 = np.array(sentences6.drop([\\\"text\\\", \\\"author\\\"], 1))\\n\\n# We split the dataset into train and test sets\\nX_train1, X_test1, y_train1, y_test1 = train_test_split(\\n    X1, Y1, test_size=0.4, random_state=123\\n)\\nX_train2, X_test2, y_train2, y_test2 = train_test_split(\\n    X2, Y2, test_size=0.4, random_state=123\\n)\\nX_train3, X_test3, y_train3, y_test3 = train_test_split(\\n    X3, Y3, test_size=0.4, random_state=123\\n)\\nX_train4, X_test4, y_train4, y_test4 = train_test_split(\\n    X4, Y4, test_size=0.4, random_state=123\\n)\\nX_train5, X_test5, y_train5, y_test5 = train_test_split(\\n    X5, Y5, test_size=0.4, random_state=123\\n)\\nX_train6, X_test6, y_train6, y_test6 = train_test_split(\\n    X6, Y6, test_size=0.4, random_state=123\\n)\\n\\n# Models\\nlr = LogisticRegression()\\nrfc = RandomForestClassifier()\\ngbc = GradientBoostingClassifier()\\n\\nprint(\\\"-----------------------Word2vec Model 1------------------------------\\\")\\nlr.fit(X_train1, y_train1)\\nrfc.fit(X_train1, y_train1)\\ngbc.fit(X_train1, y_train1)\\nprint(\\\"----------------------Logistic Regression Scores----------------------\\\")\\nprint(\\\"Training set score:\\\", lr.score(X_train1, y_train1))\\nprint(\\\"\\\\nTest set score:\\\", lr.score(X_test1, y_test1))\\n\\nprint(\\\"----------------------Random Forest Scores----------------------\\\")\\nprint(\\\"Training set score:\\\", rfc.score(X_train1, y_train1))\\nprint(\\\"\\\\nTest set score:\\\", rfc.score(X_test1, y_test1))\\n\\nprint(\\\"----------------------Gradient Boosting Scores----------------------\\\")\\nprint(\\\"Training set score:\\\", gbc.score(X_train1, y_train1))\\nprint(\\\"\\\\nTest set score:\\\", gbc.score(X_test1, y_test1))\\n\\nprint(\\\"-----------------------Word2vec Model 2------------------------------\\\")\\nlr.fit(X_train2, y_train2)\\nrfc.fit(X_train2, y_train2)\\ngbc.fit(X_train2, y_train2)\\nprint(\\\"----------------------Logistic Regression Scores----------------------\\\")\\nprint(\\\"Training set score:\\\", lr.score(X_train2, y_train2))\\nprint(\\\"\\\\nTest set score:\\\", lr.score(X_test2, y_test2))\\n\\nprint(\\\"----------------------Random Forest Scores----------------------\\\")\\nprint(\\\"Training set score:\\\", rfc.score(X_train2, y_train2))\\nprint(\\\"\\\\nTest set score:\\\", rfc.score(X_test2, y_test2))\\n\\nprint(\\\"----------------------Gradient Boosting Scores----------------------\\\")\\nprint(\\\"Training set score:\\\", gbc.score(X_train2, y_train2))\\nprint(\\\"\\\\nTest set score:\\\", gbc.score(X_test2, y_test2))\\n\\nprint(\\\"-----------------------Word2vec Model 3------------------------------\\\")\\nlr.fit(X_train3, y_train3)\\nrfc.fit(X_train3, y_train3)\\ngbc.fit(X_train3, y_train3)\\nprint(\\\"----------------------Logistic Regression Scores----------------------\\\")\\nprint(\\\"Training set score:\\\", lr.score(X_train3, y_train3))\\nprint(\\\"\\\\nTest set score:\\\", lr.score(X_test3, y_test3))\\n\\nprint(\\\"----------------------Random Forest Scores----------------------\\\")\\nprint(\\\"Training set score:\\\", rfc.score(X_train3, y_train3))\\nprint(\\\"\\\\nTest set score:\\\", rfc.score(X_test3, y_test3))\\n\\nprint(\\\"----------------------Gradient Boosting Scores----------------------\\\")\\nprint(\\\"Training set score:\\\", gbc.score(X_train3, y_train3))\\nprint(\\\"\\\\nTest set score:\\\", gbc.score(X_test3, y_test3))\\n\\nprint(\\\"-----------------------Word2vec Model 4------------------------------\\\")\\nlr.fit(X_train4, y_train4)\\nrfc.fit(X_train4, y_train4)\\ngbc.fit(X_train4, y_train4)\\nprint(\\\"----------------------Logistic Regression Scores----------------------\\\")\\nprint(\\\"Training set score:\\\", lr.score(X_train4, y_train4))\\nprint(\\\"\\\\nTest set score:\\\", lr.score(X_test4, y_test4))\\n\\nprint(\\\"----------------------Random Forest Scores----------------------\\\")\\nprint(\\\"Training set score:\\\", rfc.score(X_train4, y_train4))\\nprint(\\\"\\\\nTest set score:\\\", rfc.score(X_test4, y_test4))\\n\\nprint(\\\"----------------------Gradient Boosting Scores----------------------\\\")\\nprint(\\\"Training set score:\\\", gbc.score(X_train4, y_train4))\\nprint(\\\"\\\\nTest set score:\\\", gbc.score(X_test4, y_test4))\\n\\nprint(\\\"-----------------------Word2vec Model 5------------------------------\\\")\\nlr.fit(X_train5, y_train5)\\nrfc.fit(X_train5, y_train5)\\ngbc.fit(X_train5, y_train5)\\nprint(\\\"----------------------Logistic Regression Scores----------------------\\\")\\nprint(\\\"Training set score:\\\", lr.score(X_train5, y_train5))\\nprint(\\\"\\\\nTest set score:\\\", lr.score(X_test5, y_test5))\\n\\nprint(\\\"----------------------Random Forest Scores----------------------\\\")\\nprint(\\\"Training set score:\\\", rfc.score(X_train5, y_train5))\\nprint(\\\"\\\\nTest set score:\\\", rfc.score(X_test5, y_test5))\\n\\nprint(\\\"----------------------Gradient Boosting Scores----------------------\\\")\\nprint(\\\"Training set score:\\\", gbc.score(X_train5, y_train5))\\nprint(\\\"\\\\nTest set score:\\\", gbc.score(X_test5, y_test5))\\n\\nprint(\\\"-----------------------Word2vec Model 6------------------------------\\\")\\nlr.fit(X_train6, y_train6)\\nrfc.fit(X_train6, y_train6)\\ngbc.fit(X_train6, y_train6)\\nprint(\\\"----------------------Logistic Regression Scores----------------------\\\")\\nprint(\\\"Training set score:\\\", lr.score(X_train6, y_train6))\\nprint(\\\"\\\\nTest set score:\\\", lr.score(X_test6, y_test6))\\n\\nprint(\\\"----------------------Random Forest Scores----------------------\\\")\\nprint(\\\"Training set score:\\\", rfc.score(X_train6, y_train6))\\nprint(\\\"\\\\nTest set score:\\\", rfc.score(X_test6, y_test6))\\n\\nprint(\\\"----------------------Gradient Boosting Scores----------------------\\\")\\nprint(\\\"Training set score:\\\", gbc.score(X_train6, y_train6))\\nprint(\\\"\\\\nTest set score:\\\", gbc.score(X_test6, y_test6))\";\n",
       "                var nbb_cells = Jupyter.notebook.get_cells();\n",
       "                for (var i = 0; i < nbb_cells.length; ++i) {\n",
       "                    if (nbb_cells[i].input_prompt_number == nbb_cell_id) {\n",
       "                        if (nbb_cells[i].get_text() == nbb_unformatted_code) {\n",
       "                             nbb_cells[i].set_text(nbb_formatted_code);\n",
       "                        }\n",
       "                        break;\n",
       "                    }\n",
       "                }\n",
       "            }, 500);\n",
       "            "
      ],
      "text/plain": [
       "<IPython.core.display.Javascript object>"
      ]
     },
     "metadata": {},
     "output_type": "display_data"
    },
    {
     "data": {
      "application/javascript": [
       "\n",
       "            setTimeout(function() {\n",
       "                var nbb_cell_id = 31;\n",
       "                var nbb_unformatted_code = \"from sklearn.linear_model import LogisticRegression\\nfrom sklearn.ensemble import RandomForestClassifier, GradientBoostingClassifier\\nfrom sklearn.model_selection import train_test_split\\n\\nY1 = sentences1['author']\\nY2 = sentences2['author']\\nY3 = sentences3['author']\\nY4 = sentences4['author']\\nY5 = sentences5['author']\\nY6 = sentences6['author']\\n\\nX1 = np.array(sentences1.drop(['text','author'], 1))\\nX2 = np.array(sentences2.drop(['text','author'], 1))\\nX3 = np.array(sentences3.drop(['text','author'], 1))\\nX4 = np.array(sentences4.drop(['text','author'], 1))\\nX5 = np.array(sentences5.drop(['text','author'], 1))\\nX6 = np.array(sentences6.drop(['text','author'], 1))\\n\\n# We split the dataset into train and test sets\\nX_train1, X_test1, y_train1, y_test1 = train_test_split(X1, Y1, test_size=0.4, random_state=123)\\nX_train2, X_test2, y_train2, y_test2 = train_test_split(X2, Y2, test_size=0.4, random_state=123)\\nX_train3, X_test3, y_train3, y_test3 = train_test_split(X3, Y3, test_size=0.4, random_state=123)\\nX_train4, X_test4, y_train4, y_test4 = train_test_split(X4, Y4, test_size=0.4, random_state=123)\\nX_train5, X_test5, y_train5, y_test5 = train_test_split(X5, Y5, test_size=0.4, random_state=123)\\nX_train6, X_test6, y_train6, y_test6 = train_test_split(X6, Y6, test_size=0.4, random_state=123)\\n\\n# Models\\nlr = LogisticRegression()\\nrfc = RandomForestClassifier()\\ngbc = GradientBoostingClassifier()\\n\\nprint(\\\"-----------------------Word2vec Model 1------------------------------\\\")\\nlr.fit(X_train1, y_train1)\\nrfc.fit(X_train1, y_train1)\\ngbc.fit(X_train1, y_train1)\\nprint(\\\"----------------------Logistic Regression Scores----------------------\\\")\\nprint('Training set score:', lr.score(X_train1, y_train1))\\nprint('\\\\nTest set score:', lr.score(X_test1, y_test1))\\n\\nprint(\\\"----------------------Random Forest Scores----------------------\\\")\\nprint('Training set score:', rfc.score(X_train1, y_train1))\\nprint('\\\\nTest set score:', rfc.score(X_test1, y_test1))\\n\\nprint(\\\"----------------------Gradient Boosting Scores----------------------\\\")\\nprint('Training set score:', gbc.score(X_train1, y_train1))\\nprint('\\\\nTest set score:', gbc.score(X_test1, y_test1))\\n\\nprint(\\\"-----------------------Word2vec Model 2------------------------------\\\")\\nlr.fit(X_train2, y_train2)\\nrfc.fit(X_train2, y_train2)\\ngbc.fit(X_train2, y_train2)\\nprint(\\\"----------------------Logistic Regression Scores----------------------\\\")\\nprint('Training set score:', lr.score(X_train2, y_train2))\\nprint('\\\\nTest set score:', lr.score(X_test2, y_test2))\\n\\nprint(\\\"----------------------Random Forest Scores----------------------\\\")\\nprint('Training set score:', rfc.score(X_train2, y_train2))\\nprint('\\\\nTest set score:', rfc.score(X_test2, y_test2))\\n\\nprint(\\\"----------------------Gradient Boosting Scores----------------------\\\")\\nprint('Training set score:', gbc.score(X_train2, y_train2))\\nprint('\\\\nTest set score:', gbc.score(X_test2, y_test2))\\n\\nprint(\\\"-----------------------Word2vec Model 3------------------------------\\\")\\nlr.fit(X_train3, y_train3)\\nrfc.fit(X_train3, y_train3)\\ngbc.fit(X_train3, y_train3)\\nprint(\\\"----------------------Logistic Regression Scores----------------------\\\")\\nprint('Training set score:', lr.score(X_train3, y_train3))\\nprint('\\\\nTest set score:', lr.score(X_test3, y_test3))\\n\\nprint(\\\"----------------------Random Forest Scores----------------------\\\")\\nprint('Training set score:', rfc.score(X_train3, y_train3))\\nprint('\\\\nTest set score:', rfc.score(X_test3, y_test3))\\n\\nprint(\\\"----------------------Gradient Boosting Scores----------------------\\\")\\nprint('Training set score:', gbc.score(X_train3, y_train3))\\nprint('\\\\nTest set score:', gbc.score(X_test3, y_test3))\\n\\nprint(\\\"-----------------------Word2vec Model 4------------------------------\\\")\\nlr.fit(X_train4, y_train4)\\nrfc.fit(X_train4, y_train4)\\ngbc.fit(X_train4, y_train4)\\nprint(\\\"----------------------Logistic Regression Scores----------------------\\\")\\nprint('Training set score:', lr.score(X_train4, y_train4))\\nprint('\\\\nTest set score:', lr.score(X_test4, y_test4))\\n\\nprint(\\\"----------------------Random Forest Scores----------------------\\\")\\nprint('Training set score:', rfc.score(X_train4, y_train4))\\nprint('\\\\nTest set score:', rfc.score(X_test4, y_test4))\\n\\nprint(\\\"----------------------Gradient Boosting Scores----------------------\\\")\\nprint('Training set score:', gbc.score(X_train4, y_train4))\\nprint('\\\\nTest set score:', gbc.score(X_test4, y_test4))\\n\\nprint(\\\"-----------------------Word2vec Model 5------------------------------\\\")\\nlr.fit(X_train5, y_train5)\\nrfc.fit(X_train5, y_train5)\\ngbc.fit(X_train5, y_train5)\\nprint(\\\"----------------------Logistic Regression Scores----------------------\\\")\\nprint('Training set score:', lr.score(X_train5, y_train5))\\nprint('\\\\nTest set score:', lr.score(X_test5, y_test5))\\n\\nprint(\\\"----------------------Random Forest Scores----------------------\\\")\\nprint('Training set score:', rfc.score(X_train5, y_train5))\\nprint('\\\\nTest set score:', rfc.score(X_test5, y_test5))\\n\\nprint(\\\"----------------------Gradient Boosting Scores----------------------\\\")\\nprint('Training set score:', gbc.score(X_train5, y_train5))\\nprint('\\\\nTest set score:', gbc.score(X_test5, y_test5))\\n\\nprint(\\\"-----------------------Word2vec Model 6------------------------------\\\")\\nlr.fit(X_train6, y_train6)\\nrfc.fit(X_train6, y_train6)\\ngbc.fit(X_train6, y_train6)\\nprint(\\\"----------------------Logistic Regression Scores----------------------\\\")\\nprint('Training set score:', lr.score(X_train6, y_train6))\\nprint('\\\\nTest set score:', lr.score(X_test6, y_test6))\\n\\nprint(\\\"----------------------Random Forest Scores----------------------\\\")\\nprint('Training set score:', rfc.score(X_train6, y_train6))\\nprint('\\\\nTest set score:', rfc.score(X_test6, y_test6))\\n\\nprint(\\\"----------------------Gradient Boosting Scores----------------------\\\")\\nprint('Training set score:', gbc.score(X_train6, y_train6))\\nprint('\\\\nTest set score:', gbc.score(X_test6, y_test6))\";\n",
       "                var nbb_formatted_code = \"from sklearn.linear_model import LogisticRegression\\nfrom sklearn.ensemble import RandomForestClassifier, GradientBoostingClassifier\\nfrom sklearn.model_selection import train_test_split\\n\\nY1 = sentences1[\\\"author\\\"]\\nY2 = sentences2[\\\"author\\\"]\\nY3 = sentences3[\\\"author\\\"]\\nY4 = sentences4[\\\"author\\\"]\\nY5 = sentences5[\\\"author\\\"]\\nY6 = sentences6[\\\"author\\\"]\\n\\nX1 = np.array(sentences1.drop([\\\"text\\\", \\\"author\\\"], 1))\\nX2 = np.array(sentences2.drop([\\\"text\\\", \\\"author\\\"], 1))\\nX3 = np.array(sentences3.drop([\\\"text\\\", \\\"author\\\"], 1))\\nX4 = np.array(sentences4.drop([\\\"text\\\", \\\"author\\\"], 1))\\nX5 = np.array(sentences5.drop([\\\"text\\\", \\\"author\\\"], 1))\\nX6 = np.array(sentences6.drop([\\\"text\\\", \\\"author\\\"], 1))\\n\\n# We split the dataset into train and test sets\\nX_train1, X_test1, y_train1, y_test1 = train_test_split(\\n    X1, Y1, test_size=0.4, random_state=123\\n)\\nX_train2, X_test2, y_train2, y_test2 = train_test_split(\\n    X2, Y2, test_size=0.4, random_state=123\\n)\\nX_train3, X_test3, y_train3, y_test3 = train_test_split(\\n    X3, Y3, test_size=0.4, random_state=123\\n)\\nX_train4, X_test4, y_train4, y_test4 = train_test_split(\\n    X4, Y4, test_size=0.4, random_state=123\\n)\\nX_train5, X_test5, y_train5, y_test5 = train_test_split(\\n    X5, Y5, test_size=0.4, random_state=123\\n)\\nX_train6, X_test6, y_train6, y_test6 = train_test_split(\\n    X6, Y6, test_size=0.4, random_state=123\\n)\\n\\n# Models\\nlr = LogisticRegression()\\nrfc = RandomForestClassifier()\\ngbc = GradientBoostingClassifier()\\n\\nprint(\\\"-----------------------Word2vec Model 1------------------------------\\\")\\nlr.fit(X_train1, y_train1)\\nrfc.fit(X_train1, y_train1)\\ngbc.fit(X_train1, y_train1)\\nprint(\\\"----------------------Logistic Regression Scores----------------------\\\")\\nprint(\\\"Training set score:\\\", lr.score(X_train1, y_train1))\\nprint(\\\"\\\\nTest set score:\\\", lr.score(X_test1, y_test1))\\n\\nprint(\\\"----------------------Random Forest Scores----------------------\\\")\\nprint(\\\"Training set score:\\\", rfc.score(X_train1, y_train1))\\nprint(\\\"\\\\nTest set score:\\\", rfc.score(X_test1, y_test1))\\n\\nprint(\\\"----------------------Gradient Boosting Scores----------------------\\\")\\nprint(\\\"Training set score:\\\", gbc.score(X_train1, y_train1))\\nprint(\\\"\\\\nTest set score:\\\", gbc.score(X_test1, y_test1))\\n\\nprint(\\\"-----------------------Word2vec Model 2------------------------------\\\")\\nlr.fit(X_train2, y_train2)\\nrfc.fit(X_train2, y_train2)\\ngbc.fit(X_train2, y_train2)\\nprint(\\\"----------------------Logistic Regression Scores----------------------\\\")\\nprint(\\\"Training set score:\\\", lr.score(X_train2, y_train2))\\nprint(\\\"\\\\nTest set score:\\\", lr.score(X_test2, y_test2))\\n\\nprint(\\\"----------------------Random Forest Scores----------------------\\\")\\nprint(\\\"Training set score:\\\", rfc.score(X_train2, y_train2))\\nprint(\\\"\\\\nTest set score:\\\", rfc.score(X_test2, y_test2))\\n\\nprint(\\\"----------------------Gradient Boosting Scores----------------------\\\")\\nprint(\\\"Training set score:\\\", gbc.score(X_train2, y_train2))\\nprint(\\\"\\\\nTest set score:\\\", gbc.score(X_test2, y_test2))\\n\\nprint(\\\"-----------------------Word2vec Model 3------------------------------\\\")\\nlr.fit(X_train3, y_train3)\\nrfc.fit(X_train3, y_train3)\\ngbc.fit(X_train3, y_train3)\\nprint(\\\"----------------------Logistic Regression Scores----------------------\\\")\\nprint(\\\"Training set score:\\\", lr.score(X_train3, y_train3))\\nprint(\\\"\\\\nTest set score:\\\", lr.score(X_test3, y_test3))\\n\\nprint(\\\"----------------------Random Forest Scores----------------------\\\")\\nprint(\\\"Training set score:\\\", rfc.score(X_train3, y_train3))\\nprint(\\\"\\\\nTest set score:\\\", rfc.score(X_test3, y_test3))\\n\\nprint(\\\"----------------------Gradient Boosting Scores----------------------\\\")\\nprint(\\\"Training set score:\\\", gbc.score(X_train3, y_train3))\\nprint(\\\"\\\\nTest set score:\\\", gbc.score(X_test3, y_test3))\\n\\nprint(\\\"-----------------------Word2vec Model 4------------------------------\\\")\\nlr.fit(X_train4, y_train4)\\nrfc.fit(X_train4, y_train4)\\ngbc.fit(X_train4, y_train4)\\nprint(\\\"----------------------Logistic Regression Scores----------------------\\\")\\nprint(\\\"Training set score:\\\", lr.score(X_train4, y_train4))\\nprint(\\\"\\\\nTest set score:\\\", lr.score(X_test4, y_test4))\\n\\nprint(\\\"----------------------Random Forest Scores----------------------\\\")\\nprint(\\\"Training set score:\\\", rfc.score(X_train4, y_train4))\\nprint(\\\"\\\\nTest set score:\\\", rfc.score(X_test4, y_test4))\\n\\nprint(\\\"----------------------Gradient Boosting Scores----------------------\\\")\\nprint(\\\"Training set score:\\\", gbc.score(X_train4, y_train4))\\nprint(\\\"\\\\nTest set score:\\\", gbc.score(X_test4, y_test4))\\n\\nprint(\\\"-----------------------Word2vec Model 5------------------------------\\\")\\nlr.fit(X_train5, y_train5)\\nrfc.fit(X_train5, y_train5)\\ngbc.fit(X_train5, y_train5)\\nprint(\\\"----------------------Logistic Regression Scores----------------------\\\")\\nprint(\\\"Training set score:\\\", lr.score(X_train5, y_train5))\\nprint(\\\"\\\\nTest set score:\\\", lr.score(X_test5, y_test5))\\n\\nprint(\\\"----------------------Random Forest Scores----------------------\\\")\\nprint(\\\"Training set score:\\\", rfc.score(X_train5, y_train5))\\nprint(\\\"\\\\nTest set score:\\\", rfc.score(X_test5, y_test5))\\n\\nprint(\\\"----------------------Gradient Boosting Scores----------------------\\\")\\nprint(\\\"Training set score:\\\", gbc.score(X_train5, y_train5))\\nprint(\\\"\\\\nTest set score:\\\", gbc.score(X_test5, y_test5))\\n\\nprint(\\\"-----------------------Word2vec Model 6------------------------------\\\")\\nlr.fit(X_train6, y_train6)\\nrfc.fit(X_train6, y_train6)\\ngbc.fit(X_train6, y_train6)\\nprint(\\\"----------------------Logistic Regression Scores----------------------\\\")\\nprint(\\\"Training set score:\\\", lr.score(X_train6, y_train6))\\nprint(\\\"\\\\nTest set score:\\\", lr.score(X_test6, y_test6))\\n\\nprint(\\\"----------------------Random Forest Scores----------------------\\\")\\nprint(\\\"Training set score:\\\", rfc.score(X_train6, y_train6))\\nprint(\\\"\\\\nTest set score:\\\", rfc.score(X_test6, y_test6))\\n\\nprint(\\\"----------------------Gradient Boosting Scores----------------------\\\")\\nprint(\\\"Training set score:\\\", gbc.score(X_train6, y_train6))\\nprint(\\\"\\\\nTest set score:\\\", gbc.score(X_test6, y_test6))\";\n",
       "                var nbb_cells = Jupyter.notebook.get_cells();\n",
       "                for (var i = 0; i < nbb_cells.length; ++i) {\n",
       "                    if (nbb_cells[i].input_prompt_number == nbb_cell_id) {\n",
       "                        if (nbb_cells[i].get_text() == nbb_unformatted_code) {\n",
       "                             nbb_cells[i].set_text(nbb_formatted_code);\n",
       "                        }\n",
       "                        break;\n",
       "                    }\n",
       "                }\n",
       "            }, 500);\n",
       "            "
      ],
      "text/plain": [
       "<IPython.core.display.Javascript object>"
      ]
     },
     "metadata": {},
     "output_type": "display_data"
    }
   ],
   "source": [
    "from sklearn.linear_model import LogisticRegression\n",
    "from sklearn.ensemble import RandomForestClassifier, GradientBoostingClassifier\n",
    "from sklearn.model_selection import train_test_split\n",
    "\n",
    "Y1 = sentences1['author']\n",
    "Y2 = sentences2['author']\n",
    "Y3 = sentences3['author']\n",
    "Y4 = sentences4['author']\n",
    "Y5 = sentences5['author']\n",
    "Y6 = sentences6['author']\n",
    "\n",
    "X1 = np.array(sentences1.drop(['text','author'], 1))\n",
    "X2 = np.array(sentences2.drop(['text','author'], 1))\n",
    "X3 = np.array(sentences3.drop(['text','author'], 1))\n",
    "X4 = np.array(sentences4.drop(['text','author'], 1))\n",
    "X5 = np.array(sentences5.drop(['text','author'], 1))\n",
    "X6 = np.array(sentences6.drop(['text','author'], 1))\n",
    "\n",
    "# We split the dataset into train and test sets\n",
    "X_train1, X_test1, y_train1, y_test1 = train_test_split(X1, Y1, test_size=0.4, random_state=123)\n",
    "X_train2, X_test2, y_train2, y_test2 = train_test_split(X2, Y2, test_size=0.4, random_state=123)\n",
    "X_train3, X_test3, y_train3, y_test3 = train_test_split(X3, Y3, test_size=0.4, random_state=123)\n",
    "X_train4, X_test4, y_train4, y_test4 = train_test_split(X4, Y4, test_size=0.4, random_state=123)\n",
    "X_train5, X_test5, y_train5, y_test5 = train_test_split(X5, Y5, test_size=0.4, random_state=123)\n",
    "X_train6, X_test6, y_train6, y_test6 = train_test_split(X6, Y6, test_size=0.4, random_state=123)\n",
    "\n",
    "# Models\n",
    "lr = LogisticRegression()\n",
    "rfc = RandomForestClassifier()\n",
    "gbc = GradientBoostingClassifier()\n",
    "\n",
    "print(\"-----------------------Word2vec Model 1------------------------------\")\n",
    "lr.fit(X_train1, y_train1)\n",
    "rfc.fit(X_train1, y_train1)\n",
    "gbc.fit(X_train1, y_train1)\n",
    "print(\"----------------------Logistic Regression Scores----------------------\")\n",
    "print('Training set score:', lr.score(X_train1, y_train1))\n",
    "print('\\nTest set score:', lr.score(X_test1, y_test1))\n",
    "\n",
    "print(\"----------------------Random Forest Scores----------------------\")\n",
    "print('Training set score:', rfc.score(X_train1, y_train1))\n",
    "print('\\nTest set score:', rfc.score(X_test1, y_test1))\n",
    "\n",
    "print(\"----------------------Gradient Boosting Scores----------------------\")\n",
    "print('Training set score:', gbc.score(X_train1, y_train1))\n",
    "print('\\nTest set score:', gbc.score(X_test1, y_test1))\n",
    "\n",
    "print(\"-----------------------Word2vec Model 2------------------------------\")\n",
    "lr.fit(X_train2, y_train2)\n",
    "rfc.fit(X_train2, y_train2)\n",
    "gbc.fit(X_train2, y_train2)\n",
    "print(\"----------------------Logistic Regression Scores----------------------\")\n",
    "print('Training set score:', lr.score(X_train2, y_train2))\n",
    "print('\\nTest set score:', lr.score(X_test2, y_test2))\n",
    "\n",
    "print(\"----------------------Random Forest Scores----------------------\")\n",
    "print('Training set score:', rfc.score(X_train2, y_train2))\n",
    "print('\\nTest set score:', rfc.score(X_test2, y_test2))\n",
    "\n",
    "print(\"----------------------Gradient Boosting Scores----------------------\")\n",
    "print('Training set score:', gbc.score(X_train2, y_train2))\n",
    "print('\\nTest set score:', gbc.score(X_test2, y_test2))\n",
    "\n",
    "print(\"-----------------------Word2vec Model 3------------------------------\")\n",
    "lr.fit(X_train3, y_train3)\n",
    "rfc.fit(X_train3, y_train3)\n",
    "gbc.fit(X_train3, y_train3)\n",
    "print(\"----------------------Logistic Regression Scores----------------------\")\n",
    "print('Training set score:', lr.score(X_train3, y_train3))\n",
    "print('\\nTest set score:', lr.score(X_test3, y_test3))\n",
    "\n",
    "print(\"----------------------Random Forest Scores----------------------\")\n",
    "print('Training set score:', rfc.score(X_train3, y_train3))\n",
    "print('\\nTest set score:', rfc.score(X_test3, y_test3))\n",
    "\n",
    "print(\"----------------------Gradient Boosting Scores----------------------\")\n",
    "print('Training set score:', gbc.score(X_train3, y_train3))\n",
    "print('\\nTest set score:', gbc.score(X_test3, y_test3))\n",
    "\n",
    "print(\"-----------------------Word2vec Model 4------------------------------\")\n",
    "lr.fit(X_train4, y_train4)\n",
    "rfc.fit(X_train4, y_train4)\n",
    "gbc.fit(X_train4, y_train4)\n",
    "print(\"----------------------Logistic Regression Scores----------------------\")\n",
    "print('Training set score:', lr.score(X_train4, y_train4))\n",
    "print('\\nTest set score:', lr.score(X_test4, y_test4))\n",
    "\n",
    "print(\"----------------------Random Forest Scores----------------------\")\n",
    "print('Training set score:', rfc.score(X_train4, y_train4))\n",
    "print('\\nTest set score:', rfc.score(X_test4, y_test4))\n",
    "\n",
    "print(\"----------------------Gradient Boosting Scores----------------------\")\n",
    "print('Training set score:', gbc.score(X_train4, y_train4))\n",
    "print('\\nTest set score:', gbc.score(X_test4, y_test4))\n",
    "\n",
    "print(\"-----------------------Word2vec Model 5------------------------------\")\n",
    "lr.fit(X_train5, y_train5)\n",
    "rfc.fit(X_train5, y_train5)\n",
    "gbc.fit(X_train5, y_train5)\n",
    "print(\"----------------------Logistic Regression Scores----------------------\")\n",
    "print('Training set score:', lr.score(X_train5, y_train5))\n",
    "print('\\nTest set score:', lr.score(X_test5, y_test5))\n",
    "\n",
    "print(\"----------------------Random Forest Scores----------------------\")\n",
    "print('Training set score:', rfc.score(X_train5, y_train5))\n",
    "print('\\nTest set score:', rfc.score(X_test5, y_test5))\n",
    "\n",
    "print(\"----------------------Gradient Boosting Scores----------------------\")\n",
    "print('Training set score:', gbc.score(X_train5, y_train5))\n",
    "print('\\nTest set score:', gbc.score(X_test5, y_test5))\n",
    "\n",
    "print(\"-----------------------Word2vec Model 6------------------------------\")\n",
    "lr.fit(X_train6, y_train6)\n",
    "rfc.fit(X_train6, y_train6)\n",
    "gbc.fit(X_train6, y_train6)\n",
    "print(\"----------------------Logistic Regression Scores----------------------\")\n",
    "print('Training set score:', lr.score(X_train6, y_train6))\n",
    "print('\\nTest set score:', lr.score(X_test6, y_test6))\n",
    "\n",
    "print(\"----------------------Random Forest Scores----------------------\")\n",
    "print('Training set score:', rfc.score(X_train6, y_train6))\n",
    "print('\\nTest set score:', rfc.score(X_test6, y_test6))\n",
    "\n",
    "print(\"----------------------Gradient Boosting Scores----------------------\")\n",
    "print('Training set score:', gbc.score(X_train6, y_train6))\n",
    "print('\\nTest set score:', gbc.score(X_test6, y_test6))\n"
   ]
  }
 ],
 "metadata": {
  "kernelspec": {
   "display_name": "Python 3",
   "language": "python",
   "name": "python3"
  },
  "language_info": {
   "codemirror_mode": {
    "name": "ipython",
    "version": 3
   },
   "file_extension": ".py",
   "mimetype": "text/x-python",
   "name": "python",
   "nbconvert_exporter": "python",
   "pygments_lexer": "ipython3",
   "version": "3.7.6"
  }
 },
 "nbformat": 4,
 "nbformat_minor": 4
}
