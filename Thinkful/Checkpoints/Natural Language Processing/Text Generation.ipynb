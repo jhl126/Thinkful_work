{
 "cells": [
  {
   "cell_type": "code",
   "execution_count": 3,
   "metadata": {},
   "outputs": [
    {
     "name": "stdout",
     "output_type": "stream",
     "text": [
      "Collecting markovify\n",
      "  Downloading markovify-0.8.3.tar.gz (27 kB)\n",
      "Collecting unidecode\n",
      "  Downloading Unidecode-1.1.1-py2.py3-none-any.whl (238 kB)\n",
      "Building wheels for collected packages: markovify\n",
      "  Building wheel for markovify (setup.py): started\n",
      "  Building wheel for markovify (setup.py): finished with status 'done'\n",
      "  Created wheel for markovify: filename=markovify-0.8.3-py3-none-any.whl size=18438 sha256=fd36e4ec9e28e6030e3679d5866d79b8a0ee58e1ff9f857ca8a1f9f188c09892\n",
      "  Stored in directory: c:\\users\\jlim7\\appdata\\local\\pip\\cache\\wheels\\37\\20\\31\\597fd83ea4899222a99264b8cab367ac421cd28854343399ba\n",
      "Successfully built markovify\n",
      "Installing collected packages: unidecode, markovify\n",
      "Successfully installed markovify-0.8.3 unidecode-1.1.1\n"
     ]
    },
    {
     "data": {
      "application/javascript": [
       "\n",
       "            setTimeout(function() {\n",
       "                var nbb_cell_id = 3;\n",
       "                var nbb_unformatted_code = \"!pip install markovify\";\n",
       "                var nbb_formatted_code = \"!pip install markovify\";\n",
       "                var nbb_cells = Jupyter.notebook.get_cells();\n",
       "                for (var i = 0; i < nbb_cells.length; ++i) {\n",
       "                    if (nbb_cells[i].input_prompt_number == nbb_cell_id) {\n",
       "                        if (nbb_cells[i].get_text() == nbb_unformatted_code) {\n",
       "                             nbb_cells[i].set_text(nbb_formatted_code);\n",
       "                        }\n",
       "                        break;\n",
       "                    }\n",
       "                }\n",
       "            }, 500);\n",
       "            "
      ],
      "text/plain": [
       "<IPython.core.display.Javascript object>"
      ]
     },
     "metadata": {},
     "output_type": "display_data"
    },
    {
     "data": {
      "application/javascript": [
       "\n",
       "            setTimeout(function() {\n",
       "                var nbb_cell_id = 3;\n",
       "                var nbb_unformatted_code = \"!pip install markovify\";\n",
       "                var nbb_formatted_code = \"!pip install markovify\";\n",
       "                var nbb_cells = Jupyter.notebook.get_cells();\n",
       "                for (var i = 0; i < nbb_cells.length; ++i) {\n",
       "                    if (nbb_cells[i].input_prompt_number == nbb_cell_id) {\n",
       "                        if (nbb_cells[i].get_text() == nbb_unformatted_code) {\n",
       "                             nbb_cells[i].set_text(nbb_formatted_code);\n",
       "                        }\n",
       "                        break;\n",
       "                    }\n",
       "                }\n",
       "            }, 500);\n",
       "            "
      ],
      "text/plain": [
       "<IPython.core.display.Javascript object>"
      ]
     },
     "metadata": {},
     "output_type": "display_data"
    }
   ],
   "source": [
    "!pip install markovify"
   ]
  },
  {
   "cell_type": "code",
   "execution_count": 4,
   "metadata": {},
   "outputs": [
    {
     "name": "stdout",
     "output_type": "stream",
     "text": [
      "Collecting en_core_web_sm==2.3.1\n",
      "  Downloading https://github.com/explosion/spacy-models/releases/download/en_core_web_sm-2.3.1/en_core_web_sm-2.3.1.tar.gz (12.0 MB)\n",
      "Requirement already satisfied: spacy<2.4.0,>=2.3.0 in c:\\users\\jlim7\\anaconda3\\lib\\site-packages (from en_core_web_sm==2.3.1) (2.3.2)\n",
      "Requirement already satisfied: wasabi<1.1.0,>=0.4.0 in c:\\users\\jlim7\\anaconda3\\lib\\site-packages (from spacy<2.4.0,>=2.3.0->en_core_web_sm==2.3.1) (0.8.0)\n",
      "Requirement already satisfied: setuptools in c:\\users\\jlim7\\anaconda3\\lib\\site-packages (from spacy<2.4.0,>=2.3.0->en_core_web_sm==2.3.1) (45.2.0.post20200210)\n",
      "Requirement already satisfied: requests<3.0.0,>=2.13.0 in c:\\users\\jlim7\\anaconda3\\lib\\site-packages (from spacy<2.4.0,>=2.3.0->en_core_web_sm==2.3.1) (2.22.0)\n",
      "Requirement already satisfied: murmurhash<1.1.0,>=0.28.0 in c:\\users\\jlim7\\anaconda3\\lib\\site-packages (from spacy<2.4.0,>=2.3.0->en_core_web_sm==2.3.1) (1.0.4)\n",
      "Requirement already satisfied: thinc==7.4.1 in c:\\users\\jlim7\\anaconda3\\lib\\site-packages (from spacy<2.4.0,>=2.3.0->en_core_web_sm==2.3.1) (7.4.1)\n",
      "Requirement already satisfied: plac<1.2.0,>=0.9.6 in c:\\users\\jlim7\\anaconda3\\lib\\site-packages (from spacy<2.4.0,>=2.3.0->en_core_web_sm==2.3.1) (1.1.3)\n",
      "Requirement already satisfied: catalogue<1.1.0,>=0.0.7 in c:\\users\\jlim7\\anaconda3\\lib\\site-packages (from spacy<2.4.0,>=2.3.0->en_core_web_sm==2.3.1) (1.0.0)\n",
      "Requirement already satisfied: tqdm<5.0.0,>=4.38.0 in c:\\users\\jlim7\\anaconda3\\lib\\site-packages (from spacy<2.4.0,>=2.3.0->en_core_web_sm==2.3.1) (4.42.1)\n",
      "Requirement already satisfied: preshed<3.1.0,>=3.0.2 in c:\\users\\jlim7\\anaconda3\\lib\\site-packages (from spacy<2.4.0,>=2.3.0->en_core_web_sm==2.3.1) (3.0.3)\n",
      "Requirement already satisfied: cymem<2.1.0,>=2.0.2 in c:\\users\\jlim7\\anaconda3\\lib\\site-packages (from spacy<2.4.0,>=2.3.0->en_core_web_sm==2.3.1) (2.0.4)\n",
      "Requirement already satisfied: blis<0.5.0,>=0.4.0 in c:\\users\\jlim7\\anaconda3\\lib\\site-packages (from spacy<2.4.0,>=2.3.0->en_core_web_sm==2.3.1) (0.4.1)\n",
      "Requirement already satisfied: srsly<1.1.0,>=1.0.2 in c:\\users\\jlim7\\anaconda3\\lib\\site-packages (from spacy<2.4.0,>=2.3.0->en_core_web_sm==2.3.1) (1.0.2)\n",
      "Requirement already satisfied: numpy>=1.15.0 in c:\\users\\jlim7\\anaconda3\\lib\\site-packages (from spacy<2.4.0,>=2.3.0->en_core_web_sm==2.3.1) (1.18.1)\n",
      "Requirement already satisfied: chardet<3.1.0,>=3.0.2 in c:\\users\\jlim7\\anaconda3\\lib\\site-packages (from requests<3.0.0,>=2.13.0->spacy<2.4.0,>=2.3.0->en_core_web_sm==2.3.1) (3.0.4)\n",
      "Requirement already satisfied: urllib3!=1.25.0,!=1.25.1,<1.26,>=1.21.1 in c:\\users\\jlim7\\anaconda3\\lib\\site-packages (from requests<3.0.0,>=2.13.0->spacy<2.4.0,>=2.3.0->en_core_web_sm==2.3.1) (1.25.8)\n",
      "Requirement already satisfied: certifi>=2017.4.17 in c:\\users\\jlim7\\anaconda3\\lib\\site-packages (from requests<3.0.0,>=2.13.0->spacy<2.4.0,>=2.3.0->en_core_web_sm==2.3.1) (2019.11.28)\n",
      "Requirement already satisfied: idna<2.9,>=2.5 in c:\\users\\jlim7\\anaconda3\\lib\\site-packages (from requests<3.0.0,>=2.13.0->spacy<2.4.0,>=2.3.0->en_core_web_sm==2.3.1) (2.8)\n",
      "Requirement already satisfied: importlib-metadata>=0.20; python_version < \"3.8\" in c:\\users\\jlim7\\anaconda3\\lib\\site-packages (from catalogue<1.1.0,>=0.0.7->spacy<2.4.0,>=2.3.0->en_core_web_sm==2.3.1) (2.0.0)\n",
      "Requirement already satisfied: zipp>=0.5 in c:\\users\\jlim7\\anaconda3\\lib\\site-packages (from importlib-metadata>=0.20; python_version < \"3.8\"->catalogue<1.1.0,>=0.0.7->spacy<2.4.0,>=2.3.0->en_core_web_sm==2.3.1) (2.2.0)\n",
      "Building wheels for collected packages: en-core-web-sm\n",
      "  Building wheel for en-core-web-sm (setup.py): started\n",
      "  Building wheel for en-core-web-sm (setup.py): finished with status 'done'\n",
      "  Created wheel for en-core-web-sm: filename=en_core_web_sm-2.3.1-py3-none-any.whl size=12047114 sha256=f1600cb007e3589e061c6298142a39d26831642793b58c447b68a06446455b40\n",
      "  Stored in directory: C:\\Users\\jlim7\\AppData\\Local\\Temp\\pip-ephem-wheel-cache-0yf4oc_a\\wheels\\b7\\0d\\f0\\7ecae8427c515065d75410989e15e5785dd3975fe06e795cd9\n",
      "Successfully built en-core-web-sm\n",
      "Installing collected packages: en-core-web-sm\n",
      "  Attempting uninstall: en-core-web-sm\n",
      "    Found existing installation: en-core-web-sm 2.2.0\n",
      "    Uninstalling en-core-web-sm-2.2.0:\n",
      "      Successfully uninstalled en-core-web-sm-2.2.0\n",
      "Successfully installed en-core-web-sm-2.3.1\n",
      "[+] Download and installation successful\n",
      "You can now load the model via spacy.load('en_core_web_sm')\n",
      "[x] Couldn't link model to 'en'\n",
      "Creating a symlink in spacy/data failed. Make sure you have the required\n",
      "permissions and try re-running the command as admin, or use a virtualenv. You\n",
      "can still import the model as a module and call its load() method, or create the\n",
      "symlink manually.\n",
      "C:\\Users\\jlim7\\anaconda3\\lib\\site-packages\\en_core_web_sm -->\n",
      "C:\\Users\\jlim7\\anaconda3\\lib\\site-packages\\spacy\\data\\en\n",
      "[!] Download successful but linking failed\n",
      "Creating a shortcut link for 'en' didn't work (maybe you don't have admin\n",
      "permissions?), but you can still load the model via its full package name: nlp =\n",
      "spacy.load('en_core_web_sm')\n"
     ]
    },
    {
     "name": "stderr",
     "output_type": "stream",
     "text": [
      "You do not have sufficient privilege to perform this operation.\n"
     ]
    },
    {
     "data": {
      "application/javascript": [
       "\n",
       "            setTimeout(function() {\n",
       "                var nbb_cell_id = 4;\n",
       "                var nbb_unformatted_code = \"%reload_ext nb_black\\n\\nimport matplotlib.pyplot as plt\\nimport pandas as pd\\nimport spacy\\nimport markovify\\n\\nfrom sqlalchemy import create_engine\\n\\nimport warnings\\n\\nwarnings.filterwarnings(action=\\\"ignore\\\")\\n\\n!python -m spacy download en\";\n",
       "                var nbb_formatted_code = \"%reload_ext nb_black\\n\\nimport matplotlib.pyplot as plt\\nimport pandas as pd\\nimport spacy\\nimport markovify\\n\\nfrom sqlalchemy import create_engine\\n\\nimport warnings\\n\\nwarnings.filterwarnings(action=\\\"ignore\\\")\\n\\n!python -m spacy download en\";\n",
       "                var nbb_cells = Jupyter.notebook.get_cells();\n",
       "                for (var i = 0; i < nbb_cells.length; ++i) {\n",
       "                    if (nbb_cells[i].input_prompt_number == nbb_cell_id) {\n",
       "                        if (nbb_cells[i].get_text() == nbb_unformatted_code) {\n",
       "                             nbb_cells[i].set_text(nbb_formatted_code);\n",
       "                        }\n",
       "                        break;\n",
       "                    }\n",
       "                }\n",
       "            }, 500);\n",
       "            "
      ],
      "text/plain": [
       "<IPython.core.display.Javascript object>"
      ]
     },
     "metadata": {},
     "output_type": "display_data"
    },
    {
     "data": {
      "application/javascript": [
       "\n",
       "            setTimeout(function() {\n",
       "                var nbb_cell_id = 4;\n",
       "                var nbb_unformatted_code = \"%reload_ext nb_black\\n\\nimport matplotlib.pyplot as plt\\nimport pandas as pd\\nimport spacy\\nimport markovify\\n\\nfrom sqlalchemy import create_engine\\n\\nimport warnings\\n\\nwarnings.filterwarnings(action=\\\"ignore\\\")\\n\\n!python -m spacy download en\";\n",
       "                var nbb_formatted_code = \"%reload_ext nb_black\\n\\nimport matplotlib.pyplot as plt\\nimport pandas as pd\\nimport spacy\\nimport markovify\\n\\nfrom sqlalchemy import create_engine\\n\\nimport warnings\\n\\nwarnings.filterwarnings(action=\\\"ignore\\\")\\n\\n!python -m spacy download en\";\n",
       "                var nbb_cells = Jupyter.notebook.get_cells();\n",
       "                for (var i = 0; i < nbb_cells.length; ++i) {\n",
       "                    if (nbb_cells[i].input_prompt_number == nbb_cell_id) {\n",
       "                        if (nbb_cells[i].get_text() == nbb_unformatted_code) {\n",
       "                             nbb_cells[i].set_text(nbb_formatted_code);\n",
       "                        }\n",
       "                        break;\n",
       "                    }\n",
       "                }\n",
       "            }, 500);\n",
       "            "
      ],
      "text/plain": [
       "<IPython.core.display.Javascript object>"
      ]
     },
     "metadata": {},
     "output_type": "display_data"
    },
    {
     "data": {
      "application/javascript": [
       "\n",
       "            setTimeout(function() {\n",
       "                var nbb_cell_id = 4;\n",
       "                var nbb_unformatted_code = \"%reload_ext nb_black\\n\\nimport matplotlib.pyplot as plt\\nimport pandas as pd\\nimport spacy\\nimport markovify\\n\\nfrom sqlalchemy import create_engine\\n\\nimport warnings\\n\\nwarnings.filterwarnings(action=\\\"ignore\\\")\\n\\n!python -m spacy download en\";\n",
       "                var nbb_formatted_code = \"%reload_ext nb_black\\n\\nimport matplotlib.pyplot as plt\\nimport pandas as pd\\nimport spacy\\nimport markovify\\n\\nfrom sqlalchemy import create_engine\\n\\nimport warnings\\n\\nwarnings.filterwarnings(action=\\\"ignore\\\")\\n\\n!python -m spacy download en\";\n",
       "                var nbb_cells = Jupyter.notebook.get_cells();\n",
       "                for (var i = 0; i < nbb_cells.length; ++i) {\n",
       "                    if (nbb_cells[i].input_prompt_number == nbb_cell_id) {\n",
       "                        if (nbb_cells[i].get_text() == nbb_unformatted_code) {\n",
       "                             nbb_cells[i].set_text(nbb_formatted_code);\n",
       "                        }\n",
       "                        break;\n",
       "                    }\n",
       "                }\n",
       "            }, 500);\n",
       "            "
      ],
      "text/plain": [
       "<IPython.core.display.Javascript object>"
      ]
     },
     "metadata": {},
     "output_type": "display_data"
    }
   ],
   "source": [
    "%reload_ext nb_black\n",
    "\n",
    "import matplotlib.pyplot as plt\n",
    "import pandas as pd\n",
    "import spacy\n",
    "import markovify\n",
    "\n",
    "from sqlalchemy import create_engine\n",
    "\n",
    "import warnings\n",
    "\n",
    "warnings.filterwarnings(action=\"ignore\")\n",
    "\n",
    "!python -m spacy download en"
   ]
  },
  {
   "cell_type": "code",
   "execution_count": 5,
   "metadata": {},
   "outputs": [
    {
     "data": {
      "application/javascript": [
       "\n",
       "            setTimeout(function() {\n",
       "                var nbb_cell_id = 5;\n",
       "                var nbb_unformatted_code = \"postgres_user = 'dsbc_student'\\npostgres_pw = '7*.8G9QH21'\\npostgres_host = '142.93.121.174'\\npostgres_port = '5432'\\npostgres_db = 'twitter_sentiment'\\n\\nengine = create_engine('postgresql://{}:{}@{}:{}/{}'.format(\\n    postgres_user, postgres_pw, postgres_host, postgres_port, postgres_db))\\n\\ntweets_df = pd.read_sql_query('select * from twitter',con=engine)\\n\\nengine.dispose()\";\n",
       "                var nbb_formatted_code = \"postgres_user = \\\"dsbc_student\\\"\\npostgres_pw = \\\"7*.8G9QH21\\\"\\npostgres_host = \\\"142.93.121.174\\\"\\npostgres_port = \\\"5432\\\"\\npostgres_db = \\\"twitter_sentiment\\\"\\n\\nengine = create_engine(\\n    \\\"postgresql://{}:{}@{}:{}/{}\\\".format(\\n        postgres_user, postgres_pw, postgres_host, postgres_port, postgres_db\\n    )\\n)\\n\\ntweets_df = pd.read_sql_query(\\\"select * from twitter\\\", con=engine)\\n\\nengine.dispose()\";\n",
       "                var nbb_cells = Jupyter.notebook.get_cells();\n",
       "                for (var i = 0; i < nbb_cells.length; ++i) {\n",
       "                    if (nbb_cells[i].input_prompt_number == nbb_cell_id) {\n",
       "                        if (nbb_cells[i].get_text() == nbb_unformatted_code) {\n",
       "                             nbb_cells[i].set_text(nbb_formatted_code);\n",
       "                        }\n",
       "                        break;\n",
       "                    }\n",
       "                }\n",
       "            }, 500);\n",
       "            "
      ],
      "text/plain": [
       "<IPython.core.display.Javascript object>"
      ]
     },
     "metadata": {},
     "output_type": "display_data"
    },
    {
     "data": {
      "application/javascript": [
       "\n",
       "            setTimeout(function() {\n",
       "                var nbb_cell_id = 5;\n",
       "                var nbb_unformatted_code = \"postgres_user = 'dsbc_student'\\npostgres_pw = '7*.8G9QH21'\\npostgres_host = '142.93.121.174'\\npostgres_port = '5432'\\npostgres_db = 'twitter_sentiment'\\n\\nengine = create_engine('postgresql://{}:{}@{}:{}/{}'.format(\\n    postgres_user, postgres_pw, postgres_host, postgres_port, postgres_db))\\n\\ntweets_df = pd.read_sql_query('select * from twitter',con=engine)\\n\\nengine.dispose()\";\n",
       "                var nbb_formatted_code = \"postgres_user = \\\"dsbc_student\\\"\\npostgres_pw = \\\"7*.8G9QH21\\\"\\npostgres_host = \\\"142.93.121.174\\\"\\npostgres_port = \\\"5432\\\"\\npostgres_db = \\\"twitter_sentiment\\\"\\n\\nengine = create_engine(\\n    \\\"postgresql://{}:{}@{}:{}/{}\\\".format(\\n        postgres_user, postgres_pw, postgres_host, postgres_port, postgres_db\\n    )\\n)\\n\\ntweets_df = pd.read_sql_query(\\\"select * from twitter\\\", con=engine)\\n\\nengine.dispose()\";\n",
       "                var nbb_cells = Jupyter.notebook.get_cells();\n",
       "                for (var i = 0; i < nbb_cells.length; ++i) {\n",
       "                    if (nbb_cells[i].input_prompt_number == nbb_cell_id) {\n",
       "                        if (nbb_cells[i].get_text() == nbb_unformatted_code) {\n",
       "                             nbb_cells[i].set_text(nbb_formatted_code);\n",
       "                        }\n",
       "                        break;\n",
       "                    }\n",
       "                }\n",
       "            }, 500);\n",
       "            "
      ],
      "text/plain": [
       "<IPython.core.display.Javascript object>"
      ]
     },
     "metadata": {},
     "output_type": "display_data"
    },
    {
     "data": {
      "application/javascript": [
       "\n",
       "            setTimeout(function() {\n",
       "                var nbb_cell_id = 5;\n",
       "                var nbb_unformatted_code = \"postgres_user = 'dsbc_student'\\npostgres_pw = '7*.8G9QH21'\\npostgres_host = '142.93.121.174'\\npostgres_port = '5432'\\npostgres_db = 'twitter_sentiment'\\n\\nengine = create_engine('postgresql://{}:{}@{}:{}/{}'.format(\\n    postgres_user, postgres_pw, postgres_host, postgres_port, postgres_db))\\n\\ntweets_df = pd.read_sql_query('select * from twitter',con=engine)\\n\\nengine.dispose()\";\n",
       "                var nbb_formatted_code = \"postgres_user = \\\"dsbc_student\\\"\\npostgres_pw = \\\"7*.8G9QH21\\\"\\npostgres_host = \\\"142.93.121.174\\\"\\npostgres_port = \\\"5432\\\"\\npostgres_db = \\\"twitter_sentiment\\\"\\n\\nengine = create_engine(\\n    \\\"postgresql://{}:{}@{}:{}/{}\\\".format(\\n        postgres_user, postgres_pw, postgres_host, postgres_port, postgres_db\\n    )\\n)\\n\\ntweets_df = pd.read_sql_query(\\\"select * from twitter\\\", con=engine)\\n\\nengine.dispose()\";\n",
       "                var nbb_cells = Jupyter.notebook.get_cells();\n",
       "                for (var i = 0; i < nbb_cells.length; ++i) {\n",
       "                    if (nbb_cells[i].input_prompt_number == nbb_cell_id) {\n",
       "                        if (nbb_cells[i].get_text() == nbb_unformatted_code) {\n",
       "                             nbb_cells[i].set_text(nbb_formatted_code);\n",
       "                        }\n",
       "                        break;\n",
       "                    }\n",
       "                }\n",
       "            }, 500);\n",
       "            "
      ],
      "text/plain": [
       "<IPython.core.display.Javascript object>"
      ]
     },
     "metadata": {},
     "output_type": "display_data"
    }
   ],
   "source": [
    "postgres_user = \"dsbc_student\"\n",
    "postgres_pw = \"7*.8G9QH21\"\n",
    "postgres_host = \"142.93.121.174\"\n",
    "postgres_port = \"5432\"\n",
    "postgres_db = \"twitter_sentiment\"\n",
    "\n",
    "engine = create_engine(\n",
    "    \"postgresql://{}:{}@{}:{}/{}\".format(\n",
    "        postgres_user, postgres_pw, postgres_host, postgres_port, postgres_db\n",
    "    )\n",
    ")\n",
    "\n",
    "tweets_df = pd.read_sql_query(\"select * from twitter\", con=engine)\n",
    "\n",
    "engine.dispose()"
   ]
  },
  {
   "cell_type": "code",
   "execution_count": 6,
   "metadata": {},
   "outputs": [
    {
     "data": {
      "application/javascript": [
       "\n",
       "            setTimeout(function() {\n",
       "                var nbb_cell_id = 6;\n",
       "                var nbb_unformatted_code = \"nlp = spacy.load('en_core_web_sm')\\n\\nnlp.max_length = 20000000\\n\\ntwitter_doc = nlp(' '.join(tweets_df.text))\";\n",
       "                var nbb_formatted_code = \"nlp = spacy.load(\\\"en_core_web_sm\\\")\\n\\nnlp.max_length = 20000000\\n\\ntwitter_doc = nlp(\\\" \\\".join(tweets_df.text))\";\n",
       "                var nbb_cells = Jupyter.notebook.get_cells();\n",
       "                for (var i = 0; i < nbb_cells.length; ++i) {\n",
       "                    if (nbb_cells[i].input_prompt_number == nbb_cell_id) {\n",
       "                        if (nbb_cells[i].get_text() == nbb_unformatted_code) {\n",
       "                             nbb_cells[i].set_text(nbb_formatted_code);\n",
       "                        }\n",
       "                        break;\n",
       "                    }\n",
       "                }\n",
       "            }, 500);\n",
       "            "
      ],
      "text/plain": [
       "<IPython.core.display.Javascript object>"
      ]
     },
     "metadata": {},
     "output_type": "display_data"
    },
    {
     "data": {
      "application/javascript": [
       "\n",
       "            setTimeout(function() {\n",
       "                var nbb_cell_id = 6;\n",
       "                var nbb_unformatted_code = \"nlp = spacy.load('en_core_web_sm')\\n\\nnlp.max_length = 20000000\\n\\ntwitter_doc = nlp(' '.join(tweets_df.text))\";\n",
       "                var nbb_formatted_code = \"nlp = spacy.load(\\\"en_core_web_sm\\\")\\n\\nnlp.max_length = 20000000\\n\\ntwitter_doc = nlp(\\\" \\\".join(tweets_df.text))\";\n",
       "                var nbb_cells = Jupyter.notebook.get_cells();\n",
       "                for (var i = 0; i < nbb_cells.length; ++i) {\n",
       "                    if (nbb_cells[i].input_prompt_number == nbb_cell_id) {\n",
       "                        if (nbb_cells[i].get_text() == nbb_unformatted_code) {\n",
       "                             nbb_cells[i].set_text(nbb_formatted_code);\n",
       "                        }\n",
       "                        break;\n",
       "                    }\n",
       "                }\n",
       "            }, 500);\n",
       "            "
      ],
      "text/plain": [
       "<IPython.core.display.Javascript object>"
      ]
     },
     "metadata": {},
     "output_type": "display_data"
    },
    {
     "data": {
      "application/javascript": [
       "\n",
       "            setTimeout(function() {\n",
       "                var nbb_cell_id = 6;\n",
       "                var nbb_unformatted_code = \"nlp = spacy.load('en_core_web_sm')\\n\\nnlp.max_length = 20000000\\n\\ntwitter_doc = nlp(' '.join(tweets_df.text))\";\n",
       "                var nbb_formatted_code = \"nlp = spacy.load(\\\"en_core_web_sm\\\")\\n\\nnlp.max_length = 20000000\\n\\ntwitter_doc = nlp(\\\" \\\".join(tweets_df.text))\";\n",
       "                var nbb_cells = Jupyter.notebook.get_cells();\n",
       "                for (var i = 0; i < nbb_cells.length; ++i) {\n",
       "                    if (nbb_cells[i].input_prompt_number == nbb_cell_id) {\n",
       "                        if (nbb_cells[i].get_text() == nbb_unformatted_code) {\n",
       "                             nbb_cells[i].set_text(nbb_formatted_code);\n",
       "                        }\n",
       "                        break;\n",
       "                    }\n",
       "                }\n",
       "            }, 500);\n",
       "            "
      ],
      "text/plain": [
       "<IPython.core.display.Javascript object>"
      ]
     },
     "metadata": {},
     "output_type": "display_data"
    }
   ],
   "source": [
    "nlp = spacy.load(\"en_core_web_sm\")\n",
    "\n",
    "nlp.max_length = 20000000\n",
    "\n",
    "twitter_doc = nlp(\" \".join(tweets_df.text))"
   ]
  },
  {
   "cell_type": "code",
   "execution_count": 7,
   "metadata": {},
   "outputs": [
    {
     "data": {
      "application/javascript": [
       "\n",
       "            setTimeout(function() {\n",
       "                var nbb_cell_id = 7;\n",
       "                var nbb_unformatted_code = \"twitter_negative_doc = nlp(\\\" \\\".join(tweets_df[tweets_df[\\\"airline_sentiment\\\"]==\\\"negative\\\"].text))\\n\\ntweet_negative_sents = \\\" \\\".join([sent.text for sent in twitter_negative_doc.sents if len(sent.text) > 1])\\n\\ntweet_negative_generator = markovify.Text(tweet_negative_sents, state_size = 3)\";\n",
       "                var nbb_formatted_code = \"twitter_negative_doc = nlp(\\n    \\\" \\\".join(tweets_df[tweets_df[\\\"airline_sentiment\\\"] == \\\"negative\\\"].text)\\n)\\n\\ntweet_negative_sents = \\\" \\\".join(\\n    [sent.text for sent in twitter_negative_doc.sents if len(sent.text) > 1]\\n)\\n\\ntweet_negative_generator = markovify.Text(tweet_negative_sents, state_size=3)\";\n",
       "                var nbb_cells = Jupyter.notebook.get_cells();\n",
       "                for (var i = 0; i < nbb_cells.length; ++i) {\n",
       "                    if (nbb_cells[i].input_prompt_number == nbb_cell_id) {\n",
       "                        if (nbb_cells[i].get_text() == nbb_unformatted_code) {\n",
       "                             nbb_cells[i].set_text(nbb_formatted_code);\n",
       "                        }\n",
       "                        break;\n",
       "                    }\n",
       "                }\n",
       "            }, 500);\n",
       "            "
      ],
      "text/plain": [
       "<IPython.core.display.Javascript object>"
      ]
     },
     "metadata": {},
     "output_type": "display_data"
    },
    {
     "data": {
      "application/javascript": [
       "\n",
       "            setTimeout(function() {\n",
       "                var nbb_cell_id = 7;\n",
       "                var nbb_unformatted_code = \"twitter_negative_doc = nlp(\\\" \\\".join(tweets_df[tweets_df[\\\"airline_sentiment\\\"]==\\\"negative\\\"].text))\\n\\ntweet_negative_sents = \\\" \\\".join([sent.text for sent in twitter_negative_doc.sents if len(sent.text) > 1])\\n\\ntweet_negative_generator = markovify.Text(tweet_negative_sents, state_size = 3)\";\n",
       "                var nbb_formatted_code = \"twitter_negative_doc = nlp(\\n    \\\" \\\".join(tweets_df[tweets_df[\\\"airline_sentiment\\\"] == \\\"negative\\\"].text)\\n)\\n\\ntweet_negative_sents = \\\" \\\".join(\\n    [sent.text for sent in twitter_negative_doc.sents if len(sent.text) > 1]\\n)\\n\\ntweet_negative_generator = markovify.Text(tweet_negative_sents, state_size=3)\";\n",
       "                var nbb_cells = Jupyter.notebook.get_cells();\n",
       "                for (var i = 0; i < nbb_cells.length; ++i) {\n",
       "                    if (nbb_cells[i].input_prompt_number == nbb_cell_id) {\n",
       "                        if (nbb_cells[i].get_text() == nbb_unformatted_code) {\n",
       "                             nbb_cells[i].set_text(nbb_formatted_code);\n",
       "                        }\n",
       "                        break;\n",
       "                    }\n",
       "                }\n",
       "            }, 500);\n",
       "            "
      ],
      "text/plain": [
       "<IPython.core.display.Javascript object>"
      ]
     },
     "metadata": {},
     "output_type": "display_data"
    },
    {
     "data": {
      "application/javascript": [
       "\n",
       "            setTimeout(function() {\n",
       "                var nbb_cell_id = 7;\n",
       "                var nbb_unformatted_code = \"twitter_negative_doc = nlp(\\\" \\\".join(tweets_df[tweets_df[\\\"airline_sentiment\\\"]==\\\"negative\\\"].text))\\n\\ntweet_negative_sents = \\\" \\\".join([sent.text for sent in twitter_negative_doc.sents if len(sent.text) > 1])\\n\\ntweet_negative_generator = markovify.Text(tweet_negative_sents, state_size = 3)\";\n",
       "                var nbb_formatted_code = \"twitter_negative_doc = nlp(\\n    \\\" \\\".join(tweets_df[tweets_df[\\\"airline_sentiment\\\"] == \\\"negative\\\"].text)\\n)\\n\\ntweet_negative_sents = \\\" \\\".join(\\n    [sent.text for sent in twitter_negative_doc.sents if len(sent.text) > 1]\\n)\\n\\ntweet_negative_generator = markovify.Text(tweet_negative_sents, state_size=3)\";\n",
       "                var nbb_cells = Jupyter.notebook.get_cells();\n",
       "                for (var i = 0; i < nbb_cells.length; ++i) {\n",
       "                    if (nbb_cells[i].input_prompt_number == nbb_cell_id) {\n",
       "                        if (nbb_cells[i].get_text() == nbb_unformatted_code) {\n",
       "                             nbb_cells[i].set_text(nbb_formatted_code);\n",
       "                        }\n",
       "                        break;\n",
       "                    }\n",
       "                }\n",
       "            }, 500);\n",
       "            "
      ],
      "text/plain": [
       "<IPython.core.display.Javascript object>"
      ]
     },
     "metadata": {},
     "output_type": "display_data"
    }
   ],
   "source": [
    "twitter_negative_doc = nlp(\n",
    "    \" \".join(tweets_df[tweets_df[\"airline_sentiment\"] == \"negative\"].text)\n",
    ")\n",
    "\n",
    "tweet_negative_sents = \" \".join(\n",
    "    [sent.text for sent in twitter_negative_doc.sents if len(sent.text) > 1]\n",
    ")\n",
    "\n",
    "tweet_negative_generator = markovify.Text(tweet_negative_sents, state_size=3)"
   ]
  },
  {
   "cell_type": "code",
   "execution_count": 23,
   "metadata": {},
   "outputs": [
    {
     "name": "stdout",
     "output_type": "stream",
     "text": [
      "DM confirmation code so we can help with?\n",
      "\n",
      "\n",
      "@JetBlue quick ? Why is a person traveling w a mosaic not get the first flight of the day not going out?\n",
      "\n",
      "\n",
      "Tried calling customer service yesterday.\n",
      "\n",
      "\n",
      "Are YOU just trying to get on iah flight.\n",
      "\n",
      "\n",
      "@USAirways Can you tell me to talk to to ensure the statement is sent to my bank to file claim with?\n",
      "\n",
      "\n",
      "On hold for 1 hour trying to get on flight we paid for due to lack of crew and now maintenance.\n",
      "\n",
      "\n"
     ]
    },
    {
     "data": {
      "application/javascript": [
       "\n",
       "            setTimeout(function() {\n",
       "                var nbb_cell_id = 23;\n",
       "                var nbb_unformatted_code = \"for i in range(3):\\n    print(tweet_negative_generator.make_sentence(tries = 100))\\n    print(\\\"\\\\n\\\")\\n\\nfor i in range(3):\\n    print(tweet_negative_generator.make_short_sentence(100, tries = 100))\\n    print(\\\"\\\\n\\\")\";\n",
       "                var nbb_formatted_code = \"for i in range(3):\\n    print(tweet_negative_generator.make_sentence(tries=100))\\n    print(\\\"\\\\n\\\")\\n\\nfor i in range(3):\\n    print(tweet_negative_generator.make_short_sentence(100, tries=100))\\n    print(\\\"\\\\n\\\")\";\n",
       "                var nbb_cells = Jupyter.notebook.get_cells();\n",
       "                for (var i = 0; i < nbb_cells.length; ++i) {\n",
       "                    if (nbb_cells[i].input_prompt_number == nbb_cell_id) {\n",
       "                        if (nbb_cells[i].get_text() == nbb_unformatted_code) {\n",
       "                             nbb_cells[i].set_text(nbb_formatted_code);\n",
       "                        }\n",
       "                        break;\n",
       "                    }\n",
       "                }\n",
       "            }, 500);\n",
       "            "
      ],
      "text/plain": [
       "<IPython.core.display.Javascript object>"
      ]
     },
     "metadata": {},
     "output_type": "display_data"
    },
    {
     "data": {
      "application/javascript": [
       "\n",
       "            setTimeout(function() {\n",
       "                var nbb_cell_id = 23;\n",
       "                var nbb_unformatted_code = \"for i in range(3):\\n    print(tweet_negative_generator.make_sentence(tries = 100))\\n    print(\\\"\\\\n\\\")\\n\\nfor i in range(3):\\n    print(tweet_negative_generator.make_short_sentence(100, tries = 100))\\n    print(\\\"\\\\n\\\")\";\n",
       "                var nbb_formatted_code = \"for i in range(3):\\n    print(tweet_negative_generator.make_sentence(tries=100))\\n    print(\\\"\\\\n\\\")\\n\\nfor i in range(3):\\n    print(tweet_negative_generator.make_short_sentence(100, tries=100))\\n    print(\\\"\\\\n\\\")\";\n",
       "                var nbb_cells = Jupyter.notebook.get_cells();\n",
       "                for (var i = 0; i < nbb_cells.length; ++i) {\n",
       "                    if (nbb_cells[i].input_prompt_number == nbb_cell_id) {\n",
       "                        if (nbb_cells[i].get_text() == nbb_unformatted_code) {\n",
       "                             nbb_cells[i].set_text(nbb_formatted_code);\n",
       "                        }\n",
       "                        break;\n",
       "                    }\n",
       "                }\n",
       "            }, 500);\n",
       "            "
      ],
      "text/plain": [
       "<IPython.core.display.Javascript object>"
      ]
     },
     "metadata": {},
     "output_type": "display_data"
    },
    {
     "data": {
      "application/javascript": [
       "\n",
       "            setTimeout(function() {\n",
       "                var nbb_cell_id = 23;\n",
       "                var nbb_unformatted_code = \"for i in range(3):\\n    print(tweet_negative_generator.make_sentence(tries = 100))\\n    print(\\\"\\\\n\\\")\\n\\nfor i in range(3):\\n    print(tweet_negative_generator.make_short_sentence(100, tries = 100))\\n    print(\\\"\\\\n\\\")\";\n",
       "                var nbb_formatted_code = \"for i in range(3):\\n    print(tweet_negative_generator.make_sentence(tries=100))\\n    print(\\\"\\\\n\\\")\\n\\nfor i in range(3):\\n    print(tweet_negative_generator.make_short_sentence(100, tries=100))\\n    print(\\\"\\\\n\\\")\";\n",
       "                var nbb_cells = Jupyter.notebook.get_cells();\n",
       "                for (var i = 0; i < nbb_cells.length; ++i) {\n",
       "                    if (nbb_cells[i].input_prompt_number == nbb_cell_id) {\n",
       "                        if (nbb_cells[i].get_text() == nbb_unformatted_code) {\n",
       "                             nbb_cells[i].set_text(nbb_formatted_code);\n",
       "                        }\n",
       "                        break;\n",
       "                    }\n",
       "                }\n",
       "            }, 500);\n",
       "            "
      ],
      "text/plain": [
       "<IPython.core.display.Javascript object>"
      ]
     },
     "metadata": {},
     "output_type": "display_data"
    }
   ],
   "source": [
    "for i in range(3):\n",
    "    print(tweet_negative_generator.make_sentence(tries=100))\n",
    "    print(\"\\n\")\n",
    "\n",
    "for i in range(3):\n",
    "    print(tweet_negative_generator.make_short_sentence(100, tries=100))\n",
    "    print(\"\\n\")"
   ]
  },
  {
   "cell_type": "code",
   "execution_count": 24,
   "metadata": {},
   "outputs": [
    {
     "data": {
      "application/javascript": [
       "\n",
       "            setTimeout(function() {\n",
       "                var nbb_cell_id = 24;\n",
       "                var nbb_unformatted_code = \"twitter_positive_doc = nlp(\\n    \\\" \\\".join(tweets_df[tweets_df[\\\"airline_sentiment\\\"] == \\\"positive\\\"].text)\\n)\\n\\ntweet_positive_sents = \\\" \\\".join(\\n    [sent.text for sent in twitter_positive_doc.sents if len(sent.text) > 1]\\n)\\n\\ntweet_positive_generator = markovify.Text(tweet_positive_sents, state_size=3)\";\n",
       "                var nbb_formatted_code = \"twitter_positive_doc = nlp(\\n    \\\" \\\".join(tweets_df[tweets_df[\\\"airline_sentiment\\\"] == \\\"positive\\\"].text)\\n)\\n\\ntweet_positive_sents = \\\" \\\".join(\\n    [sent.text for sent in twitter_positive_doc.sents if len(sent.text) > 1]\\n)\\n\\ntweet_positive_generator = markovify.Text(tweet_positive_sents, state_size=3)\";\n",
       "                var nbb_cells = Jupyter.notebook.get_cells();\n",
       "                for (var i = 0; i < nbb_cells.length; ++i) {\n",
       "                    if (nbb_cells[i].input_prompt_number == nbb_cell_id) {\n",
       "                        if (nbb_cells[i].get_text() == nbb_unformatted_code) {\n",
       "                             nbb_cells[i].set_text(nbb_formatted_code);\n",
       "                        }\n",
       "                        break;\n",
       "                    }\n",
       "                }\n",
       "            }, 500);\n",
       "            "
      ],
      "text/plain": [
       "<IPython.core.display.Javascript object>"
      ]
     },
     "metadata": {},
     "output_type": "display_data"
    },
    {
     "data": {
      "application/javascript": [
       "\n",
       "            setTimeout(function() {\n",
       "                var nbb_cell_id = 24;\n",
       "                var nbb_unformatted_code = \"twitter_positive_doc = nlp(\\n    \\\" \\\".join(tweets_df[tweets_df[\\\"airline_sentiment\\\"] == \\\"positive\\\"].text)\\n)\\n\\ntweet_positive_sents = \\\" \\\".join(\\n    [sent.text for sent in twitter_positive_doc.sents if len(sent.text) > 1]\\n)\\n\\ntweet_positive_generator = markovify.Text(tweet_positive_sents, state_size=3)\";\n",
       "                var nbb_formatted_code = \"twitter_positive_doc = nlp(\\n    \\\" \\\".join(tweets_df[tweets_df[\\\"airline_sentiment\\\"] == \\\"positive\\\"].text)\\n)\\n\\ntweet_positive_sents = \\\" \\\".join(\\n    [sent.text for sent in twitter_positive_doc.sents if len(sent.text) > 1]\\n)\\n\\ntweet_positive_generator = markovify.Text(tweet_positive_sents, state_size=3)\";\n",
       "                var nbb_cells = Jupyter.notebook.get_cells();\n",
       "                for (var i = 0; i < nbb_cells.length; ++i) {\n",
       "                    if (nbb_cells[i].input_prompt_number == nbb_cell_id) {\n",
       "                        if (nbb_cells[i].get_text() == nbb_unformatted_code) {\n",
       "                             nbb_cells[i].set_text(nbb_formatted_code);\n",
       "                        }\n",
       "                        break;\n",
       "                    }\n",
       "                }\n",
       "            }, 500);\n",
       "            "
      ],
      "text/plain": [
       "<IPython.core.display.Javascript object>"
      ]
     },
     "metadata": {},
     "output_type": "display_data"
    },
    {
     "data": {
      "application/javascript": [
       "\n",
       "            setTimeout(function() {\n",
       "                var nbb_cell_id = 24;\n",
       "                var nbb_unformatted_code = \"twitter_positive_doc = nlp(\\n    \\\" \\\".join(tweets_df[tweets_df[\\\"airline_sentiment\\\"] == \\\"positive\\\"].text)\\n)\\n\\ntweet_positive_sents = \\\" \\\".join(\\n    [sent.text for sent in twitter_positive_doc.sents if len(sent.text) > 1]\\n)\\n\\ntweet_positive_generator = markovify.Text(tweet_positive_sents, state_size=3)\";\n",
       "                var nbb_formatted_code = \"twitter_positive_doc = nlp(\\n    \\\" \\\".join(tweets_df[tweets_df[\\\"airline_sentiment\\\"] == \\\"positive\\\"].text)\\n)\\n\\ntweet_positive_sents = \\\" \\\".join(\\n    [sent.text for sent in twitter_positive_doc.sents if len(sent.text) > 1]\\n)\\n\\ntweet_positive_generator = markovify.Text(tweet_positive_sents, state_size=3)\";\n",
       "                var nbb_cells = Jupyter.notebook.get_cells();\n",
       "                for (var i = 0; i < nbb_cells.length; ++i) {\n",
       "                    if (nbb_cells[i].input_prompt_number == nbb_cell_id) {\n",
       "                        if (nbb_cells[i].get_text() == nbb_unformatted_code) {\n",
       "                             nbb_cells[i].set_text(nbb_formatted_code);\n",
       "                        }\n",
       "                        break;\n",
       "                    }\n",
       "                }\n",
       "            }, 500);\n",
       "            "
      ],
      "text/plain": [
       "<IPython.core.display.Javascript object>"
      ]
     },
     "metadata": {},
     "output_type": "display_data"
    }
   ],
   "source": [
    "twitter_positive_doc = nlp(\n",
    "    \" \".join(tweets_df[tweets_df[\"airline_sentiment\"] == \"positive\"].text)\n",
    ")\n",
    "\n",
    "tweet_positive_sents = \" \".join(\n",
    "    [sent.text for sent in twitter_positive_doc.sents if len(sent.text) > 1]\n",
    ")\n",
    "\n",
    "tweet_positive_generator = markovify.Text(tweet_positive_sents, state_size=3)"
   ]
  },
  {
   "cell_type": "code",
   "execution_count": 25,
   "metadata": {},
   "outputs": [
    {
     "name": "stdout",
     "output_type": "stream",
     "text": [
      "@JetBlue thanks @JetBlue Then en route to LHR @united thank you!\n",
      "\n",
      "\n",
      "@united Thank You @united thank you for fixing my 5 hour delay.\n",
      "\n",
      "\n",
      "#RaganDisney @SouthwestAir oh my gosh!\n",
      "\n",
      "\n",
      "1st time flying with you.\n",
      "\n",
      "\n",
      "Best of luck to you dealing with the snow in Texas!\n",
      "\n",
      "\n",
      "@SouthwestAir , thanks for being so responsive on Twitter.\n",
      "\n",
      "\n"
     ]
    },
    {
     "data": {
      "application/javascript": [
       "\n",
       "            setTimeout(function() {\n",
       "                var nbb_cell_id = 25;\n",
       "                var nbb_unformatted_code = \"for i in range(3):\\n    print(tweet_positive_generator.make_sentence(tries=100))\\n    print(\\\"\\\\n\\\")\\n\\nfor i in range(3):\\n    print(tweet_positive_generator.make_short_sentence(100, tries = 100))\\n    print(\\\"\\\\n\\\")\";\n",
       "                var nbb_formatted_code = \"for i in range(3):\\n    print(tweet_positive_generator.make_sentence(tries=100))\\n    print(\\\"\\\\n\\\")\\n\\nfor i in range(3):\\n    print(tweet_positive_generator.make_short_sentence(100, tries=100))\\n    print(\\\"\\\\n\\\")\";\n",
       "                var nbb_cells = Jupyter.notebook.get_cells();\n",
       "                for (var i = 0; i < nbb_cells.length; ++i) {\n",
       "                    if (nbb_cells[i].input_prompt_number == nbb_cell_id) {\n",
       "                        if (nbb_cells[i].get_text() == nbb_unformatted_code) {\n",
       "                             nbb_cells[i].set_text(nbb_formatted_code);\n",
       "                        }\n",
       "                        break;\n",
       "                    }\n",
       "                }\n",
       "            }, 500);\n",
       "            "
      ],
      "text/plain": [
       "<IPython.core.display.Javascript object>"
      ]
     },
     "metadata": {},
     "output_type": "display_data"
    },
    {
     "data": {
      "application/javascript": [
       "\n",
       "            setTimeout(function() {\n",
       "                var nbb_cell_id = 25;\n",
       "                var nbb_unformatted_code = \"for i in range(3):\\n    print(tweet_positive_generator.make_sentence(tries=100))\\n    print(\\\"\\\\n\\\")\\n\\nfor i in range(3):\\n    print(tweet_positive_generator.make_short_sentence(100, tries = 100))\\n    print(\\\"\\\\n\\\")\";\n",
       "                var nbb_formatted_code = \"for i in range(3):\\n    print(tweet_positive_generator.make_sentence(tries=100))\\n    print(\\\"\\\\n\\\")\\n\\nfor i in range(3):\\n    print(tweet_positive_generator.make_short_sentence(100, tries=100))\\n    print(\\\"\\\\n\\\")\";\n",
       "                var nbb_cells = Jupyter.notebook.get_cells();\n",
       "                for (var i = 0; i < nbb_cells.length; ++i) {\n",
       "                    if (nbb_cells[i].input_prompt_number == nbb_cell_id) {\n",
       "                        if (nbb_cells[i].get_text() == nbb_unformatted_code) {\n",
       "                             nbb_cells[i].set_text(nbb_formatted_code);\n",
       "                        }\n",
       "                        break;\n",
       "                    }\n",
       "                }\n",
       "            }, 500);\n",
       "            "
      ],
      "text/plain": [
       "<IPython.core.display.Javascript object>"
      ]
     },
     "metadata": {},
     "output_type": "display_data"
    },
    {
     "data": {
      "application/javascript": [
       "\n",
       "            setTimeout(function() {\n",
       "                var nbb_cell_id = 25;\n",
       "                var nbb_unformatted_code = \"for i in range(3):\\n    print(tweet_positive_generator.make_sentence(tries=100))\\n    print(\\\"\\\\n\\\")\\n\\nfor i in range(3):\\n    print(tweet_positive_generator.make_short_sentence(100, tries = 100))\\n    print(\\\"\\\\n\\\")\";\n",
       "                var nbb_formatted_code = \"for i in range(3):\\n    print(tweet_positive_generator.make_sentence(tries=100))\\n    print(\\\"\\\\n\\\")\\n\\nfor i in range(3):\\n    print(tweet_positive_generator.make_short_sentence(100, tries=100))\\n    print(\\\"\\\\n\\\")\";\n",
       "                var nbb_cells = Jupyter.notebook.get_cells();\n",
       "                for (var i = 0; i < nbb_cells.length; ++i) {\n",
       "                    if (nbb_cells[i].input_prompt_number == nbb_cell_id) {\n",
       "                        if (nbb_cells[i].get_text() == nbb_unformatted_code) {\n",
       "                             nbb_cells[i].set_text(nbb_formatted_code);\n",
       "                        }\n",
       "                        break;\n",
       "                    }\n",
       "                }\n",
       "            }, 500);\n",
       "            "
      ],
      "text/plain": [
       "<IPython.core.display.Javascript object>"
      ]
     },
     "metadata": {},
     "output_type": "display_data"
    }
   ],
   "source": [
    "for i in range(3):\n",
    "    print(tweet_positive_generator.make_sentence(tries=100))\n",
    "    print(\"\\n\")\n",
    "\n",
    "for i in range(3):\n",
    "    print(tweet_positive_generator.make_short_sentence(100, tries=100))\n",
    "    print(\"\\n\")"
   ]
  },
  {
   "cell_type": "code",
   "execution_count": 26,
   "metadata": {},
   "outputs": [
    {
     "data": {
      "application/javascript": [
       "\n",
       "            setTimeout(function() {\n",
       "                var nbb_cell_id = 26;\n",
       "                var nbb_unformatted_code = \"twitter_doc = nlp(\\n    \\\" \\\".join(tweets_df.text)\\n)\\n\\ntweet_sents = \\\" \\\".join(\\n    [sent.text for sent in twitter_doc.sents if len(sent.text) > 1]\\n)\\n\\ntweet_generator = markovify.Text(tweet_sents, state_size=3)\";\n",
       "                var nbb_formatted_code = \"twitter_doc = nlp(\\\" \\\".join(tweets_df.text))\\n\\ntweet_sents = \\\" \\\".join([sent.text for sent in twitter_doc.sents if len(sent.text) > 1])\\n\\ntweet_generator = markovify.Text(tweet_sents, state_size=3)\";\n",
       "                var nbb_cells = Jupyter.notebook.get_cells();\n",
       "                for (var i = 0; i < nbb_cells.length; ++i) {\n",
       "                    if (nbb_cells[i].input_prompt_number == nbb_cell_id) {\n",
       "                        if (nbb_cells[i].get_text() == nbb_unformatted_code) {\n",
       "                             nbb_cells[i].set_text(nbb_formatted_code);\n",
       "                        }\n",
       "                        break;\n",
       "                    }\n",
       "                }\n",
       "            }, 500);\n",
       "            "
      ],
      "text/plain": [
       "<IPython.core.display.Javascript object>"
      ]
     },
     "metadata": {},
     "output_type": "display_data"
    },
    {
     "data": {
      "application/javascript": [
       "\n",
       "            setTimeout(function() {\n",
       "                var nbb_cell_id = 26;\n",
       "                var nbb_unformatted_code = \"twitter_doc = nlp(\\n    \\\" \\\".join(tweets_df.text)\\n)\\n\\ntweet_sents = \\\" \\\".join(\\n    [sent.text for sent in twitter_doc.sents if len(sent.text) > 1]\\n)\\n\\ntweet_generator = markovify.Text(tweet_sents, state_size=3)\";\n",
       "                var nbb_formatted_code = \"twitter_doc = nlp(\\\" \\\".join(tweets_df.text))\\n\\ntweet_sents = \\\" \\\".join([sent.text for sent in twitter_doc.sents if len(sent.text) > 1])\\n\\ntweet_generator = markovify.Text(tweet_sents, state_size=3)\";\n",
       "                var nbb_cells = Jupyter.notebook.get_cells();\n",
       "                for (var i = 0; i < nbb_cells.length; ++i) {\n",
       "                    if (nbb_cells[i].input_prompt_number == nbb_cell_id) {\n",
       "                        if (nbb_cells[i].get_text() == nbb_unformatted_code) {\n",
       "                             nbb_cells[i].set_text(nbb_formatted_code);\n",
       "                        }\n",
       "                        break;\n",
       "                    }\n",
       "                }\n",
       "            }, 500);\n",
       "            "
      ],
      "text/plain": [
       "<IPython.core.display.Javascript object>"
      ]
     },
     "metadata": {},
     "output_type": "display_data"
    },
    {
     "data": {
      "application/javascript": [
       "\n",
       "            setTimeout(function() {\n",
       "                var nbb_cell_id = 26;\n",
       "                var nbb_unformatted_code = \"twitter_doc = nlp(\\n    \\\" \\\".join(tweets_df.text)\\n)\\n\\ntweet_sents = \\\" \\\".join(\\n    [sent.text for sent in twitter_doc.sents if len(sent.text) > 1]\\n)\\n\\ntweet_generator = markovify.Text(tweet_sents, state_size=3)\";\n",
       "                var nbb_formatted_code = \"twitter_doc = nlp(\\\" \\\".join(tweets_df.text))\\n\\ntweet_sents = \\\" \\\".join([sent.text for sent in twitter_doc.sents if len(sent.text) > 1])\\n\\ntweet_generator = markovify.Text(tweet_sents, state_size=3)\";\n",
       "                var nbb_cells = Jupyter.notebook.get_cells();\n",
       "                for (var i = 0; i < nbb_cells.length; ++i) {\n",
       "                    if (nbb_cells[i].input_prompt_number == nbb_cell_id) {\n",
       "                        if (nbb_cells[i].get_text() == nbb_unformatted_code) {\n",
       "                             nbb_cells[i].set_text(nbb_formatted_code);\n",
       "                        }\n",
       "                        break;\n",
       "                    }\n",
       "                }\n",
       "            }, 500);\n",
       "            "
      ],
      "text/plain": [
       "<IPython.core.display.Javascript object>"
      ]
     },
     "metadata": {},
     "output_type": "display_data"
    }
   ],
   "source": [
    "twitter_doc = nlp(\" \".join(tweets_df.text))\n",
    "\n",
    "tweet_sents = \" \".join([sent.text for sent in twitter_doc.sents if len(sent.text) > 1])\n",
    "\n",
    "tweet_generator = markovify.Text(tweet_sents, state_size=3)"
   ]
  },
  {
   "cell_type": "code",
   "execution_count": 27,
   "metadata": {},
   "outputs": [
    {
     "name": "stdout",
     "output_type": "stream",
     "text": [
      "Figured that was the hurry..\n",
      "\n",
      "\n",
      "Something locals know but tourist don't just FYI @SouthwestAir I tried to make the southwest app for Android not crappy?\n",
      "\n",
      "\n",
      "#delayed inbound and now waiting at EWR for a gate @united the hotel you sent us to wouldnt take the voucher.\n",
      "\n",
      "\n",
      "Can't get through on any phones @USAirways Thanks for ruining my trip and pay extra though.\n",
      "\n",
      "\n",
      "Twice sat on hold for 2 hours &amp; got disconnected!\n",
      "\n",
      "\n",
      "40 minutes to get my situation resolved.\n",
      "\n",
      "\n"
     ]
    },
    {
     "data": {
      "application/javascript": [
       "\n",
       "            setTimeout(function() {\n",
       "                var nbb_cell_id = 27;\n",
       "                var nbb_unformatted_code = \"for i in range(3):\\n    print(tweet_generator.make_sentence(tries=100))\\n    print(\\\"\\\\n\\\")\\n\\nfor i in range(3):\\n    print(tweet_generator.make_short_sentence(100, tries=100))\\n    print(\\\"\\\\n\\\")\";\n",
       "                var nbb_formatted_code = \"for i in range(3):\\n    print(tweet_generator.make_sentence(tries=100))\\n    print(\\\"\\\\n\\\")\\n\\nfor i in range(3):\\n    print(tweet_generator.make_short_sentence(100, tries=100))\\n    print(\\\"\\\\n\\\")\";\n",
       "                var nbb_cells = Jupyter.notebook.get_cells();\n",
       "                for (var i = 0; i < nbb_cells.length; ++i) {\n",
       "                    if (nbb_cells[i].input_prompt_number == nbb_cell_id) {\n",
       "                        if (nbb_cells[i].get_text() == nbb_unformatted_code) {\n",
       "                             nbb_cells[i].set_text(nbb_formatted_code);\n",
       "                        }\n",
       "                        break;\n",
       "                    }\n",
       "                }\n",
       "            }, 500);\n",
       "            "
      ],
      "text/plain": [
       "<IPython.core.display.Javascript object>"
      ]
     },
     "metadata": {},
     "output_type": "display_data"
    },
    {
     "data": {
      "application/javascript": [
       "\n",
       "            setTimeout(function() {\n",
       "                var nbb_cell_id = 27;\n",
       "                var nbb_unformatted_code = \"for i in range(3):\\n    print(tweet_generator.make_sentence(tries=100))\\n    print(\\\"\\\\n\\\")\\n\\nfor i in range(3):\\n    print(tweet_generator.make_short_sentence(100, tries=100))\\n    print(\\\"\\\\n\\\")\";\n",
       "                var nbb_formatted_code = \"for i in range(3):\\n    print(tweet_generator.make_sentence(tries=100))\\n    print(\\\"\\\\n\\\")\\n\\nfor i in range(3):\\n    print(tweet_generator.make_short_sentence(100, tries=100))\\n    print(\\\"\\\\n\\\")\";\n",
       "                var nbb_cells = Jupyter.notebook.get_cells();\n",
       "                for (var i = 0; i < nbb_cells.length; ++i) {\n",
       "                    if (nbb_cells[i].input_prompt_number == nbb_cell_id) {\n",
       "                        if (nbb_cells[i].get_text() == nbb_unformatted_code) {\n",
       "                             nbb_cells[i].set_text(nbb_formatted_code);\n",
       "                        }\n",
       "                        break;\n",
       "                    }\n",
       "                }\n",
       "            }, 500);\n",
       "            "
      ],
      "text/plain": [
       "<IPython.core.display.Javascript object>"
      ]
     },
     "metadata": {},
     "output_type": "display_data"
    },
    {
     "data": {
      "application/javascript": [
       "\n",
       "            setTimeout(function() {\n",
       "                var nbb_cell_id = 27;\n",
       "                var nbb_unformatted_code = \"for i in range(3):\\n    print(tweet_generator.make_sentence(tries=100))\\n    print(\\\"\\\\n\\\")\\n\\nfor i in range(3):\\n    print(tweet_generator.make_short_sentence(100, tries=100))\\n    print(\\\"\\\\n\\\")\";\n",
       "                var nbb_formatted_code = \"for i in range(3):\\n    print(tweet_generator.make_sentence(tries=100))\\n    print(\\\"\\\\n\\\")\\n\\nfor i in range(3):\\n    print(tweet_generator.make_short_sentence(100, tries=100))\\n    print(\\\"\\\\n\\\")\";\n",
       "                var nbb_cells = Jupyter.notebook.get_cells();\n",
       "                for (var i = 0; i < nbb_cells.length; ++i) {\n",
       "                    if (nbb_cells[i].input_prompt_number == nbb_cell_id) {\n",
       "                        if (nbb_cells[i].get_text() == nbb_unformatted_code) {\n",
       "                             nbb_cells[i].set_text(nbb_formatted_code);\n",
       "                        }\n",
       "                        break;\n",
       "                    }\n",
       "                }\n",
       "            }, 500);\n",
       "            "
      ],
      "text/plain": [
       "<IPython.core.display.Javascript object>"
      ]
     },
     "metadata": {},
     "output_type": "display_data"
    }
   ],
   "source": [
    "for i in range(3):\n",
    "    print(tweet_generator.make_sentence(tries=100))\n",
    "    print(\"\\n\")\n",
    "\n",
    "for i in range(3):\n",
    "    print(tweet_generator.make_short_sentence(100, tries=100))\n",
    "    print(\"\\n\")"
   ]
  }
 ],
 "metadata": {
  "kernelspec": {
   "display_name": "Python 3",
   "language": "python",
   "name": "python3"
  },
  "language_info": {
   "codemirror_mode": {
    "name": "ipython",
    "version": 3
   },
   "file_extension": ".py",
   "mimetype": "text/x-python",
   "name": "python",
   "nbconvert_exporter": "python",
   "pygments_lexer": "ipython3",
   "version": "3.7.6"
  }
 },
 "nbformat": 4,
 "nbformat_minor": 4
}
