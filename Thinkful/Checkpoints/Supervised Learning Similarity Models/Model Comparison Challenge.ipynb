{
 "cells": [
  {
   "cell_type": "code",
   "execution_count": 1,
   "metadata": {},
   "outputs": [
    {
     "data": {
      "application/javascript": [
       "\n",
       "            setTimeout(function() {\n",
       "                var nbb_cell_id = 1;\n",
       "                var nbb_unformatted_code = \"%reload_ext nb_black\";\n",
       "                var nbb_formatted_code = \"%reload_ext nb_black\";\n",
       "                var nbb_cells = Jupyter.notebook.get_cells();\n",
       "                for (var i = 0; i < nbb_cells.length; ++i) {\n",
       "                    if (nbb_cells[i].input_prompt_number == nbb_cell_id) {\n",
       "                        if (nbb_cells[i].get_text() == nbb_unformatted_code) {\n",
       "                             nbb_cells[i].set_text(nbb_formatted_code);\n",
       "                        }\n",
       "                        break;\n",
       "                    }\n",
       "                }\n",
       "            }, 500);\n",
       "            "
      ],
      "text/plain": [
       "<IPython.core.display.Javascript object>"
      ]
     },
     "metadata": {},
     "output_type": "display_data"
    }
   ],
   "source": [
    "%reload_ext nb_black"
   ]
  },
  {
   "cell_type": "code",
   "execution_count": 2,
   "metadata": {},
   "outputs": [
    {
     "data": {
      "application/javascript": [
       "\n",
       "            setTimeout(function() {\n",
       "                var nbb_cell_id = 2;\n",
       "                var nbb_unformatted_code = \"import warnings\\nimport pandas as pd\\nimport numpy as np\\nimport seaborn as sns\\nimport matplotlib.pyplot as plt\\n\\nfrom sklearn import linear_model\\nfrom sklearn.model_selection import train_test_split, GridSearchCV, cross_val_score\\nfrom sklearn.compose import ColumnTransformer\\nfrom sklearn.preprocessing import StandardScaler, OneHotEncoder\\nfrom sklearn.pipeline import Pipeline\\nfrom sklearn.neighbors import KNeighborsRegressor\\nimport statsmodels.api as sm\\nfrom statsmodels.stats.outliers_influence import variance_inflation_factor\";\n",
       "                var nbb_formatted_code = \"import warnings\\nimport pandas as pd\\nimport numpy as np\\nimport seaborn as sns\\nimport matplotlib.pyplot as plt\\n\\nfrom sklearn import linear_model\\nfrom sklearn.model_selection import train_test_split, GridSearchCV, cross_val_score\\nfrom sklearn.compose import ColumnTransformer\\nfrom sklearn.preprocessing import StandardScaler, OneHotEncoder\\nfrom sklearn.pipeline import Pipeline\\nfrom sklearn.neighbors import KNeighborsRegressor\\nimport statsmodels.api as sm\\nfrom statsmodels.stats.outliers_influence import variance_inflation_factor\";\n",
       "                var nbb_cells = Jupyter.notebook.get_cells();\n",
       "                for (var i = 0; i < nbb_cells.length; ++i) {\n",
       "                    if (nbb_cells[i].input_prompt_number == nbb_cell_id) {\n",
       "                        if (nbb_cells[i].get_text() == nbb_unformatted_code) {\n",
       "                             nbb_cells[i].set_text(nbb_formatted_code);\n",
       "                        }\n",
       "                        break;\n",
       "                    }\n",
       "                }\n",
       "            }, 500);\n",
       "            "
      ],
      "text/plain": [
       "<IPython.core.display.Javascript object>"
      ]
     },
     "metadata": {},
     "output_type": "display_data"
    }
   ],
   "source": [
    "import warnings\n",
    "import pandas as pd\n",
    "import numpy as np\n",
    "import seaborn as sns\n",
    "import matplotlib.pyplot as plt\n",
    "\n",
    "from sklearn import linear_model\n",
    "from sklearn.model_selection import train_test_split, GridSearchCV, cross_val_score\n",
    "from sklearn.compose import ColumnTransformer\n",
    "from sklearn.preprocessing import StandardScaler, OneHotEncoder\n",
    "from sklearn.pipeline import Pipeline\n",
    "from sklearn.neighbors import KNeighborsRegressor\n",
    "import statsmodels.api as sm\n",
    "from statsmodels.stats.outliers_influence import variance_inflation_factor"
   ]
  },
  {
   "cell_type": "code",
   "execution_count": 3,
   "metadata": {},
   "outputs": [
    {
     "name": "stdout",
     "output_type": "stream",
     "text": [
      "C:\\Users\\jlim7\\OneDrive\\Documents\\GitHub\\Thinkful_work\\Thinkful\\Checkpoints\n",
      "['.ipynb_checkpoints', '1067_1925_bundle_archive.zip', 'Analyzing Model Performance.ipynb', 'Beyond AB Tests Checkpoint.ipynb', 'Building and Analyzing Performance of Multiclass Classifiers.ipynb', 'Case Study Email checkpoint.ipynb', 'Challenge.ipynb', 'Classification Using Linear Classifiers .ipynb', 'Data Cleaning II.ipynb', 'Data Cleaning III.ipynb', 'Data Exploration I.ipynb', 'Data Exploration II.ipynb', 'Evaluating Performance Checkpoint.ipynb', 'Feature Engineering I.ipynb', 'Getting SQL Data into Python.ipynb', 'Interpreting Estimated Coefficients Checkpoint.ipynb', 'Linear Regression Assumptions.ipynb', 'Linear Regression with OLS Assumptions.ipynb', 'Linear Regression with OLS.ipynb', 'Making Predictions Checkpoint.ipynb', 'Model Comparison Challenge.ipynb', 'Overfitting and Regularization Checkpoint.ipynb', 'Performing a T-Test.ipynb', 'Random Forest Challenge.ipynb', 'SQL_DrillsII.sql', 'SQL_DrillsIII.sql', 'Supervised Learning Challenge .ipynb']\n"
     ]
    },
    {
     "data": {
      "application/javascript": [
       "\n",
       "            setTimeout(function() {\n",
       "                var nbb_cell_id = 3;\n",
       "                var nbb_unformatted_code = \"import os\\n\\nprint(os.getcwd())\\n\\nprint(os.listdir(os.getcwd()))\";\n",
       "                var nbb_formatted_code = \"import os\\n\\nprint(os.getcwd())\\n\\nprint(os.listdir(os.getcwd()))\";\n",
       "                var nbb_cells = Jupyter.notebook.get_cells();\n",
       "                for (var i = 0; i < nbb_cells.length; ++i) {\n",
       "                    if (nbb_cells[i].input_prompt_number == nbb_cell_id) {\n",
       "                        if (nbb_cells[i].get_text() == nbb_unformatted_code) {\n",
       "                             nbb_cells[i].set_text(nbb_formatted_code);\n",
       "                        }\n",
       "                        break;\n",
       "                    }\n",
       "                }\n",
       "            }, 500);\n",
       "            "
      ],
      "text/plain": [
       "<IPython.core.display.Javascript object>"
      ]
     },
     "metadata": {},
     "output_type": "display_data"
    }
   ],
   "source": [
    "import os\n",
    "\n",
    "print(os.getcwd())\n",
    "\n",
    "print(os.listdir(os.getcwd()))"
   ]
  },
  {
   "cell_type": "code",
   "execution_count": 4,
   "metadata": {},
   "outputs": [
    {
     "data": {
      "application/javascript": [
       "\n",
       "            setTimeout(function() {\n",
       "                var nbb_cell_id = 4;\n",
       "                var nbb_unformatted_code = \"def eval_preds(y_true, y_pred):\\n    error = y_true - y_pred\\n\\n    rmse = np.sqrt((error ** 2).mean())\\n    mae = error.abs().mean()\\n    mape = (error / y_true).abs().mean()\\n\\n    print(f\\\"rmse {rmse:.2f}\\\")\\n    print(f\\\"mae {mae:.2f}\\\")\\n    print(f\\\"mape {mape:.2f}\\\")\";\n",
       "                var nbb_formatted_code = \"def eval_preds(y_true, y_pred):\\n    error = y_true - y_pred\\n\\n    rmse = np.sqrt((error ** 2).mean())\\n    mae = error.abs().mean()\\n    mape = (error / y_true).abs().mean()\\n\\n    print(f\\\"rmse {rmse:.2f}\\\")\\n    print(f\\\"mae {mae:.2f}\\\")\\n    print(f\\\"mape {mape:.2f}\\\")\";\n",
       "                var nbb_cells = Jupyter.notebook.get_cells();\n",
       "                for (var i = 0; i < nbb_cells.length; ++i) {\n",
       "                    if (nbb_cells[i].input_prompt_number == nbb_cell_id) {\n",
       "                        if (nbb_cells[i].get_text() == nbb_unformatted_code) {\n",
       "                             nbb_cells[i].set_text(nbb_formatted_code);\n",
       "                        }\n",
       "                        break;\n",
       "                    }\n",
       "                }\n",
       "            }, 500);\n",
       "            "
      ],
      "text/plain": [
       "<IPython.core.display.Javascript object>"
      ]
     },
     "metadata": {},
     "output_type": "display_data"
    }
   ],
   "source": [
    "def eval_preds(y_true, y_pred):\n",
    "    error = y_true - y_pred\n",
    "\n",
    "    rmse = np.sqrt((error ** 2).mean())\n",
    "    mae = error.abs().mean()\n",
    "    mape = (error / y_true).abs().mean()\n",
    "\n",
    "    print(f\"rmse {rmse:.2f}\")\n",
    "    print(f\"mae {mae:.2f}\")\n",
    "    print(f\"mape {mape:.2f}\")"
   ]
  },
  {
   "cell_type": "code",
   "execution_count": 5,
   "metadata": {
    "scrolled": true
   },
   "outputs": [
    {
     "data": {
      "application/javascript": [
       "\n",
       "            setTimeout(function() {\n",
       "                var nbb_cell_id = 5;\n",
       "                var nbb_unformatted_code = \"pd.set_option(\\\"display.max_columns\\\", None)\";\n",
       "                var nbb_formatted_code = \"pd.set_option(\\\"display.max_columns\\\", None)\";\n",
       "                var nbb_cells = Jupyter.notebook.get_cells();\n",
       "                for (var i = 0; i < nbb_cells.length; ++i) {\n",
       "                    if (nbb_cells[i].input_prompt_number == nbb_cell_id) {\n",
       "                        if (nbb_cells[i].get_text() == nbb_unformatted_code) {\n",
       "                             nbb_cells[i].set_text(nbb_formatted_code);\n",
       "                        }\n",
       "                        break;\n",
       "                    }\n",
       "                }\n",
       "            }, 500);\n",
       "            "
      ],
      "text/plain": [
       "<IPython.core.display.Javascript object>"
      ]
     },
     "metadata": {},
     "output_type": "display_data"
    }
   ],
   "source": [
    "pd.set_option(\"display.max_columns\", None)"
   ]
  },
  {
   "cell_type": "code",
   "execution_count": 6,
   "metadata": {},
   "outputs": [
    {
     "data": {
      "application/javascript": [
       "\n",
       "            setTimeout(function() {\n",
       "                var nbb_cell_id = 6;\n",
       "                var nbb_unformatted_code = \"# Education\\n# 1 'Below College'\\n# 2 'College'\\n# 3 'Bachelor'\\n# 4 'Master'\\n# 5 'Doctor'\\n\\n# EnvironmentSatisfaction\\n# 1 'Low'\\n# 2 'Medium'\\n# 3 'High'\\n# 4 'Very High'\\n\\n# JobInvolvement\\n# 1 'Low'\\n# 2 'Medium'\\n# 3 'High'\\n# 4 'Very High'\\n\\n# JobSatisfaction\\n# 1 'Low'\\n# 2 'Medium'\\n# 3 'High'\\n# 4 'Very High'\\n\\n# PerformanceRating\\n# 1 'Low'\\n# 2 'Good'\\n# 3 'Excellent'\\n# 4 'Outstanding'\\n\\n# RelationshipSatisfaction\\n# 1 'Low'\\n# 2 'Medium'\\n# 3 'High'\\n# 4 'Very High'\\n\\n# WorkLifeBalance\\n# 1 'Bad'\\n# 2 'Good'\\n# 3 'Better'\\n# 4 'Best'\";\n",
       "                var nbb_formatted_code = \"# Education\\n# 1 'Below College'\\n# 2 'College'\\n# 3 'Bachelor'\\n# 4 'Master'\\n# 5 'Doctor'\\n\\n# EnvironmentSatisfaction\\n# 1 'Low'\\n# 2 'Medium'\\n# 3 'High'\\n# 4 'Very High'\\n\\n# JobInvolvement\\n# 1 'Low'\\n# 2 'Medium'\\n# 3 'High'\\n# 4 'Very High'\\n\\n# JobSatisfaction\\n# 1 'Low'\\n# 2 'Medium'\\n# 3 'High'\\n# 4 'Very High'\\n\\n# PerformanceRating\\n# 1 'Low'\\n# 2 'Good'\\n# 3 'Excellent'\\n# 4 'Outstanding'\\n\\n# RelationshipSatisfaction\\n# 1 'Low'\\n# 2 'Medium'\\n# 3 'High'\\n# 4 'Very High'\\n\\n# WorkLifeBalance\\n# 1 'Bad'\\n# 2 'Good'\\n# 3 'Better'\\n# 4 'Best'\";\n",
       "                var nbb_cells = Jupyter.notebook.get_cells();\n",
       "                for (var i = 0; i < nbb_cells.length; ++i) {\n",
       "                    if (nbb_cells[i].input_prompt_number == nbb_cell_id) {\n",
       "                        if (nbb_cells[i].get_text() == nbb_unformatted_code) {\n",
       "                             nbb_cells[i].set_text(nbb_formatted_code);\n",
       "                        }\n",
       "                        break;\n",
       "                    }\n",
       "                }\n",
       "            }, 500);\n",
       "            "
      ],
      "text/plain": [
       "<IPython.core.display.Javascript object>"
      ]
     },
     "metadata": {},
     "output_type": "display_data"
    }
   ],
   "source": [
    "# Education\n",
    "# 1 'Below College'\n",
    "# 2 'College'\n",
    "# 3 'Bachelor'\n",
    "# 4 'Master'\n",
    "# 5 'Doctor'\n",
    "\n",
    "# EnvironmentSatisfaction\n",
    "# 1 'Low'\n",
    "# 2 'Medium'\n",
    "# 3 'High'\n",
    "# 4 'Very High'\n",
    "\n",
    "# JobInvolvement\n",
    "# 1 'Low'\n",
    "# 2 'Medium'\n",
    "# 3 'High'\n",
    "# 4 'Very High'\n",
    "\n",
    "# JobSatisfaction\n",
    "# 1 'Low'\n",
    "# 2 'Medium'\n",
    "# 3 'High'\n",
    "# 4 'Very High'\n",
    "\n",
    "# PerformanceRating\n",
    "# 1 'Low'\n",
    "# 2 'Good'\n",
    "# 3 'Excellent'\n",
    "# 4 'Outstanding'\n",
    "\n",
    "# RelationshipSatisfaction\n",
    "# 1 'Low'\n",
    "# 2 'Medium'\n",
    "# 3 'High'\n",
    "# 4 'Very High'\n",
    "\n",
    "# WorkLifeBalance\n",
    "# 1 'Bad'\n",
    "# 2 'Good'\n",
    "# 3 'Better'\n",
    "# 4 'Best'"
   ]
  },
  {
   "cell_type": "markdown",
   "metadata": {},
   "source": [
    "# EDA"
   ]
  },
  {
   "cell_type": "code",
   "execution_count": 7,
   "metadata": {},
   "outputs": [
    {
     "data": {
      "text/html": [
       "<div>\n",
       "<style scoped>\n",
       "    .dataframe tbody tr th:only-of-type {\n",
       "        vertical-align: middle;\n",
       "    }\n",
       "\n",
       "    .dataframe tbody tr th {\n",
       "        vertical-align: top;\n",
       "    }\n",
       "\n",
       "    .dataframe thead th {\n",
       "        text-align: right;\n",
       "    }\n",
       "</style>\n",
       "<table border=\"1\" class=\"dataframe\">\n",
       "  <thead>\n",
       "    <tr style=\"text-align: right;\">\n",
       "      <th></th>\n",
       "      <th>Age</th>\n",
       "      <th>Attrition</th>\n",
       "      <th>BusinessTravel</th>\n",
       "      <th>DailyRate</th>\n",
       "      <th>Department</th>\n",
       "      <th>DistanceFromHome</th>\n",
       "      <th>Education</th>\n",
       "      <th>EducationField</th>\n",
       "      <th>EmployeeCount</th>\n",
       "      <th>EmployeeNumber</th>\n",
       "      <th>EnvironmentSatisfaction</th>\n",
       "      <th>Gender</th>\n",
       "      <th>HourlyRate</th>\n",
       "      <th>JobInvolvement</th>\n",
       "      <th>JobLevel</th>\n",
       "      <th>JobRole</th>\n",
       "      <th>JobSatisfaction</th>\n",
       "      <th>MaritalStatus</th>\n",
       "      <th>MonthlyIncome</th>\n",
       "      <th>MonthlyRate</th>\n",
       "      <th>NumCompaniesWorked</th>\n",
       "      <th>Over18</th>\n",
       "      <th>OverTime</th>\n",
       "      <th>PercentSalaryHike</th>\n",
       "      <th>PerformanceRating</th>\n",
       "      <th>RelationshipSatisfaction</th>\n",
       "      <th>StandardHours</th>\n",
       "      <th>StockOptionLevel</th>\n",
       "      <th>TotalWorkingYears</th>\n",
       "      <th>TrainingTimesLastYear</th>\n",
       "      <th>WorkLifeBalance</th>\n",
       "      <th>YearsAtCompany</th>\n",
       "      <th>YearsInCurrentRole</th>\n",
       "      <th>YearsSinceLastPromotion</th>\n",
       "      <th>YearsWithCurrManager</th>\n",
       "    </tr>\n",
       "  </thead>\n",
       "  <tbody>\n",
       "    <tr>\n",
       "      <th>0</th>\n",
       "      <td>41</td>\n",
       "      <td>Yes</td>\n",
       "      <td>Travel_Rarely</td>\n",
       "      <td>1102</td>\n",
       "      <td>Sales</td>\n",
       "      <td>1</td>\n",
       "      <td>2</td>\n",
       "      <td>Life Sciences</td>\n",
       "      <td>1</td>\n",
       "      <td>1</td>\n",
       "      <td>2</td>\n",
       "      <td>Female</td>\n",
       "      <td>94</td>\n",
       "      <td>3</td>\n",
       "      <td>2</td>\n",
       "      <td>Sales Executive</td>\n",
       "      <td>4</td>\n",
       "      <td>Single</td>\n",
       "      <td>5993</td>\n",
       "      <td>19479</td>\n",
       "      <td>8</td>\n",
       "      <td>Y</td>\n",
       "      <td>Yes</td>\n",
       "      <td>11</td>\n",
       "      <td>3</td>\n",
       "      <td>1</td>\n",
       "      <td>80</td>\n",
       "      <td>0</td>\n",
       "      <td>8</td>\n",
       "      <td>0</td>\n",
       "      <td>1</td>\n",
       "      <td>6</td>\n",
       "      <td>4</td>\n",
       "      <td>0</td>\n",
       "      <td>5</td>\n",
       "    </tr>\n",
       "    <tr>\n",
       "      <th>1</th>\n",
       "      <td>49</td>\n",
       "      <td>No</td>\n",
       "      <td>Travel_Frequently</td>\n",
       "      <td>279</td>\n",
       "      <td>Research &amp; Development</td>\n",
       "      <td>8</td>\n",
       "      <td>1</td>\n",
       "      <td>Life Sciences</td>\n",
       "      <td>1</td>\n",
       "      <td>2</td>\n",
       "      <td>3</td>\n",
       "      <td>Male</td>\n",
       "      <td>61</td>\n",
       "      <td>2</td>\n",
       "      <td>2</td>\n",
       "      <td>Research Scientist</td>\n",
       "      <td>2</td>\n",
       "      <td>Married</td>\n",
       "      <td>5130</td>\n",
       "      <td>24907</td>\n",
       "      <td>1</td>\n",
       "      <td>Y</td>\n",
       "      <td>No</td>\n",
       "      <td>23</td>\n",
       "      <td>4</td>\n",
       "      <td>4</td>\n",
       "      <td>80</td>\n",
       "      <td>1</td>\n",
       "      <td>10</td>\n",
       "      <td>3</td>\n",
       "      <td>3</td>\n",
       "      <td>10</td>\n",
       "      <td>7</td>\n",
       "      <td>1</td>\n",
       "      <td>7</td>\n",
       "    </tr>\n",
       "    <tr>\n",
       "      <th>2</th>\n",
       "      <td>37</td>\n",
       "      <td>Yes</td>\n",
       "      <td>Travel_Rarely</td>\n",
       "      <td>1373</td>\n",
       "      <td>Research &amp; Development</td>\n",
       "      <td>2</td>\n",
       "      <td>2</td>\n",
       "      <td>Other</td>\n",
       "      <td>1</td>\n",
       "      <td>4</td>\n",
       "      <td>4</td>\n",
       "      <td>Male</td>\n",
       "      <td>92</td>\n",
       "      <td>2</td>\n",
       "      <td>1</td>\n",
       "      <td>Laboratory Technician</td>\n",
       "      <td>3</td>\n",
       "      <td>Single</td>\n",
       "      <td>2090</td>\n",
       "      <td>2396</td>\n",
       "      <td>6</td>\n",
       "      <td>Y</td>\n",
       "      <td>Yes</td>\n",
       "      <td>15</td>\n",
       "      <td>3</td>\n",
       "      <td>2</td>\n",
       "      <td>80</td>\n",
       "      <td>0</td>\n",
       "      <td>7</td>\n",
       "      <td>3</td>\n",
       "      <td>3</td>\n",
       "      <td>0</td>\n",
       "      <td>0</td>\n",
       "      <td>0</td>\n",
       "      <td>0</td>\n",
       "    </tr>\n",
       "    <tr>\n",
       "      <th>3</th>\n",
       "      <td>33</td>\n",
       "      <td>No</td>\n",
       "      <td>Travel_Frequently</td>\n",
       "      <td>1392</td>\n",
       "      <td>Research &amp; Development</td>\n",
       "      <td>3</td>\n",
       "      <td>4</td>\n",
       "      <td>Life Sciences</td>\n",
       "      <td>1</td>\n",
       "      <td>5</td>\n",
       "      <td>4</td>\n",
       "      <td>Female</td>\n",
       "      <td>56</td>\n",
       "      <td>3</td>\n",
       "      <td>1</td>\n",
       "      <td>Research Scientist</td>\n",
       "      <td>3</td>\n",
       "      <td>Married</td>\n",
       "      <td>2909</td>\n",
       "      <td>23159</td>\n",
       "      <td>1</td>\n",
       "      <td>Y</td>\n",
       "      <td>Yes</td>\n",
       "      <td>11</td>\n",
       "      <td>3</td>\n",
       "      <td>3</td>\n",
       "      <td>80</td>\n",
       "      <td>0</td>\n",
       "      <td>8</td>\n",
       "      <td>3</td>\n",
       "      <td>3</td>\n",
       "      <td>8</td>\n",
       "      <td>7</td>\n",
       "      <td>3</td>\n",
       "      <td>0</td>\n",
       "    </tr>\n",
       "    <tr>\n",
       "      <th>4</th>\n",
       "      <td>27</td>\n",
       "      <td>No</td>\n",
       "      <td>Travel_Rarely</td>\n",
       "      <td>591</td>\n",
       "      <td>Research &amp; Development</td>\n",
       "      <td>2</td>\n",
       "      <td>1</td>\n",
       "      <td>Medical</td>\n",
       "      <td>1</td>\n",
       "      <td>7</td>\n",
       "      <td>1</td>\n",
       "      <td>Male</td>\n",
       "      <td>40</td>\n",
       "      <td>3</td>\n",
       "      <td>1</td>\n",
       "      <td>Laboratory Technician</td>\n",
       "      <td>2</td>\n",
       "      <td>Married</td>\n",
       "      <td>3468</td>\n",
       "      <td>16632</td>\n",
       "      <td>9</td>\n",
       "      <td>Y</td>\n",
       "      <td>No</td>\n",
       "      <td>12</td>\n",
       "      <td>3</td>\n",
       "      <td>4</td>\n",
       "      <td>80</td>\n",
       "      <td>1</td>\n",
       "      <td>6</td>\n",
       "      <td>3</td>\n",
       "      <td>3</td>\n",
       "      <td>2</td>\n",
       "      <td>2</td>\n",
       "      <td>2</td>\n",
       "      <td>2</td>\n",
       "    </tr>\n",
       "  </tbody>\n",
       "</table>\n",
       "</div>"
      ],
      "text/plain": [
       "   Age Attrition     BusinessTravel  DailyRate              Department  \\\n",
       "0   41       Yes      Travel_Rarely       1102                   Sales   \n",
       "1   49        No  Travel_Frequently        279  Research & Development   \n",
       "2   37       Yes      Travel_Rarely       1373  Research & Development   \n",
       "3   33        No  Travel_Frequently       1392  Research & Development   \n",
       "4   27        No      Travel_Rarely        591  Research & Development   \n",
       "\n",
       "   DistanceFromHome  Education EducationField  EmployeeCount  EmployeeNumber  \\\n",
       "0                 1          2  Life Sciences              1               1   \n",
       "1                 8          1  Life Sciences              1               2   \n",
       "2                 2          2          Other              1               4   \n",
       "3                 3          4  Life Sciences              1               5   \n",
       "4                 2          1        Medical              1               7   \n",
       "\n",
       "   EnvironmentSatisfaction  Gender  HourlyRate  JobInvolvement  JobLevel  \\\n",
       "0                        2  Female          94               3         2   \n",
       "1                        3    Male          61               2         2   \n",
       "2                        4    Male          92               2         1   \n",
       "3                        4  Female          56               3         1   \n",
       "4                        1    Male          40               3         1   \n",
       "\n",
       "                 JobRole  JobSatisfaction MaritalStatus  MonthlyIncome  \\\n",
       "0        Sales Executive                4        Single           5993   \n",
       "1     Research Scientist                2       Married           5130   \n",
       "2  Laboratory Technician                3        Single           2090   \n",
       "3     Research Scientist                3       Married           2909   \n",
       "4  Laboratory Technician                2       Married           3468   \n",
       "\n",
       "   MonthlyRate  NumCompaniesWorked Over18 OverTime  PercentSalaryHike  \\\n",
       "0        19479                   8      Y      Yes                 11   \n",
       "1        24907                   1      Y       No                 23   \n",
       "2         2396                   6      Y      Yes                 15   \n",
       "3        23159                   1      Y      Yes                 11   \n",
       "4        16632                   9      Y       No                 12   \n",
       "\n",
       "   PerformanceRating  RelationshipSatisfaction  StandardHours  \\\n",
       "0                  3                         1             80   \n",
       "1                  4                         4             80   \n",
       "2                  3                         2             80   \n",
       "3                  3                         3             80   \n",
       "4                  3                         4             80   \n",
       "\n",
       "   StockOptionLevel  TotalWorkingYears  TrainingTimesLastYear  \\\n",
       "0                 0                  8                      0   \n",
       "1                 1                 10                      3   \n",
       "2                 0                  7                      3   \n",
       "3                 0                  8                      3   \n",
       "4                 1                  6                      3   \n",
       "\n",
       "   WorkLifeBalance  YearsAtCompany  YearsInCurrentRole  \\\n",
       "0                1               6                   4   \n",
       "1                3              10                   7   \n",
       "2                3               0                   0   \n",
       "3                3               8                   7   \n",
       "4                3               2                   2   \n",
       "\n",
       "   YearsSinceLastPromotion  YearsWithCurrManager  \n",
       "0                        0                     5  \n",
       "1                        1                     7  \n",
       "2                        0                     0  \n",
       "3                        3                     0  \n",
       "4                        2                     2  "
      ]
     },
     "execution_count": 7,
     "metadata": {},
     "output_type": "execute_result"
    },
    {
     "data": {
      "application/javascript": [
       "\n",
       "            setTimeout(function() {\n",
       "                var nbb_cell_id = 7;\n",
       "                var nbb_unformatted_code = \"hr_df = pd.read_csv(\\\"1067_1925_bundle_archive.zip\\\")\\nhr_df.head()\";\n",
       "                var nbb_formatted_code = \"hr_df = pd.read_csv(\\\"1067_1925_bundle_archive.zip\\\")\\nhr_df.head()\";\n",
       "                var nbb_cells = Jupyter.notebook.get_cells();\n",
       "                for (var i = 0; i < nbb_cells.length; ++i) {\n",
       "                    if (nbb_cells[i].input_prompt_number == nbb_cell_id) {\n",
       "                        if (nbb_cells[i].get_text() == nbb_unformatted_code) {\n",
       "                             nbb_cells[i].set_text(nbb_formatted_code);\n",
       "                        }\n",
       "                        break;\n",
       "                    }\n",
       "                }\n",
       "            }, 500);\n",
       "            "
      ],
      "text/plain": [
       "<IPython.core.display.Javascript object>"
      ]
     },
     "metadata": {},
     "output_type": "display_data"
    }
   ],
   "source": [
    "hr_df = pd.read_csv(\"1067_1925_bundle_archive.zip\")\n",
    "hr_df.head()"
   ]
  },
  {
   "cell_type": "code",
   "execution_count": 8,
   "metadata": {},
   "outputs": [
    {
     "data": {
      "text/plain": [
       "(1470, 35)"
      ]
     },
     "execution_count": 8,
     "metadata": {},
     "output_type": "execute_result"
    },
    {
     "data": {
      "application/javascript": [
       "\n",
       "            setTimeout(function() {\n",
       "                var nbb_cell_id = 8;\n",
       "                var nbb_unformatted_code = \"hr_df.shape\";\n",
       "                var nbb_formatted_code = \"hr_df.shape\";\n",
       "                var nbb_cells = Jupyter.notebook.get_cells();\n",
       "                for (var i = 0; i < nbb_cells.length; ++i) {\n",
       "                    if (nbb_cells[i].input_prompt_number == nbb_cell_id) {\n",
       "                        if (nbb_cells[i].get_text() == nbb_unformatted_code) {\n",
       "                             nbb_cells[i].set_text(nbb_formatted_code);\n",
       "                        }\n",
       "                        break;\n",
       "                    }\n",
       "                }\n",
       "            }, 500);\n",
       "            "
      ],
      "text/plain": [
       "<IPython.core.display.Javascript object>"
      ]
     },
     "metadata": {},
     "output_type": "display_data"
    }
   ],
   "source": [
    "hr_df.shape"
   ]
  },
  {
   "cell_type": "code",
   "execution_count": 9,
   "metadata": {},
   "outputs": [
    {
     "data": {
      "text/plain": [
       "Age                         0.0\n",
       "Attrition                   0.0\n",
       "BusinessTravel              0.0\n",
       "DailyRate                   0.0\n",
       "Department                  0.0\n",
       "DistanceFromHome            0.0\n",
       "Education                   0.0\n",
       "EducationField              0.0\n",
       "EmployeeCount               0.0\n",
       "EmployeeNumber              0.0\n",
       "EnvironmentSatisfaction     0.0\n",
       "Gender                      0.0\n",
       "HourlyRate                  0.0\n",
       "JobInvolvement              0.0\n",
       "JobLevel                    0.0\n",
       "JobRole                     0.0\n",
       "JobSatisfaction             0.0\n",
       "MaritalStatus               0.0\n",
       "MonthlyIncome               0.0\n",
       "MonthlyRate                 0.0\n",
       "NumCompaniesWorked          0.0\n",
       "Over18                      0.0\n",
       "OverTime                    0.0\n",
       "PercentSalaryHike           0.0\n",
       "PerformanceRating           0.0\n",
       "RelationshipSatisfaction    0.0\n",
       "StandardHours               0.0\n",
       "StockOptionLevel            0.0\n",
       "TotalWorkingYears           0.0\n",
       "TrainingTimesLastYear       0.0\n",
       "WorkLifeBalance             0.0\n",
       "YearsAtCompany              0.0\n",
       "YearsInCurrentRole          0.0\n",
       "YearsSinceLastPromotion     0.0\n",
       "YearsWithCurrManager        0.0\n",
       "dtype: float64"
      ]
     },
     "execution_count": 9,
     "metadata": {},
     "output_type": "execute_result"
    },
    {
     "data": {
      "application/javascript": [
       "\n",
       "            setTimeout(function() {\n",
       "                var nbb_cell_id = 9;\n",
       "                var nbb_unformatted_code = \"hr_df.isna().mean()\";\n",
       "                var nbb_formatted_code = \"hr_df.isna().mean()\";\n",
       "                var nbb_cells = Jupyter.notebook.get_cells();\n",
       "                for (var i = 0; i < nbb_cells.length; ++i) {\n",
       "                    if (nbb_cells[i].input_prompt_number == nbb_cell_id) {\n",
       "                        if (nbb_cells[i].get_text() == nbb_unformatted_code) {\n",
       "                             nbb_cells[i].set_text(nbb_formatted_code);\n",
       "                        }\n",
       "                        break;\n",
       "                    }\n",
       "                }\n",
       "            }, 500);\n",
       "            "
      ],
      "text/plain": [
       "<IPython.core.display.Javascript object>"
      ]
     },
     "metadata": {},
     "output_type": "display_data"
    }
   ],
   "source": [
    "hr_df.isna().mean()"
   ]
  },
  {
   "cell_type": "code",
   "execution_count": 10,
   "metadata": {},
   "outputs": [
    {
     "data": {
      "application/javascript": [
       "\n",
       "            setTimeout(function() {\n",
       "                var nbb_cell_id = 10;\n",
       "                var nbb_unformatted_code = \"hr_df = hr_df.drop(\\n    columns=[\\n        \\\"EmployeeCount\\\",\\n        \\\"EmployeeNumber\\\",\\n        \\\"Over18\\\",\\n        \\\"StandardHours\\\",\\n        \\\"MonthlyRate\\\",\\n        \\\"DailyRate\\\",\\n        \\\"HourlyRate\\\",\\n    ]\\n)\";\n",
       "                var nbb_formatted_code = \"hr_df = hr_df.drop(\\n    columns=[\\n        \\\"EmployeeCount\\\",\\n        \\\"EmployeeNumber\\\",\\n        \\\"Over18\\\",\\n        \\\"StandardHours\\\",\\n        \\\"MonthlyRate\\\",\\n        \\\"DailyRate\\\",\\n        \\\"HourlyRate\\\",\\n    ]\\n)\";\n",
       "                var nbb_cells = Jupyter.notebook.get_cells();\n",
       "                for (var i = 0; i < nbb_cells.length; ++i) {\n",
       "                    if (nbb_cells[i].input_prompt_number == nbb_cell_id) {\n",
       "                        if (nbb_cells[i].get_text() == nbb_unformatted_code) {\n",
       "                             nbb_cells[i].set_text(nbb_formatted_code);\n",
       "                        }\n",
       "                        break;\n",
       "                    }\n",
       "                }\n",
       "            }, 500);\n",
       "            "
      ],
      "text/plain": [
       "<IPython.core.display.Javascript object>"
      ]
     },
     "metadata": {},
     "output_type": "display_data"
    }
   ],
   "source": [
    "hr_df = hr_df.drop(\n",
    "    columns=[\n",
    "        \"EmployeeCount\",\n",
    "        \"EmployeeNumber\",\n",
    "        \"Over18\",\n",
    "        \"StandardHours\",\n",
    "        \"MonthlyRate\",\n",
    "        \"DailyRate\",\n",
    "        \"HourlyRate\",\n",
    "    ]\n",
    ")"
   ]
  },
  {
   "cell_type": "code",
   "execution_count": 11,
   "metadata": {},
   "outputs": [
    {
     "data": {
      "text/plain": [
       "Travel_Rarely        1043\n",
       "Travel_Frequently     277\n",
       "Non-Travel            150\n",
       "Name: BusinessTravel, dtype: int64"
      ]
     },
     "execution_count": 11,
     "metadata": {},
     "output_type": "execute_result"
    },
    {
     "data": {
      "application/javascript": [
       "\n",
       "            setTimeout(function() {\n",
       "                var nbb_cell_id = 11;\n",
       "                var nbb_unformatted_code = \"hr_df[\\\"BusinessTravel\\\"].value_counts()\";\n",
       "                var nbb_formatted_code = \"hr_df[\\\"BusinessTravel\\\"].value_counts()\";\n",
       "                var nbb_cells = Jupyter.notebook.get_cells();\n",
       "                for (var i = 0; i < nbb_cells.length; ++i) {\n",
       "                    if (nbb_cells[i].input_prompt_number == nbb_cell_id) {\n",
       "                        if (nbb_cells[i].get_text() == nbb_unformatted_code) {\n",
       "                             nbb_cells[i].set_text(nbb_formatted_code);\n",
       "                        }\n",
       "                        break;\n",
       "                    }\n",
       "                }\n",
       "            }, 500);\n",
       "            "
      ],
      "text/plain": [
       "<IPython.core.display.Javascript object>"
      ]
     },
     "metadata": {},
     "output_type": "display_data"
    }
   ],
   "source": [
    "hr_df[\"BusinessTravel\"].value_counts()"
   ]
  },
  {
   "cell_type": "code",
   "execution_count": 12,
   "metadata": {},
   "outputs": [
    {
     "data": {
      "text/plain": [
       "Research & Development    961\n",
       "Sales                     446\n",
       "Human Resources            63\n",
       "Name: Department, dtype: int64"
      ]
     },
     "execution_count": 12,
     "metadata": {},
     "output_type": "execute_result"
    },
    {
     "data": {
      "application/javascript": [
       "\n",
       "            setTimeout(function() {\n",
       "                var nbb_cell_id = 12;\n",
       "                var nbb_unformatted_code = \"hr_df[\\\"Department\\\"].value_counts()\";\n",
       "                var nbb_formatted_code = \"hr_df[\\\"Department\\\"].value_counts()\";\n",
       "                var nbb_cells = Jupyter.notebook.get_cells();\n",
       "                for (var i = 0; i < nbb_cells.length; ++i) {\n",
       "                    if (nbb_cells[i].input_prompt_number == nbb_cell_id) {\n",
       "                        if (nbb_cells[i].get_text() == nbb_unformatted_code) {\n",
       "                             nbb_cells[i].set_text(nbb_formatted_code);\n",
       "                        }\n",
       "                        break;\n",
       "                    }\n",
       "                }\n",
       "            }, 500);\n",
       "            "
      ],
      "text/plain": [
       "<IPython.core.display.Javascript object>"
      ]
     },
     "metadata": {},
     "output_type": "display_data"
    }
   ],
   "source": [
    "hr_df[\"Department\"].value_counts()"
   ]
  },
  {
   "cell_type": "code",
   "execution_count": 13,
   "metadata": {},
   "outputs": [
    {
     "data": {
      "text/plain": [
       "3    572\n",
       "4    398\n",
       "2    282\n",
       "1    170\n",
       "5     48\n",
       "Name: Education, dtype: int64"
      ]
     },
     "execution_count": 13,
     "metadata": {},
     "output_type": "execute_result"
    },
    {
     "data": {
      "application/javascript": [
       "\n",
       "            setTimeout(function() {\n",
       "                var nbb_cell_id = 13;\n",
       "                var nbb_unformatted_code = \"hr_df[\\\"Education\\\"].value_counts()\";\n",
       "                var nbb_formatted_code = \"hr_df[\\\"Education\\\"].value_counts()\";\n",
       "                var nbb_cells = Jupyter.notebook.get_cells();\n",
       "                for (var i = 0; i < nbb_cells.length; ++i) {\n",
       "                    if (nbb_cells[i].input_prompt_number == nbb_cell_id) {\n",
       "                        if (nbb_cells[i].get_text() == nbb_unformatted_code) {\n",
       "                             nbb_cells[i].set_text(nbb_formatted_code);\n",
       "                        }\n",
       "                        break;\n",
       "                    }\n",
       "                }\n",
       "            }, 500);\n",
       "            "
      ],
      "text/plain": [
       "<IPython.core.display.Javascript object>"
      ]
     },
     "metadata": {},
     "output_type": "display_data"
    }
   ],
   "source": [
    "hr_df[\"Education\"].value_counts()"
   ]
  },
  {
   "cell_type": "code",
   "execution_count": 14,
   "metadata": {},
   "outputs": [
    {
     "data": {
      "text/plain": [
       "Life Sciences       606\n",
       "Medical             464\n",
       "Marketing           159\n",
       "Technical Degree    132\n",
       "Other                82\n",
       "Human Resources      27\n",
       "Name: EducationField, dtype: int64"
      ]
     },
     "execution_count": 14,
     "metadata": {},
     "output_type": "execute_result"
    },
    {
     "data": {
      "application/javascript": [
       "\n",
       "            setTimeout(function() {\n",
       "                var nbb_cell_id = 14;\n",
       "                var nbb_unformatted_code = \"hr_df[\\\"EducationField\\\"].value_counts()\";\n",
       "                var nbb_formatted_code = \"hr_df[\\\"EducationField\\\"].value_counts()\";\n",
       "                var nbb_cells = Jupyter.notebook.get_cells();\n",
       "                for (var i = 0; i < nbb_cells.length; ++i) {\n",
       "                    if (nbb_cells[i].input_prompt_number == nbb_cell_id) {\n",
       "                        if (nbb_cells[i].get_text() == nbb_unformatted_code) {\n",
       "                             nbb_cells[i].set_text(nbb_formatted_code);\n",
       "                        }\n",
       "                        break;\n",
       "                    }\n",
       "                }\n",
       "            }, 500);\n",
       "            "
      ],
      "text/plain": [
       "<IPython.core.display.Javascript object>"
      ]
     },
     "metadata": {},
     "output_type": "display_data"
    }
   ],
   "source": [
    "hr_df[\"EducationField\"].value_counts()"
   ]
  },
  {
   "cell_type": "code",
   "execution_count": 15,
   "metadata": {},
   "outputs": [
    {
     "data": {
      "application/javascript": [
       "\n",
       "            setTimeout(function() {\n",
       "                var nbb_cell_id = 15;\n",
       "                var nbb_unformatted_code = \"ed_count = hr_df[\\\"EducationField\\\"].value_counts()\\nkeep = ed_count[ed_count > 100].index\\nhr_df = hr_df[hr_df[\\\"EducationField\\\"].isin(keep)]\";\n",
       "                var nbb_formatted_code = \"ed_count = hr_df[\\\"EducationField\\\"].value_counts()\\nkeep = ed_count[ed_count > 100].index\\nhr_df = hr_df[hr_df[\\\"EducationField\\\"].isin(keep)]\";\n",
       "                var nbb_cells = Jupyter.notebook.get_cells();\n",
       "                for (var i = 0; i < nbb_cells.length; ++i) {\n",
       "                    if (nbb_cells[i].input_prompt_number == nbb_cell_id) {\n",
       "                        if (nbb_cells[i].get_text() == nbb_unformatted_code) {\n",
       "                             nbb_cells[i].set_text(nbb_formatted_code);\n",
       "                        }\n",
       "                        break;\n",
       "                    }\n",
       "                }\n",
       "            }, 500);\n",
       "            "
      ],
      "text/plain": [
       "<IPython.core.display.Javascript object>"
      ]
     },
     "metadata": {},
     "output_type": "display_data"
    }
   ],
   "source": [
    "ed_count = hr_df[\"EducationField\"].value_counts()\n",
    "keep = ed_count[ed_count > 100].index\n",
    "hr_df = hr_df[hr_df[\"EducationField\"].isin(keep)]"
   ]
  },
  {
   "cell_type": "code",
   "execution_count": 16,
   "metadata": {
    "scrolled": true
   },
   "outputs": [
    {
     "data": {
      "text/plain": [
       "3    411\n",
       "4    409\n",
       "2    272\n",
       "1    269\n",
       "Name: EnvironmentSatisfaction, dtype: int64"
      ]
     },
     "execution_count": 16,
     "metadata": {},
     "output_type": "execute_result"
    },
    {
     "data": {
      "application/javascript": [
       "\n",
       "            setTimeout(function() {\n",
       "                var nbb_cell_id = 16;\n",
       "                var nbb_unformatted_code = \"hr_df[\\\"EnvironmentSatisfaction\\\"].value_counts()\";\n",
       "                var nbb_formatted_code = \"hr_df[\\\"EnvironmentSatisfaction\\\"].value_counts()\";\n",
       "                var nbb_cells = Jupyter.notebook.get_cells();\n",
       "                for (var i = 0; i < nbb_cells.length; ++i) {\n",
       "                    if (nbb_cells[i].input_prompt_number == nbb_cell_id) {\n",
       "                        if (nbb_cells[i].get_text() == nbb_unformatted_code) {\n",
       "                             nbb_cells[i].set_text(nbb_formatted_code);\n",
       "                        }\n",
       "                        break;\n",
       "                    }\n",
       "                }\n",
       "            }, 500);\n",
       "            "
      ],
      "text/plain": [
       "<IPython.core.display.Javascript object>"
      ]
     },
     "metadata": {},
     "output_type": "display_data"
    }
   ],
   "source": [
    "hr_df[\"EnvironmentSatisfaction\"].value_counts()"
   ]
  },
  {
   "cell_type": "code",
   "execution_count": 17,
   "metadata": {},
   "outputs": [
    {
     "data": {
      "text/plain": [
       "Male      810\n",
       "Female    551\n",
       "Name: Gender, dtype: int64"
      ]
     },
     "execution_count": 17,
     "metadata": {},
     "output_type": "execute_result"
    },
    {
     "data": {
      "application/javascript": [
       "\n",
       "            setTimeout(function() {\n",
       "                var nbb_cell_id = 17;\n",
       "                var nbb_unformatted_code = \"hr_df[\\\"Gender\\\"].value_counts()\";\n",
       "                var nbb_formatted_code = \"hr_df[\\\"Gender\\\"].value_counts()\";\n",
       "                var nbb_cells = Jupyter.notebook.get_cells();\n",
       "                for (var i = 0; i < nbb_cells.length; ++i) {\n",
       "                    if (nbb_cells[i].input_prompt_number == nbb_cell_id) {\n",
       "                        if (nbb_cells[i].get_text() == nbb_unformatted_code) {\n",
       "                             nbb_cells[i].set_text(nbb_formatted_code);\n",
       "                        }\n",
       "                        break;\n",
       "                    }\n",
       "                }\n",
       "            }, 500);\n",
       "            "
      ],
      "text/plain": [
       "<IPython.core.display.Javascript object>"
      ]
     },
     "metadata": {},
     "output_type": "display_data"
    }
   ],
   "source": [
    "hr_df[\"Gender\"].value_counts()"
   ]
  },
  {
   "cell_type": "code",
   "execution_count": 18,
   "metadata": {},
   "outputs": [
    {
     "data": {
      "text/plain": [
       "3    809\n",
       "2    343\n",
       "4    132\n",
       "1     77\n",
       "Name: JobInvolvement, dtype: int64"
      ]
     },
     "execution_count": 18,
     "metadata": {},
     "output_type": "execute_result"
    },
    {
     "data": {
      "application/javascript": [
       "\n",
       "            setTimeout(function() {\n",
       "                var nbb_cell_id = 18;\n",
       "                var nbb_unformatted_code = \"hr_df[\\\"JobInvolvement\\\"].value_counts()\";\n",
       "                var nbb_formatted_code = \"hr_df[\\\"JobInvolvement\\\"].value_counts()\";\n",
       "                var nbb_cells = Jupyter.notebook.get_cells();\n",
       "                for (var i = 0; i < nbb_cells.length; ++i) {\n",
       "                    if (nbb_cells[i].input_prompt_number == nbb_cell_id) {\n",
       "                        if (nbb_cells[i].get_text() == nbb_unformatted_code) {\n",
       "                             nbb_cells[i].set_text(nbb_formatted_code);\n",
       "                        }\n",
       "                        break;\n",
       "                    }\n",
       "                }\n",
       "            }, 500);\n",
       "            "
      ],
      "text/plain": [
       "<IPython.core.display.Javascript object>"
      ]
     },
     "metadata": {},
     "output_type": "display_data"
    }
   ],
   "source": [
    "hr_df[\"JobInvolvement\"].value_counts()"
   ]
  },
  {
   "cell_type": "code",
   "execution_count": 19,
   "metadata": {},
   "outputs": [
    {
     "data": {
      "text/plain": [
       "1    500\n",
       "2    493\n",
       "3    206\n",
       "4    101\n",
       "5     61\n",
       "Name: JobLevel, dtype: int64"
      ]
     },
     "execution_count": 19,
     "metadata": {},
     "output_type": "execute_result"
    },
    {
     "data": {
      "application/javascript": [
       "\n",
       "            setTimeout(function() {\n",
       "                var nbb_cell_id = 19;\n",
       "                var nbb_unformatted_code = \"hr_df[\\\"JobLevel\\\"].value_counts()\";\n",
       "                var nbb_formatted_code = \"hr_df[\\\"JobLevel\\\"].value_counts()\";\n",
       "                var nbb_cells = Jupyter.notebook.get_cells();\n",
       "                for (var i = 0; i < nbb_cells.length; ++i) {\n",
       "                    if (nbb_cells[i].input_prompt_number == nbb_cell_id) {\n",
       "                        if (nbb_cells[i].get_text() == nbb_unformatted_code) {\n",
       "                             nbb_cells[i].set_text(nbb_formatted_code);\n",
       "                        }\n",
       "                        break;\n",
       "                    }\n",
       "                }\n",
       "            }, 500);\n",
       "            "
      ],
      "text/plain": [
       "<IPython.core.display.Javascript object>"
      ]
     },
     "metadata": {},
     "output_type": "display_data"
    }
   ],
   "source": [
    "hr_df[\"JobLevel\"].value_counts()"
   ]
  },
  {
   "cell_type": "code",
   "execution_count": 20,
   "metadata": {},
   "outputs": [
    {
     "data": {
      "text/plain": [
       "Sales Executive              313\n",
       "Research Scientist           275\n",
       "Laboratory Technician        237\n",
       "Manufacturing Director       138\n",
       "Healthcare Representative    122\n",
       "Manager                       91\n",
       "Sales Representative          81\n",
       "Research Director             76\n",
       "Human Resources               28\n",
       "Name: JobRole, dtype: int64"
      ]
     },
     "execution_count": 20,
     "metadata": {},
     "output_type": "execute_result"
    },
    {
     "data": {
      "application/javascript": [
       "\n",
       "            setTimeout(function() {\n",
       "                var nbb_cell_id = 20;\n",
       "                var nbb_unformatted_code = \"hr_df[\\\"JobRole\\\"].value_counts()\";\n",
       "                var nbb_formatted_code = \"hr_df[\\\"JobRole\\\"].value_counts()\";\n",
       "                var nbb_cells = Jupyter.notebook.get_cells();\n",
       "                for (var i = 0; i < nbb_cells.length; ++i) {\n",
       "                    if (nbb_cells[i].input_prompt_number == nbb_cell_id) {\n",
       "                        if (nbb_cells[i].get_text() == nbb_unformatted_code) {\n",
       "                             nbb_cells[i].set_text(nbb_formatted_code);\n",
       "                        }\n",
       "                        break;\n",
       "                    }\n",
       "                }\n",
       "            }, 500);\n",
       "            "
      ],
      "text/plain": [
       "<IPython.core.display.Javascript object>"
      ]
     },
     "metadata": {},
     "output_type": "display_data"
    }
   ],
   "source": [
    "hr_df[\"JobRole\"].value_counts()"
   ]
  },
  {
   "cell_type": "code",
   "execution_count": 21,
   "metadata": {},
   "outputs": [
    {
     "data": {
      "text/plain": [
       "4    424\n",
       "3    414\n",
       "1    267\n",
       "2    256\n",
       "Name: JobSatisfaction, dtype: int64"
      ]
     },
     "execution_count": 21,
     "metadata": {},
     "output_type": "execute_result"
    },
    {
     "data": {
      "application/javascript": [
       "\n",
       "            setTimeout(function() {\n",
       "                var nbb_cell_id = 21;\n",
       "                var nbb_unformatted_code = \"hr_df[\\\"JobSatisfaction\\\"].value_counts()\";\n",
       "                var nbb_formatted_code = \"hr_df[\\\"JobSatisfaction\\\"].value_counts()\";\n",
       "                var nbb_cells = Jupyter.notebook.get_cells();\n",
       "                for (var i = 0; i < nbb_cells.length; ++i) {\n",
       "                    if (nbb_cells[i].input_prompt_number == nbb_cell_id) {\n",
       "                        if (nbb_cells[i].get_text() == nbb_unformatted_code) {\n",
       "                             nbb_cells[i].set_text(nbb_formatted_code);\n",
       "                        }\n",
       "                        break;\n",
       "                    }\n",
       "                }\n",
       "            }, 500);\n",
       "            "
      ],
      "text/plain": [
       "<IPython.core.display.Javascript object>"
      ]
     },
     "metadata": {},
     "output_type": "display_data"
    }
   ],
   "source": [
    "hr_df[\"JobSatisfaction\"].value_counts()"
   ]
  },
  {
   "cell_type": "code",
   "execution_count": 22,
   "metadata": {},
   "outputs": [
    {
     "data": {
      "text/plain": [
       "Married     619\n",
       "Single      441\n",
       "Divorced    301\n",
       "Name: MaritalStatus, dtype: int64"
      ]
     },
     "execution_count": 22,
     "metadata": {},
     "output_type": "execute_result"
    },
    {
     "data": {
      "application/javascript": [
       "\n",
       "            setTimeout(function() {\n",
       "                var nbb_cell_id = 22;\n",
       "                var nbb_unformatted_code = \"hr_df[\\\"MaritalStatus\\\"].value_counts()\";\n",
       "                var nbb_formatted_code = \"hr_df[\\\"MaritalStatus\\\"].value_counts()\";\n",
       "                var nbb_cells = Jupyter.notebook.get_cells();\n",
       "                for (var i = 0; i < nbb_cells.length; ++i) {\n",
       "                    if (nbb_cells[i].input_prompt_number == nbb_cell_id) {\n",
       "                        if (nbb_cells[i].get_text() == nbb_unformatted_code) {\n",
       "                             nbb_cells[i].set_text(nbb_formatted_code);\n",
       "                        }\n",
       "                        break;\n",
       "                    }\n",
       "                }\n",
       "            }, 500);\n",
       "            "
      ],
      "text/plain": [
       "<IPython.core.display.Javascript object>"
      ]
     },
     "metadata": {},
     "output_type": "display_data"
    }
   ],
   "source": [
    "hr_df[\"MaritalStatus\"].value_counts()"
   ]
  },
  {
   "cell_type": "code",
   "execution_count": 23,
   "metadata": {},
   "outputs": [
    {
     "data": {
      "text/plain": [
       "No     980\n",
       "Yes    381\n",
       "Name: OverTime, dtype: int64"
      ]
     },
     "execution_count": 23,
     "metadata": {},
     "output_type": "execute_result"
    },
    {
     "data": {
      "application/javascript": [
       "\n",
       "            setTimeout(function() {\n",
       "                var nbb_cell_id = 23;\n",
       "                var nbb_unformatted_code = \"hr_df[\\\"OverTime\\\"].value_counts()\";\n",
       "                var nbb_formatted_code = \"hr_df[\\\"OverTime\\\"].value_counts()\";\n",
       "                var nbb_cells = Jupyter.notebook.get_cells();\n",
       "                for (var i = 0; i < nbb_cells.length; ++i) {\n",
       "                    if (nbb_cells[i].input_prompt_number == nbb_cell_id) {\n",
       "                        if (nbb_cells[i].get_text() == nbb_unformatted_code) {\n",
       "                             nbb_cells[i].set_text(nbb_formatted_code);\n",
       "                        }\n",
       "                        break;\n",
       "                    }\n",
       "                }\n",
       "            }, 500);\n",
       "            "
      ],
      "text/plain": [
       "<IPython.core.display.Javascript object>"
      ]
     },
     "metadata": {},
     "output_type": "display_data"
    }
   ],
   "source": [
    "hr_df[\"OverTime\"].value_counts()"
   ]
  },
  {
   "cell_type": "code",
   "execution_count": 24,
   "metadata": {},
   "outputs": [
    {
     "data": {
      "text/plain": [
       "3    1152\n",
       "4     209\n",
       "Name: PerformanceRating, dtype: int64"
      ]
     },
     "execution_count": 24,
     "metadata": {},
     "output_type": "execute_result"
    },
    {
     "data": {
      "application/javascript": [
       "\n",
       "            setTimeout(function() {\n",
       "                var nbb_cell_id = 24;\n",
       "                var nbb_unformatted_code = \"hr_df[\\\"PerformanceRating\\\"].value_counts()\";\n",
       "                var nbb_formatted_code = \"hr_df[\\\"PerformanceRating\\\"].value_counts()\";\n",
       "                var nbb_cells = Jupyter.notebook.get_cells();\n",
       "                for (var i = 0; i < nbb_cells.length; ++i) {\n",
       "                    if (nbb_cells[i].input_prompt_number == nbb_cell_id) {\n",
       "                        if (nbb_cells[i].get_text() == nbb_unformatted_code) {\n",
       "                             nbb_cells[i].set_text(nbb_formatted_code);\n",
       "                        }\n",
       "                        break;\n",
       "                    }\n",
       "                }\n",
       "            }, 500);\n",
       "            "
      ],
      "text/plain": [
       "<IPython.core.display.Javascript object>"
      ]
     },
     "metadata": {},
     "output_type": "display_data"
    }
   ],
   "source": [
    "hr_df[\"PerformanceRating\"].value_counts()"
   ]
  },
  {
   "cell_type": "code",
   "execution_count": 25,
   "metadata": {},
   "outputs": [
    {
     "data": {
      "text/plain": [
       "3    422\n",
       "4    401\n",
       "2    282\n",
       "1    256\n",
       "Name: RelationshipSatisfaction, dtype: int64"
      ]
     },
     "execution_count": 25,
     "metadata": {},
     "output_type": "execute_result"
    },
    {
     "data": {
      "application/javascript": [
       "\n",
       "            setTimeout(function() {\n",
       "                var nbb_cell_id = 25;\n",
       "                var nbb_unformatted_code = \"hr_df[\\\"RelationshipSatisfaction\\\"].value_counts()\";\n",
       "                var nbb_formatted_code = \"hr_df[\\\"RelationshipSatisfaction\\\"].value_counts()\";\n",
       "                var nbb_cells = Jupyter.notebook.get_cells();\n",
       "                for (var i = 0; i < nbb_cells.length; ++i) {\n",
       "                    if (nbb_cells[i].input_prompt_number == nbb_cell_id) {\n",
       "                        if (nbb_cells[i].get_text() == nbb_unformatted_code) {\n",
       "                             nbb_cells[i].set_text(nbb_formatted_code);\n",
       "                        }\n",
       "                        break;\n",
       "                    }\n",
       "                }\n",
       "            }, 500);\n",
       "            "
      ],
      "text/plain": [
       "<IPython.core.display.Javascript object>"
      ]
     },
     "metadata": {},
     "output_type": "display_data"
    }
   ],
   "source": [
    "hr_df[\"RelationshipSatisfaction\"].value_counts()"
   ]
  },
  {
   "cell_type": "code",
   "execution_count": 26,
   "metadata": {},
   "outputs": [
    {
     "data": {
      "text/plain": [
       "0    581\n",
       "1    550\n",
       "2    151\n",
       "3     79\n",
       "Name: StockOptionLevel, dtype: int64"
      ]
     },
     "execution_count": 26,
     "metadata": {},
     "output_type": "execute_result"
    },
    {
     "data": {
      "application/javascript": [
       "\n",
       "            setTimeout(function() {\n",
       "                var nbb_cell_id = 26;\n",
       "                var nbb_unformatted_code = \"hr_df[\\\"StockOptionLevel\\\"].value_counts()\";\n",
       "                var nbb_formatted_code = \"hr_df[\\\"StockOptionLevel\\\"].value_counts()\";\n",
       "                var nbb_cells = Jupyter.notebook.get_cells();\n",
       "                for (var i = 0; i < nbb_cells.length; ++i) {\n",
       "                    if (nbb_cells[i].input_prompt_number == nbb_cell_id) {\n",
       "                        if (nbb_cells[i].get_text() == nbb_unformatted_code) {\n",
       "                             nbb_cells[i].set_text(nbb_formatted_code);\n",
       "                        }\n",
       "                        break;\n",
       "                    }\n",
       "                }\n",
       "            }, 500);\n",
       "            "
      ],
      "text/plain": [
       "<IPython.core.display.Javascript object>"
      ]
     },
     "metadata": {},
     "output_type": "display_data"
    }
   ],
   "source": [
    "hr_df[\"StockOptionLevel\"].value_counts()"
   ]
  },
  {
   "cell_type": "code",
   "execution_count": 27,
   "metadata": {},
   "outputs": [
    {
     "data": {
      "text/plain": [
       "3    826\n",
       "2    321\n",
       "4    139\n",
       "1     75\n",
       "Name: WorkLifeBalance, dtype: int64"
      ]
     },
     "execution_count": 27,
     "metadata": {},
     "output_type": "execute_result"
    },
    {
     "data": {
      "application/javascript": [
       "\n",
       "            setTimeout(function() {\n",
       "                var nbb_cell_id = 27;\n",
       "                var nbb_unformatted_code = \"hr_df[\\\"WorkLifeBalance\\\"].value_counts()\";\n",
       "                var nbb_formatted_code = \"hr_df[\\\"WorkLifeBalance\\\"].value_counts()\";\n",
       "                var nbb_cells = Jupyter.notebook.get_cells();\n",
       "                for (var i = 0; i < nbb_cells.length; ++i) {\n",
       "                    if (nbb_cells[i].input_prompt_number == nbb_cell_id) {\n",
       "                        if (nbb_cells[i].get_text() == nbb_unformatted_code) {\n",
       "                             nbb_cells[i].set_text(nbb_formatted_code);\n",
       "                        }\n",
       "                        break;\n",
       "                    }\n",
       "                }\n",
       "            }, 500);\n",
       "            "
      ],
      "text/plain": [
       "<IPython.core.display.Javascript object>"
      ]
     },
     "metadata": {},
     "output_type": "display_data"
    }
   ],
   "source": [
    "hr_df[\"WorkLifeBalance\"].value_counts()"
   ]
  },
  {
   "cell_type": "code",
   "execution_count": 28,
   "metadata": {},
   "outputs": [
    {
     "data": {
      "application/javascript": [
       "\n",
       "            setTimeout(function() {\n",
       "                var nbb_cell_id = 28;\n",
       "                var nbb_unformatted_code = \"cat_cols = [\\n    \\\"BusinessTravel\\\",\\n    \\\"Department\\\",\\n    \\\"Education\\\",\\n    \\\"EducationField\\\",\\n    \\\"EnvironmentSatisfaction\\\",\\n    \\\"Gender\\\",\\n    \\\"JobInvolvement\\\",\\n    \\\"JobLevel\\\",\\n    \\\"JobRole\\\",\\n    \\\"JobSatisfaction\\\",\\n    \\\"MaritalStatus\\\",\\n    \\\"OverTime\\\",\\n    \\\"PerformanceRating\\\",\\n    \\\"RelationshipSatisfaction\\\",\\n    \\\"StockOptionLevel\\\",\\n    \\\"WorkLifeBalance\\\",\\n]\\ndrop_cats = [\\n    \\\"Travel_Rarely\\\",\\n    \\\"Research & Development\\\",\\n    3,\\n    \\\"Life Sciences\\\",\\n    3,\\n    \\\"Male\\\",\\n    3,\\n    1,\\n    \\\"Sales Executive\\\",\\n    4,\\n    \\\"Married\\\",\\n    \\\"No\\\",\\n    3,\\n    3,\\n    0,\\n    3,\\n]\\nnum_cols = [\\n    \\\"Age\\\",\\n    \\\"DistanceFromHome\\\",\\n    \\\"MonthlyIncome\\\",\\n    \\\"NumCompaniesWorked\\\",\\n    \\\"PercentSalaryHike\\\",\\n    \\\"TrainingTimesLastYear\\\",\\n    \\\"YearsAtCompany\\\",\\n]\";\n",
       "                var nbb_formatted_code = \"cat_cols = [\\n    \\\"BusinessTravel\\\",\\n    \\\"Department\\\",\\n    \\\"Education\\\",\\n    \\\"EducationField\\\",\\n    \\\"EnvironmentSatisfaction\\\",\\n    \\\"Gender\\\",\\n    \\\"JobInvolvement\\\",\\n    \\\"JobLevel\\\",\\n    \\\"JobRole\\\",\\n    \\\"JobSatisfaction\\\",\\n    \\\"MaritalStatus\\\",\\n    \\\"OverTime\\\",\\n    \\\"PerformanceRating\\\",\\n    \\\"RelationshipSatisfaction\\\",\\n    \\\"StockOptionLevel\\\",\\n    \\\"WorkLifeBalance\\\",\\n]\\ndrop_cats = [\\n    \\\"Travel_Rarely\\\",\\n    \\\"Research & Development\\\",\\n    3,\\n    \\\"Life Sciences\\\",\\n    3,\\n    \\\"Male\\\",\\n    3,\\n    1,\\n    \\\"Sales Executive\\\",\\n    4,\\n    \\\"Married\\\",\\n    \\\"No\\\",\\n    3,\\n    3,\\n    0,\\n    3,\\n]\\nnum_cols = [\\n    \\\"Age\\\",\\n    \\\"DistanceFromHome\\\",\\n    \\\"MonthlyIncome\\\",\\n    \\\"NumCompaniesWorked\\\",\\n    \\\"PercentSalaryHike\\\",\\n    \\\"TrainingTimesLastYear\\\",\\n    \\\"YearsAtCompany\\\",\\n]\";\n",
       "                var nbb_cells = Jupyter.notebook.get_cells();\n",
       "                for (var i = 0; i < nbb_cells.length; ++i) {\n",
       "                    if (nbb_cells[i].input_prompt_number == nbb_cell_id) {\n",
       "                        if (nbb_cells[i].get_text() == nbb_unformatted_code) {\n",
       "                             nbb_cells[i].set_text(nbb_formatted_code);\n",
       "                        }\n",
       "                        break;\n",
       "                    }\n",
       "                }\n",
       "            }, 500);\n",
       "            "
      ],
      "text/plain": [
       "<IPython.core.display.Javascript object>"
      ]
     },
     "metadata": {},
     "output_type": "display_data"
    }
   ],
   "source": [
    "cat_cols = [\n",
    "    \"BusinessTravel\",\n",
    "    \"Department\",\n",
    "    \"Education\",\n",
    "    \"EducationField\",\n",
    "    \"EnvironmentSatisfaction\",\n",
    "    \"Gender\",\n",
    "    \"JobInvolvement\",\n",
    "    \"JobLevel\",\n",
    "    \"JobRole\",\n",
    "    \"JobSatisfaction\",\n",
    "    \"MaritalStatus\",\n",
    "    \"OverTime\",\n",
    "    \"PerformanceRating\",\n",
    "    \"RelationshipSatisfaction\",\n",
    "    \"StockOptionLevel\",\n",
    "    \"WorkLifeBalance\",\n",
    "]\n",
    "drop_cats = [\n",
    "    \"Travel_Rarely\",\n",
    "    \"Research & Development\",\n",
    "    3,\n",
    "    \"Life Sciences\",\n",
    "    3,\n",
    "    \"Male\",\n",
    "    3,\n",
    "    1,\n",
    "    \"Sales Executive\",\n",
    "    4,\n",
    "    \"Married\",\n",
    "    \"No\",\n",
    "    3,\n",
    "    3,\n",
    "    0,\n",
    "    3,\n",
    "]\n",
    "num_cols = [\n",
    "    \"Age\",\n",
    "    \"DistanceFromHome\",\n",
    "    \"MonthlyIncome\",\n",
    "    \"NumCompaniesWorked\",\n",
    "    \"PercentSalaryHike\",\n",
    "    \"TrainingTimesLastYear\",\n",
    "    \"YearsAtCompany\",\n",
    "]"
   ]
  },
  {
   "cell_type": "code",
   "execution_count": 29,
   "metadata": {},
   "outputs": [
    {
     "data": {
      "text/plain": [
       "<matplotlib.axes._subplots.AxesSubplot at 0x2c0abf243c8>"
      ]
     },
     "execution_count": 29,
     "metadata": {},
     "output_type": "execute_result"
    },
    {
     "data": {
      "image/png": "[encoded data removed]",
      "text/plain": [
       "<Figure size 1440x1080 with 2 Axes>"
      ]
     },
     "metadata": {
      "needs_background": "light"
     },
     "output_type": "display_data"
    },
    {
     "data": {
      "application/javascript": [
       "\n",
       "            setTimeout(function() {\n",
       "                var nbb_cell_id = 29;\n",
       "                var nbb_unformatted_code = \"plt.figure(figsize=(20, 15))\\nsns.heatmap(hr_df.corr(), vmin=-1, vmax=1, annot=True)\";\n",
       "                var nbb_formatted_code = \"plt.figure(figsize=(20, 15))\\nsns.heatmap(hr_df.corr(), vmin=-1, vmax=1, annot=True)\";\n",
       "                var nbb_cells = Jupyter.notebook.get_cells();\n",
       "                for (var i = 0; i < nbb_cells.length; ++i) {\n",
       "                    if (nbb_cells[i].input_prompt_number == nbb_cell_id) {\n",
       "                        if (nbb_cells[i].get_text() == nbb_unformatted_code) {\n",
       "                             nbb_cells[i].set_text(nbb_formatted_code);\n",
       "                        }\n",
       "                        break;\n",
       "                    }\n",
       "                }\n",
       "            }, 500);\n",
       "            "
      ],
      "text/plain": [
       "<IPython.core.display.Javascript object>"
      ]
     },
     "metadata": {},
     "output_type": "display_data"
    }
   ],
   "source": [
    "plt.figure(figsize=(20, 15))\n",
    "sns.heatmap(hr_df.corr(), vmin=-1, vmax=1, annot=True)"
   ]
  },
  {
   "cell_type": "code",
   "execution_count": 30,
   "metadata": {},
   "outputs": [
    {
     "data": {
      "application/javascript": [
       "\n",
       "            setTimeout(function() {\n",
       "                var nbb_cell_id = 30;\n",
       "                var nbb_unformatted_code = \"hr_df = pd.get_dummies(hr_df, columns=[\\\"Attrition\\\",], drop_first=True,)\";\n",
       "                var nbb_formatted_code = \"hr_df = pd.get_dummies(hr_df, columns=[\\\"Attrition\\\",], drop_first=True,)\";\n",
       "                var nbb_cells = Jupyter.notebook.get_cells();\n",
       "                for (var i = 0; i < nbb_cells.length; ++i) {\n",
       "                    if (nbb_cells[i].input_prompt_number == nbb_cell_id) {\n",
       "                        if (nbb_cells[i].get_text() == nbb_unformatted_code) {\n",
       "                             nbb_cells[i].set_text(nbb_formatted_code);\n",
       "                        }\n",
       "                        break;\n",
       "                    }\n",
       "                }\n",
       "            }, 500);\n",
       "            "
      ],
      "text/plain": [
       "<IPython.core.display.Javascript object>"
      ]
     },
     "metadata": {},
     "output_type": "display_data"
    }
   ],
   "source": [
    "hr_df = pd.get_dummies(hr_df, columns=[\"Attrition\",], drop_first=True,)"
   ]
  },
  {
   "cell_type": "code",
   "execution_count": 31,
   "metadata": {},
   "outputs": [
    {
     "data": {
      "text/html": [
       "<div>\n",
       "<style scoped>\n",
       "    .dataframe tbody tr th:only-of-type {\n",
       "        vertical-align: middle;\n",
       "    }\n",
       "\n",
       "    .dataframe tbody tr th {\n",
       "        vertical-align: top;\n",
       "    }\n",
       "\n",
       "    .dataframe thead th {\n",
       "        text-align: right;\n",
       "    }\n",
       "</style>\n",
       "<table border=\"1\" class=\"dataframe\">\n",
       "  <thead>\n",
       "    <tr style=\"text-align: right;\">\n",
       "      <th></th>\n",
       "      <th>Age</th>\n",
       "      <th>BusinessTravel</th>\n",
       "      <th>Department</th>\n",
       "      <th>DistanceFromHome</th>\n",
       "      <th>Education</th>\n",
       "      <th>EducationField</th>\n",
       "      <th>EnvironmentSatisfaction</th>\n",
       "      <th>Gender</th>\n",
       "      <th>JobInvolvement</th>\n",
       "      <th>JobLevel</th>\n",
       "      <th>JobRole</th>\n",
       "      <th>JobSatisfaction</th>\n",
       "      <th>MaritalStatus</th>\n",
       "      <th>MonthlyIncome</th>\n",
       "      <th>NumCompaniesWorked</th>\n",
       "      <th>OverTime</th>\n",
       "      <th>PercentSalaryHike</th>\n",
       "      <th>PerformanceRating</th>\n",
       "      <th>RelationshipSatisfaction</th>\n",
       "      <th>StockOptionLevel</th>\n",
       "      <th>TotalWorkingYears</th>\n",
       "      <th>TrainingTimesLastYear</th>\n",
       "      <th>WorkLifeBalance</th>\n",
       "      <th>YearsAtCompany</th>\n",
       "      <th>YearsInCurrentRole</th>\n",
       "      <th>YearsSinceLastPromotion</th>\n",
       "      <th>YearsWithCurrManager</th>\n",
       "      <th>Attrition_Yes</th>\n",
       "    </tr>\n",
       "  </thead>\n",
       "  <tbody>\n",
       "    <tr>\n",
       "      <th>0</th>\n",
       "      <td>41</td>\n",
       "      <td>Travel_Rarely</td>\n",
       "      <td>Sales</td>\n",
       "      <td>1</td>\n",
       "      <td>2</td>\n",
       "      <td>Life Sciences</td>\n",
       "      <td>2</td>\n",
       "      <td>Female</td>\n",
       "      <td>3</td>\n",
       "      <td>2</td>\n",
       "      <td>Sales Executive</td>\n",
       "      <td>4</td>\n",
       "      <td>Single</td>\n",
       "      <td>5993</td>\n",
       "      <td>8</td>\n",
       "      <td>Yes</td>\n",
       "      <td>11</td>\n",
       "      <td>3</td>\n",
       "      <td>1</td>\n",
       "      <td>0</td>\n",
       "      <td>8</td>\n",
       "      <td>0</td>\n",
       "      <td>1</td>\n",
       "      <td>6</td>\n",
       "      <td>4</td>\n",
       "      <td>0</td>\n",
       "      <td>5</td>\n",
       "      <td>1</td>\n",
       "    </tr>\n",
       "    <tr>\n",
       "      <th>1</th>\n",
       "      <td>49</td>\n",
       "      <td>Travel_Frequently</td>\n",
       "      <td>Research &amp; Development</td>\n",
       "      <td>8</td>\n",
       "      <td>1</td>\n",
       "      <td>Life Sciences</td>\n",
       "      <td>3</td>\n",
       "      <td>Male</td>\n",
       "      <td>2</td>\n",
       "      <td>2</td>\n",
       "      <td>Research Scientist</td>\n",
       "      <td>2</td>\n",
       "      <td>Married</td>\n",
       "      <td>5130</td>\n",
       "      <td>1</td>\n",
       "      <td>No</td>\n",
       "      <td>23</td>\n",
       "      <td>4</td>\n",
       "      <td>4</td>\n",
       "      <td>1</td>\n",
       "      <td>10</td>\n",
       "      <td>3</td>\n",
       "      <td>3</td>\n",
       "      <td>10</td>\n",
       "      <td>7</td>\n",
       "      <td>1</td>\n",
       "      <td>7</td>\n",
       "      <td>0</td>\n",
       "    </tr>\n",
       "    <tr>\n",
       "      <th>3</th>\n",
       "      <td>33</td>\n",
       "      <td>Travel_Frequently</td>\n",
       "      <td>Research &amp; Development</td>\n",
       "      <td>3</td>\n",
       "      <td>4</td>\n",
       "      <td>Life Sciences</td>\n",
       "      <td>4</td>\n",
       "      <td>Female</td>\n",
       "      <td>3</td>\n",
       "      <td>1</td>\n",
       "      <td>Research Scientist</td>\n",
       "      <td>3</td>\n",
       "      <td>Married</td>\n",
       "      <td>2909</td>\n",
       "      <td>1</td>\n",
       "      <td>Yes</td>\n",
       "      <td>11</td>\n",
       "      <td>3</td>\n",
       "      <td>3</td>\n",
       "      <td>0</td>\n",
       "      <td>8</td>\n",
       "      <td>3</td>\n",
       "      <td>3</td>\n",
       "      <td>8</td>\n",
       "      <td>7</td>\n",
       "      <td>3</td>\n",
       "      <td>0</td>\n",
       "      <td>0</td>\n",
       "    </tr>\n",
       "    <tr>\n",
       "      <th>4</th>\n",
       "      <td>27</td>\n",
       "      <td>Travel_Rarely</td>\n",
       "      <td>Research &amp; Development</td>\n",
       "      <td>2</td>\n",
       "      <td>1</td>\n",
       "      <td>Medical</td>\n",
       "      <td>1</td>\n",
       "      <td>Male</td>\n",
       "      <td>3</td>\n",
       "      <td>1</td>\n",
       "      <td>Laboratory Technician</td>\n",
       "      <td>2</td>\n",
       "      <td>Married</td>\n",
       "      <td>3468</td>\n",
       "      <td>9</td>\n",
       "      <td>No</td>\n",
       "      <td>12</td>\n",
       "      <td>3</td>\n",
       "      <td>4</td>\n",
       "      <td>1</td>\n",
       "      <td>6</td>\n",
       "      <td>3</td>\n",
       "      <td>3</td>\n",
       "      <td>2</td>\n",
       "      <td>2</td>\n",
       "      <td>2</td>\n",
       "      <td>2</td>\n",
       "      <td>0</td>\n",
       "    </tr>\n",
       "    <tr>\n",
       "      <th>5</th>\n",
       "      <td>32</td>\n",
       "      <td>Travel_Frequently</td>\n",
       "      <td>Research &amp; Development</td>\n",
       "      <td>2</td>\n",
       "      <td>2</td>\n",
       "      <td>Life Sciences</td>\n",
       "      <td>4</td>\n",
       "      <td>Male</td>\n",
       "      <td>3</td>\n",
       "      <td>1</td>\n",
       "      <td>Laboratory Technician</td>\n",
       "      <td>4</td>\n",
       "      <td>Single</td>\n",
       "      <td>3068</td>\n",
       "      <td>0</td>\n",
       "      <td>No</td>\n",
       "      <td>13</td>\n",
       "      <td>3</td>\n",
       "      <td>3</td>\n",
       "      <td>0</td>\n",
       "      <td>8</td>\n",
       "      <td>2</td>\n",
       "      <td>2</td>\n",
       "      <td>7</td>\n",
       "      <td>7</td>\n",
       "      <td>3</td>\n",
       "      <td>6</td>\n",
       "      <td>0</td>\n",
       "    </tr>\n",
       "  </tbody>\n",
       "</table>\n",
       "</div>"
      ],
      "text/plain": [
       "   Age     BusinessTravel              Department  DistanceFromHome  \\\n",
       "0   41      Travel_Rarely                   Sales                 1   \n",
       "1   49  Travel_Frequently  Research & Development                 8   \n",
       "3   33  Travel_Frequently  Research & Development                 3   \n",
       "4   27      Travel_Rarely  Research & Development                 2   \n",
       "5   32  Travel_Frequently  Research & Development                 2   \n",
       "\n",
       "   Education EducationField  EnvironmentSatisfaction  Gender  JobInvolvement  \\\n",
       "0          2  Life Sciences                        2  Female               3   \n",
       "1          1  Life Sciences                        3    Male               2   \n",
       "3          4  Life Sciences                        4  Female               3   \n",
       "4          1        Medical                        1    Male               3   \n",
       "5          2  Life Sciences                        4    Male               3   \n",
       "\n",
       "   JobLevel                JobRole  JobSatisfaction MaritalStatus  \\\n",
       "0         2        Sales Executive                4        Single   \n",
       "1         2     Research Scientist                2       Married   \n",
       "3         1     Research Scientist                3       Married   \n",
       "4         1  Laboratory Technician                2       Married   \n",
       "5         1  Laboratory Technician                4        Single   \n",
       "\n",
       "   MonthlyIncome  NumCompaniesWorked OverTime  PercentSalaryHike  \\\n",
       "0           5993                   8      Yes                 11   \n",
       "1           5130                   1       No                 23   \n",
       "3           2909                   1      Yes                 11   \n",
       "4           3468                   9       No                 12   \n",
       "5           3068                   0       No                 13   \n",
       "\n",
       "   PerformanceRating  RelationshipSatisfaction  StockOptionLevel  \\\n",
       "0                  3                         1                 0   \n",
       "1                  4                         4                 1   \n",
       "3                  3                         3                 0   \n",
       "4                  3                         4                 1   \n",
       "5                  3                         3                 0   \n",
       "\n",
       "   TotalWorkingYears  TrainingTimesLastYear  WorkLifeBalance  YearsAtCompany  \\\n",
       "0                  8                      0                1               6   \n",
       "1                 10                      3                3              10   \n",
       "3                  8                      3                3               8   \n",
       "4                  6                      3                3               2   \n",
       "5                  8                      2                2               7   \n",
       "\n",
       "   YearsInCurrentRole  YearsSinceLastPromotion  YearsWithCurrManager  \\\n",
       "0                   4                        0                     5   \n",
       "1                   7                        1                     7   \n",
       "3                   7                        3                     0   \n",
       "4                   2                        2                     2   \n",
       "5                   7                        3                     6   \n",
       "\n",
       "   Attrition_Yes  \n",
       "0              1  \n",
       "1              0  \n",
       "3              0  \n",
       "4              0  \n",
       "5              0  "
      ]
     },
     "execution_count": 31,
     "metadata": {},
     "output_type": "execute_result"
    },
    {
     "data": {
      "application/javascript": [
       "\n",
       "            setTimeout(function() {\n",
       "                var nbb_cell_id = 31;\n",
       "                var nbb_unformatted_code = \"hr_df.head()\";\n",
       "                var nbb_formatted_code = \"hr_df.head()\";\n",
       "                var nbb_cells = Jupyter.notebook.get_cells();\n",
       "                for (var i = 0; i < nbb_cells.length; ++i) {\n",
       "                    if (nbb_cells[i].input_prompt_number == nbb_cell_id) {\n",
       "                        if (nbb_cells[i].get_text() == nbb_unformatted_code) {\n",
       "                             nbb_cells[i].set_text(nbb_formatted_code);\n",
       "                        }\n",
       "                        break;\n",
       "                    }\n",
       "                }\n",
       "            }, 500);\n",
       "            "
      ],
      "text/plain": [
       "<IPython.core.display.Javascript object>"
      ]
     },
     "metadata": {},
     "output_type": "display_data"
    }
   ],
   "source": [
    "hr_df.head()"
   ]
  },
  {
   "cell_type": "markdown",
   "metadata": {},
   "source": [
    "# KNN Regression"
   ]
  },
  {
   "cell_type": "code",
   "execution_count": 32,
   "metadata": {},
   "outputs": [
    {
     "data": {
      "application/javascript": [
       "\n",
       "            setTimeout(function() {\n",
       "                var nbb_cell_id = 32;\n",
       "                var nbb_unformatted_code = \"X = hr_df.drop(\\n    columns=[\\n        \\\"Attrition_Yes\\\",\\n        \\\"TotalWorkingYears\\\",\\n        \\\"YearsInCurrentRole\\\",\\n        \\\"YearsSinceLastPromotion\\\",\\n        \\\"YearsWithCurrManager\\\",\\n    ]\\n)\\ny = hr_df[\\\"Attrition_Yes\\\"]\";\n",
       "                var nbb_formatted_code = \"X = hr_df.drop(\\n    columns=[\\n        \\\"Attrition_Yes\\\",\\n        \\\"TotalWorkingYears\\\",\\n        \\\"YearsInCurrentRole\\\",\\n        \\\"YearsSinceLastPromotion\\\",\\n        \\\"YearsWithCurrManager\\\",\\n    ]\\n)\\ny = hr_df[\\\"Attrition_Yes\\\"]\";\n",
       "                var nbb_cells = Jupyter.notebook.get_cells();\n",
       "                for (var i = 0; i < nbb_cells.length; ++i) {\n",
       "                    if (nbb_cells[i].input_prompt_number == nbb_cell_id) {\n",
       "                        if (nbb_cells[i].get_text() == nbb_unformatted_code) {\n",
       "                             nbb_cells[i].set_text(nbb_formatted_code);\n",
       "                        }\n",
       "                        break;\n",
       "                    }\n",
       "                }\n",
       "            }, 500);\n",
       "            "
      ],
      "text/plain": [
       "<IPython.core.display.Javascript object>"
      ]
     },
     "metadata": {},
     "output_type": "display_data"
    }
   ],
   "source": [
    "X = hr_df.drop(\n",
    "    columns=[\n",
    "        \"Attrition_Yes\",\n",
    "        \"TotalWorkingYears\",\n",
    "        \"YearsInCurrentRole\",\n",
    "        \"YearsSinceLastPromotion\",\n",
    "        \"YearsWithCurrManager\",\n",
    "    ]\n",
    ")\n",
    "y = hr_df[\"Attrition_Yes\"]"
   ]
  },
  {
   "cell_type": "code",
   "execution_count": 33,
   "metadata": {},
   "outputs": [
    {
     "data": {
      "application/javascript": [
       "\n",
       "            setTimeout(function() {\n",
       "                var nbb_cell_id = 33;\n",
       "                var nbb_unformatted_code = \"X_train, X_test, y_train, y_test = train_test_split(\\n    X, y, test_size=0.20, random_state=13\\n)\";\n",
       "                var nbb_formatted_code = \"X_train, X_test, y_train, y_test = train_test_split(\\n    X, y, test_size=0.20, random_state=13\\n)\";\n",
       "                var nbb_cells = Jupyter.notebook.get_cells();\n",
       "                for (var i = 0; i < nbb_cells.length; ++i) {\n",
       "                    if (nbb_cells[i].input_prompt_number == nbb_cell_id) {\n",
       "                        if (nbb_cells[i].get_text() == nbb_unformatted_code) {\n",
       "                             nbb_cells[i].set_text(nbb_formatted_code);\n",
       "                        }\n",
       "                        break;\n",
       "                    }\n",
       "                }\n",
       "            }, 500);\n",
       "            "
      ],
      "text/plain": [
       "<IPython.core.display.Javascript object>"
      ]
     },
     "metadata": {},
     "output_type": "display_data"
    }
   ],
   "source": [
    "X_train, X_test, y_train, y_test = train_test_split(\n",
    "    X, y, test_size=0.20, random_state=13\n",
    ")"
   ]
  },
  {
   "cell_type": "code",
   "execution_count": 34,
   "metadata": {},
   "outputs": [
    {
     "data": {
      "application/javascript": [
       "\n",
       "            setTimeout(function() {\n",
       "                var nbb_cell_id = 34;\n",
       "                var nbb_unformatted_code = \"preprocessing = ColumnTransformer(\\n    [\\n        (\\\"dummy\\\", OneHotEncoder(drop=drop_cats), cat_cols),\\n        (\\\"scale\\\", StandardScaler(), num_cols),\\n    ],\\n    remainder=\\\"passthrough\\\",\\n)\";\n",
       "                var nbb_formatted_code = \"preprocessing = ColumnTransformer(\\n    [\\n        (\\\"dummy\\\", OneHotEncoder(drop=drop_cats), cat_cols),\\n        (\\\"scale\\\", StandardScaler(), num_cols),\\n    ],\\n    remainder=\\\"passthrough\\\",\\n)\";\n",
       "                var nbb_cells = Jupyter.notebook.get_cells();\n",
       "                for (var i = 0; i < nbb_cells.length; ++i) {\n",
       "                    if (nbb_cells[i].input_prompt_number == nbb_cell_id) {\n",
       "                        if (nbb_cells[i].get_text() == nbb_unformatted_code) {\n",
       "                             nbb_cells[i].set_text(nbb_formatted_code);\n",
       "                        }\n",
       "                        break;\n",
       "                    }\n",
       "                }\n",
       "            }, 500);\n",
       "            "
      ],
      "text/plain": [
       "<IPython.core.display.Javascript object>"
      ]
     },
     "metadata": {},
     "output_type": "display_data"
    }
   ],
   "source": [
    "preprocessing = ColumnTransformer(\n",
    "    [\n",
    "        (\"dummy\", OneHotEncoder(drop=drop_cats), cat_cols),\n",
    "        (\"scale\", StandardScaler(), num_cols),\n",
    "    ],\n",
    "    remainder=\"passthrough\",\n",
    ")"
   ]
  },
  {
   "cell_type": "code",
   "execution_count": 35,
   "metadata": {},
   "outputs": [
    {
     "data": {
      "application/javascript": [
       "\n",
       "            setTimeout(function() {\n",
       "                var nbb_cell_id = 35;\n",
       "                var nbb_unformatted_code = \"pipeline = Pipeline(\\n    [(\\\"preprocessing\\\", preprocessing), (\\\"knn\\\", KNeighborsRegressor())]\\n)\";\n",
       "                var nbb_formatted_code = \"pipeline = Pipeline([(\\\"preprocessing\\\", preprocessing), (\\\"knn\\\", KNeighborsRegressor())])\";\n",
       "                var nbb_cells = Jupyter.notebook.get_cells();\n",
       "                for (var i = 0; i < nbb_cells.length; ++i) {\n",
       "                    if (nbb_cells[i].input_prompt_number == nbb_cell_id) {\n",
       "                        if (nbb_cells[i].get_text() == nbb_unformatted_code) {\n",
       "                             nbb_cells[i].set_text(nbb_formatted_code);\n",
       "                        }\n",
       "                        break;\n",
       "                    }\n",
       "                }\n",
       "            }, 500);\n",
       "            "
      ],
      "text/plain": [
       "<IPython.core.display.Javascript object>"
      ]
     },
     "metadata": {},
     "output_type": "display_data"
    }
   ],
   "source": [
    "pipeline = Pipeline([(\"preprocessing\", preprocessing), (\"knn\", KNeighborsRegressor())])"
   ]
  },
  {
   "cell_type": "code",
   "execution_count": 36,
   "metadata": {},
   "outputs": [
    {
     "data": {
      "application/javascript": [
       "\n",
       "            setTimeout(function() {\n",
       "                var nbb_cell_id = 36;\n",
       "                var nbb_unformatted_code = \"ks = np.arange(1, 100, 2)\\nrmses = []\\n\\nfor k in ks:\\n    pipeline.named_steps[\\\"knn\\\"].n_neighbors = k\\n    neg_rmses = cross_val_score(\\n        pipeline, X_train, y_train, scoring=\\\"neg_root_mean_squared_error\\\"\\n    )\\n    avg_rmse = np.mean(-neg_rmses)\\n    rmses.append(avg_rmse)\";\n",
       "                var nbb_formatted_code = \"ks = np.arange(1, 100, 2)\\nrmses = []\\n\\nfor k in ks:\\n    pipeline.named_steps[\\\"knn\\\"].n_neighbors = k\\n    neg_rmses = cross_val_score(\\n        pipeline, X_train, y_train, scoring=\\\"neg_root_mean_squared_error\\\"\\n    )\\n    avg_rmse = np.mean(-neg_rmses)\\n    rmses.append(avg_rmse)\";\n",
       "                var nbb_cells = Jupyter.notebook.get_cells();\n",
       "                for (var i = 0; i < nbb_cells.length; ++i) {\n",
       "                    if (nbb_cells[i].input_prompt_number == nbb_cell_id) {\n",
       "                        if (nbb_cells[i].get_text() == nbb_unformatted_code) {\n",
       "                             nbb_cells[i].set_text(nbb_formatted_code);\n",
       "                        }\n",
       "                        break;\n",
       "                    }\n",
       "                }\n",
       "            }, 500);\n",
       "            "
      ],
      "text/plain": [
       "<IPython.core.display.Javascript object>"
      ]
     },
     "metadata": {},
     "output_type": "display_data"
    }
   ],
   "source": [
    "ks = np.arange(1, 100, 2)\n",
    "rmses = []\n",
    "\n",
    "for k in ks:\n",
    "    pipeline.named_steps[\"knn\"].n_neighbors = k\n",
    "    neg_rmses = cross_val_score(\n",
    "        pipeline, X_train, y_train, scoring=\"neg_root_mean_squared_error\"\n",
    "    )\n",
    "    avg_rmse = np.mean(-neg_rmses)\n",
    "    rmses.append(avg_rmse)"
   ]
  },
  {
   "cell_type": "code",
   "execution_count": 37,
   "metadata": {},
   "outputs": [
    {
     "data": {
      "image/png": "[encoded data removed]",
      "text/plain": [
       "<Figure size 432x288 with 1 Axes>"
      ]
     },
     "metadata": {
      "needs_background": "light"
     },
     "output_type": "display_data"
    },
    {
     "data": {
      "application/javascript": [
       "\n",
       "            setTimeout(function() {\n",
       "                var nbb_cell_id = 37;\n",
       "                var nbb_unformatted_code = \"plt.plot(ks, rmses)\\nplt.xlabel(\\\"k\\\")\\nplt.ylabel(\\\"Avg RMSE\\\")\\nplt.show()\";\n",
       "                var nbb_formatted_code = \"plt.plot(ks, rmses)\\nplt.xlabel(\\\"k\\\")\\nplt.ylabel(\\\"Avg RMSE\\\")\\nplt.show()\";\n",
       "                var nbb_cells = Jupyter.notebook.get_cells();\n",
       "                for (var i = 0; i < nbb_cells.length; ++i) {\n",
       "                    if (nbb_cells[i].input_prompt_number == nbb_cell_id) {\n",
       "                        if (nbb_cells[i].get_text() == nbb_unformatted_code) {\n",
       "                             nbb_cells[i].set_text(nbb_formatted_code);\n",
       "                        }\n",
       "                        break;\n",
       "                    }\n",
       "                }\n",
       "            }, 500);\n",
       "            "
      ],
      "text/plain": [
       "<IPython.core.display.Javascript object>"
      ]
     },
     "metadata": {},
     "output_type": "display_data"
    }
   ],
   "source": [
    "plt.plot(ks, rmses)\n",
    "plt.xlabel(\"k\")\n",
    "plt.ylabel(\"Avg RMSE\")\n",
    "plt.show()"
   ]
  },
  {
   "cell_type": "code",
   "execution_count": 38,
   "metadata": {},
   "outputs": [
    {
     "data": {
      "text/plain": [
       "{'knn__n_neighbors': 21}"
      ]
     },
     "execution_count": 38,
     "metadata": {},
     "output_type": "execute_result"
    },
    {
     "data": {
      "application/javascript": [
       "\n",
       "            setTimeout(function() {\n",
       "                var nbb_cell_id = 38;\n",
       "                var nbb_unformatted_code = \"grid = {\\\"knn__n_neighbors\\\": np.arange(1, 100, 4)}\\nmodel = GridSearchCV(pipeline, grid)\\nmodel.fit(X_train, y_train)\\n\\nmodel.best_params_\";\n",
       "                var nbb_formatted_code = \"grid = {\\\"knn__n_neighbors\\\": np.arange(1, 100, 4)}\\nmodel = GridSearchCV(pipeline, grid)\\nmodel.fit(X_train, y_train)\\n\\nmodel.best_params_\";\n",
       "                var nbb_cells = Jupyter.notebook.get_cells();\n",
       "                for (var i = 0; i < nbb_cells.length; ++i) {\n",
       "                    if (nbb_cells[i].input_prompt_number == nbb_cell_id) {\n",
       "                        if (nbb_cells[i].get_text() == nbb_unformatted_code) {\n",
       "                             nbb_cells[i].set_text(nbb_formatted_code);\n",
       "                        }\n",
       "                        break;\n",
       "                    }\n",
       "                }\n",
       "            }, 500);\n",
       "            "
      ],
      "text/plain": [
       "<IPython.core.display.Javascript object>"
      ]
     },
     "metadata": {},
     "output_type": "display_data"
    }
   ],
   "source": [
    "grid = {\"knn__n_neighbors\": np.arange(1, 100, 4)}\n",
    "model = GridSearchCV(pipeline, grid)\n",
    "model.fit(X_train, y_train)\n",
    "\n",
    "model.best_params_"
   ]
  },
  {
   "cell_type": "code",
   "execution_count": 39,
   "metadata": {},
   "outputs": [
    {
     "data": {
      "text/plain": [
       "0.1897100040844495"
      ]
     },
     "execution_count": 39,
     "metadata": {},
     "output_type": "execute_result"
    },
    {
     "data": {
      "application/javascript": [
       "\n",
       "            setTimeout(function() {\n",
       "                var nbb_cell_id = 39;\n",
       "                var nbb_unformatted_code = \"model.score(X_train, y_train)\";\n",
       "                var nbb_formatted_code = \"model.score(X_train, y_train)\";\n",
       "                var nbb_cells = Jupyter.notebook.get_cells();\n",
       "                for (var i = 0; i < nbb_cells.length; ++i) {\n",
       "                    if (nbb_cells[i].input_prompt_number == nbb_cell_id) {\n",
       "                        if (nbb_cells[i].get_text() == nbb_unformatted_code) {\n",
       "                             nbb_cells[i].set_text(nbb_formatted_code);\n",
       "                        }\n",
       "                        break;\n",
       "                    }\n",
       "                }\n",
       "            }, 500);\n",
       "            "
      ],
      "text/plain": [
       "<IPython.core.display.Javascript object>"
      ]
     },
     "metadata": {},
     "output_type": "display_data"
    }
   ],
   "source": [
    "model.score(X_train, y_train)"
   ]
  },
  {
   "cell_type": "code",
   "execution_count": 40,
   "metadata": {},
   "outputs": [
    {
     "data": {
      "text/plain": [
       "0.07164727752963052"
      ]
     },
     "execution_count": 40,
     "metadata": {},
     "output_type": "execute_result"
    },
    {
     "data": {
      "application/javascript": [
       "\n",
       "            setTimeout(function() {\n",
       "                var nbb_cell_id = 40;\n",
       "                var nbb_unformatted_code = \"model.score(X_test, y_test)\";\n",
       "                var nbb_formatted_code = \"model.score(X_test, y_test)\";\n",
       "                var nbb_cells = Jupyter.notebook.get_cells();\n",
       "                for (var i = 0; i < nbb_cells.length; ++i) {\n",
       "                    if (nbb_cells[i].input_prompt_number == nbb_cell_id) {\n",
       "                        if (nbb_cells[i].get_text() == nbb_unformatted_code) {\n",
       "                             nbb_cells[i].set_text(nbb_formatted_code);\n",
       "                        }\n",
       "                        break;\n",
       "                    }\n",
       "                }\n",
       "            }, 500);\n",
       "            "
      ],
      "text/plain": [
       "<IPython.core.display.Javascript object>"
      ]
     },
     "metadata": {},
     "output_type": "display_data"
    }
   ],
   "source": [
    "model.score(X_test, y_test)"
   ]
  },
  {
   "cell_type": "code",
   "execution_count": 41,
   "metadata": {},
   "outputs": [
    {
     "data": {
      "application/javascript": [
       "\n",
       "            setTimeout(function() {\n",
       "                var nbb_cell_id = 41;\n",
       "                var nbb_unformatted_code = \"y_pred = model.predict(X_test)\\n\\nresid = y_pred - y_test\";\n",
       "                var nbb_formatted_code = \"y_pred = model.predict(X_test)\\n\\nresid = y_pred - y_test\";\n",
       "                var nbb_cells = Jupyter.notebook.get_cells();\n",
       "                for (var i = 0; i < nbb_cells.length; ++i) {\n",
       "                    if (nbb_cells[i].input_prompt_number == nbb_cell_id) {\n",
       "                        if (nbb_cells[i].get_text() == nbb_unformatted_code) {\n",
       "                             nbb_cells[i].set_text(nbb_formatted_code);\n",
       "                        }\n",
       "                        break;\n",
       "                    }\n",
       "                }\n",
       "            }, 500);\n",
       "            "
      ],
      "text/plain": [
       "<IPython.core.display.Javascript object>"
      ]
     },
     "metadata": {},
     "output_type": "display_data"
    }
   ],
   "source": [
    "y_pred = model.predict(X_test)\n",
    "\n",
    "resid = y_pred - y_test"
   ]
  },
  {
   "cell_type": "code",
   "execution_count": 42,
   "metadata": {},
   "outputs": [
    {
     "name": "stdout",
     "output_type": "stream",
     "text": [
      "rmse 0.38\n",
      "mae 0.25\n",
      "mape inf\n"
     ]
    },
    {
     "data": {
      "application/javascript": [
       "\n",
       "            setTimeout(function() {\n",
       "                var nbb_cell_id = 42;\n",
       "                var nbb_unformatted_code = \"eval_preds(y_test, y_pred)\";\n",
       "                var nbb_formatted_code = \"eval_preds(y_test, y_pred)\";\n",
       "                var nbb_cells = Jupyter.notebook.get_cells();\n",
       "                for (var i = 0; i < nbb_cells.length; ++i) {\n",
       "                    if (nbb_cells[i].input_prompt_number == nbb_cell_id) {\n",
       "                        if (nbb_cells[i].get_text() == nbb_unformatted_code) {\n",
       "                             nbb_cells[i].set_text(nbb_formatted_code);\n",
       "                        }\n",
       "                        break;\n",
       "                    }\n",
       "                }\n",
       "            }, 500);\n",
       "            "
      ],
      "text/plain": [
       "<IPython.core.display.Javascript object>"
      ]
     },
     "metadata": {},
     "output_type": "display_data"
    }
   ],
   "source": [
    "eval_preds(y_test, y_pred)"
   ]
  },
  {
   "cell_type": "markdown",
   "metadata": {},
   "source": [
    "# OLS Regression"
   ]
  },
  {
   "cell_type": "code",
   "execution_count": 43,
   "metadata": {},
   "outputs": [
    {
     "data": {
      "text/plain": [
       "Age                          int64\n",
       "BusinessTravel              object\n",
       "Department                  object\n",
       "DistanceFromHome             int64\n",
       "Education                    int64\n",
       "EducationField              object\n",
       "EnvironmentSatisfaction      int64\n",
       "Gender                      object\n",
       "JobInvolvement               int64\n",
       "JobLevel                     int64\n",
       "JobRole                     object\n",
       "JobSatisfaction              int64\n",
       "MaritalStatus               object\n",
       "MonthlyIncome                int64\n",
       "NumCompaniesWorked           int64\n",
       "OverTime                    object\n",
       "PercentSalaryHike            int64\n",
       "PerformanceRating            int64\n",
       "RelationshipSatisfaction     int64\n",
       "StockOptionLevel             int64\n",
       "TrainingTimesLastYear        int64\n",
       "WorkLifeBalance              int64\n",
       "YearsAtCompany               int64\n",
       "dtype: object"
      ]
     },
     "execution_count": 43,
     "metadata": {},
     "output_type": "execute_result"
    },
    {
     "data": {
      "application/javascript": [
       "\n",
       "            setTimeout(function() {\n",
       "                var nbb_cell_id = 43;\n",
       "                var nbb_unformatted_code = \"X.dtypes\";\n",
       "                var nbb_formatted_code = \"X.dtypes\";\n",
       "                var nbb_cells = Jupyter.notebook.get_cells();\n",
       "                for (var i = 0; i < nbb_cells.length; ++i) {\n",
       "                    if (nbb_cells[i].input_prompt_number == nbb_cell_id) {\n",
       "                        if (nbb_cells[i].get_text() == nbb_unformatted_code) {\n",
       "                             nbb_cells[i].set_text(nbb_formatted_code);\n",
       "                        }\n",
       "                        break;\n",
       "                    }\n",
       "                }\n",
       "            }, 500);\n",
       "            "
      ],
      "text/plain": [
       "<IPython.core.display.Javascript object>"
      ]
     },
     "metadata": {},
     "output_type": "display_data"
    }
   ],
   "source": [
    "X.dtypes"
   ]
  },
  {
   "cell_type": "code",
   "execution_count": 44,
   "metadata": {},
   "outputs": [
    {
     "data": {
      "application/javascript": [
       "\n",
       "            setTimeout(function() {\n",
       "                var nbb_cell_id = 44;\n",
       "                var nbb_unformatted_code = \"hr_df = pd.get_dummies(\\n    hr_df,\\n    columns=[\\n        \\\"BusinessTravel\\\",\\n        \\\"Department\\\",\\n        \\\"EducationField\\\",\\n        \\\"Gender\\\",\\n        \\\"JobRole\\\",\\n        \\\"MaritalStatus\\\",\\n        \\\"OverTime\\\",\\n    ],\\n    drop_first=True,\\n)\";\n",
       "                var nbb_formatted_code = \"hr_df = pd.get_dummies(\\n    hr_df,\\n    columns=[\\n        \\\"BusinessTravel\\\",\\n        \\\"Department\\\",\\n        \\\"EducationField\\\",\\n        \\\"Gender\\\",\\n        \\\"JobRole\\\",\\n        \\\"MaritalStatus\\\",\\n        \\\"OverTime\\\",\\n    ],\\n    drop_first=True,\\n)\";\n",
       "                var nbb_cells = Jupyter.notebook.get_cells();\n",
       "                for (var i = 0; i < nbb_cells.length; ++i) {\n",
       "                    if (nbb_cells[i].input_prompt_number == nbb_cell_id) {\n",
       "                        if (nbb_cells[i].get_text() == nbb_unformatted_code) {\n",
       "                             nbb_cells[i].set_text(nbb_formatted_code);\n",
       "                        }\n",
       "                        break;\n",
       "                    }\n",
       "                }\n",
       "            }, 500);\n",
       "            "
      ],
      "text/plain": [
       "<IPython.core.display.Javascript object>"
      ]
     },
     "metadata": {},
     "output_type": "display_data"
    }
   ],
   "source": [
    "hr_df = pd.get_dummies(\n",
    "    hr_df,\n",
    "    columns=[\n",
    "        \"BusinessTravel\",\n",
    "        \"Department\",\n",
    "        \"EducationField\",\n",
    "        \"Gender\",\n",
    "        \"JobRole\",\n",
    "        \"MaritalStatus\",\n",
    "        \"OverTime\",\n",
    "    ],\n",
    "    drop_first=True,\n",
    ")"
   ]
  },
  {
   "cell_type": "code",
   "execution_count": 45,
   "metadata": {},
   "outputs": [
    {
     "data": {
      "application/javascript": [
       "\n",
       "            setTimeout(function() {\n",
       "                var nbb_cell_id = 45;\n",
       "                var nbb_unformatted_code = \"X = hr_df.drop(\\n    columns=[\\n        \\\"Attrition_Yes\\\",\\n        \\\"TotalWorkingYears\\\",\\n        \\\"YearsInCurrentRole\\\",\\n        \\\"YearsSinceLastPromotion\\\",\\n        \\\"YearsWithCurrManager\\\",\\n    ]\\n)\\ny = hr_df[\\\"Attrition_Yes\\\"]\";\n",
       "                var nbb_formatted_code = \"X = hr_df.drop(\\n    columns=[\\n        \\\"Attrition_Yes\\\",\\n        \\\"TotalWorkingYears\\\",\\n        \\\"YearsInCurrentRole\\\",\\n        \\\"YearsSinceLastPromotion\\\",\\n        \\\"YearsWithCurrManager\\\",\\n    ]\\n)\\ny = hr_df[\\\"Attrition_Yes\\\"]\";\n",
       "                var nbb_cells = Jupyter.notebook.get_cells();\n",
       "                for (var i = 0; i < nbb_cells.length; ++i) {\n",
       "                    if (nbb_cells[i].input_prompt_number == nbb_cell_id) {\n",
       "                        if (nbb_cells[i].get_text() == nbb_unformatted_code) {\n",
       "                             nbb_cells[i].set_text(nbb_formatted_code);\n",
       "                        }\n",
       "                        break;\n",
       "                    }\n",
       "                }\n",
       "            }, 500);\n",
       "            "
      ],
      "text/plain": [
       "<IPython.core.display.Javascript object>"
      ]
     },
     "metadata": {},
     "output_type": "display_data"
    }
   ],
   "source": [
    "X = hr_df.drop(\n",
    "    columns=[\n",
    "        \"Attrition_Yes\",\n",
    "        \"TotalWorkingYears\",\n",
    "        \"YearsInCurrentRole\",\n",
    "        \"YearsSinceLastPromotion\",\n",
    "        \"YearsWithCurrManager\",\n",
    "    ]\n",
    ")\n",
    "y = hr_df[\"Attrition_Yes\"]\n"
   ]
  },
  {
   "cell_type": "code",
   "execution_count": 46,
   "metadata": {},
   "outputs": [
    {
     "data": {
      "text/html": [
       "<table class=\"simpletable\">\n",
       "<caption>OLS Regression Results</caption>\n",
       "<tr>\n",
       "  <th>Dep. Variable:</th>      <td>Attrition_Yes</td>  <th>  R-squared:         </th> <td>   0.244</td>\n",
       "</tr>\n",
       "<tr>\n",
       "  <th>Model:</th>                   <td>OLS</td>       <th>  Adj. R-squared:    </th> <td>   0.224</td>\n",
       "</tr>\n",
       "<tr>\n",
       "  <th>Method:</th>             <td>Least Squares</td>  <th>  F-statistic:       </th> <td>   12.23</td>\n",
       "</tr>\n",
       "<tr>\n",
       "  <th>Date:</th>             <td>Tue, 08 Sep 2020</td> <th>  Prob (F-statistic):</th> <td>1.21e-58</td>\n",
       "</tr>\n",
       "<tr>\n",
       "  <th>Time:</th>                 <td>15:51:43</td>     <th>  Log-Likelihood:    </th> <td> -378.05</td>\n",
       "</tr>\n",
       "<tr>\n",
       "  <th>No. Observations:</th>      <td>  1361</td>      <th>  AIC:               </th> <td>   828.1</td>\n",
       "</tr>\n",
       "<tr>\n",
       "  <th>Df Residuals:</th>          <td>  1325</td>      <th>  BIC:               </th> <td>   1016.</td>\n",
       "</tr>\n",
       "<tr>\n",
       "  <th>Df Model:</th>              <td>    35</td>      <th>                     </th>     <td> </td>   \n",
       "</tr>\n",
       "<tr>\n",
       "  <th>Covariance Type:</th>      <td>nonrobust</td>    <th>                     </th>     <td> </td>   \n",
       "</tr>\n",
       "</table>\n",
       "<table class=\"simpletable\">\n",
       "<tr>\n",
       "                  <td></td>                     <th>coef</th>     <th>std err</th>      <th>t</th>      <th>P>|t|</th>  <th>[0.025</th>    <th>0.975]</th>  \n",
       "</tr>\n",
       "<tr>\n",
       "  <th>const</th>                             <td>    0.4934</td> <td>    0.207</td> <td>    2.383</td> <td> 0.017</td> <td>    0.087</td> <td>    0.899</td>\n",
       "</tr>\n",
       "<tr>\n",
       "  <th>Age</th>                               <td>   -0.0043</td> <td>    0.001</td> <td>   -3.641</td> <td> 0.000</td> <td>   -0.007</td> <td>   -0.002</td>\n",
       "</tr>\n",
       "<tr>\n",
       "  <th>DistanceFromHome</th>                  <td>    0.0032</td> <td>    0.001</td> <td>    2.924</td> <td> 0.004</td> <td>    0.001</td> <td>    0.005</td>\n",
       "</tr>\n",
       "<tr>\n",
       "  <th>Education</th>                         <td>    0.0003</td> <td>    0.009</td> <td>    0.031</td> <td> 0.975</td> <td>   -0.017</td> <td>    0.018</td>\n",
       "</tr>\n",
       "<tr>\n",
       "  <th>EnvironmentSatisfaction</th>           <td>   -0.0438</td> <td>    0.008</td> <td>   -5.422</td> <td> 0.000</td> <td>   -0.060</td> <td>   -0.028</td>\n",
       "</tr>\n",
       "<tr>\n",
       "  <th>JobInvolvement</th>                    <td>   -0.0671</td> <td>    0.013</td> <td>   -5.363</td> <td> 0.000</td> <td>   -0.092</td> <td>   -0.043</td>\n",
       "</tr>\n",
       "<tr>\n",
       "  <th>JobLevel</th>                          <td>   -0.0172</td> <td>    0.029</td> <td>   -0.588</td> <td> 0.557</td> <td>   -0.075</td> <td>    0.040</td>\n",
       "</tr>\n",
       "<tr>\n",
       "  <th>JobSatisfaction</th>                   <td>   -0.0395</td> <td>    0.008</td> <td>   -4.919</td> <td> 0.000</td> <td>   -0.055</td> <td>   -0.024</td>\n",
       "</tr>\n",
       "<tr>\n",
       "  <th>MonthlyIncome</th>                     <td> 4.387e-06</td> <td> 7.82e-06</td> <td>    0.561</td> <td> 0.575</td> <td>-1.09e-05</td> <td> 1.97e-05</td>\n",
       "</tr>\n",
       "<tr>\n",
       "  <th>NumCompaniesWorked</th>                <td>    0.0158</td> <td>    0.004</td> <td>    4.073</td> <td> 0.000</td> <td>    0.008</td> <td>    0.023</td>\n",
       "</tr>\n",
       "<tr>\n",
       "  <th>PercentSalaryHike</th>                 <td>   -0.0025</td> <td>    0.004</td> <td>   -0.650</td> <td> 0.516</td> <td>   -0.010</td> <td>    0.005</td>\n",
       "</tr>\n",
       "<tr>\n",
       "  <th>PerformanceRating</th>                 <td>    0.0147</td> <td>    0.039</td> <td>    0.380</td> <td> 0.704</td> <td>   -0.061</td> <td>    0.091</td>\n",
       "</tr>\n",
       "<tr>\n",
       "  <th>RelationshipSatisfaction</th>          <td>   -0.0208</td> <td>    0.008</td> <td>   -2.534</td> <td> 0.011</td> <td>   -0.037</td> <td>   -0.005</td>\n",
       "</tr>\n",
       "<tr>\n",
       "  <th>StockOptionLevel</th>                  <td>   -0.0183</td> <td>    0.014</td> <td>   -1.282</td> <td> 0.200</td> <td>   -0.046</td> <td>    0.010</td>\n",
       "</tr>\n",
       "<tr>\n",
       "  <th>TrainingTimesLastYear</th>             <td>   -0.0139</td> <td>    0.007</td> <td>   -2.024</td> <td> 0.043</td> <td>   -0.027</td> <td>   -0.000</td>\n",
       "</tr>\n",
       "<tr>\n",
       "  <th>WorkLifeBalance</th>                   <td>   -0.0326</td> <td>    0.013</td> <td>   -2.595</td> <td> 0.010</td> <td>   -0.057</td> <td>   -0.008</td>\n",
       "</tr>\n",
       "<tr>\n",
       "  <th>YearsAtCompany</th>                    <td>   -0.0011</td> <td>    0.002</td> <td>   -0.595</td> <td> 0.552</td> <td>   -0.005</td> <td>    0.002</td>\n",
       "</tr>\n",
       "<tr>\n",
       "  <th>BusinessTravel_Travel_Frequently</th>  <td>    0.1501</td> <td>    0.035</td> <td>    4.349</td> <td> 0.000</td> <td>    0.082</td> <td>    0.218</td>\n",
       "</tr>\n",
       "<tr>\n",
       "  <th>BusinessTravel_Travel_Rarely</th>      <td>    0.0628</td> <td>    0.030</td> <td>    2.108</td> <td> 0.035</td> <td>    0.004</td> <td>    0.121</td>\n",
       "</tr>\n",
       "<tr>\n",
       "  <th>Department_Research & Development</th> <td>    0.0914</td> <td>    0.153</td> <td>    0.597</td> <td> 0.550</td> <td>   -0.209</td> <td>    0.392</td>\n",
       "</tr>\n",
       "<tr>\n",
       "  <th>Department_Sales</th>                  <td>    0.0512</td> <td>    0.156</td> <td>    0.329</td> <td> 0.742</td> <td>   -0.254</td> <td>    0.356</td>\n",
       "</tr>\n",
       "<tr>\n",
       "  <th>EducationField_Marketing</th>          <td>    0.0467</td> <td>    0.034</td> <td>    1.385</td> <td> 0.166</td> <td>   -0.019</td> <td>    0.113</td>\n",
       "</tr>\n",
       "<tr>\n",
       "  <th>EducationField_Medical</th>            <td>   -0.0092</td> <td>    0.020</td> <td>   -0.456</td> <td> 0.648</td> <td>   -0.049</td> <td>    0.030</td>\n",
       "</tr>\n",
       "<tr>\n",
       "  <th>EducationField_Technical Degree</th>   <td>    0.0918</td> <td>    0.031</td> <td>    2.924</td> <td> 0.004</td> <td>    0.030</td> <td>    0.153</td>\n",
       "</tr>\n",
       "<tr>\n",
       "  <th>Gender_Male</th>                       <td>    0.0382</td> <td>    0.018</td> <td>    2.103</td> <td> 0.036</td> <td>    0.003</td> <td>    0.074</td>\n",
       "</tr>\n",
       "<tr>\n",
       "  <th>JobRole_Human Resources</th>           <td>    0.2032</td> <td>    0.169</td> <td>    1.204</td> <td> 0.229</td> <td>   -0.128</td> <td>    0.534</td>\n",
       "</tr>\n",
       "<tr>\n",
       "  <th>JobRole_Laboratory Technician</th>     <td>    0.1438</td> <td>    0.042</td> <td>    3.440</td> <td> 0.001</td> <td>    0.062</td> <td>    0.226</td>\n",
       "</tr>\n",
       "<tr>\n",
       "  <th>JobRole_Manager</th>                   <td>    0.0428</td> <td>    0.070</td> <td>    0.610</td> <td> 0.542</td> <td>   -0.095</td> <td>    0.180</td>\n",
       "</tr>\n",
       "<tr>\n",
       "  <th>JobRole_Manufacturing Director</th>    <td>   -0.0025</td> <td>    0.040</td> <td>   -0.062</td> <td> 0.950</td> <td>   -0.082</td> <td>    0.077</td>\n",
       "</tr>\n",
       "<tr>\n",
       "  <th>JobRole_Research Director</th>         <td>   -0.0361</td> <td>    0.062</td> <td>   -0.580</td> <td> 0.562</td> <td>   -0.158</td> <td>    0.086</td>\n",
       "</tr>\n",
       "<tr>\n",
       "  <th>JobRole_Research Scientist</th>        <td>    0.0443</td> <td>    0.041</td> <td>    1.072</td> <td> 0.284</td> <td>   -0.037</td> <td>    0.125</td>\n",
       "</tr>\n",
       "<tr>\n",
       "  <th>JobRole_Sales Executive</th>           <td>    0.1074</td> <td>    0.079</td> <td>    1.357</td> <td> 0.175</td> <td>   -0.048</td> <td>    0.263</td>\n",
       "</tr>\n",
       "<tr>\n",
       "  <th>JobRole_Sales Representative</th>      <td>    0.2877</td> <td>    0.089</td> <td>    3.249</td> <td> 0.001</td> <td>    0.114</td> <td>    0.461</td>\n",
       "</tr>\n",
       "<tr>\n",
       "  <th>MaritalStatus_Married</th>             <td>    0.0225</td> <td>    0.024</td> <td>    0.942</td> <td> 0.346</td> <td>   -0.024</td> <td>    0.069</td>\n",
       "</tr>\n",
       "<tr>\n",
       "  <th>MaritalStatus_Single</th>              <td>    0.1145</td> <td>    0.033</td> <td>    3.500</td> <td> 0.000</td> <td>    0.050</td> <td>    0.179</td>\n",
       "</tr>\n",
       "<tr>\n",
       "  <th>OverTime_Yes</th>                      <td>    0.2123</td> <td>    0.020</td> <td>   10.687</td> <td> 0.000</td> <td>    0.173</td> <td>    0.251</td>\n",
       "</tr>\n",
       "</table>\n",
       "<table class=\"simpletable\">\n",
       "<tr>\n",
       "  <th>Omnibus:</th>       <td>281.657</td> <th>  Durbin-Watson:     </th> <td>   1.881</td> \n",
       "</tr>\n",
       "<tr>\n",
       "  <th>Prob(Omnibus):</th> <td> 0.000</td>  <th>  Jarque-Bera (JB):  </th> <td> 485.636</td> \n",
       "</tr>\n",
       "<tr>\n",
       "  <th>Skew:</th>          <td> 1.324</td>  <th>  Prob(JB):          </th> <td>3.51e-106</td>\n",
       "</tr>\n",
       "<tr>\n",
       "  <th>Kurtosis:</th>      <td> 4.246</td>  <th>  Cond. No.          </th> <td>2.90e+05</td> \n",
       "</tr>\n",
       "</table><br/><br/>Warnings:<br/>[1] Standard Errors assume that the covariance matrix of the errors is correctly specified.<br/>[2] The condition number is large, 2.9e+05. This might indicate that there are<br/>strong multicollinearity or other numerical problems."
      ],
      "text/plain": [
       "<class 'statsmodels.iolib.summary.Summary'>\n",
       "\"\"\"\n",
       "                            OLS Regression Results                            \n",
       "==============================================================================\n",
       "Dep. Variable:          Attrition_Yes   R-squared:                       0.244\n",
       "Model:                            OLS   Adj. R-squared:                  0.224\n",
       "Method:                 Least Squares   F-statistic:                     12.23\n",
       "Date:                Tue, 08 Sep 2020   Prob (F-statistic):           1.21e-58\n",
       "Time:                        15:51:43   Log-Likelihood:                -378.05\n",
       "No. Observations:                1361   AIC:                             828.1\n",
       "Df Residuals:                    1325   BIC:                             1016.\n",
       "Df Model:                          35                                         \n",
       "Covariance Type:            nonrobust                                         \n",
       "=====================================================================================================\n",
       "                                        coef    std err          t      P>|t|      [0.025      0.975]\n",
       "-----------------------------------------------------------------------------------------------------\n",
       "const                                 0.4934      0.207      2.383      0.017       0.087       0.899\n",
       "Age                                  -0.0043      0.001     -3.641      0.000      -0.007      -0.002\n",
       "DistanceFromHome                      0.0032      0.001      2.924      0.004       0.001       0.005\n",
       "Education                             0.0003      0.009      0.031      0.975      -0.017       0.018\n",
       "EnvironmentSatisfaction              -0.0438      0.008     -5.422      0.000      -0.060      -0.028\n",
       "JobInvolvement                       -0.0671      0.013     -5.363      0.000      -0.092      -0.043\n",
       "JobLevel                             -0.0172      0.029     -0.588      0.557      -0.075       0.040\n",
       "JobSatisfaction                      -0.0395      0.008     -4.919      0.000      -0.055      -0.024\n",
       "MonthlyIncome                      4.387e-06   7.82e-06      0.561      0.575   -1.09e-05    1.97e-05\n",
       "NumCompaniesWorked                    0.0158      0.004      4.073      0.000       0.008       0.023\n",
       "PercentSalaryHike                    -0.0025      0.004     -0.650      0.516      -0.010       0.005\n",
       "PerformanceRating                     0.0147      0.039      0.380      0.704      -0.061       0.091\n",
       "RelationshipSatisfaction             -0.0208      0.008     -2.534      0.011      -0.037      -0.005\n",
       "StockOptionLevel                     -0.0183      0.014     -1.282      0.200      -0.046       0.010\n",
       "TrainingTimesLastYear                -0.0139      0.007     -2.024      0.043      -0.027      -0.000\n",
       "WorkLifeBalance                      -0.0326      0.013     -2.595      0.010      -0.057      -0.008\n",
       "YearsAtCompany                       -0.0011      0.002     -0.595      0.552      -0.005       0.002\n",
       "BusinessTravel_Travel_Frequently      0.1501      0.035      4.349      0.000       0.082       0.218\n",
       "BusinessTravel_Travel_Rarely          0.0628      0.030      2.108      0.035       0.004       0.121\n",
       "Department_Research & Development     0.0914      0.153      0.597      0.550      -0.209       0.392\n",
       "Department_Sales                      0.0512      0.156      0.329      0.742      -0.254       0.356\n",
       "EducationField_Marketing              0.0467      0.034      1.385      0.166      -0.019       0.113\n",
       "EducationField_Medical               -0.0092      0.020     -0.456      0.648      -0.049       0.030\n",
       "EducationField_Technical Degree       0.0918      0.031      2.924      0.004       0.030       0.153\n",
       "Gender_Male                           0.0382      0.018      2.103      0.036       0.003       0.074\n",
       "JobRole_Human Resources               0.2032      0.169      1.204      0.229      -0.128       0.534\n",
       "JobRole_Laboratory Technician         0.1438      0.042      3.440      0.001       0.062       0.226\n",
       "JobRole_Manager                       0.0428      0.070      0.610      0.542      -0.095       0.180\n",
       "JobRole_Manufacturing Director       -0.0025      0.040     -0.062      0.950      -0.082       0.077\n",
       "JobRole_Research Director            -0.0361      0.062     -0.580      0.562      -0.158       0.086\n",
       "JobRole_Research Scientist            0.0443      0.041      1.072      0.284      -0.037       0.125\n",
       "JobRole_Sales Executive               0.1074      0.079      1.357      0.175      -0.048       0.263\n",
       "JobRole_Sales Representative          0.2877      0.089      3.249      0.001       0.114       0.461\n",
       "MaritalStatus_Married                 0.0225      0.024      0.942      0.346      -0.024       0.069\n",
       "MaritalStatus_Single                  0.1145      0.033      3.500      0.000       0.050       0.179\n",
       "OverTime_Yes                          0.2123      0.020     10.687      0.000       0.173       0.251\n",
       "==============================================================================\n",
       "Omnibus:                      281.657   Durbin-Watson:                   1.881\n",
       "Prob(Omnibus):                  0.000   Jarque-Bera (JB):              485.636\n",
       "Skew:                           1.324   Prob(JB):                    3.51e-106\n",
       "Kurtosis:                       4.246   Cond. No.                     2.90e+05\n",
       "==============================================================================\n",
       "\n",
       "Warnings:\n",
       "[1] Standard Errors assume that the covariance matrix of the errors is correctly specified.\n",
       "[2] The condition number is large, 2.9e+05. This might indicate that there are\n",
       "strong multicollinearity or other numerical problems.\n",
       "\"\"\""
      ]
     },
     "execution_count": 46,
     "metadata": {},
     "output_type": "execute_result"
    },
    {
     "data": {
      "application/javascript": [
       "\n",
       "            setTimeout(function() {\n",
       "                var nbb_cell_id = 46;\n",
       "                var nbb_unformatted_code = \"X = sm.add_constant(X)\\n\\nresults = sm.OLS(y, X).fit()\\n\\nresults.summary()\";\n",
       "                var nbb_formatted_code = \"X = sm.add_constant(X)\\n\\nresults = sm.OLS(y, X).fit()\\n\\nresults.summary()\";\n",
       "                var nbb_cells = Jupyter.notebook.get_cells();\n",
       "                for (var i = 0; i < nbb_cells.length; ++i) {\n",
       "                    if (nbb_cells[i].input_prompt_number == nbb_cell_id) {\n",
       "                        if (nbb_cells[i].get_text() == nbb_unformatted_code) {\n",
       "                             nbb_cells[i].set_text(nbb_formatted_code);\n",
       "                        }\n",
       "                        break;\n",
       "                    }\n",
       "                }\n",
       "            }, 500);\n",
       "            "
      ],
      "text/plain": [
       "<IPython.core.display.Javascript object>"
      ]
     },
     "metadata": {},
     "output_type": "display_data"
    }
   ],
   "source": [
    "X = sm.add_constant(X)\n",
    "\n",
    "results = sm.OLS(y, X).fit()\n",
    "\n",
    "results.summary()"
   ]
  },
  {
   "cell_type": "code",
   "execution_count": 47,
   "metadata": {},
   "outputs": [
    {
     "data": {
      "application/javascript": [
       "\n",
       "            setTimeout(function() {\n",
       "                var nbb_cell_id = 47;\n",
       "                var nbb_unformatted_code = \"y_pred = results.predict(X)\\n\\nresid = y_test - y_pred\";\n",
       "                var nbb_formatted_code = \"y_pred = results.predict(X)\\n\\nresid = y_test - y_pred\";\n",
       "                var nbb_cells = Jupyter.notebook.get_cells();\n",
       "                for (var i = 0; i < nbb_cells.length; ++i) {\n",
       "                    if (nbb_cells[i].input_prompt_number == nbb_cell_id) {\n",
       "                        if (nbb_cells[i].get_text() == nbb_unformatted_code) {\n",
       "                             nbb_cells[i].set_text(nbb_formatted_code);\n",
       "                        }\n",
       "                        break;\n",
       "                    }\n",
       "                }\n",
       "            }, 500);\n",
       "            "
      ],
      "text/plain": [
       "<IPython.core.display.Javascript object>"
      ]
     },
     "metadata": {},
     "output_type": "display_data"
    }
   ],
   "source": [
    "y_pred = results.predict(X)\n",
    "\n",
    "resid = y_test - y_pred"
   ]
  },
  {
   "cell_type": "code",
   "execution_count": 48,
   "metadata": {},
   "outputs": [
    {
     "data": {
      "text/plain": [
       "0.24998924610173187"
      ]
     },
     "execution_count": 48,
     "metadata": {},
     "output_type": "execute_result"
    },
    {
     "data": {
      "application/javascript": [
       "\n",
       "            setTimeout(function() {\n",
       "                var nbb_cell_id = 48;\n",
       "                var nbb_unformatted_code = \"mae = np.mean(np.abs(resid))\\nmae\";\n",
       "                var nbb_formatted_code = \"mae = np.mean(np.abs(resid))\\nmae\";\n",
       "                var nbb_cells = Jupyter.notebook.get_cells();\n",
       "                for (var i = 0; i < nbb_cells.length; ++i) {\n",
       "                    if (nbb_cells[i].input_prompt_number == nbb_cell_id) {\n",
       "                        if (nbb_cells[i].get_text() == nbb_unformatted_code) {\n",
       "                             nbb_cells[i].set_text(nbb_formatted_code);\n",
       "                        }\n",
       "                        break;\n",
       "                    }\n",
       "                }\n",
       "            }, 500);\n",
       "            "
      ],
      "text/plain": [
       "<IPython.core.display.Javascript object>"
      ]
     },
     "metadata": {},
     "output_type": "display_data"
    }
   ],
   "source": [
    "mae = np.mean(np.abs(resid))\n",
    "mae"
   ]
  },
  {
   "cell_type": "code",
   "execution_count": 49,
   "metadata": {},
   "outputs": [
    {
     "name": "stdout",
     "output_type": "stream",
     "text": [
      "rmse 0.34\n",
      "mae 0.25\n",
      "mape inf\n"
     ]
    },
    {
     "data": {
      "application/javascript": [
       "\n",
       "            setTimeout(function() {\n",
       "                var nbb_cell_id = 49;\n",
       "                var nbb_unformatted_code = \"eval_preds(y_test, y_pred)\";\n",
       "                var nbb_formatted_code = \"eval_preds(y_test, y_pred)\";\n",
       "                var nbb_cells = Jupyter.notebook.get_cells();\n",
       "                for (var i = 0; i < nbb_cells.length; ++i) {\n",
       "                    if (nbb_cells[i].input_prompt_number == nbb_cell_id) {\n",
       "                        if (nbb_cells[i].get_text() == nbb_unformatted_code) {\n",
       "                             nbb_cells[i].set_text(nbb_formatted_code);\n",
       "                        }\n",
       "                        break;\n",
       "                    }\n",
       "                }\n",
       "            }, 500);\n",
       "            "
      ],
      "text/plain": [
       "<IPython.core.display.Javascript object>"
      ]
     },
     "metadata": {},
     "output_type": "display_data"
    }
   ],
   "source": [
    "eval_preds(y_test, y_pred)"
   ]
  },
  {
   "cell_type": "markdown",
   "metadata": {},
   "source": [
    "# KNN vs. OLS"
   ]
  },
  {
   "cell_type": "markdown",
   "metadata": {},
   "source": [
    "Both the KNN and OLS models provided very similar conclusions. They both resulted with a mae of around 0.25 and an rmse of around 0.34. The KNN is barely lower by a 10^-2 factor. However, I would say I favored using the KNN model in this scenario. Since OLS uses statsmodel, there was not an efficient way of pipelining the data whereas it was a lot easier to use pipelines for the KNN model. Additionally, the KNN model just seemed to be more intuitive to me and I felt like I was able to understand it more and create the model easily compared to the OLS model. "
   ]
  }
 ],
 "metadata": {
  "kernelspec": {
   "display_name": "Python 3",
   "language": "python",
   "name": "python3"
  },
  "language_info": {
   "codemirror_mode": {
    "name": "ipython",
    "version": 3
   },
   "file_extension": ".py",
   "mimetype": "text/x-python",
   "name": "python",
   "nbconvert_exporter": "python",
   "pygments_lexer": "ipython3",
   "version": "3.7.6"
  }
 },
 "nbformat": 4,
 "nbformat_minor": 4
}
