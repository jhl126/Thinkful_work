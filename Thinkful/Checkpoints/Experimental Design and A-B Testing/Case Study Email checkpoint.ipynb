{
 "cells": [
  {
   "cell_type": "code",
   "execution_count": 10,
   "metadata": {},
   "outputs": [],
   "source": [
    "%matplotlib inline\n",
    "import pandas as pd\n",
    "import numpy as np\n",
    "import seaborn as sns\n",
    "from matplotlib import pyplot as plt\n",
    "from scipy import stats"
   ]
  },
  {
   "cell_type": "code",
   "execution_count": 11,
   "metadata": {},
   "outputs": [
    {
     "data": {
      "text/html": [
       "<div>\n",
       "<style scoped>\n",
       "    .dataframe tbody tr th:only-of-type {\n",
       "        vertical-align: middle;\n",
       "    }\n",
       "\n",
       "    .dataframe tbody tr th {\n",
       "        vertical-align: top;\n",
       "    }\n",
       "\n",
       "    .dataframe thead th {\n",
       "        text-align: right;\n",
       "    }\n",
       "</style>\n",
       "<table border=\"1\" class=\"dataframe\">\n",
       "  <thead>\n",
       "    <tr style=\"text-align: right;\">\n",
       "      <th></th>\n",
       "      <th>user_id</th>\n",
       "      <th>timestamp</th>\n",
       "      <th>group</th>\n",
       "      <th>landing_page</th>\n",
       "      <th>converted</th>\n",
       "    </tr>\n",
       "  </thead>\n",
       "  <tbody>\n",
       "    <tr>\n",
       "      <th>0</th>\n",
       "      <td>851104</td>\n",
       "      <td>2017-01-21 22:11:48.556739</td>\n",
       "      <td>control</td>\n",
       "      <td>old_page</td>\n",
       "      <td>0</td>\n",
       "    </tr>\n",
       "    <tr>\n",
       "      <th>1</th>\n",
       "      <td>804228</td>\n",
       "      <td>2017-01-12 08:01:45.159739</td>\n",
       "      <td>control</td>\n",
       "      <td>old_page</td>\n",
       "      <td>0</td>\n",
       "    </tr>\n",
       "    <tr>\n",
       "      <th>2</th>\n",
       "      <td>661590</td>\n",
       "      <td>2017-01-11 16:55:06.154213</td>\n",
       "      <td>treatment</td>\n",
       "      <td>new_page</td>\n",
       "      <td>0</td>\n",
       "    </tr>\n",
       "    <tr>\n",
       "      <th>3</th>\n",
       "      <td>853541</td>\n",
       "      <td>2017-01-08 18:28:03.143765</td>\n",
       "      <td>treatment</td>\n",
       "      <td>new_page</td>\n",
       "      <td>0</td>\n",
       "    </tr>\n",
       "    <tr>\n",
       "      <th>4</th>\n",
       "      <td>864975</td>\n",
       "      <td>2017-01-21 01:52:26.210827</td>\n",
       "      <td>control</td>\n",
       "      <td>old_page</td>\n",
       "      <td>1</td>\n",
       "    </tr>\n",
       "  </tbody>\n",
       "</table>\n",
       "</div>"
      ],
      "text/plain": [
       "   user_id                   timestamp      group landing_page  converted\n",
       "0   851104  2017-01-21 22:11:48.556739    control     old_page          0\n",
       "1   804228  2017-01-12 08:01:45.159739    control     old_page          0\n",
       "2   661590  2017-01-11 16:55:06.154213  treatment     new_page          0\n",
       "3   853541  2017-01-08 18:28:03.143765  treatment     new_page          0\n",
       "4   864975  2017-01-21 01:52:26.210827    control     old_page          1"
      ]
     },
     "execution_count": 11,
     "metadata": {},
     "output_type": "execute_result"
    }
   ],
   "source": [
    "data = pd.read_csv('https://tf-assets-prod.s3.amazonaws.com/tf-curric/data-science/ab_edited.csv')\n",
    "data.head()"
   ]
  },
  {
   "cell_type": "code",
   "execution_count": 17,
   "metadata": {},
   "outputs": [],
   "source": [
    "data['date'] = pd.DatetimeIndex(data['timestamp']).date"
   ]
  },
  {
   "cell_type": "code",
   "execution_count": null,
   "metadata": {},
   "outputs": [],
   "source": [
    "#Check for adequate sample sizes."
   ]
  },
  {
   "cell_type": "code",
   "execution_count": 12,
   "metadata": {},
   "outputs": [
    {
     "name": "stdout",
     "output_type": "stream",
     "text": [
      "The size of the control group is:  145274\n",
      "The size of the treatment group is:  145311\n",
      "The test proportion size is:  0.11959667567149027\n"
     ]
    }
   ],
   "source": [
    "print('The size of the control group is: ', len(data[data.group == 'control']))\n",
    "print('The size of the treatment group is: ', len(data[data.group == 'treatment']))\n",
    "print('The test proportion size is: ', data.converted.mean())"
   ]
  },
  {
   "cell_type": "code",
   "execution_count": null,
   "metadata": {},
   "outputs": [],
   "source": [
    "# What is the signup rate of test and control?"
   ]
  },
  {
   "cell_type": "code",
   "execution_count": 14,
   "metadata": {},
   "outputs": [
    {
     "name": "stdout",
     "output_type": "stream",
     "text": [
      "The test signup rate is:  0.11880724790277405\n",
      "The control signup rate is:  0.1203863045004612\n"
     ]
    }
   ],
   "source": [
    "print('The test signup rate is: ', data[data.group == 'treatment'].converted.mean())\n",
    "print('The control signup rate is: ', data[data.group == 'control'].converted.mean())"
   ]
  },
  {
   "cell_type": "code",
   "execution_count": null,
   "metadata": {},
   "outputs": [],
   "source": [
    "# Are the test and control groups significantly different?"
   ]
  },
  {
   "cell_type": "code",
   "execution_count": 15,
   "metadata": {},
   "outputs": [
    {
     "data": {
      "text/plain": [
       "Ttest_indResult(statistic=-1.3116069027036805, pvalue=0.18965383906859376)"
      ]
     },
     "execution_count": 15,
     "metadata": {},
     "output_type": "execute_result"
    }
   ],
   "source": [
    "stats.ttest_ind(data[data.group == 'treatment'].converted,\n",
    "                data[data.group == 'control'].converted)"
   ]
  },
  {
   "cell_type": "code",
   "execution_count": null,
   "metadata": {},
   "outputs": [],
   "source": [
    "#Check for changes over time in results."
   ]
  },
  {
   "cell_type": "code",
   "execution_count": 20,
   "metadata": {},
   "outputs": [
    {
     "data": {
      "image/png": "[encoded data removed]",
      "text/plain": [
       "<Figure size 432x288 with 1 Axes>"
      ]
     },
     "metadata": {
      "needs_background": "light"
     },
     "output_type": "display_data"
    }
   ],
   "source": [
    "figure = data[data.group == 'treatment'][['date', 'converted']].groupby('date').mean().plot()\n",
    "data[data.group == 'control'][['date', 'converted']].groupby('date').mean().plot(ax=figure)\n",
    "plt.legend(['treatment','control'])\n",
    "plt.title('Conversion Rates by Treatment Date')\n",
    "plt.show()\n"
   ]
  },
  {
   "cell_type": "code",
   "execution_count": null,
   "metadata": {},
   "outputs": [],
   "source": [
    "#Formally test for a significant difference in conversions between treatment and control groups."
   ]
  },
  {
   "cell_type": "code",
   "execution_count": 21,
   "metadata": {},
   "outputs": [
    {
     "name": "stdout",
     "output_type": "stream",
     "text": [
      "T-Test Results by Date\n",
      "Ttest_indResult(statistic=-1.8123288054674913, pvalue=0.0699579338988825)\n",
      "Ttest_indResult(statistic=0.05182821974845549, pvalue=0.9586663564605943)\n",
      "Ttest_indResult(statistic=-0.6795024407954999, pvalue=0.49683133482307695)\n",
      "Ttest_indResult(statistic=0.33111903181744556, pvalue=0.7405597598504309)\n",
      "Ttest_indResult(statistic=2.3999515991310387, pvalue=0.01641085244784032)\n",
      "Ttest_indResult(statistic=-0.4836129647924235, pvalue=0.628668638020595)\n",
      "Ttest_indResult(statistic=0.7611804663738991, pvalue=0.446562930057432)\n",
      "Ttest_indResult(statistic=-0.9315635899845935, pvalue=0.3515792521983202)\n",
      "Ttest_indResult(statistic=-1.261388402374626, pvalue=0.20719113309271808)\n",
      "Ttest_indResult(statistic=-0.0026642818202597274, pvalue=0.9978742538059032)\n",
      "Ttest_indResult(statistic=-0.28071255594768935, pvalue=0.7789352633524722)\n",
      "Ttest_indResult(statistic=-0.2056136446252576, pvalue=0.837095874040602)\n",
      "Ttest_indResult(statistic=0.4909032980527966, pvalue=0.6235093367111435)\n",
      "Ttest_indResult(statistic=-0.8094922831773846, pvalue=0.41824647028626705)\n",
      "Ttest_indResult(statistic=0.4369071658956722, pvalue=0.6621858156795764)\n",
      "Ttest_indResult(statistic=-1.4468255388280735, pvalue=0.14797003344175097)\n",
      "Ttest_indResult(statistic=1.445201350915974, pvalue=0.14842480715695958)\n",
      "Ttest_indResult(statistic=-1.0178087858982594, pvalue=0.3087876929639064)\n",
      "Ttest_indResult(statistic=-0.8500557494800433, pvalue=0.3953094968293003)\n",
      "Ttest_indResult(statistic=-0.005102928348269819, pvalue=0.9959285470042827)\n",
      "Ttest_indResult(statistic=-0.6557398855583756, pvalue=0.5120179205036728)\n",
      "Ttest_indResult(statistic=-0.4678178596106672, pvalue=0.6399226098635871)\n",
      "Ttest_indResult(statistic=-1.311670708102873, pvalue=0.18965417024438827)\n"
     ]
    }
   ],
   "source": [
    "print('T-Test Results by Date')\n",
    "for day in data.date.unique():\n",
    "    dated_data = data[data.date == day]\n",
    "    print(stats.ttest_ind(dated_data[dated_data.group == 'treatment'].converted,\n",
    "                          dated_data[dated_data.group == 'control'].converted))"
   ]
  }
 ],
 "metadata": {
  "kernelspec": {
   "display_name": "Python 3",
   "language": "python",
   "name": "python3"
  }
 },
 "nbformat": 4,
 "nbformat_minor": 4
}
