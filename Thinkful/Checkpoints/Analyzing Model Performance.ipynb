{
 "cells": [
  {
   "cell_type": "markdown",
   "metadata": {},
   "source": [
    "1. Import necessary packages\n",
    "\n",
    "For this exercise we need\n",
    "\n",
    "pandas\n",
    "\n",
    "train_test_split\n",
    "\n",
    "LogisticRegression\n",
    "\n",
    "pyplot from matplotlib\n",
    "\n",
    "KNeighborsClassifier\n",
    "\n",
    "LogisticRegressionClassifier\n",
    "\n",
    "RandomForestClassifier\n",
    "\n",
    "DummyClassifier\n"
   ]
  },
  {
   "cell_type": "code",
   "execution_count": 23,
   "metadata": {},
   "outputs": [
    {
     "data": {
      "application/javascript": [
       "\n",
       "            setTimeout(function() {\n",
       "                var nbb_cell_id = 23;\n",
       "                var nbb_unformatted_code = \"%reload_ext nb_black\\nimport matplotlib.pyplot as plt\\nimport numpy as np\\nimport pandas as pd\\nimport seaborn as sns\\nfrom sklearn.linear_model import LogisticRegression\\nfrom sklearn.model_selection import train_test_split, cross_val_score\\nfrom sklearn.dummy import DummyClassifier\\nfrom sklearn.metrics import confusion_matrix\\nfrom sklearn.utils.multiclass import unique_labels\\nfrom sklearn.metrics import accuracy_score, precision_score, recall_score, f1_score, fbeta_score, classification_report\\nfrom sklearn.metrics import roc_curve, precision_recall_curve, roc_auc_score\\nfrom sklearn.preprocessing import StandardScaler\\nfrom sklearn.neighbors import KNeighborsClassifier\\nfrom sklearn.ensemble import RandomForestClassifier\\n\\n%matplotlib inline\";\n",
       "                var nbb_formatted_code = \"%reload_ext nb_black\\nimport matplotlib.pyplot as plt\\nimport numpy as np\\nimport pandas as pd\\nimport seaborn as sns\\nfrom sklearn.linear_model import LogisticRegression\\nfrom sklearn.model_selection import train_test_split, cross_val_score\\nfrom sklearn.dummy import DummyClassifier\\nfrom sklearn.metrics import confusion_matrix\\nfrom sklearn.utils.multiclass import unique_labels\\nfrom sklearn.metrics import (\\n    accuracy_score,\\n    precision_score,\\n    recall_score,\\n    f1_score,\\n    fbeta_score,\\n    classification_report,\\n)\\nfrom sklearn.metrics import roc_curve, precision_recall_curve, roc_auc_score\\nfrom sklearn.preprocessing import StandardScaler\\nfrom sklearn.neighbors import KNeighborsClassifier\\nfrom sklearn.ensemble import RandomForestClassifier\\n\\n%matplotlib inline\";\n",
       "                var nbb_cells = Jupyter.notebook.get_cells();\n",
       "                for (var i = 0; i < nbb_cells.length; ++i) {\n",
       "                    if (nbb_cells[i].input_prompt_number == nbb_cell_id) {\n",
       "                        if (nbb_cells[i].get_text() == nbb_unformatted_code) {\n",
       "                             nbb_cells[i].set_text(nbb_formatted_code);\n",
       "                        }\n",
       "                        break;\n",
       "                    }\n",
       "                }\n",
       "            }, 500);\n",
       "            "
      ],
      "text/plain": [
       "<IPython.core.display.Javascript object>"
      ]
     },
     "metadata": {},
     "output_type": "display_data"
    },
    {
     "data": {
      "application/javascript": [
       "\n",
       "            setTimeout(function() {\n",
       "                var nbb_cell_id = 23;\n",
       "                var nbb_unformatted_code = \"%reload_ext nb_black\\nimport matplotlib.pyplot as plt\\nimport numpy as np\\nimport pandas as pd\\nimport seaborn as sns\\nfrom sklearn.linear_model import LogisticRegression\\nfrom sklearn.model_selection import train_test_split, cross_val_score\\nfrom sklearn.dummy import DummyClassifier\\nfrom sklearn.metrics import confusion_matrix\\nfrom sklearn.utils.multiclass import unique_labels\\nfrom sklearn.metrics import accuracy_score, precision_score, recall_score, f1_score, fbeta_score, classification_report\\nfrom sklearn.metrics import roc_curve, precision_recall_curve, roc_auc_score\\nfrom sklearn.preprocessing import StandardScaler\\nfrom sklearn.neighbors import KNeighborsClassifier\\nfrom sklearn.ensemble import RandomForestClassifier\\n\\n%matplotlib inline\";\n",
       "                var nbb_formatted_code = \"%reload_ext nb_black\\nimport matplotlib.pyplot as plt\\nimport numpy as np\\nimport pandas as pd\\nimport seaborn as sns\\nfrom sklearn.linear_model import LogisticRegression\\nfrom sklearn.model_selection import train_test_split, cross_val_score\\nfrom sklearn.dummy import DummyClassifier\\nfrom sklearn.metrics import confusion_matrix\\nfrom sklearn.utils.multiclass import unique_labels\\nfrom sklearn.metrics import (\\n    accuracy_score,\\n    precision_score,\\n    recall_score,\\n    f1_score,\\n    fbeta_score,\\n    classification_report,\\n)\\nfrom sklearn.metrics import roc_curve, precision_recall_curve, roc_auc_score\\nfrom sklearn.preprocessing import StandardScaler\\nfrom sklearn.neighbors import KNeighborsClassifier\\nfrom sklearn.ensemble import RandomForestClassifier\\n\\n%matplotlib inline\";\n",
       "                var nbb_cells = Jupyter.notebook.get_cells();\n",
       "                for (var i = 0; i < nbb_cells.length; ++i) {\n",
       "                    if (nbb_cells[i].input_prompt_number == nbb_cell_id) {\n",
       "                        if (nbb_cells[i].get_text() == nbb_unformatted_code) {\n",
       "                             nbb_cells[i].set_text(nbb_formatted_code);\n",
       "                        }\n",
       "                        break;\n",
       "                    }\n",
       "                }\n",
       "            }, 500);\n",
       "            "
      ],
      "text/plain": [
       "<IPython.core.display.Javascript object>"
      ]
     },
     "metadata": {},
     "output_type": "display_data"
    }
   ],
   "source": [
    "%reload_ext nb_black\n",
    "import matplotlib.pyplot as plt\n",
    "import numpy as np\n",
    "import pandas as pd\n",
    "import seaborn as sns\n",
    "from sklearn.linear_model import LogisticRegression\n",
    "from sklearn.model_selection import train_test_split, cross_val_score\n",
    "from sklearn.dummy import DummyClassifier\n",
    "from sklearn.metrics import confusion_matrix\n",
    "from sklearn.utils.multiclass import unique_labels\n",
    "from sklearn.metrics import (\n",
    "    accuracy_score,\n",
    "    precision_score,\n",
    "    recall_score,\n",
    "    f1_score,\n",
    "    fbeta_score,\n",
    "    classification_report,\n",
    ")\n",
    "from sklearn.metrics import roc_curve, precision_recall_curve, roc_auc_score\n",
    "from sklearn.preprocessing import StandardScaler\n",
    "from sklearn.neighbors import KNeighborsClassifier\n",
    "from sklearn.ensemble import RandomForestClassifier\n",
    "\n",
    "%matplotlib inline"
   ]
  },
  {
   "cell_type": "markdown",
   "metadata": {},
   "source": [
    "2. Load and prepare the dataset\n",
    "\n",
    "Load the training data into a dataframe named df_train_data \n",
    "\n",
    "Create binary classification problem - rename some class labels\n",
    "\n",
    "Create a dataframe of 9 features named X, drop column 9.\n",
    "\n",
    "Create a data frame of labels named y, select only column 9.\n",
    "\n",
    "Split the data into a training set and a test set."
   ]
  },
  {
   "cell_type": "code",
   "execution_count": 44,
   "metadata": {},
   "outputs": [
    {
     "data": {
      "application/javascript": [
       "\n",
       "            setTimeout(function() {\n",
       "                var nbb_cell_id = 44;\n",
       "                var nbb_unformatted_code = \"df_train_data = pd.read_csv(\\n    \\\"http://archive.ics.uci.edu/ml/machine-learning-databases/statlog/shuttle/shuttle.tst\\\",\\n    header=None,\\n    sep=\\\" \\\",\\n)\\ndf_train_data.loc[df_train_data[9] != 4, 9] = 0\\ndf_train_data.loc[df_train_data[9] == 4, 9] = 1\\n\\nX = df_train_data.drop(columns=[9])\\ny = df_train_data[9]\\n\\nX_train, X_test, y_train, y_test = train_test_split(X, y)\";\n",
       "                var nbb_formatted_code = \"df_train_data = pd.read_csv(\\n    \\\"http://archive.ics.uci.edu/ml/machine-learning-databases/statlog/shuttle/shuttle.tst\\\",\\n    header=None,\\n    sep=\\\" \\\",\\n)\\ndf_train_data.loc[df_train_data[9] != 4, 9] = 0\\ndf_train_data.loc[df_train_data[9] == 4, 9] = 1\\n\\nX = df_train_data.drop(columns=[9])\\ny = df_train_data[9]\\n\\nX_train, X_test, y_train, y_test = train_test_split(X, y)\";\n",
       "                var nbb_cells = Jupyter.notebook.get_cells();\n",
       "                for (var i = 0; i < nbb_cells.length; ++i) {\n",
       "                    if (nbb_cells[i].input_prompt_number == nbb_cell_id) {\n",
       "                        if (nbb_cells[i].get_text() == nbb_unformatted_code) {\n",
       "                             nbb_cells[i].set_text(nbb_formatted_code);\n",
       "                        }\n",
       "                        break;\n",
       "                    }\n",
       "                }\n",
       "            }, 500);\n",
       "            "
      ],
      "text/plain": [
       "<IPython.core.display.Javascript object>"
      ]
     },
     "metadata": {},
     "output_type": "display_data"
    },
    {
     "data": {
      "application/javascript": [
       "\n",
       "            setTimeout(function() {\n",
       "                var nbb_cell_id = 44;\n",
       "                var nbb_unformatted_code = \"df_train_data = pd.read_csv(\\n    \\\"http://archive.ics.uci.edu/ml/machine-learning-databases/statlog/shuttle/shuttle.tst\\\",\\n    header=None,\\n    sep=\\\" \\\",\\n)\\ndf_train_data.loc[df_train_data[9] != 4, 9] = 0\\ndf_train_data.loc[df_train_data[9] == 4, 9] = 1\\n\\nX = df_train_data.drop(columns=[9])\\ny = df_train_data[9]\\n\\nX_train, X_test, y_train, y_test = train_test_split(X, y)\";\n",
       "                var nbb_formatted_code = \"df_train_data = pd.read_csv(\\n    \\\"http://archive.ics.uci.edu/ml/machine-learning-databases/statlog/shuttle/shuttle.tst\\\",\\n    header=None,\\n    sep=\\\" \\\",\\n)\\ndf_train_data.loc[df_train_data[9] != 4, 9] = 0\\ndf_train_data.loc[df_train_data[9] == 4, 9] = 1\\n\\nX = df_train_data.drop(columns=[9])\\ny = df_train_data[9]\\n\\nX_train, X_test, y_train, y_test = train_test_split(X, y)\";\n",
       "                var nbb_cells = Jupyter.notebook.get_cells();\n",
       "                for (var i = 0; i < nbb_cells.length; ++i) {\n",
       "                    if (nbb_cells[i].input_prompt_number == nbb_cell_id) {\n",
       "                        if (nbb_cells[i].get_text() == nbb_unformatted_code) {\n",
       "                             nbb_cells[i].set_text(nbb_formatted_code);\n",
       "                        }\n",
       "                        break;\n",
       "                    }\n",
       "                }\n",
       "            }, 500);\n",
       "            "
      ],
      "text/plain": [
       "<IPython.core.display.Javascript object>"
      ]
     },
     "metadata": {},
     "output_type": "display_data"
    }
   ],
   "source": [
    "df_train_data = pd.read_csv(\n",
    "    \"http://archive.ics.uci.edu/ml/machine-learning-databases/statlog/shuttle/shuttle.tst\",\n",
    "    header=None,\n",
    "    sep=\" \",\n",
    ")\n",
    "df_train_data.loc[df_train_data[9] != 4, 9] = 0\n",
    "df_train_data.loc[df_train_data[9] == 4, 9] = 1\n",
    "\n",
    "X = df_train_data.drop(columns=[9])\n",
    "y = df_train_data[9]\n",
    "\n",
    "X_train, X_test, y_train, y_test = train_test_split(X, y)"
   ]
  },
  {
   "cell_type": "markdown",
   "metadata": {},
   "source": [
    "3. Create the model\n",
    "\n",
    "Instantiate a Logistic Regression classifier with a lbfgs solver.\n",
    "\n",
    "Fit the classifier to the data."
   ]
  },
  {
   "cell_type": "code",
   "execution_count": 45,
   "metadata": {
    "scrolled": true
   },
   "outputs": [
    {
     "data": {
      "text/plain": [
       "LogisticRegression(C=1.0, class_weight=None, dual=False, fit_intercept=True,\n",
       "                   intercept_scaling=1, l1_ratio=None, max_iter=1000,\n",
       "                   multi_class='auto', n_jobs=None, penalty='l2',\n",
       "                   random_state=None, solver='lbfgs', tol=0.0001, verbose=0,\n",
       "                   warm_start=False)"
      ]
     },
     "execution_count": 45,
     "metadata": {},
     "output_type": "execute_result"
    },
    {
     "data": {
      "application/javascript": [
       "\n",
       "            setTimeout(function() {\n",
       "                var nbb_cell_id = 45;\n",
       "                var nbb_unformatted_code = \"model = LogisticRegression(max_iter=1000)\\nmodel.fit(X_train, y_train)\";\n",
       "                var nbb_formatted_code = \"model = LogisticRegression(max_iter=1000)\\nmodel.fit(X_train, y_train)\";\n",
       "                var nbb_cells = Jupyter.notebook.get_cells();\n",
       "                for (var i = 0; i < nbb_cells.length; ++i) {\n",
       "                    if (nbb_cells[i].input_prompt_number == nbb_cell_id) {\n",
       "                        if (nbb_cells[i].get_text() == nbb_unformatted_code) {\n",
       "                             nbb_cells[i].set_text(nbb_formatted_code);\n",
       "                        }\n",
       "                        break;\n",
       "                    }\n",
       "                }\n",
       "            }, 500);\n",
       "            "
      ],
      "text/plain": [
       "<IPython.core.display.Javascript object>"
      ]
     },
     "metadata": {},
     "output_type": "display_data"
    },
    {
     "data": {
      "application/javascript": [
       "\n",
       "            setTimeout(function() {\n",
       "                var nbb_cell_id = 45;\n",
       "                var nbb_unformatted_code = \"model = LogisticRegression(max_iter=1000)\\nmodel.fit(X_train, y_train)\";\n",
       "                var nbb_formatted_code = \"model = LogisticRegression(max_iter=1000)\\nmodel.fit(X_train, y_train)\";\n",
       "                var nbb_cells = Jupyter.notebook.get_cells();\n",
       "                for (var i = 0; i < nbb_cells.length; ++i) {\n",
       "                    if (nbb_cells[i].input_prompt_number == nbb_cell_id) {\n",
       "                        if (nbb_cells[i].get_text() == nbb_unformatted_code) {\n",
       "                             nbb_cells[i].set_text(nbb_formatted_code);\n",
       "                        }\n",
       "                        break;\n",
       "                    }\n",
       "                }\n",
       "            }, 500);\n",
       "            "
      ],
      "text/plain": [
       "<IPython.core.display.Javascript object>"
      ]
     },
     "metadata": {},
     "output_type": "display_data"
    }
   ],
   "source": [
    "model = LogisticRegression(max_iter=1000)\n",
    "model.fit(X_train, y_train)"
   ]
  },
  {
   "cell_type": "markdown",
   "metadata": {},
   "source": [
    "4. Calculate Accuracy\n",
    "\n",
    "Calculate and print the accuracy of the model on the test data."
   ]
  },
  {
   "cell_type": "code",
   "execution_count": 46,
   "metadata": {},
   "outputs": [
    {
     "data": {
      "text/plain": [
       "0.8242758620689655"
      ]
     },
     "execution_count": 46,
     "metadata": {},
     "output_type": "execute_result"
    },
    {
     "data": {
      "application/javascript": [
       "\n",
       "            setTimeout(function() {\n",
       "                var nbb_cell_id = 46;\n",
       "                var nbb_unformatted_code = \"model.score(X_train, y_train)\";\n",
       "                var nbb_formatted_code = \"model.score(X_train, y_train)\";\n",
       "                var nbb_cells = Jupyter.notebook.get_cells();\n",
       "                for (var i = 0; i < nbb_cells.length; ++i) {\n",
       "                    if (nbb_cells[i].input_prompt_number == nbb_cell_id) {\n",
       "                        if (nbb_cells[i].get_text() == nbb_unformatted_code) {\n",
       "                             nbb_cells[i].set_text(nbb_formatted_code);\n",
       "                        }\n",
       "                        break;\n",
       "                    }\n",
       "                }\n",
       "            }, 500);\n",
       "            "
      ],
      "text/plain": [
       "<IPython.core.display.Javascript object>"
      ]
     },
     "metadata": {},
     "output_type": "display_data"
    },
    {
     "data": {
      "application/javascript": [
       "\n",
       "            setTimeout(function() {\n",
       "                var nbb_cell_id = 46;\n",
       "                var nbb_unformatted_code = \"model.score(X_train, y_train)\";\n",
       "                var nbb_formatted_code = \"model.score(X_train, y_train)\";\n",
       "                var nbb_cells = Jupyter.notebook.get_cells();\n",
       "                for (var i = 0; i < nbb_cells.length; ++i) {\n",
       "                    if (nbb_cells[i].input_prompt_number == nbb_cell_id) {\n",
       "                        if (nbb_cells[i].get_text() == nbb_unformatted_code) {\n",
       "                             nbb_cells[i].set_text(nbb_formatted_code);\n",
       "                        }\n",
       "                        break;\n",
       "                    }\n",
       "                }\n",
       "            }, 500);\n",
       "            "
      ],
      "text/plain": [
       "<IPython.core.display.Javascript object>"
      ]
     },
     "metadata": {},
     "output_type": "display_data"
    }
   ],
   "source": [
    "model.score(X_train, y_train)"
   ]
  },
  {
   "cell_type": "markdown",
   "metadata": {},
   "source": [
    "5. Dummy Classifier\n",
    "\n",
    "Use the dummy classifier to calculate the accuracy of a purely random chance.\n",
    "\n",
    "Compare this result to the result of the logistic regression classifier above. What does this result tell you?"
   ]
  },
  {
   "cell_type": "code",
   "execution_count": 47,
   "metadata": {
    "scrolled": true
   },
   "outputs": [
    {
     "data": {
      "text/plain": [
       "0.5117241379310344"
      ]
     },
     "execution_count": 47,
     "metadata": {},
     "output_type": "execute_result"
    },
    {
     "data": {
      "application/javascript": [
       "\n",
       "            setTimeout(function() {\n",
       "                var nbb_cell_id = 47;\n",
       "                var nbb_unformatted_code = \"dum = DummyClassifier(strategy = 'uniform')\\ndum.fit(X_train, y_train)\\ndum.score(X_test,y_test)\";\n",
       "                var nbb_formatted_code = \"dum = DummyClassifier(strategy=\\\"uniform\\\")\\ndum.fit(X_train, y_train)\\ndum.score(X_test, y_test)\";\n",
       "                var nbb_cells = Jupyter.notebook.get_cells();\n",
       "                for (var i = 0; i < nbb_cells.length; ++i) {\n",
       "                    if (nbb_cells[i].input_prompt_number == nbb_cell_id) {\n",
       "                        if (nbb_cells[i].get_text() == nbb_unformatted_code) {\n",
       "                             nbb_cells[i].set_text(nbb_formatted_code);\n",
       "                        }\n",
       "                        break;\n",
       "                    }\n",
       "                }\n",
       "            }, 500);\n",
       "            "
      ],
      "text/plain": [
       "<IPython.core.display.Javascript object>"
      ]
     },
     "metadata": {},
     "output_type": "display_data"
    },
    {
     "data": {
      "application/javascript": [
       "\n",
       "            setTimeout(function() {\n",
       "                var nbb_cell_id = 47;\n",
       "                var nbb_unformatted_code = \"dum = DummyClassifier(strategy = 'uniform')\\ndum.fit(X_train, y_train)\\ndum.score(X_test,y_test)\";\n",
       "                var nbb_formatted_code = \"dum = DummyClassifier(strategy=\\\"uniform\\\")\\ndum.fit(X_train, y_train)\\ndum.score(X_test, y_test)\";\n",
       "                var nbb_cells = Jupyter.notebook.get_cells();\n",
       "                for (var i = 0; i < nbb_cells.length; ++i) {\n",
       "                    if (nbb_cells[i].input_prompt_number == nbb_cell_id) {\n",
       "                        if (nbb_cells[i].get_text() == nbb_unformatted_code) {\n",
       "                             nbb_cells[i].set_text(nbb_formatted_code);\n",
       "                        }\n",
       "                        break;\n",
       "                    }\n",
       "                }\n",
       "            }, 500);\n",
       "            "
      ],
      "text/plain": [
       "<IPython.core.display.Javascript object>"
      ]
     },
     "metadata": {},
     "output_type": "display_data"
    }
   ],
   "source": [
    "dum = DummyClassifier(strategy=\"uniform\")\n",
    "dum.fit(X_train, y_train)\n",
    "dum.score(X_test, y_test)"
   ]
  },
  {
   "cell_type": "markdown",
   "metadata": {},
   "source": [
    "6. Confusion Matrix\n",
    "\n",
    "Print the confusion matrix."
   ]
  },
  {
   "cell_type": "code",
   "execution_count": 64,
   "metadata": {},
   "outputs": [
    {
     "name": "stdout",
     "output_type": "stream",
     "text": [
      "[[  43  493]\n",
      " [ 140 2949]]\n"
     ]
    },
    {
     "data": {
      "application/javascript": [
       "\n",
       "            setTimeout(function() {\n",
       "                var nbb_cell_id = 64;\n",
       "                var nbb_unformatted_code = \"predictions = model.predict(X_test)\\n\\nconfusion = confusion_matrix(y_test, predictions, labels=[1, 0])\\nprint(confusion)\";\n",
       "                var nbb_formatted_code = \"predictions = model.predict(X_test)\\n\\nconfusion = confusion_matrix(y_test, predictions, labels=[1, 0])\\nprint(confusion)\";\n",
       "                var nbb_cells = Jupyter.notebook.get_cells();\n",
       "                for (var i = 0; i < nbb_cells.length; ++i) {\n",
       "                    if (nbb_cells[i].input_prompt_number == nbb_cell_id) {\n",
       "                        if (nbb_cells[i].get_text() == nbb_unformatted_code) {\n",
       "                             nbb_cells[i].set_text(nbb_formatted_code);\n",
       "                        }\n",
       "                        break;\n",
       "                    }\n",
       "                }\n",
       "            }, 500);\n",
       "            "
      ],
      "text/plain": [
       "<IPython.core.display.Javascript object>"
      ]
     },
     "metadata": {},
     "output_type": "display_data"
    },
    {
     "data": {
      "application/javascript": [
       "\n",
       "            setTimeout(function() {\n",
       "                var nbb_cell_id = 64;\n",
       "                var nbb_unformatted_code = \"predictions = model.predict(X_test)\\n\\nconfusion = confusion_matrix(y_test, predictions, labels=[1, 0])\\nprint(confusion)\";\n",
       "                var nbb_formatted_code = \"predictions = model.predict(X_test)\\n\\nconfusion = confusion_matrix(y_test, predictions, labels=[1, 0])\\nprint(confusion)\";\n",
       "                var nbb_cells = Jupyter.notebook.get_cells();\n",
       "                for (var i = 0; i < nbb_cells.length; ++i) {\n",
       "                    if (nbb_cells[i].input_prompt_number == nbb_cell_id) {\n",
       "                        if (nbb_cells[i].get_text() == nbb_unformatted_code) {\n",
       "                             nbb_cells[i].set_text(nbb_formatted_code);\n",
       "                        }\n",
       "                        break;\n",
       "                    }\n",
       "                }\n",
       "            }, 500);\n",
       "            "
      ],
      "text/plain": [
       "<IPython.core.display.Javascript object>"
      ]
     },
     "metadata": {},
     "output_type": "display_data"
    }
   ],
   "source": [
    "predictions = model.predict(X_test)\n",
    "\n",
    "confusion = confusion_matrix(y_test, predictions, labels=[1, 0])\n",
    "print(confusion)"
   ]
  },
  {
   "cell_type": "markdown",
   "metadata": {},
   "source": [
    "7. Plot a nicer confusion matrix (optional)\n",
    "\n",
    "Use the plot_confusion_matrix function from above to plot a nicer looking confusion matrix."
   ]
  },
  {
   "cell_type": "code",
   "execution_count": 66,
   "metadata": {},
   "outputs": [
    {
     "data": {
      "image/png": "[encoded data removed]",
      "text/plain": [
       "<Figure size 576x432 with 2 Axes>"
      ]
     },
     "metadata": {
      "needs_background": "light"
     },
     "output_type": "display_data"
    },
    {
     "data": {
      "application/javascript": [
       "\n",
       "            setTimeout(function() {\n",
       "                var nbb_cell_id = 66;\n",
       "                var nbb_unformatted_code = \"def plot_confusion_matrix(\\n    cm, target_names, title=\\\"Confusion matrix\\\", cmap=None, normalize=True\\n):\\n    \\\"\\\"\\\"\\n    given a sklearn confusion matrix (cm), make a nice plot\\n\\n    Arguments\\n    ---------\\n    cm:           confusion matrix from sklearn.metrics.confusion_matrix\\n\\n    target_names: given classification classes such as [0, 1, 2]\\n                  the class names, for example: ['high', 'medium', 'low']\\n\\n    title:        the text to display at the top of the matrix\\n\\n    cmap:         the gradient of the values displayed from matplotlib.pyplot.cm\\n                  see http://matplotlib.org/examples/color/colormaps_reference.html\\n                  plt.get_cmap('jet') or plt.cm.Blues\\n\\n    normalize:    If False, plot the raw numbers\\n                  If True, plot the proportions\\n\\n    Usage\\n    -----\\n    plot_confusion_matrix(cm           = cm,                  # confusion matrix created by\\n                                                              # sklearn.metrics.confusion_matrix\\n                          normalize    = True,                # show proportions\\n                          target_names = y_labels_vals,       # list of names of the classes\\n                          title        = best_estimator_name) # title of graph\\n\\n    Citiation\\n    ---------\\n    http://scikit-learn.org/stable/auto_examples/model_selection/plot_confusion_matrix.html\\n\\n    \\\"\\\"\\\"\\n    import matplotlib.pyplot as plt\\n    import numpy as np\\n    import itertools\\n\\n    accuracy = np.trace(cm) / float(np.sum(cm))\\n    misclass = 1 - accuracy\\n\\n    if cmap is None:\\n        cmap = plt.get_cmap(\\\"Blues\\\")\\n\\n    plt.figure(figsize=(8, 6))\\n    plt.imshow(cm, interpolation=\\\"nearest\\\", cmap=cmap)\\n    plt.title(title)\\n    plt.colorbar()\\n\\n    if target_names is not None:\\n        tick_marks = np.arange(len(target_names))\\n        plt.xticks(tick_marks, target_names, rotation=45)\\n        plt.yticks(tick_marks, target_names)\\n\\n    if normalize:\\n        cm = cm.astype(\\\"float\\\") / cm.sum(axis=1)[:, np.newaxis]\\n\\n    thresh = cm.max() / 1.5 if normalize else cm.max() / 2\\n    for i, j in itertools.product(range(cm.shape[0]), range(cm.shape[1])):\\n        if normalize:\\n            plt.text(\\n                j,\\n                i,\\n                \\\"{:0.4f}\\\".format(cm[i, j]),\\n                horizontalalignment=\\\"center\\\",\\n                color=\\\"white\\\" if cm[i, j] > thresh else \\\"black\\\",\\n            )\\n        else:\\n            plt.text(\\n                j,\\n                i,\\n                \\\"{:,}\\\".format(cm[i, j]),\\n                horizontalalignment=\\\"center\\\",\\n                color=\\\"white\\\" if cm[i, j] > thresh else \\\"black\\\",\\n            )\\n\\n    plt.tight_layout()\\n    plt.ylabel(\\\"True label\\\")\\n    plt.xlabel(\\n        \\\"Predicted label\\\\naccuracy={:0.4f}; misclass={:0.4f}\\\".format(accuracy, misclass)\\n    )\\n    plt.show()\\n\\n\\nplot_confusion_matrix(\\n    cm=confusion,\\n    target_names=[\\\"Positive\\\", \\\"Negative\\\"],\\n    title=\\\"Confusion Matrix\\\",\\n    normalize=False,\\n)\";\n",
       "                var nbb_formatted_code = \"def plot_confusion_matrix(\\n    cm, target_names, title=\\\"Confusion matrix\\\", cmap=None, normalize=True\\n):\\n    \\\"\\\"\\\"\\n    given a sklearn confusion matrix (cm), make a nice plot\\n\\n    Arguments\\n    ---------\\n    cm:           confusion matrix from sklearn.metrics.confusion_matrix\\n\\n    target_names: given classification classes such as [0, 1, 2]\\n                  the class names, for example: ['high', 'medium', 'low']\\n\\n    title:        the text to display at the top of the matrix\\n\\n    cmap:         the gradient of the values displayed from matplotlib.pyplot.cm\\n                  see http://matplotlib.org/examples/color/colormaps_reference.html\\n                  plt.get_cmap('jet') or plt.cm.Blues\\n\\n    normalize:    If False, plot the raw numbers\\n                  If True, plot the proportions\\n\\n    Usage\\n    -----\\n    plot_confusion_matrix(cm           = cm,                  # confusion matrix created by\\n                                                              # sklearn.metrics.confusion_matrix\\n                          normalize    = True,                # show proportions\\n                          target_names = y_labels_vals,       # list of names of the classes\\n                          title        = best_estimator_name) # title of graph\\n\\n    Citiation\\n    ---------\\n    http://scikit-learn.org/stable/auto_examples/model_selection/plot_confusion_matrix.html\\n\\n    \\\"\\\"\\\"\\n    import matplotlib.pyplot as plt\\n    import numpy as np\\n    import itertools\\n\\n    accuracy = np.trace(cm) / float(np.sum(cm))\\n    misclass = 1 - accuracy\\n\\n    if cmap is None:\\n        cmap = plt.get_cmap(\\\"Blues\\\")\\n\\n    plt.figure(figsize=(8, 6))\\n    plt.imshow(cm, interpolation=\\\"nearest\\\", cmap=cmap)\\n    plt.title(title)\\n    plt.colorbar()\\n\\n    if target_names is not None:\\n        tick_marks = np.arange(len(target_names))\\n        plt.xticks(tick_marks, target_names, rotation=45)\\n        plt.yticks(tick_marks, target_names)\\n\\n    if normalize:\\n        cm = cm.astype(\\\"float\\\") / cm.sum(axis=1)[:, np.newaxis]\\n\\n    thresh = cm.max() / 1.5 if normalize else cm.max() / 2\\n    for i, j in itertools.product(range(cm.shape[0]), range(cm.shape[1])):\\n        if normalize:\\n            plt.text(\\n                j,\\n                i,\\n                \\\"{:0.4f}\\\".format(cm[i, j]),\\n                horizontalalignment=\\\"center\\\",\\n                color=\\\"white\\\" if cm[i, j] > thresh else \\\"black\\\",\\n            )\\n        else:\\n            plt.text(\\n                j,\\n                i,\\n                \\\"{:,}\\\".format(cm[i, j]),\\n                horizontalalignment=\\\"center\\\",\\n                color=\\\"white\\\" if cm[i, j] > thresh else \\\"black\\\",\\n            )\\n\\n    plt.tight_layout()\\n    plt.ylabel(\\\"True label\\\")\\n    plt.xlabel(\\n        \\\"Predicted label\\\\naccuracy={:0.4f}; misclass={:0.4f}\\\".format(accuracy, misclass)\\n    )\\n    plt.show()\\n\\n\\nplot_confusion_matrix(\\n    cm=confusion,\\n    target_names=[\\\"Positive\\\", \\\"Negative\\\"],\\n    title=\\\"Confusion Matrix\\\",\\n    normalize=False,\\n)\";\n",
       "                var nbb_cells = Jupyter.notebook.get_cells();\n",
       "                for (var i = 0; i < nbb_cells.length; ++i) {\n",
       "                    if (nbb_cells[i].input_prompt_number == nbb_cell_id) {\n",
       "                        if (nbb_cells[i].get_text() == nbb_unformatted_code) {\n",
       "                             nbb_cells[i].set_text(nbb_formatted_code);\n",
       "                        }\n",
       "                        break;\n",
       "                    }\n",
       "                }\n",
       "            }, 500);\n",
       "            "
      ],
      "text/plain": [
       "<IPython.core.display.Javascript object>"
      ]
     },
     "metadata": {},
     "output_type": "display_data"
    },
    {
     "data": {
      "application/javascript": [
       "\n",
       "            setTimeout(function() {\n",
       "                var nbb_cell_id = 66;\n",
       "                var nbb_unformatted_code = \"def plot_confusion_matrix(\\n    cm, target_names, title=\\\"Confusion matrix\\\", cmap=None, normalize=True\\n):\\n    \\\"\\\"\\\"\\n    given a sklearn confusion matrix (cm), make a nice plot\\n\\n    Arguments\\n    ---------\\n    cm:           confusion matrix from sklearn.metrics.confusion_matrix\\n\\n    target_names: given classification classes such as [0, 1, 2]\\n                  the class names, for example: ['high', 'medium', 'low']\\n\\n    title:        the text to display at the top of the matrix\\n\\n    cmap:         the gradient of the values displayed from matplotlib.pyplot.cm\\n                  see http://matplotlib.org/examples/color/colormaps_reference.html\\n                  plt.get_cmap('jet') or plt.cm.Blues\\n\\n    normalize:    If False, plot the raw numbers\\n                  If True, plot the proportions\\n\\n    Usage\\n    -----\\n    plot_confusion_matrix(cm           = cm,                  # confusion matrix created by\\n                                                              # sklearn.metrics.confusion_matrix\\n                          normalize    = True,                # show proportions\\n                          target_names = y_labels_vals,       # list of names of the classes\\n                          title        = best_estimator_name) # title of graph\\n\\n    Citiation\\n    ---------\\n    http://scikit-learn.org/stable/auto_examples/model_selection/plot_confusion_matrix.html\\n\\n    \\\"\\\"\\\"\\n    import matplotlib.pyplot as plt\\n    import numpy as np\\n    import itertools\\n\\n    accuracy = np.trace(cm) / float(np.sum(cm))\\n    misclass = 1 - accuracy\\n\\n    if cmap is None:\\n        cmap = plt.get_cmap(\\\"Blues\\\")\\n\\n    plt.figure(figsize=(8, 6))\\n    plt.imshow(cm, interpolation=\\\"nearest\\\", cmap=cmap)\\n    plt.title(title)\\n    plt.colorbar()\\n\\n    if target_names is not None:\\n        tick_marks = np.arange(len(target_names))\\n        plt.xticks(tick_marks, target_names, rotation=45)\\n        plt.yticks(tick_marks, target_names)\\n\\n    if normalize:\\n        cm = cm.astype(\\\"float\\\") / cm.sum(axis=1)[:, np.newaxis]\\n\\n    thresh = cm.max() / 1.5 if normalize else cm.max() / 2\\n    for i, j in itertools.product(range(cm.shape[0]), range(cm.shape[1])):\\n        if normalize:\\n            plt.text(\\n                j,\\n                i,\\n                \\\"{:0.4f}\\\".format(cm[i, j]),\\n                horizontalalignment=\\\"center\\\",\\n                color=\\\"white\\\" if cm[i, j] > thresh else \\\"black\\\",\\n            )\\n        else:\\n            plt.text(\\n                j,\\n                i,\\n                \\\"{:,}\\\".format(cm[i, j]),\\n                horizontalalignment=\\\"center\\\",\\n                color=\\\"white\\\" if cm[i, j] > thresh else \\\"black\\\",\\n            )\\n\\n    plt.tight_layout()\\n    plt.ylabel(\\\"True label\\\")\\n    plt.xlabel(\\n        \\\"Predicted label\\\\naccuracy={:0.4f}; misclass={:0.4f}\\\".format(accuracy, misclass)\\n    )\\n    plt.show()\\n\\n\\nplot_confusion_matrix(\\n    cm=confusion,\\n    target_names=[\\\"Positive\\\", \\\"Negative\\\"],\\n    title=\\\"Confusion Matrix\\\",\\n    normalize=False,\\n)\";\n",
       "                var nbb_formatted_code = \"def plot_confusion_matrix(\\n    cm, target_names, title=\\\"Confusion matrix\\\", cmap=None, normalize=True\\n):\\n    \\\"\\\"\\\"\\n    given a sklearn confusion matrix (cm), make a nice plot\\n\\n    Arguments\\n    ---------\\n    cm:           confusion matrix from sklearn.metrics.confusion_matrix\\n\\n    target_names: given classification classes such as [0, 1, 2]\\n                  the class names, for example: ['high', 'medium', 'low']\\n\\n    title:        the text to display at the top of the matrix\\n\\n    cmap:         the gradient of the values displayed from matplotlib.pyplot.cm\\n                  see http://matplotlib.org/examples/color/colormaps_reference.html\\n                  plt.get_cmap('jet') or plt.cm.Blues\\n\\n    normalize:    If False, plot the raw numbers\\n                  If True, plot the proportions\\n\\n    Usage\\n    -----\\n    plot_confusion_matrix(cm           = cm,                  # confusion matrix created by\\n                                                              # sklearn.metrics.confusion_matrix\\n                          normalize    = True,                # show proportions\\n                          target_names = y_labels_vals,       # list of names of the classes\\n                          title        = best_estimator_name) # title of graph\\n\\n    Citiation\\n    ---------\\n    http://scikit-learn.org/stable/auto_examples/model_selection/plot_confusion_matrix.html\\n\\n    \\\"\\\"\\\"\\n    import matplotlib.pyplot as plt\\n    import numpy as np\\n    import itertools\\n\\n    accuracy = np.trace(cm) / float(np.sum(cm))\\n    misclass = 1 - accuracy\\n\\n    if cmap is None:\\n        cmap = plt.get_cmap(\\\"Blues\\\")\\n\\n    plt.figure(figsize=(8, 6))\\n    plt.imshow(cm, interpolation=\\\"nearest\\\", cmap=cmap)\\n    plt.title(title)\\n    plt.colorbar()\\n\\n    if target_names is not None:\\n        tick_marks = np.arange(len(target_names))\\n        plt.xticks(tick_marks, target_names, rotation=45)\\n        plt.yticks(tick_marks, target_names)\\n\\n    if normalize:\\n        cm = cm.astype(\\\"float\\\") / cm.sum(axis=1)[:, np.newaxis]\\n\\n    thresh = cm.max() / 1.5 if normalize else cm.max() / 2\\n    for i, j in itertools.product(range(cm.shape[0]), range(cm.shape[1])):\\n        if normalize:\\n            plt.text(\\n                j,\\n                i,\\n                \\\"{:0.4f}\\\".format(cm[i, j]),\\n                horizontalalignment=\\\"center\\\",\\n                color=\\\"white\\\" if cm[i, j] > thresh else \\\"black\\\",\\n            )\\n        else:\\n            plt.text(\\n                j,\\n                i,\\n                \\\"{:,}\\\".format(cm[i, j]),\\n                horizontalalignment=\\\"center\\\",\\n                color=\\\"white\\\" if cm[i, j] > thresh else \\\"black\\\",\\n            )\\n\\n    plt.tight_layout()\\n    plt.ylabel(\\\"True label\\\")\\n    plt.xlabel(\\n        \\\"Predicted label\\\\naccuracy={:0.4f}; misclass={:0.4f}\\\".format(accuracy, misclass)\\n    )\\n    plt.show()\\n\\n\\nplot_confusion_matrix(\\n    cm=confusion,\\n    target_names=[\\\"Positive\\\", \\\"Negative\\\"],\\n    title=\\\"Confusion Matrix\\\",\\n    normalize=False,\\n)\";\n",
       "                var nbb_cells = Jupyter.notebook.get_cells();\n",
       "                for (var i = 0; i < nbb_cells.length; ++i) {\n",
       "                    if (nbb_cells[i].input_prompt_number == nbb_cell_id) {\n",
       "                        if (nbb_cells[i].get_text() == nbb_unformatted_code) {\n",
       "                             nbb_cells[i].set_text(nbb_formatted_code);\n",
       "                        }\n",
       "                        break;\n",
       "                    }\n",
       "                }\n",
       "            }, 500);\n",
       "            "
      ],
      "text/plain": [
       "<IPython.core.display.Javascript object>"
      ]
     },
     "metadata": {},
     "output_type": "display_data"
    }
   ],
   "source": [
    "def plot_confusion_matrix(\n",
    "    cm, target_names, title=\"Confusion matrix\", cmap=None, normalize=True\n",
    "):\n",
    "    \"\"\"\n",
    "    given a sklearn confusion matrix (cm), make a nice plot\n",
    "\n",
    "    Arguments\n",
    "    ---------\n",
    "    cm:           confusion matrix from sklearn.metrics.confusion_matrix\n",
    "\n",
    "    target_names: given classification classes such as [0, 1, 2]\n",
    "                  the class names, for example: ['high', 'medium', 'low']\n",
    "\n",
    "    title:        the text to display at the top of the matrix\n",
    "\n",
    "    cmap:         the gradient of the values displayed from matplotlib.pyplot.cm\n",
    "                  see http://matplotlib.org/examples/color/colormaps_reference.html\n",
    "                  plt.get_cmap('jet') or plt.cm.Blues\n",
    "\n",
    "    normalize:    If False, plot the raw numbers\n",
    "                  If True, plot the proportions\n",
    "\n",
    "    Usage\n",
    "    -----\n",
    "    plot_confusion_matrix(cm           = cm,                  # confusion matrix created by\n",
    "                                                              # sklearn.metrics.confusion_matrix\n",
    "                          normalize    = True,                # show proportions\n",
    "                          target_names = y_labels_vals,       # list of names of the classes\n",
    "                          title        = best_estimator_name) # title of graph\n",
    "\n",
    "    Citiation\n",
    "    ---------\n",
    "    http://scikit-learn.org/stable/auto_examples/model_selection/plot_confusion_matrix.html\n",
    "\n",
    "    \"\"\"\n",
    "    import matplotlib.pyplot as plt\n",
    "    import numpy as np\n",
    "    import itertools\n",
    "\n",
    "    accuracy = np.trace(cm) / float(np.sum(cm))\n",
    "    misclass = 1 - accuracy\n",
    "\n",
    "    if cmap is None:\n",
    "        cmap = plt.get_cmap(\"Blues\")\n",
    "\n",
    "    plt.figure(figsize=(8, 6))\n",
    "    plt.imshow(cm, interpolation=\"nearest\", cmap=cmap)\n",
    "    plt.title(title)\n",
    "    plt.colorbar()\n",
    "\n",
    "    if target_names is not None:\n",
    "        tick_marks = np.arange(len(target_names))\n",
    "        plt.xticks(tick_marks, target_names, rotation=45)\n",
    "        plt.yticks(tick_marks, target_names)\n",
    "\n",
    "    if normalize:\n",
    "        cm = cm.astype(\"float\") / cm.sum(axis=1)[:, np.newaxis]\n",
    "\n",
    "    thresh = cm.max() / 1.5 if normalize else cm.max() / 2\n",
    "    for i, j in itertools.product(range(cm.shape[0]), range(cm.shape[1])):\n",
    "        if normalize:\n",
    "            plt.text(\n",
    "                j,\n",
    "                i,\n",
    "                \"{:0.4f}\".format(cm[i, j]),\n",
    "                horizontalalignment=\"center\",\n",
    "                color=\"white\" if cm[i, j] > thresh else \"black\",\n",
    "            )\n",
    "        else:\n",
    "            plt.text(\n",
    "                j,\n",
    "                i,\n",
    "                \"{:,}\".format(cm[i, j]),\n",
    "                horizontalalignment=\"center\",\n",
    "                color=\"white\" if cm[i, j] > thresh else \"black\",\n",
    "            )\n",
    "\n",
    "    plt.tight_layout()\n",
    "    plt.ylabel(\"True label\")\n",
    "    plt.xlabel(\n",
    "        \"Predicted label\\naccuracy={:0.4f}; misclass={:0.4f}\".format(accuracy, misclass)\n",
    "    )\n",
    "    plt.show()\n",
    "\n",
    "\n",
    "plot_confusion_matrix(\n",
    "    cm=confusion,\n",
    "    target_names=[\"Positive\", \"Negative\"],\n",
    "    title=\"Confusion Matrix\",\n",
    "    normalize=False,\n",
    ")"
   ]
  },
  {
   "cell_type": "markdown",
   "metadata": {},
   "source": [
    "8. Calculate Metrics\n",
    "\n",
    "Print the F1, F beta, precision, recall and accuracy scores."
   ]
  },
  {
   "cell_type": "code",
   "execution_count": 68,
   "metadata": {},
   "outputs": [
    {
     "name": "stdout",
     "output_type": "stream",
     "text": [
      "Precision score: 0.23\n",
      "Recall score: 0.08\n",
      "F1 score: 0.12\n",
      "Fbeta score favoring precision: 0.17\n",
      "FBeta score favoring recall: 0.09\n"
     ]
    },
    {
     "data": {
      "application/javascript": [
       "\n",
       "            setTimeout(function() {\n",
       "                var nbb_cell_id = 68;\n",
       "                var nbb_unformatted_code = \"precision = precision_score(y_test, predictions)\\nrecall = recall_score(y_test, predictions)\\nf1 = f1_score(y_test, predictions)\\nfbeta_precision = fbeta_score(y_test, predictions, 0.5)\\nfbeta_recall = fbeta_score(y_test, predictions, 2)\\n\\nprint('Precision score: {:.2f}'.format(precision))\\nprint('Recall score: {:.2f}'.format(recall))\\nprint('F1 score: {:.2f}'.format(f1))\\nprint('Fbeta score favoring precision: {:.2f}'.format(fbeta_precision))\\nprint('FBeta score favoring recall: {:.2f}'.format(fbeta_recall))\";\n",
       "                var nbb_formatted_code = \"precision = precision_score(y_test, predictions)\\nrecall = recall_score(y_test, predictions)\\nf1 = f1_score(y_test, predictions)\\nfbeta_precision = fbeta_score(y_test, predictions, 0.5)\\nfbeta_recall = fbeta_score(y_test, predictions, 2)\\n\\nprint(\\\"Precision score: {:.2f}\\\".format(precision))\\nprint(\\\"Recall score: {:.2f}\\\".format(recall))\\nprint(\\\"F1 score: {:.2f}\\\".format(f1))\\nprint(\\\"Fbeta score favoring precision: {:.2f}\\\".format(fbeta_precision))\\nprint(\\\"FBeta score favoring recall: {:.2f}\\\".format(fbeta_recall))\";\n",
       "                var nbb_cells = Jupyter.notebook.get_cells();\n",
       "                for (var i = 0; i < nbb_cells.length; ++i) {\n",
       "                    if (nbb_cells[i].input_prompt_number == nbb_cell_id) {\n",
       "                        if (nbb_cells[i].get_text() == nbb_unformatted_code) {\n",
       "                             nbb_cells[i].set_text(nbb_formatted_code);\n",
       "                        }\n",
       "                        break;\n",
       "                    }\n",
       "                }\n",
       "            }, 500);\n",
       "            "
      ],
      "text/plain": [
       "<IPython.core.display.Javascript object>"
      ]
     },
     "metadata": {},
     "output_type": "display_data"
    },
    {
     "data": {
      "application/javascript": [
       "\n",
       "            setTimeout(function() {\n",
       "                var nbb_cell_id = 68;\n",
       "                var nbb_unformatted_code = \"precision = precision_score(y_test, predictions)\\nrecall = recall_score(y_test, predictions)\\nf1 = f1_score(y_test, predictions)\\nfbeta_precision = fbeta_score(y_test, predictions, 0.5)\\nfbeta_recall = fbeta_score(y_test, predictions, 2)\\n\\nprint('Precision score: {:.2f}'.format(precision))\\nprint('Recall score: {:.2f}'.format(recall))\\nprint('F1 score: {:.2f}'.format(f1))\\nprint('Fbeta score favoring precision: {:.2f}'.format(fbeta_precision))\\nprint('FBeta score favoring recall: {:.2f}'.format(fbeta_recall))\";\n",
       "                var nbb_formatted_code = \"precision = precision_score(y_test, predictions)\\nrecall = recall_score(y_test, predictions)\\nf1 = f1_score(y_test, predictions)\\nfbeta_precision = fbeta_score(y_test, predictions, 0.5)\\nfbeta_recall = fbeta_score(y_test, predictions, 2)\\n\\nprint(\\\"Precision score: {:.2f}\\\".format(precision))\\nprint(\\\"Recall score: {:.2f}\\\".format(recall))\\nprint(\\\"F1 score: {:.2f}\\\".format(f1))\\nprint(\\\"Fbeta score favoring precision: {:.2f}\\\".format(fbeta_precision))\\nprint(\\\"FBeta score favoring recall: {:.2f}\\\".format(fbeta_recall))\";\n",
       "                var nbb_cells = Jupyter.notebook.get_cells();\n",
       "                for (var i = 0; i < nbb_cells.length; ++i) {\n",
       "                    if (nbb_cells[i].input_prompt_number == nbb_cell_id) {\n",
       "                        if (nbb_cells[i].get_text() == nbb_unformatted_code) {\n",
       "                             nbb_cells[i].set_text(nbb_formatted_code);\n",
       "                        }\n",
       "                        break;\n",
       "                    }\n",
       "                }\n",
       "            }, 500);\n",
       "            "
      ],
      "text/plain": [
       "<IPython.core.display.Javascript object>"
      ]
     },
     "metadata": {},
     "output_type": "display_data"
    }
   ],
   "source": [
    "precision = precision_score(y_test, predictions)\n",
    "recall = recall_score(y_test, predictions)\n",
    "f1 = f1_score(y_test, predictions)\n",
    "fbeta_precision = fbeta_score(y_test, predictions, 0.5)\n",
    "fbeta_recall = fbeta_score(y_test, predictions, 2)\n",
    "\n",
    "print(\"Precision score: {:.2f}\".format(precision))\n",
    "print(\"Recall score: {:.2f}\".format(recall))\n",
    "print(\"F1 score: {:.2f}\".format(f1))\n",
    "print(\"Fbeta score favoring precision: {:.2f}\".format(fbeta_precision))\n",
    "print(\"FBeta score favoring recall: {:.2f}\".format(fbeta_recall))"
   ]
  },
  {
   "cell_type": "markdown",
   "metadata": {},
   "source": [
    "9. Print a classification report"
   ]
  },
  {
   "cell_type": "code",
   "execution_count": 72,
   "metadata": {},
   "outputs": [
    {
     "data": {
      "text/plain": [
       "'              precision    recall  f1-score   support\\n\\n    Negative       0.86      0.95      0.90      3089\\n    Positive       0.23      0.08      0.12       536\\n\\n    accuracy                           0.83      3625\\n   macro avg       0.55      0.52      0.51      3625\\nweighted avg       0.76      0.83      0.79      3625\\n'"
      ]
     },
     "execution_count": 72,
     "metadata": {},
     "output_type": "execute_result"
    },
    {
     "data": {
      "application/javascript": [
       "\n",
       "            setTimeout(function() {\n",
       "                var nbb_cell_id = 72;\n",
       "                var nbb_unformatted_code = \"report = classification_report(\\n    y_test, predictions, target_names=[\\\"Negative\\\", \\\"Positive\\\"]\\n)\\nreport\";\n",
       "                var nbb_formatted_code = \"report = classification_report(\\n    y_test, predictions, target_names=[\\\"Negative\\\", \\\"Positive\\\"]\\n)\\nreport\";\n",
       "                var nbb_cells = Jupyter.notebook.get_cells();\n",
       "                for (var i = 0; i < nbb_cells.length; ++i) {\n",
       "                    if (nbb_cells[i].input_prompt_number == nbb_cell_id) {\n",
       "                        if (nbb_cells[i].get_text() == nbb_unformatted_code) {\n",
       "                             nbb_cells[i].set_text(nbb_formatted_code);\n",
       "                        }\n",
       "                        break;\n",
       "                    }\n",
       "                }\n",
       "            }, 500);\n",
       "            "
      ],
      "text/plain": [
       "<IPython.core.display.Javascript object>"
      ]
     },
     "metadata": {},
     "output_type": "display_data"
    },
    {
     "data": {
      "application/javascript": [
       "\n",
       "            setTimeout(function() {\n",
       "                var nbb_cell_id = 72;\n",
       "                var nbb_unformatted_code = \"report = classification_report(\\n    y_test, predictions, target_names=[\\\"Negative\\\", \\\"Positive\\\"]\\n)\\nreport\";\n",
       "                var nbb_formatted_code = \"report = classification_report(\\n    y_test, predictions, target_names=[\\\"Negative\\\", \\\"Positive\\\"]\\n)\\nreport\";\n",
       "                var nbb_cells = Jupyter.notebook.get_cells();\n",
       "                for (var i = 0; i < nbb_cells.length; ++i) {\n",
       "                    if (nbb_cells[i].input_prompt_number == nbb_cell_id) {\n",
       "                        if (nbb_cells[i].get_text() == nbb_unformatted_code) {\n",
       "                             nbb_cells[i].set_text(nbb_formatted_code);\n",
       "                        }\n",
       "                        break;\n",
       "                    }\n",
       "                }\n",
       "            }, 500);\n",
       "            "
      ],
      "text/plain": [
       "<IPython.core.display.Javascript object>"
      ]
     },
     "metadata": {},
     "output_type": "display_data"
    }
   ],
   "source": [
    "report = classification_report(\n",
    "    y_test, predictions, target_names=[\"Negative\", \"Positive\"]\n",
    ")\n",
    "report"
   ]
  },
  {
   "cell_type": "markdown",
   "metadata": {},
   "source": [
    "10. Plot ROC Curve and AUC\n",
    "\n",
    "Caculate AUC and plot the curve."
   ]
  },
  {
   "cell_type": "code",
   "execution_count": 74,
   "metadata": {},
   "outputs": [
    {
     "data": {
      "image/png": "[encoded data removed]",
      "text/plain": [
       "<Figure size 432x432 with 1 Axes>"
      ]
     },
     "metadata": {
      "needs_background": "light"
     },
     "output_type": "display_data"
    },
    {
     "name": "stdout",
     "output_type": "stream",
     "text": [
      "0.8384046906935055\n"
     ]
    },
    {
     "data": {
      "application/javascript": [
       "\n",
       "            setTimeout(function() {\n",
       "                var nbb_cell_id = 74;\n",
       "                var nbb_unformatted_code = \"probs = model.predict_proba(X_test)[:, 1]\\nfpr, tpr, thresholds = roc_curve(y_test, probs)\\nfig = plt.figure(figsize=(6, 6))\\nplt.plot([0, 1], [0, 1], \\\"k--\\\")\\nplt.plot(fpr, tpr)\\nplt.xlabel(\\\"False Positive Rate\\\")\\nplt.ylabel(\\\"True Positive Rate\\\")\\nplt.title(\\\"ROC curve for Logistic Regression Model\\\")\\nplt.show()\\n\\nauc = roc_auc_score(y_test, probs)\\nprint(auc)\";\n",
       "                var nbb_formatted_code = \"probs = model.predict_proba(X_test)[:, 1]\\nfpr, tpr, thresholds = roc_curve(y_test, probs)\\nfig = plt.figure(figsize=(6, 6))\\nplt.plot([0, 1], [0, 1], \\\"k--\\\")\\nplt.plot(fpr, tpr)\\nplt.xlabel(\\\"False Positive Rate\\\")\\nplt.ylabel(\\\"True Positive Rate\\\")\\nplt.title(\\\"ROC curve for Logistic Regression Model\\\")\\nplt.show()\\n\\nauc = roc_auc_score(y_test, probs)\\nprint(auc)\";\n",
       "                var nbb_cells = Jupyter.notebook.get_cells();\n",
       "                for (var i = 0; i < nbb_cells.length; ++i) {\n",
       "                    if (nbb_cells[i].input_prompt_number == nbb_cell_id) {\n",
       "                        if (nbb_cells[i].get_text() == nbb_unformatted_code) {\n",
       "                             nbb_cells[i].set_text(nbb_formatted_code);\n",
       "                        }\n",
       "                        break;\n",
       "                    }\n",
       "                }\n",
       "            }, 500);\n",
       "            "
      ],
      "text/plain": [
       "<IPython.core.display.Javascript object>"
      ]
     },
     "metadata": {},
     "output_type": "display_data"
    },
    {
     "data": {
      "application/javascript": [
       "\n",
       "            setTimeout(function() {\n",
       "                var nbb_cell_id = 74;\n",
       "                var nbb_unformatted_code = \"probs = model.predict_proba(X_test)[:, 1]\\nfpr, tpr, thresholds = roc_curve(y_test, probs)\\nfig = plt.figure(figsize=(6, 6))\\nplt.plot([0, 1], [0, 1], \\\"k--\\\")\\nplt.plot(fpr, tpr)\\nplt.xlabel(\\\"False Positive Rate\\\")\\nplt.ylabel(\\\"True Positive Rate\\\")\\nplt.title(\\\"ROC curve for Logistic Regression Model\\\")\\nplt.show()\\n\\nauc = roc_auc_score(y_test, probs)\\nprint(auc)\";\n",
       "                var nbb_formatted_code = \"probs = model.predict_proba(X_test)[:, 1]\\nfpr, tpr, thresholds = roc_curve(y_test, probs)\\nfig = plt.figure(figsize=(6, 6))\\nplt.plot([0, 1], [0, 1], \\\"k--\\\")\\nplt.plot(fpr, tpr)\\nplt.xlabel(\\\"False Positive Rate\\\")\\nplt.ylabel(\\\"True Positive Rate\\\")\\nplt.title(\\\"ROC curve for Logistic Regression Model\\\")\\nplt.show()\\n\\nauc = roc_auc_score(y_test, probs)\\nprint(auc)\";\n",
       "                var nbb_cells = Jupyter.notebook.get_cells();\n",
       "                for (var i = 0; i < nbb_cells.length; ++i) {\n",
       "                    if (nbb_cells[i].input_prompt_number == nbb_cell_id) {\n",
       "                        if (nbb_cells[i].get_text() == nbb_unformatted_code) {\n",
       "                             nbb_cells[i].set_text(nbb_formatted_code);\n",
       "                        }\n",
       "                        break;\n",
       "                    }\n",
       "                }\n",
       "            }, 500);\n",
       "            "
      ],
      "text/plain": [
       "<IPython.core.display.Javascript object>"
      ]
     },
     "metadata": {},
     "output_type": "display_data"
    }
   ],
   "source": [
    "probs = model.predict_proba(X_test)[:, 1]\n",
    "fpr, tpr, thresholds = roc_curve(y_test, probs)\n",
    "fig = plt.figure(figsize=(6, 6))\n",
    "plt.plot([0, 1], [0, 1], \"k--\")\n",
    "plt.plot(fpr, tpr)\n",
    "plt.xlabel(\"False Positive Rate\")\n",
    "plt.ylabel(\"True Positive Rate\")\n",
    "plt.title(\"ROC curve for Logistic Regression Model\")\n",
    "plt.show()\n",
    "\n",
    "auc = roc_auc_score(y_test, probs)\n",
    "print(auc)"
   ]
  },
  {
   "cell_type": "markdown",
   "metadata": {},
   "source": [
    "11. Plot Precision-Recall Curve\n",
    "\n",
    "Plot the precision-recall curve for the model above.\n",
    "\n",
    "Find the best value for C in the Logistic Regression Classifier for avoiding overfitting. Plot the training and testing accuracy over a range of C values from 0.05 to 1.5."
   ]
  },
  {
   "cell_type": "code",
   "execution_count": 75,
   "metadata": {},
   "outputs": [
    {
     "data": {
      "image/png": "[encoded data removed]",
      "text/plain": [
       "<Figure size 432x432 with 1 Axes>"
      ]
     },
     "metadata": {
      "needs_background": "light"
     },
     "output_type": "display_data"
    },
    {
     "data": {
      "application/javascript": [
       "\n",
       "            setTimeout(function() {\n",
       "                var nbb_cell_id = 75;\n",
       "                var nbb_unformatted_code = \"pres, rec, thresholds = precision_recall_curve(y_test, predictions)\\nfig = plt.figure(figsize = (6, 6))\\nplt.plot(rec, pres)\\nplt.xlabel('Recall')\\nplt.ylabel('Precision')\\nplt.title('Precision-Recall Curve')\\nplt.show()\";\n",
       "                var nbb_formatted_code = \"pres, rec, thresholds = precision_recall_curve(y_test, predictions)\\nfig = plt.figure(figsize=(6, 6))\\nplt.plot(rec, pres)\\nplt.xlabel(\\\"Recall\\\")\\nplt.ylabel(\\\"Precision\\\")\\nplt.title(\\\"Precision-Recall Curve\\\")\\nplt.show()\";\n",
       "                var nbb_cells = Jupyter.notebook.get_cells();\n",
       "                for (var i = 0; i < nbb_cells.length; ++i) {\n",
       "                    if (nbb_cells[i].input_prompt_number == nbb_cell_id) {\n",
       "                        if (nbb_cells[i].get_text() == nbb_unformatted_code) {\n",
       "                             nbb_cells[i].set_text(nbb_formatted_code);\n",
       "                        }\n",
       "                        break;\n",
       "                    }\n",
       "                }\n",
       "            }, 500);\n",
       "            "
      ],
      "text/plain": [
       "<IPython.core.display.Javascript object>"
      ]
     },
     "metadata": {},
     "output_type": "display_data"
    },
    {
     "data": {
      "application/javascript": [
       "\n",
       "            setTimeout(function() {\n",
       "                var nbb_cell_id = 75;\n",
       "                var nbb_unformatted_code = \"pres, rec, thresholds = precision_recall_curve(y_test, predictions)\\nfig = plt.figure(figsize = (6, 6))\\nplt.plot(rec, pres)\\nplt.xlabel('Recall')\\nplt.ylabel('Precision')\\nplt.title('Precision-Recall Curve')\\nplt.show()\";\n",
       "                var nbb_formatted_code = \"pres, rec, thresholds = precision_recall_curve(y_test, predictions)\\nfig = plt.figure(figsize=(6, 6))\\nplt.plot(rec, pres)\\nplt.xlabel(\\\"Recall\\\")\\nplt.ylabel(\\\"Precision\\\")\\nplt.title(\\\"Precision-Recall Curve\\\")\\nplt.show()\";\n",
       "                var nbb_cells = Jupyter.notebook.get_cells();\n",
       "                for (var i = 0; i < nbb_cells.length; ++i) {\n",
       "                    if (nbb_cells[i].input_prompt_number == nbb_cell_id) {\n",
       "                        if (nbb_cells[i].get_text() == nbb_unformatted_code) {\n",
       "                             nbb_cells[i].set_text(nbb_formatted_code);\n",
       "                        }\n",
       "                        break;\n",
       "                    }\n",
       "                }\n",
       "            }, 500);\n",
       "            "
      ],
      "text/plain": [
       "<IPython.core.display.Javascript object>"
      ]
     },
     "metadata": {},
     "output_type": "display_data"
    }
   ],
   "source": [
    "pres, rec, thresholds = precision_recall_curve(y_test, predictions)\n",
    "fig = plt.figure(figsize=(6, 6))\n",
    "plt.plot(rec, pres)\n",
    "plt.xlabel(\"Recall\")\n",
    "plt.ylabel(\"Precision\")\n",
    "plt.title(\"Precision-Recall Curve\")\n",
    "plt.show()"
   ]
  },
  {
   "cell_type": "code",
   "execution_count": 79,
   "metadata": {
    "scrolled": true
   },
   "outputs": [
    {
     "data": {
      "image/png": "[encoded data removed]",
      "text/plain": [
       "<Figure size 576x288 with 1 Axes>"
      ]
     },
     "metadata": {
      "needs_background": "light"
     },
     "output_type": "display_data"
    },
    {
     "data": {
      "application/javascript": [
       "\n",
       "            setTimeout(function() {\n",
       "                var nbb_cell_id = 79;\n",
       "                var nbb_unformatted_code = \"c_vals = np.arange(0.05, 1.5, 0.05)\\ntest_acc = []\\ntrain_acc = []\\n\\nfor c in c_vals:\\n    model = LogisticRegression(solver=\\\"lbfgs\\\", C=c, max_iter=1000)\\n    model.fit(X_train, y_train)\\n    test_acc.append(model.score(X_test, y_test))\\n    train_acc.append(model.score(X_train, y_train))\\n\\nfig = plt.figure(figsize=(8, 4))\\nax1 = fig.add_subplot(1, 1, 1)\\nax1.plot(c_vals, test_acc, \\\"-g\\\", label=\\\"Test Accuracy\\\")\\nax1.plot(c_vals, train_acc, \\\"-b\\\", label=\\\"Train Accuracy\\\")\\nax1.set(xlabel=\\\"C\\\", ylabel=\\\"Accuracy\\\")\\nax1.set_title(\\\"Effect of C on Accuracy\\\")\\nax1.legend()\\nplt.show()\";\n",
       "                var nbb_formatted_code = \"c_vals = np.arange(0.05, 1.5, 0.05)\\ntest_acc = []\\ntrain_acc = []\\n\\nfor c in c_vals:\\n    model = LogisticRegression(solver=\\\"lbfgs\\\", C=c, max_iter=1000)\\n    model.fit(X_train, y_train)\\n    test_acc.append(model.score(X_test, y_test))\\n    train_acc.append(model.score(X_train, y_train))\\n\\nfig = plt.figure(figsize=(8, 4))\\nax1 = fig.add_subplot(1, 1, 1)\\nax1.plot(c_vals, test_acc, \\\"-g\\\", label=\\\"Test Accuracy\\\")\\nax1.plot(c_vals, train_acc, \\\"-b\\\", label=\\\"Train Accuracy\\\")\\nax1.set(xlabel=\\\"C\\\", ylabel=\\\"Accuracy\\\")\\nax1.set_title(\\\"Effect of C on Accuracy\\\")\\nax1.legend()\\nplt.show()\";\n",
       "                var nbb_cells = Jupyter.notebook.get_cells();\n",
       "                for (var i = 0; i < nbb_cells.length; ++i) {\n",
       "                    if (nbb_cells[i].input_prompt_number == nbb_cell_id) {\n",
       "                        if (nbb_cells[i].get_text() == nbb_unformatted_code) {\n",
       "                             nbb_cells[i].set_text(nbb_formatted_code);\n",
       "                        }\n",
       "                        break;\n",
       "                    }\n",
       "                }\n",
       "            }, 500);\n",
       "            "
      ],
      "text/plain": [
       "<IPython.core.display.Javascript object>"
      ]
     },
     "metadata": {},
     "output_type": "display_data"
    },
    {
     "data": {
      "application/javascript": [
       "\n",
       "            setTimeout(function() {\n",
       "                var nbb_cell_id = 79;\n",
       "                var nbb_unformatted_code = \"c_vals = np.arange(0.05, 1.5, 0.05)\\ntest_acc = []\\ntrain_acc = []\\n\\nfor c in c_vals:\\n    model = LogisticRegression(solver=\\\"lbfgs\\\", C=c, max_iter=1000)\\n    model.fit(X_train, y_train)\\n    test_acc.append(model.score(X_test, y_test))\\n    train_acc.append(model.score(X_train, y_train))\\n\\nfig = plt.figure(figsize=(8, 4))\\nax1 = fig.add_subplot(1, 1, 1)\\nax1.plot(c_vals, test_acc, \\\"-g\\\", label=\\\"Test Accuracy\\\")\\nax1.plot(c_vals, train_acc, \\\"-b\\\", label=\\\"Train Accuracy\\\")\\nax1.set(xlabel=\\\"C\\\", ylabel=\\\"Accuracy\\\")\\nax1.set_title(\\\"Effect of C on Accuracy\\\")\\nax1.legend()\\nplt.show()\";\n",
       "                var nbb_formatted_code = \"c_vals = np.arange(0.05, 1.5, 0.05)\\ntest_acc = []\\ntrain_acc = []\\n\\nfor c in c_vals:\\n    model = LogisticRegression(solver=\\\"lbfgs\\\", C=c, max_iter=1000)\\n    model.fit(X_train, y_train)\\n    test_acc.append(model.score(X_test, y_test))\\n    train_acc.append(model.score(X_train, y_train))\\n\\nfig = plt.figure(figsize=(8, 4))\\nax1 = fig.add_subplot(1, 1, 1)\\nax1.plot(c_vals, test_acc, \\\"-g\\\", label=\\\"Test Accuracy\\\")\\nax1.plot(c_vals, train_acc, \\\"-b\\\", label=\\\"Train Accuracy\\\")\\nax1.set(xlabel=\\\"C\\\", ylabel=\\\"Accuracy\\\")\\nax1.set_title(\\\"Effect of C on Accuracy\\\")\\nax1.legend()\\nplt.show()\";\n",
       "                var nbb_cells = Jupyter.notebook.get_cells();\n",
       "                for (var i = 0; i < nbb_cells.length; ++i) {\n",
       "                    if (nbb_cells[i].input_prompt_number == nbb_cell_id) {\n",
       "                        if (nbb_cells[i].get_text() == nbb_unformatted_code) {\n",
       "                             nbb_cells[i].set_text(nbb_formatted_code);\n",
       "                        }\n",
       "                        break;\n",
       "                    }\n",
       "                }\n",
       "            }, 500);\n",
       "            "
      ],
      "text/plain": [
       "<IPython.core.display.Javascript object>"
      ]
     },
     "metadata": {},
     "output_type": "display_data"
    }
   ],
   "source": [
    "c_vals = np.arange(0.05, 1.5, 0.05)\n",
    "test_acc = []\n",
    "train_acc = []\n",
    "\n",
    "for c in c_vals:\n",
    "    model = LogisticRegression(solver=\"lbfgs\", C=c, max_iter=1000)\n",
    "    model.fit(X_train, y_train)\n",
    "    test_acc.append(model.score(X_test, y_test))\n",
    "    train_acc.append(model.score(X_train, y_train))\n",
    "\n",
    "fig = plt.figure(figsize=(8, 4))\n",
    "ax1 = fig.add_subplot(1, 1, 1)\n",
    "ax1.plot(c_vals, test_acc, \"-g\", label=\"Test Accuracy\")\n",
    "ax1.plot(c_vals, train_acc, \"-b\", label=\"Train Accuracy\")\n",
    "ax1.set(xlabel=\"C\", ylabel=\"Accuracy\")\n",
    "ax1.set_title(\"Effect of C on Accuracy\")\n",
    "ax1.legend()\n",
    "plt.show()"
   ]
  },
  {
   "cell_type": "markdown",
   "metadata": {},
   "source": [
    "12. Cross Validation\n",
    "\n",
    "Perform 5-fold cross validation for a Logistic Regression Classifier. Print the 5 accuracy scores and the mean validation score."
   ]
  },
  {
   "cell_type": "code",
   "execution_count": 80,
   "metadata": {},
   "outputs": [
    {
     "name": "stdout",
     "output_type": "stream",
     "text": [
      "Accuracy scores for the 5 folds:  [0.82068966 0.82666667 0.82666667 0.81563218 0.82758621]\n",
      "Mean cross validatiion score: 0.823\n"
     ]
    },
    {
     "data": {
      "application/javascript": [
       "\n",
       "            setTimeout(function() {\n",
       "                var nbb_cell_id = 80;\n",
       "                var nbb_unformatted_code = \"clf = LogisticRegression(solver='lbfgs',max_iter = 1000)\\ncv_scores = cross_val_score(clf, X_train, y_train, cv = 5)\\n\\nprint('Accuracy scores for the 5 folds: ', cv_scores)\\nprint('Mean cross validatiion score: {:.3f}'.format(np.mean(cv_scores)))\";\n",
       "                var nbb_formatted_code = \"clf = LogisticRegression(solver=\\\"lbfgs\\\", max_iter=1000)\\ncv_scores = cross_val_score(clf, X_train, y_train, cv=5)\\n\\nprint(\\\"Accuracy scores for the 5 folds: \\\", cv_scores)\\nprint(\\\"Mean cross validatiion score: {:.3f}\\\".format(np.mean(cv_scores)))\";\n",
       "                var nbb_cells = Jupyter.notebook.get_cells();\n",
       "                for (var i = 0; i < nbb_cells.length; ++i) {\n",
       "                    if (nbb_cells[i].input_prompt_number == nbb_cell_id) {\n",
       "                        if (nbb_cells[i].get_text() == nbb_unformatted_code) {\n",
       "                             nbb_cells[i].set_text(nbb_formatted_code);\n",
       "                        }\n",
       "                        break;\n",
       "                    }\n",
       "                }\n",
       "            }, 500);\n",
       "            "
      ],
      "text/plain": [
       "<IPython.core.display.Javascript object>"
      ]
     },
     "metadata": {},
     "output_type": "display_data"
    },
    {
     "data": {
      "application/javascript": [
       "\n",
       "            setTimeout(function() {\n",
       "                var nbb_cell_id = 80;\n",
       "                var nbb_unformatted_code = \"clf = LogisticRegression(solver='lbfgs',max_iter = 1000)\\ncv_scores = cross_val_score(clf, X_train, y_train, cv = 5)\\n\\nprint('Accuracy scores for the 5 folds: ', cv_scores)\\nprint('Mean cross validatiion score: {:.3f}'.format(np.mean(cv_scores)))\";\n",
       "                var nbb_formatted_code = \"clf = LogisticRegression(solver=\\\"lbfgs\\\", max_iter=1000)\\ncv_scores = cross_val_score(clf, X_train, y_train, cv=5)\\n\\nprint(\\\"Accuracy scores for the 5 folds: \\\", cv_scores)\\nprint(\\\"Mean cross validatiion score: {:.3f}\\\".format(np.mean(cv_scores)))\";\n",
       "                var nbb_cells = Jupyter.notebook.get_cells();\n",
       "                for (var i = 0; i < nbb_cells.length; ++i) {\n",
       "                    if (nbb_cells[i].input_prompt_number == nbb_cell_id) {\n",
       "                        if (nbb_cells[i].get_text() == nbb_unformatted_code) {\n",
       "                             nbb_cells[i].set_text(nbb_formatted_code);\n",
       "                        }\n",
       "                        break;\n",
       "                    }\n",
       "                }\n",
       "            }, 500);\n",
       "            "
      ],
      "text/plain": [
       "<IPython.core.display.Javascript object>"
      ]
     },
     "metadata": {},
     "output_type": "display_data"
    }
   ],
   "source": [
    "clf = LogisticRegression(solver=\"lbfgs\", max_iter=1000)\n",
    "cv_scores = cross_val_score(clf, X_train, y_train, cv=5)\n",
    "\n",
    "print(\"Accuracy scores for the 5 folds: \", cv_scores)\n",
    "print(\"Mean cross validatiion score: {:.3f}\".format(np.mean(cv_scores)))"
   ]
  },
  {
   "cell_type": "markdown",
   "metadata": {},
   "source": [
    "13. Is this really linear?\n",
    "\n",
    "Our linear classifier is not giving us accuracy better than the dummy classifier. Suppose that the data was not linearly separable? Instantiate and train a KNN model with k = 7. How does the accuracy of the KNN model compare to the Logistic Regression from above? What does that tell you about the data?"
   ]
  },
  {
   "cell_type": "code",
   "execution_count": 82,
   "metadata": {},
   "outputs": [
    {
     "name": "stdout",
     "output_type": "stream",
     "text": [
      "0.9975172413793103\n"
     ]
    },
    {
     "data": {
      "application/javascript": [
       "\n",
       "            setTimeout(function() {\n",
       "                var nbb_cell_id = 82;\n",
       "                var nbb_unformatted_code = \"knn = KNeighborsClassifier(n_neighbors = 7)\\nknn.fit(X_train,y_train)\\nknn_7_score = knn.score(X_test, y_test)\\n\\nprint(knn_7_score)\";\n",
       "                var nbb_formatted_code = \"knn = KNeighborsClassifier(n_neighbors=7)\\nknn.fit(X_train, y_train)\\nknn_7_score = knn.score(X_test, y_test)\\n\\nprint(knn_7_score)\";\n",
       "                var nbb_cells = Jupyter.notebook.get_cells();\n",
       "                for (var i = 0; i < nbb_cells.length; ++i) {\n",
       "                    if (nbb_cells[i].input_prompt_number == nbb_cell_id) {\n",
       "                        if (nbb_cells[i].get_text() == nbb_unformatted_code) {\n",
       "                             nbb_cells[i].set_text(nbb_formatted_code);\n",
       "                        }\n",
       "                        break;\n",
       "                    }\n",
       "                }\n",
       "            }, 500);\n",
       "            "
      ],
      "text/plain": [
       "<IPython.core.display.Javascript object>"
      ]
     },
     "metadata": {},
     "output_type": "display_data"
    },
    {
     "data": {
      "application/javascript": [
       "\n",
       "            setTimeout(function() {\n",
       "                var nbb_cell_id = 82;\n",
       "                var nbb_unformatted_code = \"knn = KNeighborsClassifier(n_neighbors = 7)\\nknn.fit(X_train,y_train)\\nknn_7_score = knn.score(X_test, y_test)\\n\\nprint(knn_7_score)\";\n",
       "                var nbb_formatted_code = \"knn = KNeighborsClassifier(n_neighbors=7)\\nknn.fit(X_train, y_train)\\nknn_7_score = knn.score(X_test, y_test)\\n\\nprint(knn_7_score)\";\n",
       "                var nbb_cells = Jupyter.notebook.get_cells();\n",
       "                for (var i = 0; i < nbb_cells.length; ++i) {\n",
       "                    if (nbb_cells[i].input_prompt_number == nbb_cell_id) {\n",
       "                        if (nbb_cells[i].get_text() == nbb_unformatted_code) {\n",
       "                             nbb_cells[i].set_text(nbb_formatted_code);\n",
       "                        }\n",
       "                        break;\n",
       "                    }\n",
       "                }\n",
       "            }, 500);\n",
       "            "
      ],
      "text/plain": [
       "<IPython.core.display.Javascript object>"
      ]
     },
     "metadata": {},
     "output_type": "display_data"
    }
   ],
   "source": [
    "knn = KNeighborsClassifier(n_neighbors=7)\n",
    "knn.fit(X_train, y_train)\n",
    "knn_7_score = knn.score(X_test, y_test)\n",
    "\n",
    "print(knn_7_score)"
   ]
  },
  {
   "cell_type": "markdown",
   "metadata": {},
   "source": [
    "14. Random Forest\n",
    "\n",
    "Next, instantiate and fit a RandomForestClassifier and calculate the accuracy of that model."
   ]
  },
  {
   "cell_type": "code",
   "execution_count": 83,
   "metadata": {},
   "outputs": [
    {
     "name": "stdout",
     "output_type": "stream",
     "text": [
      "1.0\n"
     ]
    },
    {
     "data": {
      "application/javascript": [
       "\n",
       "            setTimeout(function() {\n",
       "                var nbb_cell_id = 83;\n",
       "                var nbb_unformatted_code = \"rf = RandomForestClassifier(n_estimators = 50, random_state = 50)\\nrf.fit(X_train,y_train)\\nrf_score = rf.score(X_test, y_test)\\nprint(rf_score)\";\n",
       "                var nbb_formatted_code = \"rf = RandomForestClassifier(n_estimators=50, random_state=50)\\nrf.fit(X_train, y_train)\\nrf_score = rf.score(X_test, y_test)\\nprint(rf_score)\";\n",
       "                var nbb_cells = Jupyter.notebook.get_cells();\n",
       "                for (var i = 0; i < nbb_cells.length; ++i) {\n",
       "                    if (nbb_cells[i].input_prompt_number == nbb_cell_id) {\n",
       "                        if (nbb_cells[i].get_text() == nbb_unformatted_code) {\n",
       "                             nbb_cells[i].set_text(nbb_formatted_code);\n",
       "                        }\n",
       "                        break;\n",
       "                    }\n",
       "                }\n",
       "            }, 500);\n",
       "            "
      ],
      "text/plain": [
       "<IPython.core.display.Javascript object>"
      ]
     },
     "metadata": {},
     "output_type": "display_data"
    },
    {
     "data": {
      "application/javascript": [
       "\n",
       "            setTimeout(function() {\n",
       "                var nbb_cell_id = 83;\n",
       "                var nbb_unformatted_code = \"rf = RandomForestClassifier(n_estimators = 50, random_state = 50)\\nrf.fit(X_train,y_train)\\nrf_score = rf.score(X_test, y_test)\\nprint(rf_score)\";\n",
       "                var nbb_formatted_code = \"rf = RandomForestClassifier(n_estimators=50, random_state=50)\\nrf.fit(X_train, y_train)\\nrf_score = rf.score(X_test, y_test)\\nprint(rf_score)\";\n",
       "                var nbb_cells = Jupyter.notebook.get_cells();\n",
       "                for (var i = 0; i < nbb_cells.length; ++i) {\n",
       "                    if (nbb_cells[i].input_prompt_number == nbb_cell_id) {\n",
       "                        if (nbb_cells[i].get_text() == nbb_unformatted_code) {\n",
       "                             nbb_cells[i].set_text(nbb_formatted_code);\n",
       "                        }\n",
       "                        break;\n",
       "                    }\n",
       "                }\n",
       "            }, 500);\n",
       "            "
      ],
      "text/plain": [
       "<IPython.core.display.Javascript object>"
      ]
     },
     "metadata": {},
     "output_type": "display_data"
    }
   ],
   "source": [
    "rf = RandomForestClassifier(n_estimators=50, random_state=50)\n",
    "rf.fit(X_train, y_train)\n",
    "rf_score = rf.score(X_test, y_test)\n",
    "print(rf_score)"
   ]
  }
 ],
 "metadata": {
  "kernelspec": {
   "display_name": "Python 3",
   "language": "python",
   "name": "python3"
  },
  "language_info": {
   "codemirror_mode": {
    "name": "ipython",
    "version": 3
   },
   "file_extension": ".py",
   "mimetype": "text/x-python",
   "name": "python",
   "nbconvert_exporter": "python",
   "pygments_lexer": "ipython3",
   "version": "3.7.6"
  }
 },
 "nbformat": 4,
 "nbformat_minor": 4
}
