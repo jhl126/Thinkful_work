{
 "cells": [
  {
   "cell_type": "code",
   "execution_count": 1,
   "metadata": {},
   "outputs": [
    {
     "name": "stdout",
     "output_type": "stream",
     "text": [
      "Requirement already satisfied: dask-ml in c:\\users\\jlim7\\anaconda3\\lib\\site-packages (1.7.0)\n",
      "Requirement already satisfied: scipy in c:\\users\\jlim7\\anaconda3\\lib\\site-packages (from dask-ml) (1.4.1)\n",
      "Requirement already satisfied: packaging in c:\\users\\jlim7\\anaconda3\\lib\\site-packages (from dask-ml) (20.1)\n",
      "Requirement already satisfied: dask-glm>=0.2.0 in c:\\users\\jlim7\\anaconda3\\lib\\site-packages (from dask-ml) (0.2.0)\n",
      "Requirement already satisfied: multipledispatch>=0.4.9 in c:\\users\\jlim7\\anaconda3\\lib\\site-packages (from dask-ml) (0.6.0)\n",
      "Requirement already satisfied: pandas>=0.24.2 in c:\\users\\jlim7\\anaconda3\\lib\\site-packages (from dask-ml) (1.1.3)\n",
      "Requirement already satisfied: distributed>=2.4.0 in c:\\users\\jlim7\\anaconda3\\lib\\site-packages (from dask-ml) (2.11.0)\n",
      "Requirement already satisfied: dask[array,dataframe]>=2.4.0 in c:\\users\\jlim7\\anaconda3\\lib\\site-packages (from dask-ml) (2.30.0)\n",
      "Requirement already satisfied: scikit-learn>=0.23 in c:\\users\\jlim7\\anaconda3\\lib\\site-packages (from dask-ml) (0.23.2)\n",
      "Requirement already satisfied: numba in c:\\users\\jlim7\\anaconda3\\lib\\site-packages (from dask-ml) (0.48.0)\n",
      "Requirement already satisfied: numpy>=1.17.3 in c:\\users\\jlim7\\anaconda3\\lib\\site-packages (from dask-ml) (1.18.1)\n",
      "Requirement already satisfied: pyparsing>=2.0.2 in c:\\users\\jlim7\\anaconda3\\lib\\site-packages (from packaging->dask-ml) (2.4.6)\n",
      "Requirement already satisfied: six in c:\\users\\jlim7\\anaconda3\\lib\\site-packages (from packaging->dask-ml) (1.14.0)\n",
      "Requirement already satisfied: cloudpickle>=0.2.2 in c:\\users\\jlim7\\anaconda3\\lib\\site-packages (from dask-glm>=0.2.0->dask-ml) (1.3.0)\n",
      "Requirement already satisfied: pytz>=2017.2 in c:\\users\\jlim7\\anaconda3\\lib\\site-packages (from pandas>=0.24.2->dask-ml) (2019.3)\n",
      "Requirement already satisfied: python-dateutil>=2.7.3 in c:\\users\\jlim7\\anaconda3\\lib\\site-packages (from pandas>=0.24.2->dask-ml) (2.8.1)\n",
      "Requirement already satisfied: click>=6.6 in c:\\users\\jlim7\\anaconda3\\lib\\site-packages (from distributed>=2.4.0->dask-ml) (7.0)\n",
      "Requirement already satisfied: sortedcontainers!=2.0.0,!=2.0.1 in c:\\users\\jlim7\\anaconda3\\lib\\site-packages (from distributed>=2.4.0->dask-ml) (2.1.0)\n",
      "Requirement already satisfied: psutil>=5.0 in c:\\users\\jlim7\\anaconda3\\lib\\site-packages (from distributed>=2.4.0->dask-ml) (5.6.7)\n",
      "Requirement already satisfied: toolz>=0.7.4 in c:\\users\\jlim7\\anaconda3\\lib\\site-packages (from distributed>=2.4.0->dask-ml) (0.10.0)\n",
      "Requirement already satisfied: setuptools in c:\\users\\jlim7\\anaconda3\\lib\\site-packages (from distributed>=2.4.0->dask-ml) (45.2.0.post20200210)\n",
      "Requirement already satisfied: msgpack>=0.6.0 in c:\\users\\jlim7\\anaconda3\\lib\\site-packages (from distributed>=2.4.0->dask-ml) (0.6.1)\n",
      "Requirement already satisfied: tblib>=1.6.0 in c:\\users\\jlim7\\anaconda3\\lib\\site-packages (from distributed>=2.4.0->dask-ml) (1.6.0)\n",
      "Requirement already satisfied: pyyaml in c:\\users\\jlim7\\anaconda3\\lib\\site-packages (from distributed>=2.4.0->dask-ml) (5.3)\n",
      "Requirement already satisfied: tornado>=5; python_version < \"3.8\" in c:\\users\\jlim7\\anaconda3\\lib\\site-packages (from distributed>=2.4.0->dask-ml) (6.0.3)\n",
      "Requirement already satisfied: zict>=0.1.3 in c:\\users\\jlim7\\anaconda3\\lib\\site-packages (from distributed>=2.4.0->dask-ml) (1.0.0)\n",
      "Requirement already satisfied: partd>=0.3.10; extra == \"dataframe\" in c:\\users\\jlim7\\anaconda3\\lib\\site-packages (from dask[array,dataframe]>=2.4.0->dask-ml) (1.1.0)\n",
      "Requirement already satisfied: fsspec>=0.6.0; extra == \"dataframe\" in c:\\users\\jlim7\\anaconda3\\lib\\site-packages (from dask[array,dataframe]>=2.4.0->dask-ml) (0.6.2)\n",
      "Requirement already satisfied: threadpoolctl>=2.0.0 in c:\\users\\jlim7\\anaconda3\\lib\\site-packages (from scikit-learn>=0.23->dask-ml) (2.1.0)\n",
      "Requirement already satisfied: joblib>=0.11 in c:\\users\\jlim7\\anaconda3\\lib\\site-packages (from scikit-learn>=0.23->dask-ml) (0.14.1)\n",
      "Requirement already satisfied: llvmlite<0.32.0,>=0.31.0dev0 in c:\\users\\jlim7\\anaconda3\\lib\\site-packages (from numba->dask-ml) (0.31.0)\n",
      "Requirement already satisfied: heapdict in c:\\users\\jlim7\\anaconda3\\lib\\site-packages (from zict>=0.1.3->distributed>=2.4.0->dask-ml) (1.0.1)\n",
      "Requirement already satisfied: locket in c:\\users\\jlim7\\anaconda3\\lib\\site-packages (from partd>=0.3.10; extra == \"dataframe\"->dask[array,dataframe]>=2.4.0->dask-ml) (0.2.0)\n"
     ]
    }
   ],
   "source": [
    "!pip install dask-ml"
   ]
  },
  {
   "cell_type": "code",
   "execution_count": 2,
   "metadata": {},
   "outputs": [
    {
     "name": "stdout",
     "output_type": "stream",
     "text": [
      "Requirement already satisfied: aiohttp in c:\\users\\jlim7\\anaconda3\\lib\\site-packages (3.7.2)\n",
      "Requirement already satisfied: typing-extensions>=3.6.5 in c:\\users\\jlim7\\anaconda3\\lib\\site-packages (from aiohttp) (3.7.4.3)\n",
      "Requirement already satisfied: yarl<2.0,>=1.0 in c:\\users\\jlim7\\anaconda3\\lib\\site-packages (from aiohttp) (1.6.3)\n",
      "Requirement already satisfied: multidict<7.0,>=4.5 in c:\\users\\jlim7\\anaconda3\\lib\\site-packages (from aiohttp) (5.0.2)\n",
      "Requirement already satisfied: attrs>=17.3.0 in c:\\users\\jlim7\\anaconda3\\lib\\site-packages (from aiohttp) (19.3.0)\n",
      "Requirement already satisfied: async-timeout<4.0,>=3.0 in c:\\users\\jlim7\\anaconda3\\lib\\site-packages (from aiohttp) (3.0.1)\n",
      "Requirement already satisfied: chardet<4.0,>=2.0 in c:\\users\\jlim7\\anaconda3\\lib\\site-packages (from aiohttp) (3.0.4)\n",
      "Requirement already satisfied: idna>=2.0 in c:\\users\\jlim7\\anaconda3\\lib\\site-packages (from yarl<2.0,>=1.0->aiohttp) (2.8)\n"
     ]
    }
   ],
   "source": [
    "!pip install aiohttp"
   ]
  },
  {
   "cell_type": "code",
   "execution_count": 3,
   "metadata": {},
   "outputs": [
    {
     "data": {
      "application/javascript": [
       "\n",
       "            setTimeout(function() {\n",
       "                var nbb_cell_id = 3;\n",
       "                var nbb_unformatted_code = \"%reload_ext nb_black\";\n",
       "                var nbb_formatted_code = \"%reload_ext nb_black\";\n",
       "                var nbb_cells = Jupyter.notebook.get_cells();\n",
       "                for (var i = 0; i < nbb_cells.length; ++i) {\n",
       "                    if (nbb_cells[i].input_prompt_number == nbb_cell_id) {\n",
       "                        if (nbb_cells[i].get_text() == nbb_unformatted_code) {\n",
       "                             nbb_cells[i].set_text(nbb_formatted_code);\n",
       "                        }\n",
       "                        break;\n",
       "                    }\n",
       "                }\n",
       "            }, 500);\n",
       "            "
      ],
      "text/plain": [
       "<IPython.core.display.Javascript object>"
      ]
     },
     "metadata": {},
     "output_type": "display_data"
    }
   ],
   "source": [
    "%reload_ext nb_black"
   ]
  },
  {
   "cell_type": "code",
   "execution_count": 4,
   "metadata": {},
   "outputs": [
    {
     "data": {
      "application/javascript": [
       "\n",
       "            setTimeout(function() {\n",
       "                var nbb_cell_id = 4;\n",
       "                var nbb_unformatted_code = \"import dask.dataframe as dd\\nfrom dask_ml.model_selection import train_test_split\\nfrom dask.distributed import Client, progress\\n\\nfrom sklearn.ensemble import RandomForestClassifier\\nfrom sklearn.neighbors import KNeighborsClassifier\\nfrom sklearn.svm import SVC\\n\\nfrom sklearn.model_selection import cross_validate, GridSearchCV\\nfrom sklearn.metrics import roc_auc_score\\nimport joblib\\n\\nimport warnings\\n\\nwarnings.filterwarnings(\\\"ignore\\\")\";\n",
       "                var nbb_formatted_code = \"import dask.dataframe as dd\\nfrom dask_ml.model_selection import train_test_split\\nfrom dask.distributed import Client, progress\\n\\nfrom sklearn.ensemble import RandomForestClassifier\\nfrom sklearn.neighbors import KNeighborsClassifier\\nfrom sklearn.svm import SVC\\n\\nfrom sklearn.model_selection import cross_validate, GridSearchCV\\nfrom sklearn.metrics import roc_auc_score\\nimport joblib\\n\\nimport warnings\\n\\nwarnings.filterwarnings(\\\"ignore\\\")\";\n",
       "                var nbb_cells = Jupyter.notebook.get_cells();\n",
       "                for (var i = 0; i < nbb_cells.length; ++i) {\n",
       "                    if (nbb_cells[i].input_prompt_number == nbb_cell_id) {\n",
       "                        if (nbb_cells[i].get_text() == nbb_unformatted_code) {\n",
       "                             nbb_cells[i].set_text(nbb_formatted_code);\n",
       "                        }\n",
       "                        break;\n",
       "                    }\n",
       "                }\n",
       "            }, 500);\n",
       "            "
      ],
      "text/plain": [
       "<IPython.core.display.Javascript object>"
      ]
     },
     "metadata": {},
     "output_type": "display_data"
    }
   ],
   "source": [
    "import dask.dataframe as dd\n",
    "from dask_ml.model_selection import train_test_split\n",
    "from dask.distributed import Client, progress\n",
    "\n",
    "from sklearn.ensemble import RandomForestClassifier\n",
    "from sklearn.neighbors import KNeighborsClassifier\n",
    "from sklearn.svm import SVC\n",
    "\n",
    "from sklearn.model_selection import cross_validate, GridSearchCV\n",
    "from sklearn.metrics import roc_auc_score\n",
    "import joblib\n",
    "\n",
    "import warnings\n",
    "\n",
    "warnings.filterwarnings(\"ignore\")"
   ]
  },
  {
   "cell_type": "code",
   "execution_count": 5,
   "metadata": {},
   "outputs": [
    {
     "data": {
      "text/html": [
       "<table style=\"border: 2px solid white;\">\n",
       "<tr>\n",
       "<td style=\"vertical-align: top; border: 0px solid white\">\n",
       "<h3 style=\"text-align: left;\">Client</h3>\n",
       "<ul style=\"text-align: left; list-style: none; margin: 0; padding: 0;\">\n",
       "  <li><b>Scheduler: </b>tcp://127.0.0.1:52947</li>\n",
       "  <li><b>Dashboard: </b><a href='http://127.0.0.1:8787/status' target='_blank'>http://127.0.0.1:8787/status</a>\n",
       "</ul>\n",
       "</td>\n",
       "<td style=\"vertical-align: top; border: 0px solid white\">\n",
       "<h3 style=\"text-align: left;\">Cluster</h3>\n",
       "<ul style=\"text-align: left; list-style:none; margin: 0; padding: 0;\">\n",
       "  <li><b>Workers: </b>4</li>\n",
       "  <li><b>Cores: </b>8</li>\n",
       "  <li><b>Memory: </b>8.00 GB</li>\n",
       "</ul>\n",
       "</td>\n",
       "</tr>\n",
       "</table>"
      ],
      "text/plain": [
       "<Client: 'tcp://127.0.0.1:52947' processes=4 threads=8, memory=8.00 GB>"
      ]
     },
     "execution_count": 5,
     "metadata": {},
     "output_type": "execute_result"
    },
    {
     "data": {
      "application/javascript": [
       "\n",
       "            setTimeout(function() {\n",
       "                var nbb_cell_id = 5;\n",
       "                var nbb_unformatted_code = \"client = Client(n_workers=4, threads_per_worker=2, memory_limit=\\\"2GB\\\")\\nclient\";\n",
       "                var nbb_formatted_code = \"client = Client(n_workers=4, threads_per_worker=2, memory_limit=\\\"2GB\\\")\\nclient\";\n",
       "                var nbb_cells = Jupyter.notebook.get_cells();\n",
       "                for (var i = 0; i < nbb_cells.length; ++i) {\n",
       "                    if (nbb_cells[i].input_prompt_number == nbb_cell_id) {\n",
       "                        if (nbb_cells[i].get_text() == nbb_unformatted_code) {\n",
       "                             nbb_cells[i].set_text(nbb_formatted_code);\n",
       "                        }\n",
       "                        break;\n",
       "                    }\n",
       "                }\n",
       "            }, 500);\n",
       "            "
      ],
      "text/plain": [
       "<IPython.core.display.Javascript object>"
      ]
     },
     "metadata": {},
     "output_type": "display_data"
    }
   ],
   "source": [
    "client = Client(n_workers=4, threads_per_worker=2, memory_limit=\"2GB\")\n",
    "client"
   ]
  },
  {
   "cell_type": "code",
   "execution_count": 6,
   "metadata": {},
   "outputs": [
    {
     "data": {
      "application/javascript": [
       "\n",
       "            setTimeout(function() {\n",
       "                var nbb_cell_id = 6;\n",
       "                var nbb_unformatted_code = \"df = dd.read_csv(\\n    \\\"https://tf-assets-prod.s3.amazonaws.com/tf-curric/data-science/creditcard.csv\\\",\\n    dtype={\\\"Time\\\": \\\"float64\\\"},\\n)\";\n",
       "                var nbb_formatted_code = \"df = dd.read_csv(\\n    \\\"https://tf-assets-prod.s3.amazonaws.com/tf-curric/data-science/creditcard.csv\\\",\\n    dtype={\\\"Time\\\": \\\"float64\\\"},\\n)\";\n",
       "                var nbb_cells = Jupyter.notebook.get_cells();\n",
       "                for (var i = 0; i < nbb_cells.length; ++i) {\n",
       "                    if (nbb_cells[i].input_prompt_number == nbb_cell_id) {\n",
       "                        if (nbb_cells[i].get_text() == nbb_unformatted_code) {\n",
       "                             nbb_cells[i].set_text(nbb_formatted_code);\n",
       "                        }\n",
       "                        break;\n",
       "                    }\n",
       "                }\n",
       "            }, 500);\n",
       "            "
      ],
      "text/plain": [
       "<IPython.core.display.Javascript object>"
      ]
     },
     "metadata": {},
     "output_type": "display_data"
    }
   ],
   "source": [
    "df = dd.read_csv(\n",
    "    \"https://tf-assets-prod.s3.amazonaws.com/tf-curric/data-science/creditcard.csv\",\n",
    "    dtype={\"Time\": \"float64\"},\n",
    ")"
   ]
  },
  {
   "cell_type": "code",
   "execution_count": 7,
   "metadata": {},
   "outputs": [
    {
     "data": {
      "text/html": [
       "<div>\n",
       "<style scoped>\n",
       "    .dataframe tbody tr th:only-of-type {\n",
       "        vertical-align: middle;\n",
       "    }\n",
       "\n",
       "    .dataframe tbody tr th {\n",
       "        vertical-align: top;\n",
       "    }\n",
       "\n",
       "    .dataframe thead th {\n",
       "        text-align: right;\n",
       "    }\n",
       "</style>\n",
       "<table border=\"1\" class=\"dataframe\">\n",
       "  <thead>\n",
       "    <tr style=\"text-align: right;\">\n",
       "      <th></th>\n",
       "      <th>Time</th>\n",
       "      <th>V1</th>\n",
       "      <th>V2</th>\n",
       "      <th>V3</th>\n",
       "      <th>V4</th>\n",
       "      <th>V5</th>\n",
       "      <th>V6</th>\n",
       "      <th>V7</th>\n",
       "      <th>V8</th>\n",
       "      <th>V9</th>\n",
       "      <th>...</th>\n",
       "      <th>V21</th>\n",
       "      <th>V22</th>\n",
       "      <th>V23</th>\n",
       "      <th>V24</th>\n",
       "      <th>V25</th>\n",
       "      <th>V26</th>\n",
       "      <th>V27</th>\n",
       "      <th>V28</th>\n",
       "      <th>Amount</th>\n",
       "      <th>Class</th>\n",
       "    </tr>\n",
       "  </thead>\n",
       "  <tbody>\n",
       "    <tr>\n",
       "      <th>0</th>\n",
       "      <td>0.0</td>\n",
       "      <td>-1.359807</td>\n",
       "      <td>-0.072781</td>\n",
       "      <td>2.536347</td>\n",
       "      <td>1.378155</td>\n",
       "      <td>-0.338321</td>\n",
       "      <td>0.462388</td>\n",
       "      <td>0.239599</td>\n",
       "      <td>0.098698</td>\n",
       "      <td>0.363787</td>\n",
       "      <td>...</td>\n",
       "      <td>-0.018307</td>\n",
       "      <td>0.277838</td>\n",
       "      <td>-0.110474</td>\n",
       "      <td>0.066928</td>\n",
       "      <td>0.128539</td>\n",
       "      <td>-0.189115</td>\n",
       "      <td>0.133558</td>\n",
       "      <td>-0.021053</td>\n",
       "      <td>149.62</td>\n",
       "      <td>0</td>\n",
       "    </tr>\n",
       "    <tr>\n",
       "      <th>1</th>\n",
       "      <td>0.0</td>\n",
       "      <td>1.191857</td>\n",
       "      <td>0.266151</td>\n",
       "      <td>0.166480</td>\n",
       "      <td>0.448154</td>\n",
       "      <td>0.060018</td>\n",
       "      <td>-0.082361</td>\n",
       "      <td>-0.078803</td>\n",
       "      <td>0.085102</td>\n",
       "      <td>-0.255425</td>\n",
       "      <td>...</td>\n",
       "      <td>-0.225775</td>\n",
       "      <td>-0.638672</td>\n",
       "      <td>0.101288</td>\n",
       "      <td>-0.339846</td>\n",
       "      <td>0.167170</td>\n",
       "      <td>0.125895</td>\n",
       "      <td>-0.008983</td>\n",
       "      <td>0.014724</td>\n",
       "      <td>2.69</td>\n",
       "      <td>0</td>\n",
       "    </tr>\n",
       "    <tr>\n",
       "      <th>2</th>\n",
       "      <td>1.0</td>\n",
       "      <td>-1.358354</td>\n",
       "      <td>-1.340163</td>\n",
       "      <td>1.773209</td>\n",
       "      <td>0.379780</td>\n",
       "      <td>-0.503198</td>\n",
       "      <td>1.800499</td>\n",
       "      <td>0.791461</td>\n",
       "      <td>0.247676</td>\n",
       "      <td>-1.514654</td>\n",
       "      <td>...</td>\n",
       "      <td>0.247998</td>\n",
       "      <td>0.771679</td>\n",
       "      <td>0.909412</td>\n",
       "      <td>-0.689281</td>\n",
       "      <td>-0.327642</td>\n",
       "      <td>-0.139097</td>\n",
       "      <td>-0.055353</td>\n",
       "      <td>-0.059752</td>\n",
       "      <td>378.66</td>\n",
       "      <td>0</td>\n",
       "    </tr>\n",
       "    <tr>\n",
       "      <th>3</th>\n",
       "      <td>1.0</td>\n",
       "      <td>-0.966272</td>\n",
       "      <td>-0.185226</td>\n",
       "      <td>1.792993</td>\n",
       "      <td>-0.863291</td>\n",
       "      <td>-0.010309</td>\n",
       "      <td>1.247203</td>\n",
       "      <td>0.237609</td>\n",
       "      <td>0.377436</td>\n",
       "      <td>-1.387024</td>\n",
       "      <td>...</td>\n",
       "      <td>-0.108300</td>\n",
       "      <td>0.005274</td>\n",
       "      <td>-0.190321</td>\n",
       "      <td>-1.175575</td>\n",
       "      <td>0.647376</td>\n",
       "      <td>-0.221929</td>\n",
       "      <td>0.062723</td>\n",
       "      <td>0.061458</td>\n",
       "      <td>123.50</td>\n",
       "      <td>0</td>\n",
       "    </tr>\n",
       "    <tr>\n",
       "      <th>4</th>\n",
       "      <td>2.0</td>\n",
       "      <td>-1.158233</td>\n",
       "      <td>0.877737</td>\n",
       "      <td>1.548718</td>\n",
       "      <td>0.403034</td>\n",
       "      <td>-0.407193</td>\n",
       "      <td>0.095921</td>\n",
       "      <td>0.592941</td>\n",
       "      <td>-0.270533</td>\n",
       "      <td>0.817739</td>\n",
       "      <td>...</td>\n",
       "      <td>-0.009431</td>\n",
       "      <td>0.798278</td>\n",
       "      <td>-0.137458</td>\n",
       "      <td>0.141267</td>\n",
       "      <td>-0.206010</td>\n",
       "      <td>0.502292</td>\n",
       "      <td>0.219422</td>\n",
       "      <td>0.215153</td>\n",
       "      <td>69.99</td>\n",
       "      <td>0</td>\n",
       "    </tr>\n",
       "  </tbody>\n",
       "</table>\n",
       "<p>5 rows × 31 columns</p>\n",
       "</div>"
      ],
      "text/plain": [
       "   Time        V1        V2        V3        V4        V5        V6        V7  \\\n",
       "0   0.0 -1.359807 -0.072781  2.536347  1.378155 -0.338321  0.462388  0.239599   \n",
       "1   0.0  1.191857  0.266151  0.166480  0.448154  0.060018 -0.082361 -0.078803   \n",
       "2   1.0 -1.358354 -1.340163  1.773209  0.379780 -0.503198  1.800499  0.791461   \n",
       "3   1.0 -0.966272 -0.185226  1.792993 -0.863291 -0.010309  1.247203  0.237609   \n",
       "4   2.0 -1.158233  0.877737  1.548718  0.403034 -0.407193  0.095921  0.592941   \n",
       "\n",
       "         V8        V9  ...       V21       V22       V23       V24       V25  \\\n",
       "0  0.098698  0.363787  ... -0.018307  0.277838 -0.110474  0.066928  0.128539   \n",
       "1  0.085102 -0.255425  ... -0.225775 -0.638672  0.101288 -0.339846  0.167170   \n",
       "2  0.247676 -1.514654  ...  0.247998  0.771679  0.909412 -0.689281 -0.327642   \n",
       "3  0.377436 -1.387024  ... -0.108300  0.005274 -0.190321 -1.175575  0.647376   \n",
       "4 -0.270533  0.817739  ... -0.009431  0.798278 -0.137458  0.141267 -0.206010   \n",
       "\n",
       "        V26       V27       V28  Amount  Class  \n",
       "0 -0.189115  0.133558 -0.021053  149.62      0  \n",
       "1  0.125895 -0.008983  0.014724    2.69      0  \n",
       "2 -0.139097 -0.055353 -0.059752  378.66      0  \n",
       "3 -0.221929  0.062723  0.061458  123.50      0  \n",
       "4  0.502292  0.219422  0.215153   69.99      0  \n",
       "\n",
       "[5 rows x 31 columns]"
      ]
     },
     "execution_count": 7,
     "metadata": {},
     "output_type": "execute_result"
    },
    {
     "data": {
      "application/javascript": [
       "\n",
       "            setTimeout(function() {\n",
       "                var nbb_cell_id = 7;\n",
       "                var nbb_unformatted_code = \"df.head()\";\n",
       "                var nbb_formatted_code = \"df.head()\";\n",
       "                var nbb_cells = Jupyter.notebook.get_cells();\n",
       "                for (var i = 0; i < nbb_cells.length; ++i) {\n",
       "                    if (nbb_cells[i].input_prompt_number == nbb_cell_id) {\n",
       "                        if (nbb_cells[i].get_text() == nbb_unformatted_code) {\n",
       "                             nbb_cells[i].set_text(nbb_formatted_code);\n",
       "                        }\n",
       "                        break;\n",
       "                    }\n",
       "                }\n",
       "            }, 500);\n",
       "            "
      ],
      "text/plain": [
       "<IPython.core.display.Javascript object>"
      ]
     },
     "metadata": {},
     "output_type": "display_data"
    }
   ],
   "source": [
    "df.head()"
   ]
  },
  {
   "cell_type": "code",
   "execution_count": 8,
   "metadata": {},
   "outputs": [
    {
     "data": {
      "text/plain": [
       "Dask Series Structure:\n",
       "npartitions=3\n",
       "    int64\n",
       "      ...\n",
       "      ...\n",
       "      ...\n",
       "Name: Class, dtype: int64\n",
       "Dask Name: split, 3 tasks"
      ]
     },
     "execution_count": 8,
     "metadata": {},
     "output_type": "execute_result"
    },
    {
     "data": {
      "application/javascript": [
       "\n",
       "            setTimeout(function() {\n",
       "                var nbb_cell_id = 8;\n",
       "                var nbb_unformatted_code = \"# creating x and y variables\\nX = df.drop(columns=[\\\"Class\\\"])\\ny = df[\\\"Class\\\"]\\n\\n# splitting up the data\\nX_train, X_test, y_train, y_test = train_test_split(\\n    X, y, test_size=0.2, random_state=13\\n)\\n\\n# Persisting the variables into RAM\\nX_train.persist()\\nX_test.persist()\\ny_train.persist()\\ny_test.persist()\";\n",
       "                var nbb_formatted_code = \"# creating x and y variables\\nX = df.drop(columns=[\\\"Class\\\"])\\ny = df[\\\"Class\\\"]\\n\\n# splitting up the data\\nX_train, X_test, y_train, y_test = train_test_split(\\n    X, y, test_size=0.2, random_state=13\\n)\\n\\n# Persisting the variables into RAM\\nX_train.persist()\\nX_test.persist()\\ny_train.persist()\\ny_test.persist()\";\n",
       "                var nbb_cells = Jupyter.notebook.get_cells();\n",
       "                for (var i = 0; i < nbb_cells.length; ++i) {\n",
       "                    if (nbb_cells[i].input_prompt_number == nbb_cell_id) {\n",
       "                        if (nbb_cells[i].get_text() == nbb_unformatted_code) {\n",
       "                             nbb_cells[i].set_text(nbb_formatted_code);\n",
       "                        }\n",
       "                        break;\n",
       "                    }\n",
       "                }\n",
       "            }, 500);\n",
       "            "
      ],
      "text/plain": [
       "<IPython.core.display.Javascript object>"
      ]
     },
     "metadata": {},
     "output_type": "display_data"
    }
   ],
   "source": [
    "# creating x and y variables\n",
    "X = df.drop(columns=[\"Class\"])\n",
    "y = df[\"Class\"]\n",
    "\n",
    "# splitting up the data\n",
    "X_train, X_test, y_train, y_test = train_test_split(\n",
    "    X, y, test_size=0.2, random_state=13\n",
    ")\n",
    "\n",
    "# Persisting the variables into RAM\n",
    "X_train.persist()\n",
    "X_test.persist()\n",
    "y_train.persist()\n",
    "y_test.persist()"
   ]
  },
  {
   "cell_type": "markdown",
   "metadata": {},
   "source": [
    "# Random Forest Model"
   ]
  },
  {
   "cell_type": "code",
   "execution_count": 9,
   "metadata": {},
   "outputs": [
    {
     "name": "stderr",
     "output_type": "stream",
     "text": [
      "distributed.client - ERROR - Error in callback <function DaskDistributedBackend.apply_async.<locals>.callback_wrapper at 0x000001BC801D4B88> of <Future: error, key: _parallel_build_trees-batch-9e44721f5cf443ef88df4061a828b5d5>:\n",
      "Traceback (most recent call last):\n",
      "  File \"C:\\Users\\jlim7\\anaconda3\\lib\\site-packages\\distributed\\client.py\", line 285, in execute_callback\n",
      "    fn(fut)\n",
      "  File \"C:\\Users\\jlim7\\anaconda3\\lib\\site-packages\\joblib\\_dask.py\", line 260, in callback_wrapper\n",
      "    result = future.result()\n",
      "  File \"C:\\Users\\jlim7\\anaconda3\\lib\\site-packages\\distributed\\client.py\", line 220, in result\n",
      "    raise exc.with_traceback(tb)\n",
      "  File \"C:\\Users\\jlim7\\anaconda3\\lib\\site-packages\\joblib\\_dask.py\", line 100, in __call__\n",
      "    with parallel_backend('dask'):\n",
      "  File \"C:\\Users\\jlim7\\anaconda3\\lib\\site-packages\\joblib\\parallel.py\", line 186, in __init__\n",
      "    backend = BACKENDS[backend](**backend_params)\n",
      "  File \"C:\\Users\\jlim7\\anaconda3\\lib\\site-packages\\joblib\\_dask.py\", line 137, in __init__\n",
      "    client = get_client()\n",
      "  File \"C:\\Users\\jlim7\\anaconda3\\lib\\site-packages\\distributed\\worker.py\", line 3080, in get_client\n",
      "    return worker._get_client(timeout=timeout)\n",
      "  File \"C:\\Users\\jlim7\\anaconda3\\lib\\site-packages\\distributed\\worker.py\", line 2971, in _get_client\n",
      "    asynchronous = self.loop is IOLoop.current()\n",
      "  File \"C:\\Users\\jlim7\\anaconda3\\lib\\site-packages\\tornado\\ioloop.py\", line 265, in current\n",
      "    loop = asyncio.get_event_loop()\n",
      "  File \"C:\\Users\\jlim7\\anaconda3\\lib\\asyncio\\events.py\", line 644, in get_event_loop\n",
      "    % threading.current_thread().name)\n",
      "RuntimeError: There is no current event loop in thread \"Dask-Worker-Threads'-19764-3\".\n",
      "distributed.client - ERROR - Error in callback <function DaskDistributedBackend.apply_async.<locals>.callback_wrapper at 0x000001BC805BC798> of <Future: cancelled, key: _parallel_build_trees-batch-c0b23024a70c4d5b98e44342b611fc3c>:\n",
      "Traceback (most recent call last):\n",
      "  File \"C:\\Users\\jlim7\\anaconda3\\lib\\site-packages\\distributed\\client.py\", line 285, in execute_callback\n",
      "    fn(fut)\n",
      "  File \"C:\\Users\\jlim7\\anaconda3\\lib\\site-packages\\joblib\\_dask.py\", line 260, in callback_wrapper\n",
      "    result = future.result()\n",
      "  File \"C:\\Users\\jlim7\\anaconda3\\lib\\site-packages\\distributed\\client.py\", line 222, in result\n",
      "    raise result\n",
      "concurrent.futures._base.CancelledError: _parallel_build_trees-batch-c0b23024a70c4d5b98e44342b611fc3c\n",
      "distributed.client - ERROR - Error in callback <function DaskDistributedBackend.apply_async.<locals>.callback_wrapper at 0x000001BC805B0318> of <Future: cancelled, key: _parallel_build_trees-batch-787b95335a274ac98c85bcb8335c0b38>:\n",
      "Traceback (most recent call last):\n",
      "  File \"C:\\Users\\jlim7\\anaconda3\\lib\\site-packages\\distributed\\client.py\", line 285, in execute_callback\n",
      "    fn(fut)\n",
      "  File \"C:\\Users\\jlim7\\anaconda3\\lib\\site-packages\\joblib\\_dask.py\", line 260, in callback_wrapper\n",
      "    result = future.result()\n",
      "  File \"C:\\Users\\jlim7\\anaconda3\\lib\\site-packages\\distributed\\client.py\", line 222, in result\n",
      "    raise result\n",
      "concurrent.futures._base.CancelledError: _parallel_build_trees-batch-787b95335a274ac98c85bcb8335c0b38\n",
      "distributed.client - ERROR - Error in callback <function DaskDistributedBackend.apply_async.<locals>.callback_wrapper at 0x000001BC805B0B88> of <Future: cancelled, key: _parallel_build_trees-batch-a4f5e0aa11b84745a8cadadc809413d0>:\n",
      "Traceback (most recent call last):\n",
      "  File \"C:\\Users\\jlim7\\anaconda3\\lib\\site-packages\\distributed\\client.py\", line 285, in execute_callback\n",
      "    fn(fut)\n",
      "  File \"C:\\Users\\jlim7\\anaconda3\\lib\\site-packages\\joblib\\_dask.py\", line 260, in callback_wrapper\n",
      "    result = future.result()\n",
      "  File \"C:\\Users\\jlim7\\anaconda3\\lib\\site-packages\\distributed\\client.py\", line 222, in result\n",
      "    raise result\n",
      "concurrent.futures._base.CancelledError: _parallel_build_trees-batch-a4f5e0aa11b84745a8cadadc809413d0\n",
      "distributed.client - ERROR - Error in callback <function DaskDistributedBackend.apply_async.<locals>.callback_wrapper at 0x000001BC805BC5E8> of <Future: cancelled, key: _parallel_build_trees-batch-20a5ada405fe49a8b9df748d2a542931>:\n",
      "Traceback (most recent call last):\n",
      "  File \"C:\\Users\\jlim7\\anaconda3\\lib\\site-packages\\distributed\\client.py\", line 285, in execute_callback\n",
      "    fn(fut)\n",
      "  File \"C:\\Users\\jlim7\\anaconda3\\lib\\site-packages\\joblib\\_dask.py\", line 260, in callback_wrapper\n",
      "    result = future.result()\n",
      "  File \"C:\\Users\\jlim7\\anaconda3\\lib\\site-packages\\distributed\\client.py\", line 222, in result\n",
      "    raise result\n",
      "concurrent.futures._base.CancelledError: _parallel_build_trees-batch-20a5ada405fe49a8b9df748d2a542931\n",
      "distributed.client - ERROR - Error in callback <function DaskDistributedBackend.apply_async.<locals>.callback_wrapper at 0x000001BC805B0948> of <Future: cancelled, key: _parallel_build_trees-batch-c4f3b37cb67843ecb90aabf95d21c0ef>:\n",
      "Traceback (most recent call last):\n",
      "  File \"C:\\Users\\jlim7\\anaconda3\\lib\\site-packages\\distributed\\client.py\", line 285, in execute_callback\n",
      "    fn(fut)\n",
      "  File \"C:\\Users\\jlim7\\anaconda3\\lib\\site-packages\\joblib\\_dask.py\", line 260, in callback_wrapper\n",
      "    result = future.result()\n",
      "  File \"C:\\Users\\jlim7\\anaconda3\\lib\\site-packages\\distributed\\client.py\", line 222, in result\n",
      "    raise result\n",
      "concurrent.futures._base.CancelledError: _parallel_build_trees-batch-c4f3b37cb67843ecb90aabf95d21c0ef\n",
      "distributed.client - ERROR - Error in callback <function DaskDistributedBackend.apply_async.<locals>.callback_wrapper at 0x000001BC805BCA68> of <Future: cancelled, key: _parallel_build_trees-batch-736094239d9a4a77aec8960166baeff6>:\n",
      "Traceback (most recent call last):\n",
      "  File \"C:\\Users\\jlim7\\anaconda3\\lib\\site-packages\\distributed\\client.py\", line 285, in execute_callback\n",
      "    fn(fut)\n",
      "  File \"C:\\Users\\jlim7\\anaconda3\\lib\\site-packages\\joblib\\_dask.py\", line 260, in callback_wrapper\n",
      "    result = future.result()\n",
      "  File \"C:\\Users\\jlim7\\anaconda3\\lib\\site-packages\\distributed\\client.py\", line 222, in result\n",
      "    raise result\n",
      "concurrent.futures._base.CancelledError: _parallel_build_trees-batch-736094239d9a4a77aec8960166baeff6\n",
      "distributed.client - ERROR - Error in callback <function DaskDistributedBackend.apply_async.<locals>.callback_wrapper at 0x000001BC805BC1F8> of <Future: cancelled, key: _parallel_build_trees-batch-43de5585598b4414bbcdce59071d9358>:\n",
      "Traceback (most recent call last):\n",
      "  File \"C:\\Users\\jlim7\\anaconda3\\lib\\site-packages\\distributed\\client.py\", line 285, in execute_callback\n",
      "    fn(fut)\n",
      "  File \"C:\\Users\\jlim7\\anaconda3\\lib\\site-packages\\joblib\\_dask.py\", line 260, in callback_wrapper\n",
      "    result = future.result()\n",
      "  File \"C:\\Users\\jlim7\\anaconda3\\lib\\site-packages\\distributed\\client.py\", line 222, in result\n",
      "    raise result\n",
      "concurrent.futures._base.CancelledError: _parallel_build_trees-batch-43de5585598b4414bbcdce59071d9358\n",
      "distributed.client - ERROR - Error in callback <function DaskDistributedBackend.apply_async.<locals>.callback_wrapper at 0x000001BC805BC708> of <Future: cancelled, key: _parallel_build_trees-batch-6673a31780ea4babb90d51cb234e98c8>:\n",
      "Traceback (most recent call last):\n",
      "  File \"C:\\Users\\jlim7\\anaconda3\\lib\\site-packages\\distributed\\client.py\", line 285, in execute_callback\n",
      "    fn(fut)\n",
      "  File \"C:\\Users\\jlim7\\anaconda3\\lib\\site-packages\\joblib\\_dask.py\", line 260, in callback_wrapper\n",
      "    result = future.result()\n",
      "  File \"C:\\Users\\jlim7\\anaconda3\\lib\\site-packages\\distributed\\client.py\", line 222, in result\n",
      "    raise result\n",
      "concurrent.futures._base.CancelledError: _parallel_build_trees-batch-6673a31780ea4babb90d51cb234e98c8\n",
      "distributed.client - ERROR - Error in callback <function DaskDistributedBackend.apply_async.<locals>.callback_wrapper at 0x000001BC805C1C18> of <Future: cancelled, key: _parallel_build_trees-batch-1f48f6eb57fd4603b6223e5993e43986>:\n",
      "Traceback (most recent call last):\n",
      "  File \"C:\\Users\\jlim7\\anaconda3\\lib\\site-packages\\distributed\\client.py\", line 285, in execute_callback\n",
      "    fn(fut)\n",
      "  File \"C:\\Users\\jlim7\\anaconda3\\lib\\site-packages\\joblib\\_dask.py\", line 260, in callback_wrapper\n",
      "    result = future.result()\n",
      "  File \"C:\\Users\\jlim7\\anaconda3\\lib\\site-packages\\distributed\\client.py\", line 222, in result\n",
      "    raise result\n",
      "concurrent.futures._base.CancelledError: _parallel_build_trees-batch-1f48f6eb57fd4603b6223e5993e43986\n"
     ]
    },
    {
     "name": "stderr",
     "output_type": "stream",
     "text": [
      "distributed.client - ERROR - Error in callback <function DaskDistributedBackend.apply_async.<locals>.callback_wrapper at 0x000001BC805C1438> of <Future: cancelled, key: _parallel_build_trees-batch-39ea5f2e5973427d96d76068eddcc8b3>:\n",
      "Traceback (most recent call last):\n",
      "  File \"C:\\Users\\jlim7\\anaconda3\\lib\\site-packages\\distributed\\client.py\", line 285, in execute_callback\n",
      "    fn(fut)\n",
      "  File \"C:\\Users\\jlim7\\anaconda3\\lib\\site-packages\\joblib\\_dask.py\", line 260, in callback_wrapper\n",
      "    result = future.result()\n",
      "  File \"C:\\Users\\jlim7\\anaconda3\\lib\\site-packages\\distributed\\client.py\", line 222, in result\n",
      "    raise result\n",
      "concurrent.futures._base.CancelledError: _parallel_build_trees-batch-39ea5f2e5973427d96d76068eddcc8b3\n",
      "distributed.client - ERROR - Error in callback <function DaskDistributedBackend.apply_async.<locals>.callback_wrapper at 0x000001BC805B0DC8> of <Future: cancelled, key: _parallel_build_trees-batch-8f6d5f3e5caa40f08d784cee29d3ed7d>:\n",
      "Traceback (most recent call last):\n",
      "  File \"C:\\Users\\jlim7\\anaconda3\\lib\\site-packages\\distributed\\client.py\", line 285, in execute_callback\n",
      "    fn(fut)\n",
      "  File \"C:\\Users\\jlim7\\anaconda3\\lib\\site-packages\\joblib\\_dask.py\", line 260, in callback_wrapper\n",
      "    result = future.result()\n",
      "  File \"C:\\Users\\jlim7\\anaconda3\\lib\\site-packages\\distributed\\client.py\", line 222, in result\n",
      "    raise result\n",
      "concurrent.futures._base.CancelledError: _parallel_build_trees-batch-8f6d5f3e5caa40f08d784cee29d3ed7d\n",
      "distributed.client - ERROR - Error in callback <function DaskDistributedBackend.apply_async.<locals>.callback_wrapper at 0x000001BC805C1A68> of <Future: cancelled, key: _parallel_build_trees-batch-bb77d50b666f477194d0a2b542c5b8cf>:\n",
      "Traceback (most recent call last):\n",
      "  File \"C:\\Users\\jlim7\\anaconda3\\lib\\site-packages\\distributed\\client.py\", line 285, in execute_callback\n",
      "    fn(fut)\n",
      "  File \"C:\\Users\\jlim7\\anaconda3\\lib\\site-packages\\joblib\\_dask.py\", line 260, in callback_wrapper\n",
      "    result = future.result()\n",
      "  File \"C:\\Users\\jlim7\\anaconda3\\lib\\site-packages\\distributed\\client.py\", line 222, in result\n",
      "    raise result\n",
      "concurrent.futures._base.CancelledError: _parallel_build_trees-batch-bb77d50b666f477194d0a2b542c5b8cf\n",
      "distributed.client - ERROR - Error in callback <function DaskDistributedBackend.apply_async.<locals>.callback_wrapper at 0x000001BC805BCD38> of <Future: cancelled, key: _parallel_build_trees-batch-253552299f214df0b04307626db5c3fc>:\n",
      "Traceback (most recent call last):\n",
      "  File \"C:\\Users\\jlim7\\anaconda3\\lib\\site-packages\\distributed\\client.py\", line 285, in execute_callback\n",
      "    fn(fut)\n",
      "  File \"C:\\Users\\jlim7\\anaconda3\\lib\\site-packages\\joblib\\_dask.py\", line 260, in callback_wrapper\n",
      "    result = future.result()\n",
      "  File \"C:\\Users\\jlim7\\anaconda3\\lib\\site-packages\\distributed\\client.py\", line 222, in result\n",
      "    raise result\n",
      "concurrent.futures._base.CancelledError: _parallel_build_trees-batch-253552299f214df0b04307626db5c3fc\n",
      "distributed.client - ERROR - Error in callback <function DaskDistributedBackend.apply_async.<locals>.callback_wrapper at 0x000001BC805C18B8> of <Future: cancelled, key: _parallel_build_trees-batch-1ab193fd2454465fbdb625ba9db2aecd>:\n",
      "Traceback (most recent call last):\n",
      "  File \"C:\\Users\\jlim7\\anaconda3\\lib\\site-packages\\distributed\\client.py\", line 285, in execute_callback\n",
      "    fn(fut)\n",
      "  File \"C:\\Users\\jlim7\\anaconda3\\lib\\site-packages\\joblib\\_dask.py\", line 260, in callback_wrapper\n",
      "    result = future.result()\n",
      "  File \"C:\\Users\\jlim7\\anaconda3\\lib\\site-packages\\distributed\\client.py\", line 222, in result\n",
      "    raise result\n",
      "concurrent.futures._base.CancelledError: _parallel_build_trees-batch-1ab193fd2454465fbdb625ba9db2aecd\n",
      "distributed.client - ERROR - Error in callback <function DaskDistributedBackend.apply_async.<locals>.callback_wrapper at 0x000001BC805B0C18> of <Future: cancelled, key: _parallel_build_trees-batch-821529cb4fb54a8cbb430cf3a36a84b2>:\n",
      "Traceback (most recent call last):\n",
      "  File \"C:\\Users\\jlim7\\anaconda3\\lib\\site-packages\\distributed\\client.py\", line 285, in execute_callback\n",
      "    fn(fut)\n",
      "  File \"C:\\Users\\jlim7\\anaconda3\\lib\\site-packages\\joblib\\_dask.py\", line 260, in callback_wrapper\n",
      "    result = future.result()\n",
      "  File \"C:\\Users\\jlim7\\anaconda3\\lib\\site-packages\\distributed\\client.py\", line 222, in result\n",
      "    raise result\n",
      "concurrent.futures._base.CancelledError: _parallel_build_trees-batch-821529cb4fb54a8cbb430cf3a36a84b2\n"
     ]
    },
    {
     "ename": "RuntimeError",
     "evalue": "There is no current event loop in thread \"Dask-Worker-Threads'-19764-3\".",
     "output_type": "error",
     "traceback": [
      "\u001b[1;31m---------------------------------------------------------------------------\u001b[0m",
      "\u001b[1;31mRuntimeError\u001b[0m                              Traceback (most recent call last)",
      "\u001b[1;32m<ipython-input-9-74eb968eee03>\u001b[0m in \u001b[0;36m<module>\u001b[1;34m\u001b[0m\n\u001b[0;32m      2\u001b[0m \u001b[1;33m\u001b[0m\u001b[0m\n\u001b[0;32m      3\u001b[0m \u001b[1;32mwith\u001b[0m \u001b[0mjoblib\u001b[0m\u001b[1;33m.\u001b[0m\u001b[0mparallel_backend\u001b[0m\u001b[1;33m(\u001b[0m\u001b[1;34m\"dask\"\u001b[0m\u001b[1;33m)\u001b[0m\u001b[1;33m:\u001b[0m\u001b[1;33m\u001b[0m\u001b[1;33m\u001b[0m\u001b[0m\n\u001b[1;32m----> 4\u001b[1;33m     \u001b[0mrf\u001b[0m\u001b[1;33m.\u001b[0m\u001b[0mfit\u001b[0m\u001b[1;33m(\u001b[0m\u001b[0mX_train\u001b[0m\u001b[1;33m.\u001b[0m\u001b[0mcompute\u001b[0m\u001b[1;33m(\u001b[0m\u001b[1;33m)\u001b[0m\u001b[1;33m,\u001b[0m \u001b[0my_train\u001b[0m\u001b[1;33m.\u001b[0m\u001b[0mcompute\u001b[0m\u001b[1;33m(\u001b[0m\u001b[1;33m)\u001b[0m\u001b[1;33m)\u001b[0m\u001b[1;33m\u001b[0m\u001b[1;33m\u001b[0m\u001b[0m\n\u001b[0m\u001b[0;32m      5\u001b[0m \u001b[1;33m\u001b[0m\u001b[0m\n\u001b[0;32m      6\u001b[0m \u001b[0mpreds_train\u001b[0m \u001b[1;33m=\u001b[0m \u001b[0mrf\u001b[0m\u001b[1;33m.\u001b[0m\u001b[0mpredict\u001b[0m\u001b[1;33m(\u001b[0m\u001b[0mX_train\u001b[0m\u001b[1;33m.\u001b[0m\u001b[0mvalues\u001b[0m\u001b[1;33m.\u001b[0m\u001b[0mcompute\u001b[0m\u001b[1;33m(\u001b[0m\u001b[1;33m)\u001b[0m\u001b[1;33m)\u001b[0m\u001b[1;33m\u001b[0m\u001b[1;33m\u001b[0m\u001b[0m\n",
      "\u001b[1;32m~\\anaconda3\\lib\\site-packages\\sklearn\\ensemble\\_forest.py\u001b[0m in \u001b[0;36mfit\u001b[1;34m(self, X, y, sample_weight)\u001b[0m\n\u001b[0;32m    390\u001b[0m                     \u001b[0mverbose\u001b[0m\u001b[1;33m=\u001b[0m\u001b[0mself\u001b[0m\u001b[1;33m.\u001b[0m\u001b[0mverbose\u001b[0m\u001b[1;33m,\u001b[0m \u001b[0mclass_weight\u001b[0m\u001b[1;33m=\u001b[0m\u001b[0mself\u001b[0m\u001b[1;33m.\u001b[0m\u001b[0mclass_weight\u001b[0m\u001b[1;33m,\u001b[0m\u001b[1;33m\u001b[0m\u001b[1;33m\u001b[0m\u001b[0m\n\u001b[0;32m    391\u001b[0m                     n_samples_bootstrap=n_samples_bootstrap)\n\u001b[1;32m--> 392\u001b[1;33m                 for i, t in enumerate(trees))\n\u001b[0m\u001b[0;32m    393\u001b[0m \u001b[1;33m\u001b[0m\u001b[0m\n\u001b[0;32m    394\u001b[0m             \u001b[1;31m# Collect newly grown trees\u001b[0m\u001b[1;33m\u001b[0m\u001b[1;33m\u001b[0m\u001b[1;33m\u001b[0m\u001b[0m\n",
      "\u001b[1;32m~\\anaconda3\\lib\\site-packages\\joblib\\parallel.py\u001b[0m in \u001b[0;36m__call__\u001b[1;34m(self, iterable)\u001b[0m\n\u001b[0;32m   1015\u001b[0m \u001b[1;33m\u001b[0m\u001b[0m\n\u001b[0;32m   1016\u001b[0m             \u001b[1;32mwith\u001b[0m \u001b[0mself\u001b[0m\u001b[1;33m.\u001b[0m\u001b[0m_backend\u001b[0m\u001b[1;33m.\u001b[0m\u001b[0mretrieval_context\u001b[0m\u001b[1;33m(\u001b[0m\u001b[1;33m)\u001b[0m\u001b[1;33m:\u001b[0m\u001b[1;33m\u001b[0m\u001b[1;33m\u001b[0m\u001b[0m\n\u001b[1;32m-> 1017\u001b[1;33m                 \u001b[0mself\u001b[0m\u001b[1;33m.\u001b[0m\u001b[0mretrieve\u001b[0m\u001b[1;33m(\u001b[0m\u001b[1;33m)\u001b[0m\u001b[1;33m\u001b[0m\u001b[1;33m\u001b[0m\u001b[0m\n\u001b[0m\u001b[0;32m   1018\u001b[0m             \u001b[1;31m# Make sure that we get a last message telling us we are done\u001b[0m\u001b[1;33m\u001b[0m\u001b[1;33m\u001b[0m\u001b[1;33m\u001b[0m\u001b[0m\n\u001b[0;32m   1019\u001b[0m             \u001b[0melapsed_time\u001b[0m \u001b[1;33m=\u001b[0m \u001b[0mtime\u001b[0m\u001b[1;33m.\u001b[0m\u001b[0mtime\u001b[0m\u001b[1;33m(\u001b[0m\u001b[1;33m)\u001b[0m \u001b[1;33m-\u001b[0m \u001b[0mself\u001b[0m\u001b[1;33m.\u001b[0m\u001b[0m_start_time\u001b[0m\u001b[1;33m\u001b[0m\u001b[1;33m\u001b[0m\u001b[0m\n",
      "\u001b[1;32m~\\anaconda3\\lib\\site-packages\\joblib\\parallel.py\u001b[0m in \u001b[0;36mretrieve\u001b[1;34m(self)\u001b[0m\n\u001b[0;32m    909\u001b[0m                     \u001b[0mself\u001b[0m\u001b[1;33m.\u001b[0m\u001b[0m_output\u001b[0m\u001b[1;33m.\u001b[0m\u001b[0mextend\u001b[0m\u001b[1;33m(\u001b[0m\u001b[0mjob\u001b[0m\u001b[1;33m.\u001b[0m\u001b[0mget\u001b[0m\u001b[1;33m(\u001b[0m\u001b[0mtimeout\u001b[0m\u001b[1;33m=\u001b[0m\u001b[0mself\u001b[0m\u001b[1;33m.\u001b[0m\u001b[0mtimeout\u001b[0m\u001b[1;33m)\u001b[0m\u001b[1;33m)\u001b[0m\u001b[1;33m\u001b[0m\u001b[1;33m\u001b[0m\u001b[0m\n\u001b[0;32m    910\u001b[0m                 \u001b[1;32melse\u001b[0m\u001b[1;33m:\u001b[0m\u001b[1;33m\u001b[0m\u001b[1;33m\u001b[0m\u001b[0m\n\u001b[1;32m--> 911\u001b[1;33m                     \u001b[0mself\u001b[0m\u001b[1;33m.\u001b[0m\u001b[0m_output\u001b[0m\u001b[1;33m.\u001b[0m\u001b[0mextend\u001b[0m\u001b[1;33m(\u001b[0m\u001b[0mjob\u001b[0m\u001b[1;33m.\u001b[0m\u001b[0mget\u001b[0m\u001b[1;33m(\u001b[0m\u001b[1;33m)\u001b[0m\u001b[1;33m)\u001b[0m\u001b[1;33m\u001b[0m\u001b[1;33m\u001b[0m\u001b[0m\n\u001b[0m\u001b[0;32m    912\u001b[0m \u001b[1;33m\u001b[0m\u001b[0m\n\u001b[0;32m    913\u001b[0m             \u001b[1;32mexcept\u001b[0m \u001b[0mBaseException\u001b[0m \u001b[1;32mas\u001b[0m \u001b[0mexception\u001b[0m\u001b[1;33m:\u001b[0m\u001b[1;33m\u001b[0m\u001b[1;33m\u001b[0m\u001b[0m\n",
      "\u001b[1;32m~\\anaconda3\\lib\\site-packages\\joblib\\_dask.py\u001b[0m in \u001b[0;36mget\u001b[1;34m()\u001b[0m\n\u001b[0;32m    268\u001b[0m \u001b[1;33m\u001b[0m\u001b[0m\n\u001b[0;32m    269\u001b[0m         \u001b[1;32mdef\u001b[0m \u001b[0mget\u001b[0m\u001b[1;33m(\u001b[0m\u001b[1;33m)\u001b[0m\u001b[1;33m:\u001b[0m\u001b[1;33m\u001b[0m\u001b[1;33m\u001b[0m\u001b[0m\n\u001b[1;32m--> 270\u001b[1;33m             \u001b[1;32mreturn\u001b[0m \u001b[0mref\u001b[0m\u001b[1;33m(\u001b[0m\u001b[1;33m)\u001b[0m\u001b[1;33m.\u001b[0m\u001b[0mresult\u001b[0m\u001b[1;33m(\u001b[0m\u001b[1;33m)\u001b[0m\u001b[1;33m\u001b[0m\u001b[1;33m\u001b[0m\u001b[0m\n\u001b[0m\u001b[0;32m    271\u001b[0m \u001b[1;33m\u001b[0m\u001b[0m\n\u001b[0;32m    272\u001b[0m         \u001b[0mfuture\u001b[0m\u001b[1;33m.\u001b[0m\u001b[0mget\u001b[0m \u001b[1;33m=\u001b[0m \u001b[0mget\u001b[0m  \u001b[1;31m# monkey patch to achieve AsyncResult API\u001b[0m\u001b[1;33m\u001b[0m\u001b[1;33m\u001b[0m\u001b[0m\n",
      "\u001b[1;32m~\\anaconda3\\lib\\site-packages\\distributed\\client.py\u001b[0m in \u001b[0;36mresult\u001b[1;34m(self, timeout)\u001b[0m\n\u001b[0;32m    218\u001b[0m         \u001b[1;32mif\u001b[0m \u001b[0mself\u001b[0m\u001b[1;33m.\u001b[0m\u001b[0mstatus\u001b[0m \u001b[1;33m==\u001b[0m \u001b[1;34m\"error\"\u001b[0m\u001b[1;33m:\u001b[0m\u001b[1;33m\u001b[0m\u001b[1;33m\u001b[0m\u001b[0m\n\u001b[0;32m    219\u001b[0m             \u001b[0mtyp\u001b[0m\u001b[1;33m,\u001b[0m \u001b[0mexc\u001b[0m\u001b[1;33m,\u001b[0m \u001b[0mtb\u001b[0m \u001b[1;33m=\u001b[0m \u001b[0mresult\u001b[0m\u001b[1;33m\u001b[0m\u001b[1;33m\u001b[0m\u001b[0m\n\u001b[1;32m--> 220\u001b[1;33m             \u001b[1;32mraise\u001b[0m \u001b[0mexc\u001b[0m\u001b[1;33m.\u001b[0m\u001b[0mwith_traceback\u001b[0m\u001b[1;33m(\u001b[0m\u001b[0mtb\u001b[0m\u001b[1;33m)\u001b[0m\u001b[1;33m\u001b[0m\u001b[1;33m\u001b[0m\u001b[0m\n\u001b[0m\u001b[0;32m    221\u001b[0m         \u001b[1;32melif\u001b[0m \u001b[0mself\u001b[0m\u001b[1;33m.\u001b[0m\u001b[0mstatus\u001b[0m \u001b[1;33m==\u001b[0m \u001b[1;34m\"cancelled\"\u001b[0m\u001b[1;33m:\u001b[0m\u001b[1;33m\u001b[0m\u001b[1;33m\u001b[0m\u001b[0m\n\u001b[0;32m    222\u001b[0m             \u001b[1;32mraise\u001b[0m \u001b[0mresult\u001b[0m\u001b[1;33m\u001b[0m\u001b[1;33m\u001b[0m\u001b[0m\n",
      "\u001b[1;32m~\\anaconda3\\lib\\site-packages\\joblib\\_dask.py\u001b[0m in \u001b[0;36m__call__\u001b[1;34m()\u001b[0m\n\u001b[0;32m     98\u001b[0m     \u001b[1;32mdef\u001b[0m \u001b[0m__call__\u001b[0m\u001b[1;33m(\u001b[0m\u001b[0mself\u001b[0m\u001b[1;33m,\u001b[0m \u001b[1;33m*\u001b[0m\u001b[0mdata\u001b[0m\u001b[1;33m)\u001b[0m\u001b[1;33m:\u001b[0m\u001b[1;33m\u001b[0m\u001b[1;33m\u001b[0m\u001b[0m\n\u001b[0;32m     99\u001b[0m         \u001b[0mresults\u001b[0m \u001b[1;33m=\u001b[0m \u001b[1;33m[\u001b[0m\u001b[1;33m]\u001b[0m\u001b[1;33m\u001b[0m\u001b[1;33m\u001b[0m\u001b[0m\n\u001b[1;32m--> 100\u001b[1;33m         \u001b[1;32mwith\u001b[0m \u001b[0mparallel_backend\u001b[0m\u001b[1;33m(\u001b[0m\u001b[1;34m'dask'\u001b[0m\u001b[1;33m)\u001b[0m\u001b[1;33m:\u001b[0m\u001b[1;33m\u001b[0m\u001b[1;33m\u001b[0m\u001b[0m\n\u001b[0m\u001b[0;32m    101\u001b[0m             \u001b[1;32mfor\u001b[0m \u001b[0mfunc\u001b[0m\u001b[1;33m,\u001b[0m \u001b[0margs\u001b[0m\u001b[1;33m,\u001b[0m \u001b[0mkwargs\u001b[0m \u001b[1;32min\u001b[0m \u001b[0mself\u001b[0m\u001b[1;33m.\u001b[0m\u001b[0mtasks\u001b[0m\u001b[1;33m:\u001b[0m\u001b[1;33m\u001b[0m\u001b[1;33m\u001b[0m\u001b[0m\n\u001b[0;32m    102\u001b[0m                 args = [a(data) if isinstance(a, itemgetter) else a\n",
      "\u001b[1;32m~\\anaconda3\\lib\\site-packages\\joblib\\parallel.py\u001b[0m in \u001b[0;36m__init__\u001b[1;34m()\u001b[0m\n\u001b[0;32m    184\u001b[0m                 \u001b[0mregister\u001b[0m\u001b[1;33m(\u001b[0m\u001b[1;33m)\u001b[0m\u001b[1;33m\u001b[0m\u001b[1;33m\u001b[0m\u001b[0m\n\u001b[0;32m    185\u001b[0m \u001b[1;33m\u001b[0m\u001b[0m\n\u001b[1;32m--> 186\u001b[1;33m             \u001b[0mbackend\u001b[0m \u001b[1;33m=\u001b[0m \u001b[0mBACKENDS\u001b[0m\u001b[1;33m[\u001b[0m\u001b[0mbackend\u001b[0m\u001b[1;33m]\u001b[0m\u001b[1;33m(\u001b[0m\u001b[1;33m**\u001b[0m\u001b[0mbackend_params\u001b[0m\u001b[1;33m)\u001b[0m\u001b[1;33m\u001b[0m\u001b[1;33m\u001b[0m\u001b[0m\n\u001b[0m\u001b[0;32m    187\u001b[0m \u001b[1;33m\u001b[0m\u001b[0m\n\u001b[0;32m    188\u001b[0m         \u001b[1;32mif\u001b[0m \u001b[0minner_max_num_threads\u001b[0m \u001b[1;32mis\u001b[0m \u001b[1;32mnot\u001b[0m \u001b[1;32mNone\u001b[0m\u001b[1;33m:\u001b[0m\u001b[1;33m\u001b[0m\u001b[1;33m\u001b[0m\u001b[0m\n",
      "\u001b[1;32m~\\anaconda3\\lib\\site-packages\\joblib\\_dask.py\u001b[0m in \u001b[0;36m__init__\u001b[1;34m()\u001b[0m\n\u001b[0;32m    135\u001b[0m             \u001b[1;32melse\u001b[0m\u001b[1;33m:\u001b[0m\u001b[1;33m\u001b[0m\u001b[1;33m\u001b[0m\u001b[0m\n\u001b[0;32m    136\u001b[0m                 \u001b[1;32mtry\u001b[0m\u001b[1;33m:\u001b[0m\u001b[1;33m\u001b[0m\u001b[1;33m\u001b[0m\u001b[0m\n\u001b[1;32m--> 137\u001b[1;33m                     \u001b[0mclient\u001b[0m \u001b[1;33m=\u001b[0m \u001b[0mget_client\u001b[0m\u001b[1;33m(\u001b[0m\u001b[1;33m)\u001b[0m\u001b[1;33m\u001b[0m\u001b[1;33m\u001b[0m\u001b[0m\n\u001b[0m\u001b[0;32m    138\u001b[0m                 \u001b[1;32mexcept\u001b[0m \u001b[0mValueError\u001b[0m\u001b[1;33m:\u001b[0m\u001b[1;33m\u001b[0m\u001b[1;33m\u001b[0m\u001b[0m\n\u001b[0;32m    139\u001b[0m                     msg = (\"To use Joblib with Dask first create a Dask Client\"\n",
      "\u001b[1;32m~\\anaconda3\\lib\\site-packages\\distributed\\worker.py\u001b[0m in \u001b[0;36mget_client\u001b[1;34m()\u001b[0m\n\u001b[0;32m   3078\u001b[0m     \u001b[1;32melse\u001b[0m\u001b[1;33m:\u001b[0m\u001b[1;33m\u001b[0m\u001b[1;33m\u001b[0m\u001b[0m\n\u001b[0;32m   3079\u001b[0m         \u001b[1;32mif\u001b[0m \u001b[1;32mnot\u001b[0m \u001b[0maddress\u001b[0m \u001b[1;32mor\u001b[0m \u001b[0mworker\u001b[0m\u001b[1;33m.\u001b[0m\u001b[0mscheduler\u001b[0m\u001b[1;33m.\u001b[0m\u001b[0maddress\u001b[0m \u001b[1;33m==\u001b[0m \u001b[0maddress\u001b[0m\u001b[1;33m:\u001b[0m\u001b[1;33m\u001b[0m\u001b[1;33m\u001b[0m\u001b[0m\n\u001b[1;32m-> 3080\u001b[1;33m             \u001b[1;32mreturn\u001b[0m \u001b[0mworker\u001b[0m\u001b[1;33m.\u001b[0m\u001b[0m_get_client\u001b[0m\u001b[1;33m(\u001b[0m\u001b[0mtimeout\u001b[0m\u001b[1;33m=\u001b[0m\u001b[0mtimeout\u001b[0m\u001b[1;33m)\u001b[0m\u001b[1;33m\u001b[0m\u001b[1;33m\u001b[0m\u001b[0m\n\u001b[0m\u001b[0;32m   3081\u001b[0m \u001b[1;33m\u001b[0m\u001b[0m\n\u001b[0;32m   3082\u001b[0m     \u001b[1;32mfrom\u001b[0m \u001b[1;33m.\u001b[0m\u001b[0mclient\u001b[0m \u001b[1;32mimport\u001b[0m \u001b[0m_get_global_client\u001b[0m\u001b[1;33m\u001b[0m\u001b[1;33m\u001b[0m\u001b[0m\n",
      "\u001b[1;32m~\\anaconda3\\lib\\site-packages\\distributed\\worker.py\u001b[0m in \u001b[0;36m_get_client\u001b[1;34m()\u001b[0m\n\u001b[0;32m   2969\u001b[0m             \u001b[1;32mfrom\u001b[0m \u001b[1;33m.\u001b[0m\u001b[0mclient\u001b[0m \u001b[1;32mimport\u001b[0m \u001b[0mClient\u001b[0m\u001b[1;33m\u001b[0m\u001b[1;33m\u001b[0m\u001b[0m\n\u001b[0;32m   2970\u001b[0m \u001b[1;33m\u001b[0m\u001b[0m\n\u001b[1;32m-> 2971\u001b[1;33m             \u001b[0masynchronous\u001b[0m \u001b[1;33m=\u001b[0m \u001b[0mself\u001b[0m\u001b[1;33m.\u001b[0m\u001b[0mloop\u001b[0m \u001b[1;32mis\u001b[0m \u001b[0mIOLoop\u001b[0m\u001b[1;33m.\u001b[0m\u001b[0mcurrent\u001b[0m\u001b[1;33m(\u001b[0m\u001b[1;33m)\u001b[0m\u001b[1;33m\u001b[0m\u001b[1;33m\u001b[0m\u001b[0m\n\u001b[0m\u001b[0;32m   2972\u001b[0m             self._client = Client(\n\u001b[0;32m   2973\u001b[0m                 \u001b[0mself\u001b[0m\u001b[1;33m.\u001b[0m\u001b[0mscheduler\u001b[0m\u001b[1;33m,\u001b[0m\u001b[1;33m\u001b[0m\u001b[1;33m\u001b[0m\u001b[0m\n",
      "\u001b[1;32m~\\anaconda3\\lib\\site-packages\\tornado\\ioloop.py\u001b[0m in \u001b[0;36mcurrent\u001b[1;34m()\u001b[0m\n\u001b[0;32m    263\u001b[0m         \"\"\"\n\u001b[0;32m    264\u001b[0m         \u001b[1;32mtry\u001b[0m\u001b[1;33m:\u001b[0m\u001b[1;33m\u001b[0m\u001b[1;33m\u001b[0m\u001b[0m\n\u001b[1;32m--> 265\u001b[1;33m             \u001b[0mloop\u001b[0m \u001b[1;33m=\u001b[0m \u001b[0masyncio\u001b[0m\u001b[1;33m.\u001b[0m\u001b[0mget_event_loop\u001b[0m\u001b[1;33m(\u001b[0m\u001b[1;33m)\u001b[0m\u001b[1;33m\u001b[0m\u001b[1;33m\u001b[0m\u001b[0m\n\u001b[0m\u001b[0;32m    266\u001b[0m         \u001b[1;32mexcept\u001b[0m \u001b[1;33m(\u001b[0m\u001b[0mRuntimeError\u001b[0m\u001b[1;33m,\u001b[0m \u001b[0mAssertionError\u001b[0m\u001b[1;33m)\u001b[0m\u001b[1;33m:\u001b[0m\u001b[1;33m\u001b[0m\u001b[1;33m\u001b[0m\u001b[0m\n\u001b[0;32m    267\u001b[0m             \u001b[1;32mif\u001b[0m \u001b[1;32mnot\u001b[0m \u001b[0minstance\u001b[0m\u001b[1;33m:\u001b[0m\u001b[1;33m\u001b[0m\u001b[1;33m\u001b[0m\u001b[0m\n",
      "\u001b[1;32m~\\anaconda3\\lib\\asyncio\\events.py\u001b[0m in \u001b[0;36mget_event_loop\u001b[1;34m()\u001b[0m\n\u001b[0;32m    642\u001b[0m         \u001b[1;32mif\u001b[0m \u001b[0mself\u001b[0m\u001b[1;33m.\u001b[0m\u001b[0m_local\u001b[0m\u001b[1;33m.\u001b[0m\u001b[0m_loop\u001b[0m \u001b[1;32mis\u001b[0m \u001b[1;32mNone\u001b[0m\u001b[1;33m:\u001b[0m\u001b[1;33m\u001b[0m\u001b[1;33m\u001b[0m\u001b[0m\n\u001b[0;32m    643\u001b[0m             raise RuntimeError('There is no current event loop in thread %r.'\n\u001b[1;32m--> 644\u001b[1;33m                                % threading.current_thread().name)\n\u001b[0m\u001b[0;32m    645\u001b[0m \u001b[1;33m\u001b[0m\u001b[0m\n\u001b[0;32m    646\u001b[0m         \u001b[1;32mreturn\u001b[0m \u001b[0mself\u001b[0m\u001b[1;33m.\u001b[0m\u001b[0m_local\u001b[0m\u001b[1;33m.\u001b[0m\u001b[0m_loop\u001b[0m\u001b[1;33m\u001b[0m\u001b[1;33m\u001b[0m\u001b[0m\n",
      "\u001b[1;31mRuntimeError\u001b[0m: There is no current event loop in thread \"Dask-Worker-Threads'-19764-3\"."
     ]
    },
    {
     "data": {
      "application/javascript": [
       "\n",
       "            setTimeout(function() {\n",
       "                var nbb_cell_id = 9;\n",
       "                var nbb_unformatted_code = \"rf = RandomForestClassifier()\\n\\nwith joblib.parallel_backend(\\\"dask\\\"):\\n    rf.fit(X_train.compute(), y_train.compute())\\n\\npreds_train = rf.predict(X_train.values.compute())\\npreds_test = rf.predict(X_test.values.compute())\\n\\nprint(\\n    \\\"Logistic regression training score is: \\\",\\n    roc_auc_score(preds_train, y_train.values.compute()),\\n)\\nprint(\\n    \\\"Logistic regression test score is: \\\",\\n    roc_auc_score(preds_test, y_test.values.compute()),\\n)\";\n",
       "                var nbb_formatted_code = \"rf = RandomForestClassifier()\\n\\nwith joblib.parallel_backend(\\\"dask\\\"):\\n    rf.fit(X_train.compute(), y_train.compute())\\n\\npreds_train = rf.predict(X_train.values.compute())\\npreds_test = rf.predict(X_test.values.compute())\\n\\nprint(\\n    \\\"Logistic regression training score is: \\\",\\n    roc_auc_score(preds_train, y_train.values.compute()),\\n)\\nprint(\\n    \\\"Logistic regression test score is: \\\",\\n    roc_auc_score(preds_test, y_test.values.compute()),\\n)\";\n",
       "                var nbb_cells = Jupyter.notebook.get_cells();\n",
       "                for (var i = 0; i < nbb_cells.length; ++i) {\n",
       "                    if (nbb_cells[i].input_prompt_number == nbb_cell_id) {\n",
       "                        if (nbb_cells[i].get_text() == nbb_unformatted_code) {\n",
       "                             nbb_cells[i].set_text(nbb_formatted_code);\n",
       "                        }\n",
       "                        break;\n",
       "                    }\n",
       "                }\n",
       "            }, 500);\n",
       "            "
      ],
      "text/plain": [
       "<IPython.core.display.Javascript object>"
      ]
     },
     "metadata": {},
     "output_type": "display_data"
    }
   ],
   "source": [
    "rf = RandomForestClassifier()\n",
    "\n",
    "with joblib.parallel_backend(\"dask\"):\n",
    "    rf.fit(X_train.compute(), y_train.compute())\n",
    "\n",
    "preds_train = rf.predict(X_train.values.compute())\n",
    "preds_test = rf.predict(X_test.values.compute())\n",
    "\n",
    "print(\n",
    "    \"Logistic regression training score is: \",\n",
    "    roc_auc_score(preds_train, y_train.values.compute()),\n",
    ")\n",
    "print(\n",
    "    \"Logistic regression test score is: \",\n",
    "    roc_auc_score(preds_test, y_test.values.compute()),\n",
    ")"
   ]
  },
  {
   "cell_type": "code",
   "execution_count": null,
   "metadata": {},
   "outputs": [],
   "source": []
  }
 ],
 "metadata": {
  "kernelspec": {
   "display_name": "Python 3",
   "language": "python",
   "name": "python3"
  },
  "language_info": {
   "codemirror_mode": {
    "name": "ipython",
    "version": 3
   },
   "file_extension": ".py",
   "mimetype": "text/x-python",
   "name": "python",
   "nbconvert_exporter": "python",
   "pygments_lexer": "ipython3",
   "version": "3.7.6"
  }
 },
 "nbformat": 4,
 "nbformat_minor": 4
}
