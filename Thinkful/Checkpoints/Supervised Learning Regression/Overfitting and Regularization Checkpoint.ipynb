{
 "cells": [
  {
   "cell_type": "markdown",
   "metadata": {},
   "source": [
    "Load the houseprices data from Thinkful's database.\n"
   ]
  },
  {
   "cell_type": "code",
   "execution_count": 7,
   "metadata": {},
   "outputs": [
    {
     "data": {
      "application/javascript": [
       "\n",
       "            setTimeout(function() {\n",
       "                var nbb_cell_id = 7;\n",
       "                var nbb_unformatted_code = \"%reload_ext nb_black\\n\\n\\nfrom sklearn.model_selection import train_test_split, cross_val_score\\nfrom sklearn.metrics import mean_absolute_error\\nfrom statsmodels.tools.eval_measures import mse, rmse\\nfrom sklearn.linear_model import LinearRegression, LassoCV, RidgeCV, ElasticNetCV\\nimport numpy as np\\nimport pandas as pd\\n\\nfrom sklearn import linear_model\\nfrom sklearn.model_selection import train_test_split\\nfrom sklearn.metrics import mean_absolute_error\\n\\nimport matplotlib.pyplot as plt\\n\\nfrom sqlalchemy import create_engine\\n\\nimport warnings\\n\\nimport statsmodels.api as sm\\nfrom statsmodels.tools.eval_measures import mse, rmse\\n\\nwarnings.filterwarnings(\\\"ignore\\\")\\npostgres_user = \\\"dsbc_student\\\"\\npostgres_pw = \\\"7*.8G9QH21\\\"\\npostgres_host = \\\"142.93.121.174\\\"\\npostgres_port = \\\"5432\\\"\\npostgres_db = \\\"houseprices\\\"\\n\\nengine = create_engine(\\n    \\\"postgresql://{}:{}@{}:{}/{}\\\".format(\\n        postgres_user, postgres_pw, postgres_host, postgres_port, postgres_db\\n    )\\n)\\nhouse_df = pd.read_sql_query(\\\"select * from houseprices\\\", con=engine)\\n\\nengine.dispose()\";\n",
       "                var nbb_formatted_code = \"%reload_ext nb_black\\n\\n\\nfrom sklearn.model_selection import train_test_split, cross_val_score\\nfrom sklearn.metrics import mean_absolute_error\\nfrom statsmodels.tools.eval_measures import mse, rmse\\nfrom sklearn.linear_model import LinearRegression, LassoCV, RidgeCV, ElasticNetCV\\nimport numpy as np\\nimport pandas as pd\\n\\nfrom sklearn import linear_model\\nfrom sklearn.model_selection import train_test_split\\nfrom sklearn.metrics import mean_absolute_error\\n\\nimport matplotlib.pyplot as plt\\n\\nfrom sqlalchemy import create_engine\\n\\nimport warnings\\n\\nimport statsmodels.api as sm\\nfrom statsmodels.tools.eval_measures import mse, rmse\\n\\nwarnings.filterwarnings(\\\"ignore\\\")\\npostgres_user = \\\"dsbc_student\\\"\\npostgres_pw = \\\"7*.8G9QH21\\\"\\npostgres_host = \\\"142.93.121.174\\\"\\npostgres_port = \\\"5432\\\"\\npostgres_db = \\\"houseprices\\\"\\n\\nengine = create_engine(\\n    \\\"postgresql://{}:{}@{}:{}/{}\\\".format(\\n        postgres_user, postgres_pw, postgres_host, postgres_port, postgres_db\\n    )\\n)\\nhouse_df = pd.read_sql_query(\\\"select * from houseprices\\\", con=engine)\\n\\nengine.dispose()\";\n",
       "                var nbb_cells = Jupyter.notebook.get_cells();\n",
       "                for (var i = 0; i < nbb_cells.length; ++i) {\n",
       "                    if (nbb_cells[i].input_prompt_number == nbb_cell_id) {\n",
       "                        if (nbb_cells[i].get_text() == nbb_unformatted_code) {\n",
       "                             nbb_cells[i].set_text(nbb_formatted_code);\n",
       "                        }\n",
       "                        break;\n",
       "                    }\n",
       "                }\n",
       "            }, 500);\n",
       "            "
      ],
      "text/plain": [
       "<IPython.core.display.Javascript object>"
      ]
     },
     "metadata": {},
     "output_type": "display_data"
    },
    {
     "data": {
      "application/javascript": [
       "\n",
       "            setTimeout(function() {\n",
       "                var nbb_cell_id = 7;\n",
       "                var nbb_unformatted_code = \"%reload_ext nb_black\\n\\n\\nfrom sklearn.model_selection import train_test_split, cross_val_score\\nfrom sklearn.metrics import mean_absolute_error\\nfrom statsmodels.tools.eval_measures import mse, rmse\\nfrom sklearn.linear_model import LinearRegression, LassoCV, RidgeCV, ElasticNetCV\\nimport numpy as np\\nimport pandas as pd\\n\\nfrom sklearn import linear_model\\nfrom sklearn.model_selection import train_test_split\\nfrom sklearn.metrics import mean_absolute_error\\n\\nimport matplotlib.pyplot as plt\\n\\nfrom sqlalchemy import create_engine\\n\\nimport warnings\\n\\nimport statsmodels.api as sm\\nfrom statsmodels.tools.eval_measures import mse, rmse\\n\\nwarnings.filterwarnings(\\\"ignore\\\")\\npostgres_user = \\\"dsbc_student\\\"\\npostgres_pw = \\\"7*.8G9QH21\\\"\\npostgres_host = \\\"142.93.121.174\\\"\\npostgres_port = \\\"5432\\\"\\npostgres_db = \\\"houseprices\\\"\\n\\nengine = create_engine(\\n    \\\"postgresql://{}:{}@{}:{}/{}\\\".format(\\n        postgres_user, postgres_pw, postgres_host, postgres_port, postgres_db\\n    )\\n)\\nhouse_df = pd.read_sql_query(\\\"select * from houseprices\\\", con=engine)\\n\\nengine.dispose()\";\n",
       "                var nbb_formatted_code = \"%reload_ext nb_black\\n\\n\\nfrom sklearn.model_selection import train_test_split, cross_val_score\\nfrom sklearn.metrics import mean_absolute_error\\nfrom statsmodels.tools.eval_measures import mse, rmse\\nfrom sklearn.linear_model import LinearRegression, LassoCV, RidgeCV, ElasticNetCV\\nimport numpy as np\\nimport pandas as pd\\n\\nfrom sklearn import linear_model\\nfrom sklearn.model_selection import train_test_split\\nfrom sklearn.metrics import mean_absolute_error\\n\\nimport matplotlib.pyplot as plt\\n\\nfrom sqlalchemy import create_engine\\n\\nimport warnings\\n\\nimport statsmodels.api as sm\\nfrom statsmodels.tools.eval_measures import mse, rmse\\n\\nwarnings.filterwarnings(\\\"ignore\\\")\\npostgres_user = \\\"dsbc_student\\\"\\npostgres_pw = \\\"7*.8G9QH21\\\"\\npostgres_host = \\\"142.93.121.174\\\"\\npostgres_port = \\\"5432\\\"\\npostgres_db = \\\"houseprices\\\"\\n\\nengine = create_engine(\\n    \\\"postgresql://{}:{}@{}:{}/{}\\\".format(\\n        postgres_user, postgres_pw, postgres_host, postgres_port, postgres_db\\n    )\\n)\\nhouse_df = pd.read_sql_query(\\\"select * from houseprices\\\", con=engine)\\n\\nengine.dispose()\";\n",
       "                var nbb_cells = Jupyter.notebook.get_cells();\n",
       "                for (var i = 0; i < nbb_cells.length; ++i) {\n",
       "                    if (nbb_cells[i].input_prompt_number == nbb_cell_id) {\n",
       "                        if (nbb_cells[i].get_text() == nbb_unformatted_code) {\n",
       "                             nbb_cells[i].set_text(nbb_formatted_code);\n",
       "                        }\n",
       "                        break;\n",
       "                    }\n",
       "                }\n",
       "            }, 500);\n",
       "            "
      ],
      "text/plain": [
       "<IPython.core.display.Javascript object>"
      ]
     },
     "metadata": {},
     "output_type": "display_data"
    }
   ],
   "source": [
    "%reload_ext nb_black\n",
    "\n",
    "\n",
    "from sklearn.model_selection import train_test_split, cross_val_score\n",
    "from sklearn.metrics import mean_absolute_error\n",
    "from statsmodels.tools.eval_measures import mse, rmse\n",
    "from sklearn.linear_model import LinearRegression, LassoCV, RidgeCV, ElasticNetCV\n",
    "import numpy as np\n",
    "import pandas as pd\n",
    "\n",
    "from sklearn import linear_model\n",
    "from sklearn.model_selection import train_test_split\n",
    "from sklearn.metrics import mean_absolute_error\n",
    "\n",
    "import matplotlib.pyplot as plt\n",
    "\n",
    "from sqlalchemy import create_engine\n",
    "\n",
    "import warnings\n",
    "\n",
    "import statsmodels.api as sm\n",
    "from statsmodels.tools.eval_measures import mse, rmse\n",
    "\n",
    "warnings.filterwarnings(\"ignore\")\n",
    "postgres_user = \"dsbc_student\"\n",
    "postgres_pw = \"7*.8G9QH21\"\n",
    "postgres_host = \"142.93.121.174\"\n",
    "postgres_port = \"5432\"\n",
    "postgres_db = \"houseprices\"\n",
    "\n",
    "engine = create_engine(\n",
    "    \"postgresql://{}:{}@{}:{}/{}\".format(\n",
    "        postgres_user, postgres_pw, postgres_host, postgres_port, postgres_db\n",
    "    )\n",
    ")\n",
    "house_df = pd.read_sql_query(\"select * from houseprices\", con=engine)\n",
    "\n",
    "engine.dispose()"
   ]
  },
  {
   "cell_type": "markdown",
   "metadata": {},
   "source": [
    "Reimplement your model from the previous checkpoint.\n"
   ]
  },
  {
   "cell_type": "code",
   "execution_count": 2,
   "metadata": {},
   "outputs": [
    {
     "data": {
      "application/javascript": [
       "\n",
       "            setTimeout(function() {\n",
       "                var nbb_cell_id = 2;\n",
       "                var nbb_unformatted_code = \"house_df = pd.concat([house_df, pd.get_dummies(house_df.housestyle)], axis=1)\\ndummy = list(pd.get_dummies(house_df.housestyle).columns)\\nX = house_df[[\\\"overallqual\\\", \\\"grlivarea\\\", \\\"garagecars\\\"] + dummy]\\n\\nX = X[\\n    [\\n        \\\"overallqual\\\",\\n        \\\"grlivarea\\\",\\n        \\\"garagecars\\\",\\n        \\\"1.5Fin\\\",\\n        \\\"1Story\\\",\\n        \\\"2.5Fin\\\",\\n        \\\"2.5Unf\\\",\\n        \\\"2Story\\\",\\n        \\\"SFoyer\\\",\\n    ]\\n]\\nY = house_df[\\\"saleprice\\\"]\";\n",
       "                var nbb_formatted_code = \"house_df = pd.concat([house_df, pd.get_dummies(house_df.housestyle)], axis=1)\\ndummy = list(pd.get_dummies(house_df.housestyle).columns)\\nX = house_df[[\\\"overallqual\\\", \\\"grlivarea\\\", \\\"garagecars\\\"] + dummy]\\n\\nX = X[\\n    [\\n        \\\"overallqual\\\",\\n        \\\"grlivarea\\\",\\n        \\\"garagecars\\\",\\n        \\\"1.5Fin\\\",\\n        \\\"1Story\\\",\\n        \\\"2.5Fin\\\",\\n        \\\"2.5Unf\\\",\\n        \\\"2Story\\\",\\n        \\\"SFoyer\\\",\\n    ]\\n]\\nY = house_df[\\\"saleprice\\\"]\";\n",
       "                var nbb_cells = Jupyter.notebook.get_cells();\n",
       "                for (var i = 0; i < nbb_cells.length; ++i) {\n",
       "                    if (nbb_cells[i].input_prompt_number == nbb_cell_id) {\n",
       "                        if (nbb_cells[i].get_text() == nbb_unformatted_code) {\n",
       "                             nbb_cells[i].set_text(nbb_formatted_code);\n",
       "                        }\n",
       "                        break;\n",
       "                    }\n",
       "                }\n",
       "            }, 500);\n",
       "            "
      ],
      "text/plain": [
       "<IPython.core.display.Javascript object>"
      ]
     },
     "metadata": {},
     "output_type": "display_data"
    }
   ],
   "source": [
    "house_df = pd.concat([house_df, pd.get_dummies(house_df.housestyle)], axis=1)\n",
    "dummy = list(pd.get_dummies(house_df.housestyle).columns)\n",
    "X = house_df[[\"overallqual\", \"grlivarea\", \"garagecars\"] + dummy]\n",
    "\n",
    "X = X[\n",
    "    [\n",
    "        \"overallqual\",\n",
    "        \"grlivarea\",\n",
    "        \"garagecars\",\n",
    "        \"1.5Fin\",\n",
    "        \"1Story\",\n",
    "        \"2.5Fin\",\n",
    "        \"2.5Unf\",\n",
    "        \"2Story\",\n",
    "        \"SFoyer\",\n",
    "    ]\n",
    "]\n",
    "Y = house_df[\"saleprice\"]"
   ]
  },
  {
   "cell_type": "code",
   "execution_count": 4,
   "metadata": {},
   "outputs": [
    {
     "data": {
      "text/html": [
       "<table class=\"simpletable\">\n",
       "<caption>OLS Regression Results</caption>\n",
       "<tr>\n",
       "  <th>Dep. Variable:</th>        <td>saleprice</td>    <th>  R-squared:         </th> <td>   0.766</td> \n",
       "</tr>\n",
       "<tr>\n",
       "  <th>Model:</th>                   <td>OLS</td>       <th>  Adj. R-squared:    </th> <td>   0.765</td> \n",
       "</tr>\n",
       "<tr>\n",
       "  <th>Method:</th>             <td>Least Squares</td>  <th>  F-statistic:       </th> <td>   527.3</td> \n",
       "</tr>\n",
       "<tr>\n",
       "  <th>Date:</th>             <td>Wed, 02 Sep 2020</td> <th>  Prob (F-statistic):</th>  <td>  0.00</td>  \n",
       "</tr>\n",
       "<tr>\n",
       "  <th>Time:</th>                 <td>12:28:58</td>     <th>  Log-Likelihood:    </th> <td> -17484.</td> \n",
       "</tr>\n",
       "<tr>\n",
       "  <th>No. Observations:</th>      <td>  1460</td>      <th>  AIC:               </th> <td>3.499e+04</td>\n",
       "</tr>\n",
       "<tr>\n",
       "  <th>Df Residuals:</th>          <td>  1450</td>      <th>  BIC:               </th> <td>3.504e+04</td>\n",
       "</tr>\n",
       "<tr>\n",
       "  <th>Df Model:</th>              <td>     9</td>      <th>                     </th>     <td> </td>    \n",
       "</tr>\n",
       "<tr>\n",
       "  <th>Covariance Type:</th>      <td>nonrobust</td>    <th>                     </th>     <td> </td>    \n",
       "</tr>\n",
       "</table>\n",
       "<table class=\"simpletable\">\n",
       "<tr>\n",
       "       <td></td>          <th>coef</th>     <th>std err</th>      <th>t</th>      <th>P>|t|</th>  <th>[0.025</th>    <th>0.975]</th>  \n",
       "</tr>\n",
       "<tr>\n",
       "  <th>const</th>       <td> -1.13e+05</td> <td> 6277.246</td> <td>  -18.005</td> <td> 0.000</td> <td>-1.25e+05</td> <td>-1.01e+05</td>\n",
       "</tr>\n",
       "<tr>\n",
       "  <th>overallqual</th> <td> 2.593e+04</td> <td> 1031.701</td> <td>   25.137</td> <td> 0.000</td> <td> 2.39e+04</td> <td>  2.8e+04</td>\n",
       "</tr>\n",
       "<tr>\n",
       "  <th>grlivarea</th>   <td>   70.7127</td> <td>    2.939</td> <td>   24.060</td> <td> 0.000</td> <td>   64.948</td> <td>   76.478</td>\n",
       "</tr>\n",
       "<tr>\n",
       "  <th>garagecars</th>  <td> 1.646e+04</td> <td> 1773.772</td> <td>    9.277</td> <td> 0.000</td> <td>  1.3e+04</td> <td> 1.99e+04</td>\n",
       "</tr>\n",
       "<tr>\n",
       "  <th>1.5Fin</th>      <td>-1.579e+04</td> <td> 5481.682</td> <td>   -2.881</td> <td> 0.004</td> <td>-2.65e+04</td> <td>-5039.596</td>\n",
       "</tr>\n",
       "<tr>\n",
       "  <th>1Story</th>      <td> 1.325e+04</td> <td> 4571.239</td> <td>    2.898</td> <td> 0.004</td> <td> 4280.913</td> <td> 2.22e+04</td>\n",
       "</tr>\n",
       "<tr>\n",
       "  <th>2.5Fin</th>      <td>-5.838e+04</td> <td>  1.5e+04</td> <td>   -3.897</td> <td> 0.000</td> <td>-8.78e+04</td> <td> -2.9e+04</td>\n",
       "</tr>\n",
       "<tr>\n",
       "  <th>2.5Unf</th>      <td> -5.82e+04</td> <td> 1.25e+04</td> <td>   -4.642</td> <td> 0.000</td> <td>-8.28e+04</td> <td>-3.36e+04</td>\n",
       "</tr>\n",
       "<tr>\n",
       "  <th>2Story</th>      <td>-1.655e+04</td> <td> 4911.176</td> <td>   -3.370</td> <td> 0.001</td> <td>-2.62e+04</td> <td>-6915.939</td>\n",
       "</tr>\n",
       "<tr>\n",
       "  <th>SFoyer</th>      <td> 1.583e+04</td> <td> 7719.674</td> <td>    2.051</td> <td> 0.040</td> <td>  690.285</td> <td>  3.1e+04</td>\n",
       "</tr>\n",
       "</table>\n",
       "<table class=\"simpletable\">\n",
       "<tr>\n",
       "  <th>Omnibus:</th>       <td>358.053</td> <th>  Durbin-Watson:     </th> <td>   2.000</td> \n",
       "</tr>\n",
       "<tr>\n",
       "  <th>Prob(Omnibus):</th> <td> 0.000</td>  <th>  Jarque-Bera (JB):  </th> <td>19899.291</td>\n",
       "</tr>\n",
       "<tr>\n",
       "  <th>Skew:</th>          <td> 0.068</td>  <th>  Prob(JB):          </th> <td>    0.00</td> \n",
       "</tr>\n",
       "<tr>\n",
       "  <th>Kurtosis:</th>      <td>21.086</td>  <th>  Cond. No.          </th> <td>2.54e+04</td> \n",
       "</tr>\n",
       "</table><br/><br/>Warnings:<br/>[1] Standard Errors assume that the covariance matrix of the errors is correctly specified.<br/>[2] The condition number is large, 2.54e+04. This might indicate that there are<br/>strong multicollinearity or other numerical problems."
      ],
      "text/plain": [
       "<class 'statsmodels.iolib.summary.Summary'>\n",
       "\"\"\"\n",
       "                            OLS Regression Results                            \n",
       "==============================================================================\n",
       "Dep. Variable:              saleprice   R-squared:                       0.766\n",
       "Model:                            OLS   Adj. R-squared:                  0.765\n",
       "Method:                 Least Squares   F-statistic:                     527.3\n",
       "Date:                Wed, 02 Sep 2020   Prob (F-statistic):               0.00\n",
       "Time:                        12:28:58   Log-Likelihood:                -17484.\n",
       "No. Observations:                1460   AIC:                         3.499e+04\n",
       "Df Residuals:                    1450   BIC:                         3.504e+04\n",
       "Df Model:                           9                                         \n",
       "Covariance Type:            nonrobust                                         \n",
       "===============================================================================\n",
       "                  coef    std err          t      P>|t|      [0.025      0.975]\n",
       "-------------------------------------------------------------------------------\n",
       "const        -1.13e+05   6277.246    -18.005      0.000   -1.25e+05   -1.01e+05\n",
       "overallqual  2.593e+04   1031.701     25.137      0.000    2.39e+04     2.8e+04\n",
       "grlivarea      70.7127      2.939     24.060      0.000      64.948      76.478\n",
       "garagecars   1.646e+04   1773.772      9.277      0.000     1.3e+04    1.99e+04\n",
       "1.5Fin      -1.579e+04   5481.682     -2.881      0.004   -2.65e+04   -5039.596\n",
       "1Story       1.325e+04   4571.239      2.898      0.004    4280.913    2.22e+04\n",
       "2.5Fin      -5.838e+04    1.5e+04     -3.897      0.000   -8.78e+04    -2.9e+04\n",
       "2.5Unf       -5.82e+04   1.25e+04     -4.642      0.000   -8.28e+04   -3.36e+04\n",
       "2Story      -1.655e+04   4911.176     -3.370      0.001   -2.62e+04   -6915.939\n",
       "SFoyer       1.583e+04   7719.674      2.051      0.040     690.285     3.1e+04\n",
       "==============================================================================\n",
       "Omnibus:                      358.053   Durbin-Watson:                   2.000\n",
       "Prob(Omnibus):                  0.000   Jarque-Bera (JB):            19899.291\n",
       "Skew:                           0.068   Prob(JB):                         0.00\n",
       "Kurtosis:                      21.086   Cond. No.                     2.54e+04\n",
       "==============================================================================\n",
       "\n",
       "Warnings:\n",
       "[1] Standard Errors assume that the covariance matrix of the errors is correctly specified.\n",
       "[2] The condition number is large, 2.54e+04. This might indicate that there are\n",
       "strong multicollinearity or other numerical problems.\n",
       "\"\"\""
      ]
     },
     "execution_count": 4,
     "metadata": {},
     "output_type": "execute_result"
    },
    {
     "data": {
      "application/javascript": [
       "\n",
       "            setTimeout(function() {\n",
       "                var nbb_cell_id = 4;\n",
       "                var nbb_unformatted_code = \"X_train, X_test, y_train, y_test = train_test_split(\\n    X, Y, test_size=0.2, random_state=27\\n)\\nX = sm.add_constant(X)\\nmodel = sm.OLS(Y, X).fit()\\nmodel.summary()\";\n",
       "                var nbb_formatted_code = \"X_train, X_test, y_train, y_test = train_test_split(\\n    X, Y, test_size=0.2, random_state=27\\n)\\nX = sm.add_constant(X)\\nmodel = sm.OLS(Y, X).fit()\\nmodel.summary()\";\n",
       "                var nbb_cells = Jupyter.notebook.get_cells();\n",
       "                for (var i = 0; i < nbb_cells.length; ++i) {\n",
       "                    if (nbb_cells[i].input_prompt_number == nbb_cell_id) {\n",
       "                        if (nbb_cells[i].get_text() == nbb_unformatted_code) {\n",
       "                             nbb_cells[i].set_text(nbb_formatted_code);\n",
       "                        }\n",
       "                        break;\n",
       "                    }\n",
       "                }\n",
       "            }, 500);\n",
       "            "
      ],
      "text/plain": [
       "<IPython.core.display.Javascript object>"
      ]
     },
     "metadata": {},
     "output_type": "display_data"
    }
   ],
   "source": [
    "X_train, X_test, y_train, y_test = train_test_split(\n",
    "    X, Y, test_size=0.2, random_state=27\n",
    ")\n",
    "X = sm.add_constant(X)\n",
    "model = sm.OLS(Y, X).fit()\n",
    "model.summary()"
   ]
  },
  {
   "cell_type": "markdown",
   "metadata": {},
   "source": [
    "Try OLS, Lasso, Ridge, and ElasticNet regression using the same model specification. This time, you need to do k-fold cross-validation to choose the best hyperparameter values for your models. Scikit-learn has RidgeCV, LassoCV, and ElasticNetCV that you can utilize to do this. Which model is the best? Why?"
   ]
  },
  {
   "cell_type": "code",
   "execution_count": 11,
   "metadata": {},
   "outputs": [
    {
     "data": {
      "application/javascript": [
       "\n",
       "            setTimeout(function() {\n",
       "                var nbb_cell_id = 11;\n",
       "                var nbb_unformatted_code = \"alphas = [np.power(10.0,p) for p in np.arange(-10,40,1)]\";\n",
       "                var nbb_formatted_code = \"alphas = [np.power(10.0, p) for p in np.arange(-10, 40, 1)]\";\n",
       "                var nbb_cells = Jupyter.notebook.get_cells();\n",
       "                for (var i = 0; i < nbb_cells.length; ++i) {\n",
       "                    if (nbb_cells[i].input_prompt_number == nbb_cell_id) {\n",
       "                        if (nbb_cells[i].get_text() == nbb_unformatted_code) {\n",
       "                             nbb_cells[i].set_text(nbb_formatted_code);\n",
       "                        }\n",
       "                        break;\n",
       "                    }\n",
       "                }\n",
       "            }, 500);\n",
       "            "
      ],
      "text/plain": [
       "<IPython.core.display.Javascript object>"
      ]
     },
     "metadata": {},
     "output_type": "display_data"
    },
    {
     "data": {
      "application/javascript": [
       "\n",
       "            setTimeout(function() {\n",
       "                var nbb_cell_id = 11;\n",
       "                var nbb_unformatted_code = \"alphas = [np.power(10.0,p) for p in np.arange(-10,40,1)]\";\n",
       "                var nbb_formatted_code = \"alphas = [np.power(10.0, p) for p in np.arange(-10, 40, 1)]\";\n",
       "                var nbb_cells = Jupyter.notebook.get_cells();\n",
       "                for (var i = 0; i < nbb_cells.length; ++i) {\n",
       "                    if (nbb_cells[i].input_prompt_number == nbb_cell_id) {\n",
       "                        if (nbb_cells[i].get_text() == nbb_unformatted_code) {\n",
       "                             nbb_cells[i].set_text(nbb_formatted_code);\n",
       "                        }\n",
       "                        break;\n",
       "                    }\n",
       "                }\n",
       "            }, 500);\n",
       "            "
      ],
      "text/plain": [
       "<IPython.core.display.Javascript object>"
      ]
     },
     "metadata": {},
     "output_type": "display_data"
    }
   ],
   "source": [
    "alphas = [np.power(10.0, p) for p in np.arange(-10, 40, 1)]"
   ]
  },
  {
   "cell_type": "code",
   "execution_count": 12,
   "metadata": {},
   "outputs": [
    {
     "name": "stdout",
     "output_type": "stream",
     "text": [
      "Best alpha value is: 100.0\n",
      "R-squared of the model in training set is: 0.7594141275118893\n",
      "-----Test set statistics-----\n",
      "R-squared of the model in test set is: 0.7752026930678922\n",
      "Mean absolute error of the prediction is: 26320.739262559047\n",
      "Mean squared error of the prediction is: 1507277117.1435916\n",
      "Root mean squared error of the prediction is: 38823.666971881874\n",
      "Mean absolute percentage error of the prediction is: 16.121026586582623\n"
     ]
    },
    {
     "data": {
      "application/javascript": [
       "\n",
       "            setTimeout(function() {\n",
       "                var nbb_cell_id = 12;\n",
       "                var nbb_unformatted_code = \"lasso_cv = LassoCV(alphas=alphas, cv=5)\\n\\nlasso_cv.fit(X_train, y_train)\\n\\n# We are making predictions here\\ny_preds_train = lasso_cv.predict(X_train)\\ny_preds_test = lasso_cv.predict(X_test)\\n\\nprint(\\\"Best alpha value is: {}\\\".format(lasso_cv.alpha_))\\nprint(\\n    \\\"R-squared of the model in training set is: {}\\\".format(\\n        lasso_cv.score(X_train, y_train)\\n    )\\n)\\nprint(\\\"-----Test set statistics-----\\\")\\nprint(\\n    \\\"R-squared of the model in test set is: {}\\\".format(lasso_cv.score(X_test, y_test))\\n)\\nprint(\\n    \\\"Mean absolute error of the prediction is: {}\\\".format(\\n        mean_absolute_error(y_test, y_preds_test)\\n    )\\n)\\nprint(\\\"Mean squared error of the prediction is: {}\\\".format(mse(y_test, y_preds_test)))\\nprint(\\n    \\\"Root mean squared error of the prediction is: {}\\\".format(\\n        rmse(y_test, y_preds_test)\\n    )\\n)\\nprint(\\n    \\\"Mean absolute percentage error of the prediction is: {}\\\".format(\\n        np.mean(np.abs((y_test - y_preds_test) / y_test)) * 100\\n    )\\n)\";\n",
       "                var nbb_formatted_code = \"lasso_cv = LassoCV(alphas=alphas, cv=5)\\n\\nlasso_cv.fit(X_train, y_train)\\n\\n# We are making predictions here\\ny_preds_train = lasso_cv.predict(X_train)\\ny_preds_test = lasso_cv.predict(X_test)\\n\\nprint(\\\"Best alpha value is: {}\\\".format(lasso_cv.alpha_))\\nprint(\\n    \\\"R-squared of the model in training set is: {}\\\".format(\\n        lasso_cv.score(X_train, y_train)\\n    )\\n)\\nprint(\\\"-----Test set statistics-----\\\")\\nprint(\\n    \\\"R-squared of the model in test set is: {}\\\".format(lasso_cv.score(X_test, y_test))\\n)\\nprint(\\n    \\\"Mean absolute error of the prediction is: {}\\\".format(\\n        mean_absolute_error(y_test, y_preds_test)\\n    )\\n)\\nprint(\\\"Mean squared error of the prediction is: {}\\\".format(mse(y_test, y_preds_test)))\\nprint(\\n    \\\"Root mean squared error of the prediction is: {}\\\".format(\\n        rmse(y_test, y_preds_test)\\n    )\\n)\\nprint(\\n    \\\"Mean absolute percentage error of the prediction is: {}\\\".format(\\n        np.mean(np.abs((y_test - y_preds_test) / y_test)) * 100\\n    )\\n)\";\n",
       "                var nbb_cells = Jupyter.notebook.get_cells();\n",
       "                for (var i = 0; i < nbb_cells.length; ++i) {\n",
       "                    if (nbb_cells[i].input_prompt_number == nbb_cell_id) {\n",
       "                        if (nbb_cells[i].get_text() == nbb_unformatted_code) {\n",
       "                             nbb_cells[i].set_text(nbb_formatted_code);\n",
       "                        }\n",
       "                        break;\n",
       "                    }\n",
       "                }\n",
       "            }, 500);\n",
       "            "
      ],
      "text/plain": [
       "<IPython.core.display.Javascript object>"
      ]
     },
     "metadata": {},
     "output_type": "display_data"
    },
    {
     "data": {
      "application/javascript": [
       "\n",
       "            setTimeout(function() {\n",
       "                var nbb_cell_id = 12;\n",
       "                var nbb_unformatted_code = \"lasso_cv = LassoCV(alphas=alphas, cv=5)\\n\\nlasso_cv.fit(X_train, y_train)\\n\\n# We are making predictions here\\ny_preds_train = lasso_cv.predict(X_train)\\ny_preds_test = lasso_cv.predict(X_test)\\n\\nprint(\\\"Best alpha value is: {}\\\".format(lasso_cv.alpha_))\\nprint(\\n    \\\"R-squared of the model in training set is: {}\\\".format(\\n        lasso_cv.score(X_train, y_train)\\n    )\\n)\\nprint(\\\"-----Test set statistics-----\\\")\\nprint(\\n    \\\"R-squared of the model in test set is: {}\\\".format(lasso_cv.score(X_test, y_test))\\n)\\nprint(\\n    \\\"Mean absolute error of the prediction is: {}\\\".format(\\n        mean_absolute_error(y_test, y_preds_test)\\n    )\\n)\\nprint(\\\"Mean squared error of the prediction is: {}\\\".format(mse(y_test, y_preds_test)))\\nprint(\\n    \\\"Root mean squared error of the prediction is: {}\\\".format(\\n        rmse(y_test, y_preds_test)\\n    )\\n)\\nprint(\\n    \\\"Mean absolute percentage error of the prediction is: {}\\\".format(\\n        np.mean(np.abs((y_test - y_preds_test) / y_test)) * 100\\n    )\\n)\";\n",
       "                var nbb_formatted_code = \"lasso_cv = LassoCV(alphas=alphas, cv=5)\\n\\nlasso_cv.fit(X_train, y_train)\\n\\n# We are making predictions here\\ny_preds_train = lasso_cv.predict(X_train)\\ny_preds_test = lasso_cv.predict(X_test)\\n\\nprint(\\\"Best alpha value is: {}\\\".format(lasso_cv.alpha_))\\nprint(\\n    \\\"R-squared of the model in training set is: {}\\\".format(\\n        lasso_cv.score(X_train, y_train)\\n    )\\n)\\nprint(\\\"-----Test set statistics-----\\\")\\nprint(\\n    \\\"R-squared of the model in test set is: {}\\\".format(lasso_cv.score(X_test, y_test))\\n)\\nprint(\\n    \\\"Mean absolute error of the prediction is: {}\\\".format(\\n        mean_absolute_error(y_test, y_preds_test)\\n    )\\n)\\nprint(\\\"Mean squared error of the prediction is: {}\\\".format(mse(y_test, y_preds_test)))\\nprint(\\n    \\\"Root mean squared error of the prediction is: {}\\\".format(\\n        rmse(y_test, y_preds_test)\\n    )\\n)\\nprint(\\n    \\\"Mean absolute percentage error of the prediction is: {}\\\".format(\\n        np.mean(np.abs((y_test - y_preds_test) / y_test)) * 100\\n    )\\n)\";\n",
       "                var nbb_cells = Jupyter.notebook.get_cells();\n",
       "                for (var i = 0; i < nbb_cells.length; ++i) {\n",
       "                    if (nbb_cells[i].input_prompt_number == nbb_cell_id) {\n",
       "                        if (nbb_cells[i].get_text() == nbb_unformatted_code) {\n",
       "                             nbb_cells[i].set_text(nbb_formatted_code);\n",
       "                        }\n",
       "                        break;\n",
       "                    }\n",
       "                }\n",
       "            }, 500);\n",
       "            "
      ],
      "text/plain": [
       "<IPython.core.display.Javascript object>"
      ]
     },
     "metadata": {},
     "output_type": "display_data"
    }
   ],
   "source": [
    "lasso_cv = LassoCV(alphas=alphas, cv=5)\n",
    "\n",
    "lasso_cv.fit(X_train, y_train)\n",
    "\n",
    "# We are making predictions here\n",
    "y_preds_train = lasso_cv.predict(X_train)\n",
    "y_preds_test = lasso_cv.predict(X_test)\n",
    "\n",
    "print(\"Best alpha value is: {}\".format(lasso_cv.alpha_))\n",
    "print(\n",
    "    \"R-squared of the model in training set is: {}\".format(\n",
    "        lasso_cv.score(X_train, y_train)\n",
    "    )\n",
    ")\n",
    "print(\"-----Test set statistics-----\")\n",
    "print(\n",
    "    \"R-squared of the model in test set is: {}\".format(lasso_cv.score(X_test, y_test))\n",
    ")\n",
    "print(\n",
    "    \"Mean absolute error of the prediction is: {}\".format(\n",
    "        mean_absolute_error(y_test, y_preds_test)\n",
    "    )\n",
    ")\n",
    "print(\"Mean squared error of the prediction is: {}\".format(mse(y_test, y_preds_test)))\n",
    "print(\n",
    "    \"Root mean squared error of the prediction is: {}\".format(\n",
    "        rmse(y_test, y_preds_test)\n",
    "    )\n",
    ")\n",
    "print(\n",
    "    \"Mean absolute percentage error of the prediction is: {}\".format(\n",
    "        np.mean(np.abs((y_test - y_preds_test) / y_test)) * 100\n",
    "    )\n",
    ")"
   ]
  },
  {
   "cell_type": "code",
   "execution_count": 13,
   "metadata": {},
   "outputs": [
    {
     "name": "stdout",
     "output_type": "stream",
     "text": [
      "Best alpha value is: 1.0\n",
      "R-squared of the model in training set is: 0.7602294369359575\n",
      "-----Test set statistics-----\n",
      "R-squared of the model in test set is: 0.7801889958433517\n",
      "Mean absolute error of the prediction is: 26076.79183374127\n",
      "Mean squared error of the prediction is: 1473843709.176345\n",
      "Root mean squared error of the prediction is: 38390.67216364341\n",
      "Mean absolute percentage error of the prediction is: 15.960544227755763\n"
     ]
    },
    {
     "data": {
      "application/javascript": [
       "\n",
       "            setTimeout(function() {\n",
       "                var nbb_cell_id = 13;\n",
       "                var nbb_unformatted_code = \"ridge_cv = RidgeCV(alphas=alphas, cv=5)\\n\\nridge_cv.fit(X_train, y_train)\\n\\n# We are making predictions here\\ny_preds_train = ridge_cv.predict(X_train)\\ny_preds_test = ridge_cv.predict(X_test)\\n\\nprint(\\\"Best alpha value is: {}\\\".format(ridge_cv.alpha_))\\nprint(\\\"R-squared of the model in training set is: {}\\\".format(ridge_cv.score(X_train, y_train)))\\nprint(\\\"-----Test set statistics-----\\\")\\nprint(\\\"R-squared of the model in test set is: {}\\\".format(ridge_cv.score(X_test, y_test)))\\nprint(\\\"Mean absolute error of the prediction is: {}\\\".format(mean_absolute_error(y_test, y_preds_test)))\\nprint(\\\"Mean squared error of the prediction is: {}\\\".format(mse(y_test, y_preds_test)))\\nprint(\\\"Root mean squared error of the prediction is: {}\\\".format(rmse(y_test, y_preds_test)))\\nprint(\\\"Mean absolute percentage error of the prediction is: {}\\\".format(np.mean(np.abs((y_test - y_preds_test) / y_test)) * 100))\";\n",
       "                var nbb_formatted_code = \"ridge_cv = RidgeCV(alphas=alphas, cv=5)\\n\\nridge_cv.fit(X_train, y_train)\\n\\n# We are making predictions here\\ny_preds_train = ridge_cv.predict(X_train)\\ny_preds_test = ridge_cv.predict(X_test)\\n\\nprint(\\\"Best alpha value is: {}\\\".format(ridge_cv.alpha_))\\nprint(\\n    \\\"R-squared of the model in training set is: {}\\\".format(\\n        ridge_cv.score(X_train, y_train)\\n    )\\n)\\nprint(\\\"-----Test set statistics-----\\\")\\nprint(\\n    \\\"R-squared of the model in test set is: {}\\\".format(ridge_cv.score(X_test, y_test))\\n)\\nprint(\\n    \\\"Mean absolute error of the prediction is: {}\\\".format(\\n        mean_absolute_error(y_test, y_preds_test)\\n    )\\n)\\nprint(\\\"Mean squared error of the prediction is: {}\\\".format(mse(y_test, y_preds_test)))\\nprint(\\n    \\\"Root mean squared error of the prediction is: {}\\\".format(\\n        rmse(y_test, y_preds_test)\\n    )\\n)\\nprint(\\n    \\\"Mean absolute percentage error of the prediction is: {}\\\".format(\\n        np.mean(np.abs((y_test - y_preds_test) / y_test)) * 100\\n    )\\n)\";\n",
       "                var nbb_cells = Jupyter.notebook.get_cells();\n",
       "                for (var i = 0; i < nbb_cells.length; ++i) {\n",
       "                    if (nbb_cells[i].input_prompt_number == nbb_cell_id) {\n",
       "                        if (nbb_cells[i].get_text() == nbb_unformatted_code) {\n",
       "                             nbb_cells[i].set_text(nbb_formatted_code);\n",
       "                        }\n",
       "                        break;\n",
       "                    }\n",
       "                }\n",
       "            }, 500);\n",
       "            "
      ],
      "text/plain": [
       "<IPython.core.display.Javascript object>"
      ]
     },
     "metadata": {},
     "output_type": "display_data"
    },
    {
     "data": {
      "application/javascript": [
       "\n",
       "            setTimeout(function() {\n",
       "                var nbb_cell_id = 13;\n",
       "                var nbb_unformatted_code = \"ridge_cv = RidgeCV(alphas=alphas, cv=5)\\n\\nridge_cv.fit(X_train, y_train)\\n\\n# We are making predictions here\\ny_preds_train = ridge_cv.predict(X_train)\\ny_preds_test = ridge_cv.predict(X_test)\\n\\nprint(\\\"Best alpha value is: {}\\\".format(ridge_cv.alpha_))\\nprint(\\\"R-squared of the model in training set is: {}\\\".format(ridge_cv.score(X_train, y_train)))\\nprint(\\\"-----Test set statistics-----\\\")\\nprint(\\\"R-squared of the model in test set is: {}\\\".format(ridge_cv.score(X_test, y_test)))\\nprint(\\\"Mean absolute error of the prediction is: {}\\\".format(mean_absolute_error(y_test, y_preds_test)))\\nprint(\\\"Mean squared error of the prediction is: {}\\\".format(mse(y_test, y_preds_test)))\\nprint(\\\"Root mean squared error of the prediction is: {}\\\".format(rmse(y_test, y_preds_test)))\\nprint(\\\"Mean absolute percentage error of the prediction is: {}\\\".format(np.mean(np.abs((y_test - y_preds_test) / y_test)) * 100))\";\n",
       "                var nbb_formatted_code = \"ridge_cv = RidgeCV(alphas=alphas, cv=5)\\n\\nridge_cv.fit(X_train, y_train)\\n\\n# We are making predictions here\\ny_preds_train = ridge_cv.predict(X_train)\\ny_preds_test = ridge_cv.predict(X_test)\\n\\nprint(\\\"Best alpha value is: {}\\\".format(ridge_cv.alpha_))\\nprint(\\n    \\\"R-squared of the model in training set is: {}\\\".format(\\n        ridge_cv.score(X_train, y_train)\\n    )\\n)\\nprint(\\\"-----Test set statistics-----\\\")\\nprint(\\n    \\\"R-squared of the model in test set is: {}\\\".format(ridge_cv.score(X_test, y_test))\\n)\\nprint(\\n    \\\"Mean absolute error of the prediction is: {}\\\".format(\\n        mean_absolute_error(y_test, y_preds_test)\\n    )\\n)\\nprint(\\\"Mean squared error of the prediction is: {}\\\".format(mse(y_test, y_preds_test)))\\nprint(\\n    \\\"Root mean squared error of the prediction is: {}\\\".format(\\n        rmse(y_test, y_preds_test)\\n    )\\n)\\nprint(\\n    \\\"Mean absolute percentage error of the prediction is: {}\\\".format(\\n        np.mean(np.abs((y_test - y_preds_test) / y_test)) * 100\\n    )\\n)\";\n",
       "                var nbb_cells = Jupyter.notebook.get_cells();\n",
       "                for (var i = 0; i < nbb_cells.length; ++i) {\n",
       "                    if (nbb_cells[i].input_prompt_number == nbb_cell_id) {\n",
       "                        if (nbb_cells[i].get_text() == nbb_unformatted_code) {\n",
       "                             nbb_cells[i].set_text(nbb_formatted_code);\n",
       "                        }\n",
       "                        break;\n",
       "                    }\n",
       "                }\n",
       "            }, 500);\n",
       "            "
      ],
      "text/plain": [
       "<IPython.core.display.Javascript object>"
      ]
     },
     "metadata": {},
     "output_type": "display_data"
    }
   ],
   "source": [
    "ridge_cv = RidgeCV(alphas=alphas, cv=5)\n",
    "\n",
    "ridge_cv.fit(X_train, y_train)\n",
    "\n",
    "# We are making predictions here\n",
    "y_preds_train = ridge_cv.predict(X_train)\n",
    "y_preds_test = ridge_cv.predict(X_test)\n",
    "\n",
    "print(\"Best alpha value is: {}\".format(ridge_cv.alpha_))\n",
    "print(\n",
    "    \"R-squared of the model in training set is: {}\".format(\n",
    "        ridge_cv.score(X_train, y_train)\n",
    "    )\n",
    ")\n",
    "print(\"-----Test set statistics-----\")\n",
    "print(\n",
    "    \"R-squared of the model in test set is: {}\".format(ridge_cv.score(X_test, y_test))\n",
    ")\n",
    "print(\n",
    "    \"Mean absolute error of the prediction is: {}\".format(\n",
    "        mean_absolute_error(y_test, y_preds_test)\n",
    "    )\n",
    ")\n",
    "print(\"Mean squared error of the prediction is: {}\".format(mse(y_test, y_preds_test)))\n",
    "print(\n",
    "    \"Root mean squared error of the prediction is: {}\".format(\n",
    "        rmse(y_test, y_preds_test)\n",
    "    )\n",
    ")\n",
    "print(\n",
    "    \"Mean absolute percentage error of the prediction is: {}\".format(\n",
    "        np.mean(np.abs((y_test - y_preds_test) / y_test)) * 100\n",
    "    )\n",
    ")"
   ]
  },
  {
   "cell_type": "code",
   "execution_count": 14,
   "metadata": {},
   "outputs": [
    {
     "name": "stdout",
     "output_type": "stream",
     "text": [
      "Best alpha value is: 0.01\n",
      "R-squared of the model in training set is: 0.759497725873024\n",
      "-----Test set statistics-----\n",
      "R-squared of the model in test set is: 0.775958984465708\n",
      "Mean absolute error of the prediction is: 26276.815500145152\n",
      "Mean squared error of the prediction is: 1502206145.7277088\n",
      "Root mean squared error of the prediction is: 38758.304216357414\n",
      "Mean absolute percentage error of the prediction is: 16.100900400667502\n"
     ]
    },
    {
     "data": {
      "application/javascript": [
       "\n",
       "            setTimeout(function() {\n",
       "                var nbb_cell_id = 14;\n",
       "                var nbb_unformatted_code = \"elasticnet_cv = ElasticNetCV(alphas=alphas, cv=5)\\nelasticnet_cv.fit(X_train, y_train)\\n\\n# We are making predictions here\\ny_preds_train = elasticnet_cv.predict(X_train)\\ny_preds_test = elasticnet_cv.predict(X_test)\\n\\nprint(\\\"Best alpha value is: {}\\\".format(elasticnet_cv.alpha_))\\nprint(\\\"R-squared of the model in training set is: {}\\\".format(elasticnet_cv.score(X_train, y_train)))\\nprint(\\\"-----Test set statistics-----\\\")\\nprint(\\\"R-squared of the model in test set is: {}\\\".format(elasticnet_cv.score(X_test, y_test)))\\nprint(\\\"Mean absolute error of the prediction is: {}\\\".format(mean_absolute_error(y_test, y_preds_test)))\\nprint(\\\"Mean squared error of the prediction is: {}\\\".format(mse(y_test, y_preds_test)))\\nprint(\\\"Root mean squared error of the prediction is: {}\\\".format(rmse(y_test, y_preds_test)))\\nprint(\\\"Mean absolute percentage error of the prediction is: {}\\\".format(np.mean(np.abs((y_test - y_preds_test) / y_test)) * 100))\";\n",
       "                var nbb_formatted_code = \"elasticnet_cv = ElasticNetCV(alphas=alphas, cv=5)\\nelasticnet_cv.fit(X_train, y_train)\\n\\n# We are making predictions here\\ny_preds_train = elasticnet_cv.predict(X_train)\\ny_preds_test = elasticnet_cv.predict(X_test)\\n\\nprint(\\\"Best alpha value is: {}\\\".format(elasticnet_cv.alpha_))\\nprint(\\n    \\\"R-squared of the model in training set is: {}\\\".format(\\n        elasticnet_cv.score(X_train, y_train)\\n    )\\n)\\nprint(\\\"-----Test set statistics-----\\\")\\nprint(\\n    \\\"R-squared of the model in test set is: {}\\\".format(\\n        elasticnet_cv.score(X_test, y_test)\\n    )\\n)\\nprint(\\n    \\\"Mean absolute error of the prediction is: {}\\\".format(\\n        mean_absolute_error(y_test, y_preds_test)\\n    )\\n)\\nprint(\\\"Mean squared error of the prediction is: {}\\\".format(mse(y_test, y_preds_test)))\\nprint(\\n    \\\"Root mean squared error of the prediction is: {}\\\".format(\\n        rmse(y_test, y_preds_test)\\n    )\\n)\\nprint(\\n    \\\"Mean absolute percentage error of the prediction is: {}\\\".format(\\n        np.mean(np.abs((y_test - y_preds_test) / y_test)) * 100\\n    )\\n)\";\n",
       "                var nbb_cells = Jupyter.notebook.get_cells();\n",
       "                for (var i = 0; i < nbb_cells.length; ++i) {\n",
       "                    if (nbb_cells[i].input_prompt_number == nbb_cell_id) {\n",
       "                        if (nbb_cells[i].get_text() == nbb_unformatted_code) {\n",
       "                             nbb_cells[i].set_text(nbb_formatted_code);\n",
       "                        }\n",
       "                        break;\n",
       "                    }\n",
       "                }\n",
       "            }, 500);\n",
       "            "
      ],
      "text/plain": [
       "<IPython.core.display.Javascript object>"
      ]
     },
     "metadata": {},
     "output_type": "display_data"
    },
    {
     "data": {
      "application/javascript": [
       "\n",
       "            setTimeout(function() {\n",
       "                var nbb_cell_id = 14;\n",
       "                var nbb_unformatted_code = \"elasticnet_cv = ElasticNetCV(alphas=alphas, cv=5)\\nelasticnet_cv.fit(X_train, y_train)\\n\\n# We are making predictions here\\ny_preds_train = elasticnet_cv.predict(X_train)\\ny_preds_test = elasticnet_cv.predict(X_test)\\n\\nprint(\\\"Best alpha value is: {}\\\".format(elasticnet_cv.alpha_))\\nprint(\\\"R-squared of the model in training set is: {}\\\".format(elasticnet_cv.score(X_train, y_train)))\\nprint(\\\"-----Test set statistics-----\\\")\\nprint(\\\"R-squared of the model in test set is: {}\\\".format(elasticnet_cv.score(X_test, y_test)))\\nprint(\\\"Mean absolute error of the prediction is: {}\\\".format(mean_absolute_error(y_test, y_preds_test)))\\nprint(\\\"Mean squared error of the prediction is: {}\\\".format(mse(y_test, y_preds_test)))\\nprint(\\\"Root mean squared error of the prediction is: {}\\\".format(rmse(y_test, y_preds_test)))\\nprint(\\\"Mean absolute percentage error of the prediction is: {}\\\".format(np.mean(np.abs((y_test - y_preds_test) / y_test)) * 100))\";\n",
       "                var nbb_formatted_code = \"elasticnet_cv = ElasticNetCV(alphas=alphas, cv=5)\\nelasticnet_cv.fit(X_train, y_train)\\n\\n# We are making predictions here\\ny_preds_train = elasticnet_cv.predict(X_train)\\ny_preds_test = elasticnet_cv.predict(X_test)\\n\\nprint(\\\"Best alpha value is: {}\\\".format(elasticnet_cv.alpha_))\\nprint(\\n    \\\"R-squared of the model in training set is: {}\\\".format(\\n        elasticnet_cv.score(X_train, y_train)\\n    )\\n)\\nprint(\\\"-----Test set statistics-----\\\")\\nprint(\\n    \\\"R-squared of the model in test set is: {}\\\".format(\\n        elasticnet_cv.score(X_test, y_test)\\n    )\\n)\\nprint(\\n    \\\"Mean absolute error of the prediction is: {}\\\".format(\\n        mean_absolute_error(y_test, y_preds_test)\\n    )\\n)\\nprint(\\\"Mean squared error of the prediction is: {}\\\".format(mse(y_test, y_preds_test)))\\nprint(\\n    \\\"Root mean squared error of the prediction is: {}\\\".format(\\n        rmse(y_test, y_preds_test)\\n    )\\n)\\nprint(\\n    \\\"Mean absolute percentage error of the prediction is: {}\\\".format(\\n        np.mean(np.abs((y_test - y_preds_test) / y_test)) * 100\\n    )\\n)\";\n",
       "                var nbb_cells = Jupyter.notebook.get_cells();\n",
       "                for (var i = 0; i < nbb_cells.length; ++i) {\n",
       "                    if (nbb_cells[i].input_prompt_number == nbb_cell_id) {\n",
       "                        if (nbb_cells[i].get_text() == nbb_unformatted_code) {\n",
       "                             nbb_cells[i].set_text(nbb_formatted_code);\n",
       "                        }\n",
       "                        break;\n",
       "                    }\n",
       "                }\n",
       "            }, 500);\n",
       "            "
      ],
      "text/plain": [
       "<IPython.core.display.Javascript object>"
      ]
     },
     "metadata": {},
     "output_type": "display_data"
    }
   ],
   "source": [
    "elasticnet_cv = ElasticNetCV(alphas=alphas, cv=5)\n",
    "elasticnet_cv.fit(X_train, y_train)\n",
    "\n",
    "# We are making predictions here\n",
    "y_preds_train = elasticnet_cv.predict(X_train)\n",
    "y_preds_test = elasticnet_cv.predict(X_test)\n",
    "\n",
    "print(\"Best alpha value is: {}\".format(elasticnet_cv.alpha_))\n",
    "print(\n",
    "    \"R-squared of the model in training set is: {}\".format(\n",
    "        elasticnet_cv.score(X_train, y_train)\n",
    "    )\n",
    ")\n",
    "print(\"-----Test set statistics-----\")\n",
    "print(\n",
    "    \"R-squared of the model in test set is: {}\".format(\n",
    "        elasticnet_cv.score(X_test, y_test)\n",
    "    )\n",
    ")\n",
    "print(\n",
    "    \"Mean absolute error of the prediction is: {}\".format(\n",
    "        mean_absolute_error(y_test, y_preds_test)\n",
    "    )\n",
    ")\n",
    "print(\"Mean squared error of the prediction is: {}\".format(mse(y_test, y_preds_test)))\n",
    "print(\n",
    "    \"Root mean squared error of the prediction is: {}\".format(\n",
    "        rmse(y_test, y_preds_test)\n",
    "    )\n",
    ")\n",
    "print(\n",
    "    \"Mean absolute percentage error of the prediction is: {}\".format(\n",
    "        np.mean(np.abs((y_test - y_preds_test) / y_test)) * 100\n",
    "    )\n",
    ")"
   ]
  },
  {
   "cell_type": "markdown",
   "metadata": {},
   "source": [
    "It appears that the best model is the ridge model."
   ]
  }
 ],
 "metadata": {
  "kernelspec": {
   "display_name": "Python 3",
   "language": "python",
   "name": "python3"
  },
  "language_info": {
   "codemirror_mode": {
    "name": "ipython",
    "version": 3
   },
   "file_extension": ".py",
   "mimetype": "text/x-python",
   "name": "python",
   "nbconvert_exporter": "python",
   "pygments_lexer": "ipython3",
   "version": "3.7.6"
  }
 },
 "nbformat": 4,
 "nbformat_minor": 4
}
