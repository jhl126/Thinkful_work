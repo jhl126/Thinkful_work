{
 "cells": [
  {
   "cell_type": "markdown",
   "metadata": {},
   "source": [
    "Load the houseprices data from Thinkful's database."
   ]
  },
  {
   "cell_type": "code",
   "execution_count": 1,
   "metadata": {},
   "outputs": [
    {
     "data": {
      "application/javascript": [
       "\n",
       "            setTimeout(function() {\n",
       "                var nbb_cell_id = 1;\n",
       "                var nbb_unformatted_code = \"%reload_ext nb_black\\nimport warnings\\n\\nimport pandas as pd\\nimport numpy as np\\n\\nfrom sklearn.model_selection import train_test_split, GridSearchCV\\nfrom sklearn.linear_model import LinearRegression, LassoCV, RidgeCV, ElasticNetCV\\nfrom sklearn.preprocessing import OneHotEncoder, StandardScaler\\nfrom sklearn.compose import ColumnTransformer\\nfrom sklearn.metrics import mean_absolute_error\\n\\nimport statsmodels.api as sm\\nfrom statsmodels.tools.eval_measures import mse, rmse\\nfrom statsmodels.stats.outliers_influence import variance_inflation_factor\\n\\nimport seaborn as sns\\nimport matplotlib.pyplot as plt\\n\\nfrom sqlalchemy import create_engine\\n\\n%matplotlib inline\\n\\nwarnings.filterwarnings(\\\"ignore\\\")\\npostgres_user = \\\"dsbc_student\\\"\\npostgres_pw = \\\"7*.8G9QH21\\\"\\npostgres_host = \\\"142.93.121.174\\\"\\npostgres_port = \\\"5432\\\"\\npostgres_db = \\\"houseprices\\\"\\n\\nengine = create_engine(\\n    \\\"postgresql://{}:{}@{}:{}/{}\\\".format(\\n        postgres_user, postgres_pw, postgres_host, postgres_port, postgres_db\\n    )\\n)\\nhouse_df = pd.read_sql_query(\\\"select * from houseprices\\\", con=engine)\\n\\nengine.dispose()\";\n",
       "                var nbb_formatted_code = \"%reload_ext nb_black\\nimport warnings\\n\\nimport pandas as pd\\nimport numpy as np\\n\\nfrom sklearn.model_selection import train_test_split, GridSearchCV\\nfrom sklearn.linear_model import LinearRegression, LassoCV, RidgeCV, ElasticNetCV\\nfrom sklearn.preprocessing import OneHotEncoder, StandardScaler\\nfrom sklearn.compose import ColumnTransformer\\nfrom sklearn.metrics import mean_absolute_error\\n\\nimport statsmodels.api as sm\\nfrom statsmodels.tools.eval_measures import mse, rmse\\nfrom statsmodels.stats.outliers_influence import variance_inflation_factor\\n\\nimport seaborn as sns\\nimport matplotlib.pyplot as plt\\n\\nfrom sqlalchemy import create_engine\\n\\n%matplotlib inline\\n\\nwarnings.filterwarnings(\\\"ignore\\\")\\npostgres_user = \\\"dsbc_student\\\"\\npostgres_pw = \\\"7*.8G9QH21\\\"\\npostgres_host = \\\"142.93.121.174\\\"\\npostgres_port = \\\"5432\\\"\\npostgres_db = \\\"houseprices\\\"\\n\\nengine = create_engine(\\n    \\\"postgresql://{}:{}@{}:{}/{}\\\".format(\\n        postgres_user, postgres_pw, postgres_host, postgres_port, postgres_db\\n    )\\n)\\nhouse_df = pd.read_sql_query(\\\"select * from houseprices\\\", con=engine)\\n\\nengine.dispose()\";\n",
       "                var nbb_cells = Jupyter.notebook.get_cells();\n",
       "                for (var i = 0; i < nbb_cells.length; ++i) {\n",
       "                    if (nbb_cells[i].input_prompt_number == nbb_cell_id) {\n",
       "                        if (nbb_cells[i].get_text() == nbb_unformatted_code) {\n",
       "                             nbb_cells[i].set_text(nbb_formatted_code);\n",
       "                        }\n",
       "                        break;\n",
       "                    }\n",
       "                }\n",
       "            }, 500);\n",
       "            "
      ],
      "text/plain": [
       "<IPython.core.display.Javascript object>"
      ]
     },
     "metadata": {},
     "output_type": "display_data"
    }
   ],
   "source": [
    "%reload_ext nb_black\n",
    "import warnings\n",
    "\n",
    "import pandas as pd\n",
    "import numpy as np\n",
    "\n",
    "from sklearn.model_selection import train_test_split, GridSearchCV\n",
    "from sklearn.linear_model import LinearRegression, LassoCV, RidgeCV, ElasticNetCV\n",
    "from sklearn.preprocessing import OneHotEncoder, StandardScaler\n",
    "from sklearn.compose import ColumnTransformer\n",
    "from sklearn.metrics import mean_absolute_error\n",
    "\n",
    "import statsmodels.api as sm\n",
    "from statsmodels.tools.eval_measures import mse, rmse\n",
    "from statsmodels.stats.outliers_influence import variance_inflation_factor\n",
    "\n",
    "import seaborn as sns\n",
    "import matplotlib.pyplot as plt\n",
    "\n",
    "from sqlalchemy import create_engine\n",
    "\n",
    "%matplotlib inline\n",
    "\n",
    "warnings.filterwarnings(\"ignore\")\n",
    "postgres_user = \"dsbc_student\"\n",
    "postgres_pw = \"7*.8G9QH21\"\n",
    "postgres_host = \"142.93.121.174\"\n",
    "postgres_port = \"5432\"\n",
    "postgres_db = \"houseprices\"\n",
    "\n",
    "engine = create_engine(\n",
    "    \"postgresql://{}:{}@{}:{}/{}\".format(\n",
    "        postgres_user, postgres_pw, postgres_host, postgres_port, postgres_db\n",
    "    )\n",
    ")\n",
    "house_df = pd.read_sql_query(\"select * from houseprices\", con=engine)\n",
    "\n",
    "engine.dispose()"
   ]
  },
  {
   "cell_type": "code",
   "execution_count": 2,
   "metadata": {},
   "outputs": [
    {
     "data": {
      "text/plain": [
       "(1460, 81)"
      ]
     },
     "execution_count": 2,
     "metadata": {},
     "output_type": "execute_result"
    },
    {
     "data": {
      "application/javascript": [
       "\n",
       "            setTimeout(function() {\n",
       "                var nbb_cell_id = 2;\n",
       "                var nbb_unformatted_code = \"house_df.shape\";\n",
       "                var nbb_formatted_code = \"house_df.shape\";\n",
       "                var nbb_cells = Jupyter.notebook.get_cells();\n",
       "                for (var i = 0; i < nbb_cells.length; ++i) {\n",
       "                    if (nbb_cells[i].input_prompt_number == nbb_cell_id) {\n",
       "                        if (nbb_cells[i].get_text() == nbb_unformatted_code) {\n",
       "                             nbb_cells[i].set_text(nbb_formatted_code);\n",
       "                        }\n",
       "                        break;\n",
       "                    }\n",
       "                }\n",
       "            }, 500);\n",
       "            "
      ],
      "text/plain": [
       "<IPython.core.display.Javascript object>"
      ]
     },
     "metadata": {},
     "output_type": "display_data"
    }
   ],
   "source": [
    "house_df.shape"
   ]
  },
  {
   "cell_type": "markdown",
   "metadata": {},
   "source": [
    "Do data cleaning, exploratory data analysis, and feature engineering. You can use your previous work in this module. But make sure that your work is satisfactory."
   ]
  },
  {
   "cell_type": "code",
   "execution_count": 3,
   "metadata": {
    "scrolled": true
   },
   "outputs": [
    {
     "data": {
      "text/html": [
       "<div>\n",
       "<style scoped>\n",
       "    .dataframe tbody tr th:only-of-type {\n",
       "        vertical-align: middle;\n",
       "    }\n",
       "\n",
       "    .dataframe tbody tr th {\n",
       "        vertical-align: top;\n",
       "    }\n",
       "\n",
       "    .dataframe thead th {\n",
       "        text-align: right;\n",
       "    }\n",
       "</style>\n",
       "<table border=\"1\" class=\"dataframe\">\n",
       "  <thead>\n",
       "    <tr style=\"text-align: right;\">\n",
       "      <th></th>\n",
       "      <th>id</th>\n",
       "      <th>mssubclass</th>\n",
       "      <th>mszoning</th>\n",
       "      <th>lotfrontage</th>\n",
       "      <th>lotarea</th>\n",
       "      <th>street</th>\n",
       "      <th>alley</th>\n",
       "      <th>lotshape</th>\n",
       "      <th>landcontour</th>\n",
       "      <th>utilities</th>\n",
       "      <th>lotconfig</th>\n",
       "      <th>landslope</th>\n",
       "      <th>neighborhood</th>\n",
       "      <th>condition1</th>\n",
       "      <th>condition2</th>\n",
       "      <th>bldgtype</th>\n",
       "      <th>housestyle</th>\n",
       "      <th>overallqual</th>\n",
       "      <th>overallcond</th>\n",
       "      <th>yearbuilt</th>\n",
       "      <th>yearremodadd</th>\n",
       "      <th>roofstyle</th>\n",
       "      <th>roofmatl</th>\n",
       "      <th>exterior1st</th>\n",
       "      <th>exterior2nd</th>\n",
       "      <th>masvnrtype</th>\n",
       "      <th>masvnrarea</th>\n",
       "      <th>exterqual</th>\n",
       "      <th>extercond</th>\n",
       "      <th>foundation</th>\n",
       "      <th>bsmtqual</th>\n",
       "      <th>bsmtcond</th>\n",
       "      <th>bsmtexposure</th>\n",
       "      <th>bsmtfintype1</th>\n",
       "      <th>bsmtfinsf1</th>\n",
       "      <th>bsmtfintype2</th>\n",
       "      <th>bsmtfinsf2</th>\n",
       "      <th>bsmtunfsf</th>\n",
       "      <th>totalbsmtsf</th>\n",
       "      <th>heating</th>\n",
       "      <th>heatingqc</th>\n",
       "      <th>centralair</th>\n",
       "      <th>electrical</th>\n",
       "      <th>firstflrsf</th>\n",
       "      <th>secondflrsf</th>\n",
       "      <th>lowqualfinsf</th>\n",
       "      <th>grlivarea</th>\n",
       "      <th>bsmtfullbath</th>\n",
       "      <th>bsmthalfbath</th>\n",
       "      <th>fullbath</th>\n",
       "      <th>halfbath</th>\n",
       "      <th>bedroomabvgr</th>\n",
       "      <th>kitchenabvgr</th>\n",
       "      <th>kitchenqual</th>\n",
       "      <th>totrmsabvgrd</th>\n",
       "      <th>functional</th>\n",
       "      <th>fireplaces</th>\n",
       "      <th>fireplacequ</th>\n",
       "      <th>garagetype</th>\n",
       "      <th>garageyrblt</th>\n",
       "      <th>garagefinish</th>\n",
       "      <th>garagecars</th>\n",
       "      <th>garagearea</th>\n",
       "      <th>garagequal</th>\n",
       "      <th>garagecond</th>\n",
       "      <th>paveddrive</th>\n",
       "      <th>wooddecksf</th>\n",
       "      <th>openporchsf</th>\n",
       "      <th>enclosedporch</th>\n",
       "      <th>threessnporch</th>\n",
       "      <th>screenporch</th>\n",
       "      <th>poolarea</th>\n",
       "      <th>poolqc</th>\n",
       "      <th>fence</th>\n",
       "      <th>miscfeature</th>\n",
       "      <th>miscval</th>\n",
       "      <th>mosold</th>\n",
       "      <th>yrsold</th>\n",
       "      <th>saletype</th>\n",
       "      <th>salecondition</th>\n",
       "      <th>saleprice</th>\n",
       "    </tr>\n",
       "  </thead>\n",
       "  <tbody>\n",
       "    <tr>\n",
       "      <th>0</th>\n",
       "      <td>1</td>\n",
       "      <td>60</td>\n",
       "      <td>RL</td>\n",
       "      <td>65.0</td>\n",
       "      <td>8450</td>\n",
       "      <td>Pave</td>\n",
       "      <td>None</td>\n",
       "      <td>Reg</td>\n",
       "      <td>Lvl</td>\n",
       "      <td>AllPub</td>\n",
       "      <td>Inside</td>\n",
       "      <td>Gtl</td>\n",
       "      <td>CollgCr</td>\n",
       "      <td>Norm</td>\n",
       "      <td>Norm</td>\n",
       "      <td>1Fam</td>\n",
       "      <td>2Story</td>\n",
       "      <td>7</td>\n",
       "      <td>5</td>\n",
       "      <td>2003</td>\n",
       "      <td>2003</td>\n",
       "      <td>Gable</td>\n",
       "      <td>CompShg</td>\n",
       "      <td>VinylSd</td>\n",
       "      <td>VinylSd</td>\n",
       "      <td>BrkFace</td>\n",
       "      <td>196.0</td>\n",
       "      <td>Gd</td>\n",
       "      <td>TA</td>\n",
       "      <td>PConc</td>\n",
       "      <td>Gd</td>\n",
       "      <td>TA</td>\n",
       "      <td>No</td>\n",
       "      <td>GLQ</td>\n",
       "      <td>706</td>\n",
       "      <td>Unf</td>\n",
       "      <td>0</td>\n",
       "      <td>150</td>\n",
       "      <td>856</td>\n",
       "      <td>GasA</td>\n",
       "      <td>Ex</td>\n",
       "      <td>Y</td>\n",
       "      <td>SBrkr</td>\n",
       "      <td>856</td>\n",
       "      <td>854</td>\n",
       "      <td>0</td>\n",
       "      <td>1710</td>\n",
       "      <td>1</td>\n",
       "      <td>0</td>\n",
       "      <td>2</td>\n",
       "      <td>1</td>\n",
       "      <td>3</td>\n",
       "      <td>1</td>\n",
       "      <td>Gd</td>\n",
       "      <td>8</td>\n",
       "      <td>Typ</td>\n",
       "      <td>0</td>\n",
       "      <td>None</td>\n",
       "      <td>Attchd</td>\n",
       "      <td>2003.0</td>\n",
       "      <td>RFn</td>\n",
       "      <td>2</td>\n",
       "      <td>548</td>\n",
       "      <td>TA</td>\n",
       "      <td>TA</td>\n",
       "      <td>Y</td>\n",
       "      <td>0</td>\n",
       "      <td>61</td>\n",
       "      <td>0</td>\n",
       "      <td>0</td>\n",
       "      <td>0</td>\n",
       "      <td>0</td>\n",
       "      <td>None</td>\n",
       "      <td>None</td>\n",
       "      <td>None</td>\n",
       "      <td>0</td>\n",
       "      <td>2</td>\n",
       "      <td>2008</td>\n",
       "      <td>WD</td>\n",
       "      <td>Normal</td>\n",
       "      <td>208500</td>\n",
       "    </tr>\n",
       "    <tr>\n",
       "      <th>1</th>\n",
       "      <td>2</td>\n",
       "      <td>20</td>\n",
       "      <td>RL</td>\n",
       "      <td>80.0</td>\n",
       "      <td>9600</td>\n",
       "      <td>Pave</td>\n",
       "      <td>None</td>\n",
       "      <td>Reg</td>\n",
       "      <td>Lvl</td>\n",
       "      <td>AllPub</td>\n",
       "      <td>FR2</td>\n",
       "      <td>Gtl</td>\n",
       "      <td>Veenker</td>\n",
       "      <td>Feedr</td>\n",
       "      <td>Norm</td>\n",
       "      <td>1Fam</td>\n",
       "      <td>1Story</td>\n",
       "      <td>6</td>\n",
       "      <td>8</td>\n",
       "      <td>1976</td>\n",
       "      <td>1976</td>\n",
       "      <td>Gable</td>\n",
       "      <td>CompShg</td>\n",
       "      <td>MetalSd</td>\n",
       "      <td>MetalSd</td>\n",
       "      <td>None</td>\n",
       "      <td>0.0</td>\n",
       "      <td>TA</td>\n",
       "      <td>TA</td>\n",
       "      <td>CBlock</td>\n",
       "      <td>Gd</td>\n",
       "      <td>TA</td>\n",
       "      <td>Gd</td>\n",
       "      <td>ALQ</td>\n",
       "      <td>978</td>\n",
       "      <td>Unf</td>\n",
       "      <td>0</td>\n",
       "      <td>284</td>\n",
       "      <td>1262</td>\n",
       "      <td>GasA</td>\n",
       "      <td>Ex</td>\n",
       "      <td>Y</td>\n",
       "      <td>SBrkr</td>\n",
       "      <td>1262</td>\n",
       "      <td>0</td>\n",
       "      <td>0</td>\n",
       "      <td>1262</td>\n",
       "      <td>0</td>\n",
       "      <td>1</td>\n",
       "      <td>2</td>\n",
       "      <td>0</td>\n",
       "      <td>3</td>\n",
       "      <td>1</td>\n",
       "      <td>TA</td>\n",
       "      <td>6</td>\n",
       "      <td>Typ</td>\n",
       "      <td>1</td>\n",
       "      <td>TA</td>\n",
       "      <td>Attchd</td>\n",
       "      <td>1976.0</td>\n",
       "      <td>RFn</td>\n",
       "      <td>2</td>\n",
       "      <td>460</td>\n",
       "      <td>TA</td>\n",
       "      <td>TA</td>\n",
       "      <td>Y</td>\n",
       "      <td>298</td>\n",
       "      <td>0</td>\n",
       "      <td>0</td>\n",
       "      <td>0</td>\n",
       "      <td>0</td>\n",
       "      <td>0</td>\n",
       "      <td>None</td>\n",
       "      <td>None</td>\n",
       "      <td>None</td>\n",
       "      <td>0</td>\n",
       "      <td>5</td>\n",
       "      <td>2007</td>\n",
       "      <td>WD</td>\n",
       "      <td>Normal</td>\n",
       "      <td>181500</td>\n",
       "    </tr>\n",
       "  </tbody>\n",
       "</table>\n",
       "</div>"
      ],
      "text/plain": [
       "   id  mssubclass mszoning  lotfrontage  lotarea street alley lotshape  \\\n",
       "0   1          60       RL         65.0     8450   Pave  None      Reg   \n",
       "1   2          20       RL         80.0     9600   Pave  None      Reg   \n",
       "\n",
       "  landcontour utilities lotconfig landslope neighborhood condition1  \\\n",
       "0         Lvl    AllPub    Inside       Gtl      CollgCr       Norm   \n",
       "1         Lvl    AllPub       FR2       Gtl      Veenker      Feedr   \n",
       "\n",
       "  condition2 bldgtype housestyle  overallqual  overallcond  yearbuilt  \\\n",
       "0       Norm     1Fam     2Story            7            5       2003   \n",
       "1       Norm     1Fam     1Story            6            8       1976   \n",
       "\n",
       "   yearremodadd roofstyle roofmatl exterior1st exterior2nd masvnrtype  \\\n",
       "0          2003     Gable  CompShg     VinylSd     VinylSd    BrkFace   \n",
       "1          1976     Gable  CompShg     MetalSd     MetalSd       None   \n",
       "\n",
       "   masvnrarea exterqual extercond foundation bsmtqual bsmtcond bsmtexposure  \\\n",
       "0       196.0        Gd        TA      PConc       Gd       TA           No   \n",
       "1         0.0        TA        TA     CBlock       Gd       TA           Gd   \n",
       "\n",
       "  bsmtfintype1  bsmtfinsf1 bsmtfintype2  bsmtfinsf2  bsmtunfsf  totalbsmtsf  \\\n",
       "0          GLQ         706          Unf           0        150          856   \n",
       "1          ALQ         978          Unf           0        284         1262   \n",
       "\n",
       "  heating heatingqc centralair electrical  firstflrsf  secondflrsf  \\\n",
       "0    GasA        Ex          Y      SBrkr         856          854   \n",
       "1    GasA        Ex          Y      SBrkr        1262            0   \n",
       "\n",
       "   lowqualfinsf  grlivarea  bsmtfullbath  bsmthalfbath  fullbath  halfbath  \\\n",
       "0             0       1710             1             0         2         1   \n",
       "1             0       1262             0             1         2         0   \n",
       "\n",
       "   bedroomabvgr  kitchenabvgr kitchenqual  totrmsabvgrd functional  \\\n",
       "0             3             1          Gd             8        Typ   \n",
       "1             3             1          TA             6        Typ   \n",
       "\n",
       "   fireplaces fireplacequ garagetype  garageyrblt garagefinish  garagecars  \\\n",
       "0           0        None     Attchd       2003.0          RFn           2   \n",
       "1           1          TA     Attchd       1976.0          RFn           2   \n",
       "\n",
       "   garagearea garagequal garagecond paveddrive  wooddecksf  openporchsf  \\\n",
       "0         548         TA         TA          Y           0           61   \n",
       "1         460         TA         TA          Y         298            0   \n",
       "\n",
       "   enclosedporch  threessnporch  screenporch  poolarea poolqc fence  \\\n",
       "0              0              0            0         0   None  None   \n",
       "1              0              0            0         0   None  None   \n",
       "\n",
       "  miscfeature  miscval  mosold  yrsold saletype salecondition  saleprice  \n",
       "0        None        0       2    2008       WD        Normal     208500  \n",
       "1        None        0       5    2007       WD        Normal     181500  "
      ]
     },
     "execution_count": 3,
     "metadata": {},
     "output_type": "execute_result"
    },
    {
     "data": {
      "application/javascript": [
       "\n",
       "            setTimeout(function() {\n",
       "                var nbb_cell_id = 3;\n",
       "                var nbb_unformatted_code = \"pd.set_option(\\\"display.max_columns\\\", None)\\npd.set_option(\\\"display.max_rows\\\", None)\\nhouse_df.head(2)\";\n",
       "                var nbb_formatted_code = \"pd.set_option(\\\"display.max_columns\\\", None)\\npd.set_option(\\\"display.max_rows\\\", None)\\nhouse_df.head(2)\";\n",
       "                var nbb_cells = Jupyter.notebook.get_cells();\n",
       "                for (var i = 0; i < nbb_cells.length; ++i) {\n",
       "                    if (nbb_cells[i].input_prompt_number == nbb_cell_id) {\n",
       "                        if (nbb_cells[i].get_text() == nbb_unformatted_code) {\n",
       "                             nbb_cells[i].set_text(nbb_formatted_code);\n",
       "                        }\n",
       "                        break;\n",
       "                    }\n",
       "                }\n",
       "            }, 500);\n",
       "            "
      ],
      "text/plain": [
       "<IPython.core.display.Javascript object>"
      ]
     },
     "metadata": {},
     "output_type": "display_data"
    }
   ],
   "source": [
    "pd.set_option(\"display.max_columns\", None)\n",
    "pd.set_option(\"display.max_rows\", None)\n",
    "house_df.head(2)"
   ]
  },
  {
   "cell_type": "code",
   "execution_count": 4,
   "metadata": {
    "scrolled": true
   },
   "outputs": [
    {
     "name": "stdout",
     "output_type": "stream",
     "text": [
      "<class 'pandas.core.frame.DataFrame'>\n",
      "RangeIndex: 1460 entries, 0 to 1459\n",
      "Data columns (total 81 columns):\n",
      " #   Column         Non-Null Count  Dtype  \n",
      "---  ------         --------------  -----  \n",
      " 0   id             1460 non-null   int64  \n",
      " 1   mssubclass     1460 non-null   int64  \n",
      " 2   mszoning       1460 non-null   object \n",
      " 3   lotfrontage    1201 non-null   float64\n",
      " 4   lotarea        1460 non-null   int64  \n",
      " 5   street         1460 non-null   object \n",
      " 6   alley          91 non-null     object \n",
      " 7   lotshape       1460 non-null   object \n",
      " 8   landcontour    1460 non-null   object \n",
      " 9   utilities      1460 non-null   object \n",
      " 10  lotconfig      1460 non-null   object \n",
      " 11  landslope      1460 non-null   object \n",
      " 12  neighborhood   1460 non-null   object \n",
      " 13  condition1     1460 non-null   object \n",
      " 14  condition2     1460 non-null   object \n",
      " 15  bldgtype       1460 non-null   object \n",
      " 16  housestyle     1460 non-null   object \n",
      " 17  overallqual    1460 non-null   int64  \n",
      " 18  overallcond    1460 non-null   int64  \n",
      " 19  yearbuilt      1460 non-null   int64  \n",
      " 20  yearremodadd   1460 non-null   int64  \n",
      " 21  roofstyle      1460 non-null   object \n",
      " 22  roofmatl       1460 non-null   object \n",
      " 23  exterior1st    1460 non-null   object \n",
      " 24  exterior2nd    1460 non-null   object \n",
      " 25  masvnrtype     1452 non-null   object \n",
      " 26  masvnrarea     1452 non-null   float64\n",
      " 27  exterqual      1460 non-null   object \n",
      " 28  extercond      1460 non-null   object \n",
      " 29  foundation     1460 non-null   object \n",
      " 30  bsmtqual       1423 non-null   object \n",
      " 31  bsmtcond       1423 non-null   object \n",
      " 32  bsmtexposure   1422 non-null   object \n",
      " 33  bsmtfintype1   1423 non-null   object \n",
      " 34  bsmtfinsf1     1460 non-null   int64  \n",
      " 35  bsmtfintype2   1422 non-null   object \n",
      " 36  bsmtfinsf2     1460 non-null   int64  \n",
      " 37  bsmtunfsf      1460 non-null   int64  \n",
      " 38  totalbsmtsf    1460 non-null   int64  \n",
      " 39  heating        1460 non-null   object \n",
      " 40  heatingqc      1460 non-null   object \n",
      " 41  centralair     1460 non-null   object \n",
      " 42  electrical     1459 non-null   object \n",
      " 43  firstflrsf     1460 non-null   int64  \n",
      " 44  secondflrsf    1460 non-null   int64  \n",
      " 45  lowqualfinsf   1460 non-null   int64  \n",
      " 46  grlivarea      1460 non-null   int64  \n",
      " 47  bsmtfullbath   1460 non-null   int64  \n",
      " 48  bsmthalfbath   1460 non-null   int64  \n",
      " 49  fullbath       1460 non-null   int64  \n",
      " 50  halfbath       1460 non-null   int64  \n",
      " 51  bedroomabvgr   1460 non-null   int64  \n",
      " 52  kitchenabvgr   1460 non-null   int64  \n",
      " 53  kitchenqual    1460 non-null   object \n",
      " 54  totrmsabvgrd   1460 non-null   int64  \n",
      " 55  functional     1460 non-null   object \n",
      " 56  fireplaces     1460 non-null   int64  \n",
      " 57  fireplacequ    770 non-null    object \n",
      " 58  garagetype     1379 non-null   object \n",
      " 59  garageyrblt    1379 non-null   float64\n",
      " 60  garagefinish   1379 non-null   object \n",
      " 61  garagecars     1460 non-null   int64  \n",
      " 62  garagearea     1460 non-null   int64  \n",
      " 63  garagequal     1379 non-null   object \n",
      " 64  garagecond     1379 non-null   object \n",
      " 65  paveddrive     1460 non-null   object \n",
      " 66  wooddecksf     1460 non-null   int64  \n",
      " 67  openporchsf    1460 non-null   int64  \n",
      " 68  enclosedporch  1460 non-null   int64  \n",
      " 69  threessnporch  1460 non-null   int64  \n",
      " 70  screenporch    1460 non-null   int64  \n",
      " 71  poolarea       1460 non-null   int64  \n",
      " 72  poolqc         7 non-null      object \n",
      " 73  fence          281 non-null    object \n",
      " 74  miscfeature    54 non-null     object \n",
      " 75  miscval        1460 non-null   int64  \n",
      " 76  mosold         1460 non-null   int64  \n",
      " 77  yrsold         1460 non-null   int64  \n",
      " 78  saletype       1460 non-null   object \n",
      " 79  salecondition  1460 non-null   object \n",
      " 80  saleprice      1460 non-null   int64  \n",
      "dtypes: float64(3), int64(35), object(43)\n",
      "memory usage: 924.0+ KB\n"
     ]
    },
    {
     "data": {
      "application/javascript": [
       "\n",
       "            setTimeout(function() {\n",
       "                var nbb_cell_id = 4;\n",
       "                var nbb_unformatted_code = \"house_df.info()\";\n",
       "                var nbb_formatted_code = \"house_df.info()\";\n",
       "                var nbb_cells = Jupyter.notebook.get_cells();\n",
       "                for (var i = 0; i < nbb_cells.length; ++i) {\n",
       "                    if (nbb_cells[i].input_prompt_number == nbb_cell_id) {\n",
       "                        if (nbb_cells[i].get_text() == nbb_unformatted_code) {\n",
       "                             nbb_cells[i].set_text(nbb_formatted_code);\n",
       "                        }\n",
       "                        break;\n",
       "                    }\n",
       "                }\n",
       "            }, 500);\n",
       "            "
      ],
      "text/plain": [
       "<IPython.core.display.Javascript object>"
      ]
     },
     "metadata": {},
     "output_type": "display_data"
    }
   ],
   "source": [
    "house_df.info()"
   ]
  },
  {
   "cell_type": "markdown",
   "metadata": {},
   "source": [
    "### Choosing columns to decide sale price"
   ]
  },
  {
   "cell_type": "code",
   "execution_count": 5,
   "metadata": {
    "scrolled": true
   },
   "outputs": [
    {
     "data": {
      "text/plain": [
       "poolqc           0.995205\n",
       "miscfeature      0.963014\n",
       "alley            0.937671\n",
       "fence            0.807534\n",
       "fireplacequ      0.472603\n",
       "lotfrontage      0.177397\n",
       "garagecond       0.055479\n",
       "garagetype       0.055479\n",
       "garageyrblt      0.055479\n",
       "garagefinish     0.055479\n",
       "garagequal       0.055479\n",
       "bsmtexposure     0.026027\n",
       "bsmtfintype2     0.026027\n",
       "bsmtfintype1     0.025342\n",
       "bsmtcond         0.025342\n",
       "bsmtqual         0.025342\n",
       "masvnrarea       0.005479\n",
       "masvnrtype       0.005479\n",
       "electrical       0.000685\n",
       "utilities        0.000000\n",
       "yearremodadd     0.000000\n",
       "mssubclass       0.000000\n",
       "foundation       0.000000\n",
       "extercond        0.000000\n",
       "exterqual        0.000000\n",
       "exterior2nd      0.000000\n",
       "exterior1st      0.000000\n",
       "roofmatl         0.000000\n",
       "roofstyle        0.000000\n",
       "yearbuilt        0.000000\n",
       "lotconfig        0.000000\n",
       "overallcond      0.000000\n",
       "overallqual      0.000000\n",
       "housestyle       0.000000\n",
       "bldgtype         0.000000\n",
       "condition2       0.000000\n",
       "bsmtfinsf1       0.000000\n",
       "mszoning         0.000000\n",
       "lotarea          0.000000\n",
       "street           0.000000\n",
       "condition1       0.000000\n",
       "neighborhood     0.000000\n",
       "lotshape         0.000000\n",
       "landcontour      0.000000\n",
       "landslope        0.000000\n",
       "saleprice        0.000000\n",
       "heatingqc        0.000000\n",
       "bsmtfinsf2       0.000000\n",
       "enclosedporch    0.000000\n",
       "fireplaces       0.000000\n",
       "garagecars       0.000000\n",
       "garagearea       0.000000\n",
       "paveddrive       0.000000\n",
       "wooddecksf       0.000000\n",
       "openporchsf      0.000000\n",
       "threessnporch    0.000000\n",
       "bsmtunfsf        0.000000\n",
       "screenporch      0.000000\n",
       "poolarea         0.000000\n",
       "miscval          0.000000\n",
       "mosold           0.000000\n",
       "yrsold           0.000000\n",
       "saletype         0.000000\n",
       "functional       0.000000\n",
       "totrmsabvgrd     0.000000\n",
       "kitchenqual      0.000000\n",
       "kitchenabvgr     0.000000\n",
       "bedroomabvgr     0.000000\n",
       "halfbath         0.000000\n",
       "fullbath         0.000000\n",
       "bsmthalfbath     0.000000\n",
       "bsmtfullbath     0.000000\n",
       "grlivarea        0.000000\n",
       "lowqualfinsf     0.000000\n",
       "secondflrsf      0.000000\n",
       "firstflrsf       0.000000\n",
       "centralair       0.000000\n",
       "salecondition    0.000000\n",
       "heating          0.000000\n",
       "totalbsmtsf      0.000000\n",
       "id               0.000000\n",
       "dtype: float64"
      ]
     },
     "execution_count": 5,
     "metadata": {},
     "output_type": "execute_result"
    },
    {
     "data": {
      "application/javascript": [
       "\n",
       "            setTimeout(function() {\n",
       "                var nbb_cell_id = 5;\n",
       "                var nbb_unformatted_code = \"house_df.isna().mean().sort_values(ascending=False)\";\n",
       "                var nbb_formatted_code = \"house_df.isna().mean().sort_values(ascending=False)\";\n",
       "                var nbb_cells = Jupyter.notebook.get_cells();\n",
       "                for (var i = 0; i < nbb_cells.length; ++i) {\n",
       "                    if (nbb_cells[i].input_prompt_number == nbb_cell_id) {\n",
       "                        if (nbb_cells[i].get_text() == nbb_unformatted_code) {\n",
       "                             nbb_cells[i].set_text(nbb_formatted_code);\n",
       "                        }\n",
       "                        break;\n",
       "                    }\n",
       "                }\n",
       "            }, 500);\n",
       "            "
      ],
      "text/plain": [
       "<IPython.core.display.Javascript object>"
      ]
     },
     "metadata": {},
     "output_type": "display_data"
    }
   ],
   "source": [
    "house_df.isna().mean().sort_values(ascending=False)"
   ]
  },
  {
   "cell_type": "code",
   "execution_count": 6,
   "metadata": {},
   "outputs": [
    {
     "data": {
      "text/plain": [
       "<matplotlib.axes._subplots.AxesSubplot at 0x20104c95908>"
      ]
     },
     "execution_count": 6,
     "metadata": {},
     "output_type": "execute_result"
    },
    {
     "data": {
      "image/png": "[encoded data removed]",
      "text/plain": [
       "<Figure size 432x288 with 1 Axes>"
      ]
     },
     "metadata": {
      "needs_background": "light"
     },
     "output_type": "display_data"
    },
    {
     "data": {
      "application/javascript": [
       "\n",
       "            setTimeout(function() {\n",
       "                var nbb_cell_id = 6;\n",
       "                var nbb_unformatted_code = \"house_df[\\\"saleprice\\\"].hist()\";\n",
       "                var nbb_formatted_code = \"house_df[\\\"saleprice\\\"].hist()\";\n",
       "                var nbb_cells = Jupyter.notebook.get_cells();\n",
       "                for (var i = 0; i < nbb_cells.length; ++i) {\n",
       "                    if (nbb_cells[i].input_prompt_number == nbb_cell_id) {\n",
       "                        if (nbb_cells[i].get_text() == nbb_unformatted_code) {\n",
       "                             nbb_cells[i].set_text(nbb_formatted_code);\n",
       "                        }\n",
       "                        break;\n",
       "                    }\n",
       "                }\n",
       "            }, 500);\n",
       "            "
      ],
      "text/plain": [
       "<IPython.core.display.Javascript object>"
      ]
     },
     "metadata": {},
     "output_type": "display_data"
    }
   ],
   "source": [
    "house_df[\"saleprice\"].hist()"
   ]
  },
  {
   "cell_type": "code",
   "execution_count": 7,
   "metadata": {},
   "outputs": [
    {
     "data": {
      "text/plain": [
       "array(['RL', 'RM', 'C (all)', 'FV', 'RH'], dtype=object)"
      ]
     },
     "execution_count": 7,
     "metadata": {},
     "output_type": "execute_result"
    },
    {
     "data": {
      "application/javascript": [
       "\n",
       "            setTimeout(function() {\n",
       "                var nbb_cell_id = 7;\n",
       "                var nbb_unformatted_code = \"house_df[\\\"mszoning\\\"].unique()\";\n",
       "                var nbb_formatted_code = \"house_df[\\\"mszoning\\\"].unique()\";\n",
       "                var nbb_cells = Jupyter.notebook.get_cells();\n",
       "                for (var i = 0; i < nbb_cells.length; ++i) {\n",
       "                    if (nbb_cells[i].input_prompt_number == nbb_cell_id) {\n",
       "                        if (nbb_cells[i].get_text() == nbb_unformatted_code) {\n",
       "                             nbb_cells[i].set_text(nbb_formatted_code);\n",
       "                        }\n",
       "                        break;\n",
       "                    }\n",
       "                }\n",
       "            }, 500);\n",
       "            "
      ],
      "text/plain": [
       "<IPython.core.display.Javascript object>"
      ]
     },
     "metadata": {},
     "output_type": "display_data"
    }
   ],
   "source": [
    "house_df[\"mszoning\"].unique()"
   ]
  },
  {
   "cell_type": "code",
   "execution_count": 8,
   "metadata": {
    "scrolled": true
   },
   "outputs": [
    {
     "data": {
      "text/plain": [
       "array(['Reg', 'IR1', 'IR2', 'IR3'], dtype=object)"
      ]
     },
     "execution_count": 8,
     "metadata": {},
     "output_type": "execute_result"
    },
    {
     "data": {
      "application/javascript": [
       "\n",
       "            setTimeout(function() {\n",
       "                var nbb_cell_id = 8;\n",
       "                var nbb_unformatted_code = \"house_df[\\\"lotshape\\\"].unique()\";\n",
       "                var nbb_formatted_code = \"house_df[\\\"lotshape\\\"].unique()\";\n",
       "                var nbb_cells = Jupyter.notebook.get_cells();\n",
       "                for (var i = 0; i < nbb_cells.length; ++i) {\n",
       "                    if (nbb_cells[i].input_prompt_number == nbb_cell_id) {\n",
       "                        if (nbb_cells[i].get_text() == nbb_unformatted_code) {\n",
       "                             nbb_cells[i].set_text(nbb_formatted_code);\n",
       "                        }\n",
       "                        break;\n",
       "                    }\n",
       "                }\n",
       "            }, 500);\n",
       "            "
      ],
      "text/plain": [
       "<IPython.core.display.Javascript object>"
      ]
     },
     "metadata": {},
     "output_type": "display_data"
    }
   ],
   "source": [
    "house_df[\"lotshape\"].unique()"
   ]
  },
  {
   "cell_type": "code",
   "execution_count": 9,
   "metadata": {},
   "outputs": [
    {
     "data": {
      "text/plain": [
       "array(['AllPub', 'NoSeWa'], dtype=object)"
      ]
     },
     "execution_count": 9,
     "metadata": {},
     "output_type": "execute_result"
    },
    {
     "data": {
      "application/javascript": [
       "\n",
       "            setTimeout(function() {\n",
       "                var nbb_cell_id = 9;\n",
       "                var nbb_unformatted_code = \"house_df[\\\"utilities\\\"].unique()\";\n",
       "                var nbb_formatted_code = \"house_df[\\\"utilities\\\"].unique()\";\n",
       "                var nbb_cells = Jupyter.notebook.get_cells();\n",
       "                for (var i = 0; i < nbb_cells.length; ++i) {\n",
       "                    if (nbb_cells[i].input_prompt_number == nbb_cell_id) {\n",
       "                        if (nbb_cells[i].get_text() == nbb_unformatted_code) {\n",
       "                             nbb_cells[i].set_text(nbb_formatted_code);\n",
       "                        }\n",
       "                        break;\n",
       "                    }\n",
       "                }\n",
       "            }, 500);\n",
       "            "
      ],
      "text/plain": [
       "<IPython.core.display.Javascript object>"
      ]
     },
     "metadata": {},
     "output_type": "display_data"
    }
   ],
   "source": [
    "house_df[\"utilities\"].unique()"
   ]
  },
  {
   "cell_type": "code",
   "execution_count": 10,
   "metadata": {},
   "outputs": [
    {
     "data": {
      "text/plain": [
       "array(['Inside', 'FR2', 'Corner', 'CulDSac', 'FR3'], dtype=object)"
      ]
     },
     "execution_count": 10,
     "metadata": {},
     "output_type": "execute_result"
    },
    {
     "data": {
      "application/javascript": [
       "\n",
       "            setTimeout(function() {\n",
       "                var nbb_cell_id = 10;\n",
       "                var nbb_unformatted_code = \"house_df[\\\"lotconfig\\\"].unique()\";\n",
       "                var nbb_formatted_code = \"house_df[\\\"lotconfig\\\"].unique()\";\n",
       "                var nbb_cells = Jupyter.notebook.get_cells();\n",
       "                for (var i = 0; i < nbb_cells.length; ++i) {\n",
       "                    if (nbb_cells[i].input_prompt_number == nbb_cell_id) {\n",
       "                        if (nbb_cells[i].get_text() == nbb_unformatted_code) {\n",
       "                             nbb_cells[i].set_text(nbb_formatted_code);\n",
       "                        }\n",
       "                        break;\n",
       "                    }\n",
       "                }\n",
       "            }, 500);\n",
       "            "
      ],
      "text/plain": [
       "<IPython.core.display.Javascript object>"
      ]
     },
     "metadata": {},
     "output_type": "display_data"
    }
   ],
   "source": [
    "house_df[\"lotconfig\"].unique()"
   ]
  },
  {
   "cell_type": "code",
   "execution_count": 11,
   "metadata": {},
   "outputs": [
    {
     "data": {
      "text/plain": [
       "array(['Pave', 'Grvl'], dtype=object)"
      ]
     },
     "execution_count": 11,
     "metadata": {},
     "output_type": "execute_result"
    },
    {
     "data": {
      "application/javascript": [
       "\n",
       "            setTimeout(function() {\n",
       "                var nbb_cell_id = 11;\n",
       "                var nbb_unformatted_code = \"house_df[\\\"street\\\"].unique()\";\n",
       "                var nbb_formatted_code = \"house_df[\\\"street\\\"].unique()\";\n",
       "                var nbb_cells = Jupyter.notebook.get_cells();\n",
       "                for (var i = 0; i < nbb_cells.length; ++i) {\n",
       "                    if (nbb_cells[i].input_prompt_number == nbb_cell_id) {\n",
       "                        if (nbb_cells[i].get_text() == nbb_unformatted_code) {\n",
       "                             nbb_cells[i].set_text(nbb_formatted_code);\n",
       "                        }\n",
       "                        break;\n",
       "                    }\n",
       "                }\n",
       "            }, 500);\n",
       "            "
      ],
      "text/plain": [
       "<IPython.core.display.Javascript object>"
      ]
     },
     "metadata": {},
     "output_type": "display_data"
    }
   ],
   "source": [
    "house_df[\"street\"].unique()"
   ]
  },
  {
   "cell_type": "code",
   "execution_count": 12,
   "metadata": {},
   "outputs": [
    {
     "data": {
      "application/javascript": [
       "\n",
       "            setTimeout(function() {\n",
       "                var nbb_cell_id = 12;\n",
       "                var nbb_unformatted_code = \"house_df = house_df[\\n    [\\n        \\\"mszoning\\\",\\n        \\\"lotarea\\\",\\n        \\\"street\\\",\\n        \\\"utilities\\\",\\n        \\\"housestyle\\\",\\n        \\\"overallqual\\\",\\n        \\\"roofstyle\\\",\\n        \\\"totalbsmtsf\\\",\\n        \\\"grlivarea\\\",\\n        \\\"kitchenqual\\\",\\n        \\\"fireplaces\\\",\\n        \\\"garagearea\\\",\\n        \\\"yrsold\\\",\\n        \\\"saleprice\\\",\\n    ]\\n]\";\n",
       "                var nbb_formatted_code = \"house_df = house_df[\\n    [\\n        \\\"mszoning\\\",\\n        \\\"lotarea\\\",\\n        \\\"street\\\",\\n        \\\"utilities\\\",\\n        \\\"housestyle\\\",\\n        \\\"overallqual\\\",\\n        \\\"roofstyle\\\",\\n        \\\"totalbsmtsf\\\",\\n        \\\"grlivarea\\\",\\n        \\\"kitchenqual\\\",\\n        \\\"fireplaces\\\",\\n        \\\"garagearea\\\",\\n        \\\"yrsold\\\",\\n        \\\"saleprice\\\",\\n    ]\\n]\";\n",
       "                var nbb_cells = Jupyter.notebook.get_cells();\n",
       "                for (var i = 0; i < nbb_cells.length; ++i) {\n",
       "                    if (nbb_cells[i].input_prompt_number == nbb_cell_id) {\n",
       "                        if (nbb_cells[i].get_text() == nbb_unformatted_code) {\n",
       "                             nbb_cells[i].set_text(nbb_formatted_code);\n",
       "                        }\n",
       "                        break;\n",
       "                    }\n",
       "                }\n",
       "            }, 500);\n",
       "            "
      ],
      "text/plain": [
       "<IPython.core.display.Javascript object>"
      ]
     },
     "metadata": {},
     "output_type": "display_data"
    }
   ],
   "source": [
    "house_df = house_df[\n",
    "    [\n",
    "        \"mszoning\",\n",
    "        \"lotarea\",\n",
    "        \"street\",\n",
    "        \"utilities\",\n",
    "        \"housestyle\",\n",
    "        \"overallqual\",\n",
    "        \"roofstyle\",\n",
    "        \"totalbsmtsf\",\n",
    "        \"grlivarea\",\n",
    "        \"kitchenqual\",\n",
    "        \"fireplaces\",\n",
    "        \"garagearea\",\n",
    "        \"yrsold\",\n",
    "        \"saleprice\",\n",
    "    ]\n",
    "]"
   ]
  },
  {
   "cell_type": "code",
   "execution_count": 13,
   "metadata": {},
   "outputs": [
    {
     "data": {
      "text/html": [
       "<div>\n",
       "<style scoped>\n",
       "    .dataframe tbody tr th:only-of-type {\n",
       "        vertical-align: middle;\n",
       "    }\n",
       "\n",
       "    .dataframe tbody tr th {\n",
       "        vertical-align: top;\n",
       "    }\n",
       "\n",
       "    .dataframe thead th {\n",
       "        text-align: right;\n",
       "    }\n",
       "</style>\n",
       "<table border=\"1\" class=\"dataframe\">\n",
       "  <thead>\n",
       "    <tr style=\"text-align: right;\">\n",
       "      <th></th>\n",
       "      <th>mszoning</th>\n",
       "      <th>lotarea</th>\n",
       "      <th>street</th>\n",
       "      <th>utilities</th>\n",
       "      <th>housestyle</th>\n",
       "      <th>overallqual</th>\n",
       "      <th>roofstyle</th>\n",
       "      <th>totalbsmtsf</th>\n",
       "      <th>grlivarea</th>\n",
       "      <th>kitchenqual</th>\n",
       "      <th>fireplaces</th>\n",
       "      <th>garagearea</th>\n",
       "      <th>yrsold</th>\n",
       "      <th>saleprice</th>\n",
       "    </tr>\n",
       "  </thead>\n",
       "  <tbody>\n",
       "    <tr>\n",
       "      <th>0</th>\n",
       "      <td>RL</td>\n",
       "      <td>8450</td>\n",
       "      <td>Pave</td>\n",
       "      <td>AllPub</td>\n",
       "      <td>2Story</td>\n",
       "      <td>7</td>\n",
       "      <td>Gable</td>\n",
       "      <td>856</td>\n",
       "      <td>1710</td>\n",
       "      <td>Gd</td>\n",
       "      <td>0</td>\n",
       "      <td>548</td>\n",
       "      <td>2008</td>\n",
       "      <td>208500</td>\n",
       "    </tr>\n",
       "    <tr>\n",
       "      <th>1</th>\n",
       "      <td>RL</td>\n",
       "      <td>9600</td>\n",
       "      <td>Pave</td>\n",
       "      <td>AllPub</td>\n",
       "      <td>1Story</td>\n",
       "      <td>6</td>\n",
       "      <td>Gable</td>\n",
       "      <td>1262</td>\n",
       "      <td>1262</td>\n",
       "      <td>TA</td>\n",
       "      <td>1</td>\n",
       "      <td>460</td>\n",
       "      <td>2007</td>\n",
       "      <td>181500</td>\n",
       "    </tr>\n",
       "  </tbody>\n",
       "</table>\n",
       "</div>"
      ],
      "text/plain": [
       "  mszoning  lotarea street utilities housestyle  overallqual roofstyle  \\\n",
       "0       RL     8450   Pave    AllPub     2Story            7     Gable   \n",
       "1       RL     9600   Pave    AllPub     1Story            6     Gable   \n",
       "\n",
       "   totalbsmtsf  grlivarea kitchenqual  fireplaces  garagearea  yrsold  \\\n",
       "0          856       1710          Gd           0         548    2008   \n",
       "1         1262       1262          TA           1         460    2007   \n",
       "\n",
       "   saleprice  \n",
       "0     208500  \n",
       "1     181500  "
      ]
     },
     "execution_count": 13,
     "metadata": {},
     "output_type": "execute_result"
    },
    {
     "data": {
      "application/javascript": [
       "\n",
       "            setTimeout(function() {\n",
       "                var nbb_cell_id = 13;\n",
       "                var nbb_unformatted_code = \"house_df.head(2)\";\n",
       "                var nbb_formatted_code = \"house_df.head(2)\";\n",
       "                var nbb_cells = Jupyter.notebook.get_cells();\n",
       "                for (var i = 0; i < nbb_cells.length; ++i) {\n",
       "                    if (nbb_cells[i].input_prompt_number == nbb_cell_id) {\n",
       "                        if (nbb_cells[i].get_text() == nbb_unformatted_code) {\n",
       "                             nbb_cells[i].set_text(nbb_formatted_code);\n",
       "                        }\n",
       "                        break;\n",
       "                    }\n",
       "                }\n",
       "            }, 500);\n",
       "            "
      ],
      "text/plain": [
       "<IPython.core.display.Javascript object>"
      ]
     },
     "metadata": {},
     "output_type": "display_data"
    }
   ],
   "source": [
    "house_df.head(2)"
   ]
  },
  {
   "cell_type": "markdown",
   "metadata": {},
   "source": [
    "### Getting rid of outlier values"
   ]
  },
  {
   "cell_type": "code",
   "execution_count": 14,
   "metadata": {},
   "outputs": [
    {
     "data": {
      "image/png": "[encoded data removed]",
      "text/plain": [
       "<Figure size 432x288 with 1 Axes>"
      ]
     },
     "metadata": {
      "needs_background": "light"
     },
     "output_type": "display_data"
    },
    {
     "data": {
      "application/javascript": [
       "\n",
       "            setTimeout(function() {\n",
       "                var nbb_cell_id = 14;\n",
       "                var nbb_unformatted_code = \"plt.scatter(house_df[\\\"lotarea\\\"], house_df[\\\"saleprice\\\"])\\nplt.show()\";\n",
       "                var nbb_formatted_code = \"plt.scatter(house_df[\\\"lotarea\\\"], house_df[\\\"saleprice\\\"])\\nplt.show()\";\n",
       "                var nbb_cells = Jupyter.notebook.get_cells();\n",
       "                for (var i = 0; i < nbb_cells.length; ++i) {\n",
       "                    if (nbb_cells[i].input_prompt_number == nbb_cell_id) {\n",
       "                        if (nbb_cells[i].get_text() == nbb_unformatted_code) {\n",
       "                             nbb_cells[i].set_text(nbb_formatted_code);\n",
       "                        }\n",
       "                        break;\n",
       "                    }\n",
       "                }\n",
       "            }, 500);\n",
       "            "
      ],
      "text/plain": [
       "<IPython.core.display.Javascript object>"
      ]
     },
     "metadata": {},
     "output_type": "display_data"
    }
   ],
   "source": [
    "plt.scatter(house_df[\"lotarea\"], house_df[\"saleprice\"])\n",
    "plt.show()"
   ]
  },
  {
   "cell_type": "code",
   "execution_count": 15,
   "metadata": {},
   "outputs": [
    {
     "data": {
      "application/javascript": [
       "\n",
       "            setTimeout(function() {\n",
       "                var nbb_cell_id = 15;\n",
       "                var nbb_unformatted_code = \"house_df = house_df[house_df[\\\"lotarea\\\"] < 100000]\";\n",
       "                var nbb_formatted_code = \"house_df = house_df[house_df[\\\"lotarea\\\"] < 100000]\";\n",
       "                var nbb_cells = Jupyter.notebook.get_cells();\n",
       "                for (var i = 0; i < nbb_cells.length; ++i) {\n",
       "                    if (nbb_cells[i].input_prompt_number == nbb_cell_id) {\n",
       "                        if (nbb_cells[i].get_text() == nbb_unformatted_code) {\n",
       "                             nbb_cells[i].set_text(nbb_formatted_code);\n",
       "                        }\n",
       "                        break;\n",
       "                    }\n",
       "                }\n",
       "            }, 500);\n",
       "            "
      ],
      "text/plain": [
       "<IPython.core.display.Javascript object>"
      ]
     },
     "metadata": {},
     "output_type": "display_data"
    }
   ],
   "source": [
    "house_df = house_df[house_df[\"lotarea\"] < 100000]"
   ]
  },
  {
   "cell_type": "code",
   "execution_count": 16,
   "metadata": {},
   "outputs": [
    {
     "data": {
      "image/png": "[encoded data removed]",
      "text/plain": [
       "<Figure size 432x288 with 1 Axes>"
      ]
     },
     "metadata": {
      "needs_background": "light"
     },
     "output_type": "display_data"
    },
    {
     "data": {
      "application/javascript": [
       "\n",
       "            setTimeout(function() {\n",
       "                var nbb_cell_id = 16;\n",
       "                var nbb_unformatted_code = \"plt.boxplot(house_df[\\\"overallqual\\\"])\\nplt.show()\";\n",
       "                var nbb_formatted_code = \"plt.boxplot(house_df[\\\"overallqual\\\"])\\nplt.show()\";\n",
       "                var nbb_cells = Jupyter.notebook.get_cells();\n",
       "                for (var i = 0; i < nbb_cells.length; ++i) {\n",
       "                    if (nbb_cells[i].input_prompt_number == nbb_cell_id) {\n",
       "                        if (nbb_cells[i].get_text() == nbb_unformatted_code) {\n",
       "                             nbb_cells[i].set_text(nbb_formatted_code);\n",
       "                        }\n",
       "                        break;\n",
       "                    }\n",
       "                }\n",
       "            }, 500);\n",
       "            "
      ],
      "text/plain": [
       "<IPython.core.display.Javascript object>"
      ]
     },
     "metadata": {},
     "output_type": "display_data"
    }
   ],
   "source": [
    "plt.boxplot(house_df[\"overallqual\"])\n",
    "plt.show()"
   ]
  },
  {
   "cell_type": "code",
   "execution_count": 17,
   "metadata": {},
   "outputs": [
    {
     "data": {
      "image/png": "[encoded data removed]",
      "text/plain": [
       "<Figure size 432x288 with 1 Axes>"
      ]
     },
     "metadata": {
      "needs_background": "light"
     },
     "output_type": "display_data"
    },
    {
     "data": {
      "application/javascript": [
       "\n",
       "            setTimeout(function() {\n",
       "                var nbb_cell_id = 17;\n",
       "                var nbb_unformatted_code = \"plt.boxplot(house_df[\\\"totalbsmtsf\\\"])\\nplt.show()\";\n",
       "                var nbb_formatted_code = \"plt.boxplot(house_df[\\\"totalbsmtsf\\\"])\\nplt.show()\";\n",
       "                var nbb_cells = Jupyter.notebook.get_cells();\n",
       "                for (var i = 0; i < nbb_cells.length; ++i) {\n",
       "                    if (nbb_cells[i].input_prompt_number == nbb_cell_id) {\n",
       "                        if (nbb_cells[i].get_text() == nbb_unformatted_code) {\n",
       "                             nbb_cells[i].set_text(nbb_formatted_code);\n",
       "                        }\n",
       "                        break;\n",
       "                    }\n",
       "                }\n",
       "            }, 500);\n",
       "            "
      ],
      "text/plain": [
       "<IPython.core.display.Javascript object>"
      ]
     },
     "metadata": {},
     "output_type": "display_data"
    }
   ],
   "source": [
    "plt.boxplot(house_df[\"totalbsmtsf\"])\n",
    "plt.show()"
   ]
  },
  {
   "cell_type": "code",
   "execution_count": 18,
   "metadata": {},
   "outputs": [
    {
     "data": {
      "image/png": "[encoded data removed]",
      "text/plain": [
       "<Figure size 432x288 with 1 Axes>"
      ]
     },
     "metadata": {
      "needs_background": "light"
     },
     "output_type": "display_data"
    },
    {
     "data": {
      "application/javascript": [
       "\n",
       "            setTimeout(function() {\n",
       "                var nbb_cell_id = 18;\n",
       "                var nbb_unformatted_code = \"plt.scatter(house_df[\\\"totalbsmtsf\\\"], house_df[\\\"saleprice\\\"])\\nplt.show()\";\n",
       "                var nbb_formatted_code = \"plt.scatter(house_df[\\\"totalbsmtsf\\\"], house_df[\\\"saleprice\\\"])\\nplt.show()\";\n",
       "                var nbb_cells = Jupyter.notebook.get_cells();\n",
       "                for (var i = 0; i < nbb_cells.length; ++i) {\n",
       "                    if (nbb_cells[i].input_prompt_number == nbb_cell_id) {\n",
       "                        if (nbb_cells[i].get_text() == nbb_unformatted_code) {\n",
       "                             nbb_cells[i].set_text(nbb_formatted_code);\n",
       "                        }\n",
       "                        break;\n",
       "                    }\n",
       "                }\n",
       "            }, 500);\n",
       "            "
      ],
      "text/plain": [
       "<IPython.core.display.Javascript object>"
      ]
     },
     "metadata": {},
     "output_type": "display_data"
    }
   ],
   "source": [
    "plt.scatter(house_df[\"totalbsmtsf\"], house_df[\"saleprice\"])\n",
    "plt.show()"
   ]
  },
  {
   "cell_type": "code",
   "execution_count": 19,
   "metadata": {},
   "outputs": [
    {
     "data": {
      "application/javascript": [
       "\n",
       "            setTimeout(function() {\n",
       "                var nbb_cell_id = 19;\n",
       "                var nbb_unformatted_code = \"house_df = house_df[house_df[\\\"totalbsmtsf\\\"] < 6000]\";\n",
       "                var nbb_formatted_code = \"house_df = house_df[house_df[\\\"totalbsmtsf\\\"] < 6000]\";\n",
       "                var nbb_cells = Jupyter.notebook.get_cells();\n",
       "                for (var i = 0; i < nbb_cells.length; ++i) {\n",
       "                    if (nbb_cells[i].input_prompt_number == nbb_cell_id) {\n",
       "                        if (nbb_cells[i].get_text() == nbb_unformatted_code) {\n",
       "                             nbb_cells[i].set_text(nbb_formatted_code);\n",
       "                        }\n",
       "                        break;\n",
       "                    }\n",
       "                }\n",
       "            }, 500);\n",
       "            "
      ],
      "text/plain": [
       "<IPython.core.display.Javascript object>"
      ]
     },
     "metadata": {},
     "output_type": "display_data"
    }
   ],
   "source": [
    "house_df = house_df[house_df[\"totalbsmtsf\"] < 6000]"
   ]
  },
  {
   "cell_type": "code",
   "execution_count": 20,
   "metadata": {},
   "outputs": [
    {
     "data": {
      "image/png": "[encoded data removed]",
      "text/plain": [
       "<Figure size 432x288 with 1 Axes>"
      ]
     },
     "metadata": {
      "needs_background": "light"
     },
     "output_type": "display_data"
    },
    {
     "data": {
      "application/javascript": [
       "\n",
       "            setTimeout(function() {\n",
       "                var nbb_cell_id = 20;\n",
       "                var nbb_unformatted_code = \"plt.boxplot(house_df[\\\"grlivarea\\\"])\\nplt.show()\";\n",
       "                var nbb_formatted_code = \"plt.boxplot(house_df[\\\"grlivarea\\\"])\\nplt.show()\";\n",
       "                var nbb_cells = Jupyter.notebook.get_cells();\n",
       "                for (var i = 0; i < nbb_cells.length; ++i) {\n",
       "                    if (nbb_cells[i].input_prompt_number == nbb_cell_id) {\n",
       "                        if (nbb_cells[i].get_text() == nbb_unformatted_code) {\n",
       "                             nbb_cells[i].set_text(nbb_formatted_code);\n",
       "                        }\n",
       "                        break;\n",
       "                    }\n",
       "                }\n",
       "            }, 500);\n",
       "            "
      ],
      "text/plain": [
       "<IPython.core.display.Javascript object>"
      ]
     },
     "metadata": {},
     "output_type": "display_data"
    }
   ],
   "source": [
    "plt.boxplot(house_df[\"grlivarea\"])\n",
    "plt.show()"
   ]
  },
  {
   "cell_type": "code",
   "execution_count": 21,
   "metadata": {},
   "outputs": [
    {
     "data": {
      "image/png": "[encoded data removed]",
      "text/plain": [
       "<Figure size 432x288 with 1 Axes>"
      ]
     },
     "metadata": {
      "needs_background": "light"
     },
     "output_type": "display_data"
    },
    {
     "data": {
      "application/javascript": [
       "\n",
       "            setTimeout(function() {\n",
       "                var nbb_cell_id = 21;\n",
       "                var nbb_unformatted_code = \"plt.scatter(house_df[\\\"grlivarea\\\"], house_df[\\\"saleprice\\\"])\\nplt.show()\";\n",
       "                var nbb_formatted_code = \"plt.scatter(house_df[\\\"grlivarea\\\"], house_df[\\\"saleprice\\\"])\\nplt.show()\";\n",
       "                var nbb_cells = Jupyter.notebook.get_cells();\n",
       "                for (var i = 0; i < nbb_cells.length; ++i) {\n",
       "                    if (nbb_cells[i].input_prompt_number == nbb_cell_id) {\n",
       "                        if (nbb_cells[i].get_text() == nbb_unformatted_code) {\n",
       "                             nbb_cells[i].set_text(nbb_formatted_code);\n",
       "                        }\n",
       "                        break;\n",
       "                    }\n",
       "                }\n",
       "            }, 500);\n",
       "            "
      ],
      "text/plain": [
       "<IPython.core.display.Javascript object>"
      ]
     },
     "metadata": {},
     "output_type": "display_data"
    }
   ],
   "source": [
    "plt.scatter(house_df[\"grlivarea\"], house_df[\"saleprice\"])\n",
    "plt.show()"
   ]
  },
  {
   "cell_type": "code",
   "execution_count": 22,
   "metadata": {},
   "outputs": [
    {
     "data": {
      "application/javascript": [
       "\n",
       "            setTimeout(function() {\n",
       "                var nbb_cell_id = 22;\n",
       "                var nbb_unformatted_code = \"house_df = house_df[house_df[\\\"grlivarea\\\"] < 4000]\";\n",
       "                var nbb_formatted_code = \"house_df = house_df[house_df[\\\"grlivarea\\\"] < 4000]\";\n",
       "                var nbb_cells = Jupyter.notebook.get_cells();\n",
       "                for (var i = 0; i < nbb_cells.length; ++i) {\n",
       "                    if (nbb_cells[i].input_prompt_number == nbb_cell_id) {\n",
       "                        if (nbb_cells[i].get_text() == nbb_unformatted_code) {\n",
       "                             nbb_cells[i].set_text(nbb_formatted_code);\n",
       "                        }\n",
       "                        break;\n",
       "                    }\n",
       "                }\n",
       "            }, 500);\n",
       "            "
      ],
      "text/plain": [
       "<IPython.core.display.Javascript object>"
      ]
     },
     "metadata": {},
     "output_type": "display_data"
    }
   ],
   "source": [
    "house_df = house_df[house_df[\"grlivarea\"] < 4000]"
   ]
  },
  {
   "cell_type": "code",
   "execution_count": 23,
   "metadata": {},
   "outputs": [
    {
     "data": {
      "image/png": "[encoded data removed]",
      "text/plain": [
       "<Figure size 432x288 with 1 Axes>"
      ]
     },
     "metadata": {
      "needs_background": "light"
     },
     "output_type": "display_data"
    },
    {
     "data": {
      "application/javascript": [
       "\n",
       "            setTimeout(function() {\n",
       "                var nbb_cell_id = 23;\n",
       "                var nbb_unformatted_code = \"plt.boxplot(house_df[\\\"fireplaces\\\"])\\nplt.show()\";\n",
       "                var nbb_formatted_code = \"plt.boxplot(house_df[\\\"fireplaces\\\"])\\nplt.show()\";\n",
       "                var nbb_cells = Jupyter.notebook.get_cells();\n",
       "                for (var i = 0; i < nbb_cells.length; ++i) {\n",
       "                    if (nbb_cells[i].input_prompt_number == nbb_cell_id) {\n",
       "                        if (nbb_cells[i].get_text() == nbb_unformatted_code) {\n",
       "                             nbb_cells[i].set_text(nbb_formatted_code);\n",
       "                        }\n",
       "                        break;\n",
       "                    }\n",
       "                }\n",
       "            }, 500);\n",
       "            "
      ],
      "text/plain": [
       "<IPython.core.display.Javascript object>"
      ]
     },
     "metadata": {},
     "output_type": "display_data"
    }
   ],
   "source": [
    "plt.boxplot(house_df[\"fireplaces\"])\n",
    "plt.show()"
   ]
  },
  {
   "cell_type": "code",
   "execution_count": 24,
   "metadata": {},
   "outputs": [
    {
     "data": {
      "image/png": "[encoded data removed]",
      "text/plain": [
       "<Figure size 432x288 with 1 Axes>"
      ]
     },
     "metadata": {
      "needs_background": "light"
     },
     "output_type": "display_data"
    },
    {
     "data": {
      "application/javascript": [
       "\n",
       "            setTimeout(function() {\n",
       "                var nbb_cell_id = 24;\n",
       "                var nbb_unformatted_code = \"plt.boxplot(house_df[\\\"garagearea\\\"])\\nplt.show()\";\n",
       "                var nbb_formatted_code = \"plt.boxplot(house_df[\\\"garagearea\\\"])\\nplt.show()\";\n",
       "                var nbb_cells = Jupyter.notebook.get_cells();\n",
       "                for (var i = 0; i < nbb_cells.length; ++i) {\n",
       "                    if (nbb_cells[i].input_prompt_number == nbb_cell_id) {\n",
       "                        if (nbb_cells[i].get_text() == nbb_unformatted_code) {\n",
       "                             nbb_cells[i].set_text(nbb_formatted_code);\n",
       "                        }\n",
       "                        break;\n",
       "                    }\n",
       "                }\n",
       "            }, 500);\n",
       "            "
      ],
      "text/plain": [
       "<IPython.core.display.Javascript object>"
      ]
     },
     "metadata": {},
     "output_type": "display_data"
    }
   ],
   "source": [
    "plt.boxplot(house_df[\"garagearea\"])\n",
    "plt.show()"
   ]
  },
  {
   "cell_type": "code",
   "execution_count": 25,
   "metadata": {},
   "outputs": [
    {
     "data": {
      "image/png": "[encoded data removed]",
      "text/plain": [
       "<Figure size 432x288 with 1 Axes>"
      ]
     },
     "metadata": {
      "needs_background": "light"
     },
     "output_type": "display_data"
    },
    {
     "data": {
      "application/javascript": [
       "\n",
       "            setTimeout(function() {\n",
       "                var nbb_cell_id = 25;\n",
       "                var nbb_unformatted_code = \"plt.scatter(house_df[\\\"garagearea\\\"], house_df[\\\"saleprice\\\"])\\nplt.show()\";\n",
       "                var nbb_formatted_code = \"plt.scatter(house_df[\\\"garagearea\\\"], house_df[\\\"saleprice\\\"])\\nplt.show()\";\n",
       "                var nbb_cells = Jupyter.notebook.get_cells();\n",
       "                for (var i = 0; i < nbb_cells.length; ++i) {\n",
       "                    if (nbb_cells[i].input_prompt_number == nbb_cell_id) {\n",
       "                        if (nbb_cells[i].get_text() == nbb_unformatted_code) {\n",
       "                             nbb_cells[i].set_text(nbb_formatted_code);\n",
       "                        }\n",
       "                        break;\n",
       "                    }\n",
       "                }\n",
       "            }, 500);\n",
       "            "
      ],
      "text/plain": [
       "<IPython.core.display.Javascript object>"
      ]
     },
     "metadata": {},
     "output_type": "display_data"
    }
   ],
   "source": [
    "plt.scatter(house_df[\"garagearea\"], house_df[\"saleprice\"])\n",
    "plt.show()"
   ]
  },
  {
   "cell_type": "code",
   "execution_count": 26,
   "metadata": {},
   "outputs": [
    {
     "data": {
      "application/javascript": [
       "\n",
       "            setTimeout(function() {\n",
       "                var nbb_cell_id = 26;\n",
       "                var nbb_unformatted_code = \"house_df = house_df[house_df[\\\"garagearea\\\"] < 1200]\";\n",
       "                var nbb_formatted_code = \"house_df = house_df[house_df[\\\"garagearea\\\"] < 1200]\";\n",
       "                var nbb_cells = Jupyter.notebook.get_cells();\n",
       "                for (var i = 0; i < nbb_cells.length; ++i) {\n",
       "                    if (nbb_cells[i].input_prompt_number == nbb_cell_id) {\n",
       "                        if (nbb_cells[i].get_text() == nbb_unformatted_code) {\n",
       "                             nbb_cells[i].set_text(nbb_formatted_code);\n",
       "                        }\n",
       "                        break;\n",
       "                    }\n",
       "                }\n",
       "            }, 500);\n",
       "            "
      ],
      "text/plain": [
       "<IPython.core.display.Javascript object>"
      ]
     },
     "metadata": {},
     "output_type": "display_data"
    }
   ],
   "source": [
    "house_df = house_df[house_df[\"garagearea\"] < 1200]"
   ]
  },
  {
   "cell_type": "code",
   "execution_count": 27,
   "metadata": {},
   "outputs": [
    {
     "data": {
      "image/png": "[encoded data removed]",
      "text/plain": [
       "<Figure size 432x288 with 1 Axes>"
      ]
     },
     "metadata": {
      "needs_background": "light"
     },
     "output_type": "display_data"
    },
    {
     "data": {
      "application/javascript": [
       "\n",
       "            setTimeout(function() {\n",
       "                var nbb_cell_id = 27;\n",
       "                var nbb_unformatted_code = \"plt.boxplot(house_df[\\\"yrsold\\\"])\\nplt.show()\";\n",
       "                var nbb_formatted_code = \"plt.boxplot(house_df[\\\"yrsold\\\"])\\nplt.show()\";\n",
       "                var nbb_cells = Jupyter.notebook.get_cells();\n",
       "                for (var i = 0; i < nbb_cells.length; ++i) {\n",
       "                    if (nbb_cells[i].input_prompt_number == nbb_cell_id) {\n",
       "                        if (nbb_cells[i].get_text() == nbb_unformatted_code) {\n",
       "                             nbb_cells[i].set_text(nbb_formatted_code);\n",
       "                        }\n",
       "                        break;\n",
       "                    }\n",
       "                }\n",
       "            }, 500);\n",
       "            "
      ],
      "text/plain": [
       "<IPython.core.display.Javascript object>"
      ]
     },
     "metadata": {},
     "output_type": "display_data"
    }
   ],
   "source": [
    "plt.boxplot(house_df[\"yrsold\"])\n",
    "plt.show()"
   ]
  },
  {
   "cell_type": "markdown",
   "metadata": {},
   "source": [
    "### Change all the variables to numeric "
   ]
  },
  {
   "cell_type": "code",
   "execution_count": 28,
   "metadata": {},
   "outputs": [
    {
     "data": {
      "text/plain": [
       "mszoning       object\n",
       "lotarea         int64\n",
       "street         object\n",
       "utilities      object\n",
       "housestyle     object\n",
       "overallqual     int64\n",
       "roofstyle      object\n",
       "totalbsmtsf     int64\n",
       "grlivarea       int64\n",
       "kitchenqual    object\n",
       "fireplaces      int64\n",
       "garagearea      int64\n",
       "yrsold          int64\n",
       "saleprice       int64\n",
       "dtype: object"
      ]
     },
     "execution_count": 28,
     "metadata": {},
     "output_type": "execute_result"
    },
    {
     "data": {
      "application/javascript": [
       "\n",
       "            setTimeout(function() {\n",
       "                var nbb_cell_id = 28;\n",
       "                var nbb_unformatted_code = \"house_df.dtypes\";\n",
       "                var nbb_formatted_code = \"house_df.dtypes\";\n",
       "                var nbb_cells = Jupyter.notebook.get_cells();\n",
       "                for (var i = 0; i < nbb_cells.length; ++i) {\n",
       "                    if (nbb_cells[i].input_prompt_number == nbb_cell_id) {\n",
       "                        if (nbb_cells[i].get_text() == nbb_unformatted_code) {\n",
       "                             nbb_cells[i].set_text(nbb_formatted_code);\n",
       "                        }\n",
       "                        break;\n",
       "                    }\n",
       "                }\n",
       "            }, 500);\n",
       "            "
      ],
      "text/plain": [
       "<IPython.core.display.Javascript object>"
      ]
     },
     "metadata": {},
     "output_type": "display_data"
    }
   ],
   "source": [
    "house_df.dtypes"
   ]
  },
  {
   "cell_type": "code",
   "execution_count": 29,
   "metadata": {},
   "outputs": [
    {
     "data": {
      "text/html": [
       "<div>\n",
       "<style scoped>\n",
       "    .dataframe tbody tr th:only-of-type {\n",
       "        vertical-align: middle;\n",
       "    }\n",
       "\n",
       "    .dataframe tbody tr th {\n",
       "        vertical-align: top;\n",
       "    }\n",
       "\n",
       "    .dataframe thead th {\n",
       "        text-align: right;\n",
       "    }\n",
       "</style>\n",
       "<table border=\"1\" class=\"dataframe\">\n",
       "  <thead>\n",
       "    <tr style=\"text-align: right;\">\n",
       "      <th></th>\n",
       "      <th>mszoning</th>\n",
       "      <th>lotarea</th>\n",
       "      <th>street</th>\n",
       "      <th>utilities</th>\n",
       "      <th>housestyle</th>\n",
       "      <th>overallqual</th>\n",
       "      <th>roofstyle</th>\n",
       "      <th>totalbsmtsf</th>\n",
       "      <th>grlivarea</th>\n",
       "      <th>kitchenqual</th>\n",
       "      <th>fireplaces</th>\n",
       "      <th>garagearea</th>\n",
       "      <th>yrsold</th>\n",
       "      <th>saleprice</th>\n",
       "      <th>FV</th>\n",
       "      <th>RH</th>\n",
       "      <th>RL</th>\n",
       "      <th>RM</th>\n",
       "      <th>Pave</th>\n",
       "      <th>NoSeWa</th>\n",
       "      <th>1.5Unf</th>\n",
       "      <th>1Story</th>\n",
       "      <th>2.5Fin</th>\n",
       "      <th>2.5Unf</th>\n",
       "      <th>2Story</th>\n",
       "      <th>SFoyer</th>\n",
       "      <th>SLvl</th>\n",
       "      <th>Gable</th>\n",
       "      <th>Gambrel</th>\n",
       "      <th>Hip</th>\n",
       "      <th>Mansard</th>\n",
       "      <th>Shed</th>\n",
       "      <th>Fa</th>\n",
       "      <th>Gd</th>\n",
       "      <th>TA</th>\n",
       "    </tr>\n",
       "  </thead>\n",
       "  <tbody>\n",
       "    <tr>\n",
       "      <th>0</th>\n",
       "      <td>RL</td>\n",
       "      <td>8450</td>\n",
       "      <td>Pave</td>\n",
       "      <td>AllPub</td>\n",
       "      <td>2Story</td>\n",
       "      <td>7</td>\n",
       "      <td>Gable</td>\n",
       "      <td>856</td>\n",
       "      <td>1710</td>\n",
       "      <td>Gd</td>\n",
       "      <td>0</td>\n",
       "      <td>548</td>\n",
       "      <td>2008</td>\n",
       "      <td>208500</td>\n",
       "      <td>0</td>\n",
       "      <td>0</td>\n",
       "      <td>1</td>\n",
       "      <td>0</td>\n",
       "      <td>1</td>\n",
       "      <td>0</td>\n",
       "      <td>0</td>\n",
       "      <td>0</td>\n",
       "      <td>0</td>\n",
       "      <td>0</td>\n",
       "      <td>1</td>\n",
       "      <td>0</td>\n",
       "      <td>0</td>\n",
       "      <td>1</td>\n",
       "      <td>0</td>\n",
       "      <td>0</td>\n",
       "      <td>0</td>\n",
       "      <td>0</td>\n",
       "      <td>0</td>\n",
       "      <td>1</td>\n",
       "      <td>0</td>\n",
       "    </tr>\n",
       "    <tr>\n",
       "      <th>1</th>\n",
       "      <td>RL</td>\n",
       "      <td>9600</td>\n",
       "      <td>Pave</td>\n",
       "      <td>AllPub</td>\n",
       "      <td>1Story</td>\n",
       "      <td>6</td>\n",
       "      <td>Gable</td>\n",
       "      <td>1262</td>\n",
       "      <td>1262</td>\n",
       "      <td>TA</td>\n",
       "      <td>1</td>\n",
       "      <td>460</td>\n",
       "      <td>2007</td>\n",
       "      <td>181500</td>\n",
       "      <td>0</td>\n",
       "      <td>0</td>\n",
       "      <td>1</td>\n",
       "      <td>0</td>\n",
       "      <td>1</td>\n",
       "      <td>0</td>\n",
       "      <td>0</td>\n",
       "      <td>1</td>\n",
       "      <td>0</td>\n",
       "      <td>0</td>\n",
       "      <td>0</td>\n",
       "      <td>0</td>\n",
       "      <td>0</td>\n",
       "      <td>1</td>\n",
       "      <td>0</td>\n",
       "      <td>0</td>\n",
       "      <td>0</td>\n",
       "      <td>0</td>\n",
       "      <td>0</td>\n",
       "      <td>0</td>\n",
       "      <td>1</td>\n",
       "    </tr>\n",
       "  </tbody>\n",
       "</table>\n",
       "</div>"
      ],
      "text/plain": [
       "  mszoning  lotarea street utilities housestyle  overallqual roofstyle  \\\n",
       "0       RL     8450   Pave    AllPub     2Story            7     Gable   \n",
       "1       RL     9600   Pave    AllPub     1Story            6     Gable   \n",
       "\n",
       "   totalbsmtsf  grlivarea kitchenqual  fireplaces  garagearea  yrsold  \\\n",
       "0          856       1710          Gd           0         548    2008   \n",
       "1         1262       1262          TA           1         460    2007   \n",
       "\n",
       "   saleprice  FV  RH  RL  RM  Pave  NoSeWa  1.5Unf  1Story  2.5Fin  2.5Unf  \\\n",
       "0     208500   0   0   1   0     1       0       0       0       0       0   \n",
       "1     181500   0   0   1   0     1       0       0       1       0       0   \n",
       "\n",
       "   2Story  SFoyer  SLvl  Gable  Gambrel  Hip  Mansard  Shed  Fa  Gd  TA  \n",
       "0       1       0     0      1        0    0        0     0   0   1   0  \n",
       "1       0       0     0      1        0    0        0     0   0   0   1  "
      ]
     },
     "execution_count": 29,
     "metadata": {},
     "output_type": "execute_result"
    },
    {
     "data": {
      "application/javascript": [
       "\n",
       "            setTimeout(function() {\n",
       "                var nbb_cell_id = 29;\n",
       "                var nbb_unformatted_code = \"house_df = pd.concat(\\n    [house_df, pd.get_dummies(house_df[\\\"mszoning\\\"], drop_first=True)], axis=1\\n)\\nhouse_df = pd.concat(\\n    [house_df, pd.get_dummies(house_df[\\\"street\\\"], drop_first=True)], axis=1\\n)\\nhouse_df = pd.concat(\\n    [house_df, pd.get_dummies(house_df[\\\"utilities\\\"], drop_first=True)], axis=1\\n)\\nhouse_df = pd.concat(\\n    [house_df, pd.get_dummies(house_df[\\\"housestyle\\\"], drop_first=True)], axis=1\\n)\\nhouse_df = pd.concat(\\n    [house_df, pd.get_dummies(house_df[\\\"roofstyle\\\"], drop_first=True)], axis=1\\n)\\nhouse_df = pd.concat(\\n    [house_df, pd.get_dummies(house_df[\\\"kitchenqual\\\"], drop_first=True)], axis=1\\n)\\nhouse_df.head(2)\";\n",
       "                var nbb_formatted_code = \"house_df = pd.concat(\\n    [house_df, pd.get_dummies(house_df[\\\"mszoning\\\"], drop_first=True)], axis=1\\n)\\nhouse_df = pd.concat(\\n    [house_df, pd.get_dummies(house_df[\\\"street\\\"], drop_first=True)], axis=1\\n)\\nhouse_df = pd.concat(\\n    [house_df, pd.get_dummies(house_df[\\\"utilities\\\"], drop_first=True)], axis=1\\n)\\nhouse_df = pd.concat(\\n    [house_df, pd.get_dummies(house_df[\\\"housestyle\\\"], drop_first=True)], axis=1\\n)\\nhouse_df = pd.concat(\\n    [house_df, pd.get_dummies(house_df[\\\"roofstyle\\\"], drop_first=True)], axis=1\\n)\\nhouse_df = pd.concat(\\n    [house_df, pd.get_dummies(house_df[\\\"kitchenqual\\\"], drop_first=True)], axis=1\\n)\\nhouse_df.head(2)\";\n",
       "                var nbb_cells = Jupyter.notebook.get_cells();\n",
       "                for (var i = 0; i < nbb_cells.length; ++i) {\n",
       "                    if (nbb_cells[i].input_prompt_number == nbb_cell_id) {\n",
       "                        if (nbb_cells[i].get_text() == nbb_unformatted_code) {\n",
       "                             nbb_cells[i].set_text(nbb_formatted_code);\n",
       "                        }\n",
       "                        break;\n",
       "                    }\n",
       "                }\n",
       "            }, 500);\n",
       "            "
      ],
      "text/plain": [
       "<IPython.core.display.Javascript object>"
      ]
     },
     "metadata": {},
     "output_type": "display_data"
    }
   ],
   "source": [
    "house_df = pd.concat(\n",
    "    [house_df, pd.get_dummies(house_df[\"mszoning\"], drop_first=True)], axis=1\n",
    ")\n",
    "house_df = pd.concat(\n",
    "    [house_df, pd.get_dummies(house_df[\"street\"], drop_first=True)], axis=1\n",
    ")\n",
    "house_df = pd.concat(\n",
    "    [house_df, pd.get_dummies(house_df[\"utilities\"], drop_first=True)], axis=1\n",
    ")\n",
    "house_df = pd.concat(\n",
    "    [house_df, pd.get_dummies(house_df[\"housestyle\"], drop_first=True)], axis=1\n",
    ")\n",
    "house_df = pd.concat(\n",
    "    [house_df, pd.get_dummies(house_df[\"roofstyle\"], drop_first=True)], axis=1\n",
    ")\n",
    "house_df = pd.concat(\n",
    "    [house_df, pd.get_dummies(house_df[\"kitchenqual\"], drop_first=True)], axis=1\n",
    ")\n",
    "house_df.head(2)\n"
   ]
  },
  {
   "cell_type": "code",
   "execution_count": 30,
   "metadata": {},
   "outputs": [
    {
     "data": {
      "text/html": [
       "<div>\n",
       "<style scoped>\n",
       "    .dataframe tbody tr th:only-of-type {\n",
       "        vertical-align: middle;\n",
       "    }\n",
       "\n",
       "    .dataframe tbody tr th {\n",
       "        vertical-align: top;\n",
       "    }\n",
       "\n",
       "    .dataframe thead th {\n",
       "        text-align: right;\n",
       "    }\n",
       "</style>\n",
       "<table border=\"1\" class=\"dataframe\">\n",
       "  <thead>\n",
       "    <tr style=\"text-align: right;\">\n",
       "      <th></th>\n",
       "      <th>lotarea</th>\n",
       "      <th>overallqual</th>\n",
       "      <th>totalbsmtsf</th>\n",
       "      <th>grlivarea</th>\n",
       "      <th>fireplaces</th>\n",
       "      <th>garagearea</th>\n",
       "      <th>yrsold</th>\n",
       "      <th>saleprice</th>\n",
       "      <th>FV</th>\n",
       "      <th>RH</th>\n",
       "      <th>RL</th>\n",
       "      <th>RM</th>\n",
       "      <th>Pave</th>\n",
       "      <th>NoSeWa</th>\n",
       "      <th>1.5Unf</th>\n",
       "      <th>1Story</th>\n",
       "      <th>2.5Fin</th>\n",
       "      <th>2.5Unf</th>\n",
       "      <th>2Story</th>\n",
       "      <th>SFoyer</th>\n",
       "      <th>SLvl</th>\n",
       "      <th>Gable</th>\n",
       "      <th>Gambrel</th>\n",
       "      <th>Hip</th>\n",
       "      <th>Mansard</th>\n",
       "      <th>Shed</th>\n",
       "      <th>Fa</th>\n",
       "      <th>Gd</th>\n",
       "      <th>TA</th>\n",
       "    </tr>\n",
       "  </thead>\n",
       "  <tbody>\n",
       "    <tr>\n",
       "      <th>0</th>\n",
       "      <td>8450</td>\n",
       "      <td>7</td>\n",
       "      <td>856</td>\n",
       "      <td>1710</td>\n",
       "      <td>0</td>\n",
       "      <td>548</td>\n",
       "      <td>2008</td>\n",
       "      <td>208500</td>\n",
       "      <td>0</td>\n",
       "      <td>0</td>\n",
       "      <td>1</td>\n",
       "      <td>0</td>\n",
       "      <td>1</td>\n",
       "      <td>0</td>\n",
       "      <td>0</td>\n",
       "      <td>0</td>\n",
       "      <td>0</td>\n",
       "      <td>0</td>\n",
       "      <td>1</td>\n",
       "      <td>0</td>\n",
       "      <td>0</td>\n",
       "      <td>1</td>\n",
       "      <td>0</td>\n",
       "      <td>0</td>\n",
       "      <td>0</td>\n",
       "      <td>0</td>\n",
       "      <td>0</td>\n",
       "      <td>1</td>\n",
       "      <td>0</td>\n",
       "    </tr>\n",
       "    <tr>\n",
       "      <th>1</th>\n",
       "      <td>9600</td>\n",
       "      <td>6</td>\n",
       "      <td>1262</td>\n",
       "      <td>1262</td>\n",
       "      <td>1</td>\n",
       "      <td>460</td>\n",
       "      <td>2007</td>\n",
       "      <td>181500</td>\n",
       "      <td>0</td>\n",
       "      <td>0</td>\n",
       "      <td>1</td>\n",
       "      <td>0</td>\n",
       "      <td>1</td>\n",
       "      <td>0</td>\n",
       "      <td>0</td>\n",
       "      <td>1</td>\n",
       "      <td>0</td>\n",
       "      <td>0</td>\n",
       "      <td>0</td>\n",
       "      <td>0</td>\n",
       "      <td>0</td>\n",
       "      <td>1</td>\n",
       "      <td>0</td>\n",
       "      <td>0</td>\n",
       "      <td>0</td>\n",
       "      <td>0</td>\n",
       "      <td>0</td>\n",
       "      <td>0</td>\n",
       "      <td>1</td>\n",
       "    </tr>\n",
       "  </tbody>\n",
       "</table>\n",
       "</div>"
      ],
      "text/plain": [
       "   lotarea  overallqual  totalbsmtsf  grlivarea  fireplaces  garagearea  \\\n",
       "0     8450            7          856       1710           0         548   \n",
       "1     9600            6         1262       1262           1         460   \n",
       "\n",
       "   yrsold  saleprice  FV  RH  RL  RM  Pave  NoSeWa  1.5Unf  1Story  2.5Fin  \\\n",
       "0    2008     208500   0   0   1   0     1       0       0       0       0   \n",
       "1    2007     181500   0   0   1   0     1       0       0       1       0   \n",
       "\n",
       "   2.5Unf  2Story  SFoyer  SLvl  Gable  Gambrel  Hip  Mansard  Shed  Fa  Gd  \\\n",
       "0       0       1       0     0      1        0    0        0     0   0   1   \n",
       "1       0       0       0     0      1        0    0        0     0   0   0   \n",
       "\n",
       "   TA  \n",
       "0   0  \n",
       "1   1  "
      ]
     },
     "execution_count": 30,
     "metadata": {},
     "output_type": "execute_result"
    },
    {
     "data": {
      "application/javascript": [
       "\n",
       "            setTimeout(function() {\n",
       "                var nbb_cell_id = 30;\n",
       "                var nbb_unformatted_code = \"house_df = house_df.drop(\\n    columns=[\\n        \\\"mszoning\\\",\\n        \\\"street\\\",\\n        \\\"utilities\\\",\\n        \\\"housestyle\\\",\\n        \\\"roofstyle\\\",\\n        \\\"kitchenqual\\\",\\n    ]\\n)\\nhouse_df.head(2)\";\n",
       "                var nbb_formatted_code = \"house_df = house_df.drop(\\n    columns=[\\n        \\\"mszoning\\\",\\n        \\\"street\\\",\\n        \\\"utilities\\\",\\n        \\\"housestyle\\\",\\n        \\\"roofstyle\\\",\\n        \\\"kitchenqual\\\",\\n    ]\\n)\\nhouse_df.head(2)\";\n",
       "                var nbb_cells = Jupyter.notebook.get_cells();\n",
       "                for (var i = 0; i < nbb_cells.length; ++i) {\n",
       "                    if (nbb_cells[i].input_prompt_number == nbb_cell_id) {\n",
       "                        if (nbb_cells[i].get_text() == nbb_unformatted_code) {\n",
       "                             nbb_cells[i].set_text(nbb_formatted_code);\n",
       "                        }\n",
       "                        break;\n",
       "                    }\n",
       "                }\n",
       "            }, 500);\n",
       "            "
      ],
      "text/plain": [
       "<IPython.core.display.Javascript object>"
      ]
     },
     "metadata": {},
     "output_type": "display_data"
    }
   ],
   "source": [
    "house_df = house_df.drop(\n",
    "    columns=[\n",
    "        \"mszoning\",\n",
    "        \"street\",\n",
    "        \"utilities\",\n",
    "        \"housestyle\",\n",
    "        \"roofstyle\",\n",
    "        \"kitchenqual\",\n",
    "    ]\n",
    ")\n",
    "house_df.head(2)"
   ]
  },
  {
   "cell_type": "code",
   "execution_count": 31,
   "metadata": {
    "scrolled": true
   },
   "outputs": [
    {
     "data": {
      "text/plain": [
       "lotarea        int64\n",
       "overallqual    int64\n",
       "totalbsmtsf    int64\n",
       "grlivarea      int64\n",
       "fireplaces     int64\n",
       "garagearea     int64\n",
       "yrsold         int64\n",
       "saleprice      int64\n",
       "FV             uint8\n",
       "RH             uint8\n",
       "RL             uint8\n",
       "RM             uint8\n",
       "Pave           uint8\n",
       "NoSeWa         uint8\n",
       "1.5Unf         uint8\n",
       "1Story         uint8\n",
       "2.5Fin         uint8\n",
       "2.5Unf         uint8\n",
       "2Story         uint8\n",
       "SFoyer         uint8\n",
       "SLvl           uint8\n",
       "Gable          uint8\n",
       "Gambrel        uint8\n",
       "Hip            uint8\n",
       "Mansard        uint8\n",
       "Shed           uint8\n",
       "Fa             uint8\n",
       "Gd             uint8\n",
       "TA             uint8\n",
       "dtype: object"
      ]
     },
     "execution_count": 31,
     "metadata": {},
     "output_type": "execute_result"
    },
    {
     "data": {
      "application/javascript": [
       "\n",
       "            setTimeout(function() {\n",
       "                var nbb_cell_id = 31;\n",
       "                var nbb_unformatted_code = \"house_df.dtypes\";\n",
       "                var nbb_formatted_code = \"house_df.dtypes\";\n",
       "                var nbb_cells = Jupyter.notebook.get_cells();\n",
       "                for (var i = 0; i < nbb_cells.length; ++i) {\n",
       "                    if (nbb_cells[i].input_prompt_number == nbb_cell_id) {\n",
       "                        if (nbb_cells[i].get_text() == nbb_unformatted_code) {\n",
       "                             nbb_cells[i].set_text(nbb_formatted_code);\n",
       "                        }\n",
       "                        break;\n",
       "                    }\n",
       "                }\n",
       "            }, 500);\n",
       "            "
      ],
      "text/plain": [
       "<IPython.core.display.Javascript object>"
      ]
     },
     "metadata": {},
     "output_type": "display_data"
    }
   ],
   "source": [
    "house_df.dtypes"
   ]
  },
  {
   "cell_type": "markdown",
   "metadata": {},
   "source": [
    "### Now, split your data into train and test sets where 20% of the data resides in the test set."
   ]
  },
  {
   "cell_type": "code",
   "execution_count": 32,
   "metadata": {},
   "outputs": [
    {
     "data": {
      "application/javascript": [
       "\n",
       "            setTimeout(function() {\n",
       "                var nbb_cell_id = 32;\n",
       "                var nbb_unformatted_code = \"X = house_df.drop(columns=[\\\"saleprice\\\"])\\ny = house_df[\\\"saleprice\\\"]\\n\\nX_train, X_test, y_train, y_test = train_test_split(X, y, test_size=0.2)\";\n",
       "                var nbb_formatted_code = \"X = house_df.drop(columns=[\\\"saleprice\\\"])\\ny = house_df[\\\"saleprice\\\"]\\n\\nX_train, X_test, y_train, y_test = train_test_split(X, y, test_size=0.2)\";\n",
       "                var nbb_cells = Jupyter.notebook.get_cells();\n",
       "                for (var i = 0; i < nbb_cells.length; ++i) {\n",
       "                    if (nbb_cells[i].input_prompt_number == nbb_cell_id) {\n",
       "                        if (nbb_cells[i].get_text() == nbb_unformatted_code) {\n",
       "                             nbb_cells[i].set_text(nbb_formatted_code);\n",
       "                        }\n",
       "                        break;\n",
       "                    }\n",
       "                }\n",
       "            }, 500);\n",
       "            "
      ],
      "text/plain": [
       "<IPython.core.display.Javascript object>"
      ]
     },
     "metadata": {},
     "output_type": "display_data"
    }
   ],
   "source": [
    "X = house_df.drop(columns=[\"saleprice\"])\n",
    "y = house_df[\"saleprice\"]\n",
    "\n",
    "X_train, X_test, y_train, y_test = train_test_split(X, y, test_size=0.2)"
   ]
  },
  {
   "cell_type": "markdown",
   "metadata": {},
   "source": [
    "### Build several linear regression models including Lasso, Ridge, or ElasticNet and train them in the training set. Use k-fold cross-validation to select the best hyperparameters if your models include one!\n"
   ]
  },
  {
   "cell_type": "markdown",
   "metadata": {},
   "source": [
    "##### Linear Regression"
   ]
  },
  {
   "cell_type": "code",
   "execution_count": 33,
   "metadata": {},
   "outputs": [
    {
     "data": {
      "text/plain": [
       "LinearRegression(copy_X=True, fit_intercept=True, n_jobs=None, normalize=False)"
      ]
     },
     "execution_count": 33,
     "metadata": {},
     "output_type": "execute_result"
    },
    {
     "data": {
      "application/javascript": [
       "\n",
       "            setTimeout(function() {\n",
       "                var nbb_cell_id = 33;\n",
       "                var nbb_unformatted_code = \"linear = LinearRegression()\\nlinear.fit(X_train, y_train)\";\n",
       "                var nbb_formatted_code = \"linear = LinearRegression()\\nlinear.fit(X_train, y_train)\";\n",
       "                var nbb_cells = Jupyter.notebook.get_cells();\n",
       "                for (var i = 0; i < nbb_cells.length; ++i) {\n",
       "                    if (nbb_cells[i].input_prompt_number == nbb_cell_id) {\n",
       "                        if (nbb_cells[i].get_text() == nbb_unformatted_code) {\n",
       "                             nbb_cells[i].set_text(nbb_formatted_code);\n",
       "                        }\n",
       "                        break;\n",
       "                    }\n",
       "                }\n",
       "            }, 500);\n",
       "            "
      ],
      "text/plain": [
       "<IPython.core.display.Javascript object>"
      ]
     },
     "metadata": {},
     "output_type": "display_data"
    }
   ],
   "source": [
    "linear = LinearRegression()\n",
    "linear.fit(X_train, y_train)"
   ]
  },
  {
   "cell_type": "code",
   "execution_count": 34,
   "metadata": {},
   "outputs": [
    {
     "data": {
      "text/plain": [
       "0.8563599065930971"
      ]
     },
     "execution_count": 34,
     "metadata": {},
     "output_type": "execute_result"
    },
    {
     "data": {
      "application/javascript": [
       "\n",
       "            setTimeout(function() {\n",
       "                var nbb_cell_id = 34;\n",
       "                var nbb_unformatted_code = \"linear.score(X_train, y_train)\";\n",
       "                var nbb_formatted_code = \"linear.score(X_train, y_train)\";\n",
       "                var nbb_cells = Jupyter.notebook.get_cells();\n",
       "                for (var i = 0; i < nbb_cells.length; ++i) {\n",
       "                    if (nbb_cells[i].input_prompt_number == nbb_cell_id) {\n",
       "                        if (nbb_cells[i].get_text() == nbb_unformatted_code) {\n",
       "                             nbb_cells[i].set_text(nbb_formatted_code);\n",
       "                        }\n",
       "                        break;\n",
       "                    }\n",
       "                }\n",
       "            }, 500);\n",
       "            "
      ],
      "text/plain": [
       "<IPython.core.display.Javascript object>"
      ]
     },
     "metadata": {},
     "output_type": "display_data"
    }
   ],
   "source": [
    "linear.score(X_train, y_train)"
   ]
  },
  {
   "cell_type": "code",
   "execution_count": 35,
   "metadata": {},
   "outputs": [
    {
     "data": {
      "text/plain": [
       "0.8264634436973225"
      ]
     },
     "execution_count": 35,
     "metadata": {},
     "output_type": "execute_result"
    },
    {
     "data": {
      "application/javascript": [
       "\n",
       "            setTimeout(function() {\n",
       "                var nbb_cell_id = 35;\n",
       "                var nbb_unformatted_code = \"linear.score(X_test, y_test)\";\n",
       "                var nbb_formatted_code = \"linear.score(X_test, y_test)\";\n",
       "                var nbb_cells = Jupyter.notebook.get_cells();\n",
       "                for (var i = 0; i < nbb_cells.length; ++i) {\n",
       "                    if (nbb_cells[i].input_prompt_number == nbb_cell_id) {\n",
       "                        if (nbb_cells[i].get_text() == nbb_unformatted_code) {\n",
       "                             nbb_cells[i].set_text(nbb_formatted_code);\n",
       "                        }\n",
       "                        break;\n",
       "                    }\n",
       "                }\n",
       "            }, 500);\n",
       "            "
      ],
      "text/plain": [
       "<IPython.core.display.Javascript object>"
      ]
     },
     "metadata": {},
     "output_type": "display_data"
    }
   ],
   "source": [
    "linear.score(X_test, y_test)"
   ]
  },
  {
   "cell_type": "code",
   "execution_count": 36,
   "metadata": {},
   "outputs": [
    {
     "data": {
      "text/html": [
       "<table class=\"simpletable\">\n",
       "<caption>OLS Regression Results</caption>\n",
       "<tr>\n",
       "  <th>Dep. Variable:</th>        <td>saleprice</td>    <th>  R-squared:         </th> <td>   0.851</td> \n",
       "</tr>\n",
       "<tr>\n",
       "  <th>Model:</th>                   <td>OLS</td>       <th>  Adj. R-squared:    </th> <td>   0.848</td> \n",
       "</tr>\n",
       "<tr>\n",
       "  <th>Method:</th>             <td>Least Squares</td>  <th>  F-statistic:       </th> <td>   289.4</td> \n",
       "</tr>\n",
       "<tr>\n",
       "  <th>Date:</th>             <td>Wed, 02 Sep 2020</td> <th>  Prob (F-statistic):</th>  <td>  0.00</td>  \n",
       "</tr>\n",
       "<tr>\n",
       "  <th>Time:</th>                 <td>14:55:50</td>     <th>  Log-Likelihood:    </th> <td> -16956.</td> \n",
       "</tr>\n",
       "<tr>\n",
       "  <th>No. Observations:</th>      <td>  1448</td>      <th>  AIC:               </th> <td>3.397e+04</td>\n",
       "</tr>\n",
       "<tr>\n",
       "  <th>Df Residuals:</th>          <td>  1419</td>      <th>  BIC:               </th> <td>3.412e+04</td>\n",
       "</tr>\n",
       "<tr>\n",
       "  <th>Df Model:</th>              <td>    28</td>      <th>                     </th>     <td> </td>    \n",
       "</tr>\n",
       "<tr>\n",
       "  <th>Covariance Type:</th>      <td>nonrobust</td>    <th>                     </th>     <td> </td>    \n",
       "</tr>\n",
       "</table>\n",
       "<table class=\"simpletable\">\n",
       "<tr>\n",
       "       <td></td>          <th>coef</th>     <th>std err</th>      <th>t</th>      <th>P>|t|</th>  <th>[0.025</th>    <th>0.975]</th>  \n",
       "</tr>\n",
       "<tr>\n",
       "  <th>const</th>       <td> 9.884e+04</td> <td> 1.19e+06</td> <td>    0.083</td> <td> 0.934</td> <td>-2.23e+06</td> <td> 2.43e+06</td>\n",
       "</tr>\n",
       "<tr>\n",
       "  <th>lotarea</th>     <td>    1.3848</td> <td>    0.175</td> <td>    7.907</td> <td> 0.000</td> <td>    1.041</td> <td>    1.728</td>\n",
       "</tr>\n",
       "<tr>\n",
       "  <th>overallqual</th> <td> 1.685e+04</td> <td>  984.746</td> <td>   17.114</td> <td> 0.000</td> <td> 1.49e+04</td> <td> 1.88e+04</td>\n",
       "</tr>\n",
       "<tr>\n",
       "  <th>totalbsmtsf</th> <td>   29.0124</td> <td>    3.165</td> <td>    9.166</td> <td> 0.000</td> <td>   22.803</td> <td>   35.221</td>\n",
       "</tr>\n",
       "<tr>\n",
       "  <th>grlivarea</th>   <td>   46.3007</td> <td>    3.132</td> <td>   14.782</td> <td> 0.000</td> <td>   40.156</td> <td>   52.445</td>\n",
       "</tr>\n",
       "<tr>\n",
       "  <th>fireplaces</th>  <td> 4831.5887</td> <td> 1453.441</td> <td>    3.324</td> <td> 0.001</td> <td> 1980.466</td> <td> 7682.712</td>\n",
       "</tr>\n",
       "<tr>\n",
       "  <th>garagearea</th>  <td>   44.4080</td> <td>    5.053</td> <td>    8.788</td> <td> 0.000</td> <td>   34.496</td> <td>   54.320</td>\n",
       "</tr>\n",
       "<tr>\n",
       "  <th>yrsold</th>      <td>  -85.4392</td> <td>  590.115</td> <td>   -0.145</td> <td> 0.885</td> <td>-1243.030</td> <td> 1072.151</td>\n",
       "</tr>\n",
       "<tr>\n",
       "  <th>FV</th>          <td> 3.137e+04</td> <td> 1.12e+04</td> <td>    2.812</td> <td> 0.005</td> <td> 9481.733</td> <td> 5.33e+04</td>\n",
       "</tr>\n",
       "<tr>\n",
       "  <th>RH</th>          <td> 1.702e+04</td> <td> 1.28e+04</td> <td>    1.335</td> <td> 0.182</td> <td>-7997.725</td> <td>  4.2e+04</td>\n",
       "</tr>\n",
       "<tr>\n",
       "  <th>RL</th>          <td> 2.469e+04</td> <td> 1.04e+04</td> <td>    2.370</td> <td> 0.018</td> <td> 4255.911</td> <td> 4.51e+04</td>\n",
       "</tr>\n",
       "<tr>\n",
       "  <th>RM</th>          <td> 1.565e+04</td> <td> 1.05e+04</td> <td>    1.498</td> <td> 0.134</td> <td>-4847.852</td> <td> 3.62e+04</td>\n",
       "</tr>\n",
       "<tr>\n",
       "  <th>Pave</th>        <td> 2.315e+04</td> <td> 1.53e+04</td> <td>    1.512</td> <td> 0.131</td> <td>-6879.834</td> <td> 5.32e+04</td>\n",
       "</tr>\n",
       "<tr>\n",
       "  <th>NoSeWa</th>      <td>-4.429e+04</td> <td> 3.01e+04</td> <td>   -1.473</td> <td> 0.141</td> <td>-1.03e+05</td> <td> 1.47e+04</td>\n",
       "</tr>\n",
       "<tr>\n",
       "  <th>1.5Unf</th>      <td> 5994.7991</td> <td> 8571.240</td> <td>    0.699</td> <td> 0.484</td> <td>-1.08e+04</td> <td> 2.28e+04</td>\n",
       "</tr>\n",
       "<tr>\n",
       "  <th>1Story</th>      <td> 8088.7870</td> <td> 3335.215</td> <td>    2.425</td> <td> 0.015</td> <td> 1546.304</td> <td> 1.46e+04</td>\n",
       "</tr>\n",
       "<tr>\n",
       "  <th>2.5Fin</th>      <td>-2.066e+04</td> <td> 1.14e+04</td> <td>   -1.817</td> <td> 0.069</td> <td> -4.3e+04</td> <td> 1646.919</td>\n",
       "</tr>\n",
       "<tr>\n",
       "  <th>2.5Unf</th>      <td>-1.872e+04</td> <td> 9498.825</td> <td>   -1.971</td> <td> 0.049</td> <td>-3.74e+04</td> <td>  -91.098</td>\n",
       "</tr>\n",
       "<tr>\n",
       "  <th>2Story</th>      <td> 7031.8974</td> <td> 3036.109</td> <td>    2.316</td> <td> 0.021</td> <td> 1076.154</td> <td>  1.3e+04</td>\n",
       "</tr>\n",
       "<tr>\n",
       "  <th>SFoyer</th>      <td> 1.779e+04</td> <td> 5848.519</td> <td>    3.041</td> <td> 0.002</td> <td> 6312.714</td> <td> 2.93e+04</td>\n",
       "</tr>\n",
       "<tr>\n",
       "  <th>SLvl</th>        <td> 9233.9221</td> <td> 4684.992</td> <td>    1.971</td> <td> 0.049</td> <td>   43.669</td> <td> 1.84e+04</td>\n",
       "</tr>\n",
       "<tr>\n",
       "  <th>Gable</th>       <td> 9775.6781</td> <td> 8598.882</td> <td>    1.137</td> <td> 0.256</td> <td>-7092.208</td> <td> 2.66e+04</td>\n",
       "</tr>\n",
       "<tr>\n",
       "  <th>Gambrel</th>     <td> 1.284e+04</td> <td> 1.25e+04</td> <td>    1.026</td> <td> 0.305</td> <td>-1.17e+04</td> <td> 3.74e+04</td>\n",
       "</tr>\n",
       "<tr>\n",
       "  <th>Hip</th>         <td> 1.647e+04</td> <td> 8707.617</td> <td>    1.892</td> <td> 0.059</td> <td> -609.721</td> <td> 3.36e+04</td>\n",
       "</tr>\n",
       "<tr>\n",
       "  <th>Mansard</th>     <td> 3341.4107</td> <td> 1.42e+04</td> <td>    0.236</td> <td> 0.814</td> <td>-2.45e+04</td> <td> 3.12e+04</td>\n",
       "</tr>\n",
       "<tr>\n",
       "  <th>Shed</th>        <td> 3993.3340</td> <td> 2.27e+04</td> <td>    0.176</td> <td> 0.860</td> <td>-4.05e+04</td> <td> 4.85e+04</td>\n",
       "</tr>\n",
       "<tr>\n",
       "  <th>Fa</th>          <td> -5.79e+04</td> <td> 6512.028</td> <td>   -8.892</td> <td> 0.000</td> <td>-7.07e+04</td> <td>-4.51e+04</td>\n",
       "</tr>\n",
       "<tr>\n",
       "  <th>Gd</th>          <td>-4.741e+04</td> <td> 3559.353</td> <td>  -13.321</td> <td> 0.000</td> <td>-5.44e+04</td> <td>-4.04e+04</td>\n",
       "</tr>\n",
       "<tr>\n",
       "  <th>TA</th>          <td>-6.221e+04</td> <td> 4019.091</td> <td>  -15.479</td> <td> 0.000</td> <td>-7.01e+04</td> <td>-5.43e+04</td>\n",
       "</tr>\n",
       "</table>\n",
       "<table class=\"simpletable\">\n",
       "<tr>\n",
       "  <th>Omnibus:</th>       <td>367.662</td> <th>  Durbin-Watson:     </th> <td>   2.028</td>\n",
       "</tr>\n",
       "<tr>\n",
       "  <th>Prob(Omnibus):</th> <td> 0.000</td>  <th>  Jarque-Bera (JB):  </th> <td>3225.408</td>\n",
       "</tr>\n",
       "<tr>\n",
       "  <th>Skew:</th>          <td> 0.925</td>  <th>  Prob(JB):          </th> <td>    0.00</td>\n",
       "</tr>\n",
       "<tr>\n",
       "  <th>Kurtosis:</th>      <td>10.074</td>  <th>  Cond. No.          </th> <td>1.76e+07</td>\n",
       "</tr>\n",
       "</table><br/><br/>Warnings:<br/>[1] Standard Errors assume that the covariance matrix of the errors is correctly specified.<br/>[2] The condition number is large, 1.76e+07. This might indicate that there are<br/>strong multicollinearity or other numerical problems."
      ],
      "text/plain": [
       "<class 'statsmodels.iolib.summary.Summary'>\n",
       "\"\"\"\n",
       "                            OLS Regression Results                            \n",
       "==============================================================================\n",
       "Dep. Variable:              saleprice   R-squared:                       0.851\n",
       "Model:                            OLS   Adj. R-squared:                  0.848\n",
       "Method:                 Least Squares   F-statistic:                     289.4\n",
       "Date:                Wed, 02 Sep 2020   Prob (F-statistic):               0.00\n",
       "Time:                        14:55:50   Log-Likelihood:                -16956.\n",
       "No. Observations:                1448   AIC:                         3.397e+04\n",
       "Df Residuals:                    1419   BIC:                         3.412e+04\n",
       "Df Model:                          28                                         \n",
       "Covariance Type:            nonrobust                                         \n",
       "===============================================================================\n",
       "                  coef    std err          t      P>|t|      [0.025      0.975]\n",
       "-------------------------------------------------------------------------------\n",
       "const        9.884e+04   1.19e+06      0.083      0.934   -2.23e+06    2.43e+06\n",
       "lotarea         1.3848      0.175      7.907      0.000       1.041       1.728\n",
       "overallqual  1.685e+04    984.746     17.114      0.000    1.49e+04    1.88e+04\n",
       "totalbsmtsf    29.0124      3.165      9.166      0.000      22.803      35.221\n",
       "grlivarea      46.3007      3.132     14.782      0.000      40.156      52.445\n",
       "fireplaces   4831.5887   1453.441      3.324      0.001    1980.466    7682.712\n",
       "garagearea     44.4080      5.053      8.788      0.000      34.496      54.320\n",
       "yrsold        -85.4392    590.115     -0.145      0.885   -1243.030    1072.151\n",
       "FV           3.137e+04   1.12e+04      2.812      0.005    9481.733    5.33e+04\n",
       "RH           1.702e+04   1.28e+04      1.335      0.182   -7997.725     4.2e+04\n",
       "RL           2.469e+04   1.04e+04      2.370      0.018    4255.911    4.51e+04\n",
       "RM           1.565e+04   1.05e+04      1.498      0.134   -4847.852    3.62e+04\n",
       "Pave         2.315e+04   1.53e+04      1.512      0.131   -6879.834    5.32e+04\n",
       "NoSeWa      -4.429e+04   3.01e+04     -1.473      0.141   -1.03e+05    1.47e+04\n",
       "1.5Unf       5994.7991   8571.240      0.699      0.484   -1.08e+04    2.28e+04\n",
       "1Story       8088.7870   3335.215      2.425      0.015    1546.304    1.46e+04\n",
       "2.5Fin      -2.066e+04   1.14e+04     -1.817      0.069    -4.3e+04    1646.919\n",
       "2.5Unf      -1.872e+04   9498.825     -1.971      0.049   -3.74e+04     -91.098\n",
       "2Story       7031.8974   3036.109      2.316      0.021    1076.154     1.3e+04\n",
       "SFoyer       1.779e+04   5848.519      3.041      0.002    6312.714    2.93e+04\n",
       "SLvl         9233.9221   4684.992      1.971      0.049      43.669    1.84e+04\n",
       "Gable        9775.6781   8598.882      1.137      0.256   -7092.208    2.66e+04\n",
       "Gambrel      1.284e+04   1.25e+04      1.026      0.305   -1.17e+04    3.74e+04\n",
       "Hip          1.647e+04   8707.617      1.892      0.059    -609.721    3.36e+04\n",
       "Mansard      3341.4107   1.42e+04      0.236      0.814   -2.45e+04    3.12e+04\n",
       "Shed         3993.3340   2.27e+04      0.176      0.860   -4.05e+04    4.85e+04\n",
       "Fa           -5.79e+04   6512.028     -8.892      0.000   -7.07e+04   -4.51e+04\n",
       "Gd          -4.741e+04   3559.353    -13.321      0.000   -5.44e+04   -4.04e+04\n",
       "TA          -6.221e+04   4019.091    -15.479      0.000   -7.01e+04   -5.43e+04\n",
       "==============================================================================\n",
       "Omnibus:                      367.662   Durbin-Watson:                   2.028\n",
       "Prob(Omnibus):                  0.000   Jarque-Bera (JB):             3225.408\n",
       "Skew:                           0.925   Prob(JB):                         0.00\n",
       "Kurtosis:                      10.074   Cond. No.                     1.76e+07\n",
       "==============================================================================\n",
       "\n",
       "Warnings:\n",
       "[1] Standard Errors assume that the covariance matrix of the errors is correctly specified.\n",
       "[2] The condition number is large, 1.76e+07. This might indicate that there are\n",
       "strong multicollinearity or other numerical problems.\n",
       "\"\"\""
      ]
     },
     "execution_count": 36,
     "metadata": {},
     "output_type": "execute_result"
    },
    {
     "data": {
      "application/javascript": [
       "\n",
       "            setTimeout(function() {\n",
       "                var nbb_cell_id = 36;\n",
       "                var nbb_unformatted_code = \"X = sm.add_constant(X)\\nmodel = sm.OLS(y, X).fit()\\nmodel.summary()\";\n",
       "                var nbb_formatted_code = \"X = sm.add_constant(X)\\nmodel = sm.OLS(y, X).fit()\\nmodel.summary()\";\n",
       "                var nbb_cells = Jupyter.notebook.get_cells();\n",
       "                for (var i = 0; i < nbb_cells.length; ++i) {\n",
       "                    if (nbb_cells[i].input_prompt_number == nbb_cell_id) {\n",
       "                        if (nbb_cells[i].get_text() == nbb_unformatted_code) {\n",
       "                             nbb_cells[i].set_text(nbb_formatted_code);\n",
       "                        }\n",
       "                        break;\n",
       "                    }\n",
       "                }\n",
       "            }, 500);\n",
       "            "
      ],
      "text/plain": [
       "<IPython.core.display.Javascript object>"
      ]
     },
     "metadata": {},
     "output_type": "display_data"
    }
   ],
   "source": [
    "X = sm.add_constant(X)\n",
    "model = sm.OLS(y, X).fit()\n",
    "model.summary()"
   ]
  },
  {
   "cell_type": "markdown",
   "metadata": {},
   "source": [
    "##### Ridge Regression"
   ]
  },
  {
   "cell_type": "code",
   "execution_count": 37,
   "metadata": {},
   "outputs": [
    {
     "data": {
      "application/javascript": [
       "\n",
       "            setTimeout(function() {\n",
       "                var nbb_cell_id = 37;\n",
       "                var nbb_unformatted_code = \"alphas = [np.power(10.0, p) for p in np.arange(-10, 40, 1)]\";\n",
       "                var nbb_formatted_code = \"alphas = [np.power(10.0, p) for p in np.arange(-10, 40, 1)]\";\n",
       "                var nbb_cells = Jupyter.notebook.get_cells();\n",
       "                for (var i = 0; i < nbb_cells.length; ++i) {\n",
       "                    if (nbb_cells[i].input_prompt_number == nbb_cell_id) {\n",
       "                        if (nbb_cells[i].get_text() == nbb_unformatted_code) {\n",
       "                             nbb_cells[i].set_text(nbb_formatted_code);\n",
       "                        }\n",
       "                        break;\n",
       "                    }\n",
       "                }\n",
       "            }, 500);\n",
       "            "
      ],
      "text/plain": [
       "<IPython.core.display.Javascript object>"
      ]
     },
     "metadata": {},
     "output_type": "display_data"
    }
   ],
   "source": [
    "alphas = [np.power(10.0, p) for p in np.arange(-10, 40, 1)]"
   ]
  },
  {
   "cell_type": "code",
   "execution_count": 38,
   "metadata": {},
   "outputs": [
    {
     "name": "stdout",
     "output_type": "stream",
     "text": [
      "Best alpha value is: 1.0\n",
      "R-squared of the model in training set is: 0.856099381807067\n",
      "-----Test set statistics-----\n",
      "R-squared of the model in test set is: 0.8269284029265348\n",
      "Mean absolute error of the prediction is: 22489.651378687136\n",
      "Mean squared error of the prediction is: 1002205363.0327464\n",
      "Root mean squared error of the prediction is: 31657.627248938705\n",
      "Mean absolute percentage error of the prediction is: 13.530155623147255\n"
     ]
    },
    {
     "data": {
      "application/javascript": [
       "\n",
       "            setTimeout(function() {\n",
       "                var nbb_cell_id = 38;\n",
       "                var nbb_unformatted_code = \"ridge_cv = RidgeCV(alphas=alphas, cv=5)\\n\\nridge_cv.fit(X_train, y_train)\\ny_preds_train = ridge_cv.predict(X_train)\\ny_preds_test = ridge_cv.predict(X_test)\\n\\nprint(\\\"Best alpha value is: {}\\\".format(ridge_cv.alpha_))\\nprint(\\n    \\\"R-squared of the model in training set is: {}\\\".format(\\n        ridge_cv.score(X_train, y_train)\\n    )\\n)\\nprint(\\\"-----Test set statistics-----\\\")\\nprint(\\n    \\\"R-squared of the model in test set is: {}\\\".format(ridge_cv.score(X_test, y_test))\\n)\\nprint(\\n    \\\"Mean absolute error of the prediction is: {}\\\".format(\\n        mean_absolute_error(y_test, y_preds_test)\\n    )\\n)\\nprint(\\\"Mean squared error of the prediction is: {}\\\".format(mse(y_test, y_preds_test)))\\nprint(\\n    \\\"Root mean squared error of the prediction is: {}\\\".format(\\n        rmse(y_test, y_preds_test)\\n    )\\n)\\nprint(\\n    \\\"Mean absolute percentage error of the prediction is: {}\\\".format(\\n        np.mean(np.abs((y_test - y_preds_test) / y_test)) * 100\\n    )\\n)\";\n",
       "                var nbb_formatted_code = \"ridge_cv = RidgeCV(alphas=alphas, cv=5)\\n\\nridge_cv.fit(X_train, y_train)\\ny_preds_train = ridge_cv.predict(X_train)\\ny_preds_test = ridge_cv.predict(X_test)\\n\\nprint(\\\"Best alpha value is: {}\\\".format(ridge_cv.alpha_))\\nprint(\\n    \\\"R-squared of the model in training set is: {}\\\".format(\\n        ridge_cv.score(X_train, y_train)\\n    )\\n)\\nprint(\\\"-----Test set statistics-----\\\")\\nprint(\\n    \\\"R-squared of the model in test set is: {}\\\".format(ridge_cv.score(X_test, y_test))\\n)\\nprint(\\n    \\\"Mean absolute error of the prediction is: {}\\\".format(\\n        mean_absolute_error(y_test, y_preds_test)\\n    )\\n)\\nprint(\\\"Mean squared error of the prediction is: {}\\\".format(mse(y_test, y_preds_test)))\\nprint(\\n    \\\"Root mean squared error of the prediction is: {}\\\".format(\\n        rmse(y_test, y_preds_test)\\n    )\\n)\\nprint(\\n    \\\"Mean absolute percentage error of the prediction is: {}\\\".format(\\n        np.mean(np.abs((y_test - y_preds_test) / y_test)) * 100\\n    )\\n)\";\n",
       "                var nbb_cells = Jupyter.notebook.get_cells();\n",
       "                for (var i = 0; i < nbb_cells.length; ++i) {\n",
       "                    if (nbb_cells[i].input_prompt_number == nbb_cell_id) {\n",
       "                        if (nbb_cells[i].get_text() == nbb_unformatted_code) {\n",
       "                             nbb_cells[i].set_text(nbb_formatted_code);\n",
       "                        }\n",
       "                        break;\n",
       "                    }\n",
       "                }\n",
       "            }, 500);\n",
       "            "
      ],
      "text/plain": [
       "<IPython.core.display.Javascript object>"
      ]
     },
     "metadata": {},
     "output_type": "display_data"
    }
   ],
   "source": [
    "ridge_cv = RidgeCV(alphas=alphas, cv=5)\n",
    "\n",
    "ridge_cv.fit(X_train, y_train)\n",
    "y_preds_train = ridge_cv.predict(X_train)\n",
    "y_preds_test = ridge_cv.predict(X_test)\n",
    "\n",
    "print(\"Best alpha value is: {}\".format(ridge_cv.alpha_))\n",
    "print(\n",
    "    \"R-squared of the model in training set is: {}\".format(\n",
    "        ridge_cv.score(X_train, y_train)\n",
    "    )\n",
    ")\n",
    "print(\"-----Test set statistics-----\")\n",
    "print(\n",
    "    \"R-squared of the model in test set is: {}\".format(ridge_cv.score(X_test, y_test))\n",
    ")\n",
    "print(\n",
    "    \"Mean absolute error of the prediction is: {}\".format(\n",
    "        mean_absolute_error(y_test, y_preds_test)\n",
    "    )\n",
    ")\n",
    "print(\"Mean squared error of the prediction is: {}\".format(mse(y_test, y_preds_test)))\n",
    "print(\n",
    "    \"Root mean squared error of the prediction is: {}\".format(\n",
    "        rmse(y_test, y_preds_test)\n",
    "    )\n",
    ")\n",
    "print(\n",
    "    \"Mean absolute percentage error of the prediction is: {}\".format(\n",
    "        np.mean(np.abs((y_test - y_preds_test) / y_test)) * 100\n",
    "    )\n",
    ")"
   ]
  },
  {
   "cell_type": "markdown",
   "metadata": {},
   "source": [
    "##### Lasso Regression"
   ]
  },
  {
   "cell_type": "code",
   "execution_count": 39,
   "metadata": {},
   "outputs": [
    {
     "name": "stdout",
     "output_type": "stream",
     "text": [
      "Best alpha value is: 10.0\n",
      "R-squared of the model in training set is: 0.8562215636780538\n",
      "-----Test set statistics-----\n",
      "R-squared of the model in test set is: 0.8267368794818482\n",
      "Mean absolute error of the prediction is: 22488.833765778058\n",
      "Mean squared error of the prediction is: 1003314417.4741291\n",
      "Root mean squared error of the prediction is: 31675.13879171059\n",
      "Mean absolute percentage error of the prediction is: 13.532507258777915\n"
     ]
    },
    {
     "data": {
      "application/javascript": [
       "\n",
       "            setTimeout(function() {\n",
       "                var nbb_cell_id = 39;\n",
       "                var nbb_unformatted_code = \"lasso_cv = LassoCV(alphas=alphas, cv=5)\\n\\nlasso_cv.fit(X_train, y_train)\\ny_preds_train = lasso_cv.predict(X_train)\\ny_preds_test = lasso_cv.predict(X_test)\\n\\nprint(\\\"Best alpha value is: {}\\\".format(lasso_cv.alpha_))\\nprint(\\n    \\\"R-squared of the model in training set is: {}\\\".format(\\n        lasso_cv.score(X_train, y_train)\\n    )\\n)\\nprint(\\\"-----Test set statistics-----\\\")\\nprint(\\n    \\\"R-squared of the model in test set is: {}\\\".format(lasso_cv.score(X_test, y_test))\\n)\\nprint(\\n    \\\"Mean absolute error of the prediction is: {}\\\".format(\\n        mean_absolute_error(y_test, y_preds_test)\\n    )\\n)\\nprint(\\\"Mean squared error of the prediction is: {}\\\".format(mse(y_test, y_preds_test)))\\nprint(\\n    \\\"Root mean squared error of the prediction is: {}\\\".format(\\n        rmse(y_test, y_preds_test)\\n    )\\n)\\nprint(\\n    \\\"Mean absolute percentage error of the prediction is: {}\\\".format(\\n        np.mean(np.abs((y_test - y_preds_test) / y_test)) * 100\\n    )\\n)\";\n",
       "                var nbb_formatted_code = \"lasso_cv = LassoCV(alphas=alphas, cv=5)\\n\\nlasso_cv.fit(X_train, y_train)\\ny_preds_train = lasso_cv.predict(X_train)\\ny_preds_test = lasso_cv.predict(X_test)\\n\\nprint(\\\"Best alpha value is: {}\\\".format(lasso_cv.alpha_))\\nprint(\\n    \\\"R-squared of the model in training set is: {}\\\".format(\\n        lasso_cv.score(X_train, y_train)\\n    )\\n)\\nprint(\\\"-----Test set statistics-----\\\")\\nprint(\\n    \\\"R-squared of the model in test set is: {}\\\".format(lasso_cv.score(X_test, y_test))\\n)\\nprint(\\n    \\\"Mean absolute error of the prediction is: {}\\\".format(\\n        mean_absolute_error(y_test, y_preds_test)\\n    )\\n)\\nprint(\\\"Mean squared error of the prediction is: {}\\\".format(mse(y_test, y_preds_test)))\\nprint(\\n    \\\"Root mean squared error of the prediction is: {}\\\".format(\\n        rmse(y_test, y_preds_test)\\n    )\\n)\\nprint(\\n    \\\"Mean absolute percentage error of the prediction is: {}\\\".format(\\n        np.mean(np.abs((y_test - y_preds_test) / y_test)) * 100\\n    )\\n)\";\n",
       "                var nbb_cells = Jupyter.notebook.get_cells();\n",
       "                for (var i = 0; i < nbb_cells.length; ++i) {\n",
       "                    if (nbb_cells[i].input_prompt_number == nbb_cell_id) {\n",
       "                        if (nbb_cells[i].get_text() == nbb_unformatted_code) {\n",
       "                             nbb_cells[i].set_text(nbb_formatted_code);\n",
       "                        }\n",
       "                        break;\n",
       "                    }\n",
       "                }\n",
       "            }, 500);\n",
       "            "
      ],
      "text/plain": [
       "<IPython.core.display.Javascript object>"
      ]
     },
     "metadata": {},
     "output_type": "display_data"
    }
   ],
   "source": [
    "lasso_cv = LassoCV(alphas=alphas, cv=5)\n",
    "\n",
    "lasso_cv.fit(X_train, y_train)\n",
    "y_preds_train = lasso_cv.predict(X_train)\n",
    "y_preds_test = lasso_cv.predict(X_test)\n",
    "\n",
    "print(\"Best alpha value is: {}\".format(lasso_cv.alpha_))\n",
    "print(\n",
    "    \"R-squared of the model in training set is: {}\".format(\n",
    "        lasso_cv.score(X_train, y_train)\n",
    "    )\n",
    ")\n",
    "print(\"-----Test set statistics-----\")\n",
    "print(\n",
    "    \"R-squared of the model in test set is: {}\".format(lasso_cv.score(X_test, y_test))\n",
    ")\n",
    "print(\n",
    "    \"Mean absolute error of the prediction is: {}\".format(\n",
    "        mean_absolute_error(y_test, y_preds_test)\n",
    "    )\n",
    ")\n",
    "print(\"Mean squared error of the prediction is: {}\".format(mse(y_test, y_preds_test)))\n",
    "print(\n",
    "    \"Root mean squared error of the prediction is: {}\".format(\n",
    "        rmse(y_test, y_preds_test)\n",
    "    )\n",
    ")\n",
    "print(\n",
    "    \"Mean absolute percentage error of the prediction is: {}\".format(\n",
    "        np.mean(np.abs((y_test - y_preds_test) / y_test)) * 100\n",
    "    )\n",
    ")"
   ]
  },
  {
   "cell_type": "markdown",
   "metadata": {},
   "source": [
    "###### ElasticNet Regression"
   ]
  },
  {
   "cell_type": "code",
   "execution_count": 40,
   "metadata": {},
   "outputs": [
    {
     "name": "stdout",
     "output_type": "stream",
     "text": [
      "Best alpha value is: 0.001\n",
      "R-squared of the model in training set is: 0.856243864526902\n",
      "-----Test set statistics-----\n",
      "R-squared of the model in test set is: 0.8268430227503498\n",
      "Mean absolute error of the prediction is: 22470.708206004816\n",
      "Mean squared error of the prediction is: 1002699773.8541416\n",
      "Root mean squared error of the prediction is: 31665.43500181454\n",
      "Mean absolute percentage error of the prediction is: 13.487724280151259\n"
     ]
    },
    {
     "data": {
      "application/javascript": [
       "\n",
       "            setTimeout(function() {\n",
       "                var nbb_cell_id = 40;\n",
       "                var nbb_unformatted_code = \"elasticnet_cv = ElasticNetCV(alphas=alphas, cv=5)\\n\\nelasticnet_cv.fit(X_train, y_train)\\ny_preds_train = elasticnet_cv.predict(X_train)\\ny_preds_test = elasticnet_cv.predict(X_test)\\n\\nprint(\\\"Best alpha value is: {}\\\".format(elasticnet_cv.alpha_))\\nprint(\\n    \\\"R-squared of the model in training set is: {}\\\".format(\\n        elasticnet_cv.score(X_train, y_train)\\n    )\\n)\\nprint(\\\"-----Test set statistics-----\\\")\\nprint(\\n    \\\"R-squared of the model in test set is: {}\\\".format(\\n        elasticnet_cv.score(X_test, y_test)\\n    )\\n)\\nprint(\\n    \\\"Mean absolute error of the prediction is: {}\\\".format(\\n        mean_absolute_error(y_test, y_preds_test)\\n    )\\n)\\nprint(\\\"Mean squared error of the prediction is: {}\\\".format(mse(y_test, y_preds_test)))\\nprint(\\n    \\\"Root mean squared error of the prediction is: {}\\\".format(\\n        rmse(y_test, y_preds_test)\\n    )\\n)\\nprint(\\n    \\\"Mean absolute percentage error of the prediction is: {}\\\".format(\\n        np.mean(np.abs((y_test - y_preds_test) / y_test)) * 100\\n    )\\n)\";\n",
       "                var nbb_formatted_code = \"elasticnet_cv = ElasticNetCV(alphas=alphas, cv=5)\\n\\nelasticnet_cv.fit(X_train, y_train)\\ny_preds_train = elasticnet_cv.predict(X_train)\\ny_preds_test = elasticnet_cv.predict(X_test)\\n\\nprint(\\\"Best alpha value is: {}\\\".format(elasticnet_cv.alpha_))\\nprint(\\n    \\\"R-squared of the model in training set is: {}\\\".format(\\n        elasticnet_cv.score(X_train, y_train)\\n    )\\n)\\nprint(\\\"-----Test set statistics-----\\\")\\nprint(\\n    \\\"R-squared of the model in test set is: {}\\\".format(\\n        elasticnet_cv.score(X_test, y_test)\\n    )\\n)\\nprint(\\n    \\\"Mean absolute error of the prediction is: {}\\\".format(\\n        mean_absolute_error(y_test, y_preds_test)\\n    )\\n)\\nprint(\\\"Mean squared error of the prediction is: {}\\\".format(mse(y_test, y_preds_test)))\\nprint(\\n    \\\"Root mean squared error of the prediction is: {}\\\".format(\\n        rmse(y_test, y_preds_test)\\n    )\\n)\\nprint(\\n    \\\"Mean absolute percentage error of the prediction is: {}\\\".format(\\n        np.mean(np.abs((y_test - y_preds_test) / y_test)) * 100\\n    )\\n)\";\n",
       "                var nbb_cells = Jupyter.notebook.get_cells();\n",
       "                for (var i = 0; i < nbb_cells.length; ++i) {\n",
       "                    if (nbb_cells[i].input_prompt_number == nbb_cell_id) {\n",
       "                        if (nbb_cells[i].get_text() == nbb_unformatted_code) {\n",
       "                             nbb_cells[i].set_text(nbb_formatted_code);\n",
       "                        }\n",
       "                        break;\n",
       "                    }\n",
       "                }\n",
       "            }, 500);\n",
       "            "
      ],
      "text/plain": [
       "<IPython.core.display.Javascript object>"
      ]
     },
     "metadata": {},
     "output_type": "display_data"
    }
   ],
   "source": [
    "elasticnet_cv = ElasticNetCV(alphas=alphas, cv=5)\n",
    "\n",
    "elasticnet_cv.fit(X_train, y_train)\n",
    "y_preds_train = elasticnet_cv.predict(X_train)\n",
    "y_preds_test = elasticnet_cv.predict(X_test)\n",
    "\n",
    "print(\"Best alpha value is: {}\".format(elasticnet_cv.alpha_))\n",
    "print(\n",
    "    \"R-squared of the model in training set is: {}\".format(\n",
    "        elasticnet_cv.score(X_train, y_train)\n",
    "    )\n",
    ")\n",
    "print(\"-----Test set statistics-----\")\n",
    "print(\n",
    "    \"R-squared of the model in test set is: {}\".format(\n",
    "        elasticnet_cv.score(X_test, y_test)\n",
    "    )\n",
    ")\n",
    "print(\n",
    "    \"Mean absolute error of the prediction is: {}\".format(\n",
    "        mean_absolute_error(y_test, y_preds_test)\n",
    "    )\n",
    ")\n",
    "print(\"Mean squared error of the prediction is: {}\".format(mse(y_test, y_preds_test)))\n",
    "print(\n",
    "    \"Root mean squared error of the prediction is: {}\".format(\n",
    "        rmse(y_test, y_preds_test)\n",
    "    )\n",
    ")\n",
    "print(\n",
    "    \"Mean absolute percentage error of the prediction is: {}\".format(\n",
    "        np.mean(np.abs((y_test - y_preds_test) / y_test)) * 100\n",
    "    )\n",
    ")"
   ]
  },
  {
   "cell_type": "markdown",
   "metadata": {},
   "source": [
    "### Evaluate your best model on the test set.\n"
   ]
  },
  {
   "cell_type": "markdown",
   "metadata": {},
   "source": [
    "It appears that the Lasso Regression model not only gives the highest R-squared value for the test set, but also provides the lowest value for MAE. Therefore, the Lasso Regression model is the best model for the test set. "
   ]
  },
  {
   "cell_type": "markdown",
   "metadata": {},
   "source": [
    "The housing prices can be heavily affected by outside factors. For example, if the economy is not doing well the house pricing would be affected immensely. Adding external variables into them model makes the model more applicable to real world situations and eliminates any biases or ideas that the model is suited just for the specific data frame. "
   ]
  }
 ],
 "metadata": {
  "kernelspec": {
   "display_name": "Python 3",
   "language": "python",
   "name": "python3"
  },
  "language_info": {
   "codemirror_mode": {
    "name": "ipython",
    "version": 3
   },
   "file_extension": ".py",
   "mimetype": "text/x-python",
   "name": "python",
   "nbconvert_exporter": "python",
   "pygments_lexer": "ipython3",
   "version": "3.7.6"
  }
 },
 "nbformat": 4,
 "nbformat_minor": 4
}
