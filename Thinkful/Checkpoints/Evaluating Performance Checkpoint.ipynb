{
 "cells": [
  {
   "cell_type": "markdown",
   "metadata": {},
   "source": [
    "# Weather Model\n"
   ]
  },
  {
   "cell_type": "markdown",
   "metadata": {},
   "source": [
    "First, load the dataset from the weatherinszeged table from Thinkful's database.\n"
   ]
  },
  {
   "cell_type": "code",
   "execution_count": 1,
   "metadata": {},
   "outputs": [
    {
     "data": {
      "application/javascript": [
       "\n",
       "            setTimeout(function() {\n",
       "                var nbb_cell_id = 1;\n",
       "                var nbb_unformatted_code = \"%reload_ext nb_black\\n\\n\\nimport numpy as np\\nimport pandas as pd\\n\\nfrom sklearn import linear_model\\nfrom sklearn.model_selection import train_test_split\\n\\nimport matplotlib.pyplot as plt\\n\\nfrom sqlalchemy import create_engine\\n\\nimport warnings\\n\\nimport statsmodels.api as sm\\n\\nwarnings.filterwarnings(\\\"ignore\\\")\\n\\npostgres_user = \\\"dsbc_student\\\"\\npostgres_pw = \\\"7*.8G9QH21\\\"\\npostgres_host = \\\"142.93.121.174\\\"\\npostgres_port = \\\"5432\\\"\\npostgres_db = \\\"weatherinszeged\\\"\\n\\nengine = create_engine(\\n    \\\"postgresql://{}:{}@{}:{}/{}\\\".format(\\n        postgres_user, postgres_pw, postgres_host, postgres_port, postgres_db\\n    )\\n)\\nweather = pd.read_sql_query(\\\"select * from weatherinszeged\\\", con=engine)\\n\\nengine.dispose()\";\n",
       "                var nbb_formatted_code = \"%reload_ext nb_black\\n\\n\\nimport numpy as np\\nimport pandas as pd\\n\\nfrom sklearn import linear_model\\nfrom sklearn.model_selection import train_test_split\\n\\nimport matplotlib.pyplot as plt\\n\\nfrom sqlalchemy import create_engine\\n\\nimport warnings\\n\\nimport statsmodels.api as sm\\n\\nwarnings.filterwarnings(\\\"ignore\\\")\\n\\npostgres_user = \\\"dsbc_student\\\"\\npostgres_pw = \\\"7*.8G9QH21\\\"\\npostgres_host = \\\"142.93.121.174\\\"\\npostgres_port = \\\"5432\\\"\\npostgres_db = \\\"weatherinszeged\\\"\\n\\nengine = create_engine(\\n    \\\"postgresql://{}:{}@{}:{}/{}\\\".format(\\n        postgres_user, postgres_pw, postgres_host, postgres_port, postgres_db\\n    )\\n)\\nweather = pd.read_sql_query(\\\"select * from weatherinszeged\\\", con=engine)\\n\\nengine.dispose()\";\n",
       "                var nbb_cells = Jupyter.notebook.get_cells();\n",
       "                for (var i = 0; i < nbb_cells.length; ++i) {\n",
       "                    if (nbb_cells[i].input_prompt_number == nbb_cell_id) {\n",
       "                        if (nbb_cells[i].get_text() == nbb_unformatted_code) {\n",
       "                             nbb_cells[i].set_text(nbb_formatted_code);\n",
       "                        }\n",
       "                        break;\n",
       "                    }\n",
       "                }\n",
       "            }, 500);\n",
       "            "
      ],
      "text/plain": [
       "<IPython.core.display.Javascript object>"
      ]
     },
     "metadata": {},
     "output_type": "display_data"
    }
   ],
   "source": [
    "%reload_ext nb_black\n",
    "\n",
    "\n",
    "import numpy as np\n",
    "import pandas as pd\n",
    "\n",
    "from sklearn import linear_model\n",
    "from sklearn.model_selection import train_test_split\n",
    "\n",
    "import matplotlib.pyplot as plt\n",
    "\n",
    "from sqlalchemy import create_engine\n",
    "\n",
    "import warnings\n",
    "\n",
    "import statsmodels.api as sm\n",
    "\n",
    "warnings.filterwarnings(\"ignore\")\n",
    "\n",
    "postgres_user = \"dsbc_student\"\n",
    "postgres_pw = \"7*.8G9QH21\"\n",
    "postgres_host = \"142.93.121.174\"\n",
    "postgres_port = \"5432\"\n",
    "postgres_db = \"weatherinszeged\"\n",
    "\n",
    "engine = create_engine(\n",
    "    \"postgresql://{}:{}@{}:{}/{}\".format(\n",
    "        postgres_user, postgres_pw, postgres_host, postgres_port, postgres_db\n",
    "    )\n",
    ")\n",
    "weather = pd.read_sql_query(\"select * from weatherinszeged\", con=engine)\n",
    "\n",
    "engine.dispose()"
   ]
  },
  {
   "cell_type": "markdown",
   "metadata": {},
   "source": [
    "Like in the previous checkpoint, build a linear regression model where your target variable is the difference between the apparenttemperature and the temperature. As explanatory variables, use humidity and windspeed. Now, estimate your model using OLS. What are the R-squared and adjusted R-squared values? Do you think they are satisfactory? Why?\n"
   ]
  },
  {
   "cell_type": "code",
   "execution_count": 2,
   "metadata": {},
   "outputs": [
    {
     "data": {
      "text/html": [
       "<table class=\"simpletable\">\n",
       "<caption>OLS Regression Results</caption>\n",
       "<tr>\n",
       "  <th>Dep. Variable:</th>            <td>y</td>        <th>  R-squared:         </th>  <td>   0.288</td>  \n",
       "</tr>\n",
       "<tr>\n",
       "  <th>Model:</th>                   <td>OLS</td>       <th>  Adj. R-squared:    </th>  <td>   0.288</td>  \n",
       "</tr>\n",
       "<tr>\n",
       "  <th>Method:</th>             <td>Least Squares</td>  <th>  F-statistic:       </th>  <td>1.949e+04</td> \n",
       "</tr>\n",
       "<tr>\n",
       "  <th>Date:</th>             <td>Tue, 01 Sep 2020</td> <th>  Prob (F-statistic):</th>   <td>  0.00</td>   \n",
       "</tr>\n",
       "<tr>\n",
       "  <th>Time:</th>                 <td>15:24:36</td>     <th>  Log-Likelihood:    </th> <td>-1.7046e+05</td>\n",
       "</tr>\n",
       "<tr>\n",
       "  <th>No. Observations:</th>      <td> 96453</td>      <th>  AIC:               </th>  <td>3.409e+05</td> \n",
       "</tr>\n",
       "<tr>\n",
       "  <th>Df Residuals:</th>          <td> 96450</td>      <th>  BIC:               </th>  <td>3.409e+05</td> \n",
       "</tr>\n",
       "<tr>\n",
       "  <th>Df Model:</th>              <td>     2</td>      <th>                     </th>      <td> </td>     \n",
       "</tr>\n",
       "<tr>\n",
       "  <th>Covariance Type:</th>      <td>nonrobust</td>    <th>                     </th>      <td> </td>     \n",
       "</tr>\n",
       "</table>\n",
       "<table class=\"simpletable\">\n",
       "<tr>\n",
       "      <td></td>         <th>coef</th>     <th>std err</th>      <th>t</th>      <th>P>|t|</th>  <th>[0.025</th>    <th>0.975]</th>  \n",
       "</tr>\n",
       "<tr>\n",
       "  <th>const</th>     <td>    2.4381</td> <td>    0.021</td> <td>  115.948</td> <td> 0.000</td> <td>    2.397</td> <td>    2.479</td>\n",
       "</tr>\n",
       "<tr>\n",
       "  <th>humidity</th>  <td>   -3.0292</td> <td>    0.024</td> <td> -126.479</td> <td> 0.000</td> <td>   -3.076</td> <td>   -2.982</td>\n",
       "</tr>\n",
       "<tr>\n",
       "  <th>windspeed</th> <td>   -0.1193</td> <td>    0.001</td> <td> -176.164</td> <td> 0.000</td> <td>   -0.121</td> <td>   -0.118</td>\n",
       "</tr>\n",
       "</table>\n",
       "<table class=\"simpletable\">\n",
       "<tr>\n",
       "  <th>Omnibus:</th>       <td>3935.747</td> <th>  Durbin-Watson:     </th> <td>   0.267</td>\n",
       "</tr>\n",
       "<tr>\n",
       "  <th>Prob(Omnibus):</th>  <td> 0.000</td>  <th>  Jarque-Bera (JB):  </th> <td>4613.311</td>\n",
       "</tr>\n",
       "<tr>\n",
       "  <th>Skew:</th>           <td>-0.478</td>  <th>  Prob(JB):          </th> <td>    0.00</td>\n",
       "</tr>\n",
       "<tr>\n",
       "  <th>Kurtosis:</th>       <td> 3.484</td>  <th>  Cond. No.          </th> <td>    88.1</td>\n",
       "</tr>\n",
       "</table><br/><br/>Warnings:<br/>[1] Standard Errors assume that the covariance matrix of the errors is correctly specified."
      ],
      "text/plain": [
       "<class 'statsmodels.iolib.summary.Summary'>\n",
       "\"\"\"\n",
       "                            OLS Regression Results                            \n",
       "==============================================================================\n",
       "Dep. Variable:                      y   R-squared:                       0.288\n",
       "Model:                            OLS   Adj. R-squared:                  0.288\n",
       "Method:                 Least Squares   F-statistic:                 1.949e+04\n",
       "Date:                Tue, 01 Sep 2020   Prob (F-statistic):               0.00\n",
       "Time:                        15:24:36   Log-Likelihood:            -1.7046e+05\n",
       "No. Observations:               96453   AIC:                         3.409e+05\n",
       "Df Residuals:                   96450   BIC:                         3.409e+05\n",
       "Df Model:                           2                                         \n",
       "Covariance Type:            nonrobust                                         \n",
       "==============================================================================\n",
       "                 coef    std err          t      P>|t|      [0.025      0.975]\n",
       "------------------------------------------------------------------------------\n",
       "const          2.4381      0.021    115.948      0.000       2.397       2.479\n",
       "humidity      -3.0292      0.024   -126.479      0.000      -3.076      -2.982\n",
       "windspeed     -0.1193      0.001   -176.164      0.000      -0.121      -0.118\n",
       "==============================================================================\n",
       "Omnibus:                     3935.747   Durbin-Watson:                   0.267\n",
       "Prob(Omnibus):                  0.000   Jarque-Bera (JB):             4613.311\n",
       "Skew:                          -0.478   Prob(JB):                         0.00\n",
       "Kurtosis:                       3.484   Cond. No.                         88.1\n",
       "==============================================================================\n",
       "\n",
       "Warnings:\n",
       "[1] Standard Errors assume that the covariance matrix of the errors is correctly specified.\n",
       "\"\"\""
      ]
     },
     "execution_count": 2,
     "metadata": {},
     "output_type": "execute_result"
    },
    {
     "data": {
      "application/javascript": [
       "\n",
       "            setTimeout(function() {\n",
       "                var nbb_cell_id = 2;\n",
       "                var nbb_unformatted_code = \"X = weather[[\\\"humidity\\\", \\\"windspeed\\\"]]\\ny = weather[\\\"apparenttemperature\\\"] - weather[\\\"temperature\\\"]\\n\\nX = sm.add_constant(X)\\n\\nresults = sm.OLS(y, X).fit()\\nresults.summary()\";\n",
       "                var nbb_formatted_code = \"X = weather[[\\\"humidity\\\", \\\"windspeed\\\"]]\\ny = weather[\\\"apparenttemperature\\\"] - weather[\\\"temperature\\\"]\\n\\nX = sm.add_constant(X)\\n\\nresults = sm.OLS(y, X).fit()\\nresults.summary()\";\n",
       "                var nbb_cells = Jupyter.notebook.get_cells();\n",
       "                for (var i = 0; i < nbb_cells.length; ++i) {\n",
       "                    if (nbb_cells[i].input_prompt_number == nbb_cell_id) {\n",
       "                        if (nbb_cells[i].get_text() == nbb_unformatted_code) {\n",
       "                             nbb_cells[i].set_text(nbb_formatted_code);\n",
       "                        }\n",
       "                        break;\n",
       "                    }\n",
       "                }\n",
       "            }, 500);\n",
       "            "
      ],
      "text/plain": [
       "<IPython.core.display.Javascript object>"
      ]
     },
     "metadata": {},
     "output_type": "display_data"
    }
   ],
   "source": [
    "X = weather[[\"humidity\", \"windspeed\"]]\n",
    "y = weather[\"apparenttemperature\"] - weather[\"temperature\"]\n",
    "\n",
    "X = sm.add_constant(X)\n",
    "\n",
    "results = sm.OLS(y, X).fit()\n",
    "results.summary()"
   ]
  },
  {
   "cell_type": "markdown",
   "metadata": {},
   "source": [
    "The R-Squared and adjusted R-Squared values are very low. They are not satisfactory."
   ]
  },
  {
   "cell_type": "markdown",
   "metadata": {},
   "source": [
    "Next, include the interaction of humidity and windspeed to the model above and estimate the model using OLS. Now, what is the R-squared of this model? Does this model improve upon the previous one?\n"
   ]
  },
  {
   "cell_type": "code",
   "execution_count": 3,
   "metadata": {},
   "outputs": [
    {
     "data": {
      "text/html": [
       "<table class=\"simpletable\">\n",
       "<caption>OLS Regression Results</caption>\n",
       "<tr>\n",
       "  <th>Dep. Variable:</th>            <td>y</td>        <th>  R-squared:         </th>  <td>   0.341</td>  \n",
       "</tr>\n",
       "<tr>\n",
       "  <th>Model:</th>                   <td>OLS</td>       <th>  Adj. R-squared:    </th>  <td>   0.341</td>  \n",
       "</tr>\n",
       "<tr>\n",
       "  <th>Method:</th>             <td>Least Squares</td>  <th>  F-statistic:       </th>  <td>1.666e+04</td> \n",
       "</tr>\n",
       "<tr>\n",
       "  <th>Date:</th>             <td>Tue, 01 Sep 2020</td> <th>  Prob (F-statistic):</th>   <td>  0.00</td>   \n",
       "</tr>\n",
       "<tr>\n",
       "  <th>Time:</th>                 <td>15:24:37</td>     <th>  Log-Likelihood:    </th> <td>-1.6669e+05</td>\n",
       "</tr>\n",
       "<tr>\n",
       "  <th>No. Observations:</th>      <td> 96453</td>      <th>  AIC:               </th>  <td>3.334e+05</td> \n",
       "</tr>\n",
       "<tr>\n",
       "  <th>Df Residuals:</th>          <td> 96449</td>      <th>  BIC:               </th>  <td>3.334e+05</td> \n",
       "</tr>\n",
       "<tr>\n",
       "  <th>Df Model:</th>              <td>     3</td>      <th>                     </th>      <td> </td>     \n",
       "</tr>\n",
       "<tr>\n",
       "  <th>Covariance Type:</th>      <td>nonrobust</td>    <th>                     </th>      <td> </td>     \n",
       "</tr>\n",
       "</table>\n",
       "<table class=\"simpletable\">\n",
       "<tr>\n",
       "       <td></td>         <th>coef</th>     <th>std err</th>      <th>t</th>      <th>P>|t|</th>  <th>[0.025</th>    <th>0.975]</th>  \n",
       "</tr>\n",
       "<tr>\n",
       "  <th>const</th>      <td>    0.0839</td> <td>    0.033</td> <td>    2.511</td> <td> 0.012</td> <td>    0.018</td> <td>    0.149</td>\n",
       "</tr>\n",
       "<tr>\n",
       "  <th>humidity</th>   <td>    0.1775</td> <td>    0.043</td> <td>    4.133</td> <td> 0.000</td> <td>    0.093</td> <td>    0.262</td>\n",
       "</tr>\n",
       "<tr>\n",
       "  <th>windspeed</th>  <td>    0.0905</td> <td>    0.002</td> <td>   36.797</td> <td> 0.000</td> <td>    0.086</td> <td>    0.095</td>\n",
       "</tr>\n",
       "<tr>\n",
       "  <th>humid_wind</th> <td>   -0.2971</td> <td>    0.003</td> <td>  -88.470</td> <td> 0.000</td> <td>   -0.304</td> <td>   -0.291</td>\n",
       "</tr>\n",
       "</table>\n",
       "<table class=\"simpletable\">\n",
       "<tr>\n",
       "  <th>Omnibus:</th>       <td>4849.937</td> <th>  Durbin-Watson:     </th> <td>   0.265</td>\n",
       "</tr>\n",
       "<tr>\n",
       "  <th>Prob(Omnibus):</th>  <td> 0.000</td>  <th>  Jarque-Bera (JB):  </th> <td>9295.404</td>\n",
       "</tr>\n",
       "<tr>\n",
       "  <th>Skew:</th>           <td>-0.378</td>  <th>  Prob(JB):          </th> <td>    0.00</td>\n",
       "</tr>\n",
       "<tr>\n",
       "  <th>Kurtosis:</th>       <td> 4.320</td>  <th>  Cond. No.          </th> <td>    193.</td>\n",
       "</tr>\n",
       "</table><br/><br/>Warnings:<br/>[1] Standard Errors assume that the covariance matrix of the errors is correctly specified."
      ],
      "text/plain": [
       "<class 'statsmodels.iolib.summary.Summary'>\n",
       "\"\"\"\n",
       "                            OLS Regression Results                            \n",
       "==============================================================================\n",
       "Dep. Variable:                      y   R-squared:                       0.341\n",
       "Model:                            OLS   Adj. R-squared:                  0.341\n",
       "Method:                 Least Squares   F-statistic:                 1.666e+04\n",
       "Date:                Tue, 01 Sep 2020   Prob (F-statistic):               0.00\n",
       "Time:                        15:24:37   Log-Likelihood:            -1.6669e+05\n",
       "No. Observations:               96453   AIC:                         3.334e+05\n",
       "Df Residuals:                   96449   BIC:                         3.334e+05\n",
       "Df Model:                           3                                         \n",
       "Covariance Type:            nonrobust                                         \n",
       "==============================================================================\n",
       "                 coef    std err          t      P>|t|      [0.025      0.975]\n",
       "------------------------------------------------------------------------------\n",
       "const          0.0839      0.033      2.511      0.012       0.018       0.149\n",
       "humidity       0.1775      0.043      4.133      0.000       0.093       0.262\n",
       "windspeed      0.0905      0.002     36.797      0.000       0.086       0.095\n",
       "humid_wind    -0.2971      0.003    -88.470      0.000      -0.304      -0.291\n",
       "==============================================================================\n",
       "Omnibus:                     4849.937   Durbin-Watson:                   0.265\n",
       "Prob(Omnibus):                  0.000   Jarque-Bera (JB):             9295.404\n",
       "Skew:                          -0.378   Prob(JB):                         0.00\n",
       "Kurtosis:                       4.320   Cond. No.                         193.\n",
       "==============================================================================\n",
       "\n",
       "Warnings:\n",
       "[1] Standard Errors assume that the covariance matrix of the errors is correctly specified.\n",
       "\"\"\""
      ]
     },
     "execution_count": 3,
     "metadata": {},
     "output_type": "execute_result"
    },
    {
     "data": {
      "application/javascript": [
       "\n",
       "            setTimeout(function() {\n",
       "                var nbb_cell_id = 3;\n",
       "                var nbb_unformatted_code = \"weather[\\\"humid_wind\\\"] = weather[\\\"humidity\\\"] * weather[\\\"windspeed\\\"]\\nX = weather[[\\\"humidity\\\", \\\"windspeed\\\", \\\"humid_wind\\\"]]\\ny = weather[\\\"apparenttemperature\\\"] - weather[\\\"temperature\\\"]\\n\\nX = sm.add_constant(X)\\n\\nmodel = sm.OLS(y, X).fit()\\nmodel.summary()\";\n",
       "                var nbb_formatted_code = \"weather[\\\"humid_wind\\\"] = weather[\\\"humidity\\\"] * weather[\\\"windspeed\\\"]\\nX = weather[[\\\"humidity\\\", \\\"windspeed\\\", \\\"humid_wind\\\"]]\\ny = weather[\\\"apparenttemperature\\\"] - weather[\\\"temperature\\\"]\\n\\nX = sm.add_constant(X)\\n\\nmodel = sm.OLS(y, X).fit()\\nmodel.summary()\";\n",
       "                var nbb_cells = Jupyter.notebook.get_cells();\n",
       "                for (var i = 0; i < nbb_cells.length; ++i) {\n",
       "                    if (nbb_cells[i].input_prompt_number == nbb_cell_id) {\n",
       "                        if (nbb_cells[i].get_text() == nbb_unformatted_code) {\n",
       "                             nbb_cells[i].set_text(nbb_formatted_code);\n",
       "                        }\n",
       "                        break;\n",
       "                    }\n",
       "                }\n",
       "            }, 500);\n",
       "            "
      ],
      "text/plain": [
       "<IPython.core.display.Javascript object>"
      ]
     },
     "metadata": {},
     "output_type": "display_data"
    }
   ],
   "source": [
    "weather[\"humid_wind\"] = weather[\"humidity\"] * weather[\"windspeed\"]\n",
    "X = weather[[\"humidity\", \"windspeed\", \"humid_wind\"]]\n",
    "y = weather[\"apparenttemperature\"] - weather[\"temperature\"]\n",
    "\n",
    "X = sm.add_constant(X)\n",
    "\n",
    "model = sm.OLS(y, X).fit()\n",
    "model.summary()"
   ]
  },
  {
   "cell_type": "markdown",
   "metadata": {},
   "source": [
    "The R-Squared of this model improved slightly but still could use a lot of improvements."
   ]
  },
  {
   "cell_type": "markdown",
   "metadata": {},
   "source": [
    "Add visibility as an additional explanatory variable to the first model and estimate it. Did R-squared increase? What about adjusted R-squared? Compare the differences put on the table by the interaction term and the visibility in terms of the improvement in the adjusted R-squared. Which one is more useful?\n"
   ]
  },
  {
   "cell_type": "code",
   "execution_count": 4,
   "metadata": {},
   "outputs": [
    {
     "data": {
      "text/html": [
       "<table class=\"simpletable\">\n",
       "<caption>OLS Regression Results</caption>\n",
       "<tr>\n",
       "  <th>Dep. Variable:</th>            <td>y</td>        <th>  R-squared:         </th>  <td>   0.364</td>  \n",
       "</tr>\n",
       "<tr>\n",
       "  <th>Model:</th>                   <td>OLS</td>       <th>  Adj. R-squared:    </th>  <td>   0.363</td>  \n",
       "</tr>\n",
       "<tr>\n",
       "  <th>Method:</th>             <td>Least Squares</td>  <th>  F-statistic:       </th>  <td>1.377e+04</td> \n",
       "</tr>\n",
       "<tr>\n",
       "  <th>Date:</th>             <td>Tue, 01 Sep 2020</td> <th>  Prob (F-statistic):</th>   <td>  0.00</td>   \n",
       "</tr>\n",
       "<tr>\n",
       "  <th>Time:</th>                 <td>15:24:37</td>     <th>  Log-Likelihood:    </th> <td>-1.6504e+05</td>\n",
       "</tr>\n",
       "<tr>\n",
       "  <th>No. Observations:</th>      <td> 96453</td>      <th>  AIC:               </th>  <td>3.301e+05</td> \n",
       "</tr>\n",
       "<tr>\n",
       "  <th>Df Residuals:</th>          <td> 96448</td>      <th>  BIC:               </th>  <td>3.301e+05</td> \n",
       "</tr>\n",
       "<tr>\n",
       "  <th>Df Model:</th>              <td>     4</td>      <th>                     </th>      <td> </td>     \n",
       "</tr>\n",
       "<tr>\n",
       "  <th>Covariance Type:</th>      <td>nonrobust</td>    <th>                     </th>      <td> </td>     \n",
       "</tr>\n",
       "</table>\n",
       "<table class=\"simpletable\">\n",
       "<tr>\n",
       "       <td></td>         <th>coef</th>     <th>std err</th>      <th>t</th>      <th>P>|t|</th>  <th>[0.025</th>    <th>0.975]</th>  \n",
       "</tr>\n",
       "<tr>\n",
       "  <th>const</th>      <td>   -1.1006</td> <td>    0.039</td> <td>  -28.459</td> <td> 0.000</td> <td>   -1.176</td> <td>   -1.025</td>\n",
       "</tr>\n",
       "<tr>\n",
       "  <th>humidity</th>   <td>    0.8909</td> <td>    0.044</td> <td>   20.263</td> <td> 0.000</td> <td>    0.805</td> <td>    0.977</td>\n",
       "</tr>\n",
       "<tr>\n",
       "  <th>windspeed</th>  <td>    0.1033</td> <td>    0.002</td> <td>   42.579</td> <td> 0.000</td> <td>    0.099</td> <td>    0.108</td>\n",
       "</tr>\n",
       "<tr>\n",
       "  <th>humid_wind</th> <td>   -0.3164</td> <td>    0.003</td> <td>  -95.355</td> <td> 0.000</td> <td>   -0.323</td> <td>   -0.310</td>\n",
       "</tr>\n",
       "<tr>\n",
       "  <th>visibility</th> <td>    0.0646</td> <td>    0.001</td> <td>   58.051</td> <td> 0.000</td> <td>    0.062</td> <td>    0.067</td>\n",
       "</tr>\n",
       "</table>\n",
       "<table class=\"simpletable\">\n",
       "<tr>\n",
       "  <th>Omnibus:</th>       <td>5328.364</td> <th>  Durbin-Watson:     </th> <td>   0.288</td> \n",
       "</tr>\n",
       "<tr>\n",
       "  <th>Prob(Omnibus):</th>  <td> 0.000</td>  <th>  Jarque-Bera (JB):  </th> <td>11525.074</td>\n",
       "</tr>\n",
       "<tr>\n",
       "  <th>Skew:</th>           <td>-0.373</td>  <th>  Prob(JB):          </th> <td>    0.00</td> \n",
       "</tr>\n",
       "<tr>\n",
       "  <th>Kurtosis:</th>       <td> 4.520</td>  <th>  Cond. No.          </th> <td>    246.</td> \n",
       "</tr>\n",
       "</table><br/><br/>Warnings:<br/>[1] Standard Errors assume that the covariance matrix of the errors is correctly specified."
      ],
      "text/plain": [
       "<class 'statsmodels.iolib.summary.Summary'>\n",
       "\"\"\"\n",
       "                            OLS Regression Results                            \n",
       "==============================================================================\n",
       "Dep. Variable:                      y   R-squared:                       0.364\n",
       "Model:                            OLS   Adj. R-squared:                  0.363\n",
       "Method:                 Least Squares   F-statistic:                 1.377e+04\n",
       "Date:                Tue, 01 Sep 2020   Prob (F-statistic):               0.00\n",
       "Time:                        15:24:37   Log-Likelihood:            -1.6504e+05\n",
       "No. Observations:               96453   AIC:                         3.301e+05\n",
       "Df Residuals:                   96448   BIC:                         3.301e+05\n",
       "Df Model:                           4                                         \n",
       "Covariance Type:            nonrobust                                         \n",
       "==============================================================================\n",
       "                 coef    std err          t      P>|t|      [0.025      0.975]\n",
       "------------------------------------------------------------------------------\n",
       "const         -1.1006      0.039    -28.459      0.000      -1.176      -1.025\n",
       "humidity       0.8909      0.044     20.263      0.000       0.805       0.977\n",
       "windspeed      0.1033      0.002     42.579      0.000       0.099       0.108\n",
       "humid_wind    -0.3164      0.003    -95.355      0.000      -0.323      -0.310\n",
       "visibility     0.0646      0.001     58.051      0.000       0.062       0.067\n",
       "==============================================================================\n",
       "Omnibus:                     5328.364   Durbin-Watson:                   0.288\n",
       "Prob(Omnibus):                  0.000   Jarque-Bera (JB):            11525.074\n",
       "Skew:                          -0.373   Prob(JB):                         0.00\n",
       "Kurtosis:                       4.520   Cond. No.                         246.\n",
       "==============================================================================\n",
       "\n",
       "Warnings:\n",
       "[1] Standard Errors assume that the covariance matrix of the errors is correctly specified.\n",
       "\"\"\""
      ]
     },
     "execution_count": 4,
     "metadata": {},
     "output_type": "execute_result"
    },
    {
     "data": {
      "application/javascript": [
       "\n",
       "            setTimeout(function() {\n",
       "                var nbb_cell_id = 4;\n",
       "                var nbb_unformatted_code = \"weather[\\\"humid_wind\\\"] = weather[\\\"humidity\\\"] * weather[\\\"windspeed\\\"]\\nX = weather[[\\\"humidity\\\", \\\"windspeed\\\", \\\"humid_wind\\\", \\\"visibility\\\"]]\\ny = weather[\\\"apparenttemperature\\\"] - weather[\\\"temperature\\\"]\\n\\nX = sm.add_constant(X)\\n\\nmodel = sm.OLS(y, X).fit()\\nmodel.summary()\";\n",
       "                var nbb_formatted_code = \"weather[\\\"humid_wind\\\"] = weather[\\\"humidity\\\"] * weather[\\\"windspeed\\\"]\\nX = weather[[\\\"humidity\\\", \\\"windspeed\\\", \\\"humid_wind\\\", \\\"visibility\\\"]]\\ny = weather[\\\"apparenttemperature\\\"] - weather[\\\"temperature\\\"]\\n\\nX = sm.add_constant(X)\\n\\nmodel = sm.OLS(y, X).fit()\\nmodel.summary()\";\n",
       "                var nbb_cells = Jupyter.notebook.get_cells();\n",
       "                for (var i = 0; i < nbb_cells.length; ++i) {\n",
       "                    if (nbb_cells[i].input_prompt_number == nbb_cell_id) {\n",
       "                        if (nbb_cells[i].get_text() == nbb_unformatted_code) {\n",
       "                             nbb_cells[i].set_text(nbb_formatted_code);\n",
       "                        }\n",
       "                        break;\n",
       "                    }\n",
       "                }\n",
       "            }, 500);\n",
       "            "
      ],
      "text/plain": [
       "<IPython.core.display.Javascript object>"
      ]
     },
     "metadata": {},
     "output_type": "display_data"
    }
   ],
   "source": [
    "weather[\"humid_wind\"] = weather[\"humidity\"] * weather[\"windspeed\"]\n",
    "X = weather[[\"humidity\", \"windspeed\", \"humid_wind\", \"visibility\"]]\n",
    "y = weather[\"apparenttemperature\"] - weather[\"temperature\"]\n",
    "\n",
    "X = sm.add_constant(X)\n",
    "\n",
    "model = sm.OLS(y, X).fit()\n",
    "model.summary()"
   ]
  },
  {
   "cell_type": "markdown",
   "metadata": {},
   "source": [
    "The R-Squared value slightly increased but is still quite low."
   ]
  },
  {
   "cell_type": "markdown",
   "metadata": {},
   "source": [
    "# House Prices Model"
   ]
  },
  {
   "cell_type": "markdown",
   "metadata": {},
   "source": [
    "Load the houseprices data from Thinkful's database."
   ]
  },
  {
   "cell_type": "code",
   "execution_count": 5,
   "metadata": {},
   "outputs": [
    {
     "data": {
      "application/javascript": [
       "\n",
       "            setTimeout(function() {\n",
       "                var nbb_cell_id = 5;\n",
       "                var nbb_unformatted_code = \"postgres_user = \\\"dsbc_student\\\"\\npostgres_pw = \\\"7*.8G9QH21\\\"\\npostgres_host = \\\"142.93.121.174\\\"\\npostgres_port = \\\"5432\\\"\\npostgres_db = \\\"houseprices\\\"\\n\\nengine = create_engine(\\n    \\\"postgresql://{}:{}@{}:{}/{}\\\".format(\\n        postgres_user, postgres_pw, postgres_host, postgres_port, postgres_db\\n    )\\n)\\nhouse_df = pd.read_sql_query(\\\"select * from houseprices\\\", con=engine)\\n\\nengine.dispose()\";\n",
       "                var nbb_formatted_code = \"postgres_user = \\\"dsbc_student\\\"\\npostgres_pw = \\\"7*.8G9QH21\\\"\\npostgres_host = \\\"142.93.121.174\\\"\\npostgres_port = \\\"5432\\\"\\npostgres_db = \\\"houseprices\\\"\\n\\nengine = create_engine(\\n    \\\"postgresql://{}:{}@{}:{}/{}\\\".format(\\n        postgres_user, postgres_pw, postgres_host, postgres_port, postgres_db\\n    )\\n)\\nhouse_df = pd.read_sql_query(\\\"select * from houseprices\\\", con=engine)\\n\\nengine.dispose()\";\n",
       "                var nbb_cells = Jupyter.notebook.get_cells();\n",
       "                for (var i = 0; i < nbb_cells.length; ++i) {\n",
       "                    if (nbb_cells[i].input_prompt_number == nbb_cell_id) {\n",
       "                        if (nbb_cells[i].get_text() == nbb_unformatted_code) {\n",
       "                             nbb_cells[i].set_text(nbb_formatted_code);\n",
       "                        }\n",
       "                        break;\n",
       "                    }\n",
       "                }\n",
       "            }, 500);\n",
       "            "
      ],
      "text/plain": [
       "<IPython.core.display.Javascript object>"
      ]
     },
     "metadata": {},
     "output_type": "display_data"
    }
   ],
   "source": [
    "postgres_user = \"dsbc_student\"\n",
    "postgres_pw = \"7*.8G9QH21\"\n",
    "postgres_host = \"142.93.121.174\"\n",
    "postgres_port = \"5432\"\n",
    "postgres_db = \"houseprices\"\n",
    "\n",
    "engine = create_engine(\n",
    "    \"postgresql://{}:{}@{}:{}/{}\".format(\n",
    "        postgres_user, postgres_pw, postgres_host, postgres_port, postgres_db\n",
    "    )\n",
    ")\n",
    "house_df = pd.read_sql_query(\"select * from houseprices\", con=engine)\n",
    "\n",
    "engine.dispose()"
   ]
  },
  {
   "cell_type": "markdown",
   "metadata": {},
   "source": [
    "Run your house prices model again and assess the goodness of fit of your model using F-test, R-squared, adjusted R-squared, AIC and BIC.\n",
    "\n",
    "Do you think your model is satisfactory? If so, why?\n"
   ]
  },
  {
   "cell_type": "code",
   "execution_count": 6,
   "metadata": {},
   "outputs": [
    {
     "data": {
      "application/javascript": [
       "\n",
       "            setTimeout(function() {\n",
       "                var nbb_cell_id = 6;\n",
       "                var nbb_unformatted_code = \"house_df = pd.concat([house_df, pd.get_dummies(house_df.housestyle)], axis=1)\\ndummy = list(pd.get_dummies(house_df.housestyle).columns)\\nX = house_df[[\\\"overallqual\\\", \\\"grlivarea\\\", \\\"garagecars\\\"] + dummy]\";\n",
       "                var nbb_formatted_code = \"house_df = pd.concat([house_df, pd.get_dummies(house_df.housestyle)], axis=1)\\ndummy = list(pd.get_dummies(house_df.housestyle).columns)\\nX = house_df[[\\\"overallqual\\\", \\\"grlivarea\\\", \\\"garagecars\\\"] + dummy]\";\n",
       "                var nbb_cells = Jupyter.notebook.get_cells();\n",
       "                for (var i = 0; i < nbb_cells.length; ++i) {\n",
       "                    if (nbb_cells[i].input_prompt_number == nbb_cell_id) {\n",
       "                        if (nbb_cells[i].get_text() == nbb_unformatted_code) {\n",
       "                             nbb_cells[i].set_text(nbb_formatted_code);\n",
       "                        }\n",
       "                        break;\n",
       "                    }\n",
       "                }\n",
       "            }, 500);\n",
       "            "
      ],
      "text/plain": [
       "<IPython.core.display.Javascript object>"
      ]
     },
     "metadata": {},
     "output_type": "display_data"
    }
   ],
   "source": [
    "house_df = pd.concat([house_df, pd.get_dummies(house_df.housestyle)], axis=1)\n",
    "dummy = list(pd.get_dummies(house_df.housestyle).columns)\n",
    "X = house_df[[\"overallqual\", \"grlivarea\", \"garagecars\"] + dummy]"
   ]
  },
  {
   "cell_type": "code",
   "execution_count": 7,
   "metadata": {},
   "outputs": [
    {
     "data": {
      "text/html": [
       "<table class=\"simpletable\">\n",
       "<caption>OLS Regression Results</caption>\n",
       "<tr>\n",
       "  <th>Dep. Variable:</th>        <td>saleprice</td>    <th>  R-squared:         </th> <td>   0.766</td> \n",
       "</tr>\n",
       "<tr>\n",
       "  <th>Model:</th>                   <td>OLS</td>       <th>  Adj. R-squared:    </th> <td>   0.765</td> \n",
       "</tr>\n",
       "<tr>\n",
       "  <th>Method:</th>             <td>Least Squares</td>  <th>  F-statistic:       </th> <td>   527.3</td> \n",
       "</tr>\n",
       "<tr>\n",
       "  <th>Date:</th>             <td>Tue, 01 Sep 2020</td> <th>  Prob (F-statistic):</th>  <td>  0.00</td>  \n",
       "</tr>\n",
       "<tr>\n",
       "  <th>Time:</th>                 <td>15:24:38</td>     <th>  Log-Likelihood:    </th> <td> -17484.</td> \n",
       "</tr>\n",
       "<tr>\n",
       "  <th>No. Observations:</th>      <td>  1460</td>      <th>  AIC:               </th> <td>3.499e+04</td>\n",
       "</tr>\n",
       "<tr>\n",
       "  <th>Df Residuals:</th>          <td>  1450</td>      <th>  BIC:               </th> <td>3.504e+04</td>\n",
       "</tr>\n",
       "<tr>\n",
       "  <th>Df Model:</th>              <td>     9</td>      <th>                     </th>     <td> </td>    \n",
       "</tr>\n",
       "<tr>\n",
       "  <th>Covariance Type:</th>      <td>nonrobust</td>    <th>                     </th>     <td> </td>    \n",
       "</tr>\n",
       "</table>\n",
       "<table class=\"simpletable\">\n",
       "<tr>\n",
       "       <td></td>          <th>coef</th>     <th>std err</th>      <th>t</th>      <th>P>|t|</th>  <th>[0.025</th>    <th>0.975]</th>  \n",
       "</tr>\n",
       "<tr>\n",
       "  <th>const</th>       <td> -1.13e+05</td> <td> 6277.246</td> <td>  -18.005</td> <td> 0.000</td> <td>-1.25e+05</td> <td>-1.01e+05</td>\n",
       "</tr>\n",
       "<tr>\n",
       "  <th>overallqual</th> <td> 2.593e+04</td> <td> 1031.701</td> <td>   25.137</td> <td> 0.000</td> <td> 2.39e+04</td> <td>  2.8e+04</td>\n",
       "</tr>\n",
       "<tr>\n",
       "  <th>grlivarea</th>   <td>   70.7127</td> <td>    2.939</td> <td>   24.060</td> <td> 0.000</td> <td>   64.948</td> <td>   76.478</td>\n",
       "</tr>\n",
       "<tr>\n",
       "  <th>garagecars</th>  <td> 1.646e+04</td> <td> 1773.772</td> <td>    9.277</td> <td> 0.000</td> <td>  1.3e+04</td> <td> 1.99e+04</td>\n",
       "</tr>\n",
       "<tr>\n",
       "  <th>1.5Fin</th>      <td>-1.579e+04</td> <td> 5481.682</td> <td>   -2.881</td> <td> 0.004</td> <td>-2.65e+04</td> <td>-5039.596</td>\n",
       "</tr>\n",
       "<tr>\n",
       "  <th>1Story</th>      <td> 1.325e+04</td> <td> 4571.239</td> <td>    2.898</td> <td> 0.004</td> <td> 4280.913</td> <td> 2.22e+04</td>\n",
       "</tr>\n",
       "<tr>\n",
       "  <th>2.5Fin</th>      <td>-5.838e+04</td> <td>  1.5e+04</td> <td>   -3.897</td> <td> 0.000</td> <td>-8.78e+04</td> <td> -2.9e+04</td>\n",
       "</tr>\n",
       "<tr>\n",
       "  <th>2.5Unf</th>      <td> -5.82e+04</td> <td> 1.25e+04</td> <td>   -4.642</td> <td> 0.000</td> <td>-8.28e+04</td> <td>-3.36e+04</td>\n",
       "</tr>\n",
       "<tr>\n",
       "  <th>2Story</th>      <td>-1.655e+04</td> <td> 4911.176</td> <td>   -3.370</td> <td> 0.001</td> <td>-2.62e+04</td> <td>-6915.939</td>\n",
       "</tr>\n",
       "<tr>\n",
       "  <th>SFoyer</th>      <td> 1.583e+04</td> <td> 7719.674</td> <td>    2.051</td> <td> 0.040</td> <td>  690.285</td> <td>  3.1e+04</td>\n",
       "</tr>\n",
       "</table>\n",
       "<table class=\"simpletable\">\n",
       "<tr>\n",
       "  <th>Omnibus:</th>       <td>358.053</td> <th>  Durbin-Watson:     </th> <td>   2.000</td> \n",
       "</tr>\n",
       "<tr>\n",
       "  <th>Prob(Omnibus):</th> <td> 0.000</td>  <th>  Jarque-Bera (JB):  </th> <td>19899.291</td>\n",
       "</tr>\n",
       "<tr>\n",
       "  <th>Skew:</th>          <td> 0.068</td>  <th>  Prob(JB):          </th> <td>    0.00</td> \n",
       "</tr>\n",
       "<tr>\n",
       "  <th>Kurtosis:</th>      <td>21.086</td>  <th>  Cond. No.          </th> <td>2.54e+04</td> \n",
       "</tr>\n",
       "</table><br/><br/>Warnings:<br/>[1] Standard Errors assume that the covariance matrix of the errors is correctly specified.<br/>[2] The condition number is large, 2.54e+04. This might indicate that there are<br/>strong multicollinearity or other numerical problems."
      ],
      "text/plain": [
       "<class 'statsmodels.iolib.summary.Summary'>\n",
       "\"\"\"\n",
       "                            OLS Regression Results                            \n",
       "==============================================================================\n",
       "Dep. Variable:              saleprice   R-squared:                       0.766\n",
       "Model:                            OLS   Adj. R-squared:                  0.765\n",
       "Method:                 Least Squares   F-statistic:                     527.3\n",
       "Date:                Tue, 01 Sep 2020   Prob (F-statistic):               0.00\n",
       "Time:                        15:24:38   Log-Likelihood:                -17484.\n",
       "No. Observations:                1460   AIC:                         3.499e+04\n",
       "Df Residuals:                    1450   BIC:                         3.504e+04\n",
       "Df Model:                           9                                         \n",
       "Covariance Type:            nonrobust                                         \n",
       "===============================================================================\n",
       "                  coef    std err          t      P>|t|      [0.025      0.975]\n",
       "-------------------------------------------------------------------------------\n",
       "const        -1.13e+05   6277.246    -18.005      0.000   -1.25e+05   -1.01e+05\n",
       "overallqual  2.593e+04   1031.701     25.137      0.000    2.39e+04     2.8e+04\n",
       "grlivarea      70.7127      2.939     24.060      0.000      64.948      76.478\n",
       "garagecars   1.646e+04   1773.772      9.277      0.000     1.3e+04    1.99e+04\n",
       "1.5Fin      -1.579e+04   5481.682     -2.881      0.004   -2.65e+04   -5039.596\n",
       "1Story       1.325e+04   4571.239      2.898      0.004    4280.913    2.22e+04\n",
       "2.5Fin      -5.838e+04    1.5e+04     -3.897      0.000   -8.78e+04    -2.9e+04\n",
       "2.5Unf       -5.82e+04   1.25e+04     -4.642      0.000   -8.28e+04   -3.36e+04\n",
       "2Story      -1.655e+04   4911.176     -3.370      0.001   -2.62e+04   -6915.939\n",
       "SFoyer       1.583e+04   7719.674      2.051      0.040     690.285     3.1e+04\n",
       "==============================================================================\n",
       "Omnibus:                      358.053   Durbin-Watson:                   2.000\n",
       "Prob(Omnibus):                  0.000   Jarque-Bera (JB):            19899.291\n",
       "Skew:                           0.068   Prob(JB):                         0.00\n",
       "Kurtosis:                      21.086   Cond. No.                     2.54e+04\n",
       "==============================================================================\n",
       "\n",
       "Warnings:\n",
       "[1] Standard Errors assume that the covariance matrix of the errors is correctly specified.\n",
       "[2] The condition number is large, 2.54e+04. This might indicate that there are\n",
       "strong multicollinearity or other numerical problems.\n",
       "\"\"\""
      ]
     },
     "execution_count": 7,
     "metadata": {},
     "output_type": "execute_result"
    },
    {
     "data": {
      "application/javascript": [
       "\n",
       "            setTimeout(function() {\n",
       "                var nbb_cell_id = 7;\n",
       "                var nbb_unformatted_code = \"X = X[\\n    [\\n        \\\"overallqual\\\",\\n        \\\"grlivarea\\\",\\n        \\\"garagecars\\\",\\n        \\\"1.5Fin\\\",\\n        \\\"1Story\\\",\\n        \\\"2.5Fin\\\",\\n        \\\"2.5Unf\\\",\\n        \\\"2Story\\\",\\n        \\\"SFoyer\\\",\\n    ]\\n]\\nY = house_df[\\\"saleprice\\\"]\\n\\nX = sm.add_constant(X)\\n\\nresults = sm.OLS(Y, X).fit()\\n\\nresults.summary()\";\n",
       "                var nbb_formatted_code = \"X = X[\\n    [\\n        \\\"overallqual\\\",\\n        \\\"grlivarea\\\",\\n        \\\"garagecars\\\",\\n        \\\"1.5Fin\\\",\\n        \\\"1Story\\\",\\n        \\\"2.5Fin\\\",\\n        \\\"2.5Unf\\\",\\n        \\\"2Story\\\",\\n        \\\"SFoyer\\\",\\n    ]\\n]\\nY = house_df[\\\"saleprice\\\"]\\n\\nX = sm.add_constant(X)\\n\\nresults = sm.OLS(Y, X).fit()\\n\\nresults.summary()\";\n",
       "                var nbb_cells = Jupyter.notebook.get_cells();\n",
       "                for (var i = 0; i < nbb_cells.length; ++i) {\n",
       "                    if (nbb_cells[i].input_prompt_number == nbb_cell_id) {\n",
       "                        if (nbb_cells[i].get_text() == nbb_unformatted_code) {\n",
       "                             nbb_cells[i].set_text(nbb_formatted_code);\n",
       "                        }\n",
       "                        break;\n",
       "                    }\n",
       "                }\n",
       "            }, 500);\n",
       "            "
      ],
      "text/plain": [
       "<IPython.core.display.Javascript object>"
      ]
     },
     "metadata": {},
     "output_type": "display_data"
    }
   ],
   "source": [
    "X = X[\n",
    "    [\n",
    "        \"overallqual\",\n",
    "        \"grlivarea\",\n",
    "        \"garagecars\",\n",
    "        \"1.5Fin\",\n",
    "        \"1Story\",\n",
    "        \"2.5Fin\",\n",
    "        \"2.5Unf\",\n",
    "        \"2Story\",\n",
    "        \"SFoyer\",\n",
    "    ]\n",
    "]\n",
    "Y = house_df[\"saleprice\"]\n",
    "\n",
    "X = sm.add_constant(X)\n",
    "\n",
    "results = sm.OLS(Y, X).fit()\n",
    "\n",
    "results.summary()"
   ]
  },
  {
   "cell_type": "markdown",
   "metadata": {},
   "source": [
    "The R-Squared value of this model is much higher than all of the R-Squared values for the weather models. The F-statistic value is higher and the p-values are all less than 0.05. However, I believe there are improvements that can be made to the model."
   ]
  },
  {
   "cell_type": "markdown",
   "metadata": {},
   "source": [
    "In order to improve the goodness of fit of your model, try different model specifications by adding or removing some variables.\n"
   ]
  },
  {
   "cell_type": "code",
   "execution_count": 9,
   "metadata": {},
   "outputs": [
    {
     "data": {
      "text/html": [
       "<table class=\"simpletable\">\n",
       "<caption>OLS Regression Results</caption>\n",
       "<tr>\n",
       "  <th>Dep. Variable:</th>        <td>saleprice</td>    <th>  R-squared:         </th> <td>   0.765</td> \n",
       "</tr>\n",
       "<tr>\n",
       "  <th>Model:</th>                   <td>OLS</td>       <th>  Adj. R-squared:    </th> <td>   0.764</td> \n",
       "</tr>\n",
       "<tr>\n",
       "  <th>Method:</th>             <td>Least Squares</td>  <th>  F-statistic:       </th> <td>   591.4</td> \n",
       "</tr>\n",
       "<tr>\n",
       "  <th>Date:</th>             <td>Tue, 01 Sep 2020</td> <th>  Prob (F-statistic):</th>  <td>  0.00</td>  \n",
       "</tr>\n",
       "<tr>\n",
       "  <th>Time:</th>                 <td>15:24:38</td>     <th>  Log-Likelihood:    </th> <td> -17486.</td> \n",
       "</tr>\n",
       "<tr>\n",
       "  <th>No. Observations:</th>      <td>  1460</td>      <th>  AIC:               </th> <td>3.499e+04</td>\n",
       "</tr>\n",
       "<tr>\n",
       "  <th>Df Residuals:</th>          <td>  1451</td>      <th>  BIC:               </th> <td>3.504e+04</td>\n",
       "</tr>\n",
       "<tr>\n",
       "  <th>Df Model:</th>              <td>     8</td>      <th>                     </th>     <td> </td>    \n",
       "</tr>\n",
       "<tr>\n",
       "  <th>Covariance Type:</th>      <td>nonrobust</td>    <th>                     </th>     <td> </td>    \n",
       "</tr>\n",
       "</table>\n",
       "<table class=\"simpletable\">\n",
       "<tr>\n",
       "       <td></td>          <th>coef</th>     <th>std err</th>      <th>t</th>      <th>P>|t|</th>  <th>[0.025</th>    <th>0.975]</th>  \n",
       "</tr>\n",
       "<tr>\n",
       "  <th>const</th>       <td>-1.074e+05</td> <td> 5662.465</td> <td>  -18.974</td> <td> 0.000</td> <td>-1.19e+05</td> <td>-9.63e+04</td>\n",
       "</tr>\n",
       "<tr>\n",
       "  <th>overallqual</th> <td> 2.591e+04</td> <td> 1032.775</td> <td>   25.088</td> <td> 0.000</td> <td> 2.39e+04</td> <td> 2.79e+04</td>\n",
       "</tr>\n",
       "<tr>\n",
       "  <th>grlivarea</th>   <td>   70.1965</td> <td>    2.931</td> <td>   23.946</td> <td> 0.000</td> <td>   64.446</td> <td>   75.947</td>\n",
       "</tr>\n",
       "<tr>\n",
       "  <th>garagecars</th>  <td> 1.659e+04</td> <td> 1774.512</td> <td>    9.350</td> <td> 0.000</td> <td> 1.31e+04</td> <td> 2.01e+04</td>\n",
       "</tr>\n",
       "<tr>\n",
       "  <th>1.5Fin</th>      <td>-2.061e+04</td> <td> 4957.904</td> <td>   -4.157</td> <td> 0.000</td> <td>-3.03e+04</td> <td>-1.09e+04</td>\n",
       "</tr>\n",
       "<tr>\n",
       "  <th>1Story</th>      <td> 8244.4386</td> <td> 3870.166</td> <td>    2.130</td> <td> 0.033</td> <td>  652.719</td> <td> 1.58e+04</td>\n",
       "</tr>\n",
       "<tr>\n",
       "  <th>2.5Fin</th>      <td>-6.254e+04</td> <td> 1.49e+04</td> <td>   -4.209</td> <td> 0.000</td> <td>-9.17e+04</td> <td>-3.34e+04</td>\n",
       "</tr>\n",
       "<tr>\n",
       "  <th>2.5Unf</th>      <td>-6.284e+04</td> <td> 1.23e+04</td> <td>   -5.090</td> <td> 0.000</td> <td>-8.71e+04</td> <td>-3.86e+04</td>\n",
       "</tr>\n",
       "<tr>\n",
       "  <th>2Story</th>      <td>-2.127e+04</td> <td> 4343.847</td> <td>   -4.896</td> <td> 0.000</td> <td>-2.98e+04</td> <td>-1.27e+04</td>\n",
       "</tr>\n",
       "</table>\n",
       "<table class=\"simpletable\">\n",
       "<tr>\n",
       "  <th>Omnibus:</th>       <td>357.086</td> <th>  Durbin-Watson:     </th> <td>   1.998</td> \n",
       "</tr>\n",
       "<tr>\n",
       "  <th>Prob(Omnibus):</th> <td> 0.000</td>  <th>  Jarque-Bera (JB):  </th> <td>19373.175</td>\n",
       "</tr>\n",
       "<tr>\n",
       "  <th>Skew:</th>          <td> 0.095</td>  <th>  Prob(JB):          </th> <td>    0.00</td> \n",
       "</tr>\n",
       "<tr>\n",
       "  <th>Kurtosis:</th>      <td>20.845</td>  <th>  Cond. No.          </th> <td>2.44e+04</td> \n",
       "</tr>\n",
       "</table><br/><br/>Warnings:<br/>[1] Standard Errors assume that the covariance matrix of the errors is correctly specified.<br/>[2] The condition number is large, 2.44e+04. This might indicate that there are<br/>strong multicollinearity or other numerical problems."
      ],
      "text/plain": [
       "<class 'statsmodels.iolib.summary.Summary'>\n",
       "\"\"\"\n",
       "                            OLS Regression Results                            \n",
       "==============================================================================\n",
       "Dep. Variable:              saleprice   R-squared:                       0.765\n",
       "Model:                            OLS   Adj. R-squared:                  0.764\n",
       "Method:                 Least Squares   F-statistic:                     591.4\n",
       "Date:                Tue, 01 Sep 2020   Prob (F-statistic):               0.00\n",
       "Time:                        15:24:38   Log-Likelihood:                -17486.\n",
       "No. Observations:                1460   AIC:                         3.499e+04\n",
       "Df Residuals:                    1451   BIC:                         3.504e+04\n",
       "Df Model:                           8                                         \n",
       "Covariance Type:            nonrobust                                         \n",
       "===============================================================================\n",
       "                  coef    std err          t      P>|t|      [0.025      0.975]\n",
       "-------------------------------------------------------------------------------\n",
       "const       -1.074e+05   5662.465    -18.974      0.000   -1.19e+05   -9.63e+04\n",
       "overallqual  2.591e+04   1032.775     25.088      0.000    2.39e+04    2.79e+04\n",
       "grlivarea      70.1965      2.931     23.946      0.000      64.446      75.947\n",
       "garagecars   1.659e+04   1774.512      9.350      0.000    1.31e+04    2.01e+04\n",
       "1.5Fin      -2.061e+04   4957.904     -4.157      0.000   -3.03e+04   -1.09e+04\n",
       "1Story       8244.4386   3870.166      2.130      0.033     652.719    1.58e+04\n",
       "2.5Fin      -6.254e+04   1.49e+04     -4.209      0.000   -9.17e+04   -3.34e+04\n",
       "2.5Unf      -6.284e+04   1.23e+04     -5.090      0.000   -8.71e+04   -3.86e+04\n",
       "2Story      -2.127e+04   4343.847     -4.896      0.000   -2.98e+04   -1.27e+04\n",
       "==============================================================================\n",
       "Omnibus:                      357.086   Durbin-Watson:                   1.998\n",
       "Prob(Omnibus):                  0.000   Jarque-Bera (JB):            19373.175\n",
       "Skew:                           0.095   Prob(JB):                         0.00\n",
       "Kurtosis:                      20.845   Cond. No.                     2.44e+04\n",
       "==============================================================================\n",
       "\n",
       "Warnings:\n",
       "[1] Standard Errors assume that the covariance matrix of the errors is correctly specified.\n",
       "[2] The condition number is large, 2.44e+04. This might indicate that there are\n",
       "strong multicollinearity or other numerical problems.\n",
       "\"\"\""
      ]
     },
     "execution_count": 9,
     "metadata": {},
     "output_type": "execute_result"
    },
    {
     "data": {
      "application/javascript": [
       "\n",
       "            setTimeout(function() {\n",
       "                var nbb_cell_id = 9;\n",
       "                var nbb_unformatted_code = \"X = X[\\n    [\\n        \\\"overallqual\\\",\\n        \\\"grlivarea\\\",\\n        \\\"garagecars\\\",\\n        \\\"1.5Fin\\\",\\n        \\\"1Story\\\",\\n        \\\"2.5Fin\\\",\\n        \\\"2.5Unf\\\",\\n        \\\"2Story\\\",\\n    ]\\n]\\nY = house_df[\\\"saleprice\\\"]\\n\\nX = sm.add_constant(X)\\n\\nresults = sm.OLS(Y, X).fit()\\n\\nresults.summary()\";\n",
       "                var nbb_formatted_code = \"X = X[\\n    [\\n        \\\"overallqual\\\",\\n        \\\"grlivarea\\\",\\n        \\\"garagecars\\\",\\n        \\\"1.5Fin\\\",\\n        \\\"1Story\\\",\\n        \\\"2.5Fin\\\",\\n        \\\"2.5Unf\\\",\\n        \\\"2Story\\\",\\n    ]\\n]\\nY = house_df[\\\"saleprice\\\"]\\n\\nX = sm.add_constant(X)\\n\\nresults = sm.OLS(Y, X).fit()\\n\\nresults.summary()\";\n",
       "                var nbb_cells = Jupyter.notebook.get_cells();\n",
       "                for (var i = 0; i < nbb_cells.length; ++i) {\n",
       "                    if (nbb_cells[i].input_prompt_number == nbb_cell_id) {\n",
       "                        if (nbb_cells[i].get_text() == nbb_unformatted_code) {\n",
       "                             nbb_cells[i].set_text(nbb_formatted_code);\n",
       "                        }\n",
       "                        break;\n",
       "                    }\n",
       "                }\n",
       "            }, 500);\n",
       "            "
      ],
      "text/plain": [
       "<IPython.core.display.Javascript object>"
      ]
     },
     "metadata": {},
     "output_type": "display_data"
    }
   ],
   "source": [
    "X = X[\n",
    "    [\n",
    "        \"overallqual\",\n",
    "        \"grlivarea\",\n",
    "        \"garagecars\",\n",
    "        \"1.5Fin\",\n",
    "        \"1Story\",\n",
    "        \"2.5Fin\",\n",
    "        \"2.5Unf\",\n",
    "        \"2Story\",\n",
    "    ]\n",
    "]\n",
    "Y = house_df[\"saleprice\"]\n",
    "\n",
    "X = sm.add_constant(X)\n",
    "\n",
    "results = sm.OLS(Y, X).fit()\n",
    "\n",
    "results.summary()"
   ]
  }
 ],
 "metadata": {
  "kernelspec": {
   "display_name": "Python 3",
   "language": "python",
   "name": "python3"
  },
  "language_info": {
   "codemirror_mode": {
    "name": "ipython",
    "version": 3
   },
   "file_extension": ".py",
   "mimetype": "text/x-python",
   "name": "python",
   "nbconvert_exporter": "python",
   "pygments_lexer": "ipython3",
   "version": "3.7.6"
  }
 },
 "nbformat": 4,
 "nbformat_minor": 4
}
