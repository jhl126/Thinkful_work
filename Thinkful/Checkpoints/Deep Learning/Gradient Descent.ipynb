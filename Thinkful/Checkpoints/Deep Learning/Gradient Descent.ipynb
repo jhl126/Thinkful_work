{
 "cells": [
  {
   "cell_type": "code",
   "execution_count": 15,
   "metadata": {},
   "outputs": [
    {
     "data": {
      "application/javascript": [
       "\n",
       "            setTimeout(function() {\n",
       "                var nbb_cell_id = 15;\n",
       "                var nbb_unformatted_code = \"%reload_ext nb_black\\n\\nimport warnings\\n\\nwarnings.filterwarnings(\\\"ignore\\\")\\n\\nfrom tensorflow.keras.datasets import mnist\\nfrom tensorflow.keras.utils import to_categorical\\nfrom tensorflow.keras.models import Sequential\\nfrom tensorflow.keras.layers import Dense\\nfrom tensorflow.keras.optimizers import SGD\";\n",
       "                var nbb_formatted_code = \"%reload_ext nb_black\\n\\nimport warnings\\n\\nwarnings.filterwarnings(\\\"ignore\\\")\\n\\nfrom tensorflow.keras.datasets import mnist\\nfrom tensorflow.keras.utils import to_categorical\\nfrom tensorflow.keras.models import Sequential\\nfrom tensorflow.keras.layers import Dense\\nfrom tensorflow.keras.optimizers import SGD\";\n",
       "                var nbb_cells = Jupyter.notebook.get_cells();\n",
       "                for (var i = 0; i < nbb_cells.length; ++i) {\n",
       "                    if (nbb_cells[i].input_prompt_number == nbb_cell_id) {\n",
       "                        if (nbb_cells[i].get_text() == nbb_unformatted_code) {\n",
       "                             nbb_cells[i].set_text(nbb_formatted_code);\n",
       "                        }\n",
       "                        break;\n",
       "                    }\n",
       "                }\n",
       "            }, 500);\n",
       "            "
      ],
      "text/plain": [
       "<IPython.core.display.Javascript object>"
      ]
     },
     "metadata": {},
     "output_type": "display_data"
    },
    {
     "data": {
      "application/javascript": [
       "\n",
       "            setTimeout(function() {\n",
       "                var nbb_cell_id = 15;\n",
       "                var nbb_unformatted_code = \"%reload_ext nb_black\\n\\nimport warnings\\n\\nwarnings.filterwarnings(\\\"ignore\\\")\\n\\nfrom tensorflow.keras.datasets import mnist\\nfrom tensorflow.keras.utils import to_categorical\\nfrom tensorflow.keras.models import Sequential\\nfrom tensorflow.keras.layers import Dense\\nfrom tensorflow.keras.optimizers import SGD\";\n",
       "                var nbb_formatted_code = \"%reload_ext nb_black\\n\\nimport warnings\\n\\nwarnings.filterwarnings(\\\"ignore\\\")\\n\\nfrom tensorflow.keras.datasets import mnist\\nfrom tensorflow.keras.utils import to_categorical\\nfrom tensorflow.keras.models import Sequential\\nfrom tensorflow.keras.layers import Dense\\nfrom tensorflow.keras.optimizers import SGD\";\n",
       "                var nbb_cells = Jupyter.notebook.get_cells();\n",
       "                for (var i = 0; i < nbb_cells.length; ++i) {\n",
       "                    if (nbb_cells[i].input_prompt_number == nbb_cell_id) {\n",
       "                        if (nbb_cells[i].get_text() == nbb_unformatted_code) {\n",
       "                             nbb_cells[i].set_text(nbb_formatted_code);\n",
       "                        }\n",
       "                        break;\n",
       "                    }\n",
       "                }\n",
       "            }, 500);\n",
       "            "
      ],
      "text/plain": [
       "<IPython.core.display.Javascript object>"
      ]
     },
     "metadata": {},
     "output_type": "display_data"
    }
   ],
   "source": [
    "%reload_ext nb_black\n",
    "\n",
    "import warnings\n",
    "\n",
    "warnings.filterwarnings(\"ignore\")\n",
    "\n",
    "from tensorflow.keras.datasets import mnist\n",
    "from tensorflow.keras.utils import to_categorical\n",
    "from tensorflow.keras.models import Sequential\n",
    "from tensorflow.keras.layers import Dense\n",
    "from tensorflow.keras.optimizers import SGD"
   ]
  },
  {
   "cell_type": "code",
   "execution_count": 2,
   "metadata": {},
   "outputs": [
    {
     "data": {
      "application/javascript": [
       "\n",
       "            setTimeout(function() {\n",
       "                var nbb_cell_id = 2;\n",
       "                var nbb_unformatted_code = \"(X_train, y_train), (X_test, y_test) = mnist.load_data()\\ninput_dim = 784  # 28*28\\noutput_dim = nb_classes = 10\\nbatch_size = 128\\nnb_epoch = 20\\n\\nX_train = X_train.reshape(60000, input_dim)\\nX_test = X_test.reshape(10000, input_dim)\\nX_train = X_train.astype(\\\"float32\\\")\\nX_test = X_test.astype(\\\"float32\\\")\\nX_train /= 255\\nX_test /= 255\";\n",
       "                var nbb_formatted_code = \"(X_train, y_train), (X_test, y_test) = mnist.load_data()\\ninput_dim = 784  # 28*28\\noutput_dim = nb_classes = 10\\nbatch_size = 128\\nnb_epoch = 20\\n\\nX_train = X_train.reshape(60000, input_dim)\\nX_test = X_test.reshape(10000, input_dim)\\nX_train = X_train.astype(\\\"float32\\\")\\nX_test = X_test.astype(\\\"float32\\\")\\nX_train /= 255\\nX_test /= 255\";\n",
       "                var nbb_cells = Jupyter.notebook.get_cells();\n",
       "                for (var i = 0; i < nbb_cells.length; ++i) {\n",
       "                    if (nbb_cells[i].input_prompt_number == nbb_cell_id) {\n",
       "                        if (nbb_cells[i].get_text() == nbb_unformatted_code) {\n",
       "                             nbb_cells[i].set_text(nbb_formatted_code);\n",
       "                        }\n",
       "                        break;\n",
       "                    }\n",
       "                }\n",
       "            }, 500);\n",
       "            "
      ],
      "text/plain": [
       "<IPython.core.display.Javascript object>"
      ]
     },
     "metadata": {},
     "output_type": "display_data"
    }
   ],
   "source": [
    "(X_train, y_train), (X_test, y_test) = mnist.load_data()\n",
    "input_dim = 784  # 28*28\n",
    "output_dim = nb_classes = 10\n",
    "batch_size = 128\n",
    "nb_epoch = 20\n",
    "\n",
    "X_train = X_train.reshape(60000, input_dim)\n",
    "X_test = X_test.reshape(10000, input_dim)\n",
    "X_train = X_train.astype(\"float32\")\n",
    "X_test = X_test.astype(\"float32\")\n",
    "X_train /= 255\n",
    "X_test /= 255"
   ]
  },
  {
   "cell_type": "code",
   "execution_count": 3,
   "metadata": {},
   "outputs": [
    {
     "data": {
      "application/javascript": [
       "\n",
       "            setTimeout(function() {\n",
       "                var nbb_cell_id = 3;\n",
       "                var nbb_unformatted_code = \"y_train = to_categorical(y_train, nb_classes)\\ny_test = to_categorical(y_test, nb_classes)\";\n",
       "                var nbb_formatted_code = \"y_train = to_categorical(y_train, nb_classes)\\ny_test = to_categorical(y_test, nb_classes)\";\n",
       "                var nbb_cells = Jupyter.notebook.get_cells();\n",
       "                for (var i = 0; i < nbb_cells.length; ++i) {\n",
       "                    if (nbb_cells[i].input_prompt_number == nbb_cell_id) {\n",
       "                        if (nbb_cells[i].get_text() == nbb_unformatted_code) {\n",
       "                             nbb_cells[i].set_text(nbb_formatted_code);\n",
       "                        }\n",
       "                        break;\n",
       "                    }\n",
       "                }\n",
       "            }, 500);\n",
       "            "
      ],
      "text/plain": [
       "<IPython.core.display.Javascript object>"
      ]
     },
     "metadata": {},
     "output_type": "display_data"
    }
   ],
   "source": [
    "y_train = to_categorical(y_train, nb_classes)\n",
    "y_test = to_categorical(y_test, nb_classes)"
   ]
  },
  {
   "cell_type": "markdown",
   "metadata": {},
   "source": [
    "### Implement a three-layer ANN model with 128, 64, and 10 neurons in the layers. Use 8 as the mini-batch size."
   ]
  },
  {
   "cell_type": "code",
   "execution_count": 4,
   "metadata": {},
   "outputs": [
    {
     "data": {
      "application/javascript": [
       "\n",
       "            setTimeout(function() {\n",
       "                var nbb_cell_id = 4;\n",
       "                var nbb_unformatted_code = \"model = Sequential()\\nmodel.add(Dense(128, input_dim=X_train.shape[1], activation=\\\"relu\\\"))\\nmodel.add(Dense(64, activation=\\\"relu\\\"))\\nmodel.add(Dense(10, activation=\\\"softmax\\\"))\";\n",
       "                var nbb_formatted_code = \"model = Sequential()\\nmodel.add(Dense(128, input_dim=X_train.shape[1], activation=\\\"relu\\\"))\\nmodel.add(Dense(64, activation=\\\"relu\\\"))\\nmodel.add(Dense(10, activation=\\\"softmax\\\"))\";\n",
       "                var nbb_cells = Jupyter.notebook.get_cells();\n",
       "                for (var i = 0; i < nbb_cells.length; ++i) {\n",
       "                    if (nbb_cells[i].input_prompt_number == nbb_cell_id) {\n",
       "                        if (nbb_cells[i].get_text() == nbb_unformatted_code) {\n",
       "                             nbb_cells[i].set_text(nbb_formatted_code);\n",
       "                        }\n",
       "                        break;\n",
       "                    }\n",
       "                }\n",
       "            }, 500);\n",
       "            "
      ],
      "text/plain": [
       "<IPython.core.display.Javascript object>"
      ]
     },
     "metadata": {},
     "output_type": "display_data"
    }
   ],
   "source": [
    "model = Sequential()\n",
    "model.add(Dense(128, input_dim=X_train.shape[1], activation=\"relu\"))\n",
    "model.add(Dense(64, activation=\"relu\"))\n",
    "model.add(Dense(10, activation=\"softmax\"))"
   ]
  },
  {
   "cell_type": "code",
   "execution_count": 5,
   "metadata": {},
   "outputs": [
    {
     "data": {
      "application/javascript": [
       "\n",
       "            setTimeout(function() {\n",
       "                var nbb_cell_id = 5;\n",
       "                var nbb_unformatted_code = \"model.compile(optimizer=\\\"sgd\\\", loss=\\\"categorical_crossentropy\\\", metrics=[\\\"accuracy\\\"])\";\n",
       "                var nbb_formatted_code = \"model.compile(optimizer=\\\"sgd\\\", loss=\\\"categorical_crossentropy\\\", metrics=[\\\"accuracy\\\"])\";\n",
       "                var nbb_cells = Jupyter.notebook.get_cells();\n",
       "                for (var i = 0; i < nbb_cells.length; ++i) {\n",
       "                    if (nbb_cells[i].input_prompt_number == nbb_cell_id) {\n",
       "                        if (nbb_cells[i].get_text() == nbb_unformatted_code) {\n",
       "                             nbb_cells[i].set_text(nbb_formatted_code);\n",
       "                        }\n",
       "                        break;\n",
       "                    }\n",
       "                }\n",
       "            }, 500);\n",
       "            "
      ],
      "text/plain": [
       "<IPython.core.display.Javascript object>"
      ]
     },
     "metadata": {},
     "output_type": "display_data"
    }
   ],
   "source": [
    "model.compile(optimizer=\"sgd\", loss=\"categorical_crossentropy\", metrics=[\"accuracy\"])"
   ]
  },
  {
   "cell_type": "code",
   "execution_count": 6,
   "metadata": {},
   "outputs": [
    {
     "name": "stdout",
     "output_type": "stream",
     "text": [
      "Epoch 1/20\n",
      "7500/7500 [==============================] - 4s 528us/step - loss: 0.3618 - accuracy: 0.8964\n",
      "Epoch 2/20\n",
      "7500/7500 [==============================] - 4s 538us/step - loss: 0.1696 - accuracy: 0.9501\n",
      "Epoch 3/20\n",
      "7500/7500 [==============================] - 4s 526us/step - loss: 0.1226 - accuracy: 0.9640\n",
      "Epoch 4/20\n",
      "7500/7500 [==============================] - 4s 520us/step - loss: 0.0960 - accuracy: 0.9714\n",
      "Epoch 5/20\n",
      "7500/7500 [==============================] - 4s 534us/step - loss: 0.0784 - accuracy: 0.9764\n",
      "Epoch 6/20\n",
      "7500/7500 [==============================] - 4s 517us/step - loss: 0.0668 - accuracy: 0.9801\n",
      "Epoch 7/20\n",
      "7500/7500 [==============================] - 4s 522us/step - loss: 0.0570 - accuracy: 0.9828\n",
      "Epoch 8/20\n",
      "7500/7500 [==============================] - 4s 514us/step - loss: 0.0498 - accuracy: 0.9851\n",
      "Epoch 9/20\n",
      "7500/7500 [==============================] - 4s 519us/step - loss: 0.0423 - accuracy: 0.9874\n",
      "Epoch 10/20\n",
      "7500/7500 [==============================] - 4s 513us/step - loss: 0.0372 - accuracy: 0.9892\n",
      "Epoch 11/20\n",
      "7500/7500 [==============================] - 4s 548us/step - loss: 0.0318 - accuracy: 0.9905\n",
      "Epoch 12/20\n",
      "7500/7500 [==============================] - 4s 557us/step - loss: 0.0275 - accuracy: 0.9926\n",
      "Epoch 13/20\n",
      "7500/7500 [==============================] - 4s 529us/step - loss: 0.0245 - accuracy: 0.9933\n",
      "Epoch 14/20\n",
      "7500/7500 [==============================] - 4s 535us/step - loss: 0.0212 - accuracy: 0.9944\n",
      "Epoch 15/20\n",
      "7500/7500 [==============================] - 4s 523us/step - loss: 0.0181 - accuracy: 0.9956\n",
      "Epoch 16/20\n",
      "7500/7500 [==============================] - 4s 511us/step - loss: 0.0157 - accuracy: 0.9965\n",
      "Epoch 17/20\n",
      "7500/7500 [==============================] - 4s 532us/step - loss: 0.0134 - accuracy: 0.9973\n",
      "Epoch 18/20\n",
      "7500/7500 [==============================] - 4s 530us/step - loss: 0.0113 - accuracy: 0.9978\n",
      "Epoch 19/20\n",
      "7500/7500 [==============================] - 4s 525us/step - loss: 0.0098 - accuracy: 0.9984\n",
      "Epoch 20/20\n",
      "7500/7500 [==============================] - 4s 553us/step - loss: 0.0086 - accuracy: 0.9988\n"
     ]
    },
    {
     "data": {
      "text/plain": [
       "<tensorflow.python.keras.callbacks.History at 0x173f2c33348>"
      ]
     },
     "execution_count": 6,
     "metadata": {},
     "output_type": "execute_result"
    },
    {
     "data": {
      "application/javascript": [
       "\n",
       "            setTimeout(function() {\n",
       "                var nbb_cell_id = 6;\n",
       "                var nbb_unformatted_code = \"model.fit(X_train, y_train, batch_size=8, epochs=20, verbose=1)\";\n",
       "                var nbb_formatted_code = \"model.fit(X_train, y_train, batch_size=8, epochs=20, verbose=1)\";\n",
       "                var nbb_cells = Jupyter.notebook.get_cells();\n",
       "                for (var i = 0; i < nbb_cells.length; ++i) {\n",
       "                    if (nbb_cells[i].input_prompt_number == nbb_cell_id) {\n",
       "                        if (nbb_cells[i].get_text() == nbb_unformatted_code) {\n",
       "                             nbb_cells[i].set_text(nbb_formatted_code);\n",
       "                        }\n",
       "                        break;\n",
       "                    }\n",
       "                }\n",
       "            }, 500);\n",
       "            "
      ],
      "text/plain": [
       "<IPython.core.display.Javascript object>"
      ]
     },
     "metadata": {},
     "output_type": "display_data"
    }
   ],
   "source": [
    "model.fit(X_train, y_train, batch_size=8, epochs=20, verbose=1)"
   ]
  },
  {
   "cell_type": "code",
   "execution_count": 7,
   "metadata": {},
   "outputs": [
    {
     "name": "stdout",
     "output_type": "stream",
     "text": [
      "Test score: 0.07809223234653473\n",
      "Test accuracy: 0.9782000184059143\n"
     ]
    },
    {
     "data": {
      "application/javascript": [
       "\n",
       "            setTimeout(function() {\n",
       "                var nbb_cell_id = 7;\n",
       "                var nbb_unformatted_code = \"score = model.evaluate(X_test, y_test, verbose=0)\\nprint(\\\"Test score:\\\", score[0])\\nprint(\\\"Test accuracy:\\\", score[1])\";\n",
       "                var nbb_formatted_code = \"score = model.evaluate(X_test, y_test, verbose=0)\\nprint(\\\"Test score:\\\", score[0])\\nprint(\\\"Test accuracy:\\\", score[1])\";\n",
       "                var nbb_cells = Jupyter.notebook.get_cells();\n",
       "                for (var i = 0; i < nbb_cells.length; ++i) {\n",
       "                    if (nbb_cells[i].input_prompt_number == nbb_cell_id) {\n",
       "                        if (nbb_cells[i].get_text() == nbb_unformatted_code) {\n",
       "                             nbb_cells[i].set_text(nbb_formatted_code);\n",
       "                        }\n",
       "                        break;\n",
       "                    }\n",
       "                }\n",
       "            }, 500);\n",
       "            "
      ],
      "text/plain": [
       "<IPython.core.display.Javascript object>"
      ]
     },
     "metadata": {},
     "output_type": "display_data"
    }
   ],
   "source": [
    "score = model.evaluate(X_test, y_test, verbose=0)\n",
    "print(\"Test score:\", score[0])\n",
    "print(\"Test accuracy:\", score[1])"
   ]
  },
  {
   "cell_type": "markdown",
   "metadata": {},
   "source": [
    "### Implement a three-layer ANN model with 128, 64, and 10 neurons in the layers. Use 128 as the mini-batch size."
   ]
  },
  {
   "cell_type": "code",
   "execution_count": 8,
   "metadata": {},
   "outputs": [
    {
     "data": {
      "application/javascript": [
       "\n",
       "            setTimeout(function() {\n",
       "                var nbb_cell_id = 8;\n",
       "                var nbb_unformatted_code = \"model2 = Sequential()\\nmodel2.add(Dense(128, input_dim=X_train.shape[1], activation=\\\"relu\\\"))\\nmodel2.add(Dense(64, activation=\\\"relu\\\"))\\nmodel2.add(Dense(10, activation=\\\"softmax\\\"))\";\n",
       "                var nbb_formatted_code = \"model2 = Sequential()\\nmodel2.add(Dense(128, input_dim=X_train.shape[1], activation=\\\"relu\\\"))\\nmodel2.add(Dense(64, activation=\\\"relu\\\"))\\nmodel2.add(Dense(10, activation=\\\"softmax\\\"))\";\n",
       "                var nbb_cells = Jupyter.notebook.get_cells();\n",
       "                for (var i = 0; i < nbb_cells.length; ++i) {\n",
       "                    if (nbb_cells[i].input_prompt_number == nbb_cell_id) {\n",
       "                        if (nbb_cells[i].get_text() == nbb_unformatted_code) {\n",
       "                             nbb_cells[i].set_text(nbb_formatted_code);\n",
       "                        }\n",
       "                        break;\n",
       "                    }\n",
       "                }\n",
       "            }, 500);\n",
       "            "
      ],
      "text/plain": [
       "<IPython.core.display.Javascript object>"
      ]
     },
     "metadata": {},
     "output_type": "display_data"
    }
   ],
   "source": [
    "model2 = Sequential()\n",
    "model2.add(Dense(128, input_dim=X_train.shape[1], activation=\"relu\"))\n",
    "model2.add(Dense(64, activation=\"relu\"))\n",
    "model2.add(Dense(10, activation=\"softmax\"))"
   ]
  },
  {
   "cell_type": "code",
   "execution_count": 9,
   "metadata": {},
   "outputs": [
    {
     "name": "stdout",
     "output_type": "stream",
     "text": [
      "Epoch 1/20\n",
      "469/469 [==============================] - 0s 910us/step - loss: 1.1855 - accuracy: 0.6974\n",
      "Epoch 2/20\n",
      "469/469 [==============================] - 0s 857us/step - loss: 0.4939 - accuracy: 0.8730\n",
      "Epoch 3/20\n",
      "469/469 [==============================] - 0s 897us/step - loss: 0.3861 - accuracy: 0.8937\n",
      "Epoch 4/20\n",
      "469/469 [==============================] - 0s 884us/step - loss: 0.3416 - accuracy: 0.9038\n",
      "Epoch 5/20\n",
      "469/469 [==============================] - 0s 885us/step - loss: 0.3144 - accuracy: 0.9104\n",
      "Epoch 6/20\n",
      "469/469 [==============================] - 0s 870us/step - loss: 0.2946 - accuracy: 0.9155\n",
      "Epoch 7/20\n",
      "469/469 [==============================] - 0s 876us/step - loss: 0.2784 - accuracy: 0.9208\n",
      "Epoch 8/20\n",
      "469/469 [==============================] - 0s 901us/step - loss: 0.2647 - accuracy: 0.9242\n",
      "Epoch 9/20\n",
      "469/469 [==============================] - 0s 885us/step - loss: 0.2525 - accuracy: 0.9283\n",
      "Epoch 10/20\n",
      "469/469 [==============================] - 0s 880us/step - loss: 0.2415 - accuracy: 0.9311\n",
      "Epoch 11/20\n",
      "469/469 [==============================] - 0s 877us/step - loss: 0.2315 - accuracy: 0.9342\n",
      "Epoch 12/20\n",
      "469/469 [==============================] - 0s 863us/step - loss: 0.2224 - accuracy: 0.9368\n",
      "Epoch 13/20\n",
      "469/469 [==============================] - 0s 859us/step - loss: 0.2136 - accuracy: 0.9392\n",
      "Epoch 14/20\n",
      "469/469 [==============================] - 0s 874us/step - loss: 0.2058 - accuracy: 0.9418\n",
      "Epoch 15/20\n",
      "469/469 [==============================] - 0s 870us/step - loss: 0.1984 - accuracy: 0.9433\n",
      "Epoch 16/20\n",
      "469/469 [==============================] - 0s 865us/step - loss: 0.1917 - accuracy: 0.9460\n",
      "Epoch 17/20\n",
      "469/469 [==============================] - 0s 906us/step - loss: 0.1852 - accuracy: 0.9473\n",
      "Epoch 18/20\n",
      "469/469 [==============================] - 0s 919us/step - loss: 0.1795 - accuracy: 0.9493\n",
      "Epoch 19/20\n",
      "469/469 [==============================] - 0s 887us/step - loss: 0.1739 - accuracy: 0.9506\n",
      "Epoch 20/20\n",
      "469/469 [==============================] - 0s 872us/step - loss: 0.1687 - accuracy: 0.9521\n"
     ]
    },
    {
     "data": {
      "text/plain": [
       "<tensorflow.python.keras.callbacks.History at 0x17391390188>"
      ]
     },
     "execution_count": 9,
     "metadata": {},
     "output_type": "execute_result"
    },
    {
     "data": {
      "application/javascript": [
       "\n",
       "            setTimeout(function() {\n",
       "                var nbb_cell_id = 9;\n",
       "                var nbb_unformatted_code = \"model2.compile(optimizer=\\\"sgd\\\", loss=\\\"categorical_crossentropy\\\", metrics=[\\\"accuracy\\\"])\\nmodel2.fit(X_train, y_train, batch_size=128, epochs=20, verbose=1)\";\n",
       "                var nbb_formatted_code = \"model2.compile(optimizer=\\\"sgd\\\", loss=\\\"categorical_crossentropy\\\", metrics=[\\\"accuracy\\\"])\\nmodel2.fit(X_train, y_train, batch_size=128, epochs=20, verbose=1)\";\n",
       "                var nbb_cells = Jupyter.notebook.get_cells();\n",
       "                for (var i = 0; i < nbb_cells.length; ++i) {\n",
       "                    if (nbb_cells[i].input_prompt_number == nbb_cell_id) {\n",
       "                        if (nbb_cells[i].get_text() == nbb_unformatted_code) {\n",
       "                             nbb_cells[i].set_text(nbb_formatted_code);\n",
       "                        }\n",
       "                        break;\n",
       "                    }\n",
       "                }\n",
       "            }, 500);\n",
       "            "
      ],
      "text/plain": [
       "<IPython.core.display.Javascript object>"
      ]
     },
     "metadata": {},
     "output_type": "display_data"
    }
   ],
   "source": [
    "model2.compile(optimizer=\"sgd\", loss=\"categorical_crossentropy\", metrics=[\"accuracy\"])\n",
    "model2.fit(X_train, y_train, batch_size=128, epochs=20, verbose=1)"
   ]
  },
  {
   "cell_type": "code",
   "execution_count": 10,
   "metadata": {},
   "outputs": [
    {
     "name": "stdout",
     "output_type": "stream",
     "text": [
      "Test score: 0.16776683926582336\n",
      "Test accuracy: 0.9510999917984009\n"
     ]
    },
    {
     "data": {
      "application/javascript": [
       "\n",
       "            setTimeout(function() {\n",
       "                var nbb_cell_id = 10;\n",
       "                var nbb_unformatted_code = \"score = model2.evaluate(X_test, y_test, verbose=0)\\nprint(\\\"Test score:\\\", score[0])\\nprint(\\\"Test accuracy:\\\", score[1])\";\n",
       "                var nbb_formatted_code = \"score = model2.evaluate(X_test, y_test, verbose=0)\\nprint(\\\"Test score:\\\", score[0])\\nprint(\\\"Test accuracy:\\\", score[1])\";\n",
       "                var nbb_cells = Jupyter.notebook.get_cells();\n",
       "                for (var i = 0; i < nbb_cells.length; ++i) {\n",
       "                    if (nbb_cells[i].input_prompt_number == nbb_cell_id) {\n",
       "                        if (nbb_cells[i].get_text() == nbb_unformatted_code) {\n",
       "                             nbb_cells[i].set_text(nbb_formatted_code);\n",
       "                        }\n",
       "                        break;\n",
       "                    }\n",
       "                }\n",
       "            }, 500);\n",
       "            "
      ],
      "text/plain": [
       "<IPython.core.display.Javascript object>"
      ]
     },
     "metadata": {},
     "output_type": "display_data"
    }
   ],
   "source": [
    "score = model2.evaluate(X_test, y_test, verbose=0)\n",
    "print(\"Test score:\", score[0])\n",
    "print(\"Test accuracy:\", score[1])"
   ]
  },
  {
   "cell_type": "markdown",
   "metadata": {},
   "source": [
    "### Implement a three-layer ANN model with 128, 64, and 10 neurons in the layers. Use the full sample as the batch size."
   ]
  },
  {
   "cell_type": "code",
   "execution_count": 11,
   "metadata": {},
   "outputs": [
    {
     "data": {
      "application/javascript": [
       "\n",
       "            setTimeout(function() {\n",
       "                var nbb_cell_id = 11;\n",
       "                var nbb_unformatted_code = \"model3 = Sequential()\\nmodel3.add(Dense(128, input_dim=X_train.shape[1], activation=\\\"relu\\\"))\\nmodel3.add(Dense(64, activation=\\\"relu\\\"))\\nmodel3.add(Dense(10, activation=\\\"softmax\\\"))\";\n",
       "                var nbb_formatted_code = \"model3 = Sequential()\\nmodel3.add(Dense(128, input_dim=X_train.shape[1], activation=\\\"relu\\\"))\\nmodel3.add(Dense(64, activation=\\\"relu\\\"))\\nmodel3.add(Dense(10, activation=\\\"softmax\\\"))\";\n",
       "                var nbb_cells = Jupyter.notebook.get_cells();\n",
       "                for (var i = 0; i < nbb_cells.length; ++i) {\n",
       "                    if (nbb_cells[i].input_prompt_number == nbb_cell_id) {\n",
       "                        if (nbb_cells[i].get_text() == nbb_unformatted_code) {\n",
       "                             nbb_cells[i].set_text(nbb_formatted_code);\n",
       "                        }\n",
       "                        break;\n",
       "                    }\n",
       "                }\n",
       "            }, 500);\n",
       "            "
      ],
      "text/plain": [
       "<IPython.core.display.Javascript object>"
      ]
     },
     "metadata": {},
     "output_type": "display_data"
    }
   ],
   "source": [
    "model3 = Sequential()\n",
    "model3.add(Dense(128, input_dim=X_train.shape[1], activation=\"relu\"))\n",
    "model3.add(Dense(64, activation=\"relu\"))\n",
    "model3.add(Dense(10, activation=\"softmax\"))"
   ]
  },
  {
   "cell_type": "code",
   "execution_count": 12,
   "metadata": {},
   "outputs": [
    {
     "name": "stdout",
     "output_type": "stream",
     "text": [
      "Epoch 1/20\n",
      "1/1 [==============================] - 0s 998us/step - loss: 2.3740 - accuracy: 0.0774\n",
      "Epoch 2/20\n",
      "1/1 [==============================] - 0s 2ms/step - loss: 2.3662 - accuracy: 0.0788\n",
      "Epoch 3/20\n",
      "1/1 [==============================] - 0s 807us/step - loss: 2.3587 - accuracy: 0.0805\n",
      "Epoch 4/20\n",
      "1/1 [==============================] - 0s 998us/step - loss: 2.3513 - accuracy: 0.0828\n",
      "Epoch 5/20\n",
      "1/1 [==============================] - 0s 998us/step - loss: 2.3442 - accuracy: 0.0848\n",
      "Epoch 6/20\n",
      "1/1 [==============================] - 0s 997us/step - loss: 2.3372 - accuracy: 0.0871\n",
      "Epoch 7/20\n",
      "1/1 [==============================] - 0s 998us/step - loss: 2.3304 - accuracy: 0.0900\n",
      "Epoch 8/20\n",
      "1/1 [==============================] - 0s 998us/step - loss: 2.3238 - accuracy: 0.0929\n",
      "Epoch 9/20\n",
      "1/1 [==============================] - 0s 998us/step - loss: 2.3173 - accuracy: 0.0963\n",
      "Epoch 10/20\n",
      "1/1 [==============================] - 0s 3ms/step - loss: 2.3109 - accuracy: 0.0995\n",
      "Epoch 11/20\n",
      "1/1 [==============================] - 0s 2ms/step - loss: 2.3047 - accuracy: 0.1028\n",
      "Epoch 12/20\n",
      "1/1 [==============================] - 0s 997us/step - loss: 2.2985 - accuracy: 0.1065\n",
      "Epoch 13/20\n",
      "1/1 [==============================] - 0s 997us/step - loss: 2.2925 - accuracy: 0.1108\n",
      "Epoch 14/20\n",
      "1/1 [==============================] - 0s 997us/step - loss: 2.2866 - accuracy: 0.1151\n",
      "Epoch 15/20\n",
      "1/1 [==============================] - 0s 998us/step - loss: 2.2808 - accuracy: 0.1199\n",
      "Epoch 16/20\n",
      "1/1 [==============================] - 0s 992us/step - loss: 2.2750 - accuracy: 0.1248\n",
      "Epoch 17/20\n",
      "1/1 [==============================] - 0s 4ms/step - loss: 2.2693 - accuracy: 0.1293\n",
      "Epoch 18/20\n",
      "1/1 [==============================] - 0s 2ms/step - loss: 2.2637 - accuracy: 0.1338\n",
      "Epoch 19/20\n",
      "1/1 [==============================] - 0s 998us/step - loss: 2.2582 - accuracy: 0.1381\n",
      "Epoch 20/20\n",
      "1/1 [==============================] - 0s 2ms/step - loss: 2.2527 - accuracy: 0.1437\n"
     ]
    },
    {
     "data": {
      "text/plain": [
       "<tensorflow.python.keras.callbacks.History at 0x173914bb108>"
      ]
     },
     "execution_count": 12,
     "metadata": {},
     "output_type": "execute_result"
    },
    {
     "data": {
      "application/javascript": [
       "\n",
       "            setTimeout(function() {\n",
       "                var nbb_cell_id = 12;\n",
       "                var nbb_unformatted_code = \"model3.compile(optimizer=\\\"sgd\\\", loss=\\\"categorical_crossentropy\\\", metrics=[\\\"accuracy\\\"])\\nmodel3.fit(X_train, y_train, batch_size=X_train.shape[0], epochs=20, verbose=1)\";\n",
       "                var nbb_formatted_code = \"model3.compile(optimizer=\\\"sgd\\\", loss=\\\"categorical_crossentropy\\\", metrics=[\\\"accuracy\\\"])\\nmodel3.fit(X_train, y_train, batch_size=X_train.shape[0], epochs=20, verbose=1)\";\n",
       "                var nbb_cells = Jupyter.notebook.get_cells();\n",
       "                for (var i = 0; i < nbb_cells.length; ++i) {\n",
       "                    if (nbb_cells[i].input_prompt_number == nbb_cell_id) {\n",
       "                        if (nbb_cells[i].get_text() == nbb_unformatted_code) {\n",
       "                             nbb_cells[i].set_text(nbb_formatted_code);\n",
       "                        }\n",
       "                        break;\n",
       "                    }\n",
       "                }\n",
       "            }, 500);\n",
       "            "
      ],
      "text/plain": [
       "<IPython.core.display.Javascript object>"
      ]
     },
     "metadata": {},
     "output_type": "display_data"
    }
   ],
   "source": [
    "model3.compile(optimizer=\"sgd\", loss=\"categorical_crossentropy\", metrics=[\"accuracy\"])\n",
    "model3.fit(X_train, y_train, batch_size=X_train.shape[0], epochs=20, verbose=1)"
   ]
  },
  {
   "cell_type": "code",
   "execution_count": 13,
   "metadata": {},
   "outputs": [
    {
     "name": "stdout",
     "output_type": "stream",
     "text": [
      "Test score: 2.2514941692352295\n",
      "Test accuracy: 0.14419999718666077\n"
     ]
    },
    {
     "data": {
      "application/javascript": [
       "\n",
       "            setTimeout(function() {\n",
       "                var nbb_cell_id = 13;\n",
       "                var nbb_unformatted_code = \"score = model3.evaluate(X_test, y_test, verbose=0)\\nprint(\\\"Test score:\\\", score[0])\\nprint(\\\"Test accuracy:\\\", score[1])\";\n",
       "                var nbb_formatted_code = \"score = model3.evaluate(X_test, y_test, verbose=0)\\nprint(\\\"Test score:\\\", score[0])\\nprint(\\\"Test accuracy:\\\", score[1])\";\n",
       "                var nbb_cells = Jupyter.notebook.get_cells();\n",
       "                for (var i = 0; i < nbb_cells.length; ++i) {\n",
       "                    if (nbb_cells[i].input_prompt_number == nbb_cell_id) {\n",
       "                        if (nbb_cells[i].get_text() == nbb_unformatted_code) {\n",
       "                             nbb_cells[i].set_text(nbb_formatted_code);\n",
       "                        }\n",
       "                        break;\n",
       "                    }\n",
       "                }\n",
       "            }, 500);\n",
       "            "
      ],
      "text/plain": [
       "<IPython.core.display.Javascript object>"
      ]
     },
     "metadata": {},
     "output_type": "display_data"
    }
   ],
   "source": [
    "score = model3.evaluate(X_test, y_test, verbose=0)\n",
    "print(\"Test score:\", score[0])\n",
    "print(\"Test accuracy:\", score[1])"
   ]
  },
  {
   "cell_type": "markdown",
   "metadata": {},
   "source": [
    "### Compare the results of each model. Which batch size performed best?"
   ]
  },
  {
   "cell_type": "markdown",
   "metadata": {},
   "source": [
    "When using 8 as the mini batch I noticed the model ran a lot slower. Using the entire batch seemed to have run the fastest, however this had the worst accuracy. The model with 8 as the mini batch had the best accuracy, however it was also the slowest."
   ]
  },
  {
   "cell_type": "markdown",
   "metadata": {},
   "source": [
    "### Implement a three-layer ANN model with 128, 64, and 10 neurons in the layers. Use 0.01 as the learning rate."
   ]
  },
  {
   "cell_type": "code",
   "execution_count": 16,
   "metadata": {},
   "outputs": [
    {
     "data": {
      "application/javascript": [
       "\n",
       "            setTimeout(function() {\n",
       "                var nbb_cell_id = 16;\n",
       "                var nbb_unformatted_code = \"sgd = SGD(learning_rate=0.01)\";\n",
       "                var nbb_formatted_code = \"sgd = SGD(learning_rate=0.01)\";\n",
       "                var nbb_cells = Jupyter.notebook.get_cells();\n",
       "                for (var i = 0; i < nbb_cells.length; ++i) {\n",
       "                    if (nbb_cells[i].input_prompt_number == nbb_cell_id) {\n",
       "                        if (nbb_cells[i].get_text() == nbb_unformatted_code) {\n",
       "                             nbb_cells[i].set_text(nbb_formatted_code);\n",
       "                        }\n",
       "                        break;\n",
       "                    }\n",
       "                }\n",
       "            }, 500);\n",
       "            "
      ],
      "text/plain": [
       "<IPython.core.display.Javascript object>"
      ]
     },
     "metadata": {},
     "output_type": "display_data"
    },
    {
     "data": {
      "application/javascript": [
       "\n",
       "            setTimeout(function() {\n",
       "                var nbb_cell_id = 16;\n",
       "                var nbb_unformatted_code = \"sgd = SGD(learning_rate=0.01)\";\n",
       "                var nbb_formatted_code = \"sgd = SGD(learning_rate=0.01)\";\n",
       "                var nbb_cells = Jupyter.notebook.get_cells();\n",
       "                for (var i = 0; i < nbb_cells.length; ++i) {\n",
       "                    if (nbb_cells[i].input_prompt_number == nbb_cell_id) {\n",
       "                        if (nbb_cells[i].get_text() == nbb_unformatted_code) {\n",
       "                             nbb_cells[i].set_text(nbb_formatted_code);\n",
       "                        }\n",
       "                        break;\n",
       "                    }\n",
       "                }\n",
       "            }, 500);\n",
       "            "
      ],
      "text/plain": [
       "<IPython.core.display.Javascript object>"
      ]
     },
     "metadata": {},
     "output_type": "display_data"
    }
   ],
   "source": [
    "sgd = SGD(learning_rate=0.01)"
   ]
  },
  {
   "cell_type": "code",
   "execution_count": 17,
   "metadata": {},
   "outputs": [
    {
     "data": {
      "application/javascript": [
       "\n",
       "            setTimeout(function() {\n",
       "                var nbb_cell_id = 17;\n",
       "                var nbb_unformatted_code = \"model4 = Sequential()\\nmodel4.add(Dense(128, input_dim=X_train.shape[1], activation=\\\"relu\\\"))\\nmodel4.add(Dense(64, activation=\\\"relu\\\"))\\nmodel4.add(Dense(10, activation=\\\"softmax\\\"))\";\n",
       "                var nbb_formatted_code = \"model4 = Sequential()\\nmodel4.add(Dense(128, input_dim=X_train.shape[1], activation=\\\"relu\\\"))\\nmodel4.add(Dense(64, activation=\\\"relu\\\"))\\nmodel4.add(Dense(10, activation=\\\"softmax\\\"))\";\n",
       "                var nbb_cells = Jupyter.notebook.get_cells();\n",
       "                for (var i = 0; i < nbb_cells.length; ++i) {\n",
       "                    if (nbb_cells[i].input_prompt_number == nbb_cell_id) {\n",
       "                        if (nbb_cells[i].get_text() == nbb_unformatted_code) {\n",
       "                             nbb_cells[i].set_text(nbb_formatted_code);\n",
       "                        }\n",
       "                        break;\n",
       "                    }\n",
       "                }\n",
       "            }, 500);\n",
       "            "
      ],
      "text/plain": [
       "<IPython.core.display.Javascript object>"
      ]
     },
     "metadata": {},
     "output_type": "display_data"
    },
    {
     "data": {
      "application/javascript": [
       "\n",
       "            setTimeout(function() {\n",
       "                var nbb_cell_id = 17;\n",
       "                var nbb_unformatted_code = \"model4 = Sequential()\\nmodel4.add(Dense(128, input_dim=X_train.shape[1], activation=\\\"relu\\\"))\\nmodel4.add(Dense(64, activation=\\\"relu\\\"))\\nmodel4.add(Dense(10, activation=\\\"softmax\\\"))\";\n",
       "                var nbb_formatted_code = \"model4 = Sequential()\\nmodel4.add(Dense(128, input_dim=X_train.shape[1], activation=\\\"relu\\\"))\\nmodel4.add(Dense(64, activation=\\\"relu\\\"))\\nmodel4.add(Dense(10, activation=\\\"softmax\\\"))\";\n",
       "                var nbb_cells = Jupyter.notebook.get_cells();\n",
       "                for (var i = 0; i < nbb_cells.length; ++i) {\n",
       "                    if (nbb_cells[i].input_prompt_number == nbb_cell_id) {\n",
       "                        if (nbb_cells[i].get_text() == nbb_unformatted_code) {\n",
       "                             nbb_cells[i].set_text(nbb_formatted_code);\n",
       "                        }\n",
       "                        break;\n",
       "                    }\n",
       "                }\n",
       "            }, 500);\n",
       "            "
      ],
      "text/plain": [
       "<IPython.core.display.Javascript object>"
      ]
     },
     "metadata": {},
     "output_type": "display_data"
    }
   ],
   "source": [
    "model4 = Sequential()\n",
    "model4.add(Dense(128, input_dim=X_train.shape[1], activation=\"relu\"))\n",
    "model4.add(Dense(64, activation=\"relu\"))\n",
    "model4.add(Dense(10, activation=\"softmax\"))"
   ]
  },
  {
   "cell_type": "code",
   "execution_count": 21,
   "metadata": {},
   "outputs": [
    {
     "name": "stdout",
     "output_type": "stream",
     "text": [
      "Epoch 1/20\n",
      "469/469 [==============================] - 0s 906us/step - loss: 1.1872 - accuracy: 0.7154\n",
      "Epoch 2/20\n",
      "469/469 [==============================] - 0s 923us/step - loss: 0.5010 - accuracy: 0.8704\n",
      "Epoch 3/20\n",
      "469/469 [==============================] - 0s 944us/step - loss: 0.3905 - accuracy: 0.8921\n",
      "Epoch 4/20\n",
      "469/469 [==============================] - 0s 973us/step - loss: 0.3443 - accuracy: 0.9036\n",
      "Epoch 5/20\n",
      "469/469 [==============================] - 0s 957us/step - loss: 0.3165 - accuracy: 0.9106\n",
      "Epoch 6/20\n",
      "469/469 [==============================] - 0s 923us/step - loss: 0.2962 - accuracy: 0.9156\n",
      "Epoch 7/20\n",
      "469/469 [==============================] - 0s 1ms/step - loss: 0.2803 - accuracy: 0.9201\n",
      "Epoch 8/20\n",
      "469/469 [==============================] - 0s 931us/step - loss: 0.2669 - accuracy: 0.9238\n",
      "Epoch 9/20\n",
      "469/469 [==============================] - 0s 913us/step - loss: 0.2551 - accuracy: 0.9272\n",
      "Epoch 10/20\n",
      "469/469 [==============================] - 0s 951us/step - loss: 0.2445 - accuracy: 0.9306\n",
      "Epoch 11/20\n",
      "469/469 [==============================] - 0s 1ms/step - loss: 0.2349 - accuracy: 0.9324\n",
      "Epoch 12/20\n",
      "469/469 [==============================] - 0s 914us/step - loss: 0.2259 - accuracy: 0.9353\n",
      "Epoch 13/20\n",
      "469/469 [==============================] - 0s 902us/step - loss: 0.2176 - accuracy: 0.9380\n",
      "Epoch 14/20\n",
      "469/469 [==============================] - 0s 919us/step - loss: 0.2099 - accuracy: 0.9399\n",
      "Epoch 15/20\n",
      "469/469 [==============================] - 0s 937us/step - loss: 0.2026 - accuracy: 0.9423\n",
      "Epoch 16/20\n",
      "469/469 [==============================] - 0s 969us/step - loss: 0.1958 - accuracy: 0.9446\n",
      "Epoch 17/20\n",
      "469/469 [==============================] - 0s 908us/step - loss: 0.1894 - accuracy: 0.9459\n",
      "Epoch 18/20\n",
      "469/469 [==============================] - 0s 928us/step - loss: 0.1836 - accuracy: 0.9478\n",
      "Epoch 19/20\n",
      "469/469 [==============================] - 0s 950us/step - loss: 0.1780 - accuracy: 0.9492\n",
      "Epoch 20/20\n",
      "469/469 [==============================] - 0s 931us/step - loss: 0.1727 - accuracy: 0.9512\n"
     ]
    },
    {
     "data": {
      "text/plain": [
       "<tensorflow.python.keras.callbacks.History at 0x1739257a9c8>"
      ]
     },
     "execution_count": 21,
     "metadata": {},
     "output_type": "execute_result"
    },
    {
     "data": {
      "application/javascript": [
       "\n",
       "            setTimeout(function() {\n",
       "                var nbb_cell_id = 21;\n",
       "                var nbb_unformatted_code = \"model4.compile(optimizer=\\\"sgd\\\", loss=\\\"categorical_crossentropy\\\", metrics=[\\\"accuracy\\\"])\\nmodel4.fit(X_train, y_train, batch_size=128, epochs=20, verbose=1)\";\n",
       "                var nbb_formatted_code = \"model4.compile(optimizer=\\\"sgd\\\", loss=\\\"categorical_crossentropy\\\", metrics=[\\\"accuracy\\\"])\\nmodel4.fit(X_train, y_train, batch_size=128, epochs=20, verbose=1)\";\n",
       "                var nbb_cells = Jupyter.notebook.get_cells();\n",
       "                for (var i = 0; i < nbb_cells.length; ++i) {\n",
       "                    if (nbb_cells[i].input_prompt_number == nbb_cell_id) {\n",
       "                        if (nbb_cells[i].get_text() == nbb_unformatted_code) {\n",
       "                             nbb_cells[i].set_text(nbb_formatted_code);\n",
       "                        }\n",
       "                        break;\n",
       "                    }\n",
       "                }\n",
       "            }, 500);\n",
       "            "
      ],
      "text/plain": [
       "<IPython.core.display.Javascript object>"
      ]
     },
     "metadata": {},
     "output_type": "display_data"
    },
    {
     "data": {
      "application/javascript": [
       "\n",
       "            setTimeout(function() {\n",
       "                var nbb_cell_id = 21;\n",
       "                var nbb_unformatted_code = \"model4.compile(optimizer=\\\"sgd\\\", loss=\\\"categorical_crossentropy\\\", metrics=[\\\"accuracy\\\"])\\nmodel4.fit(X_train, y_train, batch_size=128, epochs=20, verbose=1)\";\n",
       "                var nbb_formatted_code = \"model4.compile(optimizer=\\\"sgd\\\", loss=\\\"categorical_crossentropy\\\", metrics=[\\\"accuracy\\\"])\\nmodel4.fit(X_train, y_train, batch_size=128, epochs=20, verbose=1)\";\n",
       "                var nbb_cells = Jupyter.notebook.get_cells();\n",
       "                for (var i = 0; i < nbb_cells.length; ++i) {\n",
       "                    if (nbb_cells[i].input_prompt_number == nbb_cell_id) {\n",
       "                        if (nbb_cells[i].get_text() == nbb_unformatted_code) {\n",
       "                             nbb_cells[i].set_text(nbb_formatted_code);\n",
       "                        }\n",
       "                        break;\n",
       "                    }\n",
       "                }\n",
       "            }, 500);\n",
       "            "
      ],
      "text/plain": [
       "<IPython.core.display.Javascript object>"
      ]
     },
     "metadata": {},
     "output_type": "display_data"
    }
   ],
   "source": [
    "model4.compile(optimizer=\"sgd\", loss=\"categorical_crossentropy\", metrics=[\"accuracy\"])\n",
    "model4.fit(X_train, y_train, batch_size=128, epochs=20, verbose=1)"
   ]
  },
  {
   "cell_type": "code",
   "execution_count": 23,
   "metadata": {},
   "outputs": [
    {
     "name": "stdout",
     "output_type": "stream",
     "text": [
      "Test score: 0.1734960824251175\n",
      "Test accuracy: 0.9505000114440918\n"
     ]
    },
    {
     "data": {
      "application/javascript": [
       "\n",
       "            setTimeout(function() {\n",
       "                var nbb_cell_id = 23;\n",
       "                var nbb_unformatted_code = \"score = model4.evaluate(X_test, y_test, verbose=0)\\nprint(\\\"Test score:\\\", score[0])\\nprint(\\\"Test accuracy:\\\", score[1])\";\n",
       "                var nbb_formatted_code = \"score = model4.evaluate(X_test, y_test, verbose=0)\\nprint(\\\"Test score:\\\", score[0])\\nprint(\\\"Test accuracy:\\\", score[1])\";\n",
       "                var nbb_cells = Jupyter.notebook.get_cells();\n",
       "                for (var i = 0; i < nbb_cells.length; ++i) {\n",
       "                    if (nbb_cells[i].input_prompt_number == nbb_cell_id) {\n",
       "                        if (nbb_cells[i].get_text() == nbb_unformatted_code) {\n",
       "                             nbb_cells[i].set_text(nbb_formatted_code);\n",
       "                        }\n",
       "                        break;\n",
       "                    }\n",
       "                }\n",
       "            }, 500);\n",
       "            "
      ],
      "text/plain": [
       "<IPython.core.display.Javascript object>"
      ]
     },
     "metadata": {},
     "output_type": "display_data"
    },
    {
     "data": {
      "application/javascript": [
       "\n",
       "            setTimeout(function() {\n",
       "                var nbb_cell_id = 23;\n",
       "                var nbb_unformatted_code = \"score = model4.evaluate(X_test, y_test, verbose=0)\\nprint(\\\"Test score:\\\", score[0])\\nprint(\\\"Test accuracy:\\\", score[1])\";\n",
       "                var nbb_formatted_code = \"score = model4.evaluate(X_test, y_test, verbose=0)\\nprint(\\\"Test score:\\\", score[0])\\nprint(\\\"Test accuracy:\\\", score[1])\";\n",
       "                var nbb_cells = Jupyter.notebook.get_cells();\n",
       "                for (var i = 0; i < nbb_cells.length; ++i) {\n",
       "                    if (nbb_cells[i].input_prompt_number == nbb_cell_id) {\n",
       "                        if (nbb_cells[i].get_text() == nbb_unformatted_code) {\n",
       "                             nbb_cells[i].set_text(nbb_formatted_code);\n",
       "                        }\n",
       "                        break;\n",
       "                    }\n",
       "                }\n",
       "            }, 500);\n",
       "            "
      ],
      "text/plain": [
       "<IPython.core.display.Javascript object>"
      ]
     },
     "metadata": {},
     "output_type": "display_data"
    }
   ],
   "source": [
    "score = model4.evaluate(X_test, y_test, verbose=0)\n",
    "print(\"Test score:\", score[0])\n",
    "print(\"Test accuracy:\", score[1])"
   ]
  },
  {
   "cell_type": "markdown",
   "metadata": {},
   "source": [
    "### Implement a three-layer ANN model with 128, 64, and 10 neurons in the layers. Use 100 as the learning rate."
   ]
  },
  {
   "cell_type": "code",
   "execution_count": 19,
   "metadata": {},
   "outputs": [
    {
     "data": {
      "application/javascript": [
       "\n",
       "            setTimeout(function() {\n",
       "                var nbb_cell_id = 19;\n",
       "                var nbb_unformatted_code = \"sgd = SGD(learning_rate=100)\";\n",
       "                var nbb_formatted_code = \"sgd = SGD(learning_rate=100)\";\n",
       "                var nbb_cells = Jupyter.notebook.get_cells();\n",
       "                for (var i = 0; i < nbb_cells.length; ++i) {\n",
       "                    if (nbb_cells[i].input_prompt_number == nbb_cell_id) {\n",
       "                        if (nbb_cells[i].get_text() == nbb_unformatted_code) {\n",
       "                             nbb_cells[i].set_text(nbb_formatted_code);\n",
       "                        }\n",
       "                        break;\n",
       "                    }\n",
       "                }\n",
       "            }, 500);\n",
       "            "
      ],
      "text/plain": [
       "<IPython.core.display.Javascript object>"
      ]
     },
     "metadata": {},
     "output_type": "display_data"
    },
    {
     "data": {
      "application/javascript": [
       "\n",
       "            setTimeout(function() {\n",
       "                var nbb_cell_id = 19;\n",
       "                var nbb_unformatted_code = \"sgd = SGD(learning_rate=100)\";\n",
       "                var nbb_formatted_code = \"sgd = SGD(learning_rate=100)\";\n",
       "                var nbb_cells = Jupyter.notebook.get_cells();\n",
       "                for (var i = 0; i < nbb_cells.length; ++i) {\n",
       "                    if (nbb_cells[i].input_prompt_number == nbb_cell_id) {\n",
       "                        if (nbb_cells[i].get_text() == nbb_unformatted_code) {\n",
       "                             nbb_cells[i].set_text(nbb_formatted_code);\n",
       "                        }\n",
       "                        break;\n",
       "                    }\n",
       "                }\n",
       "            }, 500);\n",
       "            "
      ],
      "text/plain": [
       "<IPython.core.display.Javascript object>"
      ]
     },
     "metadata": {},
     "output_type": "display_data"
    }
   ],
   "source": [
    "sgd = SGD(learning_rate=100)"
   ]
  },
  {
   "cell_type": "code",
   "execution_count": 20,
   "metadata": {},
   "outputs": [
    {
     "data": {
      "application/javascript": [
       "\n",
       "            setTimeout(function() {\n",
       "                var nbb_cell_id = 20;\n",
       "                var nbb_unformatted_code = \"model5 = Sequential()\\nmodel5.add(Dense(128, input_dim=X_train.shape[1], activation=\\\"relu\\\"))\\nmodel5.add(Dense(64, activation=\\\"relu\\\"))\\nmodel5.add(Dense(10, activation=\\\"softmax\\\"))\";\n",
       "                var nbb_formatted_code = \"model5 = Sequential()\\nmodel5.add(Dense(128, input_dim=X_train.shape[1], activation=\\\"relu\\\"))\\nmodel5.add(Dense(64, activation=\\\"relu\\\"))\\nmodel5.add(Dense(10, activation=\\\"softmax\\\"))\";\n",
       "                var nbb_cells = Jupyter.notebook.get_cells();\n",
       "                for (var i = 0; i < nbb_cells.length; ++i) {\n",
       "                    if (nbb_cells[i].input_prompt_number == nbb_cell_id) {\n",
       "                        if (nbb_cells[i].get_text() == nbb_unformatted_code) {\n",
       "                             nbb_cells[i].set_text(nbb_formatted_code);\n",
       "                        }\n",
       "                        break;\n",
       "                    }\n",
       "                }\n",
       "            }, 500);\n",
       "            "
      ],
      "text/plain": [
       "<IPython.core.display.Javascript object>"
      ]
     },
     "metadata": {},
     "output_type": "display_data"
    },
    {
     "data": {
      "application/javascript": [
       "\n",
       "            setTimeout(function() {\n",
       "                var nbb_cell_id = 20;\n",
       "                var nbb_unformatted_code = \"model5 = Sequential()\\nmodel5.add(Dense(128, input_dim=X_train.shape[1], activation=\\\"relu\\\"))\\nmodel5.add(Dense(64, activation=\\\"relu\\\"))\\nmodel5.add(Dense(10, activation=\\\"softmax\\\"))\";\n",
       "                var nbb_formatted_code = \"model5 = Sequential()\\nmodel5.add(Dense(128, input_dim=X_train.shape[1], activation=\\\"relu\\\"))\\nmodel5.add(Dense(64, activation=\\\"relu\\\"))\\nmodel5.add(Dense(10, activation=\\\"softmax\\\"))\";\n",
       "                var nbb_cells = Jupyter.notebook.get_cells();\n",
       "                for (var i = 0; i < nbb_cells.length; ++i) {\n",
       "                    if (nbb_cells[i].input_prompt_number == nbb_cell_id) {\n",
       "                        if (nbb_cells[i].get_text() == nbb_unformatted_code) {\n",
       "                             nbb_cells[i].set_text(nbb_formatted_code);\n",
       "                        }\n",
       "                        break;\n",
       "                    }\n",
       "                }\n",
       "            }, 500);\n",
       "            "
      ],
      "text/plain": [
       "<IPython.core.display.Javascript object>"
      ]
     },
     "metadata": {},
     "output_type": "display_data"
    }
   ],
   "source": [
    "model5 = Sequential()\n",
    "model5.add(Dense(128, input_dim=X_train.shape[1], activation=\"relu\"))\n",
    "model5.add(Dense(64, activation=\"relu\"))\n",
    "model5.add(Dense(10, activation=\"softmax\"))"
   ]
  },
  {
   "cell_type": "code",
   "execution_count": 22,
   "metadata": {},
   "outputs": [
    {
     "name": "stdout",
     "output_type": "stream",
     "text": [
      "Epoch 1/20\n",
      "469/469 [==============================] - 0s 843us/step - loss: 1.2745 - accuracy: 0.6748\n",
      "Epoch 2/20\n",
      "469/469 [==============================] - 0s 886us/step - loss: 0.5001 - accuracy: 0.8711\n",
      "Epoch 3/20\n",
      "469/469 [==============================] - 0s 874us/step - loss: 0.3920 - accuracy: 0.8924\n",
      "Epoch 4/20\n",
      "469/469 [==============================] - 0s 885us/step - loss: 0.3474 - accuracy: 0.9021\n",
      "Epoch 5/20\n",
      "469/469 [==============================] - ETA: 0s - loss: 0.3218 - accuracy: 0.90 - 0s 910us/step - loss: 0.3206 - accuracy: 0.9090\n",
      "Epoch 6/20\n",
      "469/469 [==============================] - 0s 878us/step - loss: 0.3008 - accuracy: 0.9144\n",
      "Epoch 7/20\n",
      "469/469 [==============================] - 0s 929us/step - loss: 0.2851 - accuracy: 0.9184\n",
      "Epoch 8/20\n",
      "469/469 [==============================] - 0s 842us/step - loss: 0.2712 - accuracy: 0.9236\n",
      "Epoch 9/20\n",
      "469/469 [==============================] - 0s 834us/step - loss: 0.2591 - accuracy: 0.9264\n",
      "Epoch 10/20\n",
      "469/469 [==============================] - 0s 863us/step - loss: 0.2478 - accuracy: 0.9301\n",
      "Epoch 11/20\n",
      "469/469 [==============================] - 0s 870us/step - loss: 0.2377 - accuracy: 0.9328\n",
      "Epoch 12/20\n",
      "469/469 [==============================] - 0s 851us/step - loss: 0.2282 - accuracy: 0.9356\n",
      "Epoch 13/20\n",
      "469/469 [==============================] - 0s 872us/step - loss: 0.2194 - accuracy: 0.9384\n",
      "Epoch 14/20\n",
      "469/469 [==============================] - 0s 913us/step - loss: 0.2113 - accuracy: 0.9402\n",
      "Epoch 15/20\n",
      "469/469 [==============================] - 0s 886us/step - loss: 0.2036 - accuracy: 0.9430\n",
      "Epoch 16/20\n",
      "469/469 [==============================] - 0s 1ms/step - loss: 0.1967 - accuracy: 0.9448\n",
      "Epoch 17/20\n",
      "469/469 [==============================] - 0s 979us/step - loss: 0.1901 - accuracy: 0.9469\n",
      "Epoch 18/20\n",
      "469/469 [==============================] - 0s 910us/step - loss: 0.1838 - accuracy: 0.9482\n",
      "Epoch 19/20\n",
      "469/469 [==============================] - 0s 865us/step - loss: 0.1783 - accuracy: 0.9497\n",
      "Epoch 20/20\n",
      "469/469 [==============================] - 0s 930us/step - loss: 0.1727 - accuracy: 0.9517\n"
     ]
    },
    {
     "data": {
      "text/plain": [
       "<tensorflow.python.keras.callbacks.History at 0x173fef6d508>"
      ]
     },
     "execution_count": 22,
     "metadata": {},
     "output_type": "execute_result"
    },
    {
     "data": {
      "application/javascript": [
       "\n",
       "            setTimeout(function() {\n",
       "                var nbb_cell_id = 22;\n",
       "                var nbb_unformatted_code = \"model5.compile(optimizer=\\\"sgd\\\", loss=\\\"categorical_crossentropy\\\", metrics=[\\\"accuracy\\\"])\\nmodel5.fit(X_train, y_train, batch_size=128, epochs=20, verbose=1)\";\n",
       "                var nbb_formatted_code = \"model5.compile(optimizer=\\\"sgd\\\", loss=\\\"categorical_crossentropy\\\", metrics=[\\\"accuracy\\\"])\\nmodel5.fit(X_train, y_train, batch_size=128, epochs=20, verbose=1)\";\n",
       "                var nbb_cells = Jupyter.notebook.get_cells();\n",
       "                for (var i = 0; i < nbb_cells.length; ++i) {\n",
       "                    if (nbb_cells[i].input_prompt_number == nbb_cell_id) {\n",
       "                        if (nbb_cells[i].get_text() == nbb_unformatted_code) {\n",
       "                             nbb_cells[i].set_text(nbb_formatted_code);\n",
       "                        }\n",
       "                        break;\n",
       "                    }\n",
       "                }\n",
       "            }, 500);\n",
       "            "
      ],
      "text/plain": [
       "<IPython.core.display.Javascript object>"
      ]
     },
     "metadata": {},
     "output_type": "display_data"
    },
    {
     "data": {
      "application/javascript": [
       "\n",
       "            setTimeout(function() {\n",
       "                var nbb_cell_id = 22;\n",
       "                var nbb_unformatted_code = \"model5.compile(optimizer=\\\"sgd\\\", loss=\\\"categorical_crossentropy\\\", metrics=[\\\"accuracy\\\"])\\nmodel5.fit(X_train, y_train, batch_size=128, epochs=20, verbose=1)\";\n",
       "                var nbb_formatted_code = \"model5.compile(optimizer=\\\"sgd\\\", loss=\\\"categorical_crossentropy\\\", metrics=[\\\"accuracy\\\"])\\nmodel5.fit(X_train, y_train, batch_size=128, epochs=20, verbose=1)\";\n",
       "                var nbb_cells = Jupyter.notebook.get_cells();\n",
       "                for (var i = 0; i < nbb_cells.length; ++i) {\n",
       "                    if (nbb_cells[i].input_prompt_number == nbb_cell_id) {\n",
       "                        if (nbb_cells[i].get_text() == nbb_unformatted_code) {\n",
       "                             nbb_cells[i].set_text(nbb_formatted_code);\n",
       "                        }\n",
       "                        break;\n",
       "                    }\n",
       "                }\n",
       "            }, 500);\n",
       "            "
      ],
      "text/plain": [
       "<IPython.core.display.Javascript object>"
      ]
     },
     "metadata": {},
     "output_type": "display_data"
    }
   ],
   "source": [
    "model5.compile(optimizer=\"sgd\", loss=\"categorical_crossentropy\", metrics=[\"accuracy\"])\n",
    "model5.fit(X_train, y_train, batch_size=128, epochs=20, verbose=1)"
   ]
  },
  {
   "cell_type": "code",
   "execution_count": 24,
   "metadata": {},
   "outputs": [
    {
     "name": "stdout",
     "output_type": "stream",
     "text": [
      "Test score: 0.1700868457555771\n",
      "Test accuracy: 0.9520000219345093\n"
     ]
    },
    {
     "data": {
      "application/javascript": [
       "\n",
       "            setTimeout(function() {\n",
       "                var nbb_cell_id = 24;\n",
       "                var nbb_unformatted_code = \"score = model5.evaluate(X_test, y_test, verbose=0)\\nprint(\\\"Test score:\\\", score[0])\\nprint(\\\"Test accuracy:\\\", score[1])\";\n",
       "                var nbb_formatted_code = \"score = model5.evaluate(X_test, y_test, verbose=0)\\nprint(\\\"Test score:\\\", score[0])\\nprint(\\\"Test accuracy:\\\", score[1])\";\n",
       "                var nbb_cells = Jupyter.notebook.get_cells();\n",
       "                for (var i = 0; i < nbb_cells.length; ++i) {\n",
       "                    if (nbb_cells[i].input_prompt_number == nbb_cell_id) {\n",
       "                        if (nbb_cells[i].get_text() == nbb_unformatted_code) {\n",
       "                             nbb_cells[i].set_text(nbb_formatted_code);\n",
       "                        }\n",
       "                        break;\n",
       "                    }\n",
       "                }\n",
       "            }, 500);\n",
       "            "
      ],
      "text/plain": [
       "<IPython.core.display.Javascript object>"
      ]
     },
     "metadata": {},
     "output_type": "display_data"
    },
    {
     "data": {
      "application/javascript": [
       "\n",
       "            setTimeout(function() {\n",
       "                var nbb_cell_id = 24;\n",
       "                var nbb_unformatted_code = \"score = model5.evaluate(X_test, y_test, verbose=0)\\nprint(\\\"Test score:\\\", score[0])\\nprint(\\\"Test accuracy:\\\", score[1])\";\n",
       "                var nbb_formatted_code = \"score = model5.evaluate(X_test, y_test, verbose=0)\\nprint(\\\"Test score:\\\", score[0])\\nprint(\\\"Test accuracy:\\\", score[1])\";\n",
       "                var nbb_cells = Jupyter.notebook.get_cells();\n",
       "                for (var i = 0; i < nbb_cells.length; ++i) {\n",
       "                    if (nbb_cells[i].input_prompt_number == nbb_cell_id) {\n",
       "                        if (nbb_cells[i].get_text() == nbb_unformatted_code) {\n",
       "                             nbb_cells[i].set_text(nbb_formatted_code);\n",
       "                        }\n",
       "                        break;\n",
       "                    }\n",
       "                }\n",
       "            }, 500);\n",
       "            "
      ],
      "text/plain": [
       "<IPython.core.display.Javascript object>"
      ]
     },
     "metadata": {},
     "output_type": "display_data"
    }
   ],
   "source": [
    "score = model5.evaluate(X_test, y_test, verbose=0)\n",
    "print(\"Test score:\", score[0])\n",
    "print(\"Test accuracy:\", score[1])"
   ]
  },
  {
   "cell_type": "markdown",
   "metadata": {},
   "source": [
    "### Implement a three-layer ANN model with 128, 64, and 10 neurons in the layers. Use 0.0000001 as the learning rate."
   ]
  },
  {
   "cell_type": "code",
   "execution_count": 25,
   "metadata": {},
   "outputs": [
    {
     "data": {
      "application/javascript": [
       "\n",
       "            setTimeout(function() {\n",
       "                var nbb_cell_id = 25;\n",
       "                var nbb_unformatted_code = \"sgd = SGD(learning_rate=0.0000001)\";\n",
       "                var nbb_formatted_code = \"sgd = SGD(learning_rate=0.0000001)\";\n",
       "                var nbb_cells = Jupyter.notebook.get_cells();\n",
       "                for (var i = 0; i < nbb_cells.length; ++i) {\n",
       "                    if (nbb_cells[i].input_prompt_number == nbb_cell_id) {\n",
       "                        if (nbb_cells[i].get_text() == nbb_unformatted_code) {\n",
       "                             nbb_cells[i].set_text(nbb_formatted_code);\n",
       "                        }\n",
       "                        break;\n",
       "                    }\n",
       "                }\n",
       "            }, 500);\n",
       "            "
      ],
      "text/plain": [
       "<IPython.core.display.Javascript object>"
      ]
     },
     "metadata": {},
     "output_type": "display_data"
    },
    {
     "data": {
      "application/javascript": [
       "\n",
       "            setTimeout(function() {\n",
       "                var nbb_cell_id = 25;\n",
       "                var nbb_unformatted_code = \"sgd = SGD(learning_rate=0.0000001)\";\n",
       "                var nbb_formatted_code = \"sgd = SGD(learning_rate=0.0000001)\";\n",
       "                var nbb_cells = Jupyter.notebook.get_cells();\n",
       "                for (var i = 0; i < nbb_cells.length; ++i) {\n",
       "                    if (nbb_cells[i].input_prompt_number == nbb_cell_id) {\n",
       "                        if (nbb_cells[i].get_text() == nbb_unformatted_code) {\n",
       "                             nbb_cells[i].set_text(nbb_formatted_code);\n",
       "                        }\n",
       "                        break;\n",
       "                    }\n",
       "                }\n",
       "            }, 500);\n",
       "            "
      ],
      "text/plain": [
       "<IPython.core.display.Javascript object>"
      ]
     },
     "metadata": {},
     "output_type": "display_data"
    }
   ],
   "source": [
    "sgd = SGD(learning_rate=0.0000001)"
   ]
  },
  {
   "cell_type": "code",
   "execution_count": 26,
   "metadata": {},
   "outputs": [
    {
     "data": {
      "application/javascript": [
       "\n",
       "            setTimeout(function() {\n",
       "                var nbb_cell_id = 26;\n",
       "                var nbb_unformatted_code = \"model6 = Sequential()\\nmodel6.add(Dense(128, input_dim=X_train.shape[1], activation=\\\"relu\\\"))\\nmodel6.add(Dense(64, activation=\\\"relu\\\"))\\nmodel6.add(Dense(10, activation=\\\"softmax\\\"))\";\n",
       "                var nbb_formatted_code = \"model6 = Sequential()\\nmodel6.add(Dense(128, input_dim=X_train.shape[1], activation=\\\"relu\\\"))\\nmodel6.add(Dense(64, activation=\\\"relu\\\"))\\nmodel6.add(Dense(10, activation=\\\"softmax\\\"))\";\n",
       "                var nbb_cells = Jupyter.notebook.get_cells();\n",
       "                for (var i = 0; i < nbb_cells.length; ++i) {\n",
       "                    if (nbb_cells[i].input_prompt_number == nbb_cell_id) {\n",
       "                        if (nbb_cells[i].get_text() == nbb_unformatted_code) {\n",
       "                             nbb_cells[i].set_text(nbb_formatted_code);\n",
       "                        }\n",
       "                        break;\n",
       "                    }\n",
       "                }\n",
       "            }, 500);\n",
       "            "
      ],
      "text/plain": [
       "<IPython.core.display.Javascript object>"
      ]
     },
     "metadata": {},
     "output_type": "display_data"
    },
    {
     "data": {
      "application/javascript": [
       "\n",
       "            setTimeout(function() {\n",
       "                var nbb_cell_id = 26;\n",
       "                var nbb_unformatted_code = \"model6 = Sequential()\\nmodel6.add(Dense(128, input_dim=X_train.shape[1], activation=\\\"relu\\\"))\\nmodel6.add(Dense(64, activation=\\\"relu\\\"))\\nmodel6.add(Dense(10, activation=\\\"softmax\\\"))\";\n",
       "                var nbb_formatted_code = \"model6 = Sequential()\\nmodel6.add(Dense(128, input_dim=X_train.shape[1], activation=\\\"relu\\\"))\\nmodel6.add(Dense(64, activation=\\\"relu\\\"))\\nmodel6.add(Dense(10, activation=\\\"softmax\\\"))\";\n",
       "                var nbb_cells = Jupyter.notebook.get_cells();\n",
       "                for (var i = 0; i < nbb_cells.length; ++i) {\n",
       "                    if (nbb_cells[i].input_prompt_number == nbb_cell_id) {\n",
       "                        if (nbb_cells[i].get_text() == nbb_unformatted_code) {\n",
       "                             nbb_cells[i].set_text(nbb_formatted_code);\n",
       "                        }\n",
       "                        break;\n",
       "                    }\n",
       "                }\n",
       "            }, 500);\n",
       "            "
      ],
      "text/plain": [
       "<IPython.core.display.Javascript object>"
      ]
     },
     "metadata": {},
     "output_type": "display_data"
    }
   ],
   "source": [
    "model6 = Sequential()\n",
    "model6.add(Dense(128, input_dim=X_train.shape[1], activation=\"relu\"))\n",
    "model6.add(Dense(64, activation=\"relu\"))\n",
    "model6.add(Dense(10, activation=\"softmax\"))"
   ]
  },
  {
   "cell_type": "code",
   "execution_count": 27,
   "metadata": {},
   "outputs": [
    {
     "name": "stdout",
     "output_type": "stream",
     "text": [
      "Epoch 1/20\n",
      "469/469 [==============================] - 0s 974us/step - loss: 1.3067 - accuracy: 0.6492\n",
      "Epoch 2/20\n",
      "469/469 [==============================] - 0s 955us/step - loss: 0.5262 - accuracy: 0.8614\n",
      "Epoch 3/20\n",
      "469/469 [==============================] - 1s 1ms/step - loss: 0.4059 - accuracy: 0.8873\n",
      "Epoch 4/20\n",
      "469/469 [==============================] - 0s 1ms/step - loss: 0.3558 - accuracy: 0.8993\n",
      "Epoch 5/20\n",
      "469/469 [==============================] - 1s 1ms/step - loss: 0.3254 - accuracy: 0.9077\n",
      "Epoch 6/20\n",
      "469/469 [==============================] - 0s 1ms/step - loss: 0.3034 - accuracy: 0.9129\n",
      "Epoch 7/20\n",
      "469/469 [==============================] - 1s 1ms/step - loss: 0.2858 - accuracy: 0.9180\n",
      "Epoch 8/20\n",
      "469/469 [==============================] - 0s 1ms/step - loss: 0.2711 - accuracy: 0.9224\n",
      "Epoch 9/20\n",
      "469/469 [==============================] - 0s 997us/step - loss: 0.2582 - accuracy: 0.9262\n",
      "Epoch 10/20\n",
      "469/469 [==============================] - 0s 963us/step - loss: 0.2465 - accuracy: 0.9292\n",
      "Epoch 11/20\n",
      "469/469 [==============================] - 0s 989us/step - loss: 0.2365 - accuracy: 0.9324\n",
      "Epoch 12/20\n",
      "469/469 [==============================] - 1s 1ms/step - loss: 0.2267 - accuracy: 0.9352\n",
      "Epoch 13/20\n",
      "469/469 [==============================] - 0s 931us/step - loss: 0.2183 - accuracy: 0.9372\n",
      "Epoch 14/20\n",
      "469/469 [==============================] - 0s 985us/step - loss: 0.2106 - accuracy: 0.9400\n",
      "Epoch 15/20\n",
      "469/469 [==============================] - 0s 963us/step - loss: 0.2032 - accuracy: 0.9413\n",
      "Epoch 16/20\n",
      "469/469 [==============================] - 0s 972us/step - loss: 0.1964 - accuracy: 0.9441\n",
      "Epoch 17/20\n",
      "469/469 [==============================] - 0s 912us/step - loss: 0.1901 - accuracy: 0.9456\n",
      "Epoch 18/20\n",
      "469/469 [==============================] - 0s 938us/step - loss: 0.1841 - accuracy: 0.94710s - loss: 0.1718 - \n",
      "Epoch 19/20\n",
      "469/469 [==============================] - 0s 929us/step - loss: 0.1786 - accuracy: 0.9486\n",
      "Epoch 20/20\n",
      "469/469 [==============================] - 0s 957us/step - loss: 0.1733 - accuracy: 0.9499\n"
     ]
    },
    {
     "data": {
      "text/plain": [
       "<tensorflow.python.keras.callbacks.History at 0x173936c63c8>"
      ]
     },
     "execution_count": 27,
     "metadata": {},
     "output_type": "execute_result"
    },
    {
     "data": {
      "application/javascript": [
       "\n",
       "            setTimeout(function() {\n",
       "                var nbb_cell_id = 27;\n",
       "                var nbb_unformatted_code = \"model6.compile(optimizer=\\\"sgd\\\", loss=\\\"categorical_crossentropy\\\", metrics=[\\\"accuracy\\\"])\\nmodel6.fit(X_train, y_train, batch_size=128, epochs=20, verbose=1)\";\n",
       "                var nbb_formatted_code = \"model6.compile(optimizer=\\\"sgd\\\", loss=\\\"categorical_crossentropy\\\", metrics=[\\\"accuracy\\\"])\\nmodel6.fit(X_train, y_train, batch_size=128, epochs=20, verbose=1)\";\n",
       "                var nbb_cells = Jupyter.notebook.get_cells();\n",
       "                for (var i = 0; i < nbb_cells.length; ++i) {\n",
       "                    if (nbb_cells[i].input_prompt_number == nbb_cell_id) {\n",
       "                        if (nbb_cells[i].get_text() == nbb_unformatted_code) {\n",
       "                             nbb_cells[i].set_text(nbb_formatted_code);\n",
       "                        }\n",
       "                        break;\n",
       "                    }\n",
       "                }\n",
       "            }, 500);\n",
       "            "
      ],
      "text/plain": [
       "<IPython.core.display.Javascript object>"
      ]
     },
     "metadata": {},
     "output_type": "display_data"
    },
    {
     "data": {
      "application/javascript": [
       "\n",
       "            setTimeout(function() {\n",
       "                var nbb_cell_id = 27;\n",
       "                var nbb_unformatted_code = \"model6.compile(optimizer=\\\"sgd\\\", loss=\\\"categorical_crossentropy\\\", metrics=[\\\"accuracy\\\"])\\nmodel6.fit(X_train, y_train, batch_size=128, epochs=20, verbose=1)\";\n",
       "                var nbb_formatted_code = \"model6.compile(optimizer=\\\"sgd\\\", loss=\\\"categorical_crossentropy\\\", metrics=[\\\"accuracy\\\"])\\nmodel6.fit(X_train, y_train, batch_size=128, epochs=20, verbose=1)\";\n",
       "                var nbb_cells = Jupyter.notebook.get_cells();\n",
       "                for (var i = 0; i < nbb_cells.length; ++i) {\n",
       "                    if (nbb_cells[i].input_prompt_number == nbb_cell_id) {\n",
       "                        if (nbb_cells[i].get_text() == nbb_unformatted_code) {\n",
       "                             nbb_cells[i].set_text(nbb_formatted_code);\n",
       "                        }\n",
       "                        break;\n",
       "                    }\n",
       "                }\n",
       "            }, 500);\n",
       "            "
      ],
      "text/plain": [
       "<IPython.core.display.Javascript object>"
      ]
     },
     "metadata": {},
     "output_type": "display_data"
    }
   ],
   "source": [
    "model6.compile(optimizer=\"sgd\", loss=\"categorical_crossentropy\", metrics=[\"accuracy\"])\n",
    "model6.fit(X_train, y_train, batch_size=128, epochs=20, verbose=1)"
   ]
  },
  {
   "cell_type": "code",
   "execution_count": 28,
   "metadata": {},
   "outputs": [
    {
     "name": "stdout",
     "output_type": "stream",
     "text": [
      "Test score: 0.17192062735557556\n",
      "Test accuracy: 0.949999988079071\n"
     ]
    },
    {
     "data": {
      "application/javascript": [
       "\n",
       "            setTimeout(function() {\n",
       "                var nbb_cell_id = 28;\n",
       "                var nbb_unformatted_code = \"score = model6.evaluate(X_test, y_test, verbose=0)\\nprint(\\\"Test score:\\\", score[0])\\nprint(\\\"Test accuracy:\\\", score[1])\";\n",
       "                var nbb_formatted_code = \"score = model6.evaluate(X_test, y_test, verbose=0)\\nprint(\\\"Test score:\\\", score[0])\\nprint(\\\"Test accuracy:\\\", score[1])\";\n",
       "                var nbb_cells = Jupyter.notebook.get_cells();\n",
       "                for (var i = 0; i < nbb_cells.length; ++i) {\n",
       "                    if (nbb_cells[i].input_prompt_number == nbb_cell_id) {\n",
       "                        if (nbb_cells[i].get_text() == nbb_unformatted_code) {\n",
       "                             nbb_cells[i].set_text(nbb_formatted_code);\n",
       "                        }\n",
       "                        break;\n",
       "                    }\n",
       "                }\n",
       "            }, 500);\n",
       "            "
      ],
      "text/plain": [
       "<IPython.core.display.Javascript object>"
      ]
     },
     "metadata": {},
     "output_type": "display_data"
    },
    {
     "data": {
      "application/javascript": [
       "\n",
       "            setTimeout(function() {\n",
       "                var nbb_cell_id = 28;\n",
       "                var nbb_unformatted_code = \"score = model6.evaluate(X_test, y_test, verbose=0)\\nprint(\\\"Test score:\\\", score[0])\\nprint(\\\"Test accuracy:\\\", score[1])\";\n",
       "                var nbb_formatted_code = \"score = model6.evaluate(X_test, y_test, verbose=0)\\nprint(\\\"Test score:\\\", score[0])\\nprint(\\\"Test accuracy:\\\", score[1])\";\n",
       "                var nbb_cells = Jupyter.notebook.get_cells();\n",
       "                for (var i = 0; i < nbb_cells.length; ++i) {\n",
       "                    if (nbb_cells[i].input_prompt_number == nbb_cell_id) {\n",
       "                        if (nbb_cells[i].get_text() == nbb_unformatted_code) {\n",
       "                             nbb_cells[i].set_text(nbb_formatted_code);\n",
       "                        }\n",
       "                        break;\n",
       "                    }\n",
       "                }\n",
       "            }, 500);\n",
       "            "
      ],
      "text/plain": [
       "<IPython.core.display.Javascript object>"
      ]
     },
     "metadata": {},
     "output_type": "display_data"
    }
   ],
   "source": [
    "score = model6.evaluate(X_test, y_test, verbose=0)\n",
    "print(\"Test score:\", score[0])\n",
    "print(\"Test accuracy:\", score[1])"
   ]
  },
  {
   "cell_type": "markdown",
   "metadata": {},
   "source": [
    "### Compare the results of each model. Which learning rate performed best?"
   ]
  },
  {
   "cell_type": "markdown",
   "metadata": {},
   "source": [
    "Each of the models' accuracy was very close to each other, however the model with a learning rate of 100 performed the best."
   ]
  }
 ],
 "metadata": {
  "kernelspec": {
   "display_name": "Python 3",
   "language": "python",
   "name": "python3"
  },
  "language_info": {
   "codemirror_mode": {
    "name": "ipython",
    "version": 3
   },
   "file_extension": ".py",
   "mimetype": "text/x-python",
   "name": "python",
   "nbconvert_exporter": "python",
   "pygments_lexer": "ipython3",
   "version": "3.7.6"
  }
 },
 "nbformat": 4,
 "nbformat_minor": 4
}
