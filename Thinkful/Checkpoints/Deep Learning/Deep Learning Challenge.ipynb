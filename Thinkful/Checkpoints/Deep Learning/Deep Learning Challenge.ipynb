{
 "cells": [
  {
   "cell_type": "code",
   "execution_count": 1,
   "metadata": {},
   "outputs": [
    {
     "data": {
      "application/javascript": [
       "\n",
       "            setTimeout(function() {\n",
       "                var nbb_cell_id = 1;\n",
       "                var nbb_unformatted_code = \"%reload_ext nb_black\\n\\nimport warnings\\n\\nwarnings.filterwarnings(\\\"ignore\\\")\\n\\nfrom tensorflow.keras.datasets import mnist\\nfrom tensorflow.keras.utils import to_categorical\\nfrom tensorflow.keras.models import Sequential\\nfrom tensorflow.keras.layers import Dense\\nfrom tensorflow.keras.optimizers import SGD\";\n",
       "                var nbb_formatted_code = \"%reload_ext nb_black\\n\\nimport warnings\\n\\nwarnings.filterwarnings(\\\"ignore\\\")\\n\\nfrom tensorflow.keras.datasets import mnist\\nfrom tensorflow.keras.utils import to_categorical\\nfrom tensorflow.keras.models import Sequential\\nfrom tensorflow.keras.layers import Dense\\nfrom tensorflow.keras.optimizers import SGD\";\n",
       "                var nbb_cells = Jupyter.notebook.get_cells();\n",
       "                for (var i = 0; i < nbb_cells.length; ++i) {\n",
       "                    if (nbb_cells[i].input_prompt_number == nbb_cell_id) {\n",
       "                        if (nbb_cells[i].get_text() == nbb_unformatted_code) {\n",
       "                             nbb_cells[i].set_text(nbb_formatted_code);\n",
       "                        }\n",
       "                        break;\n",
       "                    }\n",
       "                }\n",
       "            }, 500);\n",
       "            "
      ],
      "text/plain": [
       "<IPython.core.display.Javascript object>"
      ]
     },
     "metadata": {},
     "output_type": "display_data"
    }
   ],
   "source": [
    "%reload_ext nb_black\n",
    "\n",
    "import warnings\n",
    "\n",
    "warnings.filterwarnings(\"ignore\")\n",
    "\n",
    "from tensorflow.keras.datasets import mnist\n",
    "from tensorflow.keras.utils import to_categorical\n",
    "from tensorflow.keras.models import Sequential\n",
    "from tensorflow.keras.layers import Dense\n",
    "from tensorflow.keras.optimizers import SGD"
   ]
  },
  {
   "cell_type": "code",
   "execution_count": 2,
   "metadata": {},
   "outputs": [
    {
     "data": {
      "application/javascript": [
       "\n",
       "            setTimeout(function() {\n",
       "                var nbb_cell_id = 2;\n",
       "                var nbb_unformatted_code = \"(X_train, y_train), (X_test, y_test) = mnist.load_data()\\ninput_dim = 784  # 28*28\\noutput_dim = nb_classes = 10\\nbatch_size = 128\\nnb_epoch = 20\\n\\nX_train = X_train.reshape(60000, input_dim)\\nX_test = X_test.reshape(10000, input_dim)\\nX_train = X_train.astype(\\\"float32\\\")\\nX_test = X_test.astype(\\\"float32\\\")\\nX_train /= 255\\nX_test /= 255\\n\\ny_train = to_categorical(y_train, nb_classes)\\ny_test = to_categorical(y_test, nb_classes)\";\n",
       "                var nbb_formatted_code = \"(X_train, y_train), (X_test, y_test) = mnist.load_data()\\ninput_dim = 784  # 28*28\\noutput_dim = nb_classes = 10\\nbatch_size = 128\\nnb_epoch = 20\\n\\nX_train = X_train.reshape(60000, input_dim)\\nX_test = X_test.reshape(10000, input_dim)\\nX_train = X_train.astype(\\\"float32\\\")\\nX_test = X_test.astype(\\\"float32\\\")\\nX_train /= 255\\nX_test /= 255\\n\\ny_train = to_categorical(y_train, nb_classes)\\ny_test = to_categorical(y_test, nb_classes)\";\n",
       "                var nbb_cells = Jupyter.notebook.get_cells();\n",
       "                for (var i = 0; i < nbb_cells.length; ++i) {\n",
       "                    if (nbb_cells[i].input_prompt_number == nbb_cell_id) {\n",
       "                        if (nbb_cells[i].get_text() == nbb_unformatted_code) {\n",
       "                             nbb_cells[i].set_text(nbb_formatted_code);\n",
       "                        }\n",
       "                        break;\n",
       "                    }\n",
       "                }\n",
       "            }, 500);\n",
       "            "
      ],
      "text/plain": [
       "<IPython.core.display.Javascript object>"
      ]
     },
     "metadata": {},
     "output_type": "display_data"
    }
   ],
   "source": [
    "(X_train, y_train), (X_test, y_test) = mnist.load_data()\n",
    "input_dim = 784  # 28*28\n",
    "output_dim = nb_classes = 10\n",
    "batch_size = 128\n",
    "nb_epoch = 20\n",
    "\n",
    "X_train = X_train.reshape(60000, input_dim)\n",
    "X_test = X_test.reshape(10000, input_dim)\n",
    "X_train = X_train.astype(\"float32\")\n",
    "X_test = X_test.astype(\"float32\")\n",
    "X_train /= 255\n",
    "X_test /= 255\n",
    "\n",
    "y_train = to_categorical(y_train, nb_classes)\n",
    "y_test = to_categorical(y_test, nb_classes)"
   ]
  },
  {
   "cell_type": "markdown",
   "metadata": {},
   "source": [
    "# ReLU activation and SGD loss"
   ]
  },
  {
   "cell_type": "code",
   "execution_count": 3,
   "metadata": {},
   "outputs": [
    {
     "data": {
      "application/javascript": [
       "\n",
       "            setTimeout(function() {\n",
       "                var nbb_cell_id = 3;\n",
       "                var nbb_unformatted_code = \"# 3 Layers\\nmodel = Sequential()\\nmodel.add(Dense(128, input_dim=X_train.shape[1], activation=\\\"relu\\\"))\\nmodel.add(Dense(64, activation=\\\"relu\\\"))\\nmodel.add(Dense(10, activation=\\\"softmax\\\"))\";\n",
       "                var nbb_formatted_code = \"# 3 Layers\\nmodel = Sequential()\\nmodel.add(Dense(128, input_dim=X_train.shape[1], activation=\\\"relu\\\"))\\nmodel.add(Dense(64, activation=\\\"relu\\\"))\\nmodel.add(Dense(10, activation=\\\"softmax\\\"))\";\n",
       "                var nbb_cells = Jupyter.notebook.get_cells();\n",
       "                for (var i = 0; i < nbb_cells.length; ++i) {\n",
       "                    if (nbb_cells[i].input_prompt_number == nbb_cell_id) {\n",
       "                        if (nbb_cells[i].get_text() == nbb_unformatted_code) {\n",
       "                             nbb_cells[i].set_text(nbb_formatted_code);\n",
       "                        }\n",
       "                        break;\n",
       "                    }\n",
       "                }\n",
       "            }, 500);\n",
       "            "
      ],
      "text/plain": [
       "<IPython.core.display.Javascript object>"
      ]
     },
     "metadata": {},
     "output_type": "display_data"
    }
   ],
   "source": [
    "# 3 Layers\n",
    "model = Sequential()\n",
    "model.add(Dense(128, input_dim=X_train.shape[1], activation=\"relu\"))\n",
    "model.add(Dense(64, activation=\"relu\"))\n",
    "model.add(Dense(10, activation=\"softmax\"))"
   ]
  },
  {
   "cell_type": "code",
   "execution_count": 4,
   "metadata": {},
   "outputs": [
    {
     "data": {
      "application/javascript": [
       "\n",
       "            setTimeout(function() {\n",
       "                var nbb_cell_id = 4;\n",
       "                var nbb_unformatted_code = \"model.compile(optimizer=\\\"sgd\\\", loss=\\\"categorical_crossentropy\\\", metrics=[\\\"accuracy\\\"])\";\n",
       "                var nbb_formatted_code = \"model.compile(optimizer=\\\"sgd\\\", loss=\\\"categorical_crossentropy\\\", metrics=[\\\"accuracy\\\"])\";\n",
       "                var nbb_cells = Jupyter.notebook.get_cells();\n",
       "                for (var i = 0; i < nbb_cells.length; ++i) {\n",
       "                    if (nbb_cells[i].input_prompt_number == nbb_cell_id) {\n",
       "                        if (nbb_cells[i].get_text() == nbb_unformatted_code) {\n",
       "                             nbb_cells[i].set_text(nbb_formatted_code);\n",
       "                        }\n",
       "                        break;\n",
       "                    }\n",
       "                }\n",
       "            }, 500);\n",
       "            "
      ],
      "text/plain": [
       "<IPython.core.display.Javascript object>"
      ]
     },
     "metadata": {},
     "output_type": "display_data"
    }
   ],
   "source": [
    "model.compile(optimizer=\"sgd\", loss=\"categorical_crossentropy\", metrics=[\"accuracy\"])"
   ]
  },
  {
   "cell_type": "code",
   "execution_count": 5,
   "metadata": {},
   "outputs": [
    {
     "name": "stdout",
     "output_type": "stream",
     "text": [
      "Epoch 1/20\n",
      "469/469 [==============================] - 0s 951us/step - loss: 1.3270 - accuracy: 0.6621\n",
      "Epoch 2/20\n",
      "469/469 [==============================] - 0s 936us/step - loss: 0.5175 - accuracy: 0.8665\n",
      "Epoch 3/20\n",
      "469/469 [==============================] - 0s 846us/step - loss: 0.3921 - accuracy: 0.8908\n",
      "Epoch 4/20\n",
      "469/469 [==============================] - 0s 830us/step - loss: 0.3439 - accuracy: 0.9017\n",
      "Epoch 5/20\n",
      "469/469 [==============================] - 0s 825us/step - loss: 0.3151 - accuracy: 0.9092\n",
      "Epoch 6/20\n",
      "469/469 [==============================] - 0s 837us/step - loss: 0.2940 - accuracy: 0.9149\n",
      "Epoch 7/20\n",
      "469/469 [==============================] - 0s 840us/step - loss: 0.2771 - accuracy: 0.9192\n",
      "Epoch 8/20\n",
      "469/469 [==============================] - 0s 917us/step - loss: 0.2631 - accuracy: 0.9236\n",
      "Epoch 9/20\n",
      "469/469 [==============================] - 0s 965us/step - loss: 0.2506 - accuracy: 0.9272\n",
      "Epoch 10/20\n",
      "469/469 [==============================] - 0s 1ms/step - loss: 0.2395 - accuracy: 0.9308\n",
      "Epoch 11/20\n",
      "469/469 [==============================] - 0s 970us/step - loss: 0.2297 - accuracy: 0.9336\n",
      "Epoch 12/20\n",
      "469/469 [==============================] - 0s 918us/step - loss: 0.2209 - accuracy: 0.9371\n",
      "Epoch 13/20\n",
      "469/469 [==============================] - 0s 819us/step - loss: 0.2130 - accuracy: 0.9385\n",
      "Epoch 14/20\n",
      "469/469 [==============================] - 0s 906us/step - loss: 0.2052 - accuracy: 0.9413\n",
      "Epoch 15/20\n",
      "469/469 [==============================] - 0s 1ms/step - loss: 0.1983 - accuracy: 0.9430\n",
      "Epoch 16/20\n",
      "469/469 [==============================] - 0s 910us/step - loss: 0.1919 - accuracy: 0.9447\n",
      "Epoch 17/20\n",
      "469/469 [==============================] - 0s 821us/step - loss: 0.1857 - accuracy: 0.9464\n",
      "Epoch 18/20\n",
      "469/469 [==============================] - 0s 812us/step - loss: 0.1800 - accuracy: 0.9477\n",
      "Epoch 19/20\n",
      "469/469 [==============================] - 0s 848us/step - loss: 0.1748 - accuracy: 0.9495\n",
      "Epoch 20/20\n",
      "469/469 [==============================] - 0s 814us/step - loss: 0.1696 - accuracy: 0.9508\n"
     ]
    },
    {
     "data": {
      "text/plain": [
       "<tensorflow.python.keras.callbacks.History at 0x284b57a1348>"
      ]
     },
     "execution_count": 5,
     "metadata": {},
     "output_type": "execute_result"
    },
    {
     "data": {
      "application/javascript": [
       "\n",
       "            setTimeout(function() {\n",
       "                var nbb_cell_id = 5;\n",
       "                var nbb_unformatted_code = \"model.fit(X_train, y_train, batch_size=128, epochs=20, verbose=1)\";\n",
       "                var nbb_formatted_code = \"model.fit(X_train, y_train, batch_size=128, epochs=20, verbose=1)\";\n",
       "                var nbb_cells = Jupyter.notebook.get_cells();\n",
       "                for (var i = 0; i < nbb_cells.length; ++i) {\n",
       "                    if (nbb_cells[i].input_prompt_number == nbb_cell_id) {\n",
       "                        if (nbb_cells[i].get_text() == nbb_unformatted_code) {\n",
       "                             nbb_cells[i].set_text(nbb_formatted_code);\n",
       "                        }\n",
       "                        break;\n",
       "                    }\n",
       "                }\n",
       "            }, 500);\n",
       "            "
      ],
      "text/plain": [
       "<IPython.core.display.Javascript object>"
      ]
     },
     "metadata": {},
     "output_type": "display_data"
    }
   ],
   "source": [
    "model.fit(X_train, y_train, batch_size=128, epochs=20, verbose=1)"
   ]
  },
  {
   "cell_type": "code",
   "execution_count": 6,
   "metadata": {},
   "outputs": [
    {
     "name": "stdout",
     "output_type": "stream",
     "text": [
      "Test score: 0.17130768299102783\n",
      "Test accuracy: 0.9496999979019165\n"
     ]
    },
    {
     "data": {
      "application/javascript": [
       "\n",
       "            setTimeout(function() {\n",
       "                var nbb_cell_id = 6;\n",
       "                var nbb_unformatted_code = \"score = model.evaluate(X_test, y_test, verbose=0)\\nprint(\\\"Test score:\\\", score[0])\\nprint(\\\"Test accuracy:\\\", score[1])\";\n",
       "                var nbb_formatted_code = \"score = model.evaluate(X_test, y_test, verbose=0)\\nprint(\\\"Test score:\\\", score[0])\\nprint(\\\"Test accuracy:\\\", score[1])\";\n",
       "                var nbb_cells = Jupyter.notebook.get_cells();\n",
       "                for (var i = 0; i < nbb_cells.length; ++i) {\n",
       "                    if (nbb_cells[i].input_prompt_number == nbb_cell_id) {\n",
       "                        if (nbb_cells[i].get_text() == nbb_unformatted_code) {\n",
       "                             nbb_cells[i].set_text(nbb_formatted_code);\n",
       "                        }\n",
       "                        break;\n",
       "                    }\n",
       "                }\n",
       "            }, 500);\n",
       "            "
      ],
      "text/plain": [
       "<IPython.core.display.Javascript object>"
      ]
     },
     "metadata": {},
     "output_type": "display_data"
    }
   ],
   "source": [
    "score = model.evaluate(X_test, y_test, verbose=0)\n",
    "print(\"Test score:\", score[0])\n",
    "print(\"Test accuracy:\", score[1])"
   ]
  },
  {
   "cell_type": "code",
   "execution_count": 7,
   "metadata": {},
   "outputs": [
    {
     "name": "stdout",
     "output_type": "stream",
     "text": [
      "Epoch 1/20\n",
      "469/469 [==============================] - 0s 1ms/step - loss: 1.9170 - accuracy: 0.3888\n",
      "Epoch 2/20\n",
      "469/469 [==============================] - 0s 887us/step - loss: 0.7820 - accuracy: 0.7818\n",
      "Epoch 3/20\n",
      "469/469 [==============================] - 0s 910us/step - loss: 0.4488 - accuracy: 0.8680\n",
      "Epoch 4/20\n",
      "469/469 [==============================] - 0s 891us/step - loss: 0.3496 - accuracy: 0.8978\n",
      "Epoch 5/20\n",
      "469/469 [==============================] - 0s 902us/step - loss: 0.2958 - accuracy: 0.9136\n",
      "Epoch 6/20\n",
      "469/469 [==============================] - 0s 919us/step - loss: 0.2607 - accuracy: 0.9238\n",
      "Epoch 7/20\n",
      "469/469 [==============================] - 0s 893us/step - loss: 0.2339 - accuracy: 0.9318\n",
      "Epoch 8/20\n",
      "469/469 [==============================] - 0s 878us/step - loss: 0.2129 - accuracy: 0.9373\n",
      "Epoch 9/20\n",
      "469/469 [==============================] - 0s 872us/step - loss: 0.1968 - accuracy: 0.9425\n",
      "Epoch 10/20\n",
      "469/469 [==============================] - 0s 861us/step - loss: 0.1820 - accuracy: 0.9463\n",
      "Epoch 11/20\n",
      "469/469 [==============================] - 0s 930us/step - loss: 0.1710 - accuracy: 0.9500\n",
      "Epoch 12/20\n",
      "469/469 [==============================] - 0s 933us/step - loss: 0.1597 - accuracy: 0.9532\n",
      "Epoch 13/20\n",
      "469/469 [==============================] - 0s 946us/step - loss: 0.1510 - accuracy: 0.9564\n",
      "Epoch 14/20\n",
      "469/469 [==============================] - 0s 927us/step - loss: 0.1430 - accuracy: 0.9581\n",
      "Epoch 15/20\n",
      "469/469 [==============================] - 0s 898us/step - loss: 0.1359 - accuracy: 0.9603\n",
      "Epoch 16/20\n",
      "469/469 [==============================] - 0s 930us/step - loss: 0.1293 - accuracy: 0.9625\n",
      "Epoch 17/20\n",
      "469/469 [==============================] - 0s 914us/step - loss: 0.1240 - accuracy: 0.9637\n",
      "Epoch 18/20\n",
      "469/469 [==============================] - 0s 914us/step - loss: 0.1184 - accuracy: 0.9663\n",
      "Epoch 19/20\n",
      "469/469 [==============================] - 0s 921us/step - loss: 0.1134 - accuracy: 0.9667\n",
      "Epoch 20/20\n",
      "469/469 [==============================] - 0s 927us/step - loss: 0.1088 - accuracy: 0.9687\n"
     ]
    },
    {
     "data": {
      "text/plain": [
       "<tensorflow.python.keras.callbacks.History at 0x284d3d801c8>"
      ]
     },
     "execution_count": 7,
     "metadata": {},
     "output_type": "execute_result"
    },
    {
     "data": {
      "application/javascript": [
       "\n",
       "            setTimeout(function() {\n",
       "                var nbb_cell_id = 7;\n",
       "                var nbb_unformatted_code = \"# 5 Layers\\nmodel = Sequential()\\nmodel.add(Dense(128, input_dim=X_train.shape[1], activation=\\\"relu\\\"))\\nmodel.add(Dense(64, activation=\\\"relu\\\"))\\nmodel.add(Dense(32, activation=\\\"relu\\\"))\\nmodel.add(Dense(16, activation=\\\"relu\\\"))\\nmodel.add(Dense(10, activation=\\\"softmax\\\"))\\n\\nmodel.compile(optimizer=\\\"sgd\\\", loss=\\\"categorical_crossentropy\\\", metrics=[\\\"accuracy\\\"])\\n\\nmodel.fit(X_train, y_train, batch_size=128, epochs=20, verbose=1)\";\n",
       "                var nbb_formatted_code = \"# 5 Layers\\nmodel = Sequential()\\nmodel.add(Dense(128, input_dim=X_train.shape[1], activation=\\\"relu\\\"))\\nmodel.add(Dense(64, activation=\\\"relu\\\"))\\nmodel.add(Dense(32, activation=\\\"relu\\\"))\\nmodel.add(Dense(16, activation=\\\"relu\\\"))\\nmodel.add(Dense(10, activation=\\\"softmax\\\"))\\n\\nmodel.compile(optimizer=\\\"sgd\\\", loss=\\\"categorical_crossentropy\\\", metrics=[\\\"accuracy\\\"])\\n\\nmodel.fit(X_train, y_train, batch_size=128, epochs=20, verbose=1)\";\n",
       "                var nbb_cells = Jupyter.notebook.get_cells();\n",
       "                for (var i = 0; i < nbb_cells.length; ++i) {\n",
       "                    if (nbb_cells[i].input_prompt_number == nbb_cell_id) {\n",
       "                        if (nbb_cells[i].get_text() == nbb_unformatted_code) {\n",
       "                             nbb_cells[i].set_text(nbb_formatted_code);\n",
       "                        }\n",
       "                        break;\n",
       "                    }\n",
       "                }\n",
       "            }, 500);\n",
       "            "
      ],
      "text/plain": [
       "<IPython.core.display.Javascript object>"
      ]
     },
     "metadata": {},
     "output_type": "display_data"
    }
   ],
   "source": [
    "# 5 Layers\n",
    "model = Sequential()\n",
    "model.add(Dense(128, input_dim=X_train.shape[1], activation=\"relu\"))\n",
    "model.add(Dense(64, activation=\"relu\"))\n",
    "model.add(Dense(32, activation=\"relu\"))\n",
    "model.add(Dense(16, activation=\"relu\"))\n",
    "model.add(Dense(10, activation=\"softmax\"))\n",
    "\n",
    "model.compile(optimizer=\"sgd\", loss=\"categorical_crossentropy\", metrics=[\"accuracy\"])\n",
    "\n",
    "model.fit(X_train, y_train, batch_size=128, epochs=20, verbose=1)"
   ]
  },
  {
   "cell_type": "code",
   "execution_count": 8,
   "metadata": {},
   "outputs": [
    {
     "name": "stdout",
     "output_type": "stream",
     "text": [
      "Test score: 0.12448504567146301\n",
      "Test accuracy: 0.9635000228881836\n"
     ]
    },
    {
     "data": {
      "application/javascript": [
       "\n",
       "            setTimeout(function() {\n",
       "                var nbb_cell_id = 8;\n",
       "                var nbb_unformatted_code = \"score = model.evaluate(X_test, y_test, verbose=0)\\nprint(\\\"Test score:\\\", score[0])\\nprint(\\\"Test accuracy:\\\", score[1])\";\n",
       "                var nbb_formatted_code = \"score = model.evaluate(X_test, y_test, verbose=0)\\nprint(\\\"Test score:\\\", score[0])\\nprint(\\\"Test accuracy:\\\", score[1])\";\n",
       "                var nbb_cells = Jupyter.notebook.get_cells();\n",
       "                for (var i = 0; i < nbb_cells.length; ++i) {\n",
       "                    if (nbb_cells[i].input_prompt_number == nbb_cell_id) {\n",
       "                        if (nbb_cells[i].get_text() == nbb_unformatted_code) {\n",
       "                             nbb_cells[i].set_text(nbb_formatted_code);\n",
       "                        }\n",
       "                        break;\n",
       "                    }\n",
       "                }\n",
       "            }, 500);\n",
       "            "
      ],
      "text/plain": [
       "<IPython.core.display.Javascript object>"
      ]
     },
     "metadata": {},
     "output_type": "display_data"
    }
   ],
   "source": [
    "score = model.evaluate(X_test, y_test, verbose=0)\n",
    "print(\"Test score:\", score[0])\n",
    "print(\"Test accuracy:\", score[1])"
   ]
  },
  {
   "cell_type": "code",
   "execution_count": 9,
   "metadata": {},
   "outputs": [
    {
     "name": "stdout",
     "output_type": "stream",
     "text": [
      "Epoch 1/20\n",
      "469/469 [==============================] - 2s 3ms/step - loss: 1.7641 - accuracy: 0.4436\n",
      "Epoch 2/20\n",
      "469/469 [==============================] - 2s 3ms/step - loss: 0.5273 - accuracy: 0.8550\n",
      "Epoch 3/20\n",
      "469/469 [==============================] - 1s 3ms/step - loss: 0.3279 - accuracy: 0.9057\n",
      "Epoch 4/20\n",
      "469/469 [==============================] - 1s 3ms/step - loss: 0.2580 - accuracy: 0.9262\n",
      "Epoch 5/20\n",
      "469/469 [==============================] - 1s 3ms/step - loss: 0.2160 - accuracy: 0.9375\n",
      "Epoch 6/20\n",
      "469/469 [==============================] - 1s 3ms/step - loss: 0.1880 - accuracy: 0.9444\n",
      "Epoch 7/20\n",
      "469/469 [==============================] - 1s 3ms/step - loss: 0.1669 - accuracy: 0.9517\n",
      "Epoch 8/20\n",
      "469/469 [==============================] - 1s 3ms/step - loss: 0.1482 - accuracy: 0.9577\n",
      "Epoch 9/20\n",
      "469/469 [==============================] - 1s 3ms/step - loss: 0.1350 - accuracy: 0.9612\n",
      "Epoch 10/20\n",
      "469/469 [==============================] - 1s 3ms/step - loss: 0.1238 - accuracy: 0.9645\n",
      "Epoch 11/20\n",
      "469/469 [==============================] - 1s 3ms/step - loss: 0.1129 - accuracy: 0.9673\n",
      "Epoch 12/20\n",
      "469/469 [==============================] - 1s 3ms/step - loss: 0.1031 - accuracy: 0.9703\n",
      "Epoch 13/20\n",
      "469/469 [==============================] - 1s 3ms/step - loss: 0.0953 - accuracy: 0.9732\n",
      "Epoch 14/20\n",
      "469/469 [==============================] - 1s 3ms/step - loss: 0.0882 - accuracy: 0.9744\n",
      "Epoch 15/20\n",
      "469/469 [==============================] - 1s 3ms/step - loss: 0.0818 - accuracy: 0.9766\n",
      "Epoch 16/20\n",
      "469/469 [==============================] - 2s 3ms/step - loss: 0.0746 - accuracy: 0.9789\n",
      "Epoch 17/20\n",
      "469/469 [==============================] - 1s 3ms/step - loss: 0.0694 - accuracy: 0.9804\n",
      "Epoch 18/20\n",
      "469/469 [==============================] - 1s 3ms/step - loss: 0.0650 - accuracy: 0.9811\n",
      "Epoch 19/20\n",
      "469/469 [==============================] - 1s 3ms/step - loss: 0.0599 - accuracy: 0.9827\n",
      "Epoch 20/20\n",
      "469/469 [==============================] - 1s 3ms/step - loss: 0.0545 - accuracy: 0.9850\n"
     ]
    },
    {
     "data": {
      "text/plain": [
       "<tensorflow.python.keras.callbacks.History at 0x284d3f172c8>"
      ]
     },
     "execution_count": 9,
     "metadata": {},
     "output_type": "execute_result"
    },
    {
     "data": {
      "application/javascript": [
       "\n",
       "            setTimeout(function() {\n",
       "                var nbb_cell_id = 9;\n",
       "                var nbb_unformatted_code = \"# 7 Layers\\nmodel = Sequential()\\nmodel.add(Dense(512, input_dim=X_train.shape[1], activation=\\\"relu\\\"))\\nmodel.add(Dense(256, activation=\\\"relu\\\"))\\nmodel.add(Dense(128, activation=\\\"relu\\\"))\\nmodel.add(Dense(64, activation=\\\"relu\\\"))\\nmodel.add(Dense(32, activation=\\\"relu\\\"))\\nmodel.add(Dense(16, activation=\\\"relu\\\"))\\nmodel.add(Dense(10, activation=\\\"softmax\\\"))\\n\\nmodel.compile(optimizer=\\\"sgd\\\", loss=\\\"categorical_crossentropy\\\", metrics=[\\\"accuracy\\\"])\\n\\nmodel.fit(X_train, y_train, batch_size=128, epochs=20, verbose=1)\";\n",
       "                var nbb_formatted_code = \"# 7 Layers\\nmodel = Sequential()\\nmodel.add(Dense(512, input_dim=X_train.shape[1], activation=\\\"relu\\\"))\\nmodel.add(Dense(256, activation=\\\"relu\\\"))\\nmodel.add(Dense(128, activation=\\\"relu\\\"))\\nmodel.add(Dense(64, activation=\\\"relu\\\"))\\nmodel.add(Dense(32, activation=\\\"relu\\\"))\\nmodel.add(Dense(16, activation=\\\"relu\\\"))\\nmodel.add(Dense(10, activation=\\\"softmax\\\"))\\n\\nmodel.compile(optimizer=\\\"sgd\\\", loss=\\\"categorical_crossentropy\\\", metrics=[\\\"accuracy\\\"])\\n\\nmodel.fit(X_train, y_train, batch_size=128, epochs=20, verbose=1)\";\n",
       "                var nbb_cells = Jupyter.notebook.get_cells();\n",
       "                for (var i = 0; i < nbb_cells.length; ++i) {\n",
       "                    if (nbb_cells[i].input_prompt_number == nbb_cell_id) {\n",
       "                        if (nbb_cells[i].get_text() == nbb_unformatted_code) {\n",
       "                             nbb_cells[i].set_text(nbb_formatted_code);\n",
       "                        }\n",
       "                        break;\n",
       "                    }\n",
       "                }\n",
       "            }, 500);\n",
       "            "
      ],
      "text/plain": [
       "<IPython.core.display.Javascript object>"
      ]
     },
     "metadata": {},
     "output_type": "display_data"
    }
   ],
   "source": [
    "# 7 Layers\n",
    "model = Sequential()\n",
    "model.add(Dense(512, input_dim=X_train.shape[1], activation=\"relu\"))\n",
    "model.add(Dense(256, activation=\"relu\"))\n",
    "model.add(Dense(128, activation=\"relu\"))\n",
    "model.add(Dense(64, activation=\"relu\"))\n",
    "model.add(Dense(32, activation=\"relu\"))\n",
    "model.add(Dense(16, activation=\"relu\"))\n",
    "model.add(Dense(10, activation=\"softmax\"))\n",
    "\n",
    "model.compile(optimizer=\"sgd\", loss=\"categorical_crossentropy\", metrics=[\"accuracy\"])\n",
    "\n",
    "model.fit(X_train, y_train, batch_size=128, epochs=20, verbose=1)"
   ]
  },
  {
   "cell_type": "code",
   "execution_count": 10,
   "metadata": {},
   "outputs": [
    {
     "name": "stdout",
     "output_type": "stream",
     "text": [
      "Test score: 0.09141067415475845\n",
      "Test accuracy: 0.9728000164031982\n"
     ]
    },
    {
     "data": {
      "application/javascript": [
       "\n",
       "            setTimeout(function() {\n",
       "                var nbb_cell_id = 10;\n",
       "                var nbb_unformatted_code = \"score = model.evaluate(X_test, y_test, verbose=0)\\nprint(\\\"Test score:\\\", score[0])\\nprint(\\\"Test accuracy:\\\", score[1])\";\n",
       "                var nbb_formatted_code = \"score = model.evaluate(X_test, y_test, verbose=0)\\nprint(\\\"Test score:\\\", score[0])\\nprint(\\\"Test accuracy:\\\", score[1])\";\n",
       "                var nbb_cells = Jupyter.notebook.get_cells();\n",
       "                for (var i = 0; i < nbb_cells.length; ++i) {\n",
       "                    if (nbb_cells[i].input_prompt_number == nbb_cell_id) {\n",
       "                        if (nbb_cells[i].get_text() == nbb_unformatted_code) {\n",
       "                             nbb_cells[i].set_text(nbb_formatted_code);\n",
       "                        }\n",
       "                        break;\n",
       "                    }\n",
       "                }\n",
       "            }, 500);\n",
       "            "
      ],
      "text/plain": [
       "<IPython.core.display.Javascript object>"
      ]
     },
     "metadata": {},
     "output_type": "display_data"
    }
   ],
   "source": [
    "score = model.evaluate(X_test, y_test, verbose=0)\n",
    "print(\"Test score:\", score[0])\n",
    "print(\"Test accuracy:\", score[1])"
   ]
  },
  {
   "cell_type": "code",
   "execution_count": 11,
   "metadata": {},
   "outputs": [
    {
     "name": "stdout",
     "output_type": "stream",
     "text": [
      "Epoch 1/20\n",
      "469/469 [==============================] - 9s 19ms/step - loss: 1.8207 - accuracy: 0.3407\n",
      "Epoch 2/20\n",
      "469/469 [==============================] - 9s 19ms/step - loss: 0.5348 - accuracy: 0.8488\n",
      "Epoch 3/20\n",
      "469/469 [==============================] - 9s 19ms/step - loss: 0.2990 - accuracy: 0.9158\n",
      "Epoch 4/20\n",
      "469/469 [==============================] - 9s 19ms/step - loss: 0.2237 - accuracy: 0.9376\n",
      "Epoch 5/20\n",
      "469/469 [==============================] - 9s 19ms/step - loss: 0.1756 - accuracy: 0.9497\n",
      "Epoch 6/20\n",
      "469/469 [==============================] - 9s 19ms/step - loss: 0.1445 - accuracy: 0.9587\n",
      "Epoch 7/20\n",
      "469/469 [==============================] - 9s 19ms/step - loss: 0.1203 - accuracy: 0.9653\n",
      "Epoch 8/20\n",
      "469/469 [==============================] - 12s 25ms/step - loss: 0.1027 - accuracy: 0.9695\n",
      "Epoch 9/20\n",
      "469/469 [==============================] - 9s 19ms/step - loss: 0.0901 - accuracy: 0.9744\n",
      "Epoch 10/20\n",
      "469/469 [==============================] - 10s 22ms/step - loss: 0.0765 - accuracy: 0.9782\n",
      "Epoch 11/20\n",
      "469/469 [==============================] - 10s 22ms/step - loss: 0.0639 - accuracy: 0.9816\n",
      "Epoch 12/20\n",
      "469/469 [==============================] - 9s 19ms/step - loss: 0.0553 - accuracy: 0.9840\n",
      "Epoch 13/20\n",
      "469/469 [==============================] - 11s 24ms/step - loss: 0.0487 - accuracy: 0.9866\n",
      "Epoch 14/20\n",
      "469/469 [==============================] - 9s 19ms/step - loss: 0.0412 - accuracy: 0.9884\n",
      "Epoch 15/20\n",
      "469/469 [==============================] - 12s 26ms/step - loss: 0.0337 - accuracy: 0.9909\n",
      "Epoch 16/20\n",
      "469/469 [==============================] - 9s 18ms/step - loss: 0.0289 - accuracy: 0.9925 0s - loss: 0.0288 - \n",
      "Epoch 17/20\n",
      "469/469 [==============================] - 12s 26ms/step - loss: 0.0239 - accuracy: 0.9939\n",
      "Epoch 18/20\n",
      "469/469 [==============================] - 9s 19ms/step - loss: 0.0192 - accuracy: 0.9955\n",
      "Epoch 19/20\n",
      "469/469 [==============================] - 12s 27ms/step - loss: 0.0162 - accuracy: 0.9966\n",
      "Epoch 20/20\n",
      "469/469 [==============================] - 9s 19ms/step - loss: 0.0127 - accuracy: 0.9977\n"
     ]
    },
    {
     "data": {
      "text/plain": [
       "<tensorflow.python.keras.callbacks.History at 0x284d3f17808>"
      ]
     },
     "execution_count": 11,
     "metadata": {},
     "output_type": "execute_result"
    },
    {
     "data": {
      "application/javascript": [
       "\n",
       "            setTimeout(function() {\n",
       "                var nbb_cell_id = 11;\n",
       "                var nbb_unformatted_code = \"# 9 Layers\\nmodel = Sequential()\\nmodel.add(Dense(2048, input_dim=X_train.shape[1], activation=\\\"relu\\\"))\\nmodel.add(Dense(1024, activation=\\\"relu\\\"))\\nmodel.add(Dense(512, activation=\\\"relu\\\"))\\nmodel.add(Dense(256, activation=\\\"relu\\\"))\\nmodel.add(Dense(128, activation=\\\"relu\\\"))\\nmodel.add(Dense(64, activation=\\\"relu\\\"))\\nmodel.add(Dense(32, activation=\\\"relu\\\"))\\nmodel.add(Dense(16, activation=\\\"relu\\\"))\\nmodel.add(Dense(10, activation=\\\"softmax\\\"))\\n\\nmodel.compile(optimizer=\\\"sgd\\\", loss=\\\"categorical_crossentropy\\\", metrics=[\\\"accuracy\\\"])\\n\\nmodel.fit(X_train, y_train, batch_size=128, epochs=20, verbose=1)\";\n",
       "                var nbb_formatted_code = \"# 9 Layers\\nmodel = Sequential()\\nmodel.add(Dense(2048, input_dim=X_train.shape[1], activation=\\\"relu\\\"))\\nmodel.add(Dense(1024, activation=\\\"relu\\\"))\\nmodel.add(Dense(512, activation=\\\"relu\\\"))\\nmodel.add(Dense(256, activation=\\\"relu\\\"))\\nmodel.add(Dense(128, activation=\\\"relu\\\"))\\nmodel.add(Dense(64, activation=\\\"relu\\\"))\\nmodel.add(Dense(32, activation=\\\"relu\\\"))\\nmodel.add(Dense(16, activation=\\\"relu\\\"))\\nmodel.add(Dense(10, activation=\\\"softmax\\\"))\\n\\nmodel.compile(optimizer=\\\"sgd\\\", loss=\\\"categorical_crossentropy\\\", metrics=[\\\"accuracy\\\"])\\n\\nmodel.fit(X_train, y_train, batch_size=128, epochs=20, verbose=1)\";\n",
       "                var nbb_cells = Jupyter.notebook.get_cells();\n",
       "                for (var i = 0; i < nbb_cells.length; ++i) {\n",
       "                    if (nbb_cells[i].input_prompt_number == nbb_cell_id) {\n",
       "                        if (nbb_cells[i].get_text() == nbb_unformatted_code) {\n",
       "                             nbb_cells[i].set_text(nbb_formatted_code);\n",
       "                        }\n",
       "                        break;\n",
       "                    }\n",
       "                }\n",
       "            }, 500);\n",
       "            "
      ],
      "text/plain": [
       "<IPython.core.display.Javascript object>"
      ]
     },
     "metadata": {},
     "output_type": "display_data"
    }
   ],
   "source": [
    "# 9 Layers\n",
    "model = Sequential()\n",
    "model.add(Dense(2048, input_dim=X_train.shape[1], activation=\"relu\"))\n",
    "model.add(Dense(1024, activation=\"relu\"))\n",
    "model.add(Dense(512, activation=\"relu\"))\n",
    "model.add(Dense(256, activation=\"relu\"))\n",
    "model.add(Dense(128, activation=\"relu\"))\n",
    "model.add(Dense(64, activation=\"relu\"))\n",
    "model.add(Dense(32, activation=\"relu\"))\n",
    "model.add(Dense(16, activation=\"relu\"))\n",
    "model.add(Dense(10, activation=\"softmax\"))\n",
    "\n",
    "model.compile(optimizer=\"sgd\", loss=\"categorical_crossentropy\", metrics=[\"accuracy\"])\n",
    "\n",
    "model.fit(X_train, y_train, batch_size=128, epochs=20, verbose=1)"
   ]
  },
  {
   "cell_type": "code",
   "execution_count": 12,
   "metadata": {},
   "outputs": [
    {
     "name": "stdout",
     "output_type": "stream",
     "text": [
      "Test score: 0.08553290367126465\n",
      "Test accuracy: 0.9769999980926514\n"
     ]
    },
    {
     "data": {
      "application/javascript": [
       "\n",
       "            setTimeout(function() {\n",
       "                var nbb_cell_id = 12;\n",
       "                var nbb_unformatted_code = \"score = model.evaluate(X_test, y_test, verbose=0)\\nprint(\\\"Test score:\\\", score[0])\\nprint(\\\"Test accuracy:\\\", score[1])\";\n",
       "                var nbb_formatted_code = \"score = model.evaluate(X_test, y_test, verbose=0)\\nprint(\\\"Test score:\\\", score[0])\\nprint(\\\"Test accuracy:\\\", score[1])\";\n",
       "                var nbb_cells = Jupyter.notebook.get_cells();\n",
       "                for (var i = 0; i < nbb_cells.length; ++i) {\n",
       "                    if (nbb_cells[i].input_prompt_number == nbb_cell_id) {\n",
       "                        if (nbb_cells[i].get_text() == nbb_unformatted_code) {\n",
       "                             nbb_cells[i].set_text(nbb_formatted_code);\n",
       "                        }\n",
       "                        break;\n",
       "                    }\n",
       "                }\n",
       "            }, 500);\n",
       "            "
      ],
      "text/plain": [
       "<IPython.core.display.Javascript object>"
      ]
     },
     "metadata": {},
     "output_type": "display_data"
    }
   ],
   "source": [
    "score = model.evaluate(X_test, y_test, verbose=0)\n",
    "print(\"Test score:\", score[0])\n",
    "print(\"Test accuracy:\", score[1])"
   ]
  },
  {
   "cell_type": "markdown",
   "metadata": {},
   "source": [
    "The most accurate model came from using 9 layers. The speed of the model was much slower. The run time of a 7 layer model was noticeably faster but performed with a worse accuracy."
   ]
  },
  {
   "cell_type": "markdown",
   "metadata": {},
   "source": [
    "# Tanh activation and SGD loss"
   ]
  },
  {
   "cell_type": "code",
   "execution_count": 13,
   "metadata": {},
   "outputs": [
    {
     "data": {
      "application/javascript": [
       "\n",
       "            setTimeout(function() {\n",
       "                var nbb_cell_id = 13;\n",
       "                var nbb_unformatted_code = \"# 3 Layers\\nmodel = Sequential()\\nmodel.add(Dense(128, input_dim=X_train.shape[1], activation=\\\"tanh\\\"))\\nmodel.add(Dense(64, activation=\\\"tanh\\\"))\\nmodel.add(Dense(10, activation=\\\"softmax\\\"))\";\n",
       "                var nbb_formatted_code = \"# 3 Layers\\nmodel = Sequential()\\nmodel.add(Dense(128, input_dim=X_train.shape[1], activation=\\\"tanh\\\"))\\nmodel.add(Dense(64, activation=\\\"tanh\\\"))\\nmodel.add(Dense(10, activation=\\\"softmax\\\"))\";\n",
       "                var nbb_cells = Jupyter.notebook.get_cells();\n",
       "                for (var i = 0; i < nbb_cells.length; ++i) {\n",
       "                    if (nbb_cells[i].input_prompt_number == nbb_cell_id) {\n",
       "                        if (nbb_cells[i].get_text() == nbb_unformatted_code) {\n",
       "                             nbb_cells[i].set_text(nbb_formatted_code);\n",
       "                        }\n",
       "                        break;\n",
       "                    }\n",
       "                }\n",
       "            }, 500);\n",
       "            "
      ],
      "text/plain": [
       "<IPython.core.display.Javascript object>"
      ]
     },
     "metadata": {},
     "output_type": "display_data"
    }
   ],
   "source": [
    "# 3 Layers\n",
    "model = Sequential()\n",
    "model.add(Dense(128, input_dim=X_train.shape[1], activation=\"tanh\"))\n",
    "model.add(Dense(64, activation=\"tanh\"))\n",
    "model.add(Dense(10, activation=\"softmax\"))"
   ]
  },
  {
   "cell_type": "code",
   "execution_count": 14,
   "metadata": {},
   "outputs": [
    {
     "data": {
      "application/javascript": [
       "\n",
       "            setTimeout(function() {\n",
       "                var nbb_cell_id = 14;\n",
       "                var nbb_unformatted_code = \"model.compile(optimizer=\\\"sgd\\\", loss=\\\"categorical_crossentropy\\\", metrics=[\\\"accuracy\\\"])\";\n",
       "                var nbb_formatted_code = \"model.compile(optimizer=\\\"sgd\\\", loss=\\\"categorical_crossentropy\\\", metrics=[\\\"accuracy\\\"])\";\n",
       "                var nbb_cells = Jupyter.notebook.get_cells();\n",
       "                for (var i = 0; i < nbb_cells.length; ++i) {\n",
       "                    if (nbb_cells[i].input_prompt_number == nbb_cell_id) {\n",
       "                        if (nbb_cells[i].get_text() == nbb_unformatted_code) {\n",
       "                             nbb_cells[i].set_text(nbb_formatted_code);\n",
       "                        }\n",
       "                        break;\n",
       "                    }\n",
       "                }\n",
       "            }, 500);\n",
       "            "
      ],
      "text/plain": [
       "<IPython.core.display.Javascript object>"
      ]
     },
     "metadata": {},
     "output_type": "display_data"
    }
   ],
   "source": [
    "model.compile(optimizer=\"sgd\", loss=\"categorical_crossentropy\", metrics=[\"accuracy\"])"
   ]
  },
  {
   "cell_type": "code",
   "execution_count": 15,
   "metadata": {},
   "outputs": [
    {
     "name": "stdout",
     "output_type": "stream",
     "text": [
      "Epoch 1/20\n",
      "469/469 [==============================] - 0s 897us/step - loss: 1.0287 - accuracy: 0.7465\n",
      "Epoch 2/20\n",
      "469/469 [==============================] - 0s 895us/step - loss: 0.5262 - accuracy: 0.8688\n",
      "Epoch 3/20\n",
      "469/469 [==============================] - 0s 927us/step - loss: 0.4255 - accuracy: 0.8881\n",
      "Epoch 4/20\n",
      "469/469 [==============================] - 0s 857us/step - loss: 0.3771 - accuracy: 0.8974\n",
      "Epoch 5/20\n",
      "469/469 [==============================] - 0s 912us/step - loss: 0.3475 - accuracy: 0.9038\n",
      "Epoch 6/20\n",
      "469/469 [==============================] - 0s 874us/step - loss: 0.3268 - accuracy: 0.9084\n",
      "Epoch 7/20\n",
      "469/469 [==============================] - 0s 853us/step - loss: 0.3110 - accuracy: 0.9129\n",
      "Epoch 8/20\n",
      "469/469 [==============================] - 0s 925us/step - loss: 0.2982 - accuracy: 0.9162\n",
      "Epoch 9/20\n",
      "469/469 [==============================] - 0s 897us/step - loss: 0.2874 - accuracy: 0.9194\n",
      "Epoch 10/20\n",
      "469/469 [==============================] - 0s 839us/step - loss: 0.2781 - accuracy: 0.9214\n",
      "Epoch 11/20\n",
      "469/469 [==============================] - 0s 883us/step - loss: 0.2697 - accuracy: 0.9237\n",
      "Epoch 12/20\n",
      "469/469 [==============================] - 0s 897us/step - loss: 0.2620 - accuracy: 0.9259\n",
      "Epoch 13/20\n",
      "469/469 [==============================] - 0s 829us/step - loss: 0.2549 - accuracy: 0.9278\n",
      "Epoch 14/20\n",
      "469/469 [==============================] - 0s 855us/step - loss: 0.2484 - accuracy: 0.9296\n",
      "Epoch 15/20\n",
      "469/469 [==============================] - 0s 831us/step - loss: 0.2421 - accuracy: 0.9311\n",
      "Epoch 16/20\n",
      "469/469 [==============================] - 0s 853us/step - loss: 0.2361 - accuracy: 0.9330\n",
      "Epoch 17/20\n",
      "469/469 [==============================] - 0s 827us/step - loss: 0.2306 - accuracy: 0.9345\n",
      "Epoch 18/20\n",
      "469/469 [==============================] - 0s 842us/step - loss: 0.2252 - accuracy: 0.9361\n",
      "Epoch 19/20\n",
      "469/469 [==============================] - 0s 831us/step - loss: 0.2200 - accuracy: 0.9376\n",
      "Epoch 20/20\n",
      "469/469 [==============================] - 0s 863us/step - loss: 0.2151 - accuracy: 0.9391\n"
     ]
    },
    {
     "data": {
      "text/plain": [
       "<tensorflow.python.keras.callbacks.History at 0x284d5397388>"
      ]
     },
     "execution_count": 15,
     "metadata": {},
     "output_type": "execute_result"
    },
    {
     "data": {
      "application/javascript": [
       "\n",
       "            setTimeout(function() {\n",
       "                var nbb_cell_id = 15;\n",
       "                var nbb_unformatted_code = \"model.fit(X_train, y_train, batch_size=128, epochs=20, verbose=1)\";\n",
       "                var nbb_formatted_code = \"model.fit(X_train, y_train, batch_size=128, epochs=20, verbose=1)\";\n",
       "                var nbb_cells = Jupyter.notebook.get_cells();\n",
       "                for (var i = 0; i < nbb_cells.length; ++i) {\n",
       "                    if (nbb_cells[i].input_prompt_number == nbb_cell_id) {\n",
       "                        if (nbb_cells[i].get_text() == nbb_unformatted_code) {\n",
       "                             nbb_cells[i].set_text(nbb_formatted_code);\n",
       "                        }\n",
       "                        break;\n",
       "                    }\n",
       "                }\n",
       "            }, 500);\n",
       "            "
      ],
      "text/plain": [
       "<IPython.core.display.Javascript object>"
      ]
     },
     "metadata": {},
     "output_type": "display_data"
    }
   ],
   "source": [
    "model.fit(X_train, y_train, batch_size=128, epochs=20, verbose=1)"
   ]
  },
  {
   "cell_type": "code",
   "execution_count": 16,
   "metadata": {},
   "outputs": [
    {
     "name": "stdout",
     "output_type": "stream",
     "text": [
      "Test score: 0.21307992935180664\n",
      "Test accuracy: 0.9369999766349792\n"
     ]
    },
    {
     "data": {
      "application/javascript": [
       "\n",
       "            setTimeout(function() {\n",
       "                var nbb_cell_id = 16;\n",
       "                var nbb_unformatted_code = \"score = model.evaluate(X_test, y_test, verbose=0)\\nprint(\\\"Test score:\\\", score[0])\\nprint(\\\"Test accuracy:\\\", score[1])\";\n",
       "                var nbb_formatted_code = \"score = model.evaluate(X_test, y_test, verbose=0)\\nprint(\\\"Test score:\\\", score[0])\\nprint(\\\"Test accuracy:\\\", score[1])\";\n",
       "                var nbb_cells = Jupyter.notebook.get_cells();\n",
       "                for (var i = 0; i < nbb_cells.length; ++i) {\n",
       "                    if (nbb_cells[i].input_prompt_number == nbb_cell_id) {\n",
       "                        if (nbb_cells[i].get_text() == nbb_unformatted_code) {\n",
       "                             nbb_cells[i].set_text(nbb_formatted_code);\n",
       "                        }\n",
       "                        break;\n",
       "                    }\n",
       "                }\n",
       "            }, 500);\n",
       "            "
      ],
      "text/plain": [
       "<IPython.core.display.Javascript object>"
      ]
     },
     "metadata": {},
     "output_type": "display_data"
    }
   ],
   "source": [
    "score = model.evaluate(X_test, y_test, verbose=0)\n",
    "print(\"Test score:\", score[0])\n",
    "print(\"Test accuracy:\", score[1])"
   ]
  },
  {
   "cell_type": "code",
   "execution_count": 17,
   "metadata": {},
   "outputs": [
    {
     "name": "stdout",
     "output_type": "stream",
     "text": [
      "Epoch 1/20\n",
      "469/469 [==============================] - 0s 896us/step - loss: 1.3396 - accuracy: 0.6772\n",
      "Epoch 2/20\n",
      "469/469 [==============================] - 0s 934us/step - loss: 0.7366 - accuracy: 0.8470\n",
      "Epoch 3/20\n",
      "469/469 [==============================] - 0s 957us/step - loss: 0.5361 - accuracy: 0.8795\n",
      "Epoch 4/20\n",
      "469/469 [==============================] - 0s 925us/step - loss: 0.4406 - accuracy: 0.8942\n",
      "Epoch 5/20\n",
      "469/469 [==============================] - 0s 1ms/step - loss: 0.3851 - accuracy: 0.9030\n",
      "Epoch 6/20\n",
      "469/469 [==============================] - 0s 939us/step - loss: 0.3475 - accuracy: 0.9093\n",
      "Epoch 7/20\n",
      "469/469 [==============================] - 0s 993us/step - loss: 0.3198 - accuracy: 0.9156\n",
      "Epoch 8/20\n",
      "469/469 [==============================] - 0s 915us/step - loss: 0.2980 - accuracy: 0.9203\n",
      "Epoch 9/20\n",
      "469/469 [==============================] - 0s 925us/step - loss: 0.2798 - accuracy: 0.9247\n",
      "Epoch 10/20\n",
      "469/469 [==============================] - 0s 946us/step - loss: 0.2637 - accuracy: 0.9282\n",
      "Epoch 11/20\n",
      "469/469 [==============================] - 0s 990us/step - loss: 0.2498 - accuracy: 0.9320\n",
      "Epoch 12/20\n",
      "469/469 [==============================] - 0s 959us/step - loss: 0.2376 - accuracy: 0.9351\n",
      "Epoch 13/20\n",
      "469/469 [==============================] - 0s 925us/step - loss: 0.2261 - accuracy: 0.9378\n",
      "Epoch 14/20\n",
      "469/469 [==============================] - 0s 924us/step - loss: 0.2158 - accuracy: 0.9410\n",
      "Epoch 15/20\n",
      "469/469 [==============================] - 0s 934us/step - loss: 0.2063 - accuracy: 0.9433\n",
      "Epoch 16/20\n",
      "469/469 [==============================] - 0s 904us/step - loss: 0.1975 - accuracy: 0.9458\n",
      "Epoch 17/20\n",
      "469/469 [==============================] - 0s 883us/step - loss: 0.1893 - accuracy: 0.9472\n",
      "Epoch 18/20\n",
      "469/469 [==============================] - 0s 917us/step - loss: 0.1818 - accuracy: 0.9494\n",
      "Epoch 19/20\n",
      "469/469 [==============================] - 0s 936us/step - loss: 0.1749 - accuracy: 0.9512\n",
      "Epoch 20/20\n",
      "469/469 [==============================] - 0s 885us/step - loss: 0.1683 - accuracy: 0.9533\n"
     ]
    },
    {
     "data": {
      "text/plain": [
       "<tensorflow.python.keras.callbacks.History at 0x284d54fa148>"
      ]
     },
     "execution_count": 17,
     "metadata": {},
     "output_type": "execute_result"
    },
    {
     "data": {
      "application/javascript": [
       "\n",
       "            setTimeout(function() {\n",
       "                var nbb_cell_id = 17;\n",
       "                var nbb_unformatted_code = \"# 5 Layers\\nmodel = Sequential()\\nmodel.add(Dense(128, input_dim=X_train.shape[1], activation=\\\"tanh\\\"))\\nmodel.add(Dense(64, activation=\\\"tanh\\\"))\\nmodel.add(Dense(32, activation=\\\"tanh\\\"))\\nmodel.add(Dense(16, activation=\\\"tanh\\\"))\\nmodel.add(Dense(10, activation=\\\"softmax\\\"))\\n\\nmodel.compile(optimizer=\\\"sgd\\\", loss=\\\"categorical_crossentropy\\\", metrics=[\\\"accuracy\\\"])\\n\\nmodel.fit(X_train, y_train, batch_size=128, epochs=20, verbose=1)\";\n",
       "                var nbb_formatted_code = \"# 5 Layers\\nmodel = Sequential()\\nmodel.add(Dense(128, input_dim=X_train.shape[1], activation=\\\"tanh\\\"))\\nmodel.add(Dense(64, activation=\\\"tanh\\\"))\\nmodel.add(Dense(32, activation=\\\"tanh\\\"))\\nmodel.add(Dense(16, activation=\\\"tanh\\\"))\\nmodel.add(Dense(10, activation=\\\"softmax\\\"))\\n\\nmodel.compile(optimizer=\\\"sgd\\\", loss=\\\"categorical_crossentropy\\\", metrics=[\\\"accuracy\\\"])\\n\\nmodel.fit(X_train, y_train, batch_size=128, epochs=20, verbose=1)\";\n",
       "                var nbb_cells = Jupyter.notebook.get_cells();\n",
       "                for (var i = 0; i < nbb_cells.length; ++i) {\n",
       "                    if (nbb_cells[i].input_prompt_number == nbb_cell_id) {\n",
       "                        if (nbb_cells[i].get_text() == nbb_unformatted_code) {\n",
       "                             nbb_cells[i].set_text(nbb_formatted_code);\n",
       "                        }\n",
       "                        break;\n",
       "                    }\n",
       "                }\n",
       "            }, 500);\n",
       "            "
      ],
      "text/plain": [
       "<IPython.core.display.Javascript object>"
      ]
     },
     "metadata": {},
     "output_type": "display_data"
    }
   ],
   "source": [
    "# 5 Layers\n",
    "model = Sequential()\n",
    "model.add(Dense(128, input_dim=X_train.shape[1], activation=\"tanh\"))\n",
    "model.add(Dense(64, activation=\"tanh\"))\n",
    "model.add(Dense(32, activation=\"tanh\"))\n",
    "model.add(Dense(16, activation=\"tanh\"))\n",
    "model.add(Dense(10, activation=\"softmax\"))\n",
    "\n",
    "model.compile(optimizer=\"sgd\", loss=\"categorical_crossentropy\", metrics=[\"accuracy\"])\n",
    "\n",
    "model.fit(X_train, y_train, batch_size=128, epochs=20, verbose=1)"
   ]
  },
  {
   "cell_type": "code",
   "execution_count": 18,
   "metadata": {},
   "outputs": [
    {
     "name": "stdout",
     "output_type": "stream",
     "text": [
      "Test score: 0.1754508912563324\n",
      "Test accuracy: 0.9495000243186951\n"
     ]
    },
    {
     "data": {
      "application/javascript": [
       "\n",
       "            setTimeout(function() {\n",
       "                var nbb_cell_id = 18;\n",
       "                var nbb_unformatted_code = \"score = model.evaluate(X_test, y_test, verbose=0)\\nprint(\\\"Test score:\\\", score[0])\\nprint(\\\"Test accuracy:\\\", score[1])\";\n",
       "                var nbb_formatted_code = \"score = model.evaluate(X_test, y_test, verbose=0)\\nprint(\\\"Test score:\\\", score[0])\\nprint(\\\"Test accuracy:\\\", score[1])\";\n",
       "                var nbb_cells = Jupyter.notebook.get_cells();\n",
       "                for (var i = 0; i < nbb_cells.length; ++i) {\n",
       "                    if (nbb_cells[i].input_prompt_number == nbb_cell_id) {\n",
       "                        if (nbb_cells[i].get_text() == nbb_unformatted_code) {\n",
       "                             nbb_cells[i].set_text(nbb_formatted_code);\n",
       "                        }\n",
       "                        break;\n",
       "                    }\n",
       "                }\n",
       "            }, 500);\n",
       "            "
      ],
      "text/plain": [
       "<IPython.core.display.Javascript object>"
      ]
     },
     "metadata": {},
     "output_type": "display_data"
    }
   ],
   "source": [
    "score = model.evaluate(X_test, y_test, verbose=0)\n",
    "print(\"Test score:\", score[0])\n",
    "print(\"Test accuracy:\", score[1])"
   ]
  },
  {
   "cell_type": "code",
   "execution_count": 19,
   "metadata": {},
   "outputs": [
    {
     "name": "stdout",
     "output_type": "stream",
     "text": [
      "Epoch 1/20\n",
      "469/469 [==============================] - 1s 3ms/step - loss: 1.1858 - accuracy: 0.7274\n",
      "Epoch 2/20\n",
      "469/469 [==============================] - 1s 3ms/step - loss: 0.6097 - accuracy: 0.8773\n",
      "Epoch 3/20\n",
      "469/469 [==============================] - 1s 3ms/step - loss: 0.4344 - accuracy: 0.9026\n",
      "Epoch 4/20\n",
      "469/469 [==============================] - 1s 3ms/step - loss: 0.3519 - accuracy: 0.9152\n",
      "Epoch 5/20\n",
      "469/469 [==============================] - 1s 3ms/step - loss: 0.3026 - accuracy: 0.9241\n",
      "Epoch 6/20\n",
      "469/469 [==============================] - 2s 3ms/step - loss: 0.2690 - accuracy: 0.9317\n",
      "Epoch 7/20\n",
      "469/469 [==============================] - 1s 3ms/step - loss: 0.2429 - accuracy: 0.9370\n",
      "Epoch 8/20\n",
      "469/469 [==============================] - 1s 3ms/step - loss: 0.2220 - accuracy: 0.9421\n",
      "Epoch 9/20\n",
      "469/469 [==============================] - 2s 3ms/step - loss: 0.2048 - accuracy: 0.9463\n",
      "Epoch 10/20\n",
      "469/469 [==============================] - 2s 3ms/step - loss: 0.1892 - accuracy: 0.9503\n",
      "Epoch 11/20\n",
      "469/469 [==============================] - 1s 3ms/step - loss: 0.1761 - accuracy: 0.9533\n",
      "Epoch 12/20\n",
      "469/469 [==============================] - 1s 3ms/step - loss: 0.1643 - accuracy: 0.9560\n",
      "Epoch 13/20\n",
      "469/469 [==============================] - 1s 3ms/step - loss: 0.1536 - accuracy: 0.9587\n",
      "Epoch 14/20\n",
      "469/469 [==============================] - 1s 3ms/step - loss: 0.1443 - accuracy: 0.9618\n",
      "Epoch 15/20\n",
      "469/469 [==============================] - 1s 3ms/step - loss: 0.1359 - accuracy: 0.9638\n",
      "Epoch 16/20\n",
      "469/469 [==============================] - 1s 3ms/step - loss: 0.1283 - accuracy: 0.9664\n",
      "Epoch 17/20\n",
      "469/469 [==============================] - 1s 3ms/step - loss: 0.1217 - accuracy: 0.9678\n",
      "Epoch 18/20\n",
      "469/469 [==============================] - 1s 3ms/step - loss: 0.1149 - accuracy: 0.9697\n",
      "Epoch 19/20\n",
      "469/469 [==============================] - 1s 3ms/step - loss: 0.1092 - accuracy: 0.9715\n",
      "Epoch 20/20\n",
      "469/469 [==============================] - 1s 3ms/step - loss: 0.1038 - accuracy: 0.9732\n"
     ]
    },
    {
     "data": {
      "text/plain": [
       "<tensorflow.python.keras.callbacks.History at 0x284d3e690c8>"
      ]
     },
     "execution_count": 19,
     "metadata": {},
     "output_type": "execute_result"
    },
    {
     "data": {
      "application/javascript": [
       "\n",
       "            setTimeout(function() {\n",
       "                var nbb_cell_id = 19;\n",
       "                var nbb_unformatted_code = \"# 7 Layers\\nmodel = Sequential()\\nmodel.add(Dense(512, input_dim=X_train.shape[1], activation=\\\"tanh\\\"))\\nmodel.add(Dense(256, activation=\\\"tanh\\\"))\\nmodel.add(Dense(128, activation=\\\"tanh\\\"))\\nmodel.add(Dense(64, activation=\\\"tanh\\\"))\\nmodel.add(Dense(32, activation=\\\"tanh\\\"))\\nmodel.add(Dense(16, activation=\\\"tanh\\\"))\\nmodel.add(Dense(10, activation=\\\"softmax\\\"))\\n\\nmodel.compile(optimizer=\\\"sgd\\\", loss=\\\"categorical_crossentropy\\\", metrics=[\\\"accuracy\\\"])\\n\\nmodel.fit(X_train, y_train, batch_size=128, epochs=20, verbose=1)\";\n",
       "                var nbb_formatted_code = \"# 7 Layers\\nmodel = Sequential()\\nmodel.add(Dense(512, input_dim=X_train.shape[1], activation=\\\"tanh\\\"))\\nmodel.add(Dense(256, activation=\\\"tanh\\\"))\\nmodel.add(Dense(128, activation=\\\"tanh\\\"))\\nmodel.add(Dense(64, activation=\\\"tanh\\\"))\\nmodel.add(Dense(32, activation=\\\"tanh\\\"))\\nmodel.add(Dense(16, activation=\\\"tanh\\\"))\\nmodel.add(Dense(10, activation=\\\"softmax\\\"))\\n\\nmodel.compile(optimizer=\\\"sgd\\\", loss=\\\"categorical_crossentropy\\\", metrics=[\\\"accuracy\\\"])\\n\\nmodel.fit(X_train, y_train, batch_size=128, epochs=20, verbose=1)\";\n",
       "                var nbb_cells = Jupyter.notebook.get_cells();\n",
       "                for (var i = 0; i < nbb_cells.length; ++i) {\n",
       "                    if (nbb_cells[i].input_prompt_number == nbb_cell_id) {\n",
       "                        if (nbb_cells[i].get_text() == nbb_unformatted_code) {\n",
       "                             nbb_cells[i].set_text(nbb_formatted_code);\n",
       "                        }\n",
       "                        break;\n",
       "                    }\n",
       "                }\n",
       "            }, 500);\n",
       "            "
      ],
      "text/plain": [
       "<IPython.core.display.Javascript object>"
      ]
     },
     "metadata": {},
     "output_type": "display_data"
    }
   ],
   "source": [
    "# 7 Layers\n",
    "model = Sequential()\n",
    "model.add(Dense(512, input_dim=X_train.shape[1], activation=\"tanh\"))\n",
    "model.add(Dense(256, activation=\"tanh\"))\n",
    "model.add(Dense(128, activation=\"tanh\"))\n",
    "model.add(Dense(64, activation=\"tanh\"))\n",
    "model.add(Dense(32, activation=\"tanh\"))\n",
    "model.add(Dense(16, activation=\"tanh\"))\n",
    "model.add(Dense(10, activation=\"softmax\"))\n",
    "\n",
    "model.compile(optimizer=\"sgd\", loss=\"categorical_crossentropy\", metrics=[\"accuracy\"])\n",
    "\n",
    "model.fit(X_train, y_train, batch_size=128, epochs=20, verbose=1)"
   ]
  },
  {
   "cell_type": "code",
   "execution_count": 20,
   "metadata": {},
   "outputs": [
    {
     "name": "stdout",
     "output_type": "stream",
     "text": [
      "Test score: 0.11815356463193893\n",
      "Test accuracy: 0.9660000205039978\n"
     ]
    },
    {
     "data": {
      "application/javascript": [
       "\n",
       "            setTimeout(function() {\n",
       "                var nbb_cell_id = 20;\n",
       "                var nbb_unformatted_code = \"score = model.evaluate(X_test, y_test, verbose=0)\\nprint(\\\"Test score:\\\", score[0])\\nprint(\\\"Test accuracy:\\\", score[1])\";\n",
       "                var nbb_formatted_code = \"score = model.evaluate(X_test, y_test, verbose=0)\\nprint(\\\"Test score:\\\", score[0])\\nprint(\\\"Test accuracy:\\\", score[1])\";\n",
       "                var nbb_cells = Jupyter.notebook.get_cells();\n",
       "                for (var i = 0; i < nbb_cells.length; ++i) {\n",
       "                    if (nbb_cells[i].input_prompt_number == nbb_cell_id) {\n",
       "                        if (nbb_cells[i].get_text() == nbb_unformatted_code) {\n",
       "                             nbb_cells[i].set_text(nbb_formatted_code);\n",
       "                        }\n",
       "                        break;\n",
       "                    }\n",
       "                }\n",
       "            }, 500);\n",
       "            "
      ],
      "text/plain": [
       "<IPython.core.display.Javascript object>"
      ]
     },
     "metadata": {},
     "output_type": "display_data"
    }
   ],
   "source": [
    "score = model.evaluate(X_test, y_test, verbose=0)\n",
    "print(\"Test score:\", score[0])\n",
    "print(\"Test accuracy:\", score[1])"
   ]
  },
  {
   "cell_type": "code",
   "execution_count": 21,
   "metadata": {},
   "outputs": [
    {
     "name": "stdout",
     "output_type": "stream",
     "text": [
      "Epoch 1/20\n",
      "469/469 [==============================] - 9s 19ms/step - loss: 0.9576 - accuracy: 0.8010\n",
      "Epoch 2/20\n",
      "469/469 [==============================] - 9s 19ms/step - loss: 0.5286 - accuracy: 0.8923\n",
      "Epoch 3/20\n",
      "469/469 [==============================] - 9s 19ms/step - loss: 0.3772 - accuracy: 0.9170\n",
      "Epoch 4/20\n",
      "469/469 [==============================] - 9s 19ms/step - loss: 0.2965 - accuracy: 0.9314 0s - loss: 0.2981 - \n",
      "Epoch 5/20\n",
      "469/469 [==============================] - 13s 27ms/step - loss: 0.2479 - accuracy: 0.9405\n",
      "Epoch 6/20\n",
      "469/469 [==============================] - 9s 19ms/step - loss: 0.2144 - accuracy: 0.9478\n",
      "Epoch 7/20\n",
      "469/469 [==============================] - 12s 25ms/step - loss: 0.1890 - accuracy: 0.9532\n",
      "Epoch 8/20\n",
      "469/469 [==============================] - 9s 20ms/step - loss: 0.1685 - accuracy: 0.9589\n",
      "Epoch 9/20\n",
      "469/469 [==============================] - 9s 19ms/step - loss: 0.1527 - accuracy: 0.9623\n",
      "Epoch 10/20\n",
      "469/469 [==============================] - 13s 28ms/step - loss: 0.1387 - accuracy: 0.9656\n",
      "Epoch 11/20\n",
      "469/469 [==============================] - 9s 20ms/step - loss: 0.1269 - accuracy: 0.9689\n",
      "Epoch 12/20\n",
      "469/469 [==============================] - 12s 25ms/step - loss: 0.1166 - accuracy: 0.9711\n",
      "Epoch 13/20\n",
      "469/469 [==============================] - 9s 19ms/step - loss: 0.1079 - accuracy: 0.9736\n",
      "Epoch 14/20\n",
      "469/469 [==============================] - 12s 26ms/step - loss: 0.1000 - accuracy: 0.9755\n",
      "Epoch 15/20\n",
      "469/469 [==============================] - 9s 19ms/step - loss: 0.0924 - accuracy: 0.9779\n",
      "Epoch 16/20\n",
      "469/469 [==============================] - 13s 28ms/step - loss: 0.0867 - accuracy: 0.9791\n",
      "Epoch 17/20\n",
      "469/469 [==============================] - 10s 22ms/step - loss: 0.0805 - accuracy: 0.9812\n",
      "Epoch 18/20\n",
      "469/469 [==============================] - 13s 29ms/step - loss: 0.0756 - accuracy: 0.9822\n",
      "Epoch 19/20\n",
      "469/469 [==============================] - 10s 21ms/step - loss: 0.0709 - accuracy: 0.98321s\n",
      "Epoch 20/20\n",
      "469/469 [==============================] - 13s 28ms/step - loss: 0.0663 - accuracy: 0.9850\n"
     ]
    },
    {
     "data": {
      "text/plain": [
       "<tensorflow.python.keras.callbacks.History at 0x284d572c308>"
      ]
     },
     "execution_count": 21,
     "metadata": {},
     "output_type": "execute_result"
    },
    {
     "data": {
      "application/javascript": [
       "\n",
       "            setTimeout(function() {\n",
       "                var nbb_cell_id = 21;\n",
       "                var nbb_unformatted_code = \"# 9 Layers\\nmodel = Sequential()\\nmodel.add(Dense(2048, input_dim=X_train.shape[1], activation=\\\"tanh\\\"))\\nmodel.add(Dense(1024, activation=\\\"tanh\\\"))\\nmodel.add(Dense(512, activation=\\\"tanh\\\"))\\nmodel.add(Dense(256, activation=\\\"tanh\\\"))\\nmodel.add(Dense(128, activation=\\\"tanh\\\"))\\nmodel.add(Dense(64, activation=\\\"tanh\\\"))\\nmodel.add(Dense(32, activation=\\\"tanh\\\"))\\nmodel.add(Dense(16, activation=\\\"tanh\\\"))\\nmodel.add(Dense(10, activation=\\\"softmax\\\"))\\n\\nmodel.compile(optimizer=\\\"sgd\\\", loss=\\\"categorical_crossentropy\\\", metrics=[\\\"accuracy\\\"])\\n\\nmodel.fit(X_train, y_train, batch_size=128, epochs=20, verbose=1)\";\n",
       "                var nbb_formatted_code = \"# 9 Layers\\nmodel = Sequential()\\nmodel.add(Dense(2048, input_dim=X_train.shape[1], activation=\\\"tanh\\\"))\\nmodel.add(Dense(1024, activation=\\\"tanh\\\"))\\nmodel.add(Dense(512, activation=\\\"tanh\\\"))\\nmodel.add(Dense(256, activation=\\\"tanh\\\"))\\nmodel.add(Dense(128, activation=\\\"tanh\\\"))\\nmodel.add(Dense(64, activation=\\\"tanh\\\"))\\nmodel.add(Dense(32, activation=\\\"tanh\\\"))\\nmodel.add(Dense(16, activation=\\\"tanh\\\"))\\nmodel.add(Dense(10, activation=\\\"softmax\\\"))\\n\\nmodel.compile(optimizer=\\\"sgd\\\", loss=\\\"categorical_crossentropy\\\", metrics=[\\\"accuracy\\\"])\\n\\nmodel.fit(X_train, y_train, batch_size=128, epochs=20, verbose=1)\";\n",
       "                var nbb_cells = Jupyter.notebook.get_cells();\n",
       "                for (var i = 0; i < nbb_cells.length; ++i) {\n",
       "                    if (nbb_cells[i].input_prompt_number == nbb_cell_id) {\n",
       "                        if (nbb_cells[i].get_text() == nbb_unformatted_code) {\n",
       "                             nbb_cells[i].set_text(nbb_formatted_code);\n",
       "                        }\n",
       "                        break;\n",
       "                    }\n",
       "                }\n",
       "            }, 500);\n",
       "            "
      ],
      "text/plain": [
       "<IPython.core.display.Javascript object>"
      ]
     },
     "metadata": {},
     "output_type": "display_data"
    }
   ],
   "source": [
    "# 9 Layers\n",
    "model = Sequential()\n",
    "model.add(Dense(2048, input_dim=X_train.shape[1], activation=\"tanh\"))\n",
    "model.add(Dense(1024, activation=\"tanh\"))\n",
    "model.add(Dense(512, activation=\"tanh\"))\n",
    "model.add(Dense(256, activation=\"tanh\"))\n",
    "model.add(Dense(128, activation=\"tanh\"))\n",
    "model.add(Dense(64, activation=\"tanh\"))\n",
    "model.add(Dense(32, activation=\"tanh\"))\n",
    "model.add(Dense(16, activation=\"tanh\"))\n",
    "model.add(Dense(10, activation=\"softmax\"))\n",
    "\n",
    "model.compile(optimizer=\"sgd\", loss=\"categorical_crossentropy\", metrics=[\"accuracy\"])\n",
    "\n",
    "model.fit(X_train, y_train, batch_size=128, epochs=20, verbose=1)"
   ]
  },
  {
   "cell_type": "code",
   "execution_count": 22,
   "metadata": {},
   "outputs": [
    {
     "name": "stdout",
     "output_type": "stream",
     "text": [
      "Test score: 0.0952858179807663\n",
      "Test accuracy: 0.9745000004768372\n"
     ]
    },
    {
     "data": {
      "application/javascript": [
       "\n",
       "            setTimeout(function() {\n",
       "                var nbb_cell_id = 22;\n",
       "                var nbb_unformatted_code = \"score = model.evaluate(X_test, y_test, verbose=0)\\nprint(\\\"Test score:\\\", score[0])\\nprint(\\\"Test accuracy:\\\", score[1])\";\n",
       "                var nbb_formatted_code = \"score = model.evaluate(X_test, y_test, verbose=0)\\nprint(\\\"Test score:\\\", score[0])\\nprint(\\\"Test accuracy:\\\", score[1])\";\n",
       "                var nbb_cells = Jupyter.notebook.get_cells();\n",
       "                for (var i = 0; i < nbb_cells.length; ++i) {\n",
       "                    if (nbb_cells[i].input_prompt_number == nbb_cell_id) {\n",
       "                        if (nbb_cells[i].get_text() == nbb_unformatted_code) {\n",
       "                             nbb_cells[i].set_text(nbb_formatted_code);\n",
       "                        }\n",
       "                        break;\n",
       "                    }\n",
       "                }\n",
       "            }, 500);\n",
       "            "
      ],
      "text/plain": [
       "<IPython.core.display.Javascript object>"
      ]
     },
     "metadata": {},
     "output_type": "display_data"
    }
   ],
   "source": [
    "score = model.evaluate(X_test, y_test, verbose=0)\n",
    "print(\"Test score:\", score[0])\n",
    "print(\"Test accuracy:\", score[1])"
   ]
  },
  {
   "cell_type": "markdown",
   "metadata": {},
   "source": [
    "The model with 9 layers had the best test accuracy, however it was noticeably slower. Additionally, the accuracy was only better by around 0.01. Using tanh activation provided very similar results and the accuracy was just barely lower than when using ReLU."
   ]
  },
  {
   "cell_type": "markdown",
   "metadata": {},
   "source": [
    "# Sigmoid activation and SGD loss"
   ]
  },
  {
   "cell_type": "code",
   "execution_count": 23,
   "metadata": {},
   "outputs": [
    {
     "name": "stdout",
     "output_type": "stream",
     "text": [
      "Epoch 1/20\n",
      "469/469 [==============================] - 0s 857us/step - loss: 2.2819 - accuracy: 0.1620\n",
      "Epoch 2/20\n",
      "469/469 [==============================] - 0s 825us/step - loss: 2.2308 - accuracy: 0.3004\n",
      "Epoch 3/20\n",
      "469/469 [==============================] - 0s 962us/step - loss: 2.1697 - accuracy: 0.4403\n",
      "Epoch 4/20\n",
      "469/469 [==============================] - 0s 953us/step - loss: 2.0844 - accuracy: 0.5227\n",
      "Epoch 5/20\n",
      "469/469 [==============================] - 0s 886us/step - loss: 1.9670 - accuracy: 0.5745\n",
      "Epoch 6/20\n",
      "469/469 [==============================] - 0s 895us/step - loss: 1.8187 - accuracy: 0.6117\n",
      "Epoch 7/20\n",
      "469/469 [==============================] - 0s 831us/step - loss: 1.6499 - accuracy: 0.6514\n",
      "Epoch 8/20\n",
      "469/469 [==============================] - 0s 829us/step - loss: 1.4748 - accuracy: 0.6882\n",
      "Epoch 9/20\n",
      "469/469 [==============================] - 0s 836us/step - loss: 1.3093 - accuracy: 0.7186\n",
      "Epoch 10/20\n",
      "469/469 [==============================] - 0s 834us/step - loss: 1.1674 - accuracy: 0.7476\n",
      "Epoch 11/20\n",
      "469/469 [==============================] - 0s 889us/step - loss: 1.0525 - accuracy: 0.7679\n",
      "Epoch 12/20\n",
      "469/469 [==============================] - 0s 883us/step - loss: 0.9606 - accuracy: 0.7851\n",
      "Epoch 13/20\n",
      "469/469 [==============================] - 0s 870us/step - loss: 0.8859 - accuracy: 0.7983\n",
      "Epoch 14/20\n",
      "469/469 [==============================] - 0s 895us/step - loss: 0.8238 - accuracy: 0.8112\n",
      "Epoch 15/20\n",
      "469/469 [==============================] - 0s 951us/step - loss: 0.7711 - accuracy: 0.8210\n",
      "Epoch 16/20\n",
      "469/469 [==============================] - 0s 844us/step - loss: 0.7260 - accuracy: 0.8292\n",
      "Epoch 17/20\n",
      "469/469 [==============================] - 0s 855us/step - loss: 0.6868 - accuracy: 0.8368\n",
      "Epoch 18/20\n",
      "469/469 [==============================] - 0s 838us/step - loss: 0.6525 - accuracy: 0.8423\n",
      "Epoch 19/20\n",
      "469/469 [==============================] - 0s 921us/step - loss: 0.6224 - accuracy: 0.8480\n",
      "Epoch 20/20\n",
      "469/469 [==============================] - 0s 948us/step - loss: 0.5958 - accuracy: 0.8529\n"
     ]
    },
    {
     "data": {
      "text/plain": [
       "<tensorflow.python.keras.callbacks.History at 0x284d5ab4448>"
      ]
     },
     "execution_count": 23,
     "metadata": {},
     "output_type": "execute_result"
    },
    {
     "data": {
      "application/javascript": [
       "\n",
       "            setTimeout(function() {\n",
       "                var nbb_cell_id = 23;\n",
       "                var nbb_unformatted_code = \"# 3 Layers\\nmodel = Sequential()\\nmodel.add(Dense(128, input_dim=X_train.shape[1], activation=\\\"sigmoid\\\"))\\nmodel.add(Dense(64, activation=\\\"sigmoid\\\"))\\nmodel.add(Dense(10, activation=\\\"softmax\\\"))\\n\\nmodel.compile(optimizer=\\\"sgd\\\", loss=\\\"categorical_crossentropy\\\", metrics=[\\\"accuracy\\\"])\\nmodel.fit(X_train, y_train, batch_size=128, epochs=20, verbose=1)\";\n",
       "                var nbb_formatted_code = \"# 3 Layers\\nmodel = Sequential()\\nmodel.add(Dense(128, input_dim=X_train.shape[1], activation=\\\"sigmoid\\\"))\\nmodel.add(Dense(64, activation=\\\"sigmoid\\\"))\\nmodel.add(Dense(10, activation=\\\"softmax\\\"))\\n\\nmodel.compile(optimizer=\\\"sgd\\\", loss=\\\"categorical_crossentropy\\\", metrics=[\\\"accuracy\\\"])\\nmodel.fit(X_train, y_train, batch_size=128, epochs=20, verbose=1)\";\n",
       "                var nbb_cells = Jupyter.notebook.get_cells();\n",
       "                for (var i = 0; i < nbb_cells.length; ++i) {\n",
       "                    if (nbb_cells[i].input_prompt_number == nbb_cell_id) {\n",
       "                        if (nbb_cells[i].get_text() == nbb_unformatted_code) {\n",
       "                             nbb_cells[i].set_text(nbb_formatted_code);\n",
       "                        }\n",
       "                        break;\n",
       "                    }\n",
       "                }\n",
       "            }, 500);\n",
       "            "
      ],
      "text/plain": [
       "<IPython.core.display.Javascript object>"
      ]
     },
     "metadata": {},
     "output_type": "display_data"
    }
   ],
   "source": [
    "# 3 Layers\n",
    "model = Sequential()\n",
    "model.add(Dense(128, input_dim=X_train.shape[1], activation=\"sigmoid\"))\n",
    "model.add(Dense(64, activation=\"sigmoid\"))\n",
    "model.add(Dense(10, activation=\"softmax\"))\n",
    "\n",
    "model.compile(optimizer=\"sgd\", loss=\"categorical_crossentropy\", metrics=[\"accuracy\"])\n",
    "model.fit(X_train, y_train, batch_size=128, epochs=20, verbose=1)"
   ]
  },
  {
   "cell_type": "code",
   "execution_count": 24,
   "metadata": {},
   "outputs": [
    {
     "name": "stdout",
     "output_type": "stream",
     "text": [
      "Test score: 0.5654525756835938\n",
      "Test accuracy: 0.8640000224113464\n"
     ]
    },
    {
     "data": {
      "application/javascript": [
       "\n",
       "            setTimeout(function() {\n",
       "                var nbb_cell_id = 24;\n",
       "                var nbb_unformatted_code = \"score = model.evaluate(X_test, y_test, verbose=0)\\nprint(\\\"Test score:\\\", score[0])\\nprint(\\\"Test accuracy:\\\", score[1])\";\n",
       "                var nbb_formatted_code = \"score = model.evaluate(X_test, y_test, verbose=0)\\nprint(\\\"Test score:\\\", score[0])\\nprint(\\\"Test accuracy:\\\", score[1])\";\n",
       "                var nbb_cells = Jupyter.notebook.get_cells();\n",
       "                for (var i = 0; i < nbb_cells.length; ++i) {\n",
       "                    if (nbb_cells[i].input_prompt_number == nbb_cell_id) {\n",
       "                        if (nbb_cells[i].get_text() == nbb_unformatted_code) {\n",
       "                             nbb_cells[i].set_text(nbb_formatted_code);\n",
       "                        }\n",
       "                        break;\n",
       "                    }\n",
       "                }\n",
       "            }, 500);\n",
       "            "
      ],
      "text/plain": [
       "<IPython.core.display.Javascript object>"
      ]
     },
     "metadata": {},
     "output_type": "display_data"
    }
   ],
   "source": [
    "score = model.evaluate(X_test, y_test, verbose=0)\n",
    "print(\"Test score:\", score[0])\n",
    "print(\"Test accuracy:\", score[1])"
   ]
  },
  {
   "cell_type": "code",
   "execution_count": 25,
   "metadata": {},
   "outputs": [
    {
     "name": "stdout",
     "output_type": "stream",
     "text": [
      "Epoch 1/20\n",
      "469/469 [==============================] - 0s 902us/step - loss: 2.3140 - accuracy: 0.1053\n",
      "Epoch 2/20\n",
      "469/469 [==============================] - 0s 1ms/step - loss: 2.3007 - accuracy: 0.1124\n",
      "Epoch 3/20\n",
      "469/469 [==============================] - 0s 940us/step - loss: 2.3005 - accuracy: 0.1124\n",
      "Epoch 4/20\n",
      "469/469 [==============================] - 0s 927us/step - loss: 2.3004 - accuracy: 0.1124\n",
      "Epoch 5/20\n",
      "469/469 [==============================] - 0s 956us/step - loss: 2.3002 - accuracy: 0.1124\n",
      "Epoch 6/20\n",
      "469/469 [==============================] - 0s 1ms/step - loss: 2.3000 - accuracy: 0.1124\n",
      "Epoch 7/20\n",
      "469/469 [==============================] - 0s 931us/step - loss: 2.2999 - accuracy: 0.1124\n",
      "Epoch 8/20\n",
      "469/469 [==============================] - 0s 918us/step - loss: 2.2997 - accuracy: 0.11240s - loss: 2.2993 - ac\n",
      "Epoch 9/20\n",
      "469/469 [==============================] - 0s 906us/step - loss: 2.2995 - accuracy: 0.1124\n",
      "Epoch 10/20\n",
      "469/469 [==============================] - 0s 1ms/step - loss: 2.2993 - accuracy: 0.1124\n",
      "Epoch 11/20\n",
      "469/469 [==============================] - 0s 1ms/step - loss: 2.2991 - accuracy: 0.1124\n",
      "Epoch 12/20\n",
      "469/469 [==============================] - 0s 959us/step - loss: 2.2989 - accuracy: 0.1124\n",
      "Epoch 13/20\n",
      "469/469 [==============================] - 0s 985us/step - loss: 2.2987 - accuracy: 0.1124\n",
      "Epoch 14/20\n",
      "469/469 [==============================] - 0s 1ms/step - loss: 2.2985 - accuracy: 0.1124\n",
      "Epoch 15/20\n",
      "469/469 [==============================] - 0s 1ms/step - loss: 2.2983 - accuracy: 0.1124\n",
      "Epoch 16/20\n",
      "469/469 [==============================] - 0s 1ms/step - loss: 2.2980 - accuracy: 0.1124\n",
      "Epoch 17/20\n",
      "469/469 [==============================] - 1s 1ms/step - loss: 2.2978 - accuracy: 0.1124\n",
      "Epoch 18/20\n",
      "469/469 [==============================] - 0s 1ms/step - loss: 2.2975 - accuracy: 0.1124\n",
      "Epoch 19/20\n",
      "469/469 [==============================] - 0s 1ms/step - loss: 2.2972 - accuracy: 0.1124\n",
      "Epoch 20/20\n",
      "469/469 [==============================] - 0s 1ms/step - loss: 2.2969 - accuracy: 0.1124\n"
     ]
    },
    {
     "data": {
      "text/plain": [
       "<tensorflow.python.keras.callbacks.History at 0x284d5da3048>"
      ]
     },
     "execution_count": 25,
     "metadata": {},
     "output_type": "execute_result"
    },
    {
     "data": {
      "application/javascript": [
       "\n",
       "            setTimeout(function() {\n",
       "                var nbb_cell_id = 25;\n",
       "                var nbb_unformatted_code = \"# 5 Layers\\nmodel = Sequential()\\nmodel.add(Dense(128, input_dim=X_train.shape[1], activation=\\\"sigmoid\\\"))\\nmodel.add(Dense(64, activation=\\\"sigmoid\\\"))\\nmodel.add(Dense(32, activation=\\\"sigmoid\\\"))\\nmodel.add(Dense(16, activation=\\\"sigmoid\\\"))\\nmodel.add(Dense(10, activation=\\\"softmax\\\"))\\n\\nmodel.compile(optimizer=\\\"sgd\\\", loss=\\\"categorical_crossentropy\\\", metrics=[\\\"accuracy\\\"])\\n\\nmodel.fit(X_train, y_train, batch_size=128, epochs=20, verbose=1)\";\n",
       "                var nbb_formatted_code = \"# 5 Layers\\nmodel = Sequential()\\nmodel.add(Dense(128, input_dim=X_train.shape[1], activation=\\\"sigmoid\\\"))\\nmodel.add(Dense(64, activation=\\\"sigmoid\\\"))\\nmodel.add(Dense(32, activation=\\\"sigmoid\\\"))\\nmodel.add(Dense(16, activation=\\\"sigmoid\\\"))\\nmodel.add(Dense(10, activation=\\\"softmax\\\"))\\n\\nmodel.compile(optimizer=\\\"sgd\\\", loss=\\\"categorical_crossentropy\\\", metrics=[\\\"accuracy\\\"])\\n\\nmodel.fit(X_train, y_train, batch_size=128, epochs=20, verbose=1)\";\n",
       "                var nbb_cells = Jupyter.notebook.get_cells();\n",
       "                for (var i = 0; i < nbb_cells.length; ++i) {\n",
       "                    if (nbb_cells[i].input_prompt_number == nbb_cell_id) {\n",
       "                        if (nbb_cells[i].get_text() == nbb_unformatted_code) {\n",
       "                             nbb_cells[i].set_text(nbb_formatted_code);\n",
       "                        }\n",
       "                        break;\n",
       "                    }\n",
       "                }\n",
       "            }, 500);\n",
       "            "
      ],
      "text/plain": [
       "<IPython.core.display.Javascript object>"
      ]
     },
     "metadata": {},
     "output_type": "display_data"
    }
   ],
   "source": [
    "# 5 Layers\n",
    "model = Sequential()\n",
    "model.add(Dense(128, input_dim=X_train.shape[1], activation=\"sigmoid\"))\n",
    "model.add(Dense(64, activation=\"sigmoid\"))\n",
    "model.add(Dense(32, activation=\"sigmoid\"))\n",
    "model.add(Dense(16, activation=\"sigmoid\"))\n",
    "model.add(Dense(10, activation=\"softmax\"))\n",
    "\n",
    "model.compile(optimizer=\"sgd\", loss=\"categorical_crossentropy\", metrics=[\"accuracy\"])\n",
    "\n",
    "model.fit(X_train, y_train, batch_size=128, epochs=20, verbose=1)"
   ]
  },
  {
   "cell_type": "code",
   "execution_count": 26,
   "metadata": {},
   "outputs": [
    {
     "name": "stdout",
     "output_type": "stream",
     "text": [
      "Test score: 2.2964305877685547\n",
      "Test accuracy: 0.11349999904632568\n"
     ]
    },
    {
     "data": {
      "application/javascript": [
       "\n",
       "            setTimeout(function() {\n",
       "                var nbb_cell_id = 26;\n",
       "                var nbb_unformatted_code = \"score = model.evaluate(X_test, y_test, verbose=0)\\nprint(\\\"Test score:\\\", score[0])\\nprint(\\\"Test accuracy:\\\", score[1])\";\n",
       "                var nbb_formatted_code = \"score = model.evaluate(X_test, y_test, verbose=0)\\nprint(\\\"Test score:\\\", score[0])\\nprint(\\\"Test accuracy:\\\", score[1])\";\n",
       "                var nbb_cells = Jupyter.notebook.get_cells();\n",
       "                for (var i = 0; i < nbb_cells.length; ++i) {\n",
       "                    if (nbb_cells[i].input_prompt_number == nbb_cell_id) {\n",
       "                        if (nbb_cells[i].get_text() == nbb_unformatted_code) {\n",
       "                             nbb_cells[i].set_text(nbb_formatted_code);\n",
       "                        }\n",
       "                        break;\n",
       "                    }\n",
       "                }\n",
       "            }, 500);\n",
       "            "
      ],
      "text/plain": [
       "<IPython.core.display.Javascript object>"
      ]
     },
     "metadata": {},
     "output_type": "display_data"
    }
   ],
   "source": [
    "score = model.evaluate(X_test, y_test, verbose=0)\n",
    "print(\"Test score:\", score[0])\n",
    "print(\"Test accuracy:\", score[1])"
   ]
  },
  {
   "cell_type": "code",
   "execution_count": 27,
   "metadata": {},
   "outputs": [
    {
     "name": "stdout",
     "output_type": "stream",
     "text": [
      "Epoch 1/20\n",
      "469/469 [==============================] - 1s 3ms/step - loss: 2.3320 - accuracy: 0.0995\n",
      "Epoch 2/20\n",
      "469/469 [==============================] - 1s 3ms/step - loss: 2.3015 - accuracy: 0.1117\n",
      "Epoch 3/20\n",
      "469/469 [==============================] - 1s 3ms/step - loss: 2.3013 - accuracy: 0.1124\n",
      "Epoch 4/20\n",
      "469/469 [==============================] - 1s 3ms/step - loss: 2.3013 - accuracy: 0.1124\n",
      "Epoch 5/20\n",
      "469/469 [==============================] - 1s 3ms/step - loss: 2.3013 - accuracy: 0.1124\n",
      "Epoch 6/20\n",
      "469/469 [==============================] - 1s 3ms/step - loss: 2.3013 - accuracy: 0.1124\n",
      "Epoch 7/20\n",
      "469/469 [==============================] - 1s 3ms/step - loss: 2.3013 - accuracy: 0.1124\n",
      "Epoch 8/20\n",
      "469/469 [==============================] - 2s 3ms/step - loss: 2.3013 - accuracy: 0.1124\n",
      "Epoch 9/20\n",
      "469/469 [==============================] - 2s 3ms/step - loss: 2.3013 - accuracy: 0.1124\n",
      "Epoch 10/20\n",
      "469/469 [==============================] - 1s 3ms/step - loss: 2.3013 - accuracy: 0.1124\n",
      "Epoch 11/20\n",
      "469/469 [==============================] - 1s 3ms/step - loss: 2.3013 - accuracy: 0.1124\n",
      "Epoch 12/20\n",
      "469/469 [==============================] - 1s 3ms/step - loss: 2.3013 - accuracy: 0.1124\n",
      "Epoch 13/20\n",
      "469/469 [==============================] - 2s 3ms/step - loss: 2.3013 - accuracy: 0.1124\n",
      "Epoch 14/20\n",
      "469/469 [==============================] - 1s 3ms/step - loss: 2.3013 - accuracy: 0.1124\n",
      "Epoch 15/20\n",
      "469/469 [==============================] - 1s 3ms/step - loss: 2.3013 - accuracy: 0.1124\n",
      "Epoch 16/20\n",
      "469/469 [==============================] - 1s 3ms/step - loss: 2.3013 - accuracy: 0.1124\n",
      "Epoch 17/20\n",
      "469/469 [==============================] - 1s 3ms/step - loss: 2.3013 - accuracy: 0.1124\n",
      "Epoch 18/20\n",
      "469/469 [==============================] - 1s 3ms/step - loss: 2.3013 - accuracy: 0.1124\n",
      "Epoch 19/20\n",
      "469/469 [==============================] - 1s 3ms/step - loss: 2.3013 - accuracy: 0.1124\n",
      "Epoch 20/20\n",
      "469/469 [==============================] - 1s 3ms/step - loss: 2.3013 - accuracy: 0.1124\n"
     ]
    },
    {
     "data": {
      "text/plain": [
       "<tensorflow.python.keras.callbacks.History at 0x284d5f562c8>"
      ]
     },
     "execution_count": 27,
     "metadata": {},
     "output_type": "execute_result"
    },
    {
     "data": {
      "application/javascript": [
       "\n",
       "            setTimeout(function() {\n",
       "                var nbb_cell_id = 27;\n",
       "                var nbb_unformatted_code = \"# 7 Layers\\nmodel = Sequential()\\nmodel.add(Dense(512, input_dim=X_train.shape[1], activation=\\\"sigmoid\\\"))\\nmodel.add(Dense(256, activation=\\\"sigmoid\\\"))\\nmodel.add(Dense(128, activation=\\\"sigmoid\\\"))\\nmodel.add(Dense(64, activation=\\\"sigmoid\\\"))\\nmodel.add(Dense(32, activation=\\\"sigmoid\\\"))\\nmodel.add(Dense(16, activation=\\\"sigmoid\\\"))\\nmodel.add(Dense(10, activation=\\\"softmax\\\"))\\n\\nmodel.compile(optimizer=\\\"sgd\\\", loss=\\\"categorical_crossentropy\\\", metrics=[\\\"accuracy\\\"])\\n\\nmodel.fit(X_train, y_train, batch_size=128, epochs=20, verbose=1)\";\n",
       "                var nbb_formatted_code = \"# 7 Layers\\nmodel = Sequential()\\nmodel.add(Dense(512, input_dim=X_train.shape[1], activation=\\\"sigmoid\\\"))\\nmodel.add(Dense(256, activation=\\\"sigmoid\\\"))\\nmodel.add(Dense(128, activation=\\\"sigmoid\\\"))\\nmodel.add(Dense(64, activation=\\\"sigmoid\\\"))\\nmodel.add(Dense(32, activation=\\\"sigmoid\\\"))\\nmodel.add(Dense(16, activation=\\\"sigmoid\\\"))\\nmodel.add(Dense(10, activation=\\\"softmax\\\"))\\n\\nmodel.compile(optimizer=\\\"sgd\\\", loss=\\\"categorical_crossentropy\\\", metrics=[\\\"accuracy\\\"])\\n\\nmodel.fit(X_train, y_train, batch_size=128, epochs=20, verbose=1)\";\n",
       "                var nbb_cells = Jupyter.notebook.get_cells();\n",
       "                for (var i = 0; i < nbb_cells.length; ++i) {\n",
       "                    if (nbb_cells[i].input_prompt_number == nbb_cell_id) {\n",
       "                        if (nbb_cells[i].get_text() == nbb_unformatted_code) {\n",
       "                             nbb_cells[i].set_text(nbb_formatted_code);\n",
       "                        }\n",
       "                        break;\n",
       "                    }\n",
       "                }\n",
       "            }, 500);\n",
       "            "
      ],
      "text/plain": [
       "<IPython.core.display.Javascript object>"
      ]
     },
     "metadata": {},
     "output_type": "display_data"
    }
   ],
   "source": [
    "# 7 Layers\n",
    "model = Sequential()\n",
    "model.add(Dense(512, input_dim=X_train.shape[1], activation=\"sigmoid\"))\n",
    "model.add(Dense(256, activation=\"sigmoid\"))\n",
    "model.add(Dense(128, activation=\"sigmoid\"))\n",
    "model.add(Dense(64, activation=\"sigmoid\"))\n",
    "model.add(Dense(32, activation=\"sigmoid\"))\n",
    "model.add(Dense(16, activation=\"sigmoid\"))\n",
    "model.add(Dense(10, activation=\"softmax\"))\n",
    "\n",
    "model.compile(optimizer=\"sgd\", loss=\"categorical_crossentropy\", metrics=[\"accuracy\"])\n",
    "\n",
    "model.fit(X_train, y_train, batch_size=128, epochs=20, verbose=1)"
   ]
  },
  {
   "cell_type": "code",
   "execution_count": 28,
   "metadata": {},
   "outputs": [
    {
     "name": "stdout",
     "output_type": "stream",
     "text": [
      "Test score: 2.3009581565856934\n",
      "Test accuracy: 0.11349999904632568\n"
     ]
    },
    {
     "data": {
      "application/javascript": [
       "\n",
       "            setTimeout(function() {\n",
       "                var nbb_cell_id = 28;\n",
       "                var nbb_unformatted_code = \"score = model.evaluate(X_test, y_test, verbose=0)\\nprint(\\\"Test score:\\\", score[0])\\nprint(\\\"Test accuracy:\\\", score[1])\";\n",
       "                var nbb_formatted_code = \"score = model.evaluate(X_test, y_test, verbose=0)\\nprint(\\\"Test score:\\\", score[0])\\nprint(\\\"Test accuracy:\\\", score[1])\";\n",
       "                var nbb_cells = Jupyter.notebook.get_cells();\n",
       "                for (var i = 0; i < nbb_cells.length; ++i) {\n",
       "                    if (nbb_cells[i].input_prompt_number == nbb_cell_id) {\n",
       "                        if (nbb_cells[i].get_text() == nbb_unformatted_code) {\n",
       "                             nbb_cells[i].set_text(nbb_formatted_code);\n",
       "                        }\n",
       "                        break;\n",
       "                    }\n",
       "                }\n",
       "            }, 500);\n",
       "            "
      ],
      "text/plain": [
       "<IPython.core.display.Javascript object>"
      ]
     },
     "metadata": {},
     "output_type": "display_data"
    }
   ],
   "source": [
    "score = model.evaluate(X_test, y_test, verbose=0)\n",
    "print(\"Test score:\", score[0])\n",
    "print(\"Test accuracy:\", score[1])"
   ]
  },
  {
   "cell_type": "code",
   "execution_count": 29,
   "metadata": {},
   "outputs": [
    {
     "name": "stdout",
     "output_type": "stream",
     "text": [
      "Epoch 1/20\n",
      "469/469 [==============================] - 10s 22ms/step - loss: 2.3179 - accuracy: 0.1082\n",
      "Epoch 2/20\n",
      "469/469 [==============================] - 10s 21ms/step - loss: 2.3014 - accuracy: 0.1124\n",
      "Epoch 3/20\n",
      "469/469 [==============================] - 9s 19ms/step - loss: 2.3013 - accuracy: 0.1124\n",
      "Epoch 4/20\n",
      "469/469 [==============================] - 9s 20ms/step - loss: 2.3014 - accuracy: 0.1124\n",
      "Epoch 5/20\n",
      "469/469 [==============================] - 9s 19ms/step - loss: 2.3013 - accuracy: 0.1124\n",
      "Epoch 6/20\n",
      "469/469 [==============================] - 12s 25ms/step - loss: 2.3013 - accuracy: 0.1124\n",
      "Epoch 7/20\n",
      "469/469 [==============================] - 10s 20ms/step - loss: 2.3014 - accuracy: 0.1124\n",
      "Epoch 8/20\n",
      "469/469 [==============================] - 12s 26ms/step - loss: 2.3013 - accuracy: 0.11243s - - ETA: 3s - loss: 2.3013 - ac -\n",
      "Epoch 9/20\n",
      "469/469 [==============================] - 9s 19ms/step - loss: 2.3013 - accuracy: 0.1124\n",
      "Epoch 10/20\n",
      "469/469 [==============================] - 12s 25ms/step - loss: 2.3013 - accuracy: 0.1124\n",
      "Epoch 11/20\n",
      "469/469 [==============================] - 9s 19ms/step - loss: 2.3013 - accuracy: 0.1124\n",
      "Epoch 12/20\n",
      "469/469 [==============================] - 13s 27ms/step - loss: 2.3013 - accuracy: 0.1124\n",
      "Epoch 13/20\n",
      "469/469 [==============================] - 12s 25ms/step - loss: 2.3014 - accuracy: 0.1124\n",
      "Epoch 14/20\n",
      "469/469 [==============================] - 9s 19ms/step - loss: 2.3014 - accuracy: 0.1124\n",
      "Epoch 15/20\n",
      "469/469 [==============================] - 12s 26ms/step - loss: 2.3014 - accuracy: 0.1124\n",
      "Epoch 16/20\n",
      "469/469 [==============================] - 9s 20ms/step - loss: 2.3014 - accuracy: 0.1124\n",
      "Epoch 17/20\n",
      "469/469 [==============================] - 12s 26ms/step - loss: 2.3014 - accuracy: 0.1124\n",
      "Epoch 18/20\n",
      "469/469 [==============================] - 13s 28ms/step - loss: 2.3013 - accuracy: 0.1124\n",
      "Epoch 19/20\n",
      "469/469 [==============================] - 10s 22ms/step - loss: 2.3013 - accuracy: 0.1124\n",
      "Epoch 20/20\n",
      "469/469 [==============================] - 14s 31ms/step - loss: 2.3013 - accuracy: 0.1124\n"
     ]
    },
    {
     "data": {
      "text/plain": [
       "<tensorflow.python.keras.callbacks.History at 0x284d7606188>"
      ]
     },
     "execution_count": 29,
     "metadata": {},
     "output_type": "execute_result"
    },
    {
     "data": {
      "application/javascript": [
       "\n",
       "            setTimeout(function() {\n",
       "                var nbb_cell_id = 29;\n",
       "                var nbb_unformatted_code = \"# 9 Layers\\nmodel = Sequential()\\nmodel.add(Dense(2048, input_dim=X_train.shape[1], activation=\\\"sigmoid\\\"))\\nmodel.add(Dense(1024, activation=\\\"sigmoid\\\"))\\nmodel.add(Dense(512, activation=\\\"sigmoid\\\"))\\nmodel.add(Dense(256, activation=\\\"sigmoid\\\"))\\nmodel.add(Dense(128, activation=\\\"sigmoid\\\"))\\nmodel.add(Dense(64, activation=\\\"sigmoid\\\"))\\nmodel.add(Dense(32, activation=\\\"sigmoid\\\"))\\nmodel.add(Dense(16, activation=\\\"sigmoid\\\"))\\nmodel.add(Dense(10, activation=\\\"softmax\\\"))\\n\\nmodel.compile(optimizer=\\\"sgd\\\", loss=\\\"categorical_crossentropy\\\", metrics=[\\\"accuracy\\\"])\\n\\nmodel.fit(X_train, y_train, batch_size=128, epochs=20, verbose=1)\";\n",
       "                var nbb_formatted_code = \"# 9 Layers\\nmodel = Sequential()\\nmodel.add(Dense(2048, input_dim=X_train.shape[1], activation=\\\"sigmoid\\\"))\\nmodel.add(Dense(1024, activation=\\\"sigmoid\\\"))\\nmodel.add(Dense(512, activation=\\\"sigmoid\\\"))\\nmodel.add(Dense(256, activation=\\\"sigmoid\\\"))\\nmodel.add(Dense(128, activation=\\\"sigmoid\\\"))\\nmodel.add(Dense(64, activation=\\\"sigmoid\\\"))\\nmodel.add(Dense(32, activation=\\\"sigmoid\\\"))\\nmodel.add(Dense(16, activation=\\\"sigmoid\\\"))\\nmodel.add(Dense(10, activation=\\\"softmax\\\"))\\n\\nmodel.compile(optimizer=\\\"sgd\\\", loss=\\\"categorical_crossentropy\\\", metrics=[\\\"accuracy\\\"])\\n\\nmodel.fit(X_train, y_train, batch_size=128, epochs=20, verbose=1)\";\n",
       "                var nbb_cells = Jupyter.notebook.get_cells();\n",
       "                for (var i = 0; i < nbb_cells.length; ++i) {\n",
       "                    if (nbb_cells[i].input_prompt_number == nbb_cell_id) {\n",
       "                        if (nbb_cells[i].get_text() == nbb_unformatted_code) {\n",
       "                             nbb_cells[i].set_text(nbb_formatted_code);\n",
       "                        }\n",
       "                        break;\n",
       "                    }\n",
       "                }\n",
       "            }, 500);\n",
       "            "
      ],
      "text/plain": [
       "<IPython.core.display.Javascript object>"
      ]
     },
     "metadata": {},
     "output_type": "display_data"
    }
   ],
   "source": [
    "# 9 Layers\n",
    "model = Sequential()\n",
    "model.add(Dense(2048, input_dim=X_train.shape[1], activation=\"sigmoid\"))\n",
    "model.add(Dense(1024, activation=\"sigmoid\"))\n",
    "model.add(Dense(512, activation=\"sigmoid\"))\n",
    "model.add(Dense(256, activation=\"sigmoid\"))\n",
    "model.add(Dense(128, activation=\"sigmoid\"))\n",
    "model.add(Dense(64, activation=\"sigmoid\"))\n",
    "model.add(Dense(32, activation=\"sigmoid\"))\n",
    "model.add(Dense(16, activation=\"sigmoid\"))\n",
    "model.add(Dense(10, activation=\"softmax\"))\n",
    "\n",
    "model.compile(optimizer=\"sgd\", loss=\"categorical_crossentropy\", metrics=[\"accuracy\"])\n",
    "\n",
    "model.fit(X_train, y_train, batch_size=128, epochs=20, verbose=1)"
   ]
  },
  {
   "cell_type": "code",
   "execution_count": 30,
   "metadata": {},
   "outputs": [
    {
     "name": "stdout",
     "output_type": "stream",
     "text": [
      "Test score: 2.3010141849517822\n",
      "Test accuracy: 0.11349999904632568\n"
     ]
    },
    {
     "data": {
      "application/javascript": [
       "\n",
       "            setTimeout(function() {\n",
       "                var nbb_cell_id = 30;\n",
       "                var nbb_unformatted_code = \"score = model.evaluate(X_test, y_test, verbose=0)\\nprint(\\\"Test score:\\\", score[0])\\nprint(\\\"Test accuracy:\\\", score[1])\";\n",
       "                var nbb_formatted_code = \"score = model.evaluate(X_test, y_test, verbose=0)\\nprint(\\\"Test score:\\\", score[0])\\nprint(\\\"Test accuracy:\\\", score[1])\";\n",
       "                var nbb_cells = Jupyter.notebook.get_cells();\n",
       "                for (var i = 0; i < nbb_cells.length; ++i) {\n",
       "                    if (nbb_cells[i].input_prompt_number == nbb_cell_id) {\n",
       "                        if (nbb_cells[i].get_text() == nbb_unformatted_code) {\n",
       "                             nbb_cells[i].set_text(nbb_formatted_code);\n",
       "                        }\n",
       "                        break;\n",
       "                    }\n",
       "                }\n",
       "            }, 500);\n",
       "            "
      ],
      "text/plain": [
       "<IPython.core.display.Javascript object>"
      ]
     },
     "metadata": {},
     "output_type": "display_data"
    }
   ],
   "source": [
    "score = model.evaluate(X_test, y_test, verbose=0)\n",
    "print(\"Test score:\", score[0])\n",
    "print(\"Test accuracy:\", score[1])"
   ]
  },
  {
   "cell_type": "markdown",
   "metadata": {},
   "source": [
    "The test accuracy for the sigmoid tests are all pretty low. It appears using sigmoid activation is not a good idea for this model."
   ]
  },
  {
   "cell_type": "markdown",
   "metadata": {},
   "source": [
    "# ReLU activation and SGD loss Changing Batch Sizes"
   ]
  },
  {
   "cell_type": "code",
   "execution_count": 31,
   "metadata": {},
   "outputs": [
    {
     "name": "stdout",
     "output_type": "stream",
     "text": [
      "Epoch 1/20\n",
      "938/938 [==============================] - 3s 3ms/step - loss: 1.3855 - accuracy: 0.5327\n",
      "Epoch 2/20\n",
      "938/938 [==============================] - 3s 3ms/step - loss: 0.3779 - accuracy: 0.8931\n",
      "Epoch 3/20\n",
      "938/938 [==============================] - 3s 3ms/step - loss: 0.2578 - accuracy: 0.9269\n",
      "Epoch 4/20\n",
      "938/938 [==============================] - 3s 3ms/step - loss: 0.1964 - accuracy: 0.9444\n",
      "Epoch 5/20\n",
      "938/938 [==============================] - 3s 3ms/step - loss: 0.1580 - accuracy: 0.9555\n",
      "Epoch 6/20\n",
      "938/938 [==============================] - 3s 3ms/step - loss: 0.1312 - accuracy: 0.9628\n",
      "Epoch 7/20\n",
      "938/938 [==============================] - 3s 3ms/step - loss: 0.1107 - accuracy: 0.9685\n",
      "Epoch 8/20\n",
      "938/938 [==============================] - 2s 3ms/step - loss: 0.0948 - accuracy: 0.9727\n",
      "Epoch 9/20\n",
      "938/938 [==============================] - 2s 2ms/step - loss: 0.0819 - accuracy: 0.9762\n",
      "Epoch 10/20\n",
      "938/938 [==============================] - 2s 3ms/step - loss: 0.0711 - accuracy: 0.9798\n",
      "Epoch 11/20\n",
      "938/938 [==============================] - 2s 3ms/step - loss: 0.0614 - accuracy: 0.9829\n",
      "Epoch 12/20\n",
      "938/938 [==============================] - 2s 3ms/step - loss: 0.0537 - accuracy: 0.9851\n",
      "Epoch 13/20\n",
      "938/938 [==============================] - 2s 3ms/step - loss: 0.0456 - accuracy: 0.9876\n",
      "Epoch 14/20\n",
      "938/938 [==============================] - 2s 3ms/step - loss: 0.0404 - accuracy: 0.9889\n",
      "Epoch 15/20\n",
      "938/938 [==============================] - 3s 3ms/step - loss: 0.0347 - accuracy: 0.9907\n",
      "Epoch 16/20\n",
      "938/938 [==============================] - 3s 3ms/step - loss: 0.0297 - accuracy: 0.9918\n",
      "Epoch 17/20\n",
      "938/938 [==============================] - 3s 3ms/step - loss: 0.0252 - accuracy: 0.9937\n",
      "Epoch 18/20\n",
      "938/938 [==============================] - 3s 3ms/step - loss: 0.0217 - accuracy: 0.9950\n",
      "Epoch 19/20\n",
      "938/938 [==============================] - 2s 3ms/step - loss: 0.0181 - accuracy: 0.9960\n",
      "Epoch 20/20\n",
      "938/938 [==============================] - 3s 3ms/step - loss: 0.0157 - accuracy: 0.9967\n"
     ]
    },
    {
     "data": {
      "text/plain": [
       "<tensorflow.python.keras.callbacks.History at 0x284da24d848>"
      ]
     },
     "execution_count": 31,
     "metadata": {},
     "output_type": "execute_result"
    },
    {
     "data": {
      "application/javascript": [
       "\n",
       "            setTimeout(function() {\n",
       "                var nbb_cell_id = 31;\n",
       "                var nbb_unformatted_code = \"# Using 64 as a batch size\\nmodel = Sequential()\\nmodel.add(Dense(512, input_dim=X_train.shape[1], activation=\\\"relu\\\"))\\nmodel.add(Dense(256, activation=\\\"relu\\\"))\\nmodel.add(Dense(128, activation=\\\"relu\\\"))\\nmodel.add(Dense(64, activation=\\\"relu\\\"))\\nmodel.add(Dense(32, activation=\\\"relu\\\"))\\nmodel.add(Dense(16, activation=\\\"relu\\\"))\\nmodel.add(Dense(10, activation=\\\"softmax\\\"))\\n\\nmodel.compile(optimizer=\\\"sgd\\\", loss=\\\"categorical_crossentropy\\\", metrics=[\\\"accuracy\\\"])\\n\\nmodel.fit(X_train, y_train, batch_size=64, epochs=20, verbose=1)\";\n",
       "                var nbb_formatted_code = \"# Using 64 as a batch size\\nmodel = Sequential()\\nmodel.add(Dense(512, input_dim=X_train.shape[1], activation=\\\"relu\\\"))\\nmodel.add(Dense(256, activation=\\\"relu\\\"))\\nmodel.add(Dense(128, activation=\\\"relu\\\"))\\nmodel.add(Dense(64, activation=\\\"relu\\\"))\\nmodel.add(Dense(32, activation=\\\"relu\\\"))\\nmodel.add(Dense(16, activation=\\\"relu\\\"))\\nmodel.add(Dense(10, activation=\\\"softmax\\\"))\\n\\nmodel.compile(optimizer=\\\"sgd\\\", loss=\\\"categorical_crossentropy\\\", metrics=[\\\"accuracy\\\"])\\n\\nmodel.fit(X_train, y_train, batch_size=64, epochs=20, verbose=1)\";\n",
       "                var nbb_cells = Jupyter.notebook.get_cells();\n",
       "                for (var i = 0; i < nbb_cells.length; ++i) {\n",
       "                    if (nbb_cells[i].input_prompt_number == nbb_cell_id) {\n",
       "                        if (nbb_cells[i].get_text() == nbb_unformatted_code) {\n",
       "                             nbb_cells[i].set_text(nbb_formatted_code);\n",
       "                        }\n",
       "                        break;\n",
       "                    }\n",
       "                }\n",
       "            }, 500);\n",
       "            "
      ],
      "text/plain": [
       "<IPython.core.display.Javascript object>"
      ]
     },
     "metadata": {},
     "output_type": "display_data"
    }
   ],
   "source": [
    "# Using 64 as a batch size\n",
    "model = Sequential()\n",
    "model.add(Dense(512, input_dim=X_train.shape[1], activation=\"relu\"))\n",
    "model.add(Dense(256, activation=\"relu\"))\n",
    "model.add(Dense(128, activation=\"relu\"))\n",
    "model.add(Dense(64, activation=\"relu\"))\n",
    "model.add(Dense(32, activation=\"relu\"))\n",
    "model.add(Dense(16, activation=\"relu\"))\n",
    "model.add(Dense(10, activation=\"softmax\"))\n",
    "\n",
    "model.compile(optimizer=\"sgd\", loss=\"categorical_crossentropy\", metrics=[\"accuracy\"])\n",
    "\n",
    "model.fit(X_train, y_train, batch_size=64, epochs=20, verbose=1)"
   ]
  },
  {
   "cell_type": "code",
   "execution_count": 32,
   "metadata": {},
   "outputs": [
    {
     "name": "stdout",
     "output_type": "stream",
     "text": [
      "Test score: 0.1028175801038742\n",
      "Test accuracy: 0.9721999764442444\n"
     ]
    },
    {
     "data": {
      "application/javascript": [
       "\n",
       "            setTimeout(function() {\n",
       "                var nbb_cell_id = 32;\n",
       "                var nbb_unformatted_code = \"score = model.evaluate(X_test, y_test, verbose=0)\\nprint(\\\"Test score:\\\", score[0])\\nprint(\\\"Test accuracy:\\\", score[1])\";\n",
       "                var nbb_formatted_code = \"score = model.evaluate(X_test, y_test, verbose=0)\\nprint(\\\"Test score:\\\", score[0])\\nprint(\\\"Test accuracy:\\\", score[1])\";\n",
       "                var nbb_cells = Jupyter.notebook.get_cells();\n",
       "                for (var i = 0; i < nbb_cells.length; ++i) {\n",
       "                    if (nbb_cells[i].input_prompt_number == nbb_cell_id) {\n",
       "                        if (nbb_cells[i].get_text() == nbb_unformatted_code) {\n",
       "                             nbb_cells[i].set_text(nbb_formatted_code);\n",
       "                        }\n",
       "                        break;\n",
       "                    }\n",
       "                }\n",
       "            }, 500);\n",
       "            "
      ],
      "text/plain": [
       "<IPython.core.display.Javascript object>"
      ]
     },
     "metadata": {},
     "output_type": "display_data"
    }
   ],
   "source": [
    "score = model.evaluate(X_test, y_test, verbose=0)\n",
    "print(\"Test score:\", score[0])\n",
    "print(\"Test accuracy:\", score[1])"
   ]
  },
  {
   "cell_type": "code",
   "execution_count": 33,
   "metadata": {},
   "outputs": [
    {
     "name": "stdout",
     "output_type": "stream",
     "text": [
      "Epoch 1/20\n",
      "1875/1875 [==============================] - 4s 2ms/step - loss: 0.7363 - accuracy: 0.7694\n",
      "Epoch 2/20\n",
      "1875/1875 [==============================] - 4s 2ms/step - loss: 0.2088 - accuracy: 0.9393\n",
      "Epoch 3/20\n",
      "1875/1875 [==============================] - 4s 2ms/step - loss: 0.1410 - accuracy: 0.9588\n",
      "Epoch 4/20\n",
      "1875/1875 [==============================] - 4s 2ms/step - loss: 0.1067 - accuracy: 0.9683\n",
      "Epoch 5/20\n",
      "1875/1875 [==============================] - 4s 2ms/step - loss: 0.0838 - accuracy: 0.9751\n",
      "Epoch 6/20\n",
      "1875/1875 [==============================] - 4s 2ms/step - loss: 0.0667 - accuracy: 0.9802\n",
      "Epoch 7/20\n",
      "1875/1875 [==============================] - 4s 2ms/step - loss: 0.0535 - accuracy: 0.9837\n",
      "Epoch 8/20\n",
      "1875/1875 [==============================] - 4s 2ms/step - loss: 0.0438 - accuracy: 0.9871\n",
      "Epoch 9/20\n",
      "1875/1875 [==============================] - 4s 2ms/step - loss: 0.0345 - accuracy: 0.9895\n",
      "Epoch 10/20\n",
      "1875/1875 [==============================] - 4s 2ms/step - loss: 0.0272 - accuracy: 0.9923\n",
      "Epoch 11/20\n",
      "1875/1875 [==============================] - 4s 2ms/step - loss: 0.0210 - accuracy: 0.9942\n",
      "Epoch 12/20\n",
      "1875/1875 [==============================] - 4s 2ms/step - loss: 0.0166 - accuracy: 0.9958\n",
      "Epoch 13/20\n",
      "1875/1875 [==============================] - 4s 2ms/step - loss: 0.0125 - accuracy: 0.9969\n",
      "Epoch 14/20\n",
      "1875/1875 [==============================] - 4s 2ms/step - loss: 0.0094 - accuracy: 0.9980\n",
      "Epoch 15/20\n",
      "1875/1875 [==============================] - 4s 2ms/step - loss: 0.0079 - accuracy: 0.9984\n",
      "Epoch 16/20\n",
      "1875/1875 [==============================] - 4s 2ms/step - loss: 0.0053 - accuracy: 0.9991\n",
      "Epoch 17/20\n",
      "1875/1875 [==============================] - 4s 2ms/step - loss: 0.0039 - accuracy: 0.9995\n",
      "Epoch 18/20\n",
      "1875/1875 [==============================] - 4s 2ms/step - loss: 0.0026 - accuracy: 0.9998\n",
      "Epoch 19/20\n",
      "1875/1875 [==============================] - 4s 2ms/step - loss: 0.0016 - accuracy: 0.9999\n",
      "Epoch 20/20\n",
      "1875/1875 [==============================] - 4s 2ms/step - loss: 0.0013 - accuracy: 0.9999\n"
     ]
    },
    {
     "data": {
      "text/plain": [
       "<tensorflow.python.keras.callbacks.History at 0x284d4071048>"
      ]
     },
     "execution_count": 33,
     "metadata": {},
     "output_type": "execute_result"
    },
    {
     "data": {
      "application/javascript": [
       "\n",
       "            setTimeout(function() {\n",
       "                var nbb_cell_id = 33;\n",
       "                var nbb_unformatted_code = \"# Using 32 as a batch size\\nmodel = Sequential()\\nmodel.add(Dense(512, input_dim=X_train.shape[1], activation=\\\"relu\\\"))\\nmodel.add(Dense(256, activation=\\\"relu\\\"))\\nmodel.add(Dense(128, activation=\\\"relu\\\"))\\nmodel.add(Dense(64, activation=\\\"relu\\\"))\\nmodel.add(Dense(32, activation=\\\"relu\\\"))\\nmodel.add(Dense(16, activation=\\\"relu\\\"))\\nmodel.add(Dense(10, activation=\\\"softmax\\\"))\\n\\nmodel.compile(optimizer=\\\"sgd\\\", loss=\\\"categorical_crossentropy\\\", metrics=[\\\"accuracy\\\"])\\n\\nmodel.fit(X_train, y_train, batch_size=32, epochs=20, verbose=1)\";\n",
       "                var nbb_formatted_code = \"# Using 32 as a batch size\\nmodel = Sequential()\\nmodel.add(Dense(512, input_dim=X_train.shape[1], activation=\\\"relu\\\"))\\nmodel.add(Dense(256, activation=\\\"relu\\\"))\\nmodel.add(Dense(128, activation=\\\"relu\\\"))\\nmodel.add(Dense(64, activation=\\\"relu\\\"))\\nmodel.add(Dense(32, activation=\\\"relu\\\"))\\nmodel.add(Dense(16, activation=\\\"relu\\\"))\\nmodel.add(Dense(10, activation=\\\"softmax\\\"))\\n\\nmodel.compile(optimizer=\\\"sgd\\\", loss=\\\"categorical_crossentropy\\\", metrics=[\\\"accuracy\\\"])\\n\\nmodel.fit(X_train, y_train, batch_size=32, epochs=20, verbose=1)\";\n",
       "                var nbb_cells = Jupyter.notebook.get_cells();\n",
       "                for (var i = 0; i < nbb_cells.length; ++i) {\n",
       "                    if (nbb_cells[i].input_prompt_number == nbb_cell_id) {\n",
       "                        if (nbb_cells[i].get_text() == nbb_unformatted_code) {\n",
       "                             nbb_cells[i].set_text(nbb_formatted_code);\n",
       "                        }\n",
       "                        break;\n",
       "                    }\n",
       "                }\n",
       "            }, 500);\n",
       "            "
      ],
      "text/plain": [
       "<IPython.core.display.Javascript object>"
      ]
     },
     "metadata": {},
     "output_type": "display_data"
    }
   ],
   "source": [
    "# Using 32 as a batch size\n",
    "model = Sequential()\n",
    "model.add(Dense(512, input_dim=X_train.shape[1], activation=\"relu\"))\n",
    "model.add(Dense(256, activation=\"relu\"))\n",
    "model.add(Dense(128, activation=\"relu\"))\n",
    "model.add(Dense(64, activation=\"relu\"))\n",
    "model.add(Dense(32, activation=\"relu\"))\n",
    "model.add(Dense(16, activation=\"relu\"))\n",
    "model.add(Dense(10, activation=\"softmax\"))\n",
    "\n",
    "model.compile(optimizer=\"sgd\", loss=\"categorical_crossentropy\", metrics=[\"accuracy\"])\n",
    "\n",
    "model.fit(X_train, y_train, batch_size=32, epochs=20, verbose=1)"
   ]
  },
  {
   "cell_type": "code",
   "execution_count": 34,
   "metadata": {},
   "outputs": [
    {
     "name": "stdout",
     "output_type": "stream",
     "text": [
      "Test score: 0.09236965328454971\n",
      "Test accuracy: 0.9782999753952026\n"
     ]
    },
    {
     "data": {
      "application/javascript": [
       "\n",
       "            setTimeout(function() {\n",
       "                var nbb_cell_id = 34;\n",
       "                var nbb_unformatted_code = \"score = model.evaluate(X_test, y_test, verbose=0)\\nprint(\\\"Test score:\\\", score[0])\\nprint(\\\"Test accuracy:\\\", score[1])\";\n",
       "                var nbb_formatted_code = \"score = model.evaluate(X_test, y_test, verbose=0)\\nprint(\\\"Test score:\\\", score[0])\\nprint(\\\"Test accuracy:\\\", score[1])\";\n",
       "                var nbb_cells = Jupyter.notebook.get_cells();\n",
       "                for (var i = 0; i < nbb_cells.length; ++i) {\n",
       "                    if (nbb_cells[i].input_prompt_number == nbb_cell_id) {\n",
       "                        if (nbb_cells[i].get_text() == nbb_unformatted_code) {\n",
       "                             nbb_cells[i].set_text(nbb_formatted_code);\n",
       "                        }\n",
       "                        break;\n",
       "                    }\n",
       "                }\n",
       "            }, 500);\n",
       "            "
      ],
      "text/plain": [
       "<IPython.core.display.Javascript object>"
      ]
     },
     "metadata": {},
     "output_type": "display_data"
    }
   ],
   "source": [
    "score = model.evaluate(X_test, y_test, verbose=0)\n",
    "print(\"Test score:\", score[0])\n",
    "print(\"Test accuracy:\", score[1])"
   ]
  },
  {
   "cell_type": "code",
   "execution_count": 35,
   "metadata": {},
   "outputs": [
    {
     "name": "stdout",
     "output_type": "stream",
     "text": [
      "Epoch 1/20\n",
      "3750/3750 [==============================] - 6s 2ms/step - loss: 0.4839 - accuracy: 0.8507\n",
      "Epoch 2/20\n",
      "3750/3750 [==============================] - 6s 2ms/step - loss: 0.1445 - accuracy: 0.9577\n",
      "Epoch 3/20\n",
      "3750/3750 [==============================] - 6s 2ms/step - loss: 0.0956 - accuracy: 0.9716\n",
      "Epoch 4/20\n",
      "3750/3750 [==============================] - 6s 2ms/step - loss: 0.0676 - accuracy: 0.9800\n",
      "Epoch 5/20\n",
      "3750/3750 [==============================] - 6s 2ms/step - loss: 0.0501 - accuracy: 0.9847\n",
      "Epoch 6/20\n",
      "3750/3750 [==============================] - 6s 2ms/step - loss: 0.0368 - accuracy: 0.9890\n",
      "Epoch 7/20\n",
      "3750/3750 [==============================] - 6s 2ms/step - loss: 0.0269 - accuracy: 0.9919\n",
      "Epoch 8/20\n",
      "3750/3750 [==============================] - 7s 2ms/step - loss: 0.0194 - accuracy: 0.9944\n",
      "Epoch 9/20\n",
      "3750/3750 [==============================] - 7s 2ms/step - loss: 0.0143 - accuracy: 0.9960\n",
      "Epoch 10/20\n",
      "3750/3750 [==============================] - 7s 2ms/step - loss: 0.0110 - accuracy: 0.9969\n",
      "Epoch 11/20\n",
      "3750/3750 [==============================] - 7s 2ms/step - loss: 0.0073 - accuracy: 0.9979\n",
      "Epoch 12/20\n",
      "3750/3750 [==============================] - 6s 2ms/step - loss: 0.0043 - accuracy: 0.9988\n",
      "Epoch 13/20\n",
      "3750/3750 [==============================] - 6s 2ms/step - loss: 0.0029 - accuracy: 0.9994\n",
      "Epoch 14/20\n",
      "3750/3750 [==============================] - 10s 3ms/step - loss: 0.0015 - accuracy: 0.9998\n",
      "Epoch 15/20\n",
      "3750/3750 [==============================] - 6s 2ms/step - loss: 0.0010 - accuracy: 0.9998\n",
      "Epoch 16/20\n",
      "3750/3750 [==============================] - 6s 2ms/step - loss: 4.2058e-04 - accuracy: 1.0000\n",
      "Epoch 17/20\n",
      "3750/3750 [==============================] - 7s 2ms/step - loss: 2.9421e-04 - accuracy: 1.0000\n",
      "Epoch 18/20\n",
      "3750/3750 [==============================] - 7s 2ms/step - loss: 2.2916e-04 - accuracy: 1.0000\n",
      "Epoch 19/20\n",
      "3750/3750 [==============================] - 7s 2ms/step - loss: 2.0013e-04 - accuracy: 1.0000\n",
      "Epoch 20/20\n",
      "3750/3750 [==============================] - 7s 2ms/step - loss: 1.7384e-04 - accuracy: 1.0000\n"
     ]
    },
    {
     "data": {
      "text/plain": [
       "<tensorflow.python.keras.callbacks.History at 0x284da50d448>"
      ]
     },
     "execution_count": 35,
     "metadata": {},
     "output_type": "execute_result"
    },
    {
     "data": {
      "application/javascript": [
       "\n",
       "            setTimeout(function() {\n",
       "                var nbb_cell_id = 35;\n",
       "                var nbb_unformatted_code = \"# Using 16 as a batch size\\nmodel = Sequential()\\nmodel.add(Dense(512, input_dim=X_train.shape[1], activation=\\\"relu\\\"))\\nmodel.add(Dense(256, activation=\\\"relu\\\"))\\nmodel.add(Dense(128, activation=\\\"relu\\\"))\\nmodel.add(Dense(64, activation=\\\"relu\\\"))\\nmodel.add(Dense(32, activation=\\\"relu\\\"))\\nmodel.add(Dense(16, activation=\\\"relu\\\"))\\nmodel.add(Dense(10, activation=\\\"softmax\\\"))\\n\\nmodel.compile(optimizer=\\\"sgd\\\", loss=\\\"categorical_crossentropy\\\", metrics=[\\\"accuracy\\\"])\\n\\nmodel.fit(X_train, y_train, batch_size=16, epochs=20, verbose=1)\";\n",
       "                var nbb_formatted_code = \"# Using 16 as a batch size\\nmodel = Sequential()\\nmodel.add(Dense(512, input_dim=X_train.shape[1], activation=\\\"relu\\\"))\\nmodel.add(Dense(256, activation=\\\"relu\\\"))\\nmodel.add(Dense(128, activation=\\\"relu\\\"))\\nmodel.add(Dense(64, activation=\\\"relu\\\"))\\nmodel.add(Dense(32, activation=\\\"relu\\\"))\\nmodel.add(Dense(16, activation=\\\"relu\\\"))\\nmodel.add(Dense(10, activation=\\\"softmax\\\"))\\n\\nmodel.compile(optimizer=\\\"sgd\\\", loss=\\\"categorical_crossentropy\\\", metrics=[\\\"accuracy\\\"])\\n\\nmodel.fit(X_train, y_train, batch_size=16, epochs=20, verbose=1)\";\n",
       "                var nbb_cells = Jupyter.notebook.get_cells();\n",
       "                for (var i = 0; i < nbb_cells.length; ++i) {\n",
       "                    if (nbb_cells[i].input_prompt_number == nbb_cell_id) {\n",
       "                        if (nbb_cells[i].get_text() == nbb_unformatted_code) {\n",
       "                             nbb_cells[i].set_text(nbb_formatted_code);\n",
       "                        }\n",
       "                        break;\n",
       "                    }\n",
       "                }\n",
       "            }, 500);\n",
       "            "
      ],
      "text/plain": [
       "<IPython.core.display.Javascript object>"
      ]
     },
     "metadata": {},
     "output_type": "display_data"
    }
   ],
   "source": [
    "# Using 16 as a batch size\n",
    "model = Sequential()\n",
    "model.add(Dense(512, input_dim=X_train.shape[1], activation=\"relu\"))\n",
    "model.add(Dense(256, activation=\"relu\"))\n",
    "model.add(Dense(128, activation=\"relu\"))\n",
    "model.add(Dense(64, activation=\"relu\"))\n",
    "model.add(Dense(32, activation=\"relu\"))\n",
    "model.add(Dense(16, activation=\"relu\"))\n",
    "model.add(Dense(10, activation=\"softmax\"))\n",
    "\n",
    "model.compile(optimizer=\"sgd\", loss=\"categorical_crossentropy\", metrics=[\"accuracy\"])\n",
    "\n",
    "model.fit(X_train, y_train, batch_size=16, epochs=20, verbose=1)"
   ]
  },
  {
   "cell_type": "code",
   "execution_count": 36,
   "metadata": {},
   "outputs": [
    {
     "name": "stdout",
     "output_type": "stream",
     "text": [
      "Test score: 0.10026319324970245\n",
      "Test accuracy: 0.9815000295639038\n"
     ]
    },
    {
     "data": {
      "application/javascript": [
       "\n",
       "            setTimeout(function() {\n",
       "                var nbb_cell_id = 36;\n",
       "                var nbb_unformatted_code = \"score = model.evaluate(X_test, y_test, verbose=0)\\nprint(\\\"Test score:\\\", score[0])\\nprint(\\\"Test accuracy:\\\", score[1])\";\n",
       "                var nbb_formatted_code = \"score = model.evaluate(X_test, y_test, verbose=0)\\nprint(\\\"Test score:\\\", score[0])\\nprint(\\\"Test accuracy:\\\", score[1])\";\n",
       "                var nbb_cells = Jupyter.notebook.get_cells();\n",
       "                for (var i = 0; i < nbb_cells.length; ++i) {\n",
       "                    if (nbb_cells[i].input_prompt_number == nbb_cell_id) {\n",
       "                        if (nbb_cells[i].get_text() == nbb_unformatted_code) {\n",
       "                             nbb_cells[i].set_text(nbb_formatted_code);\n",
       "                        }\n",
       "                        break;\n",
       "                    }\n",
       "                }\n",
       "            }, 500);\n",
       "            "
      ],
      "text/plain": [
       "<IPython.core.display.Javascript object>"
      ]
     },
     "metadata": {},
     "output_type": "display_data"
    }
   ],
   "source": [
    "score = model.evaluate(X_test, y_test, verbose=0)\n",
    "print(\"Test score:\", score[0])\n",
    "print(\"Test accuracy:\", score[1])"
   ]
  },
  {
   "cell_type": "code",
   "execution_count": 37,
   "metadata": {},
   "outputs": [
    {
     "name": "stdout",
     "output_type": "stream",
     "text": [
      "Epoch 1/20\n",
      "7500/7500 [==============================] - 20s 3ms/step - loss: 0.3963 - accuracy: 0.8797\n",
      "Epoch 2/20\n",
      "7500/7500 [==============================] - 18s 2ms/step - loss: 0.1217 - accuracy: 0.9634\n",
      "Epoch 3/20\n",
      "7500/7500 [==============================] - 14s 2ms/step - loss: 0.0788 - accuracy: 0.9764\n",
      "Epoch 4/20\n",
      "7500/7500 [==============================] - 13s 2ms/step - loss: 0.0539 - accuracy: 0.9835\n",
      "Epoch 5/20\n",
      "7500/7500 [==============================] - 18s 2ms/step - loss: 0.0407 - accuracy: 0.9873\n",
      "Epoch 6/20\n",
      "7500/7500 [==============================] - 14s 2ms/step - loss: 0.0306 - accuracy: 0.9902\n",
      "Epoch 7/20\n",
      "7500/7500 [==============================] - 14s 2ms/step - loss: 0.0223 - accuracy: 0.9931\n",
      "Epoch 8/20\n",
      "7500/7500 [==============================] - 19s 3ms/step - loss: 0.0169 - accuracy: 0.9945\n",
      "Epoch 9/20\n",
      "7500/7500 [==============================] - 14s 2ms/step - loss: 0.0158 - accuracy: 0.9948\n",
      "Epoch 10/20\n",
      "7500/7500 [==============================] - 14s 2ms/step - loss: 0.0130 - accuracy: 0.9957\n",
      "Epoch 11/20\n",
      "7500/7500 [==============================] - 13s 2ms/step - loss: 0.0125 - accuracy: 0.9956\n",
      "Epoch 12/20\n",
      "7500/7500 [==============================] - 21s 3ms/step - loss: 0.0103 - accuracy: 0.9968\n",
      "Epoch 13/20\n",
      "7500/7500 [==============================] - 17s 2ms/step - loss: 0.0072 - accuracy: 0.9978\n",
      "Epoch 14/20\n",
      "7500/7500 [==============================] - 17s 2ms/step - loss: 0.0031 - accuracy: 0.9991\n",
      "Epoch 15/20\n",
      "7500/7500 [==============================] - 21s 3ms/step - loss: 0.0010 - accuracy: 0.9998\n",
      "Epoch 16/20\n",
      "7500/7500 [==============================] - 16s 2ms/step - loss: 3.7641e-04 - accuracy: 1.0000\n",
      "Epoch 17/20\n",
      "7500/7500 [==============================] - 22s 3ms/step - loss: 2.2901e-04 - accuracy: 1.0000\n",
      "Epoch 18/20\n",
      "7500/7500 [==============================] - 16s 2ms/step - loss: 1.3295e-04 - accuracy: 1.0000\n",
      "Epoch 19/20\n",
      "7500/7500 [==============================] - 16s 2ms/step - loss: 1.0916e-04 - accuracy: 1.0000\n",
      "Epoch 20/20\n",
      "7500/7500 [==============================] - 18s 2ms/step - loss: 8.9835e-05 - accuracy: 1.0000\n"
     ]
    },
    {
     "data": {
      "text/plain": [
       "<tensorflow.python.keras.callbacks.History at 0x284da708048>"
      ]
     },
     "execution_count": 37,
     "metadata": {},
     "output_type": "execute_result"
    },
    {
     "data": {
      "application/javascript": [
       "\n",
       "            setTimeout(function() {\n",
       "                var nbb_cell_id = 37;\n",
       "                var nbb_unformatted_code = \"# Using 8 as a batch size\\nmodel = Sequential()\\nmodel.add(Dense(512, input_dim=X_train.shape[1], activation=\\\"relu\\\"))\\nmodel.add(Dense(256, activation=\\\"relu\\\"))\\nmodel.add(Dense(128, activation=\\\"relu\\\"))\\nmodel.add(Dense(64, activation=\\\"relu\\\"))\\nmodel.add(Dense(32, activation=\\\"relu\\\"))\\nmodel.add(Dense(16, activation=\\\"relu\\\"))\\nmodel.add(Dense(10, activation=\\\"softmax\\\"))\\n\\nmodel.compile(optimizer=\\\"sgd\\\", loss=\\\"categorical_crossentropy\\\", metrics=[\\\"accuracy\\\"])\\n\\nmodel.fit(X_train, y_train, batch_size=8, epochs=20, verbose=1)\";\n",
       "                var nbb_formatted_code = \"# Using 8 as a batch size\\nmodel = Sequential()\\nmodel.add(Dense(512, input_dim=X_train.shape[1], activation=\\\"relu\\\"))\\nmodel.add(Dense(256, activation=\\\"relu\\\"))\\nmodel.add(Dense(128, activation=\\\"relu\\\"))\\nmodel.add(Dense(64, activation=\\\"relu\\\"))\\nmodel.add(Dense(32, activation=\\\"relu\\\"))\\nmodel.add(Dense(16, activation=\\\"relu\\\"))\\nmodel.add(Dense(10, activation=\\\"softmax\\\"))\\n\\nmodel.compile(optimizer=\\\"sgd\\\", loss=\\\"categorical_crossentropy\\\", metrics=[\\\"accuracy\\\"])\\n\\nmodel.fit(X_train, y_train, batch_size=8, epochs=20, verbose=1)\";\n",
       "                var nbb_cells = Jupyter.notebook.get_cells();\n",
       "                for (var i = 0; i < nbb_cells.length; ++i) {\n",
       "                    if (nbb_cells[i].input_prompt_number == nbb_cell_id) {\n",
       "                        if (nbb_cells[i].get_text() == nbb_unformatted_code) {\n",
       "                             nbb_cells[i].set_text(nbb_formatted_code);\n",
       "                        }\n",
       "                        break;\n",
       "                    }\n",
       "                }\n",
       "            }, 500);\n",
       "            "
      ],
      "text/plain": [
       "<IPython.core.display.Javascript object>"
      ]
     },
     "metadata": {},
     "output_type": "display_data"
    }
   ],
   "source": [
    "# Using 8 as a batch size\n",
    "model = Sequential()\n",
    "model.add(Dense(512, input_dim=X_train.shape[1], activation=\"relu\"))\n",
    "model.add(Dense(256, activation=\"relu\"))\n",
    "model.add(Dense(128, activation=\"relu\"))\n",
    "model.add(Dense(64, activation=\"relu\"))\n",
    "model.add(Dense(32, activation=\"relu\"))\n",
    "model.add(Dense(16, activation=\"relu\"))\n",
    "model.add(Dense(10, activation=\"softmax\"))\n",
    "\n",
    "model.compile(optimizer=\"sgd\", loss=\"categorical_crossentropy\", metrics=[\"accuracy\"])\n",
    "\n",
    "model.fit(X_train, y_train, batch_size=8, epochs=20, verbose=1)"
   ]
  },
  {
   "cell_type": "code",
   "execution_count": 38,
   "metadata": {},
   "outputs": [
    {
     "name": "stdout",
     "output_type": "stream",
     "text": [
      "Test score: 0.10129062086343765\n",
      "Test accuracy: 0.9833999872207642\n"
     ]
    },
    {
     "data": {
      "application/javascript": [
       "\n",
       "            setTimeout(function() {\n",
       "                var nbb_cell_id = 38;\n",
       "                var nbb_unformatted_code = \"score = model.evaluate(X_test, y_test, verbose=0)\\nprint(\\\"Test score:\\\", score[0])\\nprint(\\\"Test accuracy:\\\", score[1])\";\n",
       "                var nbb_formatted_code = \"score = model.evaluate(X_test, y_test, verbose=0)\\nprint(\\\"Test score:\\\", score[0])\\nprint(\\\"Test accuracy:\\\", score[1])\";\n",
       "                var nbb_cells = Jupyter.notebook.get_cells();\n",
       "                for (var i = 0; i < nbb_cells.length; ++i) {\n",
       "                    if (nbb_cells[i].input_prompt_number == nbb_cell_id) {\n",
       "                        if (nbb_cells[i].get_text() == nbb_unformatted_code) {\n",
       "                             nbb_cells[i].set_text(nbb_formatted_code);\n",
       "                        }\n",
       "                        break;\n",
       "                    }\n",
       "                }\n",
       "            }, 500);\n",
       "            "
      ],
      "text/plain": [
       "<IPython.core.display.Javascript object>"
      ]
     },
     "metadata": {},
     "output_type": "display_data"
    }
   ],
   "source": [
    "score = model.evaluate(X_test, y_test, verbose=0)\n",
    "print(\"Test score:\", score[0])\n",
    "print(\"Test accuracy:\", score[1])"
   ]
  },
  {
   "cell_type": "markdown",
   "metadata": {},
   "source": [
    "The score increases as the batch size decreases, however the run time increases as well. It was more noticeable when the batch size got to 16 and lower. The best score was obtained from using a batch size of 8, but it took more than twice the time. "
   ]
  },
  {
   "cell_type": "markdown",
   "metadata": {},
   "source": [
    "# Changing the Amount of Neurons "
   ]
  },
  {
   "cell_type": "code",
   "execution_count": null,
   "metadata": {},
   "outputs": [],
   "source": []
  }
 ],
 "metadata": {
  "kernelspec": {
   "display_name": "Python 3",
   "language": "python",
   "name": "python3"
  },
  "language_info": {
   "codemirror_mode": {
    "name": "ipython",
    "version": 3
   },
   "file_extension": ".py",
   "mimetype": "text/x-python",
   "name": "python",
   "nbconvert_exporter": "python",
   "pygments_lexer": "ipython3",
   "version": "3.7.6"
  }
 },
 "nbformat": 4,
 "nbformat_minor": 4
}
