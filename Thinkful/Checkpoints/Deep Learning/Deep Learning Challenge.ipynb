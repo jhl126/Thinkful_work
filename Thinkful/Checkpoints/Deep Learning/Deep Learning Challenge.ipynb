{
 "cells": [
  {
   "cell_type": "code",
   "execution_count": 1,
   "metadata": {},
   "outputs": [
    {
     "data": {
      "application/javascript": [
       "\n",
       "            setTimeout(function() {\n",
       "                var nbb_cell_id = 1;\n",
       "                var nbb_unformatted_code = \"%reload_ext nb_black\\n\\nimport warnings\\n\\nwarnings.filterwarnings(\\\"ignore\\\")\\n\\nfrom tensorflow.keras.datasets import mnist\\nfrom tensorflow.keras.utils import to_categorical\\nfrom tensorflow.keras.models import Sequential\\nfrom tensorflow.keras.layers import Dense\\nfrom tensorflow.keras.optimizers import SGD\";\n",
       "                var nbb_formatted_code = \"%reload_ext nb_black\\n\\nimport warnings\\n\\nwarnings.filterwarnings(\\\"ignore\\\")\\n\\nfrom tensorflow.keras.datasets import mnist\\nfrom tensorflow.keras.utils import to_categorical\\nfrom tensorflow.keras.models import Sequential\\nfrom tensorflow.keras.layers import Dense\\nfrom tensorflow.keras.optimizers import SGD\";\n",
       "                var nbb_cells = Jupyter.notebook.get_cells();\n",
       "                for (var i = 0; i < nbb_cells.length; ++i) {\n",
       "                    if (nbb_cells[i].input_prompt_number == nbb_cell_id) {\n",
       "                        if (nbb_cells[i].get_text() == nbb_unformatted_code) {\n",
       "                             nbb_cells[i].set_text(nbb_formatted_code);\n",
       "                        }\n",
       "                        break;\n",
       "                    }\n",
       "                }\n",
       "            }, 500);\n",
       "            "
      ],
      "text/plain": [
       "<IPython.core.display.Javascript object>"
      ]
     },
     "metadata": {},
     "output_type": "display_data"
    }
   ],
   "source": [
    "%reload_ext nb_black\n",
    "\n",
    "import warnings\n",
    "\n",
    "warnings.filterwarnings(\"ignore\")\n",
    "\n",
    "from tensorflow.keras.datasets import mnist\n",
    "from tensorflow.keras.utils import to_categorical\n",
    "from tensorflow.keras.models import Sequential\n",
    "from tensorflow.keras.layers import Dense\n",
    "from tensorflow.keras.optimizers import SGD"
   ]
  },
  {
   "cell_type": "code",
   "execution_count": 2,
   "metadata": {},
   "outputs": [
    {
     "data": {
      "application/javascript": [
       "\n",
       "            setTimeout(function() {\n",
       "                var nbb_cell_id = 2;\n",
       "                var nbb_unformatted_code = \"(X_train, y_train), (X_test, y_test) = mnist.load_data()\\ninput_dim = 784  # 28*28\\noutput_dim = nb_classes = 10\\nbatch_size = 128\\nnb_epoch = 20\\n\\nX_train = X_train.reshape(60000, input_dim)\\nX_test = X_test.reshape(10000, input_dim)\\nX_train = X_train.astype(\\\"float32\\\")\\nX_test = X_test.astype(\\\"float32\\\")\\nX_train /= 255\\nX_test /= 255\\n\\ny_train = to_categorical(y_train, nb_classes)\\ny_test = to_categorical(y_test, nb_classes)\";\n",
       "                var nbb_formatted_code = \"(X_train, y_train), (X_test, y_test) = mnist.load_data()\\ninput_dim = 784  # 28*28\\noutput_dim = nb_classes = 10\\nbatch_size = 128\\nnb_epoch = 20\\n\\nX_train = X_train.reshape(60000, input_dim)\\nX_test = X_test.reshape(10000, input_dim)\\nX_train = X_train.astype(\\\"float32\\\")\\nX_test = X_test.astype(\\\"float32\\\")\\nX_train /= 255\\nX_test /= 255\\n\\ny_train = to_categorical(y_train, nb_classes)\\ny_test = to_categorical(y_test, nb_classes)\";\n",
       "                var nbb_cells = Jupyter.notebook.get_cells();\n",
       "                for (var i = 0; i < nbb_cells.length; ++i) {\n",
       "                    if (nbb_cells[i].input_prompt_number == nbb_cell_id) {\n",
       "                        if (nbb_cells[i].get_text() == nbb_unformatted_code) {\n",
       "                             nbb_cells[i].set_text(nbb_formatted_code);\n",
       "                        }\n",
       "                        break;\n",
       "                    }\n",
       "                }\n",
       "            }, 500);\n",
       "            "
      ],
      "text/plain": [
       "<IPython.core.display.Javascript object>"
      ]
     },
     "metadata": {},
     "output_type": "display_data"
    }
   ],
   "source": [
    "(X_train, y_train), (X_test, y_test) = mnist.load_data()\n",
    "input_dim = 784  # 28*28\n",
    "output_dim = nb_classes = 10\n",
    "batch_size = 128\n",
    "nb_epoch = 20\n",
    "\n",
    "X_train = X_train.reshape(60000, input_dim)\n",
    "X_test = X_test.reshape(10000, input_dim)\n",
    "X_train = X_train.astype(\"float32\")\n",
    "X_test = X_test.astype(\"float32\")\n",
    "X_train /= 255\n",
    "X_test /= 255\n",
    "\n",
    "y_train = to_categorical(y_train, nb_classes)\n",
    "y_test = to_categorical(y_test, nb_classes)"
   ]
  },
  {
   "cell_type": "markdown",
   "metadata": {},
   "source": [
    "# ReLU activation and SGD loss"
   ]
  },
  {
   "cell_type": "code",
   "execution_count": 3,
   "metadata": {},
   "outputs": [
    {
     "data": {
      "application/javascript": [
       "\n",
       "            setTimeout(function() {\n",
       "                var nbb_cell_id = 3;\n",
       "                var nbb_unformatted_code = \"# 3 Layers\\nmodel = Sequential()\\nmodel.add(Dense(128, input_dim=X_train.shape[1], activation=\\\"relu\\\"))\\nmodel.add(Dense(64, activation=\\\"relu\\\"))\\nmodel.add(Dense(10, activation=\\\"softmax\\\"))\";\n",
       "                var nbb_formatted_code = \"# 3 Layers\\nmodel = Sequential()\\nmodel.add(Dense(128, input_dim=X_train.shape[1], activation=\\\"relu\\\"))\\nmodel.add(Dense(64, activation=\\\"relu\\\"))\\nmodel.add(Dense(10, activation=\\\"softmax\\\"))\";\n",
       "                var nbb_cells = Jupyter.notebook.get_cells();\n",
       "                for (var i = 0; i < nbb_cells.length; ++i) {\n",
       "                    if (nbb_cells[i].input_prompt_number == nbb_cell_id) {\n",
       "                        if (nbb_cells[i].get_text() == nbb_unformatted_code) {\n",
       "                             nbb_cells[i].set_text(nbb_formatted_code);\n",
       "                        }\n",
       "                        break;\n",
       "                    }\n",
       "                }\n",
       "            }, 500);\n",
       "            "
      ],
      "text/plain": [
       "<IPython.core.display.Javascript object>"
      ]
     },
     "metadata": {},
     "output_type": "display_data"
    }
   ],
   "source": [
    "# 3 Layers\n",
    "model = Sequential()\n",
    "model.add(Dense(128, input_dim=X_train.shape[1], activation=\"relu\"))\n",
    "model.add(Dense(64, activation=\"relu\"))\n",
    "model.add(Dense(10, activation=\"softmax\"))"
   ]
  },
  {
   "cell_type": "code",
   "execution_count": 4,
   "metadata": {},
   "outputs": [
    {
     "data": {
      "application/javascript": [
       "\n",
       "            setTimeout(function() {\n",
       "                var nbb_cell_id = 4;\n",
       "                var nbb_unformatted_code = \"model.compile(optimizer=\\\"sgd\\\", loss=\\\"categorical_crossentropy\\\", metrics=[\\\"accuracy\\\"])\";\n",
       "                var nbb_formatted_code = \"model.compile(optimizer=\\\"sgd\\\", loss=\\\"categorical_crossentropy\\\", metrics=[\\\"accuracy\\\"])\";\n",
       "                var nbb_cells = Jupyter.notebook.get_cells();\n",
       "                for (var i = 0; i < nbb_cells.length; ++i) {\n",
       "                    if (nbb_cells[i].input_prompt_number == nbb_cell_id) {\n",
       "                        if (nbb_cells[i].get_text() == nbb_unformatted_code) {\n",
       "                             nbb_cells[i].set_text(nbb_formatted_code);\n",
       "                        }\n",
       "                        break;\n",
       "                    }\n",
       "                }\n",
       "            }, 500);\n",
       "            "
      ],
      "text/plain": [
       "<IPython.core.display.Javascript object>"
      ]
     },
     "metadata": {},
     "output_type": "display_data"
    }
   ],
   "source": [
    "model.compile(optimizer=\"sgd\", loss=\"categorical_crossentropy\", metrics=[\"accuracy\"])"
   ]
  },
  {
   "cell_type": "code",
   "execution_count": 5,
   "metadata": {},
   "outputs": [
    {
     "name": "stdout",
     "output_type": "stream",
     "text": [
      "Epoch 1/20\n",
      "469/469 [==============================] - 0s 997us/step - loss: 1.3426 - accuracy: 0.6532\n",
      "Epoch 2/20\n",
      "469/469 [==============================] - 0s 986us/step - loss: 0.5257 - accuracy: 0.8659\n",
      "Epoch 3/20\n",
      "469/469 [==============================] - 0s 909us/step - loss: 0.3951 - accuracy: 0.8909\n",
      "Epoch 4/20\n",
      "469/469 [==============================] - 0s 923us/step - loss: 0.3456 - accuracy: 0.9021\n",
      "Epoch 5/20\n",
      "469/469 [==============================] - 0s 869us/step - loss: 0.3163 - accuracy: 0.9097\n",
      "Epoch 6/20\n",
      "469/469 [==============================] - 0s 857us/step - loss: 0.2953 - accuracy: 0.9149\n",
      "Epoch 7/20\n",
      "469/469 [==============================] - 0s 870us/step - loss: 0.2787 - accuracy: 0.9198\n",
      "Epoch 8/20\n",
      "469/469 [==============================] - 0s 855us/step - loss: 0.2644 - accuracy: 0.9240\n",
      "Epoch 9/20\n",
      "469/469 [==============================] - 0s 872us/step - loss: 0.2522 - accuracy: 0.9272\n",
      "Epoch 10/20\n",
      "469/469 [==============================] - 0s 887us/step - loss: 0.2413 - accuracy: 0.9306\n",
      "Epoch 11/20\n",
      "469/469 [==============================] - 0s 933us/step - loss: 0.2315 - accuracy: 0.9339\n",
      "Epoch 12/20\n",
      "469/469 [==============================] - 0s 941us/step - loss: 0.2228 - accuracy: 0.9362\n",
      "Epoch 13/20\n",
      "469/469 [==============================] - 0s 940us/step - loss: 0.2144 - accuracy: 0.9385\n",
      "Epoch 14/20\n",
      "469/469 [==============================] - 0s 1ms/step - loss: 0.2069 - accuracy: 0.9407\n",
      "Epoch 15/20\n",
      "469/469 [==============================] - 0s 1ms/step - loss: 0.2000 - accuracy: 0.9424\n",
      "Epoch 16/20\n",
      "469/469 [==============================] - 0s 852us/step - loss: 0.1935 - accuracy: 0.9446\n",
      "Epoch 17/20\n",
      "469/469 [==============================] - 0s 817us/step - loss: 0.1876 - accuracy: 0.9462\n",
      "Epoch 18/20\n",
      "469/469 [==============================] - 0s 955us/step - loss: 0.1818 - accuracy: 0.9473\n",
      "Epoch 19/20\n",
      "469/469 [==============================] - 0s 824us/step - loss: 0.1765 - accuracy: 0.9492\n",
      "Epoch 20/20\n",
      "469/469 [==============================] - 0s 820us/step - loss: 0.1715 - accuracy: 0.9505\n"
     ]
    },
    {
     "data": {
      "text/plain": [
       "<tensorflow.python.keras.callbacks.History at 0x1ea8c069448>"
      ]
     },
     "execution_count": 5,
     "metadata": {},
     "output_type": "execute_result"
    },
    {
     "data": {
      "application/javascript": [
       "\n",
       "            setTimeout(function() {\n",
       "                var nbb_cell_id = 5;\n",
       "                var nbb_unformatted_code = \"model.fit(X_train, y_train, batch_size=128, epochs=20, verbose=1)\";\n",
       "                var nbb_formatted_code = \"model.fit(X_train, y_train, batch_size=128, epochs=20, verbose=1)\";\n",
       "                var nbb_cells = Jupyter.notebook.get_cells();\n",
       "                for (var i = 0; i < nbb_cells.length; ++i) {\n",
       "                    if (nbb_cells[i].input_prompt_number == nbb_cell_id) {\n",
       "                        if (nbb_cells[i].get_text() == nbb_unformatted_code) {\n",
       "                             nbb_cells[i].set_text(nbb_formatted_code);\n",
       "                        }\n",
       "                        break;\n",
       "                    }\n",
       "                }\n",
       "            }, 500);\n",
       "            "
      ],
      "text/plain": [
       "<IPython.core.display.Javascript object>"
      ]
     },
     "metadata": {},
     "output_type": "display_data"
    }
   ],
   "source": [
    "model.fit(X_train, y_train, batch_size=128, epochs=20, verbose=1)"
   ]
  },
  {
   "cell_type": "code",
   "execution_count": 6,
   "metadata": {},
   "outputs": [
    {
     "name": "stdout",
     "output_type": "stream",
     "text": [
      "Test score: 0.17308348417282104\n",
      "Test accuracy: 0.9490000009536743\n"
     ]
    },
    {
     "data": {
      "application/javascript": [
       "\n",
       "            setTimeout(function() {\n",
       "                var nbb_cell_id = 6;\n",
       "                var nbb_unformatted_code = \"score = model.evaluate(X_test, y_test, verbose=0)\\nprint(\\\"Test score:\\\", score[0])\\nprint(\\\"Test accuracy:\\\", score[1])\";\n",
       "                var nbb_formatted_code = \"score = model.evaluate(X_test, y_test, verbose=0)\\nprint(\\\"Test score:\\\", score[0])\\nprint(\\\"Test accuracy:\\\", score[1])\";\n",
       "                var nbb_cells = Jupyter.notebook.get_cells();\n",
       "                for (var i = 0; i < nbb_cells.length; ++i) {\n",
       "                    if (nbb_cells[i].input_prompt_number == nbb_cell_id) {\n",
       "                        if (nbb_cells[i].get_text() == nbb_unformatted_code) {\n",
       "                             nbb_cells[i].set_text(nbb_formatted_code);\n",
       "                        }\n",
       "                        break;\n",
       "                    }\n",
       "                }\n",
       "            }, 500);\n",
       "            "
      ],
      "text/plain": [
       "<IPython.core.display.Javascript object>"
      ]
     },
     "metadata": {},
     "output_type": "display_data"
    }
   ],
   "source": [
    "score = model.evaluate(X_test, y_test, verbose=0)\n",
    "print(\"Test score:\", score[0])\n",
    "print(\"Test accuracy:\", score[1])"
   ]
  },
  {
   "cell_type": "code",
   "execution_count": 7,
   "metadata": {},
   "outputs": [
    {
     "name": "stdout",
     "output_type": "stream",
     "text": [
      "Epoch 1/20\n",
      "469/469 [==============================] - 0s 879us/step - loss: 1.9842 - accuracy: 0.3344\n",
      "Epoch 2/20\n",
      "469/469 [==============================] - 0s 859us/step - loss: 0.8775 - accuracy: 0.7729\n",
      "Epoch 3/20\n",
      "469/469 [==============================] - 0s 894us/step - loss: 0.4757 - accuracy: 0.8629\n",
      "Epoch 4/20\n",
      "469/469 [==============================] - 0s 917us/step - loss: 0.3774 - accuracy: 0.8907\n",
      "Epoch 5/20\n",
      "469/469 [==============================] - 0s 956us/step - loss: 0.3247 - accuracy: 0.9062\n",
      "Epoch 6/20\n",
      "469/469 [==============================] - 0s 902us/step - loss: 0.2882 - accuracy: 0.9167\n",
      "Epoch 7/20\n",
      "469/469 [==============================] - 0s 887us/step - loss: 0.2604 - accuracy: 0.9247\n",
      "Epoch 8/20\n",
      "469/469 [==============================] - 0s 903us/step - loss: 0.2377 - accuracy: 0.9311\n",
      "Epoch 9/20\n",
      "469/469 [==============================] - 0s 871us/step - loss: 0.2188 - accuracy: 0.9361\n",
      "Epoch 10/20\n",
      "469/469 [==============================] - 0s 893us/step - loss: 0.2038 - accuracy: 0.9409\n",
      "Epoch 11/20\n",
      "469/469 [==============================] - 0s 894us/step - loss: 0.1905 - accuracy: 0.9449\n",
      "Epoch 12/20\n",
      "469/469 [==============================] - 0s 880us/step - loss: 0.1793 - accuracy: 0.9479\n",
      "Epoch 13/20\n",
      "469/469 [==============================] - 0s 880us/step - loss: 0.1693 - accuracy: 0.9507\n",
      "Epoch 14/20\n",
      "469/469 [==============================] - 0s 863us/step - loss: 0.1606 - accuracy: 0.9537\n",
      "Epoch 15/20\n",
      "469/469 [==============================] - 0s 887us/step - loss: 0.1522 - accuracy: 0.9552\n",
      "Epoch 16/20\n",
      "469/469 [==============================] - 0s 888us/step - loss: 0.1449 - accuracy: 0.9578\n",
      "Epoch 17/20\n",
      "469/469 [==============================] - 0s 874us/step - loss: 0.1384 - accuracy: 0.9595\n",
      "Epoch 18/20\n",
      "469/469 [==============================] - 0s 876us/step - loss: 0.1322 - accuracy: 0.9618\n",
      "Epoch 19/20\n",
      "469/469 [==============================] - 0s 881us/step - loss: 0.1267 - accuracy: 0.9627\n",
      "Epoch 20/20\n",
      "469/469 [==============================] - 0s 890us/step - loss: 0.1214 - accuracy: 0.9648\n"
     ]
    },
    {
     "data": {
      "text/plain": [
       "<tensorflow.python.keras.callbacks.History at 0x1ea9fa0f288>"
      ]
     },
     "execution_count": 7,
     "metadata": {},
     "output_type": "execute_result"
    },
    {
     "data": {
      "application/javascript": [
       "\n",
       "            setTimeout(function() {\n",
       "                var nbb_cell_id = 7;\n",
       "                var nbb_unformatted_code = \"# 5 Layers\\nmodel = Sequential()\\nmodel.add(Dense(128, input_dim=X_train.shape[1], activation=\\\"relu\\\"))\\nmodel.add(Dense(64, activation=\\\"relu\\\"))\\nmodel.add(Dense(32, activation=\\\"relu\\\"))\\nmodel.add(Dense(16, activation=\\\"relu\\\"))\\nmodel.add(Dense(10, activation=\\\"softmax\\\"))\\n\\nmodel.compile(optimizer=\\\"sgd\\\", loss=\\\"categorical_crossentropy\\\", metrics=[\\\"accuracy\\\"])\\n\\nmodel.fit(X_train, y_train, batch_size=128, epochs=20, verbose=1)\";\n",
       "                var nbb_formatted_code = \"# 5 Layers\\nmodel = Sequential()\\nmodel.add(Dense(128, input_dim=X_train.shape[1], activation=\\\"relu\\\"))\\nmodel.add(Dense(64, activation=\\\"relu\\\"))\\nmodel.add(Dense(32, activation=\\\"relu\\\"))\\nmodel.add(Dense(16, activation=\\\"relu\\\"))\\nmodel.add(Dense(10, activation=\\\"softmax\\\"))\\n\\nmodel.compile(optimizer=\\\"sgd\\\", loss=\\\"categorical_crossentropy\\\", metrics=[\\\"accuracy\\\"])\\n\\nmodel.fit(X_train, y_train, batch_size=128, epochs=20, verbose=1)\";\n",
       "                var nbb_cells = Jupyter.notebook.get_cells();\n",
       "                for (var i = 0; i < nbb_cells.length; ++i) {\n",
       "                    if (nbb_cells[i].input_prompt_number == nbb_cell_id) {\n",
       "                        if (nbb_cells[i].get_text() == nbb_unformatted_code) {\n",
       "                             nbb_cells[i].set_text(nbb_formatted_code);\n",
       "                        }\n",
       "                        break;\n",
       "                    }\n",
       "                }\n",
       "            }, 500);\n",
       "            "
      ],
      "text/plain": [
       "<IPython.core.display.Javascript object>"
      ]
     },
     "metadata": {},
     "output_type": "display_data"
    }
   ],
   "source": [
    "# 5 Layers\n",
    "model = Sequential()\n",
    "model.add(Dense(128, input_dim=X_train.shape[1], activation=\"relu\"))\n",
    "model.add(Dense(64, activation=\"relu\"))\n",
    "model.add(Dense(32, activation=\"relu\"))\n",
    "model.add(Dense(16, activation=\"relu\"))\n",
    "model.add(Dense(10, activation=\"softmax\"))\n",
    "\n",
    "model.compile(optimizer=\"sgd\", loss=\"categorical_crossentropy\", metrics=[\"accuracy\"])\n",
    "\n",
    "model.fit(X_train, y_train, batch_size=128, epochs=20, verbose=1)"
   ]
  },
  {
   "cell_type": "code",
   "execution_count": 8,
   "metadata": {},
   "outputs": [
    {
     "name": "stdout",
     "output_type": "stream",
     "text": [
      "Test score: 0.12963488698005676\n",
      "Test accuracy: 0.9606000185012817\n"
     ]
    },
    {
     "data": {
      "application/javascript": [
       "\n",
       "            setTimeout(function() {\n",
       "                var nbb_cell_id = 8;\n",
       "                var nbb_unformatted_code = \"score = model.evaluate(X_test, y_test, verbose=0)\\nprint(\\\"Test score:\\\", score[0])\\nprint(\\\"Test accuracy:\\\", score[1])\";\n",
       "                var nbb_formatted_code = \"score = model.evaluate(X_test, y_test, verbose=0)\\nprint(\\\"Test score:\\\", score[0])\\nprint(\\\"Test accuracy:\\\", score[1])\";\n",
       "                var nbb_cells = Jupyter.notebook.get_cells();\n",
       "                for (var i = 0; i < nbb_cells.length; ++i) {\n",
       "                    if (nbb_cells[i].input_prompt_number == nbb_cell_id) {\n",
       "                        if (nbb_cells[i].get_text() == nbb_unformatted_code) {\n",
       "                             nbb_cells[i].set_text(nbb_formatted_code);\n",
       "                        }\n",
       "                        break;\n",
       "                    }\n",
       "                }\n",
       "            }, 500);\n",
       "            "
      ],
      "text/plain": [
       "<IPython.core.display.Javascript object>"
      ]
     },
     "metadata": {},
     "output_type": "display_data"
    }
   ],
   "source": [
    "score = model.evaluate(X_test, y_test, verbose=0)\n",
    "print(\"Test score:\", score[0])\n",
    "print(\"Test accuracy:\", score[1])"
   ]
  },
  {
   "cell_type": "code",
   "execution_count": 9,
   "metadata": {},
   "outputs": [
    {
     "name": "stdout",
     "output_type": "stream",
     "text": [
      "Epoch 1/20\n",
      "469/469 [==============================] - 1s 3ms/step - loss: 1.8797 - accuracy: 0.3439\n",
      "Epoch 2/20\n",
      "469/469 [==============================] - 1s 3ms/step - loss: 0.6186 - accuracy: 0.8279\n",
      "Epoch 3/20\n",
      "469/469 [==============================] - 1s 3ms/step - loss: 0.3632 - accuracy: 0.8964\n",
      "Epoch 4/20\n",
      "469/469 [==============================] - 1s 3ms/step - loss: 0.2813 - accuracy: 0.9185\n",
      "Epoch 5/20\n",
      "469/469 [==============================] - 1s 3ms/step - loss: 0.2323 - accuracy: 0.9328\n",
      "Epoch 6/20\n",
      "469/469 [==============================] - 1s 3ms/step - loss: 0.1999 - accuracy: 0.9419\n",
      "Epoch 7/20\n",
      "469/469 [==============================] - 1s 3ms/step - loss: 0.1766 - accuracy: 0.9486\n",
      "Epoch 8/20\n",
      "469/469 [==============================] - 1s 3ms/step - loss: 0.1580 - accuracy: 0.9538\n",
      "Epoch 9/20\n",
      "469/469 [==============================] - 1s 3ms/step - loss: 0.1441 - accuracy: 0.9577\n",
      "Epoch 10/20\n",
      "469/469 [==============================] - 1s 3ms/step - loss: 0.1307 - accuracy: 0.9623\n",
      "Epoch 11/20\n",
      "469/469 [==============================] - 1s 3ms/step - loss: 0.1204 - accuracy: 0.9648\n",
      "Epoch 12/20\n",
      "469/469 [==============================] - 1s 3ms/step - loss: 0.1110 - accuracy: 0.9675\n",
      "Epoch 13/20\n",
      "469/469 [==============================] - 1s 3ms/step - loss: 0.1017 - accuracy: 0.9704\n",
      "Epoch 14/20\n",
      "469/469 [==============================] - 1s 3ms/step - loss: 0.0941 - accuracy: 0.9727\n",
      "Epoch 15/20\n",
      "469/469 [==============================] - 1s 3ms/step - loss: 0.0868 - accuracy: 0.9750\n",
      "Epoch 16/20\n",
      "469/469 [==============================] - 1s 3ms/step - loss: 0.0802 - accuracy: 0.9771\n",
      "Epoch 17/20\n",
      "469/469 [==============================] - 1s 3ms/step - loss: 0.0739 - accuracy: 0.9788\n",
      "Epoch 18/20\n",
      "469/469 [==============================] - 1s 3ms/step - loss: 0.0684 - accuracy: 0.9807\n",
      "Epoch 19/20\n",
      "469/469 [==============================] - 1s 3ms/step - loss: 0.0634 - accuracy: 0.9818\n",
      "Epoch 20/20\n",
      "469/469 [==============================] - 1s 3ms/step - loss: 0.0601 - accuracy: 0.9829\n"
     ]
    },
    {
     "data": {
      "text/plain": [
       "<tensorflow.python.keras.callbacks.History at 0x1ea9fba1708>"
      ]
     },
     "execution_count": 9,
     "metadata": {},
     "output_type": "execute_result"
    },
    {
     "data": {
      "application/javascript": [
       "\n",
       "            setTimeout(function() {\n",
       "                var nbb_cell_id = 9;\n",
       "                var nbb_unformatted_code = \"# 7 Layers\\nmodel = Sequential()\\nmodel.add(Dense(512, input_dim=X_train.shape[1], activation=\\\"relu\\\"))\\nmodel.add(Dense(256, activation=\\\"relu\\\"))\\nmodel.add(Dense(128, activation=\\\"relu\\\"))\\nmodel.add(Dense(64, activation=\\\"relu\\\"))\\nmodel.add(Dense(32, activation=\\\"relu\\\"))\\nmodel.add(Dense(16, activation=\\\"relu\\\"))\\nmodel.add(Dense(10, activation=\\\"softmax\\\"))\\n\\nmodel.compile(optimizer=\\\"sgd\\\", loss=\\\"categorical_crossentropy\\\", metrics=[\\\"accuracy\\\"])\\n\\nmodel.fit(X_train, y_train, batch_size=128, epochs=20, verbose=1)\";\n",
       "                var nbb_formatted_code = \"# 7 Layers\\nmodel = Sequential()\\nmodel.add(Dense(512, input_dim=X_train.shape[1], activation=\\\"relu\\\"))\\nmodel.add(Dense(256, activation=\\\"relu\\\"))\\nmodel.add(Dense(128, activation=\\\"relu\\\"))\\nmodel.add(Dense(64, activation=\\\"relu\\\"))\\nmodel.add(Dense(32, activation=\\\"relu\\\"))\\nmodel.add(Dense(16, activation=\\\"relu\\\"))\\nmodel.add(Dense(10, activation=\\\"softmax\\\"))\\n\\nmodel.compile(optimizer=\\\"sgd\\\", loss=\\\"categorical_crossentropy\\\", metrics=[\\\"accuracy\\\"])\\n\\nmodel.fit(X_train, y_train, batch_size=128, epochs=20, verbose=1)\";\n",
       "                var nbb_cells = Jupyter.notebook.get_cells();\n",
       "                for (var i = 0; i < nbb_cells.length; ++i) {\n",
       "                    if (nbb_cells[i].input_prompt_number == nbb_cell_id) {\n",
       "                        if (nbb_cells[i].get_text() == nbb_unformatted_code) {\n",
       "                             nbb_cells[i].set_text(nbb_formatted_code);\n",
       "                        }\n",
       "                        break;\n",
       "                    }\n",
       "                }\n",
       "            }, 500);\n",
       "            "
      ],
      "text/plain": [
       "<IPython.core.display.Javascript object>"
      ]
     },
     "metadata": {},
     "output_type": "display_data"
    }
   ],
   "source": [
    "# 7 Layers\n",
    "model = Sequential()\n",
    "model.add(Dense(512, input_dim=X_train.shape[1], activation=\"relu\"))\n",
    "model.add(Dense(256, activation=\"relu\"))\n",
    "model.add(Dense(128, activation=\"relu\"))\n",
    "model.add(Dense(64, activation=\"relu\"))\n",
    "model.add(Dense(32, activation=\"relu\"))\n",
    "model.add(Dense(16, activation=\"relu\"))\n",
    "model.add(Dense(10, activation=\"softmax\"))\n",
    "\n",
    "model.compile(optimizer=\"sgd\", loss=\"categorical_crossentropy\", metrics=[\"accuracy\"])\n",
    "\n",
    "model.fit(X_train, y_train, batch_size=128, epochs=20, verbose=1)"
   ]
  },
  {
   "cell_type": "code",
   "execution_count": 10,
   "metadata": {},
   "outputs": [
    {
     "name": "stdout",
     "output_type": "stream",
     "text": [
      "Test score: 0.09538017213344574\n",
      "Test accuracy: 0.9706000089645386\n"
     ]
    },
    {
     "data": {
      "application/javascript": [
       "\n",
       "            setTimeout(function() {\n",
       "                var nbb_cell_id = 10;\n",
       "                var nbb_unformatted_code = \"score = model.evaluate(X_test, y_test, verbose=0)\\nprint(\\\"Test score:\\\", score[0])\\nprint(\\\"Test accuracy:\\\", score[1])\";\n",
       "                var nbb_formatted_code = \"score = model.evaluate(X_test, y_test, verbose=0)\\nprint(\\\"Test score:\\\", score[0])\\nprint(\\\"Test accuracy:\\\", score[1])\";\n",
       "                var nbb_cells = Jupyter.notebook.get_cells();\n",
       "                for (var i = 0; i < nbb_cells.length; ++i) {\n",
       "                    if (nbb_cells[i].input_prompt_number == nbb_cell_id) {\n",
       "                        if (nbb_cells[i].get_text() == nbb_unformatted_code) {\n",
       "                             nbb_cells[i].set_text(nbb_formatted_code);\n",
       "                        }\n",
       "                        break;\n",
       "                    }\n",
       "                }\n",
       "            }, 500);\n",
       "            "
      ],
      "text/plain": [
       "<IPython.core.display.Javascript object>"
      ]
     },
     "metadata": {},
     "output_type": "display_data"
    }
   ],
   "source": [
    "score = model.evaluate(X_test, y_test, verbose=0)\n",
    "print(\"Test score:\", score[0])\n",
    "print(\"Test accuracy:\", score[1])"
   ]
  },
  {
   "cell_type": "code",
   "execution_count": 11,
   "metadata": {},
   "outputs": [
    {
     "name": "stdout",
     "output_type": "stream",
     "text": [
      "Epoch 1/20\n",
      "469/469 [==============================] - 9s 18ms/step - loss: 1.5713 - accuracy: 0.5212\n",
      "Epoch 2/20\n",
      "469/469 [==============================] - 9s 19ms/step - loss: 0.5210 - accuracy: 0.8482\n",
      "Epoch 3/20\n",
      "469/469 [==============================] - 12s 25ms/step - loss: 0.3147 - accuracy: 0.9124\n",
      "Epoch 4/20\n",
      "469/469 [==============================] - 9s 18ms/step - loss: 0.2283 - accuracy: 0.9372\n",
      "Epoch 5/20\n",
      "469/469 [==============================] - 12s 25ms/step - loss: 0.1905 - accuracy: 0.9473\n",
      "Epoch 6/20\n",
      "469/469 [==============================] - 10s 20ms/step - loss: 0.1468 - accuracy: 0.9591\n",
      "Epoch 7/20\n",
      "469/469 [==============================] - 12s 26ms/step - loss: 0.1234 - accuracy: 0.9654\n",
      "Epoch 8/20\n",
      "469/469 [==============================] - 12s 26ms/step - loss: 0.1058 - accuracy: 0.9700\n",
      "Epoch 9/20\n",
      "469/469 [==============================] - 12s 25ms/step - loss: 0.0908 - accuracy: 0.9743\n",
      "Epoch 10/20\n",
      "469/469 [==============================] - 12s 26ms/step - loss: 0.0780 - accuracy: 0.9778\n",
      "Epoch 11/20\n",
      "469/469 [==============================] - 15s 31ms/step - loss: 0.1196 - accuracy: 0.9722\n",
      "Epoch 12/20\n",
      "469/469 [==============================] - 14s 31ms/step - loss: 0.0567 - accuracy: 0.9838\n",
      "Epoch 13/20\n",
      "469/469 [==============================] - 14s 30ms/step - loss: 0.0482 - accuracy: 0.98690s - loss: 0.0485 - \n",
      "Epoch 14/20\n",
      "469/469 [==============================] - 16s 34ms/step - loss: 0.0408 - accuracy: 0.9891\n",
      "Epoch 15/20\n",
      "469/469 [==============================] - 17s 36ms/step - loss: 0.0342 - accuracy: 0.9908\n",
      "Epoch 16/20\n",
      "469/469 [==============================] - 18s 38ms/step - loss: 0.0292 - accuracy: 0.9926\n",
      "Epoch 17/20\n",
      "469/469 [==============================] - 16s 35ms/step - loss: 0.0240 - accuracy: 0.9938\n",
      "Epoch 18/20\n",
      "469/469 [==============================] - 15s 32ms/step - loss: 0.0740 - accuracy: 0.9872\n",
      "Epoch 19/20\n",
      "469/469 [==============================] - 14s 31ms/step - loss: 0.0252 - accuracy: 0.9939\n",
      "Epoch 20/20\n",
      "469/469 [==============================] - 15s 31ms/step - loss: 0.0152 - accuracy: 0.9970\n"
     ]
    },
    {
     "data": {
      "text/plain": [
       "<tensorflow.python.keras.callbacks.History at 0x1ea9fc8a688>"
      ]
     },
     "execution_count": 11,
     "metadata": {},
     "output_type": "execute_result"
    },
    {
     "data": {
      "application/javascript": [
       "\n",
       "            setTimeout(function() {\n",
       "                var nbb_cell_id = 11;\n",
       "                var nbb_unformatted_code = \"# 9 Layers\\nmodel = Sequential()\\nmodel.add(Dense(2048, input_dim=X_train.shape[1], activation=\\\"relu\\\"))\\nmodel.add(Dense(1024, activation=\\\"relu\\\"))\\nmodel.add(Dense(512, activation=\\\"relu\\\"))\\nmodel.add(Dense(256, activation=\\\"relu\\\"))\\nmodel.add(Dense(128, activation=\\\"relu\\\"))\\nmodel.add(Dense(64, activation=\\\"relu\\\"))\\nmodel.add(Dense(32, activation=\\\"relu\\\"))\\nmodel.add(Dense(16, activation=\\\"relu\\\"))\\nmodel.add(Dense(10, activation=\\\"softmax\\\"))\\n\\nmodel.compile(optimizer=\\\"sgd\\\", loss=\\\"categorical_crossentropy\\\", metrics=[\\\"accuracy\\\"])\\n\\nmodel.fit(X_train, y_train, batch_size=128, epochs=20, verbose=1)\";\n",
       "                var nbb_formatted_code = \"# 9 Layers\\nmodel = Sequential()\\nmodel.add(Dense(2048, input_dim=X_train.shape[1], activation=\\\"relu\\\"))\\nmodel.add(Dense(1024, activation=\\\"relu\\\"))\\nmodel.add(Dense(512, activation=\\\"relu\\\"))\\nmodel.add(Dense(256, activation=\\\"relu\\\"))\\nmodel.add(Dense(128, activation=\\\"relu\\\"))\\nmodel.add(Dense(64, activation=\\\"relu\\\"))\\nmodel.add(Dense(32, activation=\\\"relu\\\"))\\nmodel.add(Dense(16, activation=\\\"relu\\\"))\\nmodel.add(Dense(10, activation=\\\"softmax\\\"))\\n\\nmodel.compile(optimizer=\\\"sgd\\\", loss=\\\"categorical_crossentropy\\\", metrics=[\\\"accuracy\\\"])\\n\\nmodel.fit(X_train, y_train, batch_size=128, epochs=20, verbose=1)\";\n",
       "                var nbb_cells = Jupyter.notebook.get_cells();\n",
       "                for (var i = 0; i < nbb_cells.length; ++i) {\n",
       "                    if (nbb_cells[i].input_prompt_number == nbb_cell_id) {\n",
       "                        if (nbb_cells[i].get_text() == nbb_unformatted_code) {\n",
       "                             nbb_cells[i].set_text(nbb_formatted_code);\n",
       "                        }\n",
       "                        break;\n",
       "                    }\n",
       "                }\n",
       "            }, 500);\n",
       "            "
      ],
      "text/plain": [
       "<IPython.core.display.Javascript object>"
      ]
     },
     "metadata": {},
     "output_type": "display_data"
    }
   ],
   "source": [
    "# 9 Layers\n",
    "model = Sequential()\n",
    "model.add(Dense(2048, input_dim=X_train.shape[1], activation=\"relu\"))\n",
    "model.add(Dense(1024, activation=\"relu\"))\n",
    "model.add(Dense(512, activation=\"relu\"))\n",
    "model.add(Dense(256, activation=\"relu\"))\n",
    "model.add(Dense(128, activation=\"relu\"))\n",
    "model.add(Dense(64, activation=\"relu\"))\n",
    "model.add(Dense(32, activation=\"relu\"))\n",
    "model.add(Dense(16, activation=\"relu\"))\n",
    "model.add(Dense(10, activation=\"softmax\"))\n",
    "\n",
    "model.compile(optimizer=\"sgd\", loss=\"categorical_crossentropy\", metrics=[\"accuracy\"])\n",
    "\n",
    "model.fit(X_train, y_train, batch_size=128, epochs=20, verbose=1)"
   ]
  },
  {
   "cell_type": "code",
   "execution_count": 12,
   "metadata": {},
   "outputs": [
    {
     "name": "stdout",
     "output_type": "stream",
     "text": [
      "Test score: 0.09052375704050064\n",
      "Test accuracy: 0.9750000238418579\n"
     ]
    },
    {
     "data": {
      "application/javascript": [
       "\n",
       "            setTimeout(function() {\n",
       "                var nbb_cell_id = 12;\n",
       "                var nbb_unformatted_code = \"score = model.evaluate(X_test, y_test, verbose=0)\\nprint(\\\"Test score:\\\", score[0])\\nprint(\\\"Test accuracy:\\\", score[1])\";\n",
       "                var nbb_formatted_code = \"score = model.evaluate(X_test, y_test, verbose=0)\\nprint(\\\"Test score:\\\", score[0])\\nprint(\\\"Test accuracy:\\\", score[1])\";\n",
       "                var nbb_cells = Jupyter.notebook.get_cells();\n",
       "                for (var i = 0; i < nbb_cells.length; ++i) {\n",
       "                    if (nbb_cells[i].input_prompt_number == nbb_cell_id) {\n",
       "                        if (nbb_cells[i].get_text() == nbb_unformatted_code) {\n",
       "                             nbb_cells[i].set_text(nbb_formatted_code);\n",
       "                        }\n",
       "                        break;\n",
       "                    }\n",
       "                }\n",
       "            }, 500);\n",
       "            "
      ],
      "text/plain": [
       "<IPython.core.display.Javascript object>"
      ]
     },
     "metadata": {},
     "output_type": "display_data"
    }
   ],
   "source": [
    "score = model.evaluate(X_test, y_test, verbose=0)\n",
    "print(\"Test score:\", score[0])\n",
    "print(\"Test accuracy:\", score[1])"
   ]
  },
  {
   "cell_type": "markdown",
   "metadata": {},
   "source": [
    "The most accurate model came from using 9 layers. The speed of the model was much slower. The run time of a 7 layer model was noticeably faster but performed with a worse accuracy."
   ]
  },
  {
   "cell_type": "markdown",
   "metadata": {},
   "source": [
    "# Tanh activation and SGD loss"
   ]
  },
  {
   "cell_type": "code",
   "execution_count": 13,
   "metadata": {},
   "outputs": [
    {
     "data": {
      "application/javascript": [
       "\n",
       "            setTimeout(function() {\n",
       "                var nbb_cell_id = 13;\n",
       "                var nbb_unformatted_code = \"# 3 Layers\\nmodel = Sequential()\\nmodel.add(Dense(128, input_dim=X_train.shape[1], activation=\\\"tanh\\\"))\\nmodel.add(Dense(64, activation=\\\"tanh\\\"))\\nmodel.add(Dense(10, activation=\\\"softmax\\\"))\";\n",
       "                var nbb_formatted_code = \"# 3 Layers\\nmodel = Sequential()\\nmodel.add(Dense(128, input_dim=X_train.shape[1], activation=\\\"tanh\\\"))\\nmodel.add(Dense(64, activation=\\\"tanh\\\"))\\nmodel.add(Dense(10, activation=\\\"softmax\\\"))\";\n",
       "                var nbb_cells = Jupyter.notebook.get_cells();\n",
       "                for (var i = 0; i < nbb_cells.length; ++i) {\n",
       "                    if (nbb_cells[i].input_prompt_number == nbb_cell_id) {\n",
       "                        if (nbb_cells[i].get_text() == nbb_unformatted_code) {\n",
       "                             nbb_cells[i].set_text(nbb_formatted_code);\n",
       "                        }\n",
       "                        break;\n",
       "                    }\n",
       "                }\n",
       "            }, 500);\n",
       "            "
      ],
      "text/plain": [
       "<IPython.core.display.Javascript object>"
      ]
     },
     "metadata": {},
     "output_type": "display_data"
    }
   ],
   "source": [
    "# 3 Layers\n",
    "model = Sequential()\n",
    "model.add(Dense(128, input_dim=X_train.shape[1], activation=\"tanh\"))\n",
    "model.add(Dense(64, activation=\"tanh\"))\n",
    "model.add(Dense(10, activation=\"softmax\"))"
   ]
  },
  {
   "cell_type": "code",
   "execution_count": 14,
   "metadata": {},
   "outputs": [
    {
     "data": {
      "application/javascript": [
       "\n",
       "            setTimeout(function() {\n",
       "                var nbb_cell_id = 14;\n",
       "                var nbb_unformatted_code = \"model.compile(optimizer=\\\"sgd\\\", loss=\\\"categorical_crossentropy\\\", metrics=[\\\"accuracy\\\"])\";\n",
       "                var nbb_formatted_code = \"model.compile(optimizer=\\\"sgd\\\", loss=\\\"categorical_crossentropy\\\", metrics=[\\\"accuracy\\\"])\";\n",
       "                var nbb_cells = Jupyter.notebook.get_cells();\n",
       "                for (var i = 0; i < nbb_cells.length; ++i) {\n",
       "                    if (nbb_cells[i].input_prompt_number == nbb_cell_id) {\n",
       "                        if (nbb_cells[i].get_text() == nbb_unformatted_code) {\n",
       "                             nbb_cells[i].set_text(nbb_formatted_code);\n",
       "                        }\n",
       "                        break;\n",
       "                    }\n",
       "                }\n",
       "            }, 500);\n",
       "            "
      ],
      "text/plain": [
       "<IPython.core.display.Javascript object>"
      ]
     },
     "metadata": {},
     "output_type": "display_data"
    }
   ],
   "source": [
    "model.compile(optimizer=\"sgd\", loss=\"categorical_crossentropy\", metrics=[\"accuracy\"])"
   ]
  },
  {
   "cell_type": "code",
   "execution_count": 15,
   "metadata": {},
   "outputs": [
    {
     "name": "stdout",
     "output_type": "stream",
     "text": [
      "Epoch 1/20\n",
      "469/469 [==============================] - 1s 1ms/step - loss: 1.0217 - accuracy: 0.7430\n",
      "Epoch 2/20\n",
      "469/469 [==============================] - 1s 1ms/step - loss: 0.5210 - accuracy: 0.8669\n",
      "Epoch 3/20\n",
      "469/469 [==============================] - 1s 1ms/step - loss: 0.4213 - accuracy: 0.8878\n",
      "Epoch 4/20\n",
      "469/469 [==============================] - 1s 1ms/step - loss: 0.3732 - accuracy: 0.8979\n",
      "Epoch 5/20\n",
      "469/469 [==============================] - 1s 1ms/step - loss: 0.3435 - accuracy: 0.9040\n",
      "Epoch 6/20\n",
      "469/469 [==============================] - 1s 1ms/step - loss: 0.3224 - accuracy: 0.9093\n",
      "Epoch 7/20\n",
      "469/469 [==============================] - 1s 1ms/step - loss: 0.3063 - accuracy: 0.9133\n",
      "Epoch 8/20\n",
      "469/469 [==============================] - 1s 1ms/step - loss: 0.2932 - accuracy: 0.9166\n",
      "Epoch 9/20\n",
      "469/469 [==============================] - 1s 1ms/step - loss: 0.2820 - accuracy: 0.9195\n",
      "Epoch 10/20\n",
      "469/469 [==============================] - 1s 1ms/step - loss: 0.2722 - accuracy: 0.9219\n",
      "Epoch 11/20\n",
      "469/469 [==============================] - 1s 1ms/step - loss: 0.2635 - accuracy: 0.9244\n",
      "Epoch 12/20\n",
      "469/469 [==============================] - 1s 1ms/step - loss: 0.2554 - accuracy: 0.9262\n",
      "Epoch 13/20\n",
      "469/469 [==============================] - 1s 1ms/step - loss: 0.2482 - accuracy: 0.9285\n",
      "Epoch 14/20\n",
      "469/469 [==============================] - 1s 1ms/step - loss: 0.2412 - accuracy: 0.9304\n",
      "Epoch 15/20\n",
      "469/469 [==============================] - 1s 1ms/step - loss: 0.2349 - accuracy: 0.9327\n",
      "Epoch 16/20\n",
      "469/469 [==============================] - 1s 1ms/step - loss: 0.2288 - accuracy: 0.9343\n",
      "Epoch 17/20\n",
      "469/469 [==============================] - 1s 1ms/step - loss: 0.2232 - accuracy: 0.9363\n",
      "Epoch 18/20\n",
      "469/469 [==============================] - 1s 1ms/step - loss: 0.2177 - accuracy: 0.9377\n",
      "Epoch 19/20\n",
      "469/469 [==============================] - 1s 1ms/step - loss: 0.2127 - accuracy: 0.9397\n",
      "Epoch 20/20\n",
      "469/469 [==============================] - 1s 1ms/step - loss: 0.2077 - accuracy: 0.9407\n"
     ]
    },
    {
     "data": {
      "text/plain": [
       "<tensorflow.python.keras.callbacks.History at 0x1eaa1045588>"
      ]
     },
     "execution_count": 15,
     "metadata": {},
     "output_type": "execute_result"
    },
    {
     "data": {
      "application/javascript": [
       "\n",
       "            setTimeout(function() {\n",
       "                var nbb_cell_id = 15;\n",
       "                var nbb_unformatted_code = \"model.fit(X_train, y_train, batch_size=128, epochs=20, verbose=1)\";\n",
       "                var nbb_formatted_code = \"model.fit(X_train, y_train, batch_size=128, epochs=20, verbose=1)\";\n",
       "                var nbb_cells = Jupyter.notebook.get_cells();\n",
       "                for (var i = 0; i < nbb_cells.length; ++i) {\n",
       "                    if (nbb_cells[i].input_prompt_number == nbb_cell_id) {\n",
       "                        if (nbb_cells[i].get_text() == nbb_unformatted_code) {\n",
       "                             nbb_cells[i].set_text(nbb_formatted_code);\n",
       "                        }\n",
       "                        break;\n",
       "                    }\n",
       "                }\n",
       "            }, 500);\n",
       "            "
      ],
      "text/plain": [
       "<IPython.core.display.Javascript object>"
      ]
     },
     "metadata": {},
     "output_type": "display_data"
    }
   ],
   "source": [
    "model.fit(X_train, y_train, batch_size=128, epochs=20, verbose=1)"
   ]
  },
  {
   "cell_type": "code",
   "execution_count": 16,
   "metadata": {},
   "outputs": [
    {
     "name": "stdout",
     "output_type": "stream",
     "text": [
      "Test score: 0.20599287748336792\n",
      "Test accuracy: 0.9412999749183655\n"
     ]
    },
    {
     "data": {
      "application/javascript": [
       "\n",
       "            setTimeout(function() {\n",
       "                var nbb_cell_id = 16;\n",
       "                var nbb_unformatted_code = \"score = model.evaluate(X_test, y_test, verbose=0)\\nprint(\\\"Test score:\\\", score[0])\\nprint(\\\"Test accuracy:\\\", score[1])\";\n",
       "                var nbb_formatted_code = \"score = model.evaluate(X_test, y_test, verbose=0)\\nprint(\\\"Test score:\\\", score[0])\\nprint(\\\"Test accuracy:\\\", score[1])\";\n",
       "                var nbb_cells = Jupyter.notebook.get_cells();\n",
       "                for (var i = 0; i < nbb_cells.length; ++i) {\n",
       "                    if (nbb_cells[i].input_prompt_number == nbb_cell_id) {\n",
       "                        if (nbb_cells[i].get_text() == nbb_unformatted_code) {\n",
       "                             nbb_cells[i].set_text(nbb_formatted_code);\n",
       "                        }\n",
       "                        break;\n",
       "                    }\n",
       "                }\n",
       "            }, 500);\n",
       "            "
      ],
      "text/plain": [
       "<IPython.core.display.Javascript object>"
      ]
     },
     "metadata": {},
     "output_type": "display_data"
    }
   ],
   "source": [
    "score = model.evaluate(X_test, y_test, verbose=0)\n",
    "print(\"Test score:\", score[0])\n",
    "print(\"Test accuracy:\", score[1])"
   ]
  },
  {
   "cell_type": "code",
   "execution_count": 17,
   "metadata": {},
   "outputs": [
    {
     "name": "stdout",
     "output_type": "stream",
     "text": [
      "Epoch 1/20\n",
      "469/469 [==============================] - 1s 1ms/step - loss: 1.4077 - accuracy: 0.6426\n",
      "Epoch 2/20\n",
      "469/469 [==============================] - 1s 1ms/step - loss: 0.7767 - accuracy: 0.8385\n",
      "Epoch 3/20\n",
      "469/469 [==============================] - 1s 1ms/step - loss: 0.5562 - accuracy: 0.8761\n",
      "Epoch 4/20\n",
      "469/469 [==============================] - 1s 1ms/step - loss: 0.4479 - accuracy: 0.8934\n",
      "Epoch 5/20\n",
      "469/469 [==============================] - 1s 1ms/step - loss: 0.3844 - accuracy: 0.9047\n",
      "Epoch 6/20\n",
      "469/469 [==============================] - 1s 1ms/step - loss: 0.3427 - accuracy: 0.9125\n",
      "Epoch 7/20\n",
      "469/469 [==============================] - 1s 1ms/step - loss: 0.3123 - accuracy: 0.9184\n",
      "Epoch 8/20\n",
      "469/469 [==============================] - 1s 1ms/step - loss: 0.2886 - accuracy: 0.9232\n",
      "Epoch 9/20\n",
      "469/469 [==============================] - 1s 1ms/step - loss: 0.2695 - accuracy: 0.9278\n",
      "Epoch 10/20\n",
      "469/469 [==============================] - 1s 1ms/step - loss: 0.2531 - accuracy: 0.9316\n",
      "Epoch 11/20\n",
      "469/469 [==============================] - 1s 1ms/step - loss: 0.2389 - accuracy: 0.9351\n",
      "Epoch 12/20\n",
      "469/469 [==============================] - 1s 1ms/step - loss: 0.2264 - accuracy: 0.9380\n",
      "Epoch 13/20\n",
      "469/469 [==============================] - 1s 1ms/step - loss: 0.2150 - accuracy: 0.9410\n",
      "Epoch 14/20\n",
      "469/469 [==============================] - 1s 1ms/step - loss: 0.2049 - accuracy: 0.9433\n",
      "Epoch 15/20\n",
      "469/469 [==============================] - 1s 1ms/step - loss: 0.1953 - accuracy: 0.9458\n",
      "Epoch 16/20\n",
      "469/469 [==============================] - 1s 1ms/step - loss: 0.1867 - accuracy: 0.9484\n",
      "Epoch 17/20\n",
      "469/469 [==============================] - 1s 1ms/step - loss: 0.1790 - accuracy: 0.9503\n",
      "Epoch 18/20\n",
      "469/469 [==============================] - 1s 1ms/step - loss: 0.1716 - accuracy: 0.9523\n",
      "Epoch 19/20\n",
      "469/469 [==============================] - 1s 1ms/step - loss: 0.1649 - accuracy: 0.9544\n",
      "Epoch 20/20\n",
      "469/469 [==============================] - 1s 1ms/step - loss: 0.1586 - accuracy: 0.9563\n"
     ]
    },
    {
     "data": {
      "text/plain": [
       "<tensorflow.python.keras.callbacks.History at 0x1eaa119c188>"
      ]
     },
     "execution_count": 17,
     "metadata": {},
     "output_type": "execute_result"
    },
    {
     "data": {
      "application/javascript": [
       "\n",
       "            setTimeout(function() {\n",
       "                var nbb_cell_id = 17;\n",
       "                var nbb_unformatted_code = \"# 5 Layers\\nmodel = Sequential()\\nmodel.add(Dense(128, input_dim=X_train.shape[1], activation=\\\"tanh\\\"))\\nmodel.add(Dense(64, activation=\\\"tanh\\\"))\\nmodel.add(Dense(32, activation=\\\"tanh\\\"))\\nmodel.add(Dense(16, activation=\\\"tanh\\\"))\\nmodel.add(Dense(10, activation=\\\"softmax\\\"))\\n\\nmodel.compile(optimizer=\\\"sgd\\\", loss=\\\"categorical_crossentropy\\\", metrics=[\\\"accuracy\\\"])\\n\\nmodel.fit(X_train, y_train, batch_size=128, epochs=20, verbose=1)\";\n",
       "                var nbb_formatted_code = \"# 5 Layers\\nmodel = Sequential()\\nmodel.add(Dense(128, input_dim=X_train.shape[1], activation=\\\"tanh\\\"))\\nmodel.add(Dense(64, activation=\\\"tanh\\\"))\\nmodel.add(Dense(32, activation=\\\"tanh\\\"))\\nmodel.add(Dense(16, activation=\\\"tanh\\\"))\\nmodel.add(Dense(10, activation=\\\"softmax\\\"))\\n\\nmodel.compile(optimizer=\\\"sgd\\\", loss=\\\"categorical_crossentropy\\\", metrics=[\\\"accuracy\\\"])\\n\\nmodel.fit(X_train, y_train, batch_size=128, epochs=20, verbose=1)\";\n",
       "                var nbb_cells = Jupyter.notebook.get_cells();\n",
       "                for (var i = 0; i < nbb_cells.length; ++i) {\n",
       "                    if (nbb_cells[i].input_prompt_number == nbb_cell_id) {\n",
       "                        if (nbb_cells[i].get_text() == nbb_unformatted_code) {\n",
       "                             nbb_cells[i].set_text(nbb_formatted_code);\n",
       "                        }\n",
       "                        break;\n",
       "                    }\n",
       "                }\n",
       "            }, 500);\n",
       "            "
      ],
      "text/plain": [
       "<IPython.core.display.Javascript object>"
      ]
     },
     "metadata": {},
     "output_type": "display_data"
    }
   ],
   "source": [
    "# 5 Layers\n",
    "model = Sequential()\n",
    "model.add(Dense(128, input_dim=X_train.shape[1], activation=\"tanh\"))\n",
    "model.add(Dense(64, activation=\"tanh\"))\n",
    "model.add(Dense(32, activation=\"tanh\"))\n",
    "model.add(Dense(16, activation=\"tanh\"))\n",
    "model.add(Dense(10, activation=\"softmax\"))\n",
    "\n",
    "model.compile(optimizer=\"sgd\", loss=\"categorical_crossentropy\", metrics=[\"accuracy\"])\n",
    "\n",
    "model.fit(X_train, y_train, batch_size=128, epochs=20, verbose=1)"
   ]
  },
  {
   "cell_type": "code",
   "execution_count": 18,
   "metadata": {},
   "outputs": [
    {
     "name": "stdout",
     "output_type": "stream",
     "text": [
      "Test score: 0.16711029410362244\n",
      "Test accuracy: 0.951200008392334\n"
     ]
    },
    {
     "data": {
      "application/javascript": [
       "\n",
       "            setTimeout(function() {\n",
       "                var nbb_cell_id = 18;\n",
       "                var nbb_unformatted_code = \"score = model.evaluate(X_test, y_test, verbose=0)\\nprint(\\\"Test score:\\\", score[0])\\nprint(\\\"Test accuracy:\\\", score[1])\";\n",
       "                var nbb_formatted_code = \"score = model.evaluate(X_test, y_test, verbose=0)\\nprint(\\\"Test score:\\\", score[0])\\nprint(\\\"Test accuracy:\\\", score[1])\";\n",
       "                var nbb_cells = Jupyter.notebook.get_cells();\n",
       "                for (var i = 0; i < nbb_cells.length; ++i) {\n",
       "                    if (nbb_cells[i].input_prompt_number == nbb_cell_id) {\n",
       "                        if (nbb_cells[i].get_text() == nbb_unformatted_code) {\n",
       "                             nbb_cells[i].set_text(nbb_formatted_code);\n",
       "                        }\n",
       "                        break;\n",
       "                    }\n",
       "                }\n",
       "            }, 500);\n",
       "            "
      ],
      "text/plain": [
       "<IPython.core.display.Javascript object>"
      ]
     },
     "metadata": {},
     "output_type": "display_data"
    }
   ],
   "source": [
    "score = model.evaluate(X_test, y_test, verbose=0)\n",
    "print(\"Test score:\", score[0])\n",
    "print(\"Test accuracy:\", score[1])"
   ]
  },
  {
   "cell_type": "code",
   "execution_count": 19,
   "metadata": {},
   "outputs": [
    {
     "name": "stdout",
     "output_type": "stream",
     "text": [
      "Epoch 1/20\n",
      "469/469 [==============================] - 2s 4ms/step - loss: 1.1680 - accuracy: 0.7130\n",
      "Epoch 2/20\n",
      "469/469 [==============================] - 2s 4ms/step - loss: 0.6266 - accuracy: 0.8693\n",
      "Epoch 3/20\n",
      "469/469 [==============================] - 2s 5ms/step - loss: 0.4549 - accuracy: 0.8958\n",
      "Epoch 4/20\n",
      "469/469 [==============================] - 3s 6ms/step - loss: 0.3694 - accuracy: 0.9117\n",
      "Epoch 5/20\n",
      "469/469 [==============================] - 2s 5ms/step - loss: 0.3170 - accuracy: 0.9204\n",
      "Epoch 6/20\n",
      "469/469 [==============================] - 3s 6ms/step - loss: 0.2806 - accuracy: 0.9277\n",
      "Epoch 7/20\n",
      "469/469 [==============================] - 2s 5ms/step - loss: 0.2522 - accuracy: 0.9345\n",
      "Epoch 8/20\n",
      "469/469 [==============================] - 2s 5ms/step - loss: 0.2292 - accuracy: 0.9399\n",
      "Epoch 9/20\n",
      "469/469 [==============================] - 2s 4ms/step - loss: 0.2098 - accuracy: 0.9441\n",
      "Epoch 10/20\n",
      "469/469 [==============================] - 2s 5ms/step - loss: 0.1933 - accuracy: 0.9484\n",
      "Epoch 11/20\n",
      "469/469 [==============================] - 2s 5ms/step - loss: 0.1792 - accuracy: 0.9522\n",
      "Epoch 12/20\n",
      "469/469 [==============================] - 2s 5ms/step - loss: 0.1667 - accuracy: 0.9555\n",
      "Epoch 13/20\n",
      "469/469 [==============================] - 2s 5ms/step - loss: 0.1558 - accuracy: 0.9585\n",
      "Epoch 14/20\n",
      "469/469 [==============================] - 2s 4ms/step - loss: 0.1461 - accuracy: 0.9614\n",
      "Epoch 15/20\n",
      "469/469 [==============================] - 2s 4ms/step - loss: 0.1374 - accuracy: 0.9638\n",
      "Epoch 16/20\n",
      "469/469 [==============================] - 2s 4ms/step - loss: 0.1296 - accuracy: 0.9655\n",
      "Epoch 17/20\n",
      "469/469 [==============================] - 2s 4ms/step - loss: 0.1223 - accuracy: 0.9677\n",
      "Epoch 18/20\n",
      "469/469 [==============================] - 2s 4ms/step - loss: 0.1161 - accuracy: 0.9695\n",
      "Epoch 19/20\n",
      "469/469 [==============================] - 2s 4ms/step - loss: 0.1100 - accuracy: 0.9714\n",
      "Epoch 20/20\n",
      "469/469 [==============================] - 2s 5ms/step - loss: 0.1046 - accuracy: 0.9728\n"
     ]
    },
    {
     "data": {
      "text/plain": [
       "<tensorflow.python.keras.callbacks.History at 0x1ea9f944608>"
      ]
     },
     "execution_count": 19,
     "metadata": {},
     "output_type": "execute_result"
    },
    {
     "data": {
      "application/javascript": [
       "\n",
       "            setTimeout(function() {\n",
       "                var nbb_cell_id = 19;\n",
       "                var nbb_unformatted_code = \"# 7 Layers\\nmodel = Sequential()\\nmodel.add(Dense(512, input_dim=X_train.shape[1], activation=\\\"tanh\\\"))\\nmodel.add(Dense(256, activation=\\\"tanh\\\"))\\nmodel.add(Dense(128, activation=\\\"tanh\\\"))\\nmodel.add(Dense(64, activation=\\\"tanh\\\"))\\nmodel.add(Dense(32, activation=\\\"tanh\\\"))\\nmodel.add(Dense(16, activation=\\\"tanh\\\"))\\nmodel.add(Dense(10, activation=\\\"softmax\\\"))\\n\\nmodel.compile(optimizer=\\\"sgd\\\", loss=\\\"categorical_crossentropy\\\", metrics=[\\\"accuracy\\\"])\\n\\nmodel.fit(X_train, y_train, batch_size=128, epochs=20, verbose=1)\";\n",
       "                var nbb_formatted_code = \"# 7 Layers\\nmodel = Sequential()\\nmodel.add(Dense(512, input_dim=X_train.shape[1], activation=\\\"tanh\\\"))\\nmodel.add(Dense(256, activation=\\\"tanh\\\"))\\nmodel.add(Dense(128, activation=\\\"tanh\\\"))\\nmodel.add(Dense(64, activation=\\\"tanh\\\"))\\nmodel.add(Dense(32, activation=\\\"tanh\\\"))\\nmodel.add(Dense(16, activation=\\\"tanh\\\"))\\nmodel.add(Dense(10, activation=\\\"softmax\\\"))\\n\\nmodel.compile(optimizer=\\\"sgd\\\", loss=\\\"categorical_crossentropy\\\", metrics=[\\\"accuracy\\\"])\\n\\nmodel.fit(X_train, y_train, batch_size=128, epochs=20, verbose=1)\";\n",
       "                var nbb_cells = Jupyter.notebook.get_cells();\n",
       "                for (var i = 0; i < nbb_cells.length; ++i) {\n",
       "                    if (nbb_cells[i].input_prompt_number == nbb_cell_id) {\n",
       "                        if (nbb_cells[i].get_text() == nbb_unformatted_code) {\n",
       "                             nbb_cells[i].set_text(nbb_formatted_code);\n",
       "                        }\n",
       "                        break;\n",
       "                    }\n",
       "                }\n",
       "            }, 500);\n",
       "            "
      ],
      "text/plain": [
       "<IPython.core.display.Javascript object>"
      ]
     },
     "metadata": {},
     "output_type": "display_data"
    }
   ],
   "source": [
    "# 7 Layers\n",
    "model = Sequential()\n",
    "model.add(Dense(512, input_dim=X_train.shape[1], activation=\"tanh\"))\n",
    "model.add(Dense(256, activation=\"tanh\"))\n",
    "model.add(Dense(128, activation=\"tanh\"))\n",
    "model.add(Dense(64, activation=\"tanh\"))\n",
    "model.add(Dense(32, activation=\"tanh\"))\n",
    "model.add(Dense(16, activation=\"tanh\"))\n",
    "model.add(Dense(10, activation=\"softmax\"))\n",
    "\n",
    "model.compile(optimizer=\"sgd\", loss=\"categorical_crossentropy\", metrics=[\"accuracy\"])\n",
    "\n",
    "model.fit(X_train, y_train, batch_size=128, epochs=20, verbose=1)"
   ]
  },
  {
   "cell_type": "code",
   "execution_count": 20,
   "metadata": {},
   "outputs": [
    {
     "name": "stdout",
     "output_type": "stream",
     "text": [
      "Test score: 0.120052270591259\n",
      "Test accuracy: 0.9656999707221985\n"
     ]
    },
    {
     "data": {
      "application/javascript": [
       "\n",
       "            setTimeout(function() {\n",
       "                var nbb_cell_id = 20;\n",
       "                var nbb_unformatted_code = \"score = model.evaluate(X_test, y_test, verbose=0)\\nprint(\\\"Test score:\\\", score[0])\\nprint(\\\"Test accuracy:\\\", score[1])\";\n",
       "                var nbb_formatted_code = \"score = model.evaluate(X_test, y_test, verbose=0)\\nprint(\\\"Test score:\\\", score[0])\\nprint(\\\"Test accuracy:\\\", score[1])\";\n",
       "                var nbb_cells = Jupyter.notebook.get_cells();\n",
       "                for (var i = 0; i < nbb_cells.length; ++i) {\n",
       "                    if (nbb_cells[i].input_prompt_number == nbb_cell_id) {\n",
       "                        if (nbb_cells[i].get_text() == nbb_unformatted_code) {\n",
       "                             nbb_cells[i].set_text(nbb_formatted_code);\n",
       "                        }\n",
       "                        break;\n",
       "                    }\n",
       "                }\n",
       "            }, 500);\n",
       "            "
      ],
      "text/plain": [
       "<IPython.core.display.Javascript object>"
      ]
     },
     "metadata": {},
     "output_type": "display_data"
    }
   ],
   "source": [
    "score = model.evaluate(X_test, y_test, verbose=0)\n",
    "print(\"Test score:\", score[0])\n",
    "print(\"Test accuracy:\", score[1])"
   ]
  },
  {
   "cell_type": "code",
   "execution_count": 21,
   "metadata": {},
   "outputs": [
    {
     "name": "stdout",
     "output_type": "stream",
     "text": [
      "Epoch 1/20\n",
      "469/469 [==============================] - 15s 33ms/step - loss: 0.9837 - accuracy: 0.8138\n",
      "Epoch 2/20\n",
      "469/469 [==============================] - 15s 31ms/step - loss: 0.5038 - accuracy: 0.9003\n",
      "Epoch 3/20\n",
      "469/469 [==============================] - 15s 32ms/step - loss: 0.3632 - accuracy: 0.9192 ETA: 0s - loss: 0.3632 - accuracy: 0.91\n",
      "Epoch 4/20\n",
      "469/469 [==============================] - 15s 32ms/step - loss: 0.2946 - accuracy: 0.9307\n",
      "Epoch 5/20\n",
      "469/469 [==============================] - 15s 33ms/step - loss: 0.2507 - accuracy: 0.9395\n",
      "Epoch 6/20\n",
      "469/469 [==============================] - 15s 33ms/step - loss: 0.2194 - accuracy: 0.94620s - loss: 0.2196 - accuracy: 0.94 - ETA: 0s - loss: 0.2194 - accuracy: 0.94\n",
      "Epoch 7/20\n",
      "469/469 [==============================] - 16s 33ms/step - loss: 0.1945 - accuracy: 0.9513\n",
      "Epoch 8/20\n",
      "469/469 [==============================] - 15s 33ms/step - loss: 0.1749 - accuracy: 0.9561\n",
      "Epoch 9/20\n",
      "469/469 [==============================] - 15s 33ms/step - loss: 0.1579 - accuracy: 0.9608\n",
      "Epoch 10/20\n",
      "469/469 [==============================] - 16s 33ms/step - loss: 0.1431 - accuracy: 0.9643\n",
      "Epoch 11/20\n",
      "469/469 [==============================] - 15s 32ms/step - loss: 0.1313 - accuracy: 0.9667\n",
      "Epoch 12/20\n",
      "469/469 [==============================] - 15s 33ms/step - loss: 0.1209 - accuracy: 0.9694\n",
      "Epoch 13/20\n",
      "469/469 [==============================] - 16s 33ms/step - loss: 0.1115 - accuracy: 0.9723\n",
      "Epoch 14/20\n",
      "469/469 [==============================] - 15s 32ms/step - loss: 0.1029 - accuracy: 0.9743\n",
      "Epoch 15/20\n",
      "469/469 [==============================] - 14s 31ms/step - loss: 0.0952 - accuracy: 0.9771\n",
      "Epoch 16/20\n",
      "469/469 [==============================] - 14s 31ms/step - loss: 0.0888 - accuracy: 0.9783\n",
      "Epoch 17/20\n",
      "469/469 [==============================] - 15s 31ms/step - loss: 0.0828 - accuracy: 0.9801\n",
      "Epoch 18/20\n",
      "469/469 [==============================] - 15s 33ms/step - loss: 0.0772 - accuracy: 0.9814\n",
      "Epoch 19/20\n",
      "469/469 [==============================] - 15s 32ms/step - loss: 0.0720 - accuracy: 0.9828\n",
      "Epoch 20/20\n",
      "469/469 [==============================] - 15s 32ms/step - loss: 0.0671 - accuracy: 0.9844\n"
     ]
    },
    {
     "data": {
      "text/plain": [
       "<tensorflow.python.keras.callbacks.History at 0x1eaa13e30c8>"
      ]
     },
     "execution_count": 21,
     "metadata": {},
     "output_type": "execute_result"
    },
    {
     "data": {
      "application/javascript": [
       "\n",
       "            setTimeout(function() {\n",
       "                var nbb_cell_id = 21;\n",
       "                var nbb_unformatted_code = \"# 9 Layers\\nmodel = Sequential()\\nmodel.add(Dense(2048, input_dim=X_train.shape[1], activation=\\\"tanh\\\"))\\nmodel.add(Dense(1024, activation=\\\"tanh\\\"))\\nmodel.add(Dense(512, activation=\\\"tanh\\\"))\\nmodel.add(Dense(256, activation=\\\"tanh\\\"))\\nmodel.add(Dense(128, activation=\\\"tanh\\\"))\\nmodel.add(Dense(64, activation=\\\"tanh\\\"))\\nmodel.add(Dense(32, activation=\\\"tanh\\\"))\\nmodel.add(Dense(16, activation=\\\"tanh\\\"))\\nmodel.add(Dense(10, activation=\\\"softmax\\\"))\\n\\nmodel.compile(optimizer=\\\"sgd\\\", loss=\\\"categorical_crossentropy\\\", metrics=[\\\"accuracy\\\"])\\n\\nmodel.fit(X_train, y_train, batch_size=128, epochs=20, verbose=1)\";\n",
       "                var nbb_formatted_code = \"# 9 Layers\\nmodel = Sequential()\\nmodel.add(Dense(2048, input_dim=X_train.shape[1], activation=\\\"tanh\\\"))\\nmodel.add(Dense(1024, activation=\\\"tanh\\\"))\\nmodel.add(Dense(512, activation=\\\"tanh\\\"))\\nmodel.add(Dense(256, activation=\\\"tanh\\\"))\\nmodel.add(Dense(128, activation=\\\"tanh\\\"))\\nmodel.add(Dense(64, activation=\\\"tanh\\\"))\\nmodel.add(Dense(32, activation=\\\"tanh\\\"))\\nmodel.add(Dense(16, activation=\\\"tanh\\\"))\\nmodel.add(Dense(10, activation=\\\"softmax\\\"))\\n\\nmodel.compile(optimizer=\\\"sgd\\\", loss=\\\"categorical_crossentropy\\\", metrics=[\\\"accuracy\\\"])\\n\\nmodel.fit(X_train, y_train, batch_size=128, epochs=20, verbose=1)\";\n",
       "                var nbb_cells = Jupyter.notebook.get_cells();\n",
       "                for (var i = 0; i < nbb_cells.length; ++i) {\n",
       "                    if (nbb_cells[i].input_prompt_number == nbb_cell_id) {\n",
       "                        if (nbb_cells[i].get_text() == nbb_unformatted_code) {\n",
       "                             nbb_cells[i].set_text(nbb_formatted_code);\n",
       "                        }\n",
       "                        break;\n",
       "                    }\n",
       "                }\n",
       "            }, 500);\n",
       "            "
      ],
      "text/plain": [
       "<IPython.core.display.Javascript object>"
      ]
     },
     "metadata": {},
     "output_type": "display_data"
    }
   ],
   "source": [
    "# 9 Layers\n",
    "model = Sequential()\n",
    "model.add(Dense(2048, input_dim=X_train.shape[1], activation=\"tanh\"))\n",
    "model.add(Dense(1024, activation=\"tanh\"))\n",
    "model.add(Dense(512, activation=\"tanh\"))\n",
    "model.add(Dense(256, activation=\"tanh\"))\n",
    "model.add(Dense(128, activation=\"tanh\"))\n",
    "model.add(Dense(64, activation=\"tanh\"))\n",
    "model.add(Dense(32, activation=\"tanh\"))\n",
    "model.add(Dense(16, activation=\"tanh\"))\n",
    "model.add(Dense(10, activation=\"softmax\"))\n",
    "\n",
    "model.compile(optimizer=\"sgd\", loss=\"categorical_crossentropy\", metrics=[\"accuracy\"])\n",
    "\n",
    "model.fit(X_train, y_train, batch_size=128, epochs=20, verbose=1)"
   ]
  },
  {
   "cell_type": "code",
   "execution_count": 22,
   "metadata": {},
   "outputs": [
    {
     "name": "stdout",
     "output_type": "stream",
     "text": [
      "Test score: 0.0916651263833046\n",
      "Test accuracy: 0.9750000238418579\n"
     ]
    },
    {
     "data": {
      "application/javascript": [
       "\n",
       "            setTimeout(function() {\n",
       "                var nbb_cell_id = 22;\n",
       "                var nbb_unformatted_code = \"score = model.evaluate(X_test, y_test, verbose=0)\\nprint(\\\"Test score:\\\", score[0])\\nprint(\\\"Test accuracy:\\\", score[1])\";\n",
       "                var nbb_formatted_code = \"score = model.evaluate(X_test, y_test, verbose=0)\\nprint(\\\"Test score:\\\", score[0])\\nprint(\\\"Test accuracy:\\\", score[1])\";\n",
       "                var nbb_cells = Jupyter.notebook.get_cells();\n",
       "                for (var i = 0; i < nbb_cells.length; ++i) {\n",
       "                    if (nbb_cells[i].input_prompt_number == nbb_cell_id) {\n",
       "                        if (nbb_cells[i].get_text() == nbb_unformatted_code) {\n",
       "                             nbb_cells[i].set_text(nbb_formatted_code);\n",
       "                        }\n",
       "                        break;\n",
       "                    }\n",
       "                }\n",
       "            }, 500);\n",
       "            "
      ],
      "text/plain": [
       "<IPython.core.display.Javascript object>"
      ]
     },
     "metadata": {},
     "output_type": "display_data"
    }
   ],
   "source": [
    "score = model.evaluate(X_test, y_test, verbose=0)\n",
    "print(\"Test score:\", score[0])\n",
    "print(\"Test accuracy:\", score[1])"
   ]
  },
  {
   "cell_type": "markdown",
   "metadata": {},
   "source": [
    "The model with 9 layers had the best test accuracy, however it was noticeably slower. Additionally, the accuracy was only better by around 0.01. Using tanh activation provided very similar results and the accuracy was just barely lower than when using ReLU."
   ]
  },
  {
   "cell_type": "markdown",
   "metadata": {},
   "source": [
    "# Sigmoid activation and SGD loss"
   ]
  },
  {
   "cell_type": "code",
   "execution_count": 23,
   "metadata": {},
   "outputs": [
    {
     "name": "stdout",
     "output_type": "stream",
     "text": [
      "Epoch 1/20\n",
      "469/469 [==============================] - 1s 1ms/step - loss: 2.2932 - accuracy: 0.1537\n",
      "Epoch 2/20\n",
      "469/469 [==============================] - 1s 1ms/step - loss: 2.2374 - accuracy: 0.3281\n",
      "Epoch 3/20\n",
      "469/469 [==============================] - 1s 1ms/step - loss: 2.1802 - accuracy: 0.4724\n",
      "Epoch 4/20\n",
      "469/469 [==============================] - 1s 1ms/step - loss: 2.0997 - accuracy: 0.5575\n",
      "Epoch 5/20\n",
      "469/469 [==============================] - 1s 1ms/step - loss: 1.9830 - accuracy: 0.5992\n",
      "Epoch 6/20\n",
      "469/469 [==============================] - 1s 1ms/step - loss: 1.8244 - accuracy: 0.6241\n",
      "Epoch 7/20\n",
      "469/469 [==============================] - 1s 1ms/step - loss: 1.6387 - accuracy: 0.6496\n",
      "Epoch 8/20\n",
      "469/469 [==============================] - 1s 1ms/step - loss: 1.4552 - accuracy: 0.6811\n",
      "Epoch 9/20\n",
      "469/469 [==============================] - 1s 1ms/step - loss: 1.2945 - accuracy: 0.7051\n",
      "Epoch 10/20\n",
      "469/469 [==============================] - 1s 1ms/step - loss: 1.1597 - accuracy: 0.7312\n",
      "Epoch 11/20\n",
      "469/469 [==============================] - 1s 1ms/step - loss: 1.0477 - accuracy: 0.7528\n",
      "Epoch 12/20\n",
      "469/469 [==============================] - 1s 1ms/step - loss: 0.9545 - accuracy: 0.7732\n",
      "Epoch 13/20\n",
      "469/469 [==============================] - 1s 1ms/step - loss: 0.8769 - accuracy: 0.7892\n",
      "Epoch 14/20\n",
      "469/469 [==============================] - 1s 1ms/step - loss: 0.8122 - accuracy: 0.8023\n",
      "Epoch 15/20\n",
      "469/469 [==============================] - 1s 1ms/step - loss: 0.7577 - accuracy: 0.8142\n",
      "Epoch 16/20\n",
      "469/469 [==============================] - 1s 1ms/step - loss: 0.7114 - accuracy: 0.8234\n",
      "Epoch 17/20\n",
      "469/469 [==============================] - 1s 1ms/step - loss: 0.6719 - accuracy: 0.8319\n",
      "Epoch 18/20\n",
      "469/469 [==============================] - 1s 1ms/step - loss: 0.6377 - accuracy: 0.8388\n",
      "Epoch 19/20\n",
      "469/469 [==============================] - 1s 1ms/step - loss: 0.6081 - accuracy: 0.8450\n",
      "Epoch 20/20\n",
      "469/469 [==============================] - 1s 2ms/step - loss: 0.5823 - accuracy: 0.8509\n"
     ]
    },
    {
     "data": {
      "text/plain": [
       "<tensorflow.python.keras.callbacks.History at 0x1eaa1757188>"
      ]
     },
     "execution_count": 23,
     "metadata": {},
     "output_type": "execute_result"
    },
    {
     "data": {
      "application/javascript": [
       "\n",
       "            setTimeout(function() {\n",
       "                var nbb_cell_id = 23;\n",
       "                var nbb_unformatted_code = \"# 3 Layers\\nmodel = Sequential()\\nmodel.add(Dense(128, input_dim=X_train.shape[1], activation=\\\"sigmoid\\\"))\\nmodel.add(Dense(64, activation=\\\"sigmoid\\\"))\\nmodel.add(Dense(10, activation=\\\"softmax\\\"))\\n\\nmodel.compile(optimizer=\\\"sgd\\\", loss=\\\"categorical_crossentropy\\\", metrics=[\\\"accuracy\\\"])\\nmodel.fit(X_train, y_train, batch_size=128, epochs=20, verbose=1)\";\n",
       "                var nbb_formatted_code = \"# 3 Layers\\nmodel = Sequential()\\nmodel.add(Dense(128, input_dim=X_train.shape[1], activation=\\\"sigmoid\\\"))\\nmodel.add(Dense(64, activation=\\\"sigmoid\\\"))\\nmodel.add(Dense(10, activation=\\\"softmax\\\"))\\n\\nmodel.compile(optimizer=\\\"sgd\\\", loss=\\\"categorical_crossentropy\\\", metrics=[\\\"accuracy\\\"])\\nmodel.fit(X_train, y_train, batch_size=128, epochs=20, verbose=1)\";\n",
       "                var nbb_cells = Jupyter.notebook.get_cells();\n",
       "                for (var i = 0; i < nbb_cells.length; ++i) {\n",
       "                    if (nbb_cells[i].input_prompt_number == nbb_cell_id) {\n",
       "                        if (nbb_cells[i].get_text() == nbb_unformatted_code) {\n",
       "                             nbb_cells[i].set_text(nbb_formatted_code);\n",
       "                        }\n",
       "                        break;\n",
       "                    }\n",
       "                }\n",
       "            }, 500);\n",
       "            "
      ],
      "text/plain": [
       "<IPython.core.display.Javascript object>"
      ]
     },
     "metadata": {},
     "output_type": "display_data"
    }
   ],
   "source": [
    "# 3 Layers\n",
    "model = Sequential()\n",
    "model.add(Dense(128, input_dim=X_train.shape[1], activation=\"sigmoid\"))\n",
    "model.add(Dense(64, activation=\"sigmoid\"))\n",
    "model.add(Dense(10, activation=\"softmax\"))\n",
    "\n",
    "model.compile(optimizer=\"sgd\", loss=\"categorical_crossentropy\", metrics=[\"accuracy\"])\n",
    "model.fit(X_train, y_train, batch_size=128, epochs=20, verbose=1)"
   ]
  },
  {
   "cell_type": "code",
   "execution_count": 24,
   "metadata": {},
   "outputs": [
    {
     "name": "stdout",
     "output_type": "stream",
     "text": [
      "Test score: 0.5553178787231445\n",
      "Test accuracy: 0.8575999736785889\n"
     ]
    },
    {
     "data": {
      "application/javascript": [
       "\n",
       "            setTimeout(function() {\n",
       "                var nbb_cell_id = 24;\n",
       "                var nbb_unformatted_code = \"score = model.evaluate(X_test, y_test, verbose=0)\\nprint(\\\"Test score:\\\", score[0])\\nprint(\\\"Test accuracy:\\\", score[1])\";\n",
       "                var nbb_formatted_code = \"score = model.evaluate(X_test, y_test, verbose=0)\\nprint(\\\"Test score:\\\", score[0])\\nprint(\\\"Test accuracy:\\\", score[1])\";\n",
       "                var nbb_cells = Jupyter.notebook.get_cells();\n",
       "                for (var i = 0; i < nbb_cells.length; ++i) {\n",
       "                    if (nbb_cells[i].input_prompt_number == nbb_cell_id) {\n",
       "                        if (nbb_cells[i].get_text() == nbb_unformatted_code) {\n",
       "                             nbb_cells[i].set_text(nbb_formatted_code);\n",
       "                        }\n",
       "                        break;\n",
       "                    }\n",
       "                }\n",
       "            }, 500);\n",
       "            "
      ],
      "text/plain": [
       "<IPython.core.display.Javascript object>"
      ]
     },
     "metadata": {},
     "output_type": "display_data"
    }
   ],
   "source": [
    "score = model.evaluate(X_test, y_test, verbose=0)\n",
    "print(\"Test score:\", score[0])\n",
    "print(\"Test accuracy:\", score[1])"
   ]
  },
  {
   "cell_type": "code",
   "execution_count": 25,
   "metadata": {},
   "outputs": [
    {
     "name": "stdout",
     "output_type": "stream",
     "text": [
      "Epoch 1/20\n",
      "469/469 [==============================] - 1s 1ms/step - loss: 2.3219 - accuracy: 0.1036\n",
      "Epoch 2/20\n",
      "469/469 [==============================] - 1s 1ms/step - loss: 2.3011 - accuracy: 0.1124\n",
      "Epoch 3/20\n",
      "469/469 [==============================] - 1s 1ms/step - loss: 2.3008 - accuracy: 0.1124\n",
      "Epoch 4/20\n",
      "469/469 [==============================] - 1s 1ms/step - loss: 2.3006 - accuracy: 0.1124\n",
      "Epoch 5/20\n",
      "469/469 [==============================] - 1s 1ms/step - loss: 2.3004 - accuracy: 0.1124\n",
      "Epoch 6/20\n",
      "469/469 [==============================] - 1s 1ms/step - loss: 2.3002 - accuracy: 0.1124\n",
      "Epoch 7/20\n",
      "469/469 [==============================] - 1s 1ms/step - loss: 2.3000 - accuracy: 0.1124\n",
      "Epoch 8/20\n",
      "469/469 [==============================] - 1s 1ms/step - loss: 2.2997 - accuracy: 0.1124\n",
      "Epoch 9/20\n",
      "469/469 [==============================] - 1s 1ms/step - loss: 2.2995 - accuracy: 0.1124\n",
      "Epoch 10/20\n",
      "469/469 [==============================] - 1s 1ms/step - loss: 2.2993 - accuracy: 0.1124\n",
      "Epoch 11/20\n",
      "469/469 [==============================] - 1s 2ms/step - loss: 2.2990 - accuracy: 0.1124\n",
      "Epoch 12/20\n",
      "469/469 [==============================] - 1s 2ms/step - loss: 2.2988 - accuracy: 0.1124\n",
      "Epoch 13/20\n",
      "469/469 [==============================] - 1s 2ms/step - loss: 2.2985 - accuracy: 0.1124\n",
      "Epoch 14/20\n",
      "469/469 [==============================] - 1s 2ms/step - loss: 2.2982 - accuracy: 0.1124\n",
      "Epoch 15/20\n",
      "469/469 [==============================] - 1s 2ms/step - loss: 2.2980 - accuracy: 0.1124\n",
      "Epoch 16/20\n",
      "469/469 [==============================] - 1s 2ms/step - loss: 2.2976 - accuracy: 0.1124\n",
      "Epoch 17/20\n",
      "469/469 [==============================] - 1s 1ms/step - loss: 2.2973 - accuracy: 0.1124\n",
      "Epoch 18/20\n",
      "469/469 [==============================] - 1s 1ms/step - loss: 2.2970 - accuracy: 0.1124\n",
      "Epoch 19/20\n",
      "469/469 [==============================] - 1s 1ms/step - loss: 2.2966 - accuracy: 0.1124\n",
      "Epoch 20/20\n",
      "469/469 [==============================] - 1s 1ms/step - loss: 2.2962 - accuracy: 0.1124\n"
     ]
    },
    {
     "data": {
      "text/plain": [
       "<tensorflow.python.keras.callbacks.History at 0x1eaa1a4b2c8>"
      ]
     },
     "execution_count": 25,
     "metadata": {},
     "output_type": "execute_result"
    },
    {
     "data": {
      "application/javascript": [
       "\n",
       "            setTimeout(function() {\n",
       "                var nbb_cell_id = 25;\n",
       "                var nbb_unformatted_code = \"# 5 Layers\\nmodel = Sequential()\\nmodel.add(Dense(128, input_dim=X_train.shape[1], activation=\\\"sigmoid\\\"))\\nmodel.add(Dense(64, activation=\\\"sigmoid\\\"))\\nmodel.add(Dense(32, activation=\\\"sigmoid\\\"))\\nmodel.add(Dense(16, activation=\\\"sigmoid\\\"))\\nmodel.add(Dense(10, activation=\\\"softmax\\\"))\\n\\nmodel.compile(optimizer=\\\"sgd\\\", loss=\\\"categorical_crossentropy\\\", metrics=[\\\"accuracy\\\"])\\n\\nmodel.fit(X_train, y_train, batch_size=128, epochs=20, verbose=1)\";\n",
       "                var nbb_formatted_code = \"# 5 Layers\\nmodel = Sequential()\\nmodel.add(Dense(128, input_dim=X_train.shape[1], activation=\\\"sigmoid\\\"))\\nmodel.add(Dense(64, activation=\\\"sigmoid\\\"))\\nmodel.add(Dense(32, activation=\\\"sigmoid\\\"))\\nmodel.add(Dense(16, activation=\\\"sigmoid\\\"))\\nmodel.add(Dense(10, activation=\\\"softmax\\\"))\\n\\nmodel.compile(optimizer=\\\"sgd\\\", loss=\\\"categorical_crossentropy\\\", metrics=[\\\"accuracy\\\"])\\n\\nmodel.fit(X_train, y_train, batch_size=128, epochs=20, verbose=1)\";\n",
       "                var nbb_cells = Jupyter.notebook.get_cells();\n",
       "                for (var i = 0; i < nbb_cells.length; ++i) {\n",
       "                    if (nbb_cells[i].input_prompt_number == nbb_cell_id) {\n",
       "                        if (nbb_cells[i].get_text() == nbb_unformatted_code) {\n",
       "                             nbb_cells[i].set_text(nbb_formatted_code);\n",
       "                        }\n",
       "                        break;\n",
       "                    }\n",
       "                }\n",
       "            }, 500);\n",
       "            "
      ],
      "text/plain": [
       "<IPython.core.display.Javascript object>"
      ]
     },
     "metadata": {},
     "output_type": "display_data"
    }
   ],
   "source": [
    "# 5 Layers\n",
    "model = Sequential()\n",
    "model.add(Dense(128, input_dim=X_train.shape[1], activation=\"sigmoid\"))\n",
    "model.add(Dense(64, activation=\"sigmoid\"))\n",
    "model.add(Dense(32, activation=\"sigmoid\"))\n",
    "model.add(Dense(16, activation=\"sigmoid\"))\n",
    "model.add(Dense(10, activation=\"softmax\"))\n",
    "\n",
    "model.compile(optimizer=\"sgd\", loss=\"categorical_crossentropy\", metrics=[\"accuracy\"])\n",
    "\n",
    "model.fit(X_train, y_train, batch_size=128, epochs=20, verbose=1)"
   ]
  },
  {
   "cell_type": "code",
   "execution_count": 26,
   "metadata": {},
   "outputs": [
    {
     "name": "stdout",
     "output_type": "stream",
     "text": [
      "Test score: 2.2956039905548096\n",
      "Test accuracy: 0.11349999904632568\n"
     ]
    },
    {
     "data": {
      "application/javascript": [
       "\n",
       "            setTimeout(function() {\n",
       "                var nbb_cell_id = 26;\n",
       "                var nbb_unformatted_code = \"score = model.evaluate(X_test, y_test, verbose=0)\\nprint(\\\"Test score:\\\", score[0])\\nprint(\\\"Test accuracy:\\\", score[1])\";\n",
       "                var nbb_formatted_code = \"score = model.evaluate(X_test, y_test, verbose=0)\\nprint(\\\"Test score:\\\", score[0])\\nprint(\\\"Test accuracy:\\\", score[1])\";\n",
       "                var nbb_cells = Jupyter.notebook.get_cells();\n",
       "                for (var i = 0; i < nbb_cells.length; ++i) {\n",
       "                    if (nbb_cells[i].input_prompt_number == nbb_cell_id) {\n",
       "                        if (nbb_cells[i].get_text() == nbb_unformatted_code) {\n",
       "                             nbb_cells[i].set_text(nbb_formatted_code);\n",
       "                        }\n",
       "                        break;\n",
       "                    }\n",
       "                }\n",
       "            }, 500);\n",
       "            "
      ],
      "text/plain": [
       "<IPython.core.display.Javascript object>"
      ]
     },
     "metadata": {},
     "output_type": "display_data"
    }
   ],
   "source": [
    "score = model.evaluate(X_test, y_test, verbose=0)\n",
    "print(\"Test score:\", score[0])\n",
    "print(\"Test accuracy:\", score[1])"
   ]
  },
  {
   "cell_type": "code",
   "execution_count": 27,
   "metadata": {},
   "outputs": [
    {
     "name": "stdout",
     "output_type": "stream",
     "text": [
      "Epoch 1/20\n",
      "469/469 [==============================] - 2s 5ms/step - loss: 2.3239 - accuracy: 0.1018\n",
      "Epoch 2/20\n",
      "469/469 [==============================] - 2s 5ms/step - loss: 2.3015 - accuracy: 0.1102\n",
      "Epoch 3/20\n",
      "469/469 [==============================] - 2s 5ms/step - loss: 2.3013 - accuracy: 0.1124\n",
      "Epoch 4/20\n",
      "469/469 [==============================] - 2s 5ms/step - loss: 2.3013 - accuracy: 0.1124\n",
      "Epoch 5/20\n",
      "469/469 [==============================] - 2s 5ms/step - loss: 2.3013 - accuracy: 0.1124\n",
      "Epoch 6/20\n",
      "469/469 [==============================] - 2s 4ms/step - loss: 2.3013 - accuracy: 0.1124\n",
      "Epoch 7/20\n",
      "469/469 [==============================] - 2s 5ms/step - loss: 2.3013 - accuracy: 0.1124\n",
      "Epoch 8/20\n",
      "469/469 [==============================] - 2s 5ms/step - loss: 2.3012 - accuracy: 0.1124\n",
      "Epoch 9/20\n",
      "469/469 [==============================] - 2s 5ms/step - loss: 2.3013 - accuracy: 0.1124\n",
      "Epoch 10/20\n",
      "469/469 [==============================] - 3s 5ms/step - loss: 2.3013 - accuracy: 0.1124\n",
      "Epoch 11/20\n",
      "469/469 [==============================] - 3s 5ms/step - loss: 2.3013 - accuracy: 0.1124\n",
      "Epoch 12/20\n",
      "469/469 [==============================] - 3s 6ms/step - loss: 2.3013 - accuracy: 0.1124\n",
      "Epoch 13/20\n",
      "469/469 [==============================] - 2s 5ms/step - loss: 2.3013 - accuracy: 0.1124\n",
      "Epoch 14/20\n",
      "469/469 [==============================] - 2s 5ms/step - loss: 2.3013 - accuracy: 0.1124\n",
      "Epoch 15/20\n",
      "469/469 [==============================] - 2s 5ms/step - loss: 2.3013 - accuracy: 0.1124\n",
      "Epoch 16/20\n",
      "469/469 [==============================] - 2s 5ms/step - loss: 2.3013 - accuracy: 0.1124\n",
      "Epoch 17/20\n",
      "469/469 [==============================] - 2s 5ms/step - loss: 2.3013 - accuracy: 0.1124\n",
      "Epoch 18/20\n",
      "469/469 [==============================] - 2s 4ms/step - loss: 2.3013 - accuracy: 0.1124\n",
      "Epoch 19/20\n",
      "469/469 [==============================] - 2s 4ms/step - loss: 2.3013 - accuracy: 0.1124\n",
      "Epoch 20/20\n",
      "469/469 [==============================] - 2s 5ms/step - loss: 2.3013 - accuracy: 0.1124\n"
     ]
    },
    {
     "data": {
      "text/plain": [
       "<tensorflow.python.keras.callbacks.History at 0x1eaa1bd9448>"
      ]
     },
     "execution_count": 27,
     "metadata": {},
     "output_type": "execute_result"
    },
    {
     "data": {
      "application/javascript": [
       "\n",
       "            setTimeout(function() {\n",
       "                var nbb_cell_id = 27;\n",
       "                var nbb_unformatted_code = \"# 7 Layers\\nmodel = Sequential()\\nmodel.add(Dense(512, input_dim=X_train.shape[1], activation=\\\"sigmoid\\\"))\\nmodel.add(Dense(256, activation=\\\"sigmoid\\\"))\\nmodel.add(Dense(128, activation=\\\"sigmoid\\\"))\\nmodel.add(Dense(64, activation=\\\"sigmoid\\\"))\\nmodel.add(Dense(32, activation=\\\"sigmoid\\\"))\\nmodel.add(Dense(16, activation=\\\"sigmoid\\\"))\\nmodel.add(Dense(10, activation=\\\"softmax\\\"))\\n\\nmodel.compile(optimizer=\\\"sgd\\\", loss=\\\"categorical_crossentropy\\\", metrics=[\\\"accuracy\\\"])\\n\\nmodel.fit(X_train, y_train, batch_size=128, epochs=20, verbose=1)\";\n",
       "                var nbb_formatted_code = \"# 7 Layers\\nmodel = Sequential()\\nmodel.add(Dense(512, input_dim=X_train.shape[1], activation=\\\"sigmoid\\\"))\\nmodel.add(Dense(256, activation=\\\"sigmoid\\\"))\\nmodel.add(Dense(128, activation=\\\"sigmoid\\\"))\\nmodel.add(Dense(64, activation=\\\"sigmoid\\\"))\\nmodel.add(Dense(32, activation=\\\"sigmoid\\\"))\\nmodel.add(Dense(16, activation=\\\"sigmoid\\\"))\\nmodel.add(Dense(10, activation=\\\"softmax\\\"))\\n\\nmodel.compile(optimizer=\\\"sgd\\\", loss=\\\"categorical_crossentropy\\\", metrics=[\\\"accuracy\\\"])\\n\\nmodel.fit(X_train, y_train, batch_size=128, epochs=20, verbose=1)\";\n",
       "                var nbb_cells = Jupyter.notebook.get_cells();\n",
       "                for (var i = 0; i < nbb_cells.length; ++i) {\n",
       "                    if (nbb_cells[i].input_prompt_number == nbb_cell_id) {\n",
       "                        if (nbb_cells[i].get_text() == nbb_unformatted_code) {\n",
       "                             nbb_cells[i].set_text(nbb_formatted_code);\n",
       "                        }\n",
       "                        break;\n",
       "                    }\n",
       "                }\n",
       "            }, 500);\n",
       "            "
      ],
      "text/plain": [
       "<IPython.core.display.Javascript object>"
      ]
     },
     "metadata": {},
     "output_type": "display_data"
    }
   ],
   "source": [
    "# 7 Layers\n",
    "model = Sequential()\n",
    "model.add(Dense(512, input_dim=X_train.shape[1], activation=\"sigmoid\"))\n",
    "model.add(Dense(256, activation=\"sigmoid\"))\n",
    "model.add(Dense(128, activation=\"sigmoid\"))\n",
    "model.add(Dense(64, activation=\"sigmoid\"))\n",
    "model.add(Dense(32, activation=\"sigmoid\"))\n",
    "model.add(Dense(16, activation=\"sigmoid\"))\n",
    "model.add(Dense(10, activation=\"softmax\"))\n",
    "\n",
    "model.compile(optimizer=\"sgd\", loss=\"categorical_crossentropy\", metrics=[\"accuracy\"])\n",
    "\n",
    "model.fit(X_train, y_train, batch_size=128, epochs=20, verbose=1)"
   ]
  },
  {
   "cell_type": "code",
   "execution_count": 28,
   "metadata": {},
   "outputs": [
    {
     "name": "stdout",
     "output_type": "stream",
     "text": [
      "Test score: 2.3009867668151855\n",
      "Test accuracy: 0.11349999904632568\n"
     ]
    },
    {
     "data": {
      "application/javascript": [
       "\n",
       "            setTimeout(function() {\n",
       "                var nbb_cell_id = 28;\n",
       "                var nbb_unformatted_code = \"score = model.evaluate(X_test, y_test, verbose=0)\\nprint(\\\"Test score:\\\", score[0])\\nprint(\\\"Test accuracy:\\\", score[1])\";\n",
       "                var nbb_formatted_code = \"score = model.evaluate(X_test, y_test, verbose=0)\\nprint(\\\"Test score:\\\", score[0])\\nprint(\\\"Test accuracy:\\\", score[1])\";\n",
       "                var nbb_cells = Jupyter.notebook.get_cells();\n",
       "                for (var i = 0; i < nbb_cells.length; ++i) {\n",
       "                    if (nbb_cells[i].input_prompt_number == nbb_cell_id) {\n",
       "                        if (nbb_cells[i].get_text() == nbb_unformatted_code) {\n",
       "                             nbb_cells[i].set_text(nbb_formatted_code);\n",
       "                        }\n",
       "                        break;\n",
       "                    }\n",
       "                }\n",
       "            }, 500);\n",
       "            "
      ],
      "text/plain": [
       "<IPython.core.display.Javascript object>"
      ]
     },
     "metadata": {},
     "output_type": "display_data"
    }
   ],
   "source": [
    "score = model.evaluate(X_test, y_test, verbose=0)\n",
    "print(\"Test score:\", score[0])\n",
    "print(\"Test accuracy:\", score[1])"
   ]
  },
  {
   "cell_type": "code",
   "execution_count": 29,
   "metadata": {},
   "outputs": [
    {
     "name": "stdout",
     "output_type": "stream",
     "text": [
      "Epoch 1/20\n",
      "469/469 [==============================] - 15s 32ms/step - loss: 2.3438 - accuracy: 0.0979\n",
      "Epoch 2/20\n",
      "469/469 [==============================] - 15s 32ms/step - loss: 2.3016 - accuracy: 0.1124\n",
      "Epoch 3/20\n",
      "469/469 [==============================] - 15s 31ms/step - loss: 2.3013 - accuracy: 0.1124\n",
      "Epoch 4/20\n",
      "469/469 [==============================] - 15s 31ms/step - loss: 2.3013 - accuracy: 0.11240s - loss: 2.3013 - accuracy: 0.\n",
      "Epoch 5/20\n",
      "469/469 [==============================] - 17s 36ms/step - loss: 2.3013 - accuracy: 0.1124\n",
      "Epoch 6/20\n",
      "469/469 [==============================] - 16s 35ms/step - loss: 2.3013 - accuracy: 0.1124\n",
      "Epoch 7/20\n",
      "469/469 [==============================] - 16s 34ms/step - loss: 2.3013 - accuracy: 0.1124\n",
      "Epoch 8/20\n",
      "469/469 [==============================] - 16s 35ms/step - loss: 2.3013 - accuracy: 0.1124\n",
      "Epoch 9/20\n",
      "469/469 [==============================] - 16s 33ms/step - loss: 2.3013 - accuracy: 0.1124\n",
      "Epoch 10/20\n",
      "469/469 [==============================] - 15s 33ms/step - loss: 2.3013 - accuracy: 0.1124\n",
      "Epoch 11/20\n",
      "469/469 [==============================] - 15s 31ms/step - loss: 2.3013 - accuracy: 0.1124\n",
      "Epoch 12/20\n",
      "469/469 [==============================] - 15s 33ms/step - loss: 2.3013 - accuracy: 0.1124\n",
      "Epoch 13/20\n",
      "469/469 [==============================] - 16s 33ms/step - loss: 2.3013 - accuracy: 0.1124\n",
      "Epoch 14/20\n",
      "469/469 [==============================] - 15s 32ms/step - loss: 2.3013 - accuracy: 0.1124 ETA: 0s -\n",
      "Epoch 15/20\n",
      "469/469 [==============================] - 16s 33ms/step - loss: 2.3013 - accuracy: 0.1124\n",
      "Epoch 16/20\n",
      "469/469 [==============================] - 15s 31ms/step - loss: 2.3013 - accuracy: 0.1124\n",
      "Epoch 17/20\n",
      "469/469 [==============================] - 16s 33ms/step - loss: 2.3013 - accuracy: 0.1124\n",
      "Epoch 18/20\n",
      "469/469 [==============================] - 16s 33ms/step - loss: 2.3013 - accuracy: 0.1124\n",
      "Epoch 19/20\n",
      "469/469 [==============================] - 15s 32ms/step - loss: 2.3013 - accuracy: 0.11240s - loss: 2.3013 - accuracy\n",
      "Epoch 20/20\n",
      "469/469 [==============================] - 15s 32ms/step - loss: 2.3013 - accuracy: 0.1124\n"
     ]
    },
    {
     "data": {
      "text/plain": [
       "<tensorflow.python.keras.callbacks.History at 0x1eaa22e2fc8>"
      ]
     },
     "execution_count": 29,
     "metadata": {},
     "output_type": "execute_result"
    },
    {
     "data": {
      "application/javascript": [
       "\n",
       "            setTimeout(function() {\n",
       "                var nbb_cell_id = 29;\n",
       "                var nbb_unformatted_code = \"# 9 Layers\\nmodel = Sequential()\\nmodel.add(Dense(2048, input_dim=X_train.shape[1], activation=\\\"sigmoid\\\"))\\nmodel.add(Dense(1024, activation=\\\"sigmoid\\\"))\\nmodel.add(Dense(512, activation=\\\"sigmoid\\\"))\\nmodel.add(Dense(256, activation=\\\"sigmoid\\\"))\\nmodel.add(Dense(128, activation=\\\"sigmoid\\\"))\\nmodel.add(Dense(64, activation=\\\"sigmoid\\\"))\\nmodel.add(Dense(32, activation=\\\"sigmoid\\\"))\\nmodel.add(Dense(16, activation=\\\"sigmoid\\\"))\\nmodel.add(Dense(10, activation=\\\"softmax\\\"))\\n\\nmodel.compile(optimizer=\\\"sgd\\\", loss=\\\"categorical_crossentropy\\\", metrics=[\\\"accuracy\\\"])\\n\\nmodel.fit(X_train, y_train, batch_size=128, epochs=20, verbose=1)\";\n",
       "                var nbb_formatted_code = \"# 9 Layers\\nmodel = Sequential()\\nmodel.add(Dense(2048, input_dim=X_train.shape[1], activation=\\\"sigmoid\\\"))\\nmodel.add(Dense(1024, activation=\\\"sigmoid\\\"))\\nmodel.add(Dense(512, activation=\\\"sigmoid\\\"))\\nmodel.add(Dense(256, activation=\\\"sigmoid\\\"))\\nmodel.add(Dense(128, activation=\\\"sigmoid\\\"))\\nmodel.add(Dense(64, activation=\\\"sigmoid\\\"))\\nmodel.add(Dense(32, activation=\\\"sigmoid\\\"))\\nmodel.add(Dense(16, activation=\\\"sigmoid\\\"))\\nmodel.add(Dense(10, activation=\\\"softmax\\\"))\\n\\nmodel.compile(optimizer=\\\"sgd\\\", loss=\\\"categorical_crossentropy\\\", metrics=[\\\"accuracy\\\"])\\n\\nmodel.fit(X_train, y_train, batch_size=128, epochs=20, verbose=1)\";\n",
       "                var nbb_cells = Jupyter.notebook.get_cells();\n",
       "                for (var i = 0; i < nbb_cells.length; ++i) {\n",
       "                    if (nbb_cells[i].input_prompt_number == nbb_cell_id) {\n",
       "                        if (nbb_cells[i].get_text() == nbb_unformatted_code) {\n",
       "                             nbb_cells[i].set_text(nbb_formatted_code);\n",
       "                        }\n",
       "                        break;\n",
       "                    }\n",
       "                }\n",
       "            }, 500);\n",
       "            "
      ],
      "text/plain": [
       "<IPython.core.display.Javascript object>"
      ]
     },
     "metadata": {},
     "output_type": "display_data"
    }
   ],
   "source": [
    "# 9 Layers\n",
    "model = Sequential()\n",
    "model.add(Dense(2048, input_dim=X_train.shape[1], activation=\"sigmoid\"))\n",
    "model.add(Dense(1024, activation=\"sigmoid\"))\n",
    "model.add(Dense(512, activation=\"sigmoid\"))\n",
    "model.add(Dense(256, activation=\"sigmoid\"))\n",
    "model.add(Dense(128, activation=\"sigmoid\"))\n",
    "model.add(Dense(64, activation=\"sigmoid\"))\n",
    "model.add(Dense(32, activation=\"sigmoid\"))\n",
    "model.add(Dense(16, activation=\"sigmoid\"))\n",
    "model.add(Dense(10, activation=\"softmax\"))\n",
    "\n",
    "model.compile(optimizer=\"sgd\", loss=\"categorical_crossentropy\", metrics=[\"accuracy\"])\n",
    "\n",
    "model.fit(X_train, y_train, batch_size=128, epochs=20, verbose=1)"
   ]
  },
  {
   "cell_type": "code",
   "execution_count": 30,
   "metadata": {},
   "outputs": [
    {
     "name": "stdout",
     "output_type": "stream",
     "text": [
      "Test score: 2.301093578338623\n",
      "Test accuracy: 0.11349999904632568\n"
     ]
    },
    {
     "data": {
      "application/javascript": [
       "\n",
       "            setTimeout(function() {\n",
       "                var nbb_cell_id = 30;\n",
       "                var nbb_unformatted_code = \"score = model.evaluate(X_test, y_test, verbose=0)\\nprint(\\\"Test score:\\\", score[0])\\nprint(\\\"Test accuracy:\\\", score[1])\";\n",
       "                var nbb_formatted_code = \"score = model.evaluate(X_test, y_test, verbose=0)\\nprint(\\\"Test score:\\\", score[0])\\nprint(\\\"Test accuracy:\\\", score[1])\";\n",
       "                var nbb_cells = Jupyter.notebook.get_cells();\n",
       "                for (var i = 0; i < nbb_cells.length; ++i) {\n",
       "                    if (nbb_cells[i].input_prompt_number == nbb_cell_id) {\n",
       "                        if (nbb_cells[i].get_text() == nbb_unformatted_code) {\n",
       "                             nbb_cells[i].set_text(nbb_formatted_code);\n",
       "                        }\n",
       "                        break;\n",
       "                    }\n",
       "                }\n",
       "            }, 500);\n",
       "            "
      ],
      "text/plain": [
       "<IPython.core.display.Javascript object>"
      ]
     },
     "metadata": {},
     "output_type": "display_data"
    }
   ],
   "source": [
    "score = model.evaluate(X_test, y_test, verbose=0)\n",
    "print(\"Test score:\", score[0])\n",
    "print(\"Test accuracy:\", score[1])"
   ]
  },
  {
   "cell_type": "markdown",
   "metadata": {},
   "source": [
    "The test accuracy for the sigmoid tests are all pretty low. It appears using sigmoid activation is not a good idea for this model."
   ]
  },
  {
   "cell_type": "markdown",
   "metadata": {},
   "source": [
    "# ReLU activation and SGD loss Changing Batch Sizes"
   ]
  },
  {
   "cell_type": "code",
   "execution_count": 31,
   "metadata": {},
   "outputs": [
    {
     "name": "stdout",
     "output_type": "stream",
     "text": [
      "Epoch 1/20\n",
      "938/938 [==============================] - 3s 3ms/step - loss: 1.3685 - accuracy: 0.5548\n",
      "Epoch 2/20\n",
      "938/938 [==============================] - 3s 3ms/step - loss: 0.3357 - accuracy: 0.9037\n",
      "Epoch 3/20\n",
      "938/938 [==============================] - 3s 4ms/step - loss: 0.2133 - accuracy: 0.9384\n",
      "Epoch 4/20\n",
      "938/938 [==============================] - 3s 3ms/step - loss: 0.1626 - accuracy: 0.9521\n",
      "Epoch 5/20\n",
      "938/938 [==============================] - 3s 3ms/step - loss: 0.1323 - accuracy: 0.9617\n",
      "Epoch 6/20\n",
      "938/938 [==============================] - 3s 3ms/step - loss: 0.1134 - accuracy: 0.9669\n",
      "Epoch 7/20\n",
      "938/938 [==============================] - 4s 4ms/step - loss: 0.0966 - accuracy: 0.9714\n",
      "Epoch 8/20\n",
      "938/938 [==============================] - 5s 5ms/step - loss: 0.0833 - accuracy: 0.9752\n",
      "Epoch 9/20\n",
      "938/938 [==============================] - 4s 4ms/step - loss: 0.0729 - accuracy: 0.9786\n",
      "Epoch 10/20\n",
      "938/938 [==============================] - 4s 4ms/step - loss: 0.0637 - accuracy: 0.9817\n",
      "Epoch 11/20\n",
      "938/938 [==============================] - 4s 4ms/step - loss: 0.0556 - accuracy: 0.9839\n",
      "Epoch 12/20\n",
      "938/938 [==============================] - 5s 5ms/step - loss: 0.0486 - accuracy: 0.9861\n",
      "Epoch 13/20\n",
      "938/938 [==============================] - 7s 8ms/step - loss: 0.0426 - accuracy: 0.9876\n",
      "Epoch 14/20\n",
      "938/938 [==============================] - 6s 6ms/step - loss: 0.0370 - accuracy: 0.9898\n",
      "Epoch 15/20\n",
      "938/938 [==============================] - 5s 5ms/step - loss: 0.0327 - accuracy: 0.9909\n",
      "Epoch 16/20\n",
      "938/938 [==============================] - 5s 5ms/step - loss: 0.0281 - accuracy: 0.9922\n",
      "Epoch 17/20\n",
      "938/938 [==============================] - 6s 6ms/step - loss: 0.0239 - accuracy: 0.9938\n",
      "Epoch 18/20\n",
      "938/938 [==============================] - 4s 4ms/step - loss: 0.0200 - accuracy: 0.9949\n",
      "Epoch 19/20\n",
      "938/938 [==============================] - 5s 5ms/step - loss: 0.0178 - accuracy: 0.9956\n",
      "Epoch 20/20\n",
      "938/938 [==============================] - 4s 4ms/step - loss: 0.0148 - accuracy: 0.9967\n"
     ]
    },
    {
     "data": {
      "text/plain": [
       "<tensorflow.python.keras.callbacks.History at 0x1eaa2520308>"
      ]
     },
     "execution_count": 31,
     "metadata": {},
     "output_type": "execute_result"
    },
    {
     "data": {
      "application/javascript": [
       "\n",
       "            setTimeout(function() {\n",
       "                var nbb_cell_id = 31;\n",
       "                var nbb_unformatted_code = \"# Using 64 as a batch size\\nmodel = Sequential()\\nmodel.add(Dense(512, input_dim=X_train.shape[1], activation=\\\"relu\\\"))\\nmodel.add(Dense(256, activation=\\\"relu\\\"))\\nmodel.add(Dense(128, activation=\\\"relu\\\"))\\nmodel.add(Dense(64, activation=\\\"relu\\\"))\\nmodel.add(Dense(32, activation=\\\"relu\\\"))\\nmodel.add(Dense(16, activation=\\\"relu\\\"))\\nmodel.add(Dense(10, activation=\\\"softmax\\\"))\\n\\nmodel.compile(optimizer=\\\"sgd\\\", loss=\\\"categorical_crossentropy\\\", metrics=[\\\"accuracy\\\"])\\n\\nmodel.fit(X_train, y_train, batch_size=64, epochs=20, verbose=1)\";\n",
       "                var nbb_formatted_code = \"# Using 64 as a batch size\\nmodel = Sequential()\\nmodel.add(Dense(512, input_dim=X_train.shape[1], activation=\\\"relu\\\"))\\nmodel.add(Dense(256, activation=\\\"relu\\\"))\\nmodel.add(Dense(128, activation=\\\"relu\\\"))\\nmodel.add(Dense(64, activation=\\\"relu\\\"))\\nmodel.add(Dense(32, activation=\\\"relu\\\"))\\nmodel.add(Dense(16, activation=\\\"relu\\\"))\\nmodel.add(Dense(10, activation=\\\"softmax\\\"))\\n\\nmodel.compile(optimizer=\\\"sgd\\\", loss=\\\"categorical_crossentropy\\\", metrics=[\\\"accuracy\\\"])\\n\\nmodel.fit(X_train, y_train, batch_size=64, epochs=20, verbose=1)\";\n",
       "                var nbb_cells = Jupyter.notebook.get_cells();\n",
       "                for (var i = 0; i < nbb_cells.length; ++i) {\n",
       "                    if (nbb_cells[i].input_prompt_number == nbb_cell_id) {\n",
       "                        if (nbb_cells[i].get_text() == nbb_unformatted_code) {\n",
       "                             nbb_cells[i].set_text(nbb_formatted_code);\n",
       "                        }\n",
       "                        break;\n",
       "                    }\n",
       "                }\n",
       "            }, 500);\n",
       "            "
      ],
      "text/plain": [
       "<IPython.core.display.Javascript object>"
      ]
     },
     "metadata": {},
     "output_type": "display_data"
    }
   ],
   "source": [
    "# Using 64 as a batch size\n",
    "model = Sequential()\n",
    "model.add(Dense(512, input_dim=X_train.shape[1], activation=\"relu\"))\n",
    "model.add(Dense(256, activation=\"relu\"))\n",
    "model.add(Dense(128, activation=\"relu\"))\n",
    "model.add(Dense(64, activation=\"relu\"))\n",
    "model.add(Dense(32, activation=\"relu\"))\n",
    "model.add(Dense(16, activation=\"relu\"))\n",
    "model.add(Dense(10, activation=\"softmax\"))\n",
    "\n",
    "model.compile(optimizer=\"sgd\", loss=\"categorical_crossentropy\", metrics=[\"accuracy\"])\n",
    "\n",
    "model.fit(X_train, y_train, batch_size=64, epochs=20, verbose=1)"
   ]
  },
  {
   "cell_type": "code",
   "execution_count": 32,
   "metadata": {},
   "outputs": [
    {
     "name": "stdout",
     "output_type": "stream",
     "text": [
      "Test score: 0.09109868854284286\n",
      "Test accuracy: 0.9761000275611877\n"
     ]
    },
    {
     "data": {
      "application/javascript": [
       "\n",
       "            setTimeout(function() {\n",
       "                var nbb_cell_id = 32;\n",
       "                var nbb_unformatted_code = \"score = model.evaluate(X_test, y_test, verbose=0)\\nprint(\\\"Test score:\\\", score[0])\\nprint(\\\"Test accuracy:\\\", score[1])\";\n",
       "                var nbb_formatted_code = \"score = model.evaluate(X_test, y_test, verbose=0)\\nprint(\\\"Test score:\\\", score[0])\\nprint(\\\"Test accuracy:\\\", score[1])\";\n",
       "                var nbb_cells = Jupyter.notebook.get_cells();\n",
       "                for (var i = 0; i < nbb_cells.length; ++i) {\n",
       "                    if (nbb_cells[i].input_prompt_number == nbb_cell_id) {\n",
       "                        if (nbb_cells[i].get_text() == nbb_unformatted_code) {\n",
       "                             nbb_cells[i].set_text(nbb_formatted_code);\n",
       "                        }\n",
       "                        break;\n",
       "                    }\n",
       "                }\n",
       "            }, 500);\n",
       "            "
      ],
      "text/plain": [
       "<IPython.core.display.Javascript object>"
      ]
     },
     "metadata": {},
     "output_type": "display_data"
    }
   ],
   "source": [
    "score = model.evaluate(X_test, y_test, verbose=0)\n",
    "print(\"Test score:\", score[0])\n",
    "print(\"Test accuracy:\", score[1])"
   ]
  },
  {
   "cell_type": "code",
   "execution_count": 33,
   "metadata": {},
   "outputs": [
    {
     "name": "stdout",
     "output_type": "stream",
     "text": [
      "Epoch 1/20\n",
      "1875/1875 [==============================] - 5s 3ms/step - loss: 0.8199 - accuracy: 0.7394\n",
      "Epoch 2/20\n",
      "1875/1875 [==============================] - 5s 3ms/step - loss: 0.2208 - accuracy: 0.9354: 0s - loss:\n",
      "Epoch 3/20\n",
      "1875/1875 [==============================] - 5s 3ms/step - loss: 0.1434 - accuracy: 0.9584\n",
      "Epoch 4/20\n",
      "1875/1875 [==============================] - 5s 2ms/step - loss: 0.1077 - accuracy: 0.9689\n",
      "Epoch 5/20\n",
      "1875/1875 [==============================] - 5s 2ms/step - loss: 0.0849 - accuracy: 0.9746\n",
      "Epoch 6/20\n",
      "1875/1875 [==============================] - 5s 3ms/step - loss: 0.0690 - accuracy: 0.9794\n",
      "Epoch 7/20\n",
      "1875/1875 [==============================] - 5s 3ms/step - loss: 0.0552 - accuracy: 0.9844\n",
      "Epoch 8/20\n",
      "1875/1875 [==============================] - 5s 3ms/step - loss: 0.0449 - accuracy: 0.9869\n",
      "Epoch 9/20\n",
      "1875/1875 [==============================] - 5s 3ms/step - loss: 0.0354 - accuracy: 0.9901\n",
      "Epoch 10/20\n",
      "1875/1875 [==============================] - 5s 3ms/step - loss: 0.0295 - accuracy: 0.9918\n",
      "Epoch 11/20\n",
      "1875/1875 [==============================] - 5s 3ms/step - loss: 0.0238 - accuracy: 0.9933\n",
      "Epoch 12/20\n",
      "1875/1875 [==============================] - 5s 3ms/step - loss: 0.0182 - accuracy: 0.9951\n",
      "Epoch 13/20\n",
      "1875/1875 [==============================] - 5s 3ms/step - loss: 0.0139 - accuracy: 0.9962\n",
      "Epoch 14/20\n",
      "1875/1875 [==============================] - 5s 3ms/step - loss: 0.0107 - accuracy: 0.9973\n",
      "Epoch 15/20\n",
      "1875/1875 [==============================] - 5s 3ms/step - loss: 0.0072 - accuracy: 0.9985\n",
      "Epoch 16/20\n",
      "1875/1875 [==============================] - 5s 2ms/step - loss: 0.0054 - accuracy: 0.9991\n",
      "Epoch 17/20\n",
      "1875/1875 [==============================] - 5s 2ms/step - loss: 0.0034 - accuracy: 0.9995\n",
      "Epoch 18/20\n",
      "1875/1875 [==============================] - 5s 2ms/step - loss: 0.0025 - accuracy: 0.9997\n",
      "Epoch 19/20\n",
      "1875/1875 [==============================] - 5s 2ms/step - loss: 0.0017 - accuracy: 0.9998\n",
      "Epoch 20/20\n",
      "1875/1875 [==============================] - 5s 2ms/step - loss: 0.0012 - accuracy: 0.9999\n"
     ]
    },
    {
     "data": {
      "text/plain": [
       "<tensorflow.python.keras.callbacks.History at 0x1eaa2642e88>"
      ]
     },
     "execution_count": 33,
     "metadata": {},
     "output_type": "execute_result"
    },
    {
     "data": {
      "application/javascript": [
       "\n",
       "            setTimeout(function() {\n",
       "                var nbb_cell_id = 33;\n",
       "                var nbb_unformatted_code = \"# Using 32 as a batch size\\nmodel = Sequential()\\nmodel.add(Dense(512, input_dim=X_train.shape[1], activation=\\\"relu\\\"))\\nmodel.add(Dense(256, activation=\\\"relu\\\"))\\nmodel.add(Dense(128, activation=\\\"relu\\\"))\\nmodel.add(Dense(64, activation=\\\"relu\\\"))\\nmodel.add(Dense(32, activation=\\\"relu\\\"))\\nmodel.add(Dense(16, activation=\\\"relu\\\"))\\nmodel.add(Dense(10, activation=\\\"softmax\\\"))\\n\\nmodel.compile(optimizer=\\\"sgd\\\", loss=\\\"categorical_crossentropy\\\", metrics=[\\\"accuracy\\\"])\\n\\nmodel.fit(X_train, y_train, batch_size=32, epochs=20, verbose=1)\";\n",
       "                var nbb_formatted_code = \"# Using 32 as a batch size\\nmodel = Sequential()\\nmodel.add(Dense(512, input_dim=X_train.shape[1], activation=\\\"relu\\\"))\\nmodel.add(Dense(256, activation=\\\"relu\\\"))\\nmodel.add(Dense(128, activation=\\\"relu\\\"))\\nmodel.add(Dense(64, activation=\\\"relu\\\"))\\nmodel.add(Dense(32, activation=\\\"relu\\\"))\\nmodel.add(Dense(16, activation=\\\"relu\\\"))\\nmodel.add(Dense(10, activation=\\\"softmax\\\"))\\n\\nmodel.compile(optimizer=\\\"sgd\\\", loss=\\\"categorical_crossentropy\\\", metrics=[\\\"accuracy\\\"])\\n\\nmodel.fit(X_train, y_train, batch_size=32, epochs=20, verbose=1)\";\n",
       "                var nbb_cells = Jupyter.notebook.get_cells();\n",
       "                for (var i = 0; i < nbb_cells.length; ++i) {\n",
       "                    if (nbb_cells[i].input_prompt_number == nbb_cell_id) {\n",
       "                        if (nbb_cells[i].get_text() == nbb_unformatted_code) {\n",
       "                             nbb_cells[i].set_text(nbb_formatted_code);\n",
       "                        }\n",
       "                        break;\n",
       "                    }\n",
       "                }\n",
       "            }, 500);\n",
       "            "
      ],
      "text/plain": [
       "<IPython.core.display.Javascript object>"
      ]
     },
     "metadata": {},
     "output_type": "display_data"
    }
   ],
   "source": [
    "# Using 32 as a batch size\n",
    "model = Sequential()\n",
    "model.add(Dense(512, input_dim=X_train.shape[1], activation=\"relu\"))\n",
    "model.add(Dense(256, activation=\"relu\"))\n",
    "model.add(Dense(128, activation=\"relu\"))\n",
    "model.add(Dense(64, activation=\"relu\"))\n",
    "model.add(Dense(32, activation=\"relu\"))\n",
    "model.add(Dense(16, activation=\"relu\"))\n",
    "model.add(Dense(10, activation=\"softmax\"))\n",
    "\n",
    "model.compile(optimizer=\"sgd\", loss=\"categorical_crossentropy\", metrics=[\"accuracy\"])\n",
    "\n",
    "model.fit(X_train, y_train, batch_size=32, epochs=20, verbose=1)"
   ]
  },
  {
   "cell_type": "code",
   "execution_count": 34,
   "metadata": {},
   "outputs": [
    {
     "name": "stdout",
     "output_type": "stream",
     "text": [
      "Test score: 0.09937319904565811\n",
      "Test accuracy: 0.9793000221252441\n"
     ]
    },
    {
     "data": {
      "application/javascript": [
       "\n",
       "            setTimeout(function() {\n",
       "                var nbb_cell_id = 34;\n",
       "                var nbb_unformatted_code = \"score = model.evaluate(X_test, y_test, verbose=0)\\nprint(\\\"Test score:\\\", score[0])\\nprint(\\\"Test accuracy:\\\", score[1])\";\n",
       "                var nbb_formatted_code = \"score = model.evaluate(X_test, y_test, verbose=0)\\nprint(\\\"Test score:\\\", score[0])\\nprint(\\\"Test accuracy:\\\", score[1])\";\n",
       "                var nbb_cells = Jupyter.notebook.get_cells();\n",
       "                for (var i = 0; i < nbb_cells.length; ++i) {\n",
       "                    if (nbb_cells[i].input_prompt_number == nbb_cell_id) {\n",
       "                        if (nbb_cells[i].get_text() == nbb_unformatted_code) {\n",
       "                             nbb_cells[i].set_text(nbb_formatted_code);\n",
       "                        }\n",
       "                        break;\n",
       "                    }\n",
       "                }\n",
       "            }, 500);\n",
       "            "
      ],
      "text/plain": [
       "<IPython.core.display.Javascript object>"
      ]
     },
     "metadata": {},
     "output_type": "display_data"
    }
   ],
   "source": [
    "score = model.evaluate(X_test, y_test, verbose=0)\n",
    "print(\"Test score:\", score[0])\n",
    "print(\"Test accuracy:\", score[1])"
   ]
  },
  {
   "cell_type": "code",
   "execution_count": 35,
   "metadata": {},
   "outputs": [
    {
     "name": "stdout",
     "output_type": "stream",
     "text": [
      "Epoch 1/20\n",
      "3750/3750 [==============================] - 8s 2ms/step - loss: 0.5334 - accuracy: 0.8378\n",
      "Epoch 2/20\n",
      "3750/3750 [==============================] - 8s 2ms/step - loss: 0.1491 - accuracy: 0.9564\n",
      "Epoch 3/20\n",
      "3750/3750 [==============================] - 8s 2ms/step - loss: 0.0973 - accuracy: 0.9717\n",
      "Epoch 4/20\n",
      "3750/3750 [==============================] - 8s 2ms/step - loss: 0.0702 - accuracy: 0.9794\n",
      "Epoch 5/20\n",
      "3750/3750 [==============================] - 8s 2ms/step - loss: 0.0512 - accuracy: 0.9845\n",
      "Epoch 6/20\n",
      "3750/3750 [==============================] - 8s 2ms/step - loss: 0.0378 - accuracy: 0.9883\n",
      "Epoch 7/20\n",
      "3750/3750 [==============================] - 8s 2ms/step - loss: 0.0269 - accuracy: 0.9920\n",
      "Epoch 8/20\n",
      "3750/3750 [==============================] - 8s 2ms/step - loss: 0.0203 - accuracy: 0.9941\n",
      "Epoch 9/20\n",
      "3750/3750 [==============================] - 8s 2ms/step - loss: 0.0155 - accuracy: 0.9956\n",
      "Epoch 10/20\n",
      "3750/3750 [==============================] - 8s 2ms/step - loss: 0.0113 - accuracy: 0.9966\n",
      "Epoch 11/20\n",
      "3750/3750 [==============================] - 8s 2ms/step - loss: 0.0073 - accuracy: 0.9980\n",
      "Epoch 12/20\n",
      "3750/3750 [==============================] - 8s 2ms/step - loss: 0.0045 - accuracy: 0.9989\n",
      "Epoch 13/20\n",
      "3750/3750 [==============================] - 8s 2ms/step - loss: 0.0043 - accuracy: 0.9989\n",
      "Epoch 14/20\n",
      "3750/3750 [==============================] - 8s 2ms/step - loss: 0.0040 - accuracy: 0.9991\n",
      "Epoch 15/20\n",
      "3750/3750 [==============================] - 8s 2ms/step - loss: 0.0042 - accuracy: 0.9986\n",
      "Epoch 16/20\n",
      "3750/3750 [==============================] - 10s 3ms/step - loss: 0.0019 - accuracy: 0.9996\n",
      "Epoch 17/20\n",
      "3750/3750 [==============================] - 10s 3ms/step - loss: 0.0029 - accuracy: 0.9994\n",
      "Epoch 18/20\n",
      "3750/3750 [==============================] - 10s 3ms/step - loss: 6.8843e-04 - accuracy: 0.9999\n",
      "Epoch 19/20\n",
      "3750/3750 [==============================] - 10s 3ms/step - loss: 2.2064e-04 - accuracy: 1.0000\n",
      "Epoch 20/20\n",
      "3750/3750 [==============================] - 11s 3ms/step - loss: 1.6265e-04 - accuracy: 1.0000\n"
     ]
    },
    {
     "data": {
      "text/plain": [
       "<tensorflow.python.keras.callbacks.History at 0x1eaa2704608>"
      ]
     },
     "execution_count": 35,
     "metadata": {},
     "output_type": "execute_result"
    },
    {
     "data": {
      "application/javascript": [
       "\n",
       "            setTimeout(function() {\n",
       "                var nbb_cell_id = 35;\n",
       "                var nbb_unformatted_code = \"# Using 16 as a batch size\\nmodel = Sequential()\\nmodel.add(Dense(512, input_dim=X_train.shape[1], activation=\\\"relu\\\"))\\nmodel.add(Dense(256, activation=\\\"relu\\\"))\\nmodel.add(Dense(128, activation=\\\"relu\\\"))\\nmodel.add(Dense(64, activation=\\\"relu\\\"))\\nmodel.add(Dense(32, activation=\\\"relu\\\"))\\nmodel.add(Dense(16, activation=\\\"relu\\\"))\\nmodel.add(Dense(10, activation=\\\"softmax\\\"))\\n\\nmodel.compile(optimizer=\\\"sgd\\\", loss=\\\"categorical_crossentropy\\\", metrics=[\\\"accuracy\\\"])\\n\\nmodel.fit(X_train, y_train, batch_size=16, epochs=20, verbose=1)\";\n",
       "                var nbb_formatted_code = \"# Using 16 as a batch size\\nmodel = Sequential()\\nmodel.add(Dense(512, input_dim=X_train.shape[1], activation=\\\"relu\\\"))\\nmodel.add(Dense(256, activation=\\\"relu\\\"))\\nmodel.add(Dense(128, activation=\\\"relu\\\"))\\nmodel.add(Dense(64, activation=\\\"relu\\\"))\\nmodel.add(Dense(32, activation=\\\"relu\\\"))\\nmodel.add(Dense(16, activation=\\\"relu\\\"))\\nmodel.add(Dense(10, activation=\\\"softmax\\\"))\\n\\nmodel.compile(optimizer=\\\"sgd\\\", loss=\\\"categorical_crossentropy\\\", metrics=[\\\"accuracy\\\"])\\n\\nmodel.fit(X_train, y_train, batch_size=16, epochs=20, verbose=1)\";\n",
       "                var nbb_cells = Jupyter.notebook.get_cells();\n",
       "                for (var i = 0; i < nbb_cells.length; ++i) {\n",
       "                    if (nbb_cells[i].input_prompt_number == nbb_cell_id) {\n",
       "                        if (nbb_cells[i].get_text() == nbb_unformatted_code) {\n",
       "                             nbb_cells[i].set_text(nbb_formatted_code);\n",
       "                        }\n",
       "                        break;\n",
       "                    }\n",
       "                }\n",
       "            }, 500);\n",
       "            "
      ],
      "text/plain": [
       "<IPython.core.display.Javascript object>"
      ]
     },
     "metadata": {},
     "output_type": "display_data"
    }
   ],
   "source": [
    "# Using 16 as a batch size\n",
    "model = Sequential()\n",
    "model.add(Dense(512, input_dim=X_train.shape[1], activation=\"relu\"))\n",
    "model.add(Dense(256, activation=\"relu\"))\n",
    "model.add(Dense(128, activation=\"relu\"))\n",
    "model.add(Dense(64, activation=\"relu\"))\n",
    "model.add(Dense(32, activation=\"relu\"))\n",
    "model.add(Dense(16, activation=\"relu\"))\n",
    "model.add(Dense(10, activation=\"softmax\"))\n",
    "\n",
    "model.compile(optimizer=\"sgd\", loss=\"categorical_crossentropy\", metrics=[\"accuracy\"])\n",
    "\n",
    "model.fit(X_train, y_train, batch_size=16, epochs=20, verbose=1)"
   ]
  },
  {
   "cell_type": "code",
   "execution_count": 36,
   "metadata": {},
   "outputs": [
    {
     "name": "stdout",
     "output_type": "stream",
     "text": [
      "Test score: 0.09268534183502197\n",
      "Test accuracy: 0.9811000227928162\n"
     ]
    },
    {
     "data": {
      "application/javascript": [
       "\n",
       "            setTimeout(function() {\n",
       "                var nbb_cell_id = 36;\n",
       "                var nbb_unformatted_code = \"score = model.evaluate(X_test, y_test, verbose=0)\\nprint(\\\"Test score:\\\", score[0])\\nprint(\\\"Test accuracy:\\\", score[1])\";\n",
       "                var nbb_formatted_code = \"score = model.evaluate(X_test, y_test, verbose=0)\\nprint(\\\"Test score:\\\", score[0])\\nprint(\\\"Test accuracy:\\\", score[1])\";\n",
       "                var nbb_cells = Jupyter.notebook.get_cells();\n",
       "                for (var i = 0; i < nbb_cells.length; ++i) {\n",
       "                    if (nbb_cells[i].input_prompt_number == nbb_cell_id) {\n",
       "                        if (nbb_cells[i].get_text() == nbb_unformatted_code) {\n",
       "                             nbb_cells[i].set_text(nbb_formatted_code);\n",
       "                        }\n",
       "                        break;\n",
       "                    }\n",
       "                }\n",
       "            }, 500);\n",
       "            "
      ],
      "text/plain": [
       "<IPython.core.display.Javascript object>"
      ]
     },
     "metadata": {},
     "output_type": "display_data"
    }
   ],
   "source": [
    "score = model.evaluate(X_test, y_test, verbose=0)\n",
    "print(\"Test score:\", score[0])\n",
    "print(\"Test accuracy:\", score[1])"
   ]
  },
  {
   "cell_type": "code",
   "execution_count": 37,
   "metadata": {},
   "outputs": [
    {
     "name": "stdout",
     "output_type": "stream",
     "text": [
      "Epoch 1/20\n",
      "7500/7500 [==============================] - 21s 3ms/step - loss: 0.3793 - accuracy: 0.8821\n",
      "Epoch 2/20\n",
      "7500/7500 [==============================] - 20s 3ms/step - loss: 0.1132 - accuracy: 0.9654\n",
      "Epoch 3/20\n",
      "7500/7500 [==============================] - 19s 2ms/step - loss: 0.0740 - accuracy: 0.9771\n",
      "Epoch 4/20\n",
      "7500/7500 [==============================] - 16s 2ms/step - loss: 0.0510 - accuracy: 0.9837\n",
      "Epoch 5/20\n",
      "7500/7500 [==============================] - 17s 2ms/step - loss: 0.0377 - accuracy: 0.9880\n",
      "Epoch 6/20\n",
      "7500/7500 [==============================] - 16s 2ms/step - loss: 0.0281 - accuracy: 0.9913\n",
      "Epoch 7/20\n",
      "7500/7500 [==============================] - 17s 2ms/step - loss: 0.0225 - accuracy: 0.9924\n",
      "Epoch 8/20\n",
      "7500/7500 [==============================] - 17s 2ms/step - loss: 0.0181 - accuracy: 0.9940\n",
      "Epoch 9/20\n",
      "7500/7500 [==============================] - 16s 2ms/step - loss: 0.0127 - accuracy: 0.9960\n",
      "Epoch 10/20\n",
      "7500/7500 [==============================] - 15s 2ms/step - loss: 0.0106 - accuracy: 0.9966\n",
      "Epoch 11/20\n",
      "7500/7500 [==============================] - 16s 2ms/step - loss: 0.0101 - accuracy: 0.9970\n",
      "Epoch 12/20\n",
      "7500/7500 [==============================] - 18s 2ms/step - loss: 0.0089 - accuracy: 0.9972\n",
      "Epoch 13/20\n",
      "7500/7500 [==============================] - 19s 3ms/step - loss: 0.0103 - accuracy: 0.9967\n",
      "Epoch 14/20\n",
      "7500/7500 [==============================] - 18s 2ms/step - loss: 0.0065 - accuracy: 0.9979\n",
      "Epoch 15/20\n",
      "7500/7500 [==============================] - 18s 2ms/step - loss: 0.0026 - accuracy: 0.9992\n",
      "Epoch 16/20\n",
      "7500/7500 [==============================] - 17s 2ms/step - loss: 0.0077 - accuracy: 0.9976\n",
      "Epoch 17/20\n",
      "7500/7500 [==============================] - 14s 2ms/step - loss: 0.0079 - accuracy: 0.9975\n",
      "Epoch 18/20\n",
      "7500/7500 [==============================] - 15s 2ms/step - loss: 0.0047 - accuracy: 0.9985\n",
      "Epoch 19/20\n",
      "7500/7500 [==============================] - 14s 2ms/step - loss: 0.0059 - accuracy: 0.9983\n",
      "Epoch 20/20\n",
      "7500/7500 [==============================] - ETA: 0s - loss: 0.0012 - accuracy: 0.99 - 14s 2ms/step - loss: 0.0012 - accuracy: 0.9997\n"
     ]
    },
    {
     "data": {
      "text/plain": [
       "<tensorflow.python.keras.callbacks.History at 0x1eaa2a62948>"
      ]
     },
     "execution_count": 37,
     "metadata": {},
     "output_type": "execute_result"
    },
    {
     "data": {
      "application/javascript": [
       "\n",
       "            setTimeout(function() {\n",
       "                var nbb_cell_id = 37;\n",
       "                var nbb_unformatted_code = \"# Using 8 as a batch size\\nmodel = Sequential()\\nmodel.add(Dense(512, input_dim=X_train.shape[1], activation=\\\"relu\\\"))\\nmodel.add(Dense(256, activation=\\\"relu\\\"))\\nmodel.add(Dense(128, activation=\\\"relu\\\"))\\nmodel.add(Dense(64, activation=\\\"relu\\\"))\\nmodel.add(Dense(32, activation=\\\"relu\\\"))\\nmodel.add(Dense(16, activation=\\\"relu\\\"))\\nmodel.add(Dense(10, activation=\\\"softmax\\\"))\\n\\nmodel.compile(optimizer=\\\"sgd\\\", loss=\\\"categorical_crossentropy\\\", metrics=[\\\"accuracy\\\"])\\n\\nmodel.fit(X_train, y_train, batch_size=8, epochs=20, verbose=1)\";\n",
       "                var nbb_formatted_code = \"# Using 8 as a batch size\\nmodel = Sequential()\\nmodel.add(Dense(512, input_dim=X_train.shape[1], activation=\\\"relu\\\"))\\nmodel.add(Dense(256, activation=\\\"relu\\\"))\\nmodel.add(Dense(128, activation=\\\"relu\\\"))\\nmodel.add(Dense(64, activation=\\\"relu\\\"))\\nmodel.add(Dense(32, activation=\\\"relu\\\"))\\nmodel.add(Dense(16, activation=\\\"relu\\\"))\\nmodel.add(Dense(10, activation=\\\"softmax\\\"))\\n\\nmodel.compile(optimizer=\\\"sgd\\\", loss=\\\"categorical_crossentropy\\\", metrics=[\\\"accuracy\\\"])\\n\\nmodel.fit(X_train, y_train, batch_size=8, epochs=20, verbose=1)\";\n",
       "                var nbb_cells = Jupyter.notebook.get_cells();\n",
       "                for (var i = 0; i < nbb_cells.length; ++i) {\n",
       "                    if (nbb_cells[i].input_prompt_number == nbb_cell_id) {\n",
       "                        if (nbb_cells[i].get_text() == nbb_unformatted_code) {\n",
       "                             nbb_cells[i].set_text(nbb_formatted_code);\n",
       "                        }\n",
       "                        break;\n",
       "                    }\n",
       "                }\n",
       "            }, 500);\n",
       "            "
      ],
      "text/plain": [
       "<IPython.core.display.Javascript object>"
      ]
     },
     "metadata": {},
     "output_type": "display_data"
    }
   ],
   "source": [
    "# Using 8 as a batch size\n",
    "model = Sequential()\n",
    "model.add(Dense(512, input_dim=X_train.shape[1], activation=\"relu\"))\n",
    "model.add(Dense(256, activation=\"relu\"))\n",
    "model.add(Dense(128, activation=\"relu\"))\n",
    "model.add(Dense(64, activation=\"relu\"))\n",
    "model.add(Dense(32, activation=\"relu\"))\n",
    "model.add(Dense(16, activation=\"relu\"))\n",
    "model.add(Dense(10, activation=\"softmax\"))\n",
    "\n",
    "model.compile(optimizer=\"sgd\", loss=\"categorical_crossentropy\", metrics=[\"accuracy\"])\n",
    "\n",
    "model.fit(X_train, y_train, batch_size=8, epochs=20, verbose=1)"
   ]
  },
  {
   "cell_type": "code",
   "execution_count": 38,
   "metadata": {},
   "outputs": [
    {
     "name": "stdout",
     "output_type": "stream",
     "text": [
      "Test score: 0.08209272474050522\n",
      "Test accuracy: 0.983299970626831\n"
     ]
    },
    {
     "data": {
      "application/javascript": [
       "\n",
       "            setTimeout(function() {\n",
       "                var nbb_cell_id = 38;\n",
       "                var nbb_unformatted_code = \"score = model.evaluate(X_test, y_test, verbose=0)\\nprint(\\\"Test score:\\\", score[0])\\nprint(\\\"Test accuracy:\\\", score[1])\";\n",
       "                var nbb_formatted_code = \"score = model.evaluate(X_test, y_test, verbose=0)\\nprint(\\\"Test score:\\\", score[0])\\nprint(\\\"Test accuracy:\\\", score[1])\";\n",
       "                var nbb_cells = Jupyter.notebook.get_cells();\n",
       "                for (var i = 0; i < nbb_cells.length; ++i) {\n",
       "                    if (nbb_cells[i].input_prompt_number == nbb_cell_id) {\n",
       "                        if (nbb_cells[i].get_text() == nbb_unformatted_code) {\n",
       "                             nbb_cells[i].set_text(nbb_formatted_code);\n",
       "                        }\n",
       "                        break;\n",
       "                    }\n",
       "                }\n",
       "            }, 500);\n",
       "            "
      ],
      "text/plain": [
       "<IPython.core.display.Javascript object>"
      ]
     },
     "metadata": {},
     "output_type": "display_data"
    }
   ],
   "source": [
    "score = model.evaluate(X_test, y_test, verbose=0)\n",
    "print(\"Test score:\", score[0])\n",
    "print(\"Test accuracy:\", score[1])"
   ]
  },
  {
   "cell_type": "markdown",
   "metadata": {},
   "source": [
    "The score increases as the batch size decreases, however the run time increases as well. It was more noticeable when the batch size got to 16 and lower. The best score was obtained from using a batch size of 8, but it took more than twice the time. \n",
    "\n",
    "Choosing between batch sizes, I would recommend using a batch size of 64 because it provides an accuracy that is almost just as good as having a batch size of 8 but also executing in less than half the time it took for the 8 batch size model to run."
   ]
  },
  {
   "cell_type": "markdown",
   "metadata": {},
   "source": [
    "# ReLU Activation, SGD Loss, Batchsize of 64, and Changing the Amount of Neurons "
   ]
  },
  {
   "cell_type": "code",
   "execution_count": 39,
   "metadata": {},
   "outputs": [
    {
     "name": "stdout",
     "output_type": "stream",
     "text": [
      "Epoch 1/20\n",
      "938/938 [==============================] - 1s 1ms/step - loss: 1.9277 - accuracy: 0.3392\n",
      "Epoch 2/20\n",
      "938/938 [==============================] - 1s 1ms/step - loss: 0.5727 - accuracy: 0.8259\n",
      "Epoch 3/20\n",
      "938/938 [==============================] - 1s 1ms/step - loss: 0.3653 - accuracy: 0.8937\n",
      "Epoch 4/20\n",
      "938/938 [==============================] - 1s 1ms/step - loss: 0.2955 - accuracy: 0.9143\n",
      "Epoch 5/20\n",
      "938/938 [==============================] - 1s 1ms/step - loss: 0.2500 - accuracy: 0.9272\n",
      "Epoch 6/20\n",
      "938/938 [==============================] - 2s 2ms/step - loss: 0.2186 - accuracy: 0.9359\n",
      "Epoch 7/20\n",
      "938/938 [==============================] - 1s 1ms/step - loss: 0.1950 - accuracy: 0.9421\n",
      "Epoch 8/20\n",
      "938/938 [==============================] - 1s 1ms/step - loss: 0.1766 - accuracy: 0.9478\n",
      "Epoch 9/20\n",
      "938/938 [==============================] - 1s 1ms/step - loss: 0.1630 - accuracy: 0.9517\n",
      "Epoch 10/20\n",
      "938/938 [==============================] - 1s 1ms/step - loss: 0.1512 - accuracy: 0.9549\n",
      "Epoch 11/20\n",
      "938/938 [==============================] - 1s 1ms/step - loss: 0.1416 - accuracy: 0.9575\n",
      "Epoch 12/20\n",
      "938/938 [==============================] - 1s 1ms/step - loss: 0.1338 - accuracy: 0.9599\n",
      "Epoch 13/20\n",
      "938/938 [==============================] - 1s 1ms/step - loss: 0.1261 - accuracy: 0.9617\n",
      "Epoch 14/20\n",
      "938/938 [==============================] - 1s 1ms/step - loss: 0.1194 - accuracy: 0.9642\n",
      "Epoch 15/20\n",
      "938/938 [==============================] - 1s 1ms/step - loss: 0.1137 - accuracy: 0.9659\n",
      "Epoch 16/20\n",
      "938/938 [==============================] - 1s 1ms/step - loss: 0.1086 - accuracy: 0.9671\n",
      "Epoch 17/20\n",
      "938/938 [==============================] - 1s 1ms/step - loss: 0.1045 - accuracy: 0.9684\n",
      "Epoch 18/20\n",
      "938/938 [==============================] - 1s 1ms/step - loss: 0.0998 - accuracy: 0.9697\n",
      "Epoch 19/20\n",
      "938/938 [==============================] - 1s 1ms/step - loss: 0.0952 - accuracy: 0.9715\n",
      "Epoch 20/20\n",
      "938/938 [==============================] - 1s 1ms/step - loss: 0.0931 - accuracy: 0.9719\n"
     ]
    },
    {
     "data": {
      "text/plain": [
       "<tensorflow.python.keras.callbacks.History at 0x1eaa556e408>"
      ]
     },
     "execution_count": 39,
     "metadata": {},
     "output_type": "execute_result"
    },
    {
     "data": {
      "application/javascript": [
       "\n",
       "            setTimeout(function() {\n",
       "                var nbb_cell_id = 39;\n",
       "                var nbb_unformatted_code = \"# Having constant amount of 32 neurons throughout entire model until output layer\\nmodel = Sequential()\\nmodel.add(Dense(32, input_dim=X_train.shape[1], activation=\\\"relu\\\"))\\nmodel.add(Dense(32, activation=\\\"relu\\\"))\\nmodel.add(Dense(32, activation=\\\"relu\\\"))\\nmodel.add(Dense(32, activation=\\\"relu\\\"))\\nmodel.add(Dense(32, activation=\\\"relu\\\"))\\nmodel.add(Dense(32, activation=\\\"relu\\\"))\\nmodel.add(Dense(10, activation=\\\"softmax\\\"))\\n\\nmodel.compile(optimizer=\\\"sgd\\\", loss=\\\"categorical_crossentropy\\\", metrics=[\\\"accuracy\\\"])\\n\\nmodel.fit(X_train, y_train, batch_size=64, epochs=20, verbose=1)\";\n",
       "                var nbb_formatted_code = \"# Having constant amount of 32 neurons throughout entire model until output layer\\nmodel = Sequential()\\nmodel.add(Dense(32, input_dim=X_train.shape[1], activation=\\\"relu\\\"))\\nmodel.add(Dense(32, activation=\\\"relu\\\"))\\nmodel.add(Dense(32, activation=\\\"relu\\\"))\\nmodel.add(Dense(32, activation=\\\"relu\\\"))\\nmodel.add(Dense(32, activation=\\\"relu\\\"))\\nmodel.add(Dense(32, activation=\\\"relu\\\"))\\nmodel.add(Dense(10, activation=\\\"softmax\\\"))\\n\\nmodel.compile(optimizer=\\\"sgd\\\", loss=\\\"categorical_crossentropy\\\", metrics=[\\\"accuracy\\\"])\\n\\nmodel.fit(X_train, y_train, batch_size=64, epochs=20, verbose=1)\";\n",
       "                var nbb_cells = Jupyter.notebook.get_cells();\n",
       "                for (var i = 0; i < nbb_cells.length; ++i) {\n",
       "                    if (nbb_cells[i].input_prompt_number == nbb_cell_id) {\n",
       "                        if (nbb_cells[i].get_text() == nbb_unformatted_code) {\n",
       "                             nbb_cells[i].set_text(nbb_formatted_code);\n",
       "                        }\n",
       "                        break;\n",
       "                    }\n",
       "                }\n",
       "            }, 500);\n",
       "            "
      ],
      "text/plain": [
       "<IPython.core.display.Javascript object>"
      ]
     },
     "metadata": {},
     "output_type": "display_data"
    }
   ],
   "source": [
    "# Having constant amount of 32 neurons throughout entire model until output layer\n",
    "model = Sequential()\n",
    "model.add(Dense(32, input_dim=X_train.shape[1], activation=\"relu\"))\n",
    "model.add(Dense(32, activation=\"relu\"))\n",
    "model.add(Dense(32, activation=\"relu\"))\n",
    "model.add(Dense(32, activation=\"relu\"))\n",
    "model.add(Dense(32, activation=\"relu\"))\n",
    "model.add(Dense(32, activation=\"relu\"))\n",
    "model.add(Dense(10, activation=\"softmax\"))\n",
    "\n",
    "model.compile(optimizer=\"sgd\", loss=\"categorical_crossentropy\", metrics=[\"accuracy\"])\n",
    "\n",
    "model.fit(X_train, y_train, batch_size=64, epochs=20, verbose=1)"
   ]
  },
  {
   "cell_type": "code",
   "execution_count": 40,
   "metadata": {},
   "outputs": [
    {
     "name": "stdout",
     "output_type": "stream",
     "text": [
      "Test score: 0.11589862406253815\n",
      "Test accuracy: 0.9639999866485596\n"
     ]
    },
    {
     "data": {
      "application/javascript": [
       "\n",
       "            setTimeout(function() {\n",
       "                var nbb_cell_id = 40;\n",
       "                var nbb_unformatted_code = \"score = model.evaluate(X_test, y_test, verbose=0)\\nprint(\\\"Test score:\\\", score[0])\\nprint(\\\"Test accuracy:\\\", score[1])\";\n",
       "                var nbb_formatted_code = \"score = model.evaluate(X_test, y_test, verbose=0)\\nprint(\\\"Test score:\\\", score[0])\\nprint(\\\"Test accuracy:\\\", score[1])\";\n",
       "                var nbb_cells = Jupyter.notebook.get_cells();\n",
       "                for (var i = 0; i < nbb_cells.length; ++i) {\n",
       "                    if (nbb_cells[i].input_prompt_number == nbb_cell_id) {\n",
       "                        if (nbb_cells[i].get_text() == nbb_unformatted_code) {\n",
       "                             nbb_cells[i].set_text(nbb_formatted_code);\n",
       "                        }\n",
       "                        break;\n",
       "                    }\n",
       "                }\n",
       "            }, 500);\n",
       "            "
      ],
      "text/plain": [
       "<IPython.core.display.Javascript object>"
      ]
     },
     "metadata": {},
     "output_type": "display_data"
    }
   ],
   "source": [
    "score = model.evaluate(X_test, y_test, verbose=0)\n",
    "print(\"Test score:\", score[0])\n",
    "print(\"Test accuracy:\", score[1])"
   ]
  },
  {
   "cell_type": "code",
   "execution_count": 41,
   "metadata": {},
   "outputs": [
    {
     "name": "stdout",
     "output_type": "stream",
     "text": [
      "Epoch 1/20\n",
      "938/938 [==============================] - 1s 1ms/step - loss: 1.5969 - accuracy: 0.4852\n",
      "Epoch 2/20\n",
      "938/938 [==============================] - 1s 1ms/step - loss: 0.4878 - accuracy: 0.8548\n",
      "Epoch 3/20\n",
      "938/938 [==============================] - 1s 1ms/step - loss: 0.3130 - accuracy: 0.9082\n",
      "Epoch 4/20\n",
      "938/938 [==============================] - 1s 1ms/step - loss: 0.2424 - accuracy: 0.9278\n",
      "Epoch 5/20\n",
      "938/938 [==============================] - 1s 1ms/step - loss: 0.2037 - accuracy: 0.9391\n",
      "Epoch 6/20\n",
      "938/938 [==============================] - 1s 1ms/step - loss: 0.1761 - accuracy: 0.9472\n",
      "Epoch 7/20\n",
      "938/938 [==============================] - 1s 1ms/step - loss: 0.1569 - accuracy: 0.9527\n",
      "Epoch 8/20\n",
      "938/938 [==============================] - 1s 1ms/step - loss: 0.1433 - accuracy: 0.9567\n",
      "Epoch 9/20\n",
      "938/938 [==============================] - 1s 1ms/step - loss: 0.1311 - accuracy: 0.9605\n",
      "Epoch 10/20\n",
      "938/938 [==============================] - 1s 1ms/step - loss: 0.1217 - accuracy: 0.9632\n",
      "Epoch 11/20\n",
      "938/938 [==============================] - 1s 1ms/step - loss: 0.1130 - accuracy: 0.9661\n",
      "Epoch 12/20\n",
      "938/938 [==============================] - 1s 1ms/step - loss: 0.1054 - accuracy: 0.9680\n",
      "Epoch 13/20\n",
      "938/938 [==============================] - 1s 1ms/step - loss: 0.0987 - accuracy: 0.9706\n",
      "Epoch 14/20\n",
      "938/938 [==============================] - 1s 1ms/step - loss: 0.0934 - accuracy: 0.9717\n",
      "Epoch 15/20\n",
      "938/938 [==============================] - 1s 1ms/step - loss: 0.0879 - accuracy: 0.9738\n",
      "Epoch 16/20\n",
      "938/938 [==============================] - 1s 1ms/step - loss: 0.0834 - accuracy: 0.9754\n",
      "Epoch 17/20\n",
      "938/938 [==============================] - 1s 1ms/step - loss: 0.0788 - accuracy: 0.9761\n",
      "Epoch 18/20\n",
      "938/938 [==============================] - 1s 1ms/step - loss: 0.0735 - accuracy: 0.9778\n",
      "Epoch 19/20\n",
      "938/938 [==============================] - 1s 1ms/step - loss: 0.0699 - accuracy: 0.9788\n",
      "Epoch 20/20\n",
      "938/938 [==============================] - 1s 1ms/step - loss: 0.0665 - accuracy: 0.9800\n"
     ]
    },
    {
     "data": {
      "text/plain": [
       "<tensorflow.python.keras.callbacks.History at 0x1eaa989eac8>"
      ]
     },
     "execution_count": 41,
     "metadata": {},
     "output_type": "execute_result"
    },
    {
     "data": {
      "application/javascript": [
       "\n",
       "            setTimeout(function() {\n",
       "                var nbb_cell_id = 41;\n",
       "                var nbb_unformatted_code = \"# Having constant amount of 64 neurons throughout entire model until output layer\\nmodel = Sequential()\\nmodel.add(Dense(64, input_dim=X_train.shape[1], activation=\\\"relu\\\"))\\nmodel.add(Dense(64, activation=\\\"relu\\\"))\\nmodel.add(Dense(64, activation=\\\"relu\\\"))\\nmodel.add(Dense(64, activation=\\\"relu\\\"))\\nmodel.add(Dense(64, activation=\\\"relu\\\"))\\nmodel.add(Dense(64, activation=\\\"relu\\\"))\\nmodel.add(Dense(10, activation=\\\"softmax\\\"))\\n\\nmodel.compile(optimizer=\\\"sgd\\\", loss=\\\"categorical_crossentropy\\\", metrics=[\\\"accuracy\\\"])\\n\\nmodel.fit(X_train, y_train, batch_size=64, epochs=20, verbose=1)\";\n",
       "                var nbb_formatted_code = \"# Having constant amount of 64 neurons throughout entire model until output layer\\nmodel = Sequential()\\nmodel.add(Dense(64, input_dim=X_train.shape[1], activation=\\\"relu\\\"))\\nmodel.add(Dense(64, activation=\\\"relu\\\"))\\nmodel.add(Dense(64, activation=\\\"relu\\\"))\\nmodel.add(Dense(64, activation=\\\"relu\\\"))\\nmodel.add(Dense(64, activation=\\\"relu\\\"))\\nmodel.add(Dense(64, activation=\\\"relu\\\"))\\nmodel.add(Dense(10, activation=\\\"softmax\\\"))\\n\\nmodel.compile(optimizer=\\\"sgd\\\", loss=\\\"categorical_crossentropy\\\", metrics=[\\\"accuracy\\\"])\\n\\nmodel.fit(X_train, y_train, batch_size=64, epochs=20, verbose=1)\";\n",
       "                var nbb_cells = Jupyter.notebook.get_cells();\n",
       "                for (var i = 0; i < nbb_cells.length; ++i) {\n",
       "                    if (nbb_cells[i].input_prompt_number == nbb_cell_id) {\n",
       "                        if (nbb_cells[i].get_text() == nbb_unformatted_code) {\n",
       "                             nbb_cells[i].set_text(nbb_formatted_code);\n",
       "                        }\n",
       "                        break;\n",
       "                    }\n",
       "                }\n",
       "            }, 500);\n",
       "            "
      ],
      "text/plain": [
       "<IPython.core.display.Javascript object>"
      ]
     },
     "metadata": {},
     "output_type": "display_data"
    }
   ],
   "source": [
    "# Having constant amount of 64 neurons throughout entire model until output layer\n",
    "model = Sequential()\n",
    "model.add(Dense(64, input_dim=X_train.shape[1], activation=\"relu\"))\n",
    "model.add(Dense(64, activation=\"relu\"))\n",
    "model.add(Dense(64, activation=\"relu\"))\n",
    "model.add(Dense(64, activation=\"relu\"))\n",
    "model.add(Dense(64, activation=\"relu\"))\n",
    "model.add(Dense(64, activation=\"relu\"))\n",
    "model.add(Dense(10, activation=\"softmax\"))\n",
    "\n",
    "model.compile(optimizer=\"sgd\", loss=\"categorical_crossentropy\", metrics=[\"accuracy\"])\n",
    "\n",
    "model.fit(X_train, y_train, batch_size=64, epochs=20, verbose=1)"
   ]
  },
  {
   "cell_type": "code",
   "execution_count": 42,
   "metadata": {},
   "outputs": [
    {
     "name": "stdout",
     "output_type": "stream",
     "text": [
      "Test score: 0.10847555845975876\n",
      "Test accuracy: 0.9666000008583069\n"
     ]
    },
    {
     "data": {
      "application/javascript": [
       "\n",
       "            setTimeout(function() {\n",
       "                var nbb_cell_id = 42;\n",
       "                var nbb_unformatted_code = \"score = model.evaluate(X_test, y_test, verbose=0)\\nprint(\\\"Test score:\\\", score[0])\\nprint(\\\"Test accuracy:\\\", score[1])\";\n",
       "                var nbb_formatted_code = \"score = model.evaluate(X_test, y_test, verbose=0)\\nprint(\\\"Test score:\\\", score[0])\\nprint(\\\"Test accuracy:\\\", score[1])\";\n",
       "                var nbb_cells = Jupyter.notebook.get_cells();\n",
       "                for (var i = 0; i < nbb_cells.length; ++i) {\n",
       "                    if (nbb_cells[i].input_prompt_number == nbb_cell_id) {\n",
       "                        if (nbb_cells[i].get_text() == nbb_unformatted_code) {\n",
       "                             nbb_cells[i].set_text(nbb_formatted_code);\n",
       "                        }\n",
       "                        break;\n",
       "                    }\n",
       "                }\n",
       "            }, 500);\n",
       "            "
      ],
      "text/plain": [
       "<IPython.core.display.Javascript object>"
      ]
     },
     "metadata": {},
     "output_type": "display_data"
    }
   ],
   "source": [
    "score = model.evaluate(X_test, y_test, verbose=0)\n",
    "print(\"Test score:\", score[0])\n",
    "print(\"Test accuracy:\", score[1])"
   ]
  },
  {
   "cell_type": "code",
   "execution_count": 43,
   "metadata": {},
   "outputs": [
    {
     "name": "stdout",
     "output_type": "stream",
     "text": [
      "Epoch 1/20\n",
      "938/938 [==============================] - 2s 2ms/step - loss: 1.2429 - accuracy: 0.6127\n",
      "Epoch 2/20\n",
      "938/938 [==============================] - 2s 2ms/step - loss: 0.3570 - accuracy: 0.8931\n",
      "Epoch 3/20\n",
      "938/938 [==============================] - 2s 2ms/step - loss: 0.2519 - accuracy: 0.9258\n",
      "Epoch 4/20\n",
      "938/938 [==============================] - 2s 2ms/step - loss: 0.2030 - accuracy: 0.9404\n",
      "Epoch 5/20\n",
      "938/938 [==============================] - 2s 2ms/step - loss: 0.1703 - accuracy: 0.9495\n",
      "Epoch 6/20\n",
      "938/938 [==============================] - 2s 2ms/step - loss: 0.1486 - accuracy: 0.9564\n",
      "Epoch 7/20\n",
      "938/938 [==============================] - 2s 2ms/step - loss: 0.1324 - accuracy: 0.9611\n",
      "Epoch 8/20\n",
      "938/938 [==============================] - 2s 2ms/step - loss: 0.1188 - accuracy: 0.9647\n",
      "Epoch 9/20\n",
      "938/938 [==============================] - 2s 2ms/step - loss: 0.1068 - accuracy: 0.9688\n",
      "Epoch 10/20\n",
      "938/938 [==============================] - 2s 2ms/step - loss: 0.0974 - accuracy: 0.9719\n",
      "Epoch 11/20\n",
      "938/938 [==============================] - 2s 2ms/step - loss: 0.0885 - accuracy: 0.9733\n",
      "Epoch 12/20\n",
      "938/938 [==============================] - 2s 2ms/step - loss: 0.0809 - accuracy: 0.9765\n",
      "Epoch 13/20\n",
      "938/938 [==============================] - 2s 2ms/step - loss: 0.0742 - accuracy: 0.9781\n",
      "Epoch 14/20\n",
      "938/938 [==============================] - 2s 2ms/step - loss: 0.0689 - accuracy: 0.9800\n",
      "Epoch 15/20\n",
      "938/938 [==============================] - 2s 2ms/step - loss: 0.0630 - accuracy: 0.9814\n",
      "Epoch 16/20\n",
      "938/938 [==============================] - 2s 2ms/step - loss: 0.0594 - accuracy: 0.9827\n",
      "Epoch 17/20\n",
      "938/938 [==============================] - 2s 2ms/step - loss: 0.0542 - accuracy: 0.9839\n",
      "Epoch 18/20\n",
      "938/938 [==============================] - 2s 2ms/step - loss: 0.0499 - accuracy: 0.9854\n",
      "Epoch 19/20\n",
      "938/938 [==============================] - 2s 2ms/step - loss: 0.0468 - accuracy: 0.9863\n",
      "Epoch 20/20\n",
      "938/938 [==============================] - 2s 2ms/step - loss: 0.0420 - accuracy: 0.9882\n"
     ]
    },
    {
     "data": {
      "text/plain": [
       "<tensorflow.python.keras.callbacks.History at 0x1eaa9ff5208>"
      ]
     },
     "execution_count": 43,
     "metadata": {},
     "output_type": "execute_result"
    },
    {
     "data": {
      "application/javascript": [
       "\n",
       "            setTimeout(function() {\n",
       "                var nbb_cell_id = 43;\n",
       "                var nbb_unformatted_code = \"# Having constant amount of 128 neurons throughout entire model until output layer\\nmodel = Sequential()\\nmodel.add(Dense(128, input_dim=X_train.shape[1], activation=\\\"relu\\\"))\\nmodel.add(Dense(128, activation=\\\"relu\\\"))\\nmodel.add(Dense(128, activation=\\\"relu\\\"))\\nmodel.add(Dense(128, activation=\\\"relu\\\"))\\nmodel.add(Dense(128, activation=\\\"relu\\\"))\\nmodel.add(Dense(128, activation=\\\"relu\\\"))\\nmodel.add(Dense(10, activation=\\\"softmax\\\"))\\n\\nmodel.compile(optimizer=\\\"sgd\\\", loss=\\\"categorical_crossentropy\\\", metrics=[\\\"accuracy\\\"])\\n\\nmodel.fit(X_train, y_train, batch_size=64, epochs=20, verbose=1)\";\n",
       "                var nbb_formatted_code = \"# Having constant amount of 128 neurons throughout entire model until output layer\\nmodel = Sequential()\\nmodel.add(Dense(128, input_dim=X_train.shape[1], activation=\\\"relu\\\"))\\nmodel.add(Dense(128, activation=\\\"relu\\\"))\\nmodel.add(Dense(128, activation=\\\"relu\\\"))\\nmodel.add(Dense(128, activation=\\\"relu\\\"))\\nmodel.add(Dense(128, activation=\\\"relu\\\"))\\nmodel.add(Dense(128, activation=\\\"relu\\\"))\\nmodel.add(Dense(10, activation=\\\"softmax\\\"))\\n\\nmodel.compile(optimizer=\\\"sgd\\\", loss=\\\"categorical_crossentropy\\\", metrics=[\\\"accuracy\\\"])\\n\\nmodel.fit(X_train, y_train, batch_size=64, epochs=20, verbose=1)\";\n",
       "                var nbb_cells = Jupyter.notebook.get_cells();\n",
       "                for (var i = 0; i < nbb_cells.length; ++i) {\n",
       "                    if (nbb_cells[i].input_prompt_number == nbb_cell_id) {\n",
       "                        if (nbb_cells[i].get_text() == nbb_unformatted_code) {\n",
       "                             nbb_cells[i].set_text(nbb_formatted_code);\n",
       "                        }\n",
       "                        break;\n",
       "                    }\n",
       "                }\n",
       "            }, 500);\n",
       "            "
      ],
      "text/plain": [
       "<IPython.core.display.Javascript object>"
      ]
     },
     "metadata": {},
     "output_type": "display_data"
    }
   ],
   "source": [
    "# Having constant amount of 128 neurons throughout entire model until output layer\n",
    "model = Sequential()\n",
    "model.add(Dense(128, input_dim=X_train.shape[1], activation=\"relu\"))\n",
    "model.add(Dense(128, activation=\"relu\"))\n",
    "model.add(Dense(128, activation=\"relu\"))\n",
    "model.add(Dense(128, activation=\"relu\"))\n",
    "model.add(Dense(128, activation=\"relu\"))\n",
    "model.add(Dense(128, activation=\"relu\"))\n",
    "model.add(Dense(10, activation=\"softmax\"))\n",
    "\n",
    "model.compile(optimizer=\"sgd\", loss=\"categorical_crossentropy\", metrics=[\"accuracy\"])\n",
    "\n",
    "model.fit(X_train, y_train, batch_size=64, epochs=20, verbose=1)"
   ]
  },
  {
   "cell_type": "code",
   "execution_count": 44,
   "metadata": {},
   "outputs": [
    {
     "name": "stdout",
     "output_type": "stream",
     "text": [
      "Test score: 0.09070105850696564\n",
      "Test accuracy: 0.972100019454956\n"
     ]
    },
    {
     "data": {
      "application/javascript": [
       "\n",
       "            setTimeout(function() {\n",
       "                var nbb_cell_id = 44;\n",
       "                var nbb_unformatted_code = \"score = model.evaluate(X_test, y_test, verbose=0)\\nprint(\\\"Test score:\\\", score[0])\\nprint(\\\"Test accuracy:\\\", score[1])\";\n",
       "                var nbb_formatted_code = \"score = model.evaluate(X_test, y_test, verbose=0)\\nprint(\\\"Test score:\\\", score[0])\\nprint(\\\"Test accuracy:\\\", score[1])\";\n",
       "                var nbb_cells = Jupyter.notebook.get_cells();\n",
       "                for (var i = 0; i < nbb_cells.length; ++i) {\n",
       "                    if (nbb_cells[i].input_prompt_number == nbb_cell_id) {\n",
       "                        if (nbb_cells[i].get_text() == nbb_unformatted_code) {\n",
       "                             nbb_cells[i].set_text(nbb_formatted_code);\n",
       "                        }\n",
       "                        break;\n",
       "                    }\n",
       "                }\n",
       "            }, 500);\n",
       "            "
      ],
      "text/plain": [
       "<IPython.core.display.Javascript object>"
      ]
     },
     "metadata": {},
     "output_type": "display_data"
    }
   ],
   "source": [
    "score = model.evaluate(X_test, y_test, verbose=0)\n",
    "print(\"Test score:\", score[0])\n",
    "print(\"Test accuracy:\", score[1])"
   ]
  },
  {
   "cell_type": "code",
   "execution_count": 45,
   "metadata": {},
   "outputs": [
    {
     "name": "stdout",
     "output_type": "stream",
     "text": [
      "Epoch 1/20\n",
      "938/938 [==============================] - 3s 3ms/step - loss: 1.1523 - accuracy: 0.6581\n",
      "Epoch 2/20\n",
      "938/938 [==============================] - 3s 3ms/step - loss: 0.3200 - accuracy: 0.9050\n",
      "Epoch 3/20\n",
      "938/938 [==============================] - 3s 3ms/step - loss: 0.2359 - accuracy: 0.9292\n",
      "Epoch 4/20\n",
      "938/938 [==============================] - 3s 4ms/step - loss: 0.1884 - accuracy: 0.9439\n",
      "Epoch 5/20\n",
      "938/938 [==============================] - 3s 4ms/step - loss: 0.1572 - accuracy: 0.9524\n",
      "Epoch 6/20\n",
      "938/938 [==============================] - 3s 4ms/step - loss: 0.1357 - accuracy: 0.9597\n",
      "Epoch 7/20\n",
      "938/938 [==============================] - 3s 3ms/step - loss: 0.1177 - accuracy: 0.9652\n",
      "Epoch 8/20\n",
      "938/938 [==============================] - 3s 3ms/step - loss: 0.1037 - accuracy: 0.9692\n",
      "Epoch 9/20\n",
      "938/938 [==============================] - 3s 3ms/step - loss: 0.0919 - accuracy: 0.9724\n",
      "Epoch 10/20\n",
      "938/938 [==============================] - 3s 3ms/step - loss: 0.0821 - accuracy: 0.9755\n",
      "Epoch 11/20\n",
      "938/938 [==============================] - 3s 4ms/step - loss: 0.0748 - accuracy: 0.9775\n",
      "Epoch 12/20\n",
      "938/938 [==============================] - 3s 3ms/step - loss: 0.0674 - accuracy: 0.9802\n",
      "Epoch 13/20\n",
      "938/938 [==============================] - 3s 3ms/step - loss: 0.0609 - accuracy: 0.9817\n",
      "Epoch 14/20\n",
      "938/938 [==============================] - 3s 3ms/step - loss: 0.0544 - accuracy: 0.9842\n",
      "Epoch 15/20\n",
      "938/938 [==============================] - 3s 3ms/step - loss: 0.0489 - accuracy: 0.9855\n",
      "Epoch 16/20\n",
      "938/938 [==============================] - 3s 4ms/step - loss: 0.0451 - accuracy: 0.9871\n",
      "Epoch 17/20\n",
      "938/938 [==============================] - 3s 4ms/step - loss: 0.0397 - accuracy: 0.9887\n",
      "Epoch 18/20\n",
      "938/938 [==============================] - 3s 3ms/step - loss: 0.0364 - accuracy: 0.9894\n",
      "Epoch 19/20\n",
      "938/938 [==============================] - 3s 3ms/step - loss: 0.0331 - accuracy: 0.9905\n",
      "Epoch 20/20\n",
      "938/938 [==============================] - 3s 3ms/step - loss: 0.0293 - accuracy: 0.9919\n"
     ]
    },
    {
     "data": {
      "text/plain": [
       "<tensorflow.python.keras.callbacks.History at 0x1eaaa1d3448>"
      ]
     },
     "execution_count": 45,
     "metadata": {},
     "output_type": "execute_result"
    },
    {
     "data": {
      "application/javascript": [
       "\n",
       "            setTimeout(function() {\n",
       "                var nbb_cell_id = 45;\n",
       "                var nbb_unformatted_code = \"# Having constant amount of 256 neurons throughout entire model until output layer\\nmodel = Sequential()\\nmodel.add(Dense(256, input_dim=X_train.shape[1], activation=\\\"relu\\\"))\\nmodel.add(Dense(256, activation=\\\"relu\\\"))\\nmodel.add(Dense(256, activation=\\\"relu\\\"))\\nmodel.add(Dense(256, activation=\\\"relu\\\"))\\nmodel.add(Dense(256, activation=\\\"relu\\\"))\\nmodel.add(Dense(256, activation=\\\"relu\\\"))\\nmodel.add(Dense(10, activation=\\\"softmax\\\"))\\n\\nmodel.compile(optimizer=\\\"sgd\\\", loss=\\\"categorical_crossentropy\\\", metrics=[\\\"accuracy\\\"])\\n\\nmodel.fit(X_train, y_train, batch_size=64, epochs=20, verbose=1)\";\n",
       "                var nbb_formatted_code = \"# Having constant amount of 256 neurons throughout entire model until output layer\\nmodel = Sequential()\\nmodel.add(Dense(256, input_dim=X_train.shape[1], activation=\\\"relu\\\"))\\nmodel.add(Dense(256, activation=\\\"relu\\\"))\\nmodel.add(Dense(256, activation=\\\"relu\\\"))\\nmodel.add(Dense(256, activation=\\\"relu\\\"))\\nmodel.add(Dense(256, activation=\\\"relu\\\"))\\nmodel.add(Dense(256, activation=\\\"relu\\\"))\\nmodel.add(Dense(10, activation=\\\"softmax\\\"))\\n\\nmodel.compile(optimizer=\\\"sgd\\\", loss=\\\"categorical_crossentropy\\\", metrics=[\\\"accuracy\\\"])\\n\\nmodel.fit(X_train, y_train, batch_size=64, epochs=20, verbose=1)\";\n",
       "                var nbb_cells = Jupyter.notebook.get_cells();\n",
       "                for (var i = 0; i < nbb_cells.length; ++i) {\n",
       "                    if (nbb_cells[i].input_prompt_number == nbb_cell_id) {\n",
       "                        if (nbb_cells[i].get_text() == nbb_unformatted_code) {\n",
       "                             nbb_cells[i].set_text(nbb_formatted_code);\n",
       "                        }\n",
       "                        break;\n",
       "                    }\n",
       "                }\n",
       "            }, 500);\n",
       "            "
      ],
      "text/plain": [
       "<IPython.core.display.Javascript object>"
      ]
     },
     "metadata": {},
     "output_type": "display_data"
    }
   ],
   "source": [
    "# Having constant amount of 256 neurons throughout entire model until output layer\n",
    "model = Sequential()\n",
    "model.add(Dense(256, input_dim=X_train.shape[1], activation=\"relu\"))\n",
    "model.add(Dense(256, activation=\"relu\"))\n",
    "model.add(Dense(256, activation=\"relu\"))\n",
    "model.add(Dense(256, activation=\"relu\"))\n",
    "model.add(Dense(256, activation=\"relu\"))\n",
    "model.add(Dense(256, activation=\"relu\"))\n",
    "model.add(Dense(10, activation=\"softmax\"))\n",
    "\n",
    "model.compile(optimizer=\"sgd\", loss=\"categorical_crossentropy\", metrics=[\"accuracy\"])\n",
    "\n",
    "model.fit(X_train, y_train, batch_size=64, epochs=20, verbose=1)"
   ]
  },
  {
   "cell_type": "code",
   "execution_count": 46,
   "metadata": {},
   "outputs": [
    {
     "name": "stdout",
     "output_type": "stream",
     "text": [
      "Test score: 0.07917606085538864\n",
      "Test accuracy: 0.9771000146865845\n"
     ]
    },
    {
     "data": {
      "application/javascript": [
       "\n",
       "            setTimeout(function() {\n",
       "                var nbb_cell_id = 46;\n",
       "                var nbb_unformatted_code = \"score = model.evaluate(X_test, y_test, verbose=0)\\nprint(\\\"Test score:\\\", score[0])\\nprint(\\\"Test accuracy:\\\", score[1])\";\n",
       "                var nbb_formatted_code = \"score = model.evaluate(X_test, y_test, verbose=0)\\nprint(\\\"Test score:\\\", score[0])\\nprint(\\\"Test accuracy:\\\", score[1])\";\n",
       "                var nbb_cells = Jupyter.notebook.get_cells();\n",
       "                for (var i = 0; i < nbb_cells.length; ++i) {\n",
       "                    if (nbb_cells[i].input_prompt_number == nbb_cell_id) {\n",
       "                        if (nbb_cells[i].get_text() == nbb_unformatted_code) {\n",
       "                             nbb_cells[i].set_text(nbb_formatted_code);\n",
       "                        }\n",
       "                        break;\n",
       "                    }\n",
       "                }\n",
       "            }, 500);\n",
       "            "
      ],
      "text/plain": [
       "<IPython.core.display.Javascript object>"
      ]
     },
     "metadata": {},
     "output_type": "display_data"
    }
   ],
   "source": [
    "score = model.evaluate(X_test, y_test, verbose=0)\n",
    "print(\"Test score:\", score[0])\n",
    "print(\"Test accuracy:\", score[1])"
   ]
  },
  {
   "cell_type": "code",
   "execution_count": 47,
   "metadata": {},
   "outputs": [
    {
     "name": "stdout",
     "output_type": "stream",
     "text": [
      "Epoch 1/20\n",
      "938/938 [==============================] - 14s 15ms/step - loss: 1.0357 - accuracy: 0.6840\n",
      "Epoch 2/20\n",
      "938/938 [==============================] - 14s 15ms/step - loss: 0.2944 - accuracy: 0.91400s - l\n",
      "Epoch 3/20\n",
      "938/938 [==============================] - 15s 16ms/step - loss: 0.2129 - accuracy: 0.9380\n",
      "Epoch 4/20\n",
      "938/938 [==============================] - 14s 15ms/step - loss: 0.1684 - accuracy: 0.95080s - los\n",
      "Epoch 5/20\n",
      "938/938 [==============================] - 14s 15ms/step - loss: 0.1390 - accuracy: 0.9587\n",
      "Epoch 6/20\n",
      "938/938 [==============================] - 14s 15ms/step - loss: 0.1184 - accuracy: 0.9649\n",
      "Epoch 7/20\n",
      "938/938 [==============================] - 14s 15ms/step - loss: 0.1008 - accuracy: 0.9695\n",
      "Epoch 8/20\n",
      "938/938 [==============================] - 15s 16ms/step - loss: 0.0876 - accuracy: 0.9744\n",
      "Epoch 9/20\n",
      "938/938 [==============================] - 17s 18ms/step - loss: 0.0777 - accuracy: 0.9770\n",
      "Epoch 10/20\n",
      "938/938 [==============================] - 15s 16ms/step - loss: 0.0685 - accuracy: 0.97951s - los - ETA: 0s - loss:\n",
      "Epoch 11/20\n",
      "938/938 [==============================] - 14s 15ms/step - loss: 0.0593 - accuracy: 0.9828\n",
      "Epoch 12/20\n",
      "938/938 [==============================] - 18s 20ms/step - loss: 0.0532 - accuracy: 0.98441s - l\n",
      "Epoch 13/20\n",
      "938/938 [==============================] - 13s 14ms/step - loss: 0.0467 - accuracy: 0.9862\n",
      "Epoch 14/20\n",
      "938/938 [==============================] - 13s 14ms/step - loss: 0.0404 - accuracy: 0.9887\n",
      "Epoch 15/20\n",
      "938/938 [==============================] - 13s 14ms/step - loss: 0.0367 - accuracy: 0.9893\n",
      "Epoch 16/20\n",
      "938/938 [==============================] - 13s 14ms/step - loss: 0.0315 - accuracy: 0.9910\n",
      "Epoch 17/20\n",
      "938/938 [==============================] - 13s 14ms/step - loss: 0.0268 - accuracy: 0.9926\n",
      "Epoch 18/20\n",
      "938/938 [==============================] - 13s 14ms/step - loss: 0.0244 - accuracy: 0.9935\n",
      "Epoch 19/20\n",
      "938/938 [==============================] - 13s 14ms/step - loss: 0.0206 - accuracy: 0.9946\n",
      "Epoch 20/20\n",
      "938/938 [==============================] - 13s 14ms/step - loss: 0.0174 - accuracy: 0.9959\n"
     ]
    },
    {
     "data": {
      "text/plain": [
       "<tensorflow.python.keras.callbacks.History at 0x1eaaa29b548>"
      ]
     },
     "execution_count": 47,
     "metadata": {},
     "output_type": "execute_result"
    },
    {
     "data": {
      "application/javascript": [
       "\n",
       "            setTimeout(function() {\n",
       "                var nbb_cell_id = 47;\n",
       "                var nbb_unformatted_code = \"# Having constant amount of 512 neurons throughout entire model until output layer\\nmodel = Sequential()\\nmodel.add(Dense(512, input_dim=X_train.shape[1], activation=\\\"relu\\\"))\\nmodel.add(Dense(512, activation=\\\"relu\\\"))\\nmodel.add(Dense(512, activation=\\\"relu\\\"))\\nmodel.add(Dense(512, activation=\\\"relu\\\"))\\nmodel.add(Dense(512, activation=\\\"relu\\\"))\\nmodel.add(Dense(512, activation=\\\"relu\\\"))\\nmodel.add(Dense(10, activation=\\\"softmax\\\"))\\n\\nmodel.compile(optimizer=\\\"sgd\\\", loss=\\\"categorical_crossentropy\\\", metrics=[\\\"accuracy\\\"])\\n\\nmodel.fit(X_train, y_train, batch_size=64, epochs=20, verbose=1)\";\n",
       "                var nbb_formatted_code = \"# Having constant amount of 512 neurons throughout entire model until output layer\\nmodel = Sequential()\\nmodel.add(Dense(512, input_dim=X_train.shape[1], activation=\\\"relu\\\"))\\nmodel.add(Dense(512, activation=\\\"relu\\\"))\\nmodel.add(Dense(512, activation=\\\"relu\\\"))\\nmodel.add(Dense(512, activation=\\\"relu\\\"))\\nmodel.add(Dense(512, activation=\\\"relu\\\"))\\nmodel.add(Dense(512, activation=\\\"relu\\\"))\\nmodel.add(Dense(10, activation=\\\"softmax\\\"))\\n\\nmodel.compile(optimizer=\\\"sgd\\\", loss=\\\"categorical_crossentropy\\\", metrics=[\\\"accuracy\\\"])\\n\\nmodel.fit(X_train, y_train, batch_size=64, epochs=20, verbose=1)\";\n",
       "                var nbb_cells = Jupyter.notebook.get_cells();\n",
       "                for (var i = 0; i < nbb_cells.length; ++i) {\n",
       "                    if (nbb_cells[i].input_prompt_number == nbb_cell_id) {\n",
       "                        if (nbb_cells[i].get_text() == nbb_unformatted_code) {\n",
       "                             nbb_cells[i].set_text(nbb_formatted_code);\n",
       "                        }\n",
       "                        break;\n",
       "                    }\n",
       "                }\n",
       "            }, 500);\n",
       "            "
      ],
      "text/plain": [
       "<IPython.core.display.Javascript object>"
      ]
     },
     "metadata": {},
     "output_type": "display_data"
    }
   ],
   "source": [
    "# Having constant amount of 512 neurons throughout entire model until output layer\n",
    "model = Sequential()\n",
    "model.add(Dense(512, input_dim=X_train.shape[1], activation=\"relu\"))\n",
    "model.add(Dense(512, activation=\"relu\"))\n",
    "model.add(Dense(512, activation=\"relu\"))\n",
    "model.add(Dense(512, activation=\"relu\"))\n",
    "model.add(Dense(512, activation=\"relu\"))\n",
    "model.add(Dense(512, activation=\"relu\"))\n",
    "model.add(Dense(10, activation=\"softmax\"))\n",
    "\n",
    "model.compile(optimizer=\"sgd\", loss=\"categorical_crossentropy\", metrics=[\"accuracy\"])\n",
    "\n",
    "model.fit(X_train, y_train, batch_size=64, epochs=20, verbose=1)"
   ]
  },
  {
   "cell_type": "code",
   "execution_count": 48,
   "metadata": {},
   "outputs": [
    {
     "name": "stdout",
     "output_type": "stream",
     "text": [
      "Test score: 0.07709846645593643\n",
      "Test accuracy: 0.9779000282287598\n"
     ]
    },
    {
     "data": {
      "application/javascript": [
       "\n",
       "            setTimeout(function() {\n",
       "                var nbb_cell_id = 48;\n",
       "                var nbb_unformatted_code = \"score = model.evaluate(X_test, y_test, verbose=0)\\nprint(\\\"Test score:\\\", score[0])\\nprint(\\\"Test accuracy:\\\", score[1])\";\n",
       "                var nbb_formatted_code = \"score = model.evaluate(X_test, y_test, verbose=0)\\nprint(\\\"Test score:\\\", score[0])\\nprint(\\\"Test accuracy:\\\", score[1])\";\n",
       "                var nbb_cells = Jupyter.notebook.get_cells();\n",
       "                for (var i = 0; i < nbb_cells.length; ++i) {\n",
       "                    if (nbb_cells[i].input_prompt_number == nbb_cell_id) {\n",
       "                        if (nbb_cells[i].get_text() == nbb_unformatted_code) {\n",
       "                             nbb_cells[i].set_text(nbb_formatted_code);\n",
       "                        }\n",
       "                        break;\n",
       "                    }\n",
       "                }\n",
       "            }, 500);\n",
       "            "
      ],
      "text/plain": [
       "<IPython.core.display.Javascript object>"
      ]
     },
     "metadata": {},
     "output_type": "display_data"
    }
   ],
   "source": [
    "score = model.evaluate(X_test, y_test, verbose=0)\n",
    "print(\"Test score:\", score[0])\n",
    "print(\"Test accuracy:\", score[1])"
   ]
  },
  {
   "cell_type": "code",
   "execution_count": 49,
   "metadata": {},
   "outputs": [
    {
     "name": "stdout",
     "output_type": "stream",
     "text": [
      "Epoch 1/20\n",
      "938/938 [==============================] - 3s 3ms/step - loss: 1.1634 - accuracy: 0.6368\n",
      "Epoch 2/20\n",
      "938/938 [==============================] - 3s 3ms/step - loss: 0.3047 - accuracy: 0.9124\n",
      "Epoch 3/20\n",
      "938/938 [==============================] - 3s 3ms/step - loss: 0.2047 - accuracy: 0.9413\n",
      "Epoch 4/20\n",
      "938/938 [==============================] - 3s 3ms/step - loss: 0.1609 - accuracy: 0.9535\n",
      "Epoch 5/20\n",
      "938/938 [==============================] - 3s 3ms/step - loss: 0.1314 - accuracy: 0.9619\n",
      "Epoch 6/20\n",
      "938/938 [==============================] - 3s 3ms/step - loss: 0.1098 - accuracy: 0.9688\n",
      "Epoch 7/20\n",
      "938/938 [==============================] - 3s 3ms/step - loss: 0.0946 - accuracy: 0.9726\n",
      "Epoch 8/20\n",
      "938/938 [==============================] - 3s 3ms/step - loss: 0.0816 - accuracy: 0.9768\n",
      "Epoch 9/20\n",
      "938/938 [==============================] - 3s 3ms/step - loss: 0.0706 - accuracy: 0.9800\n",
      "Epoch 10/20\n",
      "938/938 [==============================] - 3s 3ms/step - loss: 0.0619 - accuracy: 0.9814\n",
      "Epoch 11/20\n",
      "938/938 [==============================] - 3s 3ms/step - loss: 0.0524 - accuracy: 0.9846\n",
      "Epoch 12/20\n",
      "938/938 [==============================] - 3s 3ms/step - loss: 0.0459 - accuracy: 0.9865\n",
      "Epoch 13/20\n",
      "938/938 [==============================] - 3s 3ms/step - loss: 0.0391 - accuracy: 0.9890\n",
      "Epoch 14/20\n",
      "938/938 [==============================] - 3s 3ms/step - loss: 0.0337 - accuracy: 0.9909\n",
      "Epoch 15/20\n",
      "938/938 [==============================] - 3s 3ms/step - loss: 0.0287 - accuracy: 0.9916\n",
      "Epoch 16/20\n",
      "938/938 [==============================] - 3s 3ms/step - loss: 0.0231 - accuracy: 0.9941\n",
      "Epoch 17/20\n",
      "938/938 [==============================] - 3s 3ms/step - loss: 0.0206 - accuracy: 0.9945\n",
      "Epoch 18/20\n",
      "938/938 [==============================] - 3s 3ms/step - loss: 0.0172 - accuracy: 0.9959\n",
      "Epoch 19/20\n",
      "938/938 [==============================] - 3s 3ms/step - loss: 0.0143 - accuracy: 0.9966\n",
      "Epoch 20/20\n",
      "938/938 [==============================] - 3s 3ms/step - loss: 0.0112 - accuracy: 0.9979\n"
     ]
    },
    {
     "data": {
      "text/plain": [
       "<tensorflow.python.keras.callbacks.History at 0x1eab05fa148>"
      ]
     },
     "execution_count": 49,
     "metadata": {},
     "output_type": "execute_result"
    },
    {
     "data": {
      "application/javascript": [
       "\n",
       "            setTimeout(function() {\n",
       "                var nbb_cell_id = 49;\n",
       "                var nbb_unformatted_code = \"# Having neurons decrease throughout model\\nmodel = Sequential()\\nmodel.add(Dense(512, input_dim=X_train.shape[1], activation=\\\"relu\\\"))\\nmodel.add(Dense(256, activation=\\\"relu\\\"))\\nmodel.add(Dense(128, activation=\\\"relu\\\"))\\nmodel.add(Dense(64, activation=\\\"relu\\\"))\\nmodel.add(Dense(32, activation=\\\"relu\\\"))\\nmodel.add(Dense(16, activation=\\\"relu\\\"))\\nmodel.add(Dense(10, activation=\\\"softmax\\\"))\\n\\nmodel.compile(optimizer=\\\"sgd\\\", loss=\\\"categorical_crossentropy\\\", metrics=[\\\"accuracy\\\"])\\n\\nmodel.fit(X_train, y_train, batch_size=64, epochs=20, verbose=1)\";\n",
       "                var nbb_formatted_code = \"# Having neurons decrease throughout model\\nmodel = Sequential()\\nmodel.add(Dense(512, input_dim=X_train.shape[1], activation=\\\"relu\\\"))\\nmodel.add(Dense(256, activation=\\\"relu\\\"))\\nmodel.add(Dense(128, activation=\\\"relu\\\"))\\nmodel.add(Dense(64, activation=\\\"relu\\\"))\\nmodel.add(Dense(32, activation=\\\"relu\\\"))\\nmodel.add(Dense(16, activation=\\\"relu\\\"))\\nmodel.add(Dense(10, activation=\\\"softmax\\\"))\\n\\nmodel.compile(optimizer=\\\"sgd\\\", loss=\\\"categorical_crossentropy\\\", metrics=[\\\"accuracy\\\"])\\n\\nmodel.fit(X_train, y_train, batch_size=64, epochs=20, verbose=1)\";\n",
       "                var nbb_cells = Jupyter.notebook.get_cells();\n",
       "                for (var i = 0; i < nbb_cells.length; ++i) {\n",
       "                    if (nbb_cells[i].input_prompt_number == nbb_cell_id) {\n",
       "                        if (nbb_cells[i].get_text() == nbb_unformatted_code) {\n",
       "                             nbb_cells[i].set_text(nbb_formatted_code);\n",
       "                        }\n",
       "                        break;\n",
       "                    }\n",
       "                }\n",
       "            }, 500);\n",
       "            "
      ],
      "text/plain": [
       "<IPython.core.display.Javascript object>"
      ]
     },
     "metadata": {},
     "output_type": "display_data"
    }
   ],
   "source": [
    "# Having neurons decrease throughout model\n",
    "model = Sequential()\n",
    "model.add(Dense(512, input_dim=X_train.shape[1], activation=\"relu\"))\n",
    "model.add(Dense(256, activation=\"relu\"))\n",
    "model.add(Dense(128, activation=\"relu\"))\n",
    "model.add(Dense(64, activation=\"relu\"))\n",
    "model.add(Dense(32, activation=\"relu\"))\n",
    "model.add(Dense(16, activation=\"relu\"))\n",
    "model.add(Dense(10, activation=\"softmax\"))\n",
    "\n",
    "model.compile(optimizer=\"sgd\", loss=\"categorical_crossentropy\", metrics=[\"accuracy\"])\n",
    "\n",
    "model.fit(X_train, y_train, batch_size=64, epochs=20, verbose=1)"
   ]
  },
  {
   "cell_type": "code",
   "execution_count": 50,
   "metadata": {},
   "outputs": [
    {
     "name": "stdout",
     "output_type": "stream",
     "text": [
      "Test score: 0.09305624663829803\n",
      "Test accuracy: 0.9743000268936157\n"
     ]
    },
    {
     "data": {
      "application/javascript": [
       "\n",
       "            setTimeout(function() {\n",
       "                var nbb_cell_id = 50;\n",
       "                var nbb_unformatted_code = \"score = model.evaluate(X_test, y_test, verbose=0)\\nprint(\\\"Test score:\\\", score[0])\\nprint(\\\"Test accuracy:\\\", score[1])\";\n",
       "                var nbb_formatted_code = \"score = model.evaluate(X_test, y_test, verbose=0)\\nprint(\\\"Test score:\\\", score[0])\\nprint(\\\"Test accuracy:\\\", score[1])\";\n",
       "                var nbb_cells = Jupyter.notebook.get_cells();\n",
       "                for (var i = 0; i < nbb_cells.length; ++i) {\n",
       "                    if (nbb_cells[i].input_prompt_number == nbb_cell_id) {\n",
       "                        if (nbb_cells[i].get_text() == nbb_unformatted_code) {\n",
       "                             nbb_cells[i].set_text(nbb_formatted_code);\n",
       "                        }\n",
       "                        break;\n",
       "                    }\n",
       "                }\n",
       "            }, 500);\n",
       "            "
      ],
      "text/plain": [
       "<IPython.core.display.Javascript object>"
      ]
     },
     "metadata": {},
     "output_type": "display_data"
    }
   ],
   "source": [
    "score = model.evaluate(X_test, y_test, verbose=0)\n",
    "print(\"Test score:\", score[0])\n",
    "print(\"Test accuracy:\", score[1])"
   ]
  },
  {
   "cell_type": "markdown",
   "metadata": {},
   "source": [
    "When using constant amounts of neurons the test accuracy increases as the neurons increase, however, once the neurons get too high the run time starts to take longer to execute. The models all appear to have similar accuracies, but the model with a constant amound of 256 neurons performs the best in the most optimal run time. It even has a better accuracy than the model with neurons that decrease within each layer."
   ]
  },
  {
   "cell_type": "markdown",
   "metadata": {},
   "source": [
    "# Conclusion"
   ]
  },
  {
   "cell_type": "markdown",
   "metadata": {},
   "source": [
    "Overall, each model is able to reach a very high accuracy, usually over 0.95. models that achieve an accuracy higher than 0.97 start to take a lot longer to execute, and only have a small increase in accuracy. Additionally, whenever the layers were increased the accuracy would increase, however once the layers got past 7 the accuracy would barely increase and the run time would take much longer. Therefore, I figured the most optimal amount of layers would be 7.\n",
    "\n",
    "It appears the best activation function was the ReLU activation. I was able to obtain an accuracy score of around 0.977 with a quick run time using a constant amound of 256 neurons, ReLU activation, 7 layers, and SGD loss function. "
   ]
  },
  {
   "cell_type": "markdown",
   "metadata": {},
   "source": [
    "### Possible Next Steps\n",
    "\n",
    "Some next steps that could be done for improving the models would be to change the loss functions (incorporate a hinge loss function instead of categorical). Additionally, I could change the optimizer to something other than sgd (adam)."
   ]
  }
 ],
 "metadata": {
  "kernelspec": {
   "display_name": "Python 3",
   "language": "python",
   "name": "python3"
  },
  "language_info": {
   "codemirror_mode": {
    "name": "ipython",
    "version": 3
   },
   "file_extension": ".py",
   "mimetype": "text/x-python",
   "name": "python",
   "nbconvert_exporter": "python",
   "pygments_lexer": "ipython3",
   "version": "3.7.6"
  }
 },
 "nbformat": 4,
 "nbformat_minor": 4
}
