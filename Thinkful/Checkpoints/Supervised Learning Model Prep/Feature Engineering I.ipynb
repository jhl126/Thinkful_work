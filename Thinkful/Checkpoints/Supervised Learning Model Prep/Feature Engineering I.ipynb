{
 "cells": [
  {
   "cell_type": "code",
   "execution_count": 15,
   "metadata": {},
   "outputs": [
    {
     "data": {
      "application/javascript": [
       "\n",
       "            setTimeout(function() {\n",
       "                var nbb_cell_id = 15;\n",
       "                var nbb_unformatted_code = \"%reload_ext nb_black\\n\\nimport pandas as pd\\nimport matplotlib.pyplot as plt\\nimport seaborn as sns\\nfrom sqlalchemy import create_engine\\nfrom scipy.stats.stats import ttest_ind\\nimport warnings\\n\\nfrom scipy.stats import boxcox\\n\\nfrom scipy.stats import jarque_bera\\nfrom scipy.stats import normaltest\\n\\nwarnings.filterwarnings(\\\"ignore\\\")\\nsns.set(style=\\\"whitegrid\\\")\\n\\npostgres_user = \\\"dsbc_student\\\"\\npostgres_pw = \\\"7*.8G9QH21\\\"\\npostgres_host = \\\"142.93.121.174\\\"\\npostgres_port = \\\"5432\\\"\\npostgres_db = \\\"studentsperformance\\\"\\n\\nengine = create_engine(\\n    \\\"postgresql://{}:{}@{}:{}/{}\\\".format(\\n        postgres_user, postgres_pw, postgres_host, postgres_port, postgres_db\\n    )\\n)\\n\\neducation_df = pd.read_sql_query(\\\"select * from studentsperformance\\\", con=engine)\\nengine.dispose()\";\n",
       "                var nbb_formatted_code = \"%reload_ext nb_black\\n\\nimport pandas as pd\\nimport matplotlib.pyplot as plt\\nimport seaborn as sns\\nfrom sqlalchemy import create_engine\\nfrom scipy.stats.stats import ttest_ind\\nimport warnings\\n\\nfrom scipy.stats import boxcox\\n\\nfrom scipy.stats import jarque_bera\\nfrom scipy.stats import normaltest\\n\\nwarnings.filterwarnings(\\\"ignore\\\")\\nsns.set(style=\\\"whitegrid\\\")\\n\\npostgres_user = \\\"dsbc_student\\\"\\npostgres_pw = \\\"7*.8G9QH21\\\"\\npostgres_host = \\\"142.93.121.174\\\"\\npostgres_port = \\\"5432\\\"\\npostgres_db = \\\"studentsperformance\\\"\\n\\nengine = create_engine(\\n    \\\"postgresql://{}:{}@{}:{}/{}\\\".format(\\n        postgres_user, postgres_pw, postgres_host, postgres_port, postgres_db\\n    )\\n)\\n\\neducation_df = pd.read_sql_query(\\\"select * from studentsperformance\\\", con=engine)\\nengine.dispose()\";\n",
       "                var nbb_cells = Jupyter.notebook.get_cells();\n",
       "                for (var i = 0; i < nbb_cells.length; ++i) {\n",
       "                    if (nbb_cells[i].input_prompt_number == nbb_cell_id) {\n",
       "                        if (nbb_cells[i].get_text() == nbb_unformatted_code) {\n",
       "                             nbb_cells[i].set_text(nbb_formatted_code);\n",
       "                        }\n",
       "                        break;\n",
       "                    }\n",
       "                }\n",
       "            }, 500);\n",
       "            "
      ],
      "text/plain": [
       "<IPython.core.display.Javascript object>"
      ]
     },
     "metadata": {},
     "output_type": "display_data"
    },
    {
     "data": {
      "application/javascript": [
       "\n",
       "            setTimeout(function() {\n",
       "                var nbb_cell_id = 15;\n",
       "                var nbb_unformatted_code = \"%reload_ext nb_black\\n\\nimport pandas as pd\\nimport matplotlib.pyplot as plt\\nimport seaborn as sns\\nfrom sqlalchemy import create_engine\\nfrom scipy.stats.stats import ttest_ind\\nimport warnings\\n\\nfrom scipy.stats import boxcox\\n\\nfrom scipy.stats import jarque_bera\\nfrom scipy.stats import normaltest\\n\\nwarnings.filterwarnings(\\\"ignore\\\")\\nsns.set(style=\\\"whitegrid\\\")\\n\\npostgres_user = \\\"dsbc_student\\\"\\npostgres_pw = \\\"7*.8G9QH21\\\"\\npostgres_host = \\\"142.93.121.174\\\"\\npostgres_port = \\\"5432\\\"\\npostgres_db = \\\"studentsperformance\\\"\\n\\nengine = create_engine(\\n    \\\"postgresql://{}:{}@{}:{}/{}\\\".format(\\n        postgres_user, postgres_pw, postgres_host, postgres_port, postgres_db\\n    )\\n)\\n\\neducation_df = pd.read_sql_query(\\\"select * from studentsperformance\\\", con=engine)\\nengine.dispose()\";\n",
       "                var nbb_formatted_code = \"%reload_ext nb_black\\n\\nimport pandas as pd\\nimport matplotlib.pyplot as plt\\nimport seaborn as sns\\nfrom sqlalchemy import create_engine\\nfrom scipy.stats.stats import ttest_ind\\nimport warnings\\n\\nfrom scipy.stats import boxcox\\n\\nfrom scipy.stats import jarque_bera\\nfrom scipy.stats import normaltest\\n\\nwarnings.filterwarnings(\\\"ignore\\\")\\nsns.set(style=\\\"whitegrid\\\")\\n\\npostgres_user = \\\"dsbc_student\\\"\\npostgres_pw = \\\"7*.8G9QH21\\\"\\npostgres_host = \\\"142.93.121.174\\\"\\npostgres_port = \\\"5432\\\"\\npostgres_db = \\\"studentsperformance\\\"\\n\\nengine = create_engine(\\n    \\\"postgresql://{}:{}@{}:{}/{}\\\".format(\\n        postgres_user, postgres_pw, postgres_host, postgres_port, postgres_db\\n    )\\n)\\n\\neducation_df = pd.read_sql_query(\\\"select * from studentsperformance\\\", con=engine)\\nengine.dispose()\";\n",
       "                var nbb_cells = Jupyter.notebook.get_cells();\n",
       "                for (var i = 0; i < nbb_cells.length; ++i) {\n",
       "                    if (nbb_cells[i].input_prompt_number == nbb_cell_id) {\n",
       "                        if (nbb_cells[i].get_text() == nbb_unformatted_code) {\n",
       "                             nbb_cells[i].set_text(nbb_formatted_code);\n",
       "                        }\n",
       "                        break;\n",
       "                    }\n",
       "                }\n",
       "            }, 500);\n",
       "            "
      ],
      "text/plain": [
       "<IPython.core.display.Javascript object>"
      ]
     },
     "metadata": {},
     "output_type": "display_data"
    },
    {
     "data": {
      "application/javascript": [
       "\n",
       "            setTimeout(function() {\n",
       "                var nbb_cell_id = 15;\n",
       "                var nbb_unformatted_code = \"%reload_ext nb_black\\n\\nimport pandas as pd\\nimport matplotlib.pyplot as plt\\nimport seaborn as sns\\nfrom sqlalchemy import create_engine\\nfrom scipy.stats.stats import ttest_ind\\nimport warnings\\n\\nfrom scipy.stats import boxcox\\n\\nfrom scipy.stats import jarque_bera\\nfrom scipy.stats import normaltest\\n\\nwarnings.filterwarnings(\\\"ignore\\\")\\nsns.set(style=\\\"whitegrid\\\")\\n\\npostgres_user = \\\"dsbc_student\\\"\\npostgres_pw = \\\"7*.8G9QH21\\\"\\npostgres_host = \\\"142.93.121.174\\\"\\npostgres_port = \\\"5432\\\"\\npostgres_db = \\\"studentsperformance\\\"\\n\\nengine = create_engine(\\n    \\\"postgresql://{}:{}@{}:{}/{}\\\".format(\\n        postgres_user, postgres_pw, postgres_host, postgres_port, postgres_db\\n    )\\n)\\n\\neducation_df = pd.read_sql_query(\\\"select * from studentsperformance\\\", con=engine)\\nengine.dispose()\";\n",
       "                var nbb_formatted_code = \"%reload_ext nb_black\\n\\nimport pandas as pd\\nimport matplotlib.pyplot as plt\\nimport seaborn as sns\\nfrom sqlalchemy import create_engine\\nfrom scipy.stats.stats import ttest_ind\\nimport warnings\\n\\nfrom scipy.stats import boxcox\\n\\nfrom scipy.stats import jarque_bera\\nfrom scipy.stats import normaltest\\n\\nwarnings.filterwarnings(\\\"ignore\\\")\\nsns.set(style=\\\"whitegrid\\\")\\n\\npostgres_user = \\\"dsbc_student\\\"\\npostgres_pw = \\\"7*.8G9QH21\\\"\\npostgres_host = \\\"142.93.121.174\\\"\\npostgres_port = \\\"5432\\\"\\npostgres_db = \\\"studentsperformance\\\"\\n\\nengine = create_engine(\\n    \\\"postgresql://{}:{}@{}:{}/{}\\\".format(\\n        postgres_user, postgres_pw, postgres_host, postgres_port, postgres_db\\n    )\\n)\\n\\neducation_df = pd.read_sql_query(\\\"select * from studentsperformance\\\", con=engine)\\nengine.dispose()\";\n",
       "                var nbb_cells = Jupyter.notebook.get_cells();\n",
       "                for (var i = 0; i < nbb_cells.length; ++i) {\n",
       "                    if (nbb_cells[i].input_prompt_number == nbb_cell_id) {\n",
       "                        if (nbb_cells[i].get_text() == nbb_unformatted_code) {\n",
       "                             nbb_cells[i].set_text(nbb_formatted_code);\n",
       "                        }\n",
       "                        break;\n",
       "                    }\n",
       "                }\n",
       "            }, 500);\n",
       "            "
      ],
      "text/plain": [
       "<IPython.core.display.Javascript object>"
      ]
     },
     "metadata": {},
     "output_type": "display_data"
    },
    {
     "data": {
      "application/javascript": [
       "\n",
       "            setTimeout(function() {\n",
       "                var nbb_cell_id = 15;\n",
       "                var nbb_unformatted_code = \"%reload_ext nb_black\\n\\nimport pandas as pd\\nimport matplotlib.pyplot as plt\\nimport seaborn as sns\\nfrom sqlalchemy import create_engine\\nfrom scipy.stats.stats import ttest_ind\\nimport warnings\\n\\nfrom scipy.stats import boxcox\\n\\nfrom scipy.stats import jarque_bera\\nfrom scipy.stats import normaltest\\n\\nwarnings.filterwarnings(\\\"ignore\\\")\\nsns.set(style=\\\"whitegrid\\\")\\n\\npostgres_user = \\\"dsbc_student\\\"\\npostgres_pw = \\\"7*.8G9QH21\\\"\\npostgres_host = \\\"142.93.121.174\\\"\\npostgres_port = \\\"5432\\\"\\npostgres_db = \\\"studentsperformance\\\"\\n\\nengine = create_engine(\\n    \\\"postgresql://{}:{}@{}:{}/{}\\\".format(\\n        postgres_user, postgres_pw, postgres_host, postgres_port, postgres_db\\n    )\\n)\\n\\neducation_df = pd.read_sql_query(\\\"select * from studentsperformance\\\", con=engine)\\nengine.dispose()\";\n",
       "                var nbb_formatted_code = \"%reload_ext nb_black\\n\\nimport pandas as pd\\nimport matplotlib.pyplot as plt\\nimport seaborn as sns\\nfrom sqlalchemy import create_engine\\nfrom scipy.stats.stats import ttest_ind\\nimport warnings\\n\\nfrom scipy.stats import boxcox\\n\\nfrom scipy.stats import jarque_bera\\nfrom scipy.stats import normaltest\\n\\nwarnings.filterwarnings(\\\"ignore\\\")\\nsns.set(style=\\\"whitegrid\\\")\\n\\npostgres_user = \\\"dsbc_student\\\"\\npostgres_pw = \\\"7*.8G9QH21\\\"\\npostgres_host = \\\"142.93.121.174\\\"\\npostgres_port = \\\"5432\\\"\\npostgres_db = \\\"studentsperformance\\\"\\n\\nengine = create_engine(\\n    \\\"postgresql://{}:{}@{}:{}/{}\\\".format(\\n        postgres_user, postgres_pw, postgres_host, postgres_port, postgres_db\\n    )\\n)\\n\\neducation_df = pd.read_sql_query(\\\"select * from studentsperformance\\\", con=engine)\\nengine.dispose()\";\n",
       "                var nbb_cells = Jupyter.notebook.get_cells();\n",
       "                for (var i = 0; i < nbb_cells.length; ++i) {\n",
       "                    if (nbb_cells[i].input_prompt_number == nbb_cell_id) {\n",
       "                        if (nbb_cells[i].get_text() == nbb_unformatted_code) {\n",
       "                             nbb_cells[i].set_text(nbb_formatted_code);\n",
       "                        }\n",
       "                        break;\n",
       "                    }\n",
       "                }\n",
       "            }, 500);\n",
       "            "
      ],
      "text/plain": [
       "<IPython.core.display.Javascript object>"
      ]
     },
     "metadata": {},
     "output_type": "display_data"
    },
    {
     "data": {
      "application/javascript": [
       "\n",
       "            setTimeout(function() {\n",
       "                var nbb_cell_id = 15;\n",
       "                var nbb_unformatted_code = \"%reload_ext nb_black\\n\\nimport pandas as pd\\nimport matplotlib.pyplot as plt\\nimport seaborn as sns\\nfrom sqlalchemy import create_engine\\nfrom scipy.stats.stats import ttest_ind\\nimport warnings\\n\\nfrom scipy.stats import boxcox\\n\\nfrom scipy.stats import jarque_bera\\nfrom scipy.stats import normaltest\\n\\nwarnings.filterwarnings(\\\"ignore\\\")\\nsns.set(style=\\\"whitegrid\\\")\\n\\npostgres_user = \\\"dsbc_student\\\"\\npostgres_pw = \\\"7*.8G9QH21\\\"\\npostgres_host = \\\"142.93.121.174\\\"\\npostgres_port = \\\"5432\\\"\\npostgres_db = \\\"studentsperformance\\\"\\n\\nengine = create_engine(\\n    \\\"postgresql://{}:{}@{}:{}/{}\\\".format(\\n        postgres_user, postgres_pw, postgres_host, postgres_port, postgres_db\\n    )\\n)\\n\\neducation_df = pd.read_sql_query(\\\"select * from studentsperformance\\\", con=engine)\\nengine.dispose()\";\n",
       "                var nbb_formatted_code = \"%reload_ext nb_black\\n\\nimport pandas as pd\\nimport matplotlib.pyplot as plt\\nimport seaborn as sns\\nfrom sqlalchemy import create_engine\\nfrom scipy.stats.stats import ttest_ind\\nimport warnings\\n\\nfrom scipy.stats import boxcox\\n\\nfrom scipy.stats import jarque_bera\\nfrom scipy.stats import normaltest\\n\\nwarnings.filterwarnings(\\\"ignore\\\")\\nsns.set(style=\\\"whitegrid\\\")\\n\\npostgres_user = \\\"dsbc_student\\\"\\npostgres_pw = \\\"7*.8G9QH21\\\"\\npostgres_host = \\\"142.93.121.174\\\"\\npostgres_port = \\\"5432\\\"\\npostgres_db = \\\"studentsperformance\\\"\\n\\nengine = create_engine(\\n    \\\"postgresql://{}:{}@{}:{}/{}\\\".format(\\n        postgres_user, postgres_pw, postgres_host, postgres_port, postgres_db\\n    )\\n)\\n\\neducation_df = pd.read_sql_query(\\\"select * from studentsperformance\\\", con=engine)\\nengine.dispose()\";\n",
       "                var nbb_cells = Jupyter.notebook.get_cells();\n",
       "                for (var i = 0; i < nbb_cells.length; ++i) {\n",
       "                    if (nbb_cells[i].input_prompt_number == nbb_cell_id) {\n",
       "                        if (nbb_cells[i].get_text() == nbb_unformatted_code) {\n",
       "                             nbb_cells[i].set_text(nbb_formatted_code);\n",
       "                        }\n",
       "                        break;\n",
       "                    }\n",
       "                }\n",
       "            }, 500);\n",
       "            "
      ],
      "text/plain": [
       "<IPython.core.display.Javascript object>"
      ]
     },
     "metadata": {},
     "output_type": "display_data"
    }
   ],
   "source": [
    "%reload_ext nb_black\n",
    "\n",
    "import pandas as pd\n",
    "import matplotlib.pyplot as plt\n",
    "import seaborn as sns\n",
    "from sqlalchemy import create_engine\n",
    "from scipy.stats.stats import ttest_ind\n",
    "import warnings\n",
    "\n",
    "from scipy.stats import boxcox\n",
    "\n",
    "from scipy.stats import jarque_bera\n",
    "from scipy.stats import normaltest\n",
    "\n",
    "warnings.filterwarnings(\"ignore\")\n",
    "sns.set(style=\"whitegrid\")\n",
    "\n",
    "postgres_user = \"dsbc_student\"\n",
    "postgres_pw = \"7*.8G9QH21\"\n",
    "postgres_host = \"142.93.121.174\"\n",
    "postgres_port = \"5432\"\n",
    "postgres_db = \"studentsperformance\"\n",
    "\n",
    "engine = create_engine(\n",
    "    \"postgresql://{}:{}@{}:{}/{}\".format(\n",
    "        postgres_user, postgres_pw, postgres_host, postgres_port, postgres_db\n",
    "    )\n",
    ")\n",
    "\n",
    "education_df = pd.read_sql_query(\"select * from studentsperformance\", con=engine)\n",
    "engine.dispose()"
   ]
  },
  {
   "cell_type": "code",
   "execution_count": 5,
   "metadata": {},
   "outputs": [
    {
     "data": {
      "text/html": [
       "<div>\n",
       "<style scoped>\n",
       "    .dataframe tbody tr th:only-of-type {\n",
       "        vertical-align: middle;\n",
       "    }\n",
       "\n",
       "    .dataframe tbody tr th {\n",
       "        vertical-align: top;\n",
       "    }\n",
       "\n",
       "    .dataframe thead th {\n",
       "        text-align: right;\n",
       "    }\n",
       "</style>\n",
       "<table border=\"1\" class=\"dataframe\">\n",
       "  <thead>\n",
       "    <tr style=\"text-align: right;\">\n",
       "      <th></th>\n",
       "      <th>gender</th>\n",
       "      <th>race/ethnicity</th>\n",
       "      <th>parental level of education</th>\n",
       "      <th>lunch</th>\n",
       "      <th>test preparation course</th>\n",
       "      <th>math score</th>\n",
       "      <th>reading score</th>\n",
       "      <th>writing score</th>\n",
       "    </tr>\n",
       "  </thead>\n",
       "  <tbody>\n",
       "    <tr>\n",
       "      <th>0</th>\n",
       "      <td>female</td>\n",
       "      <td>group B</td>\n",
       "      <td>bachelor's degree</td>\n",
       "      <td>standard</td>\n",
       "      <td>none</td>\n",
       "      <td>72</td>\n",
       "      <td>72</td>\n",
       "      <td>74</td>\n",
       "    </tr>\n",
       "    <tr>\n",
       "      <th>1</th>\n",
       "      <td>female</td>\n",
       "      <td>group C</td>\n",
       "      <td>some college</td>\n",
       "      <td>standard</td>\n",
       "      <td>completed</td>\n",
       "      <td>69</td>\n",
       "      <td>90</td>\n",
       "      <td>88</td>\n",
       "    </tr>\n",
       "    <tr>\n",
       "      <th>2</th>\n",
       "      <td>female</td>\n",
       "      <td>group B</td>\n",
       "      <td>master's degree</td>\n",
       "      <td>standard</td>\n",
       "      <td>none</td>\n",
       "      <td>90</td>\n",
       "      <td>95</td>\n",
       "      <td>93</td>\n",
       "    </tr>\n",
       "    <tr>\n",
       "      <th>3</th>\n",
       "      <td>male</td>\n",
       "      <td>group A</td>\n",
       "      <td>associate's degree</td>\n",
       "      <td>free/reduced</td>\n",
       "      <td>none</td>\n",
       "      <td>47</td>\n",
       "      <td>57</td>\n",
       "      <td>44</td>\n",
       "    </tr>\n",
       "    <tr>\n",
       "      <th>4</th>\n",
       "      <td>male</td>\n",
       "      <td>group C</td>\n",
       "      <td>some college</td>\n",
       "      <td>standard</td>\n",
       "      <td>none</td>\n",
       "      <td>76</td>\n",
       "      <td>78</td>\n",
       "      <td>75</td>\n",
       "    </tr>\n",
       "  </tbody>\n",
       "</table>\n",
       "</div>"
      ],
      "text/plain": [
       "   gender race/ethnicity parental level of education         lunch  \\\n",
       "0  female        group B           bachelor's degree      standard   \n",
       "1  female        group C                some college      standard   \n",
       "2  female        group B             master's degree      standard   \n",
       "3    male        group A          associate's degree  free/reduced   \n",
       "4    male        group C                some college      standard   \n",
       "\n",
       "  test preparation course  math score  reading score  writing score  \n",
       "0                    none          72             72             74  \n",
       "1               completed          69             90             88  \n",
       "2                    none          90             95             93  \n",
       "3                    none          47             57             44  \n",
       "4                    none          76             78             75  "
      ]
     },
     "execution_count": 5,
     "metadata": {},
     "output_type": "execute_result"
    },
    {
     "data": {
      "application/javascript": [
       "\n",
       "            setTimeout(function() {\n",
       "                var nbb_cell_id = 5;\n",
       "                var nbb_unformatted_code = \"education_df.head()\";\n",
       "                var nbb_formatted_code = \"education_df.head()\";\n",
       "                var nbb_cells = Jupyter.notebook.get_cells();\n",
       "                for (var i = 0; i < nbb_cells.length; ++i) {\n",
       "                    if (nbb_cells[i].input_prompt_number == nbb_cell_id) {\n",
       "                        if (nbb_cells[i].get_text() == nbb_unformatted_code) {\n",
       "                             nbb_cells[i].set_text(nbb_formatted_code);\n",
       "                        }\n",
       "                        break;\n",
       "                    }\n",
       "                }\n",
       "            }, 500);\n",
       "            "
      ],
      "text/plain": [
       "<IPython.core.display.Javascript object>"
      ]
     },
     "metadata": {},
     "output_type": "display_data"
    },
    {
     "data": {
      "application/javascript": [
       "\n",
       "            setTimeout(function() {\n",
       "                var nbb_cell_id = 5;\n",
       "                var nbb_unformatted_code = \"education_df.head()\";\n",
       "                var nbb_formatted_code = \"education_df.head()\";\n",
       "                var nbb_cells = Jupyter.notebook.get_cells();\n",
       "                for (var i = 0; i < nbb_cells.length; ++i) {\n",
       "                    if (nbb_cells[i].input_prompt_number == nbb_cell_id) {\n",
       "                        if (nbb_cells[i].get_text() == nbb_unformatted_code) {\n",
       "                             nbb_cells[i].set_text(nbb_formatted_code);\n",
       "                        }\n",
       "                        break;\n",
       "                    }\n",
       "                }\n",
       "            }, 500);\n",
       "            "
      ],
      "text/plain": [
       "<IPython.core.display.Javascript object>"
      ]
     },
     "metadata": {},
     "output_type": "display_data"
    },
    {
     "data": {
      "application/javascript": [
       "\n",
       "            setTimeout(function() {\n",
       "                var nbb_cell_id = 5;\n",
       "                var nbb_unformatted_code = \"education_df.head()\";\n",
       "                var nbb_formatted_code = \"education_df.head()\";\n",
       "                var nbb_cells = Jupyter.notebook.get_cells();\n",
       "                for (var i = 0; i < nbb_cells.length; ++i) {\n",
       "                    if (nbb_cells[i].input_prompt_number == nbb_cell_id) {\n",
       "                        if (nbb_cells[i].get_text() == nbb_unformatted_code) {\n",
       "                             nbb_cells[i].set_text(nbb_formatted_code);\n",
       "                        }\n",
       "                        break;\n",
       "                    }\n",
       "                }\n",
       "            }, 500);\n",
       "            "
      ],
      "text/plain": [
       "<IPython.core.display.Javascript object>"
      ]
     },
     "metadata": {},
     "output_type": "display_data"
    },
    {
     "data": {
      "application/javascript": [
       "\n",
       "            setTimeout(function() {\n",
       "                var nbb_cell_id = 5;\n",
       "                var nbb_unformatted_code = \"education_df.head()\";\n",
       "                var nbb_formatted_code = \"education_df.head()\";\n",
       "                var nbb_cells = Jupyter.notebook.get_cells();\n",
       "                for (var i = 0; i < nbb_cells.length; ++i) {\n",
       "                    if (nbb_cells[i].input_prompt_number == nbb_cell_id) {\n",
       "                        if (nbb_cells[i].get_text() == nbb_unformatted_code) {\n",
       "                             nbb_cells[i].set_text(nbb_formatted_code);\n",
       "                        }\n",
       "                        break;\n",
       "                    }\n",
       "                }\n",
       "            }, 500);\n",
       "            "
      ],
      "text/plain": [
       "<IPython.core.display.Javascript object>"
      ]
     },
     "metadata": {},
     "output_type": "display_data"
    }
   ],
   "source": [
    "education_df.head()"
   ]
  },
  {
   "cell_type": "markdown",
   "metadata": {},
   "source": [
    "Are the exam score variables normally distributed? If not, apply a Box-Cox transformation. Does anything change?"
   ]
  },
  {
   "cell_type": "code",
   "execution_count": 6,
   "metadata": {
    "scrolled": true
   },
   "outputs": [
    {
     "data": {
      "image/png": "[encoded data removed]",
      "text/plain": [
       "<Figure size 432x288 with 3 Axes>"
      ]
     },
     "metadata": {},
     "output_type": "display_data"
    },
    {
     "data": {
      "application/javascript": [
       "\n",
       "            setTimeout(function() {\n",
       "                var nbb_cell_id = 6;\n",
       "                var nbb_unformatted_code = \"plt.subplot(1,3,1)\\nplt.hist(education_df['math score'])\\nplt.title(\\\"Math Score\\\")\\n\\nplt.subplot(1,3,2)\\nplt.hist(education_df['reading score'])\\nplt.title('Reading Score')\\n\\nplt.subplot(1,3,3)\\nplt.hist(education_df['writing score'])\\nplt.title('Writing Score')\\n\\nplt.show()\";\n",
       "                var nbb_formatted_code = \"plt.subplot(1, 3, 1)\\nplt.hist(education_df[\\\"math score\\\"])\\nplt.title(\\\"Math Score\\\")\\n\\nplt.subplot(1, 3, 2)\\nplt.hist(education_df[\\\"reading score\\\"])\\nplt.title(\\\"Reading Score\\\")\\n\\nplt.subplot(1, 3, 3)\\nplt.hist(education_df[\\\"writing score\\\"])\\nplt.title(\\\"Writing Score\\\")\\n\\nplt.show()\";\n",
       "                var nbb_cells = Jupyter.notebook.get_cells();\n",
       "                for (var i = 0; i < nbb_cells.length; ++i) {\n",
       "                    if (nbb_cells[i].input_prompt_number == nbb_cell_id) {\n",
       "                        if (nbb_cells[i].get_text() == nbb_unformatted_code) {\n",
       "                             nbb_cells[i].set_text(nbb_formatted_code);\n",
       "                        }\n",
       "                        break;\n",
       "                    }\n",
       "                }\n",
       "            }, 500);\n",
       "            "
      ],
      "text/plain": [
       "<IPython.core.display.Javascript object>"
      ]
     },
     "metadata": {},
     "output_type": "display_data"
    },
    {
     "data": {
      "application/javascript": [
       "\n",
       "            setTimeout(function() {\n",
       "                var nbb_cell_id = 6;\n",
       "                var nbb_unformatted_code = \"plt.subplot(1,3,1)\\nplt.hist(education_df['math score'])\\nplt.title(\\\"Math Score\\\")\\n\\nplt.subplot(1,3,2)\\nplt.hist(education_df['reading score'])\\nplt.title('Reading Score')\\n\\nplt.subplot(1,3,3)\\nplt.hist(education_df['writing score'])\\nplt.title('Writing Score')\\n\\nplt.show()\";\n",
       "                var nbb_formatted_code = \"plt.subplot(1, 3, 1)\\nplt.hist(education_df[\\\"math score\\\"])\\nplt.title(\\\"Math Score\\\")\\n\\nplt.subplot(1, 3, 2)\\nplt.hist(education_df[\\\"reading score\\\"])\\nplt.title(\\\"Reading Score\\\")\\n\\nplt.subplot(1, 3, 3)\\nplt.hist(education_df[\\\"writing score\\\"])\\nplt.title(\\\"Writing Score\\\")\\n\\nplt.show()\";\n",
       "                var nbb_cells = Jupyter.notebook.get_cells();\n",
       "                for (var i = 0; i < nbb_cells.length; ++i) {\n",
       "                    if (nbb_cells[i].input_prompt_number == nbb_cell_id) {\n",
       "                        if (nbb_cells[i].get_text() == nbb_unformatted_code) {\n",
       "                             nbb_cells[i].set_text(nbb_formatted_code);\n",
       "                        }\n",
       "                        break;\n",
       "                    }\n",
       "                }\n",
       "            }, 500);\n",
       "            "
      ],
      "text/plain": [
       "<IPython.core.display.Javascript object>"
      ]
     },
     "metadata": {},
     "output_type": "display_data"
    },
    {
     "data": {
      "application/javascript": [
       "\n",
       "            setTimeout(function() {\n",
       "                var nbb_cell_id = 6;\n",
       "                var nbb_unformatted_code = \"plt.subplot(1,3,1)\\nplt.hist(education_df['math score'])\\nplt.title(\\\"Math Score\\\")\\n\\nplt.subplot(1,3,2)\\nplt.hist(education_df['reading score'])\\nplt.title('Reading Score')\\n\\nplt.subplot(1,3,3)\\nplt.hist(education_df['writing score'])\\nplt.title('Writing Score')\\n\\nplt.show()\";\n",
       "                var nbb_formatted_code = \"plt.subplot(1, 3, 1)\\nplt.hist(education_df[\\\"math score\\\"])\\nplt.title(\\\"Math Score\\\")\\n\\nplt.subplot(1, 3, 2)\\nplt.hist(education_df[\\\"reading score\\\"])\\nplt.title(\\\"Reading Score\\\")\\n\\nplt.subplot(1, 3, 3)\\nplt.hist(education_df[\\\"writing score\\\"])\\nplt.title(\\\"Writing Score\\\")\\n\\nplt.show()\";\n",
       "                var nbb_cells = Jupyter.notebook.get_cells();\n",
       "                for (var i = 0; i < nbb_cells.length; ++i) {\n",
       "                    if (nbb_cells[i].input_prompt_number == nbb_cell_id) {\n",
       "                        if (nbb_cells[i].get_text() == nbb_unformatted_code) {\n",
       "                             nbb_cells[i].set_text(nbb_formatted_code);\n",
       "                        }\n",
       "                        break;\n",
       "                    }\n",
       "                }\n",
       "            }, 500);\n",
       "            "
      ],
      "text/plain": [
       "<IPython.core.display.Javascript object>"
      ]
     },
     "metadata": {},
     "output_type": "display_data"
    },
    {
     "data": {
      "application/javascript": [
       "\n",
       "            setTimeout(function() {\n",
       "                var nbb_cell_id = 6;\n",
       "                var nbb_unformatted_code = \"plt.subplot(1,3,1)\\nplt.hist(education_df['math score'])\\nplt.title(\\\"Math Score\\\")\\n\\nplt.subplot(1,3,2)\\nplt.hist(education_df['reading score'])\\nplt.title('Reading Score')\\n\\nplt.subplot(1,3,3)\\nplt.hist(education_df['writing score'])\\nplt.title('Writing Score')\\n\\nplt.show()\";\n",
       "                var nbb_formatted_code = \"plt.subplot(1, 3, 1)\\nplt.hist(education_df[\\\"math score\\\"])\\nplt.title(\\\"Math Score\\\")\\n\\nplt.subplot(1, 3, 2)\\nplt.hist(education_df[\\\"reading score\\\"])\\nplt.title(\\\"Reading Score\\\")\\n\\nplt.subplot(1, 3, 3)\\nplt.hist(education_df[\\\"writing score\\\"])\\nplt.title(\\\"Writing Score\\\")\\n\\nplt.show()\";\n",
       "                var nbb_cells = Jupyter.notebook.get_cells();\n",
       "                for (var i = 0; i < nbb_cells.length; ++i) {\n",
       "                    if (nbb_cells[i].input_prompt_number == nbb_cell_id) {\n",
       "                        if (nbb_cells[i].get_text() == nbb_unformatted_code) {\n",
       "                             nbb_cells[i].set_text(nbb_formatted_code);\n",
       "                        }\n",
       "                        break;\n",
       "                    }\n",
       "                }\n",
       "            }, 500);\n",
       "            "
      ],
      "text/plain": [
       "<IPython.core.display.Javascript object>"
      ]
     },
     "metadata": {},
     "output_type": "display_data"
    }
   ],
   "source": [
    "# According to the histograms the data does not look like it is normally distributed\n",
    "plt.subplot(1, 3, 1)\n",
    "plt.hist(education_df[\"math score\"])\n",
    "plt.title(\"Math Score\")\n",
    "\n",
    "plt.subplot(1, 3, 2)\n",
    "plt.hist(education_df[\"reading score\"])\n",
    "plt.title(\"Reading Score\")\n",
    "\n",
    "plt.subplot(1, 3, 3)\n",
    "plt.hist(education_df[\"writing score\"])\n",
    "plt.title(\"Writing Score\")\n",
    "\n",
    "plt.show()"
   ]
  },
  {
   "cell_type": "code",
   "execution_count": 32,
   "metadata": {},
   "outputs": [
    {
     "data": {
      "image/png": "[encoded data removed]",
      "text/plain": [
       "<Figure size 1440x720 with 3 Axes>"
      ]
     },
     "metadata": {},
     "output_type": "display_data"
    },
    {
     "data": {
      "application/javascript": [
       "\n",
       "            setTimeout(function() {\n",
       "                var nbb_cell_id = 32;\n",
       "                var nbb_unformatted_code = \"math_boxcox, _ = boxcox(education_df[education_df[\\\"math score\\\"] > 0][\\\"math score\\\"])\\nreading_boxcox, _ = boxcox(\\n    education_df[education_df[\\\"reading score\\\"] > 0][\\\"reading score\\\"]\\n)\\nwriting_boxcox, _ = boxcox(\\n    education_df[education_df[\\\"writing score\\\"] > 0][\\\"writing score\\\"]\\n)\\nplt.figure(figsize=(20,10))\\n\\nplt.subplot(1, 3, 1)\\nplt.hist(math_boxcox)\\nplt.title(\\\"Math BoxCox Score\\\")\\n\\nplt.subplot(1, 3, 2)\\nplt.hist(reading_boxcox)\\nplt.title(\\\"Reading BoxCox Score\\\")\\n\\nplt.subplot(1, 3, 3)\\nplt.hist(writing_boxcox)\\nplt.title(\\\"Writing BoxCox Score\\\")\\n\\nplt.show()\";\n",
       "                var nbb_formatted_code = \"math_boxcox, _ = boxcox(education_df[education_df[\\\"math score\\\"] > 0][\\\"math score\\\"])\\nreading_boxcox, _ = boxcox(\\n    education_df[education_df[\\\"reading score\\\"] > 0][\\\"reading score\\\"]\\n)\\nwriting_boxcox, _ = boxcox(\\n    education_df[education_df[\\\"writing score\\\"] > 0][\\\"writing score\\\"]\\n)\\nplt.figure(figsize=(20, 10))\\n\\nplt.subplot(1, 3, 1)\\nplt.hist(math_boxcox)\\nplt.title(\\\"Math BoxCox Score\\\")\\n\\nplt.subplot(1, 3, 2)\\nplt.hist(reading_boxcox)\\nplt.title(\\\"Reading BoxCox Score\\\")\\n\\nplt.subplot(1, 3, 3)\\nplt.hist(writing_boxcox)\\nplt.title(\\\"Writing BoxCox Score\\\")\\n\\nplt.show()\";\n",
       "                var nbb_cells = Jupyter.notebook.get_cells();\n",
       "                for (var i = 0; i < nbb_cells.length; ++i) {\n",
       "                    if (nbb_cells[i].input_prompt_number == nbb_cell_id) {\n",
       "                        if (nbb_cells[i].get_text() == nbb_unformatted_code) {\n",
       "                             nbb_cells[i].set_text(nbb_formatted_code);\n",
       "                        }\n",
       "                        break;\n",
       "                    }\n",
       "                }\n",
       "            }, 500);\n",
       "            "
      ],
      "text/plain": [
       "<IPython.core.display.Javascript object>"
      ]
     },
     "metadata": {},
     "output_type": "display_data"
    },
    {
     "data": {
      "application/javascript": [
       "\n",
       "            setTimeout(function() {\n",
       "                var nbb_cell_id = 32;\n",
       "                var nbb_unformatted_code = \"math_boxcox, _ = boxcox(education_df[education_df[\\\"math score\\\"] > 0][\\\"math score\\\"])\\nreading_boxcox, _ = boxcox(\\n    education_df[education_df[\\\"reading score\\\"] > 0][\\\"reading score\\\"]\\n)\\nwriting_boxcox, _ = boxcox(\\n    education_df[education_df[\\\"writing score\\\"] > 0][\\\"writing score\\\"]\\n)\\nplt.figure(figsize=(20,10))\\n\\nplt.subplot(1, 3, 1)\\nplt.hist(math_boxcox)\\nplt.title(\\\"Math BoxCox Score\\\")\\n\\nplt.subplot(1, 3, 2)\\nplt.hist(reading_boxcox)\\nplt.title(\\\"Reading BoxCox Score\\\")\\n\\nplt.subplot(1, 3, 3)\\nplt.hist(writing_boxcox)\\nplt.title(\\\"Writing BoxCox Score\\\")\\n\\nplt.show()\";\n",
       "                var nbb_formatted_code = \"math_boxcox, _ = boxcox(education_df[education_df[\\\"math score\\\"] > 0][\\\"math score\\\"])\\nreading_boxcox, _ = boxcox(\\n    education_df[education_df[\\\"reading score\\\"] > 0][\\\"reading score\\\"]\\n)\\nwriting_boxcox, _ = boxcox(\\n    education_df[education_df[\\\"writing score\\\"] > 0][\\\"writing score\\\"]\\n)\\nplt.figure(figsize=(20, 10))\\n\\nplt.subplot(1, 3, 1)\\nplt.hist(math_boxcox)\\nplt.title(\\\"Math BoxCox Score\\\")\\n\\nplt.subplot(1, 3, 2)\\nplt.hist(reading_boxcox)\\nplt.title(\\\"Reading BoxCox Score\\\")\\n\\nplt.subplot(1, 3, 3)\\nplt.hist(writing_boxcox)\\nplt.title(\\\"Writing BoxCox Score\\\")\\n\\nplt.show()\";\n",
       "                var nbb_cells = Jupyter.notebook.get_cells();\n",
       "                for (var i = 0; i < nbb_cells.length; ++i) {\n",
       "                    if (nbb_cells[i].input_prompt_number == nbb_cell_id) {\n",
       "                        if (nbb_cells[i].get_text() == nbb_unformatted_code) {\n",
       "                             nbb_cells[i].set_text(nbb_formatted_code);\n",
       "                        }\n",
       "                        break;\n",
       "                    }\n",
       "                }\n",
       "            }, 500);\n",
       "            "
      ],
      "text/plain": [
       "<IPython.core.display.Javascript object>"
      ]
     },
     "metadata": {},
     "output_type": "display_data"
    },
    {
     "data": {
      "application/javascript": [
       "\n",
       "            setTimeout(function() {\n",
       "                var nbb_cell_id = 32;\n",
       "                var nbb_unformatted_code = \"math_boxcox, _ = boxcox(education_df[education_df[\\\"math score\\\"] > 0][\\\"math score\\\"])\\nreading_boxcox, _ = boxcox(\\n    education_df[education_df[\\\"reading score\\\"] > 0][\\\"reading score\\\"]\\n)\\nwriting_boxcox, _ = boxcox(\\n    education_df[education_df[\\\"writing score\\\"] > 0][\\\"writing score\\\"]\\n)\\nplt.figure(figsize=(20,10))\\n\\nplt.subplot(1, 3, 1)\\nplt.hist(math_boxcox)\\nplt.title(\\\"Math BoxCox Score\\\")\\n\\nplt.subplot(1, 3, 2)\\nplt.hist(reading_boxcox)\\nplt.title(\\\"Reading BoxCox Score\\\")\\n\\nplt.subplot(1, 3, 3)\\nplt.hist(writing_boxcox)\\nplt.title(\\\"Writing BoxCox Score\\\")\\n\\nplt.show()\";\n",
       "                var nbb_formatted_code = \"math_boxcox, _ = boxcox(education_df[education_df[\\\"math score\\\"] > 0][\\\"math score\\\"])\\nreading_boxcox, _ = boxcox(\\n    education_df[education_df[\\\"reading score\\\"] > 0][\\\"reading score\\\"]\\n)\\nwriting_boxcox, _ = boxcox(\\n    education_df[education_df[\\\"writing score\\\"] > 0][\\\"writing score\\\"]\\n)\\nplt.figure(figsize=(20, 10))\\n\\nplt.subplot(1, 3, 1)\\nplt.hist(math_boxcox)\\nplt.title(\\\"Math BoxCox Score\\\")\\n\\nplt.subplot(1, 3, 2)\\nplt.hist(reading_boxcox)\\nplt.title(\\\"Reading BoxCox Score\\\")\\n\\nplt.subplot(1, 3, 3)\\nplt.hist(writing_boxcox)\\nplt.title(\\\"Writing BoxCox Score\\\")\\n\\nplt.show()\";\n",
       "                var nbb_cells = Jupyter.notebook.get_cells();\n",
       "                for (var i = 0; i < nbb_cells.length; ++i) {\n",
       "                    if (nbb_cells[i].input_prompt_number == nbb_cell_id) {\n",
       "                        if (nbb_cells[i].get_text() == nbb_unformatted_code) {\n",
       "                             nbb_cells[i].set_text(nbb_formatted_code);\n",
       "                        }\n",
       "                        break;\n",
       "                    }\n",
       "                }\n",
       "            }, 500);\n",
       "            "
      ],
      "text/plain": [
       "<IPython.core.display.Javascript object>"
      ]
     },
     "metadata": {},
     "output_type": "display_data"
    },
    {
     "data": {
      "application/javascript": [
       "\n",
       "            setTimeout(function() {\n",
       "                var nbb_cell_id = 32;\n",
       "                var nbb_unformatted_code = \"math_boxcox, _ = boxcox(education_df[education_df[\\\"math score\\\"] > 0][\\\"math score\\\"])\\nreading_boxcox, _ = boxcox(\\n    education_df[education_df[\\\"reading score\\\"] > 0][\\\"reading score\\\"]\\n)\\nwriting_boxcox, _ = boxcox(\\n    education_df[education_df[\\\"writing score\\\"] > 0][\\\"writing score\\\"]\\n)\\nplt.figure(figsize=(20,10))\\n\\nplt.subplot(1, 3, 1)\\nplt.hist(math_boxcox)\\nplt.title(\\\"Math BoxCox Score\\\")\\n\\nplt.subplot(1, 3, 2)\\nplt.hist(reading_boxcox)\\nplt.title(\\\"Reading BoxCox Score\\\")\\n\\nplt.subplot(1, 3, 3)\\nplt.hist(writing_boxcox)\\nplt.title(\\\"Writing BoxCox Score\\\")\\n\\nplt.show()\";\n",
       "                var nbb_formatted_code = \"math_boxcox, _ = boxcox(education_df[education_df[\\\"math score\\\"] > 0][\\\"math score\\\"])\\nreading_boxcox, _ = boxcox(\\n    education_df[education_df[\\\"reading score\\\"] > 0][\\\"reading score\\\"]\\n)\\nwriting_boxcox, _ = boxcox(\\n    education_df[education_df[\\\"writing score\\\"] > 0][\\\"writing score\\\"]\\n)\\nplt.figure(figsize=(20, 10))\\n\\nplt.subplot(1, 3, 1)\\nplt.hist(math_boxcox)\\nplt.title(\\\"Math BoxCox Score\\\")\\n\\nplt.subplot(1, 3, 2)\\nplt.hist(reading_boxcox)\\nplt.title(\\\"Reading BoxCox Score\\\")\\n\\nplt.subplot(1, 3, 3)\\nplt.hist(writing_boxcox)\\nplt.title(\\\"Writing BoxCox Score\\\")\\n\\nplt.show()\";\n",
       "                var nbb_cells = Jupyter.notebook.get_cells();\n",
       "                for (var i = 0; i < nbb_cells.length; ++i) {\n",
       "                    if (nbb_cells[i].input_prompt_number == nbb_cell_id) {\n",
       "                        if (nbb_cells[i].get_text() == nbb_unformatted_code) {\n",
       "                             nbb_cells[i].set_text(nbb_formatted_code);\n",
       "                        }\n",
       "                        break;\n",
       "                    }\n",
       "                }\n",
       "            }, 500);\n",
       "            "
      ],
      "text/plain": [
       "<IPython.core.display.Javascript object>"
      ]
     },
     "metadata": {},
     "output_type": "display_data"
    },
    {
     "data": {
      "application/javascript": [
       "\n",
       "            setTimeout(function() {\n",
       "                var nbb_cell_id = 32;\n",
       "                var nbb_unformatted_code = \"math_boxcox, _ = boxcox(education_df[education_df[\\\"math score\\\"] > 0][\\\"math score\\\"])\\nreading_boxcox, _ = boxcox(\\n    education_df[education_df[\\\"reading score\\\"] > 0][\\\"reading score\\\"]\\n)\\nwriting_boxcox, _ = boxcox(\\n    education_df[education_df[\\\"writing score\\\"] > 0][\\\"writing score\\\"]\\n)\\nplt.figure(figsize=(20,10))\\n\\nplt.subplot(1, 3, 1)\\nplt.hist(math_boxcox)\\nplt.title(\\\"Math BoxCox Score\\\")\\n\\nplt.subplot(1, 3, 2)\\nplt.hist(reading_boxcox)\\nplt.title(\\\"Reading BoxCox Score\\\")\\n\\nplt.subplot(1, 3, 3)\\nplt.hist(writing_boxcox)\\nplt.title(\\\"Writing BoxCox Score\\\")\\n\\nplt.show()\";\n",
       "                var nbb_formatted_code = \"math_boxcox, _ = boxcox(education_df[education_df[\\\"math score\\\"] > 0][\\\"math score\\\"])\\nreading_boxcox, _ = boxcox(\\n    education_df[education_df[\\\"reading score\\\"] > 0][\\\"reading score\\\"]\\n)\\nwriting_boxcox, _ = boxcox(\\n    education_df[education_df[\\\"writing score\\\"] > 0][\\\"writing score\\\"]\\n)\\nplt.figure(figsize=(20, 10))\\n\\nplt.subplot(1, 3, 1)\\nplt.hist(math_boxcox)\\nplt.title(\\\"Math BoxCox Score\\\")\\n\\nplt.subplot(1, 3, 2)\\nplt.hist(reading_boxcox)\\nplt.title(\\\"Reading BoxCox Score\\\")\\n\\nplt.subplot(1, 3, 3)\\nplt.hist(writing_boxcox)\\nplt.title(\\\"Writing BoxCox Score\\\")\\n\\nplt.show()\";\n",
       "                var nbb_cells = Jupyter.notebook.get_cells();\n",
       "                for (var i = 0; i < nbb_cells.length; ++i) {\n",
       "                    if (nbb_cells[i].input_prompt_number == nbb_cell_id) {\n",
       "                        if (nbb_cells[i].get_text() == nbb_unformatted_code) {\n",
       "                             nbb_cells[i].set_text(nbb_formatted_code);\n",
       "                        }\n",
       "                        break;\n",
       "                    }\n",
       "                }\n",
       "            }, 500);\n",
       "            "
      ],
      "text/plain": [
       "<IPython.core.display.Javascript object>"
      ]
     },
     "metadata": {},
     "output_type": "display_data"
    }
   ],
   "source": [
    "math_boxcox, _ = boxcox(education_df[education_df[\"math score\"] > 0][\"math score\"])\n",
    "reading_boxcox, _ = boxcox(\n",
    "    education_df[education_df[\"reading score\"] > 0][\"reading score\"]\n",
    ")\n",
    "writing_boxcox, _ = boxcox(\n",
    "    education_df[education_df[\"writing score\"] > 0][\"writing score\"]\n",
    ")\n",
    "plt.figure(figsize=(20, 10))\n",
    "\n",
    "plt.subplot(1, 3, 1)\n",
    "plt.hist(math_boxcox)\n",
    "plt.title(\"Math BoxCox Score\")\n",
    "\n",
    "plt.subplot(1, 3, 2)\n",
    "plt.hist(reading_boxcox)\n",
    "plt.title(\"Reading BoxCox Score\")\n",
    "\n",
    "plt.subplot(1, 3, 3)\n",
    "plt.hist(writing_boxcox)\n",
    "plt.title(\"Writing BoxCox Score\")\n",
    "\n",
    "plt.show()"
   ]
  },
  {
   "cell_type": "code",
   "execution_count": 20,
   "metadata": {},
   "outputs": [
    {
     "name": "stdout",
     "output_type": "stream",
     "text": [
      "Jarque-Bera test statistics is 15.912256686712709 and p value is 0.0003505075386818213\n",
      "Normality test statistics is 15.408960513931822 and p value is 0.00045080293869937836\n",
      "Jarque-Bera test statistics is 11.383300575987892 and p value is 0.0033740202672214448\n",
      "Normality test statistics is 11.11741279628622 and p value is 0.003853758403576582\n",
      "Jarque-Bera test statistics is 13.98509448257235 and p value is 0.0009187033894586527\n",
      "Normality test statistics is 13.606450837263859 and p value is 0.0011101885439899974\n"
     ]
    },
    {
     "data": {
      "application/javascript": [
       "\n",
       "            setTimeout(function() {\n",
       "                var nbb_cell_id = 20;\n",
       "                var nbb_unformatted_code = \"jb_math_stats = jarque_bera(education_df[\\\"math score\\\"])\\nnorm_math_stats = normaltest(education_df[\\\"math score\\\"])\\nprint(\\n    \\\"Jarque-Bera test statistics is {0} and p value is {1}\\\".format(\\n        jb_math_stats[0], jb_math_stats[1]\\n    )\\n)\\nprint(\\n    \\\"Normality test statistics is {0} and p value is {1}\\\".format(\\n        norm_math_stats[0], norm_math_stats[1]\\n    )\\n)\\njb_reading_stats = jarque_bera(education_df[\\\"reading score\\\"])\\nnorm_reading_stats = normaltest(education_df[\\\"reading score\\\"])\\nprint(\\n    \\\"Jarque-Bera test statistics is {0} and p value is {1}\\\".format(\\n        jb_reading_stats[0], jb_reading_stats[1]\\n    )\\n)\\nprint(\\n    \\\"Normality test statistics is {0} and p value is {1}\\\".format(\\n        norm_reading_stats[0], norm_reading_stats[1]\\n    )\\n)\\njb_writing_stats = jarque_bera(education_df[\\\"writing score\\\"])\\nnorm_writing_stats = normaltest(education_df[\\\"writing score\\\"])\\nprint(\\n    \\\"Jarque-Bera test statistics is {0} and p value is {1}\\\".format(\\n        jb_writing_stats[0], jb_writing_stats[1]\\n    )\\n)\\nprint(\\n    \\\"Normality test statistics is {0} and p value is {1}\\\".format(\\n        norm_writing_stats[0], norm_writing_stats[1]\\n    )\\n)\";\n",
       "                var nbb_formatted_code = \"jb_math_stats = jarque_bera(education_df[\\\"math score\\\"])\\nnorm_math_stats = normaltest(education_df[\\\"math score\\\"])\\nprint(\\n    \\\"Jarque-Bera test statistics is {0} and p value is {1}\\\".format(\\n        jb_math_stats[0], jb_math_stats[1]\\n    )\\n)\\nprint(\\n    \\\"Normality test statistics is {0} and p value is {1}\\\".format(\\n        norm_math_stats[0], norm_math_stats[1]\\n    )\\n)\\njb_reading_stats = jarque_bera(education_df[\\\"reading score\\\"])\\nnorm_reading_stats = normaltest(education_df[\\\"reading score\\\"])\\nprint(\\n    \\\"Jarque-Bera test statistics is {0} and p value is {1}\\\".format(\\n        jb_reading_stats[0], jb_reading_stats[1]\\n    )\\n)\\nprint(\\n    \\\"Normality test statistics is {0} and p value is {1}\\\".format(\\n        norm_reading_stats[0], norm_reading_stats[1]\\n    )\\n)\\njb_writing_stats = jarque_bera(education_df[\\\"writing score\\\"])\\nnorm_writing_stats = normaltest(education_df[\\\"writing score\\\"])\\nprint(\\n    \\\"Jarque-Bera test statistics is {0} and p value is {1}\\\".format(\\n        jb_writing_stats[0], jb_writing_stats[1]\\n    )\\n)\\nprint(\\n    \\\"Normality test statistics is {0} and p value is {1}\\\".format(\\n        norm_writing_stats[0], norm_writing_stats[1]\\n    )\\n)\";\n",
       "                var nbb_cells = Jupyter.notebook.get_cells();\n",
       "                for (var i = 0; i < nbb_cells.length; ++i) {\n",
       "                    if (nbb_cells[i].input_prompt_number == nbb_cell_id) {\n",
       "                        if (nbb_cells[i].get_text() == nbb_unformatted_code) {\n",
       "                             nbb_cells[i].set_text(nbb_formatted_code);\n",
       "                        }\n",
       "                        break;\n",
       "                    }\n",
       "                }\n",
       "            }, 500);\n",
       "            "
      ],
      "text/plain": [
       "<IPython.core.display.Javascript object>"
      ]
     },
     "metadata": {},
     "output_type": "display_data"
    },
    {
     "data": {
      "application/javascript": [
       "\n",
       "            setTimeout(function() {\n",
       "                var nbb_cell_id = 20;\n",
       "                var nbb_unformatted_code = \"jb_math_stats = jarque_bera(education_df[\\\"math score\\\"])\\nnorm_math_stats = normaltest(education_df[\\\"math score\\\"])\\nprint(\\n    \\\"Jarque-Bera test statistics is {0} and p value is {1}\\\".format(\\n        jb_math_stats[0], jb_math_stats[1]\\n    )\\n)\\nprint(\\n    \\\"Normality test statistics is {0} and p value is {1}\\\".format(\\n        norm_math_stats[0], norm_math_stats[1]\\n    )\\n)\\njb_reading_stats = jarque_bera(education_df[\\\"reading score\\\"])\\nnorm_reading_stats = normaltest(education_df[\\\"reading score\\\"])\\nprint(\\n    \\\"Jarque-Bera test statistics is {0} and p value is {1}\\\".format(\\n        jb_reading_stats[0], jb_reading_stats[1]\\n    )\\n)\\nprint(\\n    \\\"Normality test statistics is {0} and p value is {1}\\\".format(\\n        norm_reading_stats[0], norm_reading_stats[1]\\n    )\\n)\\njb_writing_stats = jarque_bera(education_df[\\\"writing score\\\"])\\nnorm_writing_stats = normaltest(education_df[\\\"writing score\\\"])\\nprint(\\n    \\\"Jarque-Bera test statistics is {0} and p value is {1}\\\".format(\\n        jb_writing_stats[0], jb_writing_stats[1]\\n    )\\n)\\nprint(\\n    \\\"Normality test statistics is {0} and p value is {1}\\\".format(\\n        norm_writing_stats[0], norm_writing_stats[1]\\n    )\\n)\";\n",
       "                var nbb_formatted_code = \"jb_math_stats = jarque_bera(education_df[\\\"math score\\\"])\\nnorm_math_stats = normaltest(education_df[\\\"math score\\\"])\\nprint(\\n    \\\"Jarque-Bera test statistics is {0} and p value is {1}\\\".format(\\n        jb_math_stats[0], jb_math_stats[1]\\n    )\\n)\\nprint(\\n    \\\"Normality test statistics is {0} and p value is {1}\\\".format(\\n        norm_math_stats[0], norm_math_stats[1]\\n    )\\n)\\njb_reading_stats = jarque_bera(education_df[\\\"reading score\\\"])\\nnorm_reading_stats = normaltest(education_df[\\\"reading score\\\"])\\nprint(\\n    \\\"Jarque-Bera test statistics is {0} and p value is {1}\\\".format(\\n        jb_reading_stats[0], jb_reading_stats[1]\\n    )\\n)\\nprint(\\n    \\\"Normality test statistics is {0} and p value is {1}\\\".format(\\n        norm_reading_stats[0], norm_reading_stats[1]\\n    )\\n)\\njb_writing_stats = jarque_bera(education_df[\\\"writing score\\\"])\\nnorm_writing_stats = normaltest(education_df[\\\"writing score\\\"])\\nprint(\\n    \\\"Jarque-Bera test statistics is {0} and p value is {1}\\\".format(\\n        jb_writing_stats[0], jb_writing_stats[1]\\n    )\\n)\\nprint(\\n    \\\"Normality test statistics is {0} and p value is {1}\\\".format(\\n        norm_writing_stats[0], norm_writing_stats[1]\\n    )\\n)\";\n",
       "                var nbb_cells = Jupyter.notebook.get_cells();\n",
       "                for (var i = 0; i < nbb_cells.length; ++i) {\n",
       "                    if (nbb_cells[i].input_prompt_number == nbb_cell_id) {\n",
       "                        if (nbb_cells[i].get_text() == nbb_unformatted_code) {\n",
       "                             nbb_cells[i].set_text(nbb_formatted_code);\n",
       "                        }\n",
       "                        break;\n",
       "                    }\n",
       "                }\n",
       "            }, 500);\n",
       "            "
      ],
      "text/plain": [
       "<IPython.core.display.Javascript object>"
      ]
     },
     "metadata": {},
     "output_type": "display_data"
    },
    {
     "data": {
      "application/javascript": [
       "\n",
       "            setTimeout(function() {\n",
       "                var nbb_cell_id = 20;\n",
       "                var nbb_unformatted_code = \"jb_math_stats = jarque_bera(education_df[\\\"math score\\\"])\\nnorm_math_stats = normaltest(education_df[\\\"math score\\\"])\\nprint(\\n    \\\"Jarque-Bera test statistics is {0} and p value is {1}\\\".format(\\n        jb_math_stats[0], jb_math_stats[1]\\n    )\\n)\\nprint(\\n    \\\"Normality test statistics is {0} and p value is {1}\\\".format(\\n        norm_math_stats[0], norm_math_stats[1]\\n    )\\n)\\njb_reading_stats = jarque_bera(education_df[\\\"reading score\\\"])\\nnorm_reading_stats = normaltest(education_df[\\\"reading score\\\"])\\nprint(\\n    \\\"Jarque-Bera test statistics is {0} and p value is {1}\\\".format(\\n        jb_reading_stats[0], jb_reading_stats[1]\\n    )\\n)\\nprint(\\n    \\\"Normality test statistics is {0} and p value is {1}\\\".format(\\n        norm_reading_stats[0], norm_reading_stats[1]\\n    )\\n)\\njb_writing_stats = jarque_bera(education_df[\\\"writing score\\\"])\\nnorm_writing_stats = normaltest(education_df[\\\"writing score\\\"])\\nprint(\\n    \\\"Jarque-Bera test statistics is {0} and p value is {1}\\\".format(\\n        jb_writing_stats[0], jb_writing_stats[1]\\n    )\\n)\\nprint(\\n    \\\"Normality test statistics is {0} and p value is {1}\\\".format(\\n        norm_writing_stats[0], norm_writing_stats[1]\\n    )\\n)\";\n",
       "                var nbb_formatted_code = \"jb_math_stats = jarque_bera(education_df[\\\"math score\\\"])\\nnorm_math_stats = normaltest(education_df[\\\"math score\\\"])\\nprint(\\n    \\\"Jarque-Bera test statistics is {0} and p value is {1}\\\".format(\\n        jb_math_stats[0], jb_math_stats[1]\\n    )\\n)\\nprint(\\n    \\\"Normality test statistics is {0} and p value is {1}\\\".format(\\n        norm_math_stats[0], norm_math_stats[1]\\n    )\\n)\\njb_reading_stats = jarque_bera(education_df[\\\"reading score\\\"])\\nnorm_reading_stats = normaltest(education_df[\\\"reading score\\\"])\\nprint(\\n    \\\"Jarque-Bera test statistics is {0} and p value is {1}\\\".format(\\n        jb_reading_stats[0], jb_reading_stats[1]\\n    )\\n)\\nprint(\\n    \\\"Normality test statistics is {0} and p value is {1}\\\".format(\\n        norm_reading_stats[0], norm_reading_stats[1]\\n    )\\n)\\njb_writing_stats = jarque_bera(education_df[\\\"writing score\\\"])\\nnorm_writing_stats = normaltest(education_df[\\\"writing score\\\"])\\nprint(\\n    \\\"Jarque-Bera test statistics is {0} and p value is {1}\\\".format(\\n        jb_writing_stats[0], jb_writing_stats[1]\\n    )\\n)\\nprint(\\n    \\\"Normality test statistics is {0} and p value is {1}\\\".format(\\n        norm_writing_stats[0], norm_writing_stats[1]\\n    )\\n)\";\n",
       "                var nbb_cells = Jupyter.notebook.get_cells();\n",
       "                for (var i = 0; i < nbb_cells.length; ++i) {\n",
       "                    if (nbb_cells[i].input_prompt_number == nbb_cell_id) {\n",
       "                        if (nbb_cells[i].get_text() == nbb_unformatted_code) {\n",
       "                             nbb_cells[i].set_text(nbb_formatted_code);\n",
       "                        }\n",
       "                        break;\n",
       "                    }\n",
       "                }\n",
       "            }, 500);\n",
       "            "
      ],
      "text/plain": [
       "<IPython.core.display.Javascript object>"
      ]
     },
     "metadata": {},
     "output_type": "display_data"
    },
    {
     "data": {
      "application/javascript": [
       "\n",
       "            setTimeout(function() {\n",
       "                var nbb_cell_id = 20;\n",
       "                var nbb_unformatted_code = \"jb_math_stats = jarque_bera(education_df[\\\"math score\\\"])\\nnorm_math_stats = normaltest(education_df[\\\"math score\\\"])\\nprint(\\n    \\\"Jarque-Bera test statistics is {0} and p value is {1}\\\".format(\\n        jb_math_stats[0], jb_math_stats[1]\\n    )\\n)\\nprint(\\n    \\\"Normality test statistics is {0} and p value is {1}\\\".format(\\n        norm_math_stats[0], norm_math_stats[1]\\n    )\\n)\\njb_reading_stats = jarque_bera(education_df[\\\"reading score\\\"])\\nnorm_reading_stats = normaltest(education_df[\\\"reading score\\\"])\\nprint(\\n    \\\"Jarque-Bera test statistics is {0} and p value is {1}\\\".format(\\n        jb_reading_stats[0], jb_reading_stats[1]\\n    )\\n)\\nprint(\\n    \\\"Normality test statistics is {0} and p value is {1}\\\".format(\\n        norm_reading_stats[0], norm_reading_stats[1]\\n    )\\n)\\njb_writing_stats = jarque_bera(education_df[\\\"writing score\\\"])\\nnorm_writing_stats = normaltest(education_df[\\\"writing score\\\"])\\nprint(\\n    \\\"Jarque-Bera test statistics is {0} and p value is {1}\\\".format(\\n        jb_writing_stats[0], jb_writing_stats[1]\\n    )\\n)\\nprint(\\n    \\\"Normality test statistics is {0} and p value is {1}\\\".format(\\n        norm_writing_stats[0], norm_writing_stats[1]\\n    )\\n)\";\n",
       "                var nbb_formatted_code = \"jb_math_stats = jarque_bera(education_df[\\\"math score\\\"])\\nnorm_math_stats = normaltest(education_df[\\\"math score\\\"])\\nprint(\\n    \\\"Jarque-Bera test statistics is {0} and p value is {1}\\\".format(\\n        jb_math_stats[0], jb_math_stats[1]\\n    )\\n)\\nprint(\\n    \\\"Normality test statistics is {0} and p value is {1}\\\".format(\\n        norm_math_stats[0], norm_math_stats[1]\\n    )\\n)\\njb_reading_stats = jarque_bera(education_df[\\\"reading score\\\"])\\nnorm_reading_stats = normaltest(education_df[\\\"reading score\\\"])\\nprint(\\n    \\\"Jarque-Bera test statistics is {0} and p value is {1}\\\".format(\\n        jb_reading_stats[0], jb_reading_stats[1]\\n    )\\n)\\nprint(\\n    \\\"Normality test statistics is {0} and p value is {1}\\\".format(\\n        norm_reading_stats[0], norm_reading_stats[1]\\n    )\\n)\\njb_writing_stats = jarque_bera(education_df[\\\"writing score\\\"])\\nnorm_writing_stats = normaltest(education_df[\\\"writing score\\\"])\\nprint(\\n    \\\"Jarque-Bera test statistics is {0} and p value is {1}\\\".format(\\n        jb_writing_stats[0], jb_writing_stats[1]\\n    )\\n)\\nprint(\\n    \\\"Normality test statistics is {0} and p value is {1}\\\".format(\\n        norm_writing_stats[0], norm_writing_stats[1]\\n    )\\n)\";\n",
       "                var nbb_cells = Jupyter.notebook.get_cells();\n",
       "                for (var i = 0; i < nbb_cells.length; ++i) {\n",
       "                    if (nbb_cells[i].input_prompt_number == nbb_cell_id) {\n",
       "                        if (nbb_cells[i].get_text() == nbb_unformatted_code) {\n",
       "                             nbb_cells[i].set_text(nbb_formatted_code);\n",
       "                        }\n",
       "                        break;\n",
       "                    }\n",
       "                }\n",
       "            }, 500);\n",
       "            "
      ],
      "text/plain": [
       "<IPython.core.display.Javascript object>"
      ]
     },
     "metadata": {},
     "output_type": "display_data"
    },
    {
     "data": {
      "application/javascript": [
       "\n",
       "            setTimeout(function() {\n",
       "                var nbb_cell_id = 20;\n",
       "                var nbb_unformatted_code = \"jb_math_stats = jarque_bera(education_df[\\\"math score\\\"])\\nnorm_math_stats = normaltest(education_df[\\\"math score\\\"])\\nprint(\\n    \\\"Jarque-Bera test statistics is {0} and p value is {1}\\\".format(\\n        jb_math_stats[0], jb_math_stats[1]\\n    )\\n)\\nprint(\\n    \\\"Normality test statistics is {0} and p value is {1}\\\".format(\\n        norm_math_stats[0], norm_math_stats[1]\\n    )\\n)\\njb_reading_stats = jarque_bera(education_df[\\\"reading score\\\"])\\nnorm_reading_stats = normaltest(education_df[\\\"reading score\\\"])\\nprint(\\n    \\\"Jarque-Bera test statistics is {0} and p value is {1}\\\".format(\\n        jb_reading_stats[0], jb_reading_stats[1]\\n    )\\n)\\nprint(\\n    \\\"Normality test statistics is {0} and p value is {1}\\\".format(\\n        norm_reading_stats[0], norm_reading_stats[1]\\n    )\\n)\\njb_writing_stats = jarque_bera(education_df[\\\"writing score\\\"])\\nnorm_writing_stats = normaltest(education_df[\\\"writing score\\\"])\\nprint(\\n    \\\"Jarque-Bera test statistics is {0} and p value is {1}\\\".format(\\n        jb_writing_stats[0], jb_writing_stats[1]\\n    )\\n)\\nprint(\\n    \\\"Normality test statistics is {0} and p value is {1}\\\".format(\\n        norm_writing_stats[0], norm_writing_stats[1]\\n    )\\n)\";\n",
       "                var nbb_formatted_code = \"jb_math_stats = jarque_bera(education_df[\\\"math score\\\"])\\nnorm_math_stats = normaltest(education_df[\\\"math score\\\"])\\nprint(\\n    \\\"Jarque-Bera test statistics is {0} and p value is {1}\\\".format(\\n        jb_math_stats[0], jb_math_stats[1]\\n    )\\n)\\nprint(\\n    \\\"Normality test statistics is {0} and p value is {1}\\\".format(\\n        norm_math_stats[0], norm_math_stats[1]\\n    )\\n)\\njb_reading_stats = jarque_bera(education_df[\\\"reading score\\\"])\\nnorm_reading_stats = normaltest(education_df[\\\"reading score\\\"])\\nprint(\\n    \\\"Jarque-Bera test statistics is {0} and p value is {1}\\\".format(\\n        jb_reading_stats[0], jb_reading_stats[1]\\n    )\\n)\\nprint(\\n    \\\"Normality test statistics is {0} and p value is {1}\\\".format(\\n        norm_reading_stats[0], norm_reading_stats[1]\\n    )\\n)\\njb_writing_stats = jarque_bera(education_df[\\\"writing score\\\"])\\nnorm_writing_stats = normaltest(education_df[\\\"writing score\\\"])\\nprint(\\n    \\\"Jarque-Bera test statistics is {0} and p value is {1}\\\".format(\\n        jb_writing_stats[0], jb_writing_stats[1]\\n    )\\n)\\nprint(\\n    \\\"Normality test statistics is {0} and p value is {1}\\\".format(\\n        norm_writing_stats[0], norm_writing_stats[1]\\n    )\\n)\";\n",
       "                var nbb_cells = Jupyter.notebook.get_cells();\n",
       "                for (var i = 0; i < nbb_cells.length; ++i) {\n",
       "                    if (nbb_cells[i].input_prompt_number == nbb_cell_id) {\n",
       "                        if (nbb_cells[i].get_text() == nbb_unformatted_code) {\n",
       "                             nbb_cells[i].set_text(nbb_formatted_code);\n",
       "                        }\n",
       "                        break;\n",
       "                    }\n",
       "                }\n",
       "            }, 500);\n",
       "            "
      ],
      "text/plain": [
       "<IPython.core.display.Javascript object>"
      ]
     },
     "metadata": {},
     "output_type": "display_data"
    }
   ],
   "source": [
    "jb_math_stats = jarque_bera(education_df[\"math score\"])\n",
    "norm_math_stats = normaltest(education_df[\"math score\"])\n",
    "print(\n",
    "    \"Jarque-Bera test statistics is {0} and p value is {1}\".format(\n",
    "        jb_math_stats[0], jb_math_stats[1]\n",
    "    )\n",
    ")\n",
    "print(\n",
    "    \"Normality test statistics is {0} and p value is {1}\".format(\n",
    "        norm_math_stats[0], norm_math_stats[1]\n",
    "    )\n",
    ")\n",
    "jb_reading_stats = jarque_bera(education_df[\"reading score\"])\n",
    "norm_reading_stats = normaltest(education_df[\"reading score\"])\n",
    "print(\n",
    "    \"Jarque-Bera test statistics is {0} and p value is {1}\".format(\n",
    "        jb_reading_stats[0], jb_reading_stats[1]\n",
    "    )\n",
    ")\n",
    "print(\n",
    "    \"Normality test statistics is {0} and p value is {1}\".format(\n",
    "        norm_reading_stats[0], norm_reading_stats[1]\n",
    "    )\n",
    ")\n",
    "jb_writing_stats = jarque_bera(education_df[\"writing score\"])\n",
    "norm_writing_stats = normaltest(education_df[\"writing score\"])\n",
    "print(\n",
    "    \"Jarque-Bera test statistics is {0} and p value is {1}\".format(\n",
    "        jb_writing_stats[0], jb_writing_stats[1]\n",
    "    )\n",
    ")\n",
    "print(\n",
    "    \"Normality test statistics is {0} and p value is {1}\".format(\n",
    "        norm_writing_stats[0], norm_writing_stats[1]\n",
    "    )\n",
    ")"
   ]
  },
  {
   "cell_type": "code",
   "execution_count": 21,
   "metadata": {},
   "outputs": [
    {
     "name": "stdout",
     "output_type": "stream",
     "text": [
      "Jarque-Bera test statistics is 1.7200982636836308 and p value is 0.42314129209599327\n",
      "Normality test statistics is 1.8323075851586939 and p value is 0.4000547794685686\n",
      "Jarque-Bera test statistics is 4.119778573559666 and p value is 0.127468081515408\n",
      "Normality test statistics is 5.282274606965809 and p value is 0.07128015626992971\n",
      "Jarque-Bera test statistics is 4.746478090042761 and p value is 0.09317842784043195\n",
      "Normality test statistics is 6.267311355052559 and p value is 0.04355827085003712\n"
     ]
    },
    {
     "data": {
      "application/javascript": [
       "\n",
       "            setTimeout(function() {\n",
       "                var nbb_cell_id = 21;\n",
       "                var nbb_unformatted_code = \"jb_mathb_stats = jarque_bera(math_boxcox)\\nnorm_mathb_stats = normaltest(math_boxcox)\\nprint(\\n    \\\"Jarque-Bera test statistics is {0} and p value is {1}\\\".format(\\n        jb_mathb_stats[0], jb_mathb_stats[1]\\n    )\\n)\\nprint(\\n    \\\"Normality test statistics is {0} and p value is {1}\\\".format(\\n        norm_mathb_stats[0], norm_mathb_stats[1]\\n    )\\n)\\njb_readingb_stats = jarque_bera(reading_boxcox)\\nnorm_readingb_stats = normaltest(reading_boxcox)\\nprint(\\n    \\\"Jarque-Bera test statistics is {0} and p value is {1}\\\".format(\\n        jb_readingb_stats[0], jb_readingb_stats[1]\\n    )\\n)\\nprint(\\n    \\\"Normality test statistics is {0} and p value is {1}\\\".format(\\n        norm_readingb_stats[0], norm_readingb_stats[1]\\n    )\\n)\\njb_writingb_stats = jarque_bera(writing_boxcox)\\nnorm_writingb_stats = normaltest(writing_boxcox)\\nprint(\\n    \\\"Jarque-Bera test statistics is {0} and p value is {1}\\\".format(\\n        jb_writingb_stats[0], jb_writingb_stats[1]\\n    )\\n)\\nprint(\\n    \\\"Normality test statistics is {0} and p value is {1}\\\".format(\\n        norm_writingb_stats[0], norm_writingb_stats[1]\\n    )\\n)\";\n",
       "                var nbb_formatted_code = \"jb_mathb_stats = jarque_bera(math_boxcox)\\nnorm_mathb_stats = normaltest(math_boxcox)\\nprint(\\n    \\\"Jarque-Bera test statistics is {0} and p value is {1}\\\".format(\\n        jb_mathb_stats[0], jb_mathb_stats[1]\\n    )\\n)\\nprint(\\n    \\\"Normality test statistics is {0} and p value is {1}\\\".format(\\n        norm_mathb_stats[0], norm_mathb_stats[1]\\n    )\\n)\\njb_readingb_stats = jarque_bera(reading_boxcox)\\nnorm_readingb_stats = normaltest(reading_boxcox)\\nprint(\\n    \\\"Jarque-Bera test statistics is {0} and p value is {1}\\\".format(\\n        jb_readingb_stats[0], jb_readingb_stats[1]\\n    )\\n)\\nprint(\\n    \\\"Normality test statistics is {0} and p value is {1}\\\".format(\\n        norm_readingb_stats[0], norm_readingb_stats[1]\\n    )\\n)\\njb_writingb_stats = jarque_bera(writing_boxcox)\\nnorm_writingb_stats = normaltest(writing_boxcox)\\nprint(\\n    \\\"Jarque-Bera test statistics is {0} and p value is {1}\\\".format(\\n        jb_writingb_stats[0], jb_writingb_stats[1]\\n    )\\n)\\nprint(\\n    \\\"Normality test statistics is {0} and p value is {1}\\\".format(\\n        norm_writingb_stats[0], norm_writingb_stats[1]\\n    )\\n)\";\n",
       "                var nbb_cells = Jupyter.notebook.get_cells();\n",
       "                for (var i = 0; i < nbb_cells.length; ++i) {\n",
       "                    if (nbb_cells[i].input_prompt_number == nbb_cell_id) {\n",
       "                        if (nbb_cells[i].get_text() == nbb_unformatted_code) {\n",
       "                             nbb_cells[i].set_text(nbb_formatted_code);\n",
       "                        }\n",
       "                        break;\n",
       "                    }\n",
       "                }\n",
       "            }, 500);\n",
       "            "
      ],
      "text/plain": [
       "<IPython.core.display.Javascript object>"
      ]
     },
     "metadata": {},
     "output_type": "display_data"
    },
    {
     "data": {
      "application/javascript": [
       "\n",
       "            setTimeout(function() {\n",
       "                var nbb_cell_id = 21;\n",
       "                var nbb_unformatted_code = \"jb_mathb_stats = jarque_bera(math_boxcox)\\nnorm_mathb_stats = normaltest(math_boxcox)\\nprint(\\n    \\\"Jarque-Bera test statistics is {0} and p value is {1}\\\".format(\\n        jb_mathb_stats[0], jb_mathb_stats[1]\\n    )\\n)\\nprint(\\n    \\\"Normality test statistics is {0} and p value is {1}\\\".format(\\n        norm_mathb_stats[0], norm_mathb_stats[1]\\n    )\\n)\\njb_readingb_stats = jarque_bera(reading_boxcox)\\nnorm_readingb_stats = normaltest(reading_boxcox)\\nprint(\\n    \\\"Jarque-Bera test statistics is {0} and p value is {1}\\\".format(\\n        jb_readingb_stats[0], jb_readingb_stats[1]\\n    )\\n)\\nprint(\\n    \\\"Normality test statistics is {0} and p value is {1}\\\".format(\\n        norm_readingb_stats[0], norm_readingb_stats[1]\\n    )\\n)\\njb_writingb_stats = jarque_bera(writing_boxcox)\\nnorm_writingb_stats = normaltest(writing_boxcox)\\nprint(\\n    \\\"Jarque-Bera test statistics is {0} and p value is {1}\\\".format(\\n        jb_writingb_stats[0], jb_writingb_stats[1]\\n    )\\n)\\nprint(\\n    \\\"Normality test statistics is {0} and p value is {1}\\\".format(\\n        norm_writingb_stats[0], norm_writingb_stats[1]\\n    )\\n)\";\n",
       "                var nbb_formatted_code = \"jb_mathb_stats = jarque_bera(math_boxcox)\\nnorm_mathb_stats = normaltest(math_boxcox)\\nprint(\\n    \\\"Jarque-Bera test statistics is {0} and p value is {1}\\\".format(\\n        jb_mathb_stats[0], jb_mathb_stats[1]\\n    )\\n)\\nprint(\\n    \\\"Normality test statistics is {0} and p value is {1}\\\".format(\\n        norm_mathb_stats[0], norm_mathb_stats[1]\\n    )\\n)\\njb_readingb_stats = jarque_bera(reading_boxcox)\\nnorm_readingb_stats = normaltest(reading_boxcox)\\nprint(\\n    \\\"Jarque-Bera test statistics is {0} and p value is {1}\\\".format(\\n        jb_readingb_stats[0], jb_readingb_stats[1]\\n    )\\n)\\nprint(\\n    \\\"Normality test statistics is {0} and p value is {1}\\\".format(\\n        norm_readingb_stats[0], norm_readingb_stats[1]\\n    )\\n)\\njb_writingb_stats = jarque_bera(writing_boxcox)\\nnorm_writingb_stats = normaltest(writing_boxcox)\\nprint(\\n    \\\"Jarque-Bera test statistics is {0} and p value is {1}\\\".format(\\n        jb_writingb_stats[0], jb_writingb_stats[1]\\n    )\\n)\\nprint(\\n    \\\"Normality test statistics is {0} and p value is {1}\\\".format(\\n        norm_writingb_stats[0], norm_writingb_stats[1]\\n    )\\n)\";\n",
       "                var nbb_cells = Jupyter.notebook.get_cells();\n",
       "                for (var i = 0; i < nbb_cells.length; ++i) {\n",
       "                    if (nbb_cells[i].input_prompt_number == nbb_cell_id) {\n",
       "                        if (nbb_cells[i].get_text() == nbb_unformatted_code) {\n",
       "                             nbb_cells[i].set_text(nbb_formatted_code);\n",
       "                        }\n",
       "                        break;\n",
       "                    }\n",
       "                }\n",
       "            }, 500);\n",
       "            "
      ],
      "text/plain": [
       "<IPython.core.display.Javascript object>"
      ]
     },
     "metadata": {},
     "output_type": "display_data"
    },
    {
     "data": {
      "application/javascript": [
       "\n",
       "            setTimeout(function() {\n",
       "                var nbb_cell_id = 21;\n",
       "                var nbb_unformatted_code = \"jb_mathb_stats = jarque_bera(math_boxcox)\\nnorm_mathb_stats = normaltest(math_boxcox)\\nprint(\\n    \\\"Jarque-Bera test statistics is {0} and p value is {1}\\\".format(\\n        jb_mathb_stats[0], jb_mathb_stats[1]\\n    )\\n)\\nprint(\\n    \\\"Normality test statistics is {0} and p value is {1}\\\".format(\\n        norm_mathb_stats[0], norm_mathb_stats[1]\\n    )\\n)\\njb_readingb_stats = jarque_bera(reading_boxcox)\\nnorm_readingb_stats = normaltest(reading_boxcox)\\nprint(\\n    \\\"Jarque-Bera test statistics is {0} and p value is {1}\\\".format(\\n        jb_readingb_stats[0], jb_readingb_stats[1]\\n    )\\n)\\nprint(\\n    \\\"Normality test statistics is {0} and p value is {1}\\\".format(\\n        norm_readingb_stats[0], norm_readingb_stats[1]\\n    )\\n)\\njb_writingb_stats = jarque_bera(writing_boxcox)\\nnorm_writingb_stats = normaltest(writing_boxcox)\\nprint(\\n    \\\"Jarque-Bera test statistics is {0} and p value is {1}\\\".format(\\n        jb_writingb_stats[0], jb_writingb_stats[1]\\n    )\\n)\\nprint(\\n    \\\"Normality test statistics is {0} and p value is {1}\\\".format(\\n        norm_writingb_stats[0], norm_writingb_stats[1]\\n    )\\n)\";\n",
       "                var nbb_formatted_code = \"jb_mathb_stats = jarque_bera(math_boxcox)\\nnorm_mathb_stats = normaltest(math_boxcox)\\nprint(\\n    \\\"Jarque-Bera test statistics is {0} and p value is {1}\\\".format(\\n        jb_mathb_stats[0], jb_mathb_stats[1]\\n    )\\n)\\nprint(\\n    \\\"Normality test statistics is {0} and p value is {1}\\\".format(\\n        norm_mathb_stats[0], norm_mathb_stats[1]\\n    )\\n)\\njb_readingb_stats = jarque_bera(reading_boxcox)\\nnorm_readingb_stats = normaltest(reading_boxcox)\\nprint(\\n    \\\"Jarque-Bera test statistics is {0} and p value is {1}\\\".format(\\n        jb_readingb_stats[0], jb_readingb_stats[1]\\n    )\\n)\\nprint(\\n    \\\"Normality test statistics is {0} and p value is {1}\\\".format(\\n        norm_readingb_stats[0], norm_readingb_stats[1]\\n    )\\n)\\njb_writingb_stats = jarque_bera(writing_boxcox)\\nnorm_writingb_stats = normaltest(writing_boxcox)\\nprint(\\n    \\\"Jarque-Bera test statistics is {0} and p value is {1}\\\".format(\\n        jb_writingb_stats[0], jb_writingb_stats[1]\\n    )\\n)\\nprint(\\n    \\\"Normality test statistics is {0} and p value is {1}\\\".format(\\n        norm_writingb_stats[0], norm_writingb_stats[1]\\n    )\\n)\";\n",
       "                var nbb_cells = Jupyter.notebook.get_cells();\n",
       "                for (var i = 0; i < nbb_cells.length; ++i) {\n",
       "                    if (nbb_cells[i].input_prompt_number == nbb_cell_id) {\n",
       "                        if (nbb_cells[i].get_text() == nbb_unformatted_code) {\n",
       "                             nbb_cells[i].set_text(nbb_formatted_code);\n",
       "                        }\n",
       "                        break;\n",
       "                    }\n",
       "                }\n",
       "            }, 500);\n",
       "            "
      ],
      "text/plain": [
       "<IPython.core.display.Javascript object>"
      ]
     },
     "metadata": {},
     "output_type": "display_data"
    },
    {
     "data": {
      "application/javascript": [
       "\n",
       "            setTimeout(function() {\n",
       "                var nbb_cell_id = 21;\n",
       "                var nbb_unformatted_code = \"jb_mathb_stats = jarque_bera(math_boxcox)\\nnorm_mathb_stats = normaltest(math_boxcox)\\nprint(\\n    \\\"Jarque-Bera test statistics is {0} and p value is {1}\\\".format(\\n        jb_mathb_stats[0], jb_mathb_stats[1]\\n    )\\n)\\nprint(\\n    \\\"Normality test statistics is {0} and p value is {1}\\\".format(\\n        norm_mathb_stats[0], norm_mathb_stats[1]\\n    )\\n)\\njb_readingb_stats = jarque_bera(reading_boxcox)\\nnorm_readingb_stats = normaltest(reading_boxcox)\\nprint(\\n    \\\"Jarque-Bera test statistics is {0} and p value is {1}\\\".format(\\n        jb_readingb_stats[0], jb_readingb_stats[1]\\n    )\\n)\\nprint(\\n    \\\"Normality test statistics is {0} and p value is {1}\\\".format(\\n        norm_readingb_stats[0], norm_readingb_stats[1]\\n    )\\n)\\njb_writingb_stats = jarque_bera(writing_boxcox)\\nnorm_writingb_stats = normaltest(writing_boxcox)\\nprint(\\n    \\\"Jarque-Bera test statistics is {0} and p value is {1}\\\".format(\\n        jb_writingb_stats[0], jb_writingb_stats[1]\\n    )\\n)\\nprint(\\n    \\\"Normality test statistics is {0} and p value is {1}\\\".format(\\n        norm_writingb_stats[0], norm_writingb_stats[1]\\n    )\\n)\";\n",
       "                var nbb_formatted_code = \"jb_mathb_stats = jarque_bera(math_boxcox)\\nnorm_mathb_stats = normaltest(math_boxcox)\\nprint(\\n    \\\"Jarque-Bera test statistics is {0} and p value is {1}\\\".format(\\n        jb_mathb_stats[0], jb_mathb_stats[1]\\n    )\\n)\\nprint(\\n    \\\"Normality test statistics is {0} and p value is {1}\\\".format(\\n        norm_mathb_stats[0], norm_mathb_stats[1]\\n    )\\n)\\njb_readingb_stats = jarque_bera(reading_boxcox)\\nnorm_readingb_stats = normaltest(reading_boxcox)\\nprint(\\n    \\\"Jarque-Bera test statistics is {0} and p value is {1}\\\".format(\\n        jb_readingb_stats[0], jb_readingb_stats[1]\\n    )\\n)\\nprint(\\n    \\\"Normality test statistics is {0} and p value is {1}\\\".format(\\n        norm_readingb_stats[0], norm_readingb_stats[1]\\n    )\\n)\\njb_writingb_stats = jarque_bera(writing_boxcox)\\nnorm_writingb_stats = normaltest(writing_boxcox)\\nprint(\\n    \\\"Jarque-Bera test statistics is {0} and p value is {1}\\\".format(\\n        jb_writingb_stats[0], jb_writingb_stats[1]\\n    )\\n)\\nprint(\\n    \\\"Normality test statistics is {0} and p value is {1}\\\".format(\\n        norm_writingb_stats[0], norm_writingb_stats[1]\\n    )\\n)\";\n",
       "                var nbb_cells = Jupyter.notebook.get_cells();\n",
       "                for (var i = 0; i < nbb_cells.length; ++i) {\n",
       "                    if (nbb_cells[i].input_prompt_number == nbb_cell_id) {\n",
       "                        if (nbb_cells[i].get_text() == nbb_unformatted_code) {\n",
       "                             nbb_cells[i].set_text(nbb_formatted_code);\n",
       "                        }\n",
       "                        break;\n",
       "                    }\n",
       "                }\n",
       "            }, 500);\n",
       "            "
      ],
      "text/plain": [
       "<IPython.core.display.Javascript object>"
      ]
     },
     "metadata": {},
     "output_type": "display_data"
    },
    {
     "data": {
      "application/javascript": [
       "\n",
       "            setTimeout(function() {\n",
       "                var nbb_cell_id = 21;\n",
       "                var nbb_unformatted_code = \"jb_mathb_stats = jarque_bera(math_boxcox)\\nnorm_mathb_stats = normaltest(math_boxcox)\\nprint(\\n    \\\"Jarque-Bera test statistics is {0} and p value is {1}\\\".format(\\n        jb_mathb_stats[0], jb_mathb_stats[1]\\n    )\\n)\\nprint(\\n    \\\"Normality test statistics is {0} and p value is {1}\\\".format(\\n        norm_mathb_stats[0], norm_mathb_stats[1]\\n    )\\n)\\njb_readingb_stats = jarque_bera(reading_boxcox)\\nnorm_readingb_stats = normaltest(reading_boxcox)\\nprint(\\n    \\\"Jarque-Bera test statistics is {0} and p value is {1}\\\".format(\\n        jb_readingb_stats[0], jb_readingb_stats[1]\\n    )\\n)\\nprint(\\n    \\\"Normality test statistics is {0} and p value is {1}\\\".format(\\n        norm_readingb_stats[0], norm_readingb_stats[1]\\n    )\\n)\\njb_writingb_stats = jarque_bera(writing_boxcox)\\nnorm_writingb_stats = normaltest(writing_boxcox)\\nprint(\\n    \\\"Jarque-Bera test statistics is {0} and p value is {1}\\\".format(\\n        jb_writingb_stats[0], jb_writingb_stats[1]\\n    )\\n)\\nprint(\\n    \\\"Normality test statistics is {0} and p value is {1}\\\".format(\\n        norm_writingb_stats[0], norm_writingb_stats[1]\\n    )\\n)\";\n",
       "                var nbb_formatted_code = \"jb_mathb_stats = jarque_bera(math_boxcox)\\nnorm_mathb_stats = normaltest(math_boxcox)\\nprint(\\n    \\\"Jarque-Bera test statistics is {0} and p value is {1}\\\".format(\\n        jb_mathb_stats[0], jb_mathb_stats[1]\\n    )\\n)\\nprint(\\n    \\\"Normality test statistics is {0} and p value is {1}\\\".format(\\n        norm_mathb_stats[0], norm_mathb_stats[1]\\n    )\\n)\\njb_readingb_stats = jarque_bera(reading_boxcox)\\nnorm_readingb_stats = normaltest(reading_boxcox)\\nprint(\\n    \\\"Jarque-Bera test statistics is {0} and p value is {1}\\\".format(\\n        jb_readingb_stats[0], jb_readingb_stats[1]\\n    )\\n)\\nprint(\\n    \\\"Normality test statistics is {0} and p value is {1}\\\".format(\\n        norm_readingb_stats[0], norm_readingb_stats[1]\\n    )\\n)\\njb_writingb_stats = jarque_bera(writing_boxcox)\\nnorm_writingb_stats = normaltest(writing_boxcox)\\nprint(\\n    \\\"Jarque-Bera test statistics is {0} and p value is {1}\\\".format(\\n        jb_writingb_stats[0], jb_writingb_stats[1]\\n    )\\n)\\nprint(\\n    \\\"Normality test statistics is {0} and p value is {1}\\\".format(\\n        norm_writingb_stats[0], norm_writingb_stats[1]\\n    )\\n)\";\n",
       "                var nbb_cells = Jupyter.notebook.get_cells();\n",
       "                for (var i = 0; i < nbb_cells.length; ++i) {\n",
       "                    if (nbb_cells[i].input_prompt_number == nbb_cell_id) {\n",
       "                        if (nbb_cells[i].get_text() == nbb_unformatted_code) {\n",
       "                             nbb_cells[i].set_text(nbb_formatted_code);\n",
       "                        }\n",
       "                        break;\n",
       "                    }\n",
       "                }\n",
       "            }, 500);\n",
       "            "
      ],
      "text/plain": [
       "<IPython.core.display.Javascript object>"
      ]
     },
     "metadata": {},
     "output_type": "display_data"
    }
   ],
   "source": [
    "jb_mathb_stats = jarque_bera(math_boxcox)\n",
    "norm_mathb_stats = normaltest(math_boxcox)\n",
    "print(\n",
    "    \"Jarque-Bera test statistics is {0} and p value is {1}\".format(\n",
    "        jb_mathb_stats[0], jb_mathb_stats[1]\n",
    "    )\n",
    ")\n",
    "print(\n",
    "    \"Normality test statistics is {0} and p value is {1}\".format(\n",
    "        norm_mathb_stats[0], norm_mathb_stats[1]\n",
    "    )\n",
    ")\n",
    "jb_readingb_stats = jarque_bera(reading_boxcox)\n",
    "norm_readingb_stats = normaltest(reading_boxcox)\n",
    "print(\n",
    "    \"Jarque-Bera test statistics is {0} and p value is {1}\".format(\n",
    "        jb_readingb_stats[0], jb_readingb_stats[1]\n",
    "    )\n",
    ")\n",
    "print(\n",
    "    \"Normality test statistics is {0} and p value is {1}\".format(\n",
    "        norm_readingb_stats[0], norm_readingb_stats[1]\n",
    "    )\n",
    ")\n",
    "jb_writingb_stats = jarque_bera(writing_boxcox)\n",
    "norm_writingb_stats = normaltest(writing_boxcox)\n",
    "print(\n",
    "    \"Jarque-Bera test statistics is {0} and p value is {1}\".format(\n",
    "        jb_writingb_stats[0], jb_writingb_stats[1]\n",
    "    )\n",
    ")\n",
    "print(\n",
    "    \"Normality test statistics is {0} and p value is {1}\".format(\n",
    "        norm_writingb_stats[0], norm_writingb_stats[1]\n",
    "    )\n",
    ")"
   ]
  },
  {
   "cell_type": "markdown",
   "metadata": {},
   "source": [
    "Say we want to use a single variable for the exam scores as our target. For this purpose, create a new variable by taking a weighted average of the exam scores. Check whether this new variable is normally distributed. If it's not normally distributed, apply a Box-Cox transformation and check whether or not the transformed variable is normally distributed."
   ]
  },
  {
   "cell_type": "code",
   "execution_count": 25,
   "metadata": {},
   "outputs": [
    {
     "data": {
      "image/png": "[encoded data removed]",
      "text/plain": [
       "<Figure size 432x288 with 1 Axes>"
      ]
     },
     "metadata": {},
     "output_type": "display_data"
    },
    {
     "name": "stdout",
     "output_type": "stream",
     "text": [
      "Jarque-Bera test statistics is 15.453387913085168 and p value is 0.00044089934264401887\n",
      "Normality test statistics is 15.186721327231322 and p value is 0.0005037851534494478\n"
     ]
    },
    {
     "data": {
      "application/javascript": [
       "\n",
       "            setTimeout(function() {\n",
       "                var nbb_cell_id = 25;\n",
       "                var nbb_unformatted_code = \"exam = (\\n    education_df[\\\"math score\\\"]\\n    + education_df[\\\"reading score\\\"]\\n    + education_df[\\\"writing score\\\"]\\n) / 3\\n\\nplt.hist(exam)\\nplt.show()\\n\\nexam_jb_stats = jarque_bera(exam)\\nexam_norm_stats = normaltest(exam)\\nprint(\\\"Jarque-Bera test statistics is {0} and p value is {1}\\\".format(exam_jb_stats[0], exam_jb_stats[1]))\\nprint(\\\"Normality test statistics is {0} and p value is {1}\\\".format(exam_norm_stats[0], exam_norm_stats[1]))\";\n",
       "                var nbb_formatted_code = \"exam = (\\n    education_df[\\\"math score\\\"]\\n    + education_df[\\\"reading score\\\"]\\n    + education_df[\\\"writing score\\\"]\\n) / 3\\n\\nplt.hist(exam)\\nplt.show()\\n\\nexam_jb_stats = jarque_bera(exam)\\nexam_norm_stats = normaltest(exam)\\nprint(\\n    \\\"Jarque-Bera test statistics is {0} and p value is {1}\\\".format(\\n        exam_jb_stats[0], exam_jb_stats[1]\\n    )\\n)\\nprint(\\n    \\\"Normality test statistics is {0} and p value is {1}\\\".format(\\n        exam_norm_stats[0], exam_norm_stats[1]\\n    )\\n)\";\n",
       "                var nbb_cells = Jupyter.notebook.get_cells();\n",
       "                for (var i = 0; i < nbb_cells.length; ++i) {\n",
       "                    if (nbb_cells[i].input_prompt_number == nbb_cell_id) {\n",
       "                        if (nbb_cells[i].get_text() == nbb_unformatted_code) {\n",
       "                             nbb_cells[i].set_text(nbb_formatted_code);\n",
       "                        }\n",
       "                        break;\n",
       "                    }\n",
       "                }\n",
       "            }, 500);\n",
       "            "
      ],
      "text/plain": [
       "<IPython.core.display.Javascript object>"
      ]
     },
     "metadata": {},
     "output_type": "display_data"
    },
    {
     "data": {
      "application/javascript": [
       "\n",
       "            setTimeout(function() {\n",
       "                var nbb_cell_id = 25;\n",
       "                var nbb_unformatted_code = \"exam = (\\n    education_df[\\\"math score\\\"]\\n    + education_df[\\\"reading score\\\"]\\n    + education_df[\\\"writing score\\\"]\\n) / 3\\n\\nplt.hist(exam)\\nplt.show()\\n\\nexam_jb_stats = jarque_bera(exam)\\nexam_norm_stats = normaltest(exam)\\nprint(\\\"Jarque-Bera test statistics is {0} and p value is {1}\\\".format(exam_jb_stats[0], exam_jb_stats[1]))\\nprint(\\\"Normality test statistics is {0} and p value is {1}\\\".format(exam_norm_stats[0], exam_norm_stats[1]))\";\n",
       "                var nbb_formatted_code = \"exam = (\\n    education_df[\\\"math score\\\"]\\n    + education_df[\\\"reading score\\\"]\\n    + education_df[\\\"writing score\\\"]\\n) / 3\\n\\nplt.hist(exam)\\nplt.show()\\n\\nexam_jb_stats = jarque_bera(exam)\\nexam_norm_stats = normaltest(exam)\\nprint(\\n    \\\"Jarque-Bera test statistics is {0} and p value is {1}\\\".format(\\n        exam_jb_stats[0], exam_jb_stats[1]\\n    )\\n)\\nprint(\\n    \\\"Normality test statistics is {0} and p value is {1}\\\".format(\\n        exam_norm_stats[0], exam_norm_stats[1]\\n    )\\n)\";\n",
       "                var nbb_cells = Jupyter.notebook.get_cells();\n",
       "                for (var i = 0; i < nbb_cells.length; ++i) {\n",
       "                    if (nbb_cells[i].input_prompt_number == nbb_cell_id) {\n",
       "                        if (nbb_cells[i].get_text() == nbb_unformatted_code) {\n",
       "                             nbb_cells[i].set_text(nbb_formatted_code);\n",
       "                        }\n",
       "                        break;\n",
       "                    }\n",
       "                }\n",
       "            }, 500);\n",
       "            "
      ],
      "text/plain": [
       "<IPython.core.display.Javascript object>"
      ]
     },
     "metadata": {},
     "output_type": "display_data"
    },
    {
     "data": {
      "application/javascript": [
       "\n",
       "            setTimeout(function() {\n",
       "                var nbb_cell_id = 25;\n",
       "                var nbb_unformatted_code = \"exam = (\\n    education_df[\\\"math score\\\"]\\n    + education_df[\\\"reading score\\\"]\\n    + education_df[\\\"writing score\\\"]\\n) / 3\\n\\nplt.hist(exam)\\nplt.show()\\n\\nexam_jb_stats = jarque_bera(exam)\\nexam_norm_stats = normaltest(exam)\\nprint(\\\"Jarque-Bera test statistics is {0} and p value is {1}\\\".format(exam_jb_stats[0], exam_jb_stats[1]))\\nprint(\\\"Normality test statistics is {0} and p value is {1}\\\".format(exam_norm_stats[0], exam_norm_stats[1]))\";\n",
       "                var nbb_formatted_code = \"exam = (\\n    education_df[\\\"math score\\\"]\\n    + education_df[\\\"reading score\\\"]\\n    + education_df[\\\"writing score\\\"]\\n) / 3\\n\\nplt.hist(exam)\\nplt.show()\\n\\nexam_jb_stats = jarque_bera(exam)\\nexam_norm_stats = normaltest(exam)\\nprint(\\n    \\\"Jarque-Bera test statistics is {0} and p value is {1}\\\".format(\\n        exam_jb_stats[0], exam_jb_stats[1]\\n    )\\n)\\nprint(\\n    \\\"Normality test statistics is {0} and p value is {1}\\\".format(\\n        exam_norm_stats[0], exam_norm_stats[1]\\n    )\\n)\";\n",
       "                var nbb_cells = Jupyter.notebook.get_cells();\n",
       "                for (var i = 0; i < nbb_cells.length; ++i) {\n",
       "                    if (nbb_cells[i].input_prompt_number == nbb_cell_id) {\n",
       "                        if (nbb_cells[i].get_text() == nbb_unformatted_code) {\n",
       "                             nbb_cells[i].set_text(nbb_formatted_code);\n",
       "                        }\n",
       "                        break;\n",
       "                    }\n",
       "                }\n",
       "            }, 500);\n",
       "            "
      ],
      "text/plain": [
       "<IPython.core.display.Javascript object>"
      ]
     },
     "metadata": {},
     "output_type": "display_data"
    },
    {
     "data": {
      "application/javascript": [
       "\n",
       "            setTimeout(function() {\n",
       "                var nbb_cell_id = 25;\n",
       "                var nbb_unformatted_code = \"exam = (\\n    education_df[\\\"math score\\\"]\\n    + education_df[\\\"reading score\\\"]\\n    + education_df[\\\"writing score\\\"]\\n) / 3\\n\\nplt.hist(exam)\\nplt.show()\\n\\nexam_jb_stats = jarque_bera(exam)\\nexam_norm_stats = normaltest(exam)\\nprint(\\\"Jarque-Bera test statistics is {0} and p value is {1}\\\".format(exam_jb_stats[0], exam_jb_stats[1]))\\nprint(\\\"Normality test statistics is {0} and p value is {1}\\\".format(exam_norm_stats[0], exam_norm_stats[1]))\";\n",
       "                var nbb_formatted_code = \"exam = (\\n    education_df[\\\"math score\\\"]\\n    + education_df[\\\"reading score\\\"]\\n    + education_df[\\\"writing score\\\"]\\n) / 3\\n\\nplt.hist(exam)\\nplt.show()\\n\\nexam_jb_stats = jarque_bera(exam)\\nexam_norm_stats = normaltest(exam)\\nprint(\\n    \\\"Jarque-Bera test statistics is {0} and p value is {1}\\\".format(\\n        exam_jb_stats[0], exam_jb_stats[1]\\n    )\\n)\\nprint(\\n    \\\"Normality test statistics is {0} and p value is {1}\\\".format(\\n        exam_norm_stats[0], exam_norm_stats[1]\\n    )\\n)\";\n",
       "                var nbb_cells = Jupyter.notebook.get_cells();\n",
       "                for (var i = 0; i < nbb_cells.length; ++i) {\n",
       "                    if (nbb_cells[i].input_prompt_number == nbb_cell_id) {\n",
       "                        if (nbb_cells[i].get_text() == nbb_unformatted_code) {\n",
       "                             nbb_cells[i].set_text(nbb_formatted_code);\n",
       "                        }\n",
       "                        break;\n",
       "                    }\n",
       "                }\n",
       "            }, 500);\n",
       "            "
      ],
      "text/plain": [
       "<IPython.core.display.Javascript object>"
      ]
     },
     "metadata": {},
     "output_type": "display_data"
    },
    {
     "data": {
      "application/javascript": [
       "\n",
       "            setTimeout(function() {\n",
       "                var nbb_cell_id = 25;\n",
       "                var nbb_unformatted_code = \"exam = (\\n    education_df[\\\"math score\\\"]\\n    + education_df[\\\"reading score\\\"]\\n    + education_df[\\\"writing score\\\"]\\n) / 3\\n\\nplt.hist(exam)\\nplt.show()\\n\\nexam_jb_stats = jarque_bera(exam)\\nexam_norm_stats = normaltest(exam)\\nprint(\\\"Jarque-Bera test statistics is {0} and p value is {1}\\\".format(exam_jb_stats[0], exam_jb_stats[1]))\\nprint(\\\"Normality test statistics is {0} and p value is {1}\\\".format(exam_norm_stats[0], exam_norm_stats[1]))\";\n",
       "                var nbb_formatted_code = \"exam = (\\n    education_df[\\\"math score\\\"]\\n    + education_df[\\\"reading score\\\"]\\n    + education_df[\\\"writing score\\\"]\\n) / 3\\n\\nplt.hist(exam)\\nplt.show()\\n\\nexam_jb_stats = jarque_bera(exam)\\nexam_norm_stats = normaltest(exam)\\nprint(\\n    \\\"Jarque-Bera test statistics is {0} and p value is {1}\\\".format(\\n        exam_jb_stats[0], exam_jb_stats[1]\\n    )\\n)\\nprint(\\n    \\\"Normality test statistics is {0} and p value is {1}\\\".format(\\n        exam_norm_stats[0], exam_norm_stats[1]\\n    )\\n)\";\n",
       "                var nbb_cells = Jupyter.notebook.get_cells();\n",
       "                for (var i = 0; i < nbb_cells.length; ++i) {\n",
       "                    if (nbb_cells[i].input_prompt_number == nbb_cell_id) {\n",
       "                        if (nbb_cells[i].get_text() == nbb_unformatted_code) {\n",
       "                             nbb_cells[i].set_text(nbb_formatted_code);\n",
       "                        }\n",
       "                        break;\n",
       "                    }\n",
       "                }\n",
       "            }, 500);\n",
       "            "
      ],
      "text/plain": [
       "<IPython.core.display.Javascript object>"
      ]
     },
     "metadata": {},
     "output_type": "display_data"
    }
   ],
   "source": [
    "exam = (\n",
    "    education_df[\"math score\"]\n",
    "    + education_df[\"reading score\"]\n",
    "    + education_df[\"writing score\"]\n",
    ") / 3\n",
    "\n",
    "plt.hist(exam)\n",
    "plt.show()\n",
    "\n",
    "exam_jb_stats = jarque_bera(exam)\n",
    "exam_norm_stats = normaltest(exam)\n",
    "print(\n",
    "    \"Jarque-Bera test statistics is {0} and p value is {1}\".format(\n",
    "        exam_jb_stats[0], exam_jb_stats[1]\n",
    "    )\n",
    ")\n",
    "print(\n",
    "    \"Normality test statistics is {0} and p value is {1}\".format(\n",
    "        exam_norm_stats[0], exam_norm_stats[1]\n",
    "    )\n",
    ")"
   ]
  },
  {
   "cell_type": "code",
   "execution_count": 26,
   "metadata": {},
   "outputs": [
    {
     "data": {
      "image/png": "[encoded data removed]",
      "text/plain": [
       "<Figure size 432x288 with 1 Axes>"
      ]
     },
     "metadata": {},
     "output_type": "display_data"
    },
    {
     "name": "stdout",
     "output_type": "stream",
     "text": [
      "Jarque-Bera test statistics is 2.4353989331279173 and p value is 0.29591013563984203\n",
      "Normality test statistics is 2.779857602227616 and p value is 0.24909303914726724\n"
     ]
    },
    {
     "data": {
      "application/javascript": [
       "\n",
       "            setTimeout(function() {\n",
       "                var nbb_cell_id = 26;\n",
       "                var nbb_unformatted_code = \"exam_boxcox,_ = boxcox(exam)\\n\\nplt.hist(exam_boxcox)\\nplt.show()\\n\\nexamb_jb_stats = jarque_bera(exam_boxcox)\\nexamb_norm_stats = normaltest(exam_boxcox)\\nprint(\\n    \\\"Jarque-Bera test statistics is {0} and p value is {1}\\\".format(\\n        examb_jb_stats[0], examb_jb_stats[1]\\n    )\\n)\\nprint(\\n    \\\"Normality test statistics is {0} and p value is {1}\\\".format(\\n        examb_norm_stats[0], examb_norm_stats[1]\\n    )\\n)\";\n",
       "                var nbb_formatted_code = \"exam_boxcox, _ = boxcox(exam)\\n\\nplt.hist(exam_boxcox)\\nplt.show()\\n\\nexamb_jb_stats = jarque_bera(exam_boxcox)\\nexamb_norm_stats = normaltest(exam_boxcox)\\nprint(\\n    \\\"Jarque-Bera test statistics is {0} and p value is {1}\\\".format(\\n        examb_jb_stats[0], examb_jb_stats[1]\\n    )\\n)\\nprint(\\n    \\\"Normality test statistics is {0} and p value is {1}\\\".format(\\n        examb_norm_stats[0], examb_norm_stats[1]\\n    )\\n)\";\n",
       "                var nbb_cells = Jupyter.notebook.get_cells();\n",
       "                for (var i = 0; i < nbb_cells.length; ++i) {\n",
       "                    if (nbb_cells[i].input_prompt_number == nbb_cell_id) {\n",
       "                        if (nbb_cells[i].get_text() == nbb_unformatted_code) {\n",
       "                             nbb_cells[i].set_text(nbb_formatted_code);\n",
       "                        }\n",
       "                        break;\n",
       "                    }\n",
       "                }\n",
       "            }, 500);\n",
       "            "
      ],
      "text/plain": [
       "<IPython.core.display.Javascript object>"
      ]
     },
     "metadata": {},
     "output_type": "display_data"
    },
    {
     "data": {
      "application/javascript": [
       "\n",
       "            setTimeout(function() {\n",
       "                var nbb_cell_id = 26;\n",
       "                var nbb_unformatted_code = \"exam_boxcox,_ = boxcox(exam)\\n\\nplt.hist(exam_boxcox)\\nplt.show()\\n\\nexamb_jb_stats = jarque_bera(exam_boxcox)\\nexamb_norm_stats = normaltest(exam_boxcox)\\nprint(\\n    \\\"Jarque-Bera test statistics is {0} and p value is {1}\\\".format(\\n        examb_jb_stats[0], examb_jb_stats[1]\\n    )\\n)\\nprint(\\n    \\\"Normality test statistics is {0} and p value is {1}\\\".format(\\n        examb_norm_stats[0], examb_norm_stats[1]\\n    )\\n)\";\n",
       "                var nbb_formatted_code = \"exam_boxcox, _ = boxcox(exam)\\n\\nplt.hist(exam_boxcox)\\nplt.show()\\n\\nexamb_jb_stats = jarque_bera(exam_boxcox)\\nexamb_norm_stats = normaltest(exam_boxcox)\\nprint(\\n    \\\"Jarque-Bera test statistics is {0} and p value is {1}\\\".format(\\n        examb_jb_stats[0], examb_jb_stats[1]\\n    )\\n)\\nprint(\\n    \\\"Normality test statistics is {0} and p value is {1}\\\".format(\\n        examb_norm_stats[0], examb_norm_stats[1]\\n    )\\n)\";\n",
       "                var nbb_cells = Jupyter.notebook.get_cells();\n",
       "                for (var i = 0; i < nbb_cells.length; ++i) {\n",
       "                    if (nbb_cells[i].input_prompt_number == nbb_cell_id) {\n",
       "                        if (nbb_cells[i].get_text() == nbb_unformatted_code) {\n",
       "                             nbb_cells[i].set_text(nbb_formatted_code);\n",
       "                        }\n",
       "                        break;\n",
       "                    }\n",
       "                }\n",
       "            }, 500);\n",
       "            "
      ],
      "text/plain": [
       "<IPython.core.display.Javascript object>"
      ]
     },
     "metadata": {},
     "output_type": "display_data"
    },
    {
     "data": {
      "application/javascript": [
       "\n",
       "            setTimeout(function() {\n",
       "                var nbb_cell_id = 26;\n",
       "                var nbb_unformatted_code = \"exam_boxcox,_ = boxcox(exam)\\n\\nplt.hist(exam_boxcox)\\nplt.show()\\n\\nexamb_jb_stats = jarque_bera(exam_boxcox)\\nexamb_norm_stats = normaltest(exam_boxcox)\\nprint(\\n    \\\"Jarque-Bera test statistics is {0} and p value is {1}\\\".format(\\n        examb_jb_stats[0], examb_jb_stats[1]\\n    )\\n)\\nprint(\\n    \\\"Normality test statistics is {0} and p value is {1}\\\".format(\\n        examb_norm_stats[0], examb_norm_stats[1]\\n    )\\n)\";\n",
       "                var nbb_formatted_code = \"exam_boxcox, _ = boxcox(exam)\\n\\nplt.hist(exam_boxcox)\\nplt.show()\\n\\nexamb_jb_stats = jarque_bera(exam_boxcox)\\nexamb_norm_stats = normaltest(exam_boxcox)\\nprint(\\n    \\\"Jarque-Bera test statistics is {0} and p value is {1}\\\".format(\\n        examb_jb_stats[0], examb_jb_stats[1]\\n    )\\n)\\nprint(\\n    \\\"Normality test statistics is {0} and p value is {1}\\\".format(\\n        examb_norm_stats[0], examb_norm_stats[1]\\n    )\\n)\";\n",
       "                var nbb_cells = Jupyter.notebook.get_cells();\n",
       "                for (var i = 0; i < nbb_cells.length; ++i) {\n",
       "                    if (nbb_cells[i].input_prompt_number == nbb_cell_id) {\n",
       "                        if (nbb_cells[i].get_text() == nbb_unformatted_code) {\n",
       "                             nbb_cells[i].set_text(nbb_formatted_code);\n",
       "                        }\n",
       "                        break;\n",
       "                    }\n",
       "                }\n",
       "            }, 500);\n",
       "            "
      ],
      "text/plain": [
       "<IPython.core.display.Javascript object>"
      ]
     },
     "metadata": {},
     "output_type": "display_data"
    },
    {
     "data": {
      "application/javascript": [
       "\n",
       "            setTimeout(function() {\n",
       "                var nbb_cell_id = 26;\n",
       "                var nbb_unformatted_code = \"exam_boxcox,_ = boxcox(exam)\\n\\nplt.hist(exam_boxcox)\\nplt.show()\\n\\nexamb_jb_stats = jarque_bera(exam_boxcox)\\nexamb_norm_stats = normaltest(exam_boxcox)\\nprint(\\n    \\\"Jarque-Bera test statistics is {0} and p value is {1}\\\".format(\\n        examb_jb_stats[0], examb_jb_stats[1]\\n    )\\n)\\nprint(\\n    \\\"Normality test statistics is {0} and p value is {1}\\\".format(\\n        examb_norm_stats[0], examb_norm_stats[1]\\n    )\\n)\";\n",
       "                var nbb_formatted_code = \"exam_boxcox, _ = boxcox(exam)\\n\\nplt.hist(exam_boxcox)\\nplt.show()\\n\\nexamb_jb_stats = jarque_bera(exam_boxcox)\\nexamb_norm_stats = normaltest(exam_boxcox)\\nprint(\\n    \\\"Jarque-Bera test statistics is {0} and p value is {1}\\\".format(\\n        examb_jb_stats[0], examb_jb_stats[1]\\n    )\\n)\\nprint(\\n    \\\"Normality test statistics is {0} and p value is {1}\\\".format(\\n        examb_norm_stats[0], examb_norm_stats[1]\\n    )\\n)\";\n",
       "                var nbb_cells = Jupyter.notebook.get_cells();\n",
       "                for (var i = 0; i < nbb_cells.length; ++i) {\n",
       "                    if (nbb_cells[i].input_prompt_number == nbb_cell_id) {\n",
       "                        if (nbb_cells[i].get_text() == nbb_unformatted_code) {\n",
       "                             nbb_cells[i].set_text(nbb_formatted_code);\n",
       "                        }\n",
       "                        break;\n",
       "                    }\n",
       "                }\n",
       "            }, 500);\n",
       "            "
      ],
      "text/plain": [
       "<IPython.core.display.Javascript object>"
      ]
     },
     "metadata": {},
     "output_type": "display_data"
    },
    {
     "data": {
      "application/javascript": [
       "\n",
       "            setTimeout(function() {\n",
       "                var nbb_cell_id = 26;\n",
       "                var nbb_unformatted_code = \"exam_boxcox,_ = boxcox(exam)\\n\\nplt.hist(exam_boxcox)\\nplt.show()\\n\\nexamb_jb_stats = jarque_bera(exam_boxcox)\\nexamb_norm_stats = normaltest(exam_boxcox)\\nprint(\\n    \\\"Jarque-Bera test statistics is {0} and p value is {1}\\\".format(\\n        examb_jb_stats[0], examb_jb_stats[1]\\n    )\\n)\\nprint(\\n    \\\"Normality test statistics is {0} and p value is {1}\\\".format(\\n        examb_norm_stats[0], examb_norm_stats[1]\\n    )\\n)\";\n",
       "                var nbb_formatted_code = \"exam_boxcox, _ = boxcox(exam)\\n\\nplt.hist(exam_boxcox)\\nplt.show()\\n\\nexamb_jb_stats = jarque_bera(exam_boxcox)\\nexamb_norm_stats = normaltest(exam_boxcox)\\nprint(\\n    \\\"Jarque-Bera test statistics is {0} and p value is {1}\\\".format(\\n        examb_jb_stats[0], examb_jb_stats[1]\\n    )\\n)\\nprint(\\n    \\\"Normality test statistics is {0} and p value is {1}\\\".format(\\n        examb_norm_stats[0], examb_norm_stats[1]\\n    )\\n)\";\n",
       "                var nbb_cells = Jupyter.notebook.get_cells();\n",
       "                for (var i = 0; i < nbb_cells.length; ++i) {\n",
       "                    if (nbb_cells[i].input_prompt_number == nbb_cell_id) {\n",
       "                        if (nbb_cells[i].get_text() == nbb_unformatted_code) {\n",
       "                             nbb_cells[i].set_text(nbb_formatted_code);\n",
       "                        }\n",
       "                        break;\n",
       "                    }\n",
       "                }\n",
       "            }, 500);\n",
       "            "
      ],
      "text/plain": [
       "<IPython.core.display.Javascript object>"
      ]
     },
     "metadata": {},
     "output_type": "display_data"
    }
   ],
   "source": [
    "exam_boxcox, _ = boxcox(exam)\n",
    "\n",
    "plt.hist(exam_boxcox)\n",
    "plt.show()\n",
    "\n",
    "examb_jb_stats = jarque_bera(exam_boxcox)\n",
    "examb_norm_stats = normaltest(exam_boxcox)\n",
    "print(\n",
    "    \"Jarque-Bera test statistics is {0} and p value is {1}\".format(\n",
    "        examb_jb_stats[0], examb_jb_stats[1]\n",
    "    )\n",
    ")\n",
    "print(\n",
    "    \"Normality test statistics is {0} and p value is {1}\".format(\n",
    "        examb_norm_stats[0], examb_norm_stats[1]\n",
    "    )\n",
    ")"
   ]
  },
  {
   "cell_type": "markdown",
   "metadata": {},
   "source": [
    "Which variables seem related to the target variable (the newly created variable in the previous question)? If our goal is to explain the determinants of success in exams, which variables in our dataset might be useful?"
   ]
  },
  {
   "cell_type": "code",
   "execution_count": 31,
   "metadata": {},
   "outputs": [
    {
     "data": {
      "image/png": "[encoded data removed]",
      "text/plain": [
       "<Figure size 1440x1080 with 5 Axes>"
      ]
     },
     "metadata": {},
     "output_type": "display_data"
    },
    {
     "data": {
      "application/javascript": [
       "\n",
       "            setTimeout(function() {\n",
       "                var nbb_cell_id = 31;\n",
       "                var nbb_unformatted_code = \"education_df[\\\"tot_exam_score\\\"] = exam\\nplt.figure(figsize=(20, 15))\\nplt.subplot(2, 3, 1)\\nplt.bar(\\n    education_df.groupby(\\\"race/ethnicity\\\")[\\\"tot_exam_score\\\"].mean().index,\\n    education_df.groupby(\\\"race/ethnicity\\\")[\\\"tot_exam_score\\\"].mean(),\\n)\\nplt.title(\\\"Exam Score & Race/Ethnicity\\\")\\n\\nplt.subplot(2, 3, 2)\\nplt.bar(\\n    education_df.groupby(\\\"gender\\\")[\\\"tot_exam_score\\\"].mean().index,\\n    education_df.groupby(\\\"gender\\\")[\\\"tot_exam_score\\\"].mean(),\\n)\\nplt.title(\\\"Exam Score & Gender\\\")\\n\\nplt.subplot(2, 3, 3)\\nplt.bar(\\n    education_df.groupby(\\\"parental level of education\\\")[\\\"tot_exam_score\\\"].mean().index,\\n    education_df.groupby(\\\"parental level of education\\\")[\\\"tot_exam_score\\\"].mean(),\\n)\\nplt.title(\\\"Exam Score & Parent Education\\\")\\n\\nplt.subplot(2, 3, 4)\\nplt.bar(\\n    education_df.groupby(\\\"lunch\\\")[\\\"tot_exam_score\\\"].mean().index,\\n    education_df.groupby(\\\"lunch\\\")[\\\"tot_exam_score\\\"].mean(),\\n)\\nplt.title(\\\"Exam Score & Lunch\\\")\\n\\nplt.subplot(2, 3, 5)\\nplt.bar(\\n    education_df.groupby(\\\"test preparation course\\\")[\\\"tot_exam_score\\\"].mean().index,\\n    education_df.groupby(\\\"test preparation course\\\")[\\\"tot_exam_score\\\"].mean(),\\n)\\nplt.title(\\\"Exam Score & Exam Prep\\\")\\n\\nplt.tight_layout()\\nplt.show()\";\n",
       "                var nbb_formatted_code = \"education_df[\\\"tot_exam_score\\\"] = exam\\nplt.figure(figsize=(20, 15))\\nplt.subplot(2, 3, 1)\\nplt.bar(\\n    education_df.groupby(\\\"race/ethnicity\\\")[\\\"tot_exam_score\\\"].mean().index,\\n    education_df.groupby(\\\"race/ethnicity\\\")[\\\"tot_exam_score\\\"].mean(),\\n)\\nplt.title(\\\"Exam Score & Race/Ethnicity\\\")\\n\\nplt.subplot(2, 3, 2)\\nplt.bar(\\n    education_df.groupby(\\\"gender\\\")[\\\"tot_exam_score\\\"].mean().index,\\n    education_df.groupby(\\\"gender\\\")[\\\"tot_exam_score\\\"].mean(),\\n)\\nplt.title(\\\"Exam Score & Gender\\\")\\n\\nplt.subplot(2, 3, 3)\\nplt.bar(\\n    education_df.groupby(\\\"parental level of education\\\")[\\\"tot_exam_score\\\"].mean().index,\\n    education_df.groupby(\\\"parental level of education\\\")[\\\"tot_exam_score\\\"].mean(),\\n)\\nplt.title(\\\"Exam Score & Parent Education\\\")\\n\\nplt.subplot(2, 3, 4)\\nplt.bar(\\n    education_df.groupby(\\\"lunch\\\")[\\\"tot_exam_score\\\"].mean().index,\\n    education_df.groupby(\\\"lunch\\\")[\\\"tot_exam_score\\\"].mean(),\\n)\\nplt.title(\\\"Exam Score & Lunch\\\")\\n\\nplt.subplot(2, 3, 5)\\nplt.bar(\\n    education_df.groupby(\\\"test preparation course\\\")[\\\"tot_exam_score\\\"].mean().index,\\n    education_df.groupby(\\\"test preparation course\\\")[\\\"tot_exam_score\\\"].mean(),\\n)\\nplt.title(\\\"Exam Score & Exam Prep\\\")\\n\\nplt.tight_layout()\\nplt.show()\";\n",
       "                var nbb_cells = Jupyter.notebook.get_cells();\n",
       "                for (var i = 0; i < nbb_cells.length; ++i) {\n",
       "                    if (nbb_cells[i].input_prompt_number == nbb_cell_id) {\n",
       "                        if (nbb_cells[i].get_text() == nbb_unformatted_code) {\n",
       "                             nbb_cells[i].set_text(nbb_formatted_code);\n",
       "                        }\n",
       "                        break;\n",
       "                    }\n",
       "                }\n",
       "            }, 500);\n",
       "            "
      ],
      "text/plain": [
       "<IPython.core.display.Javascript object>"
      ]
     },
     "metadata": {},
     "output_type": "display_data"
    },
    {
     "data": {
      "application/javascript": [
       "\n",
       "            setTimeout(function() {\n",
       "                var nbb_cell_id = 31;\n",
       "                var nbb_unformatted_code = \"education_df[\\\"tot_exam_score\\\"] = exam\\nplt.figure(figsize=(20, 15))\\nplt.subplot(2, 3, 1)\\nplt.bar(\\n    education_df.groupby(\\\"race/ethnicity\\\")[\\\"tot_exam_score\\\"].mean().index,\\n    education_df.groupby(\\\"race/ethnicity\\\")[\\\"tot_exam_score\\\"].mean(),\\n)\\nplt.title(\\\"Exam Score & Race/Ethnicity\\\")\\n\\nplt.subplot(2, 3, 2)\\nplt.bar(\\n    education_df.groupby(\\\"gender\\\")[\\\"tot_exam_score\\\"].mean().index,\\n    education_df.groupby(\\\"gender\\\")[\\\"tot_exam_score\\\"].mean(),\\n)\\nplt.title(\\\"Exam Score & Gender\\\")\\n\\nplt.subplot(2, 3, 3)\\nplt.bar(\\n    education_df.groupby(\\\"parental level of education\\\")[\\\"tot_exam_score\\\"].mean().index,\\n    education_df.groupby(\\\"parental level of education\\\")[\\\"tot_exam_score\\\"].mean(),\\n)\\nplt.title(\\\"Exam Score & Parent Education\\\")\\n\\nplt.subplot(2, 3, 4)\\nplt.bar(\\n    education_df.groupby(\\\"lunch\\\")[\\\"tot_exam_score\\\"].mean().index,\\n    education_df.groupby(\\\"lunch\\\")[\\\"tot_exam_score\\\"].mean(),\\n)\\nplt.title(\\\"Exam Score & Lunch\\\")\\n\\nplt.subplot(2, 3, 5)\\nplt.bar(\\n    education_df.groupby(\\\"test preparation course\\\")[\\\"tot_exam_score\\\"].mean().index,\\n    education_df.groupby(\\\"test preparation course\\\")[\\\"tot_exam_score\\\"].mean(),\\n)\\nplt.title(\\\"Exam Score & Exam Prep\\\")\\n\\nplt.tight_layout()\\nplt.show()\";\n",
       "                var nbb_formatted_code = \"education_df[\\\"tot_exam_score\\\"] = exam\\nplt.figure(figsize=(20, 15))\\nplt.subplot(2, 3, 1)\\nplt.bar(\\n    education_df.groupby(\\\"race/ethnicity\\\")[\\\"tot_exam_score\\\"].mean().index,\\n    education_df.groupby(\\\"race/ethnicity\\\")[\\\"tot_exam_score\\\"].mean(),\\n)\\nplt.title(\\\"Exam Score & Race/Ethnicity\\\")\\n\\nplt.subplot(2, 3, 2)\\nplt.bar(\\n    education_df.groupby(\\\"gender\\\")[\\\"tot_exam_score\\\"].mean().index,\\n    education_df.groupby(\\\"gender\\\")[\\\"tot_exam_score\\\"].mean(),\\n)\\nplt.title(\\\"Exam Score & Gender\\\")\\n\\nplt.subplot(2, 3, 3)\\nplt.bar(\\n    education_df.groupby(\\\"parental level of education\\\")[\\\"tot_exam_score\\\"].mean().index,\\n    education_df.groupby(\\\"parental level of education\\\")[\\\"tot_exam_score\\\"].mean(),\\n)\\nplt.title(\\\"Exam Score & Parent Education\\\")\\n\\nplt.subplot(2, 3, 4)\\nplt.bar(\\n    education_df.groupby(\\\"lunch\\\")[\\\"tot_exam_score\\\"].mean().index,\\n    education_df.groupby(\\\"lunch\\\")[\\\"tot_exam_score\\\"].mean(),\\n)\\nplt.title(\\\"Exam Score & Lunch\\\")\\n\\nplt.subplot(2, 3, 5)\\nplt.bar(\\n    education_df.groupby(\\\"test preparation course\\\")[\\\"tot_exam_score\\\"].mean().index,\\n    education_df.groupby(\\\"test preparation course\\\")[\\\"tot_exam_score\\\"].mean(),\\n)\\nplt.title(\\\"Exam Score & Exam Prep\\\")\\n\\nplt.tight_layout()\\nplt.show()\";\n",
       "                var nbb_cells = Jupyter.notebook.get_cells();\n",
       "                for (var i = 0; i < nbb_cells.length; ++i) {\n",
       "                    if (nbb_cells[i].input_prompt_number == nbb_cell_id) {\n",
       "                        if (nbb_cells[i].get_text() == nbb_unformatted_code) {\n",
       "                             nbb_cells[i].set_text(nbb_formatted_code);\n",
       "                        }\n",
       "                        break;\n",
       "                    }\n",
       "                }\n",
       "            }, 500);\n",
       "            "
      ],
      "text/plain": [
       "<IPython.core.display.Javascript object>"
      ]
     },
     "metadata": {},
     "output_type": "display_data"
    },
    {
     "data": {
      "application/javascript": [
       "\n",
       "            setTimeout(function() {\n",
       "                var nbb_cell_id = 31;\n",
       "                var nbb_unformatted_code = \"education_df[\\\"tot_exam_score\\\"] = exam\\nplt.figure(figsize=(20, 15))\\nplt.subplot(2, 3, 1)\\nplt.bar(\\n    education_df.groupby(\\\"race/ethnicity\\\")[\\\"tot_exam_score\\\"].mean().index,\\n    education_df.groupby(\\\"race/ethnicity\\\")[\\\"tot_exam_score\\\"].mean(),\\n)\\nplt.title(\\\"Exam Score & Race/Ethnicity\\\")\\n\\nplt.subplot(2, 3, 2)\\nplt.bar(\\n    education_df.groupby(\\\"gender\\\")[\\\"tot_exam_score\\\"].mean().index,\\n    education_df.groupby(\\\"gender\\\")[\\\"tot_exam_score\\\"].mean(),\\n)\\nplt.title(\\\"Exam Score & Gender\\\")\\n\\nplt.subplot(2, 3, 3)\\nplt.bar(\\n    education_df.groupby(\\\"parental level of education\\\")[\\\"tot_exam_score\\\"].mean().index,\\n    education_df.groupby(\\\"parental level of education\\\")[\\\"tot_exam_score\\\"].mean(),\\n)\\nplt.title(\\\"Exam Score & Parent Education\\\")\\n\\nplt.subplot(2, 3, 4)\\nplt.bar(\\n    education_df.groupby(\\\"lunch\\\")[\\\"tot_exam_score\\\"].mean().index,\\n    education_df.groupby(\\\"lunch\\\")[\\\"tot_exam_score\\\"].mean(),\\n)\\nplt.title(\\\"Exam Score & Lunch\\\")\\n\\nplt.subplot(2, 3, 5)\\nplt.bar(\\n    education_df.groupby(\\\"test preparation course\\\")[\\\"tot_exam_score\\\"].mean().index,\\n    education_df.groupby(\\\"test preparation course\\\")[\\\"tot_exam_score\\\"].mean(),\\n)\\nplt.title(\\\"Exam Score & Exam Prep\\\")\\n\\nplt.tight_layout()\\nplt.show()\";\n",
       "                var nbb_formatted_code = \"education_df[\\\"tot_exam_score\\\"] = exam\\nplt.figure(figsize=(20, 15))\\nplt.subplot(2, 3, 1)\\nplt.bar(\\n    education_df.groupby(\\\"race/ethnicity\\\")[\\\"tot_exam_score\\\"].mean().index,\\n    education_df.groupby(\\\"race/ethnicity\\\")[\\\"tot_exam_score\\\"].mean(),\\n)\\nplt.title(\\\"Exam Score & Race/Ethnicity\\\")\\n\\nplt.subplot(2, 3, 2)\\nplt.bar(\\n    education_df.groupby(\\\"gender\\\")[\\\"tot_exam_score\\\"].mean().index,\\n    education_df.groupby(\\\"gender\\\")[\\\"tot_exam_score\\\"].mean(),\\n)\\nplt.title(\\\"Exam Score & Gender\\\")\\n\\nplt.subplot(2, 3, 3)\\nplt.bar(\\n    education_df.groupby(\\\"parental level of education\\\")[\\\"tot_exam_score\\\"].mean().index,\\n    education_df.groupby(\\\"parental level of education\\\")[\\\"tot_exam_score\\\"].mean(),\\n)\\nplt.title(\\\"Exam Score & Parent Education\\\")\\n\\nplt.subplot(2, 3, 4)\\nplt.bar(\\n    education_df.groupby(\\\"lunch\\\")[\\\"tot_exam_score\\\"].mean().index,\\n    education_df.groupby(\\\"lunch\\\")[\\\"tot_exam_score\\\"].mean(),\\n)\\nplt.title(\\\"Exam Score & Lunch\\\")\\n\\nplt.subplot(2, 3, 5)\\nplt.bar(\\n    education_df.groupby(\\\"test preparation course\\\")[\\\"tot_exam_score\\\"].mean().index,\\n    education_df.groupby(\\\"test preparation course\\\")[\\\"tot_exam_score\\\"].mean(),\\n)\\nplt.title(\\\"Exam Score & Exam Prep\\\")\\n\\nplt.tight_layout()\\nplt.show()\";\n",
       "                var nbb_cells = Jupyter.notebook.get_cells();\n",
       "                for (var i = 0; i < nbb_cells.length; ++i) {\n",
       "                    if (nbb_cells[i].input_prompt_number == nbb_cell_id) {\n",
       "                        if (nbb_cells[i].get_text() == nbb_unformatted_code) {\n",
       "                             nbb_cells[i].set_text(nbb_formatted_code);\n",
       "                        }\n",
       "                        break;\n",
       "                    }\n",
       "                }\n",
       "            }, 500);\n",
       "            "
      ],
      "text/plain": [
       "<IPython.core.display.Javascript object>"
      ]
     },
     "metadata": {},
     "output_type": "display_data"
    },
    {
     "data": {
      "application/javascript": [
       "\n",
       "            setTimeout(function() {\n",
       "                var nbb_cell_id = 31;\n",
       "                var nbb_unformatted_code = \"education_df[\\\"tot_exam_score\\\"] = exam\\nplt.figure(figsize=(20, 15))\\nplt.subplot(2, 3, 1)\\nplt.bar(\\n    education_df.groupby(\\\"race/ethnicity\\\")[\\\"tot_exam_score\\\"].mean().index,\\n    education_df.groupby(\\\"race/ethnicity\\\")[\\\"tot_exam_score\\\"].mean(),\\n)\\nplt.title(\\\"Exam Score & Race/Ethnicity\\\")\\n\\nplt.subplot(2, 3, 2)\\nplt.bar(\\n    education_df.groupby(\\\"gender\\\")[\\\"tot_exam_score\\\"].mean().index,\\n    education_df.groupby(\\\"gender\\\")[\\\"tot_exam_score\\\"].mean(),\\n)\\nplt.title(\\\"Exam Score & Gender\\\")\\n\\nplt.subplot(2, 3, 3)\\nplt.bar(\\n    education_df.groupby(\\\"parental level of education\\\")[\\\"tot_exam_score\\\"].mean().index,\\n    education_df.groupby(\\\"parental level of education\\\")[\\\"tot_exam_score\\\"].mean(),\\n)\\nplt.title(\\\"Exam Score & Parent Education\\\")\\n\\nplt.subplot(2, 3, 4)\\nplt.bar(\\n    education_df.groupby(\\\"lunch\\\")[\\\"tot_exam_score\\\"].mean().index,\\n    education_df.groupby(\\\"lunch\\\")[\\\"tot_exam_score\\\"].mean(),\\n)\\nplt.title(\\\"Exam Score & Lunch\\\")\\n\\nplt.subplot(2, 3, 5)\\nplt.bar(\\n    education_df.groupby(\\\"test preparation course\\\")[\\\"tot_exam_score\\\"].mean().index,\\n    education_df.groupby(\\\"test preparation course\\\")[\\\"tot_exam_score\\\"].mean(),\\n)\\nplt.title(\\\"Exam Score & Exam Prep\\\")\\n\\nplt.tight_layout()\\nplt.show()\";\n",
       "                var nbb_formatted_code = \"education_df[\\\"tot_exam_score\\\"] = exam\\nplt.figure(figsize=(20, 15))\\nplt.subplot(2, 3, 1)\\nplt.bar(\\n    education_df.groupby(\\\"race/ethnicity\\\")[\\\"tot_exam_score\\\"].mean().index,\\n    education_df.groupby(\\\"race/ethnicity\\\")[\\\"tot_exam_score\\\"].mean(),\\n)\\nplt.title(\\\"Exam Score & Race/Ethnicity\\\")\\n\\nplt.subplot(2, 3, 2)\\nplt.bar(\\n    education_df.groupby(\\\"gender\\\")[\\\"tot_exam_score\\\"].mean().index,\\n    education_df.groupby(\\\"gender\\\")[\\\"tot_exam_score\\\"].mean(),\\n)\\nplt.title(\\\"Exam Score & Gender\\\")\\n\\nplt.subplot(2, 3, 3)\\nplt.bar(\\n    education_df.groupby(\\\"parental level of education\\\")[\\\"tot_exam_score\\\"].mean().index,\\n    education_df.groupby(\\\"parental level of education\\\")[\\\"tot_exam_score\\\"].mean(),\\n)\\nplt.title(\\\"Exam Score & Parent Education\\\")\\n\\nplt.subplot(2, 3, 4)\\nplt.bar(\\n    education_df.groupby(\\\"lunch\\\")[\\\"tot_exam_score\\\"].mean().index,\\n    education_df.groupby(\\\"lunch\\\")[\\\"tot_exam_score\\\"].mean(),\\n)\\nplt.title(\\\"Exam Score & Lunch\\\")\\n\\nplt.subplot(2, 3, 5)\\nplt.bar(\\n    education_df.groupby(\\\"test preparation course\\\")[\\\"tot_exam_score\\\"].mean().index,\\n    education_df.groupby(\\\"test preparation course\\\")[\\\"tot_exam_score\\\"].mean(),\\n)\\nplt.title(\\\"Exam Score & Exam Prep\\\")\\n\\nplt.tight_layout()\\nplt.show()\";\n",
       "                var nbb_cells = Jupyter.notebook.get_cells();\n",
       "                for (var i = 0; i < nbb_cells.length; ++i) {\n",
       "                    if (nbb_cells[i].input_prompt_number == nbb_cell_id) {\n",
       "                        if (nbb_cells[i].get_text() == nbb_unformatted_code) {\n",
       "                             nbb_cells[i].set_text(nbb_formatted_code);\n",
       "                        }\n",
       "                        break;\n",
       "                    }\n",
       "                }\n",
       "            }, 500);\n",
       "            "
      ],
      "text/plain": [
       "<IPython.core.display.Javascript object>"
      ]
     },
     "metadata": {},
     "output_type": "display_data"
    },
    {
     "data": {
      "application/javascript": [
       "\n",
       "            setTimeout(function() {\n",
       "                var nbb_cell_id = 31;\n",
       "                var nbb_unformatted_code = \"education_df[\\\"tot_exam_score\\\"] = exam\\nplt.figure(figsize=(20, 15))\\nplt.subplot(2, 3, 1)\\nplt.bar(\\n    education_df.groupby(\\\"race/ethnicity\\\")[\\\"tot_exam_score\\\"].mean().index,\\n    education_df.groupby(\\\"race/ethnicity\\\")[\\\"tot_exam_score\\\"].mean(),\\n)\\nplt.title(\\\"Exam Score & Race/Ethnicity\\\")\\n\\nplt.subplot(2, 3, 2)\\nplt.bar(\\n    education_df.groupby(\\\"gender\\\")[\\\"tot_exam_score\\\"].mean().index,\\n    education_df.groupby(\\\"gender\\\")[\\\"tot_exam_score\\\"].mean(),\\n)\\nplt.title(\\\"Exam Score & Gender\\\")\\n\\nplt.subplot(2, 3, 3)\\nplt.bar(\\n    education_df.groupby(\\\"parental level of education\\\")[\\\"tot_exam_score\\\"].mean().index,\\n    education_df.groupby(\\\"parental level of education\\\")[\\\"tot_exam_score\\\"].mean(),\\n)\\nplt.title(\\\"Exam Score & Parent Education\\\")\\n\\nplt.subplot(2, 3, 4)\\nplt.bar(\\n    education_df.groupby(\\\"lunch\\\")[\\\"tot_exam_score\\\"].mean().index,\\n    education_df.groupby(\\\"lunch\\\")[\\\"tot_exam_score\\\"].mean(),\\n)\\nplt.title(\\\"Exam Score & Lunch\\\")\\n\\nplt.subplot(2, 3, 5)\\nplt.bar(\\n    education_df.groupby(\\\"test preparation course\\\")[\\\"tot_exam_score\\\"].mean().index,\\n    education_df.groupby(\\\"test preparation course\\\")[\\\"tot_exam_score\\\"].mean(),\\n)\\nplt.title(\\\"Exam Score & Exam Prep\\\")\\n\\nplt.tight_layout()\\nplt.show()\";\n",
       "                var nbb_formatted_code = \"education_df[\\\"tot_exam_score\\\"] = exam\\nplt.figure(figsize=(20, 15))\\nplt.subplot(2, 3, 1)\\nplt.bar(\\n    education_df.groupby(\\\"race/ethnicity\\\")[\\\"tot_exam_score\\\"].mean().index,\\n    education_df.groupby(\\\"race/ethnicity\\\")[\\\"tot_exam_score\\\"].mean(),\\n)\\nplt.title(\\\"Exam Score & Race/Ethnicity\\\")\\n\\nplt.subplot(2, 3, 2)\\nplt.bar(\\n    education_df.groupby(\\\"gender\\\")[\\\"tot_exam_score\\\"].mean().index,\\n    education_df.groupby(\\\"gender\\\")[\\\"tot_exam_score\\\"].mean(),\\n)\\nplt.title(\\\"Exam Score & Gender\\\")\\n\\nplt.subplot(2, 3, 3)\\nplt.bar(\\n    education_df.groupby(\\\"parental level of education\\\")[\\\"tot_exam_score\\\"].mean().index,\\n    education_df.groupby(\\\"parental level of education\\\")[\\\"tot_exam_score\\\"].mean(),\\n)\\nplt.title(\\\"Exam Score & Parent Education\\\")\\n\\nplt.subplot(2, 3, 4)\\nplt.bar(\\n    education_df.groupby(\\\"lunch\\\")[\\\"tot_exam_score\\\"].mean().index,\\n    education_df.groupby(\\\"lunch\\\")[\\\"tot_exam_score\\\"].mean(),\\n)\\nplt.title(\\\"Exam Score & Lunch\\\")\\n\\nplt.subplot(2, 3, 5)\\nplt.bar(\\n    education_df.groupby(\\\"test preparation course\\\")[\\\"tot_exam_score\\\"].mean().index,\\n    education_df.groupby(\\\"test preparation course\\\")[\\\"tot_exam_score\\\"].mean(),\\n)\\nplt.title(\\\"Exam Score & Exam Prep\\\")\\n\\nplt.tight_layout()\\nplt.show()\";\n",
       "                var nbb_cells = Jupyter.notebook.get_cells();\n",
       "                for (var i = 0; i < nbb_cells.length; ++i) {\n",
       "                    if (nbb_cells[i].input_prompt_number == nbb_cell_id) {\n",
       "                        if (nbb_cells[i].get_text() == nbb_unformatted_code) {\n",
       "                             nbb_cells[i].set_text(nbb_formatted_code);\n",
       "                        }\n",
       "                        break;\n",
       "                    }\n",
       "                }\n",
       "            }, 500);\n",
       "            "
      ],
      "text/plain": [
       "<IPython.core.display.Javascript object>"
      ]
     },
     "metadata": {},
     "output_type": "display_data"
    }
   ],
   "source": [
    "education_df[\"tot_exam_score\"] = exam\n",
    "plt.figure(figsize=(20, 15))\n",
    "plt.subplot(2, 3, 1)\n",
    "plt.bar(\n",
    "    education_df.groupby(\"race/ethnicity\")[\"tot_exam_score\"].mean().index,\n",
    "    education_df.groupby(\"race/ethnicity\")[\"tot_exam_score\"].mean(),\n",
    ")\n",
    "plt.title(\"Exam Score & Race/Ethnicity\")\n",
    "\n",
    "plt.subplot(2, 3, 2)\n",
    "plt.bar(\n",
    "    education_df.groupby(\"gender\")[\"tot_exam_score\"].mean().index,\n",
    "    education_df.groupby(\"gender\")[\"tot_exam_score\"].mean(),\n",
    ")\n",
    "plt.title(\"Exam Score & Gender\")\n",
    "\n",
    "plt.subplot(2, 3, 3)\n",
    "plt.bar(\n",
    "    education_df.groupby(\"parental level of education\")[\"tot_exam_score\"].mean().index,\n",
    "    education_df.groupby(\"parental level of education\")[\"tot_exam_score\"].mean(),\n",
    ")\n",
    "plt.title(\"Exam Score & Parent Education\")\n",
    "\n",
    "plt.subplot(2, 3, 4)\n",
    "plt.bar(\n",
    "    education_df.groupby(\"lunch\")[\"tot_exam_score\"].mean().index,\n",
    "    education_df.groupby(\"lunch\")[\"tot_exam_score\"].mean(),\n",
    ")\n",
    "plt.title(\"Exam Score & Lunch\")\n",
    "\n",
    "plt.subplot(2, 3, 5)\n",
    "plt.bar(\n",
    "    education_df.groupby(\"test preparation course\")[\"tot_exam_score\"].mean().index,\n",
    "    education_df.groupby(\"test preparation course\")[\"tot_exam_score\"].mean(),\n",
    ")\n",
    "plt.title(\"Exam Score & Exam Prep\")\n",
    "\n",
    "plt.tight_layout()\n",
    "plt.show()"
   ]
  }
 ],
 "metadata": {
  "kernelspec": {
   "display_name": "Python 3",
   "language": "python",
   "name": "python3"
  },
  "language_info": {
   "codemirror_mode": {
    "name": "ipython",
    "version": 3
   },
   "file_extension": ".py",
   "mimetype": "text/x-python",
   "name": "python",
   "nbconvert_exporter": "python",
   "pygments_lexer": "ipython3",
   "version": "3.7.6"
  }
 },
 "nbformat": 4,
 "nbformat_minor": 4
}
