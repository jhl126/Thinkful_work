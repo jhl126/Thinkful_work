{
 "cells": [
  {
   "cell_type": "code",
   "execution_count": 1,
   "metadata": {},
   "outputs": [
    {
     "data": {
      "application/javascript": [
       "\n",
       "            setTimeout(function() {\n",
       "                var nbb_cell_id = 1;\n",
       "                var nbb_unformatted_code = \"%reload_ext nb_black\";\n",
       "                var nbb_formatted_code = \"%reload_ext nb_black\";\n",
       "                var nbb_cells = Jupyter.notebook.get_cells();\n",
       "                for (var i = 0; i < nbb_cells.length; ++i) {\n",
       "                    if (nbb_cells[i].input_prompt_number == nbb_cell_id) {\n",
       "                        if (nbb_cells[i].get_text() == nbb_unformatted_code) {\n",
       "                             nbb_cells[i].set_text(nbb_formatted_code);\n",
       "                        }\n",
       "                        break;\n",
       "                    }\n",
       "                }\n",
       "            }, 500);\n",
       "            "
      ],
      "text/plain": [
       "<IPython.core.display.Javascript object>"
      ]
     },
     "metadata": {},
     "output_type": "display_data"
    }
   ],
   "source": [
    "%reload_ext nb_black"
   ]
  },
  {
   "cell_type": "code",
   "execution_count": 2,
   "metadata": {},
   "outputs": [
    {
     "data": {
      "application/javascript": [
       "\n",
       "            setTimeout(function() {\n",
       "                var nbb_cell_id = 2;\n",
       "                var nbb_unformatted_code = \"import numpy as np\\nimport pandas as pd\\nimport matplotlib.pyplot as plt\\nfrom matplotlib.patches import Ellipse\\nfrom sklearn.preprocessing import StandardScaler\\nfrom sklearn.mixture import GaussianMixture\\nfrom sklearn.decomposition import PCA\\nfrom sklearn import datasets, metrics\";\n",
       "                var nbb_formatted_code = \"import numpy as np\\nimport pandas as pd\\nimport matplotlib.pyplot as plt\\nfrom matplotlib.patches import Ellipse\\nfrom sklearn.preprocessing import StandardScaler\\nfrom sklearn.mixture import GaussianMixture\\nfrom sklearn.decomposition import PCA\\nfrom sklearn import datasets, metrics\";\n",
       "                var nbb_cells = Jupyter.notebook.get_cells();\n",
       "                for (var i = 0; i < nbb_cells.length; ++i) {\n",
       "                    if (nbb_cells[i].input_prompt_number == nbb_cell_id) {\n",
       "                        if (nbb_cells[i].get_text() == nbb_unformatted_code) {\n",
       "                             nbb_cells[i].set_text(nbb_formatted_code);\n",
       "                        }\n",
       "                        break;\n",
       "                    }\n",
       "                }\n",
       "            }, 500);\n",
       "            "
      ],
      "text/plain": [
       "<IPython.core.display.Javascript object>"
      ]
     },
     "metadata": {},
     "output_type": "display_data"
    }
   ],
   "source": [
    "import numpy as np\n",
    "import pandas as pd\n",
    "import matplotlib.pyplot as plt\n",
    "from matplotlib.patches import Ellipse\n",
    "from sklearn.preprocessing import StandardScaler\n",
    "from sklearn.mixture import GaussianMixture\n",
    "from sklearn.decomposition import PCA\n",
    "from sklearn import datasets, metrics"
   ]
  },
  {
   "cell_type": "code",
   "execution_count": 5,
   "metadata": {},
   "outputs": [
    {
     "data": {
      "application/javascript": [
       "\n",
       "            setTimeout(function() {\n",
       "                var nbb_cell_id = 5;\n",
       "                var nbb_unformatted_code = \"from sqlalchemy import create_engine\\nimport warnings\\n\\nwarnings.filterwarnings(\\\"ignore\\\")\\n\\npostgres_user = \\\"dsbc_student\\\"\\npostgres_pw = \\\"7*.8G9QH21\\\"\\npostgres_host = \\\"142.93.121.174\\\"\\npostgres_port = \\\"5432\\\"\\npostgres_db = \\\"heartdisease\\\"\\n\\nengine = create_engine(\\n    \\\"postgresql://{}:{}@{}:{}/{}\\\".format(\\n        postgres_user, postgres_pw, postgres_host, postgres_port, postgres_db\\n    )\\n)\\nheartdisease_df = pd.read_sql_query(\\\"select * from heartdisease\\\", con=engine)\\n\\nengine.dispose()\";\n",
       "                var nbb_formatted_code = \"from sqlalchemy import create_engine\\nimport warnings\\n\\nwarnings.filterwarnings(\\\"ignore\\\")\\n\\npostgres_user = \\\"dsbc_student\\\"\\npostgres_pw = \\\"7*.8G9QH21\\\"\\npostgres_host = \\\"142.93.121.174\\\"\\npostgres_port = \\\"5432\\\"\\npostgres_db = \\\"heartdisease\\\"\\n\\nengine = create_engine(\\n    \\\"postgresql://{}:{}@{}:{}/{}\\\".format(\\n        postgres_user, postgres_pw, postgres_host, postgres_port, postgres_db\\n    )\\n)\\nheartdisease_df = pd.read_sql_query(\\\"select * from heartdisease\\\", con=engine)\\n\\nengine.dispose()\";\n",
       "                var nbb_cells = Jupyter.notebook.get_cells();\n",
       "                for (var i = 0; i < nbb_cells.length; ++i) {\n",
       "                    if (nbb_cells[i].input_prompt_number == nbb_cell_id) {\n",
       "                        if (nbb_cells[i].get_text() == nbb_unformatted_code) {\n",
       "                             nbb_cells[i].set_text(nbb_formatted_code);\n",
       "                        }\n",
       "                        break;\n",
       "                    }\n",
       "                }\n",
       "            }, 500);\n",
       "            "
      ],
      "text/plain": [
       "<IPython.core.display.Javascript object>"
      ]
     },
     "metadata": {},
     "output_type": "display_data"
    }
   ],
   "source": [
    "from sqlalchemy import create_engine\n",
    "import warnings\n",
    "\n",
    "warnings.filterwarnings(\"ignore\")\n",
    "\n",
    "postgres_user = \"dsbc_student\"\n",
    "postgres_pw = \"7*.8G9QH21\"\n",
    "postgres_host = \"142.93.121.174\"\n",
    "postgres_port = \"5432\"\n",
    "postgres_db = \"heartdisease\"\n",
    "\n",
    "engine = create_engine(\n",
    "    \"postgresql://{}:{}@{}:{}/{}\".format(\n",
    "        postgres_user, postgres_pw, postgres_host, postgres_port, postgres_db\n",
    "    )\n",
    ")\n",
    "heartdisease_df = pd.read_sql_query(\"select * from heartdisease\", con=engine)\n",
    "\n",
    "engine.dispose()"
   ]
  },
  {
   "cell_type": "code",
   "execution_count": 6,
   "metadata": {},
   "outputs": [
    {
     "data": {
      "text/html": [
       "<div>\n",
       "<style scoped>\n",
       "    .dataframe tbody tr th:only-of-type {\n",
       "        vertical-align: middle;\n",
       "    }\n",
       "\n",
       "    .dataframe tbody tr th {\n",
       "        vertical-align: top;\n",
       "    }\n",
       "\n",
       "    .dataframe thead th {\n",
       "        text-align: right;\n",
       "    }\n",
       "</style>\n",
       "<table border=\"1\" class=\"dataframe\">\n",
       "  <thead>\n",
       "    <tr style=\"text-align: right;\">\n",
       "      <th></th>\n",
       "      <th>0</th>\n",
       "      <th>1</th>\n",
       "      <th>2</th>\n",
       "      <th>3</th>\n",
       "      <th>4</th>\n",
       "      <th>5</th>\n",
       "      <th>6</th>\n",
       "      <th>7</th>\n",
       "      <th>8</th>\n",
       "      <th>9</th>\n",
       "      <th>10</th>\n",
       "      <th>11</th>\n",
       "      <th>12</th>\n",
       "      <th>13</th>\n",
       "    </tr>\n",
       "  </thead>\n",
       "  <tbody>\n",
       "    <tr>\n",
       "      <th>0</th>\n",
       "      <td>63.0</td>\n",
       "      <td>1.0</td>\n",
       "      <td>1.0</td>\n",
       "      <td>145.0</td>\n",
       "      <td>233.0</td>\n",
       "      <td>1.0</td>\n",
       "      <td>2.0</td>\n",
       "      <td>150.0</td>\n",
       "      <td>0.0</td>\n",
       "      <td>2.3</td>\n",
       "      <td>3.0</td>\n",
       "      <td>0.0</td>\n",
       "      <td>6.0</td>\n",
       "      <td>0</td>\n",
       "    </tr>\n",
       "    <tr>\n",
       "      <th>1</th>\n",
       "      <td>67.0</td>\n",
       "      <td>1.0</td>\n",
       "      <td>4.0</td>\n",
       "      <td>160.0</td>\n",
       "      <td>286.0</td>\n",
       "      <td>0.0</td>\n",
       "      <td>2.0</td>\n",
       "      <td>108.0</td>\n",
       "      <td>1.0</td>\n",
       "      <td>1.5</td>\n",
       "      <td>2.0</td>\n",
       "      <td>3.0</td>\n",
       "      <td>3.0</td>\n",
       "      <td>2</td>\n",
       "    </tr>\n",
       "    <tr>\n",
       "      <th>2</th>\n",
       "      <td>67.0</td>\n",
       "      <td>1.0</td>\n",
       "      <td>4.0</td>\n",
       "      <td>120.0</td>\n",
       "      <td>229.0</td>\n",
       "      <td>0.0</td>\n",
       "      <td>2.0</td>\n",
       "      <td>129.0</td>\n",
       "      <td>1.0</td>\n",
       "      <td>2.6</td>\n",
       "      <td>2.0</td>\n",
       "      <td>2.0</td>\n",
       "      <td>7.0</td>\n",
       "      <td>1</td>\n",
       "    </tr>\n",
       "    <tr>\n",
       "      <th>3</th>\n",
       "      <td>37.0</td>\n",
       "      <td>1.0</td>\n",
       "      <td>3.0</td>\n",
       "      <td>130.0</td>\n",
       "      <td>250.0</td>\n",
       "      <td>0.0</td>\n",
       "      <td>0.0</td>\n",
       "      <td>187.0</td>\n",
       "      <td>0.0</td>\n",
       "      <td>3.5</td>\n",
       "      <td>3.0</td>\n",
       "      <td>0.0</td>\n",
       "      <td>3.0</td>\n",
       "      <td>0</td>\n",
       "    </tr>\n",
       "    <tr>\n",
       "      <th>4</th>\n",
       "      <td>41.0</td>\n",
       "      <td>0.0</td>\n",
       "      <td>2.0</td>\n",
       "      <td>130.0</td>\n",
       "      <td>204.0</td>\n",
       "      <td>0.0</td>\n",
       "      <td>2.0</td>\n",
       "      <td>172.0</td>\n",
       "      <td>0.0</td>\n",
       "      <td>1.4</td>\n",
       "      <td>1.0</td>\n",
       "      <td>0.0</td>\n",
       "      <td>3.0</td>\n",
       "      <td>0</td>\n",
       "    </tr>\n",
       "  </tbody>\n",
       "</table>\n",
       "</div>"
      ],
      "text/plain": [
       "      0    1    2      3      4    5    6      7    8    9   10   11   12  13\n",
       "0  63.0  1.0  1.0  145.0  233.0  1.0  2.0  150.0  0.0  2.3  3.0  0.0  6.0   0\n",
       "1  67.0  1.0  4.0  160.0  286.0  0.0  2.0  108.0  1.0  1.5  2.0  3.0  3.0   2\n",
       "2  67.0  1.0  4.0  120.0  229.0  0.0  2.0  129.0  1.0  2.6  2.0  2.0  7.0   1\n",
       "3  37.0  1.0  3.0  130.0  250.0  0.0  0.0  187.0  0.0  3.5  3.0  0.0  3.0   0\n",
       "4  41.0  0.0  2.0  130.0  204.0  0.0  2.0  172.0  0.0  1.4  1.0  0.0  3.0   0"
      ]
     },
     "execution_count": 6,
     "metadata": {},
     "output_type": "execute_result"
    },
    {
     "data": {
      "application/javascript": [
       "\n",
       "            setTimeout(function() {\n",
       "                var nbb_cell_id = 6;\n",
       "                var nbb_unformatted_code = \"heartdisease_df.head()\";\n",
       "                var nbb_formatted_code = \"heartdisease_df.head()\";\n",
       "                var nbb_cells = Jupyter.notebook.get_cells();\n",
       "                for (var i = 0; i < nbb_cells.length; ++i) {\n",
       "                    if (nbb_cells[i].input_prompt_number == nbb_cell_id) {\n",
       "                        if (nbb_cells[i].get_text() == nbb_unformatted_code) {\n",
       "                             nbb_cells[i].set_text(nbb_formatted_code);\n",
       "                        }\n",
       "                        break;\n",
       "                    }\n",
       "                }\n",
       "            }, 500);\n",
       "            "
      ],
      "text/plain": [
       "<IPython.core.display.Javascript object>"
      ]
     },
     "metadata": {},
     "output_type": "display_data"
    }
   ],
   "source": [
    "heartdisease_df.head()"
   ]
  },
  {
   "cell_type": "code",
   "execution_count": 7,
   "metadata": {},
   "outputs": [
    {
     "data": {
      "application/javascript": [
       "\n",
       "            setTimeout(function() {\n",
       "                var nbb_cell_id = 7;\n",
       "                var nbb_unformatted_code = \"# Define the features and the outcome\\nX = heartdisease_df.iloc[:, :13]\\ny = heartdisease_df.iloc[:, 13]\\n\\n# Replace missing values (marked by `?`) with a `0`\\nX = X.replace(to_replace=\\\"?\\\", value=0)\\n\\n# Binarize y so that `1` means heart disease diagnosis and `0` means no diagnosis\\ny = np.where(y > 0, 0, 1)\\n\\nscaler = StandardScaler()\\nX_std = scaler.fit_transform(X)\";\n",
       "                var nbb_formatted_code = \"# Define the features and the outcome\\nX = heartdisease_df.iloc[:, :13]\\ny = heartdisease_df.iloc[:, 13]\\n\\n# Replace missing values (marked by `?`) with a `0`\\nX = X.replace(to_replace=\\\"?\\\", value=0)\\n\\n# Binarize y so that `1` means heart disease diagnosis and `0` means no diagnosis\\ny = np.where(y > 0, 0, 1)\\n\\nscaler = StandardScaler()\\nX_std = scaler.fit_transform(X)\";\n",
       "                var nbb_cells = Jupyter.notebook.get_cells();\n",
       "                for (var i = 0; i < nbb_cells.length; ++i) {\n",
       "                    if (nbb_cells[i].input_prompt_number == nbb_cell_id) {\n",
       "                        if (nbb_cells[i].get_text() == nbb_unformatted_code) {\n",
       "                             nbb_cells[i].set_text(nbb_formatted_code);\n",
       "                        }\n",
       "                        break;\n",
       "                    }\n",
       "                }\n",
       "            }, 500);\n",
       "            "
      ],
      "text/plain": [
       "<IPython.core.display.Javascript object>"
      ]
     },
     "metadata": {},
     "output_type": "display_data"
    }
   ],
   "source": [
    "# Define the features and the outcome\n",
    "X = heartdisease_df.iloc[:, :13]\n",
    "y = heartdisease_df.iloc[:, 13]\n",
    "\n",
    "# Replace missing values (marked by `?`) with a `0`\n",
    "X = X.replace(to_replace=\"?\", value=0)\n",
    "\n",
    "# Binarize y so that `1` means heart disease diagnosis and `0` means no diagnosis\n",
    "y = np.where(y > 0, 0, 1)\n",
    "\n",
    "scaler = StandardScaler()\n",
    "X_std = scaler.fit_transform(X)"
   ]
  },
  {
   "cell_type": "code",
   "execution_count": 25,
   "metadata": {},
   "outputs": [
    {
     "name": "stdout",
     "output_type": "stream",
     "text": [
      "ARI score: 0.4207322145049338\n",
      "Silhouette score: 0.16118591340148433\n"
     ]
    },
    {
     "data": {
      "application/javascript": [
       "\n",
       "            setTimeout(function() {\n",
       "                var nbb_cell_id = 25;\n",
       "                var nbb_unformatted_code = \"gmm2 = GaussianMixture(n_components=2)\\nclusters = gmm2.fit_predict(X_std)\\n\\nprint(\\\"ARI score: {}\\\".format(metrics.adjusted_rand_score(y, clusters)))\\n\\nprint(\\n    \\\"Silhouette score: {}\\\".format(\\n        metrics.silhouette_score(X_std, clusters, metric=\\\"euclidean\\\")\\n    )\\n)\";\n",
       "                var nbb_formatted_code = \"gmm2 = GaussianMixture(n_components=2)\\nclusters = gmm2.fit_predict(X_std)\\n\\nprint(\\\"ARI score: {}\\\".format(metrics.adjusted_rand_score(y, clusters)))\\n\\nprint(\\n    \\\"Silhouette score: {}\\\".format(\\n        metrics.silhouette_score(X_std, clusters, metric=\\\"euclidean\\\")\\n    )\\n)\";\n",
       "                var nbb_cells = Jupyter.notebook.get_cells();\n",
       "                for (var i = 0; i < nbb_cells.length; ++i) {\n",
       "                    if (nbb_cells[i].input_prompt_number == nbb_cell_id) {\n",
       "                        if (nbb_cells[i].get_text() == nbb_unformatted_code) {\n",
       "                             nbb_cells[i].set_text(nbb_formatted_code);\n",
       "                        }\n",
       "                        break;\n",
       "                    }\n",
       "                }\n",
       "            }, 500);\n",
       "            "
      ],
      "text/plain": [
       "<IPython.core.display.Javascript object>"
      ]
     },
     "metadata": {},
     "output_type": "display_data"
    }
   ],
   "source": [
    "gmm2 = GaussianMixture(n_components=2)\n",
    "clusters = gmm2.fit_predict(X_std)\n",
    "\n",
    "print(\"ARI score: {}\".format(metrics.adjusted_rand_score(y, clusters)))\n",
    "\n",
    "print(\n",
    "    \"Silhouette score: {}\".format(\n",
    "        metrics.silhouette_score(X_std, clusters, metric=\"euclidean\")\n",
    "    )\n",
    ")"
   ]
  },
  {
   "cell_type": "code",
   "execution_count": 26,
   "metadata": {},
   "outputs": [
    {
     "name": "stdout",
     "output_type": "stream",
     "text": [
      "ARI score: 0.18389186035089963\n",
      "Silhouette score: 0.13628813153331445\n"
     ]
    },
    {
     "data": {
      "application/javascript": [
       "\n",
       "            setTimeout(function() {\n",
       "                var nbb_cell_id = 26;\n",
       "                var nbb_unformatted_code = \"gmm = GaussianMixture(n_components=2, random_state = 13, covariance_type='full')\\nclusters = gmm.fit_predict(X_std)\\n\\nprint(\\\"ARI score: {}\\\".format(metrics.adjusted_rand_score(y, clusters)))\\n\\nprint(\\n    \\\"Silhouette score: {}\\\".format(\\n        metrics.silhouette_score(X_std, clusters, metric=\\\"euclidean\\\")\\n    )\\n)\";\n",
       "                var nbb_formatted_code = \"gmm = GaussianMixture(n_components=2, random_state=13, covariance_type=\\\"full\\\")\\nclusters = gmm.fit_predict(X_std)\\n\\nprint(\\\"ARI score: {}\\\".format(metrics.adjusted_rand_score(y, clusters)))\\n\\nprint(\\n    \\\"Silhouette score: {}\\\".format(\\n        metrics.silhouette_score(X_std, clusters, metric=\\\"euclidean\\\")\\n    )\\n)\";\n",
       "                var nbb_cells = Jupyter.notebook.get_cells();\n",
       "                for (var i = 0; i < nbb_cells.length; ++i) {\n",
       "                    if (nbb_cells[i].input_prompt_number == nbb_cell_id) {\n",
       "                        if (nbb_cells[i].get_text() == nbb_unformatted_code) {\n",
       "                             nbb_cells[i].set_text(nbb_formatted_code);\n",
       "                        }\n",
       "                        break;\n",
       "                    }\n",
       "                }\n",
       "            }, 500);\n",
       "            "
      ],
      "text/plain": [
       "<IPython.core.display.Javascript object>"
      ]
     },
     "metadata": {},
     "output_type": "display_data"
    }
   ],
   "source": [
    "gmm = GaussianMixture(n_components=2, random_state=13, covariance_type=\"full\")\n",
    "clusters = gmm.fit_predict(X_std)\n",
    "\n",
    "print(\"ARI score: {}\".format(metrics.adjusted_rand_score(y, clusters)))\n",
    "\n",
    "print(\n",
    "    \"Silhouette score: {}\".format(\n",
    "        metrics.silhouette_score(X_std, clusters, metric=\"euclidean\")\n",
    "    )\n",
    ")"
   ]
  },
  {
   "cell_type": "code",
   "execution_count": 31,
   "metadata": {},
   "outputs": [
    {
     "name": "stdout",
     "output_type": "stream",
     "text": [
      "ARI score: 0.18389186035089963\n",
      "Silhouette score: 0.13628813153331445\n"
     ]
    },
    {
     "data": {
      "application/javascript": [
       "\n",
       "            setTimeout(function() {\n",
       "                var nbb_cell_id = 31;\n",
       "                var nbb_unformatted_code = \"gmm = GaussianMixture(n_components=2, random_state=13, covariance_type=\\\"tied\\\")\\nclusters = gmm.fit_predict(X_std)\\n\\nprint(\\\"ARI score: {}\\\".format(metrics.adjusted_rand_score(y, clusters)))\\n\\nprint(\\n    \\\"Silhouette score: {}\\\".format(\\n        metrics.silhouette_score(X_std, clusters, metric=\\\"euclidean\\\")\\n    )\\n)\";\n",
       "                var nbb_formatted_code = \"gmm = GaussianMixture(n_components=2, random_state=13, covariance_type=\\\"tied\\\")\\nclusters = gmm.fit_predict(X_std)\\n\\nprint(\\\"ARI score: {}\\\".format(metrics.adjusted_rand_score(y, clusters)))\\n\\nprint(\\n    \\\"Silhouette score: {}\\\".format(\\n        metrics.silhouette_score(X_std, clusters, metric=\\\"euclidean\\\")\\n    )\\n)\";\n",
       "                var nbb_cells = Jupyter.notebook.get_cells();\n",
       "                for (var i = 0; i < nbb_cells.length; ++i) {\n",
       "                    if (nbb_cells[i].input_prompt_number == nbb_cell_id) {\n",
       "                        if (nbb_cells[i].get_text() == nbb_unformatted_code) {\n",
       "                             nbb_cells[i].set_text(nbb_formatted_code);\n",
       "                        }\n",
       "                        break;\n",
       "                    }\n",
       "                }\n",
       "            }, 500);\n",
       "            "
      ],
      "text/plain": [
       "<IPython.core.display.Javascript object>"
      ]
     },
     "metadata": {},
     "output_type": "display_data"
    }
   ],
   "source": [
    "gmm = GaussianMixture(n_components=2, random_state=13, covariance_type=\"tied\")\n",
    "clusters = gmm.fit_predict(X_std)\n",
    "\n",
    "print(\"ARI score: {}\".format(metrics.adjusted_rand_score(y, clusters)))\n",
    "\n",
    "print(\n",
    "    \"Silhouette score: {}\".format(\n",
    "        metrics.silhouette_score(X_std, clusters, metric=\"euclidean\")\n",
    "    )\n",
    ")"
   ]
  },
  {
   "cell_type": "code",
   "execution_count": 32,
   "metadata": {},
   "outputs": [
    {
     "name": "stdout",
     "output_type": "stream",
     "text": [
      "ARI score: 0.18389186035089963\n",
      "Silhouette score: 0.13628813153331445\n"
     ]
    },
    {
     "data": {
      "application/javascript": [
       "\n",
       "            setTimeout(function() {\n",
       "                var nbb_cell_id = 32;\n",
       "                var nbb_unformatted_code = \"gmm = GaussianMixture(n_components=2, random_state=13, covariance_type=\\\"diag\\\")\\nclusters = gmm.fit_predict(X_std)\\n\\nprint(\\\"ARI score: {}\\\".format(metrics.adjusted_rand_score(y, clusters)))\\n\\nprint(\\n    \\\"Silhouette score: {}\\\".format(\\n        metrics.silhouette_score(X_std, clusters, metric=\\\"euclidean\\\")\\n    )\\n)\";\n",
       "                var nbb_formatted_code = \"gmm = GaussianMixture(n_components=2, random_state=13, covariance_type=\\\"diag\\\")\\nclusters = gmm.fit_predict(X_std)\\n\\nprint(\\\"ARI score: {}\\\".format(metrics.adjusted_rand_score(y, clusters)))\\n\\nprint(\\n    \\\"Silhouette score: {}\\\".format(\\n        metrics.silhouette_score(X_std, clusters, metric=\\\"euclidean\\\")\\n    )\\n)\";\n",
       "                var nbb_cells = Jupyter.notebook.get_cells();\n",
       "                for (var i = 0; i < nbb_cells.length; ++i) {\n",
       "                    if (nbb_cells[i].input_prompt_number == nbb_cell_id) {\n",
       "                        if (nbb_cells[i].get_text() == nbb_unformatted_code) {\n",
       "                             nbb_cells[i].set_text(nbb_formatted_code);\n",
       "                        }\n",
       "                        break;\n",
       "                    }\n",
       "                }\n",
       "            }, 500);\n",
       "            "
      ],
      "text/plain": [
       "<IPython.core.display.Javascript object>"
      ]
     },
     "metadata": {},
     "output_type": "display_data"
    }
   ],
   "source": [
    "gmm = GaussianMixture(n_components=2, random_state=13, covariance_type=\"diag\")\n",
    "clusters = gmm.fit_predict(X_std)\n",
    "\n",
    "print(\"ARI score: {}\".format(metrics.adjusted_rand_score(y, clusters)))\n",
    "\n",
    "print(\n",
    "    \"Silhouette score: {}\".format(\n",
    "        metrics.silhouette_score(X_std, clusters, metric=\"euclidean\")\n",
    "    )\n",
    ")"
   ]
  },
  {
   "cell_type": "code",
   "execution_count": 33,
   "metadata": {},
   "outputs": [
    {
     "name": "stdout",
     "output_type": "stream",
     "text": [
      "ARI score: 0.20765243525722465\n",
      "Silhouette score: 0.12468753110276873\n"
     ]
    },
    {
     "data": {
      "application/javascript": [
       "\n",
       "            setTimeout(function() {\n",
       "                var nbb_cell_id = 33;\n",
       "                var nbb_unformatted_code = \"gmm = GaussianMixture(n_components=2, random_state=13, covariance_type=\\\"spherical\\\")\\nclusters = gmm.fit_predict(X_std)\\n\\nprint(\\\"ARI score: {}\\\".format(metrics.adjusted_rand_score(y, clusters)))\\n\\nprint(\\n    \\\"Silhouette score: {}\\\".format(\\n        metrics.silhouette_score(X_std, clusters, metric=\\\"euclidean\\\")\\n    )\\n)\";\n",
       "                var nbb_formatted_code = \"gmm = GaussianMixture(n_components=2, random_state=13, covariance_type=\\\"spherical\\\")\\nclusters = gmm.fit_predict(X_std)\\n\\nprint(\\\"ARI score: {}\\\".format(metrics.adjusted_rand_score(y, clusters)))\\n\\nprint(\\n    \\\"Silhouette score: {}\\\".format(\\n        metrics.silhouette_score(X_std, clusters, metric=\\\"euclidean\\\")\\n    )\\n)\";\n",
       "                var nbb_cells = Jupyter.notebook.get_cells();\n",
       "                for (var i = 0; i < nbb_cells.length; ++i) {\n",
       "                    if (nbb_cells[i].input_prompt_number == nbb_cell_id) {\n",
       "                        if (nbb_cells[i].get_text() == nbb_unformatted_code) {\n",
       "                             nbb_cells[i].set_text(nbb_formatted_code);\n",
       "                        }\n",
       "                        break;\n",
       "                    }\n",
       "                }\n",
       "            }, 500);\n",
       "            "
      ],
      "text/plain": [
       "<IPython.core.display.Javascript object>"
      ]
     },
     "metadata": {},
     "output_type": "display_data"
    }
   ],
   "source": [
    "gmm = GaussianMixture(n_components=2, random_state=13, covariance_type=\"spherical\")\n",
    "clusters = gmm.fit_predict(X_std)\n",
    "\n",
    "print(\"ARI score: {}\".format(metrics.adjusted_rand_score(y, clusters)))\n",
    "\n",
    "print(\n",
    "    \"Silhouette score: {}\".format(\n",
    "        metrics.silhouette_score(X_std, clusters, metric=\"euclidean\")\n",
    "    )\n",
    ")"
   ]
  }
 ],
 "metadata": {
  "kernelspec": {
   "display_name": "Python 3",
   "language": "python",
   "name": "python3"
  },
  "language_info": {
   "codemirror_mode": {
    "name": "ipython",
    "version": 3
   },
   "file_extension": ".py",
   "mimetype": "text/x-python",
   "name": "python",
   "nbconvert_exporter": "python",
   "pygments_lexer": "ipython3",
   "version": "3.7.6"
  }
 },
 "nbformat": 4,
 "nbformat_minor": 4
}
