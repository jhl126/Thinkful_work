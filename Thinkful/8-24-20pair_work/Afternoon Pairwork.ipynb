{
 "cells": [
  {
   "cell_type": "markdown",
   "metadata": {},
   "source": [
    "## Day 21 Lecture 2 Assignment\n",
    "\n",
    "In this assignment, we will apply techniques for identifying and dealing with outliers to a dataset containing information about Uber rides."
   ]
  },
  {
   "cell_type": "code",
   "execution_count": 1,
   "metadata": {},
   "outputs": [],
   "source": [
    "%matplotlib inline\n",
    "\n",
    "import matplotlib.pyplot as plt\n",
    "import numpy as np\n",
    "import pandas as pd"
   ]
  },
  {
   "cell_type": "code",
   "execution_count": 2,
   "metadata": {},
   "outputs": [],
   "source": [
    "uber_data = pd.read_csv('https://tf-assets-prod.s3.amazonaws.com/tf-curric/data-science/uber_rides.csv')"
   ]
  },
  {
   "cell_type": "code",
   "execution_count": 3,
   "metadata": {},
   "outputs": [
    {
     "data": {
      "text/html": [
       "<div>\n",
       "<style scoped>\n",
       "    .dataframe tbody tr th:only-of-type {\n",
       "        vertical-align: middle;\n",
       "    }\n",
       "\n",
       "    .dataframe tbody tr th {\n",
       "        vertical-align: top;\n",
       "    }\n",
       "\n",
       "    .dataframe thead th {\n",
       "        text-align: right;\n",
       "    }\n",
       "</style>\n",
       "<table border=\"1\" class=\"dataframe\">\n",
       "  <thead>\n",
       "    <tr style=\"text-align: right;\">\n",
       "      <th></th>\n",
       "      <th>trip_uid</th>\n",
       "      <th>trip_time</th>\n",
       "      <th>total_time</th>\n",
       "      <th>wait_time</th>\n",
       "      <th>price_rub</th>\n",
       "      <th>price_usd</th>\n",
       "      <th>distance_kms</th>\n",
       "      <th>temperature_value</th>\n",
       "      <th>feels_like</th>\n",
       "      <th>humidity</th>\n",
       "      <th>wind_speed</th>\n",
       "      <th>cloudness</th>\n",
       "    </tr>\n",
       "  </thead>\n",
       "  <tbody>\n",
       "    <tr>\n",
       "      <th>0</th>\n",
       "      <td>ee89076fd9da9bddf5f096b0ca42f8d5</td>\n",
       "      <td>0:21:33</td>\n",
       "      <td>0:29:00</td>\n",
       "      <td>0:07:27</td>\n",
       "      <td>265</td>\n",
       "      <td>5.17</td>\n",
       "      <td>9.29</td>\n",
       "      <td>12</td>\n",
       "      <td>12</td>\n",
       "      <td>0.69</td>\n",
       "      <td>4.81</td>\n",
       "      <td>0.78</td>\n",
       "    </tr>\n",
       "    <tr>\n",
       "      <th>1</th>\n",
       "      <td>518be51d403944a03c47e8d1f2c87311</td>\n",
       "      <td>0:19:27</td>\n",
       "      <td>0:26:00</td>\n",
       "      <td>0:06:33</td>\n",
       "      <td>255</td>\n",
       "      <td>4.97</td>\n",
       "      <td>9.93</td>\n",
       "      <td>10</td>\n",
       "      <td>10</td>\n",
       "      <td>0.70</td>\n",
       "      <td>6.53</td>\n",
       "      <td>0.66</td>\n",
       "    </tr>\n",
       "    <tr>\n",
       "      <th>2</th>\n",
       "      <td>6e460cc8a12c3c6568d0d4a67ac58393</td>\n",
       "      <td>1:06:53</td>\n",
       "      <td>1:23:00</td>\n",
       "      <td>0:16:07</td>\n",
       "      <td>644</td>\n",
       "      <td>13.01</td>\n",
       "      <td>18.01</td>\n",
       "      <td>14</td>\n",
       "      <td>14</td>\n",
       "      <td>0.61</td>\n",
       "      <td>5.25</td>\n",
       "      <td>0.86</td>\n",
       "    </tr>\n",
       "    <tr>\n",
       "      <th>3</th>\n",
       "      <td>49613a86a04e6c15d72b51d1a2935d81</td>\n",
       "      <td>0:13:37</td>\n",
       "      <td>0:20:00</td>\n",
       "      <td>0:06:23</td>\n",
       "      <td>1287</td>\n",
       "      <td>25.99</td>\n",
       "      <td>5.10</td>\n",
       "      <td>3</td>\n",
       "      <td>3</td>\n",
       "      <td>0.84</td>\n",
       "      <td>0.87</td>\n",
       "      <td>0.56</td>\n",
       "    </tr>\n",
       "    <tr>\n",
       "      <th>4</th>\n",
       "      <td>9896148fdecdb4c5d977a8691510bdb6</td>\n",
       "      <td>0:38:54</td>\n",
       "      <td>0:49:00</td>\n",
       "      <td>0:10:06</td>\n",
       "      <td>665</td>\n",
       "      <td>13.43</td>\n",
       "      <td>21.92</td>\n",
       "      <td>3</td>\n",
       "      <td>1</td>\n",
       "      <td>0.90</td>\n",
       "      <td>1.61</td>\n",
       "      <td>0.31</td>\n",
       "    </tr>\n",
       "  </tbody>\n",
       "</table>\n",
       "</div>"
      ],
      "text/plain": [
       "                           trip_uid trip_time total_time wait_time price_rub  \\\n",
       "0  ee89076fd9da9bddf5f096b0ca42f8d5   0:21:33    0:29:00   0:07:27       265   \n",
       "1  518be51d403944a03c47e8d1f2c87311   0:19:27    0:26:00   0:06:33       255   \n",
       "2  6e460cc8a12c3c6568d0d4a67ac58393   1:06:53    1:23:00   0:16:07       644   \n",
       "3  49613a86a04e6c15d72b51d1a2935d81   0:13:37    0:20:00   0:06:23      1287   \n",
       "4  9896148fdecdb4c5d977a8691510bdb6   0:38:54    0:49:00   0:10:06       665   \n",
       "\n",
       "   price_usd  distance_kms  temperature_value  feels_like  humidity  \\\n",
       "0       5.17          9.29                 12          12      0.69   \n",
       "1       4.97          9.93                 10          10      0.70   \n",
       "2      13.01         18.01                 14          14      0.61   \n",
       "3      25.99          5.10                  3           3      0.84   \n",
       "4      13.43         21.92                  3           1      0.90   \n",
       "\n",
       "   wind_speed cloudness  \n",
       "0        4.81      0.78  \n",
       "1        6.53      0.66  \n",
       "2        5.25      0.86  \n",
       "3        0.87      0.56  \n",
       "4        1.61      0.31  "
      ]
     },
     "execution_count": 3,
     "metadata": {},
     "output_type": "execute_result"
    }
   ],
   "source": [
    "uber_data.head()"
   ]
  },
  {
   "cell_type": "markdown",
   "metadata": {},
   "source": [
    "Before we identify outliers in the given columns, we need to address three time columns (trip_time, total_time, and wait_time), which are provided as formatted strings (HH:MM:SS) instead of numeric values. Convert the values in these three columns into their numeric equivalents in minutes - \"2:15\" should be converted to \"2.25\", \"1:22:30\" should be converted to \"82.5\", and so on. You may find it helpful to write a function that does this and use the .apply() function to apply it to all of the necessary columns."
   ]
  },
  {
   "cell_type": "code",
   "execution_count": 4,
   "metadata": {},
   "outputs": [],
   "source": [
    "names =['trip_time','total_time','wait_time']"
   ]
  },
  {
   "cell_type": "code",
   "execution_count": 5,
   "metadata": {},
   "outputs": [],
   "source": [
    "def time_conversion(x):\n",
    "    h,m,s = x.split(':')\n",
    "    return int(h)*60 + int(m) + int(s)/60"
   ]
  },
  {
   "cell_type": "code",
   "execution_count": 6,
   "metadata": {},
   "outputs": [],
   "source": [
    "for name in names:\n",
    "    uber_data[name] = uber_data[name].apply(time_conversion)"
   ]
  },
  {
   "cell_type": "code",
   "execution_count": 7,
   "metadata": {},
   "outputs": [
    {
     "data": {
      "text/html": [
       "<div>\n",
       "<style scoped>\n",
       "    .dataframe tbody tr th:only-of-type {\n",
       "        vertical-align: middle;\n",
       "    }\n",
       "\n",
       "    .dataframe tbody tr th {\n",
       "        vertical-align: top;\n",
       "    }\n",
       "\n",
       "    .dataframe thead th {\n",
       "        text-align: right;\n",
       "    }\n",
       "</style>\n",
       "<table border=\"1\" class=\"dataframe\">\n",
       "  <thead>\n",
       "    <tr style=\"text-align: right;\">\n",
       "      <th></th>\n",
       "      <th>trip_uid</th>\n",
       "      <th>trip_time</th>\n",
       "      <th>total_time</th>\n",
       "      <th>wait_time</th>\n",
       "      <th>price_rub</th>\n",
       "      <th>price_usd</th>\n",
       "      <th>distance_kms</th>\n",
       "      <th>temperature_value</th>\n",
       "      <th>feels_like</th>\n",
       "      <th>humidity</th>\n",
       "      <th>wind_speed</th>\n",
       "      <th>cloudness</th>\n",
       "    </tr>\n",
       "  </thead>\n",
       "  <tbody>\n",
       "    <tr>\n",
       "      <th>0</th>\n",
       "      <td>ee89076fd9da9bddf5f096b0ca42f8d5</td>\n",
       "      <td>21.550000</td>\n",
       "      <td>29.0</td>\n",
       "      <td>7.450000</td>\n",
       "      <td>265</td>\n",
       "      <td>5.17</td>\n",
       "      <td>9.29</td>\n",
       "      <td>12</td>\n",
       "      <td>12</td>\n",
       "      <td>0.69</td>\n",
       "      <td>4.81</td>\n",
       "      <td>0.78</td>\n",
       "    </tr>\n",
       "    <tr>\n",
       "      <th>1</th>\n",
       "      <td>518be51d403944a03c47e8d1f2c87311</td>\n",
       "      <td>19.450000</td>\n",
       "      <td>26.0</td>\n",
       "      <td>6.550000</td>\n",
       "      <td>255</td>\n",
       "      <td>4.97</td>\n",
       "      <td>9.93</td>\n",
       "      <td>10</td>\n",
       "      <td>10</td>\n",
       "      <td>0.70</td>\n",
       "      <td>6.53</td>\n",
       "      <td>0.66</td>\n",
       "    </tr>\n",
       "    <tr>\n",
       "      <th>2</th>\n",
       "      <td>6e460cc8a12c3c6568d0d4a67ac58393</td>\n",
       "      <td>66.883333</td>\n",
       "      <td>83.0</td>\n",
       "      <td>16.116667</td>\n",
       "      <td>644</td>\n",
       "      <td>13.01</td>\n",
       "      <td>18.01</td>\n",
       "      <td>14</td>\n",
       "      <td>14</td>\n",
       "      <td>0.61</td>\n",
       "      <td>5.25</td>\n",
       "      <td>0.86</td>\n",
       "    </tr>\n",
       "    <tr>\n",
       "      <th>3</th>\n",
       "      <td>49613a86a04e6c15d72b51d1a2935d81</td>\n",
       "      <td>13.616667</td>\n",
       "      <td>20.0</td>\n",
       "      <td>6.383333</td>\n",
       "      <td>1287</td>\n",
       "      <td>25.99</td>\n",
       "      <td>5.10</td>\n",
       "      <td>3</td>\n",
       "      <td>3</td>\n",
       "      <td>0.84</td>\n",
       "      <td>0.87</td>\n",
       "      <td>0.56</td>\n",
       "    </tr>\n",
       "    <tr>\n",
       "      <th>4</th>\n",
       "      <td>9896148fdecdb4c5d977a8691510bdb6</td>\n",
       "      <td>38.900000</td>\n",
       "      <td>49.0</td>\n",
       "      <td>10.100000</td>\n",
       "      <td>665</td>\n",
       "      <td>13.43</td>\n",
       "      <td>21.92</td>\n",
       "      <td>3</td>\n",
       "      <td>1</td>\n",
       "      <td>0.90</td>\n",
       "      <td>1.61</td>\n",
       "      <td>0.31</td>\n",
       "    </tr>\n",
       "  </tbody>\n",
       "</table>\n",
       "</div>"
      ],
      "text/plain": [
       "                           trip_uid  trip_time  total_time  wait_time  \\\n",
       "0  ee89076fd9da9bddf5f096b0ca42f8d5  21.550000        29.0   7.450000   \n",
       "1  518be51d403944a03c47e8d1f2c87311  19.450000        26.0   6.550000   \n",
       "2  6e460cc8a12c3c6568d0d4a67ac58393  66.883333        83.0  16.116667   \n",
       "3  49613a86a04e6c15d72b51d1a2935d81  13.616667        20.0   6.383333   \n",
       "4  9896148fdecdb4c5d977a8691510bdb6  38.900000        49.0  10.100000   \n",
       "\n",
       "  price_rub  price_usd  distance_kms  temperature_value  feels_like  humidity  \\\n",
       "0       265       5.17          9.29                 12          12      0.69   \n",
       "1       255       4.97          9.93                 10          10      0.70   \n",
       "2       644      13.01         18.01                 14          14      0.61   \n",
       "3      1287      25.99          5.10                  3           3      0.84   \n",
       "4       665      13.43         21.92                  3           1      0.90   \n",
       "\n",
       "   wind_speed cloudness  \n",
       "0        4.81      0.78  \n",
       "1        6.53      0.66  \n",
       "2        5.25      0.86  \n",
       "3        0.87      0.56  \n",
       "4        1.61      0.31  "
      ]
     },
     "execution_count": 7,
     "metadata": {},
     "output_type": "execute_result"
    }
   ],
   "source": [
    "uber_data.head()"
   ]
  },
  {
   "cell_type": "markdown",
   "metadata": {},
   "source": [
    "Plot histograms for each of the column, excluding the trip ID. Which features appear to have outliers? What do you suspect the nature of these outliers is (i.e. do you think these are most likely data errors, or correct values that are simply unusually large or small?)"
   ]
  },
  {
   "cell_type": "code",
   "execution_count": null,
   "metadata": {},
   "outputs": [],
   "source": []
  },
  {
   "cell_type": "markdown",
   "metadata": {},
   "source": [
    "Using Tukey's IQR method and a threshold value of 1.5, how many trips have trip_time values that are identified as outliers? Print these trips out."
   ]
  },
  {
   "cell_type": "code",
   "execution_count": null,
   "metadata": {},
   "outputs": [],
   "source": []
  },
  {
   "cell_type": "markdown",
   "metadata": {},
   "source": [
    "There are various ways of handling outliers, including \"clipping\" (also called \"winsorizing\"). Clip the outliers to the appropriate upper/lower threshold calculated as part of Tukey's method. Plot the histogram for trip_time after clipping; how does it look different?"
   ]
  },
  {
   "cell_type": "code",
   "execution_count": null,
   "metadata": {},
   "outputs": [],
   "source": []
  }
 ],
 "metadata": {
  "kernelspec": {
   "display_name": "Python 3",
   "language": "python",
   "name": "python3"
  },
  "language_info": {
   "codemirror_mode": {
    "name": "ipython",
    "version": 3
   },
   "file_extension": ".py",
   "mimetype": "text/x-python",
   "name": "python",
   "nbconvert_exporter": "python",
   "pygments_lexer": "ipython3",
   "version": "3.7.6"
  }
 },
 "nbformat": 4,
 "nbformat_minor": 4
}
