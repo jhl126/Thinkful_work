{
 "cells": [
  {
   "cell_type": "markdown",
   "metadata": {},
   "source": [
    "## Day 25 Lecture 2 Assignment\n",
    "\n",
    "In this assignment, we will extend a previous binary model to a multinomial case with three classes. We will use the FIFA soccer ratings dataset loaded below and analyze the model generated for this dataset."
   ]
  },
  {
   "cell_type": "code",
   "execution_count": 13,
   "metadata": {},
   "outputs": [
    {
     "data": {
      "application/javascript": [
       "\n",
       "            setTimeout(function() {\n",
       "                var nbb_cell_id = 13;\n",
       "                var nbb_unformatted_code = \"%reload_ext nb_black\\nimport pandas as pd\\nimport numpy as np\\n\\nimport statsmodels.api as sm\\n\\nfrom sklearn.preprocessing import StandardScaler\\nfrom sklearn.model_selection import train_test_split, cross_val_score\\nfrom sklearn.metrics import (\\n    classification_report,\\n    confusion_matrix,\\n    roc_curve,\\n    roc_auc_score,\\n)\\nfrom sklearn.linear_model import LogisticRegression\\n\\nfrom mlxtend.plotting import plot_decision_regions\\n\\nimport seaborn as sns\\nimport matplotlib.pyplot as plt\\n\\n%matplotlib inline\";\n",
       "                var nbb_formatted_code = \"%reload_ext nb_black\\nimport pandas as pd\\nimport numpy as np\\n\\nimport statsmodels.api as sm\\n\\nfrom sklearn.preprocessing import StandardScaler\\nfrom sklearn.model_selection import train_test_split, cross_val_score\\nfrom sklearn.metrics import (\\n    classification_report,\\n    confusion_matrix,\\n    roc_curve,\\n    roc_auc_score,\\n)\\nfrom sklearn.linear_model import LogisticRegression\\n\\nfrom mlxtend.plotting import plot_decision_regions\\n\\nimport seaborn as sns\\nimport matplotlib.pyplot as plt\\n\\n%matplotlib inline\";\n",
       "                var nbb_cells = Jupyter.notebook.get_cells();\n",
       "                for (var i = 0; i < nbb_cells.length; ++i) {\n",
       "                    if (nbb_cells[i].input_prompt_number == nbb_cell_id) {\n",
       "                        if (nbb_cells[i].get_text() == nbb_unformatted_code) {\n",
       "                             nbb_cells[i].set_text(nbb_formatted_code);\n",
       "                        }\n",
       "                        break;\n",
       "                    }\n",
       "                }\n",
       "            }, 500);\n",
       "            "
      ],
      "text/plain": [
       "<IPython.core.display.Javascript object>"
      ]
     },
     "metadata": {},
     "output_type": "display_data"
    },
    {
     "data": {
      "application/javascript": [
       "\n",
       "            setTimeout(function() {\n",
       "                var nbb_cell_id = 13;\n",
       "                var nbb_unformatted_code = \"%reload_ext nb_black\\nimport pandas as pd\\nimport numpy as np\\n\\nimport statsmodels.api as sm\\n\\nfrom sklearn.preprocessing import StandardScaler\\nfrom sklearn.model_selection import train_test_split, cross_val_score\\nfrom sklearn.metrics import (\\n    classification_report,\\n    confusion_matrix,\\n    roc_curve,\\n    roc_auc_score,\\n)\\nfrom sklearn.linear_model import LogisticRegression\\n\\nfrom mlxtend.plotting import plot_decision_regions\\n\\nimport seaborn as sns\\nimport matplotlib.pyplot as plt\\n\\n%matplotlib inline\";\n",
       "                var nbb_formatted_code = \"%reload_ext nb_black\\nimport pandas as pd\\nimport numpy as np\\n\\nimport statsmodels.api as sm\\n\\nfrom sklearn.preprocessing import StandardScaler\\nfrom sklearn.model_selection import train_test_split, cross_val_score\\nfrom sklearn.metrics import (\\n    classification_report,\\n    confusion_matrix,\\n    roc_curve,\\n    roc_auc_score,\\n)\\nfrom sklearn.linear_model import LogisticRegression\\n\\nfrom mlxtend.plotting import plot_decision_regions\\n\\nimport seaborn as sns\\nimport matplotlib.pyplot as plt\\n\\n%matplotlib inline\";\n",
       "                var nbb_cells = Jupyter.notebook.get_cells();\n",
       "                for (var i = 0; i < nbb_cells.length; ++i) {\n",
       "                    if (nbb_cells[i].input_prompt_number == nbb_cell_id) {\n",
       "                        if (nbb_cells[i].get_text() == nbb_unformatted_code) {\n",
       "                             nbb_cells[i].set_text(nbb_formatted_code);\n",
       "                        }\n",
       "                        break;\n",
       "                    }\n",
       "                }\n",
       "            }, 500);\n",
       "            "
      ],
      "text/plain": [
       "<IPython.core.display.Javascript object>"
      ]
     },
     "metadata": {},
     "output_type": "display_data"
    }
   ],
   "source": [
    "%reload_ext nb_black\n",
    "import pandas as pd\n",
    "import numpy as np\n",
    "\n",
    "import statsmodels.api as sm\n",
    "\n",
    "from sklearn.preprocessing import StandardScaler\n",
    "from sklearn.model_selection import train_test_split, cross_val_score\n",
    "from sklearn.metrics import (\n",
    "    classification_report,\n",
    "    confusion_matrix,\n",
    "    roc_curve,\n",
    "    roc_auc_score,\n",
    ")\n",
    "from sklearn.linear_model import LogisticRegression\n",
    "\n",
    "from mlxtend.plotting import plot_decision_regions\n",
    "\n",
    "import seaborn as sns\n",
    "import matplotlib.pyplot as plt\n",
    "\n",
    "%matplotlib inline"
   ]
  },
  {
   "cell_type": "code",
   "execution_count": 2,
   "metadata": {},
   "outputs": [
    {
     "data": {
      "application/javascript": [
       "\n",
       "            setTimeout(function() {\n",
       "                var nbb_cell_id = 2;\n",
       "                var nbb_unformatted_code = \"def remove_correlated_features(dataset, threshold):\\n    col_corr = set()\\n    corr_matrix = dataset.corr()\\n    for i in range(len(corr_matrix.columns)):\\n        for j in range(i):\\n            if (corr_matrix.iloc[i, j] >= threshold) and (corr_matrix.columns[j] not in col_corr):\\n                colname = corr_matrix.columns[i]\\n                col_corr.add(colname)\\n                if colname in dataset.columns:\\n                    print(f'Deleted {colname} from dataset.')\\n                    del dataset[colname]\\n\\n    return dataset\";\n",
       "                var nbb_formatted_code = \"def remove_correlated_features(dataset, threshold):\\n    col_corr = set()\\n    corr_matrix = dataset.corr()\\n    for i in range(len(corr_matrix.columns)):\\n        for j in range(i):\\n            if (corr_matrix.iloc[i, j] >= threshold) and (\\n                corr_matrix.columns[j] not in col_corr\\n            ):\\n                colname = corr_matrix.columns[i]\\n                col_corr.add(colname)\\n                if colname in dataset.columns:\\n                    print(f\\\"Deleted {colname} from dataset.\\\")\\n                    del dataset[colname]\\n\\n    return dataset\";\n",
       "                var nbb_cells = Jupyter.notebook.get_cells();\n",
       "                for (var i = 0; i < nbb_cells.length; ++i) {\n",
       "                    if (nbb_cells[i].input_prompt_number == nbb_cell_id) {\n",
       "                        if (nbb_cells[i].get_text() == nbb_unformatted_code) {\n",
       "                             nbb_cells[i].set_text(nbb_formatted_code);\n",
       "                        }\n",
       "                        break;\n",
       "                    }\n",
       "                }\n",
       "            }, 500);\n",
       "            "
      ],
      "text/plain": [
       "<IPython.core.display.Javascript object>"
      ]
     },
     "metadata": {},
     "output_type": "display_data"
    }
   ],
   "source": [
    "def remove_correlated_features(dataset, threshold):\n",
    "    col_corr = set()\n",
    "    corr_matrix = dataset.corr()\n",
    "    for i in range(len(corr_matrix.columns)):\n",
    "        for j in range(i):\n",
    "            if (corr_matrix.iloc[i, j] >= threshold) and (\n",
    "                corr_matrix.columns[j] not in col_corr\n",
    "            ):\n",
    "                colname = corr_matrix.columns[i]\n",
    "                col_corr.add(colname)\n",
    "                if colname in dataset.columns:\n",
    "                    print(f\"Deleted {colname} from dataset.\")\n",
    "                    del dataset[colname]\n",
    "\n",
    "    return dataset"
   ]
  },
  {
   "cell_type": "code",
   "execution_count": 3,
   "metadata": {},
   "outputs": [
    {
     "data": {
      "text/html": [
       "<div>\n",
       "<style scoped>\n",
       "    .dataframe tbody tr th:only-of-type {\n",
       "        vertical-align: middle;\n",
       "    }\n",
       "\n",
       "    .dataframe tbody tr th {\n",
       "        vertical-align: top;\n",
       "    }\n",
       "\n",
       "    .dataframe thead th {\n",
       "        text-align: right;\n",
       "    }\n",
       "</style>\n",
       "<table border=\"1\" class=\"dataframe\">\n",
       "  <thead>\n",
       "    <tr style=\"text-align: right;\">\n",
       "      <th></th>\n",
       "      <th>ID</th>\n",
       "      <th>Name</th>\n",
       "      <th>Overall</th>\n",
       "      <th>Crossing</th>\n",
       "      <th>Finishing</th>\n",
       "      <th>HeadingAccuracy</th>\n",
       "      <th>ShortPassing</th>\n",
       "      <th>Volleys</th>\n",
       "      <th>Dribbling</th>\n",
       "      <th>Curve</th>\n",
       "      <th>...</th>\n",
       "      <th>LongShots</th>\n",
       "      <th>Aggression</th>\n",
       "      <th>Interceptions</th>\n",
       "      <th>Positioning</th>\n",
       "      <th>Vision</th>\n",
       "      <th>Penalties</th>\n",
       "      <th>Composure</th>\n",
       "      <th>Marking</th>\n",
       "      <th>StandingTackle</th>\n",
       "      <th>SlidingTackle</th>\n",
       "    </tr>\n",
       "  </thead>\n",
       "  <tbody>\n",
       "    <tr>\n",
       "      <th>0</th>\n",
       "      <td>158023</td>\n",
       "      <td>L. Messi</td>\n",
       "      <td>94</td>\n",
       "      <td>84</td>\n",
       "      <td>95</td>\n",
       "      <td>70</td>\n",
       "      <td>90</td>\n",
       "      <td>86</td>\n",
       "      <td>97</td>\n",
       "      <td>93</td>\n",
       "      <td>...</td>\n",
       "      <td>94</td>\n",
       "      <td>48</td>\n",
       "      <td>22</td>\n",
       "      <td>94</td>\n",
       "      <td>94</td>\n",
       "      <td>75</td>\n",
       "      <td>96</td>\n",
       "      <td>33</td>\n",
       "      <td>28</td>\n",
       "      <td>26</td>\n",
       "    </tr>\n",
       "    <tr>\n",
       "      <th>1</th>\n",
       "      <td>20801</td>\n",
       "      <td>Cristiano Ronaldo</td>\n",
       "      <td>94</td>\n",
       "      <td>84</td>\n",
       "      <td>94</td>\n",
       "      <td>89</td>\n",
       "      <td>81</td>\n",
       "      <td>87</td>\n",
       "      <td>88</td>\n",
       "      <td>81</td>\n",
       "      <td>...</td>\n",
       "      <td>93</td>\n",
       "      <td>63</td>\n",
       "      <td>29</td>\n",
       "      <td>95</td>\n",
       "      <td>82</td>\n",
       "      <td>85</td>\n",
       "      <td>95</td>\n",
       "      <td>28</td>\n",
       "      <td>31</td>\n",
       "      <td>23</td>\n",
       "    </tr>\n",
       "    <tr>\n",
       "      <th>2</th>\n",
       "      <td>190871</td>\n",
       "      <td>Neymar Jr</td>\n",
       "      <td>92</td>\n",
       "      <td>79</td>\n",
       "      <td>87</td>\n",
       "      <td>62</td>\n",
       "      <td>84</td>\n",
       "      <td>84</td>\n",
       "      <td>96</td>\n",
       "      <td>88</td>\n",
       "      <td>...</td>\n",
       "      <td>82</td>\n",
       "      <td>56</td>\n",
       "      <td>36</td>\n",
       "      <td>89</td>\n",
       "      <td>87</td>\n",
       "      <td>81</td>\n",
       "      <td>94</td>\n",
       "      <td>27</td>\n",
       "      <td>24</td>\n",
       "      <td>33</td>\n",
       "    </tr>\n",
       "    <tr>\n",
       "      <th>3</th>\n",
       "      <td>192985</td>\n",
       "      <td>K. De Bruyne</td>\n",
       "      <td>91</td>\n",
       "      <td>93</td>\n",
       "      <td>82</td>\n",
       "      <td>55</td>\n",
       "      <td>92</td>\n",
       "      <td>82</td>\n",
       "      <td>86</td>\n",
       "      <td>85</td>\n",
       "      <td>...</td>\n",
       "      <td>91</td>\n",
       "      <td>76</td>\n",
       "      <td>61</td>\n",
       "      <td>87</td>\n",
       "      <td>94</td>\n",
       "      <td>79</td>\n",
       "      <td>88</td>\n",
       "      <td>68</td>\n",
       "      <td>58</td>\n",
       "      <td>51</td>\n",
       "    </tr>\n",
       "    <tr>\n",
       "      <th>4</th>\n",
       "      <td>183277</td>\n",
       "      <td>E. Hazard</td>\n",
       "      <td>91</td>\n",
       "      <td>81</td>\n",
       "      <td>84</td>\n",
       "      <td>61</td>\n",
       "      <td>89</td>\n",
       "      <td>80</td>\n",
       "      <td>95</td>\n",
       "      <td>83</td>\n",
       "      <td>...</td>\n",
       "      <td>80</td>\n",
       "      <td>54</td>\n",
       "      <td>41</td>\n",
       "      <td>87</td>\n",
       "      <td>89</td>\n",
       "      <td>86</td>\n",
       "      <td>91</td>\n",
       "      <td>34</td>\n",
       "      <td>27</td>\n",
       "      <td>22</td>\n",
       "    </tr>\n",
       "  </tbody>\n",
       "</table>\n",
       "<p>5 rows × 32 columns</p>\n",
       "</div>"
      ],
      "text/plain": [
       "       ID               Name  Overall  Crossing  Finishing  HeadingAccuracy  \\\n",
       "0  158023           L. Messi       94        84         95               70   \n",
       "1   20801  Cristiano Ronaldo       94        84         94               89   \n",
       "2  190871          Neymar Jr       92        79         87               62   \n",
       "3  192985       K. De Bruyne       91        93         82               55   \n",
       "4  183277          E. Hazard       91        81         84               61   \n",
       "\n",
       "   ShortPassing  Volleys  Dribbling  Curve  ...  LongShots  Aggression  \\\n",
       "0            90       86         97     93  ...         94          48   \n",
       "1            81       87         88     81  ...         93          63   \n",
       "2            84       84         96     88  ...         82          56   \n",
       "3            92       82         86     85  ...         91          76   \n",
       "4            89       80         95     83  ...         80          54   \n",
       "\n",
       "   Interceptions  Positioning  Vision  Penalties  Composure  Marking  \\\n",
       "0             22           94      94         75         96       33   \n",
       "1             29           95      82         85         95       28   \n",
       "2             36           89      87         81         94       27   \n",
       "3             61           87      94         79         88       68   \n",
       "4             41           87      89         86         91       34   \n",
       "\n",
       "   StandingTackle  SlidingTackle  \n",
       "0              28             26  \n",
       "1              31             23  \n",
       "2              24             33  \n",
       "3              58             51  \n",
       "4              27             22  \n",
       "\n",
       "[5 rows x 32 columns]"
      ]
     },
     "execution_count": 3,
     "metadata": {},
     "output_type": "execute_result"
    },
    {
     "data": {
      "application/javascript": [
       "\n",
       "            setTimeout(function() {\n",
       "                var nbb_cell_id = 3;\n",
       "                var nbb_unformatted_code = \"soccer_data = pd.read_csv('https://tf-assets-prod.s3.amazonaws.com/tf-curric/data-science/fifa_ratings.csv')\\nsoccer_data.head()\";\n",
       "                var nbb_formatted_code = \"soccer_data = pd.read_csv(\\n    \\\"https://tf-assets-prod.s3.amazonaws.com/tf-curric/data-science/fifa_ratings.csv\\\"\\n)\\nsoccer_data.head()\";\n",
       "                var nbb_cells = Jupyter.notebook.get_cells();\n",
       "                for (var i = 0; i < nbb_cells.length; ++i) {\n",
       "                    if (nbb_cells[i].input_prompt_number == nbb_cell_id) {\n",
       "                        if (nbb_cells[i].get_text() == nbb_unformatted_code) {\n",
       "                             nbb_cells[i].set_text(nbb_formatted_code);\n",
       "                        }\n",
       "                        break;\n",
       "                    }\n",
       "                }\n",
       "            }, 500);\n",
       "            "
      ],
      "text/plain": [
       "<IPython.core.display.Javascript object>"
      ]
     },
     "metadata": {},
     "output_type": "display_data"
    }
   ],
   "source": [
    "soccer_data = pd.read_csv(\n",
    "    \"https://tf-assets-prod.s3.amazonaws.com/tf-curric/data-science/fifa_ratings.csv\"\n",
    ")\n",
    "soccer_data.head()"
   ]
  },
  {
   "cell_type": "markdown",
   "metadata": {},
   "source": [
    "Our response for our logistic regression model is going to be a new column, \"RankingTier\", that contains three categories:\n",
    "\n",
    "- High: Overall score > 75\n",
    "- Middle: Overall score between 65 and 75\n",
    "- Low: Overall score < 65"
   ]
  },
  {
   "cell_type": "code",
   "execution_count": 4,
   "metadata": {},
   "outputs": [
    {
     "data": {
      "text/plain": [
       "Middle    0.471219\n",
       "Low       0.441012\n",
       "High      0.087768\n",
       "Name: Ranking_Tier, dtype: float64"
      ]
     },
     "execution_count": 4,
     "metadata": {},
     "output_type": "execute_result"
    },
    {
     "data": {
      "application/javascript": [
       "\n",
       "            setTimeout(function() {\n",
       "                var nbb_cell_id = 4;\n",
       "                var nbb_unformatted_code = \"soccer_data[\\\"Ranking_Tier\\\"] = \\\"High\\\"\\nsoccer_data.loc[soccer_data[\\\"Overall\\\"] <= 75, \\\"Ranking_Tier\\\"] = \\\"Middle\\\"\\nsoccer_data.loc[soccer_data[\\\"Overall\\\"] <= 65, \\\"Ranking_Tier\\\"] = \\\"Low\\\"\\n\\nsoccer_data[\\\"Ranking_Tier\\\"].value_counts(normalize=True)\";\n",
       "                var nbb_formatted_code = \"soccer_data[\\\"Ranking_Tier\\\"] = \\\"High\\\"\\nsoccer_data.loc[soccer_data[\\\"Overall\\\"] <= 75, \\\"Ranking_Tier\\\"] = \\\"Middle\\\"\\nsoccer_data.loc[soccer_data[\\\"Overall\\\"] <= 65, \\\"Ranking_Tier\\\"] = \\\"Low\\\"\\n\\nsoccer_data[\\\"Ranking_Tier\\\"].value_counts(normalize=True)\";\n",
       "                var nbb_cells = Jupyter.notebook.get_cells();\n",
       "                for (var i = 0; i < nbb_cells.length; ++i) {\n",
       "                    if (nbb_cells[i].input_prompt_number == nbb_cell_id) {\n",
       "                        if (nbb_cells[i].get_text() == nbb_unformatted_code) {\n",
       "                             nbb_cells[i].set_text(nbb_formatted_code);\n",
       "                        }\n",
       "                        break;\n",
       "                    }\n",
       "                }\n",
       "            }, 500);\n",
       "            "
      ],
      "text/plain": [
       "<IPython.core.display.Javascript object>"
      ]
     },
     "metadata": {},
     "output_type": "display_data"
    }
   ],
   "source": [
    "soccer_data[\"Ranking_Tier\"] = \"High\"\n",
    "soccer_data.loc[soccer_data[\"Overall\"] <= 75, \"Ranking_Tier\"] = \"Middle\"\n",
    "soccer_data.loc[soccer_data[\"Overall\"] <= 65, \"Ranking_Tier\"] = \"Low\"\n",
    "\n",
    "soccer_data[\"Ranking_Tier\"].value_counts(normalize=True)"
   ]
  },
  {
   "cell_type": "code",
   "execution_count": 6,
   "metadata": {},
   "outputs": [
    {
     "data": {
      "text/html": [
       "<div>\n",
       "<style scoped>\n",
       "    .dataframe tbody tr th:only-of-type {\n",
       "        vertical-align: middle;\n",
       "    }\n",
       "\n",
       "    .dataframe tbody tr th {\n",
       "        vertical-align: top;\n",
       "    }\n",
       "\n",
       "    .dataframe thead th {\n",
       "        text-align: right;\n",
       "    }\n",
       "</style>\n",
       "<table border=\"1\" class=\"dataframe\">\n",
       "  <thead>\n",
       "    <tr style=\"text-align: right;\">\n",
       "      <th></th>\n",
       "      <th>ID</th>\n",
       "      <th>Name</th>\n",
       "      <th>Overall</th>\n",
       "      <th>Crossing</th>\n",
       "      <th>Finishing</th>\n",
       "      <th>HeadingAccuracy</th>\n",
       "      <th>ShortPassing</th>\n",
       "      <th>Volleys</th>\n",
       "      <th>Dribbling</th>\n",
       "      <th>Curve</th>\n",
       "      <th>...</th>\n",
       "      <th>Aggression</th>\n",
       "      <th>Interceptions</th>\n",
       "      <th>Positioning</th>\n",
       "      <th>Vision</th>\n",
       "      <th>Penalties</th>\n",
       "      <th>Composure</th>\n",
       "      <th>Marking</th>\n",
       "      <th>StandingTackle</th>\n",
       "      <th>SlidingTackle</th>\n",
       "      <th>Ranking_Tier</th>\n",
       "    </tr>\n",
       "  </thead>\n",
       "  <tbody>\n",
       "    <tr>\n",
       "      <th>0</th>\n",
       "      <td>158023</td>\n",
       "      <td>L. Messi</td>\n",
       "      <td>94</td>\n",
       "      <td>84</td>\n",
       "      <td>95</td>\n",
       "      <td>70</td>\n",
       "      <td>90</td>\n",
       "      <td>86</td>\n",
       "      <td>97</td>\n",
       "      <td>93</td>\n",
       "      <td>...</td>\n",
       "      <td>48</td>\n",
       "      <td>22</td>\n",
       "      <td>94</td>\n",
       "      <td>94</td>\n",
       "      <td>75</td>\n",
       "      <td>96</td>\n",
       "      <td>33</td>\n",
       "      <td>28</td>\n",
       "      <td>26</td>\n",
       "      <td>High</td>\n",
       "    </tr>\n",
       "    <tr>\n",
       "      <th>1</th>\n",
       "      <td>20801</td>\n",
       "      <td>Cristiano Ronaldo</td>\n",
       "      <td>94</td>\n",
       "      <td>84</td>\n",
       "      <td>94</td>\n",
       "      <td>89</td>\n",
       "      <td>81</td>\n",
       "      <td>87</td>\n",
       "      <td>88</td>\n",
       "      <td>81</td>\n",
       "      <td>...</td>\n",
       "      <td>63</td>\n",
       "      <td>29</td>\n",
       "      <td>95</td>\n",
       "      <td>82</td>\n",
       "      <td>85</td>\n",
       "      <td>95</td>\n",
       "      <td>28</td>\n",
       "      <td>31</td>\n",
       "      <td>23</td>\n",
       "      <td>High</td>\n",
       "    </tr>\n",
       "    <tr>\n",
       "      <th>2</th>\n",
       "      <td>190871</td>\n",
       "      <td>Neymar Jr</td>\n",
       "      <td>92</td>\n",
       "      <td>79</td>\n",
       "      <td>87</td>\n",
       "      <td>62</td>\n",
       "      <td>84</td>\n",
       "      <td>84</td>\n",
       "      <td>96</td>\n",
       "      <td>88</td>\n",
       "      <td>...</td>\n",
       "      <td>56</td>\n",
       "      <td>36</td>\n",
       "      <td>89</td>\n",
       "      <td>87</td>\n",
       "      <td>81</td>\n",
       "      <td>94</td>\n",
       "      <td>27</td>\n",
       "      <td>24</td>\n",
       "      <td>33</td>\n",
       "      <td>High</td>\n",
       "    </tr>\n",
       "    <tr>\n",
       "      <th>3</th>\n",
       "      <td>192985</td>\n",
       "      <td>K. De Bruyne</td>\n",
       "      <td>91</td>\n",
       "      <td>93</td>\n",
       "      <td>82</td>\n",
       "      <td>55</td>\n",
       "      <td>92</td>\n",
       "      <td>82</td>\n",
       "      <td>86</td>\n",
       "      <td>85</td>\n",
       "      <td>...</td>\n",
       "      <td>76</td>\n",
       "      <td>61</td>\n",
       "      <td>87</td>\n",
       "      <td>94</td>\n",
       "      <td>79</td>\n",
       "      <td>88</td>\n",
       "      <td>68</td>\n",
       "      <td>58</td>\n",
       "      <td>51</td>\n",
       "      <td>High</td>\n",
       "    </tr>\n",
       "    <tr>\n",
       "      <th>4</th>\n",
       "      <td>183277</td>\n",
       "      <td>E. Hazard</td>\n",
       "      <td>91</td>\n",
       "      <td>81</td>\n",
       "      <td>84</td>\n",
       "      <td>61</td>\n",
       "      <td>89</td>\n",
       "      <td>80</td>\n",
       "      <td>95</td>\n",
       "      <td>83</td>\n",
       "      <td>...</td>\n",
       "      <td>54</td>\n",
       "      <td>41</td>\n",
       "      <td>87</td>\n",
       "      <td>89</td>\n",
       "      <td>86</td>\n",
       "      <td>91</td>\n",
       "      <td>34</td>\n",
       "      <td>27</td>\n",
       "      <td>22</td>\n",
       "      <td>High</td>\n",
       "    </tr>\n",
       "  </tbody>\n",
       "</table>\n",
       "<p>5 rows × 33 columns</p>\n",
       "</div>"
      ],
      "text/plain": [
       "       ID               Name  Overall  Crossing  Finishing  HeadingAccuracy  \\\n",
       "0  158023           L. Messi       94        84         95               70   \n",
       "1   20801  Cristiano Ronaldo       94        84         94               89   \n",
       "2  190871          Neymar Jr       92        79         87               62   \n",
       "3  192985       K. De Bruyne       91        93         82               55   \n",
       "4  183277          E. Hazard       91        81         84               61   \n",
       "\n",
       "   ShortPassing  Volleys  Dribbling  Curve  ...  Aggression  Interceptions  \\\n",
       "0            90       86         97     93  ...          48             22   \n",
       "1            81       87         88     81  ...          63             29   \n",
       "2            84       84         96     88  ...          56             36   \n",
       "3            92       82         86     85  ...          76             61   \n",
       "4            89       80         95     83  ...          54             41   \n",
       "\n",
       "   Positioning  Vision  Penalties  Composure  Marking  StandingTackle  \\\n",
       "0           94      94         75         96       33              28   \n",
       "1           95      82         85         95       28              31   \n",
       "2           89      87         81         94       27              24   \n",
       "3           87      94         79         88       68              58   \n",
       "4           87      89         86         91       34              27   \n",
       "\n",
       "   SlidingTackle  Ranking_Tier  \n",
       "0             26          High  \n",
       "1             23          High  \n",
       "2             33          High  \n",
       "3             51          High  \n",
       "4             22          High  \n",
       "\n",
       "[5 rows x 33 columns]"
      ]
     },
     "execution_count": 6,
     "metadata": {},
     "output_type": "execute_result"
    },
    {
     "data": {
      "application/javascript": [
       "\n",
       "            setTimeout(function() {\n",
       "                var nbb_cell_id = 6;\n",
       "                var nbb_unformatted_code = \"soccer_data.head()\";\n",
       "                var nbb_formatted_code = \"soccer_data.head()\";\n",
       "                var nbb_cells = Jupyter.notebook.get_cells();\n",
       "                for (var i = 0; i < nbb_cells.length; ++i) {\n",
       "                    if (nbb_cells[i].input_prompt_number == nbb_cell_id) {\n",
       "                        if (nbb_cells[i].get_text() == nbb_unformatted_code) {\n",
       "                             nbb_cells[i].set_text(nbb_formatted_code);\n",
       "                        }\n",
       "                        break;\n",
       "                    }\n",
       "                }\n",
       "            }, 500);\n",
       "            "
      ],
      "text/plain": [
       "<IPython.core.display.Javascript object>"
      ]
     },
     "metadata": {},
     "output_type": "display_data"
    }
   ],
   "source": [
    "soccer_data.head()"
   ]
  },
  {
   "cell_type": "markdown",
   "metadata": {},
   "source": [
    "The next few steps until model training are the same as before: identify and remove highly correlated features, and split the data into a training set (80%) and a test set (20%)."
   ]
  },
  {
   "cell_type": "code",
   "execution_count": 20,
   "metadata": {},
   "outputs": [
    {
     "name": "stdout",
     "output_type": "stream",
     "text": [
      "Deleted StandingTackle from dataset.\n",
      "Deleted SlidingTackle from dataset.\n"
     ]
    },
    {
     "data": {
      "application/javascript": [
       "\n",
       "            setTimeout(function() {\n",
       "                var nbb_cell_id = 20;\n",
       "                var nbb_unformatted_code = \"X = soccer_data.drop(columns=[\\\"Overall\\\", \\\"ID\\\", \\\"Name\\\", \\\"Ranking_Tier\\\"])\\ny = soccer_data[\\\"Ranking_Tier\\\"]\\n\\nX_train, X_test, y_train, y_test = train_test_split(\\n    X, y, test_size=0.2, random_state=27\\n)\\nX_train = remove_correlated_features(X_train, threshold=0.9)\\nX_test = X_test[X_train.columns]\\n\\nscaler = StandardScaler()\\n\\nscaler.fit(X_train)\\nX_train = scaler.transform(X_train)\\nX_test = scaler.transform(X_test)\";\n",
       "                var nbb_formatted_code = \"X = soccer_data.drop(columns=[\\\"Overall\\\", \\\"ID\\\", \\\"Name\\\", \\\"Ranking_Tier\\\"])\\ny = soccer_data[\\\"Ranking_Tier\\\"]\\n\\nX_train, X_test, y_train, y_test = train_test_split(\\n    X, y, test_size=0.2, random_state=27\\n)\\nX_train = remove_correlated_features(X_train, threshold=0.9)\\nX_test = X_test[X_train.columns]\\n\\nscaler = StandardScaler()\\n\\nscaler.fit(X_train)\\nX_train = scaler.transform(X_train)\\nX_test = scaler.transform(X_test)\";\n",
       "                var nbb_cells = Jupyter.notebook.get_cells();\n",
       "                for (var i = 0; i < nbb_cells.length; ++i) {\n",
       "                    if (nbb_cells[i].input_prompt_number == nbb_cell_id) {\n",
       "                        if (nbb_cells[i].get_text() == nbb_unformatted_code) {\n",
       "                             nbb_cells[i].set_text(nbb_formatted_code);\n",
       "                        }\n",
       "                        break;\n",
       "                    }\n",
       "                }\n",
       "            }, 500);\n",
       "            "
      ],
      "text/plain": [
       "<IPython.core.display.Javascript object>"
      ]
     },
     "metadata": {},
     "output_type": "display_data"
    },
    {
     "data": {
      "application/javascript": [
       "\n",
       "            setTimeout(function() {\n",
       "                var nbb_cell_id = 20;\n",
       "                var nbb_unformatted_code = \"X = soccer_data.drop(columns=[\\\"Overall\\\", \\\"ID\\\", \\\"Name\\\", \\\"Ranking_Tier\\\"])\\ny = soccer_data[\\\"Ranking_Tier\\\"]\\n\\nX_train, X_test, y_train, y_test = train_test_split(\\n    X, y, test_size=0.2, random_state=27\\n)\\nX_train = remove_correlated_features(X_train, threshold=0.9)\\nX_test = X_test[X_train.columns]\\n\\nscaler = StandardScaler()\\n\\nscaler.fit(X_train)\\nX_train = scaler.transform(X_train)\\nX_test = scaler.transform(X_test)\";\n",
       "                var nbb_formatted_code = \"X = soccer_data.drop(columns=[\\\"Overall\\\", \\\"ID\\\", \\\"Name\\\", \\\"Ranking_Tier\\\"])\\ny = soccer_data[\\\"Ranking_Tier\\\"]\\n\\nX_train, X_test, y_train, y_test = train_test_split(\\n    X, y, test_size=0.2, random_state=27\\n)\\nX_train = remove_correlated_features(X_train, threshold=0.9)\\nX_test = X_test[X_train.columns]\\n\\nscaler = StandardScaler()\\n\\nscaler.fit(X_train)\\nX_train = scaler.transform(X_train)\\nX_test = scaler.transform(X_test)\";\n",
       "                var nbb_cells = Jupyter.notebook.get_cells();\n",
       "                for (var i = 0; i < nbb_cells.length; ++i) {\n",
       "                    if (nbb_cells[i].input_prompt_number == nbb_cell_id) {\n",
       "                        if (nbb_cells[i].get_text() == nbb_unformatted_code) {\n",
       "                             nbb_cells[i].set_text(nbb_formatted_code);\n",
       "                        }\n",
       "                        break;\n",
       "                    }\n",
       "                }\n",
       "            }, 500);\n",
       "            "
      ],
      "text/plain": [
       "<IPython.core.display.Javascript object>"
      ]
     },
     "metadata": {},
     "output_type": "display_data"
    }
   ],
   "source": [
    "X = soccer_data.drop(columns=[\"Overall\", \"ID\", \"Name\", \"Ranking_Tier\"])\n",
    "y = soccer_data[\"Ranking_Tier\"]\n",
    "\n",
    "X_train, X_test, y_train, y_test = train_test_split(\n",
    "    X, y, test_size=0.2, random_state=27\n",
    ")\n",
    "X_train = remove_correlated_features(X_train, threshold=0.9)\n",
    "X_test = X_test[X_train.columns]\n",
    "\n",
    "scaler = StandardScaler()\n",
    "\n",
    "scaler.fit(X_train)\n",
    "X_train = scaler.transform(X_train)\n",
    "X_test = scaler.transform(X_test)"
   ]
  },
  {
   "cell_type": "markdown",
   "metadata": {},
   "source": [
    "Fit a multinomial logistic regression model using the statsmodels package and print out the coefficient summary. What is the \"reference\" tier chosen by the model? How do we interpret the coefficients - for example, how does the intepretation of the \"Reactions\" coefficient for RankingTier=Low differ from the \"Reactions\" coefficient for RankingTier=Middle?"
   ]
  },
  {
   "cell_type": "code",
   "execution_count": 17,
   "metadata": {},
   "outputs": [
    {
     "name": "stdout",
     "output_type": "stream",
     "text": [
      "Optimization terminated successfully.\n",
      "         Current function value: 0.640519\n",
      "         Iterations 8\n",
      "                          MNLogit Regression Results                          \n",
      "==============================================================================\n",
      "Dep. Variable:           Ranking_Tier   No. Observations:                12897\n",
      "Model:                        MNLogit   Df Residuals:                    12843\n",
      "Method:                           MLE   Df Model:                           52\n",
      "Date:                Fri, 28 Aug 2020   Pseudo R-squ.:                  0.3125\n",
      "Time:                        14:42:44   Log-Likelihood:                -8260.8\n",
      "converged:                       True   LL-Null:                       -12016.\n",
      "Covariance Type:            nonrobust   LLR p-value:                     0.000\n",
      "=======================================================================================\n",
      "   Ranking_Tier=Low       coef    std err          z      P>|z|      [0.025      0.975]\n",
      "---------------------------------------------------------------------------------------\n",
      "x1                     -0.0066      0.058     -0.114      0.909      -0.120       0.107\n",
      "x2                     -0.2434      0.085     -2.860      0.004      -0.410      -0.077\n",
      "x3                     -0.7896      0.054    -14.503      0.000      -0.896      -0.683\n",
      "x4                     -0.9025      0.087    -10.329      0.000      -1.074      -0.731\n",
      "x5                      0.0338      0.068      0.495      0.621      -0.100       0.168\n",
      "x6                     -0.0749      0.086     -0.868      0.386      -0.244       0.094\n",
      "x7                     -0.0779      0.067     -1.161      0.246      -0.210       0.054\n",
      "x8                     -0.0754      0.060     -1.257      0.209      -0.193       0.042\n",
      "x9                      0.1165      0.072      1.623      0.105      -0.024       0.257\n",
      "x10                    -1.0929      0.095    -11.478      0.000      -1.280      -0.906\n",
      "x11                    -0.2400      0.079     -3.020      0.003      -0.396      -0.084\n",
      "x12                    -0.3593      0.072     -5.013      0.000      -0.500      -0.219\n",
      "x13                     0.0754      0.063      1.200      0.230      -0.048       0.199\n",
      "x14                    -1.6947      0.065    -25.916      0.000      -1.823      -1.567\n",
      "x15                     0.1044      0.057      1.839      0.066      -0.007       0.216\n",
      "x16                    -0.2081      0.065     -3.222      0.001      -0.335      -0.082\n",
      "x17                    -0.0278      0.039     -0.715      0.475      -0.104       0.048\n",
      "x18                    -0.0153      0.043     -0.357      0.721      -0.099       0.069\n",
      "x19                    -0.1583      0.056     -2.841      0.004      -0.267      -0.049\n",
      "x20                     0.2809      0.079      3.558      0.000       0.126       0.436\n",
      "x21                    -0.0938      0.051     -1.845      0.065      -0.193       0.006\n",
      "x22                     0.1241      0.076      1.628      0.103      -0.025       0.273\n",
      "x23                     0.4865      0.072      6.764      0.000       0.346       0.627\n",
      "x24                     0.2699      0.070      3.844      0.000       0.132       0.408\n",
      "x25                    -0.1947      0.057     -3.409      0.001      -0.307      -0.083\n",
      "x26                    -0.8802      0.058    -15.155      0.000      -0.994      -0.766\n",
      "x27                    -0.4267      0.068     -6.274      0.000      -0.560      -0.293\n",
      "---------------------------------------------------------------------------------------\n",
      "Ranking_Tier=Middle       coef    std err          z      P>|z|      [0.025      0.975]\n",
      "---------------------------------------------------------------------------------------\n",
      "x1                      0.1884      0.043      4.385      0.000       0.104       0.273\n",
      "x2                     -0.0448      0.061     -0.731      0.465      -0.165       0.075\n",
      "x3                      0.0346      0.039      0.894      0.371      -0.041       0.110\n",
      "x4                      0.0469      0.069      0.678      0.498      -0.089       0.182\n",
      "x5                     -0.2031      0.047     -4.321      0.000      -0.295      -0.111\n",
      "x6                     -0.2468      0.067     -3.657      0.000      -0.379      -0.115\n",
      "x7                      0.0071      0.048      0.147      0.883      -0.088       0.102\n",
      "x8                      0.0548      0.042      1.315      0.189      -0.027       0.137\n",
      "x9                      0.1992      0.054      3.664      0.000       0.093       0.306\n",
      "x10                     0.1145      0.075      1.519      0.129      -0.033       0.262\n",
      "x11                    -0.0607      0.059     -1.021      0.307      -0.177       0.056\n",
      "x12                    -0.0436      0.052     -0.831      0.406      -0.146       0.059\n",
      "x13                     0.3443      0.050      6.820      0.000       0.245       0.443\n",
      "x14                    -0.0998      0.048     -2.099      0.036      -0.193      -0.007\n",
      "x15                    -0.1250      0.042     -2.964      0.003      -0.208      -0.042\n",
      "x16                     0.0809      0.050      1.623      0.105      -0.017       0.179\n",
      "x17                     0.0048      0.028      0.170      0.865      -0.050       0.060\n",
      "x18                     0.1445      0.033      4.422      0.000       0.080       0.209\n",
      "x19                     0.2614      0.043      6.023      0.000       0.176       0.346\n",
      "x20                     0.1901      0.059      3.243      0.001       0.075       0.305\n",
      "x21                     0.0601      0.037      1.618      0.106      -0.013       0.133\n",
      "x22                    -0.0094      0.055     -0.172      0.863      -0.117       0.098\n",
      "x23                     0.0296      0.054      0.548      0.583      -0.076       0.135\n",
      "x24                    -0.2875      0.052     -5.560      0.000      -0.389      -0.186\n",
      "x25                    -0.0722      0.039     -1.835      0.067      -0.149       0.005\n",
      "x26                     0.1424      0.045      3.132      0.002       0.053       0.231\n",
      "x27                    -0.2659      0.048     -5.518      0.000      -0.360      -0.171\n",
      "=======================================================================================\n"
     ]
    },
    {
     "data": {
      "application/javascript": [
       "\n",
       "            setTimeout(function() {\n",
       "                var nbb_cell_id = 17;\n",
       "                var nbb_unformatted_code = \"statsmodel = sm.MNLogit(y_train, X_train).fit()\\nprint(statsmodel.summary())\";\n",
       "                var nbb_formatted_code = \"statsmodel = sm.MNLogit(y_train, X_train).fit()\\nprint(statsmodel.summary())\";\n",
       "                var nbb_cells = Jupyter.notebook.get_cells();\n",
       "                for (var i = 0; i < nbb_cells.length; ++i) {\n",
       "                    if (nbb_cells[i].input_prompt_number == nbb_cell_id) {\n",
       "                        if (nbb_cells[i].get_text() == nbb_unformatted_code) {\n",
       "                             nbb_cells[i].set_text(nbb_formatted_code);\n",
       "                        }\n",
       "                        break;\n",
       "                    }\n",
       "                }\n",
       "            }, 500);\n",
       "            "
      ],
      "text/plain": [
       "<IPython.core.display.Javascript object>"
      ]
     },
     "metadata": {},
     "output_type": "display_data"
    },
    {
     "data": {
      "application/javascript": [
       "\n",
       "            setTimeout(function() {\n",
       "                var nbb_cell_id = 17;\n",
       "                var nbb_unformatted_code = \"statsmodel = sm.MNLogit(y_train, X_train).fit()\\nprint(statsmodel.summary())\";\n",
       "                var nbb_formatted_code = \"statsmodel = sm.MNLogit(y_train, X_train).fit()\\nprint(statsmodel.summary())\";\n",
       "                var nbb_cells = Jupyter.notebook.get_cells();\n",
       "                for (var i = 0; i < nbb_cells.length; ++i) {\n",
       "                    if (nbb_cells[i].input_prompt_number == nbb_cell_id) {\n",
       "                        if (nbb_cells[i].get_text() == nbb_unformatted_code) {\n",
       "                             nbb_cells[i].set_text(nbb_formatted_code);\n",
       "                        }\n",
       "                        break;\n",
       "                    }\n",
       "                }\n",
       "            }, 500);\n",
       "            "
      ],
      "text/plain": [
       "<IPython.core.display.Javascript object>"
      ]
     },
     "metadata": {},
     "output_type": "display_data"
    }
   ],
   "source": [
    "statsmodel = sm.MNLogit(y_train, X_train).fit()\n",
    "print(statsmodel.summary())"
   ]
  },
  {
   "cell_type": "markdown",
   "metadata": {},
   "source": [
    "To evaluate test error using cross-validation, we will switch back to scikit-learn. Estimate the test error of this multinomial logistic regression model using 10-fold CV.\n",
    "\n",
    "Note: scikit-learn's LogisticRegression() function can handle both binary and multinomial regression, and it is automatically able to determine which is appropriate based on the y_train array that is passed. You should be able to reuse previous code with minimal changes required."
   ]
  },
  {
   "cell_type": "code",
   "execution_count": 18,
   "metadata": {},
   "outputs": [
    {
     "data": {
      "text/plain": [
       "array([0.84573643, 0.84573643, 0.83210547, 0.83830942, 0.83094223])"
      ]
     },
     "execution_count": 18,
     "metadata": {},
     "output_type": "execute_result"
    },
    {
     "data": {
      "application/javascript": [
       "\n",
       "            setTimeout(function() {\n",
       "                var nbb_cell_id = 18;\n",
       "                var nbb_unformatted_code = \"model = LogisticRegression()\\ncross_val_score(model, X_train, y_train)\";\n",
       "                var nbb_formatted_code = \"model = LogisticRegression()\\ncross_val_score(model, X_train, y_train)\";\n",
       "                var nbb_cells = Jupyter.notebook.get_cells();\n",
       "                for (var i = 0; i < nbb_cells.length; ++i) {\n",
       "                    if (nbb_cells[i].input_prompt_number == nbb_cell_id) {\n",
       "                        if (nbb_cells[i].get_text() == nbb_unformatted_code) {\n",
       "                             nbb_cells[i].set_text(nbb_formatted_code);\n",
       "                        }\n",
       "                        break;\n",
       "                    }\n",
       "                }\n",
       "            }, 500);\n",
       "            "
      ],
      "text/plain": [
       "<IPython.core.display.Javascript object>"
      ]
     },
     "metadata": {},
     "output_type": "display_data"
    },
    {
     "data": {
      "application/javascript": [
       "\n",
       "            setTimeout(function() {\n",
       "                var nbb_cell_id = 18;\n",
       "                var nbb_unformatted_code = \"model = LogisticRegression()\\ncross_val_score(model, X_train, y_train)\";\n",
       "                var nbb_formatted_code = \"model = LogisticRegression()\\ncross_val_score(model, X_train, y_train)\";\n",
       "                var nbb_cells = Jupyter.notebook.get_cells();\n",
       "                for (var i = 0; i < nbb_cells.length; ++i) {\n",
       "                    if (nbb_cells[i].input_prompt_number == nbb_cell_id) {\n",
       "                        if (nbb_cells[i].get_text() == nbb_unformatted_code) {\n",
       "                             nbb_cells[i].set_text(nbb_formatted_code);\n",
       "                        }\n",
       "                        break;\n",
       "                    }\n",
       "                }\n",
       "            }, 500);\n",
       "            "
      ],
      "text/plain": [
       "<IPython.core.display.Javascript object>"
      ]
     },
     "metadata": {},
     "output_type": "display_data"
    }
   ],
   "source": [
    "model = LogisticRegression()\n",
    "cross_val_score(model, X_train, y_train)"
   ]
  },
  {
   "cell_type": "markdown",
   "metadata": {},
   "source": [
    "As we did in the previous exercise, train a multinomial logistic regression on the training data, make predictions on the 20% holdout test data, then:\n",
    "\n",
    "- Determine the precision, recall, and F1-score of our model using a cutoff/threshold of 0.5 (hint: scikit-learn's *classification_report* function may be helpful)\n",
    "- Plot or otherwise generate a confusion matrix\n",
    "- Plot the ROC curve for our logistic regression model\n",
    "\n",
    "Comment on the performance of the model."
   ]
  },
  {
   "cell_type": "code",
   "execution_count": 23,
   "metadata": {},
   "outputs": [
    {
     "data": {
      "text/plain": [
       "LogisticRegression(C=1.0, class_weight=None, dual=False, fit_intercept=True,\n",
       "                   intercept_scaling=1, l1_ratio=None, max_iter=100,\n",
       "                   multi_class='auto', n_jobs=None, penalty='l2',\n",
       "                   random_state=None, solver='lbfgs', tol=0.0001, verbose=0,\n",
       "                   warm_start=False)"
      ]
     },
     "execution_count": 23,
     "metadata": {},
     "output_type": "execute_result"
    },
    {
     "data": {
      "application/javascript": [
       "\n",
       "            setTimeout(function() {\n",
       "                var nbb_cell_id = 23;\n",
       "                var nbb_unformatted_code = \"model = LogisticRegression()\\nmodel.fit(X_train, y_train)\";\n",
       "                var nbb_formatted_code = \"model = LogisticRegression()\\nmodel.fit(X_train, y_train)\";\n",
       "                var nbb_cells = Jupyter.notebook.get_cells();\n",
       "                for (var i = 0; i < nbb_cells.length; ++i) {\n",
       "                    if (nbb_cells[i].input_prompt_number == nbb_cell_id) {\n",
       "                        if (nbb_cells[i].get_text() == nbb_unformatted_code) {\n",
       "                             nbb_cells[i].set_text(nbb_formatted_code);\n",
       "                        }\n",
       "                        break;\n",
       "                    }\n",
       "                }\n",
       "            }, 500);\n",
       "            "
      ],
      "text/plain": [
       "<IPython.core.display.Javascript object>"
      ]
     },
     "metadata": {},
     "output_type": "display_data"
    },
    {
     "data": {
      "application/javascript": [
       "\n",
       "            setTimeout(function() {\n",
       "                var nbb_cell_id = 23;\n",
       "                var nbb_unformatted_code = \"model = LogisticRegression()\\nmodel.fit(X_train, y_train)\";\n",
       "                var nbb_formatted_code = \"model = LogisticRegression()\\nmodel.fit(X_train, y_train)\";\n",
       "                var nbb_cells = Jupyter.notebook.get_cells();\n",
       "                for (var i = 0; i < nbb_cells.length; ++i) {\n",
       "                    if (nbb_cells[i].input_prompt_number == nbb_cell_id) {\n",
       "                        if (nbb_cells[i].get_text() == nbb_unformatted_code) {\n",
       "                             nbb_cells[i].set_text(nbb_formatted_code);\n",
       "                        }\n",
       "                        break;\n",
       "                    }\n",
       "                }\n",
       "            }, 500);\n",
       "            "
      ],
      "text/plain": [
       "<IPython.core.display.Javascript object>"
      ]
     },
     "metadata": {},
     "output_type": "display_data"
    }
   ],
   "source": [
    "model = LogisticRegression()\n",
    "model.fit(X_train, y_train)"
   ]
  },
  {
   "cell_type": "code",
   "execution_count": 25,
   "metadata": {},
   "outputs": [
    {
     "name": "stdout",
     "output_type": "stream",
     "text": [
      "              precision    recall  f1-score   support\n",
      "\n",
      "        High       0.83      0.73      0.78       262\n",
      "         Low       0.86      0.84      0.85      1454\n",
      "      Middle       0.81      0.84      0.82      1509\n",
      "\n",
      "    accuracy                           0.83      3225\n",
      "   macro avg       0.83      0.80      0.82      3225\n",
      "weighted avg       0.83      0.83      0.83      3225\n",
      "\n"
     ]
    },
    {
     "data": {
      "application/javascript": [
       "\n",
       "            setTimeout(function() {\n",
       "                var nbb_cell_id = 25;\n",
       "                var nbb_unformatted_code = \"y_pred = model.predict(X_test)\\ny_prob = model.predict_proba(X_test)\\nprint(classification_report(y_test,y_pred))\";\n",
       "                var nbb_formatted_code = \"y_pred = model.predict(X_test)\\ny_prob = model.predict_proba(X_test)\\nprint(classification_report(y_test, y_pred))\";\n",
       "                var nbb_cells = Jupyter.notebook.get_cells();\n",
       "                for (var i = 0; i < nbb_cells.length; ++i) {\n",
       "                    if (nbb_cells[i].input_prompt_number == nbb_cell_id) {\n",
       "                        if (nbb_cells[i].get_text() == nbb_unformatted_code) {\n",
       "                             nbb_cells[i].set_text(nbb_formatted_code);\n",
       "                        }\n",
       "                        break;\n",
       "                    }\n",
       "                }\n",
       "            }, 500);\n",
       "            "
      ],
      "text/plain": [
       "<IPython.core.display.Javascript object>"
      ]
     },
     "metadata": {},
     "output_type": "display_data"
    },
    {
     "data": {
      "application/javascript": [
       "\n",
       "            setTimeout(function() {\n",
       "                var nbb_cell_id = 25;\n",
       "                var nbb_unformatted_code = \"y_pred = model.predict(X_test)\\ny_prob = model.predict_proba(X_test)\\nprint(classification_report(y_test,y_pred))\";\n",
       "                var nbb_formatted_code = \"y_pred = model.predict(X_test)\\ny_prob = model.predict_proba(X_test)\\nprint(classification_report(y_test, y_pred))\";\n",
       "                var nbb_cells = Jupyter.notebook.get_cells();\n",
       "                for (var i = 0; i < nbb_cells.length; ++i) {\n",
       "                    if (nbb_cells[i].input_prompt_number == nbb_cell_id) {\n",
       "                        if (nbb_cells[i].get_text() == nbb_unformatted_code) {\n",
       "                             nbb_cells[i].set_text(nbb_formatted_code);\n",
       "                        }\n",
       "                        break;\n",
       "                    }\n",
       "                }\n",
       "            }, 500);\n",
       "            "
      ],
      "text/plain": [
       "<IPython.core.display.Javascript object>"
      ]
     },
     "metadata": {},
     "output_type": "display_data"
    }
   ],
   "source": [
    "y_pred = model.predict(X_test)\n",
    "y_prob = model.predict_proba(X_test)\n",
    "print(classification_report(y_test, y_pred))"
   ]
  },
  {
   "cell_type": "code",
   "execution_count": 27,
   "metadata": {},
   "outputs": [
    {
     "data": {
      "text/plain": [
       "array([[ 192,    0,   70],\n",
       "       [   0, 1217,  237],\n",
       "       [  39,  198, 1272]], dtype=int64)"
      ]
     },
     "execution_count": 27,
     "metadata": {},
     "output_type": "execute_result"
    },
    {
     "data": {
      "application/javascript": [
       "\n",
       "            setTimeout(function() {\n",
       "                var nbb_cell_id = 27;\n",
       "                var nbb_unformatted_code = \"#high = first row/col\\n#low = second row/col\\n#middle = third row/col\\nconfusion_matrix(y_test, y_pred)\";\n",
       "                var nbb_formatted_code = \"# high = first row/col\\n# low = second row/col\\n# middle = third row/col\\nconfusion_matrix(y_test, y_pred)\";\n",
       "                var nbb_cells = Jupyter.notebook.get_cells();\n",
       "                for (var i = 0; i < nbb_cells.length; ++i) {\n",
       "                    if (nbb_cells[i].input_prompt_number == nbb_cell_id) {\n",
       "                        if (nbb_cells[i].get_text() == nbb_unformatted_code) {\n",
       "                             nbb_cells[i].set_text(nbb_formatted_code);\n",
       "                        }\n",
       "                        break;\n",
       "                    }\n",
       "                }\n",
       "            }, 500);\n",
       "            "
      ],
      "text/plain": [
       "<IPython.core.display.Javascript object>"
      ]
     },
     "metadata": {},
     "output_type": "display_data"
    },
    {
     "data": {
      "application/javascript": [
       "\n",
       "            setTimeout(function() {\n",
       "                var nbb_cell_id = 27;\n",
       "                var nbb_unformatted_code = \"#high = first row/col\\n#low = second row/col\\n#middle = third row/col\\nconfusion_matrix(y_test, y_pred)\";\n",
       "                var nbb_formatted_code = \"# high = first row/col\\n# low = second row/col\\n# middle = third row/col\\nconfusion_matrix(y_test, y_pred)\";\n",
       "                var nbb_cells = Jupyter.notebook.get_cells();\n",
       "                for (var i = 0; i < nbb_cells.length; ++i) {\n",
       "                    if (nbb_cells[i].input_prompt_number == nbb_cell_id) {\n",
       "                        if (nbb_cells[i].get_text() == nbb_unformatted_code) {\n",
       "                             nbb_cells[i].set_text(nbb_formatted_code);\n",
       "                        }\n",
       "                        break;\n",
       "                    }\n",
       "                }\n",
       "            }, 500);\n",
       "            "
      ],
      "text/plain": [
       "<IPython.core.display.Javascript object>"
      ]
     },
     "metadata": {},
     "output_type": "display_data"
    }
   ],
   "source": [
    "# high = first row/col\n",
    "# low = second row/col\n",
    "# middle = third row/col\n",
    "confusion_matrix(y_test, y_pred)"
   ]
  },
  {
   "cell_type": "code",
   "execution_count": 30,
   "metadata": {},
   "outputs": [
    {
     "data": {
      "application/javascript": [
       "\n",
       "            setTimeout(function() {\n",
       "                var nbb_cell_id = 30;\n",
       "                var nbb_unformatted_code = \"y_prob_hi = y_prob[:, 0]\\ny_prob_lo = y_prob[:, 1]\\ny_prob_mi = y_prob[:, 2]\";\n",
       "                var nbb_formatted_code = \"y_prob_hi = y_prob[:, 0]\\ny_prob_lo = y_prob[:, 1]\\ny_prob_mi = y_prob[:, 2]\";\n",
       "                var nbb_cells = Jupyter.notebook.get_cells();\n",
       "                for (var i = 0; i < nbb_cells.length; ++i) {\n",
       "                    if (nbb_cells[i].input_prompt_number == nbb_cell_id) {\n",
       "                        if (nbb_cells[i].get_text() == nbb_unformatted_code) {\n",
       "                             nbb_cells[i].set_text(nbb_formatted_code);\n",
       "                        }\n",
       "                        break;\n",
       "                    }\n",
       "                }\n",
       "            }, 500);\n",
       "            "
      ],
      "text/plain": [
       "<IPython.core.display.Javascript object>"
      ]
     },
     "metadata": {},
     "output_type": "display_data"
    },
    {
     "data": {
      "application/javascript": [
       "\n",
       "            setTimeout(function() {\n",
       "                var nbb_cell_id = 30;\n",
       "                var nbb_unformatted_code = \"y_prob_hi = y_prob[:, 0]\\ny_prob_lo = y_prob[:, 1]\\ny_prob_mi = y_prob[:, 2]\";\n",
       "                var nbb_formatted_code = \"y_prob_hi = y_prob[:, 0]\\ny_prob_lo = y_prob[:, 1]\\ny_prob_mi = y_prob[:, 2]\";\n",
       "                var nbb_cells = Jupyter.notebook.get_cells();\n",
       "                for (var i = 0; i < nbb_cells.length; ++i) {\n",
       "                    if (nbb_cells[i].input_prompt_number == nbb_cell_id) {\n",
       "                        if (nbb_cells[i].get_text() == nbb_unformatted_code) {\n",
       "                             nbb_cells[i].set_text(nbb_formatted_code);\n",
       "                        }\n",
       "                        break;\n",
       "                    }\n",
       "                }\n",
       "            }, 500);\n",
       "            "
      ],
      "text/plain": [
       "<IPython.core.display.Javascript object>"
      ]
     },
     "metadata": {},
     "output_type": "display_data"
    }
   ],
   "source": [
    "y_prob_hi = y_prob[:, 0]\n",
    "y_prob_lo = y_prob[:, 1]\n",
    "y_prob_mi = y_prob[:, 2]"
   ]
  },
  {
   "cell_type": "code",
   "execution_count": 32,
   "metadata": {},
   "outputs": [
    {
     "data": {
      "text/plain": [
       "0.983963797780772"
      ]
     },
     "execution_count": 32,
     "metadata": {},
     "output_type": "execute_result"
    },
    {
     "data": {
      "application/javascript": [
       "\n",
       "            setTimeout(function() {\n",
       "                var nbb_cell_id = 32;\n",
       "                var nbb_unformatted_code = \"roc_auc_score(y_test == \\\"High\\\", y_prob_hi)\";\n",
       "                var nbb_formatted_code = \"roc_auc_score(y_test == \\\"High\\\", y_prob_hi)\";\n",
       "                var nbb_cells = Jupyter.notebook.get_cells();\n",
       "                for (var i = 0; i < nbb_cells.length; ++i) {\n",
       "                    if (nbb_cells[i].input_prompt_number == nbb_cell_id) {\n",
       "                        if (nbb_cells[i].get_text() == nbb_unformatted_code) {\n",
       "                             nbb_cells[i].set_text(nbb_formatted_code);\n",
       "                        }\n",
       "                        break;\n",
       "                    }\n",
       "                }\n",
       "            }, 500);\n",
       "            "
      ],
      "text/plain": [
       "<IPython.core.display.Javascript object>"
      ]
     },
     "metadata": {},
     "output_type": "display_data"
    },
    {
     "data": {
      "application/javascript": [
       "\n",
       "            setTimeout(function() {\n",
       "                var nbb_cell_id = 32;\n",
       "                var nbb_unformatted_code = \"roc_auc_score(y_test == \\\"High\\\", y_prob_hi)\";\n",
       "                var nbb_formatted_code = \"roc_auc_score(y_test == \\\"High\\\", y_prob_hi)\";\n",
       "                var nbb_cells = Jupyter.notebook.get_cells();\n",
       "                for (var i = 0; i < nbb_cells.length; ++i) {\n",
       "                    if (nbb_cells[i].input_prompt_number == nbb_cell_id) {\n",
       "                        if (nbb_cells[i].get_text() == nbb_unformatted_code) {\n",
       "                             nbb_cells[i].set_text(nbb_formatted_code);\n",
       "                        }\n",
       "                        break;\n",
       "                    }\n",
       "                }\n",
       "            }, 500);\n",
       "            "
      ],
      "text/plain": [
       "<IPython.core.display.Javascript object>"
      ]
     },
     "metadata": {},
     "output_type": "display_data"
    }
   ],
   "source": [
    "roc_auc_score(y_test == \"High\", y_prob_hi)"
   ]
  },
  {
   "cell_type": "code",
   "execution_count": 34,
   "metadata": {},
   "outputs": [
    {
     "data": {
      "text/plain": [
       "0.9201763003949883"
      ]
     },
     "execution_count": 34,
     "metadata": {},
     "output_type": "execute_result"
    },
    {
     "data": {
      "application/javascript": [
       "\n",
       "            setTimeout(function() {\n",
       "                var nbb_cell_id = 34;\n",
       "                var nbb_unformatted_code = \"roc_auc_score(y_test == 'Middle', y_prob_mi)\";\n",
       "                var nbb_formatted_code = \"roc_auc_score(y_test == \\\"Middle\\\", y_prob_mi)\";\n",
       "                var nbb_cells = Jupyter.notebook.get_cells();\n",
       "                for (var i = 0; i < nbb_cells.length; ++i) {\n",
       "                    if (nbb_cells[i].input_prompt_number == nbb_cell_id) {\n",
       "                        if (nbb_cells[i].get_text() == nbb_unformatted_code) {\n",
       "                             nbb_cells[i].set_text(nbb_formatted_code);\n",
       "                        }\n",
       "                        break;\n",
       "                    }\n",
       "                }\n",
       "            }, 500);\n",
       "            "
      ],
      "text/plain": [
       "<IPython.core.display.Javascript object>"
      ]
     },
     "metadata": {},
     "output_type": "display_data"
    },
    {
     "data": {
      "application/javascript": [
       "\n",
       "            setTimeout(function() {\n",
       "                var nbb_cell_id = 34;\n",
       "                var nbb_unformatted_code = \"roc_auc_score(y_test == 'Middle', y_prob_mi)\";\n",
       "                var nbb_formatted_code = \"roc_auc_score(y_test == \\\"Middle\\\", y_prob_mi)\";\n",
       "                var nbb_cells = Jupyter.notebook.get_cells();\n",
       "                for (var i = 0; i < nbb_cells.length; ++i) {\n",
       "                    if (nbb_cells[i].input_prompt_number == nbb_cell_id) {\n",
       "                        if (nbb_cells[i].get_text() == nbb_unformatted_code) {\n",
       "                             nbb_cells[i].set_text(nbb_formatted_code);\n",
       "                        }\n",
       "                        break;\n",
       "                    }\n",
       "                }\n",
       "            }, 500);\n",
       "            "
      ],
      "text/plain": [
       "<IPython.core.display.Javascript object>"
      ]
     },
     "metadata": {},
     "output_type": "display_data"
    }
   ],
   "source": [
    "roc_auc_score(y_test == \"Middle\", y_prob_mi)"
   ]
  },
  {
   "cell_type": "code",
   "execution_count": 36,
   "metadata": {},
   "outputs": [
    {
     "data": {
      "text/plain": [
       "0.950294248541961"
      ]
     },
     "execution_count": 36,
     "metadata": {},
     "output_type": "execute_result"
    },
    {
     "data": {
      "application/javascript": [
       "\n",
       "            setTimeout(function() {\n",
       "                var nbb_cell_id = 36;\n",
       "                var nbb_unformatted_code = \"roc_auc_score(y_test == \\\"Low\\\", y_prob_lo)\";\n",
       "                var nbb_formatted_code = \"roc_auc_score(y_test == \\\"Low\\\", y_prob_lo)\";\n",
       "                var nbb_cells = Jupyter.notebook.get_cells();\n",
       "                for (var i = 0; i < nbb_cells.length; ++i) {\n",
       "                    if (nbb_cells[i].input_prompt_number == nbb_cell_id) {\n",
       "                        if (nbb_cells[i].get_text() == nbb_unformatted_code) {\n",
       "                             nbb_cells[i].set_text(nbb_formatted_code);\n",
       "                        }\n",
       "                        break;\n",
       "                    }\n",
       "                }\n",
       "            }, 500);\n",
       "            "
      ],
      "text/plain": [
       "<IPython.core.display.Javascript object>"
      ]
     },
     "metadata": {},
     "output_type": "display_data"
    },
    {
     "data": {
      "application/javascript": [
       "\n",
       "            setTimeout(function() {\n",
       "                var nbb_cell_id = 36;\n",
       "                var nbb_unformatted_code = \"roc_auc_score(y_test == \\\"Low\\\", y_prob_lo)\";\n",
       "                var nbb_formatted_code = \"roc_auc_score(y_test == \\\"Low\\\", y_prob_lo)\";\n",
       "                var nbb_cells = Jupyter.notebook.get_cells();\n",
       "                for (var i = 0; i < nbb_cells.length; ++i) {\n",
       "                    if (nbb_cells[i].input_prompt_number == nbb_cell_id) {\n",
       "                        if (nbb_cells[i].get_text() == nbb_unformatted_code) {\n",
       "                             nbb_cells[i].set_text(nbb_formatted_code);\n",
       "                        }\n",
       "                        break;\n",
       "                    }\n",
       "                }\n",
       "            }, 500);\n",
       "            "
      ],
      "text/plain": [
       "<IPython.core.display.Javascript object>"
      ]
     },
     "metadata": {},
     "output_type": "display_data"
    }
   ],
   "source": [
    "roc_auc_score(y_test == \"Low\", y_prob_lo)"
   ]
  },
  {
   "cell_type": "code",
   "execution_count": 40,
   "metadata": {},
   "outputs": [
    {
     "data": {
      "image/png": "[encoded data removed]",
      "text/plain": [
       "<Figure size 432x288 with 1 Axes>"
      ]
     },
     "metadata": {
      "needs_background": "light"
     },
     "output_type": "display_data"
    },
    {
     "data": {
      "application/javascript": [
       "\n",
       "            setTimeout(function() {\n",
       "                var nbb_cell_id = 40;\n",
       "                var nbb_unformatted_code = \"hfpr, htpr, _ = roc_curve(y_test == \\\"High\\\", y_prob_hi)\\nmfpr, mtpr, _ = roc_curve(y_test == \\\"Middle\\\", y_prob_mi)\\nlfpr, ltpr, _ = roc_curve(y_test == \\\"Low\\\", y_prob_lo)\\n\\nplt.plot(hfpr, htpr, label=\\\"ROC High\\\")\\nplt.plot(mfpr, mtpr, label=\\\"ROC Middle\\\")\\nplt.plot(lfpr, ltpr, label=\\\"ROC Low\\\")\\n\\nplt.plot([0, 1], [0, 1], \\\"--\\\", c=\\\"black\\\")\\nplt.legend()\\nplt.show()\";\n",
       "                var nbb_formatted_code = \"hfpr, htpr, _ = roc_curve(y_test == \\\"High\\\", y_prob_hi)\\nmfpr, mtpr, _ = roc_curve(y_test == \\\"Middle\\\", y_prob_mi)\\nlfpr, ltpr, _ = roc_curve(y_test == \\\"Low\\\", y_prob_lo)\\n\\nplt.plot(hfpr, htpr, label=\\\"ROC High\\\")\\nplt.plot(mfpr, mtpr, label=\\\"ROC Middle\\\")\\nplt.plot(lfpr, ltpr, label=\\\"ROC Low\\\")\\n\\nplt.plot([0, 1], [0, 1], \\\"--\\\", c=\\\"black\\\")\\nplt.legend()\\nplt.show()\";\n",
       "                var nbb_cells = Jupyter.notebook.get_cells();\n",
       "                for (var i = 0; i < nbb_cells.length; ++i) {\n",
       "                    if (nbb_cells[i].input_prompt_number == nbb_cell_id) {\n",
       "                        if (nbb_cells[i].get_text() == nbb_unformatted_code) {\n",
       "                             nbb_cells[i].set_text(nbb_formatted_code);\n",
       "                        }\n",
       "                        break;\n",
       "                    }\n",
       "                }\n",
       "            }, 500);\n",
       "            "
      ],
      "text/plain": [
       "<IPython.core.display.Javascript object>"
      ]
     },
     "metadata": {},
     "output_type": "display_data"
    },
    {
     "data": {
      "application/javascript": [
       "\n",
       "            setTimeout(function() {\n",
       "                var nbb_cell_id = 40;\n",
       "                var nbb_unformatted_code = \"hfpr, htpr, _ = roc_curve(y_test == \\\"High\\\", y_prob_hi)\\nmfpr, mtpr, _ = roc_curve(y_test == \\\"Middle\\\", y_prob_mi)\\nlfpr, ltpr, _ = roc_curve(y_test == \\\"Low\\\", y_prob_lo)\\n\\nplt.plot(hfpr, htpr, label=\\\"ROC High\\\")\\nplt.plot(mfpr, mtpr, label=\\\"ROC Middle\\\")\\nplt.plot(lfpr, ltpr, label=\\\"ROC Low\\\")\\n\\nplt.plot([0, 1], [0, 1], \\\"--\\\", c=\\\"black\\\")\\nplt.legend()\\nplt.show()\";\n",
       "                var nbb_formatted_code = \"hfpr, htpr, _ = roc_curve(y_test == \\\"High\\\", y_prob_hi)\\nmfpr, mtpr, _ = roc_curve(y_test == \\\"Middle\\\", y_prob_mi)\\nlfpr, ltpr, _ = roc_curve(y_test == \\\"Low\\\", y_prob_lo)\\n\\nplt.plot(hfpr, htpr, label=\\\"ROC High\\\")\\nplt.plot(mfpr, mtpr, label=\\\"ROC Middle\\\")\\nplt.plot(lfpr, ltpr, label=\\\"ROC Low\\\")\\n\\nplt.plot([0, 1], [0, 1], \\\"--\\\", c=\\\"black\\\")\\nplt.legend()\\nplt.show()\";\n",
       "                var nbb_cells = Jupyter.notebook.get_cells();\n",
       "                for (var i = 0; i < nbb_cells.length; ++i) {\n",
       "                    if (nbb_cells[i].input_prompt_number == nbb_cell_id) {\n",
       "                        if (nbb_cells[i].get_text() == nbb_unformatted_code) {\n",
       "                             nbb_cells[i].set_text(nbb_formatted_code);\n",
       "                        }\n",
       "                        break;\n",
       "                    }\n",
       "                }\n",
       "            }, 500);\n",
       "            "
      ],
      "text/plain": [
       "<IPython.core.display.Javascript object>"
      ]
     },
     "metadata": {},
     "output_type": "display_data"
    }
   ],
   "source": [
    "hfpr, htpr, _ = roc_curve(y_test == \"High\", y_prob_hi)\n",
    "mfpr, mtpr, _ = roc_curve(y_test == \"Middle\", y_prob_mi)\n",
    "lfpr, ltpr, _ = roc_curve(y_test == \"Low\", y_prob_lo)\n",
    "\n",
    "plt.plot(hfpr, htpr, label=\"ROC High\")\n",
    "plt.plot(mfpr, mtpr, label=\"ROC Middle\")\n",
    "plt.plot(lfpr, ltpr, label=\"ROC Low\")\n",
    "\n",
    "plt.plot([0, 1], [0, 1], \"--\", c=\"black\")\n",
    "plt.legend()\n",
    "plt.show()"
   ]
  }
 ],
 "metadata": {
  "kernelspec": {
   "display_name": "Python 3",
   "language": "python",
   "name": "python3"
  },
  "language_info": {
   "codemirror_mode": {
    "name": "ipython",
    "version": 3
   },
   "file_extension": ".py",
   "mimetype": "text/x-python",
   "name": "python",
   "nbconvert_exporter": "python",
   "pygments_lexer": "ipython3",
   "version": "3.7.6"
  }
 },
 "nbformat": 4,
 "nbformat_minor": 4
}
